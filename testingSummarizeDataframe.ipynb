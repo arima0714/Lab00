{
 "cells": [
  {
   "cell_type": "code",
   "execution_count": 1,
   "metadata": {},
   "outputs": [],
   "source": [
    "import glob\n",
    "import japanize_matplotlib\n",
    "import os\n",
    "import pandas as pd\n",
    "import random\n",
    "import sys\n",
    "import math\n",
    "import matplotlib as mpl\n",
    "import matplotlib.patches as mpatches\n",
    "import matplotlib.pyplot as plt\n",
    "import numpy as np\n",
    "from sklearn import linear_model\n",
    "from sklearn.linear_model import LinearRegression\n",
    "from sklearn.metrics import r2_score\n",
    "from sklearn.model_selection import train_test_split\n",
    "import sklearn.preprocessing as sp\n",
    "from sklearn.metrics import r2_score"
   ]
  },
  {
   "cell_type": "code",
   "execution_count": 2,
   "metadata": {
    "jupyter": {
     "source_hidden": true
    }
   },
   "outputs": [],
   "source": [
    "def return_fixed_class(BenchMark=\"bt\", Processes=[1, 2, 4, 8, 16, 32, 64, 128, 256], FixedBenchMarkClass=\"C\"):\n",
    "        path = './'\n",
    "        \n",
    "        # fixed_Class にはベンチマーククラスFixedBenchMarkClassで実行プロセス数がProcessesに該当するものの結果が入る\n",
    "        fixed_Class = list()\n",
    "\n",
    "        for process in Processes:\n",
    "            file_name = (\"pprof_\"+BenchMark+FixedBenchMarkClass+str(process)+\".csv\")\n",
    "            file_path = path+file_name\n",
    "            if (os.path.exists(file_path) and os.stat(file_path).st_size != 0):\n",
    "                data_frame = pd.read_csv(path+file_name)\n",
    "                data_frame = data_frame.set_index(['Name'])\n",
    "                fixed_Class.append(data_frame.rename(columns = {'#Call': process}).sort_index())\n",
    "        return(fixed_Class)\n",
    "    "
   ]
  },
  {
   "cell_type": "code",
   "execution_count": 3,
   "metadata": {},
   "outputs": [],
   "source": [
    "def return_fixed_process(BenchMark=\"bt\", BenchMarkClasses=[\"S\", \"W\", \"A\", \"B\", \"C\", \"D\"], FixedProcess=32):\n",
    "    path = './'\n",
    "\n",
    "    # fixed_process には実行プロセス数が64でベンチマーククラスがA ~ Dまでの結果が入る\n",
    "    fixed_process = list()\n",
    "\n",
    "    for bench_mark_class in BenchMarkClasses:\n",
    "        file_name = (\"pprof_\"+BenchMark+bench_mark_class+str(FixedProcess)+\".csv\")\n",
    "        file_path = path+file_name\n",
    "        if (os.path.exists(file_path) and os.stat(file_path).st_size != 0):\n",
    "            data_frame = pd.read_csv(path+file_name)\n",
    "            data_frame = data_frame.set_index(['Name'])\n",
    "            fixed_process.append(data_frame.rename(columns = {'#Call': bench_mark_class}).sort_index())\n",
    "    return(fixed_process)\n",
    "       "
   ]
  },
  {
   "cell_type": "markdown",
   "metadata": {},
   "source": [
    "# ベンチマーク名：CGを対象にDataFrameとして集計したsummary_fixed_classの重複データを統合する実験"
   ]
  },
  {
   "cell_type": "code",
   "execution_count": 4,
   "metadata": {},
   "outputs": [],
   "source": [
    "BenchMark_name = \"cg\"\n",
    "cg_fixed_class = return_fixed_class(BenchMark=BenchMark_name)\n",
    "cg_fixed_process = return_fixed_process(BenchMark=BenchMark_name)\n",
    "summary_fixed_class = pd.concat(cg_fixed_class, axis=1)"
   ]
  },
  {
   "cell_type": "code",
   "execution_count": 29,
   "metadata": {},
   "outputs": [
    {
     "name": "stdout",
     "output_type": "stream",
     "text": [
      "                        1          2          4          8          16   \\\n",
      "Name                                                                      \n",
      ".TAU_application        1.0        1.0        1.0        1.0        1.0   \n",
      "CONJ_GRAD              76.0       76.0       76.0       76.0       76.0   \n",
      "ICNVRT            1984770.0  2263540.0  2821070.0  3936140.0  3936140.0   \n",
      "MPI_Irecv()         12236.0    12483.0    10982.0    13984.0    13984.0   \n",
      "SPRNVC              84375.0    93750.0   112500.0   150000.0   150000.0   \n",
      "\n",
      "                        32         64         128        256  \n",
      "Name                                                          \n",
      ".TAU_application        1.0        1.0        1.0        1.0  \n",
      "CONJ_GRAD              76.0       76.0       76.0       76.0  \n",
      "ICNVRT            3936140.0  3936140.0  3936140.0  3936140.0  \n",
      "MPI_Irecv()         19988.0    19988.0    25992.0    25992.0  \n",
      "SPRNVC             150000.0   150000.0   150000.0   150000.0  \n",
      "                            1          2          4          8          16   \\\n",
      "Name                                                                          \n",
      ".TAU_application            1.0        1.0        1.0        1.0        1.0   \n",
      "ALLOC_SPACE                 1.0        1.0        1.0        1.0        1.0   \n",
      "CG                          1.0        1.0        1.0        1.0        1.0   \n",
      "CONJ_GRAD                  76.0       76.0       76.0       76.0       76.0   \n",
      "ICNVRT                1984770.0  2263540.0  2821070.0  3936140.0  3936140.0   \n",
      "INITIALIZE_MPI              1.0        1.0        1.0        1.0        1.0   \n",
      "MAKEA                       1.0        1.0        1.0        1.0        1.0   \n",
      "MPI_Barrier()               1.0        1.0        1.0        1.0        1.0   \n",
      "MPI_Bcast()                 1.0        1.0        1.0        1.0        1.0   \n",
      "MPI_Comm_rank()             1.0        1.0        1.0        1.0        1.0   \n",
      "MPI_Comm_size()             1.0        1.0        1.0        1.0        1.0   \n",
      "MPI_Finalize()              1.0        1.0        1.0        1.0        1.0   \n",
      "MPI_Init()                  1.0        1.0        1.0        1.0        1.0   \n",
      "MPI_Irecv()             12236.0    12483.0    10982.0    13984.0    13984.0   \n",
      "MPI_Reduce()                1.0        1.0        1.0        1.0        1.0   \n",
      "MPI_Send()              12236.0    12483.0    10982.0    13984.0    13984.0   \n",
      "MPI_Wait()              12236.0    12483.0    10982.0    13984.0    13984.0   \n",
      "SETUP_PROC_INFO             1.0        1.0        1.0        1.0        1.0   \n",
      "SETUP_SUBMATRIX_INFO        1.0        1.0        1.0        1.0        1.0   \n",
      "SPARSE                      1.0        1.0        1.0        1.0        1.0   \n",
      "SPRNVC                  84375.0    93750.0   112500.0   150000.0   150000.0   \n",
      "VECSET                  84375.0    93750.0   112500.0   150000.0   150000.0   \n",
      "\n",
      "                            32         64         128        256  \n",
      "Name                                                              \n",
      ".TAU_application            1.0        1.0        1.0        1.0  \n",
      "ALLOC_SPACE                 1.0        1.0        1.0        1.0  \n",
      "CG                          1.0        1.0        1.0        1.0  \n",
      "CONJ_GRAD                  76.0       76.0       76.0       76.0  \n",
      "ICNVRT                3936140.0  3936140.0  3936140.0  3936140.0  \n",
      "INITIALIZE_MPI              1.0        1.0        1.0        1.0  \n",
      "MAKEA                       1.0        1.0        1.0        1.0  \n",
      "MPI_Barrier()               1.0        1.0        1.0        1.0  \n",
      "MPI_Bcast()                 1.0        1.0        1.0        1.0  \n",
      "MPI_Comm_rank()             1.0        1.0        1.0        1.0  \n",
      "MPI_Comm_size()             1.0        1.0        1.0        1.0  \n",
      "MPI_Finalize()              1.0        1.0        1.0        1.0  \n",
      "MPI_Init()                  1.0        1.0        1.0        1.0  \n",
      "MPI_Irecv()             19988.0    19988.0    25992.0    25992.0  \n",
      "MPI_Reduce()                1.0        1.0        1.0        1.0  \n",
      "MPI_Send()              19988.0    19988.0    25992.0    25992.0  \n",
      "MPI_Wait()              19988.0    19988.0    25992.0    25992.0  \n",
      "SETUP_PROC_INFO             1.0        1.0        1.0        1.0  \n",
      "SETUP_SUBMATRIX_INFO        1.0        1.0        1.0        1.0  \n",
      "SPARSE                      1.0        1.0        1.0        1.0  \n",
      "SPRNVC                 150000.0   150000.0   150000.0   150000.0  \n",
      "VECSET                 150000.0   150000.0   150000.0   150000.0  \n"
     ]
    }
   ],
   "source": [
    "dropped_summary_fixed_class = summary_fixed_class.drop_duplicates()\n",
    "print(dropped_summary_fixed_class)\n",
    "\n",
    "print(summary_fixed_class)"
   ]
  },
  {
   "cell_type": "code",
   "execution_count": 27,
   "metadata": {},
   "outputs": [],
   "source": [
    "def evaluate_dataframes(df1, df2):\n",
    "    df1_index = df1.index.values[0]\n",
    "    df2_index = df2.index.values[0]\n",
    "#     print(\"-----print(df1.values.tolist())-----\\n\")\n",
    "#     print(df1.values.tolist())\n",
    "#     print(\"-----print(df1.values.tolist()[0][1])\")\n",
    "#     print(df1.values.tolist()[0][1])\n",
    "#     print(\"-----print(len(df1.values.tolist()[0]))\")\n",
    "#     print(len(df1.values.tolist()[0]))\n",
    "    \n",
    "    for i in range(len(df1.values.tolist()[0])):\n",
    "        if(df1.values.tolist()[0][i] != df2.values.tolist()[0][i]):\n",
    "            return False\n",
    "    return True"
   ]
  },
  {
   "cell_type": "code",
   "execution_count": 28,
   "metadata": {},
   "outputs": [
    {
     "name": "stdout",
     "output_type": "stream",
     "text": [
      "replace_name ===== .TAU_application, ALLOC_SPACE, CG, INITIALIZE_MPI, MAKEA, MPI_Barrier(), MPI_Bcast(), MPI_Comm_rank(), MPI_Comm_size(), MPI_Finalize(), MPI_Init(), MPI_Reduce(), SETUP_PROC_INFO, SETUP_SUBMATRIX_INFO, SPARSE\n",
      "\n",
      "replace_name ===== CONJ_GRAD\n",
      "\n",
      "replace_name ===== ICNVRT\n",
      "\n",
      "replace_name ===== MPI_Irecv(), MPI_Send(), MPI_Wait()\n",
      "\n",
      "replace_name ===== SPRNVC, VECSET\n",
      "\n"
     ]
    }
   ],
   "source": [
    "for dropped_index_name in summary_fixed_class.drop_duplicates().index.values:\n",
    "    dropped_index_name_data = summary_fixed_class.loc[[dropped_index_name]]\n",
    "    replace_name = dropped_index_name\n",
    "    for all_index_name in summary_fixed_class.index.values:\n",
    "        all_index_name_data = summary_fixed_class.loc[[all_index_name]]\n",
    "        if(dropped_index_name == all_index_name):\n",
    "            pass\n",
    "        elif(evaluate_dataframes(dropped_index_name_data, all_index_name_data)):\n",
    "            replace_name += f\", {all_index_name}\"\n",
    "    print(f\"replace_name ===== {replace_name}\\n\")"
   ]
  },
  {
   "cell_type": "code",
   "execution_count": null,
   "metadata": {},
   "outputs": [],
   "source": [
    "print(dropped_index_name_data)\n",
    "print(all_index_name_data)"
   ]
  },
  {
   "cell_type": "code",
   "execution_count": null,
   "metadata": {},
   "outputs": [],
   "source": [
    "print(type(dropped_index_name_data))\n",
    "print(type(all_index_name_data))\n",
    "if(dropped_index_name_data.values.all() == all_index_name_data.values.all()):\n",
    "    print(\"equal\")"
   ]
  },
  {
   "cell_type": "code",
   "execution_count": null,
   "metadata": {},
   "outputs": [],
   "source": [
    "columns = summary_fixed_class.columns.to_numpy()\n",
    "\n",
    "index = summary_fixed_class.index.to_numpy()\n",
    "\n",
    "dict_summary_fixed_class = {\"benchmarks\": columns}\n",
    "\n",
    "for index_name in index:\n",
    "    dict_summary_fixed_class[index_name] = summary_fixed_class.T[index_name].to_numpy()"
   ]
  }
 ],
 "metadata": {
  "kernelspec": {
   "display_name": "Python 3",
   "language": "python",
   "name": "python3"
  },
  "language_info": {
   "codemirror_mode": {
    "name": "ipython",
    "version": 3
   },
   "file_extension": ".py",
   "mimetype": "text/x-python",
   "name": "python",
   "nbconvert_exporter": "python",
   "pygments_lexer": "ipython3",
   "version": "3.8.6"
  }
 },
 "nbformat": 4,
 "nbformat_minor": 4
}
