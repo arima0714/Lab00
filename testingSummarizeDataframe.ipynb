{
 "cells": [
  {
   "cell_type": "code",
   "execution_count": 1,
   "metadata": {},
   "outputs": [],
   "source": [
    "import glob\n",
    "import japanize_matplotlib\n",
    "import os\n",
    "import pandas as pd\n",
    "import random\n",
    "import sys\n",
    "import math\n",
    "import matplotlib as mpl\n",
    "import matplotlib.patches as mpatches\n",
    "import matplotlib.pyplot as plt\n",
    "import numpy as np\n",
    "from sklearn import linear_model\n",
    "from sklearn.linear_model import LinearRegression\n",
    "from sklearn.metrics import r2_score\n",
    "from sklearn.model_selection import train_test_split\n",
    "import sklearn.preprocessing as sp\n",
    "from sklearn.metrics import r2_score"
   ]
  },
  {
   "cell_type": "code",
   "execution_count": 2,
   "metadata": {},
   "outputs": [],
   "source": [
    "def return_fixed_class(BenchMark=\"bt\", Processes=[1, 2, 4, 8, 16, 32, 64, 128, 256], FixedBenchMarkClass=\"C\"):\n",
    "        path = './'\n",
    "        \n",
    "        # fixed_Class にはベンチマーククラスFixedBenchMarkClassで実行プロセス数がProcessesに該当するものの結果が入る\n",
    "        fixed_Class = list()\n",
    "\n",
    "        for process in Processes:\n",
    "            file_name = (\"pprof_\"+BenchMark+FixedBenchMarkClass+str(process)+\".csv\")\n",
    "            file_path = path+file_name\n",
    "            if (os.path.exists(file_path) and os.stat(file_path).st_size != 0):\n",
    "                data_frame = pd.read_csv(path+file_name)\n",
    "                data_frame = data_frame.set_index(['Name'])\n",
    "                fixed_Class.append(data_frame.rename(columns = {'#Call': process}).sort_index())\n",
    "        return(fixed_Class)\n",
    "    "
   ]
  },
  {
   "cell_type": "code",
   "execution_count": 3,
   "metadata": {},
   "outputs": [],
   "source": [
    "def return_fixed_process(BenchMark=\"bt\", BenchMarkClasses=[\"S\", \"W\", \"A\", \"B\", \"C\", \"D\"], FixedProcess=32):\n",
    "    path = './'\n",
    "\n",
    "    # fixed_process には実行プロセス数が64でベンチマーククラスがA ~ Dまでの結果が入る\n",
    "    fixed_process = list()\n",
    "\n",
    "    for bench_mark_class in BenchMarkClasses:\n",
    "        file_name = (\"pprof_\"+BenchMark+bench_mark_class+str(FixedProcess)+\".csv\")\n",
    "        file_path = path+file_name\n",
    "        if (os.path.exists(file_path) and os.stat(file_path).st_size != 0):\n",
    "            data_frame = pd.read_csv(path+file_name)\n",
    "            data_frame = data_frame.set_index(['Name'])\n",
    "            fixed_process.append(data_frame.rename(columns = {'#Call': bench_mark_class}).sort_index())\n",
    "    return(fixed_process)\n",
    "       "
   ]
  },
  {
   "cell_type": "code",
   "execution_count": 8,
   "metadata": {},
   "outputs": [],
   "source": [
    "def return_summarized_Fixed_dataframe(BenchMark_name = \"cg\", fixed=\"class\"):\n",
    "\n",
    "    def evaluate_dataframes(df1, df2):\n",
    "        for i in range(len(df1.values.tolist()[0])):\n",
    "            if(df1.values.tolist()[0][i] != df2.values.tolist()[0][i]):\n",
    "                return False\n",
    "        return True\n",
    "    fixed_df = 0\n",
    "    if (fixed == \"class\"):\n",
    "        fixed_df = return_fixed_class(BenchMark=BenchMark_name)\n",
    "    elif (fixed == \"process\"):\n",
    "        fixed_df = return_fixed_process(BenchMark=BenchMark_name)\n",
    "    summary_fixed_df = pd.concat(fixed_df, axis=1)\n",
    "    dropped_summary_fixed_df = summary_fixed_df.drop_duplicates()\n",
    "    dropped_summary_fixed_df_renamed = dropped_summary_fixed_df\n",
    "\n",
    "    for dropped_index_name in dropped_summary_fixed_df.index.values:\n",
    "        dropped_index_name_data = summary_fixed_df.loc[[dropped_index_name]]\n",
    "        replace_name = dropped_index_name\n",
    "        for all_index_name in summary_fixed_df.index.values:\n",
    "            all_index_name_data = summary_fixed_df.loc[[all_index_name]]\n",
    "            if(dropped_index_name == all_index_name):\n",
    "                pass\n",
    "            elif(evaluate_dataframes(dropped_index_name_data, all_index_name_data)):\n",
    "                replace_name += f\", {all_index_name}\"\n",
    "        dropped_summary_fixed_df_renamed = dropped_summary_fixed_df_renamed.rename(index={dropped_index_name: replace_name})\n",
    "    \n",
    "    return dropped_summary_fixed_df_renamed\n",
    "    "
   ]
  },
  {
   "cell_type": "code",
   "execution_count": 9,
   "metadata": {
    "collapsed": true,
    "jupyter": {
     "outputs_hidden": true
    }
   },
   "outputs": [
    {
     "name": "stdout",
     "output_type": "stream",
     "text": [
      "                                                          1          2    \\\n",
      "Name                                                                       \n",
      ".TAU_application, ALLOC_SPACE, CG, INITIALIZE_M...        1.0        1.0   \n",
      "CONJ_GRAD                                                76.0       76.0   \n",
      "ICNVRT                                              1984770.0  2263540.0   \n",
      "MPI_Irecv(), MPI_Send(), MPI_Wait()                   12236.0    12483.0   \n",
      "SPRNVC, VECSET                                        84375.0    93750.0   \n",
      "\n",
      "                                                          4          8    \\\n",
      "Name                                                                       \n",
      ".TAU_application, ALLOC_SPACE, CG, INITIALIZE_M...        1.0        1.0   \n",
      "CONJ_GRAD                                                76.0       76.0   \n",
      "ICNVRT                                              2821070.0  3936140.0   \n",
      "MPI_Irecv(), MPI_Send(), MPI_Wait()                   10982.0    13984.0   \n",
      "SPRNVC, VECSET                                       112500.0   150000.0   \n",
      "\n",
      "                                                          16         32   \\\n",
      "Name                                                                       \n",
      ".TAU_application, ALLOC_SPACE, CG, INITIALIZE_M...        1.0        1.0   \n",
      "CONJ_GRAD                                                76.0       76.0   \n",
      "ICNVRT                                              3936140.0  3936140.0   \n",
      "MPI_Irecv(), MPI_Send(), MPI_Wait()                   13984.0    19988.0   \n",
      "SPRNVC, VECSET                                       150000.0   150000.0   \n",
      "\n",
      "                                                          64         128  \\\n",
      "Name                                                                       \n",
      ".TAU_application, ALLOC_SPACE, CG, INITIALIZE_M...        1.0        1.0   \n",
      "CONJ_GRAD                                                76.0       76.0   \n",
      "ICNVRT                                              3936140.0  3936140.0   \n",
      "MPI_Irecv(), MPI_Send(), MPI_Wait()                   19988.0    25992.0   \n",
      "SPRNVC, VECSET                                       150000.0   150000.0   \n",
      "\n",
      "                                                          256  \n",
      "Name                                                           \n",
      ".TAU_application, ALLOC_SPACE, CG, INITIALIZE_M...        1.0  \n",
      "CONJ_GRAD                                                76.0  \n",
      "ICNVRT                                              3936140.0  \n",
      "MPI_Irecv(), MPI_Send(), MPI_Wait()                   25992.0  \n",
      "SPRNVC, VECSET                                       150000.0  \n"
     ]
    }
   ],
   "source": [
    "print(return_summarized_Fixed_dataframe(\"cg\", \"class\"))    "
   ]
  },
  {
   "cell_type": "code",
   "execution_count": 10,
   "metadata": {
    "collapsed": true,
    "jupyter": {
     "outputs_hidden": true
    }
   },
   "outputs": [
    {
     "name": "stdout",
     "output_type": "stream",
     "text": [
      "                                                         A          B  \\\n",
      "Name                                                                    \n",
      ".TAU_application, ALLOC_SPACE, CG, INITIALIZE_M...       1        1.0   \n",
      "CONJ_GRAD                                               16       76.0   \n",
      "ICNVRT                                              180347  1706010.0   \n",
      "MPI_Irecv(), MPI_Send(), MPI_Wait()                   4208    19988.0   \n",
      "SPRNVC, VECSET                                       14000    75000.0   \n",
      "\n",
      "                                                            C           D  \n",
      "Name                                                                       \n",
      ".TAU_application, ALLOC_SPACE, CG, INITIALIZE_M...        1.0         1.0  \n",
      "CONJ_GRAD                                                76.0       101.0  \n",
      "ICNVRT                                              3936140.0  44047200.0  \n",
      "MPI_Irecv(), MPI_Send(), MPI_Wait()                   19988.0     26563.0  \n",
      "SPRNVC, VECSET                                       150000.0   1500000.0  \n"
     ]
    }
   ],
   "source": [
    "print(return_summarized_Fixed_dataframe(\"cg\", \"process\"))"
   ]
  },
  {
   "cell_type": "code",
   "execution_count": null,
   "metadata": {},
   "outputs": [],
   "source": []
  }
 ],
 "metadata": {
  "kernelspec": {
   "display_name": "Python 3",
   "language": "python",
   "name": "python3"
  },
  "language_info": {
   "codemirror_mode": {
    "name": "ipython",
    "version": 3
   },
   "file_extension": ".py",
   "mimetype": "text/x-python",
   "name": "python",
   "nbconvert_exporter": "python",
   "pygments_lexer": "ipython3",
   "version": "3.8.6"
  }
 },
 "nbformat": 4,
 "nbformat_minor": 4
}
