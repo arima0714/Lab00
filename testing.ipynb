{
 "cells": [
  {
   "cell_type": "code",
   "execution_count": null,
   "metadata": {},
   "outputs": [],
   "source": [
    "# ipynb形式のライブラリのインポート\n",
    "%run ./lib.ipynb\n",
    "\n",
    "# ##### 各関数での実行時間を保存するためのCSVの空データを作成するための処理 #####\n",
    "# Processes = []\n",
    "# for i in range(1,16):\n",
    "#     Processes.append(i*i)\n",
    "# for j in range(9):\n",
    "#     Processes.append(2**j)\n",
    "# Processes = list(set(Processes))\n",
    "# Processes.sort()\n",
    "# index = classes\n",
    "# EmptyDF = pd.DataFrame(index=index, columns=Processes)\n",
    "# for benchmark in benchmarks:\n",
    "#     EmptyDF.to_csv(f\"./csv_files/ExecTime@{benchmark}.csv\")\n",
    "\n",
    "##### 各ベンチマークの実行時間を記録する処理\n",
    "# # Benchmarks = []\n",
    "# # for benchmark in benchmarks:\n",
    "# #     Benchmarks.append(benchmark.upper())\n",
    "# # print(Benchmarks)\n",
    "\n",
    "# Processes = [8, 16, 32, 64, 128, 256]\n",
    "# for process in Processes:\n",
    "#     TimeDataList = return_TimeDataList(process)\n",
    "#     for DictData in TimeDataList:\n",
    "#         benchmark = DictData.benchmark\n",
    "#         process = DictData.process\n",
    "#         BenchmarkClass = DictData.BenchmarkClass\n",
    "#         time = DictData.time\n",
    "#         FillCSV(benchmark=benchmark, process=process, BenchmarkClass=BenchmarkClass, time=time)\n",
    "\n",
    "# # print(TimeDataList[0].return_AllData())\n"
   ]
  },
  {
   "cell_type": "code",
   "execution_count": null,
   "metadata": {},
   "outputs": [],
   "source": [
    "# 論文で必要なグラフを生成する1\n",
    "print(\"↓プロセス数を固定したもの\")\n",
    "GenGraphAveragePerProfileNum(benchmarks=benchmarks, Fixed=\"Process\", Fix=64, Predict=\"D\", EnableTitle=True)\n",
    "print(\"↓ベンチマーククラスを固定したもの\")\n",
    "GenGraphAveragePerProfileNum(benchmarks=benchmarks, Fixed=\"Class\", Fix=\"B\", Predict=256, EnableTitle=True)"
   ]
  },
  {
   "cell_type": "code",
   "execution_count": null,
   "metadata": {},
   "outputs": [],
   "source": [
    "# 論文で必要なグラフを生成する2\n",
    "for benchmark in benchmarks:\n",
    "    print(benchmark)\n",
    "    print(\"↓プロセス数を固定したもの\")\n",
    "    GenGraphTotalTimePerProfileNum(benchmark=benchmark, Fixed=\"Process\", Fix=64, Predict=\"D\", EnableTitle=True)\n",
    "    print(\"↓ベンチマーククラスを固定したもの\")\n",
    "    GenGraphTotalTimePerProfileNum(benchmark=benchmark, Fixed=\"Class\", Fix=\"B\", Predict=256, EnableTitle=True)\n",
    "    "
   ]
  },
  {
   "cell_type": "code",
   "execution_count": null,
   "metadata": {},
   "outputs": [],
   "source": [
    "# 論文で必要なグラフを生成する3\n",
    "benchmarks01 = ['cg', 'ep', 'mg']\n",
    "benchmarks02 = ['ft', 'lu']\n",
    "benchmarks03 = [\"bt\", \"sp\"]\n",
    "benchmarks04 = ['is']\n",
    "print(f\"benchmarks01 = {benchmarks01}, benchmarks02 = {benchmarks02}, benchmarks03 = {benchmarks03}\")\n",
    "print(f\"↓ベンチマーククラスを固定したもの@{benchmarks01}\")\n",
    "GenGraphAveragePerProfileNum(benchmarks=benchmarks01, Fixed=\"Class\", Fix=\"B\", Predict=256, EnableTitle=True)\n",
    "print(f\"↓ベンチマーククラスを固定したもの@{benchmarks02}\")\n",
    "GenGraphAveragePerProfileNum(benchmarks=benchmarks02, Fixed=\"Class\", Fix=\"B\", Predict=256, EnableTitle=True)\n",
    "print(f\"↓ベンチマーククラスを固定したもの@{benchmarks03}\")\n",
    "GenGraphAveragePerProfileNum(benchmarks=benchmarks03, Fixed=\"Class\", Fix=\"B\", Predict=256, EnableTitle=True)\n",
    "print(f\"↓ベンチマーククラスを固定したもの@{benchmarks04}\")\n",
    "GenGraphAveragePerProfileNum(benchmarks=benchmarks04, Fixed=\"Class\", Fix=\"B\", Predict=256, EnableTitle=True)"
   ]
  }
 ],
 "metadata": {
  "kernelspec": {
   "display_name": "Python 3",
   "language": "python",
   "name": "python3"
  },
  "language_info": {
   "codemirror_mode": {
    "name": "ipython",
    "version": 3
   },
   "file_extension": ".py",
   "mimetype": "text/x-python",
   "name": "python",
   "nbconvert_exporter": "python",
   "pygments_lexer": "ipython3",
   "version": "3.8.5"
  }
 },
 "nbformat": 4,
 "nbformat_minor": 4
}
