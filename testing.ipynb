{
 "cells": [
  {
   "cell_type": "code",
   "execution_count": null,
   "metadata": {},
   "outputs": [],
   "source": [
    "# ipynb形式のライブラリのインポート\n",
    "%run ./lib.ipynb\n",
    "\n",
    "\n",
    "DirPath = \"./tmp_GenerateResources/\"\n",
    "print(\"ベンチマーククラスを固定した関数ごとのMAPE表を作成\")\n",
    "for benchmark in benchmarks:\n",
    "    print(f\"benchmark={benchmark}\")\n",
    "    try:\n",
    "        ModelDFfixedClass = return_FixedClassModelDF(benchmark=benchmark)\n",
    "    except:\n",
    "        print(f\"return_FixedClassModelDF({benchmark})の実行に失敗しました\")\n",
    "        continue\n",
    "    ModelDFfixedClass_LowestMape = ModelDFfixedClass\n",
    "    index = ModelDFfixedClass_LowestMape.index.tolist()\n",
    "    columns = ModelDFfixedClass_LowestMape.columns.tolist()\n",
    "    for column in columns:\n",
    "        for row in index:\n",
    "            ModelDFfixedClass_LowestMape.at[row, column] = ModelDFfixedClass.at[row, column].mape_score_InTrain\n",
    "    average = ModelDFfixedClass_LowestMape.mean()\n",
    "    average.name = \"Average\"\n",
    "    ModelDFfixedClass_LowestMape.append(average)\n",
    "    ModelDFfixedClass_LowestMape.to_csv(f\"{DirPath}{benchmark}FixedClassMapeTable.csv\")\n",
    "DirPath = \"./tmp_GenerateResources/\"\n",
    "print(\"実行プロセス数を固定した関数ごとのMAPE表を作成\")\n",
    "for benchmark in benchmarks:\n",
    "    try:\n",
    "        ModelDFfixedProcess = return_FixedProcessModelDF(benchmark=benchmark)\n",
    "    except:\n",
    "        print(f\"return_FixedProcessModelDF({benchmark})の実行に失敗しました\")\n",
    "        continue\n",
    "    ModelDFfixedProcess_LowestMape = ModelDFfixedProcess\n",
    "    index = ModelDFfixedProcess_LowestMape.index.tolist()\n",
    "    columns = ModelDFfixedProcess_LowestMape.columns.tolist()\n",
    "    for column in columns:\n",
    "        for row in index:\n",
    "            ModelDFfixedProcess_LowestMape.at[row, column] = ModelDFfixedProcess.at[row, column].mape_score_InTrain\n",
    "    average = ModelDFfixedProcess_LowestMape.mean()\n",
    "    average.name = \"Average\"\n",
    "    ModelDFfixedProcess_LowestMape.to_csv(f\"{DirPath}{benchmark}FixedProcessMapeTable.csv\")"
   ]
  },
  {
   "cell_type": "code",
   "execution_count": null,
   "metadata": {},
   "outputs": [],
   "source": [
    "ModelDFfixedProcess_LowestMape"
   ]
  },
  {
   "cell_type": "code",
   "execution_count": null,
   "metadata": {},
   "outputs": [],
   "source": []
  }
 ],
 "metadata": {
  "kernelspec": {
   "display_name": "Python 3",
   "language": "python",
   "name": "python3"
  },
  "language_info": {
   "codemirror_mode": {
    "name": "ipython",
    "version": 3
   },
   "file_extension": ".py",
   "mimetype": "text/x-python",
   "name": "python",
   "nbconvert_exporter": "python",
   "pygments_lexer": "ipython3",
   "version": "3.9.1"
  }
 },
 "nbformat": 4,
 "nbformat_minor": 4
}
