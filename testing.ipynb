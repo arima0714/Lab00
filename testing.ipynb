{
 "cells": [
  {
   "cell_type": "code",
   "execution_count": null,
   "metadata": {},
   "outputs": [],
   "source": [
    "# ipynb形式のライブラリのインポート\n",
    "%run ./lib.ipynb"
   ]
  },
  {
   "cell_type": "code",
   "execution_count": null,
   "metadata": {},
   "outputs": [],
   "source": [
    "### Mape表をCSVとして保存する関数\n",
    "### 引数はbenchmark:ベンチマーク名, FixClass:固定するベンチマーククラス, FixProcess:固定するプロセス数, DirPath:保存するディレクトリ\n",
    "def SaveMapeTables(FixClass=\"B\", FixProcess=256, DirPath = \"./tmp_GenerateResources/\"):\n",
    "    for benchmark in benchmarks:\n",
    "        MapeTableFixedClass = return_MapeTableFixedClass(benchmark, FixClass=\"B\")\n",
    "        MapeTableFixedProcess = return_MapeTableFixedProcess(benchmark, FixProcess=256)\n",
    "        FixedClassFileName = f\"MapeTableFixedClass_{benchmark}{FixClass}.csv\"\n",
    "        FixedProcessFileName = f\"MapeTableFixedProcess_{benchmark}{FixProcess}.csv\"\n",
    "    #     print(f\"FixedClassFileName={FixedClassFileName}, MapeTableFixedProcess={FixedProcessFileName}\")\n",
    "        if(type(MapeTableFixedClass) is pd.core.frame.DataFrame):\n",
    "            print(f\"FixedClassFileName={FixedClassFileName}\")\n",
    "            MapeTableFixedClass.to_csv(f\"{DirPath}{FixedClassFileName}\")\n",
    "        if(type(MapeTableFixedProcess) is pd.core.frame.DataFrame):\n",
    "            print(f\"FixedProcessFileName={FixedProcessFileName}\")\n",
    "            MapeTableFixedProcess.to_csv(f\"{DirPath}{FixedProcessFileName}\")\n",
    "\n",
    "\n",
    "SaveMapeTables(FixClass=\"C\", FixProcess=256)"
   ]
  },
  {
   "cell_type": "code",
   "execution_count": null,
   "metadata": {},
   "outputs": [],
   "source": [
    "# ##### 各関数での実行時間を保存するためのCSVの空データを作成するための処理 #####\n",
    "# Processes = []\n",
    "# for i in range(1,16):\n",
    "#     Processes.append(i*i)\n",
    "# for j in range(9):\n",
    "#     Processes.append(2**j)\n",
    "# Processes = list(set(Processes))\n",
    "# Processes.sort()\n",
    "# index = classes\n",
    "# EmptyDF = pd.DataFrame(index=index, columns=Processes)\n",
    "# for benchmark in benchmarks:\n",
    "#     EmptyDF.to_csv(f\"./csv_files/ExecTime@{benchmark}.csv\")"
   ]
  },
  {
   "cell_type": "code",
   "execution_count": null,
   "metadata": {},
   "outputs": [],
   "source": [
    "### クラス：TimeData\n",
    "### 下記の関数(= return_TimeDataList())のために作成された\n",
    "### メソッドreturn_AllData()で値のすべてを辞書形式で受けてることができる\n",
    "class TimeData:\n",
    "    def __init__(self, benchmark=\"cg\", process=\"32\", BenchmarkClass=\"C\", time=-1):\n",
    "        self.benchmark = benchmark\n",
    "        self.process = process\n",
    "        self.BenchmarkClass = BenchmarkClass\n",
    "        self.time = time\n",
    "    def return_AllData(self):\n",
    "        return {\"benchmark\":self.benchmark, \"process\":self.process, \"BenchmarkClass\":self.BenchmarkClass, \"time\":self.time}\n",
    "\n",
    "### 返値に独自クラスTimeDataのリストを返す\n",
    "### 引数に実行プロセス数を取る\n",
    "### 返値のリストの要素は引数のリストのプロセス数で実行されたベンチマークの\n",
    "### ベンチマーク名・実行プロセス数・ベンチマーククラス・実行時間が記録されたTimeDataクラスのインスタンス\n",
    "def return_TimeDataList(process = 256):\n",
    "    return_list = []\n",
    "    with open(f\"./toGetProfile/toGetTime/TimeWith{process}.txt\") as f:\n",
    "        line_count = 0\n",
    "        for line in f:\n",
    "            line_count += 1\n",
    "            if(line_count%3 == 1):\n",
    "                benchmark = line[1:3].lower()\n",
    "                # print(f\"benchmark={benchmark}, len(benchmark)={len(benchmark)}\")\n",
    "                Data = TimeData(benchmark=benchmark, process=process)\n",
    "            if(line_count%3 == 2):\n",
    "                BenchmarkClass = line[-2]\n",
    "                # print(f\"BenchmarkClass={BenchmarkClass}, len(BenchmarkClass)={len(BenchmarkClass)}\")\n",
    "                Data.BenchmarkClass = BenchmarkClass\n",
    "            if(line_count%3 == 0):\n",
    "                Time = line[-25:]\n",
    "                Time = Time.strip()\n",
    "                # print(f\"Time={Time}\")\n",
    "                Data.time = Time\n",
    "                return_list.append(Data)\n",
    "    return(return_list)\n"
   ]
  },
  {
   "cell_type": "code",
   "execution_count": null,
   "metadata": {},
   "outputs": [],
   "source": [
    "\n",
    "### 関数:FillCSV()\n",
    "### 引数は,benchmark:ベンチマーク名, process:実行プロセス数, BenchmarkClass:ベンチマーククラス, time:実行時間\n",
    "### 引数として渡された値を適切なCSVに保存する\n",
    "def FillCSV(benchmark = \"cg\",process = 256,BenchmarkClass = \"A\",time = \"0.04\"):\n",
    "    time=float(time)\n",
    "    CSVFilename = f\"./csv_files/ExecTime@{benchmark}.csv\"\n",
    "    DataFrame = pd.read_csv(CSVFilename, index_col=0)\n",
    "    DataFrame.at[BenchmarkClass, process] = time\n",
    "    DataFrame.to_csv(CSVFilename)"
   ]
  },
  {
   "cell_type": "code",
   "execution_count": null,
   "metadata": {},
   "outputs": [],
   "source": [
    "# Benchmarks = []\n",
    "# for benchmark in benchmarks:\n",
    "#     Benchmarks.append(benchmark.upper())\n",
    "# print(Benchmarks)\n",
    "\n",
    "Processes = [8, 16, 32, 64, 128, 256]\n",
    "for process in Processes:\n",
    "    TimeDataList = return_TimeDataList(process)\n",
    "    for DictData in TimeDataList:\n",
    "        benchmark = DictData.benchmark\n",
    "        process = DictData.process\n",
    "        BenchmarkClass = DictData.BenchmarkClass\n",
    "        time = DictData.time\n",
    "        FillCSV(benchmark=benchmark, process=process, BenchmarkClass=BenchmarkClass, time=time)\n",
    "\n",
    "print(TimeDataList[0].return_AllData())\n"
   ]
  },
  {
   "cell_type": "code",
   "execution_count": null,
   "metadata": {},
   "outputs": [],
   "source": []
  }
 ],
 "metadata": {
  "kernelspec": {
   "name": "python3",
   "display_name": "Python 3.8.5 64-bit",
   "metadata": {
    "interpreter": {
     "hash": "20ea737a692ad9331495a19ba7cc0bf6d1e8652119322fabf661903bfd24f6c5"
    }
   }
  },
  "language_info": {
   "codemirror_mode": {
    "name": "ipython",
    "version": 3
   },
   "file_extension": ".py",
   "mimetype": "text/x-python",
   "name": "python",
   "nbconvert_exporter": "python",
   "pygments_lexer": "ipython3",
   "version": "3.8.5-final"
  }
 },
 "nbformat": 4,
 "nbformat_minor": 4
}