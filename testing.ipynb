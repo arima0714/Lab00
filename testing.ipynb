{
 "cells": [
  {
   "cell_type": "code",
   "execution_count": 1,
   "metadata": {},
   "outputs": [],
   "source": [
    "# ipynb形式のライブラリのインポート\n",
    "%run ./lib.ipynb"
   ]
  },
  {
   "cell_type": "code",
   "execution_count": 2,
   "metadata": {},
   "outputs": [],
   "source": [
    "class ModelLin(ModelBase):\n",
    "    def calc_lr(self, AllData=False):\n",
    "        self.lr = LinearRegression()\n",
    "        self.lr.fit(self.train_x, self.train_y)\n",
    "        \n",
    "    def calc_r2_score(self):\n",
    "        test_y_predicted = self.lr.predict(self.test_x)\n",
    "        self.r2_score = r2_score(self.test_y, test_y_predicted)\n",
    "        \n",
    "    def calc_mae_score(self):\n",
    "        test_y_predicted = self.lr.predict(self.test_x)\n",
    "        self.mae_score = mean_absolute_error(self.test_y, test_y_predicted)\n",
    "        \n",
    "    def calc_mse_score(self):\n",
    "        test_y_predicted = self.lr.predict(self.test_x)\n",
    "        self.mse_score = mean_squared_error(self.test_y, test_y_predicted)\n",
    "        \n",
    "    def calc_rmse_score(self):\n",
    "        self.calc_mse_score()\n",
    "        self.rmse_score = np.sqrt(self.mse_score)\n",
    "        \n",
    "    def calc_mape_score(self):\n",
    "        test_y_predicted = self.lr.predict(self.test_x)\n",
    "        self.mape_score = float(mape_score(self.test_y, test_y_predicted))\n",
    "\n",
    "    def calc_mape_score_InTrain(self):\n",
    "        train_y_predicted = self.lr.predict(self.train_x)\n",
    "        self.mape_score_InTrain = float(mape_score(self.train_y, train_y_predicted))\n",
    "        \n",
    "    def plot_graph(self, save=False, fileName=\"graph.pdf\"):\n",
    "        plt.figure()\n",
    "        plt.scatter(self.raw_x, self.raw_y)\n",
    "        self.y_model_line = self.lr.predict(self.x_model_line)\n",
    "        plt.plot(self.x_model_line, self.y_model_line, color=\"red\")\n",
    "        plt.xlabel(self.xlabel)\n",
    "        plt.ylabel(self.ylabel)\n",
    "        if(save):\n",
    "            plt.savefig(fileName)\n",
    "        \n",
    "    def predict(self, num):\n",
    "        predicted = self.lr.predict(num)\n",
    "        return(predicted)\n",
    "    \n",
    "    def ModelName(self):\n",
    "        return(\"ModelLin\")"
   ]
  },
  {
   "cell_type": "code",
   "execution_count": null,
   "metadata": {},
   "outputs": [],
   "source": [
    "def split_by_ratio(base_list :list, test_ratio :float):\n",
    "    test_index = math.floor(len(base_list) * float(test_ratio))\n",
    "    train_list = base_list[:-test_index]\n",
    "    test_list = base_list[-test_index:]\n",
    "    if(test_ratio == 0):\n",
    "        return base_list, []\n",
    "    return train_list, test_list\n",
    "\n",
    "class ModelBase:\n",
    "    def __init__(self, raw_x, raw_y, benchmark_name=\"benchmark_name\", function_name=\"function_name\", test_ratio=0.3):\n",
    "        self.benchmark_name = benchmark_name\n",
    "        self.function_name = function_name\n",
    "        self.xlabel = \"実行時のプロセス数\"\n",
    "        self.ylabel = \"プロセスごとの関数コール回数\"\n",
    "\n",
    "        self.raw_x = np.reshape(raw_x, (-1, 1))\n",
    "        self.raw_y = np.reshape(raw_y, (-1, 1))\n",
    "        self.train_x, self.test_x = split_by_ratio(self.raw_x, test_ratio)\n",
    "        self.train_y, self.test_y = split_by_ratio(self.raw_y, test_ratio)\n",
    "        \n",
    "        if(len(self.train_x) == len(self.test_x) or len(self.train_y) == len(self.test_y)):\n",
    "            print(f\"学習用とテスト用にデータを分割するのに問題が生じています。@{benchmark_name}\")\n",
    "            print(f\"len(self.train_x) == {len(self.train_x)}\")\n",
    "            print(f\"len(self.train_y) ==  {len(self.train_y)}\")\n",
    "            print(f\"len(self.test_x) == {len(self.test_x)}\")\n",
    "            print(f\"len(self.test_y) == {len(self.test_y)}\")\n",
    "        \n",
    "        self.x_model_line = np.reshape(np.arange(start=0.1, stop=self.raw_x.max(), step=0.1), (-1, 1))\n",
    "        self.y_model_line = 0\n",
    "        \n",
    "        self.lr = 0\n",
    "        self.r2_score = 0\n",
    "        \n",
    "    def calc_lr(self):\n",
    "        self.lr = 0\n",
    "     \n",
    "    def calc_r2_score(self):\n",
    "        self.r2_score = 0\n",
    "        \n",
    "    def calc_mae_score(self):\n",
    "        self.mae_score = 0\n",
    "        \n",
    "    def calc_mse_score(self):\n",
    "        self.mse_score = 0\n",
    "        \n",
    "    def calc_rmse_score(self):\n",
    "        self.rmse_score = 0\n",
    "    \n",
    "    def calc_mape_score(self):\n",
    "        self.mape_score = 0\n",
    "        \n",
    "    def plot_graph(self):\n",
    "        plt.figure()\n",
    "        plt.plot(self.raw_x, self.raw_y, color=\"red\")\n",
    "        plt.show()\n",
    "        \n",
    "\n",
    "# 線形モデルでロバスト回帰を行う\n",
    "class ModelLin_rob(ModelBase):\n",
    "    def calc_lr(self, AllData=False):\n",
    "        self.lr = LinearRegression()\n",
    "        self.lr.fit(self.train_x, self.train_y)\n",
    "        \n",
    "    def calc_mape_score(self):\n",
    "        test_y_predicted = self.lr.predict(self.test_x)\n",
    "        self.mape_score = float(mape_score(self.test_y, test_y_predicted))\n",
    "\n",
    "    def calc_mape_score_InTrain(self):\n",
    "        train_y_predicted = self.lr.predict(self.train_x)\n",
    "        self.mape_score_InTrain = float(mape_score(self.train_y, train_y_predicted))\n",
    "        \n",
    "    def predict(self, num):\n",
    "        predicted = self.lr.predict(num)\n",
    "        return(predicted)\n",
    "    \n",
    "    def ModelName(self):\n",
    "        return(\"ModelLin_rob\")"
   ]
  },
  {
   "cell_type": "code",
   "execution_count": 5,
   "metadata": {
    "tags": []
   },
   "outputs": [
    {
     "data": {
      "text/plain": [
       "{'bt': ['EXACT_SOLUTION'],\n",
       " 'cg': ['MPI_Irecv()'],\n",
       " 'ep': [],\n",
       " 'ft': ['CFFTZ', 'FFTZ2', 'SET_CLASS'],\n",
       " 'is': ['MPI_Irecv()', 'double_randlc(double_*_double_*)'],\n",
       " 'lu': ['BLTS', 'EXCHANGE_6'],\n",
       " 'mg': ['BUBBLE', 'ZERO3'],\n",
       " 'sp': ['EXACT_SOLUTION']}"
      ]
     },
     "execution_count": 5,
     "metadata": {},
     "output_type": "execute_result"
    },
    {
     "data": {
      "text/plain": [
       "<Figure size 2000x2000 with 0 Axes>"
      ]
     },
     "execution_count": 5,
     "metadata": {},
     "output_type": "execute_result"
    },
    {
     "name": "stdout",
     "output_type": "stream",
     "text": [
      "___________________\"ft\"_____\"CFFTZ\"___________________\n"
     ]
    },
    {
     "data": {
      "text/html": [
       "<div>\n",
       "<style scoped>\n",
       "    .dataframe tbody tr th:only-of-type {\n",
       "        vertical-align: middle;\n",
       "    }\n",
       "\n",
       "    .dataframe tbody tr th {\n",
       "        vertical-align: top;\n",
       "    }\n",
       "\n",
       "    .dataframe thead th {\n",
       "        text-align: right;\n",
       "    }\n",
       "</style>\n",
       "<table border=\"1\" class=\"dataframe\">\n",
       "  <thead>\n",
       "    <tr style=\"text-align: right;\">\n",
       "      <th></th>\n",
       "      <th>1</th>\n",
       "      <th>2</th>\n",
       "      <th>4</th>\n",
       "      <th>8</th>\n",
       "      <th>16</th>\n",
       "      <th>32</th>\n",
       "      <th>64</th>\n",
       "      <th>128</th>\n",
       "      <th>256</th>\n",
       "    </tr>\n",
       "    <tr>\n",
       "      <th>Name</th>\n",
       "      <th></th>\n",
       "      <th></th>\n",
       "      <th></th>\n",
       "      <th></th>\n",
       "      <th></th>\n",
       "      <th></th>\n",
       "      <th></th>\n",
       "      <th></th>\n",
       "      <th></th>\n",
       "    </tr>\n",
       "  </thead>\n",
       "  <tbody>\n",
       "    <tr>\n",
       "      <th>CFFTZ</th>\n",
       "      <td>2048.0</td>\n",
       "      <td>225280.0</td>\n",
       "      <td>112640.0</td>\n",
       "      <td>56320.0</td>\n",
       "      <td>28160.0</td>\n",
       "      <td>14080.0</td>\n",
       "      <td>7040.0</td>\n",
       "      <td>3520.0</td>\n",
       "      <td>1760.0</td>\n",
       "    </tr>\n",
       "  </tbody>\n",
       "</table>\n",
       "</div>"
      ],
      "text/plain": [
       "          1         2         4        8        16       32      64      128  \\\n",
       "Name                                                                           \n",
       "CFFTZ  2048.0  225280.0  112640.0  56320.0  28160.0  14080.0  7040.0  3520.0   \n",
       "\n",
       "          256  \n",
       "Name           \n",
       "CFFTZ  1760.0  "
      ]
     },
     "execution_count": 5,
     "metadata": {},
     "output_type": "execute_result"
    },
    {
     "data": {
      "text/plain": [
       "[<matplotlib.lines.Line2D at 0x7f07a0694dc0>]"
      ]
     },
     "execution_count": 5,
     "metadata": {},
     "output_type": "execute_result"
    },
    {
     "data": {
      "text/plain": [
       "<matplotlib.collections.PathCollection at 0x7f07a0694ca0>"
      ]
     },
     "execution_count": 5,
     "metadata": {},
     "output_type": "execute_result"
    },
    {
     "data": {
      "text/plain": [
       "<matplotlib.collections.PathCollection at 0x7f07a06a1be0>"
      ]
     },
     "execution_count": 5,
     "metadata": {},
     "output_type": "execute_result"
    },
    {
     "data": {
      "text/plain": [
       "<matplotlib.collections.PathCollection at 0x7f07a06a1c10>"
      ]
     },
     "execution_count": 5,
     "metadata": {},
     "output_type": "execute_result"
    },
    {
     "data": {
      "text/plain": [
       "[<matplotlib.lines.Line2D at 0x7f07a06bba30>]"
      ]
     },
     "execution_count": 5,
     "metadata": {},
     "output_type": "execute_result"
    },
    {
     "data": {
      "text/plain": [
       "[<matplotlib.lines.Line2D at 0x7f07a06bbdf0>]"
      ]
     },
     "execution_count": 5,
     "metadata": {},
     "output_type": "execute_result"
    },
    {
     "data": {
      "text/plain": [
       "[<matplotlib.lines.Line2D at 0x7f07a06b31c0>]"
      ]
     },
     "execution_count": 5,
     "metadata": {},
     "output_type": "execute_result"
    },
    {
     "data": {
      "text/plain": [
       "[<matplotlib.lines.Line2D at 0x7f07a06b36a0>]"
      ]
     },
     "execution_count": 5,
     "metadata": {},
     "output_type": "execute_result"
    },
    {
     "data": {
      "text/plain": [
       "array([[  1],\n",
       "       [  2],\n",
       "       [  4],\n",
       "       [  8],\n",
       "       [ 16],\n",
       "       [ 32],\n",
       "       [ 64],\n",
       "       [128],\n",
       "       [256]])"
      ]
     },
     "execution_count": 5,
     "metadata": {},
     "output_type": "execute_result"
    },
    {
     "data": {
      "text/plain": [
       "array([[  1],\n",
       "       [  2],\n",
       "       [  4],\n",
       "       [  8],\n",
       "       [ 16],\n",
       "       [ 32],\n",
       "       [ 64],\n",
       "       [128]])"
      ]
     },
     "execution_count": 5,
     "metadata": {},
     "output_type": "execute_result"
    },
    {
     "data": {
      "text/plain": [
       "array([256])"
      ]
     },
     "execution_count": 5,
     "metadata": {},
     "output_type": "execute_result"
    },
    {
     "data": {
      "text/plain": [
       "array([[  2048.],\n",
       "       [225280.],\n",
       "       [112640.],\n",
       "       [ 56320.],\n",
       "       [ 28160.],\n",
       "       [ 14080.],\n",
       "       [  7040.],\n",
       "       [  3520.],\n",
       "       [  1760.]])"
      ]
     },
     "execution_count": 5,
     "metadata": {},
     "output_type": "execute_result"
    },
    {
     "data": {
      "text/plain": [
       "array([[  2048.],\n",
       "       [225280.],\n",
       "       [112640.],\n",
       "       [ 56320.],\n",
       "       [ 28160.],\n",
       "       [ 14080.],\n",
       "       [  7040.],\n",
       "       [  3520.]])"
      ]
     },
     "execution_count": 5,
     "metadata": {},
     "output_type": "execute_result"
    },
    {
     "data": {
      "text/plain": [
       "array([1760.])"
      ]
     },
     "execution_count": 5,
     "metadata": {},
     "output_type": "execute_result"
    },
    {
     "ename": "TypeError",
     "evalue": "__init__() missing 2 required positional arguments: 'raw_x' and 'raw_y'",
     "output_type": "error",
     "traceback": [
      "\u001b[0;31m---------------------------------------------------------------------------\u001b[0m",
      "\u001b[0;31mTypeError\u001b[0m                                 Traceback (most recent call last)",
      "\u001b[0;32m<ipython-input-5-e547eb7114f3>\u001b[0m in \u001b[0;36m<module>\u001b[0;34m\u001b[0m\n\u001b[1;32m     92\u001b[0m \u001b[0;34m\u001b[0m\u001b[0m\n\u001b[1;32m     93\u001b[0m \u001b[0;31m# 線形モデル(ロバスト回帰)\u001b[0m\u001b[0;34m\u001b[0m\u001b[0;34m\u001b[0m\u001b[0;34m\u001b[0m\u001b[0m\n\u001b[0;32m---> 94\u001b[0;31m \u001b[0mmodel_lin_rob\u001b[0m \u001b[0;34m=\u001b[0m \u001b[0mModelLin_rob\u001b[0m\u001b[0;34m(\u001b[0m\u001b[0;34m)\u001b[0m\u001b[0;34m\u001b[0m\u001b[0;34m\u001b[0m\u001b[0m\n\u001b[0m\u001b[1;32m     95\u001b[0m \u001b[0;34m\u001b[0m\u001b[0m\n\u001b[1;32m     96\u001b[0m \u001b[0;31m# 凡例の表示\u001b[0m\u001b[0;34m\u001b[0m\u001b[0;34m\u001b[0m\u001b[0;34m\u001b[0m\u001b[0m\n",
      "\u001b[0;31mTypeError\u001b[0m: __init__() missing 2 required positional arguments: 'raw_x' and 'raw_y'"
     ]
    },
    {
     "data": {
      "image/png": "[encoded data removed]",
      "text/plain": [
       "<Figure size 2000x2000 with 1 Axes>"
      ]
     },
     "metadata": {
      "needs_background": "light"
     },
     "output_type": "display_data"
    }
   ],
   "source": [
    "FixedClassDict = {}\n",
    "for benchmark in benchmarks:\n",
    "    targetDF = return_ErrorRateFixedClassDF(benchmark=benchmark, FixClass=\"B\", predict_process=256)\n",
    "    columns = targetDF.columns.tolist()\n",
    "    # 平均絶対誤差率が0.1より大きいものを抽出\n",
    "    targetDF = targetDF[targetDF[columns[0]] > 0.1]\n",
    "    # データが同じことに由来する重複を削除\n",
    "    targetDF = targetDF[~targetDF.duplicated()]\n",
    "    targetFunctionNameList = targetDF.index.tolist()\n",
    "    FixedClassDict[benchmark] = targetFunctionNameList\n",
    "FixedClassDict\n",
    "\n",
    "# Extra-Pへの入力ファイルを生成\n",
    "funcCallNumDict = {}\n",
    "for benchmarkName in FixedClassDict:\n",
    "    if benchmarkName == \"bt\" or benchmarkName == \"sp\" :\n",
    "        _processes = process_onlyBTSP\n",
    "    else:\n",
    "        _processes = process_excludeBTSP\n",
    "    funcCallNumDict[benchmarkName] = {}\n",
    "    for functionName in FixedClassDict[benchmarkName]:\n",
    "        funcCallNumDict[benchmarkName][functionName] = returnRawDF(Benchmark = benchmarkName, functionName = functionName, fix=\"Class\", Processes = _processes, FixedBenchmarkClass=\"B\")\n",
    "#         generateInputFileForExtraP(funcCallNumDict[benchmarkName][functionName], repeated=3, includeLastData = False, fileName = f\"tmp_{benchmarkName}_{functionName}.txt\")\n",
    "\n",
    "plt.figure(figsize=(10,10),dpi=200)\n",
    "\n",
    "\n",
    "# ベンチマーク名と関数名の指定\n",
    "benchmarkName = \"ft\"\n",
    "functionName = \"CFFTZ\"\n",
    "print(f\"___________________\\\"{benchmarkName}\\\"_____\\\"{functionName}\\\"___________________\")\n",
    "\n",
    "# 実データの取り出し\n",
    "functionDF = funcCallNumDict[benchmarkName][functionName]\n",
    "functionDF\n",
    "raw_x = functionDF.columns.tolist()\n",
    "raw_y = [functionDF.at[functionName, x] for x in raw_x]\n",
    "\n",
    "# Extra-P用の入力データの作成\n",
    "generateInputFileForExtraPfromLists(input_x=raw_x, input_y=raw_y, repeated=3, includeFirstData=False, includeLastData=False, fileName =f\"tmp_{benchmarkName}_{functionName}.txt\")\n",
    "raw_x = np.array(raw_x).reshape(-1,1)\n",
    "raw_y = np.array(raw_y).reshape(-1, 1)\n",
    "# Extra-PでfixProcessデータを入力して出力したモデルの図示\n",
    "plot_x = np.linspace(0.01, 256, 500)\n",
    "# 下記はExtra-Pで出力されたモデル\n",
    "# 192658.33552658802 + -46041.48912003825 * p^(1/3)\n",
    "plot_y = []\n",
    "plot_y = [192658.33552658802 + -46041.48912003825 * x**(1/3) for x in plot_x]\n",
    "plt.plot(plot_x, plot_y, label=\"ExtraP\")\n",
    "\n",
    "# 説明変数と目的変数に分割\n",
    "notTrain_x, train_x, target_x = raw_x[0], raw_x[1:-1], raw_x[-1]\n",
    "notTrain_y, train_y, target_y = raw_y[0], raw_y[1:-1], raw_y[-1]\n",
    "\n",
    "plt.scatter(train_x, train_y, marker=\"o\", label=\"予測に用いた関数コール回数\")\n",
    "plt.scatter(target_x, target_y, marker=\"o\", label=\"予測したい関数コール回数の実測値\")\n",
    "plt.scatter(notTrain_x, notTrain_y, marker=\"o\", label=\"予測に用いなかった関数コール回数\")\n",
    "\n",
    "# モデル式をプロットするために変数”plot_x”に対して変換を実施\n",
    "plot_x = np.array(plot_x).reshape(-1, 1)\n",
    "\n",
    "# 線形モデル\n",
    "model_lin = ModelLin(train_x, train_y, benchmarkName, functionName, test_ratio=0)\n",
    "model_lin.calc_lr()\n",
    "plot_y_lin = model_lin.predict(plot_x)\n",
    "plt.plot(plot_x, plot_y_lin, label=\"線形モデル(最初のデータを除外)\")\n",
    "# 対数モデル\n",
    "model_log10 = ModelLog10(train_x, train_y, benchmarkName, functionName, test_ratio=0)\n",
    "model_log10.calc_lr()\n",
    "plot_y_log10 = model_log10.predict(plot_x)\n",
    "plt.plot(plot_x, plot_y_log10, label=\"対数モデル(最初のデータを除外)\")\n",
    "# 反比例モデル\n",
    "model_ip = ModelIP(train_x, train_y, benchmarkName, functionName, test_ratio=0)\n",
    "model_ip.calc_lr()\n",
    "plot_y_ip = model_ip.predict(plot_x)\n",
    "plt.plot(plot_x, plot_y_ip, label=\"反比例モデル(最初のデータを除外)\")\n",
    "# 線形飽和モデル\n",
    "model_branch = ModelBranch(train_x, train_y, benchmarkName, functionName, test_ratio=0)\n",
    "model_branch.calc_lr()\n",
    "plot_y_branch = model_branch.predict(plot_x)\n",
    "plt.plot(plot_x, plot_y_branch, label=\"線形飽和モデル(最初のデータを除外)\")\n",
    "\n",
    "# 最初のデータを含む学習データと最後のデータのみの試験用データに分割\n",
    "train_x, target_x = raw_x[:-1], raw_x[-1]\n",
    "train_y, target_y = raw_y[:-1], raw_y[-1]\n",
    "raw_x\n",
    "train_x\n",
    "target_x\n",
    "raw_y\n",
    "train_y\n",
    "target_y\n",
    "\n",
    "# 線形モデル(ロバスト回帰)\n",
    "model_lin_rob = ModelLin_rob()\n",
    "\n",
    "# 凡例の表示\n",
    "plt.legend()\n",
    "# 軸ラベルの設定\n",
    "plt.ylabel(\"関数コール回数\")\n",
    "plt.xlabel(\"実行コア数\")\n",
    "# 軸の対数軸化\n",
    "# plt.xscale('log')\n",
    "plt.yscale('log')"
   ]
  },
  {
   "cell_type": "code",
   "execution_count": null,
   "metadata": {},
   "outputs": [],
   "source": []
  }
 ],
 "metadata": {
  "kernelspec": {
   "display_name": "Python 3",
   "language": "python",
   "name": "python3"
  },
  "language_info": {
   "codemirror_mode": {
    "name": "ipython",
    "version": 3
   },
   "file_extension": ".py",
   "mimetype": "text/x-python",
   "name": "python",
   "nbconvert_exporter": "python",
   "pygments_lexer": "ipython3",
   "version": "3.9.4"
  }
 },
 "nbformat": 4,
 "nbformat_minor": 4
}
