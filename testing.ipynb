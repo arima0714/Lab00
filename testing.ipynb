{
 "cells": [
  {
   "cell_type": "markdown",
   "metadata": {},
   "source": [
    "### 二次元リストから生成"
   ]
  },
  {
   "cell_type": "code",
   "execution_count": 1,
   "metadata": {},
   "outputs": [
    {
     "output_type": "execute_result",
     "data": {
      "text/plain": [
       "      col0  col1  col2 col3    col4\n",
       "row0     1   100  0.33  AAA  AAA100\n",
       "row1     2   200  0.67  BBB  BBB200\n",
       "row2     3   300  1.00  CCC  CCC300\n",
       "row3     4   400  1.33  DDD  DDD400\n",
       "row4     5   500  1.67  EEE  EEE500\n",
       "row5     6   600  2.00  FFF  FFF600"
      ],
      "text/html": "<div>\n<style scoped>\n    .dataframe tbody tr th:only-of-type {\n        vertical-align: middle;\n    }\n\n    .dataframe tbody tr th {\n        vertical-align: top;\n    }\n\n    .dataframe thead th {\n        text-align: right;\n    }\n</style>\n<table border=\"1\" class=\"dataframe\">\n  <thead>\n    <tr style=\"text-align: right;\">\n      <th></th>\n      <th>col0</th>\n      <th>col1</th>\n      <th>col2</th>\n      <th>col3</th>\n      <th>col4</th>\n    </tr>\n  </thead>\n  <tbody>\n    <tr>\n      <th>row0</th>\n      <td>1</td>\n      <td>100</td>\n      <td>0.33</td>\n      <td>AAA</td>\n      <td>AAA100</td>\n    </tr>\n    <tr>\n      <th>row1</th>\n      <td>2</td>\n      <td>200</td>\n      <td>0.67</td>\n      <td>BBB</td>\n      <td>BBB200</td>\n    </tr>\n    <tr>\n      <th>row2</th>\n      <td>3</td>\n      <td>300</td>\n      <td>1.00</td>\n      <td>CCC</td>\n      <td>CCC300</td>\n    </tr>\n    <tr>\n      <th>row3</th>\n      <td>4</td>\n      <td>400</td>\n      <td>1.33</td>\n      <td>DDD</td>\n      <td>DDD400</td>\n    </tr>\n    <tr>\n      <th>row4</th>\n      <td>5</td>\n      <td>500</td>\n      <td>1.67</td>\n      <td>EEE</td>\n      <td>EEE500</td>\n    </tr>\n    <tr>\n      <th>row5</th>\n      <td>6</td>\n      <td>600</td>\n      <td>2.00</td>\n      <td>FFF</td>\n      <td>FFF600</td>\n    </tr>\n  </tbody>\n</table>\n</div>"
     },
     "metadata": {},
     "execution_count": 1
    }
   ],
   "source": [
    "# ipynb形式のライブラリのインポート\n",
    "%run ./lib.ipynb\n",
    "\n",
    "import pandas as pd\n",
    "\n",
    "# 1 各行を一つのリストとして並べる\n",
    "\n",
    "list = [\n",
    "    [1, 100, 0.33, 'AAA', 'AAA100'], \n",
    "    [2, 200, 0.67, 'BBB', 'BBB200'], \n",
    "    [3, 300, 1, 'CCC', 'CCC300'], \n",
    "    [4, 400, 1.33, 'DDD', 'DDD400'], \n",
    "    [5, 500, 1.67, 'EEE', 'EEE500'], \n",
    "    [6, 600, 2, 'FFF', 'FFF600']\n",
    "]\n",
    "\n",
    "# 2 表に変換\n",
    "# pd.DataFrame(list) : pandasのDataFrameで表に変換\n",
    "df = pd.DataFrame(list)\n",
    "# 行名・列名は自動で割り振られた番号になっている\n",
    "\n",
    "# 3 行名の変更\n",
    "df.index = ['row0', 'row1', 'row2', 'row3', 'row4', 'row5']\n",
    "\n",
    "# 4 列名の変更\n",
    "df.columns = ['col0', 'col1', 'col2', 'col3', 'col4']\n",
    "\n",
    "df\n",
    "\n",
    "# 1 各行を一つのリストとして並べる\n",
    "list = [\n",
    "[1, 100, 0.33, 'AAA', 'AAA100'], \n",
    "[2, 200, 0.67, 'BBB', 'BBB200'], \n",
    "[3, 300, 1, 'CCC', 'CCC300'], \n",
    "[4, 400, 1.33, 'DDD', 'DDD400'], \n",
    "[5, 500, 1.67, 'EEE', 'EEE500'], \n",
    "[6, 600, 2, 'FFF', 'FFF600']]\n",
    "\n",
    "\n",
    "#2 表に変換(オプションで行列名を指定)\n",
    "ind = ['row0', 'row1', 'row2', 'row3', 'row4', 'row5']\n",
    "col = ['col0', 'col1', 'col2', 'col3', 'col4']\n",
    "\n",
    "df = pd.DataFrame(list, index=ind, columns=col)\n",
    "\n",
    "\n",
    "df\n",
    "\n",
    "# 1 各行を一つのリストにする\n",
    "list = [\n",
    "['row0', 1, 100, 0.33, 'AAA', 'AAA100'], \n",
    "['row1', 2, 200, 0.67, 'BBB', 'BBB200'], \n",
    "['row2', 3, 300, 1, 'CCC', 'CCC300'], \n",
    "['row3', 4, 400, 1.33, 'DDD', 'DDD400'], \n",
    "['row4', 5, 500, 1.67, 'EEE', 'EEE500'], \n",
    "['row5', 6, 600, 2, 'FFF', 'FFF600'], ]\n",
    "\n",
    "# 2 表に変換\n",
    "df = pd.DataFrame(list)\n",
    "\n",
    "# 3 列名を変更\n",
    "df.columns = ['', 'col0', 'col1', 'col2', 'col3', 'col4']\n",
    "\n",
    "# 4 行名となる列を指定\n",
    "df = df.set_index('')\n",
    "\n",
    "df\n",
    "\n",
    "# 1 各行ごとのリストを作成\n",
    "\n",
    "listA = [1, 100, 0.33, 'AAA', 'AAA100']\n",
    "listB = [2, 200, 0.67, 'BBB', 'BBB200']\n",
    "listC = [3, 300, 1, 'CCC', 'CCC300']\n",
    "listD = [4, 400, 1.33, 'DDD', 'DDD400']\n",
    "listE = [5, 500, 1.67, 'EEE', 'EEE500']\n",
    "listF = [6, 600, 2, 'FFF', 'FFF600']\n",
    "\n",
    "# 2 まとめて表に変換\n",
    "\n",
    "df = pd.DataFrame([listA, listB, listC, listD, listE, listF])\n",
    "\n",
    "# 3 行名の変更\n",
    "df.index = ['row0', 'row1', 'row2', 'row3', 'row4', 'row5']\n",
    "\n",
    "# 4 列名の変更\n",
    "df.columns = ['col0', 'col1', 'col2', 'col3', 'col4']\n",
    "\n",
    "del list\n",
    "\n",
    "df"
   ]
  },
  {
   "cell_type": "code",
   "execution_count": 2,
   "metadata": {},
   "outputs": [],
   "source": [
    "cg_c_data = return_dict_summary_fixed()"
   ]
  },
  {
   "cell_type": "code",
   "execution_count": 3,
   "metadata": {},
   "outputs": [],
   "source": [
    "x = cg_c_data[\"processes\"]\n",
    "y = cg_c_data[\"ICNVRT\"]"
   ]
  },
  {
   "cell_type": "code",
   "execution_count": 4,
   "metadata": {},
   "outputs": [],
   "source": [
    "cg_icnvrt_lr = ModelLog10(x, y, \"CG\", \"ICNVRT\")"
   ]
  },
  {
   "cell_type": "code",
   "execution_count": 5,
   "metadata": {},
   "outputs": [],
   "source": [
    "cg_icnvrt_lr.calc_lr()"
   ]
  },
  {
   "cell_type": "code",
   "execution_count": 6,
   "metadata": {},
   "outputs": [
    {
     "output_type": "display_data",
     "data": {
      "text/plain": "<Figure size 432x288 with 1 Axes>",
      "image/svg+xml": "<?xml version=\"1.0\" encoding=\"utf-8\" standalone=\"no\"?>\n<!DOCTYPE svg PUBLIC \"-//W3C//DTD SVG 1.1//EN\"\n  \"http://www.w3.org/Graphics/SVG/1.1/DTD/svg11.dtd\">\n<!-- Created with matplotlib (https://matplotlib.org/) -->\n<svg height=\"272.111875pt\" version=\"1.1\" viewBox=\"0 0 375.889062 272.111875\" width=\"375.889062pt\" xmlns=\"http://www.w3.org/2000/svg\" xmlns:xlink=\"http://www.w3.org/1999/xlink\">\n <metadata>\n  <rdf:RDF xmlns:cc=\"http://creativecommons.org/ns#\" xmlns:dc=\"http://purl.org/dc/elements/1.1/\" xmlns:rdf=\"http://www.w3.org/1999/02/22-rdf-syntax-ns#\">\n   <cc:Work>\n    <dc:type rdf:resource=\"http://purl.org/dc/dcmitype/StillImage\"/>\n    <dc:date>2020-12-22T13:26:27.824804</dc:date>\n    <dc:format>image/svg+xml</dc:format>\n    <dc:creator>\n     <cc:Agent>\n      <dc:title>Matplotlib v3.3.2, https://matplotlib.org/</dc:title>\n     </cc:Agent>\n    </dc:creator>\n   </cc:Work>\n  </rdf:RDF>\n </metadata>\n <defs>\n  <style type=\"text/css\">*{stroke-linecap:butt;stroke-linejoin:round;}</style>\n </defs>\n <g id=\"figure_1\">\n  <g id=\"patch_1\">\n   <path d=\"M 0 272.111875 \nL 375.889062 272.111875 \nL 375.889062 0 \nL 0 0 \nz\n\" style=\"fill:none;\"/>\n  </g>\n  <g id=\"axes_1\">\n   <g id=\"patch_2\">\n    <path d=\"M 33.889062 235.130625 \nL 368.689063 235.130625 \nL 368.689063 17.690625 \nL 33.889062 17.690625 \nz\n\" style=\"fill:#ffffff;\"/>\n   </g>\n   <g id=\"PathCollection_1\">\n    <defs>\n     <path d=\"M 0 3 \nC 0.795609 3 1.55874 2.683901 2.12132 2.12132 \nC 2.683901 1.55874 3 0.795609 3 0 \nC 3 -0.795609 2.683901 -1.55874 2.12132 -2.12132 \nC 1.55874 -2.683901 0.795609 -3 0 -3 \nC -0.795609 -3 -1.55874 -2.683901 -2.12132 -2.12132 \nC -2.683901 -1.55874 -3 -0.795609 -3 0 \nC -3 0.795609 -2.683901 1.55874 -2.12132 2.12132 \nC -1.55874 2.683901 -0.795609 3 0 3 \nz\n\" id=\"m250a3815ad\" style=\"stroke:#1f77b4;\"/>\n    </defs>\n    <g clip-path=\"url(#p407f9bfbe7)\">\n     <use style=\"fill:#1f77b4;stroke:#1f77b4;\" x=\"50.276787\" xlink:href=\"#m250a3815ad\" y=\"186.268251\"/>\n     <use style=\"fill:#1f77b4;stroke:#1f77b4;\" x=\"51.465784\" xlink:href=\"#m250a3815ad\" y=\"174.868756\"/>\n     <use style=\"fill:#1f77b4;stroke:#1f77b4;\" x=\"53.843777\" xlink:href=\"#m250a3815ad\" y=\"152.070176\"/>\n     <use style=\"fill:#1f77b4;stroke:#1f77b4;\" x=\"58.599762\" xlink:href=\"#m250a3815ad\" y=\"106.472606\"/>\n     <use style=\"fill:#1f77b4;stroke:#1f77b4;\" x=\"68.111734\" xlink:href=\"#m250a3815ad\" y=\"106.472606\"/>\n     <use style=\"fill:#1f77b4;stroke:#1f77b4;\" x=\"87.135677\" xlink:href=\"#m250a3815ad\" y=\"106.472606\"/>\n     <use style=\"fill:#1f77b4;stroke:#1f77b4;\" x=\"125.183563\" xlink:href=\"#m250a3815ad\" y=\"106.472606\"/>\n     <use style=\"fill:#1f77b4;stroke:#1f77b4;\" x=\"201.279336\" xlink:href=\"#m250a3815ad\" y=\"106.472606\"/>\n     <use style=\"fill:#1f77b4;stroke:#1f77b4;\" x=\"353.470881\" xlink:href=\"#m250a3815ad\" y=\"106.472606\"/>\n    </g>\n   </g>\n   <g id=\"matplotlib.axis_1\">\n    <g id=\"xtick_1\">\n     <g id=\"line2d_1\">\n      <defs>\n       <path d=\"M 0 0 \nL 0 3.5 \n\" id=\"m58dd0ab21f\" style=\"stroke:#000000;stroke-width:0.8;\"/>\n      </defs>\n      <g>\n       <use style=\"stroke:#000000;stroke-width:0.8;\" x=\"49.087791\" xlink:href=\"#m58dd0ab21f\" y=\"235.130625\"/>\n      </g>\n     </g>\n     <g id=\"text_1\">\n      <!-- 0 -->\n      <g transform=\"translate(45.938572 249.62125)scale(0.1 -0.1)\">\n       <defs>\n        <path d=\"M 31.84375 73.828125 \nQ 45.015625 73.828125 52.09375 61.625 \nQ 57.71875 51.953125 57.71875 36.625 \nQ 57.71875 21.4375 52.09375 11.578125 \nQ 45.125 -0.484375 31.5 -0.484375 \nQ 17.921875 -0.484375 10.9375 11.578125 \nQ 5.328125 21.4375 5.328125 36.71875 \nQ 5.328125 58.015625 15.625 67.71875 \nQ 22.171875 73.828125 31.84375 73.828125 \nz\nM 31.5 66.65625 \nQ 23.6875 66.65625 19.1875 58.734375 \nQ 14.59375 50.734375 14.59375 36.625 \nQ 14.59375 22.75 19.09375 14.796875 \nQ 23.640625 6.984375 31.5 6.984375 \nQ 40.921875 6.984375 45.453125 18.015625 \nQ 48.4375 25.34375 48.4375 37.109375 \nQ 48.4375 50.875 43.84375 58.734375 \nQ 39.203125 66.65625 31.5 66.65625 \nz\n\" id=\"IPAexGothic-48\"/>\n       </defs>\n       <use xlink:href=\"#IPAexGothic-48\"/>\n      </g>\n     </g>\n    </g>\n    <g id=\"xtick_2\">\n     <g id=\"line2d_2\">\n      <g>\n       <use style=\"stroke:#000000;stroke-width:0.8;\" x=\"108.537613\" xlink:href=\"#m58dd0ab21f\" y=\"235.130625\"/>\n      </g>\n     </g>\n     <g id=\"text_2\">\n      <!-- 50 -->\n      <g transform=\"translate(102.239176 249.62125)scale(0.1 -0.1)\">\n       <defs>\n        <path d=\"M 18.40625 40.671875 \nQ 25.53125 46.296875 33.9375 46.296875 \nQ 44 46.296875 50.640625 39.5 \nQ 56.84375 33.015625 56.84375 23.390625 \nQ 56.84375 14.65625 51.515625 8.015625 \nQ 44.828125 -0.484375 31.734375 -0.484375 \nQ 14.984375 -0.484375 7.328125 12.25 \nL 14.65625 16.0625 \nQ 20.453125 6.78125 31.453125 6.78125 \nQ 38.53125 6.78125 43.265625 11.1875 \nQ 48.140625 15.828125 48.140625 23.484375 \nQ 48.140625 30.71875 43.84375 35.015625 \nQ 39.359375 39.5 32.125 39.5 \nQ 21.96875 39.5 16.75 31.6875 \nL 9.234375 32.671875 \nL 13.8125 72.40625 \nL 53.21875 72.40625 \nL 53.21875 64.890625 \nL 20.953125 64.890625 \nL 17.71875 40.671875 \nz\n\" id=\"IPAexGothic-53\"/>\n       </defs>\n       <use xlink:href=\"#IPAexGothic-53\"/>\n       <use x=\"62.988281\" xlink:href=\"#IPAexGothic-48\"/>\n      </g>\n     </g>\n    </g>\n    <g id=\"xtick_3\">\n     <g id=\"line2d_3\">\n      <g>\n       <use style=\"stroke:#000000;stroke-width:0.8;\" x=\"167.987435\" xlink:href=\"#m58dd0ab21f\" y=\"235.130625\"/>\n      </g>\n     </g>\n     <g id=\"text_3\">\n      <!-- 100 -->\n      <g transform=\"translate(158.539779 249.62125)scale(0.1 -0.1)\">\n       <defs>\n        <path d=\"M 38.484375 0.984375 \nL 29.6875 0.984375 \nL 29.6875 64.109375 \nQ 21.4375 61.28125 12.3125 59.328125 \nL 10.6875 66.109375 \nQ 23.734375 69.390625 32.90625 73.921875 \nL 38.484375 73.921875 \nz\n\" id=\"IPAexGothic-49\"/>\n       </defs>\n       <use xlink:href=\"#IPAexGothic-49\"/>\n       <use x=\"62.988281\" xlink:href=\"#IPAexGothic-48\"/>\n       <use x=\"125.976562\" xlink:href=\"#IPAexGothic-48\"/>\n      </g>\n     </g>\n    </g>\n    <g id=\"xtick_4\">\n     <g id=\"line2d_4\">\n      <g>\n       <use style=\"stroke:#000000;stroke-width:0.8;\" x=\"227.437258\" xlink:href=\"#m58dd0ab21f\" y=\"235.130625\"/>\n      </g>\n     </g>\n     <g id=\"text_4\">\n      <!-- 150 -->\n      <g transform=\"translate(217.989601 249.62125)scale(0.1 -0.1)\">\n       <use xlink:href=\"#IPAexGothic-49\"/>\n       <use x=\"62.988281\" xlink:href=\"#IPAexGothic-53\"/>\n       <use x=\"125.976562\" xlink:href=\"#IPAexGothic-48\"/>\n      </g>\n     </g>\n    </g>\n    <g id=\"xtick_5\">\n     <g id=\"line2d_5\">\n      <g>\n       <use style=\"stroke:#000000;stroke-width:0.8;\" x=\"286.88708\" xlink:href=\"#m58dd0ab21f\" y=\"235.130625\"/>\n      </g>\n     </g>\n     <g id=\"text_5\">\n      <!-- 200 -->\n      <g transform=\"translate(277.439424 249.62125)scale(0.1 -0.1)\">\n       <defs>\n        <path d=\"M 57.171875 0.984375 \nL 6.984375 0.984375 \nL 6.984375 9.28125 \nQ 12.890625 23.046875 29.59375 34.421875 \nL 32.375 36.28125 \nQ 40.921875 42.140625 43.609375 45.40625 \nQ 46.6875 49.265625 46.6875 53.8125 \nQ 46.6875 58.9375 43.0625 62.546875 \nQ 39.0625 66.546875 32.5625 66.546875 \nQ 19.53125 66.546875 15.484375 52 \nL 7.765625 54.78125 \nQ 13.328125 73.828125 33.0625 73.828125 \nQ 43.84375 73.828125 50.25 67.4375 \nQ 55.859375 61.671875 55.859375 53.515625 \nQ 55.859375 47.46875 52.25 42.53125 \nQ 48.921875 37.75 36.96875 30.28125 \nL 34.859375 29 \nQ 19.625 19.578125 15.28125 8.890625 \nL 57.171875 8.890625 \nz\n\" id=\"IPAexGothic-50\"/>\n       </defs>\n       <use xlink:href=\"#IPAexGothic-50\"/>\n       <use x=\"62.988281\" xlink:href=\"#IPAexGothic-48\"/>\n       <use x=\"125.976562\" xlink:href=\"#IPAexGothic-48\"/>\n      </g>\n     </g>\n    </g>\n    <g id=\"xtick_6\">\n     <g id=\"line2d_6\">\n      <g>\n       <use style=\"stroke:#000000;stroke-width:0.8;\" x=\"346.336902\" xlink:href=\"#m58dd0ab21f\" y=\"235.130625\"/>\n      </g>\n     </g>\n     <g id=\"text_6\">\n      <!-- 250 -->\n      <g transform=\"translate(336.889246 249.62125)scale(0.1 -0.1)\">\n       <use xlink:href=\"#IPAexGothic-50\"/>\n       <use x=\"62.988281\" xlink:href=\"#IPAexGothic-53\"/>\n       <use x=\"125.976562\" xlink:href=\"#IPAexGothic-48\"/>\n      </g>\n     </g>\n    </g>\n    <g id=\"text_7\">\n     <!-- 実行時のプロセス数 -->\n     <g transform=\"translate(156.289063 263.011875)scale(0.1 -0.1)\">\n      <defs>\n       <path d=\"M 55.078125 19.921875 \nQ 67 5.46875 94.09375 1.421875 \nL 89.65625 -5.859375 \nQ 61.765625 -0.640625 50.296875 16.40625 \nQ 42.671875 -2.25 11.375 -7.375 \nL 7.28125 -0.6875 \nQ 37.84375 2.34375 44.875 19.921875 \nL 6 19.921875 \nL 6 25.921875 \nL 46.09375 25.921875 \nL 46.09375 33.5 \nL 15.09375 33.5 \nL 15.09375 39.203125 \nL 46.09375 39.203125 \nL 46.09375 46.390625 \nL 19.78125 46.390625 \nL 19.78125 52.203125 \nL 46.09375 52.203125 \nL 46.09375 62.3125 \nL 53.171875 62.3125 \nL 53.171875 52.203125 \nL 80.078125 52.203125 \nL 80.078125 46.390625 \nL 53.171875 46.390625 \nL 53.171875 39.203125 \nL 85.0625 39.203125 \nL 85.0625 33.5 \nL 53.171875 33.5 \nL 53.171875 25.921875 \nL 94 25.921875 \nL 94 19.921875 \nz\nM 53.328125 71 \nL 90.28125 71 \nL 90.28125 51.078125 \nL 82.953125 51.078125 \nL 82.953125 64.796875 \nL 16.9375 64.796875 \nL 16.9375 51.078125 \nL 9.625 51.078125 \nL 9.625 71 \nL 45.90625 71 \nL 45.90625 83.015625 \nL 53.328125 83.015625 \nz\n\" id=\"IPAexGothic-23455\"/>\n       <path d=\"M 28.46875 43.015625 \nL 28.46875 -6.984375 \nL 21.140625 -6.984375 \nL 21.140625 33.890625 \nQ 15.09375 27.25 9.71875 22.90625 \nL 4.9375 27.984375 \nQ 20.21875 39.984375 30.765625 59.71875 \nL 37.453125 56.78125 \nQ 32.953125 49.03125 28.46875 43.015625 \nz\nM 77.734375 43.796875 \nL 77.734375 1.609375 \nQ 77.734375 -6.109375 68.265625 -6.109375 \nQ 61.328125 -6.109375 52.4375 -5.328125 \nL 51.375 2.484375 \nQ 58.984375 1.21875 66.546875 1.21875 \nQ 70.5625 1.21875 70.5625 4.984375 \nL 70.5625 43.796875 \nL 37.25 43.796875 \nL 37.25 50.390625 \nL 93.953125 50.390625 \nL 93.953125 43.796875 \nz\nM 6 57.671875 \nQ 19.234375 66.5 27.4375 79.296875 \nL 33.5 75.78125 \nQ 24.078125 61.671875 10.40625 52.296875 \nz\nM 42.328125 74.90625 \nL 88.421875 74.90625 \nL 88.421875 68.40625 \nL 42.328125 68.40625 \nz\n\" id=\"IPAexGothic-34892\"/>\n       <path d=\"M 36.375 73.875 \nL 36.375 8.796875 \nL 14.59375 8.796875 \nL 14.59375 0.875 \nL 8.109375 0.875 \nL 8.109375 73.875 \nz\nM 14.59375 67.671875 \nL 14.59375 45.015625 \nL 29.78125 45.015625 \nL 29.78125 67.671875 \nz\nM 14.59375 39.015625 \nL 14.59375 14.890625 \nL 29.78125 14.890625 \nL 29.78125 39.015625 \nz\nM 61.53125 68.3125 \nL 61.53125 83.015625 \nL 68.40625 83.015625 \nL 68.40625 68.3125 \nL 90.1875 68.3125 \nL 90.1875 62.203125 \nL 68.40625 62.203125 \nL 68.40625 49.90625 \nL 94.875 49.90625 \nL 94.875 43.796875 \nL 81.296875 43.796875 \nL 81.296875 31.984375 \nL 93.109375 31.984375 \nL 93.109375 25.78125 \nL 81.5 25.78125 \nL 81.5 0.484375 \nQ 81.5 -6.984375 73.296875 -6.984375 \nQ 68.65625 -6.984375 60.75 -6.109375 \nL 59.125 1.21875 \nQ 66.75 0 71.734375 0 \nQ 74.609375 0 74.609375 2.6875 \nL 74.609375 25.78125 \nL 40.328125 25.78125 \nL 40.328125 31.984375 \nL 74.421875 31.984375 \nL 74.421875 43.796875 \nL 39.65625 43.796875 \nL 39.65625 49.90625 \nL 61.53125 49.90625 \nL 61.53125 62.203125 \nL 42.4375 62.203125 \nL 42.4375 68.3125 \nz\nM 57.328125 6 \nQ 52.046875 14.84375 46.1875 20.703125 \nL 51.421875 24.609375 \nQ 58.109375 17.921875 62.890625 10.296875 \nz\n\" id=\"IPAexGothic-26178\"/>\n       <path d=\"M 48.734375 7.328125 \nQ 82.421875 11.96875 82.421875 37.890625 \nQ 82.421875 53.953125 68.953125 61.328125 \nQ 63.140625 64.3125 55.421875 64.984375 \nQ 53.03125 39.453125 44.53125 21.875 \nQ 36.28125 4.78125 26.90625 4.78125 \nQ 21.625 4.78125 16.9375 10.40625 \nQ 9.515625 19.4375 9.515625 31.296875 \nQ 9.515625 47.265625 21.828125 59.28125 \nQ 34.125 71.296875 53.609375 71.296875 \nQ 67.28125 71.296875 77 64.40625 \nQ 90.828125 54.78125 90.828125 37.890625 \nQ 90.828125 6.84375 53.609375 0.09375 \nz\nM 47.703125 64.796875 \nQ 37.15625 63.1875 29.546875 56.890625 \nQ 17.140625 46.578125 17.140625 31.109375 \nQ 17.140625 21.34375 22.40625 15.28125 \nQ 24.703125 12.703125 26.859375 12.703125 \nQ 31.59375 12.703125 37.75 25.390625 \nQ 45.453125 41.21875 47.703125 64.796875 \nz\n\" id=\"IPAexGothic-12398\"/>\n       <path d=\"M 75.390625 66.796875 \nL 80.078125 62.5 \nQ 76.3125 37.15625 63.765625 21.578125 \nQ 51.46875 6.453125 29.5 -1.8125 \nL 23.78125 5.171875 \nQ 63.578125 17.390625 71.09375 59.421875 \nL 15.09375 58.40625 \nL 15.09375 66.015625 \nz\nM 87.453125 86.078125 \nQ 92.28125 86.078125 95.609375 82.421875 \nQ 98.484375 79.296875 98.484375 75.09375 \nQ 98.484375 70.21875 94.828125 66.890625 \nQ 91.65625 64.015625 87.453125 64.015625 \nQ 82.5625 64.015625 79.25 67.671875 \nQ 76.375 70.84375 76.375 75.09375 \nQ 76.375 79.9375 80.03125 83.25 \nQ 83.25 86.078125 87.453125 86.078125 \nz\nM 87.453125 81.6875 \nQ 84.515625 81.6875 82.46875 79.5 \nQ 80.765625 77.59375 80.765625 75.09375 \nQ 80.765625 72.125 82.953125 70.125 \nQ 84.90625 68.40625 87.453125 68.40625 \nQ 90.375 68.40625 92.390625 70.609375 \nQ 94.09375 72.515625 94.09375 75.09375 \nQ 94.09375 77.984375 91.890625 79.984375 \nQ 89.984375 81.6875 87.453125 81.6875 \nz\n\" id=\"IPAexGothic-12503\"/>\n       <path d=\"M 17.921875 66.703125 \nL 82.03125 66.703125 \nL 82.03125 2.6875 \nL 73.828125 2.6875 \nL 73.828125 8.890625 \nL 26.125 8.890625 \nL 26.125 2.6875 \nL 17.921875 2.6875 \nz\nM 26.125 59.078125 \nL 26.125 16.609375 \nL 73.828125 16.609375 \nL 73.828125 59.078125 \nz\n\" id=\"IPAexGothic-12525\"/>\n       <path d=\"M 32.171875 76.21875 \nL 40.375 76.21875 \nL 40.375 53.078125 \nL 82.671875 58.296875 \nL 87.59375 53.8125 \nQ 75.59375 36.140625 62.59375 24.3125 \nL 55.765625 29.296875 \nQ 67.140625 38.421875 75.6875 50.484375 \nL 40.375 45.796875 \nL 40.375 15.28125 \nQ 40.375 11.46875 42.78125 10.453125 \nQ 45.65625 9.125 56.5 9.125 \nQ 69.046875 9.125 84.765625 10.890625 \nL 85.0625 2.6875 \nQ 71.296875 1.609375 60.0625 1.609375 \nQ 41.84375 1.609375 36.859375 4 \nQ 32.171875 6.296875 32.171875 13.484375 \nL 32.171875 44.671875 \nL 9.96875 41.796875 \nL 9.1875 49.21875 \nL 32.171875 52.09375 \nz\n\" id=\"IPAexGothic-12475\"/>\n       <path d=\"M 68.109375 70.015625 \nL 73.6875 64.796875 \nQ 67.625 48 56.984375 33.59375 \nQ 72.796875 22.40625 88.421875 7.078125 \nL 81.78125 0.296875 \nQ 66.5 17 52.390625 27.78125 \nQ 37.0625 9.328125 16.3125 -0.484375 \nL 10.203125 6.296875 \nQ 48.875 22.703125 64.015625 62.5 \nL 19.390625 61.921875 \nL 19.1875 69.578125 \nz\n\" id=\"IPAexGothic-12473\"/>\n       <path d=\"M 44.484375 24.265625 \nQ 42.828125 15.71875 37.890625 8.34375 \nQ 41.015625 6.890625 48.296875 3.171875 \nL 43.890625 -2.9375 \nQ 39.703125 0 33.5 3.265625 \nQ 24.515625 -4.546875 10.984375 -7.8125 \nL 6.59375 -1.953125 \nQ 19.734375 0.296875 27.296875 6.34375 \nQ 19.09375 10.15625 11.46875 12.75 \nQ 15.234375 18.3125 17.921875 23.484375 \nL 18.3125 24.265625 \nL 5.609375 24.265625 \nL 5.609375 30.078125 \nL 21 30.078125 \nQ 21.96875 32.28125 24.515625 38.671875 \nL 26.421875 38.28125 \nL 26.421875 52.6875 \nQ 19.53125 42.78125 8.59375 35.984375 \nL 4.296875 41.609375 \nQ 15.921875 47.078125 23.875 56.890625 \nL 5.90625 56.890625 \nL 5.90625 62.59375 \nL 26.421875 62.59375 \nL 26.421875 83.015625 \nL 33.015625 83.015625 \nL 33.015625 62.59375 \nL 51.515625 62.59375 \nL 51.515625 56.890625 \nL 33.015625 56.890625 \nL 33.015625 54.890625 \nQ 41.546875 51.421875 49.609375 46.296875 \nL 46.1875 40.375 \nQ 39.890625 45.65625 33.015625 49.359375 \nL 33.015625 37.0625 \nL 30.71875 37.0625 \nQ 30.125 35.75 29.25 33.453125 \nQ 28.21875 30.859375 27.875 30.078125 \nL 52.78125 30.078125 \nL 52.78125 24.265625 \nz\nM 37.796875 24.265625 \nL 25.203125 24.265625 \nQ 23.09375 19.828125 20.515625 15.578125 \nQ 24.359375 14.203125 31.984375 10.984375 \nQ 36.140625 16.359375 37.796875 24.265625 \nz\nM 68.171875 18.171875 \nQ 61.765625 27.828125 58.40625 41.21875 \nQ 55.859375 35.640625 53.5625 31.5 \nL 48.484375 37.59375 \nQ 57.421875 53.8125 61.1875 82.671875 \nL 68.171875 81.25 \nQ 66.9375 72.90625 65.578125 65.578125 \nL 93.890625 65.578125 \nL 93.890625 58.984375 \nL 85.984375 58.984375 \nQ 84.328125 35.546875 76.078125 18.609375 \nQ 84.671875 7.859375 96 1.171875 \nL 90.96875 -5.90625 \nQ 81.0625 1.65625 72.359375 12.3125 \nQ 64.265625 0.53125 52.203125 -7.234375 \nL 47.359375 -1.21875 \nQ 60.75 6.34375 68.171875 18.171875 \nz\nM 71.6875 24.90625 \nQ 77.15625 37.3125 79.046875 58.984375 \nL 64.0625 58.984375 \nQ 63.140625 54.984375 62.0625 51.375 \nQ 62.203125 50.78125 62.359375 49.90625 \nQ 65.234375 35.25 71.6875 24.90625 \nz\nM 15.671875 64.3125 \nQ 13.71875 71 9.96875 77.09375 \nL 16.453125 79.59375 \nQ 19.484375 74.8125 22.46875 66.703125 \nz\nM 36.1875 66.703125 \nQ 39.84375 73.25 42 80.171875 \nL 48.875 78.078125 \nQ 46.34375 71.6875 41.796875 64.5 \nz\n\" id=\"IPAexGothic-25968\"/>\n      </defs>\n      <use xlink:href=\"#IPAexGothic-23455\"/>\n      <use x=\"100\" xlink:href=\"#IPAexGothic-34892\"/>\n      <use x=\"200\" xlink:href=\"#IPAexGothic-26178\"/>\n      <use x=\"300\" xlink:href=\"#IPAexGothic-12398\"/>\n      <use x=\"400\" xlink:href=\"#IPAexGothic-12503\"/>\n      <use x=\"500\" xlink:href=\"#IPAexGothic-12525\"/>\n      <use x=\"600\" xlink:href=\"#IPAexGothic-12475\"/>\n      <use x=\"700\" xlink:href=\"#IPAexGothic-12473\"/>\n      <use x=\"800\" xlink:href=\"#IPAexGothic-25968\"/>\n     </g>\n    </g>\n   </g>\n   <g id=\"matplotlib.axis_2\">\n    <g id=\"ytick_1\">\n     <g id=\"line2d_7\">\n      <defs>\n       <path d=\"M 0 0 \nL -3.5 0 \n\" id=\"m67689c01b4\" style=\"stroke:#000000;stroke-width:0.8;\"/>\n      </defs>\n      <g>\n       <use style=\"stroke:#000000;stroke-width:0.8;\" x=\"33.889062\" xlink:href=\"#m67689c01b4\" y=\"226.537579\"/>\n      </g>\n     </g>\n     <g id=\"text_8\">\n      <!-- 1 -->\n      <g transform=\"translate(20.590625 230.282891)scale(0.1 -0.1)\">\n       <use xlink:href=\"#IPAexGothic-49\"/>\n      </g>\n     </g>\n    </g>\n    <g id=\"ytick_2\">\n     <g id=\"line2d_8\">\n      <g>\n       <use style=\"stroke:#000000;stroke-width:0.8;\" x=\"33.889062\" xlink:href=\"#m67689c01b4\" y=\"185.645464\"/>\n      </g>\n     </g>\n     <g id=\"text_9\">\n      <!-- 2 -->\n      <g transform=\"translate(20.590625 189.390777)scale(0.1 -0.1)\">\n       <use xlink:href=\"#IPAexGothic-50\"/>\n      </g>\n     </g>\n    </g>\n    <g id=\"ytick_3\">\n     <g id=\"line2d_9\">\n      <g>\n       <use style=\"stroke:#000000;stroke-width:0.8;\" x=\"33.889062\" xlink:href=\"#m67689c01b4\" y=\"144.75335\"/>\n      </g>\n     </g>\n     <g id=\"text_10\">\n      <!-- 3 -->\n      <g transform=\"translate(20.590625 148.498662)scale(0.1 -0.1)\">\n       <defs>\n        <path d=\"M 37.203125 37.796875 \nQ 54.78125 34.625 54.78125 19.96875 \nQ 54.78125 11.1875 48.875 5.5625 \nQ 42.328125 -0.484375 30.375 -0.484375 \nQ 12.453125 -0.484375 4.5 13.765625 \nL 11.8125 17.671875 \nQ 17.328125 6.890625 30.28125 6.890625 \nQ 37.890625 6.890625 42.09375 10.796875 \nQ 46.09375 14.5 46.09375 20.171875 \nQ 46.09375 26.859375 40.09375 30.90625 \nQ 34.625 34.578125 25.6875 34.578125 \nL 21.296875 34.578125 \nL 21.296875 41.703125 \nL 25.875 41.703125 \nQ 34.859375 41.703125 39.59375 45.125 \nQ 44.671875 48.734375 44.671875 54.828125 \nQ 44.671875 61.46875 38.96875 64.65625 \nQ 35.296875 66.84375 30.171875 66.84375 \nQ 19.34375 66.84375 14.109375 55.90625 \nL 6.78125 59.421875 \nQ 14.015625 73.828125 30.28125 73.828125 \nQ 40.578125 73.828125 46.96875 68.65625 \nQ 53.375 63.578125 53.375 55.21875 \nQ 53.375 47.3125 47.171875 42.28125 \nQ 43.171875 39.0625 37.203125 38.1875 \nz\n\" id=\"IPAexGothic-51\"/>\n       </defs>\n       <use xlink:href=\"#IPAexGothic-51\"/>\n      </g>\n     </g>\n    </g>\n    <g id=\"ytick_4\">\n     <g id=\"line2d_10\">\n      <g>\n       <use style=\"stroke:#000000;stroke-width:0.8;\" x=\"33.889062\" xlink:href=\"#m67689c01b4\" y=\"103.861235\"/>\n      </g>\n     </g>\n     <g id=\"text_11\">\n      <!-- 4 -->\n      <g transform=\"translate(20.590625 107.606548)scale(0.1 -0.1)\">\n       <defs>\n        <path d=\"M 59.578125 18.109375 \nL 47.796875 18.109375 \nL 47.796875 0.984375 \nL 39.796875 0.984375 \nL 39.796875 18.109375 \nL 3.078125 18.109375 \nL 3.078125 26.125 \nL 38.375 73.09375 \nL 47.796875 73.09375 \nL 47.796875 25.53125 \nL 59.578125 25.53125 \nz\nM 40.28125 64.203125 \nL 39.984375 64.203125 \nQ 35.59375 57.125 31.296875 51.3125 \nL 11.859375 25.53125 \nL 39.796875 25.53125 \nL 39.796875 49.125 \nQ 39.796875 54.390625 40.28125 64.203125 \nz\n\" id=\"IPAexGothic-52\"/>\n       </defs>\n       <use xlink:href=\"#IPAexGothic-52\"/>\n      </g>\n     </g>\n    </g>\n    <g id=\"ytick_5\">\n     <g id=\"line2d_11\">\n      <g>\n       <use style=\"stroke:#000000;stroke-width:0.8;\" x=\"33.889062\" xlink:href=\"#m67689c01b4\" y=\"62.969121\"/>\n      </g>\n     </g>\n     <g id=\"text_12\">\n      <!-- 5 -->\n      <g transform=\"translate(20.590625 66.714433)scale(0.1 -0.1)\">\n       <use xlink:href=\"#IPAexGothic-53\"/>\n      </g>\n     </g>\n    </g>\n    <g id=\"ytick_6\">\n     <g id=\"line2d_12\">\n      <g>\n       <use style=\"stroke:#000000;stroke-width:0.8;\" x=\"33.889062\" xlink:href=\"#m67689c01b4\" y=\"22.077006\"/>\n      </g>\n     </g>\n     <g id=\"text_13\">\n      <!-- 6 -->\n      <g transform=\"translate(20.590625 25.822319)scale(0.1 -0.1)\">\n       <defs>\n        <path d=\"M 16.5 36.375 \nQ 23.578125 46.578125 34.90625 46.578125 \nQ 45.40625 46.578125 51.8125 39.265625 \nQ 57.421875 32.90625 57.421875 23.78125 \nQ 57.421875 13.8125 51.125 6.78125 \nQ 44.578125 -0.484375 34.03125 -0.484375 \nQ 21.484375 -0.484375 14.40625 9.078125 \nQ 7.515625 18.40625 7.515625 34.8125 \nQ 7.515625 53.515625 15.828125 64.203125 \nQ 23.34375 73.828125 35.5 73.828125 \nQ 49.859375 73.828125 56.390625 62.890625 \nL 49.21875 58.984375 \nQ 45.21875 66.65625 35.9375 66.65625 \nQ 17.484375 66.65625 16.109375 36.375 \nz\nM 33.453125 39.796875 \nQ 26.3125 39.796875 21.625 34.46875 \nQ 17.4375 29.6875 17.4375 24.078125 \nQ 17.4375 18.0625 21.140625 13.1875 \nQ 26.125 6.6875 33.734375 6.6875 \nQ 41.703125 6.6875 45.953125 13.1875 \nQ 48.828125 17.625 48.828125 23.484375 \nQ 48.828125 30.375 45.015625 34.8125 \nQ 40.625 39.796875 33.453125 39.796875 \nz\n\" id=\"IPAexGothic-54\"/>\n       </defs>\n       <use xlink:href=\"#IPAexGothic-54\"/>\n      </g>\n     </g>\n    </g>\n    <g id=\"text_14\">\n     <!-- 関数のコール回数 -->\n     <g transform=\"translate(14.690625 166.410625)rotate(-90)scale(0.1 -0.1)\">\n      <defs>\n       <path d=\"M 45.609375 79.109375 \nL 45.609375 51.375 \nL 15.875 51.375 \nL 15.875 -7.03125 \nL 8.890625 -7.03125 \nL 8.890625 79.109375 \nz\nM 15.875 73.578125 \nL 15.875 67.671875 \nL 39.203125 67.671875 \nL 39.203125 73.578125 \nz\nM 15.875 62.796875 \nL 15.875 56.6875 \nL 39.203125 56.6875 \nL 39.203125 62.796875 \nz\nM 90.96875 79.109375 \nL 90.96875 0.6875 \nQ 90.96875 -6.390625 82.765625 -6.390625 \nQ 77.4375 -6.390625 73 -5.71875 \nL 71.78125 1.515625 \nQ 75.640625 0.484375 80.5625 0.484375 \nQ 83.890625 0.484375 83.890625 3.8125 \nL 83.890625 51.375 \nL 53.46875 51.375 \nL 53.46875 79.109375 \nz\nM 59.859375 73.578125 \nL 59.859375 67.671875 \nL 83.890625 67.671875 \nL 83.890625 73.578125 \nz\nM 59.859375 62.796875 \nL 59.859375 56.6875 \nL 83.890625 56.6875 \nL 83.890625 62.796875 \nz\nM 37.890625 38.71875 \nQ 36.375 42.390625 33.59375 46.484375 \nL 39.984375 48.78125 \nQ 42.328125 44.78125 44.671875 38.71875 \nL 55.078125 38.71875 \nQ 58.0625 44.484375 59.46875 49.171875 \nL 66.5 47.21875 \nQ 63.8125 41.703125 61.765625 38.71875 \nL 74.46875 38.71875 \nL 74.46875 33.015625 \nL 52.984375 33.015625 \nL 52.984375 26.125 \nL 77 26.125 \nL 77 20.3125 \nL 52.59375 20.3125 \nQ 52.546875 19.734375 52.09375 17.828125 \nQ 62.75 13.484375 73.96875 6.390625 \nL 69.1875 0.53125 \nQ 60.75 6.890625 51.265625 11.921875 \nQ 51.21875 11.96875 50.640625 12.3125 \nQ 50.390625 12.453125 50.296875 12.5 \nQ 45.015625 1.5625 29.296875 -4 \nL 24.8125 1.90625 \nQ 43.265625 6.390625 45.796875 20.3125 \nL 22.90625 20.3125 \nL 22.90625 26.125 \nL 46.296875 26.125 \nL 46.296875 33.015625 \nL 25.390625 33.015625 \nL 25.390625 38.71875 \nz\n\" id=\"IPAexGothic-38306\"/>\n       <path d=\"M 17.71875 65.828125 \nL 80.71875 65.828125 \nL 80.71875 2.390625 \nL 72.703125 2.390625 \nL 72.703125 9.28125 \nL 16.609375 9.28125 \nL 16.609375 17 \nL 72.703125 17 \nL 72.703125 58.203125 \nL 17.71875 58.203125 \nz\n\" id=\"IPAexGothic-12467\"/>\n       <path d=\"M 9.1875 42 \nL 90.765625 42 \nL 90.765625 33.984375 \nL 9.1875 33.984375 \nz\n\" id=\"IPAexGothic-12540\"/>\n       <path d=\"M 5.515625 5.171875 \nQ 20.515625 15.53125 24.125 31.59375 \nQ 26.3125 41.40625 26.3125 68.703125 \nL 34.421875 68.703125 \nL 34.421875 64.890625 \nL 34.421875 64.3125 \nQ 34.421875 35.296875 30.21875 23.296875 \nQ 25.296875 9.1875 11.625 -0.59375 \nz\nM 48.828125 72.90625 \nL 57.03125 72.90625 \nL 57.03125 12.015625 \nQ 76.171875 23.25 88.625 42.71875 \nL 93.75 35.59375 \nQ 79.296875 15.09375 54.9375 0.984375 \nL 48.828125 5.609375 \nz\n\" id=\"IPAexGothic-12523\"/>\n       <path d=\"M 70.609375 56.984375 \nL 70.609375 18.40625 \nL 29.296875 18.40625 \nL 29.296875 56.984375 \nz\nM 36.375 50.78125 \nL 36.375 24.609375 \nL 63.53125 24.609375 \nL 63.53125 50.78125 \nz\nM 89.40625 76.421875 \nL 89.40625 -7.125 \nL 81.984375 -7.125 \nL 81.984375 -1.609375 \nL 17.921875 -1.609375 \nL 17.921875 -7.125 \nL 10.5 -7.125 \nL 10.5 76.421875 \nz\nM 17.921875 69.921875 \nL 17.921875 4.890625 \nL 81.984375 4.890625 \nL 81.984375 69.921875 \nz\n\" id=\"IPAexGothic-22238\"/>\n      </defs>\n      <use xlink:href=\"#IPAexGothic-38306\"/>\n      <use x=\"100\" xlink:href=\"#IPAexGothic-25968\"/>\n      <use x=\"200\" xlink:href=\"#IPAexGothic-12398\"/>\n      <use x=\"300\" xlink:href=\"#IPAexGothic-12467\"/>\n      <use x=\"400\" xlink:href=\"#IPAexGothic-12540\"/>\n      <use x=\"500\" xlink:href=\"#IPAexGothic-12523\"/>\n      <use x=\"600\" xlink:href=\"#IPAexGothic-22238\"/>\n      <use x=\"700\" xlink:href=\"#IPAexGothic-25968\"/>\n     </g>\n    </g>\n    <g id=\"text_15\">\n     <!-- 1e6 -->\n     <g transform=\"translate(33.889062 14.690625)scale(0.1 -0.1)\">\n      <defs>\n       <path d=\"M 13.484375 24.90625 \nQ 13.921875 16.265625 18.890625 11.28125 \nQ 23.96875 6.203125 31.203125 6.203125 \nQ 40.71875 6.203125 46.296875 15.09375 \nL 51.90625 11.375 \nQ 44.828125 -0.484375 30.171875 -0.484375 \nQ 19.09375 -0.484375 11.96875 6.59375 \nQ 4.78125 13.8125 4.78125 25.640625 \nQ 4.78125 38.1875 12.3125 45.703125 \nQ 19 52.390625 29 52.390625 \nQ 38.421875 52.390625 44.78125 46.1875 \nQ 51.90625 38.96875 51.90625 26.90625 \nL 51.90625 24.90625 \nz\nM 43.0625 31.203125 \nQ 42.328125 37.984375 38.28125 41.890625 \nQ 34.28125 45.90625 28.8125 45.90625 \nQ 22.46875 45.90625 17.96875 40.484375 \nQ 14.890625 36.8125 13.96875 31.203125 \nz\n\" id=\"IPAexGothic-101\"/>\n      </defs>\n      <use xlink:href=\"#IPAexGothic-49\"/>\n      <use x=\"62.988281\" xlink:href=\"#IPAexGothic-101\"/>\n      <use x=\"119.873047\" xlink:href=\"#IPAexGothic-54\"/>\n     </g>\n    </g>\n   </g>\n   <g id=\"line2d_13\">\n    <path clip-path=\"url(#p407f9bfbe7)\" d=\"M 49.107244 225.246989 \nL 49.286854 203.31664 \nL 49.896081 184.92131 \nL 50.46419 176.624021 \nL 51.191166 169.420585 \nL 51.922502 164.012034 \nL 52.953519 158.072704 \nL 54.297783 152.03727 \nL 55.58401 147.361826 \nL 57.301904 142.181882 \nL 59.216086 137.368728 \nL 61.080787 133.351428 \nL 62.709971 130.241569 \nL 64.685859 126.855484 \nL 67.129654 123.123695 \nL 69.210617 120.260003 \nL 72.295553 116.432398 \nL 75.216085 113.175901 \nL 78.764015 109.599479 \nL 81.816507 106.793144 \nL 86.394256 102.962592 \nL 90.777585 99.640536 \nL 95.202349 96.56593 \nL 100.299803 93.310499 \nL 105.418224 90.298919 \nL 111.260405 87.124319 \nL 117.387734 84.047556 \nL 124.341893 80.818643 \nL 131.858343 77.593016 \nL 139.253632 74.645897 \nL 149.047091 71.034104 \nL 158.313294 67.874796 \nL 168.721255 64.578268 \nL 179.244427 61.476276 \nL 191.207699 58.190299 \nL 203.558768 55.027749 \nL 217.116599 51.786574 \nL 231.805713 48.508596 \nL 247.461358 45.24478 \nL 264.338345 41.95494 \nL 282.493581 38.644188 \nL 302.204444 35.280805 \nL 323.137828 31.936309 \nL 345.693364 28.559444 \nL 352.553139 27.574261 \nL 352.553139 27.574261 \n\" style=\"fill:none;stroke:#ff0000;stroke-linecap:square;stroke-width:1.5;\"/>\n   </g>\n   <g id=\"patch_3\">\n    <path d=\"M 33.889062 235.130625 \nL 33.889062 17.690625 \n\" style=\"fill:none;stroke:#000000;stroke-linecap:square;stroke-linejoin:miter;stroke-width:0.8;\"/>\n   </g>\n   <g id=\"patch_4\">\n    <path d=\"M 368.689063 235.130625 \nL 368.689063 17.690625 \n\" style=\"fill:none;stroke:#000000;stroke-linecap:square;stroke-linejoin:miter;stroke-width:0.8;\"/>\n   </g>\n   <g id=\"patch_5\">\n    <path d=\"M 33.889062 235.130625 \nL 368.689062 235.130625 \n\" style=\"fill:none;stroke:#000000;stroke-linecap:square;stroke-linejoin:miter;stroke-width:0.8;\"/>\n   </g>\n   <g id=\"patch_6\">\n    <path d=\"M 33.889062 17.690625 \nL 368.689062 17.690625 \n\" style=\"fill:none;stroke:#000000;stroke-linecap:square;stroke-linejoin:miter;stroke-width:0.8;\"/>\n   </g>\n  </g>\n </g>\n <defs>\n  <clipPath id=\"p407f9bfbe7\">\n   <rect height=\"217.44\" width=\"334.8\" x=\"33.889062\" y=\"17.690625\"/>\n  </clipPath>\n </defs>\n</svg>\n",
      "image/png": "[encoded data removed]"
     },
     "metadata": {
      "needs_background": "light"
     }
    }
   ],
   "source": [
    "cg_icnvrt_lr.plot_graph()"
   ]
  },
  {
   "cell_type": "code",
   "execution_count": 7,
   "metadata": {},
   "outputs": [
    {
     "output_type": "execute_result",
     "data": {
      "text/plain": [
       "3"
      ]
     },
     "metadata": {},
     "execution_count": 7
    }
   ],
   "source": [
    "max_in_y = max(y)\n",
    "# 最大値の個数を取得\n",
    "y.tolist().count(max_in_y)\n",
    "# 最大値のインデックスで最小のもの\n",
    "y.tolist().index(max_in_y)"
   ]
  },
  {
   "cell_type": "code",
   "execution_count": 8,
   "metadata": {},
   "outputs": [],
   "source": [
    "class ModelBranch(ModelBase):\n",
    "    \n",
    "    def calc_lr(self):\n",
    "        # 後述する t を算出するための処理\n",
    "        max_in_train_y = max(self.train_y)\n",
    "        max_in_train_y_first_index = self.train_y.tolist().index(max_in_train_y)\n",
    "        # 分岐点のインデックスを t とする\n",
    "        t = max_in_train_y_first_index\n",
    "        self.t = t\n",
    "        if(self.t == 0 or self.t == len(self.train_y) - 1):\n",
    "            self.lr = LinearRegression()\n",
    "            self.lr.fit(self.train_x, self.train_y)\n",
    "        else:\n",
    "            x_train_1 = self.train_x[:t]\n",
    "            x_train_2 = self.train_x[t:]\n",
    "            y_train_1 = self.train_y[:t]\n",
    "            y_train_2 = self.train_y[t:]\n",
    "            self.lr1 = LinearRegression()\n",
    "            self.lr1.fit(x_train_1, y_train_1)\n",
    "            self.lr2 = LinearRegression()\n",
    "            self.lr2.fit(x_train_2, y_train_2)\n",
    "        \n",
    "    def calc_mape_score(self):\n",
    "        if(self.t == 0 or self.t == len(self.train_y) - 1):\n",
    "            test_y_predicted = self.lr.predict(self.test_x)\n",
    "            self.mape_score = float(mape_score(self.test_y, test_y_predicted))\n",
    "        else:\n",
    "            x_test = self.test_x\n",
    "            y_test = self.test_y\n",
    "            y_test_predicted = self.lr2.predict(x_test)\n",
    "            self.mape_score = float(mape_score(y_test, y_test_predicted))\n",
    "        \n",
    "    def plot_graph(self):\n",
    "        plt.figure()\n",
    "        plt.scatter(self.raw_x, self.raw_y)\n",
    "\n",
    "        if(self.t == 0 or self.t == len(self.train_y) - 1):\n",
    "            y_model_line = self.lr.predict(x_model_line)\n",
    "            plt.plot(self.x_model_line, y_model_line, color=\"red\")\n",
    "        else:\n",
    "            # 回帰曲線を二つのモデルで分割するための処理\n",
    "            x_model_line = self.x_model_line\n",
    "            t_in_model_line = 0\n",
    "            for i in range(len(x_model_line)):\n",
    "                if (self.train_x[self.t] < x_model_line[i]):\n",
    "                    t_in_model_line = i\n",
    "                    break\n",
    "                else:\n",
    "                    t_in_model_line = i\n",
    "            \n",
    "            x_model_line1 = self.x_model_line[:t_in_model_line]\n",
    "            x_model_line2 = self.x_model_line[t_in_model_line:]\n",
    "            y_model_line1 = self.lr1.predict(x_model_line1)\n",
    "            y_model_line2 = self.lr2.predict(x_model_line2)\n",
    "\n",
    "            plt.plot(x_model_line1, y_model_line1, color=\"red\")\n",
    "            plt.plot(x_model_line2, y_model_line2, color=\"red\")\n",
    "    #         plt.plot(self.test_x, self.test_y, color=\"yellow\")\n",
    "        plt.xlabel(self.xlabel)\n",
    "        plt.ylabel(self.ylabel)\n",
    "        "
   ]
  },
  {
   "cell_type": "code",
   "execution_count": 9,
   "metadata": {},
   "outputs": [
    {
     "output_type": "stream",
     "name": "stdout",
     "text": [
      "0.0\n"
     ]
    },
    {
     "output_type": "display_data",
     "data": {
      "text/plain": "<Figure size 432x288 with 1 Axes>",
      "image/svg+xml": "<?xml version=\"1.0\" encoding=\"utf-8\" standalone=\"no\"?>\n<!DOCTYPE svg PUBLIC \"-//W3C//DTD SVG 1.1//EN\"\n  \"http://www.w3.org/Graphics/SVG/1.1/DTD/svg11.dtd\">\n<!-- Created with matplotlib (https://matplotlib.org/) -->\n<svg height=\"272.111875pt\" version=\"1.1\" viewBox=\"0 0 384.829687 272.111875\" width=\"384.829687pt\" xmlns=\"http://www.w3.org/2000/svg\" xmlns:xlink=\"http://www.w3.org/1999/xlink\">\n <metadata>\n  <rdf:RDF xmlns:cc=\"http://creativecommons.org/ns#\" xmlns:dc=\"http://purl.org/dc/elements/1.1/\" xmlns:rdf=\"http://www.w3.org/1999/02/22-rdf-syntax-ns#\">\n   <cc:Work>\n    <dc:type rdf:resource=\"http://purl.org/dc/dcmitype/StillImage\"/>\n    <dc:date>2020-12-22T13:26:28.898329</dc:date>\n    <dc:format>image/svg+xml</dc:format>\n    <dc:creator>\n     <cc:Agent>\n      <dc:title>Matplotlib v3.3.2, https://matplotlib.org/</dc:title>\n     </cc:Agent>\n    </dc:creator>\n   </cc:Work>\n  </rdf:RDF>\n </metadata>\n <defs>\n  <style type=\"text/css\">*{stroke-linecap:butt;stroke-linejoin:round;}</style>\n </defs>\n <g id=\"figure_1\">\n  <g id=\"patch_1\">\n   <path d=\"M 0 272.111875 \nL 384.829687 272.111875 \nL 384.829687 0 \nL 0 0 \nz\n\" style=\"fill:none;\"/>\n  </g>\n  <g id=\"axes_1\">\n   <g id=\"patch_2\">\n    <path d=\"M 42.829688 235.130625 \nL 377.629688 235.130625 \nL 377.629688 17.690625 \nL 42.829688 17.690625 \nz\n\" style=\"fill:#ffffff;\"/>\n   </g>\n   <g id=\"PathCollection_1\">\n    <defs>\n     <path d=\"M 0 3 \nC 0.795609 3 1.55874 2.683901 2.12132 2.12132 \nC 2.683901 1.55874 3 0.795609 3 0 \nC 3 -0.795609 2.683901 -1.55874 2.12132 -2.12132 \nC 1.55874 -2.683901 0.795609 -3 0 -3 \nC -0.795609 -3 -1.55874 -2.683901 -2.12132 -2.12132 \nC -2.683901 -1.55874 -3 -0.795609 -3 0 \nC -3 0.795609 -2.683901 1.55874 -2.12132 2.12132 \nC -1.55874 2.683901 -0.795609 3 0 3 \nz\n\" id=\"md497c66ad7\" style=\"stroke:#1f77b4;\"/>\n    </defs>\n    <g clip-path=\"url(#pd3cd933a20)\">\n     <use style=\"fill:#1f77b4;stroke:#1f77b4;\" x=\"58.74796\" xlink:href=\"#md497c66ad7\" y=\"209.931783\"/>\n     <use style=\"fill:#1f77b4;stroke:#1f77b4;\" x=\"59.938798\" xlink:href=\"#md497c66ad7\" y=\"183.880441\"/>\n     <use style=\"fill:#1f77b4;stroke:#1f77b4;\" x=\"62.320473\" xlink:href=\"#md497c66ad7\" y=\"131.778693\"/>\n     <use style=\"fill:#1f77b4;stroke:#1f77b4;\" x=\"67.083822\" xlink:href=\"#md497c66ad7\" y=\"27.574261\"/>\n     <use style=\"fill:#1f77b4;stroke:#1f77b4;\" x=\"76.610522\" xlink:href=\"#md497c66ad7\" y=\"27.574261\"/>\n     <use style=\"fill:#1f77b4;stroke:#1f77b4;\" x=\"95.663921\" xlink:href=\"#md497c66ad7\" y=\"27.574261\"/>\n     <use style=\"fill:#1f77b4;stroke:#1f77b4;\" x=\"133.770719\" xlink:href=\"#md497c66ad7\" y=\"27.574261\"/>\n     <use style=\"fill:#1f77b4;stroke:#1f77b4;\" x=\"209.984314\" xlink:href=\"#md497c66ad7\" y=\"27.574261\"/>\n     <use style=\"fill:#1f77b4;stroke:#1f77b4;\" x=\"362.411506\" xlink:href=\"#md497c66ad7\" y=\"27.574261\"/>\n    </g>\n   </g>\n   <g id=\"matplotlib.axis_1\">\n    <g id=\"xtick_1\">\n     <g id=\"line2d_1\">\n      <defs>\n       <path d=\"M 0 0 \nL 0 3.5 \n\" id=\"m27412e18fe\" style=\"stroke:#000000;stroke-width:0.8;\"/>\n      </defs>\n      <g>\n       <use style=\"stroke:#000000;stroke-width:0.8;\" x=\"57.557123\" xlink:href=\"#m27412e18fe\" y=\"235.130625\"/>\n      </g>\n     </g>\n     <g id=\"text_1\">\n      <!-- 0 -->\n      <g transform=\"translate(54.407904 249.62125)scale(0.1 -0.1)\">\n       <defs>\n        <path d=\"M 31.84375 73.828125 \nQ 45.015625 73.828125 52.09375 61.625 \nQ 57.71875 51.953125 57.71875 36.625 \nQ 57.71875 21.4375 52.09375 11.578125 \nQ 45.125 -0.484375 31.5 -0.484375 \nQ 17.921875 -0.484375 10.9375 11.578125 \nQ 5.328125 21.4375 5.328125 36.71875 \nQ 5.328125 58.015625 15.625 67.71875 \nQ 22.171875 73.828125 31.84375 73.828125 \nz\nM 31.5 66.65625 \nQ 23.6875 66.65625 19.1875 58.734375 \nQ 14.59375 50.734375 14.59375 36.625 \nQ 14.59375 22.75 19.09375 14.796875 \nQ 23.640625 6.984375 31.5 6.984375 \nQ 40.921875 6.984375 45.453125 18.015625 \nQ 48.4375 25.34375 48.4375 37.109375 \nQ 48.4375 50.875 43.84375 58.734375 \nQ 39.203125 66.65625 31.5 66.65625 \nz\n\" id=\"IPAexGothic-48\"/>\n       </defs>\n       <use xlink:href=\"#IPAexGothic-48\"/>\n      </g>\n     </g>\n    </g>\n    <g id=\"xtick_2\">\n     <g id=\"line2d_2\">\n      <g>\n       <use style=\"stroke:#000000;stroke-width:0.8;\" x=\"117.098995\" xlink:href=\"#m27412e18fe\" y=\"235.130625\"/>\n      </g>\n     </g>\n     <g id=\"text_2\">\n      <!-- 50 -->\n      <g transform=\"translate(110.800557 249.62125)scale(0.1 -0.1)\">\n       <defs>\n        <path d=\"M 18.40625 40.671875 \nQ 25.53125 46.296875 33.9375 46.296875 \nQ 44 46.296875 50.640625 39.5 \nQ 56.84375 33.015625 56.84375 23.390625 \nQ 56.84375 14.65625 51.515625 8.015625 \nQ 44.828125 -0.484375 31.734375 -0.484375 \nQ 14.984375 -0.484375 7.328125 12.25 \nL 14.65625 16.0625 \nQ 20.453125 6.78125 31.453125 6.78125 \nQ 38.53125 6.78125 43.265625 11.1875 \nQ 48.140625 15.828125 48.140625 23.484375 \nQ 48.140625 30.71875 43.84375 35.015625 \nQ 39.359375 39.5 32.125 39.5 \nQ 21.96875 39.5 16.75 31.6875 \nL 9.234375 32.671875 \nL 13.8125 72.40625 \nL 53.21875 72.40625 \nL 53.21875 64.890625 \nL 20.953125 64.890625 \nL 17.71875 40.671875 \nz\n\" id=\"IPAexGothic-53\"/>\n       </defs>\n       <use xlink:href=\"#IPAexGothic-53\"/>\n       <use x=\"62.988281\" xlink:href=\"#IPAexGothic-48\"/>\n      </g>\n     </g>\n    </g>\n    <g id=\"xtick_3\">\n     <g id=\"line2d_3\">\n      <g>\n       <use style=\"stroke:#000000;stroke-width:0.8;\" x=\"176.640866\" xlink:href=\"#m27412e18fe\" y=\"235.130625\"/>\n      </g>\n     </g>\n     <g id=\"text_3\">\n      <!-- 100 -->\n      <g transform=\"translate(167.19321 249.62125)scale(0.1 -0.1)\">\n       <defs>\n        <path d=\"M 38.484375 0.984375 \nL 29.6875 0.984375 \nL 29.6875 64.109375 \nQ 21.4375 61.28125 12.3125 59.328125 \nL 10.6875 66.109375 \nQ 23.734375 69.390625 32.90625 73.921875 \nL 38.484375 73.921875 \nz\n\" id=\"IPAexGothic-49\"/>\n       </defs>\n       <use xlink:href=\"#IPAexGothic-49\"/>\n       <use x=\"62.988281\" xlink:href=\"#IPAexGothic-48\"/>\n       <use x=\"125.976562\" xlink:href=\"#IPAexGothic-48\"/>\n      </g>\n     </g>\n    </g>\n    <g id=\"xtick_4\">\n     <g id=\"line2d_4\">\n      <g>\n       <use style=\"stroke:#000000;stroke-width:0.8;\" x=\"236.182738\" xlink:href=\"#m27412e18fe\" y=\"235.130625\"/>\n      </g>\n     </g>\n     <g id=\"text_4\">\n      <!-- 150 -->\n      <g transform=\"translate(226.735082 249.62125)scale(0.1 -0.1)\">\n       <use xlink:href=\"#IPAexGothic-49\"/>\n       <use x=\"62.988281\" xlink:href=\"#IPAexGothic-53\"/>\n       <use x=\"125.976562\" xlink:href=\"#IPAexGothic-48\"/>\n      </g>\n     </g>\n    </g>\n    <g id=\"xtick_5\">\n     <g id=\"line2d_5\">\n      <g>\n       <use style=\"stroke:#000000;stroke-width:0.8;\" x=\"295.724609\" xlink:href=\"#m27412e18fe\" y=\"235.130625\"/>\n      </g>\n     </g>\n     <g id=\"text_5\">\n      <!-- 200 -->\n      <g transform=\"translate(286.276953 249.62125)scale(0.1 -0.1)\">\n       <defs>\n        <path d=\"M 57.171875 0.984375 \nL 6.984375 0.984375 \nL 6.984375 9.28125 \nQ 12.890625 23.046875 29.59375 34.421875 \nL 32.375 36.28125 \nQ 40.921875 42.140625 43.609375 45.40625 \nQ 46.6875 49.265625 46.6875 53.8125 \nQ 46.6875 58.9375 43.0625 62.546875 \nQ 39.0625 66.546875 32.5625 66.546875 \nQ 19.53125 66.546875 15.484375 52 \nL 7.765625 54.78125 \nQ 13.328125 73.828125 33.0625 73.828125 \nQ 43.84375 73.828125 50.25 67.4375 \nQ 55.859375 61.671875 55.859375 53.515625 \nQ 55.859375 47.46875 52.25 42.53125 \nQ 48.921875 37.75 36.96875 30.28125 \nL 34.859375 29 \nQ 19.625 19.578125 15.28125 8.890625 \nL 57.171875 8.890625 \nz\n\" id=\"IPAexGothic-50\"/>\n       </defs>\n       <use xlink:href=\"#IPAexGothic-50\"/>\n       <use x=\"62.988281\" xlink:href=\"#IPAexGothic-48\"/>\n       <use x=\"125.976562\" xlink:href=\"#IPAexGothic-48\"/>\n      </g>\n     </g>\n    </g>\n    <g id=\"xtick_6\">\n     <g id=\"line2d_6\">\n      <g>\n       <use style=\"stroke:#000000;stroke-width:0.8;\" x=\"355.266481\" xlink:href=\"#m27412e18fe\" y=\"235.130625\"/>\n      </g>\n     </g>\n     <g id=\"text_6\">\n      <!-- 250 -->\n      <g transform=\"translate(345.818825 249.62125)scale(0.1 -0.1)\">\n       <use xlink:href=\"#IPAexGothic-50\"/>\n       <use x=\"62.988281\" xlink:href=\"#IPAexGothic-53\"/>\n       <use x=\"125.976562\" xlink:href=\"#IPAexGothic-48\"/>\n      </g>\n     </g>\n    </g>\n    <g id=\"text_7\">\n     <!-- 実行時のプロセス数 -->\n     <g transform=\"translate(165.229688 263.011875)scale(0.1 -0.1)\">\n      <defs>\n       <path d=\"M 55.078125 19.921875 \nQ 67 5.46875 94.09375 1.421875 \nL 89.65625 -5.859375 \nQ 61.765625 -0.640625 50.296875 16.40625 \nQ 42.671875 -2.25 11.375 -7.375 \nL 7.28125 -0.6875 \nQ 37.84375 2.34375 44.875 19.921875 \nL 6 19.921875 \nL 6 25.921875 \nL 46.09375 25.921875 \nL 46.09375 33.5 \nL 15.09375 33.5 \nL 15.09375 39.203125 \nL 46.09375 39.203125 \nL 46.09375 46.390625 \nL 19.78125 46.390625 \nL 19.78125 52.203125 \nL 46.09375 52.203125 \nL 46.09375 62.3125 \nL 53.171875 62.3125 \nL 53.171875 52.203125 \nL 80.078125 52.203125 \nL 80.078125 46.390625 \nL 53.171875 46.390625 \nL 53.171875 39.203125 \nL 85.0625 39.203125 \nL 85.0625 33.5 \nL 53.171875 33.5 \nL 53.171875 25.921875 \nL 94 25.921875 \nL 94 19.921875 \nz\nM 53.328125 71 \nL 90.28125 71 \nL 90.28125 51.078125 \nL 82.953125 51.078125 \nL 82.953125 64.796875 \nL 16.9375 64.796875 \nL 16.9375 51.078125 \nL 9.625 51.078125 \nL 9.625 71 \nL 45.90625 71 \nL 45.90625 83.015625 \nL 53.328125 83.015625 \nz\n\" id=\"IPAexGothic-23455\"/>\n       <path d=\"M 28.46875 43.015625 \nL 28.46875 -6.984375 \nL 21.140625 -6.984375 \nL 21.140625 33.890625 \nQ 15.09375 27.25 9.71875 22.90625 \nL 4.9375 27.984375 \nQ 20.21875 39.984375 30.765625 59.71875 \nL 37.453125 56.78125 \nQ 32.953125 49.03125 28.46875 43.015625 \nz\nM 77.734375 43.796875 \nL 77.734375 1.609375 \nQ 77.734375 -6.109375 68.265625 -6.109375 \nQ 61.328125 -6.109375 52.4375 -5.328125 \nL 51.375 2.484375 \nQ 58.984375 1.21875 66.546875 1.21875 \nQ 70.5625 1.21875 70.5625 4.984375 \nL 70.5625 43.796875 \nL 37.25 43.796875 \nL 37.25 50.390625 \nL 93.953125 50.390625 \nL 93.953125 43.796875 \nz\nM 6 57.671875 \nQ 19.234375 66.5 27.4375 79.296875 \nL 33.5 75.78125 \nQ 24.078125 61.671875 10.40625 52.296875 \nz\nM 42.328125 74.90625 \nL 88.421875 74.90625 \nL 88.421875 68.40625 \nL 42.328125 68.40625 \nz\n\" id=\"IPAexGothic-34892\"/>\n       <path d=\"M 36.375 73.875 \nL 36.375 8.796875 \nL 14.59375 8.796875 \nL 14.59375 0.875 \nL 8.109375 0.875 \nL 8.109375 73.875 \nz\nM 14.59375 67.671875 \nL 14.59375 45.015625 \nL 29.78125 45.015625 \nL 29.78125 67.671875 \nz\nM 14.59375 39.015625 \nL 14.59375 14.890625 \nL 29.78125 14.890625 \nL 29.78125 39.015625 \nz\nM 61.53125 68.3125 \nL 61.53125 83.015625 \nL 68.40625 83.015625 \nL 68.40625 68.3125 \nL 90.1875 68.3125 \nL 90.1875 62.203125 \nL 68.40625 62.203125 \nL 68.40625 49.90625 \nL 94.875 49.90625 \nL 94.875 43.796875 \nL 81.296875 43.796875 \nL 81.296875 31.984375 \nL 93.109375 31.984375 \nL 93.109375 25.78125 \nL 81.5 25.78125 \nL 81.5 0.484375 \nQ 81.5 -6.984375 73.296875 -6.984375 \nQ 68.65625 -6.984375 60.75 -6.109375 \nL 59.125 1.21875 \nQ 66.75 0 71.734375 0 \nQ 74.609375 0 74.609375 2.6875 \nL 74.609375 25.78125 \nL 40.328125 25.78125 \nL 40.328125 31.984375 \nL 74.421875 31.984375 \nL 74.421875 43.796875 \nL 39.65625 43.796875 \nL 39.65625 49.90625 \nL 61.53125 49.90625 \nL 61.53125 62.203125 \nL 42.4375 62.203125 \nL 42.4375 68.3125 \nz\nM 57.328125 6 \nQ 52.046875 14.84375 46.1875 20.703125 \nL 51.421875 24.609375 \nQ 58.109375 17.921875 62.890625 10.296875 \nz\n\" id=\"IPAexGothic-26178\"/>\n       <path d=\"M 48.734375 7.328125 \nQ 82.421875 11.96875 82.421875 37.890625 \nQ 82.421875 53.953125 68.953125 61.328125 \nQ 63.140625 64.3125 55.421875 64.984375 \nQ 53.03125 39.453125 44.53125 21.875 \nQ 36.28125 4.78125 26.90625 4.78125 \nQ 21.625 4.78125 16.9375 10.40625 \nQ 9.515625 19.4375 9.515625 31.296875 \nQ 9.515625 47.265625 21.828125 59.28125 \nQ 34.125 71.296875 53.609375 71.296875 \nQ 67.28125 71.296875 77 64.40625 \nQ 90.828125 54.78125 90.828125 37.890625 \nQ 90.828125 6.84375 53.609375 0.09375 \nz\nM 47.703125 64.796875 \nQ 37.15625 63.1875 29.546875 56.890625 \nQ 17.140625 46.578125 17.140625 31.109375 \nQ 17.140625 21.34375 22.40625 15.28125 \nQ 24.703125 12.703125 26.859375 12.703125 \nQ 31.59375 12.703125 37.75 25.390625 \nQ 45.453125 41.21875 47.703125 64.796875 \nz\n\" id=\"IPAexGothic-12398\"/>\n       <path d=\"M 75.390625 66.796875 \nL 80.078125 62.5 \nQ 76.3125 37.15625 63.765625 21.578125 \nQ 51.46875 6.453125 29.5 -1.8125 \nL 23.78125 5.171875 \nQ 63.578125 17.390625 71.09375 59.421875 \nL 15.09375 58.40625 \nL 15.09375 66.015625 \nz\nM 87.453125 86.078125 \nQ 92.28125 86.078125 95.609375 82.421875 \nQ 98.484375 79.296875 98.484375 75.09375 \nQ 98.484375 70.21875 94.828125 66.890625 \nQ 91.65625 64.015625 87.453125 64.015625 \nQ 82.5625 64.015625 79.25 67.671875 \nQ 76.375 70.84375 76.375 75.09375 \nQ 76.375 79.9375 80.03125 83.25 \nQ 83.25 86.078125 87.453125 86.078125 \nz\nM 87.453125 81.6875 \nQ 84.515625 81.6875 82.46875 79.5 \nQ 80.765625 77.59375 80.765625 75.09375 \nQ 80.765625 72.125 82.953125 70.125 \nQ 84.90625 68.40625 87.453125 68.40625 \nQ 90.375 68.40625 92.390625 70.609375 \nQ 94.09375 72.515625 94.09375 75.09375 \nQ 94.09375 77.984375 91.890625 79.984375 \nQ 89.984375 81.6875 87.453125 81.6875 \nz\n\" id=\"IPAexGothic-12503\"/>\n       <path d=\"M 17.921875 66.703125 \nL 82.03125 66.703125 \nL 82.03125 2.6875 \nL 73.828125 2.6875 \nL 73.828125 8.890625 \nL 26.125 8.890625 \nL 26.125 2.6875 \nL 17.921875 2.6875 \nz\nM 26.125 59.078125 \nL 26.125 16.609375 \nL 73.828125 16.609375 \nL 73.828125 59.078125 \nz\n\" id=\"IPAexGothic-12525\"/>\n       <path d=\"M 32.171875 76.21875 \nL 40.375 76.21875 \nL 40.375 53.078125 \nL 82.671875 58.296875 \nL 87.59375 53.8125 \nQ 75.59375 36.140625 62.59375 24.3125 \nL 55.765625 29.296875 \nQ 67.140625 38.421875 75.6875 50.484375 \nL 40.375 45.796875 \nL 40.375 15.28125 \nQ 40.375 11.46875 42.78125 10.453125 \nQ 45.65625 9.125 56.5 9.125 \nQ 69.046875 9.125 84.765625 10.890625 \nL 85.0625 2.6875 \nQ 71.296875 1.609375 60.0625 1.609375 \nQ 41.84375 1.609375 36.859375 4 \nQ 32.171875 6.296875 32.171875 13.484375 \nL 32.171875 44.671875 \nL 9.96875 41.796875 \nL 9.1875 49.21875 \nL 32.171875 52.09375 \nz\n\" id=\"IPAexGothic-12475\"/>\n       <path d=\"M 68.109375 70.015625 \nL 73.6875 64.796875 \nQ 67.625 48 56.984375 33.59375 \nQ 72.796875 22.40625 88.421875 7.078125 \nL 81.78125 0.296875 \nQ 66.5 17 52.390625 27.78125 \nQ 37.0625 9.328125 16.3125 -0.484375 \nL 10.203125 6.296875 \nQ 48.875 22.703125 64.015625 62.5 \nL 19.390625 61.921875 \nL 19.1875 69.578125 \nz\n\" id=\"IPAexGothic-12473\"/>\n       <path d=\"M 44.484375 24.265625 \nQ 42.828125 15.71875 37.890625 8.34375 \nQ 41.015625 6.890625 48.296875 3.171875 \nL 43.890625 -2.9375 \nQ 39.703125 0 33.5 3.265625 \nQ 24.515625 -4.546875 10.984375 -7.8125 \nL 6.59375 -1.953125 \nQ 19.734375 0.296875 27.296875 6.34375 \nQ 19.09375 10.15625 11.46875 12.75 \nQ 15.234375 18.3125 17.921875 23.484375 \nL 18.3125 24.265625 \nL 5.609375 24.265625 \nL 5.609375 30.078125 \nL 21 30.078125 \nQ 21.96875 32.28125 24.515625 38.671875 \nL 26.421875 38.28125 \nL 26.421875 52.6875 \nQ 19.53125 42.78125 8.59375 35.984375 \nL 4.296875 41.609375 \nQ 15.921875 47.078125 23.875 56.890625 \nL 5.90625 56.890625 \nL 5.90625 62.59375 \nL 26.421875 62.59375 \nL 26.421875 83.015625 \nL 33.015625 83.015625 \nL 33.015625 62.59375 \nL 51.515625 62.59375 \nL 51.515625 56.890625 \nL 33.015625 56.890625 \nL 33.015625 54.890625 \nQ 41.546875 51.421875 49.609375 46.296875 \nL 46.1875 40.375 \nQ 39.890625 45.65625 33.015625 49.359375 \nL 33.015625 37.0625 \nL 30.71875 37.0625 \nQ 30.125 35.75 29.25 33.453125 \nQ 28.21875 30.859375 27.875 30.078125 \nL 52.78125 30.078125 \nL 52.78125 24.265625 \nz\nM 37.796875 24.265625 \nL 25.203125 24.265625 \nQ 23.09375 19.828125 20.515625 15.578125 \nQ 24.359375 14.203125 31.984375 10.984375 \nQ 36.140625 16.359375 37.796875 24.265625 \nz\nM 68.171875 18.171875 \nQ 61.765625 27.828125 58.40625 41.21875 \nQ 55.859375 35.640625 53.5625 31.5 \nL 48.484375 37.59375 \nQ 57.421875 53.8125 61.1875 82.671875 \nL 68.171875 81.25 \nQ 66.9375 72.90625 65.578125 65.578125 \nL 93.890625 65.578125 \nL 93.890625 58.984375 \nL 85.984375 58.984375 \nQ 84.328125 35.546875 76.078125 18.609375 \nQ 84.671875 7.859375 96 1.171875 \nL 90.96875 -5.90625 \nQ 81.0625 1.65625 72.359375 12.3125 \nQ 64.265625 0.53125 52.203125 -7.234375 \nL 47.359375 -1.21875 \nQ 60.75 6.34375 68.171875 18.171875 \nz\nM 71.6875 24.90625 \nQ 77.15625 37.3125 79.046875 58.984375 \nL 64.0625 58.984375 \nQ 63.140625 54.984375 62.0625 51.375 \nQ 62.203125 50.78125 62.359375 49.90625 \nQ 65.234375 35.25 71.6875 24.90625 \nz\nM 15.671875 64.3125 \nQ 13.71875 71 9.96875 77.09375 \nL 16.453125 79.59375 \nQ 19.484375 74.8125 22.46875 66.703125 \nz\nM 36.1875 66.703125 \nQ 39.84375 73.25 42 80.171875 \nL 48.875 78.078125 \nQ 46.34375 71.6875 41.796875 64.5 \nz\n\" id=\"IPAexGothic-25968\"/>\n      </defs>\n      <use xlink:href=\"#IPAexGothic-23455\"/>\n      <use x=\"100\" xlink:href=\"#IPAexGothic-34892\"/>\n      <use x=\"200\" xlink:href=\"#IPAexGothic-26178\"/>\n      <use x=\"300\" xlink:href=\"#IPAexGothic-12398\"/>\n      <use x=\"400\" xlink:href=\"#IPAexGothic-12503\"/>\n      <use x=\"500\" xlink:href=\"#IPAexGothic-12525\"/>\n      <use x=\"600\" xlink:href=\"#IPAexGothic-12475\"/>\n      <use x=\"700\" xlink:href=\"#IPAexGothic-12473\"/>\n      <use x=\"800\" xlink:href=\"#IPAexGothic-25968\"/>\n     </g>\n    </g>\n   </g>\n   <g id=\"matplotlib.axis_2\">\n    <g id=\"ytick_1\">\n     <g id=\"line2d_7\">\n      <defs>\n       <path d=\"M 0 0 \nL -3.5 0 \n\" id=\"mb06a9b8a74\" style=\"stroke:#000000;stroke-width:0.8;\"/>\n      </defs>\n      <g>\n       <use style=\"stroke:#000000;stroke-width:0.8;\" x=\"42.829688\" xlink:href=\"#mb06a9b8a74\" y=\"208.508524\"/>\n      </g>\n     </g>\n     <g id=\"text_8\">\n      <!-- 2.0 -->\n      <g transform=\"translate(20.590625 212.253836)scale(0.1 -0.1)\">\n       <defs>\n        <path d=\"M 18.5 0.984375 \nL 7.71875 0.984375 \nL 7.71875 11.765625 \nL 18.5 11.765625 \nz\n\" id=\"IPAexGothic-46\"/>\n       </defs>\n       <use xlink:href=\"#IPAexGothic-50\"/>\n       <use x=\"62.988281\" xlink:href=\"#IPAexGothic-46\"/>\n       <use x=\"89.404297\" xlink:href=\"#IPAexGothic-48\"/>\n      </g>\n     </g>\n    </g>\n    <g id=\"ytick_2\">\n     <g id=\"line2d_8\">\n      <g>\n       <use style=\"stroke:#000000;stroke-width:0.8;\" x=\"42.829688\" xlink:href=\"#mb06a9b8a74\" y=\"161.783013\"/>\n      </g>\n     </g>\n     <g id=\"text_9\">\n      <!-- 2.5 -->\n      <g transform=\"translate(20.590625 165.528325)scale(0.1 -0.1)\">\n       <use xlink:href=\"#IPAexGothic-50\"/>\n       <use x=\"62.988281\" xlink:href=\"#IPAexGothic-46\"/>\n       <use x=\"89.404297\" xlink:href=\"#IPAexGothic-53\"/>\n      </g>\n     </g>\n    </g>\n    <g id=\"ytick_3\">\n     <g id=\"line2d_9\">\n      <g>\n       <use style=\"stroke:#000000;stroke-width:0.8;\" x=\"42.829688\" xlink:href=\"#mb06a9b8a74\" y=\"115.057501\"/>\n      </g>\n     </g>\n     <g id=\"text_10\">\n      <!-- 3.0 -->\n      <g transform=\"translate(20.590625 118.802814)scale(0.1 -0.1)\">\n       <defs>\n        <path d=\"M 37.203125 37.796875 \nQ 54.78125 34.625 54.78125 19.96875 \nQ 54.78125 11.1875 48.875 5.5625 \nQ 42.328125 -0.484375 30.375 -0.484375 \nQ 12.453125 -0.484375 4.5 13.765625 \nL 11.8125 17.671875 \nQ 17.328125 6.890625 30.28125 6.890625 \nQ 37.890625 6.890625 42.09375 10.796875 \nQ 46.09375 14.5 46.09375 20.171875 \nQ 46.09375 26.859375 40.09375 30.90625 \nQ 34.625 34.578125 25.6875 34.578125 \nL 21.296875 34.578125 \nL 21.296875 41.703125 \nL 25.875 41.703125 \nQ 34.859375 41.703125 39.59375 45.125 \nQ 44.671875 48.734375 44.671875 54.828125 \nQ 44.671875 61.46875 38.96875 64.65625 \nQ 35.296875 66.84375 30.171875 66.84375 \nQ 19.34375 66.84375 14.109375 55.90625 \nL 6.78125 59.421875 \nQ 14.015625 73.828125 30.28125 73.828125 \nQ 40.578125 73.828125 46.96875 68.65625 \nQ 53.375 63.578125 53.375 55.21875 \nQ 53.375 47.3125 47.171875 42.28125 \nQ 43.171875 39.0625 37.203125 38.1875 \nz\n\" id=\"IPAexGothic-51\"/>\n       </defs>\n       <use xlink:href=\"#IPAexGothic-51\"/>\n       <use x=\"62.988281\" xlink:href=\"#IPAexGothic-46\"/>\n       <use x=\"89.404297\" xlink:href=\"#IPAexGothic-48\"/>\n      </g>\n     </g>\n    </g>\n    <g id=\"ytick_4\">\n     <g id=\"line2d_10\">\n      <g>\n       <use style=\"stroke:#000000;stroke-width:0.8;\" x=\"42.829688\" xlink:href=\"#mb06a9b8a74\" y=\"68.33199\"/>\n      </g>\n     </g>\n     <g id=\"text_11\">\n      <!-- 3.5 -->\n      <g transform=\"translate(20.590625 72.077303)scale(0.1 -0.1)\">\n       <use xlink:href=\"#IPAexGothic-51\"/>\n       <use x=\"62.988281\" xlink:href=\"#IPAexGothic-46\"/>\n       <use x=\"89.404297\" xlink:href=\"#IPAexGothic-53\"/>\n      </g>\n     </g>\n    </g>\n    <g id=\"ytick_5\">\n     <g id=\"line2d_11\">\n      <g>\n       <use style=\"stroke:#000000;stroke-width:0.8;\" x=\"42.829688\" xlink:href=\"#mb06a9b8a74\" y=\"21.606479\"/>\n      </g>\n     </g>\n     <g id=\"text_12\">\n      <!-- 4.0 -->\n      <g transform=\"translate(20.590625 25.351792)scale(0.1 -0.1)\">\n       <defs>\n        <path d=\"M 59.578125 18.109375 \nL 47.796875 18.109375 \nL 47.796875 0.984375 \nL 39.796875 0.984375 \nL 39.796875 18.109375 \nL 3.078125 18.109375 \nL 3.078125 26.125 \nL 38.375 73.09375 \nL 47.796875 73.09375 \nL 47.796875 25.53125 \nL 59.578125 25.53125 \nz\nM 40.28125 64.203125 \nL 39.984375 64.203125 \nQ 35.59375 57.125 31.296875 51.3125 \nL 11.859375 25.53125 \nL 39.796875 25.53125 \nL 39.796875 49.125 \nQ 39.796875 54.390625 40.28125 64.203125 \nz\n\" id=\"IPAexGothic-52\"/>\n       </defs>\n       <use xlink:href=\"#IPAexGothic-52\"/>\n       <use x=\"62.988281\" xlink:href=\"#IPAexGothic-46\"/>\n       <use x=\"89.404297\" xlink:href=\"#IPAexGothic-48\"/>\n      </g>\n     </g>\n    </g>\n    <g id=\"text_13\">\n     <!-- 関数のコール回数 -->\n     <g transform=\"translate(14.690625 166.410625)rotate(-90)scale(0.1 -0.1)\">\n      <defs>\n       <path d=\"M 45.609375 79.109375 \nL 45.609375 51.375 \nL 15.875 51.375 \nL 15.875 -7.03125 \nL 8.890625 -7.03125 \nL 8.890625 79.109375 \nz\nM 15.875 73.578125 \nL 15.875 67.671875 \nL 39.203125 67.671875 \nL 39.203125 73.578125 \nz\nM 15.875 62.796875 \nL 15.875 56.6875 \nL 39.203125 56.6875 \nL 39.203125 62.796875 \nz\nM 90.96875 79.109375 \nL 90.96875 0.6875 \nQ 90.96875 -6.390625 82.765625 -6.390625 \nQ 77.4375 -6.390625 73 -5.71875 \nL 71.78125 1.515625 \nQ 75.640625 0.484375 80.5625 0.484375 \nQ 83.890625 0.484375 83.890625 3.8125 \nL 83.890625 51.375 \nL 53.46875 51.375 \nL 53.46875 79.109375 \nz\nM 59.859375 73.578125 \nL 59.859375 67.671875 \nL 83.890625 67.671875 \nL 83.890625 73.578125 \nz\nM 59.859375 62.796875 \nL 59.859375 56.6875 \nL 83.890625 56.6875 \nL 83.890625 62.796875 \nz\nM 37.890625 38.71875 \nQ 36.375 42.390625 33.59375 46.484375 \nL 39.984375 48.78125 \nQ 42.328125 44.78125 44.671875 38.71875 \nL 55.078125 38.71875 \nQ 58.0625 44.484375 59.46875 49.171875 \nL 66.5 47.21875 \nQ 63.8125 41.703125 61.765625 38.71875 \nL 74.46875 38.71875 \nL 74.46875 33.015625 \nL 52.984375 33.015625 \nL 52.984375 26.125 \nL 77 26.125 \nL 77 20.3125 \nL 52.59375 20.3125 \nQ 52.546875 19.734375 52.09375 17.828125 \nQ 62.75 13.484375 73.96875 6.390625 \nL 69.1875 0.53125 \nQ 60.75 6.890625 51.265625 11.921875 \nQ 51.21875 11.96875 50.640625 12.3125 \nQ 50.390625 12.453125 50.296875 12.5 \nQ 45.015625 1.5625 29.296875 -4 \nL 24.8125 1.90625 \nQ 43.265625 6.390625 45.796875 20.3125 \nL 22.90625 20.3125 \nL 22.90625 26.125 \nL 46.296875 26.125 \nL 46.296875 33.015625 \nL 25.390625 33.015625 \nL 25.390625 38.71875 \nz\n\" id=\"IPAexGothic-38306\"/>\n       <path d=\"M 17.71875 65.828125 \nL 80.71875 65.828125 \nL 80.71875 2.390625 \nL 72.703125 2.390625 \nL 72.703125 9.28125 \nL 16.609375 9.28125 \nL 16.609375 17 \nL 72.703125 17 \nL 72.703125 58.203125 \nL 17.71875 58.203125 \nz\n\" id=\"IPAexGothic-12467\"/>\n       <path d=\"M 9.1875 42 \nL 90.765625 42 \nL 90.765625 33.984375 \nL 9.1875 33.984375 \nz\n\" id=\"IPAexGothic-12540\"/>\n       <path d=\"M 5.515625 5.171875 \nQ 20.515625 15.53125 24.125 31.59375 \nQ 26.3125 41.40625 26.3125 68.703125 \nL 34.421875 68.703125 \nL 34.421875 64.890625 \nL 34.421875 64.3125 \nQ 34.421875 35.296875 30.21875 23.296875 \nQ 25.296875 9.1875 11.625 -0.59375 \nz\nM 48.828125 72.90625 \nL 57.03125 72.90625 \nL 57.03125 12.015625 \nQ 76.171875 23.25 88.625 42.71875 \nL 93.75 35.59375 \nQ 79.296875 15.09375 54.9375 0.984375 \nL 48.828125 5.609375 \nz\n\" id=\"IPAexGothic-12523\"/>\n       <path d=\"M 70.609375 56.984375 \nL 70.609375 18.40625 \nL 29.296875 18.40625 \nL 29.296875 56.984375 \nz\nM 36.375 50.78125 \nL 36.375 24.609375 \nL 63.53125 24.609375 \nL 63.53125 50.78125 \nz\nM 89.40625 76.421875 \nL 89.40625 -7.125 \nL 81.984375 -7.125 \nL 81.984375 -1.609375 \nL 17.921875 -1.609375 \nL 17.921875 -7.125 \nL 10.5 -7.125 \nL 10.5 76.421875 \nz\nM 17.921875 69.921875 \nL 17.921875 4.890625 \nL 81.984375 4.890625 \nL 81.984375 69.921875 \nz\n\" id=\"IPAexGothic-22238\"/>\n      </defs>\n      <use xlink:href=\"#IPAexGothic-38306\"/>\n      <use x=\"100\" xlink:href=\"#IPAexGothic-25968\"/>\n      <use x=\"200\" xlink:href=\"#IPAexGothic-12398\"/>\n      <use x=\"300\" xlink:href=\"#IPAexGothic-12467\"/>\n      <use x=\"400\" xlink:href=\"#IPAexGothic-12540\"/>\n      <use x=\"500\" xlink:href=\"#IPAexGothic-12523\"/>\n      <use x=\"600\" xlink:href=\"#IPAexGothic-22238\"/>\n      <use x=\"700\" xlink:href=\"#IPAexGothic-25968\"/>\n     </g>\n    </g>\n    <g id=\"text_14\">\n     <!-- 1e6 -->\n     <g transform=\"translate(42.829688 14.690625)scale(0.1 -0.1)\">\n      <defs>\n       <path d=\"M 13.484375 24.90625 \nQ 13.921875 16.265625 18.890625 11.28125 \nQ 23.96875 6.203125 31.203125 6.203125 \nQ 40.71875 6.203125 46.296875 15.09375 \nL 51.90625 11.375 \nQ 44.828125 -0.484375 30.171875 -0.484375 \nQ 19.09375 -0.484375 11.96875 6.59375 \nQ 4.78125 13.8125 4.78125 25.640625 \nQ 4.78125 38.1875 12.3125 45.703125 \nQ 19 52.390625 29 52.390625 \nQ 38.421875 52.390625 44.78125 46.1875 \nQ 51.90625 38.96875 51.90625 26.90625 \nL 51.90625 24.90625 \nz\nM 43.0625 31.203125 \nQ 42.328125 37.984375 38.28125 41.890625 \nQ 34.28125 45.90625 28.8125 45.90625 \nQ 22.46875 45.90625 17.96875 40.484375 \nQ 14.890625 36.8125 13.96875 31.203125 \nz\n\" id=\"IPAexGothic-101\"/>\n       <path d=\"M 16.5 36.375 \nQ 23.578125 46.578125 34.90625 46.578125 \nQ 45.40625 46.578125 51.8125 39.265625 \nQ 57.421875 32.90625 57.421875 23.78125 \nQ 57.421875 13.8125 51.125 6.78125 \nQ 44.578125 -0.484375 34.03125 -0.484375 \nQ 21.484375 -0.484375 14.40625 9.078125 \nQ 7.515625 18.40625 7.515625 34.8125 \nQ 7.515625 53.515625 15.828125 64.203125 \nQ 23.34375 73.828125 35.5 73.828125 \nQ 49.859375 73.828125 56.390625 62.890625 \nL 49.21875 58.984375 \nQ 45.21875 66.65625 35.9375 66.65625 \nQ 17.484375 66.65625 16.109375 36.375 \nz\nM 33.453125 39.796875 \nQ 26.3125 39.796875 21.625 34.46875 \nQ 17.4375 29.6875 17.4375 24.078125 \nQ 17.4375 18.0625 21.140625 13.1875 \nQ 26.125 6.6875 33.734375 6.6875 \nQ 41.703125 6.6875 45.953125 13.1875 \nQ 48.828125 17.625 48.828125 23.484375 \nQ 48.828125 30.375 45.015625 34.8125 \nQ 40.625 39.796875 33.453125 39.796875 \nz\n\" id=\"IPAexGothic-54\"/>\n      </defs>\n      <use xlink:href=\"#IPAexGothic-49\"/>\n      <use x=\"62.988281\" xlink:href=\"#IPAexGothic-101\"/>\n      <use x=\"119.873047\" xlink:href=\"#IPAexGothic-54\"/>\n     </g>\n    </g>\n   </g>\n   <g id=\"line2d_12\">\n    <path clip-path=\"url(#pd3cd933a20)\" d=\"M 58.047869 225.246989 \nL 58.289523 219.960522 \nL 58.318399 219.328827 \nL 58.581272 213.578162 \nL 58.667697 211.687499 \nL 59.166538 200.774768 \nL 59.193497 200.184994 \nL 59.238358 199.203605 \nL 59.248003 198.992612 \nL 59.430191 195.007031 \nL 59.865898 185.475415 \nL 59.997758 182.590826 \nL 60.01841 182.139031 \nL 60.299349 175.993158 \nL 61.032143 159.962385 \nL 61.25156 155.162386 \nL 61.258914 155.001508 \nL 61.9731 139.377827 \nL 63.568811 104.469714 \nL 63.854869 98.211855 \nL 64.679848 80.16445 \nL 64.884763 75.681685 \nL 65.548383 61.164181 \nL 65.556668 60.982953 \nL 65.841744 54.746568 \nL 65.958498 52.19243 \nL 66.347656 43.67913 \nL 66.37261 43.133217 \nL 66.581511 38.563265 \nL 66.641295 37.25541 \nL 66.984131 29.755472 \n\" style=\"fill:none;stroke:#ff0000;stroke-linecap:square;stroke-width:1.5;\"/>\n   </g>\n   <g id=\"line2d_13\">\n    <path clip-path=\"url(#pd3cd933a20)\" d=\"M 67.102378 27.574261 \nL 361.981295 27.574261 \nL 361.981295 27.574261 \n\" style=\"fill:none;stroke:#ff0000;stroke-linecap:square;stroke-width:1.5;\"/>\n   </g>\n   <g id=\"patch_3\">\n    <path d=\"M 42.829688 235.130625 \nL 42.829688 17.690625 \n\" style=\"fill:none;stroke:#000000;stroke-linecap:square;stroke-linejoin:miter;stroke-width:0.8;\"/>\n   </g>\n   <g id=\"patch_4\">\n    <path d=\"M 377.629688 235.130625 \nL 377.629688 17.690625 \n\" style=\"fill:none;stroke:#000000;stroke-linecap:square;stroke-linejoin:miter;stroke-width:0.8;\"/>\n   </g>\n   <g id=\"patch_5\">\n    <path d=\"M 42.829688 235.130625 \nL 377.629688 235.130625 \n\" style=\"fill:none;stroke:#000000;stroke-linecap:square;stroke-linejoin:miter;stroke-width:0.8;\"/>\n   </g>\n   <g id=\"patch_6\">\n    <path d=\"M 42.829688 17.690625 \nL 377.629688 17.690625 \n\" style=\"fill:none;stroke:#000000;stroke-linecap:square;stroke-linejoin:miter;stroke-width:0.8;\"/>\n   </g>\n  </g>\n </g>\n <defs>\n  <clipPath id=\"pd3cd933a20\">\n   <rect height=\"217.44\" width=\"334.8\" x=\"42.829688\" y=\"17.690625\"/>\n  </clipPath>\n </defs>\n</svg>\n",
      "image/png": "[encoded data removed]"
     },
     "metadata": {
      "needs_background": "light"
     }
    }
   ],
   "source": [
    "model_branch = ModelBranch(x, y, \"CG\", \"ICNVRT\")\n",
    "\n",
    "model_branch.calc_lr()\n",
    "\n",
    "model_branch.calc_mape_score()\n",
    "\n",
    "print(model_branch.mape_score)\n",
    "\n",
    "model_branch.plot_graph()"
   ]
  },
  {
   "cell_type": "code",
   "execution_count": 10,
   "metadata": {},
   "outputs": [],
   "source": [
    "# ipynb形式のライブラリのインポート\n",
    "%run ./lib.ipynb"
   ]
  },
  {
   "cell_type": "code",
   "execution_count": 11,
   "metadata": {},
   "outputs": [],
   "source": [
    "# ~~~_excludeBTSP, ~~~_onlyBTSP はそれぞれのベンチマークで取得したプロセス数\n",
    "processes_excludeBTSP = [1, 2, 4, 8, 16, 32, 64, 128, 256]\n",
    "processes_onlyBTSP = [1, 4, 9, 16, 25, 36, 49, 64, 81, 100, 121, 169, 196, 225]"
   ]
  },
  {
   "cell_type": "code",
   "execution_count": 12,
   "metadata": {},
   "outputs": [],
   "source": [
    "# 引数に横軸：プロセス数orベンチマーククラス, 縦軸：関数名となっているデータフレームを取る\n",
    "# 返値として\n",
    "# rowData:プロセス数のリスト もしくは プロセス数のリスト (引数に由来)\n",
    "# 各種関数名：実行回数のリスト\n",
    "# 以上のような関係の辞書を返す\n",
    "\n",
    "def return_dict_Data(DataFrame):\n",
    "    columns = DataFrame.columns.to_numpy()\n",
    "    index = DataFrame.index.to_numpy()\n",
    "    # 返値となる辞書return_dictに引数のデータフレームの列名(プロセス数orベンチマーククラス)を格納\n",
    "    return_dict = {\"rowData\":columns}\n",
    "    for index_name in index:\n",
    "        return_dict[index_name] = DataFrame.T[index_name].to_numpy()\n",
    "    \n",
    "    return return_dict\n"
   ]
  },
  {
   "cell_type": "code",
   "execution_count": 13,
   "metadata": {},
   "outputs": [],
   "source": [
    "### 引数にx軸となる値のリスト, y軸となる値のリスト, 関数名の文字列の三つをとる\n",
    "### 返り値は次のようなリスト\n",
    "### [<関数名の文字列>, <線形モデルのMAPE値>, <対数モデルのMAPE値>, <反比例モデルのMAPE値>]\n",
    "def return_Mape_row_list(x :list, y :list, function_name :str):\n",
    "\n",
    "    # 変数：model_lin\n",
    "    # 線形モデル\n",
    "    model_lin = ModelLin(x, y)\n",
    "    model_lin.calc_lr()\n",
    "    model_lin.calc_mape_score()\n",
    "\n",
    "    # 変数：model_log\n",
    "    # 対数モデル\n",
    "    model_log = ModelLog10(x, y)\n",
    "    model_log.calc_lr()\n",
    "    model_log.calc_mape_score()\n",
    "\n",
    "    # 変数：model_ip\n",
    "    # 反比例モデル\n",
    "    model_ip = ModelIP(x, y)\n",
    "    model_ip.calc_lr()\n",
    "    model_ip.calc_mape_score()\n",
    "\n",
    "    # 変数：model_branch\n",
    "    # 特異点付き条件分岐モデル\n",
    "    model_branch = ModelBranch(x, y)\n",
    "    model_branch.calc_lr()\n",
    "    model_branch.calc_mape_score()\n",
    "\n",
    "    # 変数：return_list\n",
    "    # 返り値となるリスト\n",
    "    return_list = [function_name, model_lin.mape_score, model_log.mape_score, model_ip.mape_score, model_branch.mape_score]\n",
    "    return(return_list)"
   ]
  },
  {
   "cell_type": "code",
   "execution_count": 14,
   "metadata": {},
   "outputs": [],
   "source": [
    "### 引数に「return_dict_DataFrame()」の返り値をとる\n",
    "### 返り値は行・列がモデル名・関数名で要素がMAPE値となっているDataFrame\n",
    "def return_MapeTable_per_benchmark(dict_data :dict):\n",
    "\n",
    "    # 変数：_names\n",
    "    # 引数の辞書のプロセス数もしくはベンチマーククラスの文字列のリスト\n",
    "    _names = dict_data['rowData']\n",
    "    # 変数：function_names\n",
    "    # 引数の辞書の関数名の文字列のリスト\n",
    "    function_names = list(dict_data.keys())\n",
    "    function_names.remove('rowData')\n",
    "\n",
    "    # リスト変数：before_DataFrame_list\n",
    "    # 最終的にDataFrameとする元となるリスト\n",
    "    before_DataFrame_list = []\n",
    "    collumn_names = [\"function name\", \"Linear model\", \"Log10 model\", \"Branch model\", \"Inverse model\"]\n",
    "    for function_name in function_names:\n",
    "        return_MapeTable_per_benchmark\n",
    "        if(does_include_nan(dict_data[function_name])):\n",
    "            continue\n",
    "        before_DataFrame_list.append(return_Mape_row_list(_names, dict_data[function_name], function_name))\n",
    "    \n",
    "    # 変数：return_df\n",
    "    # 返り値となるリスト\n",
    "    return_df = pd.DataFrame(before_DataFrame_list)\n",
    "    return_df.columns = collumn_names\n",
    "    return_df = return_df.set_index(\"function name\")\n",
    "\n",
    "    return(return_df)\n"
   ]
  },
  {
   "cell_type": "code",
   "execution_count": 15,
   "metadata": {},
   "outputs": [],
   "source": [
    "### 構造体的に利用可能なクラス MapeData\n",
    "### 各ベンチマークの各モデルごとに作成される。\n",
    "### 要素として、割合, 最大値, 最小値 がある。\n",
    "class MapeData:\n",
    "    def __init__(self):\n",
    "        self.ratio = 0\n",
    "        self.max = np.nan\n",
    "        self.min = np.nan\n",
    "        self.appearance = 0\n",
    "\n",
    "    def printData(self):\n",
    "        print(f\"{self.ratio}({self.min}, {self.max})\")\n",
    "\n",
    "    def return_Data(self):\n",
    "        max_min = \"\"\n",
    "        if(self.min is np.nan):\n",
    "            max_min = \"(NoData)\"\n",
    "        else:\n",
    "            max_min = f\"({self.min}, {self.max})\"\n",
    "        return(f\"{self.ratio}%{max_min}\")\n",
    "\n",
    "### 引数に「return_MapeTable_per_benchmark()」の返り値, ベンチマーク名をとる\n",
    "### 返り値として次のようなリストを返す\n",
    "### [<線形モデルのMAPEに関する奴>, <対数モデルのMAPEに関する奴>, <反比例モデルのMAPEに関する奴>, <ベンチマーク名>]\n",
    "\n",
    "def return_MapeTable_row(MapeDataframe_detail, benchmark_name:str):\n",
    "    \n",
    "    # 引数として渡されたデータフレームの行列名をindex, columnsに格納\n",
    "    columns = MapeDataframe_detail.columns.to_numpy()\n",
    "    index = MapeDataframe_detail.index.to_numpy()\n",
    "\n",
    "    # この関数で返すリストの要素の準備\n",
    "    MapeLin = MapeData()\n",
    "    MapeLog = MapeData()\n",
    "    MapeIP = MapeData()\n",
    "    MapeBr = MapeData()\n",
    "    return_list = [MapeLin, MapeLog, MapeIP, MapeBr, benchmark_name ]\n",
    "\n",
    "    # 返り値のリストの各要素の値を更新\n",
    "    for function_name in index:\n",
    "        MapeData_per_function = MapeDataframe_detail.loc[function_name].to_list()\n",
    "        min_mape = min(MapeData_per_function)\n",
    "        min_mape_index = MapeData_per_function.index(min_mape)\n",
    "        rounded_min_mape = int(min_mape * 10) / 10\n",
    "        return_list[min_mape_index].appearance += 1\n",
    "        if(return_list[min_mape_index].max is np.nan):\n",
    "            return_list[min_mape_index].max = rounded_min_mape\n",
    "            return_list[min_mape_index].min = rounded_min_mape\n",
    "        if(return_list[min_mape_index].min > min_mape):\n",
    "            return_list[min_mape_index].min = rounded_min_mape\n",
    "        elif(return_list[min_mape_index].max < min_mape):\n",
    "            return_list[min_mape_index].max = rounded_min_mape\n",
    "    sum_num = 0\n",
    "    # 集計データから割合を算出\n",
    "    for i in range(return_list.index(benchmark_name)):\n",
    "        sum_num += return_list[i].appearance\n",
    "    for i in range(return_list.index(benchmark_name)):\n",
    "        return_list[i].ratio = int(100 * return_list[i].appearance/sum_num)\n",
    "    # 割合の合計が100になるように調整\n",
    "    exclude_index0_ratios = 0\n",
    "    for i in range(return_list.index(benchmark_name)):\n",
    "        if i == 0:\n",
    "            continue\n",
    "        exclude_index0_ratios += return_list[i].ratio\n",
    "    return_list[0].ratio = 100 - exclude_index0_ratios\n",
    "\n",
    "    return(return_list)\n",
    "\n",
    "def save_MapeTable(MapeTable):\n",
    "    tmp_table = MapeTable.copy()\n",
    "    columns = MapeTable.columns.to_numpy()\n",
    "    index = MapeTable.index.to_numpy()\n",
    "    for i in range(len(columns)):\n",
    "        for j in range(len(index)):\n",
    "            tmp_table.iat[j, i] = tmp_table.iat[j, i].return_Data()\n",
    "    tmp_table.to_csv(\"./tmp_GenerateResources/MapeTable.csv\")\n",
    "    print(tmp_table)\n",
    "\n"
   ]
  },
  {
   "cell_type": "code",
   "execution_count": 16,
   "metadata": {},
   "outputs": [
    {
     "output_type": "stream",
     "name": "stdout",
     "text": [
      "                                                線形モデル  \\\nベンチマーク名                                                 \nbt       <__main__.MapeData object at 0x7ffaea7aa970>   \ncg       <__main__.MapeData object at 0x7ffaea76aa90>   \nep       <__main__.MapeData object at 0x7ffaea76af70>   \nft       <__main__.MapeData object at 0x7ffaea76adc0>   \nis       <__main__.MapeData object at 0x7ffaea7826d0>   \nlu       <__main__.MapeData object at 0x7ffaea782820>   \nmg       <__main__.MapeData object at 0x7ffaea7829a0>   \nsp       <__main__.MapeData object at 0x7ffaea782280>   \n\n                                                対数モデル  \\\nベンチマーク名                                                 \nbt       <__main__.MapeData object at 0x7ffaea76ae80>   \ncg       <__main__.MapeData object at 0x7ffaea76af10>   \nep       <__main__.MapeData object at 0x7ffaea76a700>   \nft       <__main__.MapeData object at 0x7ffaea782580>   \nis       <__main__.MapeData object at 0x7ffaea782c10>   \nlu       <__main__.MapeData object at 0x7ffaea782cd0>   \nmg       <__main__.MapeData object at 0x7ffaea782b80>   \nsp       <__main__.MapeData object at 0x7ffaea782e80>   \n\n                                               反比例モデル  \\\nベンチマーク名                                                 \nbt       <__main__.MapeData object at 0x7ffaea76ac40>   \ncg       <__main__.MapeData object at 0x7ffaea76afa0>   \nep       <__main__.MapeData object at 0x7ffaea782730>   \nft       <__main__.MapeData object at 0x7ffaea7821c0>   \nis       <__main__.MapeData object at 0x7ffaea7821f0>   \nlu       <__main__.MapeData object at 0x7ffaea7828e0>   \nmg       <__main__.MapeData object at 0x7ffaea782fd0>   \nsp       <__main__.MapeData object at 0x7ffaea7829d0>   \n\n                                                分岐モデル  \nベンチマーク名                                                \nbt       <__main__.MapeData object at 0x7ffaea76ae50>  \ncg       <__main__.MapeData object at 0x7ffaea76ad00>  \nep       <__main__.MapeData object at 0x7ffaea7825b0>  \nft       <__main__.MapeData object at 0x7ffaea782490>  \nis       <__main__.MapeData object at 0x7ffaea7823a0>  \nlu       <__main__.MapeData object at 0x7ffaea782700>  \nmg       <__main__.MapeData object at 0x7ffaea782640>  \nsp       <__main__.MapeData object at 0x7ffaea782910>  \n                  線形モデル            対数モデル         反比例モデル          分岐モデル\nベンチマーク名                                                               \nbt        78%(0.0, 0.0)    20%(0.0, 1.5)   2%(0.0, 0.0)     0%(NoData)\ncg        74%(0.0, 0.0)  13%(14.7, 14.7)     0%(NoData)  13%(0.0, 0.0)\nep       100%(0.0, 0.0)       0%(NoData)     0%(NoData)     0%(NoData)\nft        86%(0.0, 0.0)       0%(NoData)  11%(0.0, 0.0)   3%(0.0, 0.0)\nis        95%(0.0, 0.0)       0%(NoData)   5%(0.0, 0.0)     0%(NoData)\nlu        77%(0.0, 0.0)   18%(0.0, 17.8)   5%(0.0, 0.0)     0%(NoData)\nmg       96%(0.0, 14.7)     4%(6.7, 6.7)     0%(NoData)     0%(NoData)\nsp        74%(0.0, 0.0)    24%(0.0, 9.1)   2%(0.0, 0.0)     0%(NoData)\n"
     ]
    }
   ],
   "source": [
    "# fixed_class_list : return_fixed_class()の実行時に\n",
    "\n",
    "fixed_class_list = [0] * len(benchmarks)\n",
    "for i in range(len(fixed_class_list)):\n",
    "    if ( benchmarks[i] == \"bt\" or benchmarks[i] == \"sp\" ):\n",
    "        processes = processes_onlyBTSP\n",
    "    else:\n",
    "        processes = processes_excludeBTSP\n",
    "    fixed_class_list[i] = return_fixed_class(BenchMark = benchmarks[i], Processes = processes, FixedBenchMarkClass = \"C\")\n",
    "\n",
    "fixed_class_DataFrame = [0] * len(fixed_class_list)\n",
    "for i in range(len(fixed_class_list)):\n",
    "    fixed_class_DataFrame[i] = pd.concat(fixed_class_list[i] , axis=1)\n",
    "\n",
    "# テーブルの元となるDataFrameを作成する\n",
    "MapeTable_source = [0] * len(fixed_class_list)\n",
    "for i in range(len(fixed_class_list)):\n",
    "    dict_data = return_dict_Data(fixed_class_DataFrame[i])\n",
    "    MapeTable_per_benchmark = return_MapeTable_per_benchmark(dict_data)\n",
    "    MapeTable_row = return_MapeTable_row(MapeTable_per_benchmark, benchmarks[i])\n",
    "    MapeTable_source[i] = MapeTable_row\n",
    "# テーブルの元となるDataFrameにつける列名のリスト\n",
    "MapeTable_source_column_name = [\"線形モデル\", \"対数モデル\", \"反比例モデル\", \"分岐モデル\", \"ベンチマーク名\"]\n",
    "MapeTable = pd.DataFrame(MapeTable_source)\n",
    "MapeTable.columns = MapeTable_source_column_name\n",
    "MapeTable = MapeTable.set_index('ベンチマーク名')\n",
    "print(MapeTable)\n",
    "# テーブルを欲しい形でCSVとして出力する\n",
    "save_MapeTable(MapeTable)\n"
   ]
  },
  {
   "cell_type": "code",
   "execution_count": 17,
   "metadata": {},
   "outputs": [
    {
     "output_type": "execute_result",
     "data": {
      "text/plain": [
       "4"
      ]
     },
     "metadata": {},
     "execution_count": 17
    }
   ],
   "source": [
    "li = [1,2,3,4]\n",
    "len(li)"
   ]
  },
  {
   "cell_type": "code",
   "execution_count": null,
   "metadata": {},
   "outputs": [],
   "source": []
  }
 ],
 "metadata": {
  "kernelspec": {
   "name": "python3",
   "display_name": "Python 3.8.5 64-bit",
   "metadata": {
    "interpreter": {
     "hash": "20ea737a692ad9331495a19ba7cc0bf6d1e8652119322fabf661903bfd24f6c5"
    }
   }
  },
  "language_info": {
   "codemirror_mode": {
    "name": "ipython",
    "version": 3
   },
   "file_extension": ".py",
   "mimetype": "text/x-python",
   "name": "python",
   "nbconvert_exporter": "python",
   "pygments_lexer": "ipython3",
   "version": "3.8.5-final"
  }
 },
 "nbformat": 4,
 "nbformat_minor": 4
}