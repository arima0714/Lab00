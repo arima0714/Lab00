{
 "cells": [
  {
   "cell_type": "markdown",
   "metadata": {},
   "source": [
    "### 二次元リストから生成"
   ]
  },
  {
   "cell_type": "code",
   "execution_count": null,
   "metadata": {},
   "outputs": [],
   "source": [
    "# ipynb形式のライブラリのインポート\n",
    "%run ./lib.ipynb\n",
    "\n",
    "import pandas as pd\n",
    "\n",
    "# 1 各行を一つのリストとして並べる\n",
    "\n",
    "list = [\n",
    "    [1, 100, 0.33, 'AAA', 'AAA100'], \n",
    "    [2, 200, 0.67, 'BBB', 'BBB200'], \n",
    "    [3, 300, 1, 'CCC', 'CCC300'], \n",
    "    [4, 400, 1.33, 'DDD', 'DDD400'], \n",
    "    [5, 500, 1.67, 'EEE', 'EEE500'], \n",
    "    [6, 600, 2, 'FFF', 'FFF600']\n",
    "]\n",
    "\n",
    "# 2 表に変換\n",
    "# pd.DataFrame(list) : pandasのDataFrameで表に変換\n",
    "df = pd.DataFrame(list)\n",
    "# 行名・列名は自動で割り振られた番号になっている\n",
    "\n",
    "# 3 行名の変更\n",
    "df.index = ['row0', 'row1', 'row2', 'row3', 'row4', 'row5']\n",
    "\n",
    "# 4 列名の変更\n",
    "df.columns = ['col0', 'col1', 'col2', 'col3', 'col4']\n",
    "\n",
    "df\n",
    "\n",
    "# 1 各行を一つのリストとして並べる\n",
    "list = [\n",
    "[1, 100, 0.33, 'AAA', 'AAA100'], \n",
    "[2, 200, 0.67, 'BBB', 'BBB200'], \n",
    "[3, 300, 1, 'CCC', 'CCC300'], \n",
    "[4, 400, 1.33, 'DDD', 'DDD400'], \n",
    "[5, 500, 1.67, 'EEE', 'EEE500'], \n",
    "[6, 600, 2, 'FFF', 'FFF600']]\n",
    "\n",
    "\n",
    "#2 表に変換(オプションで行列名を指定)\n",
    "ind = ['row0', 'row1', 'row2', 'row3', 'row4', 'row5']\n",
    "col = ['col0', 'col1', 'col2', 'col3', 'col4']\n",
    "\n",
    "df = pd.DataFrame(list, index=ind, columns=col)\n",
    "\n",
    "\n",
    "df\n",
    "\n",
    "# 1 各行を一つのリストにする\n",
    "list = [\n",
    "['row0', 1, 100, 0.33, 'AAA', 'AAA100'], \n",
    "['row1', 2, 200, 0.67, 'BBB', 'BBB200'], \n",
    "['row2', 3, 300, 1, 'CCC', 'CCC300'], \n",
    "['row3', 4, 400, 1.33, 'DDD', 'DDD400'], \n",
    "['row4', 5, 500, 1.67, 'EEE', 'EEE500'], \n",
    "['row5', 6, 600, 2, 'FFF', 'FFF600'], ]\n",
    "\n",
    "# 2 表に変換\n",
    "df = pd.DataFrame(list)\n",
    "\n",
    "# 3 列名を変更\n",
    "df.columns = ['', 'col0', 'col1', 'col2', 'col3', 'col4']\n",
    "\n",
    "# 4 行名となる列を指定\n",
    "df = df.set_index('')\n",
    "\n",
    "df\n",
    "\n",
    "# 1 各行ごとのリストを作成\n",
    "\n",
    "listA = [1, 100, 0.33, 'AAA', 'AAA100']\n",
    "listB = [2, 200, 0.67, 'BBB', 'BBB200']\n",
    "listC = [3, 300, 1, 'CCC', 'CCC300']\n",
    "listD = [4, 400, 1.33, 'DDD', 'DDD400']\n",
    "listE = [5, 500, 1.67, 'EEE', 'EEE500']\n",
    "listF = [6, 600, 2, 'FFF', 'FFF600']\n",
    "\n",
    "# 2 まとめて表に変換\n",
    "\n",
    "df = pd.DataFrame([listA, listB, listC, listD, listE, listF])\n",
    "\n",
    "# 3 行名の変更\n",
    "df.index = ['row0', 'row1', 'row2', 'row3', 'row4', 'row5']\n",
    "\n",
    "# 4 列名の変更\n",
    "df.columns = ['col0', 'col1', 'col2', 'col3', 'col4']\n",
    "\n",
    "df"
   ]
  },
  {
   "cell_type": "code",
   "execution_count": null,
   "metadata": {},
   "outputs": [],
   "source": [
    "cg_c_data = return_dict_summary_fixed()"
   ]
  },
  {
   "cell_type": "code",
   "execution_count": null,
   "metadata": {},
   "outputs": [],
   "source": [
    "x = cg_c_data[\"processes\"]\n",
    "y = cg_c_data[\"ICNVRT\"]"
   ]
  },
  {
   "cell_type": "code",
   "execution_count": null,
   "metadata": {},
   "outputs": [],
   "source": [
    "cg_icnvrt_lr = ModelLog10(x, y, \"CG\", \"ICNVRT\")"
   ]
  },
  {
   "cell_type": "code",
   "execution_count": null,
   "metadata": {},
   "outputs": [],
   "source": [
    "cg_icnvrt_lr.calc_lr()"
   ]
  },
  {
   "cell_type": "code",
   "execution_count": null,
   "metadata": {},
   "outputs": [],
   "source": [
    "cg_icnvrt_lr.plot_graph()"
   ]
  },
  {
   "cell_type": "code",
   "execution_count": null,
   "metadata": {},
   "outputs": [],
   "source": [
    "max_in_y = max(y)\n",
    "# 最大値の個数を取得\n",
    "y.tolist().count(max_in_y)\n",
    "# 最大値のインデックスで最小のもの\n",
    "y.tolist().index(max_in_y)"
   ]
  },
  {
   "cell_type": "code",
   "execution_count": null,
   "metadata": {},
   "outputs": [],
   "source": [
    "class ModelBranch(ModelBase):\n",
    "    \n",
    "    def calc_lr(self):\n",
    "        # 後述する t を算出するための処理\n",
    "        max_in_train_y = max(self.train_y)\n",
    "        max_in_train_y_first_index = self.train_y.tolist().index(max_in_train_y)\n",
    "        # 分岐点のインデックスを t とする\n",
    "        t = max_in_train_y_first_index\n",
    "        self.t = t\n",
    "        x_train_1 = self.train_x[:t]\n",
    "        x_train_2 = self.train_x[t:]\n",
    "        y_train_1 = self.train_y[:t]\n",
    "        y_train_2 = self.train_y[t:]\n",
    "        self.lr1 = LinearRegression()\n",
    "        self.lr1.fit(x_train_1, y_train_1)\n",
    "        self.lr2 = LinearRegression()\n",
    "        self.lr2.fit(x_train_2, y_train_2)\n",
    "        \n",
    "    def calc_mape_score(self):\n",
    "        x_test = self.test_x\n",
    "        y_test = self.test_y\n",
    "        y_test_predicted = self.lr2.predict(x_test)\n",
    "        self.mape_score = float(mape_score(y_test, y_test_predicted))\n",
    "        \n",
    "    def plot_graph(self):\n",
    "        plt.figure()\n",
    "        plt.scatter(self.raw_x, self.raw_y)\n",
    "        \n",
    "        # 回帰曲線を二つのモデルで分割するための処理\n",
    "        x_model_line = self.x_model_line\n",
    "        t_in_model_line = 0\n",
    "        for i in range(len(x_model_line)):\n",
    "            if (self.train_x[self.t] < x_model_line[i]):\n",
    "                t_in_model_line = i\n",
    "                break\n",
    "            else:\n",
    "                t_in_model_line = i\n",
    "        \n",
    "        x_model_line1 = self.x_model_line[:t_in_model_line]\n",
    "        x_model_line2 = self.x_model_line[t_in_model_line:]\n",
    "        y_model_line1 = self.lr1.predict(x_model_line1)\n",
    "        y_model_line2 = self.lr2.predict(x_model_line2)\n",
    "\n",
    "        plt.plot(x_model_line1, y_model_line1, color=\"red\")\n",
    "        plt.plot(x_model_line2, y_model_line2, color=\"red\")\n",
    "#         plt.plot(self.test_x, self.test_y, color=\"yellow\")\n",
    "        plt.xlabel(self.xlabel)\n",
    "        plt.ylabel(self.ylabel)\n",
    "        "
   ]
  },
  {
   "cell_type": "code",
   "execution_count": null,
   "metadata": {},
   "outputs": [],
   "source": [
    "model_branch = ModelBranch(x, y, \"CG\", \"ICNVRT\")\n",
    "\n",
    "model_branch.calc_lr()\n",
    "\n",
    "model_branch.calc_mape_score()\n",
    "\n",
    "print(model_branch.mape_score)\n",
    "\n",
    "model_branch.plot_graph()"
   ]
  },
  {
   "cell_type": "code",
   "execution_count": 31,
   "metadata": {},
   "outputs": [],
   "source": [
    "# ipynb形式のライブラリのインポート\n",
    "%run ./lib.ipynb"
   ]
  },
  {
   "cell_type": "code",
   "execution_count": 32,
   "metadata": {},
   "outputs": [],
   "source": [
    "# ~~~_excludeBTSP, ~~~_onlyBTSP はそれぞれのベンチマークで取得したプロセス数\n",
    "processes_excludeBTSP = [1, 2, 4, 8, 16, 32, 64, 128, 256]\n",
    "processes_onlyBTSP = [1, 4, 9, 16, 25, 36, 49, 64, 81, 100, 121, 169, 196, 225]"
   ]
  },
  {
   "cell_type": "code",
   "execution_count": 33,
   "metadata": {},
   "outputs": [],
   "source": [
    "# 引数に横軸：プロセス数orベンチマーククラス, 縦軸：関数名となっているデータフレームを取る\n",
    "# 返値として\n",
    "# rowData:プロセス数のリスト もしくは プロセス数のリスト (引数に由来)\n",
    "# 各種関数名：実行回数のリスト\n",
    "# 以上のような関係の辞書を返す\n",
    "\n",
    "def return_dict_Data(DataFrame):\n",
    "    columns = DataFrame.columns.to_numpy()\n",
    "    index = DataFrame.index.to_numpy()\n",
    "    # 返値となる辞書return_dictに引数のデータフレームの列名(プロセス数orベンチマーククラス)を格納\n",
    "    return_dict = {\"rowData\":columns}\n",
    "    for index_name in index:\n",
    "        return_dict[index_name] = DataFrame.T[index_name].to_numpy()\n",
    "    \n",
    "    return return_dict\n"
   ]
  },
  {
   "cell_type": "code",
   "execution_count": 34,
   "metadata": {},
   "outputs": [
    {
     "output_type": "stream",
     "name": "stdout",
     "text": [
      "bt\n"
     ]
    }
   ],
   "source": [
    "# fixed_class_list : return_fixed_class()の実行時に\n",
    "\n",
    "fixed_class_list = [0] * len(benchmarks)\n",
    "for i in range(len(fixed_class_list)):\n",
    "    if ( benchmarks[i] == \"bt\" or benchmarks[i] == \"sp\" ):\n",
    "        processes = processes_onlyBTSP\n",
    "    else:\n",
    "        processes = processes_excludeBTSP\n",
    "    fixed_class_list[i] = return_fixed_class(BenchMark = benchmarks[i], Processes = processes, FixedBenchMarkClass = \"C\")\n",
    "\n",
    "fixed_class_DataFrame = [0] * len(fixed_class_list)\n",
    "for i in range(len(fixed_class_list)):\n",
    "    fixed_class_DataFrame[i] = pd.concat(fixed_class_list[i] , axis=1)\n",
    "\n",
    "print(benchmarks[0])"
   ]
  },
  {
   "cell_type": "code",
   "execution_count": 35,
   "metadata": {},
   "outputs": [
    {
     "output_type": "stream",
     "name": "stdout",
     "text": [
      "<class 'pandas.core.frame.DataFrame'>\n<class 'dict'>\n"
     ]
    },
    {
     "output_type": "execute_result",
     "data": {
      "text/plain": [
       "{'rowData': array([  1,   4,   9,  16,  25,  36,  49,  64,  81, 100, 121, 169, 196,\n",
       "        225]),\n",
       " '.TAU_application': array([1., 1., 1., 1., 1., 1., 1., 1., 1., 1., 1., 1., 1., 1.]),\n",
       " 'ADD': array([201., 201., 201., 201., 201., 201., 201., 201., 201., 201., 201.,\n",
       "        201., 201., 201.]),\n",
       " 'ADI': array([201., 201., 201., 201., 201., 201., 201., 201., 201., 201., 201.,\n",
       "        201., 201., 201.]),\n",
       " 'ALLOC_SPACE': array([1., 1., 1., 1., 1., 1., 1., 1., 1., 1., 1., 1., 1., 1.]),\n",
       " 'BTIO_CLEANUP': array([1., 1., 1., 1., 1., 1., 1., 1., 1., 1., 1., 1., 1., 1.]),\n",
       " 'COMPUTE_BUFFER_SIZE': array([1., 1., 1., 1., 1., 1., 1., 1., 1., 1., 1., 1., 1., 1.]),\n",
       " 'COMPUTE_RHS': array([202., 202., 202., 202., 202., 202., 202., 202., 202., 202., 202.,\n",
       "        202., 202., 202.]),\n",
       " 'COPY_FACES': array([202., 202., 202., 202., 202., 202., 202., 202., 202., 202., 202.,\n",
       "        202., 202., 202.]),\n",
       " 'ERROR_NORM': array([1., 1., 1., 1., 1., 1., 1., 1., 1., 1., 1., 1., 1., 1.]),\n",
       " 'EXACT_RHS': array([1., 1., 1., 1., 1., 1., 1., 1., 1., 1., 1., 1., 1., 1.]),\n",
       " 'EXACT_SOLUTION': array([68026400., 17083400.,  7626750.,  4309250.,  2770210.,  1932290.,\n",
       "         1425910.,  1096510.,   870173.,   707912.,   587590.,   424336.,\n",
       "          367449.,   321454.]),\n",
       " 'INITIALIZE': array([2., 2., 2., 2., 2., 2., 2., 2., 2., 2., 2., 2., 2., 2.]),\n",
       " 'LHSABINIT': array([ 603., 1206., 1809., 2412., 3015., 3618., 4221., 4824., 5427.,\n",
       "        6030., 6633., 7839., 8442., 9045.]),\n",
       " 'LHSINIT': array([1., 1., 1., 1., 1., 1., 1., 1., 1., 1., 1., 1., 1., 1.]),\n",
       " 'MAKE_SET': array([1., 1., 1., 1., 1., 1., 1., 1., 1., 1., 1., 1., 1., 1.]),\n",
       " 'MPBT': array([1., 1., 1., 1., 1., 1., 1., 1., 1., 1., 1., 1., 1., 1.]),\n",
       " 'MPI_Allreduce()': array([2., 2., 2., 2., 2., 2., 2., 2., 2., 2., 2., 2., 2., 2.]),\n",
       " 'MPI_Barrier()': array([2., 2., 2., 2., 2., 2., 2., 2., 2., 2., 2., 2., 2., 2.]),\n",
       " 'MPI_Bcast()': array([6., 6., 6., 6., 6., 6., 6., 6., 6., 6., 6., 6., 6., 6.]),\n",
       " 'MPI_Comm_dup()': array([2., 2., 2., 2., 2., 2., 2., 2., 2., 2., 2., 2., 2., 2.]),\n",
       " 'MPI_Comm_rank()': array([1., 1., 1., 1., 1., 1., 1., 1., 1., 1., 1., 1., 1., 1.]),\n",
       " 'MPI_Comm_size()': array([1., 1., 1., 1., 1., 1., 1., 1., 1., 1., 1., 1., 1., 1.]),\n",
       " 'MPI_Finalize()': array([1., 1., 1., 1., 1., 1., 1., 1., 1., 1., 1., 1., 1., 1.]),\n",
       " 'MPI_Init()': array([1., 1., 1., 1., 1., 1., 1., 1., 1., 1., 1., 1., 1., 1.]),\n",
       " 'MPI_Reduce()': array([1., 1., 1., 1., 1., 1., 1., 1., 1., 1., 1., 1., 1., 1.]),\n",
       " 'RHS_NORM': array([1., 1., 1., 1., 1., 1., 1., 1., 1., 1., 1., 1., 1., 1.]),\n",
       " 'SETUP_BTIO': array([1., 1., 1., 1., 1., 1., 1., 1., 1., 1., 1., 1., 1., 1.]),\n",
       " 'SETUP_MPI': array([1., 1., 1., 1., 1., 1., 1., 1., 1., 1., 1., 1., 1., 1.]),\n",
       " 'SET_CLASS': array([1.        , 0.25      , 0.111111  , 0.0625    , 0.04      ,\n",
       "        0.0277778 , 0.0204082 , 0.015625  , 0.0123457 , 0.01      ,\n",
       "        0.00826446, 0.00591716, 0.00510204, 0.00444444]),\n",
       " 'SET_CONSTANTS': array([1., 1., 1., 1., 1., 1., 1., 1., 1., 1., 1., 1., 1., 1.]),\n",
       " 'VERIFY': array([1., 1., 1., 1., 1., 1., 1., 1., 1., 1., 1., 1., 1., 1.]),\n",
       " 'X_BACKSUBSTITUTE': array([ 201.,  402.,  603.,  804., 1005., 1206., 1407., 1608., 1809.,\n",
       "        2010., 2211., 2613., 2814., 3015.]),\n",
       " 'X_SOLVE': array([201., 201., 201., 201., 201., 201., 201., 201., 201., 201., 201.,\n",
       "        201., 201., 201.]),\n",
       " 'X_SOLVE_CELL': array([ 201.,  402.,  603.,  804., 1005., 1206., 1407., 1608., 1809.,\n",
       "        2010., 2211., 2613., 2814., 3015.]),\n",
       " 'Y_BACKSUBSTITUTE': array([ 201.,  402.,  603.,  804., 1005., 1206., 1407., 1608., 1809.,\n",
       "        2010., 2211., 2613., 2814., 3015.]),\n",
       " 'Y_SOLVE': array([201., 201., 201., 201., 201., 201., 201., 201., 201., 201., 201.,\n",
       "        201., 201., 201.]),\n",
       " 'Y_SOLVE_CELL': array([ 201.,  402.,  603.,  804., 1005., 1206., 1407., 1608., 1809.,\n",
       "        2010., 2211., 2613., 2814., 3015.]),\n",
       " 'Z_BACKSUBSTITUTE': array([ 201.,  402.,  603.,  804., 1005., 1206., 1407., 1608., 1809.,\n",
       "        2010., 2211., 2613., 2814., 3015.]),\n",
       " 'Z_SOLVE': array([201., 201., 201., 201., 201., 201., 201., 201., 201., 201., 201.,\n",
       "        201., 201., 201.]),\n",
       " 'Z_SOLVE_CELL': array([ 201.,  402.,  603.,  804., 1005., 1206., 1407., 1608., 1809.,\n",
       "        2010., 2211., 2613., 2814., 3015.]),\n",
       " 'MPI_Irecv()': array([   nan,  2418.,  3624.,  4830.,  6036.,  7242.,  8448.,  9654.,\n",
       "        10860., 12066., 13272., 15684., 16890., 18096.]),\n",
       " 'MPI_Isend()': array([   nan,  2418.,  3624.,  4830.,  6036.,  7242.,  8448.,  9654.,\n",
       "        10860., 12066., 13272., 15684., 16890., 18096.]),\n",
       " 'MPI_Wait()': array([   nan,  2412.,  4824.,  7236.,  9648., 12060., 14472., 16884.,\n",
       "        19296., 21708., 24120., 28944., 31356., 33768.]),\n",
       " 'MPI_Waitall()': array([ nan, 202., 202., 202., 202., 202., 202., 202., 202., 202., 202.,\n",
       "        202., 202., 202.]),\n",
       " 'X_RECEIVE_BACKSUB_INFO': array([  nan,  201.,  402.,  603.,  804., 1005., 1206., 1407., 1608.,\n",
       "        1809., 2010., 2412., 2613., 2814.]),\n",
       " 'X_RECEIVE_SOLVE_INFO': array([  nan,  201.,  402.,  603.,  804., 1005., 1206., 1407., 1608.,\n",
       "        1809., 2010., 2412., 2613., 2814.]),\n",
       " 'X_SEND_BACKSUB_INFO': array([  nan,  201.,  402.,  603.,  804., 1005., 1206., 1407., 1608.,\n",
       "        1809., 2010., 2412., 2613., 2814.]),\n",
       " 'X_SEND_SOLVE_INFO': array([  nan,  201.,  402.,  603.,  804., 1005., 1206., 1407., 1608.,\n",
       "        1809., 2010., 2412., 2613., 2814.]),\n",
       " 'X_UNPACK_BACKSUB_INFO': array([  nan,  201.,  402.,  603.,  804., 1005., 1206., 1407., 1608.,\n",
       "        1809., 2010., 2412., 2613., 2814.]),\n",
       " 'X_UNPACK_SOLVE_INFO': array([  nan,  201.,  402.,  603.,  804., 1005., 1206., 1407., 1608.,\n",
       "        1809., 2010., 2412., 2613., 2814.]),\n",
       " 'Y_RECEIVE_BACKSUB_INFO': array([  nan,  201.,  402.,  603.,  804., 1005., 1206., 1407., 1608.,\n",
       "        1809., 2010., 2412., 2613., 2814.]),\n",
       " 'Y_RECEIVE_SOLVE_INFO': array([  nan,  201.,  402.,  603.,  804., 1005., 1206., 1407., 1608.,\n",
       "        1809., 2010., 2412., 2613., 2814.]),\n",
       " 'Y_SEND_BACKSUB_INFO': array([  nan,  201.,  402.,  603.,  804., 1005., 1206., 1407., 1608.,\n",
       "        1809., 2010., 2412., 2613., 2814.]),\n",
       " 'Y_SEND_SOLVE_INFO': array([  nan,  201.,  402.,  603.,  804., 1005., 1206., 1407., 1608.,\n",
       "        1809., 2010., 2412., 2613., 2814.]),\n",
       " 'Y_UNPACK_BACKSUB_INFO': array([  nan,  201.,  402.,  603.,  804., 1005., 1206., 1407., 1608.,\n",
       "        1809., 2010., 2412., 2613., 2814.]),\n",
       " 'Y_UNPACK_SOLVE_INFO': array([  nan,  201.,  402.,  603.,  804., 1005., 1206., 1407., 1608.,\n",
       "        1809., 2010., 2412., 2613., 2814.]),\n",
       " 'Z_RECEIVE_BACKSUB_INFO': array([  nan,  201.,  402.,  603.,  804., 1005., 1206., 1407., 1608.,\n",
       "        1809., 2010., 2412., 2613., 2814.]),\n",
       " 'Z_RECEIVE_SOLVE_INFO': array([  nan,  201.,  402.,  603.,  804., 1005., 1206., 1407., 1608.,\n",
       "        1809., 2010., 2412., 2613., 2814.]),\n",
       " 'Z_SEND_BACKSUB_INFO': array([  nan,  201.,  402.,  603.,  804., 1005., 1206., 1407., 1608.,\n",
       "        1809., 2010., 2412., 2613., 2814.]),\n",
       " 'Z_SEND_SOLVE_INFO': array([  nan,  201.,  402.,  603.,  804., 1005., 1206., 1407., 1608.,\n",
       "        1809., 2010., 2412., 2613., 2814.]),\n",
       " 'Z_UNPACK_BACKSUB_INFO': array([  nan,  201.,  402.,  603.,  804., 1005., 1206., 1407., 1608.,\n",
       "        1809., 2010., 2412., 2613., 2814.]),\n",
       " 'Z_UNPACK_SOLVE_INFO': array([  nan,  201.,  402.,  603.,  804., 1005., 1206., 1407., 1608.,\n",
       "        1809., 2010., 2412., 2613., 2814.])}"
      ]
     },
     "metadata": {},
     "execution_count": 35
    }
   ],
   "source": [
    "print(type(fixed_class_DataFrame[0]))\n",
    "\n",
    "dict_sample = return_dict_Data(fixed_class_DataFrame[0])\n",
    "\n",
    "print(type(dict_sample))\n",
    "\n",
    "dict_sample"
   ]
  },
  {
   "cell_type": "code",
   "execution_count": 36,
   "metadata": {},
   "outputs": [
    {
     "output_type": "stream",
     "name": "stdout",
     "text": [
      "['.TAU_application', 'ADD', 'ADI', 'ALLOC_SPACE', 'BTIO_CLEANUP', 'COMPUTE_BUFFER_SIZE', 'COMPUTE_RHS', 'COPY_FACES', 'ERROR_NORM', 'EXACT_RHS', 'EXACT_SOLUTION', 'INITIALIZE', 'LHSABINIT', 'LHSINIT', 'MAKE_SET', 'MPBT', 'MPI_Allreduce()', 'MPI_Barrier()', 'MPI_Bcast()', 'MPI_Comm_dup()', 'MPI_Comm_rank()', 'MPI_Comm_size()', 'MPI_Finalize()', 'MPI_Init()', 'MPI_Reduce()', 'RHS_NORM', 'SETUP_BTIO', 'SETUP_MPI', 'SET_CLASS', 'SET_CONSTANTS', 'VERIFY', 'X_BACKSUBSTITUTE', 'X_SOLVE', 'X_SOLVE_CELL', 'Y_BACKSUBSTITUTE', 'Y_SOLVE', 'Y_SOLVE_CELL', 'Z_BACKSUBSTITUTE', 'Z_SOLVE', 'Z_SOLVE_CELL', 'MPI_Irecv()', 'MPI_Isend()', 'MPI_Wait()', 'MPI_Waitall()', 'X_RECEIVE_BACKSUB_INFO', 'X_RECEIVE_SOLVE_INFO', 'X_SEND_BACKSUB_INFO', 'X_SEND_SOLVE_INFO', 'X_UNPACK_BACKSUB_INFO', 'X_UNPACK_SOLVE_INFO', 'Y_RECEIVE_BACKSUB_INFO', 'Y_RECEIVE_SOLVE_INFO', 'Y_SEND_BACKSUB_INFO', 'Y_SEND_SOLVE_INFO', 'Y_UNPACK_BACKSUB_INFO', 'Y_UNPACK_SOLVE_INFO', 'Z_RECEIVE_BACKSUB_INFO', 'Z_RECEIVE_SOLVE_INFO', 'Z_SEND_BACKSUB_INFO', 'Z_SEND_SOLVE_INFO', 'Z_UNPACK_BACKSUB_INFO', 'Z_UNPACK_SOLVE_INFO']\n[  1   4   9  16  25  36  49  64  81 100 121 169 196 225]\n"
     ]
    }
   ],
   "source": [
    "### 引数に「return_dict_DataFrame()」の返り値をとる\n",
    "### 返り値は行・列がモデル名・関数名で要素がMAPE値となっているDataFrame\n",
    "def return_MapeTable_per_benchmark(dict_data :dict):\n",
    "\n",
    "    # 変数：_names\n",
    "    # 引数の辞書のプロセス数もしくはベンチマーククラスの文字列のリスト\n",
    "    _names = list(dict_data.keys())\n",
    "    _names.remove('rowData')\n",
    "    # 変数：function_names\n",
    "    # 引数の辞書の関数名の文字列のリスト\n",
    "    function_names = dict_data['rowData']\n",
    "    print(_names)\n",
    "    print(function_names)\n",
    "\n",
    "\n",
    "return_MapeTable_per_benchmark(dict_sample)\n"
   ]
  },
  {
   "cell_type": "code",
   "execution_count": null,
   "metadata": {},
   "outputs": [],
   "source": []
  }
 ],
 "metadata": {
  "kernelspec": {
   "name": "python3",
   "display_name": "Python 3.9.1 64-bit",
   "metadata": {
    "interpreter": {
     "hash": "7d6993cb2f9ce9a59d5d7380609d9cb5192a9dedd2735a011418ad9e827eb538"
    }
   }
  },
  "language_info": {
   "codemirror_mode": {
    "name": "ipython",
    "version": 3
   },
   "file_extension": ".py",
   "mimetype": "text/x-python",
   "name": "python",
   "nbconvert_exporter": "python",
   "pygments_lexer": "ipython3",
   "version": "3.9.1-final"
  }
 },
 "nbformat": 4,
 "nbformat_minor": 4
}