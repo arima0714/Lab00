{
 "cells": [
  {
   "cell_type": "code",
   "execution_count": null,
   "metadata": {},
   "outputs": [],
   "source": [
    "# DF = returnRawDFperBenchmark(Benchmark = \"is\", fix=\"Classes\", benchmarkClass = [\"A\", \"B\", \"C\", \"D\"], FixedProcess = 64, Processes = [1,2,4,8,16,32,64,128,256], FixedBenchmarkClass=\"B\")\n",
    "# DF"
   ]
  },
  {
   "cell_type": "code",
   "execution_count": null,
   "metadata": {},
   "outputs": [],
   "source": [
    "# raw_x = DF.columns.tolist()\n",
    "# functionName = \"MPI_Irecv()\"\n",
    "# raw_y = [DF.at[functionName, x] for x in raw_x]\n",
    "\n",
    "# # グラフのプロット\n",
    "# fig = plt.figure(figsize=(12, 9))\n",
    "# ## 実データをsklearn用に変形\n",
    "# raw_x = np.array(raw_x).reshape(-1,1)\n",
    "# raw_y = np.array(raw_y).reshape(-1, 1)\n",
    "# ## 説明変数と目的変数に分割\n",
    "# notTrain_x, train_x, target_x = raw_x[0], raw_x[1:-1], raw_x[-1]\n",
    "# notTrain_y, train_y, target_y = raw_y[0], raw_y[1:-1], raw_y[-1]\n",
    "# ## 実データをそれぞれプロット\n",
    "# plt.scatter(train_x, train_y, marker=\"o\", label=\"予測に用いた関数コール回数\")\n",
    "# plt.scatter(target_x, target_y, marker=\"o\", label=\"予測したい関数コール回数の実測値\")\n",
    "# plt.scatter(notTrain_x, notTrain_y, marker=\"o\", label=\"最初のデータを除外した時に予測に用いなかった関数コール回数\")\n",
    "# ## モデル式をプロットするために変数”plot_x”を用意する\n",
    "# plot_x_min = 1.0\n",
    "# plot_x_max = 256.0\n",
    "# ### モデル式としてプロットする最低値の設定\n",
    "# plot_x = np.linspace(plot_x_min, plot_x_max, 500)\n",
    "# plot_x = np.array(plot_x).reshape(-1, 1)\n",
    "# ## モデルを [1 - 1/n] として計算\n",
    "# plot_y = 1 - 1/plot_x\n",
    "# plt.plot(plot_x, plot_y)\n",
    "\n",
    "\n",
    "# modelIpMk2 = ModelIp_mk2(train_x=train_x, train_y=train_y, target_x=target_x, target_y=target_y)\n",
    "# modelIpMk2.calc_lr()\n",
    "# plot_y = modelIpMk2.predict(plot_x)\n",
    "# plt.plot(plot_x, plot_y)\n"
   ]
  },
  {
   "cell_type": "code",
   "execution_count": null,
   "metadata": {},
   "outputs": [],
   "source": [
    "# raw_x\n",
    "\n",
    "# raw_y"
   ]
  },
  {
   "cell_type": "markdown",
   "metadata": {},
   "source": [
    "# 多変数予測でのExtra-Pへの入力ファイルを作成する"
   ]
  },
  {
   "cell_type": "code",
   "execution_count": null,
   "metadata": {},
   "outputs": [],
   "source": [
    "# ipynb形式のライブラリのインポート\n",
    "%run ./lib.ipynb"
   ]
  },
  {
   "cell_type": "code",
   "execution_count": null,
   "metadata": {},
   "outputs": [],
   "source": [
    "benchmarkName = \"cg\"\n",
    "fixed = \"Process\"\n",
    "benchmarkClasses = [\"A\", \"B\", \"C\", \"D\"]\n",
    "FixedProcess = 64\n",
    "Processes = [1,2,4,8,16,32,64,128,256]\n",
    "FixedBenchmarkClass = \"B\"\n",
    "\n",
    "DF = collectFunctionNamesPerBenchmark(benchmarkName = \"cg\", benchmarkClasses = benchmarkClasses, processes = Processes)\n",
    "# for benchmarkClass in benchmarkClasses:\n",
    "#     for Process in Processes:\n",
    "#         pass\n",
    "\n",
    "DF\n",
    "\n",
    "functionNames = DF[\"functionName\"]\n",
    "functionNames = tuple(functionNames)\n",
    "functionNames\n",
    "\n",
    "print(DF.query('functionName.str.endswith(\"VECSET\")', engine='python'))"
   ]
  },
  {
   "cell_type": "markdown",
   "metadata": {},
   "source": [
    "# 既存のモデルが意図したとおりに実装できているかを確認する"
   ]
  },
  {
   "cell_type": "code",
   "execution_count": null,
   "metadata": {},
   "outputs": [],
   "source": [
    "# ipynb形式のライブラリのインポート\n",
    "%run ./lib.ipynb"
   ]
  },
  {
   "cell_type": "code",
   "execution_count": null,
   "metadata": {},
   "outputs": [],
   "source": [
    "plot_x = np.linspace(1, 30, 50, dtype=float)"
   ]
  },
  {
   "cell_type": "markdown",
   "metadata": {},
   "source": [
    "### 対数モデル"
   ]
  },
  {
   "cell_type": "code",
   "execution_count": null,
   "metadata": {},
   "outputs": [],
   "source": [
    "# 対数モデルmk2\n",
    "# ModelBaseを継承した対数モデルはどこかに不具合がある。\n",
    "# ModelBase2を継承して、改修した対数モデルがこのモデル。\n",
    "\n",
    "class ModelLog10_mk2(ModelBase2):\n",
    "\n",
    "    def calc_lr(self):\n",
    "        self.transformer_log10 = sp.FunctionTransformer(func=np.log10, inverse_func=inverter_log10_func)\n",
    "        x_train_log10 = self.transformer_log10.transform(self.train_x)\n",
    "        self.lr = LinearRegression()\n",
    "        self.lr.fit(x_train_log10, self.train_y)\n",
    "\n",
    "    def predict(self, num):\n",
    "        numConverted = self.transformer_log10.transform(num)\n",
    "        predicted = self.lr.predict(numConverted)\n",
    "        return(predicted)\n",
    "    \n",
    "    def return_coef_(self):\n",
    "        return self.lr.coef_\n",
    "    \n",
    "    def return_intercept_(self):\n",
    "        return self.lr.intercept_\n",
    "\n",
    "    def ModelName(self):\n",
    "        return(\"ModelLog10_mk2\")\n",
    "\n",
    "# # 使用例\n",
    "# modelLog10Mk2 = ModelIp_mk2(train_x=train_x, train_y=train_y, target_x=target_x, target_y=target_y)\n",
    "# modelLog10Mk2.calc_lr()\n",
    "# plot_y = modelLog10Mk2.predict(plot_x)"
   ]
  },
  {
   "cell_type": "code",
   "execution_count": null,
   "metadata": {},
   "outputs": [],
   "source": [
    "fig = plt.figure(figsize=(12, 9))\n",
    "# y = -2 * log_10(x) + 3 でプロットする\n",
    "\n",
    "plot_y_log10_baseLine = -2 * np.log10(plot_x) + 3\n",
    "plt.plot(plot_x, plot_y_log10_baseLine, label=\"基準となる線(-2 * log_10(x) + 3)\")\n",
    "\n",
    "# 予測を実行してプロットする\n",
    "## 作成したデータから学習用データ・テスト用データに切り分ける\n",
    "\n",
    "train_x, target_x, train_y, target_y = plot_x[:-25], plot_x[-25:], plot_y_log10_baseLine[:-25], plot_y_log10_baseLine[-25:]\n",
    "\n",
    "model_log10 = ModelLog10(\n",
    "    train_x, train_y, test_ratio=0\n",
    ")\n",
    "plot_x = np.array(plot_x).reshape(-1, 1)\n",
    "plot_y_log10 = np.array(plot_y_log10_baseLine).reshape(-1, 1)\n",
    "\n",
    "model_log10.calc_lr()\n",
    "plot_y_log10 = model_log10.predict(plot_x)\n",
    "plt.plot(plot_x, plot_y_log10, label=f\"対数モデル(coef={model_log10.return_coef_()},intercept={model_log10.return_intercept_()})\")\n",
    "\n",
    "# ModelBase2を継承した ModelLog10_mk2 を用いて予測・プロットする\n",
    "model_log10mk2 = ModelLog10_mk2(train_x=train_x, train_y=train_y, target_x=target_x, target_y=target_y)\n",
    "model_log10mk2.calc_lr()\n",
    "plot_y_log10_mk2 = model_log10mk2.predict(plot_x)\n",
    "plt.plot(plot_x, plot_y_log10_mk2, label=f\"対数モデルmk2(coef={model_log10mk2.return_coef_()},intercept={model_log10mk2.return_intercept_()})\")\n",
    "\n",
    "plt.legend()"
   ]
  },
  {
   "cell_type": "markdown",
   "metadata": {},
   "source": [
    "### 反比例モデル"
   ]
  },
  {
   "cell_type": "code",
   "execution_count": null,
   "metadata": {},
   "outputs": [],
   "source": [
    "# y = -2 * (1/x) + 3 でプロットする\n",
    "\n",
    "# 予測を実行してプロットする"
   ]
  },
  {
   "cell_type": "code",
   "execution_count": null,
   "metadata": {},
   "outputs": [],
   "source": []
  }
 ],
 "metadata": {
  "kernelspec": {
   "display_name": "Python 3",
   "language": "python",
   "name": "python3"
  },
  "language_info": {
   "codemirror_mode": {
    "name": "ipython",
    "version": 3
   },
   "file_extension": ".py",
   "mimetype": "text/x-python",
   "name": "python",
   "nbconvert_exporter": "python",
   "pygments_lexer": "ipython3",
   "version": "3.9.4"
  }
 },
 "nbformat": 4,
 "nbformat_minor": 4
}
