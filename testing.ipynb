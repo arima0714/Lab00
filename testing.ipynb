{
 "cells": [
  {
   "cell_type": "code",
   "execution_count": 1,
   "metadata": {},
   "outputs": [],
   "source": [
    "# ipynb形式のライブラリのインポート\n",
    "%run ./lib.ipynb"
   ]
  },
  {
   "cell_type": "code",
   "execution_count": 2,
   "metadata": {},
   "outputs": [],
   "source": [
    "# pd.set_option('display.max_rows', 500)\n",
    "# pd.set_option('display.max_columns', 100)\n",
    "# # ##### 各関数での実行時間を保存するためのCSVの空データを作成するための処理 #####\n",
    "# # Processes = []\n",
    "# # for i in range(1,16):\n",
    "# #     Processes.append(i*i)\n",
    "# # for j in range(9):\n",
    "# #     Processes.append(2**j)\n",
    "# # Processes = list(set(Processes))\n",
    "# # Processes.sort()\n",
    "# # index = classes\n",
    "# # EmptyDF = pd.DataFrame(index=index, columns=Processes)\n",
    "# # for benchmark in benchmarks:\n",
    "# #     EmptyDF.to_csv(f\"./csv_files/ExecTime@{benchmark}.csv\")\n",
    "\n",
    "# ##### 各ベンチマークの実行時間を記録する処理\n",
    "# # # Benchmarks = []\n",
    "# # # for benchmark in benchmarks:\n",
    "# # #     Benchmarks.append(benchmark.upper())\n",
    "# # # print(Benchmarks)\n",
    "\n",
    "# # Processes = [8, 16, 32, 64, 128, 256]\n",
    "# # for process in Processes:\n",
    "# #     TimeDataList = return_TimeDataList(process)\n",
    "# #     for DictData in TimeDataList:\n",
    "# #         benchmark = DictData.benchmark\n",
    "# #         process = DictData.process\n",
    "# #         BenchmarkClass = DictData.BenchmarkClass\n",
    "# #         time = DictData.time\n",
    "# #         FillCSV(benchmark=benchmark, process=process, BenchmarkClass=BenchmarkClass, time=time)\n",
    "\n",
    "# # # print(TimeDataList[0].return_AllData())\n",
    "\n",
    "\n",
    "\n",
    "\n",
    "# # for benchmark in ['bt', 'mg', 'sp']:\n",
    "# FixClass = \"B\"\n",
    "# for benchmark in ['mg']:\n",
    "#     print(f\"benchmark={benchmark}\")\n",
    "#     TargetDF = return_FixedClassModelDF(benchmark=benchmark, FixClass=FixClass)\n",
    "#     BestModelsInTargetDF = BestModelsInDF(TargetDF)\n",
    "#     print(BestModelsInTargetDF)\n",
    "#     TargetDF = return_ErrorRateFixedClassDFwithAverage(benchmark = benchmark , FixClass=FixClass)\n",
    "#     print(TargetDF)\n",
    "\n",
    "# # for benchmark in ['bt', 'mg', 'sp']:\n",
    "# for benchmark in ['mg']:\n",
    "#     ProcessExcludeBTSP = [1,2,4,8,16,32,64,128,256]\n",
    "#     ProcessIncludeBTSP = [1, 4, 16, 64, 256]\n",
    "\n",
    "#     TestRates = [0, 0.2, 0.4, 0.6, 0.8]\n",
    "#     if(benchmark == \"bt\" or benchmark == \"sp\"):\n",
    "#         processes=ProcessIncludeBTSP\n",
    "#     else:\n",
    "#         processes=ProcessExcludeBTSP\n",
    "#     RawDataList = return_fixed_class(BenchMark=benchmark, Processes=processes,FixedBenchMarkClass=FixClass)\n",
    "#     RawDataDF = pd.concat(RawDataList, axis=1)\n",
    "#     print(RawDataDF)\n",
    "# print('SET_CLASS' in RawDataDF.index.tolist())\n",
    "# print(RawDataDF.loc['SET_CLASS'])\n",
    "\n",
    "# for benchmark in benchmarks:\n",
    "#     print(return_ErrorRateFixedProcess_AveragePredictCostRealCost(benchmark=benchmark, FixProcess=64, predict_class=\"D\"))\n",
    "#     print(return_ErrorRateFixedClass_AveragePredictCostRealCost(benchmark=benchmark, FixClass=\"B\", predict_process=256))\n",
    "\n",
    "# \"SET_CLASS\"に代表される関数が、プロファイル数が2個のときだけ突飛な平均誤差率を出力する。その原因は学主データ二個だと基本的に線形モデルを採用することになるが、そうすると、実際の最適モデルが反比例や対数だった場合に予測値と実測値が大幅にずれる。したがって、プロファイル数が2個のときにだけ突飛な平均誤差率を出力する。\n",
    "\n",
    "# 実際に予測することになる関数のみだけを、表示するようにして、出力されるデータを見やすくする(↑の話)。\n",
    "\n",
    "# 表のタイトルをそのまま保存時のファイル名にすればええんか"
   ]
  },
  {
   "cell_type": "code",
   "execution_count": 3,
   "metadata": {
    "tags": []
   },
   "outputs": [],
   "source": [
    "# # 問題サイズDに対する予測で、プロファイル数３の時の平均平均誤差率 < プロファイル数４の時の平均平均誤差率　となっているものを探す\n",
    "# Fixed=\"Process\"\n",
    "# Fix=64\n",
    "# FixProcess=Fix\n",
    "# Predict=\"D\"\n",
    "# predict_class=Predict\n",
    "# EnableTitle=False\n",
    "# SaveGraph=False\n",
    "# for benchmark in benchmarks:\n",
    "#     ErrorRateFixedProcess = return_ErrorRateFixedProcessAverageAndCosts(benchmark=benchmark, FixProcess=FixProcess, predict_class=predict_class)\n",
    "#     print(benchmark)\n",
    "#     ErrorRateFixedProcess\n",
    "\n",
    "# for benchmark in benchmarks:\n",
    "#     print(f\"FixProcess_{benchmark}\")\n",
    "#     FixProcessDF = return_summarized_Fixed_dataframe(BenchMark_name = benchmark, fixed=\"process\")\n",
    "#     FixProcessDFwithoutNaN = FixProcessDF.dropna(how='any', axis=0)\n",
    "#     FixProcessDFwithoutNaN\n",
    "#     indice = FixProcessDFwithoutNaN.T.index.tolist()\n",
    "#     columns = FixProcessDFwithoutNaN.T.columns.tolist()\n",
    "#     plt.figure()\n",
    "#     x = indice\n",
    "#     for column in columns:\n",
    "#         y = FixProcessDFwithoutNaN.loc[column]\n",
    "#         plt.plot(x, y, label=column)\n",
    "#     plt.yscale('log')\n",
    "#     plt.legend()\n",
    "#     plt.show()\n",
    "\n",
    "# for benchmark in benchmarks:\n",
    "#     print(f\"FixClass_{benchmark}\")\n",
    "#     FixClassDF = return_summarized_Fixed_dataframe(BenchMark_name = benchmark, fixed=\"class\")\n",
    "#     FixClassDFwithoutNaN = FixClassDF.dropna(how='any', axis=0)\n",
    "#     FixClassDFwithoutNaN\n",
    "#     indice = FixClassDFwithoutNaN.T.index.tolist()\n",
    "#     columns = FixClassDFwithoutNaN.T.columns.tolist()\n",
    "#     plt.figure()\n",
    "#     x = indice\n",
    "#     for column in columns:\n",
    "#         y = FixClassDFwithoutNaN.loc[column]\n",
    "#         plt.plot(x, y, label=column)\n",
    "#     plt.yscale('log')\n",
    "#     plt.legend()\n",
    "#     plt.show()"
   ]
  },
  {
   "cell_type": "markdown",
   "metadata": {},
   "source": [
    "## 以下記述移行予定"
   ]
  },
  {
   "cell_type": "code",
   "execution_count": 4,
   "metadata": {
    "tags": []
   },
   "outputs": [],
   "source": [
    "# # ベンチマークCGでプロセス数を固定したもの\n",
    "\n",
    "# outputDF = 0\n",
    "# for benchmark in [\"cg\"]:\n",
    "#     print(f\"FixProcess_{benchmark}\")\n",
    "#     FixProcessDF = return_summarized_Fixed_dataframe(BenchMark_name = benchmark, fixed=\"process\")\n",
    "#     FixProcessDFwithoutNaN = FixProcessDF.dropna(how='any', axis=0)\n",
    "#     outputDF = FixProcessDFwithoutNaN\n",
    "#     indice = FixProcessDFwithoutNaN.T.index.tolist()\n",
    "#     columns = FixProcessDFwithoutNaN.T.columns.tolist()\n",
    "#     plt.figure()\n",
    "#     x = indice\n",
    "#     for column in columns:\n",
    "#         y = FixProcessDFwithoutNaN.loc[column]\n",
    "#         plt.plot(x, y, label=column)\n",
    "#     plt.yscale('log')\n",
    "#     plt.legend()\n",
    "#     plt.show()\n",
    "# ICNVRTfixProcessDF = outputDF.loc[\"ICNVRT\":\"ICNVRT\"]\n",
    "# ICNVRTfixProcessDF\n",
    "\n",
    "# # ベンチマークCGでベンチマーククラスを固定したもの\n",
    "\n",
    "# outputDF = 0\n",
    "# for benchmark in [\"cg\"]:\n",
    "#     print(f\"FixClass_{benchmark}\")\n",
    "#     FixClassDF = return_summarized_Fixed_dataframe(BenchMark_name = benchmark, fixed=\"class\")\n",
    "#     FixClassDFwithoutNaN = FixClassDF.dropna(how='any', axis=0)\n",
    "#     outputDF = FixClassDFwithoutNaN\n",
    "#     indice = FixClassDFwithoutNaN.T.index.tolist()\n",
    "#     columns = FixClassDFwithoutNaN.T.columns.tolist()\n",
    "#     plt.figure()\n",
    "#     x = indice\n",
    "#     for column in columns:\n",
    "#         y = FixClassDFwithoutNaN.loc[column]\n",
    "#         plt.plot(x, y, label=column)\n",
    "#     plt.yscale('log')\n",
    "#     plt.legend()\n",
    "#     plt.show()\n",
    "# ICNVRTfixClassDF = outputDF.loc[\"ICNVRT\":\"ICNVRT\"]\n",
    "# ICNVRTfixClassDF\n",
    "\n",
    "# intList = ConvertBenchmarkClasses(ICNVRTfixProcessDF.columns.tolist())\n",
    "# intList\n",
    "# ICNVRTfixProcessDF.columns = intList\n",
    "# ICNVRTfixProcessDF\n",
    "# ICNVRTfixClassDF"
   ]
  },
  {
   "cell_type": "markdown",
   "metadata": {},
   "source": [
    "fixProcess用入力\n",
    "\n",
    "```\n",
    "PARAMETER p\n",
    "POINTS (1) (4) (16)\n",
    "\n",
    "REGION example\n",
    "METRIC time\n",
    "DATA 180347 180347 180347\n",
    "DATA 1706010.0 1706010.0 1706010.0\n",
    "DATA 3936140.0 3936140.0 3936140.0\n",
    "```\n",
    "\n",
    "fixProcess用出力\n",
    "\n",
    "```\n",
    "Callpath: example\n",
    "\tMetric: time\n",
    "\t\tMeasurement point: (1.00E+00) Mean: 1.80E+05 Median: 1.80E+05\n",
    "\t\tMeasurement point: (4.00E+00) Mean: 1.71E+06 Median: 1.71E+06\n",
    "\t\tMeasurement point: (1.60E+01) Mean: 3.94E+06 Median: 3.94E+06\n",
    "\t\tModel: -3590464.6990329633 + 3759195.349891038 * p^(1/4)\n",
    "\t\tRSS: 8.79E+09\n",
    "\t\tAdjusted R^2: 9.98E-01\n",
    "```\n",
    "\n",
    "fixClass用入力\n",
    "\n",
    "```\n",
    "PARAMETER p\n",
    "POINTS (1) (2) (4) (8) (16) (32) (64) (128)\n",
    "\n",
    "REGION example\n",
    "METRIC time\n",
    "DATA 1984770.0 1984770.0 1984770.0\n",
    "DATA 2263540.0 2263540.0 2263540.0\n",
    "DATA 2821070.0 2821070.0 2821070.0\n",
    "DATA 3936140.0 3936140.0 3936140.0\n",
    "DATA 3936140.0 3936140.0 3936140.0\n",
    "DATA 3936140.0 3936140.0 3936140.0\n",
    "DATA 3936140.0 3936140.0 3936140.0\n",
    "DATA 3936140.0 3936140.0 3936140.0\n",
    "```\n",
    "\n",
    "fixClass用出力\n",
    "\n",
    "\n",
    "```\n",
    "Callpath: example\n",
    "\tMetric: time\n",
    "\t\tMeasurement point: (1.00E+00) Mean: 1.98E+06 Median: 1.98E+06\n",
    "\t\tMeasurement point: (2.00E+00) Mean: 2.26E+06 Median: 2.26E+06\n",
    "\t\tMeasurement point: (4.00E+00) Mean: 2.82E+06 Median: 2.82E+06\n",
    "\t\tMeasurement point: (8.00E+00) Mean: 3.94E+06 Median: 3.94E+06\n",
    "\t\tMeasurement point: (1.60E+01) Mean: 3.94E+06 Median: 3.94E+06\n",
    "\t\tMeasurement point: (3.20E+01) Mean: 3.94E+06 Median: 3.94E+06\n",
    "\t\tMeasurement point: (6.40E+01) Mean: 3.94E+06 Median: 3.94E+06\n",
    "\t\tMeasurement point: (1.28E+02) Mean: 3.94E+06 Median: 3.94E+06\n",
    "\t\tModel: 2286768.3333333326 + 301997.61904761934 * log2(p)^(1)\n",
    "\t\tRSS: 2.18E+12\n",
    "\t\tAdjusted R^2: 4.96E-01\n",
    "```\n"
   ]
  },
  {
   "cell_type": "code",
   "execution_count": 5,
   "metadata": {},
   "outputs": [
    {
     "data": {
      "text/plain": [
       "<Figure size 2000x2000 with 0 Axes>"
      ]
     },
     "execution_count": 5,
     "metadata": {},
     "output_type": "execute_result"
    },
    {
     "data": {
      "text/plain": [
       "[<matplotlib.lines.Line2D at 0x7f6525ff2550>]"
      ]
     },
     "execution_count": 5,
     "metadata": {},
     "output_type": "execute_result"
    },
    {
     "data": {
      "text/plain": [
       "<matplotlib.collections.PathCollection at 0x7f6525ff2880>"
      ]
     },
     "execution_count": 5,
     "metadata": {},
     "output_type": "execute_result"
    },
    {
     "data": {
      "text/plain": [
       "<matplotlib.collections.PathCollection at 0x7f65a85dc280>"
      ]
     },
     "execution_count": 5,
     "metadata": {},
     "output_type": "execute_result"
    },
    {
     "data": {
      "text/plain": [
       "[<matplotlib.lines.Line2D at 0x7f6523fa40d0>]"
      ]
     },
     "execution_count": 5,
     "metadata": {},
     "output_type": "execute_result"
    },
    {
     "data": {
      "text/plain": [
       "[<matplotlib.lines.Line2D at 0x7f6523fa44f0>]"
      ]
     },
     "execution_count": 5,
     "metadata": {},
     "output_type": "execute_result"
    },
    {
     "data": {
      "text/plain": [
       "[<matplotlib.lines.Line2D at 0x7f6523fa4910>]"
      ]
     },
     "execution_count": 5,
     "metadata": {},
     "output_type": "execute_result"
    },
    {
     "data": {
      "text/plain": [
       "[<matplotlib.lines.Line2D at 0x7f6523fa4cd0>]"
      ]
     },
     "execution_count": 5,
     "metadata": {},
     "output_type": "execute_result"
    },
    {
     "data": {
      "text/plain": [
       "<matplotlib.legend.Legend at 0x7f6523fa4b80>"
      ]
     },
     "execution_count": 5,
     "metadata": {},
     "output_type": "execute_result"
    },
    {
     "data": {
      "text/plain": [
       "Text(0, 0.5, '関数コール回数')"
      ]
     },
     "execution_count": 5,
     "metadata": {},
     "output_type": "execute_result"
    },
    {
     "data": {
      "text/plain": [
       "Text(0.5, 0, '問題サイズ[A=1, B=4, C=16, D=256]')"
      ]
     },
     "execution_count": 5,
     "metadata": {},
     "output_type": "execute_result"
    },
    {
     "data": {
      "image/png": "[encoded data removed]",
      "text/plain": [
       "<Figure size 2000x2000 with 1 Axes>"
      ]
     },
     "metadata": {
      "needs_background": "light"
     },
     "output_type": "display_data"
    }
   ],
   "source": [
    "plt.figure(figsize=(10,10),dpi=200)\n",
    "\n",
    "# Extra-PでfixProcessデータを入力して出力したモデルの図時\n",
    "plot_x = np.linspace(0.01, 256, 500)\n",
    "# -3590464.6990329633 + 3759195.349891038 * p^(1/4)\n",
    "plot_y = []\n",
    "for x in plot_x:\n",
    "    plot_y.append(-3590464.6990329633 + 3759195.349891038 * x**(1/4))\n",
    "plt.plot(plot_x, plot_y, label=\"ExtraP\")\n",
    "\n",
    "x = [1, 4, 16]\n",
    "y = [180347, 1706010, 3936140]\n",
    "x = np.array(x).reshape(-1,1)\n",
    "y = np.array(y).reshape(-1,1)\n",
    "plt.scatter(x, y, marker=\"o\", label=\"予測に用いた関数コール回数\")\n",
    "plot_x = np.array(plot_x).reshape(-1, 1)\n",
    "x_target = [256]\n",
    "y_target = [44047200]\n",
    "plt.scatter(x_target, y_target, marker=\"o\", label=\"予測したい関数コール回数の実測値\")\n",
    "\n",
    "# 線形モデル\n",
    "model_lin = ModelLin(x, y, \"CG\", \"ICNVRT\", test_ratio=0)\n",
    "model_lin.calc_lr()\n",
    "plot_y_lin = model_lin.predict(plot_x)\n",
    "plt.plot(plot_x, plot_y_lin, label=\"線形モデル\")\n",
    "# logモデル\n",
    "model_log10 = ModelLog10(x, y, \"CG\", \"ICNVRT\", test_ratio=0)\n",
    "model_log10.calc_lr()\n",
    "plot_y_log10 = model_log10.predict(plot_x)\n",
    "plt.plot(plot_x, plot_y_log10, label=\"対数モデル\")\n",
    "# 反比例モデル\n",
    "model_ip = ModelIP(x, y, \"CG\", \"ICNVRT\", test_ratio=0)\n",
    "model_ip.calc_lr()\n",
    "plot_y_ip = model_ip.predict(plot_x)\n",
    "plt.plot(plot_x, plot_y_ip, label=\"反比例モデル\")\n",
    "# 線形飽和モデル\n",
    "model_branch = ModelBranch(x, y, \"CG\", \"ICNVRT\", test_ratio=0)\n",
    "model_branch.calc_lr()\n",
    "plot_y_branch = model_branch.predict(plot_x)\n",
    "plt.plot(plot_x, plot_y_branch, label=\"線形飽和モデル\")\n",
    "# 凡例の表示\n",
    "plt.legend()\n",
    "# 軸ラベルの設定\n",
    "plt.ylabel(\"関数コール回数\")\n",
    "plt.xlabel(\"問題サイズ[A=1, B=4, C=16, D=256]\")\n"
   ]
  },
  {
   "cell_type": "code",
   "execution_count": 6,
   "metadata": {},
   "outputs": [
    {
     "data": {
      "text/plain": [
       "<Figure size 2000x2000 with 0 Axes>"
      ]
     },
     "execution_count": 6,
     "metadata": {},
     "output_type": "execute_result"
    },
    {
     "data": {
      "text/plain": [
       "[<matplotlib.lines.Line2D at 0x7f6523701580>]"
      ]
     },
     "execution_count": 6,
     "metadata": {},
     "output_type": "execute_result"
    },
    {
     "data": {
      "text/plain": [
       "<matplotlib.collections.PathCollection at 0x7f6523701a00>"
      ]
     },
     "execution_count": 6,
     "metadata": {},
     "output_type": "execute_result"
    },
    {
     "data": {
      "text/plain": [
       "<matplotlib.collections.PathCollection at 0x7f6523701880>"
      ]
     },
     "execution_count": 6,
     "metadata": {},
     "output_type": "execute_result"
    },
    {
     "data": {
      "text/plain": [
       "[<matplotlib.lines.Line2D at 0x7f65237130d0>]"
      ]
     },
     "execution_count": 6,
     "metadata": {},
     "output_type": "execute_result"
    },
    {
     "data": {
      "text/plain": [
       "[<matplotlib.lines.Line2D at 0x7f6523713340>]"
      ]
     },
     "execution_count": 6,
     "metadata": {},
     "output_type": "execute_result"
    },
    {
     "data": {
      "text/plain": [
       "[<matplotlib.lines.Line2D at 0x7f6523713700>]"
      ]
     },
     "execution_count": 6,
     "metadata": {},
     "output_type": "execute_result"
    },
    {
     "data": {
      "text/plain": [
       "[<matplotlib.lines.Line2D at 0x7f6523713c10>]"
      ]
     },
     "execution_count": 6,
     "metadata": {},
     "output_type": "execute_result"
    },
    {
     "data": {
      "text/plain": [
       "<matplotlib.legend.Legend at 0x7f652608e220>"
      ]
     },
     "execution_count": 6,
     "metadata": {},
     "output_type": "execute_result"
    },
    {
     "data": {
      "text/plain": [
       "Text(0, 0.5, '関数コール回数')"
      ]
     },
     "execution_count": 6,
     "metadata": {},
     "output_type": "execute_result"
    },
    {
     "data": {
      "text/plain": [
       "Text(0.5, 0, '実行コア数')"
      ]
     },
     "execution_count": 6,
     "metadata": {},
     "output_type": "execute_result"
    },
    {
     "data": {
      "text/plain": [
       "<matplotlib.collections.PathCollection at 0x7f652372b550>"
      ]
     },
     "execution_count": 6,
     "metadata": {},
     "output_type": "execute_result"
    },
    {
     "data": {
      "image/png": "[encoded data removed]",
      "text/plain": [
       "<Figure size 2000x2000 with 1 Axes>"
      ]
     },
     "metadata": {
      "needs_background": "light"
     },
     "output_type": "display_data"
    }
   ],
   "source": [
    "plt.figure(figsize=(10,10),dpi=200)\n",
    "\n",
    "# Extra-PでfixProcessデータを入力して出力したモデルの図時\n",
    "plot_x = np.linspace(0.01, 256, 500)\n",
    "# -3590464.6990329633 + 3759195.349891038 * p^(1/4)\n",
    "plot_y = []\n",
    "for x in plot_x:\n",
    "    plot_y.append(2286768.3333333326 + 301997.61904761934 * math.log2(x)**(1))\n",
    "plt.plot(plot_x, plot_y, label=\"ExtraP\")\n",
    "\n",
    "x = [1, 2, 4, 8, 16, 32, 64, 128]\n",
    "y = [1984770.0, 2263540.0, 2821070.0, 3936140.0, 3936140.0, 3936140.0, 3936140.0, 3936140.0]\n",
    "x = np.array(x).reshape(-1,1)\n",
    "y = np.array(y).reshape(-1, 1)\n",
    "plt.scatter(x, y, marker=\"o\", label=\"予測に用いた関数コール回数\")\n",
    "plot_x = np.array(plot_x).reshape(-1, 1)\n",
    "x_target = [256]\n",
    "y_target = [3936140]\n",
    "plt.scatter(x_target, y_target, marker=\"o\", label=\"予測したい関数コール回数の実測値\")\n",
    "\n",
    "# 線形モデル\n",
    "model_lin = ModelLin(x, y, \"CG\", \"ICNVRT\", test_ratio=0)\n",
    "model_lin.calc_lr()\n",
    "plot_y_lin = model_lin.predict(plot_x)\n",
    "plt.plot(plot_x, plot_y_lin, label=\"線形モデル\")\n",
    "# 対数モデル\n",
    "model_log10 = ModelLog10(x, y, \"CG\", \"ICNVRT\", test_ratio=0)\n",
    "model_log10.calc_lr()\n",
    "plot_y_log10 = model_log10.predict(plot_x)\n",
    "plt.plot(plot_x, plot_y_log10, label=\"対数モデル\")\n",
    "# 反比例モデル\n",
    "model_ip = ModelIP(x, y, \"CG\", \"ICNVRT\", test_ratio=0)\n",
    "model_ip.calc_lr()\n",
    "plot_y_ip = model_ip.predict(plot_x)\n",
    "plt.plot(plot_x, plot_y_ip, label=\"反比例モデル\")\n",
    "# 線形飽和モデル\n",
    "model_branch = ModelBranch(x, y, \"CG\", \"ICNVRT\", test_ratio=0)\n",
    "model_branch.calc_lr()\n",
    "plot_y_branch = model_branch.predict(plot_x)\n",
    "plt.plot(plot_x, plot_y_branch, label=\"線形飽和モデル\")\n",
    "# 凡例の表示\n",
    "plt.legend()\n",
    "# 軸ラベルの設定\n",
    "plt.ylabel(\"関数コール回数\")\n",
    "plt.xlabel(\"実行コア数\")\n",
    "\n",
    "plt.scatter(x, y, marker=\"o\")"
   ]
  },
  {
   "cell_type": "code",
   "execution_count": 7,
   "metadata": {},
   "outputs": [
    {
     "data": {
      "text/plain": [
       "{'bt': ['LHSABINIT', 'MPI_Irecv()', 'MPI_Wait()'],\n",
       " 'cg': ['CONJ_GRAD', 'MPI_Irecv()'],\n",
       " 'ep': [],\n",
       " 'ft': ['CHECKSUM'],\n",
       " 'is': [],\n",
       " 'lu': ['EXACT'],\n",
       " 'mg': ['GIVE3_EX'],\n",
       " 'sp': ['LHSX', 'MPI_Irecv()', 'MPI_Waitall()']}"
      ]
     },
     "execution_count": 7,
     "metadata": {},
     "output_type": "execute_result"
    }
   ],
   "source": [
    "FixedProcessDict = {}\n",
    "for benchmark in benchmarks:\n",
    "    targetDF = return_ErrorRateFixedProcessDF(benchmark=benchmark, FixProcess=64, predict_class=\"D\")\n",
    "    columns = targetDF.columns.tolist()\n",
    "    # データ数4の予測精度よりデータ数3の予測精度のほうが高いものを抽出\n",
    "    targetDF = targetDF[targetDF[columns[0]] > targetDF[columns[1]] ]\n",
    "    # データが同じことに由来する重複を削除\n",
    "    targetDF = targetDF[~targetDF.duplicated()]\n",
    "    targetFunctionNameList = targetDF.index.tolist()\n",
    "    FixedProcessDict[benchmark] = targetFunctionNameList\n",
    "FixedProcessDict"
   ]
  },
  {
   "cell_type": "code",
   "execution_count": 8,
   "metadata": {},
   "outputs": [
    {
     "name": "stdout",
     "output_type": "stream",
     "text": [
      "-----bt-----\n"
     ]
    },
    {
     "data": {
      "text/html": [
       "<div>\n",
       "<style scoped>\n",
       "    .dataframe tbody tr th:only-of-type {\n",
       "        vertical-align: middle;\n",
       "    }\n",
       "\n",
       "    .dataframe tbody tr th {\n",
       "        vertical-align: top;\n",
       "    }\n",
       "\n",
       "    .dataframe thead th {\n",
       "        text-align: right;\n",
       "    }\n",
       "</style>\n",
       "<table border=\"1\" class=\"dataframe\">\n",
       "  <thead>\n",
       "    <tr style=\"text-align: right;\">\n",
       "      <th></th>\n",
       "      <th>A</th>\n",
       "      <th>B</th>\n",
       "      <th>C</th>\n",
       "      <th>D</th>\n",
       "    </tr>\n",
       "    <tr>\n",
       "      <th>Name</th>\n",
       "      <th></th>\n",
       "      <th></th>\n",
       "      <th></th>\n",
       "      <th></th>\n",
       "    </tr>\n",
       "  </thead>\n",
       "  <tbody>\n",
       "    <tr>\n",
       "      <th>LHSABINIT</th>\n",
       "      <td>4824.0</td>\n",
       "      <td>4824.0</td>\n",
       "      <td>4824.0</td>\n",
       "      <td>6024.0</td>\n",
       "    </tr>\n",
       "  </tbody>\n",
       "</table>\n",
       "</div>"
      ],
      "text/plain": [
       "                A       B       C       D\n",
       "Name                                     \n",
       "LHSABINIT  4824.0  4824.0  4824.0  6024.0"
      ]
     },
     "execution_count": 8,
     "metadata": {},
     "output_type": "execute_result"
    },
    {
     "data": {
      "text/html": [
       "<div>\n",
       "<style scoped>\n",
       "    .dataframe tbody tr th:only-of-type {\n",
       "        vertical-align: middle;\n",
       "    }\n",
       "\n",
       "    .dataframe tbody tr th {\n",
       "        vertical-align: top;\n",
       "    }\n",
       "\n",
       "    .dataframe thead th {\n",
       "        text-align: right;\n",
       "    }\n",
       "</style>\n",
       "<table border=\"1\" class=\"dataframe\">\n",
       "  <thead>\n",
       "    <tr style=\"text-align: right;\">\n",
       "      <th></th>\n",
       "      <th>A</th>\n",
       "      <th>B</th>\n",
       "      <th>C</th>\n",
       "      <th>D</th>\n",
       "    </tr>\n",
       "    <tr>\n",
       "      <th>Name</th>\n",
       "      <th></th>\n",
       "      <th></th>\n",
       "      <th></th>\n",
       "      <th></th>\n",
       "    </tr>\n",
       "  </thead>\n",
       "  <tbody>\n",
       "    <tr>\n",
       "      <th>MPI_Irecv()</th>\n",
       "      <td>9654.0</td>\n",
       "      <td>9654.0</td>\n",
       "      <td>9654.0</td>\n",
       "      <td>12054.0</td>\n",
       "    </tr>\n",
       "  </tbody>\n",
       "</table>\n",
       "</div>"
      ],
      "text/plain": [
       "                  A       B       C        D\n",
       "Name                                        \n",
       "MPI_Irecv()  9654.0  9654.0  9654.0  12054.0"
      ]
     },
     "execution_count": 8,
     "metadata": {},
     "output_type": "execute_result"
    },
    {
     "data": {
      "text/html": [
       "<div>\n",
       "<style scoped>\n",
       "    .dataframe tbody tr th:only-of-type {\n",
       "        vertical-align: middle;\n",
       "    }\n",
       "\n",
       "    .dataframe tbody tr th {\n",
       "        vertical-align: top;\n",
       "    }\n",
       "\n",
       "    .dataframe thead th {\n",
       "        text-align: right;\n",
       "    }\n",
       "</style>\n",
       "<table border=\"1\" class=\"dataframe\">\n",
       "  <thead>\n",
       "    <tr style=\"text-align: right;\">\n",
       "      <th></th>\n",
       "      <th>A</th>\n",
       "      <th>B</th>\n",
       "      <th>C</th>\n",
       "      <th>D</th>\n",
       "    </tr>\n",
       "    <tr>\n",
       "      <th>Name</th>\n",
       "      <th></th>\n",
       "      <th></th>\n",
       "      <th></th>\n",
       "      <th></th>\n",
       "    </tr>\n",
       "  </thead>\n",
       "  <tbody>\n",
       "    <tr>\n",
       "      <th>MPI_Wait()</th>\n",
       "      <td>16884.0</td>\n",
       "      <td>16884.0</td>\n",
       "      <td>16884.0</td>\n",
       "      <td>21084.0</td>\n",
       "    </tr>\n",
       "  </tbody>\n",
       "</table>\n",
       "</div>"
      ],
      "text/plain": [
       "                  A        B        C        D\n",
       "Name                                          \n",
       "MPI_Wait()  16884.0  16884.0  16884.0  21084.0"
      ]
     },
     "execution_count": 8,
     "metadata": {},
     "output_type": "execute_result"
    },
    {
     "name": "stdout",
     "output_type": "stream",
     "text": [
      "-----cg-----\n"
     ]
    },
    {
     "data": {
      "text/html": [
       "<div>\n",
       "<style scoped>\n",
       "    .dataframe tbody tr th:only-of-type {\n",
       "        vertical-align: middle;\n",
       "    }\n",
       "\n",
       "    .dataframe tbody tr th {\n",
       "        vertical-align: top;\n",
       "    }\n",
       "\n",
       "    .dataframe thead th {\n",
       "        text-align: right;\n",
       "    }\n",
       "</style>\n",
       "<table border=\"1\" class=\"dataframe\">\n",
       "  <thead>\n",
       "    <tr style=\"text-align: right;\">\n",
       "      <th></th>\n",
       "      <th>A</th>\n",
       "      <th>B</th>\n",
       "      <th>C</th>\n",
       "      <th>D</th>\n",
       "    </tr>\n",
       "    <tr>\n",
       "      <th>Name</th>\n",
       "      <th></th>\n",
       "      <th></th>\n",
       "      <th></th>\n",
       "      <th></th>\n",
       "    </tr>\n",
       "  </thead>\n",
       "  <tbody>\n",
       "    <tr>\n",
       "      <th>CONJ_GRAD</th>\n",
       "      <td>16</td>\n",
       "      <td>76.0</td>\n",
       "      <td>76.0</td>\n",
       "      <td>101.0</td>\n",
       "    </tr>\n",
       "  </tbody>\n",
       "</table>\n",
       "</div>"
      ],
      "text/plain": [
       "            A     B     C      D\n",
       "Name                            \n",
       "CONJ_GRAD  16  76.0  76.0  101.0"
      ]
     },
     "execution_count": 8,
     "metadata": {},
     "output_type": "execute_result"
    },
    {
     "data": {
      "text/html": [
       "<div>\n",
       "<style scoped>\n",
       "    .dataframe tbody tr th:only-of-type {\n",
       "        vertical-align: middle;\n",
       "    }\n",
       "\n",
       "    .dataframe tbody tr th {\n",
       "        vertical-align: top;\n",
       "    }\n",
       "\n",
       "    .dataframe thead th {\n",
       "        text-align: right;\n",
       "    }\n",
       "</style>\n",
       "<table border=\"1\" class=\"dataframe\">\n",
       "  <thead>\n",
       "    <tr style=\"text-align: right;\">\n",
       "      <th></th>\n",
       "      <th>A</th>\n",
       "      <th>B</th>\n",
       "      <th>C</th>\n",
       "      <th>D</th>\n",
       "    </tr>\n",
       "    <tr>\n",
       "      <th>Name</th>\n",
       "      <th></th>\n",
       "      <th></th>\n",
       "      <th></th>\n",
       "      <th></th>\n",
       "    </tr>\n",
       "  </thead>\n",
       "  <tbody>\n",
       "    <tr>\n",
       "      <th>MPI_Irecv()</th>\n",
       "      <td>4208</td>\n",
       "      <td>19988.0</td>\n",
       "      <td>19988.0</td>\n",
       "      <td>26563.0</td>\n",
       "    </tr>\n",
       "  </tbody>\n",
       "</table>\n",
       "</div>"
      ],
      "text/plain": [
       "                A        B        C        D\n",
       "Name                                        \n",
       "MPI_Irecv()  4208  19988.0  19988.0  26563.0"
      ]
     },
     "execution_count": 8,
     "metadata": {},
     "output_type": "execute_result"
    },
    {
     "name": "stdout",
     "output_type": "stream",
     "text": [
      "-----ep-----\n",
      "-----ft-----\n"
     ]
    },
    {
     "data": {
      "text/html": [
       "<div>\n",
       "<style scoped>\n",
       "    .dataframe tbody tr th:only-of-type {\n",
       "        vertical-align: middle;\n",
       "    }\n",
       "\n",
       "    .dataframe tbody tr th {\n",
       "        vertical-align: top;\n",
       "    }\n",
       "\n",
       "    .dataframe thead th {\n",
       "        text-align: right;\n",
       "    }\n",
       "</style>\n",
       "<table border=\"1\" class=\"dataframe\">\n",
       "  <thead>\n",
       "    <tr style=\"text-align: right;\">\n",
       "      <th></th>\n",
       "      <th>A</th>\n",
       "      <th>B</th>\n",
       "      <th>C</th>\n",
       "      <th>D</th>\n",
       "    </tr>\n",
       "    <tr>\n",
       "      <th>Name</th>\n",
       "      <th></th>\n",
       "      <th></th>\n",
       "      <th></th>\n",
       "      <th></th>\n",
       "    </tr>\n",
       "  </thead>\n",
       "  <tbody>\n",
       "    <tr>\n",
       "      <th>CHECKSUM</th>\n",
       "      <td>6.0</td>\n",
       "      <td>20.0</td>\n",
       "      <td>20.0</td>\n",
       "      <td>25.0</td>\n",
       "    </tr>\n",
       "  </tbody>\n",
       "</table>\n",
       "</div>"
      ],
      "text/plain": [
       "            A     B     C     D\n",
       "Name                           \n",
       "CHECKSUM  6.0  20.0  20.0  25.0"
      ]
     },
     "execution_count": 8,
     "metadata": {},
     "output_type": "execute_result"
    },
    {
     "name": "stdout",
     "output_type": "stream",
     "text": [
      "-----is-----\n",
      "-----lu-----\n"
     ]
    },
    {
     "data": {
      "text/html": [
       "<div>\n",
       "<style scoped>\n",
       "    .dataframe tbody tr th:only-of-type {\n",
       "        vertical-align: middle;\n",
       "    }\n",
       "\n",
       "    .dataframe tbody tr th {\n",
       "        vertical-align: top;\n",
       "    }\n",
       "\n",
       "    .dataframe thead th {\n",
       "        text-align: right;\n",
       "    }\n",
       "</style>\n",
       "<table border=\"1\" class=\"dataframe\">\n",
       "  <thead>\n",
       "    <tr style=\"text-align: right;\">\n",
       "      <th></th>\n",
       "      <th>A</th>\n",
       "      <th>B</th>\n",
       "      <th>C</th>\n",
       "      <th>D</th>\n",
       "    </tr>\n",
       "    <tr>\n",
       "      <th>Name</th>\n",
       "      <th></th>\n",
       "      <th></th>\n",
       "      <th></th>\n",
       "      <th></th>\n",
       "    </tr>\n",
       "  </thead>\n",
       "  <tbody>\n",
       "    <tr>\n",
       "      <th>EXACT</th>\n",
       "      <td>49178.4</td>\n",
       "      <td>205076.0</td>\n",
       "      <td>836921.0</td>\n",
       "      <td>13625000.0</td>\n",
       "    </tr>\n",
       "  </tbody>\n",
       "</table>\n",
       "</div>"
      ],
      "text/plain": [
       "             A         B         C           D\n",
       "Name                                          \n",
       "EXACT  49178.4  205076.0  836921.0  13625000.0"
      ]
     },
     "execution_count": 8,
     "metadata": {},
     "output_type": "execute_result"
    },
    {
     "name": "stdout",
     "output_type": "stream",
     "text": [
      "-----mg-----\n"
     ]
    },
    {
     "data": {
      "text/html": [
       "<div>\n",
       "<style scoped>\n",
       "    .dataframe tbody tr th:only-of-type {\n",
       "        vertical-align: middle;\n",
       "    }\n",
       "\n",
       "    .dataframe tbody tr th {\n",
       "        vertical-align: top;\n",
       "    }\n",
       "\n",
       "    .dataframe thead th {\n",
       "        text-align: right;\n",
       "    }\n",
       "</style>\n",
       "<table border=\"1\" class=\"dataframe\">\n",
       "  <thead>\n",
       "    <tr style=\"text-align: right;\">\n",
       "      <th></th>\n",
       "      <th>A</th>\n",
       "      <th>B</th>\n",
       "      <th>C</th>\n",
       "      <th>D</th>\n",
       "    </tr>\n",
       "    <tr>\n",
       "      <th>Name</th>\n",
       "      <th></th>\n",
       "      <th></th>\n",
       "      <th></th>\n",
       "      <th></th>\n",
       "    </tr>\n",
       "  </thead>\n",
       "  <tbody>\n",
       "    <tr>\n",
       "      <th>GIVE3_EX</th>\n",
       "      <td>15.0</td>\n",
       "      <td>63.0</td>\n",
       "      <td>63.0</td>\n",
       "      <td>153.0</td>\n",
       "    </tr>\n",
       "  </tbody>\n",
       "</table>\n",
       "</div>"
      ],
      "text/plain": [
       "             A     B     C      D\n",
       "Name                             \n",
       "GIVE3_EX  15.0  63.0  63.0  153.0"
      ]
     },
     "execution_count": 8,
     "metadata": {},
     "output_type": "execute_result"
    },
    {
     "name": "stdout",
     "output_type": "stream",
     "text": [
      "-----sp-----\n"
     ]
    },
    {
     "data": {
      "text/html": [
       "<div>\n",
       "<style scoped>\n",
       "    .dataframe tbody tr th:only-of-type {\n",
       "        vertical-align: middle;\n",
       "    }\n",
       "\n",
       "    .dataframe tbody tr th {\n",
       "        vertical-align: top;\n",
       "    }\n",
       "\n",
       "    .dataframe thead th {\n",
       "        text-align: right;\n",
       "    }\n",
       "</style>\n",
       "<table border=\"1\" class=\"dataframe\">\n",
       "  <thead>\n",
       "    <tr style=\"text-align: right;\">\n",
       "      <th></th>\n",
       "      <th>A</th>\n",
       "      <th>B</th>\n",
       "      <th>C</th>\n",
       "      <th>D</th>\n",
       "    </tr>\n",
       "    <tr>\n",
       "      <th>Name</th>\n",
       "      <th></th>\n",
       "      <th></th>\n",
       "      <th></th>\n",
       "      <th></th>\n",
       "    </tr>\n",
       "  </thead>\n",
       "  <tbody>\n",
       "    <tr>\n",
       "      <th>LHSX</th>\n",
       "      <td>3208.0</td>\n",
       "      <td>3208.0</td>\n",
       "      <td>3208.0</td>\n",
       "      <td>4008.0</td>\n",
       "    </tr>\n",
       "  </tbody>\n",
       "</table>\n",
       "</div>"
      ],
      "text/plain": [
       "           A       B       C       D\n",
       "Name                                \n",
       "LHSX  3208.0  3208.0  3208.0  4008.0"
      ]
     },
     "execution_count": 8,
     "metadata": {},
     "output_type": "execute_result"
    },
    {
     "data": {
      "text/html": [
       "<div>\n",
       "<style scoped>\n",
       "    .dataframe tbody tr th:only-of-type {\n",
       "        vertical-align: middle;\n",
       "    }\n",
       "\n",
       "    .dataframe tbody tr th {\n",
       "        vertical-align: top;\n",
       "    }\n",
       "\n",
       "    .dataframe thead th {\n",
       "        text-align: right;\n",
       "    }\n",
       "</style>\n",
       "<table border=\"1\" class=\"dataframe\">\n",
       "  <thead>\n",
       "    <tr style=\"text-align: right;\">\n",
       "      <th></th>\n",
       "      <th>A</th>\n",
       "      <th>B</th>\n",
       "      <th>C</th>\n",
       "      <th>D</th>\n",
       "    </tr>\n",
       "    <tr>\n",
       "      <th>Name</th>\n",
       "      <th></th>\n",
       "      <th></th>\n",
       "      <th></th>\n",
       "      <th></th>\n",
       "    </tr>\n",
       "  </thead>\n",
       "  <tbody>\n",
       "    <tr>\n",
       "      <th>MPI_Irecv()</th>\n",
       "      <td>19254.0</td>\n",
       "      <td>19254.0</td>\n",
       "      <td>19254.0</td>\n",
       "      <td>24054.0</td>\n",
       "    </tr>\n",
       "  </tbody>\n",
       "</table>\n",
       "</div>"
      ],
      "text/plain": [
       "                   A        B        C        D\n",
       "Name                                           \n",
       "MPI_Irecv()  19254.0  19254.0  19254.0  24054.0"
      ]
     },
     "execution_count": 8,
     "metadata": {},
     "output_type": "execute_result"
    },
    {
     "data": {
      "text/html": [
       "<div>\n",
       "<style scoped>\n",
       "    .dataframe tbody tr th:only-of-type {\n",
       "        vertical-align: middle;\n",
       "    }\n",
       "\n",
       "    .dataframe tbody tr th {\n",
       "        vertical-align: top;\n",
       "    }\n",
       "\n",
       "    .dataframe thead th {\n",
       "        text-align: right;\n",
       "    }\n",
       "</style>\n",
       "<table border=\"1\" class=\"dataframe\">\n",
       "  <thead>\n",
       "    <tr style=\"text-align: right;\">\n",
       "      <th></th>\n",
       "      <th>A</th>\n",
       "      <th>B</th>\n",
       "      <th>C</th>\n",
       "      <th>D</th>\n",
       "    </tr>\n",
       "    <tr>\n",
       "      <th>Name</th>\n",
       "      <th></th>\n",
       "      <th></th>\n",
       "      <th></th>\n",
       "      <th></th>\n",
       "    </tr>\n",
       "  </thead>\n",
       "  <tbody>\n",
       "    <tr>\n",
       "      <th>MPI_Waitall()</th>\n",
       "      <td>17244.0</td>\n",
       "      <td>17244.0</td>\n",
       "      <td>17244.0</td>\n",
       "      <td>21544.0</td>\n",
       "    </tr>\n",
       "  </tbody>\n",
       "</table>\n",
       "</div>"
      ],
      "text/plain": [
       "                     A        B        C        D\n",
       "Name                                             \n",
       "MPI_Waitall()  17244.0  17244.0  17244.0  21544.0"
      ]
     },
     "execution_count": 8,
     "metadata": {},
     "output_type": "execute_result"
    }
   ],
   "source": [
    "funcCallNumDict = {}\n",
    "for benchmarkName in FixedProcessDict:\n",
    "    print(f\"-----{benchmarkName}-----\")\n",
    "    funcCallNumDict[benchmarkName] = {}\n",
    "    for functionName in FixedProcessDict[benchmarkName]:\n",
    "        funcCallNumDict[benchmarkName][functionName] = returnRawDF(Benchmark = benchmarkName, functionName = functionName, fix=\"Process\", benchmarkClass = [\"A\", \"B\", \"C\", \"D\"], FixedProcess = 64)\n",
    "        funcCallNumDict[benchmarkName][functionName]"
   ]
  },
  {
   "cell_type": "code",
   "execution_count": 9,
   "metadata": {},
   "outputs": [
    {
     "data": {
      "text/plain": [
       "{'bt': ['EXACT_SOLUTION'],\n",
       " 'cg': ['MPI_Irecv()'],\n",
       " 'ep': [],\n",
       " 'ft': ['CFFTZ', 'FFTZ2', 'SET_CLASS'],\n",
       " 'is': ['MPI_Irecv()', 'double_randlc(double_*_double_*)'],\n",
       " 'lu': ['BLTS', 'EXCHANGE_6'],\n",
       " 'mg': ['BUBBLE', 'ZERO3'],\n",
       " 'sp': ['EXACT_SOLUTION']}"
      ]
     },
     "execution_count": 9,
     "metadata": {},
     "output_type": "execute_result"
    }
   ],
   "source": [
    "FixedClassDict = {}\n",
    "for benchmark in benchmarks:\n",
    "    targetDF = return_ErrorRateFixedClassDF(benchmark=benchmark, FixClass=\"B\", predict_process=256)\n",
    "    columns = targetDF.columns.tolist()\n",
    "    # 平均絶対誤差率が0.1より大きいものを抽出\n",
    "    targetDF = targetDF[targetDF[columns[0]] > 0.1]\n",
    "    # データが同じことに由来する重複を削除\n",
    "    targetDF = targetDF[~targetDF.duplicated()]\n",
    "    targetFunctionNameList = targetDF.index.tolist()\n",
    "    FixedClassDict[benchmark] = targetFunctionNameList\n",
    "FixedClassDict"
   ]
  },
  {
   "cell_type": "code",
   "execution_count": 10,
   "metadata": {},
   "outputs": [
    {
     "name": "stdout",
     "output_type": "stream",
     "text": [
      "-----bt-----\n"
     ]
    },
    {
     "data": {
      "text/html": [
       "<div>\n",
       "<style scoped>\n",
       "    .dataframe tbody tr th:only-of-type {\n",
       "        vertical-align: middle;\n",
       "    }\n",
       "\n",
       "    .dataframe tbody tr th {\n",
       "        vertical-align: top;\n",
       "    }\n",
       "\n",
       "    .dataframe thead th {\n",
       "        text-align: right;\n",
       "    }\n",
       "</style>\n",
       "<table border=\"1\" class=\"dataframe\">\n",
       "  <thead>\n",
       "    <tr style=\"text-align: right;\">\n",
       "      <th></th>\n",
       "      <th>1</th>\n",
       "      <th>4</th>\n",
       "      <th>16</th>\n",
       "      <th>64</th>\n",
       "      <th>256</th>\n",
       "    </tr>\n",
       "    <tr>\n",
       "      <th>Name</th>\n",
       "      <th></th>\n",
       "      <th></th>\n",
       "      <th></th>\n",
       "      <th></th>\n",
       "      <th></th>\n",
       "    </tr>\n",
       "  </thead>\n",
       "  <tbody>\n",
       "    <tr>\n",
       "      <th>EXACT_SOLUTION</th>\n",
       "      <td>16980600.0</td>\n",
       "      <td>4275140.0</td>\n",
       "      <td>1083780.0</td>\n",
       "      <td>278446.0</td>\n",
       "      <td>73361.5</td>\n",
       "    </tr>\n",
       "  </tbody>\n",
       "</table>\n",
       "</div>"
      ],
      "text/plain": [
       "                       1          4          16        64       256\n",
       "Name                                                               \n",
       "EXACT_SOLUTION  16980600.0  4275140.0  1083780.0  278446.0  73361.5"
      ]
     },
     "execution_count": 10,
     "metadata": {},
     "output_type": "execute_result"
    },
    {
     "name": "stdout",
     "output_type": "stream",
     "text": [
      "-----cg-----\n"
     ]
    },
    {
     "data": {
      "text/html": [
       "<div>\n",
       "<style scoped>\n",
       "    .dataframe tbody tr th:only-of-type {\n",
       "        vertical-align: middle;\n",
       "    }\n",
       "\n",
       "    .dataframe tbody tr th {\n",
       "        vertical-align: top;\n",
       "    }\n",
       "\n",
       "    .dataframe thead th {\n",
       "        text-align: right;\n",
       "    }\n",
       "</style>\n",
       "<table border=\"1\" class=\"dataframe\">\n",
       "  <thead>\n",
       "    <tr style=\"text-align: right;\">\n",
       "      <th></th>\n",
       "      <th>1</th>\n",
       "      <th>2</th>\n",
       "      <th>4</th>\n",
       "      <th>8</th>\n",
       "      <th>16</th>\n",
       "      <th>32</th>\n",
       "      <th>64</th>\n",
       "      <th>128</th>\n",
       "      <th>256</th>\n",
       "    </tr>\n",
       "    <tr>\n",
       "      <th>Name</th>\n",
       "      <th></th>\n",
       "      <th></th>\n",
       "      <th></th>\n",
       "      <th></th>\n",
       "      <th></th>\n",
       "      <th></th>\n",
       "      <th></th>\n",
       "      <th></th>\n",
       "      <th></th>\n",
       "    </tr>\n",
       "  </thead>\n",
       "  <tbody>\n",
       "    <tr>\n",
       "      <th>MPI_Irecv()</th>\n",
       "      <td>2576.0</td>\n",
       "      <td>4203</td>\n",
       "      <td>5462</td>\n",
       "      <td>13984.0</td>\n",
       "      <td>13984.0</td>\n",
       "      <td>19988.0</td>\n",
       "      <td>19988.0</td>\n",
       "      <td>25992.0</td>\n",
       "      <td>25992.0</td>\n",
       "    </tr>\n",
       "  </tbody>\n",
       "</table>\n",
       "</div>"
      ],
      "text/plain": [
       "                1     2     4        8        16       32       64       128  \\\n",
       "Name                                                                           \n",
       "MPI_Irecv()  2576.0  4203  5462  13984.0  13984.0  19988.0  19988.0  25992.0   \n",
       "\n",
       "                 256  \n",
       "Name                  \n",
       "MPI_Irecv()  25992.0  "
      ]
     },
     "execution_count": 10,
     "metadata": {},
     "output_type": "execute_result"
    },
    {
     "name": "stdout",
     "output_type": "stream",
     "text": [
      "-----ep-----\n",
      "-----ft-----\n"
     ]
    },
    {
     "data": {
      "text/html": [
       "<div>\n",
       "<style scoped>\n",
       "    .dataframe tbody tr th:only-of-type {\n",
       "        vertical-align: middle;\n",
       "    }\n",
       "\n",
       "    .dataframe tbody tr th {\n",
       "        vertical-align: top;\n",
       "    }\n",
       "\n",
       "    .dataframe thead th {\n",
       "        text-align: right;\n",
       "    }\n",
       "</style>\n",
       "<table border=\"1\" class=\"dataframe\">\n",
       "  <thead>\n",
       "    <tr style=\"text-align: right;\">\n",
       "      <th></th>\n",
       "      <th>1</th>\n",
       "      <th>2</th>\n",
       "      <th>4</th>\n",
       "      <th>8</th>\n",
       "      <th>16</th>\n",
       "      <th>32</th>\n",
       "      <th>64</th>\n",
       "      <th>128</th>\n",
       "      <th>256</th>\n",
       "    </tr>\n",
       "    <tr>\n",
       "      <th>Name</th>\n",
       "      <th></th>\n",
       "      <th></th>\n",
       "      <th></th>\n",
       "      <th></th>\n",
       "      <th></th>\n",
       "      <th></th>\n",
       "      <th></th>\n",
       "      <th></th>\n",
       "      <th></th>\n",
       "    </tr>\n",
       "  </thead>\n",
       "  <tbody>\n",
       "    <tr>\n",
       "      <th>CFFTZ</th>\n",
       "      <td>2048.0</td>\n",
       "      <td>225280.0</td>\n",
       "      <td>112640.0</td>\n",
       "      <td>56320.0</td>\n",
       "      <td>28160.0</td>\n",
       "      <td>14080.0</td>\n",
       "      <td>7040.0</td>\n",
       "      <td>3520.0</td>\n",
       "      <td>1760.0</td>\n",
       "    </tr>\n",
       "  </tbody>\n",
       "</table>\n",
       "</div>"
      ],
      "text/plain": [
       "          1         2         4        8        16       32      64      128  \\\n",
       "Name                                                                           \n",
       "CFFTZ  2048.0  225280.0  112640.0  56320.0  28160.0  14080.0  7040.0  3520.0   \n",
       "\n",
       "          256  \n",
       "Name           \n",
       "CFFTZ  1760.0  "
      ]
     },
     "execution_count": 10,
     "metadata": {},
     "output_type": "execute_result"
    },
    {
     "data": {
      "text/html": [
       "<div>\n",
       "<style scoped>\n",
       "    .dataframe tbody tr th:only-of-type {\n",
       "        vertical-align: middle;\n",
       "    }\n",
       "\n",
       "    .dataframe tbody tr th {\n",
       "        vertical-align: top;\n",
       "    }\n",
       "\n",
       "    .dataframe thead th {\n",
       "        text-align: right;\n",
       "    }\n",
       "</style>\n",
       "<table border=\"1\" class=\"dataframe\">\n",
       "  <thead>\n",
       "    <tr style=\"text-align: right;\">\n",
       "      <th></th>\n",
       "      <th>1</th>\n",
       "      <th>2</th>\n",
       "      <th>4</th>\n",
       "      <th>8</th>\n",
       "      <th>16</th>\n",
       "      <th>32</th>\n",
       "      <th>64</th>\n",
       "      <th>128</th>\n",
       "      <th>256</th>\n",
       "    </tr>\n",
       "    <tr>\n",
       "      <th>Name</th>\n",
       "      <th></th>\n",
       "      <th></th>\n",
       "      <th></th>\n",
       "      <th></th>\n",
       "      <th></th>\n",
       "      <th></th>\n",
       "      <th></th>\n",
       "      <th></th>\n",
       "      <th></th>\n",
       "    </tr>\n",
       "  </thead>\n",
       "  <tbody>\n",
       "    <tr>\n",
       "      <th>FFTZ2</th>\n",
       "      <td>15360.0</td>\n",
       "      <td>1847300.0</td>\n",
       "      <td>923648.0</td>\n",
       "      <td>461824.0</td>\n",
       "      <td>230912.0</td>\n",
       "      <td>115456.0</td>\n",
       "      <td>57728.0</td>\n",
       "      <td>28864.0</td>\n",
       "      <td>14432.0</td>\n",
       "    </tr>\n",
       "  </tbody>\n",
       "</table>\n",
       "</div>"
      ],
      "text/plain": [
       "           1          2         4         8         16        32       64   \\\n",
       "Name                                                                         \n",
       "FFTZ2  15360.0  1847300.0  923648.0  461824.0  230912.0  115456.0  57728.0   \n",
       "\n",
       "           128      256  \n",
       "Name                     \n",
       "FFTZ2  28864.0  14432.0  "
      ]
     },
     "execution_count": 10,
     "metadata": {},
     "output_type": "execute_result"
    },
    {
     "data": {
      "text/html": [
       "<div>\n",
       "<style scoped>\n",
       "    .dataframe tbody tr th:only-of-type {\n",
       "        vertical-align: middle;\n",
       "    }\n",
       "\n",
       "    .dataframe tbody tr th {\n",
       "        vertical-align: top;\n",
       "    }\n",
       "\n",
       "    .dataframe thead th {\n",
       "        text-align: right;\n",
       "    }\n",
       "</style>\n",
       "<table border=\"1\" class=\"dataframe\">\n",
       "  <thead>\n",
       "    <tr style=\"text-align: right;\">\n",
       "      <th></th>\n",
       "      <th>1</th>\n",
       "      <th>2</th>\n",
       "      <th>4</th>\n",
       "      <th>8</th>\n",
       "      <th>16</th>\n",
       "      <th>32</th>\n",
       "      <th>64</th>\n",
       "      <th>128</th>\n",
       "      <th>256</th>\n",
       "    </tr>\n",
       "    <tr>\n",
       "      <th>Name</th>\n",
       "      <th></th>\n",
       "      <th></th>\n",
       "      <th></th>\n",
       "      <th></th>\n",
       "      <th></th>\n",
       "      <th></th>\n",
       "      <th></th>\n",
       "      <th></th>\n",
       "      <th></th>\n",
       "    </tr>\n",
       "  </thead>\n",
       "  <tbody>\n",
       "    <tr>\n",
       "      <th>SET_CLASS</th>\n",
       "      <td>0.003906</td>\n",
       "      <td>0.5</td>\n",
       "      <td>0.25</td>\n",
       "      <td>0.125</td>\n",
       "      <td>0.0625</td>\n",
       "      <td>0.03125</td>\n",
       "      <td>0.015625</td>\n",
       "      <td>0.007812</td>\n",
       "      <td>0.003906</td>\n",
       "    </tr>\n",
       "  </tbody>\n",
       "</table>\n",
       "</div>"
      ],
      "text/plain": [
       "                1    2     4      8       16       32        64        128  \\\n",
       "Name                                                                         \n",
       "SET_CLASS  0.003906  0.5  0.25  0.125  0.0625  0.03125  0.015625  0.007812   \n",
       "\n",
       "                256  \n",
       "Name                 \n",
       "SET_CLASS  0.003906  "
      ]
     },
     "execution_count": 10,
     "metadata": {},
     "output_type": "execute_result"
    },
    {
     "name": "stdout",
     "output_type": "stream",
     "text": [
      "-----is-----\n"
     ]
    },
    {
     "data": {
      "text/html": [
       "<div>\n",
       "<style scoped>\n",
       "    .dataframe tbody tr th:only-of-type {\n",
       "        vertical-align: middle;\n",
       "    }\n",
       "\n",
       "    .dataframe tbody tr th {\n",
       "        vertical-align: top;\n",
       "    }\n",
       "\n",
       "    .dataframe thead th {\n",
       "        text-align: right;\n",
       "    }\n",
       "</style>\n",
       "<table border=\"1\" class=\"dataframe\">\n",
       "  <thead>\n",
       "    <tr style=\"text-align: right;\">\n",
       "      <th></th>\n",
       "      <th>1</th>\n",
       "      <th>2</th>\n",
       "      <th>4</th>\n",
       "      <th>8</th>\n",
       "      <th>16</th>\n",
       "      <th>32</th>\n",
       "      <th>64</th>\n",
       "      <th>128</th>\n",
       "      <th>256</th>\n",
       "    </tr>\n",
       "    <tr>\n",
       "      <th>Name</th>\n",
       "      <th></th>\n",
       "      <th></th>\n",
       "      <th></th>\n",
       "      <th></th>\n",
       "      <th></th>\n",
       "      <th></th>\n",
       "      <th></th>\n",
       "      <th></th>\n",
       "      <th></th>\n",
       "    </tr>\n",
       "  </thead>\n",
       "  <tbody>\n",
       "    <tr>\n",
       "      <th>MPI_Irecv()</th>\n",
       "      <td>0.996094</td>\n",
       "      <td>0.5</td>\n",
       "      <td>0.75</td>\n",
       "      <td>0.875</td>\n",
       "      <td>0.9375</td>\n",
       "      <td>0.96875</td>\n",
       "      <td>0.984375</td>\n",
       "      <td>0.992188</td>\n",
       "      <td>0.996094</td>\n",
       "    </tr>\n",
       "  </tbody>\n",
       "</table>\n",
       "</div>"
      ],
      "text/plain": [
       "                  1    2     4      8       16       32        64        128  \\\n",
       "Name                                                                           \n",
       "MPI_Irecv()  0.996094  0.5  0.75  0.875  0.9375  0.96875  0.984375  0.992188   \n",
       "\n",
       "                  256  \n",
       "Name                   \n",
       "MPI_Irecv()  0.996094  "
      ]
     },
     "execution_count": 10,
     "metadata": {},
     "output_type": "execute_result"
    },
    {
     "data": {
      "text/html": [
       "<div>\n",
       "<style scoped>\n",
       "    .dataframe tbody tr th:only-of-type {\n",
       "        vertical-align: middle;\n",
       "    }\n",
       "\n",
       "    .dataframe tbody tr th {\n",
       "        vertical-align: top;\n",
       "    }\n",
       "\n",
       "    .dataframe thead th {\n",
       "        text-align: right;\n",
       "    }\n",
       "</style>\n",
       "<table border=\"1\" class=\"dataframe\">\n",
       "  <thead>\n",
       "    <tr style=\"text-align: right;\">\n",
       "      <th></th>\n",
       "      <th>1</th>\n",
       "      <th>2</th>\n",
       "      <th>4</th>\n",
       "      <th>8</th>\n",
       "      <th>16</th>\n",
       "      <th>32</th>\n",
       "      <th>64</th>\n",
       "      <th>128</th>\n",
       "      <th>256</th>\n",
       "    </tr>\n",
       "    <tr>\n",
       "      <th>Name</th>\n",
       "      <th></th>\n",
       "      <th></th>\n",
       "      <th></th>\n",
       "      <th></th>\n",
       "      <th></th>\n",
       "      <th></th>\n",
       "      <th></th>\n",
       "      <th></th>\n",
       "      <th></th>\n",
       "    </tr>\n",
       "  </thead>\n",
       "  <tbody>\n",
       "    <tr>\n",
       "      <th>double_randlc(double_*_double_*)</th>\n",
       "      <td>131099.0</td>\n",
       "      <td>67108900.0</td>\n",
       "      <td>33554500.0</td>\n",
       "      <td>16777200.0</td>\n",
       "      <td>8388640.0</td>\n",
       "      <td>4194330.0</td>\n",
       "      <td>2097180.0</td>\n",
       "      <td>1048600.0</td>\n",
       "      <td>524317.0</td>\n",
       "    </tr>\n",
       "  </tbody>\n",
       "</table>\n",
       "</div>"
      ],
      "text/plain": [
       "                                       1           2           4    \\\n",
       "Name                                                                 \n",
       "double_randlc(double_*_double_*)  131099.0  67108900.0  33554500.0   \n",
       "\n",
       "                                         8          16         32         64   \\\n",
       "Name                                                                            \n",
       "double_randlc(double_*_double_*)  16777200.0  8388640.0  4194330.0  2097180.0   \n",
       "\n",
       "                                        128       256  \n",
       "Name                                                   \n",
       "double_randlc(double_*_double_*)  1048600.0  524317.0  "
      ]
     },
     "execution_count": 10,
     "metadata": {},
     "output_type": "execute_result"
    },
    {
     "name": "stdout",
     "output_type": "stream",
     "text": [
      "-----lu-----\n"
     ]
    },
    {
     "data": {
      "text/html": [
       "<div>\n",
       "<style scoped>\n",
       "    .dataframe tbody tr th:only-of-type {\n",
       "        vertical-align: middle;\n",
       "    }\n",
       "\n",
       "    .dataframe tbody tr th {\n",
       "        vertical-align: top;\n",
       "    }\n",
       "\n",
       "    .dataframe thead th {\n",
       "        text-align: right;\n",
       "    }\n",
       "</style>\n",
       "<table border=\"1\" class=\"dataframe\">\n",
       "  <thead>\n",
       "    <tr style=\"text-align: right;\">\n",
       "      <th></th>\n",
       "      <th>1</th>\n",
       "      <th>2</th>\n",
       "      <th>4</th>\n",
       "      <th>8</th>\n",
       "      <th>16</th>\n",
       "      <th>32</th>\n",
       "      <th>64</th>\n",
       "      <th>128</th>\n",
       "      <th>256</th>\n",
       "    </tr>\n",
       "    <tr>\n",
       "      <th>Name</th>\n",
       "      <th></th>\n",
       "      <th></th>\n",
       "      <th></th>\n",
       "      <th></th>\n",
       "      <th></th>\n",
       "      <th></th>\n",
       "      <th></th>\n",
       "      <th></th>\n",
       "      <th></th>\n",
       "    </tr>\n",
       "  </thead>\n",
       "  <tbody>\n",
       "    <tr>\n",
       "      <th>BLTS</th>\n",
       "      <td>2510000.0</td>\n",
       "      <td>2510000.0</td>\n",
       "      <td>1255000.0</td>\n",
       "      <td>1255000.0</td>\n",
       "      <td>627500.0</td>\n",
       "      <td>627500.0</td>\n",
       "      <td>313750.0</td>\n",
       "      <td>313750.0</td>\n",
       "      <td>156875.0</td>\n",
       "    </tr>\n",
       "  </tbody>\n",
       "</table>\n",
       "</div>"
      ],
      "text/plain": [
       "            1          2          4          8         16        32   \\\n",
       "Name                                                                   \n",
       "BLTS  2510000.0  2510000.0  1255000.0  1255000.0  627500.0  627500.0   \n",
       "\n",
       "           64        128       256  \n",
       "Name                                \n",
       "BLTS  313750.0  313750.0  156875.0  "
      ]
     },
     "execution_count": 10,
     "metadata": {},
     "output_type": "execute_result"
    },
    {
     "data": {
      "text/html": [
       "<div>\n",
       "<style scoped>\n",
       "    .dataframe tbody tr th:only-of-type {\n",
       "        vertical-align: middle;\n",
       "    }\n",
       "\n",
       "    .dataframe tbody tr th {\n",
       "        vertical-align: top;\n",
       "    }\n",
       "\n",
       "    .dataframe thead th {\n",
       "        text-align: right;\n",
       "    }\n",
       "</style>\n",
       "<table border=\"1\" class=\"dataframe\">\n",
       "  <thead>\n",
       "    <tr style=\"text-align: right;\">\n",
       "      <th></th>\n",
       "      <th>1</th>\n",
       "      <th>2</th>\n",
       "      <th>4</th>\n",
       "      <th>8</th>\n",
       "      <th>16</th>\n",
       "      <th>32</th>\n",
       "      <th>64</th>\n",
       "      <th>128</th>\n",
       "      <th>256</th>\n",
       "    </tr>\n",
       "    <tr>\n",
       "      <th>Name</th>\n",
       "      <th></th>\n",
       "      <th></th>\n",
       "      <th></th>\n",
       "      <th></th>\n",
       "      <th></th>\n",
       "      <th></th>\n",
       "      <th></th>\n",
       "      <th></th>\n",
       "      <th></th>\n",
       "    </tr>\n",
       "  </thead>\n",
       "  <tbody>\n",
       "    <tr>\n",
       "      <th>EXCHANGE_6</th>\n",
       "      <td>2.0</td>\n",
       "      <td>1.0</td>\n",
       "      <td>1.0</td>\n",
       "      <td>0.5</td>\n",
       "      <td>0.5</td>\n",
       "      <td>0.25</td>\n",
       "      <td>0.25</td>\n",
       "      <td>0.125</td>\n",
       "      <td>0.125</td>\n",
       "    </tr>\n",
       "  </tbody>\n",
       "</table>\n",
       "</div>"
      ],
      "text/plain": [
       "            1    2    4    8    16    32    64     128    256\n",
       "Name                                                         \n",
       "EXCHANGE_6  2.0  1.0  1.0  0.5  0.5  0.25  0.25  0.125  0.125"
      ]
     },
     "execution_count": 10,
     "metadata": {},
     "output_type": "execute_result"
    },
    {
     "name": "stdout",
     "output_type": "stream",
     "text": [
      "-----mg-----\n"
     ]
    },
    {
     "data": {
      "text/html": [
       "<div>\n",
       "<style scoped>\n",
       "    .dataframe tbody tr th:only-of-type {\n",
       "        vertical-align: middle;\n",
       "    }\n",
       "\n",
       "    .dataframe tbody tr th {\n",
       "        vertical-align: top;\n",
       "    }\n",
       "\n",
       "    .dataframe thead th {\n",
       "        text-align: right;\n",
       "    }\n",
       "</style>\n",
       "<table border=\"1\" class=\"dataframe\">\n",
       "  <thead>\n",
       "    <tr style=\"text-align: right;\">\n",
       "      <th></th>\n",
       "      <th>1</th>\n",
       "      <th>2</th>\n",
       "      <th>4</th>\n",
       "      <th>8</th>\n",
       "      <th>16</th>\n",
       "      <th>32</th>\n",
       "      <th>64</th>\n",
       "      <th>128</th>\n",
       "      <th>256</th>\n",
       "    </tr>\n",
       "    <tr>\n",
       "      <th>Name</th>\n",
       "      <th></th>\n",
       "      <th></th>\n",
       "      <th></th>\n",
       "      <th></th>\n",
       "      <th></th>\n",
       "      <th></th>\n",
       "      <th></th>\n",
       "      <th></th>\n",
       "      <th></th>\n",
       "    </tr>\n",
       "  </thead>\n",
       "  <tbody>\n",
       "    <tr>\n",
       "      <th>BUBBLE</th>\n",
       "      <td>608.0</td>\n",
       "      <td>575.0</td>\n",
       "      <td>542.0</td>\n",
       "      <td>525.25</td>\n",
       "      <td>499.5</td>\n",
       "      <td>468.125</td>\n",
       "      <td>444.219</td>\n",
       "      <td>415.953</td>\n",
       "      <td>390.875</td>\n",
       "    </tr>\n",
       "  </tbody>\n",
       "</table>\n",
       "</div>"
      ],
      "text/plain": [
       "          1      2      4       8      16       32       64       128      256\n",
       "Name                                                                          \n",
       "BUBBLE  608.0  575.0  542.0  525.25  499.5  468.125  444.219  415.953  390.875"
      ]
     },
     "execution_count": 10,
     "metadata": {},
     "output_type": "execute_result"
    },
    {
     "data": {
      "text/html": [
       "<div>\n",
       "<style scoped>\n",
       "    .dataframe tbody tr th:only-of-type {\n",
       "        vertical-align: middle;\n",
       "    }\n",
       "\n",
       "    .dataframe tbody tr th {\n",
       "        vertical-align: top;\n",
       "    }\n",
       "\n",
       "    .dataframe thead th {\n",
       "        text-align: right;\n",
       "    }\n",
       "</style>\n",
       "<table border=\"1\" class=\"dataframe\">\n",
       "  <thead>\n",
       "    <tr style=\"text-align: right;\">\n",
       "      <th></th>\n",
       "      <th>1</th>\n",
       "      <th>2</th>\n",
       "      <th>4</th>\n",
       "      <th>8</th>\n",
       "      <th>16</th>\n",
       "      <th>32</th>\n",
       "      <th>64</th>\n",
       "      <th>128</th>\n",
       "      <th>256</th>\n",
       "    </tr>\n",
       "    <tr>\n",
       "      <th>Name</th>\n",
       "      <th></th>\n",
       "      <th></th>\n",
       "      <th></th>\n",
       "      <th></th>\n",
       "      <th></th>\n",
       "      <th></th>\n",
       "      <th></th>\n",
       "      <th></th>\n",
       "      <th></th>\n",
       "    </tr>\n",
       "  </thead>\n",
       "  <tbody>\n",
       "    <tr>\n",
       "      <th>ZERO3</th>\n",
       "      <td>151.0</td>\n",
       "      <td>151.0</td>\n",
       "      <td>151.0</td>\n",
       "      <td>151.0</td>\n",
       "      <td>172.0</td>\n",
       "      <td>182.5</td>\n",
       "      <td>187.75</td>\n",
       "      <td>221.875</td>\n",
       "      <td>238.938</td>\n",
       "    </tr>\n",
       "  </tbody>\n",
       "</table>\n",
       "</div>"
      ],
      "text/plain": [
       "         1      2      4      8      16     32      64       128      256\n",
       "Name                                                                     \n",
       "ZERO3  151.0  151.0  151.0  151.0  172.0  182.5  187.75  221.875  238.938"
      ]
     },
     "execution_count": 10,
     "metadata": {},
     "output_type": "execute_result"
    },
    {
     "name": "stdout",
     "output_type": "stream",
     "text": [
      "-----sp-----\n"
     ]
    },
    {
     "data": {
      "text/html": [
       "<div>\n",
       "<style scoped>\n",
       "    .dataframe tbody tr th:only-of-type {\n",
       "        vertical-align: middle;\n",
       "    }\n",
       "\n",
       "    .dataframe tbody tr th {\n",
       "        vertical-align: top;\n",
       "    }\n",
       "\n",
       "    .dataframe thead th {\n",
       "        text-align: right;\n",
       "    }\n",
       "</style>\n",
       "<table border=\"1\" class=\"dataframe\">\n",
       "  <thead>\n",
       "    <tr style=\"text-align: right;\">\n",
       "      <th></th>\n",
       "      <th>1</th>\n",
       "      <th>4</th>\n",
       "      <th>16</th>\n",
       "      <th>64</th>\n",
       "      <th>256</th>\n",
       "    </tr>\n",
       "    <tr>\n",
       "      <th>Name</th>\n",
       "      <th></th>\n",
       "      <th></th>\n",
       "      <th></th>\n",
       "      <th></th>\n",
       "      <th></th>\n",
       "    </tr>\n",
       "  </thead>\n",
       "  <tbody>\n",
       "    <tr>\n",
       "      <th>EXACT_SOLUTION</th>\n",
       "      <td>16980600.0</td>\n",
       "      <td>4275140.0</td>\n",
       "      <td>1083780.0</td>\n",
       "      <td>278446.0</td>\n",
       "      <td>73361.5</td>\n",
       "    </tr>\n",
       "  </tbody>\n",
       "</table>\n",
       "</div>"
      ],
      "text/plain": [
       "                       1          4          16        64       256\n",
       "Name                                                               \n",
       "EXACT_SOLUTION  16980600.0  4275140.0  1083780.0  278446.0  73361.5"
      ]
     },
     "execution_count": 10,
     "metadata": {},
     "output_type": "execute_result"
    }
   ],
   "source": [
    "funcCallNumDict = {}\n",
    "for benchmarkName in FixedClassDict:\n",
    "    print(f\"-----{benchmarkName}-----\")\n",
    "    if benchmarkName == \"bt\" or benchmarkName == \"sp\" :\n",
    "        _processes = process_onlyBTSP\n",
    "    else:\n",
    "        _processes = process_excludeBTSP\n",
    "    funcCallNumDict[benchmarkName] = {}\n",
    "    for functionName in FixedClassDict[benchmarkName]:\n",
    "        funcCallNumDict[benchmarkName][functionName] = returnRawDF(Benchmark = benchmarkName, functionName = functionName, fix=\"Class\", Processes = _processes, FixedBenchmarkClass=\"B\")\n",
    "        funcCallNumDict[benchmarkName][functionName]"
   ]
  },
  {
   "cell_type": "code",
   "execution_count": 11,
   "metadata": {},
   "outputs": [
    {
     "data": {
      "text/html": [
       "<div>\n",
       "<style scoped>\n",
       "    .dataframe tbody tr th:only-of-type {\n",
       "        vertical-align: middle;\n",
       "    }\n",
       "\n",
       "    .dataframe tbody tr th {\n",
       "        vertical-align: top;\n",
       "    }\n",
       "\n",
       "    .dataframe thead th {\n",
       "        text-align: right;\n",
       "    }\n",
       "</style>\n",
       "<table border=\"1\" class=\"dataframe\">\n",
       "  <thead>\n",
       "    <tr style=\"text-align: right;\">\n",
       "      <th></th>\n",
       "      <th>1</th>\n",
       "      <th>2</th>\n",
       "      <th>4</th>\n",
       "      <th>8</th>\n",
       "      <th>16</th>\n",
       "      <th>32</th>\n",
       "      <th>64</th>\n",
       "      <th>128</th>\n",
       "      <th>256</th>\n",
       "    </tr>\n",
       "    <tr>\n",
       "      <th>Name</th>\n",
       "      <th></th>\n",
       "      <th></th>\n",
       "      <th></th>\n",
       "      <th></th>\n",
       "      <th></th>\n",
       "      <th></th>\n",
       "      <th></th>\n",
       "      <th></th>\n",
       "      <th></th>\n",
       "    </tr>\n",
       "  </thead>\n",
       "  <tbody>\n",
       "    <tr>\n",
       "      <th>.TAU_application</th>\n",
       "      <td>1.0</td>\n",
       "      <td>1</td>\n",
       "      <td>1</td>\n",
       "      <td>1.0</td>\n",
       "      <td>1.0</td>\n",
       "      <td>1.0</td>\n",
       "      <td>1.0</td>\n",
       "      <td>1.0</td>\n",
       "      <td>1.0</td>\n",
       "    </tr>\n",
       "  </tbody>\n",
       "</table>\n",
       "</div>"
      ],
      "text/plain": [
       "                  1    2    4    8    16   32   64   128  256\n",
       "Name                                                         \n",
       ".TAU_application  1.0    1    1  1.0  1.0  1.0  1.0  1.0  1.0"
      ]
     },
     "execution_count": 11,
     "metadata": {},
     "output_type": "execute_result"
    },
    {
     "data": {
      "text/plain": [
       "'{\"1\":1.0,\"2\":1,\"4\":1,\"8\":1.0,\"16\":1.0,\"32\":1.0,\"64\":1.0,\"128\":1.0,\"256\":1.0}\\n'"
      ]
     },
     "execution_count": 11,
     "metadata": {},
     "output_type": "execute_result"
    }
   ],
   "source": [
    "sampleDF = returnRawDF(fix=\"Class\")\n",
    "sampleDF\n",
    "sampleDF.to_json(orient='records', force_ascii=False, lines = True)"
   ]
  },
  {
   "cell_type": "code",
   "execution_count": 18,
   "metadata": {},
   "outputs": [
    {
     "name": "stdout",
     "output_type": "stream",
     "text": [
      "{\"params\":\"{'x':1}\",\"metric\":[\".TAU_application\"],\"value\":1.0}\n",
      "{\"params\":\"{'x':1}\",\"metric\":[\".TAU_application\"],\"value\":1.0}\n",
      "{\"params\":\"{'x':1}\",\"metric\":[\".TAU_application\"],\"value\":1.0}\n",
      "{\"params\":\"{'x':1}\",\"metric\":[\".TAU_application\"],\"value\":1.0}\n",
      "{\"params\":\"{'x':1}\",\"metric\":[\".TAU_application\"],\"value\":1.0}\n",
      "{\"params\":\"{'x':2}\",\"metric\":[\".TAU_application\"],\"value\":1.0}\n",
      "{\"params\":\"{'x':2}\",\"metric\":[\".TAU_application\"],\"value\":1.0}\n",
      "{\"params\":\"{'x':2}\",\"metric\":[\".TAU_application\"],\"value\":1.0}\n",
      "{\"params\":\"{'x':2}\",\"metric\":[\".TAU_application\"],\"value\":1.0}\n",
      "{\"params\":\"{'x':2}\",\"metric\":[\".TAU_application\"],\"value\":1.0}\n",
      "{\"params\":\"{'x':4}\",\"metric\":[\".TAU_application\"],\"value\":1.0}\n",
      "{\"params\":\"{'x':4}\",\"metric\":[\".TAU_application\"],\"value\":1.0}\n",
      "{\"params\":\"{'x':4}\",\"metric\":[\".TAU_application\"],\"value\":1.0}\n",
      "{\"params\":\"{'x':4}\",\"metric\":[\".TAU_application\"],\"value\":1.0}\n",
      "{\"params\":\"{'x':4}\",\"metric\":[\".TAU_application\"],\"value\":1.0}\n",
      "{\"params\":\"{'x':8}\",\"metric\":[\".TAU_application\"],\"value\":1.0}\n",
      "{\"params\":\"{'x':8}\",\"metric\":[\".TAU_application\"],\"value\":1.0}\n",
      "{\"params\":\"{'x':8}\",\"metric\":[\".TAU_application\"],\"value\":1.0}\n",
      "{\"params\":\"{'x':8}\",\"metric\":[\".TAU_application\"],\"value\":1.0}\n",
      "{\"params\":\"{'x':8}\",\"metric\":[\".TAU_application\"],\"value\":1.0}\n",
      "{\"params\":\"{'x':16}\",\"metric\":[\".TAU_application\"],\"value\":1.0}\n",
      "{\"params\":\"{'x':16}\",\"metric\":[\".TAU_application\"],\"value\":1.0}\n",
      "{\"params\":\"{'x':16}\",\"metric\":[\".TAU_application\"],\"value\":1.0}\n",
      "{\"params\":\"{'x':16}\",\"metric\":[\".TAU_application\"],\"value\":1.0}\n",
      "{\"params\":\"{'x':16}\",\"metric\":[\".TAU_application\"],\"value\":1.0}\n",
      "{\"params\":\"{'x':32}\",\"metric\":[\".TAU_application\"],\"value\":1.0}\n",
      "{\"params\":\"{'x':32}\",\"metric\":[\".TAU_application\"],\"value\":1.0}\n",
      "{\"params\":\"{'x':32}\",\"metric\":[\".TAU_application\"],\"value\":1.0}\n",
      "{\"params\":\"{'x':32}\",\"metric\":[\".TAU_application\"],\"value\":1.0}\n",
      "{\"params\":\"{'x':32}\",\"metric\":[\".TAU_application\"],\"value\":1.0}\n",
      "{\"params\":\"{'x':64}\",\"metric\":[\".TAU_application\"],\"value\":1.0}\n",
      "{\"params\":\"{'x':64}\",\"metric\":[\".TAU_application\"],\"value\":1.0}\n",
      "{\"params\":\"{'x':64}\",\"metric\":[\".TAU_application\"],\"value\":1.0}\n",
      "{\"params\":\"{'x':64}\",\"metric\":[\".TAU_application\"],\"value\":1.0}\n",
      "{\"params\":\"{'x':64}\",\"metric\":[\".TAU_application\"],\"value\":1.0}\n",
      "{\"params\":\"{'x':128}\",\"metric\":[\".TAU_application\"],\"value\":1.0}\n",
      "{\"params\":\"{'x':128}\",\"metric\":[\".TAU_application\"],\"value\":1.0}\n",
      "{\"params\":\"{'x':128}\",\"metric\":[\".TAU_application\"],\"value\":1.0}\n",
      "{\"params\":\"{'x':128}\",\"metric\":[\".TAU_application\"],\"value\":1.0}\n",
      "{\"params\":\"{'x':128}\",\"metric\":[\".TAU_application\"],\"value\":1.0}\n",
      "{\"params\":\"{'x':256}\",\"metric\":[\".TAU_application\"],\"value\":1.0}\n",
      "{\"params\":\"{'x':256}\",\"metric\":[\".TAU_application\"],\"value\":1.0}\n",
      "{\"params\":\"{'x':256}\",\"metric\":[\".TAU_application\"],\"value\":1.0}\n",
      "{\"params\":\"{'x':256}\",\"metric\":[\".TAU_application\"],\"value\":1.0}\n",
      "{\"params\":\"{'x':256}\",\"metric\":[\".TAU_application\"],\"value\":1.0}\n",
      "\n"
     ]
    }
   ],
   "source": [
    "# 引数：sampleDFには returnRawDF() の返値\n",
    "\n",
    "# def returnDFforExtraPinput(sampleDF):\n",
    "    \n",
    "# explanatoryVariableList は説明変数(コア数もしくは問題サイズ)のリスト\n",
    "explanatoryVariableList = sampleDF.columns.tolist()\n",
    "# explanatoryVariableList\n",
    "# functionName は関数名のリスト(要素は1つのはず)\n",
    "functionName = sampleDF.index.tolist()\n",
    "# functionName\n",
    "# repeated は重複させる数(ExtraPは同じ条件で複数回の元データを必要とする)\n",
    "repeated = 5\n",
    "# params は後に返すDFのparamsカラムに相当するリスト\n",
    "params = []\n",
    "for param in explanatoryVariableList:\n",
    "    params += [(f\"{{'x':{param}}}\")]*repeated\n",
    "# params\n",
    "# metric は後に返すDFのmetricカラムに相当するリスト\n",
    "metric = []\n",
    "for _column in explanatoryVariableList:\n",
    "    metric += [functionName] * repeated\n",
    "# metric\n",
    "# value は後に返すDFのvalueカラムに相当するリスト\n",
    "value = []\n",
    "for _column in explanatoryVariableList:\n",
    "    for _functionName in functionName:\n",
    "        value += [float(sampleDF.at[_functionName, _column])]*repeated\n",
    "# value\n",
    "\n",
    "returnDF = pd.DataFrame([params, metric, value]).T\n",
    "columns = [\"params\", \"metric\", \"value\"]\n",
    "returnDF.columns = columns\n",
    "print(returnDF.to_json(orient='records', force_ascii=False, lines=True))\n"
   ]
  },
  {
   "cell_type": "code",
   "execution_count": null,
   "metadata": {},
   "outputs": [],
   "source": []
  }
 ],
 "metadata": {
  "kernelspec": {
   "display_name": "Python 3",
   "language": "python",
   "name": "python3"
  },
  "language_info": {
   "codemirror_mode": {
    "name": "ipython",
    "version": 3
   },
   "file_extension": ".py",
   "mimetype": "text/x-python",
   "name": "python",
   "nbconvert_exporter": "python",
   "pygments_lexer": "ipython3",
   "version": "3.9.4"
  }
 },
 "nbformat": 4,
 "nbformat_minor": 4
}
