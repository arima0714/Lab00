{
 "cells": [
  {
   "cell_type": "code",
   "execution_count": 1,
   "metadata": {},
   "outputs": [],
   "source": [
    "# ipynb形式のライブラリのインポート\n",
    "%run ./lib.ipynb\n",
    "\n",
    "# ##### 各関数での実行時間を保存するためのCSVの空データを作成するための処理 #####\n",
    "# Processes = []\n",
    "# for i in range(1,16):\n",
    "#     Processes.append(i*i)\n",
    "# for j in range(9):\n",
    "#     Processes.append(2**j)\n",
    "# Processes = list(set(Processes))\n",
    "# Processes.sort()\n",
    "# index = classes\n",
    "# EmptyDF = pd.DataFrame(index=index, columns=Processes)\n",
    "# for benchmark in benchmarks:\n",
    "#     EmptyDF.to_csv(f\"./csv_files/ExecTime@{benchmark}.csv\")\n",
    "\n",
    "##### 各ベンチマークの実行時間を記録する処理\n",
    "# # Benchmarks = []\n",
    "# # for benchmark in benchmarks:\n",
    "# #     Benchmarks.append(benchmark.upper())\n",
    "# # print(Benchmarks)\n",
    "\n",
    "# Processes = [8, 16, 32, 64, 128, 256]\n",
    "# for process in Processes:\n",
    "#     TimeDataList = return_TimeDataList(process)\n",
    "#     for DictData in TimeDataList:\n",
    "#         benchmark = DictData.benchmark\n",
    "#         process = DictData.process\n",
    "#         BenchmarkClass = DictData.BenchmarkClass\n",
    "#         time = DictData.time\n",
    "#         FillCSV(benchmark=benchmark, process=process, BenchmarkClass=BenchmarkClass, time=time)\n",
    "\n",
    "# # print(TimeDataList[0].return_AllData())\n"
   ]
  },
  {
   "cell_type": "code",
   "execution_count": 2,
   "metadata": {},
   "outputs": [],
   "source": [
    "def GenerateMapeTable(FixedClass=\"B\", FixedProcess=\"64\", test_ratio=0.3):\n",
    "    \n",
    "    DirName = \"./table_LatexForm/\"\n",
    "    FileSuffix = f\"Train0{int(test_ratio*10)}.table\"\n",
    "    FilePrefix = \"MapeTableFixed\"\n",
    "    \n",
    "    input_MapeTableDF = return_MapeTableDataframe_FixedProcess(FixedProcess=FixedProcess, test_ratio=test_ratio)\n",
    "    return_MapeTableDF = return_MapeTableOnlyStrDataframe(input_MapeTableDF=input_MapeTableDF)\n",
    "    return_MapeTableDF.to_latex(f\"{DirName}{FilePrefix}{FixedProcess}{FileSuffix}\")\n",
    "    input_MapeTableDF = return_MapeTableDataframe_FixedClass(FixedClass=FixedClass,test_ratio=test_ratio)\n",
    "    return_MapeTableDF = return_MapeTableOnlyStrDataframe(input_MapeTableDF=input_MapeTableDF)\n",
    "    return_MapeTableDF.to_latex(f\"{DirName}{FilePrefix}{FixedClass}{FileSuffix}\")\n",
    "\n",
    "# MAPE表を生成する例   \n",
    "# GenerateMapeTable()"
   ]
  },
  {
   "cell_type": "code",
   "execution_count": 13,
   "metadata": {},
   "outputs": [
    {
     "name": "stdout",
     "output_type": "stream",
     "text": [
      "     Average  PredictCosts  RealCost\n",
      "4  0.0657727      16325.12  15784.96\n",
      "3   0.135409        540.16  15784.96\n",
      "1   0.288136         10.24  15784.96\n",
      "     Average  PredictCosts  RealCost\n",
      "9  0.0568636        913.82     166.4\n",
      "8   0.102409        747.42     166.4\n",
      "6   0.283636        537.50     166.4\n",
      "4     5.4315        372.06     166.4\n",
      "2    6.71836        210.46     166.4\n"
     ]
    }
   ],
   "source": [
    "benchmark = \"cg\"\n",
    "\n",
    "def ConvertIndexNameToNumOfProfile(inputDF, Fixed=\"Process\"):\n",
    "    index = inputDF.index.tolist()\n",
    "    # ConvertedIndexには入力データフレームの行名から使用されたプロファイルの数を格納している。\n",
    "    ConvertedIndex = [0] * len(index)\n",
    "    for i in range(len(index)):\n",
    "        if(Fixed==\"Process\"):\n",
    "            ConvertedIndex[i] = len(convert_StrListToStrList(index[i]))\n",
    "        elif(Fixed==\"Class\"):\n",
    "            ConvertedIndex[i] = len(convert_StrListToIntList(index[i]))\n",
    "    returnDF = inputDF.copy(deep=True)\n",
    "    returnDF.index = ConvertedIndex\n",
    "    return(returnDF)\n",
    "\n",
    "Fixed = \"Process\"\n",
    "FixedProcessDF = return_ErrorRateFixedProcess_AveragePredictCostRealCost(benchmark=benchmark)\n",
    "print(ConvertIndexNameToNumOfProfile(FixedProcessDF, Fixed=Fixed))\n",
    "\n",
    "Fixed = \"Class\"\n",
    "FixedClassDF = return_ErrorRateFixedClass_AveragePredictCostRealCost(benchmark=benchmark)\n",
    "print(ConvertIndexNameToNumOfProfile(FixedClassDF, Fixed=Fixed))"
   ]
  },
  {
   "cell_type": "code",
   "execution_count": null,
   "metadata": {},
   "outputs": [],
   "source": []
  }
 ],
 "metadata": {
  "kernelspec": {
   "display_name": "Python 3",
   "language": "python",
   "name": "python3"
  },
  "language_info": {
   "codemirror_mode": {
    "name": "ipython",
    "version": 3
   },
   "file_extension": ".py",
   "mimetype": "text/x-python",
   "name": "python",
   "nbconvert_exporter": "python",
   "pygments_lexer": "ipython3",
   "version": "3.8.5"
  }
 },
 "nbformat": 4,
 "nbformat_minor": 4
}
