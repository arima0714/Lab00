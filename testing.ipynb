{
 "cells": [
  {
   "cell_type": "code",
   "execution_count": null,
   "metadata": {},
   "outputs": [],
   "source": [
    "# ipynb形式のライブラリのインポート\n",
    "%run ./lib/lib.ipynb\n",
    "\n",
    "# 生データの入ったCSVファイルの保持されたディレクトリ名を格納している変数\n",
    "csvDirPath = \"./csv_files/\""
   ]
  },
  {
   "cell_type": "markdown",
   "metadata": {
    "tags": []
   },
   "source": [
    "## 予測をする"
   ]
  },
  {
   "cell_type": "code",
   "execution_count": null,
   "metadata": {},
   "outputs": [],
   "source": [
    "# 予測を行う。一つの関数・変数（コア数・各種ベンチマーク由来の初期化変数）\n",
    "\n",
    "benchmarkNames = [\"cg\"]\n",
    "classes = [\"S\", \"W\", \"A\", \"B\", \"C\", \"D\", \"E\", \"F\"]\n",
    "processes = [1, 2, 4, 8, 16, 32, 64, 128, 256]\n",
    "\n",
    "# データを取得\n",
    "rawDF = returnCollectedExistingData(\n",
    "    benchmarkNames=benchmarkNames,\n",
    "    classes=classes,\n",
    "    processes=processes,\n",
    "    csvDirPath=\"./csv_files/\",\n",
    ")\n",
    "rawDF = addInitDataToRawDF(rawDF)\n",
    "\n",
    "# データを表示\n",
    "print(rawDF)\n",
    "\n",
    "# TODO:予測を実施\n",
    "\n",
    "\n",
    "# TODO:予測の統計的結果をグラフにプロットする"
   ]
  }
 ],
 "metadata": {
  "kernelspec": {
   "display_name": "Python 3 (ipykernel)",
   "language": "python",
   "name": "python3"
  },
  "language_info": {
   "codemirror_mode": {
    "name": "ipython",
    "version": 3
   },
   "file_extension": ".py",
   "mimetype": "text/x-python",
   "name": "python",
   "nbconvert_exporter": "python",
   "pygments_lexer": "ipython3",
   "version": "3.9.6"
  }
 },
 "nbformat": 4,
 "nbformat_minor": 4
}
