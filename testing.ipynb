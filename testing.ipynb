{
 "cells": [
  {
   "cell_type": "code",
   "execution_count": null,
   "metadata": {},
   "outputs": [],
   "source": [
    "# ipynb形式のライブラリのインポート\n",
    "%run ./lib.ipynb\n",
    "\n",
    "# ##### 各関数での実行時間を保存するためのCSVの空データを作成するための処理 #####\n",
    "# Processes = []\n",
    "# for i in range(1,16):\n",
    "#     Processes.append(i*i)\n",
    "# for j in range(9):\n",
    "#     Processes.append(2**j)\n",
    "# Processes = list(set(Processes))\n",
    "# Processes.sort()\n",
    "# index = classes\n",
    "# EmptyDF = pd.DataFrame(index=index, columns=Processes)\n",
    "# for benchmark in benchmarks:\n",
    "#     EmptyDF.to_csv(f\"./csv_files/ExecTime@{benchmark}.csv\")\n",
    "\n",
    "##### 各ベンチマークの実行時間を記録する処理\n",
    "# # Benchmarks = []\n",
    "# # for benchmark in benchmarks:\n",
    "# #     Benchmarks.append(benchmark.upper())\n",
    "# # print(Benchmarks)\n",
    "\n",
    "# Processes = [8, 16, 32, 64, 128, 256]\n",
    "# for process in Processes:\n",
    "#     TimeDataList = return_TimeDataList(process)\n",
    "#     for DictData in TimeDataList:\n",
    "#         benchmark = DictData.benchmark\n",
    "#         process = DictData.process\n",
    "#         BenchmarkClass = DictData.BenchmarkClass\n",
    "#         time = DictData.time\n",
    "#         FillCSV(benchmark=benchmark, process=process, BenchmarkClass=BenchmarkClass, time=time)\n",
    "\n",
    "# # print(TimeDataList[0].return_AllData())\n"
   ]
  }
 ],
 "metadata": {
  "kernelspec": {
   "display_name": "Python 3",
   "language": "python",
   "name": "python3"
  },
  "language_info": {
   "codemirror_mode": {
    "name": "ipython",
    "version": 3
   },
   "file_extension": ".py",
   "mimetype": "text/x-python",
   "name": "python",
   "nbconvert_exporter": "python",
   "pygments_lexer": "ipython3",
   "version": "3.8.5"
  }
 },
 "nbformat": 4,
 "nbformat_minor": 4
}
