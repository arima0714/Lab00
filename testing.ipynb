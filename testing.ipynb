{
 "cells": [
  {
   "cell_type": "code",
   "execution_count": 1,
   "metadata": {},
   "outputs": [
    {
     "name": "stderr",
     "output_type": "stream",
     "text": [
      "DEBUG:__main__:hello\n"
     ]
    }
   ],
   "source": [
    "# ipynb形式のライブラリのインポート\n",
    "%run ./lib/lib.ipynb\n",
    "\n",
    "# 生データの入ったCSVファイルの保持されたディレクトリ名を格納している変数\n",
    "csvDirPath = \"./csv_files/\"\n",
    "benchmarkNames = [\"cg\", \"ep\", \"ft\", \"is\", \"lu\", \"mg\"]"
   ]
  },
  {
   "cell_type": "code",
   "execution_count": 2,
   "metadata": {},
   "outputs": [
    {
     "name": "stderr",
     "output_type": "stream",
     "text": [
      "DEBUG:lib.lab_lib:hello\n"
     ]
    }
   ],
   "source": [
    "# ipynb形式のライブラリノートを.py形式に変更したものをインポート\n",
    "import lib\n",
    "import lib.lab_lib\n",
    "from lib.lab_lib import *"
   ]
  },
  {
   "cell_type": "markdown",
   "metadata": {},
   "source": [
    "# 2022年3月22日～\n",
    "\n",
    "ベンチマークプログラムCGの関数 `VECSET` において、回帰木モデルのチューニングをする\n",
    "\n",
    "## ✅TODOs\n",
    "\n",
    "1. ✅VECSETだけのMAPE表を作る\n",
    "2. ✅githubのissueにある「やること群」をリストアップする\n",
    "\n",
    "## TODOs２\n",
    "\n",
    "* 木を出力して確認する\n",
    "* ノードに含まれるサンプル数のパラメータを確認\n",
    "* 毎回結果が異なるかもしれないのでそれを固定する＠ハイパーパラメータ\n",
    "* 入力データがすべて数値データなのを確認\n",
    "* 交差検証をする（一つのデータをテスト対象にする。すべてのデータをテスト対象とした結果をまとめる。）"
   ]
  },
  {
   "cell_type": "code",
   "execution_count": 3,
   "metadata": {},
   "outputs": [
    {
     "name": "stderr",
     "output_type": "stream",
     "text": [
      "DEBUG:graphviz._tools:deprecate positional args: graphviz.backend.piping.pipe(['renderer', 'formatter', 'quiet'])\n",
      "DEBUG:graphviz._tools:deprecate positional args: graphviz.backend.rendering.render(['renderer', 'formatter', 'quiet'])\n",
      "DEBUG:graphviz._tools:deprecate positional args: graphviz.backend.unflattening.unflatten(['stagger', 'fanout', 'chain', 'encoding'])\n",
      "DEBUG:graphviz._tools:deprecate positional args: graphviz.backend.viewing.view(['quiet'])\n",
      "DEBUG:graphviz._tools:deprecate positional args: graphviz.quoting.quote(['is_html_string', 'is_valid_id', 'dot_keywords', 'escape_unescaped_quotes'])\n",
      "DEBUG:graphviz._tools:deprecate positional args: graphviz.quoting.a_list(['kwargs', 'attributes'])\n",
      "DEBUG:graphviz._tools:deprecate positional args: graphviz.quoting.attr_list(['kwargs', 'attributes'])\n",
      "DEBUG:graphviz._tools:deprecate positional args: graphviz.dot.Dot.clear(['keep_attrs'])\n",
      "DEBUG:graphviz._tools:deprecate positional args: graphviz.dot.Dot.__iter__(['subgraph'])\n",
      "DEBUG:graphviz._tools:deprecate positional args: graphviz.dot.Dot.node(['_attributes'])\n",
      "DEBUG:graphviz._tools:deprecate positional args: graphviz.dot.Dot.edge(['_attributes'])\n",
      "DEBUG:graphviz._tools:deprecate positional args: graphviz.dot.Dot.attr(['_attributes'])\n",
      "DEBUG:graphviz._tools:deprecate positional args: graphviz.dot.Dot.subgraph(['name', 'comment', 'graph_attr', 'node_attr', 'edge_attr', 'body'])\n",
      "DEBUG:graphviz._tools:deprecate positional args: graphviz.piping.Pipe._pipe_legacy(['renderer', 'formatter', 'quiet'])\n",
      "DEBUG:graphviz._tools:deprecate positional args: graphviz.saving.Save.save(['directory'])\n",
      "DEBUG:graphviz._tools:deprecate positional args: graphviz.rendering.Render.render(['directory', 'view', 'cleanup', 'format', 'renderer', 'formatter', 'quiet', 'quiet_view'])\n",
      "DEBUG:graphviz._tools:deprecate positional args: graphviz.rendering.Render.view(['directory', 'cleanup', 'quiet', 'quiet_view'])\n",
      "DEBUG:graphviz._tools:deprecate positional args: graphviz.unflattening.Unflatten.unflatten(['stagger', 'fanout', 'chain'])\n",
      "DEBUG:graphviz._tools:deprecate positional args: graphviz.graphs.BaseGraph.__init__(['comment', 'filename', 'directory', 'format', 'engine', 'encoding', 'graph_attr', 'node_attr', 'edge_attr', 'body', 'strict'])\n",
      "DEBUG:graphviz._tools:deprecate positional args: graphviz.sources.Source.from_file(['directory', 'format', 'engine', 'encoding', 'renderer', 'formatter'])\n",
      "DEBUG:graphviz._tools:deprecate positional args: graphviz.sources.Source.__init__(['filename', 'directory', 'format', 'engine', 'encoding'])\n",
      "DEBUG:graphviz._tools:deprecate positional args: graphviz.sources.Source.save(['directory'])\n"
     ]
    },
    {
     "name": "stdout",
     "output_type": "stream",
     "text": [
      "exp_var = ['process', 'na', 'nonzer', 'niter', 'shift']\n"
     ]
    }
   ],
   "source": [
    "import graphviz\n",
    "\n",
    "benchmark_name = \"cg\"\n",
    "\n",
    "classes = [\"A\", \"B\", \"C\", \"D\", \"E\", \"F\"]\n",
    "processes = [2, 4, 8, 16, 32, 64, 128, 256]\n",
    "\n",
    "\n",
    "date: str = \"2022年3月23日\"\n",
    "\n",
    "# コア数と問題サイズの両方を振る\n",
    "\n",
    "rawDF: pd.DataFrame = return_rawDF_with_init_param(\n",
    "    benchmark_name=benchmark_name,\n",
    "    classes=classes,\n",
    "    processes=processes,\n",
    "    csv_dir_path=\"./csv_files/\",\n",
    ")\n",
    "\n",
    "# 関数VECSETのみを抽出\n",
    "functionName: str = \"VECSET\"\n",
    "rawDF: pd.DataFrame = rawDF[rawDF[\"functionName\"] == functionName]\n",
    "\n",
    "exp_var: list[str] = rawDF.columns.tolist()\n",
    "for element_be_removed in [\n",
    "    \"functionName\",\n",
    "    \"functionCallNum\",\n",
    "    \"intBenchmarkClass\",\n",
    "    \"benchmarkName\",\n",
    "    \"benchmarkClass\",\n",
    "]:\n",
    "    exp_var.remove(element_be_removed)\n",
    "res_var: list[str] = [\"functionCallNum\"]\n",
    "\n",
    "print(f\"exp_var = {exp_var}\")\n",
    "\n",
    "df_exp_var: pd.DataFrame = rawDF.filter(items=exp_var)\n",
    "df_res_var: pd.DataFrame = rawDF.filter(items=res_var)\n",
    "\n",
    "ndarray_exp_var: np.ndarray = df_exp_var.values\n",
    "ndarray_res_var: np.ndarray = df_res_var.values\n",
    "\n",
    "reg_tree = DecisionTreeRegressor(max_leaf_nodes=20)\n",
    "model_tree: DecisionTreeRegressor = reg_tree.fit(ndarray_exp_var, ndarray_res_var)"
   ]
  },
  {
   "cell_type": "code",
   "execution_count": 4,
   "metadata": {},
   "outputs": [
    {
     "name": "stderr",
     "output_type": "stream",
     "text": [
      "DEBUG:graphviz.backend.execute:run [PosixPath('dot'), '-Kdot', '-Tsvg']\n"
     ]
    },
    {
     "data": {
      "image/svg+xml": "<?xml version=\"1.0\" encoding=\"UTF-8\" standalone=\"no\"?>\n<!DOCTYPE svg PUBLIC \"-//W3C//DTD SVG 1.1//EN\"\n \"http://www.w3.org/Graphics/SVG/1.1/DTD/svg11.dtd\">\n<!-- Generated by graphviz version 2.43.0 (0)\n -->\n<!-- Title: Tree Pages: 1 -->\n<svg width=\"1487pt\" height=\"789pt\"\n viewBox=\"0.00 0.00 1486.50 789.00\" xmlns=\"http://www.w3.org/2000/svg\" xmlns:xlink=\"http://www.w3.org/1999/xlink\">\n<g id=\"graph0\" class=\"graph\" transform=\"scale(1 1) rotate(0) translate(4 785)\">\n<title>Tree</title>\n<polygon fill=\"white\" stroke=\"transparent\" points=\"-4,4 -4,-785 1482.5,-785 1482.5,4 -4,4\"/>\n<!-- 0 -->\n<g id=\"node1\" class=\"node\">\n<title>0</title>\n<polygon fill=\"#fef9f5\" stroke=\"black\" points=\"1419,-781 1137,-781 1137,-713 1419,-713 1419,-781\"/>\n<text text-anchor=\"middle\" x=\"1278\" y=\"-765.8\" font-family=\"Helvetica,sans-Serif\" font-size=\"14.00\">X[1] &lt;= 31500000.0</text>\n<text text-anchor=\"middle\" x=\"1278\" y=\"-750.8\" font-family=\"Helvetica,sans-Serif\" font-size=\"14.00\">squared_error = 80620299302501.83</text>\n<text text-anchor=\"middle\" x=\"1278\" y=\"-735.8\" font-family=\"Helvetica,sans-Serif\" font-size=\"14.00\">samples = 37</text>\n<text text-anchor=\"middle\" x=\"1278\" y=\"-720.8\" font-family=\"Helvetica,sans-Serif\" font-size=\"14.00\">value = 2694141.892</text>\n</g>\n<!-- 1 -->\n<g id=\"node2\" class=\"node\">\n<title>1</title>\n<polygon fill=\"#fefcfa\" stroke=\"black\" points=\"1299,-677 1017,-677 1017,-609 1299,-609 1299,-677\"/>\n<text text-anchor=\"middle\" x=\"1158\" y=\"-661.8\" font-family=\"Helvetica,sans-Serif\" font-size=\"14.00\">X[4] &lt;= 1000.0</text>\n<text text-anchor=\"middle\" x=\"1158\" y=\"-646.8\" font-family=\"Helvetica,sans-Serif\" font-size=\"14.00\">squared_error = 7709466706163.194</text>\n<text text-anchor=\"middle\" x=\"1158\" y=\"-631.8\" font-family=\"Helvetica,sans-Serif\" font-size=\"14.00\">samples = 36</text>\n<text text-anchor=\"middle\" x=\"1158\" y=\"-616.8\" font-family=\"Helvetica,sans-Serif\" font-size=\"14.00\">value = 1268979.167</text>\n</g>\n<!-- 0&#45;&gt;1 -->\n<g id=\"edge1\" class=\"edge\">\n<title>0&#45;&gt;1</title>\n<path fill=\"none\" stroke=\"black\" d=\"M1239.04,-712.88C1228.14,-703.62 1216.18,-693.45 1204.88,-683.85\"/>\n<polygon fill=\"black\" stroke=\"black\" points=\"1207.06,-681.11 1197.18,-677.3 1202.53,-686.44 1207.06,-681.11\"/>\n<text text-anchor=\"middle\" x=\"1199.2\" y=\"-698.52\" font-family=\"Helvetica,sans-Serif\" font-size=\"14.00\">True</text>\n</g>\n<!-- 2 -->\n<g id=\"node25\" class=\"node\">\n<title>2</title>\n<polygon fill=\"#e58139\" stroke=\"black\" points=\"1478.5,-669.5 1317.5,-669.5 1317.5,-616.5 1478.5,-616.5 1478.5,-669.5\"/>\n<text text-anchor=\"middle\" x=\"1398\" y=\"-654.3\" font-family=\"Helvetica,sans-Serif\" font-size=\"14.00\">squared_error = 0.0</text>\n<text text-anchor=\"middle\" x=\"1398\" y=\"-639.3\" font-family=\"Helvetica,sans-Serif\" font-size=\"14.00\">samples = 1</text>\n<text text-anchor=\"middle\" x=\"1398\" y=\"-624.3\" font-family=\"Helvetica,sans-Serif\" font-size=\"14.00\">value = 54000000.0</text>\n</g>\n<!-- 0&#45;&gt;2 -->\n<g id=\"edge24\" class=\"edge\">\n<title>0&#45;&gt;2</title>\n<path fill=\"none\" stroke=\"black\" d=\"M1316.96,-712.88C1330.8,-701.12 1346.36,-687.89 1360.11,-676.2\"/>\n<polygon fill=\"black\" stroke=\"black\" points=\"1362.62,-678.66 1367.98,-669.52 1358.09,-673.33 1362.62,-678.66\"/>\n<text text-anchor=\"middle\" x=\"1365.96\" y=\"-690.74\" font-family=\"Helvetica,sans-Serif\" font-size=\"14.00\">False</text>\n</g>\n<!-- 3 -->\n<g id=\"node3\" class=\"node\">\n<title>3</title>\n<polygon fill=\"#fffefe\" stroke=\"black\" points=\"1178.5,-573 905.5,-573 905.5,-505 1178.5,-505 1178.5,-573\"/>\n<text text-anchor=\"middle\" x=\"1042\" y=\"-557.8\" font-family=\"Helvetica,sans-Serif\" font-size=\"14.00\">X[4] &lt;= 305.0</text>\n<text text-anchor=\"middle\" x=\"1042\" y=\"-542.8\" font-family=\"Helvetica,sans-Serif\" font-size=\"14.00\">squared_error = 268178979919.434</text>\n<text text-anchor=\"middle\" x=\"1042\" y=\"-527.8\" font-family=\"Helvetica,sans-Serif\" font-size=\"14.00\">samples = 32</text>\n<text text-anchor=\"middle\" x=\"1042\" y=\"-512.8\" font-family=\"Helvetica,sans-Serif\" font-size=\"14.00\">value = 302601.562</text>\n</g>\n<!-- 1&#45;&gt;3 -->\n<g id=\"edge2\" class=\"edge\">\n<title>1&#45;&gt;3</title>\n<path fill=\"none\" stroke=\"black\" d=\"M1120.34,-608.88C1109.9,-599.71 1098.46,-589.65 1087.63,-580.12\"/>\n<polygon fill=\"black\" stroke=\"black\" points=\"1089.69,-577.27 1079.87,-573.3 1085.07,-582.53 1089.69,-577.27\"/>\n</g>\n<!-- 4 -->\n<g id=\"node24\" class=\"node\">\n<title>4</title>\n<polygon fill=\"#fbeade\" stroke=\"black\" points=\"1353,-565.5 1197,-565.5 1197,-512.5 1353,-512.5 1353,-565.5\"/>\n<text text-anchor=\"middle\" x=\"1275\" y=\"-550.3\" font-family=\"Helvetica,sans-Serif\" font-size=\"14.00\">squared_error = 0.0</text>\n<text text-anchor=\"middle\" x=\"1275\" y=\"-535.3\" font-family=\"Helvetica,sans-Serif\" font-size=\"14.00\">samples = 4</text>\n<text text-anchor=\"middle\" x=\"1275\" y=\"-520.3\" font-family=\"Helvetica,sans-Serif\" font-size=\"14.00\">value = 9000000.0</text>\n</g>\n<!-- 1&#45;&gt;4 -->\n<g id=\"edge23\" class=\"edge\">\n<title>1&#45;&gt;4</title>\n<path fill=\"none\" stroke=\"black\" d=\"M1195.99,-608.88C1209.48,-597.12 1224.65,-583.89 1238.06,-572.2\"/>\n<polygon fill=\"black\" stroke=\"black\" points=\"1240.49,-574.73 1245.73,-565.52 1235.89,-569.45 1240.49,-574.73\"/>\n</g>\n<!-- 5 -->\n<g id=\"node4\" class=\"node\">\n<title>5</title>\n<polygon fill=\"#ffffff\" stroke=\"black\" points=\"1033.5,-469 778.5,-469 778.5,-401 1033.5,-401 1033.5,-469\"/>\n<text text-anchor=\"middle\" x=\"906\" y=\"-453.8\" font-family=\"Helvetica,sans-Serif\" font-size=\"14.00\">X[4] &lt;= 85.0</text>\n<text text-anchor=\"middle\" x=\"906\" y=\"-438.8\" font-family=\"Helvetica,sans-Serif\" font-size=\"14.00\">squared_error = 2884199544.271</text>\n<text text-anchor=\"middle\" x=\"906\" y=\"-423.8\" font-family=\"Helvetica,sans-Serif\" font-size=\"14.00\">samples = 24</text>\n<text text-anchor=\"middle\" x=\"906\" y=\"-408.8\" font-family=\"Helvetica,sans-Serif\" font-size=\"14.00\">value = 72218.75</text>\n</g>\n<!-- 3&#45;&gt;5 -->\n<g id=\"edge3\" class=\"edge\">\n<title>3&#45;&gt;5</title>\n<path fill=\"none\" stroke=\"black\" d=\"M997.84,-504.88C985.37,-495.53 971.68,-485.26 958.76,-475.57\"/>\n<polygon fill=\"black\" stroke=\"black\" points=\"960.5,-472.5 950.4,-469.3 956.3,-478.1 960.5,-472.5\"/>\n</g>\n<!-- 6 -->\n<g id=\"node21\" class=\"node\">\n<title>6</title>\n<polygon fill=\"#fffdfb\" stroke=\"black\" points=\"1306.5,-469 1051.5,-469 1051.5,-401 1306.5,-401 1306.5,-469\"/>\n<text text-anchor=\"middle\" x=\"1179\" y=\"-453.8\" font-family=\"Helvetica,sans-Serif\" font-size=\"14.00\">X[0] &lt;= 12.0</text>\n<text text-anchor=\"middle\" x=\"1179\" y=\"-438.8\" font-family=\"Helvetica,sans-Serif\" font-size=\"14.00\">squared_error = 427148437500.0</text>\n<text text-anchor=\"middle\" x=\"1179\" y=\"-423.8\" font-family=\"Helvetica,sans-Serif\" font-size=\"14.00\">samples = 8</text>\n<text text-anchor=\"middle\" x=\"1179\" y=\"-408.8\" font-family=\"Helvetica,sans-Serif\" font-size=\"14.00\">value = 993750.0</text>\n</g>\n<!-- 3&#45;&gt;6 -->\n<g id=\"edge20\" class=\"edge\">\n<title>3&#45;&gt;6</title>\n<path fill=\"none\" stroke=\"black\" d=\"M1086.48,-504.88C1099.16,-495.44 1113.1,-485.06 1126.23,-475.29\"/>\n<polygon fill=\"black\" stroke=\"black\" points=\"1128.34,-478.08 1134.27,-469.3 1124.16,-472.46 1128.34,-478.08\"/>\n</g>\n<!-- 9 -->\n<g id=\"node5\" class=\"node\">\n<title>9</title>\n<polygon fill=\"#ffffff\" stroke=\"black\" points=\"742.5,-365 505.5,-365 505.5,-297 742.5,-297 742.5,-365\"/>\n<text text-anchor=\"middle\" x=\"624\" y=\"-349.8\" font-family=\"Helvetica,sans-Serif\" font-size=\"14.00\">X[3] &lt;= 45.0</text>\n<text text-anchor=\"middle\" x=\"624\" y=\"-334.8\" font-family=\"Helvetica,sans-Serif\" font-size=\"14.00\">squared_error = 836128906.25</text>\n<text text-anchor=\"middle\" x=\"624\" y=\"-319.8\" font-family=\"Helvetica,sans-Serif\" font-size=\"14.00\">samples = 16</text>\n<text text-anchor=\"middle\" x=\"624\" y=\"-304.8\" font-family=\"Helvetica,sans-Serif\" font-size=\"14.00\">value = 39187.5</text>\n</g>\n<!-- 5&#45;&gt;9 -->\n<g id=\"edge4\" class=\"edge\">\n<title>5&#45;&gt;9</title>\n<path fill=\"none\" stroke=\"black\" d=\"M814.44,-400.88C785.98,-390.59 754.44,-379.18 725.34,-368.66\"/>\n<polygon fill=\"black\" stroke=\"black\" points=\"726.17,-365.23 715.58,-365.12 723.79,-371.82 726.17,-365.23\"/>\n</g>\n<!-- 10 -->\n<g id=\"node16\" class=\"node\">\n<title>10</title>\n<polygon fill=\"#ffffff\" stroke=\"black\" points=\"1043,-365 797,-365 797,-297 1043,-297 1043,-365\"/>\n<text text-anchor=\"middle\" x=\"920\" y=\"-349.8\" font-family=\"Helvetica,sans-Serif\" font-size=\"14.00\">X[0] &lt;= 6.0</text>\n<text text-anchor=\"middle\" x=\"920\" y=\"-334.8\" font-family=\"Helvetica,sans-Serif\" font-size=\"14.00\">squared_error = 433959960.938</text>\n<text text-anchor=\"middle\" x=\"920\" y=\"-319.8\" font-family=\"Helvetica,sans-Serif\" font-size=\"14.00\">samples = 8</text>\n<text text-anchor=\"middle\" x=\"920\" y=\"-304.8\" font-family=\"Helvetica,sans-Serif\" font-size=\"14.00\">value = 138281.25</text>\n</g>\n<!-- 5&#45;&gt;10 -->\n<g id=\"edge15\" class=\"edge\">\n<title>5&#45;&gt;10</title>\n<path fill=\"none\" stroke=\"black\" d=\"M910.55,-400.88C911.66,-392.78 912.87,-383.98 914.03,-375.47\"/>\n<polygon fill=\"black\" stroke=\"black\" points=\"917.54,-375.68 915.43,-365.3 910.6,-374.73 917.54,-375.68\"/>\n</g>\n<!-- 11 -->\n<g id=\"node6\" class=\"node\">\n<title>11</title>\n<polygon fill=\"#ffffff\" stroke=\"black\" points=\"448,-261 220,-261 220,-193 448,-193 448,-261\"/>\n<text text-anchor=\"middle\" x=\"334\" y=\"-245.8\" font-family=\"Helvetica,sans-Serif\" font-size=\"14.00\">X[0] &lt;= 6.0</text>\n<text text-anchor=\"middle\" x=\"334\" y=\"-230.8\" font-family=\"Helvetica,sans-Serif\" font-size=\"14.00\">squared_error = 3780273.438</text>\n<text text-anchor=\"middle\" x=\"334\" y=\"-215.8\" font-family=\"Helvetica,sans-Serif\" font-size=\"14.00\">samples = 8</text>\n<text text-anchor=\"middle\" x=\"334\" y=\"-200.8\" font-family=\"Helvetica,sans-Serif\" font-size=\"14.00\">value = 12906.25</text>\n</g>\n<!-- 9&#45;&gt;11 -->\n<g id=\"edge5\" class=\"edge\">\n<title>9&#45;&gt;11</title>\n<path fill=\"none\" stroke=\"black\" d=\"M529.85,-296.88C500.45,-286.54 467.85,-275.08 437.83,-264.52\"/>\n<polygon fill=\"black\" stroke=\"black\" points=\"438.77,-261.14 428.18,-261.12 436.45,-267.74 438.77,-261.14\"/>\n</g>\n<!-- 12 -->\n<g id=\"node11\" class=\"node\">\n<title>12</title>\n<polygon fill=\"#ffffff\" stroke=\"black\" points=\"747,-261 501,-261 501,-193 747,-193 747,-261\"/>\n<text text-anchor=\"middle\" x=\"624\" y=\"-245.8\" font-family=\"Helvetica,sans-Serif\" font-size=\"14.00\">X[0] &lt;= 6.0</text>\n<text text-anchor=\"middle\" x=\"624\" y=\"-230.8\" font-family=\"Helvetica,sans-Serif\" font-size=\"14.00\">squared_error = 287069335.938</text>\n<text text-anchor=\"middle\" x=\"624\" y=\"-215.8\" font-family=\"Helvetica,sans-Serif\" font-size=\"14.00\">samples = 8</text>\n<text text-anchor=\"middle\" x=\"624\" y=\"-200.8\" font-family=\"Helvetica,sans-Serif\" font-size=\"14.00\">value = 65468.75</text>\n</g>\n<!-- 9&#45;&gt;12 -->\n<g id=\"edge10\" class=\"edge\">\n<title>9&#45;&gt;12</title>\n<path fill=\"none\" stroke=\"black\" d=\"M624,-296.88C624,-288.78 624,-279.98 624,-271.47\"/>\n<polygon fill=\"black\" stroke=\"black\" points=\"627.5,-271.3 624,-261.3 620.5,-271.3 627.5,-271.3\"/>\n</g>\n<!-- 21 -->\n<g id=\"node7\" class=\"node\">\n<title>21</title>\n<polygon fill=\"#ffffff\" stroke=\"black\" points=\"237.5,-157 36.5,-157 36.5,-89 237.5,-89 237.5,-157\"/>\n<text text-anchor=\"middle\" x=\"137\" y=\"-141.8\" font-family=\"Helvetica,sans-Serif\" font-size=\"14.00\">X[0] &lt;= 3.0</text>\n<text text-anchor=\"middle\" x=\"137\" y=\"-126.8\" font-family=\"Helvetica,sans-Serif\" font-size=\"14.00\">squared_error = 765625.0</text>\n<text text-anchor=\"middle\" x=\"137\" y=\"-111.8\" font-family=\"Helvetica,sans-Serif\" font-size=\"14.00\">samples = 2</text>\n<text text-anchor=\"middle\" x=\"137\" y=\"-96.8\" font-family=\"Helvetica,sans-Serif\" font-size=\"14.00\">value = 9625.0</text>\n</g>\n<!-- 11&#45;&gt;21 -->\n<g id=\"edge6\" class=\"edge\">\n<title>11&#45;&gt;21</title>\n<path fill=\"none\" stroke=\"black\" d=\"M270.04,-192.88C250.85,-182.95 229.65,-171.97 209.92,-161.76\"/>\n<polygon fill=\"black\" stroke=\"black\" points=\"211.47,-158.61 200.98,-157.12 208.25,-164.83 211.47,-158.61\"/>\n</g>\n<!-- 22 -->\n<g id=\"node10\" class=\"node\">\n<title>22</title>\n<polygon fill=\"#ffffff\" stroke=\"black\" points=\"412,-149.5 256,-149.5 256,-96.5 412,-96.5 412,-149.5\"/>\n<text text-anchor=\"middle\" x=\"334\" y=\"-134.3\" font-family=\"Helvetica,sans-Serif\" font-size=\"14.00\">squared_error = 0.0</text>\n<text text-anchor=\"middle\" x=\"334\" y=\"-119.3\" font-family=\"Helvetica,sans-Serif\" font-size=\"14.00\">samples = 6</text>\n<text text-anchor=\"middle\" x=\"334\" y=\"-104.3\" font-family=\"Helvetica,sans-Serif\" font-size=\"14.00\">value = 14000.0</text>\n</g>\n<!-- 11&#45;&gt;22 -->\n<g id=\"edge9\" class=\"edge\">\n<title>11&#45;&gt;22</title>\n<path fill=\"none\" stroke=\"black\" d=\"M334,-192.88C334,-182.33 334,-170.6 334,-159.85\"/>\n<polygon fill=\"black\" stroke=\"black\" points=\"337.5,-159.52 334,-149.52 330.5,-159.52 337.5,-159.52\"/>\n</g>\n<!-- 23 -->\n<g id=\"node8\" class=\"node\">\n<title>23</title>\n<polygon fill=\"#ffffff\" stroke=\"black\" points=\"156,-53 0,-53 0,0 156,0 156,-53\"/>\n<text text-anchor=\"middle\" x=\"78\" y=\"-37.8\" font-family=\"Helvetica,sans-Serif\" font-size=\"14.00\">squared_error = 0.0</text>\n<text text-anchor=\"middle\" x=\"78\" y=\"-22.8\" font-family=\"Helvetica,sans-Serif\" font-size=\"14.00\">samples = 1</text>\n<text text-anchor=\"middle\" x=\"78\" y=\"-7.8\" font-family=\"Helvetica,sans-Serif\" font-size=\"14.00\">value = 8750.0</text>\n</g>\n<!-- 21&#45;&gt;23 -->\n<g id=\"edge7\" class=\"edge\">\n<title>21&#45;&gt;23</title>\n<path fill=\"none\" stroke=\"black\" d=\"M116.36,-88.95C110.88,-80.17 104.95,-70.66 99.42,-61.82\"/>\n<polygon fill=\"black\" stroke=\"black\" points=\"102.33,-59.87 94.07,-53.24 96.4,-63.57 102.33,-59.87\"/>\n</g>\n<!-- 24 -->\n<g id=\"node9\" class=\"node\">\n<title>24</title>\n<polygon fill=\"#ffffff\" stroke=\"black\" points=\"330,-53 174,-53 174,0 330,0 330,-53\"/>\n<text text-anchor=\"middle\" x=\"252\" y=\"-37.8\" font-family=\"Helvetica,sans-Serif\" font-size=\"14.00\">squared_error = 0.0</text>\n<text text-anchor=\"middle\" x=\"252\" y=\"-22.8\" font-family=\"Helvetica,sans-Serif\" font-size=\"14.00\">samples = 1</text>\n<text text-anchor=\"middle\" x=\"252\" y=\"-7.8\" font-family=\"Helvetica,sans-Serif\" font-size=\"14.00\">value = 10500.0</text>\n</g>\n<!-- 21&#45;&gt;24 -->\n<g id=\"edge8\" class=\"edge\">\n<title>21&#45;&gt;24</title>\n<path fill=\"none\" stroke=\"black\" d=\"M177.22,-88.95C188.8,-79.43 201.41,-69.07 212.92,-59.62\"/>\n<polygon fill=\"black\" stroke=\"black\" points=\"215.18,-62.29 220.68,-53.24 210.73,-56.88 215.18,-62.29\"/>\n</g>\n<!-- 15 -->\n<g id=\"node12\" class=\"node\">\n<title>15</title>\n<polygon fill=\"#ffffff\" stroke=\"black\" points=\"649.5,-157 430.5,-157 430.5,-89 649.5,-89 649.5,-157\"/>\n<text text-anchor=\"middle\" x=\"540\" y=\"-141.8\" font-family=\"Helvetica,sans-Serif\" font-size=\"14.00\">X[0] &lt;= 3.0</text>\n<text text-anchor=\"middle\" x=\"540\" y=\"-126.8\" font-family=\"Helvetica,sans-Serif\" font-size=\"14.00\">squared_error = 58140625.0</text>\n<text text-anchor=\"middle\" x=\"540\" y=\"-111.8\" font-family=\"Helvetica,sans-Serif\" font-size=\"14.00\">samples = 2</text>\n<text text-anchor=\"middle\" x=\"540\" y=\"-96.8\" font-family=\"Helvetica,sans-Serif\" font-size=\"14.00\">value = 36875.0</text>\n</g>\n<!-- 12&#45;&gt;15 -->\n<g id=\"edge11\" class=\"edge\">\n<title>12&#45;&gt;15</title>\n<path fill=\"none\" stroke=\"black\" d=\"M596.73,-192.88C589.47,-184.07 581.53,-174.43 573.96,-165.24\"/>\n<polygon fill=\"black\" stroke=\"black\" points=\"576.48,-162.79 567.42,-157.3 571.08,-167.24 576.48,-162.79\"/>\n</g>\n<!-- 16 -->\n<g id=\"node15\" class=\"node\">\n<title>16</title>\n<polygon fill=\"#ffffff\" stroke=\"black\" points=\"824,-149.5 668,-149.5 668,-96.5 824,-96.5 824,-149.5\"/>\n<text text-anchor=\"middle\" x=\"746\" y=\"-134.3\" font-family=\"Helvetica,sans-Serif\" font-size=\"14.00\">squared_error = 0.0</text>\n<text text-anchor=\"middle\" x=\"746\" y=\"-119.3\" font-family=\"Helvetica,sans-Serif\" font-size=\"14.00\">samples = 6</text>\n<text text-anchor=\"middle\" x=\"746\" y=\"-104.3\" font-family=\"Helvetica,sans-Serif\" font-size=\"14.00\">value = 75000.0</text>\n</g>\n<!-- 12&#45;&gt;16 -->\n<g id=\"edge14\" class=\"edge\">\n<title>12&#45;&gt;16</title>\n<path fill=\"none\" stroke=\"black\" d=\"M663.61,-192.88C677.69,-181.12 693.5,-167.89 707.48,-156.2\"/>\n<polygon fill=\"black\" stroke=\"black\" points=\"710.05,-158.62 715.48,-149.52 705.56,-153.25 710.05,-158.62\"/>\n</g>\n<!-- 19 -->\n<g id=\"node13\" class=\"node\">\n<title>19</title>\n<polygon fill=\"#ffffff\" stroke=\"black\" points=\"561,-53 405,-53 405,0 561,0 561,-53\"/>\n<text text-anchor=\"middle\" x=\"483\" y=\"-37.8\" font-family=\"Helvetica,sans-Serif\" font-size=\"14.00\">squared_error = 0.0</text>\n<text text-anchor=\"middle\" x=\"483\" y=\"-22.8\" font-family=\"Helvetica,sans-Serif\" font-size=\"14.00\">samples = 1</text>\n<text text-anchor=\"middle\" x=\"483\" y=\"-7.8\" font-family=\"Helvetica,sans-Serif\" font-size=\"14.00\">value = 29250.0</text>\n</g>\n<!-- 15&#45;&gt;19 -->\n<g id=\"edge12\" class=\"edge\">\n<title>15&#45;&gt;19</title>\n<path fill=\"none\" stroke=\"black\" d=\"M520.06,-88.95C514.77,-80.17 509.03,-70.66 503.7,-61.82\"/>\n<polygon fill=\"black\" stroke=\"black\" points=\"506.69,-59.99 498.52,-53.24 500.69,-63.61 506.69,-59.99\"/>\n</g>\n<!-- 20 -->\n<g id=\"node14\" class=\"node\">\n<title>20</title>\n<polygon fill=\"#ffffff\" stroke=\"black\" points=\"735,-53 579,-53 579,0 735,0 735,-53\"/>\n<text text-anchor=\"middle\" x=\"657\" y=\"-37.8\" font-family=\"Helvetica,sans-Serif\" font-size=\"14.00\">squared_error = 0.0</text>\n<text text-anchor=\"middle\" x=\"657\" y=\"-22.8\" font-family=\"Helvetica,sans-Serif\" font-size=\"14.00\">samples = 1</text>\n<text text-anchor=\"middle\" x=\"657\" y=\"-7.8\" font-family=\"Helvetica,sans-Serif\" font-size=\"14.00\">value = 44500.0</text>\n</g>\n<!-- 15&#45;&gt;20 -->\n<g id=\"edge13\" class=\"edge\">\n<title>15&#45;&gt;20</title>\n<path fill=\"none\" stroke=\"black\" d=\"M580.92,-88.95C592.7,-79.43 605.53,-69.07 617.24,-59.62\"/>\n<polygon fill=\"black\" stroke=\"black\" points=\"619.56,-62.24 625.14,-53.24 615.16,-56.8 619.56,-62.24\"/>\n</g>\n<!-- 13 -->\n<g id=\"node17\" class=\"node\">\n<title>13</title>\n<polygon fill=\"#ffffff\" stroke=\"black\" points=\"1029.5,-261 810.5,-261 810.5,-193 1029.5,-193 1029.5,-261\"/>\n<text text-anchor=\"middle\" x=\"920\" y=\"-245.8\" font-family=\"Helvetica,sans-Serif\" font-size=\"14.00\">X[0] &lt;= 3.0</text>\n<text text-anchor=\"middle\" x=\"920\" y=\"-230.8\" font-family=\"Helvetica,sans-Serif\" font-size=\"14.00\">squared_error = 87890625.0</text>\n<text text-anchor=\"middle\" x=\"920\" y=\"-215.8\" font-family=\"Helvetica,sans-Serif\" font-size=\"14.00\">samples = 2</text>\n<text text-anchor=\"middle\" x=\"920\" y=\"-200.8\" font-family=\"Helvetica,sans-Serif\" font-size=\"14.00\">value = 103125.0</text>\n</g>\n<!-- 10&#45;&gt;13 -->\n<g id=\"edge16\" class=\"edge\">\n<title>10&#45;&gt;13</title>\n<path fill=\"none\" stroke=\"black\" d=\"M920,-296.88C920,-288.78 920,-279.98 920,-271.47\"/>\n<polygon fill=\"black\" stroke=\"black\" points=\"923.5,-271.3 920,-261.3 916.5,-271.3 923.5,-271.3\"/>\n</g>\n<!-- 14 -->\n<g id=\"node20\" class=\"node\">\n<title>14</title>\n<polygon fill=\"#fffffe\" stroke=\"black\" points=\"1204,-253.5 1048,-253.5 1048,-200.5 1204,-200.5 1204,-253.5\"/>\n<text text-anchor=\"middle\" x=\"1126\" y=\"-238.3\" font-family=\"Helvetica,sans-Serif\" font-size=\"14.00\">squared_error = 0.0</text>\n<text text-anchor=\"middle\" x=\"1126\" y=\"-223.3\" font-family=\"Helvetica,sans-Serif\" font-size=\"14.00\">samples = 6</text>\n<text text-anchor=\"middle\" x=\"1126\" y=\"-208.3\" font-family=\"Helvetica,sans-Serif\" font-size=\"14.00\">value = 150000.0</text>\n</g>\n<!-- 10&#45;&gt;14 -->\n<g id=\"edge19\" class=\"edge\">\n<title>10&#45;&gt;14</title>\n<path fill=\"none\" stroke=\"black\" d=\"M986.88,-296.88C1012.09,-284.4 1040.61,-270.28 1065.23,-258.09\"/>\n<polygon fill=\"black\" stroke=\"black\" points=\"1067.05,-261.09 1074.46,-253.52 1063.95,-254.82 1067.05,-261.09\"/>\n</g>\n<!-- 17 -->\n<g id=\"node18\" class=\"node\">\n<title>17</title>\n<polygon fill=\"#ffffff\" stroke=\"black\" points=\"998,-149.5 842,-149.5 842,-96.5 998,-96.5 998,-149.5\"/>\n<text text-anchor=\"middle\" x=\"920\" y=\"-134.3\" font-family=\"Helvetica,sans-Serif\" font-size=\"14.00\">squared_error = 0.0</text>\n<text text-anchor=\"middle\" x=\"920\" y=\"-119.3\" font-family=\"Helvetica,sans-Serif\" font-size=\"14.00\">samples = 1</text>\n<text text-anchor=\"middle\" x=\"920\" y=\"-104.3\" font-family=\"Helvetica,sans-Serif\" font-size=\"14.00\">value = 93750.0</text>\n</g>\n<!-- 13&#45;&gt;17 -->\n<g id=\"edge17\" class=\"edge\">\n<title>13&#45;&gt;17</title>\n<path fill=\"none\" stroke=\"black\" d=\"M920,-192.88C920,-182.33 920,-170.6 920,-159.85\"/>\n<polygon fill=\"black\" stroke=\"black\" points=\"923.5,-159.52 920,-149.52 916.5,-159.52 923.5,-159.52\"/>\n</g>\n<!-- 18 -->\n<g id=\"node19\" class=\"node\">\n<title>18</title>\n<polygon fill=\"#ffffff\" stroke=\"black\" points=\"1172,-149.5 1016,-149.5 1016,-96.5 1172,-96.5 1172,-149.5\"/>\n<text text-anchor=\"middle\" x=\"1094\" y=\"-134.3\" font-family=\"Helvetica,sans-Serif\" font-size=\"14.00\">squared_error = 0.0</text>\n<text text-anchor=\"middle\" x=\"1094\" y=\"-119.3\" font-family=\"Helvetica,sans-Serif\" font-size=\"14.00\">samples = 1</text>\n<text text-anchor=\"middle\" x=\"1094\" y=\"-104.3\" font-family=\"Helvetica,sans-Serif\" font-size=\"14.00\">value = 112500.0</text>\n</g>\n<!-- 13&#45;&gt;18 -->\n<g id=\"edge18\" class=\"edge\">\n<title>13&#45;&gt;18</title>\n<path fill=\"none\" stroke=\"black\" d=\"M976.49,-192.88C997.41,-180.62 1021.02,-166.78 1041.57,-154.74\"/>\n<polygon fill=\"black\" stroke=\"black\" points=\"1043.61,-157.6 1050.47,-149.52 1040.07,-151.56 1043.61,-157.6\"/>\n</g>\n<!-- 7 -->\n<g id=\"node22\" class=\"node\">\n<title>7</title>\n<polygon fill=\"#fffffe\" stroke=\"black\" points=\"1244,-357.5 1088,-357.5 1088,-304.5 1244,-304.5 1244,-357.5\"/>\n<text text-anchor=\"middle\" x=\"1166\" y=\"-342.3\" font-family=\"Helvetica,sans-Serif\" font-size=\"14.00\">squared_error = 0.0</text>\n<text text-anchor=\"middle\" x=\"1166\" y=\"-327.3\" font-family=\"Helvetica,sans-Serif\" font-size=\"14.00\">samples = 3</text>\n<text text-anchor=\"middle\" x=\"1166\" y=\"-312.3\" font-family=\"Helvetica,sans-Serif\" font-size=\"14.00\">value = 150000.0</text>\n</g>\n<!-- 6&#45;&gt;7 -->\n<g id=\"edge21\" class=\"edge\">\n<title>6&#45;&gt;7</title>\n<path fill=\"none\" stroke=\"black\" d=\"M1174.78,-400.88C1173.42,-390.22 1171.91,-378.35 1170.53,-367.52\"/>\n<polygon fill=\"black\" stroke=\"black\" points=\"1173.99,-367 1169.25,-357.52 1167.04,-367.88 1173.99,-367\"/>\n</g>\n<!-- 8 -->\n<g id=\"node23\" class=\"node\">\n<title>8</title>\n<polygon fill=\"#fefcfa\" stroke=\"black\" points=\"1418,-357.5 1262,-357.5 1262,-304.5 1418,-304.5 1418,-357.5\"/>\n<text text-anchor=\"middle\" x=\"1340\" y=\"-342.3\" font-family=\"Helvetica,sans-Serif\" font-size=\"14.00\">squared_error = 0.0</text>\n<text text-anchor=\"middle\" x=\"1340\" y=\"-327.3\" font-family=\"Helvetica,sans-Serif\" font-size=\"14.00\">samples = 5</text>\n<text text-anchor=\"middle\" x=\"1340\" y=\"-312.3\" font-family=\"Helvetica,sans-Serif\" font-size=\"14.00\">value = 1500000.0</text>\n</g>\n<!-- 6&#45;&gt;8 -->\n<g id=\"edge22\" class=\"edge\">\n<title>6&#45;&gt;8</title>\n<path fill=\"none\" stroke=\"black\" d=\"M1231.27,-400.88C1250.54,-388.68 1272.28,-374.9 1291.23,-362.9\"/>\n<polygon fill=\"black\" stroke=\"black\" points=\"1293.14,-365.83 1299.72,-357.52 1289.4,-359.92 1293.14,-365.83\"/>\n</g>\n</g>\n</svg>\n",
      "text/plain": [
       "<graphviz.sources.Source at 0x7f1af440ffd0>"
      ]
     },
     "execution_count": 4,
     "metadata": {},
     "output_type": "execute_result"
    }
   ],
   "source": [
    "# GraphVizを用いた方法\n",
    "\n",
    "graph = graphviz.Source(tree.export_graphviz(model_tree, filled=True))\n",
    "graph"
   ]
  },
  {
   "cell_type": "markdown",
   "metadata": {},
   "source": [
    "# 2022年3月16日～2022年3月22日\n",
    "\n",
    "* ✅問題サイズの変数群の線形和をプロセス数で割ったモデルの実装\n",
    "    * ✅テスト\n",
    "    * ✅実装\n",
    "* ✅MAPE表の作成"
   ]
  },
  {
   "cell_type": "code",
   "execution_count": 6,
   "metadata": {},
   "outputs": [
    {
     "name": "stdout",
     "output_type": "stream",
     "text": [
      "exp_var = ['process', 'na', 'nonzer', 'niter', 'shift']\n"
     ]
    },
    {
     "name": "stderr",
     "output_type": "stream",
     "text": [
      "/usr/local/lib/python3.10/site-packages/scipy/optimize/_minpack_py.py:833: OptimizeWarning: Covariance of the parameters could not be estimated\n",
      "  warnings.warn('Covariance of the parameters could not be estimated',\n",
      "/usr/local/lib/python3.10/site-packages/scipy/optimize/_minpack_py.py:833: OptimizeWarning: Covariance of the parameters could not be estimated\n",
      "  warnings.warn('Covariance of the parameters could not be estimated',\n",
      "/usr/local/lib/python3.10/site-packages/scipy/optimize/_minpack_py.py:833: OptimizeWarning: Covariance of the parameters could not be estimated\n",
      "  warnings.warn('Covariance of the parameters could not be estimated',\n",
      "/usr/local/lib/python3.10/site-packages/scipy/optimize/_minpack_py.py:833: OptimizeWarning: Covariance of the parameters could not be estimated\n",
      "  warnings.warn('Covariance of the parameters could not be estimated',\n",
      "/usr/local/lib/python3.10/site-packages/scipy/optimize/_minpack_py.py:833: OptimizeWarning: Covariance of the parameters could not be estimated\n",
      "  warnings.warn('Covariance of the parameters could not be estimated',\n",
      "/usr/local/lib/python3.10/site-packages/scipy/optimize/_minpack_py.py:833: OptimizeWarning: Covariance of the parameters could not be estimated\n",
      "  warnings.warn('Covariance of the parameters could not be estimated',\n",
      "/usr/local/lib/python3.10/site-packages/scipy/optimize/_minpack_py.py:833: OptimizeWarning: Covariance of the parameters could not be estimated\n",
      "  warnings.warn('Covariance of the parameters could not be estimated',\n",
      "/usr/local/lib/python3.10/site-packages/scipy/optimize/_minpack_py.py:833: OptimizeWarning: Covariance of the parameters could not be estimated\n",
      "  warnings.warn('Covariance of the parameters could not be estimated',\n",
      "/usr/local/lib/python3.10/site-packages/scipy/optimize/_minpack_py.py:833: OptimizeWarning: Covariance of the parameters could not be estimated\n",
      "  warnings.warn('Covariance of the parameters could not be estimated',\n",
      "/usr/local/lib/python3.10/site-packages/scipy/optimize/_minpack_py.py:833: OptimizeWarning: Covariance of the parameters could not be estimated\n",
      "  warnings.warn('Covariance of the parameters could not be estimated',\n",
      "/usr/local/lib/python3.10/site-packages/scipy/optimize/_minpack_py.py:833: OptimizeWarning: Covariance of the parameters could not be estimated\n",
      "  warnings.warn('Covariance of the parameters could not be estimated',\n",
      "/usr/local/lib/python3.10/site-packages/scipy/optimize/_minpack_py.py:833: OptimizeWarning: Covariance of the parameters could not be estimated\n",
      "  warnings.warn('Covariance of the parameters could not be estimated',\n",
      "/usr/local/lib/python3.10/site-packages/scipy/optimize/_minpack_py.py:833: OptimizeWarning: Covariance of the parameters could not be estimated\n",
      "  warnings.warn('Covariance of the parameters could not be estimated',\n",
      "/usr/local/lib/python3.10/site-packages/scipy/optimize/_minpack_py.py:833: OptimizeWarning: Covariance of the parameters could not be estimated\n",
      "  warnings.warn('Covariance of the parameters could not be estimated',\n",
      "/usr/local/lib/python3.10/site-packages/scipy/optimize/_minpack_py.py:833: OptimizeWarning: Covariance of the parameters could not be estimated\n",
      "  warnings.warn('Covariance of the parameters could not be estimated',\n",
      "/usr/local/lib/python3.10/site-packages/scipy/optimize/_minpack_py.py:833: OptimizeWarning: Covariance of the parameters could not be estimated\n",
      "  warnings.warn('Covariance of the parameters could not be estimated',\n",
      "/usr/local/lib/python3.10/site-packages/scipy/optimize/_minpack_py.py:833: OptimizeWarning: Covariance of the parameters could not be estimated\n",
      "  warnings.warn('Covariance of the parameters could not be estimated',\n",
      "/usr/local/lib/python3.10/site-packages/scipy/optimize/_minpack_py.py:833: OptimizeWarning: Covariance of the parameters could not be estimated\n",
      "  warnings.warn('Covariance of the parameters could not be estimated',\n",
      "/usr/local/lib/python3.10/site-packages/scipy/optimize/_minpack_py.py:833: OptimizeWarning: Covariance of the parameters could not be estimated\n",
      "  warnings.warn('Covariance of the parameters could not be estimated',\n",
      "/usr/local/lib/python3.10/site-packages/scipy/optimize/_minpack_py.py:833: OptimizeWarning: Covariance of the parameters could not be estimated\n",
      "  warnings.warn('Covariance of the parameters could not be estimated',\n",
      "/usr/local/lib/python3.10/site-packages/scipy/optimize/_minpack_py.py:833: OptimizeWarning: Covariance of the parameters could not be estimated\n",
      "  warnings.warn('Covariance of the parameters could not be estimated',\n",
      "/usr/local/lib/python3.10/site-packages/scipy/optimize/_minpack_py.py:833: OptimizeWarning: Covariance of the parameters could not be estimated\n",
      "  warnings.warn('Covariance of the parameters could not be estimated',\n",
      "/usr/local/lib/python3.10/site-packages/scipy/optimize/_minpack_py.py:833: OptimizeWarning: Covariance of the parameters could not be estimated\n",
      "  warnings.warn('Covariance of the parameters could not be estimated',\n",
      "/usr/local/lib/python3.10/site-packages/scipy/optimize/_minpack_py.py:833: OptimizeWarning: Covariance of the parameters could not be estimated\n",
      "  warnings.warn('Covariance of the parameters could not be estimated',\n",
      "/usr/local/lib/python3.10/site-packages/scipy/optimize/_minpack_py.py:833: OptimizeWarning: Covariance of the parameters could not be estimated\n",
      "  warnings.warn('Covariance of the parameters could not be estimated',\n",
      "/usr/local/lib/python3.10/site-packages/scipy/optimize/_minpack_py.py:833: OptimizeWarning: Covariance of the parameters could not be estimated\n",
      "  warnings.warn('Covariance of the parameters could not be estimated',\n",
      "/usr/local/lib/python3.10/site-packages/scipy/optimize/_minpack_py.py:833: OptimizeWarning: Covariance of the parameters could not be estimated\n",
      "  warnings.warn('Covariance of the parameters could not be estimated',\n",
      "/usr/local/lib/python3.10/site-packages/scipy/optimize/_minpack_py.py:833: OptimizeWarning: Covariance of the parameters could not be estimated\n",
      "  warnings.warn('Covariance of the parameters could not be estimated',\n",
      "/usr/local/lib/python3.10/site-packages/scipy/optimize/_minpack_py.py:833: OptimizeWarning: Covariance of the parameters could not be estimated\n",
      "  warnings.warn('Covariance of the parameters could not be estimated',\n",
      "/usr/local/lib/python3.10/site-packages/scipy/optimize/_minpack_py.py:833: OptimizeWarning: Covariance of the parameters could not be estimated\n",
      "  warnings.warn('Covariance of the parameters could not be estimated',\n",
      "/usr/local/lib/python3.10/site-packages/scipy/optimize/_minpack_py.py:833: OptimizeWarning: Covariance of the parameters could not be estimated\n",
      "  warnings.warn('Covariance of the parameters could not be estimated',\n",
      "/usr/local/lib/python3.10/site-packages/scipy/optimize/_minpack_py.py:833: OptimizeWarning: Covariance of the parameters could not be estimated\n",
      "  warnings.warn('Covariance of the parameters could not be estimated',\n",
      "/usr/local/lib/python3.10/site-packages/scipy/optimize/_minpack_py.py:833: OptimizeWarning: Covariance of the parameters could not be estimated\n",
      "  warnings.warn('Covariance of the parameters could not be estimated',\n"
     ]
    },
    {
     "name": "stdout",
     "output_type": "stream",
     "text": [
      "\\begin{table}\n",
      "\\caption{ベンチマークプログラムCGにおける各モデルでのMAPE}\n",
      "\\label{2022年3月23日allModelsMAPEinCG}\n",
      "\\begin{tabular}{lrrrrrrrrrrrl}\n",
      " & プロセス数を問題サイズで割る & 反比例 & 反比例＆対数 & 反比例＆線形 & 問題サイズをプロセス数で割る & 対数 & 対数＆反比例 & 対数＆線形 & 線形 & 線形＆反比例 & 線形＆対数 & 最適モデル \\\\\n",
      "関数名 &  &  &  &  &  &  &  &  &  &  &  &  \\\\\n",
      ".TAU_application & 0.00 & 0.00 & 0.00 & 0.00 & 0.00 & 0.00 & 0.00 & 0.00 & 0.00 & 0.00 & 0.00 & 線形 \\\\\n",
      "ALLOC_SPACE & 0.00 & 0.00 & 0.00 & 0.00 & 0.00 & 0.00 & 0.00 & 0.00 & 0.00 & 0.00 & 0.00 & 線形 \\\\\n",
      "CG & 0.00 & 0.00 & 0.00 & 0.00 & 0.00 & 0.00 & 0.00 & 0.00 & 0.00 & 0.00 & 0.00 & 線形 \\\\\n",
      "CONJ_GRAD & 37.55 & 13.88 & 13.73 & 14.50 & 42.76 & 14.80 & 14.72 & 15.25 & 13.16 & 12.41 & 12.76 & 線形＆反比例 \\\\\n",
      "ICNVRT & 159.61 & 662.48 & 2504.27 & 894.57 & 119.98 & 2443.70 & 3811.49 & 815.79 & 502.12 & 6621.01 & 2283.06 & 問題サイズをプロセス数で割る \\\\\n",
      "INITIALIZE_MPI & 0.00 & 0.00 & 0.00 & 0.00 & 0.00 & 0.00 & 0.00 & 0.00 & 0.00 & 0.00 & 0.00 & 線形 \\\\\n",
      "MAKEA & 0.00 & 0.00 & 0.00 & 0.00 & 0.00 & 0.00 & 0.00 & 0.00 & 0.00 & 0.00 & 0.00 & 線形 \\\\\n",
      "MPI_Barrier() & 0.00 & 0.00 & 0.00 & 0.00 & 0.00 & 0.00 & 0.00 & 0.00 & 0.00 & 0.00 & 0.00 & 線形 \\\\\n",
      "MPI_Bcast() & 0.00 & 0.00 & 0.00 & 0.00 & 0.00 & 0.00 & 0.00 & 0.00 & 0.00 & 0.00 & 0.00 & 線形 \\\\\n",
      "MPI_Comm_rank() & 0.00 & 0.00 & 0.00 & 0.00 & 0.00 & 0.00 & 0.00 & 0.00 & 0.00 & 0.00 & 0.00 & 線形 \\\\\n",
      "MPI_Comm_size() & 0.00 & 0.00 & 0.00 & 0.00 & 0.00 & 0.00 & 0.00 & 0.00 & 0.00 & 0.00 & 0.00 & 線形 \\\\\n",
      "MPI_Finalize() & 0.00 & 0.00 & 0.00 & 0.00 & 0.00 & 0.00 & 0.00 & 0.00 & 0.00 & 0.00 & 0.00 & 線形 \\\\\n",
      "MPI_Init() & 0.00 & 0.00 & 0.00 & 0.00 & 0.00 & 0.00 & 0.00 & 0.00 & 0.00 & 0.00 & 0.00 & 線形 \\\\\n",
      "MPI_Irecv() & 208.96 & 38.63 & 38.55 & 39.03 & 56.48 & 35.49 & 35.49 & 35.95 & 34.99 & 35.52 & 35.66 & 線形 \\\\\n",
      "MPI_Reduce() & 0.00 & 0.00 & 0.00 & 0.00 & 0.00 & 0.00 & 0.00 & 0.00 & 0.00 & 0.00 & 0.00 & 線形 \\\\\n",
      "MPI_Send() & 208.96 & 38.63 & 38.55 & 39.03 & 56.48 & 35.49 & 35.49 & 35.95 & 34.99 & 35.52 & 35.66 & 線形 \\\\\n",
      "MPI_Wait() & 208.96 & 38.63 & 38.55 & 39.03 & 56.48 & 35.49 & 35.49 & 35.95 & 34.99 & 35.52 & 35.66 & 線形 \\\\\n",
      "SETUP_PROC_INFO & 0.00 & 0.00 & 0.00 & 0.00 & 0.00 & 0.00 & 0.00 & 0.00 & 0.00 & 0.00 & 0.00 & 線形 \\\\\n",
      "SETUP_SUBMATRIX_INFO & 0.00 & 0.00 & 0.00 & 0.00 & 0.00 & 0.00 & 0.00 & 0.00 & 0.00 & 0.00 & 0.00 & 線形 \\\\\n",
      "SPARSE & 0.00 & 0.00 & 0.00 & 0.00 & 0.00 & 0.00 & 0.00 & 0.00 & 0.00 & 0.00 & 0.00 & 線形 \\\\\n",
      "SPRNVC & 153.54 & 336.65 & 1321.90 & 345.74 & 182.72 & 1306.98 & 1503.10 & 338.95 & 198.01 & 2573.96 & 1221.60 & プロセス数を問題サイズで割る \\\\\n",
      "VECSET & 153.54 & 336.65 & 1321.90 & 345.74 & 182.72 & 1306.98 & 1503.10 & 338.95 & 198.01 & 2573.96 & 1221.60 & プロセス数を問題サイズで割る \\\\\n",
      "\\end{tabular}\n",
      "\\end{table}\n",
      "\n"
     ]
    },
    {
     "name": "stderr",
     "output_type": "stream",
     "text": [
      "/tmp/ipykernel_108/2045722184.py:66: FutureWarning: this method is deprecated in favour of `Styler.format(precision=..)`\n",
      "  df.style.set_precision(2).to_latex(\n"
     ]
    }
   ],
   "source": [
    "benchmark_name = \"cg\"\n",
    "\n",
    "classes = [\"A\", \"B\", \"C\", \"D\", \"E\", \"F\"]\n",
    "processes = [2, 4, 8, 16, 32, 64, 128, 256]\n",
    "\n",
    "dict_column_names_JP = {\n",
    "    \"functionName\": \"関数名\",\n",
    "    \"modelLin\": \"線形\",\n",
    "    \"modelIp\": \"反比例\",\n",
    "    \"modelLog\": \"対数\",\n",
    "    \"modelLinAndIp\": \"線形＆反比例\",\n",
    "    \"modelLinAndLog\": \"線形＆対数\",\n",
    "    \"modelIpAndLin\": \"反比例＆線形\",\n",
    "    \"modelIpAndLog\": \"反比例＆対数\",\n",
    "    \"modelLogAndLin\": \"対数＆線形\",\n",
    "    \"modelLogAndIp\": \"対数＆反比例\",\n",
    "    \"modelProcessDividedByProblemSize\": \"プロセス数を問題サイズで割る\",\n",
    "    \"modelProblemSizeDividedByProcess\": \"問題サイズをプロセス数で割る\",\n",
    "    # \"modelBasicTree\": \"回帰木\",\n",
    "}\n",
    "\n",
    "model_names_list_JP = list(dict_column_names_JP.values())\n",
    "model_names_list_JP.remove(\"関数名\")\n",
    "\n",
    "model_names_list = list(dict_column_names_JP.keys())\n",
    "model_names_list.remove(\"functionName\")\n",
    "\n",
    "date = \"2022年3月23日\"\n",
    "\n",
    "# コア数と問題サイズの両方を振る\n",
    "\n",
    "rawDF = return_rawDF_with_init_param(\n",
    "    benchmark_name=benchmark_name,\n",
    "    classes=classes,\n",
    "    processes=processes,\n",
    "    csv_dir_path=\"./csv_files/\",\n",
    ")\n",
    "\n",
    "exp_var = rawDF.columns.tolist()\n",
    "for element_be_removed in [\n",
    "    \"functionName\",\n",
    "    \"functionCallNum\",\n",
    "    \"intBenchmarkClass\",\n",
    "    \"benchmarkName\",\n",
    "    \"benchmarkClass\",\n",
    "]:\n",
    "    exp_var.remove(element_be_removed)\n",
    "res_var = [\"functionCallNum\"]\n",
    "\n",
    "print(f\"exp_var = {exp_var}\")\n",
    "\n",
    "returned_MAPE_table = return_MAPE_Table_DF_from_rawDF(\n",
    "    rawDF=rawDF,\n",
    "    exp_var_list=exp_var,\n",
    "    res_var_list=res_var,\n",
    "    model_name_list=model_names_list,\n",
    ")\n",
    "df = returned_MAPE_table.rename(columns=dict_column_names_JP)\n",
    "df = df.set_index(\"関数名\")\n",
    "df = df.sort_index(axis=0)\n",
    "df = df.sort_index(axis=1)\n",
    "\n",
    "df = addLowestMAPEsModelNameColumn(df, version=2, model_name_list=model_names_list_JP)\n",
    "\n",
    "print(\n",
    "    df.style.set_precision(2).to_latex(\n",
    "        caption=f\"ベンチマークプログラム{benchmark_name.upper()}における各モデルでのMAPE\",\n",
    "        label=f\"{date}allModelsMAPEin{benchmark_name.upper()}\",\n",
    "    )\n",
    ")"
   ]
  }
 ],
 "metadata": {
  "kernelspec": {
   "display_name": "Python 3 (ipykernel)",
   "language": "python",
   "name": "python3"
  },
  "language_info": {
   "codemirror_mode": {
    "name": "ipython",
    "version": 3
   },
   "file_extension": ".py",
   "mimetype": "text/x-python",
   "name": "python",
   "nbconvert_exporter": "python",
   "pygments_lexer": "ipython3",
   "version": "3.10.0"
  }
 },
 "nbformat": 4,
 "nbformat_minor": 4
}
