{
 "cells": [
  {
   "cell_type": "markdown",
   "metadata": {},
   "source": [
    "### 二次元リストから生成"
   ]
  },
  {
   "cell_type": "code",
   "execution_count": 1,
   "metadata": {},
   "outputs": [
    {
     "data": {
      "text/html": [
       "<div>\n",
       "<style scoped>\n",
       "    .dataframe tbody tr th:only-of-type {\n",
       "        vertical-align: middle;\n",
       "    }\n",
       "\n",
       "    .dataframe tbody tr th {\n",
       "        vertical-align: top;\n",
       "    }\n",
       "\n",
       "    .dataframe thead th {\n",
       "        text-align: right;\n",
       "    }\n",
       "</style>\n",
       "<table border=\"1\" class=\"dataframe\">\n",
       "  <thead>\n",
       "    <tr style=\"text-align: right;\">\n",
       "      <th></th>\n",
       "      <th>col0</th>\n",
       "      <th>col1</th>\n",
       "      <th>col2</th>\n",
       "      <th>col3</th>\n",
       "      <th>col4</th>\n",
       "    </tr>\n",
       "  </thead>\n",
       "  <tbody>\n",
       "    <tr>\n",
       "      <th>row0</th>\n",
       "      <td>1</td>\n",
       "      <td>100</td>\n",
       "      <td>0.33</td>\n",
       "      <td>AAA</td>\n",
       "      <td>AAA100</td>\n",
       "    </tr>\n",
       "    <tr>\n",
       "      <th>row1</th>\n",
       "      <td>2</td>\n",
       "      <td>200</td>\n",
       "      <td>0.67</td>\n",
       "      <td>BBB</td>\n",
       "      <td>BBB200</td>\n",
       "    </tr>\n",
       "    <tr>\n",
       "      <th>row2</th>\n",
       "      <td>3</td>\n",
       "      <td>300</td>\n",
       "      <td>1.00</td>\n",
       "      <td>CCC</td>\n",
       "      <td>CCC300</td>\n",
       "    </tr>\n",
       "    <tr>\n",
       "      <th>row3</th>\n",
       "      <td>4</td>\n",
       "      <td>400</td>\n",
       "      <td>1.33</td>\n",
       "      <td>DDD</td>\n",
       "      <td>DDD400</td>\n",
       "    </tr>\n",
       "    <tr>\n",
       "      <th>row4</th>\n",
       "      <td>5</td>\n",
       "      <td>500</td>\n",
       "      <td>1.67</td>\n",
       "      <td>EEE</td>\n",
       "      <td>EEE500</td>\n",
       "    </tr>\n",
       "    <tr>\n",
       "      <th>row5</th>\n",
       "      <td>6</td>\n",
       "      <td>600</td>\n",
       "      <td>2.00</td>\n",
       "      <td>FFF</td>\n",
       "      <td>FFF600</td>\n",
       "    </tr>\n",
       "  </tbody>\n",
       "</table>\n",
       "</div>"
      ],
      "text/plain": [
       "      col0  col1  col2 col3    col4\n",
       "row0     1   100  0.33  AAA  AAA100\n",
       "row1     2   200  0.67  BBB  BBB200\n",
       "row2     3   300  1.00  CCC  CCC300\n",
       "row3     4   400  1.33  DDD  DDD400\n",
       "row4     5   500  1.67  EEE  EEE500\n",
       "row5     6   600  2.00  FFF  FFF600"
      ]
     },
     "execution_count": 1,
     "metadata": {},
     "output_type": "execute_result"
    }
   ],
   "source": [
    "# ipynb形式のライブラリのインポート\n",
    "%run ./lib.ipynb\n",
    "\n",
    "import pandas as pd\n",
    "\n",
    "# 1 各行を一つのリストとして並べる\n",
    "\n",
    "list = [\n",
    "    [1, 100, 0.33, 'AAA', 'AAA100'], \n",
    "    [2, 200, 0.67, 'BBB', 'BBB200'], \n",
    "    [3, 300, 1, 'CCC', 'CCC300'], \n",
    "    [4, 400, 1.33, 'DDD', 'DDD400'], \n",
    "    [5, 500, 1.67, 'EEE', 'EEE500'], \n",
    "    [6, 600, 2, 'FFF', 'FFF600']\n",
    "]\n",
    "\n",
    "# 2 表に変換\n",
    "# pd.DataFrame(list) : pandasのDataFrameで表に変換\n",
    "df = pd.DataFrame(list)\n",
    "# 行名・列名は自動で割り振られた番号になっている\n",
    "\n",
    "# 3 行名の変更\n",
    "df.index = ['row0', 'row1', 'row2', 'row3', 'row4', 'row5']\n",
    "\n",
    "# 4 列名の変更\n",
    "df.columns = ['col0', 'col1', 'col2', 'col3', 'col4']\n",
    "\n",
    "df\n",
    "\n",
    "# 1 各行を一つのリストとして並べる\n",
    "list = [\n",
    "[1, 100, 0.33, 'AAA', 'AAA100'], \n",
    "[2, 200, 0.67, 'BBB', 'BBB200'], \n",
    "[3, 300, 1, 'CCC', 'CCC300'], \n",
    "[4, 400, 1.33, 'DDD', 'DDD400'], \n",
    "[5, 500, 1.67, 'EEE', 'EEE500'], \n",
    "[6, 600, 2, 'FFF', 'FFF600']]\n",
    "\n",
    "\n",
    "#2 表に変換(オプションで行列名を指定)\n",
    "ind = ['row0', 'row1', 'row2', 'row3', 'row4', 'row5']\n",
    "col = ['col0', 'col1', 'col2', 'col3', 'col4']\n",
    "\n",
    "df = pd.DataFrame(list, index=ind, columns=col)\n",
    "\n",
    "\n",
    "df\n",
    "\n",
    "# 1 各行を一つのリストにする\n",
    "list = [\n",
    "['row0', 1, 100, 0.33, 'AAA', 'AAA100'], \n",
    "['row1', 2, 200, 0.67, 'BBB', 'BBB200'], \n",
    "['row2', 3, 300, 1, 'CCC', 'CCC300'], \n",
    "['row3', 4, 400, 1.33, 'DDD', 'DDD400'], \n",
    "['row4', 5, 500, 1.67, 'EEE', 'EEE500'], \n",
    "['row5', 6, 600, 2, 'FFF', 'FFF600'], ]\n",
    "\n",
    "# 2 表に変換\n",
    "df = pd.DataFrame(list)\n",
    "\n",
    "# 3 列名を変更\n",
    "df.columns = ['', 'col0', 'col1', 'col2', 'col3', 'col4']\n",
    "\n",
    "# 4 行名となる列を指定\n",
    "df = df.set_index('')\n",
    "\n",
    "df\n",
    "\n",
    "# 1 各行ごとのリストを作成\n",
    "\n",
    "listA = [1, 100, 0.33, 'AAA', 'AAA100']\n",
    "listB = [2, 200, 0.67, 'BBB', 'BBB200']\n",
    "listC = [3, 300, 1, 'CCC', 'CCC300']\n",
    "listD = [4, 400, 1.33, 'DDD', 'DDD400']\n",
    "listE = [5, 500, 1.67, 'EEE', 'EEE500']\n",
    "listF = [6, 600, 2, 'FFF', 'FFF600']\n",
    "\n",
    "# 2 まとめて表に変換\n",
    "\n",
    "df = pd.DataFrame([listA, listB, listC, listD, listE, listF])\n",
    "\n",
    "# 3 行名の変更\n",
    "df.index = ['row0', 'row1', 'row2', 'row3', 'row4', 'row5']\n",
    "\n",
    "# 4 列名の変更\n",
    "df.columns = ['col0', 'col1', 'col2', 'col3', 'col4']\n",
    "\n",
    "df"
   ]
  },
  {
   "cell_type": "code",
   "execution_count": 2,
   "metadata": {},
   "outputs": [],
   "source": [
    "cg_c_data = return_dict_summary_fixed()"
   ]
  },
  {
   "cell_type": "code",
   "execution_count": 3,
   "metadata": {},
   "outputs": [],
   "source": [
    "x = cg_c_data[\"processes\"]\n",
    "y = cg_c_data[\"ICNVRT\"]"
   ]
  },
  {
   "cell_type": "code",
   "execution_count": 4,
   "metadata": {},
   "outputs": [],
   "source": [
    "cg_icnvrt_lr = ModelLog10(x, y, \"CG\", \"ICNVRT\")"
   ]
  },
  {
   "cell_type": "code",
   "execution_count": 5,
   "metadata": {},
   "outputs": [],
   "source": [
    "cg_icnvrt_lr.calc_lr()"
   ]
  },
  {
   "cell_type": "code",
   "execution_count": 6,
   "metadata": {},
   "outputs": [
    {
     "data": {
      "image/png": "[encoded data removed]",
      "text/plain": [
       "<Figure size 432x288 with 1 Axes>"
      ]
     },
     "metadata": {
      "needs_background": "light"
     },
     "output_type": "display_data"
    }
   ],
   "source": [
    "cg_icnvrt_lr.plot_graph()"
   ]
  },
  {
   "cell_type": "code",
   "execution_count": 7,
   "metadata": {},
   "outputs": [
    {
     "data": {
      "text/plain": [
       "3"
      ]
     },
     "execution_count": 7,
     "metadata": {},
     "output_type": "execute_result"
    }
   ],
   "source": [
    "max_in_y = max(y)\n",
    "# 最大値の個数を取得\n",
    "y.tolist().count(max_in_y)\n",
    "# 最大値のインデックスで最小のもの\n",
    "y.tolist().index(max_in_y)"
   ]
  },
  {
   "cell_type": "code",
   "execution_count": 8,
   "metadata": {},
   "outputs": [],
   "source": [
    "class ModelBranch(ModelBase):\n",
    "    \n",
    "    def calc_lr(self):\n",
    "        # 後述する t を算出するための処理\n",
    "        max_in_train_y = max(self.train_y)\n",
    "        max_in_train_y_first_index = self.train_y.tolist().index(max_in_train_y)\n",
    "        # 分岐点のインデックスを t とする\n",
    "        t = max_in_train_y_first_index\n",
    "        self.t = t\n",
    "        x_train_1 = self.train_x[:t]\n",
    "        x_train_2 = self.train_x[t:]\n",
    "        y_train_1 = self.train_y[:t]\n",
    "        y_train_2 = self.train_y[t:]\n",
    "        self.lr1 = LinearRegression()\n",
    "        self.lr1.fit(x_train_1, y_train_1)\n",
    "        self.lr2 = LinearRegression()\n",
    "        self.lr2.fit(x_train_2, y_train_2)\n",
    "        \n",
    "    def calc_mape_score(self):\n",
    "        x_test = self.test_x\n",
    "        y_test = self.test_y\n",
    "        y_test_predicted = self.lr2.predict(x_test)\n",
    "        self.mape_score = float(mape_score(y_test, y_test_predicted))\n",
    "        \n",
    "    def plot_graph(self):\n",
    "        plt.figure()\n",
    "        plt.scatter(self.raw_x, self.raw_y)\n",
    "        \n",
    "        # 回帰曲線を二つのモデルで分割するための処理\n",
    "        x_model_line = self.x_model_line\n",
    "        t_in_model_line = 0\n",
    "        for i in range(len(x_model_line)):\n",
    "            if (self.train_x[self.t] < x_model_line[i]):\n",
    "                t_in_model_line = i\n",
    "                break\n",
    "            else:\n",
    "                t_in_model_line = i\n",
    "        \n",
    "        x_model_line1 = self.x_model_line[:t_in_model_line]\n",
    "        x_model_line2 = self.x_model_line[t_in_model_line:]\n",
    "        y_model_line1 = self.lr1.predict(x_model_line1)\n",
    "        y_model_line2 = self.lr2.predict(x_model_line2)\n",
    "\n",
    "        plt.plot(x_model_line1, y_model_line1, color=\"red\")\n",
    "        plt.plot(x_model_line2, y_model_line2, color=\"red\")\n",
    "        plt.plot(self.test_x, self.test_y, color=\"yellow\")\n",
    "        plt.xlabel(self.xlabel)\n",
    "        plt.ylabel(self.ylabel)\n",
    "        "
   ]
  },
  {
   "cell_type": "code",
   "execution_count": 9,
   "metadata": {},
   "outputs": [
    {
     "name": "stdout",
     "output_type": "stream",
     "text": [
      "0.0\n"
     ]
    },
    {
     "data": {
      "image/png": "[encoded data removed]",
      "text/plain": [
       "<Figure size 432x288 with 1 Axes>"
      ]
     },
     "metadata": {
      "needs_background": "light"
     },
     "output_type": "display_data"
    }
   ],
   "source": [
    "model_branch = ModelBranch(x, y, \"CG\", \"ICNVRT\")\n",
    "\n",
    "model_branch.calc_lr()\n",
    "\n",
    "model_branch.calc_mape_score()\n",
    "\n",
    "print(model_branch.mape_score)\n",
    "\n",
    "model_branch.plot_graph()"
   ]
  },
  {
   "cell_type": "code",
   "execution_count": null,
   "metadata": {},
   "outputs": [],
   "source": []
  }
 ],
 "metadata": {
  "kernelspec": {
   "display_name": "Python 3",
   "language": "python",
   "name": "python3"
  },
  "language_info": {
   "codemirror_mode": {
    "name": "ipython",
    "version": 3
   },
   "file_extension": ".py",
   "mimetype": "text/x-python",
   "name": "python",
   "nbconvert_exporter": "python",
   "pygments_lexer": "ipython3",
   "version": "3.8.6"
  }
 },
 "nbformat": 4,
 "nbformat_minor": 4
}
