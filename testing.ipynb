{
 "cells": [
  {
   "cell_type": "markdown",
   "metadata": {},
   "source": [
    "### 二次元リストから生成"
   ]
  },
  {
   "cell_type": "code",
   "execution_count": 1,
   "metadata": {},
   "outputs": [
    {
     "output_type": "execute_result",
     "data": {
      "text/plain": [
       "      col0  col1  col2 col3    col4\n",
       "row0     1   100  0.33  AAA  AAA100\n",
       "row1     2   200  0.67  BBB  BBB200\n",
       "row2     3   300  1.00  CCC  CCC300\n",
       "row3     4   400  1.33  DDD  DDD400\n",
       "row4     5   500  1.67  EEE  EEE500\n",
       "row5     6   600  2.00  FFF  FFF600"
      ],
      "text/html": "<div>\n<style scoped>\n    .dataframe tbody tr th:only-of-type {\n        vertical-align: middle;\n    }\n\n    .dataframe tbody tr th {\n        vertical-align: top;\n    }\n\n    .dataframe thead th {\n        text-align: right;\n    }\n</style>\n<table border=\"1\" class=\"dataframe\">\n  <thead>\n    <tr style=\"text-align: right;\">\n      <th></th>\n      <th>col0</th>\n      <th>col1</th>\n      <th>col2</th>\n      <th>col3</th>\n      <th>col4</th>\n    </tr>\n  </thead>\n  <tbody>\n    <tr>\n      <th>row0</th>\n      <td>1</td>\n      <td>100</td>\n      <td>0.33</td>\n      <td>AAA</td>\n      <td>AAA100</td>\n    </tr>\n    <tr>\n      <th>row1</th>\n      <td>2</td>\n      <td>200</td>\n      <td>0.67</td>\n      <td>BBB</td>\n      <td>BBB200</td>\n    </tr>\n    <tr>\n      <th>row2</th>\n      <td>3</td>\n      <td>300</td>\n      <td>1.00</td>\n      <td>CCC</td>\n      <td>CCC300</td>\n    </tr>\n    <tr>\n      <th>row3</th>\n      <td>4</td>\n      <td>400</td>\n      <td>1.33</td>\n      <td>DDD</td>\n      <td>DDD400</td>\n    </tr>\n    <tr>\n      <th>row4</th>\n      <td>5</td>\n      <td>500</td>\n      <td>1.67</td>\n      <td>EEE</td>\n      <td>EEE500</td>\n    </tr>\n    <tr>\n      <th>row5</th>\n      <td>6</td>\n      <td>600</td>\n      <td>2.00</td>\n      <td>FFF</td>\n      <td>FFF600</td>\n    </tr>\n  </tbody>\n</table>\n</div>"
     },
     "metadata": {},
     "execution_count": 1
    }
   ],
   "source": [
    "# ipynb形式のライブラリのインポート\n",
    "%run ./lib.ipynb\n",
    "\n",
    "import pandas as pd\n",
    "\n",
    "# 1 各行を一つのリストとして並べる\n",
    "\n",
    "list = [\n",
    "    [1, 100, 0.33, 'AAA', 'AAA100'], \n",
    "    [2, 200, 0.67, 'BBB', 'BBB200'], \n",
    "    [3, 300, 1, 'CCC', 'CCC300'], \n",
    "    [4, 400, 1.33, 'DDD', 'DDD400'], \n",
    "    [5, 500, 1.67, 'EEE', 'EEE500'], \n",
    "    [6, 600, 2, 'FFF', 'FFF600']\n",
    "]\n",
    "\n",
    "# 2 表に変換\n",
    "# pd.DataFrame(list) : pandasのDataFrameで表に変換\n",
    "df = pd.DataFrame(list)\n",
    "# 行名・列名は自動で割り振られた番号になっている\n",
    "\n",
    "# 3 行名の変更\n",
    "df.index = ['row0', 'row1', 'row2', 'row3', 'row4', 'row5']\n",
    "\n",
    "# 4 列名の変更\n",
    "df.columns = ['col0', 'col1', 'col2', 'col3', 'col4']\n",
    "\n",
    "df\n",
    "\n",
    "# 1 各行を一つのリストとして並べる\n",
    "list = [\n",
    "[1, 100, 0.33, 'AAA', 'AAA100'], \n",
    "[2, 200, 0.67, 'BBB', 'BBB200'], \n",
    "[3, 300, 1, 'CCC', 'CCC300'], \n",
    "[4, 400, 1.33, 'DDD', 'DDD400'], \n",
    "[5, 500, 1.67, 'EEE', 'EEE500'], \n",
    "[6, 600, 2, 'FFF', 'FFF600']]\n",
    "\n",
    "\n",
    "#2 表に変換(オプションで行列名を指定)\n",
    "ind = ['row0', 'row1', 'row2', 'row3', 'row4', 'row5']\n",
    "col = ['col0', 'col1', 'col2', 'col3', 'col4']\n",
    "\n",
    "df = pd.DataFrame(list, index=ind, columns=col)\n",
    "\n",
    "\n",
    "df\n",
    "\n",
    "# 1 各行を一つのリストにする\n",
    "list = [\n",
    "['row0', 1, 100, 0.33, 'AAA', 'AAA100'], \n",
    "['row1', 2, 200, 0.67, 'BBB', 'BBB200'], \n",
    "['row2', 3, 300, 1, 'CCC', 'CCC300'], \n",
    "['row3', 4, 400, 1.33, 'DDD', 'DDD400'], \n",
    "['row4', 5, 500, 1.67, 'EEE', 'EEE500'], \n",
    "['row5', 6, 600, 2, 'FFF', 'FFF600'], ]\n",
    "\n",
    "# 2 表に変換\n",
    "df = pd.DataFrame(list)\n",
    "\n",
    "# 3 列名を変更\n",
    "df.columns = ['', 'col0', 'col1', 'col2', 'col3', 'col4']\n",
    "\n",
    "# 4 行名となる列を指定\n",
    "df = df.set_index('')\n",
    "\n",
    "df\n",
    "\n",
    "# 1 各行ごとのリストを作成\n",
    "\n",
    "listA = [1, 100, 0.33, 'AAA', 'AAA100']\n",
    "listB = [2, 200, 0.67, 'BBB', 'BBB200']\n",
    "listC = [3, 300, 1, 'CCC', 'CCC300']\n",
    "listD = [4, 400, 1.33, 'DDD', 'DDD400']\n",
    "listE = [5, 500, 1.67, 'EEE', 'EEE500']\n",
    "listF = [6, 600, 2, 'FFF', 'FFF600']\n",
    "\n",
    "# 2 まとめて表に変換\n",
    "\n",
    "df = pd.DataFrame([listA, listB, listC, listD, listE, listF])\n",
    "\n",
    "# 3 行名の変更\n",
    "df.index = ['row0', 'row1', 'row2', 'row3', 'row4', 'row5']\n",
    "\n",
    "# 4 列名の変更\n",
    "df.columns = ['col0', 'col1', 'col2', 'col3', 'col4']\n",
    "\n",
    "del list\n",
    "\n",
    "df"
   ]
  },
  {
   "cell_type": "code",
   "execution_count": 2,
   "metadata": {},
   "outputs": [],
   "source": [
    "cg_c_data = return_dict_summary_fixed()"
   ]
  },
  {
   "cell_type": "code",
   "execution_count": 3,
   "metadata": {},
   "outputs": [],
   "source": [
    "x = cg_c_data[\"processes\"]\n",
    "y = cg_c_data[\"ICNVRT\"]"
   ]
  },
  {
   "cell_type": "code",
   "execution_count": 4,
   "metadata": {},
   "outputs": [],
   "source": [
    "cg_icnvrt_lr = ModelLog10(x, y, \"CG\", \"ICNVRT\")"
   ]
  },
  {
   "cell_type": "code",
   "execution_count": 5,
   "metadata": {},
   "outputs": [],
   "source": [
    "cg_icnvrt_lr.calc_lr()"
   ]
  },
  {
   "cell_type": "code",
   "execution_count": 6,
   "metadata": {},
   "outputs": [
    {
     "output_type": "display_data",
     "data": {
      "text/plain": "<Figure size 432x288 with 1 Axes>",
      "image/svg+xml": "<?xml version=\"1.0\" encoding=\"utf-8\" standalone=\"no\"?>\n<!DOCTYPE svg PUBLIC \"-//W3C//DTD SVG 1.1//EN\"\n  \"http://www.w3.org/Graphics/SVG/1.1/DTD/svg11.dtd\">\n<!-- Created with matplotlib (https://matplotlib.org/) -->\n<svg height=\"272.111875pt\" version=\"1.1\" viewBox=\"0 0 375.889062 272.111875\" width=\"375.889062pt\" xmlns=\"http://www.w3.org/2000/svg\" xmlns:xlink=\"http://www.w3.org/1999/xlink\">\n <metadata>\n  <rdf:RDF xmlns:cc=\"http://creativecommons.org/ns#\" xmlns:dc=\"http://purl.org/dc/elements/1.1/\" xmlns:rdf=\"http://www.w3.org/1999/02/22-rdf-syntax-ns#\">\n   <cc:Work>\n    <dc:type rdf:resource=\"http://purl.org/dc/dcmitype/StillImage\"/>\n    <dc:date>2020-12-22T13:17:12.080711</dc:date>\n    <dc:format>image/svg+xml</dc:format>\n    <dc:creator>\n     <cc:Agent>\n      <dc:title>Matplotlib v3.3.2, https://matplotlib.org/</dc:title>\n     </cc:Agent>\n    </dc:creator>\n   </cc:Work>\n  </rdf:RDF>\n </metadata>\n <defs>\n  <style type=\"text/css\">*{stroke-linecap:butt;stroke-linejoin:round;}</style>\n </defs>\n <g id=\"figure_1\">\n  <g id=\"patch_1\">\n   <path d=\"M 0 272.111875 \nL 375.889062 272.111875 \nL 375.889062 0 \nL 0 0 \nz\n\" style=\"fill:none;\"/>\n  </g>\n  <g id=\"axes_1\">\n   <g id=\"patch_2\">\n    <path d=\"M 33.889062 235.130625 \nL 368.689063 235.130625 \nL 368.689063 17.690625 \nL 33.889062 17.690625 \nz\n\" style=\"fill:#ffffff;\"/>\n   </g>\n   <g id=\"PathCollection_1\">\n    <defs>\n     <path d=\"M 0 3 \nC 0.795609 3 1.55874 2.683901 2.12132 2.12132 \nC 2.683901 1.55874 3 0.795609 3 0 \nC 3 -0.795609 2.683901 -1.55874 2.12132 -2.12132 \nC 1.55874 -2.683901 0.795609 -3 0 -3 \nC -0.795609 -3 -1.55874 -2.683901 -2.12132 -2.12132 \nC -2.683901 -1.55874 -3 -0.795609 -3 0 \nC -3 0.795609 -2.683901 1.55874 -2.12132 2.12132 \nC -1.55874 2.683901 -0.795609 3 0 3 \nz\n\" id=\"mda89497ced\" style=\"stroke:#1f77b4;\"/>\n    </defs>\n    <g clip-path=\"url(#pf3a7bb4f32)\">\n     <use style=\"fill:#1f77b4;stroke:#1f77b4;\" x=\"49.99342\" xlink:href=\"#mda89497ced\" y=\"211.370602\"/>\n     <use style=\"fill:#1f77b4;stroke:#1f77b4;\" x=\"51.183527\" xlink:href=\"#mda89497ced\" y=\"198.17231\"/>\n     <use style=\"fill:#1f77b4;stroke:#1f77b4;\" x=\"53.563743\" xlink:href=\"#mda89497ced\" y=\"171.7762\"/>\n     <use style=\"fill:#1f77b4;stroke:#1f77b4;\" x=\"58.324173\" xlink:href=\"#mda89497ced\" y=\"118.983507\"/>\n     <use style=\"fill:#1f77b4;stroke:#1f77b4;\" x=\"67.845035\" xlink:href=\"#mda89497ced\" y=\"118.983507\"/>\n     <use style=\"fill:#1f77b4;stroke:#1f77b4;\" x=\"86.886758\" xlink:href=\"#mda89497ced\" y=\"118.983507\"/>\n     <use style=\"fill:#1f77b4;stroke:#1f77b4;\" x=\"124.970204\" xlink:href=\"#mda89497ced\" y=\"118.983507\"/>\n     <use style=\"fill:#1f77b4;stroke:#1f77b4;\" x=\"201.137096\" xlink:href=\"#mda89497ced\" y=\"118.983507\"/>\n     <use style=\"fill:#1f77b4;stroke:#1f77b4;\" x=\"353.470881\" xlink:href=\"#mda89497ced\" y=\"118.983507\"/>\n    </g>\n   </g>\n   <g id=\"matplotlib.axis_1\">\n    <g id=\"xtick_1\">\n     <g id=\"line2d_1\">\n      <defs>\n       <path d=\"M 0 0 \nL 0 3.5 \n\" id=\"m21536cd82f\" style=\"stroke:#000000;stroke-width:0.8;\"/>\n      </defs>\n      <g>\n       <use style=\"stroke:#000000;stroke-width:0.8;\" x=\"48.803312\" xlink:href=\"#m21536cd82f\" y=\"235.130625\"/>\n      </g>\n     </g>\n     <g id=\"text_1\">\n      <!-- 0 -->\n      <g transform=\"translate(45.654093 249.62125)scale(0.1 -0.1)\">\n       <defs>\n        <path d=\"M 31.84375 73.828125 \nQ 45.015625 73.828125 52.09375 61.625 \nQ 57.71875 51.953125 57.71875 36.625 \nQ 57.71875 21.4375 52.09375 11.578125 \nQ 45.125 -0.484375 31.5 -0.484375 \nQ 17.921875 -0.484375 10.9375 11.578125 \nQ 5.328125 21.4375 5.328125 36.71875 \nQ 5.328125 58.015625 15.625 67.71875 \nQ 22.171875 73.828125 31.84375 73.828125 \nz\nM 31.5 66.65625 \nQ 23.6875 66.65625 19.1875 58.734375 \nQ 14.59375 50.734375 14.59375 36.625 \nQ 14.59375 22.75 19.09375 14.796875 \nQ 23.640625 6.984375 31.5 6.984375 \nQ 40.921875 6.984375 45.453125 18.015625 \nQ 48.4375 25.34375 48.4375 37.109375 \nQ 48.4375 50.875 43.84375 58.734375 \nQ 39.203125 66.65625 31.5 66.65625 \nz\n\" id=\"IPAexGothic-48\"/>\n       </defs>\n       <use xlink:href=\"#IPAexGothic-48\"/>\n      </g>\n     </g>\n    </g>\n    <g id=\"xtick_2\">\n     <g id=\"line2d_2\">\n      <g>\n       <use style=\"stroke:#000000;stroke-width:0.8;\" x=\"108.308696\" xlink:href=\"#m21536cd82f\" y=\"235.130625\"/>\n      </g>\n     </g>\n     <g id=\"text_2\">\n      <!-- 50 -->\n      <g transform=\"translate(102.010259 249.62125)scale(0.1 -0.1)\">\n       <defs>\n        <path d=\"M 18.40625 40.671875 \nQ 25.53125 46.296875 33.9375 46.296875 \nQ 44 46.296875 50.640625 39.5 \nQ 56.84375 33.015625 56.84375 23.390625 \nQ 56.84375 14.65625 51.515625 8.015625 \nQ 44.828125 -0.484375 31.734375 -0.484375 \nQ 14.984375 -0.484375 7.328125 12.25 \nL 14.65625 16.0625 \nQ 20.453125 6.78125 31.453125 6.78125 \nQ 38.53125 6.78125 43.265625 11.1875 \nQ 48.140625 15.828125 48.140625 23.484375 \nQ 48.140625 30.71875 43.84375 35.015625 \nQ 39.359375 39.5 32.125 39.5 \nQ 21.96875 39.5 16.75 31.6875 \nL 9.234375 32.671875 \nL 13.8125 72.40625 \nL 53.21875 72.40625 \nL 53.21875 64.890625 \nL 20.953125 64.890625 \nL 17.71875 40.671875 \nz\n\" id=\"IPAexGothic-53\"/>\n       </defs>\n       <use xlink:href=\"#IPAexGothic-53\"/>\n       <use x=\"62.988281\" xlink:href=\"#IPAexGothic-48\"/>\n      </g>\n     </g>\n    </g>\n    <g id=\"xtick_3\">\n     <g id=\"line2d_3\">\n      <g>\n       <use style=\"stroke:#000000;stroke-width:0.8;\" x=\"167.814081\" xlink:href=\"#m21536cd82f\" y=\"235.130625\"/>\n      </g>\n     </g>\n     <g id=\"text_3\">\n      <!-- 100 -->\n      <g transform=\"translate(158.366425 249.62125)scale(0.1 -0.1)\">\n       <defs>\n        <path d=\"M 38.484375 0.984375 \nL 29.6875 0.984375 \nL 29.6875 64.109375 \nQ 21.4375 61.28125 12.3125 59.328125 \nL 10.6875 66.109375 \nQ 23.734375 69.390625 32.90625 73.921875 \nL 38.484375 73.921875 \nz\n\" id=\"IPAexGothic-49\"/>\n       </defs>\n       <use xlink:href=\"#IPAexGothic-49\"/>\n       <use x=\"62.988281\" xlink:href=\"#IPAexGothic-48\"/>\n       <use x=\"125.976562\" xlink:href=\"#IPAexGothic-48\"/>\n      </g>\n     </g>\n    </g>\n    <g id=\"xtick_4\">\n     <g id=\"line2d_4\">\n      <g>\n       <use style=\"stroke:#000000;stroke-width:0.8;\" x=\"227.319466\" xlink:href=\"#m21536cd82f\" y=\"235.130625\"/>\n      </g>\n     </g>\n     <g id=\"text_4\">\n      <!-- 150 -->\n      <g transform=\"translate(217.871809 249.62125)scale(0.1 -0.1)\">\n       <use xlink:href=\"#IPAexGothic-49\"/>\n       <use x=\"62.988281\" xlink:href=\"#IPAexGothic-53\"/>\n       <use x=\"125.976562\" xlink:href=\"#IPAexGothic-48\"/>\n      </g>\n     </g>\n    </g>\n    <g id=\"xtick_5\">\n     <g id=\"line2d_5\">\n      <g>\n       <use style=\"stroke:#000000;stroke-width:0.8;\" x=\"286.82485\" xlink:href=\"#m21536cd82f\" y=\"235.130625\"/>\n      </g>\n     </g>\n     <g id=\"text_5\">\n      <!-- 200 -->\n      <g transform=\"translate(277.377194 249.62125)scale(0.1 -0.1)\">\n       <defs>\n        <path d=\"M 57.171875 0.984375 \nL 6.984375 0.984375 \nL 6.984375 9.28125 \nQ 12.890625 23.046875 29.59375 34.421875 \nL 32.375 36.28125 \nQ 40.921875 42.140625 43.609375 45.40625 \nQ 46.6875 49.265625 46.6875 53.8125 \nQ 46.6875 58.9375 43.0625 62.546875 \nQ 39.0625 66.546875 32.5625 66.546875 \nQ 19.53125 66.546875 15.484375 52 \nL 7.765625 54.78125 \nQ 13.328125 73.828125 33.0625 73.828125 \nQ 43.84375 73.828125 50.25 67.4375 \nQ 55.859375 61.671875 55.859375 53.515625 \nQ 55.859375 47.46875 52.25 42.53125 \nQ 48.921875 37.75 36.96875 30.28125 \nL 34.859375 29 \nQ 19.625 19.578125 15.28125 8.890625 \nL 57.171875 8.890625 \nz\n\" id=\"IPAexGothic-50\"/>\n       </defs>\n       <use xlink:href=\"#IPAexGothic-50\"/>\n       <use x=\"62.988281\" xlink:href=\"#IPAexGothic-48\"/>\n       <use x=\"125.976562\" xlink:href=\"#IPAexGothic-48\"/>\n      </g>\n     </g>\n    </g>\n    <g id=\"xtick_6\">\n     <g id=\"line2d_6\">\n      <g>\n       <use style=\"stroke:#000000;stroke-width:0.8;\" x=\"346.330235\" xlink:href=\"#m21536cd82f\" y=\"235.130625\"/>\n      </g>\n     </g>\n     <g id=\"text_6\">\n      <!-- 250 -->\n      <g transform=\"translate(336.882578 249.62125)scale(0.1 -0.1)\">\n       <use xlink:href=\"#IPAexGothic-50\"/>\n       <use x=\"62.988281\" xlink:href=\"#IPAexGothic-53\"/>\n       <use x=\"125.976562\" xlink:href=\"#IPAexGothic-48\"/>\n      </g>\n     </g>\n    </g>\n    <g id=\"text_7\">\n     <!-- 実行時のプロセス数 -->\n     <g transform=\"translate(156.289063 263.011875)scale(0.1 -0.1)\">\n      <defs>\n       <path d=\"M 55.078125 19.921875 \nQ 67 5.46875 94.09375 1.421875 \nL 89.65625 -5.859375 \nQ 61.765625 -0.640625 50.296875 16.40625 \nQ 42.671875 -2.25 11.375 -7.375 \nL 7.28125 -0.6875 \nQ 37.84375 2.34375 44.875 19.921875 \nL 6 19.921875 \nL 6 25.921875 \nL 46.09375 25.921875 \nL 46.09375 33.5 \nL 15.09375 33.5 \nL 15.09375 39.203125 \nL 46.09375 39.203125 \nL 46.09375 46.390625 \nL 19.78125 46.390625 \nL 19.78125 52.203125 \nL 46.09375 52.203125 \nL 46.09375 62.3125 \nL 53.171875 62.3125 \nL 53.171875 52.203125 \nL 80.078125 52.203125 \nL 80.078125 46.390625 \nL 53.171875 46.390625 \nL 53.171875 39.203125 \nL 85.0625 39.203125 \nL 85.0625 33.5 \nL 53.171875 33.5 \nL 53.171875 25.921875 \nL 94 25.921875 \nL 94 19.921875 \nz\nM 53.328125 71 \nL 90.28125 71 \nL 90.28125 51.078125 \nL 82.953125 51.078125 \nL 82.953125 64.796875 \nL 16.9375 64.796875 \nL 16.9375 51.078125 \nL 9.625 51.078125 \nL 9.625 71 \nL 45.90625 71 \nL 45.90625 83.015625 \nL 53.328125 83.015625 \nz\n\" id=\"IPAexGothic-23455\"/>\n       <path d=\"M 28.46875 43.015625 \nL 28.46875 -6.984375 \nL 21.140625 -6.984375 \nL 21.140625 33.890625 \nQ 15.09375 27.25 9.71875 22.90625 \nL 4.9375 27.984375 \nQ 20.21875 39.984375 30.765625 59.71875 \nL 37.453125 56.78125 \nQ 32.953125 49.03125 28.46875 43.015625 \nz\nM 77.734375 43.796875 \nL 77.734375 1.609375 \nQ 77.734375 -6.109375 68.265625 -6.109375 \nQ 61.328125 -6.109375 52.4375 -5.328125 \nL 51.375 2.484375 \nQ 58.984375 1.21875 66.546875 1.21875 \nQ 70.5625 1.21875 70.5625 4.984375 \nL 70.5625 43.796875 \nL 37.25 43.796875 \nL 37.25 50.390625 \nL 93.953125 50.390625 \nL 93.953125 43.796875 \nz\nM 6 57.671875 \nQ 19.234375 66.5 27.4375 79.296875 \nL 33.5 75.78125 \nQ 24.078125 61.671875 10.40625 52.296875 \nz\nM 42.328125 74.90625 \nL 88.421875 74.90625 \nL 88.421875 68.40625 \nL 42.328125 68.40625 \nz\n\" id=\"IPAexGothic-34892\"/>\n       <path d=\"M 36.375 73.875 \nL 36.375 8.796875 \nL 14.59375 8.796875 \nL 14.59375 0.875 \nL 8.109375 0.875 \nL 8.109375 73.875 \nz\nM 14.59375 67.671875 \nL 14.59375 45.015625 \nL 29.78125 45.015625 \nL 29.78125 67.671875 \nz\nM 14.59375 39.015625 \nL 14.59375 14.890625 \nL 29.78125 14.890625 \nL 29.78125 39.015625 \nz\nM 61.53125 68.3125 \nL 61.53125 83.015625 \nL 68.40625 83.015625 \nL 68.40625 68.3125 \nL 90.1875 68.3125 \nL 90.1875 62.203125 \nL 68.40625 62.203125 \nL 68.40625 49.90625 \nL 94.875 49.90625 \nL 94.875 43.796875 \nL 81.296875 43.796875 \nL 81.296875 31.984375 \nL 93.109375 31.984375 \nL 93.109375 25.78125 \nL 81.5 25.78125 \nL 81.5 0.484375 \nQ 81.5 -6.984375 73.296875 -6.984375 \nQ 68.65625 -6.984375 60.75 -6.109375 \nL 59.125 1.21875 \nQ 66.75 0 71.734375 0 \nQ 74.609375 0 74.609375 2.6875 \nL 74.609375 25.78125 \nL 40.328125 25.78125 \nL 40.328125 31.984375 \nL 74.421875 31.984375 \nL 74.421875 43.796875 \nL 39.65625 43.796875 \nL 39.65625 49.90625 \nL 61.53125 49.90625 \nL 61.53125 62.203125 \nL 42.4375 62.203125 \nL 42.4375 68.3125 \nz\nM 57.328125 6 \nQ 52.046875 14.84375 46.1875 20.703125 \nL 51.421875 24.609375 \nQ 58.109375 17.921875 62.890625 10.296875 \nz\n\" id=\"IPAexGothic-26178\"/>\n       <path d=\"M 48.734375 7.328125 \nQ 82.421875 11.96875 82.421875 37.890625 \nQ 82.421875 53.953125 68.953125 61.328125 \nQ 63.140625 64.3125 55.421875 64.984375 \nQ 53.03125 39.453125 44.53125 21.875 \nQ 36.28125 4.78125 26.90625 4.78125 \nQ 21.625 4.78125 16.9375 10.40625 \nQ 9.515625 19.4375 9.515625 31.296875 \nQ 9.515625 47.265625 21.828125 59.28125 \nQ 34.125 71.296875 53.609375 71.296875 \nQ 67.28125 71.296875 77 64.40625 \nQ 90.828125 54.78125 90.828125 37.890625 \nQ 90.828125 6.84375 53.609375 0.09375 \nz\nM 47.703125 64.796875 \nQ 37.15625 63.1875 29.546875 56.890625 \nQ 17.140625 46.578125 17.140625 31.109375 \nQ 17.140625 21.34375 22.40625 15.28125 \nQ 24.703125 12.703125 26.859375 12.703125 \nQ 31.59375 12.703125 37.75 25.390625 \nQ 45.453125 41.21875 47.703125 64.796875 \nz\n\" id=\"IPAexGothic-12398\"/>\n       <path d=\"M 75.390625 66.796875 \nL 80.078125 62.5 \nQ 76.3125 37.15625 63.765625 21.578125 \nQ 51.46875 6.453125 29.5 -1.8125 \nL 23.78125 5.171875 \nQ 63.578125 17.390625 71.09375 59.421875 \nL 15.09375 58.40625 \nL 15.09375 66.015625 \nz\nM 87.453125 86.078125 \nQ 92.28125 86.078125 95.609375 82.421875 \nQ 98.484375 79.296875 98.484375 75.09375 \nQ 98.484375 70.21875 94.828125 66.890625 \nQ 91.65625 64.015625 87.453125 64.015625 \nQ 82.5625 64.015625 79.25 67.671875 \nQ 76.375 70.84375 76.375 75.09375 \nQ 76.375 79.9375 80.03125 83.25 \nQ 83.25 86.078125 87.453125 86.078125 \nz\nM 87.453125 81.6875 \nQ 84.515625 81.6875 82.46875 79.5 \nQ 80.765625 77.59375 80.765625 75.09375 \nQ 80.765625 72.125 82.953125 70.125 \nQ 84.90625 68.40625 87.453125 68.40625 \nQ 90.375 68.40625 92.390625 70.609375 \nQ 94.09375 72.515625 94.09375 75.09375 \nQ 94.09375 77.984375 91.890625 79.984375 \nQ 89.984375 81.6875 87.453125 81.6875 \nz\n\" id=\"IPAexGothic-12503\"/>\n       <path d=\"M 17.921875 66.703125 \nL 82.03125 66.703125 \nL 82.03125 2.6875 \nL 73.828125 2.6875 \nL 73.828125 8.890625 \nL 26.125 8.890625 \nL 26.125 2.6875 \nL 17.921875 2.6875 \nz\nM 26.125 59.078125 \nL 26.125 16.609375 \nL 73.828125 16.609375 \nL 73.828125 59.078125 \nz\n\" id=\"IPAexGothic-12525\"/>\n       <path d=\"M 32.171875 76.21875 \nL 40.375 76.21875 \nL 40.375 53.078125 \nL 82.671875 58.296875 \nL 87.59375 53.8125 \nQ 75.59375 36.140625 62.59375 24.3125 \nL 55.765625 29.296875 \nQ 67.140625 38.421875 75.6875 50.484375 \nL 40.375 45.796875 \nL 40.375 15.28125 \nQ 40.375 11.46875 42.78125 10.453125 \nQ 45.65625 9.125 56.5 9.125 \nQ 69.046875 9.125 84.765625 10.890625 \nL 85.0625 2.6875 \nQ 71.296875 1.609375 60.0625 1.609375 \nQ 41.84375 1.609375 36.859375 4 \nQ 32.171875 6.296875 32.171875 13.484375 \nL 32.171875 44.671875 \nL 9.96875 41.796875 \nL 9.1875 49.21875 \nL 32.171875 52.09375 \nz\n\" id=\"IPAexGothic-12475\"/>\n       <path d=\"M 68.109375 70.015625 \nL 73.6875 64.796875 \nQ 67.625 48 56.984375 33.59375 \nQ 72.796875 22.40625 88.421875 7.078125 \nL 81.78125 0.296875 \nQ 66.5 17 52.390625 27.78125 \nQ 37.0625 9.328125 16.3125 -0.484375 \nL 10.203125 6.296875 \nQ 48.875 22.703125 64.015625 62.5 \nL 19.390625 61.921875 \nL 19.1875 69.578125 \nz\n\" id=\"IPAexGothic-12473\"/>\n       <path d=\"M 44.484375 24.265625 \nQ 42.828125 15.71875 37.890625 8.34375 \nQ 41.015625 6.890625 48.296875 3.171875 \nL 43.890625 -2.9375 \nQ 39.703125 0 33.5 3.265625 \nQ 24.515625 -4.546875 10.984375 -7.8125 \nL 6.59375 -1.953125 \nQ 19.734375 0.296875 27.296875 6.34375 \nQ 19.09375 10.15625 11.46875 12.75 \nQ 15.234375 18.3125 17.921875 23.484375 \nL 18.3125 24.265625 \nL 5.609375 24.265625 \nL 5.609375 30.078125 \nL 21 30.078125 \nQ 21.96875 32.28125 24.515625 38.671875 \nL 26.421875 38.28125 \nL 26.421875 52.6875 \nQ 19.53125 42.78125 8.59375 35.984375 \nL 4.296875 41.609375 \nQ 15.921875 47.078125 23.875 56.890625 \nL 5.90625 56.890625 \nL 5.90625 62.59375 \nL 26.421875 62.59375 \nL 26.421875 83.015625 \nL 33.015625 83.015625 \nL 33.015625 62.59375 \nL 51.515625 62.59375 \nL 51.515625 56.890625 \nL 33.015625 56.890625 \nL 33.015625 54.890625 \nQ 41.546875 51.421875 49.609375 46.296875 \nL 46.1875 40.375 \nQ 39.890625 45.65625 33.015625 49.359375 \nL 33.015625 37.0625 \nL 30.71875 37.0625 \nQ 30.125 35.75 29.25 33.453125 \nQ 28.21875 30.859375 27.875 30.078125 \nL 52.78125 30.078125 \nL 52.78125 24.265625 \nz\nM 37.796875 24.265625 \nL 25.203125 24.265625 \nQ 23.09375 19.828125 20.515625 15.578125 \nQ 24.359375 14.203125 31.984375 10.984375 \nQ 36.140625 16.359375 37.796875 24.265625 \nz\nM 68.171875 18.171875 \nQ 61.765625 27.828125 58.40625 41.21875 \nQ 55.859375 35.640625 53.5625 31.5 \nL 48.484375 37.59375 \nQ 57.421875 53.8125 61.1875 82.671875 \nL 68.171875 81.25 \nQ 66.9375 72.90625 65.578125 65.578125 \nL 93.890625 65.578125 \nL 93.890625 58.984375 \nL 85.984375 58.984375 \nQ 84.328125 35.546875 76.078125 18.609375 \nQ 84.671875 7.859375 96 1.171875 \nL 90.96875 -5.90625 \nQ 81.0625 1.65625 72.359375 12.3125 \nQ 64.265625 0.53125 52.203125 -7.234375 \nL 47.359375 -1.21875 \nQ 60.75 6.34375 68.171875 18.171875 \nz\nM 71.6875 24.90625 \nQ 77.15625 37.3125 79.046875 58.984375 \nL 64.0625 58.984375 \nQ 63.140625 54.984375 62.0625 51.375 \nQ 62.203125 50.78125 62.359375 49.90625 \nQ 65.234375 35.25 71.6875 24.90625 \nz\nM 15.671875 64.3125 \nQ 13.71875 71 9.96875 77.09375 \nL 16.453125 79.59375 \nQ 19.484375 74.8125 22.46875 66.703125 \nz\nM 36.1875 66.703125 \nQ 39.84375 73.25 42 80.171875 \nL 48.875 78.078125 \nQ 46.34375 71.6875 41.796875 64.5 \nz\n\" id=\"IPAexGothic-25968\"/>\n      </defs>\n      <use xlink:href=\"#IPAexGothic-23455\"/>\n      <use x=\"100\" xlink:href=\"#IPAexGothic-34892\"/>\n      <use x=\"200\" xlink:href=\"#IPAexGothic-26178\"/>\n      <use x=\"300\" xlink:href=\"#IPAexGothic-12398\"/>\n      <use x=\"400\" xlink:href=\"#IPAexGothic-12503\"/>\n      <use x=\"500\" xlink:href=\"#IPAexGothic-12525\"/>\n      <use x=\"600\" xlink:href=\"#IPAexGothic-12475\"/>\n      <use x=\"700\" xlink:href=\"#IPAexGothic-12473\"/>\n      <use x=\"800\" xlink:href=\"#IPAexGothic-25968\"/>\n     </g>\n    </g>\n   </g>\n   <g id=\"matplotlib.axis_2\">\n    <g id=\"ytick_1\">\n     <g id=\"line2d_7\">\n      <defs>\n       <path d=\"M 0 0 \nL -3.5 0 \n\" id=\"mdd734e5a5d\" style=\"stroke:#000000;stroke-width:0.8;\"/>\n      </defs>\n      <g>\n       <use style=\"stroke:#000000;stroke-width:0.8;\" x=\"33.889062\" xlink:href=\"#mdd734e5a5d\" y=\"210.649541\"/>\n      </g>\n     </g>\n     <g id=\"text_8\">\n      <!-- 2 -->\n      <g transform=\"translate(20.590625 214.394854)scale(0.1 -0.1)\">\n       <use xlink:href=\"#IPAexGothic-50\"/>\n      </g>\n     </g>\n    </g>\n    <g id=\"ytick_2\">\n     <g id=\"line2d_8\">\n      <g>\n       <use style=\"stroke:#000000;stroke-width:0.8;\" x=\"33.889062\" xlink:href=\"#mdd734e5a5d\" y=\"163.304807\"/>\n      </g>\n     </g>\n     <g id=\"text_9\">\n      <!-- 3 -->\n      <g transform=\"translate(20.590625 167.050119)scale(0.1 -0.1)\">\n       <defs>\n        <path d=\"M 37.203125 37.796875 \nQ 54.78125 34.625 54.78125 19.96875 \nQ 54.78125 11.1875 48.875 5.5625 \nQ 42.328125 -0.484375 30.375 -0.484375 \nQ 12.453125 -0.484375 4.5 13.765625 \nL 11.8125 17.671875 \nQ 17.328125 6.890625 30.28125 6.890625 \nQ 37.890625 6.890625 42.09375 10.796875 \nQ 46.09375 14.5 46.09375 20.171875 \nQ 46.09375 26.859375 40.09375 30.90625 \nQ 34.625 34.578125 25.6875 34.578125 \nL 21.296875 34.578125 \nL 21.296875 41.703125 \nL 25.875 41.703125 \nQ 34.859375 41.703125 39.59375 45.125 \nQ 44.671875 48.734375 44.671875 54.828125 \nQ 44.671875 61.46875 38.96875 64.65625 \nQ 35.296875 66.84375 30.171875 66.84375 \nQ 19.34375 66.84375 14.109375 55.90625 \nL 6.78125 59.421875 \nQ 14.015625 73.828125 30.28125 73.828125 \nQ 40.578125 73.828125 46.96875 68.65625 \nQ 53.375 63.578125 53.375 55.21875 \nQ 53.375 47.3125 47.171875 42.28125 \nQ 43.171875 39.0625 37.203125 38.1875 \nz\n\" id=\"IPAexGothic-51\"/>\n       </defs>\n       <use xlink:href=\"#IPAexGothic-51\"/>\n      </g>\n     </g>\n    </g>\n    <g id=\"ytick_3\">\n     <g id=\"line2d_9\">\n      <g>\n       <use style=\"stroke:#000000;stroke-width:0.8;\" x=\"33.889062\" xlink:href=\"#mdd734e5a5d\" y=\"115.960072\"/>\n      </g>\n     </g>\n     <g id=\"text_10\">\n      <!-- 4 -->\n      <g transform=\"translate(20.590625 119.705385)scale(0.1 -0.1)\">\n       <defs>\n        <path d=\"M 59.578125 18.109375 \nL 47.796875 18.109375 \nL 47.796875 0.984375 \nL 39.796875 0.984375 \nL 39.796875 18.109375 \nL 3.078125 18.109375 \nL 3.078125 26.125 \nL 38.375 73.09375 \nL 47.796875 73.09375 \nL 47.796875 25.53125 \nL 59.578125 25.53125 \nz\nM 40.28125 64.203125 \nL 39.984375 64.203125 \nQ 35.59375 57.125 31.296875 51.3125 \nL 11.859375 25.53125 \nL 39.796875 25.53125 \nL 39.796875 49.125 \nQ 39.796875 54.390625 40.28125 64.203125 \nz\n\" id=\"IPAexGothic-52\"/>\n       </defs>\n       <use xlink:href=\"#IPAexGothic-52\"/>\n      </g>\n     </g>\n    </g>\n    <g id=\"ytick_4\">\n     <g id=\"line2d_10\">\n      <g>\n       <use style=\"stroke:#000000;stroke-width:0.8;\" x=\"33.889062\" xlink:href=\"#mdd734e5a5d\" y=\"68.615338\"/>\n      </g>\n     </g>\n     <g id=\"text_11\">\n      <!-- 5 -->\n      <g transform=\"translate(20.590625 72.36065)scale(0.1 -0.1)\">\n       <use xlink:href=\"#IPAexGothic-53\"/>\n      </g>\n     </g>\n    </g>\n    <g id=\"ytick_5\">\n     <g id=\"line2d_11\">\n      <g>\n       <use style=\"stroke:#000000;stroke-width:0.8;\" x=\"33.889062\" xlink:href=\"#mdd734e5a5d\" y=\"21.270603\"/>\n      </g>\n     </g>\n     <g id=\"text_12\">\n      <!-- 6 -->\n      <g transform=\"translate(20.590625 25.015916)scale(0.1 -0.1)\">\n       <defs>\n        <path d=\"M 16.5 36.375 \nQ 23.578125 46.578125 34.90625 46.578125 \nQ 45.40625 46.578125 51.8125 39.265625 \nQ 57.421875 32.90625 57.421875 23.78125 \nQ 57.421875 13.8125 51.125 6.78125 \nQ 44.578125 -0.484375 34.03125 -0.484375 \nQ 21.484375 -0.484375 14.40625 9.078125 \nQ 7.515625 18.40625 7.515625 34.8125 \nQ 7.515625 53.515625 15.828125 64.203125 \nQ 23.34375 73.828125 35.5 73.828125 \nQ 49.859375 73.828125 56.390625 62.890625 \nL 49.21875 58.984375 \nQ 45.21875 66.65625 35.9375 66.65625 \nQ 17.484375 66.65625 16.109375 36.375 \nz\nM 33.453125 39.796875 \nQ 26.3125 39.796875 21.625 34.46875 \nQ 17.4375 29.6875 17.4375 24.078125 \nQ 17.4375 18.0625 21.140625 13.1875 \nQ 26.125 6.6875 33.734375 6.6875 \nQ 41.703125 6.6875 45.953125 13.1875 \nQ 48.828125 17.625 48.828125 23.484375 \nQ 48.828125 30.375 45.015625 34.8125 \nQ 40.625 39.796875 33.453125 39.796875 \nz\n\" id=\"IPAexGothic-54\"/>\n       </defs>\n       <use xlink:href=\"#IPAexGothic-54\"/>\n      </g>\n     </g>\n    </g>\n    <g id=\"text_13\">\n     <!-- 関数のコール回数 -->\n     <g transform=\"translate(14.690625 166.410625)rotate(-90)scale(0.1 -0.1)\">\n      <defs>\n       <path d=\"M 45.609375 79.109375 \nL 45.609375 51.375 \nL 15.875 51.375 \nL 15.875 -7.03125 \nL 8.890625 -7.03125 \nL 8.890625 79.109375 \nz\nM 15.875 73.578125 \nL 15.875 67.671875 \nL 39.203125 67.671875 \nL 39.203125 73.578125 \nz\nM 15.875 62.796875 \nL 15.875 56.6875 \nL 39.203125 56.6875 \nL 39.203125 62.796875 \nz\nM 90.96875 79.109375 \nL 90.96875 0.6875 \nQ 90.96875 -6.390625 82.765625 -6.390625 \nQ 77.4375 -6.390625 73 -5.71875 \nL 71.78125 1.515625 \nQ 75.640625 0.484375 80.5625 0.484375 \nQ 83.890625 0.484375 83.890625 3.8125 \nL 83.890625 51.375 \nL 53.46875 51.375 \nL 53.46875 79.109375 \nz\nM 59.859375 73.578125 \nL 59.859375 67.671875 \nL 83.890625 67.671875 \nL 83.890625 73.578125 \nz\nM 59.859375 62.796875 \nL 59.859375 56.6875 \nL 83.890625 56.6875 \nL 83.890625 62.796875 \nz\nM 37.890625 38.71875 \nQ 36.375 42.390625 33.59375 46.484375 \nL 39.984375 48.78125 \nQ 42.328125 44.78125 44.671875 38.71875 \nL 55.078125 38.71875 \nQ 58.0625 44.484375 59.46875 49.171875 \nL 66.5 47.21875 \nQ 63.8125 41.703125 61.765625 38.71875 \nL 74.46875 38.71875 \nL 74.46875 33.015625 \nL 52.984375 33.015625 \nL 52.984375 26.125 \nL 77 26.125 \nL 77 20.3125 \nL 52.59375 20.3125 \nQ 52.546875 19.734375 52.09375 17.828125 \nQ 62.75 13.484375 73.96875 6.390625 \nL 69.1875 0.53125 \nQ 60.75 6.890625 51.265625 11.921875 \nQ 51.21875 11.96875 50.640625 12.3125 \nQ 50.390625 12.453125 50.296875 12.5 \nQ 45.015625 1.5625 29.296875 -4 \nL 24.8125 1.90625 \nQ 43.265625 6.390625 45.796875 20.3125 \nL 22.90625 20.3125 \nL 22.90625 26.125 \nL 46.296875 26.125 \nL 46.296875 33.015625 \nL 25.390625 33.015625 \nL 25.390625 38.71875 \nz\n\" id=\"IPAexGothic-38306\"/>\n       <path d=\"M 17.71875 65.828125 \nL 80.71875 65.828125 \nL 80.71875 2.390625 \nL 72.703125 2.390625 \nL 72.703125 9.28125 \nL 16.609375 9.28125 \nL 16.609375 17 \nL 72.703125 17 \nL 72.703125 58.203125 \nL 17.71875 58.203125 \nz\n\" id=\"IPAexGothic-12467\"/>\n       <path d=\"M 9.1875 42 \nL 90.765625 42 \nL 90.765625 33.984375 \nL 9.1875 33.984375 \nz\n\" id=\"IPAexGothic-12540\"/>\n       <path d=\"M 5.515625 5.171875 \nQ 20.515625 15.53125 24.125 31.59375 \nQ 26.3125 41.40625 26.3125 68.703125 \nL 34.421875 68.703125 \nL 34.421875 64.890625 \nL 34.421875 64.3125 \nQ 34.421875 35.296875 30.21875 23.296875 \nQ 25.296875 9.1875 11.625 -0.59375 \nz\nM 48.828125 72.90625 \nL 57.03125 72.90625 \nL 57.03125 12.015625 \nQ 76.171875 23.25 88.625 42.71875 \nL 93.75 35.59375 \nQ 79.296875 15.09375 54.9375 0.984375 \nL 48.828125 5.609375 \nz\n\" id=\"IPAexGothic-12523\"/>\n       <path d=\"M 70.609375 56.984375 \nL 70.609375 18.40625 \nL 29.296875 18.40625 \nL 29.296875 56.984375 \nz\nM 36.375 50.78125 \nL 36.375 24.609375 \nL 63.53125 24.609375 \nL 63.53125 50.78125 \nz\nM 89.40625 76.421875 \nL 89.40625 -7.125 \nL 81.984375 -7.125 \nL 81.984375 -1.609375 \nL 17.921875 -1.609375 \nL 17.921875 -7.125 \nL 10.5 -7.125 \nL 10.5 76.421875 \nz\nM 17.921875 69.921875 \nL 17.921875 4.890625 \nL 81.984375 4.890625 \nL 81.984375 69.921875 \nz\n\" id=\"IPAexGothic-22238\"/>\n      </defs>\n      <use xlink:href=\"#IPAexGothic-38306\"/>\n      <use x=\"100\" xlink:href=\"#IPAexGothic-25968\"/>\n      <use x=\"200\" xlink:href=\"#IPAexGothic-12398\"/>\n      <use x=\"300\" xlink:href=\"#IPAexGothic-12467\"/>\n      <use x=\"400\" xlink:href=\"#IPAexGothic-12540\"/>\n      <use x=\"500\" xlink:href=\"#IPAexGothic-12523\"/>\n      <use x=\"600\" xlink:href=\"#IPAexGothic-22238\"/>\n      <use x=\"700\" xlink:href=\"#IPAexGothic-25968\"/>\n     </g>\n    </g>\n    <g id=\"text_14\">\n     <!-- 1e6 -->\n     <g transform=\"translate(33.889062 14.690625)scale(0.1 -0.1)\">\n      <defs>\n       <path d=\"M 13.484375 24.90625 \nQ 13.921875 16.265625 18.890625 11.28125 \nQ 23.96875 6.203125 31.203125 6.203125 \nQ 40.71875 6.203125 46.296875 15.09375 \nL 51.90625 11.375 \nQ 44.828125 -0.484375 30.171875 -0.484375 \nQ 19.09375 -0.484375 11.96875 6.59375 \nQ 4.78125 13.8125 4.78125 25.640625 \nQ 4.78125 38.1875 12.3125 45.703125 \nQ 19 52.390625 29 52.390625 \nQ 38.421875 52.390625 44.78125 46.1875 \nQ 51.90625 38.96875 51.90625 26.90625 \nL 51.90625 24.90625 \nz\nM 43.0625 31.203125 \nQ 42.328125 37.984375 38.28125 41.890625 \nQ 34.28125 45.90625 28.8125 45.90625 \nQ 22.46875 45.90625 17.96875 40.484375 \nQ 14.890625 36.8125 13.96875 31.203125 \nz\n\" id=\"IPAexGothic-101\"/>\n      </defs>\n      <use xlink:href=\"#IPAexGothic-49\"/>\n      <use x=\"62.988281\" xlink:href=\"#IPAexGothic-101\"/>\n      <use x=\"119.873047\" xlink:href=\"#IPAexGothic-54\"/>\n     </g>\n    </g>\n   </g>\n   <g id=\"line2d_12\">\n    <path clip-path=\"url(#pf3a7bb4f32)\" d=\"M 49.107244 225.246989 \nL 49.44038 213.833528 \nL 50.164931 200.426325 \nL 50.90169 191.93209 \nL 51.968627 183.221512 \nL 52.966352 177.04738 \nL 54.33848 170.296783 \nL 55.47169 165.692284 \nL 57.560925 158.670083 \nL 59.257033 153.92068 \nL 61.141162 149.335723 \nL 62.450764 146.476835 \nL 65.277434 141.001497 \nL 67.904553 136.56552 \nL 69.973221 133.412378 \nL 73.059499 129.148475 \nL 75.01175 126.676116 \nL 78.30695 122.826246 \nL 81.765152 119.14816 \nL 85.696517 115.333029 \nL 89.933043 111.578352 \nL 94.909414 107.55339 \nL 98.964569 104.529167 \nL 104.424056 100.759611 \nL 109.54869 97.487988 \nL 115.55222 93.931568 \nL 121.200416 90.81762 \nL 128.878331 86.889621 \nL 135.005963 83.970675 \nL 143.393128 80.239625 \nL 151.396249 76.924374 \nL 160.3747 73.448606 \nL 169.986375 69.973248 \nL 180.436526 66.442392 \nL 191.396273 62.978237 \nL 202.86387 59.579925 \nL 215.870666 55.96794 \nL 229.391213 52.449984 \nL 244.0011 48.883547 \nL 259.860222 45.25189 \nL 276.254901 41.725681 \nL 294.172061 38.102833 \nL 314.089287 34.321841 \nL 334.680028 30.650279 \nL 352.923373 27.574261 \nL 352.923373 27.574261 \n\" style=\"fill:none;stroke:#ff0000;stroke-linecap:square;stroke-width:1.5;\"/>\n   </g>\n   <g id=\"patch_3\">\n    <path d=\"M 33.889062 235.130625 \nL 33.889062 17.690625 \n\" style=\"fill:none;stroke:#000000;stroke-linecap:square;stroke-linejoin:miter;stroke-width:0.8;\"/>\n   </g>\n   <g id=\"patch_4\">\n    <path d=\"M 368.689063 235.130625 \nL 368.689063 17.690625 \n\" style=\"fill:none;stroke:#000000;stroke-linecap:square;stroke-linejoin:miter;stroke-width:0.8;\"/>\n   </g>\n   <g id=\"patch_5\">\n    <path d=\"M 33.889062 235.130625 \nL 368.689063 235.130625 \n\" style=\"fill:none;stroke:#000000;stroke-linecap:square;stroke-linejoin:miter;stroke-width:0.8;\"/>\n   </g>\n   <g id=\"patch_6\">\n    <path d=\"M 33.889062 17.690625 \nL 368.689063 17.690625 \n\" style=\"fill:none;stroke:#000000;stroke-linecap:square;stroke-linejoin:miter;stroke-width:0.8;\"/>\n   </g>\n  </g>\n </g>\n <defs>\n  <clipPath id=\"pf3a7bb4f32\">\n   <rect height=\"217.44\" width=\"334.8\" x=\"33.889062\" y=\"17.690625\"/>\n  </clipPath>\n </defs>\n</svg>\n",
      "image/png": "[encoded data removed]"
     },
     "metadata": {
      "needs_background": "light"
     }
    }
   ],
   "source": [
    "cg_icnvrt_lr.plot_graph()"
   ]
  },
  {
   "cell_type": "code",
   "execution_count": 7,
   "metadata": {},
   "outputs": [
    {
     "output_type": "execute_result",
     "data": {
      "text/plain": [
       "3"
      ]
     },
     "metadata": {},
     "execution_count": 7
    }
   ],
   "source": [
    "max_in_y = max(y)\n",
    "# 最大値の個数を取得\n",
    "y.tolist().count(max_in_y)\n",
    "# 最大値のインデックスで最小のもの\n",
    "y.tolist().index(max_in_y)"
   ]
  },
  {
   "cell_type": "code",
   "execution_count": 8,
   "metadata": {},
   "outputs": [],
   "source": [
    "class ModelBranch(ModelBase):\n",
    "    \n",
    "    def calc_lr(self):\n",
    "        # 後述する t を算出するための処理\n",
    "        max_in_train_y = max(self.train_y)\n",
    "        max_in_train_y_first_index = self.train_y.tolist().index(max_in_train_y)\n",
    "        # 分岐点のインデックスを t とする\n",
    "        t = max_in_train_y_first_index\n",
    "        self.t = t\n",
    "        if(self.t == 0 or self.t == len(self.train_y) - 1):\n",
    "            self.lr = LinearRegression()\n",
    "            self.lr.fit(self.train_x, self.train_y)\n",
    "        else:\n",
    "            x_train_1 = self.train_x[:t]\n",
    "            x_train_2 = self.train_x[t:]\n",
    "            y_train_1 = self.train_y[:t]\n",
    "            y_train_2 = self.train_y[t:]\n",
    "            self.lr1 = LinearRegression()\n",
    "            self.lr1.fit(x_train_1, y_train_1)\n",
    "            self.lr2 = LinearRegression()\n",
    "            self.lr2.fit(x_train_2, y_train_2)\n",
    "        \n",
    "    def calc_mape_score(self):\n",
    "        if(self.t == 0 or self.t == len(self.train_y) - 1):\n",
    "            test_y_predicted = self.lr.predict(self.test_x)\n",
    "            self.mape_score = float(mape_score(self.test_y, test_y_predicted))\n",
    "        else:\n",
    "            x_test = self.test_x\n",
    "            y_test = self.test_y\n",
    "            y_test_predicted = self.lr2.predict(x_test)\n",
    "            self.mape_score = float(mape_score(y_test, y_test_predicted))\n",
    "        \n",
    "    def plot_graph(self):\n",
    "        plt.figure()\n",
    "        plt.scatter(self.raw_x, self.raw_y)\n",
    "\n",
    "        if(self.t == 0 or self.t == len(self.train_y) - 1):\n",
    "            y_model_line = self.lr.predict(x_model_line)\n",
    "            plt.plot(self.x_model_line, y_model_line, color=\"red\")\n",
    "        else:\n",
    "            # 回帰曲線を二つのモデルで分割するための処理\n",
    "            x_model_line = self.x_model_line\n",
    "            t_in_model_line = 0\n",
    "            for i in range(len(x_model_line)):\n",
    "                if (self.train_x[self.t] < x_model_line[i]):\n",
    "                    t_in_model_line = i\n",
    "                    break\n",
    "                else:\n",
    "                    t_in_model_line = i\n",
    "            \n",
    "            x_model_line1 = self.x_model_line[:t_in_model_line]\n",
    "            x_model_line2 = self.x_model_line[t_in_model_line:]\n",
    "            y_model_line1 = self.lr1.predict(x_model_line1)\n",
    "            y_model_line2 = self.lr2.predict(x_model_line2)\n",
    "\n",
    "            plt.plot(x_model_line1, y_model_line1, color=\"red\")\n",
    "            plt.plot(x_model_line2, y_model_line2, color=\"red\")\n",
    "    #         plt.plot(self.test_x, self.test_y, color=\"yellow\")\n",
    "        plt.xlabel(self.xlabel)\n",
    "        plt.ylabel(self.ylabel)\n",
    "        "
   ]
  },
  {
   "cell_type": "code",
   "execution_count": 9,
   "metadata": {},
   "outputs": [
    {
     "output_type": "stream",
     "name": "stdout",
     "text": [
      "0.0\n"
     ]
    },
    {
     "output_type": "display_data",
     "data": {
      "text/plain": "<Figure size 432x288 with 1 Axes>",
      "image/svg+xml": "<?xml version=\"1.0\" encoding=\"utf-8\" standalone=\"no\"?>\n<!DOCTYPE svg PUBLIC \"-//W3C//DTD SVG 1.1//EN\"\n  \"http://www.w3.org/Graphics/SVG/1.1/DTD/svg11.dtd\">\n<!-- Created with matplotlib (https://matplotlib.org/) -->\n<svg height=\"272.111875pt\" version=\"1.1\" viewBox=\"0 0 384.829687 272.111875\" width=\"384.829687pt\" xmlns=\"http://www.w3.org/2000/svg\" xmlns:xlink=\"http://www.w3.org/1999/xlink\">\n <metadata>\n  <rdf:RDF xmlns:cc=\"http://creativecommons.org/ns#\" xmlns:dc=\"http://purl.org/dc/elements/1.1/\" xmlns:rdf=\"http://www.w3.org/1999/02/22-rdf-syntax-ns#\">\n   <cc:Work>\n    <dc:type rdf:resource=\"http://purl.org/dc/dcmitype/StillImage\"/>\n    <dc:date>2020-12-22T13:17:12.770850</dc:date>\n    <dc:format>image/svg+xml</dc:format>\n    <dc:creator>\n     <cc:Agent>\n      <dc:title>Matplotlib v3.3.2, https://matplotlib.org/</dc:title>\n     </cc:Agent>\n    </dc:creator>\n   </cc:Work>\n  </rdf:RDF>\n </metadata>\n <defs>\n  <style type=\"text/css\">*{stroke-linecap:butt;stroke-linejoin:round;}</style>\n </defs>\n <g id=\"figure_1\">\n  <g id=\"patch_1\">\n   <path d=\"M 0 272.111875 \nL 384.829687 272.111875 \nL 384.829687 0 \nL 0 0 \nz\n\" style=\"fill:none;\"/>\n  </g>\n  <g id=\"axes_1\">\n   <g id=\"patch_2\">\n    <path d=\"M 42.829688 235.130625 \nL 377.629688 235.130625 \nL 377.629688 17.690625 \nL 42.829688 17.690625 \nz\n\" style=\"fill:#ffffff;\"/>\n   </g>\n   <g id=\"PathCollection_1\">\n    <defs>\n     <path d=\"M 0 3 \nC 0.795609 3 1.55874 2.683901 2.12132 2.12132 \nC 2.683901 1.55874 3 0.795609 3 0 \nC 3 -0.795609 2.683901 -1.55874 2.12132 -2.12132 \nC 1.55874 -2.683901 0.795609 -3 0 -3 \nC -0.795609 -3 -1.55874 -2.683901 -2.12132 -2.12132 \nC -2.683901 -1.55874 -3 -0.795609 -3 0 \nC -3 0.795609 -2.683901 1.55874 -2.12132 2.12132 \nC -1.55874 2.683901 -0.795609 3 0 3 \nz\n\" id=\"ma38e99b341\" style=\"stroke:#1f77b4;\"/>\n    </defs>\n    <g clip-path=\"url(#p33b1f33c81)\">\n     <use style=\"fill:#1f77b4;stroke:#1f77b4;\" x=\"59.22114\" xlink:href=\"#ma38e99b341\" y=\"200.824233\"/>\n     <use style=\"fill:#1f77b4;stroke:#1f77b4;\" x=\"60.410122\" xlink:href=\"#ma38e99b341\" y=\"176.073983\"/>\n     <use style=\"fill:#1f77b4;stroke:#1f77b4;\" x=\"62.788085\" xlink:href=\"#ma38e99b341\" y=\"126.574372\"/>\n     <use style=\"fill:#1f77b4;stroke:#1f77b4;\" x=\"67.544013\" xlink:href=\"#ma38e99b341\" y=\"27.574261\"/>\n     <use style=\"fill:#1f77b4;stroke:#1f77b4;\" x=\"77.055867\" xlink:href=\"#ma38e99b341\" y=\"27.574261\"/>\n     <use style=\"fill:#1f77b4;stroke:#1f77b4;\" x=\"96.079576\" xlink:href=\"#ma38e99b341\" y=\"27.574261\"/>\n     <use style=\"fill:#1f77b4;stroke:#1f77b4;\" x=\"134.126995\" xlink:href=\"#ma38e99b341\" y=\"27.574261\"/>\n     <use style=\"fill:#1f77b4;stroke:#1f77b4;\" x=\"210.221832\" xlink:href=\"#ma38e99b341\" y=\"27.574261\"/>\n     <use style=\"fill:#1f77b4;stroke:#1f77b4;\" x=\"362.411506\" xlink:href=\"#ma38e99b341\" y=\"27.574261\"/>\n    </g>\n   </g>\n   <g id=\"matplotlib.axis_1\">\n    <g id=\"xtick_1\">\n     <g id=\"line2d_1\">\n      <defs>\n       <path d=\"M 0 0 \nL 0 3.5 \n\" id=\"m3beae7bcb8\" style=\"stroke:#000000;stroke-width:0.8;\"/>\n      </defs>\n      <g>\n       <use style=\"stroke:#000000;stroke-width:0.8;\" x=\"58.032158\" xlink:href=\"#m3beae7bcb8\" y=\"235.130625\"/>\n      </g>\n     </g>\n     <g id=\"text_1\">\n      <!-- 0 -->\n      <g transform=\"translate(54.882939 249.62125)scale(0.1 -0.1)\">\n       <defs>\n        <path d=\"M 31.84375 73.828125 \nQ 45.015625 73.828125 52.09375 61.625 \nQ 57.71875 51.953125 57.71875 36.625 \nQ 57.71875 21.4375 52.09375 11.578125 \nQ 45.125 -0.484375 31.5 -0.484375 \nQ 17.921875 -0.484375 10.9375 11.578125 \nQ 5.328125 21.4375 5.328125 36.71875 \nQ 5.328125 58.015625 15.625 67.71875 \nQ 22.171875 73.828125 31.84375 73.828125 \nz\nM 31.5 66.65625 \nQ 23.6875 66.65625 19.1875 58.734375 \nQ 14.59375 50.734375 14.59375 36.625 \nQ 14.59375 22.75 19.09375 14.796875 \nQ 23.640625 6.984375 31.5 6.984375 \nQ 40.921875 6.984375 45.453125 18.015625 \nQ 48.4375 25.34375 48.4375 37.109375 \nQ 48.4375 50.875 43.84375 58.734375 \nQ 39.203125 66.65625 31.5 66.65625 \nz\n\" id=\"IPAexGothic-48\"/>\n       </defs>\n       <use xlink:href=\"#IPAexGothic-48\"/>\n      </g>\n     </g>\n    </g>\n    <g id=\"xtick_2\">\n     <g id=\"line2d_2\">\n      <g>\n       <use style=\"stroke:#000000;stroke-width:0.8;\" x=\"117.481249\" xlink:href=\"#m3beae7bcb8\" y=\"235.130625\"/>\n      </g>\n     </g>\n     <g id=\"text_2\">\n      <!-- 50 -->\n      <g transform=\"translate(111.182812 249.62125)scale(0.1 -0.1)\">\n       <defs>\n        <path d=\"M 18.40625 40.671875 \nQ 25.53125 46.296875 33.9375 46.296875 \nQ 44 46.296875 50.640625 39.5 \nQ 56.84375 33.015625 56.84375 23.390625 \nQ 56.84375 14.65625 51.515625 8.015625 \nQ 44.828125 -0.484375 31.734375 -0.484375 \nQ 14.984375 -0.484375 7.328125 12.25 \nL 14.65625 16.0625 \nQ 20.453125 6.78125 31.453125 6.78125 \nQ 38.53125 6.78125 43.265625 11.1875 \nQ 48.140625 15.828125 48.140625 23.484375 \nQ 48.140625 30.71875 43.84375 35.015625 \nQ 39.359375 39.5 32.125 39.5 \nQ 21.96875 39.5 16.75 31.6875 \nL 9.234375 32.671875 \nL 13.8125 72.40625 \nL 53.21875 72.40625 \nL 53.21875 64.890625 \nL 20.953125 64.890625 \nL 17.71875 40.671875 \nz\n\" id=\"IPAexGothic-53\"/>\n       </defs>\n       <use xlink:href=\"#IPAexGothic-53\"/>\n       <use x=\"62.988281\" xlink:href=\"#IPAexGothic-48\"/>\n      </g>\n     </g>\n    </g>\n    <g id=\"xtick_3\">\n     <g id=\"line2d_3\">\n      <g>\n       <use style=\"stroke:#000000;stroke-width:0.8;\" x=\"176.930341\" xlink:href=\"#m3beae7bcb8\" y=\"235.130625\"/>\n      </g>\n     </g>\n     <g id=\"text_3\">\n      <!-- 100 -->\n      <g transform=\"translate(167.482684 249.62125)scale(0.1 -0.1)\">\n       <defs>\n        <path d=\"M 38.484375 0.984375 \nL 29.6875 0.984375 \nL 29.6875 64.109375 \nQ 21.4375 61.28125 12.3125 59.328125 \nL 10.6875 66.109375 \nQ 23.734375 69.390625 32.90625 73.921875 \nL 38.484375 73.921875 \nz\n\" id=\"IPAexGothic-49\"/>\n       </defs>\n       <use xlink:href=\"#IPAexGothic-49\"/>\n       <use x=\"62.988281\" xlink:href=\"#IPAexGothic-48\"/>\n       <use x=\"125.976562\" xlink:href=\"#IPAexGothic-48\"/>\n      </g>\n     </g>\n    </g>\n    <g id=\"xtick_4\">\n     <g id=\"line2d_4\">\n      <g>\n       <use style=\"stroke:#000000;stroke-width:0.8;\" x=\"236.379432\" xlink:href=\"#m3beae7bcb8\" y=\"235.130625\"/>\n      </g>\n     </g>\n     <g id=\"text_4\">\n      <!-- 150 -->\n      <g transform=\"translate(226.931776 249.62125)scale(0.1 -0.1)\">\n       <use xlink:href=\"#IPAexGothic-49\"/>\n       <use x=\"62.988281\" xlink:href=\"#IPAexGothic-53\"/>\n       <use x=\"125.976562\" xlink:href=\"#IPAexGothic-48\"/>\n      </g>\n     </g>\n    </g>\n    <g id=\"xtick_5\">\n     <g id=\"line2d_5\">\n      <g>\n       <use style=\"stroke:#000000;stroke-width:0.8;\" x=\"295.828523\" xlink:href=\"#m3beae7bcb8\" y=\"235.130625\"/>\n      </g>\n     </g>\n     <g id=\"text_5\">\n      <!-- 200 -->\n      <g transform=\"translate(286.380867 249.62125)scale(0.1 -0.1)\">\n       <defs>\n        <path d=\"M 57.171875 0.984375 \nL 6.984375 0.984375 \nL 6.984375 9.28125 \nQ 12.890625 23.046875 29.59375 34.421875 \nL 32.375 36.28125 \nQ 40.921875 42.140625 43.609375 45.40625 \nQ 46.6875 49.265625 46.6875 53.8125 \nQ 46.6875 58.9375 43.0625 62.546875 \nQ 39.0625 66.546875 32.5625 66.546875 \nQ 19.53125 66.546875 15.484375 52 \nL 7.765625 54.78125 \nQ 13.328125 73.828125 33.0625 73.828125 \nQ 43.84375 73.828125 50.25 67.4375 \nQ 55.859375 61.671875 55.859375 53.515625 \nQ 55.859375 47.46875 52.25 42.53125 \nQ 48.921875 37.75 36.96875 30.28125 \nL 34.859375 29 \nQ 19.625 19.578125 15.28125 8.890625 \nL 57.171875 8.890625 \nz\n\" id=\"IPAexGothic-50\"/>\n       </defs>\n       <use xlink:href=\"#IPAexGothic-50\"/>\n       <use x=\"62.988281\" xlink:href=\"#IPAexGothic-48\"/>\n       <use x=\"125.976562\" xlink:href=\"#IPAexGothic-48\"/>\n      </g>\n     </g>\n    </g>\n    <g id=\"xtick_6\">\n     <g id=\"line2d_6\">\n      <g>\n       <use style=\"stroke:#000000;stroke-width:0.8;\" x=\"355.277615\" xlink:href=\"#m3beae7bcb8\" y=\"235.130625\"/>\n      </g>\n     </g>\n     <g id=\"text_6\">\n      <!-- 250 -->\n      <g transform=\"translate(345.829958 249.62125)scale(0.1 -0.1)\">\n       <use xlink:href=\"#IPAexGothic-50\"/>\n       <use x=\"62.988281\" xlink:href=\"#IPAexGothic-53\"/>\n       <use x=\"125.976562\" xlink:href=\"#IPAexGothic-48\"/>\n      </g>\n     </g>\n    </g>\n    <g id=\"text_7\">\n     <!-- 実行時のプロセス数 -->\n     <g transform=\"translate(165.229688 263.011875)scale(0.1 -0.1)\">\n      <defs>\n       <path d=\"M 55.078125 19.921875 \nQ 67 5.46875 94.09375 1.421875 \nL 89.65625 -5.859375 \nQ 61.765625 -0.640625 50.296875 16.40625 \nQ 42.671875 -2.25 11.375 -7.375 \nL 7.28125 -0.6875 \nQ 37.84375 2.34375 44.875 19.921875 \nL 6 19.921875 \nL 6 25.921875 \nL 46.09375 25.921875 \nL 46.09375 33.5 \nL 15.09375 33.5 \nL 15.09375 39.203125 \nL 46.09375 39.203125 \nL 46.09375 46.390625 \nL 19.78125 46.390625 \nL 19.78125 52.203125 \nL 46.09375 52.203125 \nL 46.09375 62.3125 \nL 53.171875 62.3125 \nL 53.171875 52.203125 \nL 80.078125 52.203125 \nL 80.078125 46.390625 \nL 53.171875 46.390625 \nL 53.171875 39.203125 \nL 85.0625 39.203125 \nL 85.0625 33.5 \nL 53.171875 33.5 \nL 53.171875 25.921875 \nL 94 25.921875 \nL 94 19.921875 \nz\nM 53.328125 71 \nL 90.28125 71 \nL 90.28125 51.078125 \nL 82.953125 51.078125 \nL 82.953125 64.796875 \nL 16.9375 64.796875 \nL 16.9375 51.078125 \nL 9.625 51.078125 \nL 9.625 71 \nL 45.90625 71 \nL 45.90625 83.015625 \nL 53.328125 83.015625 \nz\n\" id=\"IPAexGothic-23455\"/>\n       <path d=\"M 28.46875 43.015625 \nL 28.46875 -6.984375 \nL 21.140625 -6.984375 \nL 21.140625 33.890625 \nQ 15.09375 27.25 9.71875 22.90625 \nL 4.9375 27.984375 \nQ 20.21875 39.984375 30.765625 59.71875 \nL 37.453125 56.78125 \nQ 32.953125 49.03125 28.46875 43.015625 \nz\nM 77.734375 43.796875 \nL 77.734375 1.609375 \nQ 77.734375 -6.109375 68.265625 -6.109375 \nQ 61.328125 -6.109375 52.4375 -5.328125 \nL 51.375 2.484375 \nQ 58.984375 1.21875 66.546875 1.21875 \nQ 70.5625 1.21875 70.5625 4.984375 \nL 70.5625 43.796875 \nL 37.25 43.796875 \nL 37.25 50.390625 \nL 93.953125 50.390625 \nL 93.953125 43.796875 \nz\nM 6 57.671875 \nQ 19.234375 66.5 27.4375 79.296875 \nL 33.5 75.78125 \nQ 24.078125 61.671875 10.40625 52.296875 \nz\nM 42.328125 74.90625 \nL 88.421875 74.90625 \nL 88.421875 68.40625 \nL 42.328125 68.40625 \nz\n\" id=\"IPAexGothic-34892\"/>\n       <path d=\"M 36.375 73.875 \nL 36.375 8.796875 \nL 14.59375 8.796875 \nL 14.59375 0.875 \nL 8.109375 0.875 \nL 8.109375 73.875 \nz\nM 14.59375 67.671875 \nL 14.59375 45.015625 \nL 29.78125 45.015625 \nL 29.78125 67.671875 \nz\nM 14.59375 39.015625 \nL 14.59375 14.890625 \nL 29.78125 14.890625 \nL 29.78125 39.015625 \nz\nM 61.53125 68.3125 \nL 61.53125 83.015625 \nL 68.40625 83.015625 \nL 68.40625 68.3125 \nL 90.1875 68.3125 \nL 90.1875 62.203125 \nL 68.40625 62.203125 \nL 68.40625 49.90625 \nL 94.875 49.90625 \nL 94.875 43.796875 \nL 81.296875 43.796875 \nL 81.296875 31.984375 \nL 93.109375 31.984375 \nL 93.109375 25.78125 \nL 81.5 25.78125 \nL 81.5 0.484375 \nQ 81.5 -6.984375 73.296875 -6.984375 \nQ 68.65625 -6.984375 60.75 -6.109375 \nL 59.125 1.21875 \nQ 66.75 0 71.734375 0 \nQ 74.609375 0 74.609375 2.6875 \nL 74.609375 25.78125 \nL 40.328125 25.78125 \nL 40.328125 31.984375 \nL 74.421875 31.984375 \nL 74.421875 43.796875 \nL 39.65625 43.796875 \nL 39.65625 49.90625 \nL 61.53125 49.90625 \nL 61.53125 62.203125 \nL 42.4375 62.203125 \nL 42.4375 68.3125 \nz\nM 57.328125 6 \nQ 52.046875 14.84375 46.1875 20.703125 \nL 51.421875 24.609375 \nQ 58.109375 17.921875 62.890625 10.296875 \nz\n\" id=\"IPAexGothic-26178\"/>\n       <path d=\"M 48.734375 7.328125 \nQ 82.421875 11.96875 82.421875 37.890625 \nQ 82.421875 53.953125 68.953125 61.328125 \nQ 63.140625 64.3125 55.421875 64.984375 \nQ 53.03125 39.453125 44.53125 21.875 \nQ 36.28125 4.78125 26.90625 4.78125 \nQ 21.625 4.78125 16.9375 10.40625 \nQ 9.515625 19.4375 9.515625 31.296875 \nQ 9.515625 47.265625 21.828125 59.28125 \nQ 34.125 71.296875 53.609375 71.296875 \nQ 67.28125 71.296875 77 64.40625 \nQ 90.828125 54.78125 90.828125 37.890625 \nQ 90.828125 6.84375 53.609375 0.09375 \nz\nM 47.703125 64.796875 \nQ 37.15625 63.1875 29.546875 56.890625 \nQ 17.140625 46.578125 17.140625 31.109375 \nQ 17.140625 21.34375 22.40625 15.28125 \nQ 24.703125 12.703125 26.859375 12.703125 \nQ 31.59375 12.703125 37.75 25.390625 \nQ 45.453125 41.21875 47.703125 64.796875 \nz\n\" id=\"IPAexGothic-12398\"/>\n       <path d=\"M 75.390625 66.796875 \nL 80.078125 62.5 \nQ 76.3125 37.15625 63.765625 21.578125 \nQ 51.46875 6.453125 29.5 -1.8125 \nL 23.78125 5.171875 \nQ 63.578125 17.390625 71.09375 59.421875 \nL 15.09375 58.40625 \nL 15.09375 66.015625 \nz\nM 87.453125 86.078125 \nQ 92.28125 86.078125 95.609375 82.421875 \nQ 98.484375 79.296875 98.484375 75.09375 \nQ 98.484375 70.21875 94.828125 66.890625 \nQ 91.65625 64.015625 87.453125 64.015625 \nQ 82.5625 64.015625 79.25 67.671875 \nQ 76.375 70.84375 76.375 75.09375 \nQ 76.375 79.9375 80.03125 83.25 \nQ 83.25 86.078125 87.453125 86.078125 \nz\nM 87.453125 81.6875 \nQ 84.515625 81.6875 82.46875 79.5 \nQ 80.765625 77.59375 80.765625 75.09375 \nQ 80.765625 72.125 82.953125 70.125 \nQ 84.90625 68.40625 87.453125 68.40625 \nQ 90.375 68.40625 92.390625 70.609375 \nQ 94.09375 72.515625 94.09375 75.09375 \nQ 94.09375 77.984375 91.890625 79.984375 \nQ 89.984375 81.6875 87.453125 81.6875 \nz\n\" id=\"IPAexGothic-12503\"/>\n       <path d=\"M 17.921875 66.703125 \nL 82.03125 66.703125 \nL 82.03125 2.6875 \nL 73.828125 2.6875 \nL 73.828125 8.890625 \nL 26.125 8.890625 \nL 26.125 2.6875 \nL 17.921875 2.6875 \nz\nM 26.125 59.078125 \nL 26.125 16.609375 \nL 73.828125 16.609375 \nL 73.828125 59.078125 \nz\n\" id=\"IPAexGothic-12525\"/>\n       <path d=\"M 32.171875 76.21875 \nL 40.375 76.21875 \nL 40.375 53.078125 \nL 82.671875 58.296875 \nL 87.59375 53.8125 \nQ 75.59375 36.140625 62.59375 24.3125 \nL 55.765625 29.296875 \nQ 67.140625 38.421875 75.6875 50.484375 \nL 40.375 45.796875 \nL 40.375 15.28125 \nQ 40.375 11.46875 42.78125 10.453125 \nQ 45.65625 9.125 56.5 9.125 \nQ 69.046875 9.125 84.765625 10.890625 \nL 85.0625 2.6875 \nQ 71.296875 1.609375 60.0625 1.609375 \nQ 41.84375 1.609375 36.859375 4 \nQ 32.171875 6.296875 32.171875 13.484375 \nL 32.171875 44.671875 \nL 9.96875 41.796875 \nL 9.1875 49.21875 \nL 32.171875 52.09375 \nz\n\" id=\"IPAexGothic-12475\"/>\n       <path d=\"M 68.109375 70.015625 \nL 73.6875 64.796875 \nQ 67.625 48 56.984375 33.59375 \nQ 72.796875 22.40625 88.421875 7.078125 \nL 81.78125 0.296875 \nQ 66.5 17 52.390625 27.78125 \nQ 37.0625 9.328125 16.3125 -0.484375 \nL 10.203125 6.296875 \nQ 48.875 22.703125 64.015625 62.5 \nL 19.390625 61.921875 \nL 19.1875 69.578125 \nz\n\" id=\"IPAexGothic-12473\"/>\n       <path d=\"M 44.484375 24.265625 \nQ 42.828125 15.71875 37.890625 8.34375 \nQ 41.015625 6.890625 48.296875 3.171875 \nL 43.890625 -2.9375 \nQ 39.703125 0 33.5 3.265625 \nQ 24.515625 -4.546875 10.984375 -7.8125 \nL 6.59375 -1.953125 \nQ 19.734375 0.296875 27.296875 6.34375 \nQ 19.09375 10.15625 11.46875 12.75 \nQ 15.234375 18.3125 17.921875 23.484375 \nL 18.3125 24.265625 \nL 5.609375 24.265625 \nL 5.609375 30.078125 \nL 21 30.078125 \nQ 21.96875 32.28125 24.515625 38.671875 \nL 26.421875 38.28125 \nL 26.421875 52.6875 \nQ 19.53125 42.78125 8.59375 35.984375 \nL 4.296875 41.609375 \nQ 15.921875 47.078125 23.875 56.890625 \nL 5.90625 56.890625 \nL 5.90625 62.59375 \nL 26.421875 62.59375 \nL 26.421875 83.015625 \nL 33.015625 83.015625 \nL 33.015625 62.59375 \nL 51.515625 62.59375 \nL 51.515625 56.890625 \nL 33.015625 56.890625 \nL 33.015625 54.890625 \nQ 41.546875 51.421875 49.609375 46.296875 \nL 46.1875 40.375 \nQ 39.890625 45.65625 33.015625 49.359375 \nL 33.015625 37.0625 \nL 30.71875 37.0625 \nQ 30.125 35.75 29.25 33.453125 \nQ 28.21875 30.859375 27.875 30.078125 \nL 52.78125 30.078125 \nL 52.78125 24.265625 \nz\nM 37.796875 24.265625 \nL 25.203125 24.265625 \nQ 23.09375 19.828125 20.515625 15.578125 \nQ 24.359375 14.203125 31.984375 10.984375 \nQ 36.140625 16.359375 37.796875 24.265625 \nz\nM 68.171875 18.171875 \nQ 61.765625 27.828125 58.40625 41.21875 \nQ 55.859375 35.640625 53.5625 31.5 \nL 48.484375 37.59375 \nQ 57.421875 53.8125 61.1875 82.671875 \nL 68.171875 81.25 \nQ 66.9375 72.90625 65.578125 65.578125 \nL 93.890625 65.578125 \nL 93.890625 58.984375 \nL 85.984375 58.984375 \nQ 84.328125 35.546875 76.078125 18.609375 \nQ 84.671875 7.859375 96 1.171875 \nL 90.96875 -5.90625 \nQ 81.0625 1.65625 72.359375 12.3125 \nQ 64.265625 0.53125 52.203125 -7.234375 \nL 47.359375 -1.21875 \nQ 60.75 6.34375 68.171875 18.171875 \nz\nM 71.6875 24.90625 \nQ 77.15625 37.3125 79.046875 58.984375 \nL 64.0625 58.984375 \nQ 63.140625 54.984375 62.0625 51.375 \nQ 62.203125 50.78125 62.359375 49.90625 \nQ 65.234375 35.25 71.6875 24.90625 \nz\nM 15.671875 64.3125 \nQ 13.71875 71 9.96875 77.09375 \nL 16.453125 79.59375 \nQ 19.484375 74.8125 22.46875 66.703125 \nz\nM 36.1875 66.703125 \nQ 39.84375 73.25 42 80.171875 \nL 48.875 78.078125 \nQ 46.34375 71.6875 41.796875 64.5 \nz\n\" id=\"IPAexGothic-25968\"/>\n      </defs>\n      <use xlink:href=\"#IPAexGothic-23455\"/>\n      <use x=\"100\" xlink:href=\"#IPAexGothic-34892\"/>\n      <use x=\"200\" xlink:href=\"#IPAexGothic-26178\"/>\n      <use x=\"300\" xlink:href=\"#IPAexGothic-12398\"/>\n      <use x=\"400\" xlink:href=\"#IPAexGothic-12503\"/>\n      <use x=\"500\" xlink:href=\"#IPAexGothic-12525\"/>\n      <use x=\"600\" xlink:href=\"#IPAexGothic-12475\"/>\n      <use x=\"700\" xlink:href=\"#IPAexGothic-12473\"/>\n      <use x=\"800\" xlink:href=\"#IPAexGothic-25968\"/>\n     </g>\n    </g>\n   </g>\n   <g id=\"matplotlib.axis_2\">\n    <g id=\"ytick_1\">\n     <g id=\"line2d_7\">\n      <defs>\n       <path d=\"M 0 0 \nL -3.5 0 \n\" id=\"m1d7b5273cb\" style=\"stroke:#000000;stroke-width:0.8;\"/>\n      </defs>\n      <g>\n       <use style=\"stroke:#000000;stroke-width:0.8;\" x=\"42.829688\" xlink:href=\"#m1d7b5273cb\" y=\"199.472056\"/>\n      </g>\n     </g>\n     <g id=\"text_8\">\n      <!-- 2.0 -->\n      <g transform=\"translate(20.590625 203.217368)scale(0.1 -0.1)\">\n       <defs>\n        <path d=\"M 18.5 0.984375 \nL 7.71875 0.984375 \nL 7.71875 11.765625 \nL 18.5 11.765625 \nz\n\" id=\"IPAexGothic-46\"/>\n       </defs>\n       <use xlink:href=\"#IPAexGothic-50\"/>\n       <use x=\"62.988281\" xlink:href=\"#IPAexGothic-46\"/>\n       <use x=\"89.404297\" xlink:href=\"#IPAexGothic-48\"/>\n      </g>\n     </g>\n    </g>\n    <g id=\"ytick_2\">\n     <g id=\"line2d_8\">\n      <g>\n       <use style=\"stroke:#000000;stroke-width:0.8;\" x=\"42.829688\" xlink:href=\"#m1d7b5273cb\" y=\"155.080175\"/>\n      </g>\n     </g>\n     <g id=\"text_9\">\n      <!-- 2.5 -->\n      <g transform=\"translate(20.590625 158.825487)scale(0.1 -0.1)\">\n       <use xlink:href=\"#IPAexGothic-50\"/>\n       <use x=\"62.988281\" xlink:href=\"#IPAexGothic-46\"/>\n       <use x=\"89.404297\" xlink:href=\"#IPAexGothic-53\"/>\n      </g>\n     </g>\n    </g>\n    <g id=\"ytick_3\">\n     <g id=\"line2d_9\">\n      <g>\n       <use style=\"stroke:#000000;stroke-width:0.8;\" x=\"42.829688\" xlink:href=\"#m1d7b5273cb\" y=\"110.688293\"/>\n      </g>\n     </g>\n     <g id=\"text_10\">\n      <!-- 3.0 -->\n      <g transform=\"translate(20.590625 114.433606)scale(0.1 -0.1)\">\n       <defs>\n        <path d=\"M 37.203125 37.796875 \nQ 54.78125 34.625 54.78125 19.96875 \nQ 54.78125 11.1875 48.875 5.5625 \nQ 42.328125 -0.484375 30.375 -0.484375 \nQ 12.453125 -0.484375 4.5 13.765625 \nL 11.8125 17.671875 \nQ 17.328125 6.890625 30.28125 6.890625 \nQ 37.890625 6.890625 42.09375 10.796875 \nQ 46.09375 14.5 46.09375 20.171875 \nQ 46.09375 26.859375 40.09375 30.90625 \nQ 34.625 34.578125 25.6875 34.578125 \nL 21.296875 34.578125 \nL 21.296875 41.703125 \nL 25.875 41.703125 \nQ 34.859375 41.703125 39.59375 45.125 \nQ 44.671875 48.734375 44.671875 54.828125 \nQ 44.671875 61.46875 38.96875 64.65625 \nQ 35.296875 66.84375 30.171875 66.84375 \nQ 19.34375 66.84375 14.109375 55.90625 \nL 6.78125 59.421875 \nQ 14.015625 73.828125 30.28125 73.828125 \nQ 40.578125 73.828125 46.96875 68.65625 \nQ 53.375 63.578125 53.375 55.21875 \nQ 53.375 47.3125 47.171875 42.28125 \nQ 43.171875 39.0625 37.203125 38.1875 \nz\n\" id=\"IPAexGothic-51\"/>\n       </defs>\n       <use xlink:href=\"#IPAexGothic-51\"/>\n       <use x=\"62.988281\" xlink:href=\"#IPAexGothic-46\"/>\n       <use x=\"89.404297\" xlink:href=\"#IPAexGothic-48\"/>\n      </g>\n     </g>\n    </g>\n    <g id=\"ytick_4\">\n     <g id=\"line2d_10\">\n      <g>\n       <use style=\"stroke:#000000;stroke-width:0.8;\" x=\"42.829688\" xlink:href=\"#m1d7b5273cb\" y=\"66.296412\"/>\n      </g>\n     </g>\n     <g id=\"text_11\">\n      <!-- 3.5 -->\n      <g transform=\"translate(20.590625 70.041724)scale(0.1 -0.1)\">\n       <use xlink:href=\"#IPAexGothic-51\"/>\n       <use x=\"62.988281\" xlink:href=\"#IPAexGothic-46\"/>\n       <use x=\"89.404297\" xlink:href=\"#IPAexGothic-53\"/>\n      </g>\n     </g>\n    </g>\n    <g id=\"ytick_5\">\n     <g id=\"line2d_11\">\n      <g>\n       <use style=\"stroke:#000000;stroke-width:0.8;\" x=\"42.829688\" xlink:href=\"#m1d7b5273cb\" y=\"21.90453\"/>\n      </g>\n     </g>\n     <g id=\"text_12\">\n      <!-- 4.0 -->\n      <g transform=\"translate(20.590625 25.649843)scale(0.1 -0.1)\">\n       <defs>\n        <path d=\"M 59.578125 18.109375 \nL 47.796875 18.109375 \nL 47.796875 0.984375 \nL 39.796875 0.984375 \nL 39.796875 18.109375 \nL 3.078125 18.109375 \nL 3.078125 26.125 \nL 38.375 73.09375 \nL 47.796875 73.09375 \nL 47.796875 25.53125 \nL 59.578125 25.53125 \nz\nM 40.28125 64.203125 \nL 39.984375 64.203125 \nQ 35.59375 57.125 31.296875 51.3125 \nL 11.859375 25.53125 \nL 39.796875 25.53125 \nL 39.796875 49.125 \nQ 39.796875 54.390625 40.28125 64.203125 \nz\n\" id=\"IPAexGothic-52\"/>\n       </defs>\n       <use xlink:href=\"#IPAexGothic-52\"/>\n       <use x=\"62.988281\" xlink:href=\"#IPAexGothic-46\"/>\n       <use x=\"89.404297\" xlink:href=\"#IPAexGothic-48\"/>\n      </g>\n     </g>\n    </g>\n    <g id=\"text_13\">\n     <!-- 関数のコール回数 -->\n     <g transform=\"translate(14.690625 166.410625)rotate(-90)scale(0.1 -0.1)\">\n      <defs>\n       <path d=\"M 45.609375 79.109375 \nL 45.609375 51.375 \nL 15.875 51.375 \nL 15.875 -7.03125 \nL 8.890625 -7.03125 \nL 8.890625 79.109375 \nz\nM 15.875 73.578125 \nL 15.875 67.671875 \nL 39.203125 67.671875 \nL 39.203125 73.578125 \nz\nM 15.875 62.796875 \nL 15.875 56.6875 \nL 39.203125 56.6875 \nL 39.203125 62.796875 \nz\nM 90.96875 79.109375 \nL 90.96875 0.6875 \nQ 90.96875 -6.390625 82.765625 -6.390625 \nQ 77.4375 -6.390625 73 -5.71875 \nL 71.78125 1.515625 \nQ 75.640625 0.484375 80.5625 0.484375 \nQ 83.890625 0.484375 83.890625 3.8125 \nL 83.890625 51.375 \nL 53.46875 51.375 \nL 53.46875 79.109375 \nz\nM 59.859375 73.578125 \nL 59.859375 67.671875 \nL 83.890625 67.671875 \nL 83.890625 73.578125 \nz\nM 59.859375 62.796875 \nL 59.859375 56.6875 \nL 83.890625 56.6875 \nL 83.890625 62.796875 \nz\nM 37.890625 38.71875 \nQ 36.375 42.390625 33.59375 46.484375 \nL 39.984375 48.78125 \nQ 42.328125 44.78125 44.671875 38.71875 \nL 55.078125 38.71875 \nQ 58.0625 44.484375 59.46875 49.171875 \nL 66.5 47.21875 \nQ 63.8125 41.703125 61.765625 38.71875 \nL 74.46875 38.71875 \nL 74.46875 33.015625 \nL 52.984375 33.015625 \nL 52.984375 26.125 \nL 77 26.125 \nL 77 20.3125 \nL 52.59375 20.3125 \nQ 52.546875 19.734375 52.09375 17.828125 \nQ 62.75 13.484375 73.96875 6.390625 \nL 69.1875 0.53125 \nQ 60.75 6.890625 51.265625 11.921875 \nQ 51.21875 11.96875 50.640625 12.3125 \nQ 50.390625 12.453125 50.296875 12.5 \nQ 45.015625 1.5625 29.296875 -4 \nL 24.8125 1.90625 \nQ 43.265625 6.390625 45.796875 20.3125 \nL 22.90625 20.3125 \nL 22.90625 26.125 \nL 46.296875 26.125 \nL 46.296875 33.015625 \nL 25.390625 33.015625 \nL 25.390625 38.71875 \nz\n\" id=\"IPAexGothic-38306\"/>\n       <path d=\"M 17.71875 65.828125 \nL 80.71875 65.828125 \nL 80.71875 2.390625 \nL 72.703125 2.390625 \nL 72.703125 9.28125 \nL 16.609375 9.28125 \nL 16.609375 17 \nL 72.703125 17 \nL 72.703125 58.203125 \nL 17.71875 58.203125 \nz\n\" id=\"IPAexGothic-12467\"/>\n       <path d=\"M 9.1875 42 \nL 90.765625 42 \nL 90.765625 33.984375 \nL 9.1875 33.984375 \nz\n\" id=\"IPAexGothic-12540\"/>\n       <path d=\"M 5.515625 5.171875 \nQ 20.515625 15.53125 24.125 31.59375 \nQ 26.3125 41.40625 26.3125 68.703125 \nL 34.421875 68.703125 \nL 34.421875 64.890625 \nL 34.421875 64.3125 \nQ 34.421875 35.296875 30.21875 23.296875 \nQ 25.296875 9.1875 11.625 -0.59375 \nz\nM 48.828125 72.90625 \nL 57.03125 72.90625 \nL 57.03125 12.015625 \nQ 76.171875 23.25 88.625 42.71875 \nL 93.75 35.59375 \nQ 79.296875 15.09375 54.9375 0.984375 \nL 48.828125 5.609375 \nz\n\" id=\"IPAexGothic-12523\"/>\n       <path d=\"M 70.609375 56.984375 \nL 70.609375 18.40625 \nL 29.296875 18.40625 \nL 29.296875 56.984375 \nz\nM 36.375 50.78125 \nL 36.375 24.609375 \nL 63.53125 24.609375 \nL 63.53125 50.78125 \nz\nM 89.40625 76.421875 \nL 89.40625 -7.125 \nL 81.984375 -7.125 \nL 81.984375 -1.609375 \nL 17.921875 -1.609375 \nL 17.921875 -7.125 \nL 10.5 -7.125 \nL 10.5 76.421875 \nz\nM 17.921875 69.921875 \nL 17.921875 4.890625 \nL 81.984375 4.890625 \nL 81.984375 69.921875 \nz\n\" id=\"IPAexGothic-22238\"/>\n      </defs>\n      <use xlink:href=\"#IPAexGothic-38306\"/>\n      <use x=\"100\" xlink:href=\"#IPAexGothic-25968\"/>\n      <use x=\"200\" xlink:href=\"#IPAexGothic-12398\"/>\n      <use x=\"300\" xlink:href=\"#IPAexGothic-12467\"/>\n      <use x=\"400\" xlink:href=\"#IPAexGothic-12540\"/>\n      <use x=\"500\" xlink:href=\"#IPAexGothic-12523\"/>\n      <use x=\"600\" xlink:href=\"#IPAexGothic-22238\"/>\n      <use x=\"700\" xlink:href=\"#IPAexGothic-25968\"/>\n     </g>\n    </g>\n    <g id=\"text_14\">\n     <!-- 1e6 -->\n     <g transform=\"translate(42.829688 14.690625)scale(0.1 -0.1)\">\n      <defs>\n       <path d=\"M 13.484375 24.90625 \nQ 13.921875 16.265625 18.890625 11.28125 \nQ 23.96875 6.203125 31.203125 6.203125 \nQ 40.71875 6.203125 46.296875 15.09375 \nL 51.90625 11.375 \nQ 44.828125 -0.484375 30.171875 -0.484375 \nQ 19.09375 -0.484375 11.96875 6.59375 \nQ 4.78125 13.8125 4.78125 25.640625 \nQ 4.78125 38.1875 12.3125 45.703125 \nQ 19 52.390625 29 52.390625 \nQ 38.421875 52.390625 44.78125 46.1875 \nQ 51.90625 38.96875 51.90625 26.90625 \nL 51.90625 24.90625 \nz\nM 43.0625 31.203125 \nQ 42.328125 37.984375 38.28125 41.890625 \nQ 34.28125 45.90625 28.8125 45.90625 \nQ 22.46875 45.90625 17.96875 40.484375 \nQ 14.890625 36.8125 13.96875 31.203125 \nz\n\" id=\"IPAexGothic-101\"/>\n       <path d=\"M 16.5 36.375 \nQ 23.578125 46.578125 34.90625 46.578125 \nQ 45.40625 46.578125 51.8125 39.265625 \nQ 57.421875 32.90625 57.421875 23.78125 \nQ 57.421875 13.8125 51.125 6.78125 \nQ 44.578125 -0.484375 34.03125 -0.484375 \nQ 21.484375 -0.484375 14.40625 9.078125 \nQ 7.515625 18.40625 7.515625 34.8125 \nQ 7.515625 53.515625 15.828125 64.203125 \nQ 23.34375 73.828125 35.5 73.828125 \nQ 49.859375 73.828125 56.390625 62.890625 \nL 49.21875 58.984375 \nQ 45.21875 66.65625 35.9375 66.65625 \nQ 17.484375 66.65625 16.109375 36.375 \nz\nM 33.453125 39.796875 \nQ 26.3125 39.796875 21.625 34.46875 \nQ 17.4375 29.6875 17.4375 24.078125 \nQ 17.4375 18.0625 21.140625 13.1875 \nQ 26.125 6.6875 33.734375 6.6875 \nQ 41.703125 6.6875 45.953125 13.1875 \nQ 48.828125 17.625 48.828125 23.484375 \nQ 48.828125 30.375 45.015625 34.8125 \nQ 40.625 39.796875 33.453125 39.796875 \nz\n\" id=\"IPAexGothic-54\"/>\n      </defs>\n      <use xlink:href=\"#IPAexGothic-49\"/>\n      <use x=\"62.988281\" xlink:href=\"#IPAexGothic-101\"/>\n      <use x=\"119.873047\" xlink:href=\"#IPAexGothic-54\"/>\n     </g>\n    </g>\n   </g>\n   <g id=\"line2d_12\">\n    <path clip-path=\"url(#p33b1f33c81)\" d=\"M 58.047869 225.246989 \nL 58.061447 224.964362 \nL 58.220394 221.655711 \nL 58.395251 218.015862 \nL 58.495949 215.919729 \nL 58.647529 212.764429 \nL 59.196984 201.326941 \nL 59.545423 194.073808 \nL 59.691567 191.031661 \nL 59.701566 190.823518 \nL 59.808027 188.607409 \nL 59.887081 186.961817 \nL 60.4346 175.564622 \nL 61.170708 160.241743 \nL 61.225217 159.107081 \nL 61.491993 153.553868 \nL 61.673975 149.765712 \nL 63.88646 103.71045 \nL 64.174655 97.71138 \nL 65.152899 77.348164 \nL 65.499847 70.126076 \nL 65.897401 61.850573 \nL 66.171281 56.149449 \nL 66.215911 55.220447 \nL 66.59076 47.417563 \nL 67.009257 38.706082 \nL 67.312207 32.399858 \n\" style=\"fill:none;stroke:#ff0000;stroke-linecap:square;stroke-width:1.5;\"/>\n   </g>\n   <g id=\"line2d_13\">\n    <path clip-path=\"url(#p33b1f33c81)\" d=\"M 67.646833 27.574261 \nL 362.355873 27.574261 \nL 362.355873 27.574261 \n\" style=\"fill:none;stroke:#ff0000;stroke-linecap:square;stroke-width:1.5;\"/>\n   </g>\n   <g id=\"patch_3\">\n    <path d=\"M 42.829688 235.130625 \nL 42.829688 17.690625 \n\" style=\"fill:none;stroke:#000000;stroke-linecap:square;stroke-linejoin:miter;stroke-width:0.8;\"/>\n   </g>\n   <g id=\"patch_4\">\n    <path d=\"M 377.629688 235.130625 \nL 377.629688 17.690625 \n\" style=\"fill:none;stroke:#000000;stroke-linecap:square;stroke-linejoin:miter;stroke-width:0.8;\"/>\n   </g>\n   <g id=\"patch_5\">\n    <path d=\"M 42.829688 235.130625 \nL 377.629688 235.130625 \n\" style=\"fill:none;stroke:#000000;stroke-linecap:square;stroke-linejoin:miter;stroke-width:0.8;\"/>\n   </g>\n   <g id=\"patch_6\">\n    <path d=\"M 42.829688 17.690625 \nL 377.629688 17.690625 \n\" style=\"fill:none;stroke:#000000;stroke-linecap:square;stroke-linejoin:miter;stroke-width:0.8;\"/>\n   </g>\n  </g>\n </g>\n <defs>\n  <clipPath id=\"p33b1f33c81\">\n   <rect height=\"217.44\" width=\"334.8\" x=\"42.829688\" y=\"17.690625\"/>\n  </clipPath>\n </defs>\n</svg>\n",
      "image/png": "[encoded data removed]"
     },
     "metadata": {
      "needs_background": "light"
     }
    }
   ],
   "source": [
    "model_branch = ModelBranch(x, y, \"CG\", \"ICNVRT\")\n",
    "\n",
    "model_branch.calc_lr()\n",
    "\n",
    "model_branch.calc_mape_score()\n",
    "\n",
    "print(model_branch.mape_score)\n",
    "\n",
    "model_branch.plot_graph()"
   ]
  },
  {
   "cell_type": "code",
   "execution_count": 10,
   "metadata": {},
   "outputs": [],
   "source": [
    "# ipynb形式のライブラリのインポート\n",
    "%run ./lib.ipynb"
   ]
  },
  {
   "cell_type": "code",
   "execution_count": 11,
   "metadata": {},
   "outputs": [],
   "source": [
    "# ~~~_excludeBTSP, ~~~_onlyBTSP はそれぞれのベンチマークで取得したプロセス数\n",
    "processes_excludeBTSP = [1, 2, 4, 8, 16, 32, 64, 128, 256]\n",
    "processes_onlyBTSP = [1, 4, 9, 16, 25, 36, 49, 64, 81, 100, 121, 169, 196, 225]"
   ]
  },
  {
   "cell_type": "code",
   "execution_count": 12,
   "metadata": {},
   "outputs": [],
   "source": [
    "# 引数に横軸：プロセス数orベンチマーククラス, 縦軸：関数名となっているデータフレームを取る\n",
    "# 返値として\n",
    "# rowData:プロセス数のリスト もしくは プロセス数のリスト (引数に由来)\n",
    "# 各種関数名：実行回数のリスト\n",
    "# 以上のような関係の辞書を返す\n",
    "\n",
    "def return_dict_Data(DataFrame):\n",
    "    columns = DataFrame.columns.to_numpy()\n",
    "    index = DataFrame.index.to_numpy()\n",
    "    # 返値となる辞書return_dictに引数のデータフレームの列名(プロセス数orベンチマーククラス)を格納\n",
    "    return_dict = {\"rowData\":columns}\n",
    "    for index_name in index:\n",
    "        return_dict[index_name] = DataFrame.T[index_name].to_numpy()\n",
    "    \n",
    "    return return_dict\n"
   ]
  },
  {
   "cell_type": "code",
   "execution_count": 13,
   "metadata": {},
   "outputs": [],
   "source": [
    "### 引数にx軸となる値のリスト, y軸となる値のリスト, 関数名の文字列の三つをとる\n",
    "### 返り値は次のようなリスト\n",
    "### [<関数名の文字列>, <線形モデルのMAPE値>, <対数モデルのMAPE値>, <反比例モデルのMAPE値>]\n",
    "def return_Mape_row_list(x :list, y :list, function_name :str):\n",
    "\n",
    "    # 変数：model_lin\n",
    "    # 線形モデル\n",
    "    model_lin = ModelLin(x, y)\n",
    "    model_lin.calc_lr()\n",
    "    model_lin.calc_mape_score()\n",
    "\n",
    "    # 変数：model_log\n",
    "    # 対数モデル\n",
    "    model_log = ModelLog10(x, y)\n",
    "    model_log.calc_lr()\n",
    "    model_log.calc_mape_score()\n",
    "\n",
    "    # 変数：model_ip\n",
    "    # 反比例モデル\n",
    "    model_ip = ModelIP(x, y)\n",
    "    model_ip.calc_lr()\n",
    "    model_ip.calc_mape_score()\n",
    "\n",
    "    # 変数：model_branch\n",
    "    # 特異点付き条件分岐モデル\n",
    "    model_branch = ModelBranch(x, y)\n",
    "    model_branch.calc_lr()\n",
    "    model_branch.calc_mape_score()\n",
    "\n",
    "    # 変数：return_list\n",
    "    # 返り値となるリスト\n",
    "    return_list = [function_name, model_lin.mape_score, model_log.mape_score, model_ip.mape_score, model_branch.mape_score]\n",
    "    return(return_list)"
   ]
  },
  {
   "cell_type": "code",
   "execution_count": 14,
   "metadata": {},
   "outputs": [],
   "source": [
    "### 引数に「return_dict_DataFrame()」の返り値をとる\n",
    "### 返り値は行・列がモデル名・関数名で要素がMAPE値となっているDataFrame\n",
    "def return_MapeTable_per_benchmark(dict_data :dict):\n",
    "\n",
    "    # 変数：_names\n",
    "    # 引数の辞書のプロセス数もしくはベンチマーククラスの文字列のリスト\n",
    "    _names = dict_data['rowData']\n",
    "    # 変数：function_names\n",
    "    # 引数の辞書の関数名の文字列のリスト\n",
    "    function_names = list(dict_data.keys())\n",
    "    function_names.remove('rowData')\n",
    "\n",
    "    # リスト変数：before_DataFrame_list\n",
    "    # 最終的にDataFrameとする元となるリスト\n",
    "    before_DataFrame_list = []\n",
    "    collumn_names = [\"function name\", \"Linear model\", \"Log10 model\", \"Branch model\", \"Inverse model\"]\n",
    "    for function_name in function_names:\n",
    "        return_MapeTable_per_benchmark\n",
    "        if(does_include_nan(dict_data[function_name])):\n",
    "            continue\n",
    "        before_DataFrame_list.append(return_Mape_row_list(_names, dict_data[function_name], function_name))\n",
    "    \n",
    "    # 変数：return_df\n",
    "    # 返り値となるリスト\n",
    "    return_df = pd.DataFrame(before_DataFrame_list)\n",
    "    return_df.columns = collumn_names\n",
    "    return_df = return_df.set_index(\"function name\")\n",
    "\n",
    "    return(return_df)\n"
   ]
  },
  {
   "cell_type": "code",
   "execution_count": 15,
   "metadata": {},
   "outputs": [],
   "source": [
    "### 構造体的に利用可能なクラス MapeData\n",
    "### 各ベンチマークの各モデルごとに作成される。\n",
    "### 要素として、割合, 最大値, 最小値 がある。\n",
    "class MapeData:\n",
    "    def __init__(self):\n",
    "        self.ratio = 0\n",
    "        self.max = np.nan\n",
    "        self.min = np.nan\n",
    "        self.appearance = 0\n",
    "\n",
    "    def printData(self):\n",
    "        print(f\"{self.ratio}({self.min}, {self.max})\")\n",
    "\n",
    "    def return_Data(self):\n",
    "        max_min = \"\"\n",
    "        if(self.min is np.nan):\n",
    "            max_min = \"(NoData)\"\n",
    "        else:\n",
    "            max_min = f\"({self.min}, {self.max})\"\n",
    "        return(f\"{self.ratio}%{max_min}\")\n",
    "\n",
    "### 引数に「return_MapeTable_per_benchmark()」の返り値, ベンチマーク名をとる\n",
    "### 返り値として次のようなリストを返す\n",
    "### [<線形モデルのMAPEに関する奴>, <対数モデルのMAPEに関する奴>, <反比例モデルのMAPEに関する奴>, <ベンチマーク名>]\n",
    "\n",
    "def return_MapeTable_row(MapeDataframe_detail, benchmark_name:str):\n",
    "    \n",
    "    # 引数として渡されたデータフレームの行列名をindex, columnsに格納\n",
    "    columns = MapeDataframe_detail.columns.to_numpy()\n",
    "    index = MapeDataframe_detail.index.to_numpy()\n",
    "\n",
    "    # この関数で返すリストの要素の準備\n",
    "    MapeLin = MapeData()\n",
    "    MapeLog = MapeData()\n",
    "    MapeIP = MapeData()\n",
    "    MapeBr = MapeData()\n",
    "    return_list = [MapeLin, MapeLog, MapeIP, MapeBr, benchmark_name ]\n",
    "\n",
    "    # 返り値のリストの各要素の値を更新\n",
    "    for function_name in index:\n",
    "        MapeData_per_function = MapeDataframe_detail.loc[function_name].to_list()\n",
    "        min_mape = min(MapeData_per_function)\n",
    "        min_mape_index = MapeData_per_function.index(min_mape)\n",
    "        rounded_min_mape = int(min_mape * 10) / 10\n",
    "        return_list[min_mape_index].appearance += 1\n",
    "        if(return_list[min_mape_index].max is np.nan):\n",
    "            return_list[min_mape_index].max = rounded_min_mape\n",
    "            return_list[min_mape_index].min = rounded_min_mape\n",
    "        if(return_list[min_mape_index].min > min_mape):\n",
    "            return_list[min_mape_index].min = rounded_min_mape\n",
    "        elif(return_list[min_mape_index].max < min_mape):\n",
    "            return_list[min_mape_index].max = rounded_min_mape\n",
    "    sum_num = 0\n",
    "    # 集計データから割合を算出\n",
    "    for i in range(return_list.index(benchmark_name)):\n",
    "        sum_num += return_list[i].appearance\n",
    "    for i in range(return_list.index(benchmark_name)):\n",
    "        return_list[i].ratio = int(100 * return_list[i].appearance/sum_num)\n",
    "    # 割合の合計が100になるように調整\n",
    "    exclude_index0_ratios = 0\n",
    "    for i in range(return_list.index(benchmark_name)):\n",
    "        if i == 0:\n",
    "            continue\n",
    "        exclude_index0_ratios += return_list[i].ratio\n",
    "    return_list[0].ratio = 100 - exclude_index0_ratios\n",
    "\n",
    "    return(return_list)\n",
    "\n",
    "def save_MapeTable(MapeTable):\n",
    "    tmp_table = MapeTable.copy()\n",
    "    columns = MapeTable.columns.to_numpy()\n",
    "    index = MapeTable.index.to_numpy()\n",
    "    for i in range(len(columns)):\n",
    "        for j in range(len(index)):\n",
    "            tmp_table.iat[j, i] = tmp_table.iat[j, i].return_Data()\n",
    "    tmp_table.to_csv(\"./tmp_GenerateResources/MapeTable.csv\")\n",
    "    print(tmp_table)\n",
    "\n"
   ]
  },
  {
   "cell_type": "code",
   "execution_count": 16,
   "metadata": {},
   "outputs": [
    {
     "output_type": "stream",
     "name": "stdout",
     "text": [
      "                                                       線形モデル  \\\nbenchmark name                                                 \nbt              <__main__.MapeData object at 0x7fe8ad43fd90>   \ncg              <__main__.MapeData object at 0x7fe8ad3f1460>   \nep              <__main__.MapeData object at 0x7fe8ad3f1c70>   \nft              <__main__.MapeData object at 0x7fe8ad3f1df0>   \nis              <__main__.MapeData object at 0x7fe8ad3f1e20>   \nlu              <__main__.MapeData object at 0x7fe8ad3f1ac0>   \nmg              <__main__.MapeData object at 0x7fe8ad3ff580>   \nsp              <__main__.MapeData object at 0x7fe8ad3ff220>   \n\n                                                       対数モデル  \\\nbenchmark name                                                 \nbt              <__main__.MapeData object at 0x7fe8ad3f1820>   \ncg              <__main__.MapeData object at 0x7fe8ad3f1550>   \nep              <__main__.MapeData object at 0x7fe8ad3f1910>   \nft              <__main__.MapeData object at 0x7fe8ad3f1700>   \nis              <__main__.MapeData object at 0x7fe8ad3f1eb0>   \nlu              <__main__.MapeData object at 0x7fe8ad3f1dc0>   \nmg              <__main__.MapeData object at 0x7fe8ad3ffca0>   \nsp              <__main__.MapeData object at 0x7fe8ad3ff730>   \n\n                                                      反比例モデル  \\\nbenchmark name                                                 \nbt              <__main__.MapeData object at 0x7fe8ad3f15b0>   \ncg              <__main__.MapeData object at 0x7fe8ad3f1340>   \nep              <__main__.MapeData object at 0x7fe8ad3f1fd0>   \nft              <__main__.MapeData object at 0x7fe8ad3f1520>   \nis              <__main__.MapeData object at 0x7fe8ad3f1b20>   \nlu              <__main__.MapeData object at 0x7fe8ad3ff670>   \nmg              <__main__.MapeData object at 0x7fe8ad3ff250>   \nsp              <__main__.MapeData object at 0x7fe8ad3ff3d0>   \n\n                                                       分岐モデル  \nbenchmark name                                                \nbt              <__main__.MapeData object at 0x7fe8ad3f17f0>  \ncg              <__main__.MapeData object at 0x7fe8ad3f1be0>  \nep              <__main__.MapeData object at 0x7fe8ad3f1a00>  \nft              <__main__.MapeData object at 0x7fe8ad3f1880>  \nis              <__main__.MapeData object at 0x7fe8ad3f19a0>  \nlu              <__main__.MapeData object at 0x7fe8ad3ff4c0>  \nmg              <__main__.MapeData object at 0x7fe8ad3ff040>  \nsp              <__main__.MapeData object at 0x7fe8ad3ff190>  \n                         線形モデル            対数モデル         反比例モデル          分岐モデル\nbenchmark name                                                               \nbt               78%(0.0, 0.0)    20%(0.0, 1.5)   2%(0.0, 0.0)     0%(NoData)\ncg               74%(0.0, 0.0)  13%(14.7, 14.7)     0%(NoData)  13%(0.0, 0.0)\nep              100%(0.0, 0.0)       0%(NoData)     0%(NoData)     0%(NoData)\nft               86%(0.0, 0.0)       0%(NoData)  11%(0.0, 0.0)   3%(0.0, 0.0)\nis               95%(0.0, 0.0)       0%(NoData)   5%(0.0, 0.0)     0%(NoData)\nlu               77%(0.0, 0.0)   18%(0.0, 17.8)   5%(0.0, 0.0)     0%(NoData)\nmg              96%(0.0, 14.7)     4%(6.7, 6.7)     0%(NoData)     0%(NoData)\nsp               74%(0.0, 0.0)    24%(0.0, 9.1)   2%(0.0, 0.0)     0%(NoData)\n"
     ]
    }
   ],
   "source": [
    "# fixed_class_list : return_fixed_class()の実行時に\n",
    "\n",
    "fixed_class_list = [0] * len(benchmarks)\n",
    "for i in range(len(fixed_class_list)):\n",
    "    if ( benchmarks[i] == \"bt\" or benchmarks[i] == \"sp\" ):\n",
    "        processes = processes_onlyBTSP\n",
    "    else:\n",
    "        processes = processes_excludeBTSP\n",
    "    fixed_class_list[i] = return_fixed_class(BenchMark = benchmarks[i], Processes = processes, FixedBenchMarkClass = \"C\")\n",
    "\n",
    "fixed_class_DataFrame = [0] * len(fixed_class_list)\n",
    "for i in range(len(fixed_class_list)):\n",
    "    fixed_class_DataFrame[i] = pd.concat(fixed_class_list[i] , axis=1)\n",
    "\n",
    "# テーブルの元となるDataFrameを作成する\n",
    "MapeTable_source = [0] * len(fixed_class_list)\n",
    "for i in range(len(fixed_class_list)):\n",
    "    dict_data = return_dict_Data(fixed_class_DataFrame[i])\n",
    "    MapeTable_per_benchmark = return_MapeTable_per_benchmark(dict_data)\n",
    "    MapeTable_row = return_MapeTable_row(MapeTable_per_benchmark, benchmarks[i])\n",
    "    MapeTable_source[i] = MapeTable_row\n",
    "# テーブルの元となるDataFrameにつける列名のリスト\n",
    "MapeTable_source_column_name = [\"線形モデル\", \"対数モデル\", \"反比例モデル\", \"分岐モデル\", \"benchmark name\"]\n",
    "MapeTable = pd.DataFrame(MapeTable_source)\n",
    "MapeTable.columns = MapeTable_source_column_name\n",
    "MapeTable = MapeTable.set_index('benchmark name')\n",
    "print(MapeTable)\n",
    "# テーブルを欲しい形でCSVとして出力する\n",
    "save_MapeTable(MapeTable)\n"
   ]
  },
  {
   "cell_type": "code",
   "execution_count": 17,
   "metadata": {},
   "outputs": [
    {
     "output_type": "execute_result",
     "data": {
      "text/plain": [
       "4"
      ]
     },
     "metadata": {},
     "execution_count": 17
    }
   ],
   "source": [
    "li = [1,2,3,4]\n",
    "len(li)"
   ]
  },
  {
   "cell_type": "code",
   "execution_count": null,
   "metadata": {},
   "outputs": [],
   "source": []
  }
 ],
 "metadata": {
  "kernelspec": {
   "name": "python3",
   "display_name": "Python 3.8.5 64-bit",
   "metadata": {
    "interpreter": {
     "hash": "20ea737a692ad9331495a19ba7cc0bf6d1e8652119322fabf661903bfd24f6c5"
    }
   }
  },
  "language_info": {
   "codemirror_mode": {
    "name": "ipython",
    "version": 3
   },
   "file_extension": ".py",
   "mimetype": "text/x-python",
   "name": "python",
   "nbconvert_exporter": "python",
   "pygments_lexer": "ipython3",
   "version": "3.8.5-final"
  }
 },
 "nbformat": 4,
 "nbformat_minor": 4
}