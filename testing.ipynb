{
 "cells": [
  {
   "cell_type": "markdown",
   "metadata": {},
   "source": [
    "### 二次元リストから生成"
   ]
  },
  {
   "cell_type": "code",
   "execution_count": 1,
   "metadata": {},
   "outputs": [],
   "source": [
    "# ipynb形式のライブラリのインポート\n",
    "%run ./lib.ipynb\n",
    "\n",
    "import pandas as pd\n",
    "\n",
    "# 1 各行を一つのリストとして並べる\n",
    "\n",
    "list = [\n",
    "    [1, 100, 0.33, 'AAA', 'AAA100'], \n",
    "    [2, 200, 0.67, 'BBB', 'BBB200'], \n",
    "    [3, 300, 1, 'CCC', 'CCC300'], \n",
    "    [4, 400, 1.33, 'DDD', 'DDD400'], \n",
    "    [5, 500, 1.67, 'EEE', 'EEE500'], \n",
    "    [6, 600, 2, 'FFF', 'FFF600']\n",
    "]\n",
    "\n",
    "# 2 表に変換\n",
    "# pd.DataFrame(list) : pandasのDataFrameで表に変換\n",
    "df = pd.DataFrame(list)\n",
    "# 行名・列名は自動で割り振られた番号になっている\n",
    "\n",
    "# 3 行名の変更\n",
    "df.index = ['row0', 'row1', 'row2', 'row3', 'row4', 'row5']\n",
    "\n",
    "# 4 列名の変更\n",
    "df.columns = ['col0', 'col1', 'col2', 'col3', 'col4']\n",
    "\n",
    "df\n",
    "\n",
    "# 1 各行を一つのリストとして並べる\n",
    "list = [\n",
    "[1, 100, 0.33, 'AAA', 'AAA100'], \n",
    "[2, 200, 0.67, 'BBB', 'BBB200'], \n",
    "[3, 300, 1, 'CCC', 'CCC300'], \n",
    "[4, 400, 1.33, 'DDD', 'DDD400'], \n",
    "[5, 500, 1.67, 'EEE', 'EEE500'], \n",
    "[6, 600, 2, 'FFF', 'FFF600']]\n",
    "\n",
    "\n",
    "#2 表に変換(オプションで行列名を指定)\n",
    "ind = ['row0', 'row1', 'row2', 'row3', 'row4', 'row5']\n",
    "col = ['col0', 'col1', 'col2', 'col3', 'col4']\n",
    "\n",
    "df = pd.DataFrame(list, index=ind, columns=col)\n",
    "\n",
    "\n",
    "df\n",
    "\n",
    "# 1 各行を一つのリストにする\n",
    "list = [\n",
    "['row0', 1, 100, 0.33, 'AAA', 'AAA100'], \n",
    "['row1', 2, 200, 0.67, 'BBB', 'BBB200'], \n",
    "['row2', 3, 300, 1, 'CCC', 'CCC300'], \n",
    "['row3', 4, 400, 1.33, 'DDD', 'DDD400'], \n",
    "['row4', 5, 500, 1.67, 'EEE', 'EEE500'], \n",
    "['row5', 6, 600, 2, 'FFF', 'FFF600'], ]\n",
    "\n",
    "# 2 表に変換\n",
    "df = pd.DataFrame(list)\n",
    "\n",
    "# 3 列名を変更\n",
    "df.columns = ['', 'col0', 'col1', 'col2', 'col3', 'col4']\n",
    "\n",
    "# 4 行名となる列を指定\n",
    "df = df.set_index('')\n",
    "\n",
    "df\n",
    "\n",
    "# 1 各行ごとのリストを作成\n",
    "\n",
    "listA = [1, 100, 0.33, 'AAA', 'AAA100']\n",
    "listB = [2, 200, 0.67, 'BBB', 'BBB200']\n",
    "listC = [3, 300, 1, 'CCC', 'CCC300']\n",
    "listD = [4, 400, 1.33, 'DDD', 'DDD400']\n",
    "listE = [5, 500, 1.67, 'EEE', 'EEE500']\n",
    "listF = [6, 600, 2, 'FFF', 'FFF600']\n",
    "\n",
    "# 2 まとめて表に変換\n",
    "\n",
    "df = pd.DataFrame([listA, listB, listC, listD, listE, listF])\n",
    "\n",
    "# 3 行名の変更\n",
    "df.index = ['row0', 'row1', 'row2', 'row3', 'row4', 'row5']\n",
    "\n",
    "# 4 列名の変更\n",
    "df.columns = ['col0', 'col1', 'col2', 'col3', 'col4']\n",
    "\n",
    "del list"
   ]
  },
  {
   "cell_type": "code",
   "execution_count": 2,
   "metadata": {},
   "outputs": [
    {
     "data": {
      "image/png": "[encoded data removed]",
      "text/plain": [
       "<Figure size 432x288 with 1 Axes>"
      ]
     },
     "metadata": {
      "needs_background": "light"
     },
     "output_type": "display_data"
    }
   ],
   "source": [
    "cg_c_data = return_dict_summary_fixed()\n",
    "\n",
    "x = cg_c_data[\"processes\"]\n",
    "y = cg_c_data[\"ICNVRT\"]\n",
    "\n",
    "cg_icnvrt_lr = ModelLog10(x, y, \"CG\", \"ICNVRT\")\n",
    "\n",
    "cg_icnvrt_lr.calc_lr()\n",
    "\n",
    "cg_icnvrt_lr.plot_graph()"
   ]
  },
  {
   "cell_type": "code",
   "execution_count": 3,
   "metadata": {},
   "outputs": [
    {
     "data": {
      "text/plain": [
       "3"
      ]
     },
     "execution_count": 3,
     "metadata": {},
     "output_type": "execute_result"
    }
   ],
   "source": [
    "max_in_y = max(y)\n",
    "# 最大値の個数を取得\n",
    "y.tolist().count(max_in_y)\n",
    "# 最大値のインデックスで最小のもの\n",
    "y.tolist().index(max_in_y)"
   ]
  },
  {
   "cell_type": "code",
   "execution_count": 4,
   "metadata": {},
   "outputs": [],
   "source": [
    "class ModelBranch(ModelBase):\n",
    "    \n",
    "    def calc_lr(self):\n",
    "        # 後述する t を算出するための処理\n",
    "        max_in_train_y = max(self.train_y)\n",
    "        max_in_train_y_first_index = self.train_y.tolist().index(max_in_train_y)\n",
    "        # 分岐点のインデックスを t とする\n",
    "        t = max_in_train_y_first_index\n",
    "        self.t = t\n",
    "        if(self.t == 0 or self.t == len(self.train_y) - 1):\n",
    "            self.lr = LinearRegression()\n",
    "            self.lr.fit(self.train_x, self.train_y)\n",
    "        else:\n",
    "            x_train_1 = self.train_x[:t]\n",
    "            x_train_2 = self.train_x[t:]\n",
    "            y_train_1 = self.train_y[:t]\n",
    "            y_train_2 = self.train_y[t:]\n",
    "            self.lr1 = LinearRegression()\n",
    "            self.lr1.fit(x_train_1, y_train_1)\n",
    "            self.lr2 = LinearRegression()\n",
    "            self.lr2.fit(x_train_2, y_train_2)\n",
    "        \n",
    "    def calc_mape_score(self):\n",
    "        if(self.t == 0 or self.t == len(self.train_y) - 1):\n",
    "            test_y_predicted = self.lr.predict(self.test_x)\n",
    "            self.mape_score = float(mape_score(self.test_y, test_y_predicted))\n",
    "        else:\n",
    "            x_test = self.test_x\n",
    "            y_test = self.test_y\n",
    "            y_test_predicted = self.lr2.predict(x_test)\n",
    "            self.mape_score = float(mape_score(y_test, y_test_predicted))\n",
    "        \n",
    "    def plot_graph(self):\n",
    "        plt.figure()\n",
    "        plt.scatter(self.raw_x, self.raw_y)\n",
    "\n",
    "        if(self.t == 0 or self.t == len(self.train_y) - 1):\n",
    "            y_model_line = self.lr.predict(x_model_line)\n",
    "            plt.plot(self.x_model_line, y_model_line, color=\"red\")\n",
    "        else:\n",
    "            # 回帰曲線を二つのモデルで分割するための処理\n",
    "            x_model_line = self.x_model_line\n",
    "            t_in_model_line = 0\n",
    "            for i in range(len(x_model_line)):\n",
    "                if (self.train_x[self.t] < x_model_line[i]):\n",
    "                    t_in_model_line = i\n",
    "                    break\n",
    "                else:\n",
    "                    t_in_model_line = i\n",
    "            \n",
    "            x_model_line1 = self.x_model_line[:t_in_model_line]\n",
    "            x_model_line2 = self.x_model_line[t_in_model_line:]\n",
    "            y_model_line1 = self.lr1.predict(x_model_line1)\n",
    "            y_model_line2 = self.lr2.predict(x_model_line2)\n",
    "\n",
    "            plt.plot(x_model_line1, y_model_line1, color=\"red\")\n",
    "            plt.plot(x_model_line2, y_model_line2, color=\"red\")\n",
    "    #         plt.plot(self.test_x, self.test_y, color=\"yellow\")\n",
    "        plt.xlabel(self.xlabel)\n",
    "        plt.ylabel(self.ylabel)\n",
    "        "
   ]
  },
  {
   "cell_type": "code",
   "execution_count": 5,
   "metadata": {},
   "outputs": [
    {
     "name": "stdout",
     "output_type": "stream",
     "text": [
      "0.0\n"
     ]
    },
    {
     "data": {
      "image/png": "[encoded data removed]",
      "text/plain": [
       "<Figure size 432x288 with 1 Axes>"
      ]
     },
     "metadata": {
      "needs_background": "light"
     },
     "output_type": "display_data"
    }
   ],
   "source": [
    "model_branch = ModelBranch(x, y, \"CG\", \"ICNVRT\")\n",
    "\n",
    "model_branch.calc_lr()\n",
    "\n",
    "model_branch.calc_mape_score()\n",
    "\n",
    "print(model_branch.mape_score)\n",
    "\n",
    "model_branch.plot_graph()"
   ]
  },
  {
   "cell_type": "code",
   "execution_count": 6,
   "metadata": {},
   "outputs": [],
   "source": [
    "# ipynb形式のライブラリのインポート\n",
    "%run ./lib.ipynb"
   ]
  },
  {
   "cell_type": "code",
   "execution_count": 7,
   "metadata": {},
   "outputs": [
    {
     "name": "stdout",
     "output_type": "stream",
     "text": [
      "test_ratio=0.3\n",
      "train_list, test_list = ([1, 2, 4, 8, 16, 32, 64], [128, 256]) on processes_excludeBTSP\n",
      "train_list, test_list = ([1, 4, 9, 16, 25, 36, 49, 64, 81, 100], [121, 169, 196, 225]) on processes_onlyBTSP\n",
      "                  線形モデル            対数モデル         反比例モデル          分岐モデル\n",
      "ベンチマーク名                                                               \n",
      "bt        78%(0.0, 0.0)    20%(0.0, 1.5)   2%(0.0, 0.0)     0%(NoData)\n",
      "cg        74%(0.0, 0.0)  13%(14.7, 14.7)     0%(NoData)  13%(0.0, 0.0)\n",
      "ep       100%(0.0, 0.0)       0%(NoData)     0%(NoData)     0%(NoData)\n",
      "ft        86%(0.0, 0.0)       0%(NoData)  11%(0.0, 0.0)   3%(0.0, 0.0)\n",
      "is        95%(0.0, 0.0)       0%(NoData)   5%(0.0, 0.0)     0%(NoData)\n",
      "lu        77%(0.0, 0.0)   18%(0.0, 17.8)   5%(0.0, 0.0)     0%(NoData)\n",
      "mg       96%(0.0, 14.7)     4%(6.7, 6.7)     0%(NoData)     0%(NoData)\n",
      "sp        74%(0.0, 0.0)    24%(0.0, 9.1)   2%(0.0, 0.0)     0%(NoData)\n",
      "test_ratio=0.4\n",
      "train_list, test_list = ([1, 2, 4, 8, 16, 32], [64, 128, 256]) on processes_excludeBTSP\n",
      "train_list, test_list = ([1, 4, 9, 16, 25, 36, 49, 64, 81], [100, 121, 169, 196, 225]) on processes_onlyBTSP\n",
      "                  線形モデル            対数モデル        反比例モデル          分岐モデル\n",
      "ベンチマーク名                                                              \n",
      "bt        78%(0.0, 0.0)    22%(0.0, 1.5)    0%(NoData)     0%(NoData)\n",
      "cg        74%(0.0, 0.0)  13%(14.8, 14.8)    0%(NoData)  13%(0.0, 0.0)\n",
      "ep       100%(0.0, 0.0)       0%(NoData)    0%(NoData)     0%(NoData)\n",
      "ft        87%(0.0, 0.0)     3%(0.0, 0.0)  7%(0.0, 0.0)   3%(0.0, 0.0)\n",
      "is        95%(0.0, 0.0)     5%(0.0, 0.0)    0%(NoData)     0%(NoData)\n",
      "lu        77%(0.0, 0.0)   21%(0.0, 25.2)  2%(0.0, 0.0)     0%(NoData)\n",
      "mg        92%(0.0, 0.0)    8%(9.1, 14.5)    0%(NoData)     0%(NoData)\n",
      "sp        74%(0.0, 0.0)   24%(0.0, 11.2)  2%(0.0, 0.0)     0%(NoData)\n",
      "test_ratio=0.5\n",
      "train_list, test_list = ([1, 2, 4, 8, 16], [32, 64, 128, 256]) on processes_excludeBTSP\n",
      "train_list, test_list = ([1, 4, 9, 16, 25, 36, 49], [64, 81, 100, 121, 169, 196, 225]) on processes_onlyBTSP\n",
      "                  線形モデル            対数モデル         反比例モデル          分岐モデル\n",
      "ベンチマーク名                                                               \n",
      "bt        78%(0.0, 0.0)    22%(0.0, 1.6)     0%(NoData)     0%(NoData)\n",
      "cg       87%(0.0, 33.2)       0%(NoData)     0%(NoData)  13%(0.0, 0.0)\n",
      "ep       100%(0.0, 0.0)       0%(NoData)     0%(NoData)     0%(NoData)\n",
      "ft        86%(0.0, 0.0)       0%(NoData)  11%(0.0, 0.0)   3%(0.0, 0.0)\n",
      "is        95%(0.0, 0.0)     5%(0.0, 0.0)     0%(NoData)     0%(NoData)\n",
      "lu        78%(0.0, 0.0)  15%(16.8, 18.0)   7%(0.0, 0.0)     0%(NoData)\n",
      "mg        92%(0.0, 0.0)    8%(5.9, 12.6)     0%(NoData)     0%(NoData)\n",
      "sp        74%(0.0, 0.0)   24%(0.0, 12.8)   2%(0.0, 0.0)     0%(NoData)\n",
      "test_ratio=0.6\n",
      "train_list, test_list = ([1, 2, 4, 8], [16, 32, 64, 128, 256]) on processes_excludeBTSP\n",
      "train_list, test_list = ([1, 4, 9, 16, 25, 36], [49, 64, 81, 100, 121, 169, 196, 225]) on processes_onlyBTSP\n",
      "                  線形モデル            対数モデル          反比例モデル         分岐モデル\n",
      "ベンチマーク名                                                               \n",
      "bt        78%(0.0, 0.0)    22%(0.0, 1.6)      0%(NoData)    0%(NoData)\n",
      "cg        73%(0.0, 0.0)  27%(31.0, 97.7)      0%(NoData)    0%(NoData)\n",
      "ep       100%(0.0, 0.0)       0%(NoData)      0%(NoData)    0%(NoData)\n",
      "ft        86%(0.0, 0.0)       0%(NoData)   11%(0.0, 0.0)  3%(0.0, 0.0)\n",
      "is        95%(0.0, 0.0)     5%(0.0, 0.0)      0%(NoData)    0%(NoData)\n",
      "lu        77%(0.0, 0.0)    5%(0.0, 27.9)  18%(0.0, 39.8)    0%(NoData)\n",
      "mg       96%(0.0, 20.4)     4%(6.7, 6.7)      0%(NoData)    0%(NoData)\n",
      "sp        74%(0.0, 0.0)   24%(0.0, 15.1)    2%(0.0, 0.0)    0%(NoData)\n"
     ]
    }
   ],
   "source": [
    "test_ratios = [0.3, 0.4, 0.5, 0.6]\n",
    "for test_ratio in test_ratios:\n",
    "    print(f\"test_ratio={test_ratio}\")\n",
    "    print(f\"train_list, test_list = {split_by_ratio(processes_excludeBTSP, test_ratio)} on processes_excludeBTSP\")\n",
    "    print(f\"train_list, test_list = {split_by_ratio(processes_onlyBTSP, test_ratio)} on processes_onlyBTSP\")\n",
    "    fixed_class_list = [0] * len(benchmarks)\n",
    "    for i in range(len(fixed_class_list)):\n",
    "        if ( benchmarks[i] == \"bt\" or benchmarks[i] == \"sp\" ):\n",
    "            processes = processes_onlyBTSP\n",
    "        else:\n",
    "            processes = processes_excludeBTSP\n",
    "        fixed_class_list[i] = return_fixed_class(BenchMark = benchmarks[i], Processes = processes, FixedBenchMarkClass = \"C\")\n",
    "\n",
    "    fixed_class_DataFrame = [0] * len(fixed_class_list)\n",
    "    for i in range(len(fixed_class_list)):\n",
    "        fixed_class_DataFrame[i] = pd.concat(fixed_class_list[i] , axis=1)\n",
    "\n",
    "    # テーブルの元となるDataFrameを作成する\n",
    "    MapeTable_source = [0] * len(fixed_class_list)\n",
    "    for i in range(len(fixed_class_list)):\n",
    "        dict_data = return_dict_Data(fixed_class_DataFrame[i])\n",
    "        MapeTable_per_benchmark = return_MapeTable_per_benchmark(dict_data, test_ratio=test_ratio)\n",
    "        MapeTable_row = return_MapeTable_row(MapeTable_per_benchmark, benchmarks[i])\n",
    "        MapeTable_source[i] = MapeTable_row\n",
    "    # テーブルの元となるDataFrameにつける列名のリスト\n",
    "    MapeTable_source_column_name = [\"線形モデル\", \"対数モデル\", \"反比例モデル\", \"分岐モデル\", \"ベンチマーク名\"]\n",
    "    MapeTable = pd.DataFrame(MapeTable_source)\n",
    "    MapeTable.columns = MapeTable_source_column_name\n",
    "    MapeTable = MapeTable.set_index('ベンチマーク名')\n",
    "    # テーブルを欲しい形でCSVとして出力する\n",
    "    save_MapeTable(MapeTable, suffix=test_ratio)\n"
   ]
  },
  {
   "cell_type": "code",
   "execution_count": null,
   "metadata": {},
   "outputs": [],
   "source": []
  }
 ],
 "metadata": {
  "kernelspec": {
   "display_name": "Python 3",
   "language": "python",
   "name": "python3"
  },
  "language_info": {
   "codemirror_mode": {
    "name": "ipython",
    "version": 3
   },
   "file_extension": ".py",
   "mimetype": "text/x-python",
   "name": "python",
   "nbconvert_exporter": "python",
   "pygments_lexer": "ipython3",
   "version": "3.8.5"
  }
 },
 "nbformat": 4,
 "nbformat_minor": 4
}
