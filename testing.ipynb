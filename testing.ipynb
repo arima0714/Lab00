{
 "cells": [
  {
   "cell_type": "code",
   "execution_count": null,
   "metadata": {},
   "outputs": [],
   "source": [
    "# ipynb形式のライブラリのインポート\n",
    "%run ./lib/lib.ipynb\n",
    "\n",
    "# TODO:3次元プロットで2変数の線形飽和モデルをプロットする\n",
    "\n",
    "plotBase = list(range(20))\n",
    "plotX = returnListForBranchModel(inputList=plotBase, branchIndex=13, a=2, b=3)\n",
    "plotY = returnListForBranchModel(inputList=plotBase, branchIndex=16, a=4, b=5)\n",
    "plotX = np.array(plotX)\n",
    "plotY = np.array(plotY)\n",
    "plotZ = plotX+plotY\n",
    "\n",
    "# TODO:関数コール回数が同じだが、2変数が異なる変数かつそういったものが多数ある場合が分岐線\n",
    "\n",
    "print(f\"plotBase={plotBase}\\nplotX={plotX}\\nplotY={plotY}\")\n",
    "\n",
    "fig = plt.figure()\n",
    "ax = Axes3D(fig)\n",
    "\n",
    "ax.set_xlabel(\"X-axis\")\n",
    "ax.set_ylabel(\"Y-axis\")\n",
    "ax.set_zlabel(\"Z-axis\")\n",
    "\n",
    "plotZero = [0]*len(plotBase)\n",
    "ax.scatter(plotBase, plotZero, plotX)\n",
    "ax.scatter(plotZero, plotBase, plotY)\n",
    "\n",
    "dataset01 = pd.DataFrame({\"X\": plotBase, \"Y\": plotZero, \"Z\": plotX})\n",
    "dataset02 = pd.DataFrame({\"X\": plotZero, \"Y\": plotBase, \"Z\": plotY})"
   ]
  },
  {
   "cell_type": "markdown",
   "metadata": {},
   "source": [
    "# 説明変数が2つの分岐モデルを実装するにあたってのテストなど\n",
    "\n",
    "1. ~\\[X, Y, Z\\] == \\[0, Y, Z\\], \\[X, 0, Z\\] を満たすデータ群を抽出~\n",
    "2. 抽出した2つのデータ群から分岐点を抽出\n",
    "3. 抽出した分岐点を繋ぐ直線を定義\n",
    "4. データ群を定義した直線で2つに分割\n",
    "5. 分割された2平面ごとにモデルを構築"
   ]
  },
  {
   "cell_type": "code",
   "execution_count": null,
   "metadata": {},
   "outputs": [],
   "source": [
    "print(dataset01.tail())"
   ]
  },
  {
   "cell_type": "code",
   "execution_count": null,
   "metadata": {},
   "outputs": [],
   "source": [
    "print(dataset02.tail())"
   ]
  },
  {
   "cell_type": "code",
   "execution_count": 5,
   "metadata": {},
   "outputs": [
    {
     "name": "stdout",
     "output_type": "stream",
     "text": [
      "splittedListX=[[0, 1, 2, 3, 4], [1, 2, 3, 4, 5], [2, 3, 4, 5, 6], [3, 4, 5, 6, 7], [4, 5, 6, 7, 8], [5, 6, 7, 8, 9], [6, 7, 8, 9, 10], [7, 8, 9, 10, 11], [8, 9, 10, 11, 11], [9, 10, 11, 11, 11], [10, 11, 11, 11, 11], [11, 11, 11, 11, 11], [11, 11, 11, 11, 11], [11, 11, 11, 11, 11], [11, 11, 11, 11, 11], [11, 11, 11, 11, 11]]\n",
      "splittedListY=[[4, 7, 10, 13, 16], [7, 10, 13, 16, 19], [10, 13, 16, 19, 22], [13, 16, 19, 22, 25], [16, 19, 22, 25, 28], [19, 22, 25, 28, 31], [22, 25, 28, 31, 34], [25, 28, 31, 34, 37], [28, 31, 34, 37, 37], [31, 34, 37, 37, 37], [34, 37, 37, 37, 37], [37, 37, 37, 37, 37], [37, 37, 37, 37, 37], [37, 37, 37, 37, 37], [37, 37, 37, 37, 37], [37, 37, 37, 37, 37]]\n",
      "lr.coef_=[[3.]]\n",
      "lr.coef_=[[3.]]\n",
      "lr.coef_=[[3.]]\n",
      "lr.coef_=[[3.]]\n",
      "lr.coef_=[[3.]]\n",
      "lr.coef_=[[3.]]\n",
      "lr.coef_=[[3.]]\n",
      "lr.coef_=[[3.]]\n",
      "lr.coef_=[[3.]]\n",
      "lr.coef_=[[3.]]\n",
      "lr.coef_=[[3.]]\n",
      "lr.coef_=[[0.]]\n",
      "lr.coef_=[[0.]]\n",
      "lr.coef_=[[0.]]\n",
      "lr.coef_=[[0.]]\n",
      "lr.coef_=[[0.]]\n"
     ]
    },
    {
     "ename": "AssertionError",
     "evalue": "",
     "output_type": "error",
     "traceback": [
      "\u001b[0;31m--------------------------------------------------------\u001b[0m",
      "\u001b[0;31mAssertionError\u001b[0m         Traceback (most recent call last)",
      "\u001b[0;32m<ipython-input-5-0f352e4cf24c>\u001b[0m in \u001b[0;36m<module>\u001b[0;34m\u001b[0m\n\u001b[1;32m      2\u001b[0m \u001b[0mget_ipython\u001b[0m\u001b[0;34m(\u001b[0m\u001b[0;34m)\u001b[0m\u001b[0;34m.\u001b[0m\u001b[0mrun_line_magic\u001b[0m\u001b[0;34m(\u001b[0m\u001b[0;34m'run'\u001b[0m\u001b[0;34m,\u001b[0m \u001b[0;34m'./lib/lib.ipynb'\u001b[0m\u001b[0;34m)\u001b[0m\u001b[0;34m\u001b[0m\u001b[0;34m\u001b[0m\u001b[0m\n\u001b[1;32m      3\u001b[0m \u001b[0;34m\u001b[0m\u001b[0m\n\u001b[0;32m----> 4\u001b[0;31m \u001b[0mtest_returnBranchIndexOfList\u001b[0m\u001b[0;34m(\u001b[0m\u001b[0;34m)\u001b[0m\u001b[0;34m\u001b[0m\u001b[0;34m\u001b[0m\u001b[0m\n\u001b[0m",
      "\u001b[0;32m<ipython-input-5-de35c68ba6ae>\u001b[0m in \u001b[0;36mtest_returnBranchIndexOfList\u001b[0;34m()\u001b[0m\n\u001b[1;32m     63\u001b[0m         inputListX=dataListX, inputListY=dataListY)\n\u001b[1;32m     64\u001b[0m \u001b[0;31m#     print(dataList)\u001b[0m\u001b[0;34m\u001b[0m\u001b[0;34m\u001b[0m\u001b[0;34m\u001b[0m\u001b[0m\n\u001b[0;32m---> 65\u001b[0;31m     \u001b[0;32massert\u001b[0m \u001b[0mresult\u001b[0m \u001b[0;34m==\u001b[0m \u001b[0mbranchIndex\u001b[0m\u001b[0;34m\u001b[0m\u001b[0;34m\u001b[0m\u001b[0m\n\u001b[0m\u001b[1;32m     66\u001b[0m \u001b[0;34m\u001b[0m\u001b[0m\n\u001b[1;32m     67\u001b[0m     \u001b[0;31m# データ２：分岐点で異なる線形モデルに変化\u001b[0m\u001b[0;34m\u001b[0m\u001b[0;34m\u001b[0m\u001b[0;34m\u001b[0m\u001b[0m\n",
      "\u001b[0;31mAssertionError\u001b[0m: "
     ]
    }
   ],
   "source": [
    "# ipynb形式のライブラリのインポート\n",
    "%run ./lib/lib.ipynb\n",
    "\n",
    "test_returnBranchIndexOfList()"
   ]
  },
  {
   "cell_type": "code",
   "execution_count": null,
   "metadata": {},
   "outputs": [],
   "source": []
  }
 ],
 "metadata": {
  "kernelspec": {
   "display_name": "Python 3",
   "language": "python",
   "name": "python3"
  },
  "language_info": {
   "codemirror_mode": {
    "name": "ipython",
    "version": 3
   },
   "file_extension": ".py",
   "mimetype": "text/x-python",
   "name": "python",
   "nbconvert_exporter": "python",
   "pygments_lexer": "ipython3",
   "version": "3.9.6"
  }
 },
 "nbformat": 4,
 "nbformat_minor": 4
}
