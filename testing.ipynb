{
 "cells": [
  {
   "cell_type": "code",
   "execution_count": 1,
   "metadata": {},
   "outputs": [],
   "source": [
    "# ipynb形式のライブラリのインポート\n",
    "%run ./lib/lib.ipynb\n",
    "\n",
    "# 生データの入ったCSVファイルの保持されたディレクトリ名を格納している変数\n",
    "csvDirPath = \"./csv_files/\""
   ]
  },
  {
   "cell_type": "markdown",
   "metadata": {
    "tags": []
   },
   "source": [
    "## 予測をする"
   ]
  },
  {
   "cell_type": "code",
   "execution_count": 2,
   "metadata": {},
   "outputs": [
    {
     "name": "stdout",
     "output_type": "stream",
     "text": [
      "            functionName  functionCallNum benchmarkName benchmarkClass  \\\n",
      "0       .TAU_application              1.0            cg              S   \n",
      "1                     CG              1.0            cg              S   \n",
      "2         MPI_Finalize()              1.0            cg              S   \n",
      "3         INITIALIZE_MPI              1.0            cg              S   \n",
      "4             MPI_Init()              1.0            cg              S   \n",
      "..                   ...              ...           ...            ...   \n",
      "17          MPI_Reduce()              1.0            cg              F   \n",
      "18  SETUP_SUBMATRIX_INFO              1.0            cg              F   \n",
      "19       MPI_Comm_size()              1.0            cg              F   \n",
      "20       MPI_Comm_rank()              1.0            cg              F   \n",
      "21       SETUP_PROC_INFO              1.0            cg              F   \n",
      "\n",
      "    process        na  nonzer  niter  shift  \n",
      "0         1      1400       7     15     24  \n",
      "1         1      1400       7     15     24  \n",
      "2         1      1400       7     15     24  \n",
      "3         1      1400       7     15     24  \n",
      "4         1      1400       7     15     24  \n",
      "..      ...       ...     ...    ...    ...  \n",
      "17      256  54000000      26    100   1500  \n",
      "18      256  54000000      26    100   1500  \n",
      "19      256  54000000      26    100   1500  \n",
      "20      256  54000000      26    100   1500  \n",
      "21      256  54000000      26    100   1500  \n",
      "\n",
      "[1220 rows x 9 columns]\n",
      "['process', 'na', 'nonzer', 'niter', 'shift']\n"
     ]
    }
   ],
   "source": [
    "# 予測を行う。一つの関数・変数（コア数・各種ベンチマーク由来の初期化変数）\n",
    "\n",
    "benchmarkNames = [\"cg\"]\n",
    "classes = [\"S\", \"W\", \"A\", \"B\", \"C\", \"D\", \"E\", \"F\"]\n",
    "processes = [1, 2, 4, 8, 16, 32, 64, 128, 256]\n",
    "\n",
    "# データを取得\n",
    "rawDF = returnCollectedExistingData(\n",
    "    benchmarkNames=benchmarkNames,\n",
    "    classes=classes,\n",
    "    processes=processes,\n",
    "    csvDirPath=\"./csv_files/\",\n",
    ")\n",
    "rawDF = addInitDataToRawDF(rawDF)\n",
    "\n",
    "# データを表示\n",
    "print(rawDF)\n",
    "\n",
    "# TODO:予測を実施\n",
    "functionNames = sorted(list(set(rawDF[\"functionName\"])))\n",
    "for functionName in functionNames:\n",
    "    ##関数ごとにrawDFを抽出\n",
    "    DFExtractedByFunction = rawDF[rawDF[\"functionName\"]==functionName]\n",
    "    \n",
    "    ## TODO:returnDFtoMakeSummary()を実施, <目的変数(resVar)>[\"functionCallNum\"], <説明変数(expVar)>[<rawDFの列で\"functionName\", \"functionCallNum\", \"benchmarkName\", \"benchmarkClass\"を除いたもの>]\n",
    "    ### 目的変数のリストを作成\n",
    "    expVar = [\"functionCallNum\"]\n",
    "    ### 列名のリストをDFから取得\n",
    "    resVar = DFExtractedByFunction.columns.tolist()\n",
    "    ### 除外する列名を除く\n",
    "    for removeElement in [\"functionName\", \"functionCallNum\", \"benchmarkName\", \"benchmarkClass\"]:\n",
    "        resVar.remove(removeElement)\n",
    "print(resVar)\n",
    "# TODO:予測の統計的結果をグラフにプロットする"
   ]
  },
  {
   "cell_type": "code",
   "execution_count": null,
   "metadata": {},
   "outputs": [],
   "source": []
  }
 ],
 "metadata": {
  "kernelspec": {
   "display_name": "Python 3 (ipykernel)",
   "language": "python",
   "name": "python3"
  },
  "language_info": {
   "codemirror_mode": {
    "name": "ipython",
    "version": 3
   },
   "file_extension": ".py",
   "mimetype": "text/x-python",
   "name": "python",
   "nbconvert_exporter": "python",
   "pygments_lexer": "ipython3",
   "version": "3.9.6"
  }
 },
 "nbformat": 4,
 "nbformat_minor": 4
}
