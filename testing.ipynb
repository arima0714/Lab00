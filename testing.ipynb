{
 "cells": [
  {
   "cell_type": "code",
   "execution_count": null,
   "metadata": {},
   "outputs": [],
   "source": [
    "# ipynb形式のライブラリのインポート\n",
    "%run ./lib/lib.ipynb\n",
    "\n",
    "# TODO:3次元プロットで2変数の線形飽和モデルをプロットする\n",
    "\n",
    "plotBase = list(range(20))\n",
    "plotX = returnListForBranchModel(inputList=plotBase, branchIndex=13, a=2, b=3)\n",
    "plotY = returnListForBranchModel(inputList=plotBase, branchIndex=16, a=4, b=5)\n",
    "plotX = np.array(plotX)\n",
    "plotY = np.array(plotY)\n",
    "plotZ = plotX+plotY\n",
    "\n",
    "# TODO:関数コール回数が同じだが、2変数が異なる変数かつそういったものが多数ある場合が分岐線\n",
    "\n",
    "print(f\"plotBase={plotBase}\\nplotX={plotX}\\nplotY={plotY}\")\n",
    "\n",
    "fig = plt.figure()\n",
    "ax = Axes3D(fig)\n",
    "\n",
    "ax.set_xlabel(\"X-axis\")\n",
    "ax.set_ylabel(\"Y-axis\")\n",
    "ax.set_zlabel(\"Z-axis\")\n",
    "\n",
    "plotZero = [0]*len(plotBase)\n",
    "ax.scatter(plotBase, plotZero, plotX)\n",
    "ax.scatter(plotZero, plotBase, plotY)\n",
    "\n",
    "dataset01 = pd.DataFrame({\"X\": plotBase, \"Y\": plotZero, \"Z\": plotX})\n",
    "dataset02 = pd.DataFrame({\"X\": plotZero, \"Y\": plotBase, \"Z\": plotY})"
   ]
  },
  {
   "cell_type": "markdown",
   "metadata": {},
   "source": [
    "# 説明変数が2つの分岐モデルを実装するにあたってのテストなど\n",
    "\n",
    "1. ~\\[X, Y, Z\\] == \\[0, Y, Z\\], \\[X, 0, Z\\] を満たすデータ群を抽出~\n",
    "2. 抽出した2つのデータ群から分岐点を抽出\n",
    "3. 抽出した分岐点を繋ぐ直線を定義\n",
    "4. データ群を定義した直線で2つに分割\n",
    "5. 分割された2平面ごとにモデルを構築"
   ]
  },
  {
   "cell_type": "code",
   "execution_count": null,
   "metadata": {},
   "outputs": [],
   "source": [
    "print(dataset01.tail())"
   ]
  },
  {
   "cell_type": "code",
   "execution_count": null,
   "metadata": {},
   "outputs": [],
   "source": [
    "print(dataset02.tail())"
   ]
  },
  {
   "cell_type": "code",
   "execution_count": null,
   "metadata": {},
   "outputs": [],
   "source": [
    "# 分岐点を見つける関数\n",
    "# 引数は分岐点を探るためのリスト\n",
    "# 分岐点を発見出来たら、そのインデックス値を返す。失敗もしくは存在しなければ-1を返す。\n",
    "def returnBranchIndexOfList(inputList=[]):\n",
    "    \n",
    "    \n",
    "    # データを分割するための関数\n",
    "    def splitList(inputList, elementQuantity = 3):\n",
    "        returnList = []\n",
    "        n = math.ceil(len(inputList)/elementQuantity)\n",
    "        for i in range(int(n)):\n",
    "            splittedList = inputList[i*elementQuantity:(i+1)*elementQuantity]\n",
    "            if len(splittedList) < elementQuantity:\n",
    "                splittedList = inputList[-elementQuantity:]\n",
    "            returnList.append(splittedList)\n",
    "        return(returnList)\n",
    "    \n",
    "    splittedList = splitList(inputList=inputList)\n",
    "\n",
    "\n",
    "    if len(inputList) == 0:\n",
    "        warnings.warn(\"引数のリストの要素数が0です。\")\n",
    "        return -1\n",
    "\n",
    "\n",
    "def test_returnBranchIndexOfList():\n",
    "    \n",
    "\n",
    "    # データを用意\n",
    "    # データ１：分岐点以降はデータの変化なし\n",
    "    branchIndex = 11\n",
    "    dataBase1 = list(range(branchIndex))\n",
    "    dataBase2 = [branchIndex]*(21-11)\n",
    "    dataList1 = [3*x + 4 for x in dataBase1]\n",
    "    dataList2 = [3*x + 4 for x in dataBase2]\n",
    "    dataList = dataList1+dataList2\n",
    "#     print(dataList)\n",
    "#     assert returnBranchIndexOfList(inputList=[]) == branchIndex\n",
    "    \n",
    "    # データ２：分岐点で異なる線形モデルに変化\n",
    "    branchIndex = 10\n",
    "    dataBase1 = list(range(branchIndex))\n",
    "    dataBase2 = list(range(branchIndex, 20))\n",
    "    dataList1 = [x + 1 for x in dataBase1]\n",
    "    dataList2 = [0.5*x + 6 for x in dataBase2]\n",
    "    dataList = dataList1+dataList2\n",
    "#     print(dataList)\n",
    "#     assert returnBranchIndexOfList(inputList=[]) == branchIndex\n",
    "    \n",
    "    # データ３：分岐点無し\n",
    "    branchIndex = 22\n",
    "    dataBase1 = list(range(branchIndex))\n",
    "    dataList = [5*x + 6 for x in dataBase1]\n",
    "#     print(dataList)\n",
    "#     assert returnBranchIndexOfList(inputList=[]) == branchIndex\n",
    "\n",
    "\n",
    "test_returnBranchIndexOfList()"
   ]
  },
  {
   "cell_type": "code",
   "execution_count": null,
   "metadata": {},
   "outputs": [],
   "source": []
  }
 ],
 "metadata": {
  "kernelspec": {
   "display_name": "Python 3",
   "language": "python",
   "name": "python3"
  },
  "language_info": {
   "codemirror_mode": {
    "name": "ipython",
    "version": 3
   },
   "file_extension": ".py",
   "mimetype": "text/x-python",
   "name": "python",
   "nbconvert_exporter": "python",
   "pygments_lexer": "ipython3",
   "version": "3.9.6"
  }
 },
 "nbformat": 4,
 "nbformat_minor": 4
}
