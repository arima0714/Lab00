{
 "cells": [
  {
   "cell_type": "code",
   "execution_count": 1,
   "metadata": {},
   "outputs": [
    {
     "name": "stderr",
     "output_type": "stream",
     "text": [
      "DEBUG:__main__:hello\n"
     ]
    }
   ],
   "source": [
    "# ipynb形式のライブラリのインポート\n",
    "%run ./lib/lib.ipynb\n",
    "\n",
    "# 生データの入ったCSVファイルの保持されたディレクトリ名を格納している変数\n",
    "csvDirPath = \"./csv_files/\"\n",
    "benchmarkNames = [\"cg\", \"ep\", \"ft\", \"is\", \"lu\", \"mg\"]"
   ]
  },
  {
   "cell_type": "code",
   "execution_count": 2,
   "metadata": {},
   "outputs": [
    {
     "name": "stdout",
     "output_type": "stream",
     "text": [
      "\\begin{table}\n",
      "\\centering\n",
      "\\caption{ベンチマークプログラムCGにおける各モデルでのMAPE}\n",
      "\\label{2022年2月2日everyModelsMAPEtableInCG}\n",
      "\\begin{tabular}{lrrrrrrrrrl}\n",
      "\\toprule\n",
      "{} &         反比例 &       反比例＆対数 &      反比例＆線形 &           対数 &       対数＆反比例 &       対数＆線形 &          線形 &       線形＆反比例 &        線形＆対数 &   最適モデル \\\\\n",
      "関数名                  &             &              &             &              &              &             &             &              &              &         \\\\\n",
      "\\midrule\n",
      ".TAU\\_application     &    0.000000 &     0.000000 &    0.000000 &     0.000000 &     0.000000 &    0.000000 &    0.000000 &     0.000000 &     0.000000 &      線形 \\\\\n",
      "ALLOC\\_SPACE          &    0.000000 &     0.000000 &    0.000000 &     0.000000 &     0.000000 &    0.000000 &    0.000000 &     0.000000 &     0.000000 &      線形 \\\\\n",
      "CG                   &    0.000000 &     0.000000 &    0.000000 &     0.000000 &     0.000000 &    0.000000 &    0.000000 &     0.000000 &     0.000000 &      線形 \\\\\n",
      "CONJ\\_GRAD            &   13.876670 &    13.732936 &   14.498431 &    14.804389 &    14.717362 &   15.248570 &   13.161174 &    12.412559 &    12.755412 &  線形＆反比例 \\\\\n",
      "ICNVRT               &  662.481358 &  2504.274677 &  894.574028 &  2443.699386 &  3811.490854 &  815.789372 &  502.123230 &  6621.011052 &  2283.060136 &      線形 \\\\\n",
      "INITIALIZE\\_MPI       &    0.000000 &     0.000000 &    0.000000 &     0.000000 &     0.000000 &    0.000000 &    0.000000 &     0.000000 &     0.000000 &      線形 \\\\\n",
      "MAKEA                &    0.000000 &     0.000000 &    0.000000 &     0.000000 &     0.000000 &    0.000000 &    0.000000 &     0.000000 &     0.000000 &      線形 \\\\\n",
      "MPI\\_Barrier()        &    0.000000 &     0.000000 &    0.000000 &     0.000000 &     0.000000 &    0.000000 &    0.000000 &     0.000000 &     0.000000 &      線形 \\\\\n",
      "MPI\\_Bcast()          &    0.000000 &     0.000000 &    0.000000 &     0.000000 &     0.000000 &    0.000000 &    0.000000 &     0.000000 &     0.000000 &      線形 \\\\\n",
      "MPI\\_Comm\\_rank()      &    0.000000 &     0.000000 &    0.000000 &     0.000000 &     0.000000 &    0.000000 &    0.000000 &     0.000000 &     0.000000 &      線形 \\\\\n",
      "MPI\\_Comm\\_size()      &    0.000000 &     0.000000 &    0.000000 &     0.000000 &     0.000000 &    0.000000 &    0.000000 &     0.000000 &     0.000000 &      線形 \\\\\n",
      "MPI\\_Finalize()       &    0.000000 &     0.000000 &    0.000000 &     0.000000 &     0.000000 &    0.000000 &    0.000000 &     0.000000 &     0.000000 &      線形 \\\\\n",
      "MPI\\_Init()           &    0.000000 &     0.000000 &    0.000000 &     0.000000 &     0.000000 &    0.000000 &    0.000000 &     0.000000 &     0.000000 &      線形 \\\\\n",
      "MPI\\_Irecv()          &   38.629896 &    38.552817 &   39.029932 &    35.489902 &    35.487038 &   35.954193 &   34.989183 &    35.515528 &    35.660459 &      線形 \\\\\n",
      "MPI\\_Reduce()         &    0.000000 &     0.000000 &    0.000000 &     0.000000 &     0.000000 &    0.000000 &    0.000000 &     0.000000 &     0.000000 &      線形 \\\\\n",
      "MPI\\_Send()           &   38.629896 &    38.552817 &   39.029932 &    35.489902 &    35.487038 &   35.954193 &   34.989183 &    35.515528 &    35.660459 &      線形 \\\\\n",
      "MPI\\_Wait()           &   38.629896 &    38.552817 &   39.029932 &    35.489902 &    35.487038 &   35.954193 &   34.989183 &    35.515528 &    35.660459 &      線形 \\\\\n",
      "SETUP\\_PROC\\_INFO      &    0.000000 &     0.000000 &    0.000000 &     0.000000 &     0.000000 &    0.000000 &    0.000000 &     0.000000 &     0.000000 &      線形 \\\\\n",
      "SETUP\\_SUBMATRIX\\_INFO &    0.000000 &     0.000000 &    0.000000 &     0.000000 &     0.000000 &    0.000000 &    0.000000 &     0.000000 &     0.000000 &      線形 \\\\\n",
      "SPARSE               &    0.000000 &     0.000000 &    0.000000 &     0.000000 &     0.000000 &    0.000000 &    0.000000 &     0.000000 &     0.000000 &      線形 \\\\\n",
      "SPRNVC               &  336.648986 &  1321.895548 &  345.739861 &  1306.978016 &  1503.097645 &  338.951990 &  198.005854 &  2573.964383 &  1221.597908 &      線形 \\\\\n",
      "VECSET               &  336.648986 &  1321.895548 &  345.739861 &  1306.978016 &  1503.097645 &  338.951990 &  198.005854 &  2573.964383 &  1221.597908 &      線形 \\\\\n",
      "\\bottomrule\n",
      "\\end{tabular}\n",
      "\\end{table}\n",
      "\n"
     ]
    },
    {
     "name": "stderr",
     "output_type": "stream",
     "text": [
      "/tmp/ipykernel_153/2558574860.py:61: FutureWarning: In future versions `DataFrame.to_latex` is expected to utilise the base implementation of `Styler.to_latex` for formatting and rendering. The arguments signature may therefore change. It is recommended instead to use `DataFrame.style.to_latex` which also contains additional functionality.\n",
      "  df.to_latex(\n"
     ]
    }
   ],
   "source": [
    "benchmark_name = \"cg\"\n",
    "\n",
    "classes = [\"A\", \"B\", \"C\", \"D\", \"E\", \"F\"]\n",
    "processes = [2, 4, 8, 16, 32, 64, 128, 256]\n",
    "\n",
    "dict_column_names_JP = {\n",
    "    \"functionName\": \"関数名\",\n",
    "    \"modelLin\": \"線形\",\n",
    "    \"modelIp\": \"反比例\",\n",
    "    \"modelLog\": \"対数\",\n",
    "    \"modelLinAndIp\": \"線形＆反比例\",\n",
    "    \"modelLinAndLog\": \"線形＆対数\",\n",
    "    \"modelIpAndLin\": \"反比例＆線形\",\n",
    "    \"modelIpAndLog\": \"反比例＆対数\",\n",
    "    \"modelLogAndLin\": \"対数＆線形\",\n",
    "    \"modelLogAndIp\": \"対数＆反比例\",\n",
    "}\n",
    "\n",
    "model_names_list_JP = list(dict_column_names_JP.values())\n",
    "model_names_list_JP.remove(\"関数名\")\n",
    "\n",
    "model_names_list = list(dict_column_names_JP.keys())\n",
    "model_names_list.remove(\"functionName\")\n",
    "\n",
    "date = \"2022年2月2日\"\n",
    "\n",
    "# コア数と問題サイズの両方を振る\n",
    "\n",
    "rawDF = return_rawDF_with_init_param(\n",
    "    benchmark_name=benchmark_name,\n",
    "    classes=classes,\n",
    "    processes=processes,\n",
    "    csv_dir_path=\"./csv_files/\",\n",
    ")\n",
    "\n",
    "exp_var = rawDF.columns.tolist()\n",
    "for element_be_removed in [\n",
    "    \"functionName\",\n",
    "    \"functionCallNum\",\n",
    "    \"intBenchmarkClass\",\n",
    "    \"benchmarkName\",\n",
    "    \"benchmarkClass\",\n",
    "]:\n",
    "    exp_var.remove(element_be_removed)\n",
    "res_var = [\"functionCallNum\"]\n",
    "\n",
    "returned_MAPE_table = return_MAPE_Table_DF_from_rawDF(\n",
    "    rawDF=rawDF,\n",
    "    exp_var_list=exp_var,\n",
    "    res_var_list=res_var,\n",
    "    model_name_list=model_names_list,\n",
    ")\n",
    "df = returned_MAPE_table.rename(columns=dict_column_names_JP)\n",
    "df = df.set_index(\"関数名\")\n",
    "df = df.sort_index(axis=0)\n",
    "df = df.sort_index(axis=1)\n",
    "\n",
    "df = addLowestMAPEsModelNameColumn(df, version=2, model_name_list=model_names_list_JP)\n",
    "\n",
    "print(\n",
    "    df.to_latex(\n",
    "        caption=f\"ベンチマークプログラム{benchmark_name.upper()}における各モデルでのMAPE\",\n",
    "        label=f\"{date}everyModelsMAPEtableIn{benchmark_name.upper()}\",\n",
    "    )\n",
    ")"
   ]
  },
  {
   "cell_type": "code",
   "execution_count": null,
   "metadata": {},
   "outputs": [],
   "source": []
  }
 ],
 "metadata": {
  "kernelspec": {
   "display_name": "Python 3 (ipykernel)",
   "language": "python",
   "name": "python3"
  },
  "language_info": {
   "codemirror_mode": {
    "name": "ipython",
    "version": 3
   },
   "file_extension": ".py",
   "mimetype": "text/x-python",
   "name": "python",
   "nbconvert_exporter": "python",
   "pygments_lexer": "ipython3",
   "version": "3.10.0"
  }
 },
 "nbformat": 4,
 "nbformat_minor": 4
}
