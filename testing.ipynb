{
 "cells": [
  {
   "cell_type": "code",
   "execution_count": 1,
   "metadata": {},
   "outputs": [],
   "source": [
    "# ipynb形式のライブラリのインポート\n",
    "%run ./lib.ipynb"
   ]
  },
  {
   "cell_type": "markdown",
   "metadata": {},
   "source": [
    "# 修正したモデルから卒論時に集計したデータを作成する"
   ]
  },
  {
   "cell_type": "markdown",
   "metadata": {},
   "source": [
    "1. 表\n",
    "\n",
    "| ベンチマーク名 | 平均誤差率(%) | コスト比(%) |\n",
    "|---------|----------|---------|\n"
   ]
  },
  {
   "cell_type": "markdown",
   "metadata": {},
   "source": [
    "2. 表\n",
    "\n",
    "| ベンチマーク名 | 採用割合(最大MAPE(%), 最小MAPE(%)) |\n",
    "|---------|----------------------------|\n",
    "|         | モデル(1), モデル(2), ...        |\n"
   ]
  },
  {
   "cell_type": "code",
   "execution_count": 2,
   "metadata": {},
   "outputs": [
    {
     "data": {
      "text/plain": [
       "<Figure size 288x216 with 0 Axes>"
      ]
     },
     "execution_count": 2,
     "metadata": {},
     "output_type": "execute_result"
    },
    {
     "data": {
      "text/plain": [
       "Text(0.5, 0, '使用したプロファイル数')"
      ]
     },
     "execution_count": 2,
     "metadata": {},
     "output_type": "execute_result"
    },
    {
     "data": {
      "text/plain": [
       "Text(0, 0.5, '平均誤差率(%)')"
      ]
     },
     "execution_count": 2,
     "metadata": {},
     "output_type": "execute_result"
    },
    {
     "data": {
      "image/png": "[encoded data removed]",
      "text/plain": [
       "<Figure size 288x216 with 1 Axes>"
      ]
     },
     "metadata": {
      "needs_background": "light"
     },
     "output_type": "display_data"
    }
   ],
   "source": [
    "plt.figure(figsize=(4,3))\n",
    "plt.xlabel(\"使用したプロファイル数\")\n",
    "plt.ylabel(\"平均誤差率(%)\")"
   ]
  },
  {
   "cell_type": "code",
   "execution_count": 5,
   "metadata": {},
   "outputs": [
    {
     "data": {
      "text/html": [
       "<div>\n",
       "<style scoped>\n",
       "    .dataframe tbody tr th:only-of-type {\n",
       "        vertical-align: middle;\n",
       "    }\n",
       "\n",
       "    .dataframe tbody tr th {\n",
       "        vertical-align: top;\n",
       "    }\n",
       "\n",
       "    .dataframe thead th {\n",
       "        text-align: right;\n",
       "    }\n",
       "</style>\n",
       "<table border=\"1\" class=\"dataframe\">\n",
       "  <thead>\n",
       "    <tr style=\"text-align: right;\">\n",
       "      <th></th>\n",
       "      <th>benchmarkName</th>\n",
       "      <th>functionName</th>\n",
       "      <th>usedData</th>\n",
       "      <th>numOfData</th>\n",
       "      <th>fixed</th>\n",
       "      <th>numOfProcess</th>\n",
       "      <th>numOfProblemSize</th>\n",
       "      <th>targetNumOfFunctionCall</th>\n",
       "      <th>objectLinModel</th>\n",
       "      <th>relativeErrorOfLinModel</th>\n",
       "      <th>objectIpModel</th>\n",
       "      <th>relativeErrorOfIpModel</th>\n",
       "      <th>objectLogModel</th>\n",
       "      <th>relativeErrorOfLogModel</th>\n",
       "      <th>objectBranchModel</th>\n",
       "      <th>relativeErrorOfBranchModel</th>\n",
       "    </tr>\n",
       "  </thead>\n",
       "  <tbody>\n",
       "  </tbody>\n",
       "</table>\n",
       "</div>"
      ],
      "text/plain": [
       "Empty DataFrame\n",
       "Columns: [benchmarkName, functionName, usedData, numOfData, fixed, numOfProcess, numOfProblemSize, targetNumOfFunctionCall, objectLinModel, relativeErrorOfLinModel, objectIpModel, relativeErrorOfIpModel, objectLogModel, relativeErrorOfLogModel, objectBranchModel, relativeErrorOfBranchModel]\n",
       "Index: []"
      ]
     },
     "execution_count": 5,
     "metadata": {},
     "output_type": "execute_result"
    }
   ],
   "source": [
    "# 実験結果を集計するためのデータフレームのカラムの名称のリストを返す関数\n",
    "def return_numOfColumns():\n",
    "    returnList = []\n",
    "    # ベンチマーク名\n",
    "    returnList.append(\"benchmarkName\")\n",
    "    # 関数名\n",
    "    returnList.append(\"functionName\")\n",
    "    # 使用データ(数値化されたリスト)\n",
    "    returnList.append(\"usedData\")\n",
    "    # 使用データ数\n",
    "    returnList.append(\"numOfData\")\n",
    "    # 固定したもの(\"Process\" or \"Class\")\n",
    "    returnList.append(\"fixed\")\n",
    "    # 予測対象プロセス数\n",
    "    returnList.append(\"numOfProcess\")\n",
    "    # 予測対象問題サイズ\n",
    "    returnList.append(\"numOfProblemSize\")\n",
    "    # 予測対象関数コール回数\n",
    "    returnList.append(\"targetNumOfFunctionCall\")\n",
    "    # 線形モデルのオブジェクト\n",
    "    returnList.append(\"objectLinModel\")\n",
    "    # 線形モデルの相対誤差\n",
    "    returnList.append(\"relativeErrorOfLinModel\")\n",
    "    # 反比例モデルのオブジェクト\n",
    "    returnList.append(\"objectIpModel\")\n",
    "    # 反比例モデルの相対誤差\n",
    "    returnList.append(\"relativeErrorOfIpModel\")\n",
    "    # 対数モデルのオブジェクト\n",
    "    returnList.append(\"objectLogModel\")\n",
    "    # 対数モデルの相対誤差\n",
    "    returnList.append(\"relativeErrorOfLogModel\")\n",
    "    # 線形飽和モデルのオブジェクト\n",
    "    returnList.append(\"objectBranchModel\")\n",
    "    # 線形飽和モデルの相対誤差\n",
    "    returnList.append(\"relativeErrorOfBranchModel\")\n",
    "    \n",
    "    return(returnList)\n",
    "\n",
    "columnNames = return_numOfColumns()\n",
    "\n",
    "df_simple = pd.DataFrame(columns=columnNames)\n",
    "df_simple"
   ]
  },
  {
   "cell_type": "code",
   "execution_count": null,
   "metadata": {},
   "outputs": [],
   "source": []
  }
 ],
 "metadata": {
  "kernelspec": {
   "display_name": "Python 3",
   "language": "python",
   "name": "python3"
  },
  "language_info": {
   "codemirror_mode": {
    "name": "ipython",
    "version": 3
   },
   "file_extension": ".py",
   "mimetype": "text/x-python",
   "name": "python",
   "nbconvert_exporter": "python",
   "pygments_lexer": "ipython3",
   "version": "3.9.4"
  }
 },
 "nbformat": 4,
 "nbformat_minor": 4
}
