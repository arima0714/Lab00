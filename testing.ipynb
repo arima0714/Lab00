{
 "cells": [
  {
   "cell_type": "code",
   "execution_count": 1,
   "metadata": {},
   "outputs": [],
   "source": [
    "# ipynb形式のライブラリのインポート\n",
    "%run ./lib.ipynb"
   ]
  },
  {
   "cell_type": "code",
   "execution_count": 2,
   "metadata": {},
   "outputs": [
    {
     "name": "stdout",
     "output_type": "stream",
     "text": [
      "FixedClassFileName=MapeTableFixedClass_btB.csv\n",
      "FixedProcessFileName=MapeTableFixedProcess_bt256.csv\n",
      "FixedClassFileName=MapeTableFixedClass_cgB.csv\n",
      "FixedProcessFileName=MapeTableFixedProcess_cg256.csv\n",
      "FixedClassFileName=MapeTableFixedClass_epB.csv\n",
      "FixedProcessFileName=MapeTableFixedProcess_ep256.csv\n",
      "FixedClassFileName=MapeTableFixedClass_ftB.csv\n",
      "FixedProcessFileName=MapeTableFixedProcess_ft256.csv\n",
      "FixedClassFileName=MapeTableFixedClass_isB.csv\n",
      "FixedProcessFileName=MapeTableFixedProcess_is256.csv\n",
      "FixedClassFileName=MapeTableFixedClass_luB.csv\n",
      "FixedProcessFileName=MapeTableFixedProcess_lu256.csv\n",
      "FixedClassFileName=MapeTableFixedClass_mgB.csv\n",
      "FixedProcessFileName=MapeTableFixedProcess_mg256.csv\n",
      "FixedClassFileName=MapeTableFixedClass_spB.csv\n",
      "FixedProcessFileName=MapeTableFixedProcess_sp256.csv\n"
     ]
    }
   ],
   "source": [
    "import pandas\n",
    "FixClass=\"B\"\n",
    "FixProcess=256\n",
    "DirPath = \"./tmp_GenerateResources/\"\n",
    "for benchmark in benchmarks:\n",
    "    MapeTableFixedClass = return_MapeTableFixedClass(benchmark, FixClass=\"B\")\n",
    "    MapeTableFixedProcess = return_MapeTableFixedProcess(benchmark, FixProcess=256)\n",
    "    FixedClassFileName = f\"MapeTableFixedClass_{benchmark}{FixClass}.csv\"\n",
    "    FixedProcessFileName = f\"MapeTableFixedProcess_{benchmark}{FixProcess}.csv\"\n",
    "#     print(f\"FixedClassFileName={FixedClassFileName}, MapeTableFixedProcess={FixedProcessFileName}\")\n",
    "    if(type(MapeTableFixedClass) is pandas.core.frame.DataFrame):\n",
    "        print(f\"FixedClassFileName={FixedClassFileName}\")\n",
    "        MapeTableFixedClass.to_csv(f\"{DirPath}{FixedClassFileName}\")\n",
    "    if(type(MapeTableFixedProcess) is pandas.core.frame.DataFrame):\n",
    "        print(f\"FixedProcessFileName={FixedProcessFileName}\")\n",
    "        MapeTableFixedProcess.to_csv(f\"{DirPath}{FixedProcessFileName}\")"
   ]
  },
  {
   "cell_type": "code",
   "execution_count": null,
   "metadata": {},
   "outputs": [],
   "source": []
  }
 ],
 "metadata": {
  "kernelspec": {
   "display_name": "Python 3",
   "language": "python",
   "name": "python3"
  },
  "language_info": {
   "codemirror_mode": {
    "name": "ipython",
    "version": 3
   },
   "file_extension": ".py",
   "mimetype": "text/x-python",
   "name": "python",
   "nbconvert_exporter": "python",
   "pygments_lexer": "ipython3",
   "version": "3.9.1"
  }
 },
 "nbformat": 4,
 "nbformat_minor": 4
}
