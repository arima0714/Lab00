{
 "cells": [
  {
   "cell_type": "code",
   "execution_count": null,
   "metadata": {},
   "outputs": [],
   "source": [
    "# ipynb形式のライブラリのインポート\n",
    "%run ./lib/lib.ipynb\n",
    "\n",
    "#TODO:3次元プロットで2変数の線形飽和モデルをプロットする\n",
    "\n",
    "plotBase = list(range(20))\n",
    "plotX = returnListForBranchModel(inputList=plotBase, branchIndex=13, a=2, b=3)\n",
    "plotY = returnListForBranchModel(inputList=plotBase, branchIndex=16, a=4, b=5)\n",
    "plotX = np.array(plotX)\n",
    "plotY = np.array(plotY)\n",
    "plotZ=plotX+plotY\n",
    "\n",
    "#TODO:関数コール回数が同じだが、2変数が異なる変数かつそういったものが多数ある場合が分岐線\n",
    "\n",
    "print(f\"plotBase={plotBase}\\nplotX={plotX}\\nplotY={plotY}\")\n",
    "\n",
    "fig = plt.figure()\n",
    "ax = Axes3D(fig)\n",
    "\n",
    "ax.set_xlabel(\"X-axis\")\n",
    "ax.set_ylabel(\"Y-axis\")\n",
    "ax.set_zlabel(\"Z-axis\")\n",
    "\n",
    "\n",
    "plotZero = [0]*len(plotBase)\n",
    "ax.scatter(plotBase, plotZero, plotX)\n",
    "ax.scatter(plotZero, plotBase, plotY)\n",
    "\n"
   ]
  },
  {
   "cell_type": "markdown",
   "metadata": {},
   "source": [
    "# 説明変数が2つの分岐モデルを実装するにあたってのテストなど\n",
    "\n",
    "1. \\[X, Y, Z\\] == \\[0, Y, Z\\], \\[X, 0, Z\\] を満たすデータ群を抽出\n",
    "2. 抽出した2つのデータ群から分岐点を抽出\n",
    "3. 抽出した分岐点を繋ぐ直線を定義\n",
    "4. データ群を定義した直線で2つに分割\n",
    "5. 分割された2平面ごとにモデルを構築"
   ]
  },
  {
   "cell_type": "code",
   "execution_count": null,
   "metadata": {},
   "outputs": [],
   "source": [
    "dataset01 = pd.DataFrame({\"X\":plotBase, \"Y\":plotZero, \"Z\":plotX})\n",
    "dataset02 = pd.DataFrame({\"X\":plotZero, \"Y\":plotBase, \"Z\":plotY})"
   ]
  },
  {
   "cell_type": "code",
   "execution_count": null,
   "metadata": {},
   "outputs": [],
   "source": [
    "dataset01.tail()"
   ]
  },
  {
   "cell_type": "code",
   "execution_count": null,
   "metadata": {},
   "outputs": [],
   "source": [
    "dataset02.tail()"
   ]
  },
  {
   "cell_type": "code",
   "execution_count": null,
   "metadata": {},
   "outputs": [],
   "source": []
  }
 ],
 "metadata": {
  "kernelspec": {
   "display_name": "Python 3",
   "language": "python",
   "name": "python3"
  },
  "language_info": {
   "codemirror_mode": {
    "name": "ipython",
    "version": 3
   },
   "file_extension": ".py",
   "mimetype": "text/x-python",
   "name": "python",
   "nbconvert_exporter": "python",
   "pygments_lexer": "ipython3",
   "version": "3.9.5"
  }
 },
 "nbformat": 4,
 "nbformat_minor": 4
}
