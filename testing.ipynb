{
 "cells": [
  {
   "cell_type": "code",
   "execution_count": 1,
   "metadata": {},
   "outputs": [],
   "source": [
    "# ipynb形式のライブラリのインポート\n",
    "%run ./lib/lib.ipynb\n",
    "\n",
    "# 生データの入ったCSVファイルの保持されたディレクトリ名を格納している変数\n",
    "csvDirPath = \"./csv_files/\""
   ]
  },
  {
   "cell_type": "code",
   "execution_count": 2,
   "metadata": {},
   "outputs": [
    {
     "data": {
      "text/html": [
       "<div>\n",
       "<style scoped>\n",
       "    .dataframe tbody tr th:only-of-type {\n",
       "        vertical-align: middle;\n",
       "    }\n",
       "\n",
       "    .dataframe tbody tr th {\n",
       "        vertical-align: top;\n",
       "    }\n",
       "\n",
       "    .dataframe thead th {\n",
       "        text-align: right;\n",
       "    }\n",
       "</style>\n",
       "<table border=\"1\" class=\"dataframe\">\n",
       "  <thead>\n",
       "    <tr style=\"text-align: right;\">\n",
       "      <th></th>\n",
       "      <th>functionName</th>\n",
       "      <th>functionCallNum</th>\n",
       "      <th>benchmarkName</th>\n",
       "      <th>benchmarkClass</th>\n",
       "      <th>process</th>\n",
       "      <th>nx_default</th>\n",
       "      <th>ny_default</th>\n",
       "      <th>nz_default</th>\n",
       "      <th>nit_default</th>\n",
       "    </tr>\n",
       "  </thead>\n",
       "  <tbody>\n",
       "    <tr>\n",
       "      <th>0</th>\n",
       "      <td>functionAtMG</td>\n",
       "      <td>32</td>\n",
       "      <td>mg</td>\n",
       "      <td>F</td>\n",
       "      <td>64</td>\n",
       "      <td>4096</td>\n",
       "      <td>4096</td>\n",
       "      <td>4096</td>\n",
       "      <td>50</td>\n",
       "    </tr>\n",
       "  </tbody>\n",
       "</table>\n",
       "</div>"
      ],
      "text/plain": [
       "   functionName  functionCallNum benchmarkName benchmarkClass  process  \\\n",
       "0  functionAtMG               32            mg              F       64   \n",
       "\n",
       "   nx_default  ny_default  nz_default  nit_default  \n",
       "0        4096        4096        4096           50  "
      ]
     },
     "execution_count": 2,
     "metadata": {},
     "output_type": "execute_result"
    }
   ],
   "source": [
    "sampleRawDF = returnCollectedExistingData(\n",
    "    benchmarkNames=[\"cg\"],\n",
    "    classes=[\"A\", \"B\", \"C\", \"D\", \"E\", \"F\"],\n",
    "    processes=[2, 4, 8, 16, 32, 64, 128, 256],\n",
    "    csvDirPath=csvDirPath,\n",
    ")\n",
    "sampleRawDF\n",
    "\n",
    "test_addInitDataToRawDF()"
   ]
  }
 ],
 "metadata": {
  "kernelspec": {
   "display_name": "Python 3 (ipykernel)",
   "language": "python",
   "name": "python3"
  },
  "language_info": {
   "codemirror_mode": {
    "name": "ipython",
    "version": 3
   },
   "file_extension": ".py",
   "mimetype": "text/x-python",
   "name": "python",
   "nbconvert_exporter": "python",
   "pygments_lexer": "ipython3",
   "version": "3.9.6"
  }
 },
 "nbformat": 4,
 "nbformat_minor": 4
}
