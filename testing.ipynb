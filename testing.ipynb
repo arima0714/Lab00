{
 "cells": [
  {
   "cell_type": "code",
   "execution_count": 1,
   "metadata": {},
   "outputs": [],
   "source": [
    "# ipynb形式のライブラリのインポート\n",
    "%run ./lib/lib.ipynb\n",
    "\n",
    "# 生データの入ったCSVファイルの保持されたディレクトリ名を格納している変数\n",
    "csvDirPath = \"./csv_files/\""
   ]
  },
  {
   "cell_type": "code",
   "execution_count": 2,
   "metadata": {},
   "outputs": [
    {
     "data": {
      "text/html": [
       "<div>\n",
       "<style scoped>\n",
       "    .dataframe tbody tr th:only-of-type {\n",
       "        vertical-align: middle;\n",
       "    }\n",
       "\n",
       "    .dataframe tbody tr th {\n",
       "        vertical-align: top;\n",
       "    }\n",
       "\n",
       "    .dataframe thead th {\n",
       "        text-align: right;\n",
       "    }\n",
       "</style>\n",
       "<table border=\"1\" class=\"dataframe\">\n",
       "  <thead>\n",
       "    <tr style=\"text-align: right;\">\n",
       "      <th></th>\n",
       "      <th>functionName</th>\n",
       "      <th>functionCallNum</th>\n",
       "      <th>benchmarkName</th>\n",
       "      <th>benchmarkClass</th>\n",
       "      <th>process</th>\n",
       "    </tr>\n",
       "  </thead>\n",
       "  <tbody>\n",
       "    <tr>\n",
       "      <th>0</th>\n",
       "      <td>functionAtCG</td>\n",
       "      <td>1</td>\n",
       "      <td>cg</td>\n",
       "      <td>A</td>\n",
       "      <td>2</td>\n",
       "    </tr>\n",
       "  </tbody>\n",
       "</table>\n",
       "</div>"
      ],
      "text/plain": [
       "   functionName  functionCallNum benchmarkName benchmarkClass  process\n",
       "0  functionAtCG                1            cg              A        2"
      ]
     },
     "execution_count": 2,
     "metadata": {},
     "output_type": "execute_result"
    }
   ],
   "source": [
    "# 生データを引数として受け取り、そのデータの問題サイズの値に合わせた追加の初期値を追加し、引数として渡されたDFにデータが付与されたDFを返す関数\n",
    "# 引数：生データDF\n",
    "# 返り値：生データDFにベンチマークごとの初期値が付与されたDF\n",
    "\n",
    "\n",
    "def addInitDataToRawDF(rawDF):\n",
    "    return rawDF\n",
    "\n",
    "\n",
    "def test_addInitDataToRawDF():\n",
    "    # rawDF の作成\n",
    "    functionName = [\n",
    "        \"functionAtCG\",\n",
    "    ]\n",
    "    functionCallNum = [1]\n",
    "    benchmarkName = [\"cg\"]\n",
    "    benchmarkClass = [\"A\"]\n",
    "    process = [2]\n",
    "#     functionName = [\n",
    "#         \"functionAtCG\",\n",
    "#         \"functionAtEP\",\n",
    "#         \"functionNameAtFP\",\n",
    "#         \"functionNameAtIS\",\n",
    "#         \"functionNameAtLU\",\n",
    "#         \"functionNameAtMG\",\n",
    "#     ]\n",
    "#     functionCallNum = [1, 2, 3, 4, 5, 6]\n",
    "#     benchmarkName = [\"cg\", \"ep\", \"fp\", \"is\", \"lu\", \"mg\"]\n",
    "#     benchmarkClass = [\"A\", \"B\", \"C\", \"D\", \"E\", \"F\"]\n",
    "#     process = [2, 4, 8, 16, 32, 64]\n",
    "    rawDict = {\n",
    "        \"functionName\": functionName,\n",
    "        \"functionCallNum\": functionCallNum,\n",
    "        \"benchmarkName\": benchmarkName,\n",
    "        \"benchmarkClass\": benchmarkClass,\n",
    "        \"process\": process,\n",
    "    }\n",
    "\n",
    "    rawDF = pd.DataFrame(rawDict)\n",
    "    # rawDF に手動で関数のやっていることを実施した DF を作成\n",
    "    # 比較して正しいことを確認\n",
    "    # 引数として渡したDFと比較して、異なっていることを確認\n",
    "    pass\n",
    "    return rawDF\n",
    "\n",
    "\n",
    "sampleRawDF = returnCollectedExistingData(\n",
    "    benchmarkNames=[\"cg\"],\n",
    "    classes=[\"A\", \"B\", \"C\", \"D\", \"E\", \"F\"],\n",
    "    processes=[2, 4, 8, 16, 32, 64, 128, 256],\n",
    "    csvDirPath=csvDirPath,\n",
    ")\n",
    "sampleRawDF\n",
    "\n",
    "test_addInitDataToRawDF()"
   ]
  },
  {
   "cell_type": "code",
   "execution_count": null,
   "metadata": {},
   "outputs": [],
   "source": []
  }
 ],
 "metadata": {
  "kernelspec": {
   "display_name": "Python 3 (ipykernel)",
   "language": "python",
   "name": "python3"
  },
  "language_info": {
   "codemirror_mode": {
    "name": "ipython",
    "version": 3
   },
   "file_extension": ".py",
   "mimetype": "text/x-python",
   "name": "python",
   "nbconvert_exporter": "python",
   "pygments_lexer": "ipython3",
   "version": "3.9.6"
  }
 },
 "nbformat": 4,
 "nbformat_minor": 4
}
