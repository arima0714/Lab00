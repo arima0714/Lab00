{
 "cells": [
  {
   "cell_type": "code",
   "execution_count": null,
   "metadata": {},
   "outputs": [],
   "source": [
    "# ipynb形式のライブラリのインポート\n",
    "%run ./lib.ipynb"
   ]
  },
  {
   "cell_type": "code",
   "execution_count": null,
   "metadata": {},
   "outputs": [],
   "source": [
    "# DF = returnRawDFperBenchmark(Benchmark = \"is\", fix=\"Classes\", benchmarkClass = [\"A\", \"B\", \"C\", \"D\"], FixedProcess = 64, Processes = [1,2,4,8,16,32,64,128,256], FixedBenchmarkClass=\"B\")\n",
    "# DF"
   ]
  },
  {
   "cell_type": "code",
   "execution_count": null,
   "metadata": {},
   "outputs": [],
   "source": [
    "# raw_x = DF.columns.tolist()\n",
    "# functionName = \"MPI_Irecv()\"\n",
    "# raw_y = [DF.at[functionName, x] for x in raw_x]\n",
    "\n",
    "# # グラフのプロット\n",
    "# fig = plt.figure(figsize=(12, 9))\n",
    "# ## 実データをsklearn用に変形\n",
    "# raw_x = np.array(raw_x).reshape(-1,1)\n",
    "# raw_y = np.array(raw_y).reshape(-1, 1)\n",
    "# ## 説明変数と目的変数に分割\n",
    "# notTrain_x, train_x, target_x = raw_x[0], raw_x[1:-1], raw_x[-1]\n",
    "# notTrain_y, train_y, target_y = raw_y[0], raw_y[1:-1], raw_y[-1]\n",
    "# ## 実データをそれぞれプロット\n",
    "# plt.scatter(train_x, train_y, marker=\"o\", label=\"予測に用いた関数コール回数\")\n",
    "# plt.scatter(target_x, target_y, marker=\"o\", label=\"予測したい関数コール回数の実測値\")\n",
    "# plt.scatter(notTrain_x, notTrain_y, marker=\"o\", label=\"最初のデータを除外した時に予測に用いなかった関数コール回数\")\n",
    "# ## モデル式をプロットするために変数”plot_x”を用意する\n",
    "# plot_x_min = 1.0\n",
    "# plot_x_max = 256.0\n",
    "# ### モデル式としてプロットする最低値の設定\n",
    "# plot_x = np.linspace(plot_x_min, plot_x_max, 500)\n",
    "# plot_x = np.array(plot_x).reshape(-1, 1)\n",
    "# ## モデルを [1 - 1/n] として計算\n",
    "# plot_y = 1 - 1/plot_x\n",
    "# plt.plot(plot_x, plot_y)\n",
    "\n",
    "\n",
    "# modelIpMk2 = ModelIp_mk2(train_x=train_x, train_y=train_y, target_x=target_x, target_y=target_y)\n",
    "# modelIpMk2.calc_lr()\n",
    "# plot_y = modelIpMk2.predict(plot_x)\n",
    "# plt.plot(plot_x, plot_y)\n"
   ]
  },
  {
   "cell_type": "code",
   "execution_count": null,
   "metadata": {},
   "outputs": [],
   "source": [
    "# raw_x\n",
    "\n",
    "# raw_y"
   ]
  },
  {
   "cell_type": "code",
   "execution_count": null,
   "metadata": {},
   "outputs": [],
   "source": [
    "benchmarkName = \"cg\"\n",
    "fixed = \"Process\"\n",
    "benchmarkClasses = [\"A\", \"B\", \"C\", \"D\"]\n",
    "FixedProcess = 64\n",
    "Processes = [1,2,4,8,16,32,64,128,256]\n",
    "FixedBenchmarkClass = \"B\""
   ]
  },
  {
   "cell_type": "code",
   "execution_count": null,
   "metadata": {},
   "outputs": [],
   "source": [
    "DF = collectFunctionNamesPerBenchmark(benchmarkName = \"cg\", benchmarkClasses = benchmarkClasses, processes = Processes)\n",
    "# for benchmarkClass in benchmarkClasses:\n",
    "#     for Process in Processes:\n",
    "#         pass"
   ]
  },
  {
   "cell_type": "code",
   "execution_count": null,
   "metadata": {},
   "outputs": [],
   "source": [
    "DF"
   ]
  },
  {
   "cell_type": "code",
   "execution_count": null,
   "metadata": {},
   "outputs": [],
   "source": [
    "functionNames = DF[\"functionName\"]\n",
    "functionNames = tuple(functionNames)\n",
    "functionNames"
   ]
  },
  {
   "cell_type": "code",
   "execution_count": null,
   "metadata": {},
   "outputs": [],
   "source": [
    "print(DF.query('functionName.str.endswith(\"VECSET\")', engine='python'))"
   ]
  }
 ],
 "metadata": {
  "kernelspec": {
   "display_name": "Python 3",
   "language": "python",
   "name": "python3"
  },
  "language_info": {
   "codemirror_mode": {
    "name": "ipython",
    "version": 3
   },
   "file_extension": ".py",
   "mimetype": "text/x-python",
   "name": "python",
   "nbconvert_exporter": "python",
   "pygments_lexer": "ipython3",
   "version": "3.9.4"
  }
 },
 "nbformat": 4,
 "nbformat_minor": 4
}
