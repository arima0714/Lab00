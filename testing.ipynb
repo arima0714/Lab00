{
 "cells": [
  {
   "cell_type": "code",
   "execution_count": null,
   "metadata": {},
   "outputs": [],
   "source": [
    "# DF = returnRawDFperBenchmark(Benchmark = \"is\", fix=\"Classes\", benchmarkClass = [\"A\", \"B\", \"C\", \"D\"], FixedProcess = 64, Processes = [1,2,4,8,16,32,64,128,256], FixedBenchmarkClass=\"B\")\n",
    "# DF"
   ]
  },
  {
   "cell_type": "code",
   "execution_count": null,
   "metadata": {},
   "outputs": [],
   "source": [
    "# raw_x = DF.columns.tolist()\n",
    "# functionName = \"MPI_Irecv()\"\n",
    "# raw_y = [DF.at[functionName, x] for x in raw_x]\n",
    "\n",
    "# # グラフのプロット\n",
    "# fig = plt.figure(figsize=(12, 9))\n",
    "# ## 実データをsklearn用に変形\n",
    "# raw_x = np.array(raw_x).reshape(-1,1)\n",
    "# raw_y = np.array(raw_y).reshape(-1, 1)\n",
    "# ## 説明変数と目的変数に分割\n",
    "# notTrain_x, train_x, target_x = raw_x[0], raw_x[1:-1], raw_x[-1]\n",
    "# notTrain_y, train_y, target_y = raw_y[0], raw_y[1:-1], raw_y[-1]\n",
    "# ## 実データをそれぞれプロット\n",
    "# plt.scatter(train_x, train_y, marker=\"o\", label=\"予測に用いた関数コール回数\")\n",
    "# plt.scatter(target_x, target_y, marker=\"o\", label=\"予測したい関数コール回数の実測値\")\n",
    "# plt.scatter(notTrain_x, notTrain_y, marker=\"o\", label=\"最初のデータを除外した時に予測に用いなかった関数コール回数\")\n",
    "# ## モデル式をプロットするために変数”plot_x”を用意する\n",
    "# plot_x_min = 1.0\n",
    "# plot_x_max = 256.0\n",
    "# ### モデル式としてプロットする最低値の設定\n",
    "# plot_x = np.linspace(plot_x_min, plot_x_max, 500)\n",
    "# plot_x = np.array(plot_x).reshape(-1, 1)\n",
    "# ## モデルを [1 - 1/n] として計算\n",
    "# plot_y = 1 - 1/plot_x\n",
    "# plt.plot(plot_x, plot_y)\n",
    "\n",
    "\n",
    "# modelIpMk2 = ModelIp_mk2(train_x=train_x, train_y=train_y, target_x=target_x, target_y=target_y)\n",
    "# modelIpMk2.calc_lr()\n",
    "# plot_y = modelIpMk2.predict(plot_x)\n",
    "# plt.plot(plot_x, plot_y)\n"
   ]
  },
  {
   "cell_type": "code",
   "execution_count": null,
   "metadata": {},
   "outputs": [],
   "source": [
    "# raw_x\n",
    "\n",
    "# raw_y"
   ]
  },
  {
   "cell_type": "markdown",
   "metadata": {},
   "source": [
    "# 多変数予測でのExtra-Pへの入力ファイルを作成する"
   ]
  },
  {
   "cell_type": "code",
   "execution_count": null,
   "metadata": {},
   "outputs": [],
   "source": [
    "# ipynb形式のライブラリのインポート\n",
    "%run ./lib.ipynb"
   ]
  },
  {
   "cell_type": "code",
   "execution_count": null,
   "metadata": {},
   "outputs": [],
   "source": [
    "benchmarkName = \"cg\"\n",
    "fixed = \"Process\"\n",
    "benchmarkClasses = [\"A\", \"B\", \"C\", \"D\"]\n",
    "FixedProcess = 64\n",
    "Processes = [1,2,4,8,16,32,64,128,256]\n",
    "FixedBenchmarkClass = \"B\"\n",
    "\n",
    "DF = collectFunctionNamesPerBenchmark(benchmarkName = \"cg\", benchmarkClasses = benchmarkClasses, processes = Processes)\n",
    "# for benchmarkClass in benchmarkClasses:\n",
    "#     for Process in Processes:\n",
    "#         pass\n",
    "\n",
    "DF\n",
    "\n",
    "functionNames = DF[\"functionName\"]\n",
    "functionNames = tuple(functionNames)\n",
    "functionNames\n",
    "\n",
    "print(DF.query('functionName.str.endswith(\"VECSET\")', engine='python'))"
   ]
  },
  {
   "cell_type": "code",
   "execution_count": 75,
   "metadata": {},
   "outputs": [],
   "source": [
    "# ipynb形式のライブラリのインポート\n",
    "%run ./lib.ipynb"
   ]
  },
  {
   "cell_type": "code",
   "execution_count": 76,
   "metadata": {},
   "outputs": [
    {
     "data": {
      "text/plain": [
       "<Figure size 864x648 with 0 Axes>"
      ]
     },
     "execution_count": 76,
     "metadata": {},
     "output_type": "execute_result"
    },
    {
     "data": {
      "text/plain": [
       "[<matplotlib.lines.Line2D at 0x7fc26d37d190>]"
      ]
     },
     "execution_count": 76,
     "metadata": {},
     "output_type": "execute_result"
    },
    {
     "name": "stdout",
     "output_type": "stream",
     "text": [
      "2\n",
      "else\n",
      "train_x_1=[[3]\n",
      " [6]]\n",
      "train_x_2=[[ 9]\n",
      " [12]\n",
      " [15]\n",
      " [18]]\n",
      "train_y_1=[[5]\n",
      " [7]]\n",
      "train_y_2=[[9]\n",
      " [9]\n",
      " [9]\n",
      " [9]]\n",
      "num_t_max=[18], self.train_x[self.t]=[9]\n",
      "k=2\n",
      "num_1=[[3]\n",
      " [6]]\n",
      "num_2=[[ 9]\n",
      " [12]\n",
      " [15]\n",
      " [18]]\n",
      "predicted_1=[[5.]\n",
      " [7.]]\n",
      "predicted_2=[[9.]\n",
      " [9.]\n",
      " [9.]\n",
      " [9.]]\n",
      "predicted=[[5.]\n",
      " [7.]\n",
      " [9.]\n",
      " [9.]\n",
      " [9.]\n",
      " [9.]]\n"
     ]
    },
    {
     "data": {
      "text/plain": [
       "[<matplotlib.lines.Line2D at 0x7fc26d374f70>]"
      ]
     },
     "execution_count": 76,
     "metadata": {},
     "output_type": "execute_result"
    },
    {
     "data": {
      "text/plain": [
       "[<matplotlib.lines.Line2D at 0x7fc26d3e4640>]"
      ]
     },
     "execution_count": 76,
     "metadata": {},
     "output_type": "execute_result"
    },
    {
     "name": "stdout",
     "output_type": "stream",
     "text": [
      "5\n",
      "if\n",
      "num_t_max=[18], self.train_x[self.t]=[18]\n",
      "k=5\n",
      "num_1=[[ 3]\n",
      " [ 6]\n",
      " [ 9]\n",
      " [12]\n",
      " [15]]\n",
      "num_2=[[18]]\n",
      "predicted_1=[[ 5.]\n",
      " [ 7.]\n",
      " [ 9.]\n",
      " [11.]\n",
      " [13.]]\n",
      "predicted_2=[[15.]]\n",
      "predicted=[[ 5.]\n",
      " [ 7.]\n",
      " [ 9.]\n",
      " [11.]\n",
      " [13.]\n",
      " [15.]]\n"
     ]
    },
    {
     "data": {
      "text/plain": [
       "[<matplotlib.lines.Line2D at 0x7fc26d356250>]"
      ]
     },
     "execution_count": 76,
     "metadata": {},
     "output_type": "execute_result"
    },
    {
     "data": {
      "text/plain": [
       "<matplotlib.legend.Legend at 0x7fc26d374130>"
      ]
     },
     "execution_count": 76,
     "metadata": {},
     "output_type": "execute_result"
    },
    {
     "data": {
      "image/png": "[encoded data removed]",
      "text/plain": [
       "<Figure size 864x648 with 1 Axes>"
      ]
     },
     "metadata": {
      "needs_background": "light"
     },
     "output_type": "display_data"
    }
   ],
   "source": [
    "# 分岐モデルに適したデータによる実験\n",
    "plot_x_branch = [3,6,9,12,15,18]\n",
    "plot_y_branch = [5,7,9,9,9,9]\n",
    "\n",
    "plt.figure(figsize=(12, 9))\n",
    "# 元データのプロット\n",
    "plt.plot(plot_x_branch, plot_y_branch, label=\"モデルデータ(分岐モデル)\")\n",
    "\n",
    "# モデルの利用によるプロット\n",
    "## 予測\n",
    "modelBranchMK2 = ModelBranch_mk2(train_x=plot_x_branch, train_y=plot_y_branch, target_x=plot_x_branch, target_y=plot_y_branch)\n",
    "modelBranchMK2.calc_lr()\n",
    "predicted_y = modelBranchMK2.predict(plot_x_branch)\n",
    "## プロット\n",
    "plt.plot(plot_x_branch, predicted_y, label=\"予測データ\")\n",
    "\n",
    "# 線形モデルに適したデータによる実験\n",
    "plot_x = [3,6,9,12,15,18]\n",
    "plot_y = [5,7,9,11,13,15]\n",
    "# 元データのプロット\n",
    "plt.plot(plot_x, plot_y, label=\"モデルデータ(線形モデル)\")\n",
    "# モデルの利用によるプロット\n",
    "## 予測\n",
    "modelBranchMK2 = ModelBranch_mk2(train_x=plot_x, train_y=plot_y, target_x=plot_x, target_y=plot_y)\n",
    "modelBranchMK2.calc_lr()\n",
    "predicted_y = modelBranchMK2.predict(plot_x)\n",
    "## プロット\n",
    "plt.plot(plot_x, predicted_y, label=\"予測データ\")\n",
    "\n",
    "\n",
    "# ラベルを添付\n",
    "plt.legend()"
   ]
  },
  {
   "cell_type": "code",
   "execution_count": null,
   "metadata": {},
   "outputs": [],
   "source": []
  }
 ],
 "metadata": {
  "kernelspec": {
   "display_name": "Python 3",
   "language": "python",
   "name": "python3"
  },
  "language_info": {
   "codemirror_mode": {
    "name": "ipython",
    "version": 3
   },
   "file_extension": ".py",
   "mimetype": "text/x-python",
   "name": "python",
   "nbconvert_exporter": "python",
   "pygments_lexer": "ipython3",
   "version": "3.9.4"
  }
 },
 "nbformat": 4,
 "nbformat_minor": 4
}
