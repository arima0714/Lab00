{
 "cells": [
  {
   "cell_type": "code",
   "execution_count": null,
   "metadata": {},
   "outputs": [],
   "source": [
    "# ipynb形式のライブラリのインポート\n",
    "%run ./lib.ipynb"
   ]
  },
  {
   "cell_type": "code",
   "execution_count": null,
   "metadata": {},
   "outputs": [],
   "source": [
    "# 引数：inputDF  はreturnRawDF()の返り値\n",
    "# 引数：repeated はDATA列を繰り返す回数\n",
    "# 引数：includeLastData は学習に最後の値を使うかどうかを指定\n",
    "\n",
    "def generateInputFileForExtraP(inputDF = returnRawDF(fix=\"Class\"), repeated = 3, includeLastData = False, fileName = \"tmp_functionName.txt\"):\n",
    "\n",
    "    # https://github.com/extra-p/extrap/blob/master/docs/examples/input.txt\n",
    "    # が入力例のテキストファイルとなっており、これに対応するファイルを作成する。\n",
    "    functionNames = inputDF.index.tolist()\n",
    "    for functionName in functionNames:\n",
    "        tmpfile = open(fileName, 'w+')\n",
    "        columns = inputDF.columns.tolist()\n",
    "        tmpfile.write(\"PARAMETER p\\n\")\n",
    "        tmpfile.write(\"POINTS\")\n",
    "        \n",
    "        if(includeLastData == False):\n",
    "            columns = columns[:-1]\n",
    "        \n",
    "        for column in columns:\n",
    "            tmpfile.write(f\" ({column})\")\n",
    "        tmpfile.write(\"\\n\\n\")\n",
    "\n",
    "        tmpfile.write(f\"REGION {functionName}\\n\")\n",
    "        tmpfile.write(\"METRIC functionCall\\n\")\n",
    "\n",
    "        for column in columns:\n",
    "\n",
    "            tmpfile.write(\"DATA\")\n",
    "            content = float(inputDF.at[functionName, column])\n",
    "\n",
    "            for i in range(repeated):\n",
    "                tmpfile.write(f\" {content}\")\n",
    "            tmpfile.write(\"\\n\")\n",
    "\n",
    "        tmpfile.close()"
   ]
  }
 ],
 "metadata": {
  "kernelspec": {
   "display_name": "Python 3",
   "language": "python",
   "name": "python3"
  },
  "language_info": {
   "codemirror_mode": {
    "name": "ipython",
    "version": 3
   },
   "file_extension": ".py",
   "mimetype": "text/x-python",
   "name": "python",
   "nbconvert_exporter": "python",
   "pygments_lexer": "ipython3",
   "version": "3.9.4"
  }
 },
 "nbformat": 4,
 "nbformat_minor": 4
}
