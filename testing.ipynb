{
 "cells": [
  {
   "cell_type": "code",
   "execution_count": null,
   "metadata": {},
   "outputs": [],
   "source": [
    "# ipynb形式のライブラリのインポート\n",
    "%run ./lib.ipynb"
   ]
  },
  {
   "cell_type": "code",
   "execution_count": null,
   "metadata": {},
   "outputs": [],
   "source": [
    "import pandas\n",
    "FixClass=\"B\"\n",
    "FixProcess=256\n",
    "DirPath = \"./tmp_GenerateResources/\"\n",
    "for benchmark in benchmarks:\n",
    "    MapeTableFixedClass = return_MapeTableFixedClass(benchmark, FixClass=\"B\")\n",
    "    MapeTableFixedProcess = return_MapeTableFixedProcess(benchmark, FixProcess=256)\n",
    "    FixedClassFileName = f\"MapeTableFixedClass_{benchmark}{FixClass}.csv\"\n",
    "    FixedProcessFileName = f\"MapeTableFixedProcess_{benchmark}{FixProcess}.csv\"\n",
    "#     print(f\"FixedClassFileName={FixedClassFileName}, MapeTableFixedProcess={FixedProcessFileName}\")\n",
    "    if(type(MapeTableFixedClass) is pandas.core.frame.DataFrame):\n",
    "        print(f\"FixedClassFileName={FixedClassFileName}\")\n",
    "        MapeTableFixedClass.to_csv(f\"{DirPath}{FixedClassFileName}\")\n",
    "    if(type(MapeTableFixedProcess) is pandas.core.frame.DataFrame):\n",
    "        print(f\"FixedProcessFileName={FixedProcessFileName}\")\n",
    "        MapeTableFixedProcess.to_csv(f\"{DirPath}{FixedProcessFileName}\")"
   ]
  }
 ],
 "metadata": {
  "kernelspec": {
   "display_name": "Python 3",
   "language": "python",
   "name": "python3"
  },
  "language_info": {
   "codemirror_mode": {
    "name": "ipython",
    "version": 3
   },
   "file_extension": ".py",
   "mimetype": "text/x-python",
   "name": "python",
   "nbconvert_exporter": "python",
   "pygments_lexer": "ipython3",
   "version": "3.9.1"
  }
 },
 "nbformat": 4,
 "nbformat_minor": 4
}
