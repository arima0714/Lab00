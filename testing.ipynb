{
 "cells": [
  {
   "cell_type": "code",
   "execution_count": null,
   "metadata": {},
   "outputs": [],
   "source": [
    "# ipynb形式のライブラリのインポート\n",
    "%run ./lib.ipynb\n",
    "pd.set_option('display.max_rows', 500)\n",
    "pd.set_option('display.max_columns', 100)\n",
    "# ##### 各関数での実行時間を保存するためのCSVの空データを作成するための処理 #####\n",
    "# Processes = []\n",
    "# for i in range(1,16):\n",
    "#     Processes.append(i*i)\n",
    "# for j in range(9):\n",
    "#     Processes.append(2**j)\n",
    "# Processes = list(set(Processes))\n",
    "# Processes.sort()\n",
    "# index = classes\n",
    "# EmptyDF = pd.DataFrame(index=index, columns=Processes)\n",
    "# for benchmark in benchmarks:\n",
    "#     EmptyDF.to_csv(f\"./csv_files/ExecTime@{benchmark}.csv\")\n",
    "\n",
    "##### 各ベンチマークの実行時間を記録する処理\n",
    "# # Benchmarks = []\n",
    "# # for benchmark in benchmarks:\n",
    "# #     Benchmarks.append(benchmark.upper())\n",
    "# # print(Benchmarks)\n",
    "\n",
    "# Processes = [8, 16, 32, 64, 128, 256]\n",
    "# for process in Processes:\n",
    "#     TimeDataList = return_TimeDataList(process)\n",
    "#     for DictData in TimeDataList:\n",
    "#         benchmark = DictData.benchmark\n",
    "#         process = DictData.process\n",
    "#         BenchmarkClass = DictData.BenchmarkClass\n",
    "#         time = DictData.time\n",
    "#         FillCSV(benchmark=benchmark, process=process, BenchmarkClass=BenchmarkClass, time=time)\n",
    "\n",
    "# # print(TimeDataList[0].return_AllData())\n"
   ]
  },
  {
   "cell_type": "code",
   "execution_count": null,
   "metadata": {},
   "outputs": [],
   "source": [
    "# 関数：BestModelsInDF()\n",
    "# 引数：return_FixedClassModelDF()の返値\n",
    "# 返値：引数で渡されたDFの要素のモデル名を要素としたDF\n",
    "def BestModelsInDF(inputDF):\n",
    "    returnDF = pd.DataFrame()\n",
    "    returnDF = returnDF.reindex_like(inputDF).astype('str')\n",
    "    index = returnDF.index.tolist()\n",
    "    columns = returnDF.columns.tolist()\n",
    "    for i in index:\n",
    "        for j in columns:\n",
    "            returnDF.at[i, j] = inputDF.at[i, j].ModelName()\n",
    "    return(returnDF)\n",
    "# ### 使用例\n",
    "# benchmark = \"mg\"\n",
    "# FixClass = \"B\"\n",
    "# sampleDF = return_FixedClassModelDF(benchmark = benchmark, FixClass = FixClass)\n",
    "# print(BestModelsInDF(inputDF=sampleDF))\n",
    "\n",
    "# for benchmark in ['bt', 'mg', 'sp']:\n",
    "FixClass = \"B\"\n",
    "for benchmark in ['mg']:\n",
    "    print(f\"benchmark={benchmark}\")\n",
    "    TargetDF = return_FixedClassModelDF(benchmark=benchmark, FixClass=FixClass)\n",
    "    BestModelsInTargetDF = BestModelsInDF(TargetDF)\n",
    "    print(BestModelsInTargetDF)\n",
    "    TargetDF = return_ErrorRateFixedClassDFwithAverage(benchmark = benchmark , FixClass=FixClass)\n",
    "    print(TargetDF)"
   ]
  },
  {
   "cell_type": "code",
   "execution_count": null,
   "metadata": {},
   "outputs": [],
   "source": [
    "# for benchmark in ['bt', 'mg', 'sp']:\n",
    "for benchmark in ['mg']:\n",
    "    ProcessExcludeBTSP = [1,2,4,8,16,32,64,128,256]\n",
    "    ProcessIncludeBTSP = [1, 4, 16, 64, 256]\n",
    "\n",
    "    TestRates = [0, 0.2, 0.4, 0.6, 0.8]\n",
    "    if(benchmark == \"bt\" or benchmark == \"sp\"):\n",
    "        processes=ProcessIncludeBTSP\n",
    "    else:\n",
    "        processes=ProcessExcludeBTSP\n",
    "    RawDataList = return_fixed_class(BenchMark=benchmark, Processes=processes,FixedBenchMarkClass=FixClass)\n",
    "    RawDataDF = pd.concat(RawDataList, axis=1)\n",
    "    print(RawDataDF)\n",
    "print('SET_CLASS' in RawDataDF.index.tolist())\n",
    "print(RawDataDF.loc['SET_CLASS'])"
   ]
  },
  {
   "cell_type": "code",
   "execution_count": null,
   "metadata": {},
   "outputs": [],
   "source": [
    "for benchmark in benchmarks:\n",
    "    print(return_ErrorRateFixedProcess_AveragePredictCostRealCost(benchmark=benchmark, FixProcess=64, predict_class=\"D\"))\n",
    "    print(return_ErrorRateFixedClass_AveragePredictCostRealCost(benchmark=benchmark, FixClass=\"B\", predict_process=256))"
   ]
  },
  {
   "cell_type": "markdown",
   "metadata": {},
   "source": [
    "\"SET_CLASS\"に代表される関数が、プロファイル数が2個のときだけ突飛な平均誤差率を出力する。その原因は学主データ二個だと基本的に線形モデルを採用することになるが、そうすると、実際の最適モデルが反比例や対数だった場合に予測値と実測値が大幅にずれる。したがって、プロファイル数が2個のときにだけ突飛な平均誤差率を出力する。\n",
    "\n",
    "実際に予測することになる関数のみだけを、表示するようにして、出力されるデータを見やすくする(↑の話)。\n",
    "\n",
    "表のタイトルをそのまま保存時のファイル名にすればええんか"
   ]
  }
 ],
 "metadata": {
  "kernelspec": {
   "display_name": "Python 3",
   "language": "python",
   "name": "python3"
  },
  "language_info": {
   "codemirror_mode": {
    "name": "ipython",
    "version": 3
   },
   "file_extension": ".py",
   "mimetype": "text/x-python",
   "name": "python",
   "nbconvert_exporter": "python",
   "pygments_lexer": "ipython3",
   "version": "3.8.5"
  }
 },
 "nbformat": 4,
 "nbformat_minor": 4
}
