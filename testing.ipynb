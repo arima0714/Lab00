{
 "cells": [
  {
   "cell_type": "code",
   "execution_count": 1,
   "metadata": {},
   "outputs": [],
   "source": [
    "# DF = returnRawDFperBenchmark(Benchmark = \"is\", fix=\"Classes\", benchmarkClass = [\"A\", \"B\", \"C\", \"D\"], FixedProcess = 64, Processes = [1,2,4,8,16,32,64,128,256], FixedBenchmarkClass=\"B\")\n",
    "# DF"
   ]
  },
  {
   "cell_type": "code",
   "execution_count": 2,
   "metadata": {},
   "outputs": [],
   "source": [
    "# raw_x = DF.columns.tolist()\n",
    "# functionName = \"MPI_Irecv()\"\n",
    "# raw_y = [DF.at[functionName, x] for x in raw_x]\n",
    "\n",
    "# # グラフのプロット\n",
    "# fig = plt.figure(figsize=(12, 9))\n",
    "# ## 実データをsklearn用に変形\n",
    "# raw_x = np.array(raw_x).reshape(-1,1)\n",
    "# raw_y = np.array(raw_y).reshape(-1, 1)\n",
    "# ## 説明変数と目的変数に分割\n",
    "# notTrain_x, train_x, target_x = raw_x[0], raw_x[1:-1], raw_x[-1]\n",
    "# notTrain_y, train_y, target_y = raw_y[0], raw_y[1:-1], raw_y[-1]\n",
    "# ## 実データをそれぞれプロット\n",
    "# plt.scatter(train_x, train_y, marker=\"o\", label=\"予測に用いた関数コール回数\")\n",
    "# plt.scatter(target_x, target_y, marker=\"o\", label=\"予測したい関数コール回数の実測値\")\n",
    "# plt.scatter(notTrain_x, notTrain_y, marker=\"o\", label=\"最初のデータを除外した時に予測に用いなかった関数コール回数\")\n",
    "# ## モデル式をプロットするために変数”plot_x”を用意する\n",
    "# plot_x_min = 1.0\n",
    "# plot_x_max = 256.0\n",
    "# ### モデル式としてプロットする最低値の設定\n",
    "# plot_x = np.linspace(plot_x_min, plot_x_max, 500)\n",
    "# plot_x = np.array(plot_x).reshape(-1, 1)\n",
    "# ## モデルを [1 - 1/n] として計算\n",
    "# plot_y = 1 - 1/plot_x\n",
    "# plt.plot(plot_x, plot_y)\n",
    "\n",
    "\n",
    "# modelIpMk2 = ModelIp_mk2(train_x=train_x, train_y=train_y, target_x=target_x, target_y=target_y)\n",
    "# modelIpMk2.calc_lr()\n",
    "# plot_y = modelIpMk2.predict(plot_x)\n",
    "# plt.plot(plot_x, plot_y)\n"
   ]
  },
  {
   "cell_type": "code",
   "execution_count": 3,
   "metadata": {},
   "outputs": [],
   "source": [
    "# raw_x\n",
    "\n",
    "# raw_y"
   ]
  },
  {
   "cell_type": "markdown",
   "metadata": {},
   "source": [
    "# 多変数予測でのExtra-Pへの入力ファイルを作成する"
   ]
  },
  {
   "cell_type": "code",
   "execution_count": 4,
   "metadata": {},
   "outputs": [],
   "source": [
    "# ipynb形式のライブラリのインポート\n",
    "%run ./lib.ipynb\n",
    "\n",
    "# 実行毎の出力は最終出力のみ\n",
    "InteractiveShell.ast_node_interactivity = 'last_expr'"
   ]
  },
  {
   "cell_type": "code",
   "execution_count": 5,
   "metadata": {},
   "outputs": [
    {
     "name": "stdout",
     "output_type": "stream",
     "text": [
      "rows=[12, 12, 12, 12, 12, 11, 11, 11, 11, 12, 12, 12, 13, 13, 13, 12, 12, 12, 13, 13, 13, 13, 13, 13, 12, 12, 11, 13, 13, 13, 13, 12, 13, 12, 13, 12]\n",
      "rows_converted=[12, 12, 12, 12, 12, 11, 11, 11, 11, 12, 12, 12, 13, 13, 13, 12, 12, 12, 13, 13, 13, 13, 13, 13, 12, 12, 11, 13, 13, 13, 13, 12, 13, 12, 13, 12]\n",
      "same\n"
     ]
    }
   ],
   "source": [
    "benchmarkName = \"cg\"\n",
    "fixed = \"Process\"\n",
    "benchmarkClasses = [\"A\", \"B\", \"C\", \"D\"]\n",
    "FixedProcess = 64\n",
    "Processes = [1,2,4,8,16,32,64,128,256]\n",
    "FixedBenchmarkClass = \"B\"\n",
    "\n",
    "def convertBenchmarkClassProcessToFload(inputDF):\n",
    "    float_process = inputDF['process'].copy().astype(float)\n",
    "    float_benchmarkClass = inputDF['benchmarkClass'].copy().astype(float)\n",
    "    inputDF_fProcess = inputDF.copy()\n",
    "    inputDF_fProcess['process'] = float_process\n",
    "    inputDF_fProcess_fBenchamrkClass = inputDF_fProcess.copy()\n",
    "    inputDF_fProcess_fBenchamrkClass['benchmarkClass'] = float_benchmarkClass\n",
    "    return(inputDF_fProcess_fBenchamrkClass)\n",
    "    \n",
    "\n",
    "# 関数名・関数コール回数・ベンチマーククラス・ベンチマーク名・プロセス数を保持したDFを取得\n",
    "DF = collectFunctionNamesPerBenchmark(benchmarkName = \"cg\", benchmarkClasses = benchmarkClasses, processes = Processes)\n",
    "# for benchmarkClass in benchmarkClasses:\n",
    "#     for Process in Processes:\n",
    "#         pass\n",
    "\n",
    "# functionNamesに先ほど取得したDFにある関数名一覧を保持\n",
    "functionNames = DF[\"functionName\"]\n",
    "functionNames = functionNames[~functionNames.duplicated()]\n",
    "# functionNames\n",
    "# 関数ごとのデータを取得する\n",
    "functionName = \"VECSET\"\n",
    "DFperFunctionName = DF.query(f'functionName.str.endswith(\"{functionName}\")', engine='python')\n",
    "DFperFunctionName_converted = convertBenchmarkClassProcessToFload(DFperFunctionName)\n",
    "\n",
    "rows = DFperFunctionName.index.to_list()\n",
    "rows_converted = DFperFunctionName.index.to_list()\n",
    "print(f\"rows={rows}\")\n",
    "print(f\"rows_converted={rows_converted}\")\n",
    "if(len(rows) == len(rows_converted)):\n",
    "    for i in range(len(rows)):\n",
    "        if (rows[i] != rows_converted[i]):\n",
    "            print(f\"rows[{i}]={rows[i]}, rows_converted[{i}]={rows_converted[i]}\")\n",
    "if(rows == rows_converted):\n",
    "    print(f\"same\")\n",
    "            \n",
    "# x:ベンチマーククラス（数値化済み）\n",
    "# y:プロセス数\n",
    "# z:関数コール回数\n",
    "DFperFunctionName_converted.sort_values(['benchmarkClass', 'process'])\n",
    "x = DFperFunctionName_converted[\"benchmarkClass\"]\n",
    "y = DFperFunctionName_converted[\"process\"]\n",
    "z = DFperFunctionName_converted[\"call\"]\n"
   ]
  },
  {
   "cell_type": "code",
   "execution_count": 6,
   "metadata": {},
   "outputs": [],
   "source": [
    "repeated = 3\n",
    "includeLastData = False\n",
    "fileName = \"tmp_functionName2p.txt\"\n",
    "\n",
    "# def generateInputFile2PForExtraP(inputDF = returnRawDF(fix=\"Class\"), repeated = 3, includeLastData = False, fileName = \"tmp_functionName.txt\"):\n",
    "tmpfile = open(fileName, 'w+')\n",
    "tmpfile.write(\"PARAMETER x\\n\")\n",
    "tmpfile.write(\"PARAMETER y\\n\")\n",
    "\n",
    "for x_num in x:\n",
    "    tmpfile.write(\"POINTS\")\n",
    "    for y_num in y:\n",
    "        tmpfile.write(f\" ({x_num} , {y_num})\")\n",
    "    tmpfile.write(\"\\n\")\n",
    "    \n",
    "for x_num in x:\n",
    "    for y_num in y:\n",
    "        pass"
   ]
  }
 ],
 "metadata": {
  "kernelspec": {
   "display_name": "Python 3",
   "language": "python",
   "name": "python3"
  },
  "language_info": {
   "codemirror_mode": {
    "name": "ipython",
    "version": 3
   },
   "file_extension": ".py",
   "mimetype": "text/x-python",
   "name": "python",
   "nbconvert_exporter": "python",
   "pygments_lexer": "ipython3",
   "version": "3.9.4"
  }
 },
 "nbformat": 4,
 "nbformat_minor": 4
}
