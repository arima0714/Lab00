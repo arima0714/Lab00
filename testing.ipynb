{
 "cells": [
  {
   "cell_type": "code",
   "execution_count": null,
   "metadata": {},
   "outputs": [],
   "source": [
    "# ipynb形式のライブラリのインポート\n",
    "%run ./lib/lib.ipynb\n",
    "\n",
    "# 生データの入ったCSVファイルの保持されたディレクトリ名を格納している変数\n",
    "csvDirPath = \"./csv_files/\""
   ]
  },
  {
   "cell_type": "markdown",
   "metadata": {
    "tags": []
   },
   "source": [
    "## 予測をする"
   ]
  },
  {
   "cell_type": "code",
   "execution_count": null,
   "metadata": {},
   "outputs": [],
   "source": [
    "# 予測を行う。一つの関数・変数（コア数・各種ベンチマーク由来の初期化変数）\n",
    "\n",
    "benchmarkNames = [\"cg\"]\n",
    "benchmarkName  = \"cg\"\n",
    "classes = [\"S\", \"W\", \"A\", \"B\", \"C\", \"D\", \"E\", \"F\"]\n",
    "targetClass = \"F\"\n",
    "processes = [1, 2, 4, 8, 16, 32, 64, 128, 256]\n",
    "targetProcess = 256\n",
    "\n",
    "# データを取得\n",
    "rawDF = returnCollectedExistingData(\n",
    "    benchmarkNames=benchmarkNames,\n",
    "    classes=classes,\n",
    "    processes=processes,\n",
    "    csvDirPath=\"./csv_files/\",\n",
    ")\n",
    "rawDF = addInitDataToRawDF(rawDF)\n",
    "\n",
    "# モデルを用いた処理を実施\n",
    "functionNames = sorted(list(set(rawDF[\"functionName\"])))\n",
    "for functionName in functionNames:\n",
    "    print(f\"----------functionName={functionName}----------\")\n",
    "\n",
    "    ##関数ごとにrawDFを抽出\n",
    "    DFExtractedByFunction = rawDF[rawDF[\"functionName\"]==functionName].copy()\n",
    "    ## 説明変数用に問題サイズ列を数値化した列を追加する\n",
    "    strListProblemSize = DFExtractedByFunction[\"benchmarkClass\"].tolist()\n",
    "    intListProblemSize = convertBenchmarkClasses_problemSizeInNPB(inputList=strListProblemSize)\n",
    "    DFExtractedByFunction[\"intBenchmarkClass\"] = intListProblemSize\n",
    "    ## 3モデルでMAPEを出力\n",
    "    ### 目的変数のリストを作成\n",
    "    resVar = [\"functionCallNum\"]\n",
    "    ### 重回帰分析\n",
    "    #### 列名のリストをDFから取得\n",
    "    expVar = DFExtractedByFunction.columns.tolist()\n",
    "    #### 除外する列名を除く\n",
    "    for removeElement in [\"functionName\", \"functionCallNum\", \"benchmarkName\", \"benchmarkClass\"]:\n",
    "        expVar.remove(removeElement)\n",
    "    #### 3モデル（線形・反比例・対数）を同時に作成\n",
    "    threeModelsByMulti = Models(\n",
    "        inputDF=DFExtractedByFunction,\n",
    "        expVarColNames=expVar,\n",
    "        resVarColNames=resVar,\n",
    "        targetDF=None,\n",
    "        modelNames=[\"modelLin\", \"modelIp\", \"modelLog\"],\n",
    "    )\n",
    "    threeModelsByMulti.setUpDataBeforeCalcLr()\n",
    "    threeModelsByMulti.calcLr()\n",
    "    threeModelsByMulti.calcMAPE()\n",
    "    dictCalcedMAPE = threeModelsByMulti.returnCalculatedMAPE()\n",
    "    # dictCalcedMAPEの数値を小数第一位までにする\n",
    "    for key in dictCalcedMAPE.keys():\n",
    "        dictCalcedMAPE[key] = int(dictCalcedMAPE[key] * 10) / 10\n",
    "    print(f\"multi  = {dictCalcedMAPE}\")\n",
    "    ### TODO：単回帰分析\n",
    "    expVar = [\"intBenchmarkClass\"]\n",
    "    threeModelsBySingle = Models(\n",
    "        inputDF=DFExtractedByFunction,\n",
    "        expVarColNames=expVar,\n",
    "        resVarColNames=resVar,\n",
    "        targetDF=None,\n",
    "        modelNames=[\"modelLin\", \"modelIp\", \"modelLog\"],\n",
    "    )\n",
    "    threeModelsBySingle.setUpDataBeforeCalcLr()\n",
    "    threeModelsBySingle.calcLr()\n",
    "    threeModelsBySingle.calcMAPE()\n",
    "    dictCalcedMAPE = threeModelsBySingle.returnCalculatedMAPE()\n",
    "    # dictCalcedMAPEの数値を小数第一位までにする\n",
    "    for key in dictCalcedMAPE.keys():\n",
    "        dictCalcedMAPE[key] = int(dictCalcedMAPE[key] * 10) / 10\n",
    "    print(f\"single = {dictCalcedMAPE}\")\n",
    "# TODO:予測の統計的結果をグラフにプロットする\n",
    "\n",
    "\n",
    "# データを表示\n",
    "print(DFExtractedByFunction)"
   ]
  },
  {
   "cell_type": "code",
   "execution_count": null,
   "metadata": {},
   "outputs": [],
   "source": []
  }
 ],
 "metadata": {
  "kernelspec": {
   "display_name": "Python 3 (ipykernel)",
   "language": "python",
   "name": "python3"
  },
  "language_info": {
   "codemirror_mode": {
    "name": "ipython",
    "version": 3
   },
   "file_extension": ".py",
   "mimetype": "text/x-python",
   "name": "python",
   "nbconvert_exporter": "python",
   "pygments_lexer": "ipython3",
   "version": "3.9.6"
  }
 },
 "nbformat": 4,
 "nbformat_minor": 4
}
