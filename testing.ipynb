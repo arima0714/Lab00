{
 "cells": [
  {
   "cell_type": "code",
   "execution_count": 1,
   "metadata": {},
   "outputs": [
    {
     "name": "stderr",
     "output_type": "stream",
     "text": [
      "DEBUG:__main__:hello\n"
     ]
    }
   ],
   "source": [
    "# ipynb形式のライブラリのインポート\n",
    "%run ./lib/lib.ipynb\n",
    "\n",
    "# 生データの入ったCSVファイルの保持されたディレクトリ名を格納している変数\n",
    "csvDirPath = \"./csv_files/\"\n",
    "benchmarkNames = [\"cg\", \"ep\", \"ft\", \"is\", \"lu\", \"mg\"]"
   ]
  },
  {
   "cell_type": "code",
   "execution_count": 2,
   "metadata": {},
   "outputs": [
    {
     "name": "stderr",
     "output_type": "stream",
     "text": [
      "DEBUG:lib.lab_lib:hello\n"
     ]
    }
   ],
   "source": [
    "# ipynb形式のライブラリノートを.py形式に変更したものをインポート\n",
    "import lib\n",
    "import lib.lab_lib\n",
    "from lib.lab_lib import *"
   ]
  },
  {
   "cell_type": "markdown",
   "metadata": {},
   "source": [
    "# 2022年3月16日～\n",
    "\n",
    "## (個人作業)回帰木モデルを含めたMAPE表の作成"
   ]
  },
  {
   "cell_type": "code",
   "execution_count": 3,
   "metadata": {},
   "outputs": [
    {
     "name": "stdout",
     "output_type": "stream",
     "text": [
      "exp_var = ['process', 'na', 'nonzer', 'niter', 'shift']\n"
     ]
    },
    {
     "name": "stderr",
     "output_type": "stream",
     "text": [
      "/usr/local/lib/python3.10/site-packages/scipy/optimize/_minpack_py.py:833: OptimizeWarning: Covariance of the parameters could not be estimated\n",
      "  warnings.warn('Covariance of the parameters could not be estimated',\n",
      "/usr/local/lib/python3.10/site-packages/scipy/optimize/_minpack_py.py:833: OptimizeWarning: Covariance of the parameters could not be estimated\n",
      "  warnings.warn('Covariance of the parameters could not be estimated',\n",
      "/usr/local/lib/python3.10/site-packages/scipy/optimize/_minpack_py.py:833: OptimizeWarning: Covariance of the parameters could not be estimated\n",
      "  warnings.warn('Covariance of the parameters could not be estimated',\n",
      "/usr/local/lib/python3.10/site-packages/scipy/optimize/_minpack_py.py:833: OptimizeWarning: Covariance of the parameters could not be estimated\n",
      "  warnings.warn('Covariance of the parameters could not be estimated',\n",
      "/usr/local/lib/python3.10/site-packages/scipy/optimize/_minpack_py.py:833: OptimizeWarning: Covariance of the parameters could not be estimated\n",
      "  warnings.warn('Covariance of the parameters could not be estimated',\n",
      "/usr/local/lib/python3.10/site-packages/scipy/optimize/_minpack_py.py:833: OptimizeWarning: Covariance of the parameters could not be estimated\n",
      "  warnings.warn('Covariance of the parameters could not be estimated',\n",
      "/usr/local/lib/python3.10/site-packages/scipy/optimize/_minpack_py.py:833: OptimizeWarning: Covariance of the parameters could not be estimated\n",
      "  warnings.warn('Covariance of the parameters could not be estimated',\n",
      "/usr/local/lib/python3.10/site-packages/scipy/optimize/_minpack_py.py:833: OptimizeWarning: Covariance of the parameters could not be estimated\n",
      "  warnings.warn('Covariance of the parameters could not be estimated',\n",
      "/usr/local/lib/python3.10/site-packages/scipy/optimize/_minpack_py.py:833: OptimizeWarning: Covariance of the parameters could not be estimated\n",
      "  warnings.warn('Covariance of the parameters could not be estimated',\n",
      "/usr/local/lib/python3.10/site-packages/scipy/optimize/_minpack_py.py:833: OptimizeWarning: Covariance of the parameters could not be estimated\n",
      "  warnings.warn('Covariance of the parameters could not be estimated',\n",
      "/usr/local/lib/python3.10/site-packages/scipy/optimize/_minpack_py.py:833: OptimizeWarning: Covariance of the parameters could not be estimated\n",
      "  warnings.warn('Covariance of the parameters could not be estimated',\n",
      "/usr/local/lib/python3.10/site-packages/scipy/optimize/_minpack_py.py:833: OptimizeWarning: Covariance of the parameters could not be estimated\n",
      "  warnings.warn('Covariance of the parameters could not be estimated',\n",
      "/usr/local/lib/python3.10/site-packages/scipy/optimize/_minpack_py.py:833: OptimizeWarning: Covariance of the parameters could not be estimated\n",
      "  warnings.warn('Covariance of the parameters could not be estimated',\n",
      "/usr/local/lib/python3.10/site-packages/scipy/optimize/_minpack_py.py:833: OptimizeWarning: Covariance of the parameters could not be estimated\n",
      "  warnings.warn('Covariance of the parameters could not be estimated',\n",
      "/usr/local/lib/python3.10/site-packages/scipy/optimize/_minpack_py.py:833: OptimizeWarning: Covariance of the parameters could not be estimated\n",
      "  warnings.warn('Covariance of the parameters could not be estimated',\n",
      "/usr/local/lib/python3.10/site-packages/scipy/optimize/_minpack_py.py:833: OptimizeWarning: Covariance of the parameters could not be estimated\n",
      "  warnings.warn('Covariance of the parameters could not be estimated',\n"
     ]
    },
    {
     "name": "stdout",
     "output_type": "stream",
     "text": [
      "\\begin{table}\n",
      "\\caption{ベンチマークプログラムCGにおける各モデルでのMAPE}\n",
      "\\label{2022年3月9日allModelsMAPEinCG}\n",
      "\\begin{tabular}{lrrrrrrrrrrrl}\n",
      " & プロセス数を問題サイズで割る & 反比例 & 反比例＆対数 & 反比例＆線形 & 回帰木 & 対数 & 対数＆反比例 & 対数＆線形 & 線形 & 線形＆反比例 & 線形＆対数 & 最適モデル \\\\\n",
      "関数名 &  &  &  &  &  &  &  &  &  &  &  &  \\\\\n",
      ".TAU_application & 0.000000 & 0.000000 & 0.000000 & 0.000000 & 0.000000 & 0.000000 & 0.000000 & 0.000000 & 0.000000 & 0.000000 & 0.000000 & 線形 \\\\\n",
      "ALLOC_SPACE & 0.000000 & 0.000000 & 0.000000 & 0.000000 & 0.000000 & 0.000000 & 0.000000 & 0.000000 & 0.000000 & 0.000000 & 0.000000 & 線形 \\\\\n",
      "CG & 0.000000 & 0.000000 & 0.000000 & 0.000000 & 0.000000 & 0.000000 & 0.000000 & 0.000000 & 0.000000 & 0.000000 & 0.000000 & 線形 \\\\\n",
      "CONJ_GRAD & 37.550135 & 13.876670 & 13.732936 & 14.498431 & 0.000000 & 14.804389 & 14.717362 & 15.248570 & 13.161174 & 12.412559 & 12.755412 & 回帰木 \\\\\n",
      "ICNVRT & 159.614199 & 662.481358 & 2504.274677 & 894.574028 & 0.000000 & 2443.699386 & 3811.490854 & 815.789372 & 502.123230 & 6621.011052 & 2283.060136 & 回帰木 \\\\\n",
      "INITIALIZE_MPI & 0.000000 & 0.000000 & 0.000000 & 0.000000 & 0.000000 & 0.000000 & 0.000000 & 0.000000 & 0.000000 & 0.000000 & 0.000000 & 線形 \\\\\n",
      "MAKEA & 0.000000 & 0.000000 & 0.000000 & 0.000000 & 0.000000 & 0.000000 & 0.000000 & 0.000000 & 0.000000 & 0.000000 & 0.000000 & 線形 \\\\\n",
      "MPI_Barrier() & 0.000000 & 0.000000 & 0.000000 & 0.000000 & 0.000000 & 0.000000 & 0.000000 & 0.000000 & 0.000000 & 0.000000 & 0.000000 & 線形 \\\\\n",
      "MPI_Bcast() & 0.000000 & 0.000000 & 0.000000 & 0.000000 & 0.000000 & 0.000000 & 0.000000 & 0.000000 & 0.000000 & 0.000000 & 0.000000 & 線形 \\\\\n",
      "MPI_Comm_rank() & 0.000000 & 0.000000 & 0.000000 & 0.000000 & 0.000000 & 0.000000 & 0.000000 & 0.000000 & 0.000000 & 0.000000 & 0.000000 & 線形 \\\\\n",
      "MPI_Comm_size() & 0.000000 & 0.000000 & 0.000000 & 0.000000 & 0.000000 & 0.000000 & 0.000000 & 0.000000 & 0.000000 & 0.000000 & 0.000000 & 線形 \\\\\n",
      "MPI_Finalize() & 0.000000 & 0.000000 & 0.000000 & 0.000000 & 0.000000 & 0.000000 & 0.000000 & 0.000000 & 0.000000 & 0.000000 & 0.000000 & 線形 \\\\\n",
      "MPI_Init() & 0.000000 & 0.000000 & 0.000000 & 0.000000 & 0.000000 & 0.000000 & 0.000000 & 0.000000 & 0.000000 & 0.000000 & 0.000000 & 線形 \\\\\n",
      "MPI_Irecv() & 208.955855 & 38.629896 & 38.552817 & 39.029932 & 0.000000 & 35.489902 & 35.487038 & 35.954193 & 34.989183 & 35.515528 & 35.660459 & 回帰木 \\\\\n",
      "MPI_Reduce() & 0.000000 & 0.000000 & 0.000000 & 0.000000 & 0.000000 & 0.000000 & 0.000000 & 0.000000 & 0.000000 & 0.000000 & 0.000000 & 線形 \\\\\n",
      "MPI_Send() & 208.955855 & 38.629896 & 38.552817 & 39.029932 & 0.000000 & 35.489902 & 35.487038 & 35.954193 & 34.989183 & 35.515528 & 35.660459 & 回帰木 \\\\\n",
      "MPI_Wait() & 208.955855 & 38.629896 & 38.552817 & 39.029932 & 0.000000 & 35.489902 & 35.487038 & 35.954193 & 34.989183 & 35.515528 & 35.660459 & 回帰木 \\\\\n",
      "SETUP_PROC_INFO & 0.000000 & 0.000000 & 0.000000 & 0.000000 & 0.000000 & 0.000000 & 0.000000 & 0.000000 & 0.000000 & 0.000000 & 0.000000 & 線形 \\\\\n",
      "SETUP_SUBMATRIX_INFO & 0.000000 & 0.000000 & 0.000000 & 0.000000 & 0.000000 & 0.000000 & 0.000000 & 0.000000 & 0.000000 & 0.000000 & 0.000000 & 線形 \\\\\n",
      "SPARSE & 0.000000 & 0.000000 & 0.000000 & 0.000000 & 0.000000 & 0.000000 & 0.000000 & 0.000000 & 0.000000 & 0.000000 & 0.000000 & 線形 \\\\\n",
      "SPRNVC & 153.544935 & 336.648986 & 1321.895548 & 345.739861 & 0.000000 & 1306.978016 & 1503.097645 & 338.951990 & 198.005854 & 2573.964383 & 1221.597908 & 回帰木 \\\\\n",
      "VECSET & 153.544935 & 336.648986 & 1321.895548 & 345.739861 & 0.000000 & 1306.978016 & 1503.097645 & 338.951990 & 198.005854 & 2573.964383 & 1221.597908 & 回帰木 \\\\\n",
      "\\end{tabular}\n",
      "\\end{table}\n",
      "\n"
     ]
    },
    {
     "name": "stderr",
     "output_type": "stream",
     "text": [
      "/usr/local/lib/python3.10/site-packages/scipy/optimize/_minpack_py.py:833: OptimizeWarning: Covariance of the parameters could not be estimated\n",
      "  warnings.warn('Covariance of the parameters could not be estimated',\n",
      "/usr/local/lib/python3.10/site-packages/scipy/optimize/_minpack_py.py:833: OptimizeWarning: Covariance of the parameters could not be estimated\n",
      "  warnings.warn('Covariance of the parameters could not be estimated',\n"
     ]
    }
   ],
   "source": [
    "benchmark_name = \"cg\"\n",
    "\n",
    "classes = [\"A\", \"B\", \"C\", \"D\", \"E\", \"F\"]\n",
    "processes = [2, 4, 8, 16, 32, 64, 128, 256]\n",
    "\n",
    "dict_column_names_JP = {\n",
    "    \"functionName\": \"関数名\",\n",
    "    \"modelLin\": \"線形\",\n",
    "    \"modelIp\": \"反比例\",\n",
    "    \"modelLog\": \"対数\",\n",
    "    \"modelLinAndIp\": \"線形＆反比例\",\n",
    "    \"modelLinAndLog\": \"線形＆対数\",\n",
    "    \"modelIpAndLin\": \"反比例＆線形\",\n",
    "    \"modelIpAndLog\": \"反比例＆対数\",\n",
    "    \"modelLogAndLin\": \"対数＆線形\",\n",
    "    \"modelLogAndIp\": \"対数＆反比例\",\n",
    "    \"modelProcessDividedByProblemSize\": \"プロセス数を問題サイズで割る\",\n",
    "    \"modelBasicTree\": \"回帰木\",\n",
    "}\n",
    "\n",
    "model_names_list_JP = list(dict_column_names_JP.values())\n",
    "model_names_list_JP.remove(\"関数名\")\n",
    "\n",
    "model_names_list = list(dict_column_names_JP.keys())\n",
    "model_names_list.remove(\"functionName\")\n",
    "\n",
    "date = \"2022年3月9日\"\n",
    "\n",
    "# コア数と問題サイズの両方を振る\n",
    "\n",
    "rawDF = return_rawDF_with_init_param(\n",
    "    benchmark_name=benchmark_name,\n",
    "    classes=classes,\n",
    "    processes=processes,\n",
    "    csv_dir_path=\"./csv_files/\",\n",
    ")\n",
    "\n",
    "exp_var = rawDF.columns.tolist()\n",
    "for element_be_removed in [\n",
    "    \"functionName\",\n",
    "    \"functionCallNum\",\n",
    "    \"intBenchmarkClass\",\n",
    "    \"benchmarkName\",\n",
    "    \"benchmarkClass\",\n",
    "]:\n",
    "    exp_var.remove(element_be_removed)\n",
    "res_var = [\"functionCallNum\"]\n",
    "\n",
    "print(f\"exp_var = {exp_var}\")\n",
    "\n",
    "returned_MAPE_table = return_MAPE_Table_DF_from_rawDF(\n",
    "    rawDF=rawDF,\n",
    "    exp_var_list=exp_var,\n",
    "    res_var_list=res_var,\n",
    "    model_name_list=model_names_list,\n",
    ")\n",
    "df = returned_MAPE_table.rename(columns=dict_column_names_JP)\n",
    "df = df.set_index(\"関数名\")\n",
    "df = df.sort_index(axis=0)\n",
    "df = df.sort_index(axis=1)\n",
    "\n",
    "df = addLowestMAPEsModelNameColumn(df, version=2, model_name_list=model_names_list_JP)\n",
    "\n",
    "print(\n",
    "    df.style.to_latex(\n",
    "        caption=f\"ベンチマークプログラム{benchmark_name.upper()}における各モデルでのMAPE\",\n",
    "        label=f\"{date}allModelsMAPEin{benchmark_name.upper()}\",\n",
    "    )\n",
    ")"
   ]
  },
  {
   "cell_type": "markdown",
   "metadata": {},
   "source": [
    "# 2022年3月10日～2022年3月16日\n",
    "\n",
    "# ✅組み合わせモデルとベースモデルで同じMAPEになってしまう理由の調査\n",
    "\n",
    "## 調査メモ\n",
    "\n",
    "* processes リストが 1-128 の場合は上記の問題が発生するが、1-256 の場合は発生しない\n",
    "\n",
    "## 結論（2022年3月16日のゼミより）\n",
    "\n",
    "* 1～256のデータを使う"
   ]
  },
  {
   "cell_type": "code",
   "execution_count": 4,
   "metadata": {},
   "outputs": [
    {
     "name": "stdout",
     "output_type": "stream",
     "text": [
      "                           線形              線形＆反比例               線形＆対数 最適モデル\n",
      "関数名                                                                        \n",
      "CONJ_GRAD  16.051673712330807  16.051673714205847  16.051673714205901    線形\n",
      "\\begin{table}\n",
      "\\caption{ベンチマークプログラムCGにおける各モデルでのMAPE}\n",
      "\\label{2022年3月16日allModelsMAPEinCG}\n",
      "\\begin{tabular}{lrrrl}\n",
      " & 線形 & 線形＆反比例 & 線形＆対数 & 最適モデル \\\\\n",
      "関数名 &  &  &  &  \\\\\n",
      "CONJ_GRAD & 16.051674 & 16.051674 & 16.051674 & 線形 \\\\\n",
      "\\end{tabular}\n",
      "\\end{table}\n",
      "\n"
     ]
    }
   ],
   "source": [
    "benchmark_name = \"cg\"\n",
    "\n",
    "classes = [\"A\", \"B\", \"C\", \"D\"]\n",
    "processes = [2, 4, 8, 16, 32, 64, 128]\n",
    "\n",
    "dict_column_names_JP = {\n",
    "    \"functionName\": \"関数名\",\n",
    "    \"modelLin\": \"線形\",\n",
    "    # \"modelIp\": \"反比例\",\n",
    "    # \"modelLog\": \"対数\",\n",
    "    \"modelLinAndIp\": \"線形＆反比例\",\n",
    "    \"modelLinAndLog\": \"線形＆対数\",\n",
    "    # \"modelIpAndLin\": \"反比例＆線形\",\n",
    "    # \"modelIpAndLog\": \"反比例＆対数\",\n",
    "    # \"modelLogAndLin\": \"対数＆線形\",\n",
    "    # \"modelLogAndIp\": \"対数＆反比例\",\n",
    "    # \"modelProcessDividedByProblemSize\": \"プロセス数を問題サイズで割る\"\n",
    "}\n",
    "\n",
    "model_names_list_JP = list(dict_column_names_JP.values())\n",
    "model_names_list_JP.remove(\"関数名\")\n",
    "\n",
    "model_names_list = list(dict_column_names_JP.keys())\n",
    "model_names_list.remove(\"functionName\")\n",
    "\n",
    "date = \"2022年3月16日\"\n",
    "\n",
    "# コア数と問題サイズの両方を振る\n",
    "\n",
    "rawDF = return_rawDF_with_init_param(\n",
    "    benchmark_name=benchmark_name,\n",
    "    classes=classes,\n",
    "    processes=processes,\n",
    "    csv_dir_path=\"./csv_files/\",\n",
    ")\n",
    "\n",
    "rawDF = rawDF[rawDF[\"functionName\"] == \"CONJ_GRAD\"]\n",
    "\n",
    "exp_var = rawDF.columns.tolist()\n",
    "for element_be_removed in [\n",
    "    \"functionName\",\n",
    "    \"functionCallNum\",\n",
    "    \"intBenchmarkClass\",\n",
    "    \"benchmarkName\",\n",
    "    \"benchmarkClass\",\n",
    "]:\n",
    "    exp_var.remove(element_be_removed)\n",
    "res_var = [\"functionCallNum\"]\n",
    "\n",
    "returned_MAPE_table = return_MAPE_Table_DF_from_rawDF(\n",
    "    rawDF=rawDF,\n",
    "    exp_var_list=exp_var,\n",
    "    res_var_list=res_var,\n",
    "    model_name_list=model_names_list,\n",
    ")\n",
    "df = returned_MAPE_table.rename(columns=dict_column_names_JP)\n",
    "df = df.set_index(\"関数名\")\n",
    "df = df.sort_index(axis=0)\n",
    "df = df.sort_index(axis=1)\n",
    "\n",
    "df = addLowestMAPEsModelNameColumn(df, version=2, model_name_list=model_names_list_JP)\n",
    "\n",
    "pd.options.display.precision = 15\n",
    "print(df)\n",
    "\n",
    "print(\n",
    "    df.style.to_latex(\n",
    "        caption=f\"ベンチマークプログラム{benchmark_name.upper()}における各モデルでのMAPE\",\n",
    "        label=f\"{date}allModelsMAPEin{benchmark_name.upper()}\",\n",
    "    )\n",
    ")\n",
    "pd.options.display.precision = 6"
   ]
  },
  {
   "cell_type": "markdown",
   "metadata": {},
   "source": []
  }
 ],
 "metadata": {
  "kernelspec": {
   "display_name": "Python 3 (ipykernel)",
   "language": "python",
   "name": "python3"
  },
  "language_info": {
   "codemirror_mode": {
    "name": "ipython",
    "version": 3
   },
   "file_extension": ".py",
   "mimetype": "text/x-python",
   "name": "python",
   "nbconvert_exporter": "python",
   "pygments_lexer": "ipython3",
   "version": "3.10.0"
  }
 },
 "nbformat": 4,
 "nbformat_minor": 4
}
