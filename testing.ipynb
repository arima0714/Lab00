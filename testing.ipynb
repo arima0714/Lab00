{
 "cells": [
  {
   "cell_type": "markdown",
   "metadata": {},
   "source": [
    "### 二次元リストから生成"
   ]
  },
  {
   "cell_type": "code",
   "execution_count": 1,
   "metadata": {},
   "outputs": [],
   "source": [
    "# ipynb形式のライブラリのインポート\n",
    "%run ./lib.ipynb\n",
    "\n",
    "import pandas as pd\n",
    "\n",
    "# 1 各行を一つのリストとして並べる\n",
    "\n",
    "list = [\n",
    "    [1, 100, 0.33, 'AAA', 'AAA100'], \n",
    "    [2, 200, 0.67, 'BBB', 'BBB200'], \n",
    "    [3, 300, 1, 'CCC', 'CCC300'], \n",
    "    [4, 400, 1.33, 'DDD', 'DDD400'], \n",
    "    [5, 500, 1.67, 'EEE', 'EEE500'], \n",
    "    [6, 600, 2, 'FFF', 'FFF600']\n",
    "]\n",
    "\n",
    "# 2 表に変換\n",
    "# pd.DataFrame(list) : pandasのDataFrameで表に変換\n",
    "df = pd.DataFrame(list)\n",
    "# 行名・列名は自動で割り振られた番号になっている\n",
    "\n",
    "# 3 行名の変更\n",
    "df.index = ['row0', 'row1', 'row2', 'row3', 'row4', 'row5']\n",
    "\n",
    "# 4 列名の変更\n",
    "df.columns = ['col0', 'col1', 'col2', 'col3', 'col4']\n",
    "\n",
    "df\n",
    "\n",
    "# 1 各行を一つのリストとして並べる\n",
    "list = [\n",
    "[1, 100, 0.33, 'AAA', 'AAA100'], \n",
    "[2, 200, 0.67, 'BBB', 'BBB200'], \n",
    "[3, 300, 1, 'CCC', 'CCC300'], \n",
    "[4, 400, 1.33, 'DDD', 'DDD400'], \n",
    "[5, 500, 1.67, 'EEE', 'EEE500'], \n",
    "[6, 600, 2, 'FFF', 'FFF600']]\n",
    "\n",
    "\n",
    "#2 表に変換(オプションで行列名を指定)\n",
    "ind = ['row0', 'row1', 'row2', 'row3', 'row4', 'row5']\n",
    "col = ['col0', 'col1', 'col2', 'col3', 'col4']\n",
    "\n",
    "df = pd.DataFrame(list, index=ind, columns=col)\n",
    "\n",
    "\n",
    "df\n",
    "\n",
    "# 1 各行を一つのリストにする\n",
    "list = [\n",
    "['row0', 1, 100, 0.33, 'AAA', 'AAA100'], \n",
    "['row1', 2, 200, 0.67, 'BBB', 'BBB200'], \n",
    "['row2', 3, 300, 1, 'CCC', 'CCC300'], \n",
    "['row3', 4, 400, 1.33, 'DDD', 'DDD400'], \n",
    "['row4', 5, 500, 1.67, 'EEE', 'EEE500'], \n",
    "['row5', 6, 600, 2, 'FFF', 'FFF600'], ]\n",
    "\n",
    "# 2 表に変換\n",
    "df = pd.DataFrame(list)\n",
    "\n",
    "# 3 列名を変更\n",
    "df.columns = ['', 'col0', 'col1', 'col2', 'col3', 'col4']\n",
    "\n",
    "# 4 行名となる列を指定\n",
    "df = df.set_index('')\n",
    "\n",
    "df\n",
    "\n",
    "# 1 各行ごとのリストを作成\n",
    "\n",
    "listA = [1, 100, 0.33, 'AAA', 'AAA100']\n",
    "listB = [2, 200, 0.67, 'BBB', 'BBB200']\n",
    "listC = [3, 300, 1, 'CCC', 'CCC300']\n",
    "listD = [4, 400, 1.33, 'DDD', 'DDD400']\n",
    "listE = [5, 500, 1.67, 'EEE', 'EEE500']\n",
    "listF = [6, 600, 2, 'FFF', 'FFF600']\n",
    "\n",
    "# 2 まとめて表に変換\n",
    "\n",
    "df = pd.DataFrame([listA, listB, listC, listD, listE, listF])\n",
    "\n",
    "# 3 行名の変更\n",
    "df.index = ['row0', 'row1', 'row2', 'row3', 'row4', 'row5']\n",
    "\n",
    "# 4 列名の変更\n",
    "df.columns = ['col0', 'col1', 'col2', 'col3', 'col4']\n",
    "\n",
    "del list"
   ]
  },
  {
   "cell_type": "code",
   "execution_count": 2,
   "metadata": {},
   "outputs": [
    {
     "data": {
      "image/png": "[encoded data removed]",
      "text/plain": [
       "<Figure size 432x288 with 1 Axes>"
      ]
     },
     "metadata": {
      "needs_background": "light"
     },
     "output_type": "display_data"
    }
   ],
   "source": [
    "cg_c_data = return_dict_summary_fixed()\n",
    "\n",
    "x = cg_c_data[\"processes\"]\n",
    "y = cg_c_data[\"ICNVRT\"]\n",
    "\n",
    "cg_icnvrt_lr = ModelLog10(x, y, \"CG\", \"ICNVRT\")\n",
    "\n",
    "cg_icnvrt_lr.calc_lr()\n",
    "\n",
    "cg_icnvrt_lr.plot_graph()"
   ]
  },
  {
   "cell_type": "code",
   "execution_count": 3,
   "metadata": {},
   "outputs": [
    {
     "data": {
      "text/plain": [
       "3"
      ]
     },
     "execution_count": 3,
     "metadata": {},
     "output_type": "execute_result"
    }
   ],
   "source": [
    "max_in_y = max(y)\n",
    "# 最大値の個数を取得\n",
    "y.tolist().count(max_in_y)\n",
    "# 最大値のインデックスで最小のもの\n",
    "y.tolist().index(max_in_y)"
   ]
  },
  {
   "cell_type": "code",
   "execution_count": 4,
   "metadata": {},
   "outputs": [
    {
     "name": "stdout",
     "output_type": "stream",
     "text": [
      "0.0\n"
     ]
    },
    {
     "data": {
      "image/png": "[encoded data removed]",
      "text/plain": [
       "<Figure size 432x288 with 1 Axes>"
      ]
     },
     "metadata": {
      "needs_background": "light"
     },
     "output_type": "display_data"
    }
   ],
   "source": [
    "model_branch = ModelBranch(x, y, \"CG\", \"ICNVRT\")\n",
    "\n",
    "model_branch.calc_lr()\n",
    "\n",
    "model_branch.calc_mape_score()\n",
    "\n",
    "print(model_branch.mape_score)\n",
    "\n",
    "model_branch.plot_graph()"
   ]
  },
  {
   "cell_type": "code",
   "execution_count": 5,
   "metadata": {},
   "outputs": [],
   "source": [
    "# ipynb形式のライブラリのインポート\n",
    "%run ./lib.ipynb"
   ]
  },
  {
   "cell_type": "code",
   "execution_count": 6,
   "metadata": {},
   "outputs": [
    {
     "name": "stdout",
     "output_type": "stream",
     "text": [
      "test_ratio=0.3\n",
      "train_list, test_list = ([1, 2, 4, 8, 16, 32, 64], [128, 256]) on processes_excludeBTSP\n",
      "train_list, test_list = ([1, 4, 9, 16, 25, 36, 49, 64, 81, 100], [121, 169, 196, 225]) on processes_onlyBTSP\n",
      "\n",
      "\n",
      "type(fixed_class_list) = <class 'list'>\n",
      "type(fixed_class_list) = <class 'list'>\n",
      "type(fixed_class_list) = <class 'list'>\n",
      "type(fixed_class_list) = <class 'list'>\n",
      "type(fixed_class_list) = <class 'list'>\n",
      "type(fixed_class_list) = <class 'list'>\n",
      "type(fixed_class_list) = <class 'list'>\n",
      "type(fixed_class_list) = <class 'list'>\n",
      "test_ratio=0.4\n",
      "train_list, test_list = ([1, 2, 4, 8, 16, 32], [64, 128, 256]) on processes_excludeBTSP\n",
      "train_list, test_list = ([1, 4, 9, 16, 25, 36, 49, 64, 81], [100, 121, 169, 196, 225]) on processes_onlyBTSP\n",
      "\n",
      "\n",
      "type(fixed_class_list) = <class 'list'>\n",
      "type(fixed_class_list) = <class 'list'>\n",
      "type(fixed_class_list) = <class 'list'>\n",
      "type(fixed_class_list) = <class 'list'>\n",
      "type(fixed_class_list) = <class 'list'>\n",
      "type(fixed_class_list) = <class 'list'>\n",
      "type(fixed_class_list) = <class 'list'>\n",
      "type(fixed_class_list) = <class 'list'>\n",
      "test_ratio=0.5\n",
      "train_list, test_list = ([1, 2, 4, 8, 16], [32, 64, 128, 256]) on processes_excludeBTSP\n",
      "train_list, test_list = ([1, 4, 9, 16, 25, 36, 49], [64, 81, 100, 121, 169, 196, 225]) on processes_onlyBTSP\n",
      "\n",
      "\n",
      "type(fixed_class_list) = <class 'list'>\n",
      "type(fixed_class_list) = <class 'list'>\n",
      "type(fixed_class_list) = <class 'list'>\n",
      "type(fixed_class_list) = <class 'list'>\n",
      "type(fixed_class_list) = <class 'list'>\n",
      "type(fixed_class_list) = <class 'list'>\n",
      "type(fixed_class_list) = <class 'list'>\n",
      "type(fixed_class_list) = <class 'list'>\n",
      "test_ratio=0.6\n",
      "train_list, test_list = ([1, 2, 4, 8], [16, 32, 64, 128, 256]) on processes_excludeBTSP\n",
      "train_list, test_list = ([1, 4, 9, 16, 25, 36], [49, 64, 81, 100, 121, 169, 196, 225]) on processes_onlyBTSP\n",
      "\n",
      "\n",
      "type(fixed_class_list) = <class 'list'>\n",
      "type(fixed_class_list) = <class 'list'>\n",
      "type(fixed_class_list) = <class 'list'>\n",
      "type(fixed_class_list) = <class 'list'>\n",
      "type(fixed_class_list) = <class 'list'>\n",
      "type(fixed_class_list) = <class 'list'>\n",
      "type(fixed_class_list) = <class 'list'>\n",
      "type(fixed_class_list) = <class 'list'>\n",
      "test_ratio=0.7\n",
      "train_list, test_list = ([1, 2, 4], [8, 16, 32, 64, 128, 256]) on processes_excludeBTSP\n",
      "train_list, test_list = ([1, 4, 9, 16, 25], [36, 49, 64, 81, 100, 121, 169, 196, 225]) on processes_onlyBTSP\n",
      "\n",
      "\n",
      "type(fixed_class_list) = <class 'list'>\n",
      "type(fixed_class_list) = <class 'list'>\n",
      "type(fixed_class_list) = <class 'list'>\n",
      "type(fixed_class_list) = <class 'list'>\n",
      "type(fixed_class_list) = <class 'list'>\n",
      "type(fixed_class_list) = <class 'list'>\n",
      "type(fixed_class_list) = <class 'list'>\n",
      "type(fixed_class_list) = <class 'list'>\n"
     ]
    }
   ],
   "source": [
    "# 変数：test_ratios\n",
    "# テスト用データとする割合のリスト\n",
    "test_ratios = [0.3, 0.4, 0.5, 0.6, 0.7]\n",
    "\n",
    "for test_ratio in test_ratios:\n",
    "    print(f\"test_ratio={test_ratio}\")\n",
    "    print(f\"train_list, test_list = {split_by_ratio(processes_excludeBTSP, test_ratio)} on processes_excludeBTSP\")\n",
    "    print(f\"train_list, test_list = {split_by_ratio(processes_onlyBTSP, test_ratio)} on processes_onlyBTSP\")\n",
    "    print(f\"\\n\")\n",
    "    fixed_class_list = [0] * len(benchmarks)\n",
    "    for i in range(len(fixed_class_list)):\n",
    "        if ( benchmarks[i] == \"bt\" or benchmarks[i] == \"sp\" ):\n",
    "            processes = processes_onlyBTSP\n",
    "        else:\n",
    "            processes = processes_excludeBTSP\n",
    "        fixed_class_list[i] = return_fixed_class(BenchMark = benchmarks[i], Processes = processes, FixedBenchMarkClass = \"C\")\n",
    "\n",
    "        print(f\"type(fixed_class_list) = {type(fixed_class_list)}\")\n",
    "\n",
    "    fixed_class_DataFrame = [0] * len(fixed_class_list)\n",
    "    for i in range(len(fixed_class_list)):\n",
    "        fixed_class_DataFrame[i] = pd.concat(fixed_class_list[i] , axis=1)\n",
    "\n",
    "    # テーブルの元となるDataFrameを作成する\n",
    "    MapeTable_source = [0] * len(fixed_class_list)\n",
    "    for i in range(len(fixed_class_list)):\n",
    "        dict_data = return_dict_Data(fixed_class_DataFrame[i])\n",
    "        MapeTable_per_benchmark = return_MapeTable_per_benchmark(dict_data, test_ratio=test_ratio)\n",
    "        MapeTable_row = return_MapeTable_row(MapeTable_per_benchmark, benchmarks[i], f\"TestRatio{test_ratio}_FixedClass\")\n",
    "        MapeTable_source[i] = MapeTable_row\n",
    "    # テーブルの元となるDataFrameにつける列名のリスト\n",
    "    MapeTable_source_column_name = [\"線形モデル\", \"対数モデル\", \"反比例モデル\", \"分岐モデル\", \"ベンチマーク名\"]\n",
    "    MapeTable = pd.DataFrame(MapeTable_source)\n",
    "    MapeTable.columns = MapeTable_source_column_name\n",
    "    MapeTable = MapeTable.set_index('ベンチマーク名')\n",
    "    # テーブルを欲しい形でCSVとして出力する\n",
    "    save_MapeTable(MapeTable, suffix=f\"FixedClass{test_ratio}\")\n"
   ]
  },
  {
   "cell_type": "code",
   "execution_count": 7,
   "metadata": {},
   "outputs": [],
   "source": [
    "# ipynb形式のライブラリのインポート\n",
    "%run ./lib.ipynb"
   ]
  },
  {
   "cell_type": "code",
   "execution_count": 8,
   "metadata": {},
   "outputs": [
    {
     "name": "stdout",
     "output_type": "stream",
     "text": [
      "test_ratio=0.3\n",
      "train_list, test_list = (['A', 'B', 'C'], ['D']) on BenchmarkClasses\n",
      "train_list, test_list = ([1, 4, 16], [256]) on BenchmarkClasses_on_num\n",
      "test_ratio=0.5\n",
      "train_list, test_list = (['A', 'B'], ['C', 'D']) on BenchmarkClasses\n",
      "train_list, test_list = ([1, 4], [16, 256]) on BenchmarkClasses_on_num\n",
      "test_ratio=0.8\n",
      "train_list, test_list = (['A'], ['B', 'C', 'D']) on BenchmarkClasses\n",
      "train_list, test_list = ([1], [4, 16, 256]) on BenchmarkClasses_on_num\n"
     ]
    }
   ],
   "source": [
    "BenchmarkClasses = [\"A\", \"B\", \"C\", \"D\"]\n",
    "BenchmarkClasses_on_num = [1, 4, 16, 256]\n",
    "test_ratios = [0.3, 0.5, 0.8]\n",
    "\n",
    "\n",
    "for test_ratio in test_ratios:\n",
    "    print(f\"test_ratio={test_ratio}\")\n",
    "    print(f\"train_list, test_list = {split_by_ratio(BenchmarkClasses, test_ratio)} on BenchmarkClasses\")\n",
    "    print(f\"train_list, test_list = {split_by_ratio(BenchmarkClasses_on_num, test_ratio)} on BenchmarkClasses_on_num\")\n",
    "    fixed_process_list = [0] * len(benchmarks)\n",
    "    for i in range(len(benchmarks)):\n",
    "        fixed_process_list[i] = return_fixed_process(BenchMark=benchmarks[1], BenchMarkClasses=BenchmarkClasses, FixedProcess=32)\n",
    "\n",
    "    fixed_process_DataFrame = [0] * len(benchmarks)\n",
    "    for i in range(len(benchmarks)):\n",
    "        fixed_process_DataFrame[i] = pd.concat(fixed_process_list[i], axis=1)\n",
    "\n",
    "    # テーブルの元となるDataFrameを作成する\n",
    "    MapeTable_source = [0] * len(fixed_process_list)\n",
    "    for i in range(len(fixed_process_list)):\n",
    "        dict_data = return_dict_Data(fixed_process_DataFrame[i])\n",
    "        dict_data['rowData'] = BenchmarkClasses_on_num\n",
    "        MapeTable_per_benchmark = return_MapeTable_per_benchmark(dict_data, test_ratio=test_ratio)\n",
    "        MapeTable_row = return_MapeTable_row(MapeTable_per_benchmark, benchmarks[i], f\"TestRatio{test_ratio}_FixedProcess\")\n",
    "        MapeTable_source[i] = MapeTable_row\n",
    "    # テーブルの元となるDataFrameにつける列名のリスト\n",
    "    MapeTable_source_column_name = [\"線形モデル\", \"対数モデル\", \"反比例モデル\", \"分岐モデル\", \"ベンチマーク名\"]\n",
    "    MapeTable = pd.DataFrame(MapeTable_source)\n",
    "    MapeTable.columns = MapeTable_source_column_name\n",
    "    MapeTable = MapeTable.set_index('ベンチマーク名')\n",
    "    # テーブルを欲しい形でCSVとして出力する\n",
    "    save_MapeTable(MapeTable, suffix=f\"FixedProcess{test_ratio}\")\n",
    "\n"
   ]
  },
  {
   "cell_type": "code",
   "execution_count": null,
   "metadata": {},
   "outputs": [],
   "source": []
  }
 ],
 "metadata": {
  "kernelspec": {
   "display_name": "Python 3",
   "language": "python",
   "name": "python3"
  },
  "language_info": {
   "codemirror_mode": {
    "name": "ipython",
    "version": 3
   },
   "file_extension": ".py",
   "mimetype": "text/x-python",
   "name": "python",
   "nbconvert_exporter": "python",
   "pygments_lexer": "ipython3",
   "version": "3.8.5"
  }
 },
 "nbformat": 4,
 "nbformat_minor": 4
}
