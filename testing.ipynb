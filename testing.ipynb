{
 "cells": [
  {
   "cell_type": "code",
   "execution_count": null,
   "metadata": {},
   "outputs": [],
   "source": [
    "# ipynb形式のライブラリのインポート\n",
    "%run ./lib.ipynb"
   ]
  },
  {
   "cell_type": "code",
   "execution_count": null,
   "metadata": {},
   "outputs": [],
   "source": [
    "# 引数：input_x  は横軸に相当する値のリスト\n",
    "# 引数：input_y  は縦軸に相当する値のリスト\n",
    "# 引数：repeated はDATA列を繰り返す回数\n",
    "# 引数：includeLastData は学習に最後の値を使うかどうかを指定\n",
    "\n",
    "def generateInputFileForExtraPfromLists(input_x=[1, 2, 4, 8, 16, 32, 64, 128, 256], input_y=[1.0, 1, 1, 1.0, 1.0, 1.0, 1.0, 1.0, 1.0], repeated = 3, includeFirstData=False, includeLastData = False, fileName = \"tmp_functionName.txt\"):\n",
    "\n",
    "    # https://github.com/extra-p/extrap/blob/master/docs/examples/input.txt\n",
    "    # が入力例のテキストファイルとなっており、これに対応するファイルを作成する。\n",
    "    tmpfile = open(fileName, 'w+')\n",
    "    tmpfile.write(\"PARAMETER p\\n\")\n",
    "    tmpfile.write(\"POINTS\")\n",
    "\n",
    "    if(includeLastData == False):\n",
    "        input_x = input_x[:-1]\n",
    "        input_y = input_y[:-1]\n",
    "    if(includeFirstData == False):\n",
    "        input_x = input_x[1:]\n",
    "        input_y = input_y[1:]\n",
    "\n",
    "    for x in input_x:\n",
    "        tmpfile.write(f\" ({x})\")\n",
    "    tmpfile.write(\"\\n\\n\")\n",
    "\n",
    "    tmpfile.write(f\"REGION {functionName}\\n\")\n",
    "    tmpfile.write(\"METRIC functionCall\\n\")\n",
    "\n",
    "    for y in input_y:\n",
    "\n",
    "        tmpfile.write(\"DATA\")\n",
    "        content = float(y)\n",
    "\n",
    "        for i in range(repeated):\n",
    "            tmpfile.write(f\" {content}\")\n",
    "        tmpfile.write(\"\\n\")\n",
    "\n",
    "    tmpfile.close()\n"
   ]
  },
  {
   "cell_type": "code",
   "execution_count": null,
   "metadata": {},
   "outputs": [],
   "source": [
    "inputDF = returnRawDF(fix=\"Class\")\n",
    "input_x = inputDF.columns.tolist()\n",
    "functionNames = inputDF.index.tolist()\n",
    "functionName = functionNames[0]\n",
    "input_y = []\n",
    "for x in input_x:\n",
    "    input_y.append(inputDF.at[functionName, x])\n",
    "\n",
    "generateInputFileForExtraPfromLists(input_x=input_x, input_y=input_y, repeated=3, includeFirstData=False, includeLastData=False, fileName=\"tmp_functionName.txt\")"
   ]
  },
  {
   "cell_type": "code",
   "execution_count": null,
   "metadata": {},
   "outputs": [],
   "source": []
  }
 ],
 "metadata": {
  "kernelspec": {
   "display_name": "Python 3",
   "language": "python",
   "name": "python3"
  },
  "language_info": {
   "codemirror_mode": {
    "name": "ipython",
    "version": 3
   },
   "file_extension": ".py",
   "mimetype": "text/x-python",
   "name": "python",
   "nbconvert_exporter": "python",
   "pygments_lexer": "ipython3",
   "version": "3.9.4"
  }
 },
 "nbformat": 4,
 "nbformat_minor": 4
}
