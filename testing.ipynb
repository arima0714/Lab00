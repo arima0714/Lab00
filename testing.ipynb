{
 "cells": [
  {
   "cell_type": "code",
   "execution_count": null,
   "metadata": {},
   "outputs": [],
   "source": [
    "# ipynb形式のライブラリのインポート\n",
    "%run ./lib/lib.ipynb\n",
    "\n",
    "# TODO:3次元プロットで2変数の線形飽和モデルをプロットする\n",
    "\n",
    "plotBase = list(range(20))\n",
    "plotX = returnListForBranchModel(inputList=plotBase, branchIndex=13, a=2, b=3)\n",
    "plotY = returnListForBranchModel(inputList=plotBase, branchIndex=16, a=4, b=5)\n",
    "plotX = np.array(plotX)\n",
    "plotY = np.array(plotY)\n",
    "plotZ = plotX+plotY\n",
    "\n",
    "# TODO:関数コール回数が同じだが、2変数が異なる変数かつそういったものが多数ある場合が分岐線\n",
    "\n",
    "print(f\"plotBase={plotBase}\\nplotX={plotX}\\nplotY={plotY}\")\n",
    "\n",
    "fig = plt.figure()\n",
    "ax = Axes3D(fig)\n",
    "\n",
    "ax.set_xlabel(\"X-axis\")\n",
    "ax.set_ylabel(\"Y-axis\")\n",
    "ax.set_zlabel(\"Z-axis\")\n",
    "\n",
    "plotZero = [0]*len(plotBase)\n",
    "ax.scatter(plotBase, plotZero, plotX)\n",
    "ax.scatter(plotZero, plotBase, plotY)\n",
    "\n",
    "dataset01 = pd.DataFrame({\"X\": plotBase, \"Y\": plotZero, \"Z\": plotX})\n",
    "dataset02 = pd.DataFrame({\"X\": plotZero, \"Y\": plotBase, \"Z\": plotY})"
   ]
  },
  {
   "cell_type": "code",
   "execution_count": null,
   "metadata": {},
   "outputs": [],
   "source": [
    "xDataSet01 = dataset01[\"X\"].tolist()\n",
    "zDataSet01 = dataset01[\"Z\"].tolist()\n",
    "yDataSet02 = dataset02[\"Y\"].tolist()\n",
    "zDataSet02 = dataset02[\"Z\"].tolist()"
   ]
  },
  {
   "cell_type": "code",
   "execution_count": null,
   "metadata": {},
   "outputs": [],
   "source": [
    "branchIndexInDataSet01 = returnBranchIndexOfList(\n",
    "    inputListX=xDataSet01, inputListY=zDataSet01)\n",
    "branchIndexInDataSet02 = returnBranchIndexOfList(\n",
    "    inputListX=yDataSet02, inputListY=zDataSet02)"
   ]
  },
  {
   "cell_type": "markdown",
   "metadata": {},
   "source": [
    "# 説明変数が2つの分岐モデルを実装するにあたってのテストなど\n",
    "\n",
    "1. ~\\[X, Y, Z\\] == \\[0, Y, Z\\], \\[X, 0, Z\\] を満たすデータ群を抽出~ -> 変数 `dataset01`, `dataset02` \n",
    "2. ~抽出した2つのデータ群から分岐点を抽出~ -> 変数 `branchIndexInDataSet01`, `branchIndexInDataSet01` \n",
    "3. 抽出した分岐点を繋ぐ直線を定義\n",
    "4. データ群を定義した直線で2つに分割\n",
    "5. 分割された2平面ごとにモデルを構築"
   ]
  },
  {
   "cell_type": "code",
   "execution_count": null,
   "metadata": {},
   "outputs": [],
   "source": [
    "branchIndexInDataSet01"
   ]
  },
  {
   "cell_type": "code",
   "execution_count": null,
   "metadata": {},
   "outputs": [],
   "source": [
    "branchIndexInDataSet02"
   ]
  },
  {
   "cell_type": "code",
   "execution_count": null,
   "metadata": {},
   "outputs": [],
   "source": [
    "pointA = dataset01.iloc[branchIndexInDataSet01]\n",
    "pointA"
   ]
  },
  {
   "cell_type": "code",
   "execution_count": null,
   "metadata": {},
   "outputs": [],
   "source": [
    "pointB = dataset02.iloc[branchIndexInDataSet02]\n",
    "pointB"
   ]
  },
  {
   "cell_type": "code",
   "execution_count": null,
   "metadata": {},
   "outputs": [],
   "source": [
    "dataX = []\n",
    "dataY = []\n",
    "dataZ = []\n",
    "for index in range(0, 101, 5):\n",
    "    t = index * 0.01\n",
    "    dataX.append()\n",
    "    dataY.append()\n",
    "    dataZ.append()"
   ]
  },
  {
   "cell_type": "code",
   "execution_count": null,
   "metadata": {},
   "outputs": [],
   "source": [
    "# プロジェクト別ゼミ用資料作成\n",
    "\n",
    "# ipynb形式のライブラリのインポート\n",
    "%run ./lib/lib.ipynb\n",
    "\n",
    "branchIndex = 11\n",
    "dataBase1 = list(range(branchIndex))\n",
    "dataBase2 = [branchIndex]*(21-11)\n",
    "dataList1 = [3*x + 4 for x in dataBase1]\n",
    "dataList2 = [3*x + 4 for x in dataBase2]\n",
    "dataBase2 = list(range(11, 21))\n",
    "dataListY = dataList1+dataList2\n",
    "dataListX = dataBase1+dataBase2\n",
    "plt.figure()\n",
    "plt.plot(dataListX, dataListY)\n",
    "\n",
    "# データ２：分岐点で異なる線形モデルに変化\n",
    "branchIndex = 10\n",
    "dataBase1 = list(range(branchIndex))\n",
    "dataBase2 = list(range(branchIndex, 20))\n",
    "dataList1 = [x + 1 for x in dataBase1]\n",
    "dataList2 = [0.5*x + 6 for x in dataBase2]\n",
    "dataListY = dataList1+dataList2\n",
    "dataListX = dataBase1+dataBase2\n",
    "plt.figure()\n",
    "plt.plot(dataListX, dataListY)\n",
    "\n",
    "# データ３：分岐点無し\n",
    "branchIndex = 22\n",
    "dataBase1 = list(range(branchIndex))\n",
    "dataListY = [5*x + 6 for x in dataBase1]\n",
    "dataListX = dataBase1\n",
    "plt.figure()\n",
    "plt.plot(dataListX, dataListY)"
   ]
  },
  {
   "cell_type": "markdown",
   "metadata": {},
   "source": [
    "# 緊急\n",
    "\n",
    "プロジェクト別ゼミで、分岐点検出アルゴリズムの更新にあたって、旧アルゴリズムと新アルゴリズムの比較を行う必要が出てきた。\n",
    "\n",
    "相対誤差率・適合度の値がデータとなっている二つの表を作る。\n",
    "\n",
    "旧アルゴリズムと新アルゴリズムとを別々のモデルとして検証する。"
   ]
  },
  {
   "cell_type": "code",
   "execution_count": 1,
   "metadata": {},
   "outputs": [],
   "source": [
    "# ipynb形式のライブラリのインポート\n",
    "%run ./lib/lib.ipynb"
   ]
  },
  {
   "cell_type": "code",
   "execution_count": 2,
   "metadata": {},
   "outputs": [
    {
     "name": "stdout",
     "output_type": "stream",
     "text": [
      "\\begin{tabular}{lllll}\n",
      "\\toprule\n",
      "benchmarkName &      ModelIp &      ModelLog & ModelBranch &     ModelLin \\\\\n",
      "\\midrule\n",
      "           CG &         0(-) & 13(11.7,11.7) & 18(0.0,0.0) &  69(0.0,0.0) \\\\\n",
      "           EP &         0(-) &          0(-) &        0(-) & 100(0.0,0.0) \\\\\n",
      "           FT &   9(0.0,0.0) &          0(-) &        0(-) &  91(0.0,0.0) \\\\\n",
      "           IS &  19(0.0,0.0) &          0(-) &        0(-) &  81(0.0,0.0) \\\\\n",
      "           LU & 30(0.0,25.9) &          0(-) &        0(-) &  70(0.0,0.0) \\\\\n",
      "           MG &         0(-) &    3(0.5,0.5) &        0(-) &  97(0.0,3.4) \\\\\n",
      "\\bottomrule\n",
      "\\end{tabular}\n",
      "\n"
     ]
    }
   ],
   "source": [
    "benchmarkNamesExcludeBTSP = [\"cg\", \"ep\", \"ft\", \"is\", \"lu\", \"mg\"]\n",
    "# classes = [\"A\", \"B\", \"C\", \"D\"]\n",
    "classes = [\"B\"]\n",
    "processes = [2, 4, 8, 16, 32, 64, 128, 256]\n",
    "targetIndex = -1\n",
    "csvDirPath = \"./csv_files/\"\n",
    "modelNames = [\"ModelLin\", \"ModelIp\", \"ModelLog\", \"ModelBranch\"]\n",
    "\n",
    "dfByDatumExcludeBTSP = returnDFSummarizedData(\n",
    "    benchmarkNames=benchmarkNamesExcludeBTSP, classes=classes, processes=processes, targetIndex=targetIndex, csvDirPath=csvDirPath, modelNames=modelNames)\n",
    "# dfByDatumExcludeBTSP\n",
    "\n",
    "dictForLatexTable = {}\n",
    "numOfData = 0\n",
    "for benchmarkName in benchmarkNamesExcludeBTSP:\n",
    "    dictForLatexTable[benchmarkName] = dfByDatumExcludeBTSP[dfByDatumExcludeBTSP[\"benchmarkName\"] == benchmarkName]\n",
    "    numOfData += len(\n",
    "        dfByDatumExcludeBTSP[dfByDatumExcludeBTSP[\"benchmarkName\"] == benchmarkName])\n",
    "\n",
    "numOfData\n",
    "\n",
    "\n",
    "listForDF = []\n",
    "\n",
    "for benchmarkName in benchmarkNamesExcludeBTSP:\n",
    "    listForDF.append(returnSeriesOfDatumPerBenchmark(\n",
    "        inputDF=dictForLatexTable[benchmarkName]))\n",
    "DF = pd.DataFrame(listForDF)\n",
    "print(DF.to_latex(index=False))"
   ]
  },
  {
   "cell_type": "code",
   "execution_count": 3,
   "metadata": {},
   "outputs": [
    {
     "name": "stdout",
     "output_type": "stream",
     "text": [
      "\\begin{tabular}{lllll}\n",
      "\\toprule\n",
      "benchmarkName &      ModelIp &      ModelLog & ModelBranch &     ModelLin \\\\\n",
      "\\midrule\n",
      "           CG &  18(6.4,7.7) & 13(11.7,11.7) &        0(-) &  69(0.0,0.0) \\\\\n",
      "           EP &         0(-) &          0(-) &        0(-) & 100(0.0,0.0) \\\\\n",
      "           FT &   9(0.0,0.0) &          0(-) &        0(-) &  91(0.0,0.0) \\\\\n",
      "           IS &  19(0.0,0.0) &          0(-) &        0(-) &  81(0.0,0.0) \\\\\n",
      "           LU & 30(0.0,25.9) &          0(-) &        0(-) &  70(0.0,0.0) \\\\\n",
      "           MG &         0(-) &    3(0.5,0.5) &        0(-) &  97(0.0,3.4) \\\\\n",
      "\\bottomrule\n",
      "\\end{tabular}\n",
      "\n"
     ]
    }
   ],
   "source": [
    "benchmarkNamesExcludeBTSP = [\"cg\", \"ep\", \"ft\", \"is\", \"lu\", \"mg\"]\n",
    "# classes = [\"A\", \"B\", \"C\", \"D\"]\n",
    "classes = [\"B\"]\n",
    "processes = [2, 4, 8, 16, 32, 64, 128, 256]\n",
    "targetIndex = -1\n",
    "csvDirPath = \"./csv_files/\"\n",
    "modelNames = [\"ModelLin\", \"ModelIp\", \"ModelLog\", \"ModelBranch2\"]\n",
    "\n",
    "dfByDatumExcludeBTSP = returnDFSummarizedData(\n",
    "    benchmarkNames=benchmarkNamesExcludeBTSP, classes=classes, processes=processes, targetIndex=targetIndex, csvDirPath=csvDirPath, modelNames=modelNames)\n",
    "# dfByDatumExcludeBTSP\n",
    "\n",
    "dictForLatexTable = {}\n",
    "numOfData = 0\n",
    "for benchmarkName in benchmarkNamesExcludeBTSP:\n",
    "    dictForLatexTable[benchmarkName] = dfByDatumExcludeBTSP[dfByDatumExcludeBTSP[\"benchmarkName\"] == benchmarkName]\n",
    "    numOfData += len(\n",
    "        dfByDatumExcludeBTSP[dfByDatumExcludeBTSP[\"benchmarkName\"] == benchmarkName])\n",
    "\n",
    "numOfData\n",
    "\n",
    "\n",
    "listForDF = []\n",
    "\n",
    "for benchmarkName in benchmarkNamesExcludeBTSP:\n",
    "    listForDF.append(returnSeriesOfDatumPerBenchmark(\n",
    "        inputDF=dictForLatexTable[benchmarkName]))\n",
    "DF = pd.DataFrame(listForDF)\n",
    "print(DF.to_latex(index=False))"
   ]
  },
  {
   "cell_type": "code",
   "execution_count": null,
   "metadata": {},
   "outputs": [],
   "source": []
  }
 ],
 "metadata": {
  "kernelspec": {
   "display_name": "Python 3",
   "language": "python",
   "name": "python3"
  },
  "language_info": {
   "codemirror_mode": {
    "name": "ipython",
    "version": 3
   },
   "file_extension": ".py",
   "mimetype": "text/x-python",
   "name": "python",
   "nbconvert_exporter": "python",
   "pygments_lexer": "ipython3",
   "version": "3.9.6"
  }
 },
 "nbformat": 4,
 "nbformat_minor": 4
}
