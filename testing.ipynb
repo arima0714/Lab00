{
 "cells": [
  {
   "cell_type": "code",
   "execution_count": 1,
   "metadata": {},
   "outputs": [],
   "source": [
    "# ipynb形式のライブラリのインポート\n",
    "%run ./lib.ipynb"
   ]
  },
  {
   "cell_type": "code",
   "execution_count": 2,
   "metadata": {},
   "outputs": [],
   "source": [
    "# pd.set_option('display.max_rows', 500)\n",
    "# pd.set_option('display.max_columns', 100)\n",
    "# # ##### 各関数での実行時間を保存するためのCSVの空データを作成するための処理 #####\n",
    "# # Processes = []\n",
    "# # for i in range(1,16):\n",
    "# #     Processes.append(i*i)\n",
    "# # for j in range(9):\n",
    "# #     Processes.append(2**j)\n",
    "# # Processes = list(set(Processes))\n",
    "# # Processes.sort()\n",
    "# # index = classes\n",
    "# # EmptyDF = pd.DataFrame(index=index, columns=Processes)\n",
    "# # for benchmark in benchmarks:\n",
    "# #     EmptyDF.to_csv(f\"./csv_files/ExecTime@{benchmark}.csv\")\n",
    "\n",
    "# ##### 各ベンチマークの実行時間を記録する処理\n",
    "# # # Benchmarks = []\n",
    "# # # for benchmark in benchmarks:\n",
    "# # #     Benchmarks.append(benchmark.upper())\n",
    "# # # print(Benchmarks)\n",
    "\n",
    "# # Processes = [8, 16, 32, 64, 128, 256]\n",
    "# # for process in Processes:\n",
    "# #     TimeDataList = return_TimeDataList(process)\n",
    "# #     for DictData in TimeDataList:\n",
    "# #         benchmark = DictData.benchmark\n",
    "# #         process = DictData.process\n",
    "# #         BenchmarkClass = DictData.BenchmarkClass\n",
    "# #         time = DictData.time\n",
    "# #         FillCSV(benchmark=benchmark, process=process, BenchmarkClass=BenchmarkClass, time=time)\n",
    "\n",
    "# # # print(TimeDataList[0].return_AllData())\n",
    "\n",
    "\n",
    "\n",
    "\n",
    "# # for benchmark in ['bt', 'mg', 'sp']:\n",
    "# FixClass = \"B\"\n",
    "# for benchmark in ['mg']:\n",
    "#     print(f\"benchmark={benchmark}\")\n",
    "#     TargetDF = return_FixedClassModelDF(benchmark=benchmark, FixClass=FixClass)\n",
    "#     BestModelsInTargetDF = BestModelsInDF(TargetDF)\n",
    "#     print(BestModelsInTargetDF)\n",
    "#     TargetDF = return_ErrorRateFixedClassDFwithAverage(benchmark = benchmark , FixClass=FixClass)\n",
    "#     print(TargetDF)\n",
    "\n",
    "# # for benchmark in ['bt', 'mg', 'sp']:\n",
    "# for benchmark in ['mg']:\n",
    "#     ProcessExcludeBTSP = [1,2,4,8,16,32,64,128,256]\n",
    "#     ProcessIncludeBTSP = [1, 4, 16, 64, 256]\n",
    "\n",
    "#     TestRates = [0, 0.2, 0.4, 0.6, 0.8]\n",
    "#     if(benchmark == \"bt\" or benchmark == \"sp\"):\n",
    "#         processes=ProcessIncludeBTSP\n",
    "#     else:\n",
    "#         processes=ProcessExcludeBTSP\n",
    "#     RawDataList = return_fixed_class(BenchMark=benchmark, Processes=processes,FixedBenchMarkClass=FixClass)\n",
    "#     RawDataDF = pd.concat(RawDataList, axis=1)\n",
    "#     print(RawDataDF)\n",
    "# print('SET_CLASS' in RawDataDF.index.tolist())\n",
    "# print(RawDataDF.loc['SET_CLASS'])\n",
    "\n",
    "# for benchmark in benchmarks:\n",
    "#     print(return_ErrorRateFixedProcess_AveragePredictCostRealCost(benchmark=benchmark, FixProcess=64, predict_class=\"D\"))\n",
    "#     print(return_ErrorRateFixedClass_AveragePredictCostRealCost(benchmark=benchmark, FixClass=\"B\", predict_process=256))\n",
    "\n",
    "# \"SET_CLASS\"に代表される関数が、プロファイル数が2個のときだけ突飛な平均誤差率を出力する。その原因は学主データ二個だと基本的に線形モデルを採用することになるが、そうすると、実際の最適モデルが反比例や対数だった場合に予測値と実測値が大幅にずれる。したがって、プロファイル数が2個のときにだけ突飛な平均誤差率を出力する。\n",
    "\n",
    "# 実際に予測することになる関数のみだけを、表示するようにして、出力されるデータを見やすくする(↑の話)。\n",
    "\n",
    "# 表のタイトルをそのまま保存時のファイル名にすればええんか"
   ]
  },
  {
   "cell_type": "markdown",
   "metadata": {},
   "source": [
    "# 発表資料などの資料作成に必要な素材を生成するためのノート\n"
   ]
  },
  {
   "cell_type": "code",
   "execution_count": 3,
   "metadata": {},
   "outputs": [
    {
     "name": "stdout",
     "output_type": "stream",
     "text": [
      "bt\n"
     ]
    },
    {
     "data": {
      "text/html": [
       "<div>\n",
       "<style scoped>\n",
       "    .dataframe tbody tr th:only-of-type {\n",
       "        vertical-align: middle;\n",
       "    }\n",
       "\n",
       "    .dataframe tbody tr th {\n",
       "        vertical-align: top;\n",
       "    }\n",
       "\n",
       "    .dataframe thead th {\n",
       "        text-align: right;\n",
       "    }\n",
       "</style>\n",
       "<table border=\"1\" class=\"dataframe\">\n",
       "  <thead>\n",
       "    <tr style=\"text-align: right;\">\n",
       "      <th></th>\n",
       "      <th>Average</th>\n",
       "      <th>PredictCosts</th>\n",
       "    </tr>\n",
       "  </thead>\n",
       "  <tbody>\n",
       "    <tr>\n",
       "      <th>['A', 'B', 'C', 'D']</th>\n",
       "      <td>51.912</td>\n",
       "      <td>31604.48</td>\n",
       "    </tr>\n",
       "    <tr>\n",
       "      <th>['A', 'B', 'C']</th>\n",
       "      <td>35.6674</td>\n",
       "      <td>1852.16</td>\n",
       "    </tr>\n",
       "    <tr>\n",
       "      <th>['A', 'B']</th>\n",
       "      <td>35.628</td>\n",
       "      <td>430.08</td>\n",
       "    </tr>\n",
       "    <tr>\n",
       "      <th>['A']</th>\n",
       "      <td>36.0607</td>\n",
       "      <td>79.36</td>\n",
       "    </tr>\n",
       "  </tbody>\n",
       "</table>\n",
       "</div>"
      ],
      "text/plain": [
       "                      Average  PredictCosts\n",
       "['A', 'B', 'C', 'D']   51.912      31604.48\n",
       "['A', 'B', 'C']       35.6674       1852.16\n",
       "['A', 'B']             35.628        430.08\n",
       "['A']                 36.0607         79.36"
      ]
     },
     "execution_count": 3,
     "metadata": {},
     "output_type": "execute_result"
    },
    {
     "name": "stdout",
     "output_type": "stream",
     "text": [
      "cg\n"
     ]
    },
    {
     "data": {
      "text/html": [
       "<div>\n",
       "<style scoped>\n",
       "    .dataframe tbody tr th:only-of-type {\n",
       "        vertical-align: middle;\n",
       "    }\n",
       "\n",
       "    .dataframe tbody tr th {\n",
       "        vertical-align: top;\n",
       "    }\n",
       "\n",
       "    .dataframe thead th {\n",
       "        text-align: right;\n",
       "    }\n",
       "</style>\n",
       "<table border=\"1\" class=\"dataframe\">\n",
       "  <thead>\n",
       "    <tr style=\"text-align: right;\">\n",
       "      <th></th>\n",
       "      <th>Average</th>\n",
       "      <th>PredictCosts</th>\n",
       "    </tr>\n",
       "  </thead>\n",
       "  <tbody>\n",
       "    <tr>\n",
       "      <th>['A', 'B', 'C', 'D']</th>\n",
       "      <td>11.9261</td>\n",
       "      <td>14526.72</td>\n",
       "    </tr>\n",
       "    <tr>\n",
       "      <th>['A', 'B', 'C']</th>\n",
       "      <td>10.4759</td>\n",
       "      <td>513.92</td>\n",
       "    </tr>\n",
       "    <tr>\n",
       "      <th>['A', 'B']</th>\n",
       "      <td>253.014</td>\n",
       "      <td>99.20</td>\n",
       "    </tr>\n",
       "    <tr>\n",
       "      <th>['A']</th>\n",
       "      <td>28.1853</td>\n",
       "      <td>3.20</td>\n",
       "    </tr>\n",
       "  </tbody>\n",
       "</table>\n",
       "</div>"
      ],
      "text/plain": [
       "                      Average  PredictCosts\n",
       "['A', 'B', 'C', 'D']  11.9261      14526.72\n",
       "['A', 'B', 'C']       10.4759        513.92\n",
       "['A', 'B']            253.014         99.20\n",
       "['A']                 28.1853          3.20"
      ]
     },
     "execution_count": 3,
     "metadata": {},
     "output_type": "execute_result"
    },
    {
     "name": "stdout",
     "output_type": "stream",
     "text": [
      "ep\n"
     ]
    },
    {
     "data": {
      "text/html": [
       "<div>\n",
       "<style scoped>\n",
       "    .dataframe tbody tr th:only-of-type {\n",
       "        vertical-align: middle;\n",
       "    }\n",
       "\n",
       "    .dataframe tbody tr th {\n",
       "        vertical-align: top;\n",
       "    }\n",
       "\n",
       "    .dataframe thead th {\n",
       "        text-align: right;\n",
       "    }\n",
       "</style>\n",
       "<table border=\"1\" class=\"dataframe\">\n",
       "  <thead>\n",
       "    <tr style=\"text-align: right;\">\n",
       "      <th></th>\n",
       "      <th>Average</th>\n",
       "      <th>PredictCosts</th>\n",
       "    </tr>\n",
       "  </thead>\n",
       "  <tbody>\n",
       "    <tr>\n",
       "      <th>['A', 'B', 'C', 'D']</th>\n",
       "      <td>0</td>\n",
       "      <td>7335.04</td>\n",
       "    </tr>\n",
       "    <tr>\n",
       "      <th>['A', 'B', 'C']</th>\n",
       "      <td>0</td>\n",
       "      <td>507.52</td>\n",
       "    </tr>\n",
       "    <tr>\n",
       "      <th>['A', 'B']</th>\n",
       "      <td>0</td>\n",
       "      <td>81.28</td>\n",
       "    </tr>\n",
       "    <tr>\n",
       "      <th>['A']</th>\n",
       "      <td>0</td>\n",
       "      <td>26.88</td>\n",
       "    </tr>\n",
       "  </tbody>\n",
       "</table>\n",
       "</div>"
      ],
      "text/plain": [
       "                     Average  PredictCosts\n",
       "['A', 'B', 'C', 'D']       0       7335.04\n",
       "['A', 'B', 'C']            0        507.52\n",
       "['A', 'B']                 0         81.28\n",
       "['A']                      0         26.88"
      ]
     },
     "execution_count": 3,
     "metadata": {},
     "output_type": "execute_result"
    },
    {
     "name": "stdout",
     "output_type": "stream",
     "text": [
      "ft\n"
     ]
    },
    {
     "data": {
      "text/html": [
       "<div>\n",
       "<style scoped>\n",
       "    .dataframe tbody tr th:only-of-type {\n",
       "        vertical-align: middle;\n",
       "    }\n",
       "\n",
       "    .dataframe tbody tr th {\n",
       "        vertical-align: top;\n",
       "    }\n",
       "\n",
       "    .dataframe thead th {\n",
       "        text-align: right;\n",
       "    }\n",
       "</style>\n",
       "<table border=\"1\" class=\"dataframe\">\n",
       "  <thead>\n",
       "    <tr style=\"text-align: right;\">\n",
       "      <th></th>\n",
       "      <th>Average</th>\n",
       "      <th>PredictCosts</th>\n",
       "    </tr>\n",
       "  </thead>\n",
       "  <tbody>\n",
       "    <tr>\n",
       "      <th>['A', 'B', 'C', 'D']</th>\n",
       "      <td>13.0596</td>\n",
       "      <td>10872.96</td>\n",
       "    </tr>\n",
       "    <tr>\n",
       "      <th>['A', 'B', 'C']</th>\n",
       "      <td>15.7267</td>\n",
       "      <td>541.44</td>\n",
       "    </tr>\n",
       "    <tr>\n",
       "      <th>['A', 'B']</th>\n",
       "      <td>912.363</td>\n",
       "      <td>108.80</td>\n",
       "    </tr>\n",
       "    <tr>\n",
       "      <th>['A']</th>\n",
       "      <td>28.2987</td>\n",
       "      <td>9.60</td>\n",
       "    </tr>\n",
       "  </tbody>\n",
       "</table>\n",
       "</div>"
      ],
      "text/plain": [
       "                      Average  PredictCosts\n",
       "['A', 'B', 'C', 'D']  13.0596      10872.96\n",
       "['A', 'B', 'C']       15.7267        541.44\n",
       "['A', 'B']            912.363        108.80\n",
       "['A']                 28.2987          9.60"
      ]
     },
     "execution_count": 3,
     "metadata": {},
     "output_type": "execute_result"
    },
    {
     "name": "stdout",
     "output_type": "stream",
     "text": [
      "is\n"
     ]
    },
    {
     "data": {
      "text/html": [
       "<div>\n",
       "<style scoped>\n",
       "    .dataframe tbody tr th:only-of-type {\n",
       "        vertical-align: middle;\n",
       "    }\n",
       "\n",
       "    .dataframe tbody tr th {\n",
       "        vertical-align: top;\n",
       "    }\n",
       "\n",
       "    .dataframe thead th {\n",
       "        text-align: right;\n",
       "    }\n",
       "</style>\n",
       "<table border=\"1\" class=\"dataframe\">\n",
       "  <thead>\n",
       "    <tr style=\"text-align: right;\">\n",
       "      <th></th>\n",
       "      <th>Average</th>\n",
       "      <th>PredictCosts</th>\n",
       "    </tr>\n",
       "  </thead>\n",
       "  <tbody>\n",
       "    <tr>\n",
       "      <th>['A', 'B', 'C', 'D']</th>\n",
       "      <td>3.74143</td>\n",
       "      <td>652.16</td>\n",
       "    </tr>\n",
       "    <tr>\n",
       "      <th>['A', 'B', 'C']</th>\n",
       "      <td>3.74143</td>\n",
       "      <td>37.12</td>\n",
       "    </tr>\n",
       "    <tr>\n",
       "      <th>['A', 'B']</th>\n",
       "      <td>3.74138</td>\n",
       "      <td>9.60</td>\n",
       "    </tr>\n",
       "    <tr>\n",
       "      <th>['A']</th>\n",
       "      <td>4.92724</td>\n",
       "      <td>1.92</td>\n",
       "    </tr>\n",
       "  </tbody>\n",
       "</table>\n",
       "</div>"
      ],
      "text/plain": [
       "                      Average  PredictCosts\n",
       "['A', 'B', 'C', 'D']  3.74143        652.16\n",
       "['A', 'B', 'C']       3.74143         37.12\n",
       "['A', 'B']            3.74138          9.60\n",
       "['A']                 4.92724          1.92"
      ]
     },
     "execution_count": 3,
     "metadata": {},
     "output_type": "execute_result"
    },
    {
     "name": "stdout",
     "output_type": "stream",
     "text": [
      "lu\n"
     ]
    },
    {
     "data": {
      "text/html": [
       "<div>\n",
       "<style scoped>\n",
       "    .dataframe tbody tr th:only-of-type {\n",
       "        vertical-align: middle;\n",
       "    }\n",
       "\n",
       "    .dataframe tbody tr th {\n",
       "        vertical-align: top;\n",
       "    }\n",
       "\n",
       "    .dataframe thead th {\n",
       "        text-align: right;\n",
       "    }\n",
       "</style>\n",
       "<table border=\"1\" class=\"dataframe\">\n",
       "  <thead>\n",
       "    <tr style=\"text-align: right;\">\n",
       "      <th></th>\n",
       "      <th>Average</th>\n",
       "      <th>PredictCosts</th>\n",
       "    </tr>\n",
       "  </thead>\n",
       "  <tbody>\n",
       "    <tr>\n",
       "      <th>['A', 'B', 'C', 'D']</th>\n",
       "      <td>13.2132</td>\n",
       "      <td>18626.56</td>\n",
       "    </tr>\n",
       "    <tr>\n",
       "      <th>['A', 'B', 'C']</th>\n",
       "      <td>15.1996</td>\n",
       "      <td>1416.32</td>\n",
       "    </tr>\n",
       "    <tr>\n",
       "      <th>['A', 'B']</th>\n",
       "      <td>55.6247</td>\n",
       "      <td>316.16</td>\n",
       "    </tr>\n",
       "    <tr>\n",
       "      <th>['A']</th>\n",
       "      <td>25.2305</td>\n",
       "      <td>64.00</td>\n",
       "    </tr>\n",
       "  </tbody>\n",
       "</table>\n",
       "</div>"
      ],
      "text/plain": [
       "                      Average  PredictCosts\n",
       "['A', 'B', 'C', 'D']  13.2132      18626.56\n",
       "['A', 'B', 'C']       15.1996       1416.32\n",
       "['A', 'B']            55.6247        316.16\n",
       "['A']                 25.2305         64.00"
      ]
     },
     "execution_count": 3,
     "metadata": {},
     "output_type": "execute_result"
    },
    {
     "name": "stdout",
     "output_type": "stream",
     "text": [
      "mg\n"
     ]
    },
    {
     "data": {
      "text/html": [
       "<div>\n",
       "<style scoped>\n",
       "    .dataframe tbody tr th:only-of-type {\n",
       "        vertical-align: middle;\n",
       "    }\n",
       "\n",
       "    .dataframe tbody tr th {\n",
       "        vertical-align: top;\n",
       "    }\n",
       "\n",
       "    .dataframe thead th {\n",
       "        text-align: right;\n",
       "    }\n",
       "</style>\n",
       "<table border=\"1\" class=\"dataframe\">\n",
       "  <thead>\n",
       "    <tr style=\"text-align: right;\">\n",
       "      <th></th>\n",
       "      <th>Average</th>\n",
       "      <th>PredictCosts</th>\n",
       "    </tr>\n",
       "  </thead>\n",
       "  <tbody>\n",
       "    <tr>\n",
       "      <th>['A', 'B', 'C', 'D']</th>\n",
       "      <td>8.66387</td>\n",
       "      <td>2456.96</td>\n",
       "    </tr>\n",
       "    <tr>\n",
       "      <th>['A', 'B', 'C']</th>\n",
       "      <td>52.837</td>\n",
       "      <td>128.64</td>\n",
       "    </tr>\n",
       "    <tr>\n",
       "      <th>['A', 'B']</th>\n",
       "      <td>584.405</td>\n",
       "      <td>20.48</td>\n",
       "    </tr>\n",
       "    <tr>\n",
       "      <th>['A']</th>\n",
       "      <td>46.8683</td>\n",
       "      <td>3.84</td>\n",
       "    </tr>\n",
       "  </tbody>\n",
       "</table>\n",
       "</div>"
      ],
      "text/plain": [
       "                      Average  PredictCosts\n",
       "['A', 'B', 'C', 'D']  8.66387       2456.96\n",
       "['A', 'B', 'C']        52.837        128.64\n",
       "['A', 'B']            584.405         20.48\n",
       "['A']                 46.8683          3.84"
      ]
     },
     "execution_count": 3,
     "metadata": {},
     "output_type": "execute_result"
    },
    {
     "name": "stdout",
     "output_type": "stream",
     "text": [
      "sp\n"
     ]
    },
    {
     "data": {
      "text/html": [
       "<div>\n",
       "<style scoped>\n",
       "    .dataframe tbody tr th:only-of-type {\n",
       "        vertical-align: middle;\n",
       "    }\n",
       "\n",
       "    .dataframe tbody tr th {\n",
       "        vertical-align: top;\n",
       "    }\n",
       "\n",
       "    .dataframe thead th {\n",
       "        text-align: right;\n",
       "    }\n",
       "</style>\n",
       "<table border=\"1\" class=\"dataframe\">\n",
       "  <thead>\n",
       "    <tr style=\"text-align: right;\">\n",
       "      <th></th>\n",
       "      <th>Average</th>\n",
       "      <th>PredictCosts</th>\n",
       "    </tr>\n",
       "  </thead>\n",
       "  <tbody>\n",
       "    <tr>\n",
       "      <th>['A', 'B', 'C', 'D']</th>\n",
       "      <td>25.8742</td>\n",
       "      <td>41757.44</td>\n",
       "    </tr>\n",
       "    <tr>\n",
       "      <th>['A', 'B', 'C']</th>\n",
       "      <td>20.9777</td>\n",
       "      <td>1737.60</td>\n",
       "    </tr>\n",
       "    <tr>\n",
       "      <th>['A', 'B']</th>\n",
       "      <td>20.9182</td>\n",
       "      <td>365.44</td>\n",
       "    </tr>\n",
       "    <tr>\n",
       "      <th>['A']</th>\n",
       "      <td>21.5725</td>\n",
       "      <td>64.64</td>\n",
       "    </tr>\n",
       "  </tbody>\n",
       "</table>\n",
       "</div>"
      ],
      "text/plain": [
       "                      Average  PredictCosts\n",
       "['A', 'B', 'C', 'D']  25.8742      41757.44\n",
       "['A', 'B', 'C']       20.9777       1737.60\n",
       "['A', 'B']            20.9182        365.44\n",
       "['A']                 21.5725         64.64"
      ]
     },
     "execution_count": 3,
     "metadata": {},
     "output_type": "execute_result"
    }
   ],
   "source": [
    "# 問題サイズDに対する予測で、プロファイル数３の時の平均平均誤差率 < プロファイル数４の時の平均平均誤差率　となっているものを探す\n",
    "Fixed=\"Process\"\n",
    "Fix=64\n",
    "FixProcess=Fix\n",
    "Predict=\"D\"\n",
    "predict_class=Predict\n",
    "EnableTitle=False\n",
    "SaveGraph=False\n",
    "for benchmark in benchmarks:\n",
    "    ErrorRateFixedProcess = return_ErrorRateFixedProcessAverageAndCosts(benchmark=benchmark, FixProcess=FixProcess, predict_class=predict_class)\n",
    "    print(benchmark)\n",
    "    ErrorRateFixedProcess"
   ]
  },
  {
   "cell_type": "code",
   "execution_count": 4,
   "metadata": {},
   "outputs": [
    {
     "name": "stdout",
     "output_type": "stream",
     "text": [
      "FixProcess_bt\n"
     ]
    },
    {
     "data": {
      "text/html": [
       "<div>\n",
       "<style scoped>\n",
       "    .dataframe tbody tr th:only-of-type {\n",
       "        vertical-align: middle;\n",
       "    }\n",
       "\n",
       "    .dataframe tbody tr th {\n",
       "        vertical-align: top;\n",
       "    }\n",
       "\n",
       "    .dataframe thead th {\n",
       "        text-align: right;\n",
       "    }\n",
       "</style>\n",
       "<table border=\"1\" class=\"dataframe\">\n",
       "  <thead>\n",
       "    <tr style=\"text-align: right;\">\n",
       "      <th></th>\n",
       "      <th>S</th>\n",
       "      <th>W</th>\n",
       "      <th>A</th>\n",
       "      <th>B</th>\n",
       "      <th>C</th>\n",
       "      <th>D</th>\n",
       "    </tr>\n",
       "  </thead>\n",
       "  <tbody>\n",
       "    <tr>\n",
       "      <th>.TAU_application, MPBT, MPI_Comm_rank(), MPI_Comm_size(), MPI_Init(), SETUP_MPI</th>\n",
       "      <td>1.0</td>\n",
       "      <td>1.0</td>\n",
       "      <td>1.0</td>\n",
       "      <td>1.0</td>\n",
       "      <td>1.0</td>\n",
       "      <td>1.0</td>\n",
       "    </tr>\n",
       "    <tr>\n",
       "      <th>MPI_Bcast()</th>\n",
       "      <td>1.0</td>\n",
       "      <td>1.0</td>\n",
       "      <td>1.0</td>\n",
       "      <td>1.0</td>\n",
       "      <td>6.0</td>\n",
       "      <td>1.0</td>\n",
       "    </tr>\n",
       "  </tbody>\n",
       "</table>\n",
       "</div>"
      ],
      "text/plain": [
       "                                                      S    W    A    B    C  \\\n",
       ".TAU_application, MPBT, MPI_Comm_rank(), MPI_Co...  1.0  1.0  1.0  1.0  1.0   \n",
       "MPI_Bcast()                                         1.0  1.0  1.0  1.0  6.0   \n",
       "\n",
       "                                                      D  \n",
       ".TAU_application, MPBT, MPI_Comm_rank(), MPI_Co...  1.0  \n",
       "MPI_Bcast()                                         1.0  "
      ]
     },
     "execution_count": 4,
     "metadata": {},
     "output_type": "execute_result"
    },
    {
     "data": {
      "text/plain": [
       "<Figure size 432x288 with 0 Axes>"
      ]
     },
     "execution_count": 4,
     "metadata": {},
     "output_type": "execute_result"
    },
    {
     "data": {
      "text/plain": [
       "[<matplotlib.lines.Line2D at 0x7f98c9bc1b50>]"
      ]
     },
     "execution_count": 4,
     "metadata": {},
     "output_type": "execute_result"
    },
    {
     "data": {
      "text/plain": [
       "[<matplotlib.lines.Line2D at 0x7f98c9bc1f10>]"
      ]
     },
     "execution_count": 4,
     "metadata": {},
     "output_type": "execute_result"
    },
    {
     "data": {
      "text/plain": [
       "<matplotlib.legend.Legend at 0x7f98c9ba8640>"
      ]
     },
     "execution_count": 4,
     "metadata": {},
     "output_type": "execute_result"
    },
    {
     "data": {
      "image/png": "[encoded data removed]",
      "text/plain": [
       "<Figure size 432x288 with 1 Axes>"
      ]
     },
     "metadata": {
      "needs_background": "light"
     },
     "output_type": "display_data"
    },
    {
     "name": "stdout",
     "output_type": "stream",
     "text": [
      "FixProcess_cg\n"
     ]
    },
    {
     "data": {
      "text/html": [
       "<div>\n",
       "<style scoped>\n",
       "    .dataframe tbody tr th:only-of-type {\n",
       "        vertical-align: middle;\n",
       "    }\n",
       "\n",
       "    .dataframe tbody tr th {\n",
       "        vertical-align: top;\n",
       "    }\n",
       "\n",
       "    .dataframe thead th {\n",
       "        text-align: right;\n",
       "    }\n",
       "</style>\n",
       "<table border=\"1\" class=\"dataframe\">\n",
       "  <thead>\n",
       "    <tr style=\"text-align: right;\">\n",
       "      <th></th>\n",
       "      <th>A</th>\n",
       "      <th>B</th>\n",
       "      <th>C</th>\n",
       "      <th>D</th>\n",
       "    </tr>\n",
       "    <tr>\n",
       "      <th>Name</th>\n",
       "      <th></th>\n",
       "      <th></th>\n",
       "      <th></th>\n",
       "      <th></th>\n",
       "    </tr>\n",
       "  </thead>\n",
       "  <tbody>\n",
       "    <tr>\n",
       "      <th>.TAU_application, ALLOC_SPACE, CG, INITIALIZE_MPI, MAKEA, MPI_Barrier(), MPI_Bcast(), MPI_Comm_rank(), MPI_Comm_size(), MPI_Finalize(), MPI_Init(), MPI_Reduce(), SETUP_PROC_INFO, SETUP_SUBMATRIX_INFO, SPARSE</th>\n",
       "      <td>1</td>\n",
       "      <td>1.0</td>\n",
       "      <td>1.0</td>\n",
       "      <td>1.0</td>\n",
       "    </tr>\n",
       "    <tr>\n",
       "      <th>CONJ_GRAD</th>\n",
       "      <td>16</td>\n",
       "      <td>76.0</td>\n",
       "      <td>76.0</td>\n",
       "      <td>101.0</td>\n",
       "    </tr>\n",
       "    <tr>\n",
       "      <th>ICNVRT</th>\n",
       "      <td>180347</td>\n",
       "      <td>1706010.0</td>\n",
       "      <td>3936140.0</td>\n",
       "      <td>44047200.0</td>\n",
       "    </tr>\n",
       "    <tr>\n",
       "      <th>MPI_Irecv(), MPI_Send(), MPI_Wait()</th>\n",
       "      <td>4208</td>\n",
       "      <td>19988.0</td>\n",
       "      <td>19988.0</td>\n",
       "      <td>26563.0</td>\n",
       "    </tr>\n",
       "    <tr>\n",
       "      <th>SPRNVC, VECSET</th>\n",
       "      <td>14000</td>\n",
       "      <td>75000.0</td>\n",
       "      <td>150000.0</td>\n",
       "      <td>1500000.0</td>\n",
       "    </tr>\n",
       "  </tbody>\n",
       "</table>\n",
       "</div>"
      ],
      "text/plain": [
       "                                                         A          B  \\\n",
       "Name                                                                    \n",
       ".TAU_application, ALLOC_SPACE, CG, INITIALIZE_M...       1        1.0   \n",
       "CONJ_GRAD                                               16       76.0   \n",
       "ICNVRT                                              180347  1706010.0   \n",
       "MPI_Irecv(), MPI_Send(), MPI_Wait()                   4208    19988.0   \n",
       "SPRNVC, VECSET                                       14000    75000.0   \n",
       "\n",
       "                                                            C           D  \n",
       "Name                                                                       \n",
       ".TAU_application, ALLOC_SPACE, CG, INITIALIZE_M...        1.0         1.0  \n",
       "CONJ_GRAD                                                76.0       101.0  \n",
       "ICNVRT                                              3936140.0  44047200.0  \n",
       "MPI_Irecv(), MPI_Send(), MPI_Wait()                   19988.0     26563.0  \n",
       "SPRNVC, VECSET                                       150000.0   1500000.0  "
      ]
     },
     "execution_count": 4,
     "metadata": {},
     "output_type": "execute_result"
    },
    {
     "data": {
      "text/plain": [
       "<Figure size 432x288 with 0 Axes>"
      ]
     },
     "execution_count": 4,
     "metadata": {},
     "output_type": "execute_result"
    },
    {
     "data": {
      "text/plain": [
       "[<matplotlib.lines.Line2D at 0x7f98c7992eb0>]"
      ]
     },
     "execution_count": 4,
     "metadata": {},
     "output_type": "execute_result"
    },
    {
     "data": {
      "text/plain": [
       "[<matplotlib.lines.Line2D at 0x7f98c799d2b0>]"
      ]
     },
     "execution_count": 4,
     "metadata": {},
     "output_type": "execute_result"
    },
    {
     "data": {
      "text/plain": [
       "[<matplotlib.lines.Line2D at 0x7f98c799d670>]"
      ]
     },
     "execution_count": 4,
     "metadata": {},
     "output_type": "execute_result"
    },
    {
     "data": {
      "text/plain": [
       "[<matplotlib.lines.Line2D at 0x7f98c799d9d0>]"
      ]
     },
     "execution_count": 4,
     "metadata": {},
     "output_type": "execute_result"
    },
    {
     "data": {
      "text/plain": [
       "[<matplotlib.lines.Line2D at 0x7f98c799dd00>]"
      ]
     },
     "execution_count": 4,
     "metadata": {},
     "output_type": "execute_result"
    },
    {
     "data": {
      "text/plain": [
       "<matplotlib.legend.Legend at 0x7f98c9d01250>"
      ]
     },
     "execution_count": 4,
     "metadata": {},
     "output_type": "execute_result"
    },
    {
     "data": {
      "image/png": "[encoded data removed]",
      "text/plain": [
       "<Figure size 432x288 with 1 Axes>"
      ]
     },
     "metadata": {
      "needs_background": "light"
     },
     "output_type": "display_data"
    },
    {
     "name": "stdout",
     "output_type": "stream",
     "text": [
      "FixProcess_ep\n"
     ]
    },
    {
     "data": {
      "text/html": [
       "<div>\n",
       "<style scoped>\n",
       "    .dataframe tbody tr th:only-of-type {\n",
       "        vertical-align: middle;\n",
       "    }\n",
       "\n",
       "    .dataframe tbody tr th {\n",
       "        vertical-align: top;\n",
       "    }\n",
       "\n",
       "    .dataframe thead th {\n",
       "        text-align: right;\n",
       "    }\n",
       "</style>\n",
       "<table border=\"1\" class=\"dataframe\">\n",
       "  <thead>\n",
       "    <tr style=\"text-align: right;\">\n",
       "      <th></th>\n",
       "      <th>A</th>\n",
       "      <th>B</th>\n",
       "      <th>C</th>\n",
       "      <th>D</th>\n",
       "    </tr>\n",
       "    <tr>\n",
       "      <th>Name</th>\n",
       "      <th></th>\n",
       "      <th></th>\n",
       "      <th></th>\n",
       "      <th></th>\n",
       "    </tr>\n",
       "  </thead>\n",
       "  <tbody>\n",
       "    <tr>\n",
       "      <th>.TAU_application, EMBAR, MPI_Barrier(), MPI_Bcast(), MPI_Comm_rank(), MPI_Comm_size(), MPI_Finalize(), MPI_Init()</th>\n",
       "      <td>1</td>\n",
       "      <td>1</td>\n",
       "      <td>1</td>\n",
       "      <td>1</td>\n",
       "    </tr>\n",
       "    <tr>\n",
       "      <th>MPI_Allreduce()</th>\n",
       "      <td>4</td>\n",
       "      <td>4</td>\n",
       "      <td>4</td>\n",
       "      <td>4</td>\n",
       "    </tr>\n",
       "  </tbody>\n",
       "</table>\n",
       "</div>"
      ],
      "text/plain": [
       "                                                    A  B  C  D\n",
       "Name                                                          \n",
       ".TAU_application, EMBAR, MPI_Barrier(), MPI_Bca...  1  1  1  1\n",
       "MPI_Allreduce()                                     4  4  4  4"
      ]
     },
     "execution_count": 4,
     "metadata": {},
     "output_type": "execute_result"
    },
    {
     "data": {
      "text/plain": [
       "<Figure size 432x288 with 0 Axes>"
      ]
     },
     "execution_count": 4,
     "metadata": {},
     "output_type": "execute_result"
    },
    {
     "data": {
      "text/plain": [
       "[<matplotlib.lines.Line2D at 0x7f98c7af37c0>]"
      ]
     },
     "execution_count": 4,
     "metadata": {},
     "output_type": "execute_result"
    },
    {
     "data": {
      "text/plain": [
       "[<matplotlib.lines.Line2D at 0x7f98c7b29550>]"
      ]
     },
     "execution_count": 4,
     "metadata": {},
     "output_type": "execute_result"
    },
    {
     "data": {
      "text/plain": [
       "<matplotlib.legend.Legend at 0x7f98c79a50d0>"
      ]
     },
     "execution_count": 4,
     "metadata": {},
     "output_type": "execute_result"
    },
    {
     "data": {
      "image/png": "[encoded data removed]",
      "text/plain": [
       "<Figure size 432x288 with 1 Axes>"
      ]
     },
     "metadata": {
      "needs_background": "light"
     },
     "output_type": "display_data"
    },
    {
     "name": "stdout",
     "output_type": "stream",
     "text": [
      "FixProcess_ft\n"
     ]
    },
    {
     "data": {
      "text/html": [
       "<div>\n",
       "<style scoped>\n",
       "    .dataframe tbody tr th:only-of-type {\n",
       "        vertical-align: middle;\n",
       "    }\n",
       "\n",
       "    .dataframe tbody tr th {\n",
       "        vertical-align: top;\n",
       "    }\n",
       "\n",
       "    .dataframe thead th {\n",
       "        text-align: right;\n",
       "    }\n",
       "</style>\n",
       "<table border=\"1\" class=\"dataframe\">\n",
       "  <thead>\n",
       "    <tr style=\"text-align: right;\">\n",
       "      <th></th>\n",
       "      <th>A</th>\n",
       "      <th>B</th>\n",
       "      <th>C</th>\n",
       "      <th>D</th>\n",
       "    </tr>\n",
       "    <tr>\n",
       "      <th>Name</th>\n",
       "      <th></th>\n",
       "      <th></th>\n",
       "      <th></th>\n",
       "      <th></th>\n",
       "    </tr>\n",
       "  </thead>\n",
       "  <tbody>\n",
       "    <tr>\n",
       "      <th>.TAU_application, ALLOC_SPACE, FT, MPI_Barrier(), MPI_Comm_rank(), MPI_Comm_size(), MPI_Finalize(), MPI_Init(), SETUP, VERIFY</th>\n",
       "      <td>1.00000</td>\n",
       "      <td>1.00000</td>\n",
       "      <td>1.00000</td>\n",
       "      <td>1.000000e+00</td>\n",
       "    </tr>\n",
       "    <tr>\n",
       "      <th>CFFTS1</th>\n",
       "      <td>16.00000</td>\n",
       "      <td>44.00000</td>\n",
       "      <td>44.00000</td>\n",
       "      <td>5.400000e+01</td>\n",
       "    </tr>\n",
       "    <tr>\n",
       "      <th>CFFTS2, FFT, MPI_Alltoall(), TRANSPOSE2_FINISH, TRANSPOSE2_GLOBAL, TRANSPOSE2_LOCAL</th>\n",
       "      <td>8.00000</td>\n",
       "      <td>22.00000</td>\n",
       "      <td>22.00000</td>\n",
       "      <td>2.700000e+01</td>\n",
       "    </tr>\n",
       "    <tr>\n",
       "      <th>CFFTZ</th>\n",
       "      <td>2048.00000</td>\n",
       "      <td>14080.00000</td>\n",
       "      <td>33792.00000</td>\n",
       "      <td>2.764800e+05</td>\n",
       "    </tr>\n",
       "    <tr>\n",
       "      <th>CHECKSUM, EVOLVE, MPI_Reduce(), TRANSPOSE_X_YZ</th>\n",
       "      <td>6.00000</td>\n",
       "      <td>20.00000</td>\n",
       "      <td>20.00000</td>\n",
       "      <td>2.500000e+01</td>\n",
       "    </tr>\n",
       "    <tr>\n",
       "      <th>COMPUTE_INDEXMAP, COMPUTE_INITIAL_CONDITIONS, FFT_INIT, MPI_Comm_split(), TRANSPOSE_XY_Z</th>\n",
       "      <td>2.00000</td>\n",
       "      <td>2.00000</td>\n",
       "      <td>2.00000</td>\n",
       "      <td>2.000000e+00</td>\n",
       "    </tr>\n",
       "    <tr>\n",
       "      <th>FFTZ2</th>\n",
       "      <td>15360.00000</td>\n",
       "      <td>115456.00000</td>\n",
       "      <td>304128.00000</td>\n",
       "      <td>2.820100e+06</td>\n",
       "    </tr>\n",
       "    <tr>\n",
       "      <th>ILOG2</th>\n",
       "      <td>26.00000</td>\n",
       "      <td>68.00000</td>\n",
       "      <td>68.00000</td>\n",
       "      <td>8.300000e+01</td>\n",
       "    </tr>\n",
       "    <tr>\n",
       "      <th>IPOW46</th>\n",
       "      <td>4.00000</td>\n",
       "      <td>4.00000</td>\n",
       "      <td>4.00000</td>\n",
       "      <td>4.000000e+00</td>\n",
       "    </tr>\n",
       "    <tr>\n",
       "      <th>MPI_Bcast()</th>\n",
       "      <td>5.00000</td>\n",
       "      <td>5.00000</td>\n",
       "      <td>5.00000</td>\n",
       "      <td>5.000000e+00</td>\n",
       "    </tr>\n",
       "    <tr>\n",
       "      <th>SET_CLASS</th>\n",
       "      <td>0.03125</td>\n",
       "      <td>0.03125</td>\n",
       "      <td>0.03125</td>\n",
       "      <td>3.125000e-02</td>\n",
       "    </tr>\n",
       "  </tbody>\n",
       "</table>\n",
       "</div>"
      ],
      "text/plain": [
       "                                                              A             B  \\\n",
       "Name                                                                            \n",
       ".TAU_application, ALLOC_SPACE, FT, MPI_Barrier(...      1.00000       1.00000   \n",
       "CFFTS1                                                 16.00000      44.00000   \n",
       "CFFTS2, FFT, MPI_Alltoall(), TRANSPOSE2_FINISH,...      8.00000      22.00000   \n",
       "CFFTZ                                                2048.00000   14080.00000   \n",
       "CHECKSUM, EVOLVE, MPI_Reduce(), TRANSPOSE_X_YZ          6.00000      20.00000   \n",
       "COMPUTE_INDEXMAP, COMPUTE_INITIAL_CONDITIONS, F...      2.00000       2.00000   \n",
       "FFTZ2                                               15360.00000  115456.00000   \n",
       "ILOG2                                                  26.00000      68.00000   \n",
       "IPOW46                                                  4.00000       4.00000   \n",
       "MPI_Bcast()                                             5.00000       5.00000   \n",
       "SET_CLASS                                               0.03125       0.03125   \n",
       "\n",
       "                                                               C             D  \n",
       "Name                                                                            \n",
       ".TAU_application, ALLOC_SPACE, FT, MPI_Barrier(...       1.00000  1.000000e+00  \n",
       "CFFTS1                                                  44.00000  5.400000e+01  \n",
       "CFFTS2, FFT, MPI_Alltoall(), TRANSPOSE2_FINISH,...      22.00000  2.700000e+01  \n",
       "CFFTZ                                                33792.00000  2.764800e+05  \n",
       "CHECKSUM, EVOLVE, MPI_Reduce(), TRANSPOSE_X_YZ          20.00000  2.500000e+01  \n",
       "COMPUTE_INDEXMAP, COMPUTE_INITIAL_CONDITIONS, F...       2.00000  2.000000e+00  \n",
       "FFTZ2                                               304128.00000  2.820100e+06  \n",
       "ILOG2                                                   68.00000  8.300000e+01  \n",
       "IPOW46                                                   4.00000  4.000000e+00  \n",
       "MPI_Bcast()                                              5.00000  5.000000e+00  \n",
       "SET_CLASS                                                0.03125  3.125000e-02  "
      ]
     },
     "execution_count": 4,
     "metadata": {},
     "output_type": "execute_result"
    },
    {
     "data": {
      "text/plain": [
       "<Figure size 432x288 with 0 Axes>"
      ]
     },
     "execution_count": 4,
     "metadata": {},
     "output_type": "execute_result"
    },
    {
     "data": {
      "text/plain": [
       "[<matplotlib.lines.Line2D at 0x7f98c9bc1ac0>]"
      ]
     },
     "execution_count": 4,
     "metadata": {},
     "output_type": "execute_result"
    },
    {
     "data": {
      "text/plain": [
       "[<matplotlib.lines.Line2D at 0x7f98c9bc1e80>]"
      ]
     },
     "execution_count": 4,
     "metadata": {},
     "output_type": "execute_result"
    },
    {
     "data": {
      "text/plain": [
       "[<matplotlib.lines.Line2D at 0x7f98c9bc1280>]"
      ]
     },
     "execution_count": 4,
     "metadata": {},
     "output_type": "execute_result"
    },
    {
     "data": {
      "text/plain": [
       "[<matplotlib.lines.Line2D at 0x7f98c9bc17f0>]"
      ]
     },
     "execution_count": 4,
     "metadata": {},
     "output_type": "execute_result"
    },
    {
     "data": {
      "text/plain": [
       "[<matplotlib.lines.Line2D at 0x7f98c9bc1be0>]"
      ]
     },
     "execution_count": 4,
     "metadata": {},
     "output_type": "execute_result"
    },
    {
     "data": {
      "text/plain": [
       "[<matplotlib.lines.Line2D at 0x7f98c9b945b0>]"
      ]
     },
     "execution_count": 4,
     "metadata": {},
     "output_type": "execute_result"
    },
    {
     "data": {
      "text/plain": [
       "[<matplotlib.lines.Line2D at 0x7f98c9b94730>]"
      ]
     },
     "execution_count": 4,
     "metadata": {},
     "output_type": "execute_result"
    },
    {
     "data": {
      "text/plain": [
       "[<matplotlib.lines.Line2D at 0x7f98c9b846d0>]"
      ]
     },
     "execution_count": 4,
     "metadata": {},
     "output_type": "execute_result"
    },
    {
     "data": {
      "text/plain": [
       "[<matplotlib.lines.Line2D at 0x7f98c9b84970>]"
      ]
     },
     "execution_count": 4,
     "metadata": {},
     "output_type": "execute_result"
    },
    {
     "data": {
      "text/plain": [
       "[<matplotlib.lines.Line2D at 0x7f98c9b84760>]"
      ]
     },
     "execution_count": 4,
     "metadata": {},
     "output_type": "execute_result"
    },
    {
     "data": {
      "text/plain": [
       "[<matplotlib.lines.Line2D at 0x7f98c7b6c850>]"
      ]
     },
     "execution_count": 4,
     "metadata": {},
     "output_type": "execute_result"
    },
    {
     "data": {
      "text/plain": [
       "<matplotlib.legend.Legend at 0x7f98c9d01af0>"
      ]
     },
     "execution_count": 4,
     "metadata": {},
     "output_type": "execute_result"
    },
    {
     "data": {
      "image/png": "[encoded data removed]",
      "text/plain": [
       "<Figure size 432x288 with 1 Axes>"
      ]
     },
     "metadata": {
      "needs_background": "light"
     },
     "output_type": "display_data"
    },
    {
     "name": "stdout",
     "output_type": "stream",
     "text": [
      "FixProcess_is\n"
     ]
    },
    {
     "data": {
      "text/html": [
       "<div>\n",
       "<style scoped>\n",
       "    .dataframe tbody tr th:only-of-type {\n",
       "        vertical-align: middle;\n",
       "    }\n",
       "\n",
       "    .dataframe tbody tr th {\n",
       "        vertical-align: top;\n",
       "    }\n",
       "\n",
       "    .dataframe thead th {\n",
       "        text-align: right;\n",
       "    }\n",
       "</style>\n",
       "<table border=\"1\" class=\"dataframe\">\n",
       "  <thead>\n",
       "    <tr style=\"text-align: right;\">\n",
       "      <th></th>\n",
       "      <th>A</th>\n",
       "      <th>B</th>\n",
       "      <th>C</th>\n",
       "      <th>D</th>\n",
       "    </tr>\n",
       "    <tr>\n",
       "      <th>Name</th>\n",
       "      <th></th>\n",
       "      <th></th>\n",
       "      <th></th>\n",
       "      <th></th>\n",
       "    </tr>\n",
       "  </thead>\n",
       "  <tbody>\n",
       "    <tr>\n",
       "      <th>.TAU_application, MPI_Bcast(), MPI_Comm_dup(), MPI_Comm_rank(), MPI_Comm_size(), MPI_Finalize(), MPI_Init(), double_find_my_seed(int_int_long_double_double), int_main(int_char_**), void_alloc_space(void), void_create_seq(double_double), void_full_verify(void)</th>\n",
       "      <td>1.000000e+00</td>\n",
       "      <td>1.000000e+00</td>\n",
       "      <td>1.000000e+00</td>\n",
       "      <td>1.000000e+00</td>\n",
       "    </tr>\n",
       "    <tr>\n",
       "      <th>MPI_Allreduce(), MPI_Alltoall(), MPI_Alltoallv(), void_rank(int)</th>\n",
       "      <td>1.100000e+01</td>\n",
       "      <td>1.100000e+01</td>\n",
       "      <td>1.100000e+01</td>\n",
       "      <td>1.100000e+01</td>\n",
       "    </tr>\n",
       "    <tr>\n",
       "      <th>MPI_Irecv(), MPI_Wait()</th>\n",
       "      <td>9.687500e-01</td>\n",
       "      <td>9.687500e-01</td>\n",
       "      <td>9.687500e-01</td>\n",
       "      <td>9.960940e-01</td>\n",
       "    </tr>\n",
       "    <tr>\n",
       "      <th>MPI_Reduce()</th>\n",
       "      <td>2.000000e+00</td>\n",
       "      <td>2.000000e+00</td>\n",
       "      <td>2.000000e+00</td>\n",
       "      <td>2.000000e+00</td>\n",
       "    </tr>\n",
       "    <tr>\n",
       "      <th>MPI_Send()</th>\n",
       "      <td>9.687500e-01</td>\n",
       "      <td>9.687500e-01</td>\n",
       "      <td>9.687500e-01</td>\n",
       "      <td>9.921880e-01</td>\n",
       "    </tr>\n",
       "    <tr>\n",
       "      <th>double_randlc(double_*_double_*)</th>\n",
       "      <td>1.048600e+06</td>\n",
       "      <td>4.194330e+06</td>\n",
       "      <td>1.677720e+07</td>\n",
       "      <td>3.401320e+07</td>\n",
       "    </tr>\n",
       "  </tbody>\n",
       "</table>\n",
       "</div>"
      ],
      "text/plain": [
       "                                                               A  \\\n",
       "Name                                                               \n",
       ".TAU_application, MPI_Bcast(), MPI_Comm_dup(), ...  1.000000e+00   \n",
       "MPI_Allreduce(), MPI_Alltoall(), MPI_Alltoallv(...  1.100000e+01   \n",
       "MPI_Irecv(), MPI_Wait()                             9.687500e-01   \n",
       "MPI_Reduce()                                        2.000000e+00   \n",
       "MPI_Send()                                          9.687500e-01   \n",
       "double_randlc(double_*_double_*)                    1.048600e+06   \n",
       "\n",
       "                                                               B  \\\n",
       "Name                                                               \n",
       ".TAU_application, MPI_Bcast(), MPI_Comm_dup(), ...  1.000000e+00   \n",
       "MPI_Allreduce(), MPI_Alltoall(), MPI_Alltoallv(...  1.100000e+01   \n",
       "MPI_Irecv(), MPI_Wait()                             9.687500e-01   \n",
       "MPI_Reduce()                                        2.000000e+00   \n",
       "MPI_Send()                                          9.687500e-01   \n",
       "double_randlc(double_*_double_*)                    4.194330e+06   \n",
       "\n",
       "                                                               C             D  \n",
       "Name                                                                            \n",
       ".TAU_application, MPI_Bcast(), MPI_Comm_dup(), ...  1.000000e+00  1.000000e+00  \n",
       "MPI_Allreduce(), MPI_Alltoall(), MPI_Alltoallv(...  1.100000e+01  1.100000e+01  \n",
       "MPI_Irecv(), MPI_Wait()                             9.687500e-01  9.960940e-01  \n",
       "MPI_Reduce()                                        2.000000e+00  2.000000e+00  \n",
       "MPI_Send()                                          9.687500e-01  9.921880e-01  \n",
       "double_randlc(double_*_double_*)                    1.677720e+07  3.401320e+07  "
      ]
     },
     "execution_count": 4,
     "metadata": {},
     "output_type": "execute_result"
    },
    {
     "data": {
      "text/plain": [
       "<Figure size 432x288 with 0 Axes>"
      ]
     },
     "execution_count": 4,
     "metadata": {},
     "output_type": "execute_result"
    },
    {
     "data": {
      "text/plain": [
       "[<matplotlib.lines.Line2D at 0x7f98c777fd00>]"
      ]
     },
     "execution_count": 4,
     "metadata": {},
     "output_type": "execute_result"
    },
    {
     "data": {
      "text/plain": [
       "[<matplotlib.lines.Line2D at 0x7f98c777ff40>]"
      ]
     },
     "execution_count": 4,
     "metadata": {},
     "output_type": "execute_result"
    },
    {
     "data": {
      "text/plain": [
       "[<matplotlib.lines.Line2D at 0x7f98c77063d0>]"
      ]
     },
     "execution_count": 4,
     "metadata": {},
     "output_type": "execute_result"
    },
    {
     "data": {
      "text/plain": [
       "[<matplotlib.lines.Line2D at 0x7f98c7706730>]"
      ]
     },
     "execution_count": 4,
     "metadata": {},
     "output_type": "execute_result"
    },
    {
     "data": {
      "text/plain": [
       "[<matplotlib.lines.Line2D at 0x7f98c7706a90>]"
      ]
     },
     "execution_count": 4,
     "metadata": {},
     "output_type": "execute_result"
    },
    {
     "data": {
      "text/plain": [
       "[<matplotlib.lines.Line2D at 0x7f98c7706df0>]"
      ]
     },
     "execution_count": 4,
     "metadata": {},
     "output_type": "execute_result"
    },
    {
     "data": {
      "text/plain": [
       "<matplotlib.legend.Legend at 0x7f98c779a160>"
      ]
     },
     "execution_count": 4,
     "metadata": {},
     "output_type": "execute_result"
    },
    {
     "data": {
      "image/png": "[encoded data removed]",
      "text/plain": [
       "<Figure size 432x288 with 1 Axes>"
      ]
     },
     "metadata": {
      "needs_background": "light"
     },
     "output_type": "display_data"
    },
    {
     "name": "stdout",
     "output_type": "stream",
     "text": [
      "FixProcess_lu\n"
     ]
    },
    {
     "data": {
      "text/html": [
       "<div>\n",
       "<style scoped>\n",
       "    .dataframe tbody tr th:only-of-type {\n",
       "        vertical-align: middle;\n",
       "    }\n",
       "\n",
       "    .dataframe tbody tr th {\n",
       "        vertical-align: top;\n",
       "    }\n",
       "\n",
       "    .dataframe thead th {\n",
       "        text-align: right;\n",
       "    }\n",
       "</style>\n",
       "<table border=\"1\" class=\"dataframe\">\n",
       "  <thead>\n",
       "    <tr style=\"text-align: right;\">\n",
       "      <th></th>\n",
       "      <th>A</th>\n",
       "      <th>B</th>\n",
       "      <th>C</th>\n",
       "      <th>D</th>\n",
       "    </tr>\n",
       "  </thead>\n",
       "  <tbody>\n",
       "    <tr>\n",
       "      <th>.TAU_application, MPI_Comm_rank(), MPI_Comm_size(), MPI_Finalize(), MPI_Init()</th>\n",
       "      <td>1.000000</td>\n",
       "      <td>1.00</td>\n",
       "      <td>1.00</td>\n",
       "      <td>1.00</td>\n",
       "    </tr>\n",
       "    <tr>\n",
       "      <th>MPI_Allreduce()</th>\n",
       "      <td>11.000000</td>\n",
       "      <td>10.00</td>\n",
       "      <td>10.00</td>\n",
       "      <td>10.00</td>\n",
       "    </tr>\n",
       "    <tr>\n",
       "      <th>MPI_Bcast()</th>\n",
       "      <td>1.000000</td>\n",
       "      <td>10.00</td>\n",
       "      <td>10.00</td>\n",
       "      <td>10.00</td>\n",
       "    </tr>\n",
       "    <tr>\n",
       "      <th>MPI_Irecv(), MPI_Wait()</th>\n",
       "      <td>0.996094</td>\n",
       "      <td>827.75</td>\n",
       "      <td>827.75</td>\n",
       "      <td>990.25</td>\n",
       "    </tr>\n",
       "    <tr>\n",
       "      <th>MPI_Send()</th>\n",
       "      <td>0.996094</td>\n",
       "      <td>82402.80</td>\n",
       "      <td>131348.00</td>\n",
       "      <td>398160.00</td>\n",
       "    </tr>\n",
       "  </tbody>\n",
       "</table>\n",
       "</div>"
      ],
      "text/plain": [
       "                                                            A         B  \\\n",
       ".TAU_application, MPI_Comm_rank(), MPI_Comm_siz...   1.000000      1.00   \n",
       "MPI_Allreduce()                                     11.000000     10.00   \n",
       "MPI_Bcast()                                          1.000000     10.00   \n",
       "MPI_Irecv(), MPI_Wait()                              0.996094    827.75   \n",
       "MPI_Send()                                           0.996094  82402.80   \n",
       "\n",
       "                                                            C          D  \n",
       ".TAU_application, MPI_Comm_rank(), MPI_Comm_siz...       1.00       1.00  \n",
       "MPI_Allreduce()                                         10.00      10.00  \n",
       "MPI_Bcast()                                             10.00      10.00  \n",
       "MPI_Irecv(), MPI_Wait()                                827.75     990.25  \n",
       "MPI_Send()                                          131348.00  398160.00  "
      ]
     },
     "execution_count": 4,
     "metadata": {},
     "output_type": "execute_result"
    },
    {
     "data": {
      "text/plain": [
       "<Figure size 432x288 with 0 Axes>"
      ]
     },
     "execution_count": 4,
     "metadata": {},
     "output_type": "execute_result"
    },
    {
     "data": {
      "text/plain": [
       "[<matplotlib.lines.Line2D at 0x7f98c784f490>]"
      ]
     },
     "execution_count": 4,
     "metadata": {},
     "output_type": "execute_result"
    },
    {
     "data": {
      "text/plain": [
       "[<matplotlib.lines.Line2D at 0x7f98c784ff10>]"
      ]
     },
     "execution_count": 4,
     "metadata": {},
     "output_type": "execute_result"
    },
    {
     "data": {
      "text/plain": [
       "[<matplotlib.lines.Line2D at 0x7f98c78ac490>]"
      ]
     },
     "execution_count": 4,
     "metadata": {},
     "output_type": "execute_result"
    },
    {
     "data": {
      "text/plain": [
       "[<matplotlib.lines.Line2D at 0x7f98c78acfa0>]"
      ]
     },
     "execution_count": 4,
     "metadata": {},
     "output_type": "execute_result"
    },
    {
     "data": {
      "text/plain": [
       "[<matplotlib.lines.Line2D at 0x7f98c78acc40>]"
      ]
     },
     "execution_count": 4,
     "metadata": {},
     "output_type": "execute_result"
    },
    {
     "data": {
      "text/plain": [
       "<matplotlib.legend.Legend at 0x7f98c778c460>"
      ]
     },
     "execution_count": 4,
     "metadata": {},
     "output_type": "execute_result"
    },
    {
     "data": {
      "image/png": "[encoded data removed]",
      "text/plain": [
       "<Figure size 432x288 with 1 Axes>"
      ]
     },
     "metadata": {
      "needs_background": "light"
     },
     "output_type": "display_data"
    },
    {
     "name": "stdout",
     "output_type": "stream",
     "text": [
      "FixProcess_mg\n"
     ]
    },
    {
     "data": {
      "text/html": [
       "<div>\n",
       "<style scoped>\n",
       "    .dataframe tbody tr th:only-of-type {\n",
       "        vertical-align: middle;\n",
       "    }\n",
       "\n",
       "    .dataframe tbody tr th {\n",
       "        vertical-align: top;\n",
       "    }\n",
       "\n",
       "    .dataframe thead th {\n",
       "        text-align: right;\n",
       "    }\n",
       "</style>\n",
       "<table border=\"1\" class=\"dataframe\">\n",
       "  <thead>\n",
       "    <tr style=\"text-align: right;\">\n",
       "      <th></th>\n",
       "      <th>A</th>\n",
       "      <th>B</th>\n",
       "      <th>C</th>\n",
       "      <th>D</th>\n",
       "    </tr>\n",
       "    <tr>\n",
       "      <th>Name</th>\n",
       "      <th></th>\n",
       "      <th></th>\n",
       "      <th></th>\n",
       "      <th></th>\n",
       "    </tr>\n",
       "  </thead>\n",
       "  <tbody>\n",
       "    <tr>\n",
       "      <th>.TAU_application, ALLOC_SPACE, MG_MPI, MPI_Comm_rank(), MPI_Comm_size(), MPI_Finalize(), MPI_Init(), MPI_Reduce()</th>\n",
       "      <td>1.000</td>\n",
       "      <td>1.000</td>\n",
       "      <td>1.000</td>\n",
       "      <td>1.000</td>\n",
       "    </tr>\n",
       "    <tr>\n",
       "      <th>BUBBLE</th>\n",
       "      <td>468.125</td>\n",
       "      <td>468.125</td>\n",
       "      <td>583.375</td>\n",
       "      <td>642.062</td>\n",
       "    </tr>\n",
       "    <tr>\n",
       "      <th>COMM3</th>\n",
       "      <td>119.000</td>\n",
       "      <td>487.000</td>\n",
       "      <td>550.000</td>\n",
       "      <td>1483.000</td>\n",
       "    </tr>\n",
       "    <tr>\n",
       "      <th>COMM3_EX, INTERP, RPRJ3</th>\n",
       "      <td>35.000</td>\n",
       "      <td>147.000</td>\n",
       "      <td>168.000</td>\n",
       "      <td>459.000</td>\n",
       "    </tr>\n",
       "    <tr>\n",
       "      <th>GIVE3, TAKE3</th>\n",
       "      <td>669.000</td>\n",
       "      <td>2733.000</td>\n",
       "      <td>3174.000</td>\n",
       "      <td>8439.000</td>\n",
       "    </tr>\n",
       "    <tr>\n",
       "      <th>GIVE3_EX, TAKE3_EX</th>\n",
       "      <td>10.000</td>\n",
       "      <td>42.000</td>\n",
       "      <td>21.000</td>\n",
       "      <td>102.000</td>\n",
       "    </tr>\n",
       "    <tr>\n",
       "      <th>MG3P</th>\n",
       "      <td>5.000</td>\n",
       "      <td>21.000</td>\n",
       "      <td>21.000</td>\n",
       "      <td>51.000</td>\n",
       "    </tr>\n",
       "    <tr>\n",
       "      <th>MPI_Allreduce()</th>\n",
       "      <td>88.000</td>\n",
       "      <td>88.000</td>\n",
       "      <td>88.000</td>\n",
       "      <td>88.000</td>\n",
       "    </tr>\n",
       "    <tr>\n",
       "      <th>MPI_Barrier(), POWER</th>\n",
       "      <td>6.000</td>\n",
       "      <td>6.000</td>\n",
       "      <td>6.000</td>\n",
       "      <td>6.000</td>\n",
       "    </tr>\n",
       "    <tr>\n",
       "      <th>MPI_Bcast()</th>\n",
       "      <td>7.000</td>\n",
       "      <td>7.000</td>\n",
       "      <td>7.000</td>\n",
       "      <td>7.000</td>\n",
       "    </tr>\n",
       "    <tr>\n",
       "      <th>MPI_Irecv(), MPI_Send(), MPI_Wait(), READY</th>\n",
       "      <td>679.000</td>\n",
       "      <td>2775.000</td>\n",
       "      <td>3195.000</td>\n",
       "      <td>8541.000</td>\n",
       "    </tr>\n",
       "    <tr>\n",
       "      <th>NORM2U3</th>\n",
       "      <td>4.000</td>\n",
       "      <td>4.000</td>\n",
       "      <td>4.000</td>\n",
       "      <td>4.000</td>\n",
       "    </tr>\n",
       "    <tr>\n",
       "      <th>PSINV</th>\n",
       "      <td>40.000</td>\n",
       "      <td>168.000</td>\n",
       "      <td>189.000</td>\n",
       "      <td>510.000</td>\n",
       "    </tr>\n",
       "    <tr>\n",
       "      <th>RESID</th>\n",
       "      <td>42.000</td>\n",
       "      <td>170.000</td>\n",
       "      <td>191.000</td>\n",
       "      <td>512.000</td>\n",
       "    </tr>\n",
       "    <tr>\n",
       "      <th>SETUP, ZRAN3</th>\n",
       "      <td>2.000</td>\n",
       "      <td>2.000</td>\n",
       "      <td>2.000</td>\n",
       "      <td>2.000</td>\n",
       "    </tr>\n",
       "    <tr>\n",
       "      <th>ZERO3</th>\n",
       "      <td>46.500</td>\n",
       "      <td>182.500</td>\n",
       "      <td>193.000</td>\n",
       "      <td>539.500</td>\n",
       "    </tr>\n",
       "  </tbody>\n",
       "</table>\n",
       "</div>"
      ],
      "text/plain": [
       "                                                          A         B  \\\n",
       "Name                                                                    \n",
       ".TAU_application, ALLOC_SPACE, MG_MPI, MPI_Comm...    1.000     1.000   \n",
       "BUBBLE                                              468.125   468.125   \n",
       "COMM3                                               119.000   487.000   \n",
       "COMM3_EX, INTERP, RPRJ3                              35.000   147.000   \n",
       "GIVE3, TAKE3                                        669.000  2733.000   \n",
       "GIVE3_EX, TAKE3_EX                                   10.000    42.000   \n",
       "MG3P                                                  5.000    21.000   \n",
       "MPI_Allreduce()                                      88.000    88.000   \n",
       "MPI_Barrier(), POWER                                  6.000     6.000   \n",
       "MPI_Bcast()                                           7.000     7.000   \n",
       "MPI_Irecv(), MPI_Send(), MPI_Wait(), READY          679.000  2775.000   \n",
       "NORM2U3                                               4.000     4.000   \n",
       "PSINV                                                40.000   168.000   \n",
       "RESID                                                42.000   170.000   \n",
       "SETUP, ZRAN3                                          2.000     2.000   \n",
       "ZERO3                                                46.500   182.500   \n",
       "\n",
       "                                                           C         D  \n",
       "Name                                                                    \n",
       ".TAU_application, ALLOC_SPACE, MG_MPI, MPI_Comm...     1.000     1.000  \n",
       "BUBBLE                                               583.375   642.062  \n",
       "COMM3                                                550.000  1483.000  \n",
       "COMM3_EX, INTERP, RPRJ3                              168.000   459.000  \n",
       "GIVE3, TAKE3                                        3174.000  8439.000  \n",
       "GIVE3_EX, TAKE3_EX                                    21.000   102.000  \n",
       "MG3P                                                  21.000    51.000  \n",
       "MPI_Allreduce()                                       88.000    88.000  \n",
       "MPI_Barrier(), POWER                                   6.000     6.000  \n",
       "MPI_Bcast()                                            7.000     7.000  \n",
       "MPI_Irecv(), MPI_Send(), MPI_Wait(), READY          3195.000  8541.000  \n",
       "NORM2U3                                                4.000     4.000  \n",
       "PSINV                                                189.000   510.000  \n",
       "RESID                                                191.000   512.000  \n",
       "SETUP, ZRAN3                                           2.000     2.000  \n",
       "ZERO3                                                193.000   539.500  "
      ]
     },
     "execution_count": 4,
     "metadata": {},
     "output_type": "execute_result"
    },
    {
     "data": {
      "text/plain": [
       "<Figure size 432x288 with 0 Axes>"
      ]
     },
     "execution_count": 4,
     "metadata": {},
     "output_type": "execute_result"
    },
    {
     "data": {
      "text/plain": [
       "[<matplotlib.lines.Line2D at 0x7f9920087400>]"
      ]
     },
     "execution_count": 4,
     "metadata": {},
     "output_type": "execute_result"
    },
    {
     "data": {
      "text/plain": [
       "[<matplotlib.lines.Line2D at 0x7f9920087d90>]"
      ]
     },
     "execution_count": 4,
     "metadata": {},
     "output_type": "execute_result"
    },
    {
     "data": {
      "text/plain": [
       "[<matplotlib.lines.Line2D at 0x7f98c7b79a30>]"
      ]
     },
     "execution_count": 4,
     "metadata": {},
     "output_type": "execute_result"
    },
    {
     "data": {
      "text/plain": [
       "[<matplotlib.lines.Line2D at 0x7f98c7b79b20>]"
      ]
     },
     "execution_count": 4,
     "metadata": {},
     "output_type": "execute_result"
    },
    {
     "data": {
      "text/plain": [
       "[<matplotlib.lines.Line2D at 0x7f98c7b794f0>]"
      ]
     },
     "execution_count": 4,
     "metadata": {},
     "output_type": "execute_result"
    },
    {
     "data": {
      "text/plain": [
       "[<matplotlib.lines.Line2D at 0x7f98c7b79550>]"
      ]
     },
     "execution_count": 4,
     "metadata": {},
     "output_type": "execute_result"
    },
    {
     "data": {
      "text/plain": [
       "[<matplotlib.lines.Line2D at 0x7f98c9bd4640>]"
      ]
     },
     "execution_count": 4,
     "metadata": {},
     "output_type": "execute_result"
    },
    {
     "data": {
      "text/plain": [
       "[<matplotlib.lines.Line2D at 0x7f98c9bd40a0>]"
      ]
     },
     "execution_count": 4,
     "metadata": {},
     "output_type": "execute_result"
    },
    {
     "data": {
      "text/plain": [
       "[<matplotlib.lines.Line2D at 0x7f98c9bd4670>]"
      ]
     },
     "execution_count": 4,
     "metadata": {},
     "output_type": "execute_result"
    },
    {
     "data": {
      "text/plain": [
       "[<matplotlib.lines.Line2D at 0x7f98c7a37d60>]"
      ]
     },
     "execution_count": 4,
     "metadata": {},
     "output_type": "execute_result"
    },
    {
     "data": {
      "text/plain": [
       "[<matplotlib.lines.Line2D at 0x7f98c9ce97c0>]"
      ]
     },
     "execution_count": 4,
     "metadata": {},
     "output_type": "execute_result"
    },
    {
     "data": {
      "text/plain": [
       "[<matplotlib.lines.Line2D at 0x7f98c7a37130>]"
      ]
     },
     "execution_count": 4,
     "metadata": {},
     "output_type": "execute_result"
    },
    {
     "data": {
      "text/plain": [
       "[<matplotlib.lines.Line2D at 0x7f98c7b6c760>]"
      ]
     },
     "execution_count": 4,
     "metadata": {},
     "output_type": "execute_result"
    },
    {
     "data": {
      "text/plain": [
       "[<matplotlib.lines.Line2D at 0x7f98c7b6c3d0>]"
      ]
     },
     "execution_count": 4,
     "metadata": {},
     "output_type": "execute_result"
    },
    {
     "data": {
      "text/plain": [
       "[<matplotlib.lines.Line2D at 0x7f98c7b6c610>]"
      ]
     },
     "execution_count": 4,
     "metadata": {},
     "output_type": "execute_result"
    },
    {
     "data": {
      "text/plain": [
       "[<matplotlib.lines.Line2D at 0x7f98c7b6c2b0>]"
      ]
     },
     "execution_count": 4,
     "metadata": {},
     "output_type": "execute_result"
    },
    {
     "data": {
      "text/plain": [
       "<matplotlib.legend.Legend at 0x7f98c79ad400>"
      ]
     },
     "execution_count": 4,
     "metadata": {},
     "output_type": "execute_result"
    },
    {
     "data": {
      "image/png": "[encoded data removed]",
      "text/plain": [
       "<Figure size 432x288 with 1 Axes>"
      ]
     },
     "metadata": {
      "needs_background": "light"
     },
     "output_type": "display_data"
    },
    {
     "name": "stdout",
     "output_type": "stream",
     "text": [
      "FixProcess_sp\n"
     ]
    },
    {
     "data": {
      "text/html": [
       "<div>\n",
       "<style scoped>\n",
       "    .dataframe tbody tr th:only-of-type {\n",
       "        vertical-align: middle;\n",
       "    }\n",
       "\n",
       "    .dataframe tbody tr th {\n",
       "        vertical-align: top;\n",
       "    }\n",
       "\n",
       "    .dataframe thead th {\n",
       "        text-align: right;\n",
       "    }\n",
       "</style>\n",
       "<table border=\"1\" class=\"dataframe\">\n",
       "  <thead>\n",
       "    <tr style=\"text-align: right;\">\n",
       "      <th></th>\n",
       "      <th>A</th>\n",
       "      <th>C</th>\n",
       "    </tr>\n",
       "  </thead>\n",
       "  <tbody>\n",
       "    <tr>\n",
       "      <th>.TAU_application, ALLOC_SPACE, MPI_Comm_rank(), MPI_Comm_size(), MPI_Finalize(), MPI_Init(), MPI_Reduce()</th>\n",
       "      <td>1.00</td>\n",
       "      <td>1.0</td>\n",
       "    </tr>\n",
       "    <tr>\n",
       "      <th>MPI_Allreduce()</th>\n",
       "      <td>88.00</td>\n",
       "      <td>2.0</td>\n",
       "    </tr>\n",
       "    <tr>\n",
       "      <th>MPI_Barrier()</th>\n",
       "      <td>6.00</td>\n",
       "      <td>2.0</td>\n",
       "    </tr>\n",
       "    <tr>\n",
       "      <th>MPI_Bcast()</th>\n",
       "      <td>7.00</td>\n",
       "      <td>4.0</td>\n",
       "    </tr>\n",
       "    <tr>\n",
       "      <th>MPI_Irecv()</th>\n",
       "      <td>2948.25</td>\n",
       "      <td>9630.0</td>\n",
       "    </tr>\n",
       "  </tbody>\n",
       "</table>\n",
       "</div>"
      ],
      "text/plain": [
       "                                                          A       C\n",
       ".TAU_application, ALLOC_SPACE, MPI_Comm_rank(),...     1.00     1.0\n",
       "MPI_Allreduce()                                       88.00     2.0\n",
       "MPI_Barrier()                                          6.00     2.0\n",
       "MPI_Bcast()                                            7.00     4.0\n",
       "MPI_Irecv()                                         2948.25  9630.0"
      ]
     },
     "execution_count": 4,
     "metadata": {},
     "output_type": "execute_result"
    },
    {
     "data": {
      "text/plain": [
       "<Figure size 432x288 with 0 Axes>"
      ]
     },
     "execution_count": 4,
     "metadata": {},
     "output_type": "execute_result"
    },
    {
     "data": {
      "text/plain": [
       "[<matplotlib.lines.Line2D at 0x7f98c9c0e4f0>]"
      ]
     },
     "execution_count": 4,
     "metadata": {},
     "output_type": "execute_result"
    },
    {
     "data": {
      "text/plain": [
       "[<matplotlib.lines.Line2D at 0x7f98c79a2c40>]"
      ]
     },
     "execution_count": 4,
     "metadata": {},
     "output_type": "execute_result"
    },
    {
     "data": {
      "text/plain": [
       "[<matplotlib.lines.Line2D at 0x7f98c75c70a0>]"
      ]
     },
     "execution_count": 4,
     "metadata": {},
     "output_type": "execute_result"
    },
    {
     "data": {
      "text/plain": [
       "[<matplotlib.lines.Line2D at 0x7f98c75c74c0>]"
      ]
     },
     "execution_count": 4,
     "metadata": {},
     "output_type": "execute_result"
    },
    {
     "data": {
      "text/plain": [
       "[<matplotlib.lines.Line2D at 0x7f98c75c7820>]"
      ]
     },
     "execution_count": 4,
     "metadata": {},
     "output_type": "execute_result"
    },
    {
     "data": {
      "text/plain": [
       "<matplotlib.legend.Legend at 0x7f98c792dc70>"
      ]
     },
     "execution_count": 4,
     "metadata": {},
     "output_type": "execute_result"
    },
    {
     "data": {
      "image/png": "[encoded data removed]",
      "text/plain": [
       "<Figure size 432x288 with 1 Axes>"
      ]
     },
     "metadata": {
      "needs_background": "light"
     },
     "output_type": "display_data"
    }
   ],
   "source": [
    "for benchmark in benchmarks:\n",
    "    print(f\"FixProcess_{benchmark}\")\n",
    "    FixProcessDF = return_summarized_Fixed_dataframe(BenchMark_name = benchmark, fixed=\"process\")\n",
    "    FixProcessDFwithoutNaN = FixProcessDF.dropna(how='any', axis=0)\n",
    "    FixProcessDFwithoutNaN\n",
    "    indice = FixProcessDFwithoutNaN.T.index.tolist()\n",
    "    columns = FixProcessDFwithoutNaN.T.columns.tolist()\n",
    "    plt.figure()\n",
    "    x = indice\n",
    "    for column in columns:\n",
    "        y = FixProcessDFwithoutNaN.loc[column]\n",
    "        plt.plot(x, y, label=column)\n",
    "    plt.yscale('log')\n",
    "    plt.legend()\n",
    "    plt.show()"
   ]
  },
  {
   "cell_type": "code",
   "execution_count": 5,
   "metadata": {
    "tags": []
   },
   "outputs": [
    {
     "name": "stdout",
     "output_type": "stream",
     "text": [
      "FixClass_bt\n"
     ]
    },
    {
     "data": {
      "text/html": [
       "<div>\n",
       "<style scoped>\n",
       "    .dataframe tbody tr th:only-of-type {\n",
       "        vertical-align: middle;\n",
       "    }\n",
       "\n",
       "    .dataframe tbody tr th {\n",
       "        vertical-align: top;\n",
       "    }\n",
       "\n",
       "    .dataframe thead th {\n",
       "        text-align: right;\n",
       "    }\n",
       "</style>\n",
       "<table border=\"1\" class=\"dataframe\">\n",
       "  <thead>\n",
       "    <tr style=\"text-align: right;\">\n",
       "      <th></th>\n",
       "      <th>1</th>\n",
       "      <th>2</th>\n",
       "      <th>4</th>\n",
       "      <th>8</th>\n",
       "      <th>16</th>\n",
       "      <th>32</th>\n",
       "      <th>64</th>\n",
       "      <th>128</th>\n",
       "      <th>256</th>\n",
       "    </tr>\n",
       "  </thead>\n",
       "  <tbody>\n",
       "    <tr>\n",
       "      <th>.TAU_application, MPBT, MPI_Comm_rank(), MPI_Comm_size(), MPI_Init(), SETUP_MPI</th>\n",
       "      <td>1.0</td>\n",
       "      <td>1.0</td>\n",
       "      <td>1.0</td>\n",
       "      <td>1.0</td>\n",
       "      <td>1.0</td>\n",
       "      <td>1.0</td>\n",
       "      <td>1.0</td>\n",
       "      <td>1.0</td>\n",
       "      <td>1.0</td>\n",
       "    </tr>\n",
       "    <tr>\n",
       "      <th>MPI_Bcast()</th>\n",
       "      <td>6.0</td>\n",
       "      <td>1.0</td>\n",
       "      <td>6.0</td>\n",
       "      <td>1.0</td>\n",
       "      <td>6.0</td>\n",
       "      <td>6.0</td>\n",
       "      <td>6.0</td>\n",
       "      <td>1.0</td>\n",
       "      <td>6.0</td>\n",
       "    </tr>\n",
       "  </tbody>\n",
       "</table>\n",
       "</div>"
      ],
      "text/plain": [
       "                                                    1    2    4    8    16   \\\n",
       ".TAU_application, MPBT, MPI_Comm_rank(), MPI_Co...  1.0  1.0  1.0  1.0  1.0   \n",
       "MPI_Bcast()                                         6.0  1.0  6.0  1.0  6.0   \n",
       "\n",
       "                                                    32   64   128  256  \n",
       ".TAU_application, MPBT, MPI_Comm_rank(), MPI_Co...  1.0  1.0  1.0  1.0  \n",
       "MPI_Bcast()                                         6.0  6.0  1.0  6.0  "
      ]
     },
     "execution_count": 5,
     "metadata": {},
     "output_type": "execute_result"
    },
    {
     "data": {
      "text/plain": [
       "<Figure size 432x288 with 0 Axes>"
      ]
     },
     "execution_count": 5,
     "metadata": {},
     "output_type": "execute_result"
    },
    {
     "data": {
      "text/plain": [
       "[<matplotlib.lines.Line2D at 0x7f98c783ce20>]"
      ]
     },
     "execution_count": 5,
     "metadata": {},
     "output_type": "execute_result"
    },
    {
     "data": {
      "text/plain": [
       "[<matplotlib.lines.Line2D at 0x7f98c783c640>]"
      ]
     },
     "execution_count": 5,
     "metadata": {},
     "output_type": "execute_result"
    },
    {
     "data": {
      "text/plain": [
       "<matplotlib.legend.Legend at 0x7f98c763a790>"
      ]
     },
     "execution_count": 5,
     "metadata": {},
     "output_type": "execute_result"
    },
    {
     "data": {
      "image/png": "[encoded data removed]",
      "text/plain": [
       "<Figure size 432x288 with 1 Axes>"
      ]
     },
     "metadata": {
      "needs_background": "light"
     },
     "output_type": "display_data"
    },
    {
     "name": "stdout",
     "output_type": "stream",
     "text": [
      "FixClass_cg\n"
     ]
    },
    {
     "data": {
      "text/html": [
       "<div>\n",
       "<style scoped>\n",
       "    .dataframe tbody tr th:only-of-type {\n",
       "        vertical-align: middle;\n",
       "    }\n",
       "\n",
       "    .dataframe tbody tr th {\n",
       "        vertical-align: top;\n",
       "    }\n",
       "\n",
       "    .dataframe thead th {\n",
       "        text-align: right;\n",
       "    }\n",
       "</style>\n",
       "<table border=\"1\" class=\"dataframe\">\n",
       "  <thead>\n",
       "    <tr style=\"text-align: right;\">\n",
       "      <th></th>\n",
       "      <th>1</th>\n",
       "      <th>2</th>\n",
       "      <th>4</th>\n",
       "      <th>8</th>\n",
       "      <th>16</th>\n",
       "      <th>32</th>\n",
       "      <th>64</th>\n",
       "      <th>128</th>\n",
       "      <th>256</th>\n",
       "    </tr>\n",
       "    <tr>\n",
       "      <th>Name</th>\n",
       "      <th></th>\n",
       "      <th></th>\n",
       "      <th></th>\n",
       "      <th></th>\n",
       "      <th></th>\n",
       "      <th></th>\n",
       "      <th></th>\n",
       "      <th></th>\n",
       "      <th></th>\n",
       "    </tr>\n",
       "  </thead>\n",
       "  <tbody>\n",
       "    <tr>\n",
       "      <th>.TAU_application, ALLOC_SPACE, CG, INITIALIZE_MPI, MAKEA, MPI_Barrier(), MPI_Bcast(), MPI_Comm_rank(), MPI_Comm_size(), MPI_Finalize(), MPI_Init(), MPI_Reduce(), SETUP_PROC_INFO, SETUP_SUBMATRIX_INFO, SPARSE</th>\n",
       "      <td>1.0</td>\n",
       "      <td>1.0</td>\n",
       "      <td>1.0</td>\n",
       "      <td>1.0</td>\n",
       "      <td>1.0</td>\n",
       "      <td>1.0</td>\n",
       "      <td>1.0</td>\n",
       "      <td>1.0</td>\n",
       "      <td>1.0</td>\n",
       "    </tr>\n",
       "    <tr>\n",
       "      <th>CONJ_GRAD</th>\n",
       "      <td>76.0</td>\n",
       "      <td>76.0</td>\n",
       "      <td>76.0</td>\n",
       "      <td>76.0</td>\n",
       "      <td>76.0</td>\n",
       "      <td>76.0</td>\n",
       "      <td>76.0</td>\n",
       "      <td>76.0</td>\n",
       "      <td>76.0</td>\n",
       "    </tr>\n",
       "    <tr>\n",
       "      <th>ICNVRT</th>\n",
       "      <td>1984770.0</td>\n",
       "      <td>2263540.0</td>\n",
       "      <td>2821070.0</td>\n",
       "      <td>3936140.0</td>\n",
       "      <td>3936140.0</td>\n",
       "      <td>3936140.0</td>\n",
       "      <td>3936140.0</td>\n",
       "      <td>3936140.0</td>\n",
       "      <td>3936140.0</td>\n",
       "    </tr>\n",
       "    <tr>\n",
       "      <th>MPI_Irecv(), MPI_Send(), MPI_Wait()</th>\n",
       "      <td>12236.0</td>\n",
       "      <td>12483.0</td>\n",
       "      <td>10982.0</td>\n",
       "      <td>13984.0</td>\n",
       "      <td>13984.0</td>\n",
       "      <td>19988.0</td>\n",
       "      <td>19988.0</td>\n",
       "      <td>25992.0</td>\n",
       "      <td>25992.0</td>\n",
       "    </tr>\n",
       "    <tr>\n",
       "      <th>SPRNVC, VECSET</th>\n",
       "      <td>84375.0</td>\n",
       "      <td>93750.0</td>\n",
       "      <td>112500.0</td>\n",
       "      <td>150000.0</td>\n",
       "      <td>150000.0</td>\n",
       "      <td>150000.0</td>\n",
       "      <td>150000.0</td>\n",
       "      <td>150000.0</td>\n",
       "      <td>150000.0</td>\n",
       "    </tr>\n",
       "  </tbody>\n",
       "</table>\n",
       "</div>"
      ],
      "text/plain": [
       "                                                          1          2    \\\n",
       "Name                                                                       \n",
       ".TAU_application, ALLOC_SPACE, CG, INITIALIZE_M...        1.0        1.0   \n",
       "CONJ_GRAD                                                76.0       76.0   \n",
       "ICNVRT                                              1984770.0  2263540.0   \n",
       "MPI_Irecv(), MPI_Send(), MPI_Wait()                   12236.0    12483.0   \n",
       "SPRNVC, VECSET                                        84375.0    93750.0   \n",
       "\n",
       "                                                          4          8    \\\n",
       "Name                                                                       \n",
       ".TAU_application, ALLOC_SPACE, CG, INITIALIZE_M...        1.0        1.0   \n",
       "CONJ_GRAD                                                76.0       76.0   \n",
       "ICNVRT                                              2821070.0  3936140.0   \n",
       "MPI_Irecv(), MPI_Send(), MPI_Wait()                   10982.0    13984.0   \n",
       "SPRNVC, VECSET                                       112500.0   150000.0   \n",
       "\n",
       "                                                          16         32   \\\n",
       "Name                                                                       \n",
       ".TAU_application, ALLOC_SPACE, CG, INITIALIZE_M...        1.0        1.0   \n",
       "CONJ_GRAD                                                76.0       76.0   \n",
       "ICNVRT                                              3936140.0  3936140.0   \n",
       "MPI_Irecv(), MPI_Send(), MPI_Wait()                   13984.0    19988.0   \n",
       "SPRNVC, VECSET                                       150000.0   150000.0   \n",
       "\n",
       "                                                          64         128  \\\n",
       "Name                                                                       \n",
       ".TAU_application, ALLOC_SPACE, CG, INITIALIZE_M...        1.0        1.0   \n",
       "CONJ_GRAD                                                76.0       76.0   \n",
       "ICNVRT                                              3936140.0  3936140.0   \n",
       "MPI_Irecv(), MPI_Send(), MPI_Wait()                   19988.0    25992.0   \n",
       "SPRNVC, VECSET                                       150000.0   150000.0   \n",
       "\n",
       "                                                          256  \n",
       "Name                                                           \n",
       ".TAU_application, ALLOC_SPACE, CG, INITIALIZE_M...        1.0  \n",
       "CONJ_GRAD                                                76.0  \n",
       "ICNVRT                                              3936140.0  \n",
       "MPI_Irecv(), MPI_Send(), MPI_Wait()                   25992.0  \n",
       "SPRNVC, VECSET                                       150000.0  "
      ]
     },
     "execution_count": 5,
     "metadata": {},
     "output_type": "execute_result"
    },
    {
     "data": {
      "text/plain": [
       "<Figure size 432x288 with 0 Axes>"
      ]
     },
     "execution_count": 5,
     "metadata": {},
     "output_type": "execute_result"
    },
    {
     "data": {
      "text/plain": [
       "[<matplotlib.lines.Line2D at 0x7f98c9bb8f70>]"
      ]
     },
     "execution_count": 5,
     "metadata": {},
     "output_type": "execute_result"
    },
    {
     "data": {
      "text/plain": [
       "[<matplotlib.lines.Line2D at 0x7f98c9bb8910>]"
      ]
     },
     "execution_count": 5,
     "metadata": {},
     "output_type": "execute_result"
    },
    {
     "data": {
      "text/plain": [
       "[<matplotlib.lines.Line2D at 0x7f98c9bb8730>]"
      ]
     },
     "execution_count": 5,
     "metadata": {},
     "output_type": "execute_result"
    },
    {
     "data": {
      "text/plain": [
       "[<matplotlib.lines.Line2D at 0x7f98c9bfe0a0>]"
      ]
     },
     "execution_count": 5,
     "metadata": {},
     "output_type": "execute_result"
    },
    {
     "data": {
      "text/plain": [
       "[<matplotlib.lines.Line2D at 0x7f98c9bfedf0>]"
      ]
     },
     "execution_count": 5,
     "metadata": {},
     "output_type": "execute_result"
    },
    {
     "data": {
      "text/plain": [
       "<matplotlib.legend.Legend at 0x7f98c792d640>"
      ]
     },
     "execution_count": 5,
     "metadata": {},
     "output_type": "execute_result"
    },
    {
     "data": {
      "image/png": "[encoded data removed]",
      "text/plain": [
       "<Figure size 432x288 with 1 Axes>"
      ]
     },
     "metadata": {
      "needs_background": "light"
     },
     "output_type": "display_data"
    },
    {
     "name": "stdout",
     "output_type": "stream",
     "text": [
      "FixClass_ep\n"
     ]
    },
    {
     "data": {
      "text/html": [
       "<div>\n",
       "<style scoped>\n",
       "    .dataframe tbody tr th:only-of-type {\n",
       "        vertical-align: middle;\n",
       "    }\n",
       "\n",
       "    .dataframe tbody tr th {\n",
       "        vertical-align: top;\n",
       "    }\n",
       "\n",
       "    .dataframe thead th {\n",
       "        text-align: right;\n",
       "    }\n",
       "</style>\n",
       "<table border=\"1\" class=\"dataframe\">\n",
       "  <thead>\n",
       "    <tr style=\"text-align: right;\">\n",
       "      <th></th>\n",
       "      <th>1</th>\n",
       "      <th>2</th>\n",
       "      <th>4</th>\n",
       "      <th>8</th>\n",
       "      <th>16</th>\n",
       "      <th>32</th>\n",
       "      <th>64</th>\n",
       "      <th>128</th>\n",
       "      <th>256</th>\n",
       "    </tr>\n",
       "    <tr>\n",
       "      <th>Name</th>\n",
       "      <th></th>\n",
       "      <th></th>\n",
       "      <th></th>\n",
       "      <th></th>\n",
       "      <th></th>\n",
       "      <th></th>\n",
       "      <th></th>\n",
       "      <th></th>\n",
       "      <th></th>\n",
       "    </tr>\n",
       "  </thead>\n",
       "  <tbody>\n",
       "    <tr>\n",
       "      <th>.TAU_application, EMBAR, MPI_Barrier(), MPI_Bcast(), MPI_Comm_rank(), MPI_Comm_size(), MPI_Finalize(), MPI_Init()</th>\n",
       "      <td>1</td>\n",
       "      <td>1</td>\n",
       "      <td>1</td>\n",
       "      <td>1</td>\n",
       "      <td>1</td>\n",
       "      <td>1</td>\n",
       "      <td>1</td>\n",
       "      <td>1</td>\n",
       "      <td>1</td>\n",
       "    </tr>\n",
       "    <tr>\n",
       "      <th>MPI_Allreduce()</th>\n",
       "      <td>4</td>\n",
       "      <td>4</td>\n",
       "      <td>4</td>\n",
       "      <td>4</td>\n",
       "      <td>4</td>\n",
       "      <td>4</td>\n",
       "      <td>4</td>\n",
       "      <td>4</td>\n",
       "      <td>4</td>\n",
       "    </tr>\n",
       "  </tbody>\n",
       "</table>\n",
       "</div>"
      ],
      "text/plain": [
       "                                                    1    2    4    8    16   \\\n",
       "Name                                                                          \n",
       ".TAU_application, EMBAR, MPI_Barrier(), MPI_Bca...    1    1    1    1    1   \n",
       "MPI_Allreduce()                                       4    4    4    4    4   \n",
       "\n",
       "                                                    32   64   128  256  \n",
       "Name                                                                    \n",
       ".TAU_application, EMBAR, MPI_Barrier(), MPI_Bca...    1    1    1    1  \n",
       "MPI_Allreduce()                                       4    4    4    4  "
      ]
     },
     "execution_count": 5,
     "metadata": {},
     "output_type": "execute_result"
    },
    {
     "data": {
      "text/plain": [
       "<Figure size 432x288 with 0 Axes>"
      ]
     },
     "execution_count": 5,
     "metadata": {},
     "output_type": "execute_result"
    },
    {
     "data": {
      "text/plain": [
       "[<matplotlib.lines.Line2D at 0x7f98c7557dc0>]"
      ]
     },
     "execution_count": 5,
     "metadata": {},
     "output_type": "execute_result"
    },
    {
     "data": {
      "text/plain": [
       "[<matplotlib.lines.Line2D at 0x7f98c753b0a0>]"
      ]
     },
     "execution_count": 5,
     "metadata": {},
     "output_type": "execute_result"
    },
    {
     "data": {
      "text/plain": [
       "<matplotlib.legend.Legend at 0x7f98c7839f70>"
      ]
     },
     "execution_count": 5,
     "metadata": {},
     "output_type": "execute_result"
    },
    {
     "data": {
      "image/png": "[encoded data removed]",
      "text/plain": [
       "<Figure size 432x288 with 1 Axes>"
      ]
     },
     "metadata": {
      "needs_background": "light"
     },
     "output_type": "display_data"
    },
    {
     "name": "stdout",
     "output_type": "stream",
     "text": [
      "FixClass_ft\n"
     ]
    },
    {
     "data": {
      "text/html": [
       "<div>\n",
       "<style scoped>\n",
       "    .dataframe tbody tr th:only-of-type {\n",
       "        vertical-align: middle;\n",
       "    }\n",
       "\n",
       "    .dataframe tbody tr th {\n",
       "        vertical-align: top;\n",
       "    }\n",
       "\n",
       "    .dataframe thead th {\n",
       "        text-align: right;\n",
       "    }\n",
       "</style>\n",
       "<table border=\"1\" class=\"dataframe\">\n",
       "  <thead>\n",
       "    <tr style=\"text-align: right;\">\n",
       "      <th></th>\n",
       "      <th>1</th>\n",
       "      <th>2</th>\n",
       "      <th>4</th>\n",
       "      <th>8</th>\n",
       "      <th>16</th>\n",
       "      <th>32</th>\n",
       "      <th>64</th>\n",
       "      <th>128</th>\n",
       "      <th>256</th>\n",
       "    </tr>\n",
       "  </thead>\n",
       "  <tbody>\n",
       "    <tr>\n",
       "      <th>.TAU_application, ALLOC_SPACE, FT, MPI_Barrier(), MPI_Comm_rank(), MPI_Comm_size(), MPI_Finalize(), MPI_Init(), SETUP, VERIFY</th>\n",
       "      <td>1.0</td>\n",
       "      <td>1.0</td>\n",
       "      <td>1.00</td>\n",
       "      <td>1.000</td>\n",
       "      <td>1.0000</td>\n",
       "      <td>1.00000</td>\n",
       "      <td>1.000000</td>\n",
       "      <td>1.000000</td>\n",
       "      <td>1.000000</td>\n",
       "    </tr>\n",
       "    <tr>\n",
       "      <th>CFFTS1</th>\n",
       "      <td>22.0</td>\n",
       "      <td>44.0</td>\n",
       "      <td>44.00</td>\n",
       "      <td>44.000</td>\n",
       "      <td>44.0000</td>\n",
       "      <td>44.00000</td>\n",
       "      <td>44.000000</td>\n",
       "      <td>44.000000</td>\n",
       "      <td>44.000000</td>\n",
       "    </tr>\n",
       "    <tr>\n",
       "      <th>CFFTS2, FFT</th>\n",
       "      <td>22.0</td>\n",
       "      <td>22.0</td>\n",
       "      <td>22.00</td>\n",
       "      <td>22.000</td>\n",
       "      <td>22.0000</td>\n",
       "      <td>22.00000</td>\n",
       "      <td>22.000000</td>\n",
       "      <td>22.000000</td>\n",
       "      <td>22.000000</td>\n",
       "    </tr>\n",
       "    <tr>\n",
       "      <th>CFFTZ</th>\n",
       "      <td>1081340.0</td>\n",
       "      <td>540672.0</td>\n",
       "      <td>270336.00</td>\n",
       "      <td>135168.000</td>\n",
       "      <td>67584.0000</td>\n",
       "      <td>33792.00000</td>\n",
       "      <td>16896.000000</td>\n",
       "      <td>8448.000000</td>\n",
       "      <td>4224.000000</td>\n",
       "    </tr>\n",
       "    <tr>\n",
       "      <th>CHECKSUM, EVOLVE, MPI_Reduce()</th>\n",
       "      <td>20.0</td>\n",
       "      <td>20.0</td>\n",
       "      <td>20.00</td>\n",
       "      <td>20.000</td>\n",
       "      <td>20.0000</td>\n",
       "      <td>20.00000</td>\n",
       "      <td>20.000000</td>\n",
       "      <td>20.000000</td>\n",
       "      <td>20.000000</td>\n",
       "    </tr>\n",
       "    <tr>\n",
       "      <th>COMPUTE_INDEXMAP, COMPUTE_INITIAL_CONDITIONS, FFT_INIT, MPI_Comm_split()</th>\n",
       "      <td>2.0</td>\n",
       "      <td>2.0</td>\n",
       "      <td>2.00</td>\n",
       "      <td>2.000</td>\n",
       "      <td>2.0000</td>\n",
       "      <td>2.00000</td>\n",
       "      <td>2.000000</td>\n",
       "      <td>2.000000</td>\n",
       "      <td>2.000000</td>\n",
       "    </tr>\n",
       "    <tr>\n",
       "      <th>FFTZ2</th>\n",
       "      <td>9732100.0</td>\n",
       "      <td>4866050.0</td>\n",
       "      <td>2433020.00</td>\n",
       "      <td>1216510.000</td>\n",
       "      <td>608256.0000</td>\n",
       "      <td>304128.00000</td>\n",
       "      <td>152064.000000</td>\n",
       "      <td>76032.000000</td>\n",
       "      <td>38016.000000</td>\n",
       "    </tr>\n",
       "    <tr>\n",
       "      <th>ILOG2</th>\n",
       "      <td>68.0</td>\n",
       "      <td>68.0</td>\n",
       "      <td>68.00</td>\n",
       "      <td>68.000</td>\n",
       "      <td>68.0000</td>\n",
       "      <td>68.00000</td>\n",
       "      <td>68.000000</td>\n",
       "      <td>68.000000</td>\n",
       "      <td>68.000000</td>\n",
       "    </tr>\n",
       "    <tr>\n",
       "      <th>IPOW46</th>\n",
       "      <td>4.0</td>\n",
       "      <td>4.0</td>\n",
       "      <td>4.00</td>\n",
       "      <td>4.000</td>\n",
       "      <td>4.0000</td>\n",
       "      <td>4.00000</td>\n",
       "      <td>4.000000</td>\n",
       "      <td>4.000000</td>\n",
       "      <td>4.000000</td>\n",
       "    </tr>\n",
       "    <tr>\n",
       "      <th>MPI_Bcast()</th>\n",
       "      <td>5.0</td>\n",
       "      <td>5.0</td>\n",
       "      <td>5.00</td>\n",
       "      <td>5.000</td>\n",
       "      <td>5.0000</td>\n",
       "      <td>5.00000</td>\n",
       "      <td>5.000000</td>\n",
       "      <td>5.000000</td>\n",
       "      <td>5.000000</td>\n",
       "    </tr>\n",
       "    <tr>\n",
       "      <th>SET_CLASS</th>\n",
       "      <td>1.0</td>\n",
       "      <td>0.5</td>\n",
       "      <td>0.25</td>\n",
       "      <td>0.125</td>\n",
       "      <td>0.0625</td>\n",
       "      <td>0.03125</td>\n",
       "      <td>0.015625</td>\n",
       "      <td>0.007812</td>\n",
       "      <td>0.003906</td>\n",
       "    </tr>\n",
       "  </tbody>\n",
       "</table>\n",
       "</div>"
      ],
      "text/plain": [
       "                                                          1          2    \\\n",
       ".TAU_application, ALLOC_SPACE, FT, MPI_Barrier(...        1.0        1.0   \n",
       "CFFTS1                                                   22.0       44.0   \n",
       "CFFTS2, FFT                                              22.0       22.0   \n",
       "CFFTZ                                               1081340.0   540672.0   \n",
       "CHECKSUM, EVOLVE, MPI_Reduce()                           20.0       20.0   \n",
       "COMPUTE_INDEXMAP, COMPUTE_INITIAL_CONDITIONS, F...        2.0        2.0   \n",
       "FFTZ2                                               9732100.0  4866050.0   \n",
       "ILOG2                                                    68.0       68.0   \n",
       "IPOW46                                                    4.0        4.0   \n",
       "MPI_Bcast()                                               5.0        5.0   \n",
       "SET_CLASS                                                 1.0        0.5   \n",
       "\n",
       "                                                           4            8    \\\n",
       ".TAU_application, ALLOC_SPACE, FT, MPI_Barrier(...        1.00        1.000   \n",
       "CFFTS1                                                   44.00       44.000   \n",
       "CFFTS2, FFT                                              22.00       22.000   \n",
       "CFFTZ                                                270336.00   135168.000   \n",
       "CHECKSUM, EVOLVE, MPI_Reduce()                           20.00       20.000   \n",
       "COMPUTE_INDEXMAP, COMPUTE_INITIAL_CONDITIONS, F...        2.00        2.000   \n",
       "FFTZ2                                               2433020.00  1216510.000   \n",
       "ILOG2                                                    68.00       68.000   \n",
       "IPOW46                                                    4.00        4.000   \n",
       "MPI_Bcast()                                               5.00        5.000   \n",
       "SET_CLASS                                                 0.25        0.125   \n",
       "\n",
       "                                                            16            32   \\\n",
       ".TAU_application, ALLOC_SPACE, FT, MPI_Barrier(...       1.0000       1.00000   \n",
       "CFFTS1                                                  44.0000      44.00000   \n",
       "CFFTS2, FFT                                             22.0000      22.00000   \n",
       "CFFTZ                                                67584.0000   33792.00000   \n",
       "CHECKSUM, EVOLVE, MPI_Reduce()                          20.0000      20.00000   \n",
       "COMPUTE_INDEXMAP, COMPUTE_INITIAL_CONDITIONS, F...       2.0000       2.00000   \n",
       "FFTZ2                                               608256.0000  304128.00000   \n",
       "ILOG2                                                   68.0000      68.00000   \n",
       "IPOW46                                                   4.0000       4.00000   \n",
       "MPI_Bcast()                                              5.0000       5.00000   \n",
       "SET_CLASS                                                0.0625       0.03125   \n",
       "\n",
       "                                                              64   \\\n",
       ".TAU_application, ALLOC_SPACE, FT, MPI_Barrier(...       1.000000   \n",
       "CFFTS1                                                  44.000000   \n",
       "CFFTS2, FFT                                             22.000000   \n",
       "CFFTZ                                                16896.000000   \n",
       "CHECKSUM, EVOLVE, MPI_Reduce()                          20.000000   \n",
       "COMPUTE_INDEXMAP, COMPUTE_INITIAL_CONDITIONS, F...       2.000000   \n",
       "FFTZ2                                               152064.000000   \n",
       "ILOG2                                                   68.000000   \n",
       "IPOW46                                                   4.000000   \n",
       "MPI_Bcast()                                              5.000000   \n",
       "SET_CLASS                                                0.015625   \n",
       "\n",
       "                                                             128           256  \n",
       ".TAU_application, ALLOC_SPACE, FT, MPI_Barrier(...      1.000000      1.000000  \n",
       "CFFTS1                                                 44.000000     44.000000  \n",
       "CFFTS2, FFT                                            22.000000     22.000000  \n",
       "CFFTZ                                                8448.000000   4224.000000  \n",
       "CHECKSUM, EVOLVE, MPI_Reduce()                         20.000000     20.000000  \n",
       "COMPUTE_INDEXMAP, COMPUTE_INITIAL_CONDITIONS, F...      2.000000      2.000000  \n",
       "FFTZ2                                               76032.000000  38016.000000  \n",
       "ILOG2                                                  68.000000     68.000000  \n",
       "IPOW46                                                  4.000000      4.000000  \n",
       "MPI_Bcast()                                             5.000000      5.000000  \n",
       "SET_CLASS                                               0.007812      0.003906  "
      ]
     },
     "execution_count": 5,
     "metadata": {},
     "output_type": "execute_result"
    },
    {
     "data": {
      "text/plain": [
       "<Figure size 432x288 with 0 Axes>"
      ]
     },
     "execution_count": 5,
     "metadata": {},
     "output_type": "execute_result"
    },
    {
     "data": {
      "text/plain": [
       "[<matplotlib.lines.Line2D at 0x7f98c77eaa60>]"
      ]
     },
     "execution_count": 5,
     "metadata": {},
     "output_type": "execute_result"
    },
    {
     "data": {
      "text/plain": [
       "[<matplotlib.lines.Line2D at 0x7f98c77eae80>]"
      ]
     },
     "execution_count": 5,
     "metadata": {},
     "output_type": "execute_result"
    },
    {
     "data": {
      "text/plain": [
       "[<matplotlib.lines.Line2D at 0x7f98c77ee220>]"
      ]
     },
     "execution_count": 5,
     "metadata": {},
     "output_type": "execute_result"
    },
    {
     "data": {
      "text/plain": [
       "[<matplotlib.lines.Line2D at 0x7f98c77ee580>]"
      ]
     },
     "execution_count": 5,
     "metadata": {},
     "output_type": "execute_result"
    },
    {
     "data": {
      "text/plain": [
       "[<matplotlib.lines.Line2D at 0x7f98c77ee8e0>]"
      ]
     },
     "execution_count": 5,
     "metadata": {},
     "output_type": "execute_result"
    },
    {
     "data": {
      "text/plain": [
       "[<matplotlib.lines.Line2D at 0x7f98c77eec40>]"
      ]
     },
     "execution_count": 5,
     "metadata": {},
     "output_type": "execute_result"
    },
    {
     "data": {
      "text/plain": [
       "[<matplotlib.lines.Line2D at 0x7f98c77eefa0>]"
      ]
     },
     "execution_count": 5,
     "metadata": {},
     "output_type": "execute_result"
    },
    {
     "data": {
      "text/plain": [
       "[<matplotlib.lines.Line2D at 0x7f98c77fa340>]"
      ]
     },
     "execution_count": 5,
     "metadata": {},
     "output_type": "execute_result"
    },
    {
     "data": {
      "text/plain": [
       "[<matplotlib.lines.Line2D at 0x7f98c77fa6a0>]"
      ]
     },
     "execution_count": 5,
     "metadata": {},
     "output_type": "execute_result"
    },
    {
     "data": {
      "text/plain": [
       "[<matplotlib.lines.Line2D at 0x7f98c77faa00>]"
      ]
     },
     "execution_count": 5,
     "metadata": {},
     "output_type": "execute_result"
    },
    {
     "data": {
      "text/plain": [
       "[<matplotlib.lines.Line2D at 0x7f98c7951a90>]"
      ]
     },
     "execution_count": 5,
     "metadata": {},
     "output_type": "execute_result"
    },
    {
     "data": {
      "text/plain": [
       "<matplotlib.legend.Legend at 0x7f98c79c7df0>"
      ]
     },
     "execution_count": 5,
     "metadata": {},
     "output_type": "execute_result"
    },
    {
     "data": {
      "image/png": "[encoded data removed]",
      "text/plain": [
       "<Figure size 432x288 with 1 Axes>"
      ]
     },
     "metadata": {
      "needs_background": "light"
     },
     "output_type": "display_data"
    },
    {
     "name": "stdout",
     "output_type": "stream",
     "text": [
      "FixClass_is\n"
     ]
    },
    {
     "data": {
      "text/html": [
       "<div>\n",
       "<style scoped>\n",
       "    .dataframe tbody tr th:only-of-type {\n",
       "        vertical-align: middle;\n",
       "    }\n",
       "\n",
       "    .dataframe tbody tr th {\n",
       "        vertical-align: top;\n",
       "    }\n",
       "\n",
       "    .dataframe thead th {\n",
       "        text-align: right;\n",
       "    }\n",
       "</style>\n",
       "<table border=\"1\" class=\"dataframe\">\n",
       "  <thead>\n",
       "    <tr style=\"text-align: right;\">\n",
       "      <th></th>\n",
       "      <th>1</th>\n",
       "      <th>2</th>\n",
       "      <th>4</th>\n",
       "      <th>8</th>\n",
       "      <th>16</th>\n",
       "      <th>32</th>\n",
       "      <th>64</th>\n",
       "      <th>128</th>\n",
       "      <th>256</th>\n",
       "    </tr>\n",
       "  </thead>\n",
       "  <tbody>\n",
       "    <tr>\n",
       "      <th>.TAU_application, MPI_Bcast(), MPI_Comm_dup(), MPI_Comm_rank(), MPI_Comm_size(), MPI_Finalize(), MPI_Init(), double_find_my_seed(int_int_long_double_double), int_main(int_char_**), void_alloc_space(void), void_create_seq(double_double), void_full_verify(void)</th>\n",
       "      <td>1.0</td>\n",
       "      <td>1.0</td>\n",
       "      <td>1.0</td>\n",
       "      <td>1.0</td>\n",
       "      <td>1.0</td>\n",
       "      <td>1.0</td>\n",
       "      <td>1.0</td>\n",
       "      <td>1.0</td>\n",
       "      <td>1.0</td>\n",
       "    </tr>\n",
       "    <tr>\n",
       "      <th>MPI_Allreduce(), MPI_Alltoall(), MPI_Alltoallv(), void_rank(int)</th>\n",
       "      <td>11.0</td>\n",
       "      <td>11.0</td>\n",
       "      <td>11.0</td>\n",
       "      <td>11.0</td>\n",
       "      <td>11.0</td>\n",
       "      <td>11.0</td>\n",
       "      <td>11.0</td>\n",
       "      <td>11.0</td>\n",
       "      <td>11.0</td>\n",
       "    </tr>\n",
       "    <tr>\n",
       "      <th>MPI_Reduce()</th>\n",
       "      <td>2.0</td>\n",
       "      <td>2.0</td>\n",
       "      <td>2.0</td>\n",
       "      <td>2.0</td>\n",
       "      <td>2.0</td>\n",
       "      <td>2.0</td>\n",
       "      <td>2.0</td>\n",
       "      <td>2.0</td>\n",
       "      <td>2.0</td>\n",
       "    </tr>\n",
       "    <tr>\n",
       "      <th>double_randlc(double_*_double_*)</th>\n",
       "      <td>536871000.0</td>\n",
       "      <td>268435000.0</td>\n",
       "      <td>134218000.0</td>\n",
       "      <td>67108900.0</td>\n",
       "      <td>33554500.0</td>\n",
       "      <td>16777200.0</td>\n",
       "      <td>8388640.0</td>\n",
       "      <td>4194330.0</td>\n",
       "      <td>2097180.0</td>\n",
       "    </tr>\n",
       "  </tbody>\n",
       "</table>\n",
       "</div>"
      ],
      "text/plain": [
       "                                                            1            2    \\\n",
       ".TAU_application, MPI_Bcast(), MPI_Comm_dup(), ...          1.0          1.0   \n",
       "MPI_Allreduce(), MPI_Alltoall(), MPI_Alltoallv(...         11.0         11.0   \n",
       "MPI_Reduce()                                                2.0          2.0   \n",
       "double_randlc(double_*_double_*)                    536871000.0  268435000.0   \n",
       "\n",
       "                                                            4           8    \\\n",
       ".TAU_application, MPI_Bcast(), MPI_Comm_dup(), ...          1.0         1.0   \n",
       "MPI_Allreduce(), MPI_Alltoall(), MPI_Alltoallv(...         11.0        11.0   \n",
       "MPI_Reduce()                                                2.0         2.0   \n",
       "double_randlc(double_*_double_*)                    134218000.0  67108900.0   \n",
       "\n",
       "                                                           16          32   \\\n",
       ".TAU_application, MPI_Bcast(), MPI_Comm_dup(), ...         1.0         1.0   \n",
       "MPI_Allreduce(), MPI_Alltoall(), MPI_Alltoallv(...        11.0        11.0   \n",
       "MPI_Reduce()                                               2.0         2.0   \n",
       "double_randlc(double_*_double_*)                    33554500.0  16777200.0   \n",
       "\n",
       "                                                          64         128  \\\n",
       ".TAU_application, MPI_Bcast(), MPI_Comm_dup(), ...        1.0        1.0   \n",
       "MPI_Allreduce(), MPI_Alltoall(), MPI_Alltoallv(...       11.0       11.0   \n",
       "MPI_Reduce()                                              2.0        2.0   \n",
       "double_randlc(double_*_double_*)                    8388640.0  4194330.0   \n",
       "\n",
       "                                                          256  \n",
       ".TAU_application, MPI_Bcast(), MPI_Comm_dup(), ...        1.0  \n",
       "MPI_Allreduce(), MPI_Alltoall(), MPI_Alltoallv(...       11.0  \n",
       "MPI_Reduce()                                              2.0  \n",
       "double_randlc(double_*_double_*)                    2097180.0  "
      ]
     },
     "execution_count": 5,
     "metadata": {},
     "output_type": "execute_result"
    },
    {
     "data": {
      "text/plain": [
       "<Figure size 432x288 with 0 Axes>"
      ]
     },
     "execution_count": 5,
     "metadata": {},
     "output_type": "execute_result"
    },
    {
     "data": {
      "text/plain": [
       "[<matplotlib.lines.Line2D at 0x7f98c7557d30>]"
      ]
     },
     "execution_count": 5,
     "metadata": {},
     "output_type": "execute_result"
    },
    {
     "data": {
      "text/plain": [
       "[<matplotlib.lines.Line2D at 0x7f98c78cff70>]"
      ]
     },
     "execution_count": 5,
     "metadata": {},
     "output_type": "execute_result"
    },
    {
     "data": {
      "text/plain": [
       "[<matplotlib.lines.Line2D at 0x7f98c78cf280>]"
      ]
     },
     "execution_count": 5,
     "metadata": {},
     "output_type": "execute_result"
    },
    {
     "data": {
      "text/plain": [
       "[<matplotlib.lines.Line2D at 0x7f98c78cf9a0>]"
      ]
     },
     "execution_count": 5,
     "metadata": {},
     "output_type": "execute_result"
    },
    {
     "data": {
      "text/plain": [
       "<matplotlib.legend.Legend at 0x7f98c795d1c0>"
      ]
     },
     "execution_count": 5,
     "metadata": {},
     "output_type": "execute_result"
    },
    {
     "data": {
      "image/png": "[encoded data removed]",
      "text/plain": [
       "<Figure size 432x288 with 1 Axes>"
      ]
     },
     "metadata": {
      "needs_background": "light"
     },
     "output_type": "display_data"
    },
    {
     "name": "stdout",
     "output_type": "stream",
     "text": [
      "FixClass_lu\n"
     ]
    },
    {
     "data": {
      "text/html": [
       "<div>\n",
       "<style scoped>\n",
       "    .dataframe tbody tr th:only-of-type {\n",
       "        vertical-align: middle;\n",
       "    }\n",
       "\n",
       "    .dataframe tbody tr th {\n",
       "        vertical-align: top;\n",
       "    }\n",
       "\n",
       "    .dataframe thead th {\n",
       "        text-align: right;\n",
       "    }\n",
       "</style>\n",
       "<table border=\"1\" class=\"dataframe\">\n",
       "  <thead>\n",
       "    <tr style=\"text-align: right;\">\n",
       "      <th></th>\n",
       "      <th>1</th>\n",
       "      <th>2</th>\n",
       "      <th>4</th>\n",
       "      <th>8</th>\n",
       "      <th>16</th>\n",
       "      <th>32</th>\n",
       "      <th>64</th>\n",
       "      <th>128</th>\n",
       "      <th>256</th>\n",
       "    </tr>\n",
       "  </thead>\n",
       "  <tbody>\n",
       "    <tr>\n",
       "      <th>.TAU_application, ALLOC_SPACE, APPLU, BCAST_INPUTS, ERHS, ERROR, EXCHANGE_4, INIT_COMM, ISQRT2, MPI_Comm_rank(), MPI_Comm_size(), MPI_Finalize(), MPI_Init(), NEIGHBORS, PINTGR, PROC_GRID, READ_INPUT, SETCOEFF, SUBDOMAIN</th>\n",
       "      <td>1.0</td>\n",
       "      <td>1.0</td>\n",
       "      <td>1.00</td>\n",
       "      <td>1.000</td>\n",
       "      <td>1.000000e+00</td>\n",
       "      <td>1.000000e+00</td>\n",
       "      <td>1.000000</td>\n",
       "      <td>1.000000</td>\n",
       "      <td>1.000000</td>\n",
       "    </tr>\n",
       "    <tr>\n",
       "      <th>BLTS, BUTS, JACLD, JACU</th>\n",
       "      <td>6425600.0</td>\n",
       "      <td>6425600.0</td>\n",
       "      <td>3212800.00</td>\n",
       "      <td>3212800.000</td>\n",
       "      <td>1.606400e+06</td>\n",
       "      <td>1.606400e+06</td>\n",
       "      <td>803200.000000</td>\n",
       "      <td>803200.000000</td>\n",
       "      <td>401600.000000</td>\n",
       "    </tr>\n",
       "    <tr>\n",
       "      <th>EXACT</th>\n",
       "      <td>53562900.0</td>\n",
       "      <td>26781500.0</td>\n",
       "      <td>13390700.00</td>\n",
       "      <td>6695370.000</td>\n",
       "      <td>3.347680e+06</td>\n",
       "      <td>1.673840e+06</td>\n",
       "      <td>836921.000000</td>\n",
       "      <td>418460.000000</td>\n",
       "      <td>209230.000000</td>\n",
       "    </tr>\n",
       "    <tr>\n",
       "      <th>EXCHANGE_1</th>\n",
       "      <td>160640.0</td>\n",
       "      <td>160640.0</td>\n",
       "      <td>160640.00</td>\n",
       "      <td>160640.000</td>\n",
       "      <td>1.606400e+05</td>\n",
       "      <td>1.606400e+05</td>\n",
       "      <td>160640.000000</td>\n",
       "      <td>160640.000000</td>\n",
       "      <td>160640.000000</td>\n",
       "    </tr>\n",
       "    <tr>\n",
       "      <th>EXCHANGE_3</th>\n",
       "      <td>508.0</td>\n",
       "      <td>508.0</td>\n",
       "      <td>508.00</td>\n",
       "      <td>508.000</td>\n",
       "      <td>5.080000e+02</td>\n",
       "      <td>5.080000e+02</td>\n",
       "      <td>508.000000</td>\n",
       "      <td>508.000000</td>\n",
       "      <td>508.000000</td>\n",
       "    </tr>\n",
       "    <tr>\n",
       "      <th>EXCHANGE_5</th>\n",
       "      <td>2.0</td>\n",
       "      <td>2.0</td>\n",
       "      <td>1.00</td>\n",
       "      <td>1.000</td>\n",
       "      <td>5.000000e-01</td>\n",
       "      <td>5.000000e-01</td>\n",
       "      <td>0.250000</td>\n",
       "      <td>0.250000</td>\n",
       "      <td>0.125000</td>\n",
       "    </tr>\n",
       "    <tr>\n",
       "      <th>EXCHANGE_6</th>\n",
       "      <td>2.0</td>\n",
       "      <td>1.0</td>\n",
       "      <td>1.00</td>\n",
       "      <td>0.500</td>\n",
       "      <td>5.000000e-01</td>\n",
       "      <td>2.500000e-01</td>\n",
       "      <td>0.250000</td>\n",
       "      <td>0.125000</td>\n",
       "      <td>0.125000</td>\n",
       "    </tr>\n",
       "    <tr>\n",
       "      <th>L2NORM</th>\n",
       "      <td>4.0</td>\n",
       "      <td>4.0</td>\n",
       "      <td>4.00</td>\n",
       "      <td>4.000</td>\n",
       "      <td>4.000000e+00</td>\n",
       "      <td>4.000000e+00</td>\n",
       "      <td>4.000000</td>\n",
       "      <td>4.000000</td>\n",
       "      <td>4.000000</td>\n",
       "    </tr>\n",
       "    <tr>\n",
       "      <th>MPI_Allreduce(), MPI_Bcast()</th>\n",
       "      <td>10.0</td>\n",
       "      <td>10.0</td>\n",
       "      <td>10.00</td>\n",
       "      <td>10.000</td>\n",
       "      <td>1.000000e+01</td>\n",
       "      <td>1.000000e+01</td>\n",
       "      <td>10.000000</td>\n",
       "      <td>10.000000</td>\n",
       "      <td>10.000000</td>\n",
       "    </tr>\n",
       "    <tr>\n",
       "      <th>MPI_Barrier(), SETBV, SETIV, SSOR</th>\n",
       "      <td>2.0</td>\n",
       "      <td>2.0</td>\n",
       "      <td>2.00</td>\n",
       "      <td>2.000</td>\n",
       "      <td>2.000000e+00</td>\n",
       "      <td>2.000000e+00</td>\n",
       "      <td>2.000000</td>\n",
       "      <td>2.000000</td>\n",
       "      <td>2.000000</td>\n",
       "    </tr>\n",
       "    <tr>\n",
       "      <th>RHS</th>\n",
       "      <td>253.0</td>\n",
       "      <td>253.0</td>\n",
       "      <td>253.00</td>\n",
       "      <td>253.000</td>\n",
       "      <td>2.530000e+02</td>\n",
       "      <td>2.530000e+02</td>\n",
       "      <td>253.000000</td>\n",
       "      <td>253.000000</td>\n",
       "      <td>253.000000</td>\n",
       "    </tr>\n",
       "    <tr>\n",
       "      <th>SET_CLASS, VERIFY</th>\n",
       "      <td>1.0</td>\n",
       "      <td>0.5</td>\n",
       "      <td>0.25</td>\n",
       "      <td>0.125</td>\n",
       "      <td>6.250000e-02</td>\n",
       "      <td>3.125000e-02</td>\n",
       "      <td>0.015625</td>\n",
       "      <td>0.007812</td>\n",
       "      <td>0.003906</td>\n",
       "    </tr>\n",
       "  </tbody>\n",
       "</table>\n",
       "</div>"
      ],
      "text/plain": [
       "                                                           1           2    \\\n",
       ".TAU_application, ALLOC_SPACE, APPLU, BCAST_INP...         1.0         1.0   \n",
       "BLTS, BUTS, JACLD, JACU                              6425600.0   6425600.0   \n",
       "EXACT                                               53562900.0  26781500.0   \n",
       "EXCHANGE_1                                            160640.0    160640.0   \n",
       "EXCHANGE_3                                               508.0       508.0   \n",
       "EXCHANGE_5                                                 2.0         2.0   \n",
       "EXCHANGE_6                                                 2.0         1.0   \n",
       "L2NORM                                                     4.0         4.0   \n",
       "MPI_Allreduce(), MPI_Bcast()                              10.0        10.0   \n",
       "MPI_Barrier(), SETBV, SETIV, SSOR                          2.0         2.0   \n",
       "RHS                                                      253.0       253.0   \n",
       "SET_CLASS, VERIFY                                          1.0         0.5   \n",
       "\n",
       "                                                            4            8    \\\n",
       ".TAU_application, ALLOC_SPACE, APPLU, BCAST_INP...         1.00        1.000   \n",
       "BLTS, BUTS, JACLD, JACU                              3212800.00  3212800.000   \n",
       "EXACT                                               13390700.00  6695370.000   \n",
       "EXCHANGE_1                                            160640.00   160640.000   \n",
       "EXCHANGE_3                                               508.00      508.000   \n",
       "EXCHANGE_5                                                 1.00        1.000   \n",
       "EXCHANGE_6                                                 1.00        0.500   \n",
       "L2NORM                                                     4.00        4.000   \n",
       "MPI_Allreduce(), MPI_Bcast()                              10.00       10.000   \n",
       "MPI_Barrier(), SETBV, SETIV, SSOR                          2.00        2.000   \n",
       "RHS                                                      253.00      253.000   \n",
       "SET_CLASS, VERIFY                                          0.25        0.125   \n",
       "\n",
       "                                                             16   \\\n",
       ".TAU_application, ALLOC_SPACE, APPLU, BCAST_INP...  1.000000e+00   \n",
       "BLTS, BUTS, JACLD, JACU                             1.606400e+06   \n",
       "EXACT                                               3.347680e+06   \n",
       "EXCHANGE_1                                          1.606400e+05   \n",
       "EXCHANGE_3                                          5.080000e+02   \n",
       "EXCHANGE_5                                          5.000000e-01   \n",
       "EXCHANGE_6                                          5.000000e-01   \n",
       "L2NORM                                              4.000000e+00   \n",
       "MPI_Allreduce(), MPI_Bcast()                        1.000000e+01   \n",
       "MPI_Barrier(), SETBV, SETIV, SSOR                   2.000000e+00   \n",
       "RHS                                                 2.530000e+02   \n",
       "SET_CLASS, VERIFY                                   6.250000e-02   \n",
       "\n",
       "                                                             32   \\\n",
       ".TAU_application, ALLOC_SPACE, APPLU, BCAST_INP...  1.000000e+00   \n",
       "BLTS, BUTS, JACLD, JACU                             1.606400e+06   \n",
       "EXACT                                               1.673840e+06   \n",
       "EXCHANGE_1                                          1.606400e+05   \n",
       "EXCHANGE_3                                          5.080000e+02   \n",
       "EXCHANGE_5                                          5.000000e-01   \n",
       "EXCHANGE_6                                          2.500000e-01   \n",
       "L2NORM                                              4.000000e+00   \n",
       "MPI_Allreduce(), MPI_Bcast()                        1.000000e+01   \n",
       "MPI_Barrier(), SETBV, SETIV, SSOR                   2.000000e+00   \n",
       "RHS                                                 2.530000e+02   \n",
       "SET_CLASS, VERIFY                                   3.125000e-02   \n",
       "\n",
       "                                                              64   \\\n",
       ".TAU_application, ALLOC_SPACE, APPLU, BCAST_INP...       1.000000   \n",
       "BLTS, BUTS, JACLD, JACU                             803200.000000   \n",
       "EXACT                                               836921.000000   \n",
       "EXCHANGE_1                                          160640.000000   \n",
       "EXCHANGE_3                                             508.000000   \n",
       "EXCHANGE_5                                               0.250000   \n",
       "EXCHANGE_6                                               0.250000   \n",
       "L2NORM                                                   4.000000   \n",
       "MPI_Allreduce(), MPI_Bcast()                            10.000000   \n",
       "MPI_Barrier(), SETBV, SETIV, SSOR                        2.000000   \n",
       "RHS                                                    253.000000   \n",
       "SET_CLASS, VERIFY                                        0.015625   \n",
       "\n",
       "                                                              128  \\\n",
       ".TAU_application, ALLOC_SPACE, APPLU, BCAST_INP...       1.000000   \n",
       "BLTS, BUTS, JACLD, JACU                             803200.000000   \n",
       "EXACT                                               418460.000000   \n",
       "EXCHANGE_1                                          160640.000000   \n",
       "EXCHANGE_3                                             508.000000   \n",
       "EXCHANGE_5                                               0.250000   \n",
       "EXCHANGE_6                                               0.125000   \n",
       "L2NORM                                                   4.000000   \n",
       "MPI_Allreduce(), MPI_Bcast()                            10.000000   \n",
       "MPI_Barrier(), SETBV, SETIV, SSOR                        2.000000   \n",
       "RHS                                                    253.000000   \n",
       "SET_CLASS, VERIFY                                        0.007812   \n",
       "\n",
       "                                                              256  \n",
       ".TAU_application, ALLOC_SPACE, APPLU, BCAST_INP...       1.000000  \n",
       "BLTS, BUTS, JACLD, JACU                             401600.000000  \n",
       "EXACT                                               209230.000000  \n",
       "EXCHANGE_1                                          160640.000000  \n",
       "EXCHANGE_3                                             508.000000  \n",
       "EXCHANGE_5                                               0.125000  \n",
       "EXCHANGE_6                                               0.125000  \n",
       "L2NORM                                                   4.000000  \n",
       "MPI_Allreduce(), MPI_Bcast()                            10.000000  \n",
       "MPI_Barrier(), SETBV, SETIV, SSOR                        2.000000  \n",
       "RHS                                                    253.000000  \n",
       "SET_CLASS, VERIFY                                        0.003906  "
      ]
     },
     "execution_count": 5,
     "metadata": {},
     "output_type": "execute_result"
    },
    {
     "data": {
      "text/plain": [
       "<Figure size 432x288 with 0 Axes>"
      ]
     },
     "execution_count": 5,
     "metadata": {},
     "output_type": "execute_result"
    },
    {
     "data": {
      "text/plain": [
       "[<matplotlib.lines.Line2D at 0x7f98c9b941c0>]"
      ]
     },
     "execution_count": 5,
     "metadata": {},
     "output_type": "execute_result"
    },
    {
     "data": {
      "text/plain": [
       "[<matplotlib.lines.Line2D at 0x7f98c9b94610>]"
      ]
     },
     "execution_count": 5,
     "metadata": {},
     "output_type": "execute_result"
    },
    {
     "data": {
      "text/plain": [
       "[<matplotlib.lines.Line2D at 0x7f98c784f670>]"
      ]
     },
     "execution_count": 5,
     "metadata": {},
     "output_type": "execute_result"
    },
    {
     "data": {
      "text/plain": [
       "[<matplotlib.lines.Line2D at 0x7f98c784f370>]"
      ]
     },
     "execution_count": 5,
     "metadata": {},
     "output_type": "execute_result"
    },
    {
     "data": {
      "text/plain": [
       "[<matplotlib.lines.Line2D at 0x7f98c784fa30>]"
      ]
     },
     "execution_count": 5,
     "metadata": {},
     "output_type": "execute_result"
    },
    {
     "data": {
      "text/plain": [
       "[<matplotlib.lines.Line2D at 0x7f98c784fcd0>]"
      ]
     },
     "execution_count": 5,
     "metadata": {},
     "output_type": "execute_result"
    },
    {
     "data": {
      "text/plain": [
       "[<matplotlib.lines.Line2D at 0x7f98c784f280>]"
      ]
     },
     "execution_count": 5,
     "metadata": {},
     "output_type": "execute_result"
    },
    {
     "data": {
      "text/plain": [
       "[<matplotlib.lines.Line2D at 0x7f98c786b7c0>]"
      ]
     },
     "execution_count": 5,
     "metadata": {},
     "output_type": "execute_result"
    },
    {
     "data": {
      "text/plain": [
       "[<matplotlib.lines.Line2D at 0x7f98c786b820>]"
      ]
     },
     "execution_count": 5,
     "metadata": {},
     "output_type": "execute_result"
    },
    {
     "data": {
      "text/plain": [
       "[<matplotlib.lines.Line2D at 0x7f98c786b3a0>]"
      ]
     },
     "execution_count": 5,
     "metadata": {},
     "output_type": "execute_result"
    },
    {
     "data": {
      "text/plain": [
       "[<matplotlib.lines.Line2D at 0x7f98c78d4df0>]"
      ]
     },
     "execution_count": 5,
     "metadata": {},
     "output_type": "execute_result"
    },
    {
     "data": {
      "text/plain": [
       "[<matplotlib.lines.Line2D at 0x7f98c786b700>]"
      ]
     },
     "execution_count": 5,
     "metadata": {},
     "output_type": "execute_result"
    },
    {
     "data": {
      "text/plain": [
       "<matplotlib.legend.Legend at 0x7f98c78b2eb0>"
      ]
     },
     "execution_count": 5,
     "metadata": {},
     "output_type": "execute_result"
    },
    {
     "data": {
      "image/png": "[encoded data removed]",
      "text/plain": [
       "<Figure size 432x288 with 1 Axes>"
      ]
     },
     "metadata": {
      "needs_background": "light"
     },
     "output_type": "display_data"
    },
    {
     "name": "stdout",
     "output_type": "stream",
     "text": [
      "FixClass_mg\n"
     ]
    },
    {
     "data": {
      "text/html": [
       "<div>\n",
       "<style scoped>\n",
       "    .dataframe tbody tr th:only-of-type {\n",
       "        vertical-align: middle;\n",
       "    }\n",
       "\n",
       "    .dataframe tbody tr th {\n",
       "        vertical-align: top;\n",
       "    }\n",
       "\n",
       "    .dataframe thead th {\n",
       "        text-align: right;\n",
       "    }\n",
       "</style>\n",
       "<table border=\"1\" class=\"dataframe\">\n",
       "  <thead>\n",
       "    <tr style=\"text-align: right;\">\n",
       "      <th></th>\n",
       "      <th>1</th>\n",
       "      <th>2</th>\n",
       "      <th>4</th>\n",
       "      <th>8</th>\n",
       "      <th>16</th>\n",
       "      <th>32</th>\n",
       "      <th>64</th>\n",
       "      <th>128</th>\n",
       "      <th>256</th>\n",
       "    </tr>\n",
       "  </thead>\n",
       "  <tbody>\n",
       "    <tr>\n",
       "      <th>.TAU_application, ALLOC_SPACE, MG_MPI, MPI_Comm_rank(), MPI_Comm_size(), MPI_Finalize(), MPI_Init(), MPI_Reduce()</th>\n",
       "      <td>1.0</td>\n",
       "      <td>1.0</td>\n",
       "      <td>1.0</td>\n",
       "      <td>1.0</td>\n",
       "      <td>1.000</td>\n",
       "      <td>1.000</td>\n",
       "      <td>1.000</td>\n",
       "      <td>1.000</td>\n",
       "      <td>1.000</td>\n",
       "    </tr>\n",
       "    <tr>\n",
       "      <th>BUBBLE</th>\n",
       "      <td>666.0</td>\n",
       "      <td>647.0</td>\n",
       "      <td>632.5</td>\n",
       "      <td>613.0</td>\n",
       "      <td>583.375</td>\n",
       "      <td>583.375</td>\n",
       "      <td>529.125</td>\n",
       "      <td>498.875</td>\n",
       "      <td>471.828</td>\n",
       "    </tr>\n",
       "    <tr>\n",
       "      <th>COMM3</th>\n",
       "      <td>550.0</td>\n",
       "      <td>550.0</td>\n",
       "      <td>550.0</td>\n",
       "      <td>550.0</td>\n",
       "      <td>550.000</td>\n",
       "      <td>550.000</td>\n",
       "      <td>550.000</td>\n",
       "      <td>550.000</td>\n",
       "      <td>550.000</td>\n",
       "    </tr>\n",
       "    <tr>\n",
       "      <th>COMM3_EX, INTERP, RPRJ3</th>\n",
       "      <td>168.0</td>\n",
       "      <td>168.0</td>\n",
       "      <td>168.0</td>\n",
       "      <td>168.0</td>\n",
       "      <td>168.000</td>\n",
       "      <td>168.000</td>\n",
       "      <td>168.000</td>\n",
       "      <td>168.000</td>\n",
       "      <td>168.000</td>\n",
       "    </tr>\n",
       "    <tr>\n",
       "      <th>MG3P</th>\n",
       "      <td>21.0</td>\n",
       "      <td>21.0</td>\n",
       "      <td>21.0</td>\n",
       "      <td>21.0</td>\n",
       "      <td>21.000</td>\n",
       "      <td>21.000</td>\n",
       "      <td>21.000</td>\n",
       "      <td>21.000</td>\n",
       "      <td>21.000</td>\n",
       "    </tr>\n",
       "    <tr>\n",
       "      <th>MPI_Allreduce()</th>\n",
       "      <td>88.0</td>\n",
       "      <td>88.0</td>\n",
       "      <td>88.0</td>\n",
       "      <td>88.0</td>\n",
       "      <td>88.000</td>\n",
       "      <td>88.000</td>\n",
       "      <td>88.000</td>\n",
       "      <td>88.000</td>\n",
       "      <td>88.000</td>\n",
       "    </tr>\n",
       "    <tr>\n",
       "      <th>MPI_Barrier(), POWER</th>\n",
       "      <td>6.0</td>\n",
       "      <td>6.0</td>\n",
       "      <td>6.0</td>\n",
       "      <td>6.0</td>\n",
       "      <td>6.000</td>\n",
       "      <td>6.000</td>\n",
       "      <td>6.000</td>\n",
       "      <td>6.000</td>\n",
       "      <td>6.000</td>\n",
       "    </tr>\n",
       "    <tr>\n",
       "      <th>MPI_Bcast()</th>\n",
       "      <td>7.0</td>\n",
       "      <td>7.0</td>\n",
       "      <td>7.0</td>\n",
       "      <td>7.0</td>\n",
       "      <td>7.000</td>\n",
       "      <td>7.000</td>\n",
       "      <td>7.000</td>\n",
       "      <td>7.000</td>\n",
       "      <td>7.000</td>\n",
       "    </tr>\n",
       "    <tr>\n",
       "      <th>NORM2U3</th>\n",
       "      <td>4.0</td>\n",
       "      <td>4.0</td>\n",
       "      <td>4.0</td>\n",
       "      <td>4.0</td>\n",
       "      <td>4.000</td>\n",
       "      <td>4.000</td>\n",
       "      <td>4.000</td>\n",
       "      <td>4.000</td>\n",
       "      <td>4.000</td>\n",
       "    </tr>\n",
       "    <tr>\n",
       "      <th>PSINV</th>\n",
       "      <td>189.0</td>\n",
       "      <td>189.0</td>\n",
       "      <td>189.0</td>\n",
       "      <td>189.0</td>\n",
       "      <td>189.000</td>\n",
       "      <td>189.000</td>\n",
       "      <td>189.000</td>\n",
       "      <td>189.000</td>\n",
       "      <td>189.000</td>\n",
       "    </tr>\n",
       "    <tr>\n",
       "      <th>RESID</th>\n",
       "      <td>191.0</td>\n",
       "      <td>191.0</td>\n",
       "      <td>191.0</td>\n",
       "      <td>191.0</td>\n",
       "      <td>191.000</td>\n",
       "      <td>191.000</td>\n",
       "      <td>191.000</td>\n",
       "      <td>191.000</td>\n",
       "      <td>191.000</td>\n",
       "    </tr>\n",
       "    <tr>\n",
       "      <th>SETUP, ZRAN3</th>\n",
       "      <td>2.0</td>\n",
       "      <td>2.0</td>\n",
       "      <td>2.0</td>\n",
       "      <td>2.0</td>\n",
       "      <td>2.000</td>\n",
       "      <td>2.000</td>\n",
       "      <td>2.000</td>\n",
       "      <td>2.000</td>\n",
       "      <td>2.000</td>\n",
       "    </tr>\n",
       "    <tr>\n",
       "      <th>ZERO3</th>\n",
       "      <td>172.0</td>\n",
       "      <td>172.0</td>\n",
       "      <td>172.0</td>\n",
       "      <td>172.0</td>\n",
       "      <td>193.000</td>\n",
       "      <td>193.000</td>\n",
       "      <td>208.750</td>\n",
       "      <td>242.875</td>\n",
       "      <td>259.938</td>\n",
       "    </tr>\n",
       "  </tbody>\n",
       "</table>\n",
       "</div>"
      ],
      "text/plain": [
       "                                                      1      2      4    \\\n",
       ".TAU_application, ALLOC_SPACE, MG_MPI, MPI_Comm...    1.0    1.0    1.0   \n",
       "BUBBLE                                              666.0  647.0  632.5   \n",
       "COMM3                                               550.0  550.0  550.0   \n",
       "COMM3_EX, INTERP, RPRJ3                             168.0  168.0  168.0   \n",
       "MG3P                                                 21.0   21.0   21.0   \n",
       "MPI_Allreduce()                                      88.0   88.0   88.0   \n",
       "MPI_Barrier(), POWER                                  6.0    6.0    6.0   \n",
       "MPI_Bcast()                                           7.0    7.0    7.0   \n",
       "NORM2U3                                               4.0    4.0    4.0   \n",
       "PSINV                                               189.0  189.0  189.0   \n",
       "RESID                                               191.0  191.0  191.0   \n",
       "SETUP, ZRAN3                                          2.0    2.0    2.0   \n",
       "ZERO3                                               172.0  172.0  172.0   \n",
       "\n",
       "                                                      8        16       32   \\\n",
       ".TAU_application, ALLOC_SPACE, MG_MPI, MPI_Comm...    1.0    1.000    1.000   \n",
       "BUBBLE                                              613.0  583.375  583.375   \n",
       "COMM3                                               550.0  550.000  550.000   \n",
       "COMM3_EX, INTERP, RPRJ3                             168.0  168.000  168.000   \n",
       "MG3P                                                 21.0   21.000   21.000   \n",
       "MPI_Allreduce()                                      88.0   88.000   88.000   \n",
       "MPI_Barrier(), POWER                                  6.0    6.000    6.000   \n",
       "MPI_Bcast()                                           7.0    7.000    7.000   \n",
       "NORM2U3                                               4.0    4.000    4.000   \n",
       "PSINV                                               189.0  189.000  189.000   \n",
       "RESID                                               191.0  191.000  191.000   \n",
       "SETUP, ZRAN3                                          2.0    2.000    2.000   \n",
       "ZERO3                                               172.0  193.000  193.000   \n",
       "\n",
       "                                                        64       128      256  \n",
       ".TAU_application, ALLOC_SPACE, MG_MPI, MPI_Comm...    1.000    1.000    1.000  \n",
       "BUBBLE                                              529.125  498.875  471.828  \n",
       "COMM3                                               550.000  550.000  550.000  \n",
       "COMM3_EX, INTERP, RPRJ3                             168.000  168.000  168.000  \n",
       "MG3P                                                 21.000   21.000   21.000  \n",
       "MPI_Allreduce()                                      88.000   88.000   88.000  \n",
       "MPI_Barrier(), POWER                                  6.000    6.000    6.000  \n",
       "MPI_Bcast()                                           7.000    7.000    7.000  \n",
       "NORM2U3                                               4.000    4.000    4.000  \n",
       "PSINV                                               189.000  189.000  189.000  \n",
       "RESID                                               191.000  191.000  191.000  \n",
       "SETUP, ZRAN3                                          2.000    2.000    2.000  \n",
       "ZERO3                                               208.750  242.875  259.938  "
      ]
     },
     "execution_count": 5,
     "metadata": {},
     "output_type": "execute_result"
    },
    {
     "data": {
      "text/plain": [
       "<Figure size 432x288 with 0 Axes>"
      ]
     },
     "execution_count": 5,
     "metadata": {},
     "output_type": "execute_result"
    },
    {
     "data": {
      "text/plain": [
       "[<matplotlib.lines.Line2D at 0x7f98c9bdce80>]"
      ]
     },
     "execution_count": 5,
     "metadata": {},
     "output_type": "execute_result"
    },
    {
     "data": {
      "text/plain": [
       "[<matplotlib.lines.Line2D at 0x7f98c9bdc7c0>]"
      ]
     },
     "execution_count": 5,
     "metadata": {},
     "output_type": "execute_result"
    },
    {
     "data": {
      "text/plain": [
       "[<matplotlib.lines.Line2D at 0x7f98c9bdc610>]"
      ]
     },
     "execution_count": 5,
     "metadata": {},
     "output_type": "execute_result"
    },
    {
     "data": {
      "text/plain": [
       "[<matplotlib.lines.Line2D at 0x7f98c9cc9af0>]"
      ]
     },
     "execution_count": 5,
     "metadata": {},
     "output_type": "execute_result"
    },
    {
     "data": {
      "text/plain": [
       "[<matplotlib.lines.Line2D at 0x7f98c9cc9220>]"
      ]
     },
     "execution_count": 5,
     "metadata": {},
     "output_type": "execute_result"
    },
    {
     "data": {
      "text/plain": [
       "[<matplotlib.lines.Line2D at 0x7f98c9bfe130>]"
      ]
     },
     "execution_count": 5,
     "metadata": {},
     "output_type": "execute_result"
    },
    {
     "data": {
      "text/plain": [
       "[<matplotlib.lines.Line2D at 0x7f98c9bfeee0>]"
      ]
     },
     "execution_count": 5,
     "metadata": {},
     "output_type": "execute_result"
    },
    {
     "data": {
      "text/plain": [
       "[<matplotlib.lines.Line2D at 0x7f98c9bfe4f0>]"
      ]
     },
     "execution_count": 5,
     "metadata": {},
     "output_type": "execute_result"
    },
    {
     "data": {
      "text/plain": [
       "[<matplotlib.lines.Line2D at 0x7f98c7861910>]"
      ]
     },
     "execution_count": 5,
     "metadata": {},
     "output_type": "execute_result"
    },
    {
     "data": {
      "text/plain": [
       "[<matplotlib.lines.Line2D at 0x7f98c7861430>]"
      ]
     },
     "execution_count": 5,
     "metadata": {},
     "output_type": "execute_result"
    },
    {
     "data": {
      "text/plain": [
       "[<matplotlib.lines.Line2D at 0x7f98c9bd05b0>]"
      ]
     },
     "execution_count": 5,
     "metadata": {},
     "output_type": "execute_result"
    },
    {
     "data": {
      "text/plain": [
       "[<matplotlib.lines.Line2D at 0x7f98c78614c0>]"
      ]
     },
     "execution_count": 5,
     "metadata": {},
     "output_type": "execute_result"
    },
    {
     "data": {
      "text/plain": [
       "[<matplotlib.lines.Line2D at 0x7f9920a122b0>]"
      ]
     },
     "execution_count": 5,
     "metadata": {},
     "output_type": "execute_result"
    },
    {
     "data": {
      "text/plain": [
       "<matplotlib.legend.Legend at 0x7f98c7861cd0>"
      ]
     },
     "execution_count": 5,
     "metadata": {},
     "output_type": "execute_result"
    },
    {
     "data": {
      "image/png": "[encoded data removed]",
      "text/plain": [
       "<Figure size 432x288 with 1 Axes>"
      ]
     },
     "metadata": {
      "needs_background": "light"
     },
     "output_type": "display_data"
    },
    {
     "name": "stdout",
     "output_type": "stream",
     "text": [
      "FixClass_sp\n"
     ]
    },
    {
     "data": {
      "text/html": [
       "<div>\n",
       "<style scoped>\n",
       "    .dataframe tbody tr th:only-of-type {\n",
       "        vertical-align: middle;\n",
       "    }\n",
       "\n",
       "    .dataframe tbody tr th {\n",
       "        vertical-align: top;\n",
       "    }\n",
       "\n",
       "    .dataframe thead th {\n",
       "        text-align: right;\n",
       "    }\n",
       "</style>\n",
       "<table border=\"1\" class=\"dataframe\">\n",
       "  <thead>\n",
       "    <tr style=\"text-align: right;\">\n",
       "      <th></th>\n",
       "      <th>1</th>\n",
       "      <th>2</th>\n",
       "      <th>4</th>\n",
       "      <th>8</th>\n",
       "      <th>16</th>\n",
       "      <th>32</th>\n",
       "      <th>64</th>\n",
       "      <th>256</th>\n",
       "    </tr>\n",
       "  </thead>\n",
       "  <tbody>\n",
       "    <tr>\n",
       "      <th>.TAU_application, MPI_Comm_rank(), MPI_Comm_size(), MPI_Init(), MPSP, SETUP_MPI</th>\n",
       "      <td>1.0</td>\n",
       "      <td>1.0</td>\n",
       "      <td>1.0</td>\n",
       "      <td>1.0</td>\n",
       "      <td>1.0</td>\n",
       "      <td>1.0</td>\n",
       "      <td>1.0</td>\n",
       "      <td>1.0</td>\n",
       "    </tr>\n",
       "    <tr>\n",
       "      <th>MPI_Bcast()</th>\n",
       "      <td>4.0</td>\n",
       "      <td>1.0</td>\n",
       "      <td>4.0</td>\n",
       "      <td>1.0</td>\n",
       "      <td>4.0</td>\n",
       "      <td>4.0</td>\n",
       "      <td>4.0</td>\n",
       "      <td>4.0</td>\n",
       "    </tr>\n",
       "  </tbody>\n",
       "</table>\n",
       "</div>"
      ],
      "text/plain": [
       "                                                    1    2    4    8    16   \\\n",
       ".TAU_application, MPI_Comm_rank(), MPI_Comm_siz...  1.0  1.0  1.0  1.0  1.0   \n",
       "MPI_Bcast()                                         4.0  1.0  4.0  1.0  4.0   \n",
       "\n",
       "                                                    32   64   256  \n",
       ".TAU_application, MPI_Comm_rank(), MPI_Comm_siz...  1.0  1.0  1.0  \n",
       "MPI_Bcast()                                         4.0  4.0  4.0  "
      ]
     },
     "execution_count": 5,
     "metadata": {},
     "output_type": "execute_result"
    },
    {
     "data": {
      "text/plain": [
       "<Figure size 432x288 with 0 Axes>"
      ]
     },
     "execution_count": 5,
     "metadata": {},
     "output_type": "execute_result"
    },
    {
     "data": {
      "text/plain": [
       "[<matplotlib.lines.Line2D at 0x7f98c7532070>]"
      ]
     },
     "execution_count": 5,
     "metadata": {},
     "output_type": "execute_result"
    },
    {
     "data": {
      "text/plain": [
       "[<matplotlib.lines.Line2D at 0x7f98c792dac0>]"
      ]
     },
     "execution_count": 5,
     "metadata": {},
     "output_type": "execute_result"
    },
    {
     "data": {
      "text/plain": [
       "<matplotlib.legend.Legend at 0x7f98c792d5b0>"
      ]
     },
     "execution_count": 5,
     "metadata": {},
     "output_type": "execute_result"
    },
    {
     "data": {
      "image/png": "[encoded data removed]",
      "text/plain": [
       "<Figure size 432x288 with 1 Axes>"
      ]
     },
     "metadata": {
      "needs_background": "light"
     },
     "output_type": "display_data"
    }
   ],
   "source": [
    "for benchmark in benchmarks:\n",
    "    print(f\"FixClass_{benchmark}\")\n",
    "    FixClassDF = return_summarized_Fixed_dataframe(BenchMark_name = benchmark, fixed=\"class\")\n",
    "    FixClassDFwithoutNaN = FixClassDF.dropna(how='any', axis=0)\n",
    "    FixClassDFwithoutNaN\n",
    "    indice = FixClassDFwithoutNaN.T.index.tolist()\n",
    "    columns = FixClassDFwithoutNaN.T.columns.tolist()\n",
    "    plt.figure()\n",
    "    x = indice\n",
    "    for column in columns:\n",
    "        y = FixClassDFwithoutNaN.loc[column]\n",
    "        plt.plot(x, y, label=column)\n",
    "    plt.yscale('log')\n",
    "    plt.legend()\n",
    "    plt.show()"
   ]
  },
  {
   "cell_type": "markdown",
   "metadata": {},
   "source": [
    "## 以下記述移行予定"
   ]
  },
  {
   "cell_type": "code",
   "execution_count": 6,
   "metadata": {
    "tags": []
   },
   "outputs": [
    {
     "name": "stdout",
     "output_type": "stream",
     "text": [
      "FixProcess_cg\n"
     ]
    },
    {
     "data": {
      "text/plain": [
       "<Figure size 432x288 with 0 Axes>"
      ]
     },
     "execution_count": 6,
     "metadata": {},
     "output_type": "execute_result"
    },
    {
     "data": {
      "text/plain": [
       "[<matplotlib.lines.Line2D at 0x7f98c77676d0>]"
      ]
     },
     "execution_count": 6,
     "metadata": {},
     "output_type": "execute_result"
    },
    {
     "data": {
      "text/plain": [
       "[<matplotlib.lines.Line2D at 0x7f98c7767a90>]"
      ]
     },
     "execution_count": 6,
     "metadata": {},
     "output_type": "execute_result"
    },
    {
     "data": {
      "text/plain": [
       "[<matplotlib.lines.Line2D at 0x7f98c7767e50>]"
      ]
     },
     "execution_count": 6,
     "metadata": {},
     "output_type": "execute_result"
    },
    {
     "data": {
      "text/plain": [
       "[<matplotlib.lines.Line2D at 0x7f98c7777190>]"
      ]
     },
     "execution_count": 6,
     "metadata": {},
     "output_type": "execute_result"
    },
    {
     "data": {
      "text/plain": [
       "[<matplotlib.lines.Line2D at 0x7f98c7777550>]"
      ]
     },
     "execution_count": 6,
     "metadata": {},
     "output_type": "execute_result"
    },
    {
     "data": {
      "text/plain": [
       "<matplotlib.legend.Legend at 0x7f98c760c310>"
      ]
     },
     "execution_count": 6,
     "metadata": {},
     "output_type": "execute_result"
    },
    {
     "data": {
      "image/png": "[encoded data removed]",
      "text/plain": [
       "<Figure size 432x288 with 1 Axes>"
      ]
     },
     "metadata": {
      "needs_background": "light"
     },
     "output_type": "display_data"
    },
    {
     "data": {
      "text/html": [
       "<div>\n",
       "<style scoped>\n",
       "    .dataframe tbody tr th:only-of-type {\n",
       "        vertical-align: middle;\n",
       "    }\n",
       "\n",
       "    .dataframe tbody tr th {\n",
       "        vertical-align: top;\n",
       "    }\n",
       "\n",
       "    .dataframe thead th {\n",
       "        text-align: right;\n",
       "    }\n",
       "</style>\n",
       "<table border=\"1\" class=\"dataframe\">\n",
       "  <thead>\n",
       "    <tr style=\"text-align: right;\">\n",
       "      <th></th>\n",
       "      <th>A</th>\n",
       "      <th>B</th>\n",
       "      <th>C</th>\n",
       "      <th>D</th>\n",
       "    </tr>\n",
       "    <tr>\n",
       "      <th>Name</th>\n",
       "      <th></th>\n",
       "      <th></th>\n",
       "      <th></th>\n",
       "      <th></th>\n",
       "    </tr>\n",
       "  </thead>\n",
       "  <tbody>\n",
       "    <tr>\n",
       "      <th>ICNVRT</th>\n",
       "      <td>180347</td>\n",
       "      <td>1706010.0</td>\n",
       "      <td>3936140.0</td>\n",
       "      <td>44047200.0</td>\n",
       "    </tr>\n",
       "  </tbody>\n",
       "</table>\n",
       "</div>"
      ],
      "text/plain": [
       "             A          B          C           D\n",
       "Name                                            \n",
       "ICNVRT  180347  1706010.0  3936140.0  44047200.0"
      ]
     },
     "execution_count": 6,
     "metadata": {},
     "output_type": "execute_result"
    }
   ],
   "source": [
    "# ベンチマークCGでプロセス数を固定したもの\n",
    "\n",
    "outputDF = 0\n",
    "for benchmark in [\"cg\"]:\n",
    "    print(f\"FixProcess_{benchmark}\")\n",
    "    FixProcessDF = return_summarized_Fixed_dataframe(BenchMark_name = benchmark, fixed=\"process\")\n",
    "    FixProcessDFwithoutNaN = FixProcessDF.dropna(how='any', axis=0)\n",
    "    outputDF = FixProcessDFwithoutNaN\n",
    "    indice = FixProcessDFwithoutNaN.T.index.tolist()\n",
    "    columns = FixProcessDFwithoutNaN.T.columns.tolist()\n",
    "    plt.figure()\n",
    "    x = indice\n",
    "    for column in columns:\n",
    "        y = FixProcessDFwithoutNaN.loc[column]\n",
    "        plt.plot(x, y, label=column)\n",
    "    plt.yscale('log')\n",
    "    plt.legend()\n",
    "    plt.show()\n",
    "ICNVRTfixProcessDF = outputDF.loc[\"ICNVRT\":\"ICNVRT\"]\n",
    "ICNVRTfixProcessDF"
   ]
  },
  {
   "cell_type": "code",
   "execution_count": 7,
   "metadata": {
    "tags": []
   },
   "outputs": [
    {
     "name": "stdout",
     "output_type": "stream",
     "text": [
      "FixClass_cg\n"
     ]
    },
    {
     "data": {
      "text/plain": [
       "<Figure size 432x288 with 0 Axes>"
      ]
     },
     "execution_count": 7,
     "metadata": {},
     "output_type": "execute_result"
    },
    {
     "data": {
      "text/plain": [
       "[<matplotlib.lines.Line2D at 0x7f98c9cd64f0>]"
      ]
     },
     "execution_count": 7,
     "metadata": {},
     "output_type": "execute_result"
    },
    {
     "data": {
      "text/plain": [
       "[<matplotlib.lines.Line2D at 0x7f98c7ad9040>]"
      ]
     },
     "execution_count": 7,
     "metadata": {},
     "output_type": "execute_result"
    },
    {
     "data": {
      "text/plain": [
       "[<matplotlib.lines.Line2D at 0x7f98c9deff70>]"
      ]
     },
     "execution_count": 7,
     "metadata": {},
     "output_type": "execute_result"
    },
    {
     "data": {
      "text/plain": [
       "[<matplotlib.lines.Line2D at 0x7f98c7861b20>]"
      ]
     },
     "execution_count": 7,
     "metadata": {},
     "output_type": "execute_result"
    },
    {
     "data": {
      "text/plain": [
       "[<matplotlib.lines.Line2D at 0x7f98c78619d0>]"
      ]
     },
     "execution_count": 7,
     "metadata": {},
     "output_type": "execute_result"
    },
    {
     "data": {
      "text/plain": [
       "<matplotlib.legend.Legend at 0x7f98c77a8280>"
      ]
     },
     "execution_count": 7,
     "metadata": {},
     "output_type": "execute_result"
    },
    {
     "data": {
      "image/png": "[encoded data removed]",
      "text/plain": [
       "<Figure size 432x288 with 1 Axes>"
      ]
     },
     "metadata": {
      "needs_background": "light"
     },
     "output_type": "display_data"
    },
    {
     "data": {
      "text/html": [
       "<div>\n",
       "<style scoped>\n",
       "    .dataframe tbody tr th:only-of-type {\n",
       "        vertical-align: middle;\n",
       "    }\n",
       "\n",
       "    .dataframe tbody tr th {\n",
       "        vertical-align: top;\n",
       "    }\n",
       "\n",
       "    .dataframe thead th {\n",
       "        text-align: right;\n",
       "    }\n",
       "</style>\n",
       "<table border=\"1\" class=\"dataframe\">\n",
       "  <thead>\n",
       "    <tr style=\"text-align: right;\">\n",
       "      <th></th>\n",
       "      <th>1</th>\n",
       "      <th>2</th>\n",
       "      <th>4</th>\n",
       "      <th>8</th>\n",
       "      <th>16</th>\n",
       "      <th>32</th>\n",
       "      <th>64</th>\n",
       "      <th>128</th>\n",
       "      <th>256</th>\n",
       "    </tr>\n",
       "    <tr>\n",
       "      <th>Name</th>\n",
       "      <th></th>\n",
       "      <th></th>\n",
       "      <th></th>\n",
       "      <th></th>\n",
       "      <th></th>\n",
       "      <th></th>\n",
       "      <th></th>\n",
       "      <th></th>\n",
       "      <th></th>\n",
       "    </tr>\n",
       "  </thead>\n",
       "  <tbody>\n",
       "    <tr>\n",
       "      <th>ICNVRT</th>\n",
       "      <td>1984770.0</td>\n",
       "      <td>2263540.0</td>\n",
       "      <td>2821070.0</td>\n",
       "      <td>3936140.0</td>\n",
       "      <td>3936140.0</td>\n",
       "      <td>3936140.0</td>\n",
       "      <td>3936140.0</td>\n",
       "      <td>3936140.0</td>\n",
       "      <td>3936140.0</td>\n",
       "    </tr>\n",
       "  </tbody>\n",
       "</table>\n",
       "</div>"
      ],
      "text/plain": [
       "              1          2          4          8          16         32   \\\n",
       "Name                                                                       \n",
       "ICNVRT  1984770.0  2263540.0  2821070.0  3936140.0  3936140.0  3936140.0   \n",
       "\n",
       "              64         128        256  \n",
       "Name                                     \n",
       "ICNVRT  3936140.0  3936140.0  3936140.0  "
      ]
     },
     "execution_count": 7,
     "metadata": {},
     "output_type": "execute_result"
    }
   ],
   "source": [
    "# ベンチマークCGでベンチマーククラスを固定したもの\n",
    "\n",
    "outputDF = 0\n",
    "for benchmark in [\"cg\"]:\n",
    "    print(f\"FixClass_{benchmark}\")\n",
    "    FixClassDF = return_summarized_Fixed_dataframe(BenchMark_name = benchmark, fixed=\"class\")\n",
    "    FixClassDFwithoutNaN = FixClassDF.dropna(how='any', axis=0)\n",
    "    outputDF = FixClassDFwithoutNaN\n",
    "    indice = FixClassDFwithoutNaN.T.index.tolist()\n",
    "    columns = FixClassDFwithoutNaN.T.columns.tolist()\n",
    "    plt.figure()\n",
    "    x = indice\n",
    "    for column in columns:\n",
    "        y = FixClassDFwithoutNaN.loc[column]\n",
    "        plt.plot(x, y, label=column)\n",
    "    plt.yscale('log')\n",
    "    plt.legend()\n",
    "    plt.show()\n",
    "ICNVRTfixClassDF = outputDF.loc[\"ICNVRT\":\"ICNVRT\"]\n",
    "ICNVRTfixClassDF"
   ]
  },
  {
   "cell_type": "code",
   "execution_count": 8,
   "metadata": {},
   "outputs": [
    {
     "data": {
      "text/plain": [
       "[1, 4, 16, 256]"
      ]
     },
     "execution_count": 8,
     "metadata": {},
     "output_type": "execute_result"
    },
    {
     "data": {
      "text/html": [
       "<div>\n",
       "<style scoped>\n",
       "    .dataframe tbody tr th:only-of-type {\n",
       "        vertical-align: middle;\n",
       "    }\n",
       "\n",
       "    .dataframe tbody tr th {\n",
       "        vertical-align: top;\n",
       "    }\n",
       "\n",
       "    .dataframe thead th {\n",
       "        text-align: right;\n",
       "    }\n",
       "</style>\n",
       "<table border=\"1\" class=\"dataframe\">\n",
       "  <thead>\n",
       "    <tr style=\"text-align: right;\">\n",
       "      <th></th>\n",
       "      <th>1</th>\n",
       "      <th>4</th>\n",
       "      <th>16</th>\n",
       "      <th>256</th>\n",
       "    </tr>\n",
       "    <tr>\n",
       "      <th>Name</th>\n",
       "      <th></th>\n",
       "      <th></th>\n",
       "      <th></th>\n",
       "      <th></th>\n",
       "    </tr>\n",
       "  </thead>\n",
       "  <tbody>\n",
       "    <tr>\n",
       "      <th>ICNVRT</th>\n",
       "      <td>180347</td>\n",
       "      <td>1706010.0</td>\n",
       "      <td>3936140.0</td>\n",
       "      <td>44047200.0</td>\n",
       "    </tr>\n",
       "  </tbody>\n",
       "</table>\n",
       "</div>"
      ],
      "text/plain": [
       "           1          4          16          256\n",
       "Name                                            \n",
       "ICNVRT  180347  1706010.0  3936140.0  44047200.0"
      ]
     },
     "execution_count": 8,
     "metadata": {},
     "output_type": "execute_result"
    },
    {
     "data": {
      "text/html": [
       "<div>\n",
       "<style scoped>\n",
       "    .dataframe tbody tr th:only-of-type {\n",
       "        vertical-align: middle;\n",
       "    }\n",
       "\n",
       "    .dataframe tbody tr th {\n",
       "        vertical-align: top;\n",
       "    }\n",
       "\n",
       "    .dataframe thead th {\n",
       "        text-align: right;\n",
       "    }\n",
       "</style>\n",
       "<table border=\"1\" class=\"dataframe\">\n",
       "  <thead>\n",
       "    <tr style=\"text-align: right;\">\n",
       "      <th></th>\n",
       "      <th>1</th>\n",
       "      <th>2</th>\n",
       "      <th>4</th>\n",
       "      <th>8</th>\n",
       "      <th>16</th>\n",
       "      <th>32</th>\n",
       "      <th>64</th>\n",
       "      <th>128</th>\n",
       "      <th>256</th>\n",
       "    </tr>\n",
       "    <tr>\n",
       "      <th>Name</th>\n",
       "      <th></th>\n",
       "      <th></th>\n",
       "      <th></th>\n",
       "      <th></th>\n",
       "      <th></th>\n",
       "      <th></th>\n",
       "      <th></th>\n",
       "      <th></th>\n",
       "      <th></th>\n",
       "    </tr>\n",
       "  </thead>\n",
       "  <tbody>\n",
       "    <tr>\n",
       "      <th>ICNVRT</th>\n",
       "      <td>1984770.0</td>\n",
       "      <td>2263540.0</td>\n",
       "      <td>2821070.0</td>\n",
       "      <td>3936140.0</td>\n",
       "      <td>3936140.0</td>\n",
       "      <td>3936140.0</td>\n",
       "      <td>3936140.0</td>\n",
       "      <td>3936140.0</td>\n",
       "      <td>3936140.0</td>\n",
       "    </tr>\n",
       "  </tbody>\n",
       "</table>\n",
       "</div>"
      ],
      "text/plain": [
       "              1          2          4          8          16         32   \\\n",
       "Name                                                                       \n",
       "ICNVRT  1984770.0  2263540.0  2821070.0  3936140.0  3936140.0  3936140.0   \n",
       "\n",
       "              64         128        256  \n",
       "Name                                     \n",
       "ICNVRT  3936140.0  3936140.0  3936140.0  "
      ]
     },
     "execution_count": 8,
     "metadata": {},
     "output_type": "execute_result"
    }
   ],
   "source": [
    "intList = ConvertBenchmarkClasses(ICNVRTfixProcessDF.columns.tolist())\n",
    "intList\n",
    "ICNVRTfixProcessDF.columns = intList\n",
    "ICNVRTfixProcessDF\n",
    "ICNVRTfixClassDF"
   ]
  },
  {
   "cell_type": "markdown",
   "metadata": {},
   "source": [
    "fixProcess用入力\n",
    "\n",
    "```\n",
    "PARAMETER p\n",
    "POINTS (1) (4) (16)\n",
    "\n",
    "REGION example\n",
    "METRIC time\n",
    "DATA 180347 180347 180347\n",
    "DATA 1706010.0 1706010.0 1706010.0\n",
    "DATA 3936140.0 3936140.0 3936140.0\n",
    "```\n",
    "\n",
    "fixProcess用出力\n",
    "\n",
    "```\n",
    "Callpath: example\n",
    "\tMetric: time\n",
    "\t\tMeasurement point: (1.00E+00) Mean: 1.80E+05 Median: 1.80E+05\n",
    "\t\tMeasurement point: (4.00E+00) Mean: 1.71E+06 Median: 1.71E+06\n",
    "\t\tMeasurement point: (1.60E+01) Mean: 3.94E+06 Median: 3.94E+06\n",
    "\t\tModel: -3590464.6990329633 + 3759195.349891038 * p^(1/4)\n",
    "\t\tRSS: 8.79E+09\n",
    "\t\tAdjusted R^2: 9.98E-01\n",
    "```\n",
    "\n",
    "fixClass用入力\n",
    "\n",
    "```\n",
    "PARAMETER p\n",
    "POINTS (1) (2) (4) (8) (16) (32) (64) (128)\n",
    "\n",
    "REGION example\n",
    "METRIC time\n",
    "DATA 1984770.0 1984770.0 1984770.0\n",
    "DATA 2263540.0 2263540.0 2263540.0\n",
    "DATA 2821070.0 2821070.0 2821070.0\n",
    "DATA 3936140.0 3936140.0 3936140.0\n",
    "DATA 3936140.0 3936140.0 3936140.0\n",
    "DATA 3936140.0 3936140.0 3936140.0\n",
    "DATA 3936140.0 3936140.0 3936140.0\n",
    "DATA 3936140.0 3936140.0 3936140.0\n",
    "```\n",
    "\n",
    "fixClass用出力\n",
    "\n",
    "\n",
    "```\n",
    "Callpath: example\n",
    "\tMetric: time\n",
    "\t\tMeasurement point: (1.00E+00) Mean: 1.98E+06 Median: 1.98E+06\n",
    "\t\tMeasurement point: (2.00E+00) Mean: 2.26E+06 Median: 2.26E+06\n",
    "\t\tMeasurement point: (4.00E+00) Mean: 2.82E+06 Median: 2.82E+06\n",
    "\t\tMeasurement point: (8.00E+00) Mean: 3.94E+06 Median: 3.94E+06\n",
    "\t\tMeasurement point: (1.60E+01) Mean: 3.94E+06 Median: 3.94E+06\n",
    "\t\tMeasurement point: (3.20E+01) Mean: 3.94E+06 Median: 3.94E+06\n",
    "\t\tMeasurement point: (6.40E+01) Mean: 3.94E+06 Median: 3.94E+06\n",
    "\t\tMeasurement point: (1.28E+02) Mean: 3.94E+06 Median: 3.94E+06\n",
    "\t\tModel: 2286768.3333333326 + 301997.61904761934 * log2(p)^(1)\n",
    "\t\tRSS: 2.18E+12\n",
    "\t\tAdjusted R^2: 4.96E-01\n",
    "```\n"
   ]
  },
  {
   "cell_type": "code",
   "execution_count": 14,
   "metadata": {},
   "outputs": [
    {
     "data": {
      "text/plain": [
       "[<matplotlib.lines.Line2D at 0x7f98c7728490>]"
      ]
     },
     "execution_count": 14,
     "metadata": {},
     "output_type": "execute_result"
    },
    {
     "data": {
      "image/png": "[encoded data removed]",
      "text/plain": [
       "<Figure size 432x288 with 1 Axes>"
      ]
     },
     "metadata": {
      "needs_background": "light"
     },
     "output_type": "display_data"
    }
   ],
   "source": [
    "# Extra-PでfixProcessデータを入力して出力したモデルの図時\n",
    "plot_x = np.linspace(0, 256, 100)\n",
    "# -3590464.6990329633 + 3759195.349891038 * p^(1/4)\n",
    "plot_y = []\n",
    "for x in plot_x:\n",
    "    plot_y.append(-3590464.6990329633 + 3759195.349891038 * x**(1/4))\n",
    "plt.plot(plot_x, plot_y)"
   ]
  },
  {
   "cell_type": "code",
   "execution_count": 17,
   "metadata": {},
   "outputs": [
    {
     "data": {
      "text/plain": [
       "[<matplotlib.lines.Line2D at 0x7f98c7722f70>]"
      ]
     },
     "execution_count": 17,
     "metadata": {},
     "output_type": "execute_result"
    },
    {
     "data": {
      "image/png": "[encoded data removed]",
      "text/plain": [
       "<Figure size 432x288 with 1 Axes>"
      ]
     },
     "metadata": {
      "needs_background": "light"
     },
     "output_type": "display_data"
    }
   ],
   "source": [
    "# Extra-PでfixProcessデータを入力して出力したモデルの図時\n",
    "plot_x = np.linspace(0.01, 256, 100)\n",
    "# -3590464.6990329633 + 3759195.349891038 * p^(1/4)\n",
    "plot_y = []\n",
    "for x in plot_x:\n",
    "    plot_y.append(2286768.3333333326 + 301997.61904761934 * math.log2(x)**(1))\n",
    "plt.plot(plot_x, plot_y)"
   ]
  }
 ],
 "metadata": {
  "kernelspec": {
   "display_name": "Python 3",
   "language": "python",
   "name": "python3"
  },
  "language_info": {
   "codemirror_mode": {
    "name": "ipython",
    "version": 3
   },
   "file_extension": ".py",
   "mimetype": "text/x-python",
   "name": "python",
   "nbconvert_exporter": "python",
   "pygments_lexer": "ipython3",
   "version": "3.9.1"
  }
 },
 "nbformat": 4,
 "nbformat_minor": 4
}
