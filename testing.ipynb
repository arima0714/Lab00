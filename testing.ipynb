{
 "cells": [
  {
   "cell_type": "code",
   "execution_count": 1,
   "metadata": {},
   "outputs": [
    {
     "name": "stderr",
     "output_type": "stream",
     "text": [
      "DEBUG:__main__:hello\n"
     ]
    }
   ],
   "source": [
    "# ipynb形式のライブラリのインポート\n",
    "%run ./lib/lib.ipynb\n",
    "\n",
    "# 生データの入ったCSVファイルの保持されたディレクトリ名を格納している変数\n",
    "csvDirPath = \"./csv_files/\"\n",
    "benchmarkNames = [\"cg\", \"ep\", \"ft\", \"is\", \"lu\", \"mg\"]"
   ]
  },
  {
   "cell_type": "code",
   "execution_count": 2,
   "metadata": {},
   "outputs": [
    {
     "name": "stderr",
     "output_type": "stream",
     "text": [
      "DEBUG:lib.lab_lib:hello\n"
     ]
    }
   ],
   "source": [
    "# ipynb形式のライブラリノートを.py形式に変更したものをインポート\n",
    "import lib\n",
    "import lib.lab_lib\n",
    "from lib.lab_lib import *"
   ]
  },
  {
   "cell_type": "markdown",
   "metadata": {},
   "source": [
    "# 2022年3月22日～\n",
    "\n",
    "ベンチマークプログラムCGの関数 `VECSET` において、回帰木モデルのチューニングをする\n",
    "\n",
    "## ✅TODOs\n",
    "\n",
    "1. ✅VECSETだけのMAPE表を作る\n",
    "2. ✅githubのissueにある「やること群」をリストアップする\n",
    "\n",
    "## TODOs２\n",
    "\n",
    "* 木を出力して確認する\n",
    "* ノードに含まれるサンプル数のパラメータを確認\n",
    "* 毎回結果が異なるかもしれないのでそれを固定する＠ハイパーパラメータ\n",
    "* 入力データがすべて数値データなのを確認\n",
    "* 交差検証をする（一つのデータをテスト対象にする。すべてのデータをテスト対象とした結果をまとめる。）"
   ]
  },
  {
   "cell_type": "code",
   "execution_count": 3,
   "metadata": {},
   "outputs": [
    {
     "name": "stdout",
     "output_type": "stream",
     "text": [
      "exp_var = ['process', 'na', 'nonzer', 'niter', 'shift']\n"
     ]
    }
   ],
   "source": [
    "benchmark_name = \"cg\"\n",
    "\n",
    "classes = [\"A\", \"B\", \"C\", \"D\", \"E\", \"F\"]\n",
    "processes = [2, 4, 8, 16, 32, 64, 128, 256]\n",
    "\n",
    "\n",
    "date = \"2022年3月23日\"\n",
    "\n",
    "# コア数と問題サイズの両方を振る\n",
    "\n",
    "rawDF = return_rawDF_with_init_param(\n",
    "    benchmark_name=benchmark_name,\n",
    "    classes=classes,\n",
    "    processes=processes,\n",
    "    csv_dir_path=\"./csv_files/\",\n",
    ")\n",
    "\n",
    "# 関数VECSETのみを抽出\n",
    "functionName = \"VECSET\"\n",
    "rawDF = rawDF[rawDF[\"functionName\"] == functionName]\n",
    "\n",
    "exp_var = rawDF.columns.tolist()\n",
    "for element_be_removed in [\n",
    "    \"functionName\",\n",
    "    \"functionCallNum\",\n",
    "    \"intBenchmarkClass\",\n",
    "    \"benchmarkName\",\n",
    "    \"benchmarkClass\",\n",
    "]:\n",
    "    exp_var.remove(element_be_removed)\n",
    "res_var = [\"functionCallNum\"]\n",
    "\n",
    "print(f\"exp_var = {exp_var}\")\n"
   ]
  },
  {
   "cell_type": "markdown",
   "metadata": {},
   "source": [
    "# 2022年3月16日～2022年3月22日\n",
    "\n",
    "* ✅問題サイズの変数群の線形和をプロセス数で割ったモデルの実装\n",
    "    * ✅テスト\n",
    "    * ✅実装\n",
    "* ✅MAPE表の作成"
   ]
  },
  {
   "cell_type": "code",
   "execution_count": 4,
   "id": "c1630551-f64e-400e-81aa-815c2ef4c3ef",
   "metadata": {},
   "outputs": [
    {
     "name": "stdout",
     "output_type": "stream",
     "text": [
      "exp_var = ['process', 'na', 'nonzer', 'niter', 'shift']\n"
     ]
    },
    {
     "name": "stderr",
     "output_type": "stream",
     "text": [
      "/usr/local/lib/python3.10/site-packages/scipy/optimize/_minpack_py.py:833: OptimizeWarning: Covariance of the parameters could not be estimated\n",
      "  warnings.warn('Covariance of the parameters could not be estimated',\n",
      "/usr/local/lib/python3.10/site-packages/scipy/optimize/_minpack_py.py:833: OptimizeWarning: Covariance of the parameters could not be estimated\n",
      "  warnings.warn('Covariance of the parameters could not be estimated',\n",
      "/usr/local/lib/python3.10/site-packages/scipy/optimize/_minpack_py.py:833: OptimizeWarning: Covariance of the parameters could not be estimated\n",
      "  warnings.warn('Covariance of the parameters could not be estimated',\n",
      "/usr/local/lib/python3.10/site-packages/scipy/optimize/_minpack_py.py:833: OptimizeWarning: Covariance of the parameters could not be estimated\n",
      "  warnings.warn('Covariance of the parameters could not be estimated',\n",
      "/usr/local/lib/python3.10/site-packages/scipy/optimize/_minpack_py.py:833: OptimizeWarning: Covariance of the parameters could not be estimated\n",
      "  warnings.warn('Covariance of the parameters could not be estimated',\n",
      "/usr/local/lib/python3.10/site-packages/scipy/optimize/_minpack_py.py:833: OptimizeWarning: Covariance of the parameters could not be estimated\n",
      "  warnings.warn('Covariance of the parameters could not be estimated',\n",
      "/usr/local/lib/python3.10/site-packages/scipy/optimize/_minpack_py.py:833: OptimizeWarning: Covariance of the parameters could not be estimated\n",
      "  warnings.warn('Covariance of the parameters could not be estimated',\n",
      "/usr/local/lib/python3.10/site-packages/scipy/optimize/_minpack_py.py:833: OptimizeWarning: Covariance of the parameters could not be estimated\n",
      "  warnings.warn('Covariance of the parameters could not be estimated',\n",
      "/usr/local/lib/python3.10/site-packages/scipy/optimize/_minpack_py.py:833: OptimizeWarning: Covariance of the parameters could not be estimated\n",
      "  warnings.warn('Covariance of the parameters could not be estimated',\n",
      "/usr/local/lib/python3.10/site-packages/scipy/optimize/_minpack_py.py:833: OptimizeWarning: Covariance of the parameters could not be estimated\n",
      "  warnings.warn('Covariance of the parameters could not be estimated',\n",
      "/usr/local/lib/python3.10/site-packages/scipy/optimize/_minpack_py.py:833: OptimizeWarning: Covariance of the parameters could not be estimated\n",
      "  warnings.warn('Covariance of the parameters could not be estimated',\n",
      "/usr/local/lib/python3.10/site-packages/scipy/optimize/_minpack_py.py:833: OptimizeWarning: Covariance of the parameters could not be estimated\n",
      "  warnings.warn('Covariance of the parameters could not be estimated',\n",
      "/usr/local/lib/python3.10/site-packages/scipy/optimize/_minpack_py.py:833: OptimizeWarning: Covariance of the parameters could not be estimated\n",
      "  warnings.warn('Covariance of the parameters could not be estimated',\n",
      "/usr/local/lib/python3.10/site-packages/scipy/optimize/_minpack_py.py:833: OptimizeWarning: Covariance of the parameters could not be estimated\n",
      "  warnings.warn('Covariance of the parameters could not be estimated',\n",
      "/usr/local/lib/python3.10/site-packages/scipy/optimize/_minpack_py.py:833: OptimizeWarning: Covariance of the parameters could not be estimated\n",
      "  warnings.warn('Covariance of the parameters could not be estimated',\n",
      "/usr/local/lib/python3.10/site-packages/scipy/optimize/_minpack_py.py:833: OptimizeWarning: Covariance of the parameters could not be estimated\n",
      "  warnings.warn('Covariance of the parameters could not be estimated',\n",
      "/usr/local/lib/python3.10/site-packages/scipy/optimize/_minpack_py.py:833: OptimizeWarning: Covariance of the parameters could not be estimated\n",
      "  warnings.warn('Covariance of the parameters could not be estimated',\n",
      "/usr/local/lib/python3.10/site-packages/scipy/optimize/_minpack_py.py:833: OptimizeWarning: Covariance of the parameters could not be estimated\n",
      "  warnings.warn('Covariance of the parameters could not be estimated',\n",
      "/usr/local/lib/python3.10/site-packages/scipy/optimize/_minpack_py.py:833: OptimizeWarning: Covariance of the parameters could not be estimated\n",
      "  warnings.warn('Covariance of the parameters could not be estimated',\n",
      "/usr/local/lib/python3.10/site-packages/scipy/optimize/_minpack_py.py:833: OptimizeWarning: Covariance of the parameters could not be estimated\n",
      "  warnings.warn('Covariance of the parameters could not be estimated',\n",
      "/usr/local/lib/python3.10/site-packages/scipy/optimize/_minpack_py.py:833: OptimizeWarning: Covariance of the parameters could not be estimated\n",
      "  warnings.warn('Covariance of the parameters could not be estimated',\n",
      "/usr/local/lib/python3.10/site-packages/scipy/optimize/_minpack_py.py:833: OptimizeWarning: Covariance of the parameters could not be estimated\n",
      "  warnings.warn('Covariance of the parameters could not be estimated',\n",
      "/usr/local/lib/python3.10/site-packages/scipy/optimize/_minpack_py.py:833: OptimizeWarning: Covariance of the parameters could not be estimated\n",
      "  warnings.warn('Covariance of the parameters could not be estimated',\n",
      "/usr/local/lib/python3.10/site-packages/scipy/optimize/_minpack_py.py:833: OptimizeWarning: Covariance of the parameters could not be estimated\n",
      "  warnings.warn('Covariance of the parameters could not be estimated',\n",
      "/usr/local/lib/python3.10/site-packages/scipy/optimize/_minpack_py.py:833: OptimizeWarning: Covariance of the parameters could not be estimated\n",
      "  warnings.warn('Covariance of the parameters could not be estimated',\n",
      "/usr/local/lib/python3.10/site-packages/scipy/optimize/_minpack_py.py:833: OptimizeWarning: Covariance of the parameters could not be estimated\n",
      "  warnings.warn('Covariance of the parameters could not be estimated',\n",
      "/usr/local/lib/python3.10/site-packages/scipy/optimize/_minpack_py.py:833: OptimizeWarning: Covariance of the parameters could not be estimated\n",
      "  warnings.warn('Covariance of the parameters could not be estimated',\n",
      "/usr/local/lib/python3.10/site-packages/scipy/optimize/_minpack_py.py:833: OptimizeWarning: Covariance of the parameters could not be estimated\n",
      "  warnings.warn('Covariance of the parameters could not be estimated',\n",
      "/usr/local/lib/python3.10/site-packages/scipy/optimize/_minpack_py.py:833: OptimizeWarning: Covariance of the parameters could not be estimated\n",
      "  warnings.warn('Covariance of the parameters could not be estimated',\n",
      "/usr/local/lib/python3.10/site-packages/scipy/optimize/_minpack_py.py:833: OptimizeWarning: Covariance of the parameters could not be estimated\n",
      "  warnings.warn('Covariance of the parameters could not be estimated',\n",
      "/usr/local/lib/python3.10/site-packages/scipy/optimize/_minpack_py.py:833: OptimizeWarning: Covariance of the parameters could not be estimated\n",
      "  warnings.warn('Covariance of the parameters could not be estimated',\n",
      "/usr/local/lib/python3.10/site-packages/scipy/optimize/_minpack_py.py:833: OptimizeWarning: Covariance of the parameters could not be estimated\n",
      "  warnings.warn('Covariance of the parameters could not be estimated',\n",
      "/usr/local/lib/python3.10/site-packages/scipy/optimize/_minpack_py.py:833: OptimizeWarning: Covariance of the parameters could not be estimated\n",
      "  warnings.warn('Covariance of the parameters could not be estimated',\n"
     ]
    },
    {
     "name": "stdout",
     "output_type": "stream",
     "text": [
      "\\begin{table}\n",
      "\\caption{ベンチマークプログラムCGにおける各モデルでのMAPE}\n",
      "\\label{2022年3月23日allModelsMAPEinCG}\n",
      "\\begin{tabular}{lrrrrrrrrrrrl}\n",
      " & プロセス数を問題サイズで割る & 反比例 & 反比例＆対数 & 反比例＆線形 & 問題サイズをプロセス数で割る & 対数 & 対数＆反比例 & 対数＆線形 & 線形 & 線形＆反比例 & 線形＆対数 & 最適モデル \\\\\n",
      "関数名 &  &  &  &  &  &  &  &  &  &  &  &  \\\\\n",
      ".TAU_application & 0.00 & 0.00 & 0.00 & 0.00 & 0.00 & 0.00 & 0.00 & 0.00 & 0.00 & 0.00 & 0.00 & 線形 \\\\\n",
      "ALLOC_SPACE & 0.00 & 0.00 & 0.00 & 0.00 & 0.00 & 0.00 & 0.00 & 0.00 & 0.00 & 0.00 & 0.00 & 線形 \\\\\n",
      "CG & 0.00 & 0.00 & 0.00 & 0.00 & 0.00 & 0.00 & 0.00 & 0.00 & 0.00 & 0.00 & 0.00 & 線形 \\\\\n",
      "CONJ_GRAD & 37.55 & 13.88 & 13.73 & 14.50 & 42.76 & 14.80 & 14.72 & 15.25 & 13.16 & 12.41 & 12.76 & 線形＆反比例 \\\\\n",
      "ICNVRT & 159.61 & 662.48 & 2504.27 & 894.57 & 119.98 & 2443.70 & 3811.49 & 815.79 & 502.12 & 6621.01 & 2283.06 & 問題サイズをプロセス数で割る \\\\\n",
      "INITIALIZE_MPI & 0.00 & 0.00 & 0.00 & 0.00 & 0.00 & 0.00 & 0.00 & 0.00 & 0.00 & 0.00 & 0.00 & 線形 \\\\\n",
      "MAKEA & 0.00 & 0.00 & 0.00 & 0.00 & 0.00 & 0.00 & 0.00 & 0.00 & 0.00 & 0.00 & 0.00 & 線形 \\\\\n",
      "MPI_Barrier() & 0.00 & 0.00 & 0.00 & 0.00 & 0.00 & 0.00 & 0.00 & 0.00 & 0.00 & 0.00 & 0.00 & 線形 \\\\\n",
      "MPI_Bcast() & 0.00 & 0.00 & 0.00 & 0.00 & 0.00 & 0.00 & 0.00 & 0.00 & 0.00 & 0.00 & 0.00 & 線形 \\\\\n",
      "MPI_Comm_rank() & 0.00 & 0.00 & 0.00 & 0.00 & 0.00 & 0.00 & 0.00 & 0.00 & 0.00 & 0.00 & 0.00 & 線形 \\\\\n",
      "MPI_Comm_size() & 0.00 & 0.00 & 0.00 & 0.00 & 0.00 & 0.00 & 0.00 & 0.00 & 0.00 & 0.00 & 0.00 & 線形 \\\\\n",
      "MPI_Finalize() & 0.00 & 0.00 & 0.00 & 0.00 & 0.00 & 0.00 & 0.00 & 0.00 & 0.00 & 0.00 & 0.00 & 線形 \\\\\n",
      "MPI_Init() & 0.00 & 0.00 & 0.00 & 0.00 & 0.00 & 0.00 & 0.00 & 0.00 & 0.00 & 0.00 & 0.00 & 線形 \\\\\n",
      "MPI_Irecv() & 208.96 & 38.63 & 38.55 & 39.03 & 56.48 & 35.49 & 35.49 & 35.95 & 34.99 & 35.52 & 35.66 & 線形 \\\\\n",
      "MPI_Reduce() & 0.00 & 0.00 & 0.00 & 0.00 & 0.00 & 0.00 & 0.00 & 0.00 & 0.00 & 0.00 & 0.00 & 線形 \\\\\n",
      "MPI_Send() & 208.96 & 38.63 & 38.55 & 39.03 & 56.48 & 35.49 & 35.49 & 35.95 & 34.99 & 35.52 & 35.66 & 線形 \\\\\n",
      "MPI_Wait() & 208.96 & 38.63 & 38.55 & 39.03 & 56.48 & 35.49 & 35.49 & 35.95 & 34.99 & 35.52 & 35.66 & 線形 \\\\\n",
      "SETUP_PROC_INFO & 0.00 & 0.00 & 0.00 & 0.00 & 0.00 & 0.00 & 0.00 & 0.00 & 0.00 & 0.00 & 0.00 & 線形 \\\\\n",
      "SETUP_SUBMATRIX_INFO & 0.00 & 0.00 & 0.00 & 0.00 & 0.00 & 0.00 & 0.00 & 0.00 & 0.00 & 0.00 & 0.00 & 線形 \\\\\n",
      "SPARSE & 0.00 & 0.00 & 0.00 & 0.00 & 0.00 & 0.00 & 0.00 & 0.00 & 0.00 & 0.00 & 0.00 & 線形 \\\\\n",
      "SPRNVC & 153.54 & 336.65 & 1321.90 & 345.74 & 182.72 & 1306.98 & 1503.10 & 338.95 & 198.01 & 2573.96 & 1221.60 & プロセス数を問題サイズで割る \\\\\n",
      "VECSET & 153.54 & 336.65 & 1321.90 & 345.74 & 182.72 & 1306.98 & 1503.10 & 338.95 & 198.01 & 2573.96 & 1221.60 & プロセス数を問題サイズで割る \\\\\n",
      "\\end{tabular}\n",
      "\\end{table}\n",
      "\n"
     ]
    },
    {
     "name": "stderr",
     "output_type": "stream",
     "text": [
      "/tmp/ipykernel_8468/2045722184.py:66: FutureWarning: this method is deprecated in favour of `Styler.format(precision=..)`\n",
      "  df.style.set_precision(2).to_latex(\n"
     ]
    }
   ],
   "source": [
    "benchmark_name = \"cg\"\n",
    "\n",
    "classes = [\"A\", \"B\", \"C\", \"D\", \"E\", \"F\"]\n",
    "processes = [2, 4, 8, 16, 32, 64, 128, 256]\n",
    "\n",
    "dict_column_names_JP = {\n",
    "    \"functionName\": \"関数名\",\n",
    "    \"modelLin\": \"線形\",\n",
    "    \"modelIp\": \"反比例\",\n",
    "    \"modelLog\": \"対数\",\n",
    "    \"modelLinAndIp\": \"線形＆反比例\",\n",
    "    \"modelLinAndLog\": \"線形＆対数\",\n",
    "    \"modelIpAndLin\": \"反比例＆線形\",\n",
    "    \"modelIpAndLog\": \"反比例＆対数\",\n",
    "    \"modelLogAndLin\": \"対数＆線形\",\n",
    "    \"modelLogAndIp\": \"対数＆反比例\",\n",
    "    \"modelProcessDividedByProblemSize\": \"プロセス数を問題サイズで割る\",\n",
    "    \"modelProblemSizeDividedByProcess\": \"問題サイズをプロセス数で割る\",\n",
    "    # \"modelBasicTree\": \"回帰木\",\n",
    "}\n",
    "\n",
    "model_names_list_JP = list(dict_column_names_JP.values())\n",
    "model_names_list_JP.remove(\"関数名\")\n",
    "\n",
    "model_names_list = list(dict_column_names_JP.keys())\n",
    "model_names_list.remove(\"functionName\")\n",
    "\n",
    "date = \"2022年3月23日\"\n",
    "\n",
    "# コア数と問題サイズの両方を振る\n",
    "\n",
    "rawDF = return_rawDF_with_init_param(\n",
    "    benchmark_name=benchmark_name,\n",
    "    classes=classes,\n",
    "    processes=processes,\n",
    "    csv_dir_path=\"./csv_files/\",\n",
    ")\n",
    "\n",
    "exp_var = rawDF.columns.tolist()\n",
    "for element_be_removed in [\n",
    "    \"functionName\",\n",
    "    \"functionCallNum\",\n",
    "    \"intBenchmarkClass\",\n",
    "    \"benchmarkName\",\n",
    "    \"benchmarkClass\",\n",
    "]:\n",
    "    exp_var.remove(element_be_removed)\n",
    "res_var = [\"functionCallNum\"]\n",
    "\n",
    "print(f\"exp_var = {exp_var}\")\n",
    "\n",
    "returned_MAPE_table = return_MAPE_Table_DF_from_rawDF(\n",
    "    rawDF=rawDF,\n",
    "    exp_var_list=exp_var,\n",
    "    res_var_list=res_var,\n",
    "    model_name_list=model_names_list,\n",
    ")\n",
    "df = returned_MAPE_table.rename(columns=dict_column_names_JP)\n",
    "df = df.set_index(\"関数名\")\n",
    "df = df.sort_index(axis=0)\n",
    "df = df.sort_index(axis=1)\n",
    "\n",
    "df = addLowestMAPEsModelNameColumn(df, version=2, model_name_list=model_names_list_JP)\n",
    "\n",
    "print(\n",
    "    df.style.set_precision(2).to_latex(\n",
    "        caption=f\"ベンチマークプログラム{benchmark_name.upper()}における各モデルでのMAPE\",\n",
    "        label=f\"{date}allModelsMAPEin{benchmark_name.upper()}\",\n",
    "    )\n",
    ")"
   ]
  }
 ],
 "metadata": {
  "kernelspec": {
   "display_name": "Python 3 (ipykernel)",
   "language": "python",
   "name": "python3"
  },
  "language_info": {
   "codemirror_mode": {
    "name": "ipython",
    "version": 3
   },
   "file_extension": ".py",
   "mimetype": "text/x-python",
   "name": "python",
   "nbconvert_exporter": "python",
   "pygments_lexer": "ipython3",
   "version": "3.10.0"
  }
 },
 "nbformat": 4,
 "nbformat_minor": 4
}
