{
 "cells": [
  {
   "cell_type": "code",
   "execution_count": 1,
   "metadata": {},
   "outputs": [
    {
     "name": "stderr",
     "output_type": "stream",
     "text": [
      "DEBUG:__main__:hello\n"
     ]
    }
   ],
   "source": [
    "# ipynb形式のライブラリのインポート\n",
    "%run ./lib/lib.ipynb\n",
    "\n",
    "# 生データの入ったCSVファイルの保持されたディレクトリ名を格納している変数\n",
    "csvDirPath = \"./csv_files/\"\n",
    "benchmarkNames = [\"cg\", \"ep\", \"ft\", \"is\", \"lu\", \"mg\"]"
   ]
  },
  {
   "cell_type": "code",
   "execution_count": 2,
   "metadata": {},
   "outputs": [
    {
     "name": "stderr",
     "output_type": "stream",
     "text": [
      "DEBUG:lib.lab_lib:hello\n"
     ]
    }
   ],
   "source": [
    "# ipynb形式のライブラリノートを.py形式に変更したものをインポート\n",
    "import lib\n",
    "import lib.lab_lib\n",
    "from lib.lab_lib import *"
   ]
  },
  {
   "cell_type": "markdown",
   "metadata": {},
   "source": [
    "# 2022年3月23日\n",
    "\n",
    "問題サイズを固定した場合・プロセス数を固定した場合\n",
    "\n",
    "上記の2つの場合で最適モデルがどうなるかのモデルおよびMAPEの値を確認"
   ]
  },
  {
   "cell_type": "code",
   "execution_count": null,
   "metadata": {},
   "outputs": [],
   "source": []
  },
  {
   "cell_type": "code",
   "execution_count": null,
   "metadata": {},
   "outputs": [],
   "source": []
  },
  {
   "cell_type": "markdown",
   "metadata": {},
   "source": [
    "# 2022年3月22日～\n",
    "\n",
    "ベンチマークプログラムCGの関数 `VECSET` において、回帰木モデルのチューニングをする\n",
    "\n",
    "## ✅TODOs\n",
    "\n",
    "1. ✅VECSETだけのMAPE表を作る\n",
    "2. ✅githubのissueにある「やること群」をリストアップする\n",
    "\n",
    "## TODOs２\n",
    "\n",
    "* 木を出力して確認する\n",
    "* ノードに含まれるサンプル数のパラメータを確認\n",
    "* 毎回結果が異なるかもしれないのでそれを固定する＠ハイパーパラメータ\n",
    "* 入力データがすべて数値データなのを確認\n",
    "* 交差検証をする（一つのデータをテスト対象にする。すべてのデータをテスト対象とした結果をまとめる。）"
   ]
  },
  {
   "cell_type": "code",
   "execution_count": 3,
   "metadata": {},
   "outputs": [
    {
     "name": "stderr",
     "output_type": "stream",
     "text": [
      "DEBUG:graphviz._tools:deprecate positional args: graphviz.backend.piping.pipe(['renderer', 'formatter', 'quiet'])\n",
      "DEBUG:graphviz._tools:deprecate positional args: graphviz.backend.rendering.render(['renderer', 'formatter', 'quiet'])\n",
      "DEBUG:graphviz._tools:deprecate positional args: graphviz.backend.unflattening.unflatten(['stagger', 'fanout', 'chain', 'encoding'])\n",
      "DEBUG:graphviz._tools:deprecate positional args: graphviz.backend.viewing.view(['quiet'])\n",
      "DEBUG:graphviz._tools:deprecate positional args: graphviz.quoting.quote(['is_html_string', 'is_valid_id', 'dot_keywords', 'escape_unescaped_quotes'])\n",
      "DEBUG:graphviz._tools:deprecate positional args: graphviz.quoting.a_list(['kwargs', 'attributes'])\n",
      "DEBUG:graphviz._tools:deprecate positional args: graphviz.quoting.attr_list(['kwargs', 'attributes'])\n",
      "DEBUG:graphviz._tools:deprecate positional args: graphviz.dot.Dot.clear(['keep_attrs'])\n",
      "DEBUG:graphviz._tools:deprecate positional args: graphviz.dot.Dot.__iter__(['subgraph'])\n",
      "DEBUG:graphviz._tools:deprecate positional args: graphviz.dot.Dot.node(['_attributes'])\n",
      "DEBUG:graphviz._tools:deprecate positional args: graphviz.dot.Dot.edge(['_attributes'])\n",
      "DEBUG:graphviz._tools:deprecate positional args: graphviz.dot.Dot.attr(['_attributes'])\n",
      "DEBUG:graphviz._tools:deprecate positional args: graphviz.dot.Dot.subgraph(['name', 'comment', 'graph_attr', 'node_attr', 'edge_attr', 'body'])\n",
      "DEBUG:graphviz._tools:deprecate positional args: graphviz.piping.Pipe._pipe_legacy(['renderer', 'formatter', 'quiet'])\n",
      "DEBUG:graphviz._tools:deprecate positional args: graphviz.saving.Save.save(['directory'])\n",
      "DEBUG:graphviz._tools:deprecate positional args: graphviz.rendering.Render.render(['directory', 'view', 'cleanup', 'format', 'renderer', 'formatter', 'quiet', 'quiet_view'])\n",
      "DEBUG:graphviz._tools:deprecate positional args: graphviz.rendering.Render.view(['directory', 'cleanup', 'quiet', 'quiet_view'])\n",
      "DEBUG:graphviz._tools:deprecate positional args: graphviz.unflattening.Unflatten.unflatten(['stagger', 'fanout', 'chain'])\n",
      "DEBUG:graphviz._tools:deprecate positional args: graphviz.graphs.BaseGraph.__init__(['comment', 'filename', 'directory', 'format', 'engine', 'encoding', 'graph_attr', 'node_attr', 'edge_attr', 'body', 'strict'])\n",
      "DEBUG:graphviz._tools:deprecate positional args: graphviz.sources.Source.from_file(['directory', 'format', 'engine', 'encoding', 'renderer', 'formatter'])\n",
      "DEBUG:graphviz._tools:deprecate positional args: graphviz.sources.Source.__init__(['filename', 'directory', 'format', 'engine', 'encoding'])\n",
      "DEBUG:graphviz._tools:deprecate positional args: graphviz.sources.Source.save(['directory'])\n"
     ]
    },
    {
     "name": "stdout",
     "output_type": "stream",
     "text": [
      "exp_var = ['process', 'na', 'nonzer', 'niter', 'shift']\n",
      "<class 'pandas.core.frame.DataFrame'>\n",
      "Int64Index: 37 entries, 12 to 10\n",
      "Data columns (total 10 columns):\n",
      " #   Column             Non-Null Count  Dtype  \n",
      "---  ------             --------------  -----  \n",
      " 0   functionName       37 non-null     object \n",
      " 1   functionCallNum    37 non-null     float64\n",
      " 2   benchmarkName      37 non-null     object \n",
      " 3   benchmarkClass     37 non-null     object \n",
      " 4   process            37 non-null     int64  \n",
      " 5   intBenchmarkClass  37 non-null     int64  \n",
      " 6   na                 37 non-null     int64  \n",
      " 7   nonzer             37 non-null     int64  \n",
      " 8   niter              37 non-null     int64  \n",
      " 9   shift              37 non-null     int64  \n",
      "dtypes: float64(1), int64(6), object(3)\n",
      "memory usage: 3.2+ KB\n",
      "rawDF.info() = None\n"
     ]
    }
   ],
   "source": [
    "import graphviz\n",
    "\n",
    "benchmark_name = \"cg\"\n",
    "\n",
    "classes = [\"A\", \"B\", \"C\", \"D\", \"E\", \"F\"]\n",
    "processes = [2, 4, 8, 16, 32, 64, 128, 256]\n",
    "\n",
    "\n",
    "date: str = \"2022年3月23日\"\n",
    "\n",
    "# コア数と問題サイズの両方を振る\n",
    "\n",
    "rawDF: pd.DataFrame = return_rawDF_with_init_param(\n",
    "    benchmark_name=benchmark_name,\n",
    "    classes=classes,\n",
    "    processes=processes,\n",
    "    csv_dir_path=\"./csv_files/\",\n",
    ")\n",
    "\n",
    "# 関数VECSETのみを抽出\n",
    "functionName: str = \"VECSET\"\n",
    "rawDF: pd.DataFrame = rawDF[rawDF[\"functionName\"] == functionName]\n",
    "\n",
    "exp_var: list[str] = rawDF.columns.tolist()\n",
    "for element_be_removed in [\n",
    "    \"functionName\",\n",
    "    \"functionCallNum\",\n",
    "    \"intBenchmarkClass\",\n",
    "    \"benchmarkName\",\n",
    "    \"benchmarkClass\",\n",
    "]:\n",
    "    exp_var.remove(element_be_removed)\n",
    "res_var: list[str] = [\"functionCallNum\"]\n",
    "\n",
    "df_exp_var: pd.DataFrame = rawDF.filter(items=exp_var)\n",
    "df_res_var: pd.DataFrame = rawDF.filter(items=res_var)\n",
    "\n",
    "ndarray_exp_var: np.ndarray = df_exp_var.values\n",
    "ndarray_res_var: np.ndarray = df_res_var.values\n",
    "\n",
    "reg_tree = DecisionTreeRegressor(max_leaf_nodes=5)\n",
    "model_tree: DecisionTreeRegressor = reg_tree.fit(ndarray_exp_var, ndarray_res_var)\n",
    "\n",
    "print(f\"exp_var = {exp_var}\")\n",
    "print(f\"rawDF.info() = {rawDF.info()}\")"
   ]
  },
  {
   "cell_type": "code",
   "execution_count": 4,
   "metadata": {},
   "outputs": [
    {
     "name": "stderr",
     "output_type": "stream",
     "text": [
      "DEBUG:graphviz.backend.execute:run [PosixPath('dot'), '-Kdot', '-Tsvg']\n"
     ]
    },
    {
     "data": {
      "image/svg+xml": "<?xml version=\"1.0\" encoding=\"UTF-8\" standalone=\"no\"?>\n<!DOCTYPE svg PUBLIC \"-//W3C//DTD SVG 1.1//EN\"\n \"http://www.w3.org/Graphics/SVG/1.1/DTD/svg11.dtd\">\n<!-- Generated by graphviz version 2.43.0 (0)\n -->\n<!-- Title: Tree Pages: 1 -->\n<svg width=\"708pt\" height=\"477pt\"\n viewBox=\"0.00 0.00 708.00 477.00\" xmlns=\"http://www.w3.org/2000/svg\" xmlns:xlink=\"http://www.w3.org/1999/xlink\">\n<g id=\"graph0\" class=\"graph\" transform=\"scale(1 1) rotate(0) translate(4 473)\">\n<title>Tree</title>\n<polygon fill=\"white\" stroke=\"transparent\" points=\"-4,4 -4,-473 704,-473 704,4 -4,4\"/>\n<!-- 0 -->\n<g id=\"node1\" class=\"node\">\n<title>0</title>\n<polygon fill=\"#fef9f5\" stroke=\"black\" points=\"640.5,-469 358.5,-469 358.5,-401 640.5,-401 640.5,-469\"/>\n<text text-anchor=\"middle\" x=\"499.5\" y=\"-453.8\" font-family=\"Helvetica,sans-Serif\" font-size=\"14.00\">na &lt;= 31500000.0</text>\n<text text-anchor=\"middle\" x=\"499.5\" y=\"-438.8\" font-family=\"Helvetica,sans-Serif\" font-size=\"14.00\">squared_error = 80620299302501.83</text>\n<text text-anchor=\"middle\" x=\"499.5\" y=\"-423.8\" font-family=\"Helvetica,sans-Serif\" font-size=\"14.00\">samples = 37</text>\n<text text-anchor=\"middle\" x=\"499.5\" y=\"-408.8\" font-family=\"Helvetica,sans-Serif\" font-size=\"14.00\">value = 2694141.892</text>\n</g>\n<!-- 1 -->\n<g id=\"node2\" class=\"node\">\n<title>1</title>\n<polygon fill=\"#fefcfb\" stroke=\"black\" points=\"520.5,-365 238.5,-365 238.5,-297 520.5,-297 520.5,-365\"/>\n<text text-anchor=\"middle\" x=\"379.5\" y=\"-349.8\" font-family=\"Helvetica,sans-Serif\" font-size=\"14.00\">na &lt;= 5250000.0</text>\n<text text-anchor=\"middle\" x=\"379.5\" y=\"-334.8\" font-family=\"Helvetica,sans-Serif\" font-size=\"14.00\">squared_error = 7709466706163.194</text>\n<text text-anchor=\"middle\" x=\"379.5\" y=\"-319.8\" font-family=\"Helvetica,sans-Serif\" font-size=\"14.00\">samples = 36</text>\n<text text-anchor=\"middle\" x=\"379.5\" y=\"-304.8\" font-family=\"Helvetica,sans-Serif\" font-size=\"14.00\">value = 1268979.167</text>\n</g>\n<!-- 0&#45;&gt;1 -->\n<g id=\"edge1\" class=\"edge\">\n<title>0&#45;&gt;1</title>\n<path fill=\"none\" stroke=\"black\" d=\"M460.54,-400.88C449.64,-391.62 437.68,-381.45 426.38,-371.85\"/>\n<polygon fill=\"black\" stroke=\"black\" points=\"428.56,-369.11 418.68,-365.3 424.03,-374.44 428.56,-369.11\"/>\n<text text-anchor=\"middle\" x=\"420.7\" y=\"-386.52\" font-family=\"Helvetica,sans-Serif\" font-size=\"14.00\">True</text>\n</g>\n<!-- 2 -->\n<g id=\"node9\" class=\"node\">\n<title>2</title>\n<polygon fill=\"#e58139\" stroke=\"black\" points=\"700,-357.5 539,-357.5 539,-304.5 700,-304.5 700,-357.5\"/>\n<text text-anchor=\"middle\" x=\"619.5\" y=\"-342.3\" font-family=\"Helvetica,sans-Serif\" font-size=\"14.00\">squared_error = 0.0</text>\n<text text-anchor=\"middle\" x=\"619.5\" y=\"-327.3\" font-family=\"Helvetica,sans-Serif\" font-size=\"14.00\">samples = 1</text>\n<text text-anchor=\"middle\" x=\"619.5\" y=\"-312.3\" font-family=\"Helvetica,sans-Serif\" font-size=\"14.00\">value = 54000000.0</text>\n</g>\n<!-- 0&#45;&gt;2 -->\n<g id=\"edge8\" class=\"edge\">\n<title>0&#45;&gt;2</title>\n<path fill=\"none\" stroke=\"black\" d=\"M538.46,-400.88C552.3,-389.12 567.86,-375.89 581.61,-364.2\"/>\n<polygon fill=\"black\" stroke=\"black\" points=\"584.12,-366.66 589.48,-357.52 579.59,-361.33 584.12,-366.66\"/>\n<text text-anchor=\"middle\" x=\"587.46\" y=\"-378.74\" font-family=\"Helvetica,sans-Serif\" font-size=\"14.00\">False</text>\n</g>\n<!-- 3 -->\n<g id=\"node3\" class=\"node\">\n<title>3</title>\n<polygon fill=\"#fffefe\" stroke=\"black\" points=\"400,-261 127,-261 127,-193 400,-193 400,-261\"/>\n<text text-anchor=\"middle\" x=\"263.5\" y=\"-245.8\" font-family=\"Helvetica,sans-Serif\" font-size=\"14.00\">shift &lt;= 305.0</text>\n<text text-anchor=\"middle\" x=\"263.5\" y=\"-230.8\" font-family=\"Helvetica,sans-Serif\" font-size=\"14.00\">squared_error = 268178979919.434</text>\n<text text-anchor=\"middle\" x=\"263.5\" y=\"-215.8\" font-family=\"Helvetica,sans-Serif\" font-size=\"14.00\">samples = 32</text>\n<text text-anchor=\"middle\" x=\"263.5\" y=\"-200.8\" font-family=\"Helvetica,sans-Serif\" font-size=\"14.00\">value = 302601.562</text>\n</g>\n<!-- 1&#45;&gt;3 -->\n<g id=\"edge2\" class=\"edge\">\n<title>1&#45;&gt;3</title>\n<path fill=\"none\" stroke=\"black\" d=\"M341.84,-296.88C331.4,-287.71 319.96,-277.65 309.13,-268.12\"/>\n<polygon fill=\"black\" stroke=\"black\" points=\"311.19,-265.27 301.37,-261.3 306.57,-270.53 311.19,-265.27\"/>\n</g>\n<!-- 4 -->\n<g id=\"node8\" class=\"node\">\n<title>4</title>\n<polygon fill=\"#fbeade\" stroke=\"black\" points=\"574.5,-253.5 418.5,-253.5 418.5,-200.5 574.5,-200.5 574.5,-253.5\"/>\n<text text-anchor=\"middle\" x=\"496.5\" y=\"-238.3\" font-family=\"Helvetica,sans-Serif\" font-size=\"14.00\">squared_error = 0.0</text>\n<text text-anchor=\"middle\" x=\"496.5\" y=\"-223.3\" font-family=\"Helvetica,sans-Serif\" font-size=\"14.00\">samples = 4</text>\n<text text-anchor=\"middle\" x=\"496.5\" y=\"-208.3\" font-family=\"Helvetica,sans-Serif\" font-size=\"14.00\">value = 9000000.0</text>\n</g>\n<!-- 1&#45;&gt;4 -->\n<g id=\"edge7\" class=\"edge\">\n<title>1&#45;&gt;4</title>\n<path fill=\"none\" stroke=\"black\" d=\"M417.49,-296.88C430.98,-285.12 446.15,-271.89 459.56,-260.2\"/>\n<polygon fill=\"black\" stroke=\"black\" points=\"461.99,-262.73 467.23,-253.52 457.39,-257.45 461.99,-262.73\"/>\n</g>\n<!-- 5 -->\n<g id=\"node4\" class=\"node\">\n<title>5</title>\n<polygon fill=\"#ffffff\" stroke=\"black\" points=\"255,-149.5 0,-149.5 0,-96.5 255,-96.5 255,-149.5\"/>\n<text text-anchor=\"middle\" x=\"127.5\" y=\"-134.3\" font-family=\"Helvetica,sans-Serif\" font-size=\"14.00\">squared_error = 2884199544.271</text>\n<text text-anchor=\"middle\" x=\"127.5\" y=\"-119.3\" font-family=\"Helvetica,sans-Serif\" font-size=\"14.00\">samples = 24</text>\n<text text-anchor=\"middle\" x=\"127.5\" y=\"-104.3\" font-family=\"Helvetica,sans-Serif\" font-size=\"14.00\">value = 72218.75</text>\n</g>\n<!-- 3&#45;&gt;5 -->\n<g id=\"edge3\" class=\"edge\">\n<title>3&#45;&gt;5</title>\n<path fill=\"none\" stroke=\"black\" d=\"M219.34,-192.88C203.36,-180.9 185.37,-167.4 169.57,-155.55\"/>\n<polygon fill=\"black\" stroke=\"black\" points=\"171.63,-152.72 161.53,-149.52 167.43,-158.32 171.63,-152.72\"/>\n</g>\n<!-- 6 -->\n<g id=\"node5\" class=\"node\">\n<title>6</title>\n<polygon fill=\"#fffdfc\" stroke=\"black\" points=\"528,-157 273,-157 273,-89 528,-89 528,-157\"/>\n<text text-anchor=\"middle\" x=\"400.5\" y=\"-141.8\" font-family=\"Helvetica,sans-Serif\" font-size=\"14.00\">process &lt;= 12.0</text>\n<text text-anchor=\"middle\" x=\"400.5\" y=\"-126.8\" font-family=\"Helvetica,sans-Serif\" font-size=\"14.00\">squared_error = 427148437500.0</text>\n<text text-anchor=\"middle\" x=\"400.5\" y=\"-111.8\" font-family=\"Helvetica,sans-Serif\" font-size=\"14.00\">samples = 8</text>\n<text text-anchor=\"middle\" x=\"400.5\" y=\"-96.8\" font-family=\"Helvetica,sans-Serif\" font-size=\"14.00\">value = 993750.0</text>\n</g>\n<!-- 3&#45;&gt;6 -->\n<g id=\"edge4\" class=\"edge\">\n<title>3&#45;&gt;6</title>\n<path fill=\"none\" stroke=\"black\" d=\"M307.98,-192.88C320.66,-183.44 334.6,-173.06 347.73,-163.29\"/>\n<polygon fill=\"black\" stroke=\"black\" points=\"349.84,-166.08 355.77,-157.3 345.66,-160.46 349.84,-166.08\"/>\n</g>\n<!-- 7 -->\n<g id=\"node6\" class=\"node\">\n<title>7</title>\n<polygon fill=\"#ffffff\" stroke=\"black\" points=\"391.5,-53 235.5,-53 235.5,0 391.5,0 391.5,-53\"/>\n<text text-anchor=\"middle\" x=\"313.5\" y=\"-37.8\" font-family=\"Helvetica,sans-Serif\" font-size=\"14.00\">squared_error = 0.0</text>\n<text text-anchor=\"middle\" x=\"313.5\" y=\"-22.8\" font-family=\"Helvetica,sans-Serif\" font-size=\"14.00\">samples = 3</text>\n<text text-anchor=\"middle\" x=\"313.5\" y=\"-7.8\" font-family=\"Helvetica,sans-Serif\" font-size=\"14.00\">value = 150000.0</text>\n</g>\n<!-- 6&#45;&gt;7 -->\n<g id=\"edge5\" class=\"edge\">\n<title>6&#45;&gt;7</title>\n<path fill=\"none\" stroke=\"black\" d=\"M370.07,-88.95C361.65,-79.8 352.51,-69.87 344.08,-60.71\"/>\n<polygon fill=\"black\" stroke=\"black\" points=\"346.54,-58.22 337.19,-53.24 341.39,-62.96 346.54,-58.22\"/>\n</g>\n<!-- 8 -->\n<g id=\"node7\" class=\"node\">\n<title>8</title>\n<polygon fill=\"#fefcfa\" stroke=\"black\" points=\"565.5,-53 409.5,-53 409.5,0 565.5,0 565.5,-53\"/>\n<text text-anchor=\"middle\" x=\"487.5\" y=\"-37.8\" font-family=\"Helvetica,sans-Serif\" font-size=\"14.00\">squared_error = 0.0</text>\n<text text-anchor=\"middle\" x=\"487.5\" y=\"-22.8\" font-family=\"Helvetica,sans-Serif\" font-size=\"14.00\">samples = 5</text>\n<text text-anchor=\"middle\" x=\"487.5\" y=\"-7.8\" font-family=\"Helvetica,sans-Serif\" font-size=\"14.00\">value = 1500000.0</text>\n</g>\n<!-- 6&#45;&gt;8 -->\n<g id=\"edge6\" class=\"edge\">\n<title>6&#45;&gt;8</title>\n<path fill=\"none\" stroke=\"black\" d=\"M430.93,-88.95C439.35,-79.8 448.49,-69.87 456.92,-60.71\"/>\n<polygon fill=\"black\" stroke=\"black\" points=\"459.61,-62.96 463.81,-53.24 454.46,-58.22 459.61,-62.96\"/>\n</g>\n</g>\n</svg>\n",
      "text/plain": [
       "<graphviz.sources.Source at 0x7f77f86426b0>"
      ]
     },
     "execution_count": 4,
     "metadata": {},
     "output_type": "execute_result"
    }
   ],
   "source": [
    "# GraphVizを用いた方法\n",
    "\n",
    "graph = graphviz.Source(tree.export_graphviz(model_tree, feature_names=exp_var, filled=True))\n",
    "graph"
   ]
  },
  {
   "cell_type": "markdown",
   "metadata": {},
   "source": [
    "# 2022年3月16日～2022年3月22日\n",
    "\n",
    "* ✅問題サイズの変数群の線形和をプロセス数で割ったモデルの実装\n",
    "    * ✅テスト\n",
    "    * ✅実装\n",
    "* ✅MAPE表の作成"
   ]
  },
  {
   "cell_type": "code",
   "execution_count": 5,
   "metadata": {},
   "outputs": [
    {
     "name": "stdout",
     "output_type": "stream",
     "text": [
      "exp_var = ['process', 'na', 'nonzer', 'niter', 'shift']\n"
     ]
    },
    {
     "name": "stderr",
     "output_type": "stream",
     "text": [
      "/usr/local/lib/python3.10/site-packages/scipy/optimize/_minpack_py.py:833: OptimizeWarning: Covariance of the parameters could not be estimated\n",
      "  warnings.warn('Covariance of the parameters could not be estimated',\n",
      "/usr/local/lib/python3.10/site-packages/scipy/optimize/_minpack_py.py:833: OptimizeWarning: Covariance of the parameters could not be estimated\n",
      "  warnings.warn('Covariance of the parameters could not be estimated',\n",
      "/usr/local/lib/python3.10/site-packages/scipy/optimize/_minpack_py.py:833: OptimizeWarning: Covariance of the parameters could not be estimated\n",
      "  warnings.warn('Covariance of the parameters could not be estimated',\n",
      "/usr/local/lib/python3.10/site-packages/scipy/optimize/_minpack_py.py:833: OptimizeWarning: Covariance of the parameters could not be estimated\n",
      "  warnings.warn('Covariance of the parameters could not be estimated',\n",
      "/usr/local/lib/python3.10/site-packages/scipy/optimize/_minpack_py.py:833: OptimizeWarning: Covariance of the parameters could not be estimated\n",
      "  warnings.warn('Covariance of the parameters could not be estimated',\n",
      "/usr/local/lib/python3.10/site-packages/scipy/optimize/_minpack_py.py:833: OptimizeWarning: Covariance of the parameters could not be estimated\n",
      "  warnings.warn('Covariance of the parameters could not be estimated',\n",
      "/usr/local/lib/python3.10/site-packages/scipy/optimize/_minpack_py.py:833: OptimizeWarning: Covariance of the parameters could not be estimated\n",
      "  warnings.warn('Covariance of the parameters could not be estimated',\n",
      "/usr/local/lib/python3.10/site-packages/scipy/optimize/_minpack_py.py:833: OptimizeWarning: Covariance of the parameters could not be estimated\n",
      "  warnings.warn('Covariance of the parameters could not be estimated',\n",
      "/usr/local/lib/python3.10/site-packages/scipy/optimize/_minpack_py.py:833: OptimizeWarning: Covariance of the parameters could not be estimated\n",
      "  warnings.warn('Covariance of the parameters could not be estimated',\n",
      "/usr/local/lib/python3.10/site-packages/scipy/optimize/_minpack_py.py:833: OptimizeWarning: Covariance of the parameters could not be estimated\n",
      "  warnings.warn('Covariance of the parameters could not be estimated',\n",
      "/usr/local/lib/python3.10/site-packages/scipy/optimize/_minpack_py.py:833: OptimizeWarning: Covariance of the parameters could not be estimated\n",
      "  warnings.warn('Covariance of the parameters could not be estimated',\n",
      "/usr/local/lib/python3.10/site-packages/scipy/optimize/_minpack_py.py:833: OptimizeWarning: Covariance of the parameters could not be estimated\n",
      "  warnings.warn('Covariance of the parameters could not be estimated',\n",
      "/usr/local/lib/python3.10/site-packages/scipy/optimize/_minpack_py.py:833: OptimizeWarning: Covariance of the parameters could not be estimated\n",
      "  warnings.warn('Covariance of the parameters could not be estimated',\n",
      "/usr/local/lib/python3.10/site-packages/scipy/optimize/_minpack_py.py:833: OptimizeWarning: Covariance of the parameters could not be estimated\n",
      "  warnings.warn('Covariance of the parameters could not be estimated',\n",
      "/usr/local/lib/python3.10/site-packages/scipy/optimize/_minpack_py.py:833: OptimizeWarning: Covariance of the parameters could not be estimated\n",
      "  warnings.warn('Covariance of the parameters could not be estimated',\n",
      "/usr/local/lib/python3.10/site-packages/scipy/optimize/_minpack_py.py:833: OptimizeWarning: Covariance of the parameters could not be estimated\n",
      "  warnings.warn('Covariance of the parameters could not be estimated',\n",
      "/usr/local/lib/python3.10/site-packages/scipy/optimize/_minpack_py.py:833: OptimizeWarning: Covariance of the parameters could not be estimated\n",
      "  warnings.warn('Covariance of the parameters could not be estimated',\n",
      "/usr/local/lib/python3.10/site-packages/scipy/optimize/_minpack_py.py:833: OptimizeWarning: Covariance of the parameters could not be estimated\n",
      "  warnings.warn('Covariance of the parameters could not be estimated',\n",
      "/usr/local/lib/python3.10/site-packages/scipy/optimize/_minpack_py.py:833: OptimizeWarning: Covariance of the parameters could not be estimated\n",
      "  warnings.warn('Covariance of the parameters could not be estimated',\n",
      "/usr/local/lib/python3.10/site-packages/scipy/optimize/_minpack_py.py:833: OptimizeWarning: Covariance of the parameters could not be estimated\n",
      "  warnings.warn('Covariance of the parameters could not be estimated',\n",
      "/usr/local/lib/python3.10/site-packages/scipy/optimize/_minpack_py.py:833: OptimizeWarning: Covariance of the parameters could not be estimated\n",
      "  warnings.warn('Covariance of the parameters could not be estimated',\n",
      "/usr/local/lib/python3.10/site-packages/scipy/optimize/_minpack_py.py:833: OptimizeWarning: Covariance of the parameters could not be estimated\n",
      "  warnings.warn('Covariance of the parameters could not be estimated',\n",
      "/usr/local/lib/python3.10/site-packages/scipy/optimize/_minpack_py.py:833: OptimizeWarning: Covariance of the parameters could not be estimated\n",
      "  warnings.warn('Covariance of the parameters could not be estimated',\n",
      "/usr/local/lib/python3.10/site-packages/scipy/optimize/_minpack_py.py:833: OptimizeWarning: Covariance of the parameters could not be estimated\n",
      "  warnings.warn('Covariance of the parameters could not be estimated',\n",
      "/usr/local/lib/python3.10/site-packages/scipy/optimize/_minpack_py.py:833: OptimizeWarning: Covariance of the parameters could not be estimated\n",
      "  warnings.warn('Covariance of the parameters could not be estimated',\n",
      "/usr/local/lib/python3.10/site-packages/scipy/optimize/_minpack_py.py:833: OptimizeWarning: Covariance of the parameters could not be estimated\n",
      "  warnings.warn('Covariance of the parameters could not be estimated',\n",
      "/usr/local/lib/python3.10/site-packages/scipy/optimize/_minpack_py.py:833: OptimizeWarning: Covariance of the parameters could not be estimated\n",
      "  warnings.warn('Covariance of the parameters could not be estimated',\n",
      "/usr/local/lib/python3.10/site-packages/scipy/optimize/_minpack_py.py:833: OptimizeWarning: Covariance of the parameters could not be estimated\n",
      "  warnings.warn('Covariance of the parameters could not be estimated',\n",
      "/usr/local/lib/python3.10/site-packages/scipy/optimize/_minpack_py.py:833: OptimizeWarning: Covariance of the parameters could not be estimated\n",
      "  warnings.warn('Covariance of the parameters could not be estimated',\n",
      "/usr/local/lib/python3.10/site-packages/scipy/optimize/_minpack_py.py:833: OptimizeWarning: Covariance of the parameters could not be estimated\n",
      "  warnings.warn('Covariance of the parameters could not be estimated',\n",
      "/usr/local/lib/python3.10/site-packages/scipy/optimize/_minpack_py.py:833: OptimizeWarning: Covariance of the parameters could not be estimated\n",
      "  warnings.warn('Covariance of the parameters could not be estimated',\n",
      "/usr/local/lib/python3.10/site-packages/scipy/optimize/_minpack_py.py:833: OptimizeWarning: Covariance of the parameters could not be estimated\n",
      "  warnings.warn('Covariance of the parameters could not be estimated',\n",
      "/usr/local/lib/python3.10/site-packages/scipy/optimize/_minpack_py.py:833: OptimizeWarning: Covariance of the parameters could not be estimated\n",
      "  warnings.warn('Covariance of the parameters could not be estimated',\n"
     ]
    },
    {
     "name": "stdout",
     "output_type": "stream",
     "text": [
      "\\begin{table}\n",
      "\\caption{ベンチマークプログラムCGにおける各モデルでのMAPE}\n",
      "\\label{2022年3月23日allModelsMAPEinCG}\n",
      "\\begin{tabular}{lrrrrrrrrrrrrl}\n",
      " & プロセス数を問題サイズで割る & 反比例 & 反比例＆対数 & 反比例＆線形 & 問題サイズをプロセス数で割る & 回帰木 & 対数 & 対数＆反比例 & 対数＆線形 & 線形 & 線形＆反比例 & 線形＆対数 & 最適モデル \\\\\n",
      "関数名 &  &  &  &  &  &  &  &  &  &  &  &  &  \\\\\n",
      ".TAU_application & 0.00 & 0.00 & 0.00 & 0.00 & 0.00 & 0.00 & 0.00 & 0.00 & 0.00 & 0.00 & 0.00 & 0.00 & 線形 \\\\\n",
      "ALLOC_SPACE & 0.00 & 0.00 & 0.00 & 0.00 & 0.00 & 0.00 & 0.00 & 0.00 & 0.00 & 0.00 & 0.00 & 0.00 & 線形 \\\\\n",
      "CG & 0.00 & 0.00 & 0.00 & 0.00 & 0.00 & 0.00 & 0.00 & 0.00 & 0.00 & 0.00 & 0.00 & 0.00 & 線形 \\\\\n",
      "CONJ_GRAD & 37.55 & 13.88 & 13.73 & 14.50 & 42.76 & 0.00 & 14.80 & 14.72 & 15.25 & 13.16 & 12.41 & 12.76 & 回帰木 \\\\\n",
      "ICNVRT & 159.61 & 662.48 & 2504.27 & 894.57 & 119.98 & 0.00 & 2443.70 & 3811.49 & 815.79 & 502.12 & 6621.01 & 2283.06 & 回帰木 \\\\\n",
      "INITIALIZE_MPI & 0.00 & 0.00 & 0.00 & 0.00 & 0.00 & 0.00 & 0.00 & 0.00 & 0.00 & 0.00 & 0.00 & 0.00 & 線形 \\\\\n",
      "MAKEA & 0.00 & 0.00 & 0.00 & 0.00 & 0.00 & 0.00 & 0.00 & 0.00 & 0.00 & 0.00 & 0.00 & 0.00 & 線形 \\\\\n",
      "MPI_Barrier() & 0.00 & 0.00 & 0.00 & 0.00 & 0.00 & 0.00 & 0.00 & 0.00 & 0.00 & 0.00 & 0.00 & 0.00 & 線形 \\\\\n",
      "MPI_Bcast() & 0.00 & 0.00 & 0.00 & 0.00 & 0.00 & 0.00 & 0.00 & 0.00 & 0.00 & 0.00 & 0.00 & 0.00 & 線形 \\\\\n",
      "MPI_Comm_rank() & 0.00 & 0.00 & 0.00 & 0.00 & 0.00 & 0.00 & 0.00 & 0.00 & 0.00 & 0.00 & 0.00 & 0.00 & 線形 \\\\\n",
      "MPI_Comm_size() & 0.00 & 0.00 & 0.00 & 0.00 & 0.00 & 0.00 & 0.00 & 0.00 & 0.00 & 0.00 & 0.00 & 0.00 & 線形 \\\\\n",
      "MPI_Finalize() & 0.00 & 0.00 & 0.00 & 0.00 & 0.00 & 0.00 & 0.00 & 0.00 & 0.00 & 0.00 & 0.00 & 0.00 & 線形 \\\\\n",
      "MPI_Init() & 0.00 & 0.00 & 0.00 & 0.00 & 0.00 & 0.00 & 0.00 & 0.00 & 0.00 & 0.00 & 0.00 & 0.00 & 線形 \\\\\n",
      "MPI_Irecv() & 208.96 & 38.63 & 38.55 & 39.03 & 56.48 & 0.00 & 35.49 & 35.49 & 35.95 & 34.99 & 35.52 & 35.66 & 回帰木 \\\\\n",
      "MPI_Reduce() & 0.00 & 0.00 & 0.00 & 0.00 & 0.00 & 0.00 & 0.00 & 0.00 & 0.00 & 0.00 & 0.00 & 0.00 & 線形 \\\\\n",
      "MPI_Send() & 208.96 & 38.63 & 38.55 & 39.03 & 56.48 & 0.00 & 35.49 & 35.49 & 35.95 & 34.99 & 35.52 & 35.66 & 回帰木 \\\\\n",
      "MPI_Wait() & 208.96 & 38.63 & 38.55 & 39.03 & 56.48 & 0.00 & 35.49 & 35.49 & 35.95 & 34.99 & 35.52 & 35.66 & 回帰木 \\\\\n",
      "SETUP_PROC_INFO & 0.00 & 0.00 & 0.00 & 0.00 & 0.00 & 0.00 & 0.00 & 0.00 & 0.00 & 0.00 & 0.00 & 0.00 & 線形 \\\\\n",
      "SETUP_SUBMATRIX_INFO & 0.00 & 0.00 & 0.00 & 0.00 & 0.00 & 0.00 & 0.00 & 0.00 & 0.00 & 0.00 & 0.00 & 0.00 & 線形 \\\\\n",
      "SPARSE & 0.00 & 0.00 & 0.00 & 0.00 & 0.00 & 0.00 & 0.00 & 0.00 & 0.00 & 0.00 & 0.00 & 0.00 & 線形 \\\\\n",
      "SPRNVC & 153.54 & 336.65 & 1321.90 & 345.74 & 182.72 & 0.00 & 1306.98 & 1503.10 & 338.95 & 198.01 & 2573.96 & 1221.60 & 回帰木 \\\\\n",
      "VECSET & 153.54 & 336.65 & 1321.90 & 345.74 & 182.72 & 0.00 & 1306.98 & 1503.10 & 338.95 & 198.01 & 2573.96 & 1221.60 & 回帰木 \\\\\n",
      "\\end{tabular}\n",
      "\\end{table}\n",
      "\n"
     ]
    },
    {
     "name": "stderr",
     "output_type": "stream",
     "text": [
      "/tmp/ipykernel_27140/4100277800.py:66: FutureWarning: this method is deprecated in favour of `Styler.format(precision=..)`\n",
      "  df.style.set_precision(2).to_latex(\n"
     ]
    }
   ],
   "source": [
    "benchmark_name :str = \"cg\"\n",
    "\n",
    "classes :list[str] = [\"A\", \"B\", \"C\", \"D\", \"E\", \"F\"]\n",
    "processes :list[int] = [2, 4, 8, 16, 32, 64, 128, 256]\n",
    "\n",
    "dict_column_names_JP :dict[str, str] = {\n",
    "    \"functionName\": \"関数名\",\n",
    "    \"modelLin\": \"線形\",\n",
    "    \"modelIp\": \"反比例\",\n",
    "    \"modelLog\": \"対数\",\n",
    "    \"modelLinAndIp\": \"線形＆反比例\",\n",
    "    \"modelLinAndLog\": \"線形＆対数\",\n",
    "    \"modelIpAndLin\": \"反比例＆線形\",\n",
    "    \"modelIpAndLog\": \"反比例＆対数\",\n",
    "    \"modelLogAndLin\": \"対数＆線形\",\n",
    "    \"modelLogAndIp\": \"対数＆反比例\",\n",
    "    \"modelProcessDividedByProblemSize\": \"プロセス数を問題サイズで割る\",\n",
    "    \"modelProblemSizeDividedByProcess\": \"問題サイズをプロセス数で割る\",\n",
    "    \"modelBasicTree\": \"回帰木\",\n",
    "}\n",
    "\n",
    "model_names_list_JP :list[str] = list(dict_column_names_JP.values())\n",
    "model_names_list_JP.remove(\"関数名\")\n",
    "\n",
    "model_names_list :list[str] = list(dict_column_names_JP.keys())\n",
    "model_names_list.remove(\"functionName\")\n",
    "\n",
    "date :str = \"2022年3月23日\"\n",
    "\n",
    "# コア数と問題サイズの両方を振る\n",
    "\n",
    "rawDF :pd.DataFrame = return_rawDF_with_init_param(\n",
    "    benchmark_name=benchmark_name,\n",
    "    classes=classes,\n",
    "    processes=processes,\n",
    "    csv_dir_path=\"./csv_files/\",\n",
    ")\n",
    "\n",
    "exp_var :list[str] = rawDF.columns.tolist()\n",
    "for element_be_removed in [\n",
    "    \"functionName\",\n",
    "    \"functionCallNum\",\n",
    "    \"intBenchmarkClass\",\n",
    "    \"benchmarkName\",\n",
    "    \"benchmarkClass\",\n",
    "]:\n",
    "    exp_var.remove(element_be_removed)\n",
    "res_var :list[str] = [\"functionCallNum\"]\n",
    "\n",
    "print(f\"exp_var = {exp_var}\")\n",
    "\n",
    "returned_MAPE_table :pd.DataFrame = return_MAPE_Table_DF_from_rawDF(\n",
    "    rawDF=rawDF,\n",
    "    exp_var_list=exp_var,\n",
    "    res_var_list=res_var,\n",
    "    model_name_list=model_names_list,\n",
    ")\n",
    "df :pd.DataFrame = returned_MAPE_table.rename(columns=dict_column_names_JP)\n",
    "df = df.set_index(\"関数名\")\n",
    "df = df.sort_index(axis=0)\n",
    "df = df.sort_index(axis=1)\n",
    "\n",
    "df = addLowestMAPEsModelNameColumn(df, version=2, model_name_list=model_names_list_JP)\n",
    "\n",
    "print(\n",
    "    df.style.set_precision(2).to_latex(\n",
    "        caption=f\"ベンチマークプログラム{benchmark_name.upper()}における各モデルでのMAPE\",\n",
    "        label=f\"{date}allModelsMAPEin{benchmark_name.upper()}\",\n",
    "    )\n",
    ")"
   ]
  }
 ],
 "metadata": {
  "kernelspec": {
   "display_name": "Python 3 (ipykernel)",
   "language": "python",
   "name": "python3"
  },
  "language_info": {
   "codemirror_mode": {
    "name": "ipython",
    "version": 3
   },
   "file_extension": ".py",
   "mimetype": "text/x-python",
   "name": "python",
   "nbconvert_exporter": "python",
   "pygments_lexer": "ipython3",
   "version": "3.10.0"
  }
 },
 "nbformat": 4,
 "nbformat_minor": 4
}
