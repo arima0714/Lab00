{
 "cells": [
  {
   "cell_type": "code",
   "execution_count": 1,
   "metadata": {},
   "outputs": [],
   "source": [
    "# ipynb形式のライブラリのインポート\n",
    "%run ./lib.ipynb"
   ]
  },
  {
   "cell_type": "code",
   "execution_count": 2,
   "metadata": {},
   "outputs": [
    {
     "name": "stdout",
     "output_type": "stream",
     "text": [
      "学習用とテスト用にデータを分割するのに問題が生じています。@benchmark_name\n",
      "len(self.train_x) == 0\n",
      "len(self.train_y) ==  0\n",
      "len(self.test_x) == 0\n",
      "len(self.test_y) == 0\n",
      "return_FixedClassModelDF(sp)の実行に失敗しました\n"
     ]
    }
   ],
   "source": [
    "for benchmark in benchmarks:\n",
    "    MapeTableFixedClass = return_MapeTableFixedClass(benchmark)\n",
    "    MapeTableFixedProcess = return_MapeTableFixedProcess(benchmark)"
   ]
  },
  {
   "cell_type": "code",
   "execution_count": null,
   "metadata": {},
   "outputs": [],
   "source": []
  }
 ],
 "metadata": {
  "kernelspec": {
   "display_name": "Python 3",
   "language": "python",
   "name": "python3"
  },
  "language_info": {
   "codemirror_mode": {
    "name": "ipython",
    "version": 3
   },
   "file_extension": ".py",
   "mimetype": "text/x-python",
   "name": "python",
   "nbconvert_exporter": "python",
   "pygments_lexer": "ipython3",
   "version": "3.9.1"
  }
 },
 "nbformat": 4,
 "nbformat_minor": 4
}
