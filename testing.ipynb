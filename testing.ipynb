{
 "cells": [
  {
   "cell_type": "code",
   "execution_count": null,
   "metadata": {},
   "outputs": [],
   "source": [
    "# ipynb形式のライブラリのインポート\n",
    "%run ./lib.ipynb"
   ]
  },
  {
   "cell_type": "markdown",
   "metadata": {},
   "source": [
    "# 修正したモデルから卒論時に集計したデータを作成する"
   ]
  },
  {
   "cell_type": "markdown",
   "metadata": {},
   "source": [
    "1. 表\n",
    "\n",
    "| ベンチマーク名 | 平均誤差率(%) | コスト比(%) |\n",
    "|---------|----------|---------|\n"
   ]
  },
  {
   "cell_type": "markdown",
   "metadata": {},
   "source": [
    "2. 表\n",
    "\n",
    "| ベンチマーク名 | 採用割合(最大MAPE(%), 最小MAPE(%)) |\n",
    "|---------|----------------------------|\n",
    "|         | モデル(1), モデル(2), ...        |\n"
   ]
  },
  {
   "cell_type": "markdown",
   "metadata": {},
   "source": [
    "* 平均誤差率：大規模実行時の関数コール回数との比較\n",
    "* MAPE：トレーニングデータとの比較"
   ]
  },
  {
   "cell_type": "code",
   "execution_count": null,
   "metadata": {},
   "outputs": [],
   "source": [
    "plt.figure(figsize=(4, 3))\n",
    "plt.xlabel(\"使用したプロファイル数\")\n",
    "plt.ylabel(\"平均誤差率(%)\")"
   ]
  },
  {
   "cell_type": "code",
   "execution_count": null,
   "metadata": {},
   "outputs": [],
   "source": [
    "\n",
    "benchmark = \"mg\"\n",
    "fix = \"Class\"\n",
    "if benchmark == \"bt\" or benchmark == \"sp\":\n",
    "    processes = processes_onlyBTSP\n",
    "else:\n",
    "    processes = processes_excludeBTSP\n",
    "benchmarkClasses = [\"A\", \"B\", \"C\", \"D\"]\n",
    "fixedBenchmarkClass = \"B\"\n",
    "fixedProcess = 64\n",
    "\n",
    "DF = returnRawDFperBenchmark(Benchmark=benchmark, fix=fix, benchmarkClass=benchmarkClasses,\n",
    "                             FixedProcess=fixedProcess, Processes=processes, FixedBenchmarkClass=fixedBenchmarkClass)\n",
    "noNaNDF = DF.dropna(how='any')\n",
    "\n",
    "noNaNDF\n",
    "functionNames = noNaNDF.index.tolist()\n",
    "functionNames\n",
    "processes = noNaNDF.columns.tolist()\n",
    "\n",
    "calculatedDF = pd.DataFrame(columns=return_numOfColumns())\n",
    "calculatedDF = calculatedDF.astype(return_numOfColumns(dataType=True))\n",
    "\n",
    "def returnSeriesOfData(benchmarkName=\"benhmarkName\", functionName=\"functionName\", raw_x = [1,2,3], raw_y=[1,2,3], fix=\"Class\", fixed=\"B\", targetProcess=256, targetProblemSize=\"B\"):\n",
    "    \n",
    "    dataSeries = pd.Series(index=return_numOfColumns(), dtype=object)\n",
    "    dataSeries[\"benchmarkName\"] = benchmarkName\n",
    "    dataSeries[\"functionName\"] = functionName\n",
    "    dataSeries[\"usedData\"] = raw_y\n",
    "    dataSeries[\"numOfData\"] = len(raw_y)\n",
    "    dataSeries[\"ProcessOrClass\"] = fix\n",
    "    dataSeries[\"fixed\"] = ConvertBencharkClass_inNPB(fixed)\n",
    "    targetNumOfProcess = 256\n",
    "    dataSeries[\"targetNumOfProcess\"] = 256\n",
    "    targetProblemsize = fixed\n",
    "    targetNumOfProblemSize = ConvertBencharkClass_inNPB(targetProblemsize)\n",
    "    dataSeries[\"targetNumOfProblemSize\"] = targetNumOfProblemSize\n",
    "    dataSeries[\"targetProblemSize\"] = targetProblemsize\n",
    "\n",
    "    dataSeries[\"targetNumOfFunctionCall\"] = returnSpecificData(\n",
    "        benchmarkName=benchmark, functionName=functionName, process=targetNumOfProcess, benchmarkClass=targetProblemsize)\n",
    "\n",
    "    # MAPE の算出には mape_score()を用いる\n",
    "    # mape_score()の返り値の単位は％\n",
    "\n",
    "    raw_x\n",
    "    raw_y\n",
    "    # 線形モデル\n",
    "    modelLin = ModelLin_mk2(train_x=raw_x, train_y=raw_y)\n",
    "    modelLin.calc_lr()\n",
    "    predicted_y = modelLin.predict(raw_x)\n",
    "    dataSeries[\"objectLinModel\"] = modelLin\n",
    "    dataSeries[\"MAPEOfLinModel\"] = mape_score(predicted_y, raw_y)\n",
    "    # 反比例モデル\n",
    "    modelIp = ModelIp_mk2(train_x=raw_x, train_y=raw_y)\n",
    "    modelIp.calc_lr()\n",
    "    predicted_y = modelIp.predict(raw_x)\n",
    "    dataSeries[\"objectIpModel\"] = modelIp\n",
    "    dataSeries[\"MAPEOfIpModel\"] = mape_score(predicted_y, raw_y)\n",
    "    modelLog = ModelLog10_mk2(train_x=raw_x, train_y=raw_y)\n",
    "    modelLog.calc_lr()\n",
    "    predicted_y = modelLog.predict(raw_x)\n",
    "    dataSeries[\"objectLogModel\"] = modelLog\n",
    "    dataSeries[\"MAPEOfLogModel\"] = mape_score(predicted_y, raw_y)\n",
    "    # 分岐モデル\n",
    "    modelBranch = ModelBranch_mk2(train_x=raw_x, train_y=raw_y)\n",
    "    modelBranch.calc_lr()\n",
    "    predicted_y = modelBranch.predict(raw_x)\n",
    "    dataSeries[\"objectBranchModel\"] = modelBranch\n",
    "    dataSeries[\"MAPEOfBranchModel\"] = mape_score(predicted_y, raw_y)\n",
    "#     dataSeries[\"objectBestModel\"] =\n",
    "#     dataSeries[\"MAPEOfBestModel\"] =\n",
    "    return(dataSeries)\n",
    "    \n",
    "\n",
    "functionName = functionNames[2]\n",
    "for i in reversed(range(1, len(processes))):\n",
    "\n",
    "    indexSeparator = i+1\n",
    "    raw_x = noNaNDF.loc[functionName].tolist()[:indexSeparator]\n",
    "    raw_y = processes[:indexSeparator]\n",
    "    dataSeries = pd.Series(index=return_numOfColumns(), dtype=object)\n",
    "    dataSeries[\"benchmarkName\"] = benchmark\n",
    "    dataSeries[\"functionName\"] = functionName\n",
    "    dataSeries[\"usedData\"] = raw_y\n",
    "    dataSeries[\"numOfData\"] = len(raw_y)\n",
    "    dataSeries[\"ProcessOrClass\"] = fix\n",
    "    dataSeries[\"fixed\"] = ConvertBencharkClass_inNPB(fixedBenchmarkClass)\n",
    "    targetNumOfProcess = 256\n",
    "    dataSeries[\"targetNumOfProcess\"] = 256\n",
    "    targetProblemsize = fixedBenchmarkClass\n",
    "    targetNumOfProblemSize = ConvertBencharkClass_inNPB(targetProblemsize)\n",
    "    dataSeries[\"targetNumOfProblemSize\"] = targetNumOfProblemSize\n",
    "    dataSeries[\"targetProblemSize\"] = targetProblemsize\n",
    "\n",
    "    dataSeries[\"targetNumOfFunctionCall\"] = returnSpecificData(\n",
    "        benchmarkName=benchmark, functionName=functionName, process=targetNumOfProcess, benchmarkClass=targetProblemsize)\n",
    "\n",
    "    # MAPE の算出には mape_score()を用いる\n",
    "    # mape_score()の返り値の単位は％\n",
    "\n",
    "    raw_x\n",
    "    raw_y\n",
    "    # 線形モデル\n",
    "    modelLin = ModelLin_mk2(train_x=raw_x, train_y=raw_y)\n",
    "    modelLin.calc_lr()\n",
    "    predicted_y = modelLin.predict(raw_x)\n",
    "    dataSeries[\"objectLinModel\"] = modelLin\n",
    "    dataSeries[\"MAPEOfLinModel\"] = mape_score(predicted_y, raw_y)\n",
    "    # 反比例モデル\n",
    "    modelIp = ModelIp_mk2(train_x=raw_x, train_y=raw_y)\n",
    "    modelIp.calc_lr()\n",
    "    predicted_y = modelIp.predict(raw_x)\n",
    "    dataSeries[\"objectIpModel\"] = modelIp\n",
    "    dataSeries[\"MAPEOfIpModel\"] = mape_score(predicted_y, raw_y)\n",
    "    modelLog = ModelLog10_mk2(train_x=raw_x, train_y=raw_y)\n",
    "    modelLog.calc_lr()\n",
    "    predicted_y = modelLog.predict(raw_x)\n",
    "    dataSeries[\"objectLogModel\"] = modelLog\n",
    "    dataSeries[\"MAPEOfLogModel\"] = mape_score(predicted_y, raw_y)\n",
    "    # 分岐モデル\n",
    "    modelBranch = ModelBranch_mk2(train_x=raw_x, train_y=raw_y)\n",
    "    modelBranch.calc_lr()\n",
    "    predicted_y = modelBranch.predict(raw_x)\n",
    "    dataSeries[\"objectBranchModel\"] = modelBranch\n",
    "    dataSeries[\"MAPEOfBranchModel\"] = mape_score(predicted_y, raw_y)\n",
    "#     dataSeries[\"objectBestModel\"] =\n",
    "#     dataSeries[\"MAPEOfBestModel\"] =\n",
    "    calculatedDF = calculatedDF.append(dataSeries, ignore_index=True)\n",
    "calculatedDF"
   ]
  },
  {
   "cell_type": "code",
   "execution_count": null,
   "metadata": {},
   "outputs": [],
   "source": []
  },
  {
   "cell_type": "code",
   "execution_count": null,
   "metadata": {},
   "outputs": [],
   "source": [
    "DF = returnRawDFperBenchmark(Benchmark=\"mg\", fix=\"Process\", benchmarkClass=[\"A\", \"B\", \"C\", \"D\"], Processes=[\n",
    "                             1, 2, 4, 8, 16, 32, 64, 128, 256], FixedBenchmarkClass=\"B\", FixedProcess=64)\n",
    "DF.dropna(how='any')\n",
    "DF"
   ]
  },
  {
   "cell_type": "code",
   "execution_count": null,
   "metadata": {},
   "outputs": [],
   "source": []
  }
 ],
 "metadata": {
  "kernelspec": {
   "display_name": "Python 3",
   "language": "python",
   "name": "python3"
  },
  "language_info": {
   "codemirror_mode": {
    "name": "ipython",
    "version": 3
   },
   "file_extension": ".py",
   "mimetype": "text/x-python",
   "name": "python",
   "nbconvert_exporter": "python",
   "pygments_lexer": "ipython3",
   "version": "3.9.4"
  }
 },
 "nbformat": 4,
 "nbformat_minor": 4
}
