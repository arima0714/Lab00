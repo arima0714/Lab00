{
 "cells": [
  {
   "cell_type": "markdown",
   "metadata": {},
   "source": [
    "# 発表資料などの資料作成に必要な素材を生成するためのノート\n"
   ]
  },
  {
   "cell_type": "code",
   "execution_count": null,
   "metadata": {},
   "outputs": [],
   "source": [
    "# ipynb形式のライブラリのインポート\n",
    "%run ./lib.ipynb"
   ]
  },
  {
   "cell_type": "code",
   "execution_count": null,
   "metadata": {},
   "outputs": [],
   "source": [
    "summarized_ = return_summarized_Fixed_dataframe()\n",
    "print(summarized_)\n",
    "indices = summarized_.index.values\n",
    "columns = summarized_.columns.values\n",
    "print(indices)\n",
    "print(columns)\n",
    "\n",
    "plt.figure()\n",
    "for row in indices:\n",
    "    print(summarized_.loc[row].to_numpy())\n",
    "    plt.plot(columns, summarized_.loc[row].to_numpy())"
   ]
  },
  {
   "cell_type": "code",
   "execution_count": null,
   "metadata": {},
   "outputs": [],
   "source": [
    "return_summarized_Fixed_dataframe(BenchMark_name=\"cg\").to_csv(\"./tmp_GenerateResources/SummarizedFixedDataframe_cg.csv\")"
   ]
  },
  {
   "cell_type": "code",
   "execution_count": null,
   "metadata": {},
   "outputs": [],
   "source": [
    "path = \"./tmp_GenerateResources/\""
   ]
  },
  {
   "cell_type": "code",
   "execution_count": null,
   "metadata": {},
   "outputs": [],
   "source": [
    "def generateScoreTable(benchmark_name=\"cg\"):\n",
    "    list_ScoreTable = []\n",
    "    dict_summary_fixed_class = return_dict_summary_fixed(benchmark_name=benchmark_name, fixed=\"class\")\n",
    "    raw_x = dict_summary_fixed_class[\"processes\"]\n",
    "#     print(f\"raw_x : {raw_x}, benchmark : {benchmark_name}\")\n",
    "    for content in dict_summary_fixed_class:\n",
    "        if(content == \"processes\"):\n",
    "            continue\n",
    "        raw_y = dict_summary_fixed_class[content]\n",
    "        if(does_include_nan(raw_y)):\n",
    "            continue\n",
    "#         print(f\"raw_y(={content}) : {raw_y}\")\n",
    "        # 線形モデル\n",
    "        model_lin = ModelLin(raw_x, raw_y, benchmark_name, content)\n",
    "        model_lin.calc_lr()\n",
    "        model_lin.calc_r2_score()\n",
    "        model_lin.calc_mae_score()\n",
    "        model_lin.calc_mse_score()\n",
    "        model_lin.calc_rmse_score()\n",
    "        model_lin.calc_mape_score()\n",
    "        model_lin.plot_graph()\n",
    "        plt.title(f\"ベンチマーク名：{model_lin.benchmark_name}, 関数名：{model_lin.function_name}, MAPE : {model_lin.mape_score}\", y=-0.2)\n",
    "        plt.show()\n",
    "        # logモデル\n",
    "        model_log10 = ModelLog10(raw_x, raw_y, benchmark_name, content)\n",
    "        model_log10.calc_lr()\n",
    "        model_log10.calc_r2_score()\n",
    "        model_log10.calc_mae_score()\n",
    "        model_log10.calc_mse_score()\n",
    "        model_log10.calc_rmse_score()\n",
    "        model_log10.calc_mape_score()\n",
    "        model_log10.plot_graph()\n",
    "        if(model_log10.benchmark_name == \"cg\" and model_log10.function_name == \"MPI_Irecv()\"):\n",
    "            plt.savefig(path+model_log10.benchmark_name+'_'+model_log10.function_name+'.png')\n",
    "        if(model_log10.benchmark_name == \"cg\" and model_log10.function_name == \"ICNVRT\"):\n",
    "            plt.savefig(path+model_log10.benchmark_name+'_'+model_log10.function_name+'.png')\n",
    "        plt.title(f\"ベンチマーク名：{model_log10.benchmark_name}, 関数名：{model_log10.function_name}, MAPE : {model_log10.mape_score}\", y=-0.2)\n",
    "        plt.show()\n",
    "        # 反比例モデル\n",
    "        model_ip = ModelIP(raw_x, raw_y, benchmark_name, content)\n",
    "        model_ip.calc_lr()\n",
    "        model_ip.calc_r2_score()\n",
    "        model_ip.calc_mae_score()\n",
    "        model_ip.calc_mse_score()\n",
    "        model_ip.calc_rmse_score()\n",
    "        model_ip.calc_mape_score()\n",
    "        model_ip.plot_graph()\n",
    "        if(model_log10.benchmark_name == \"lu\" and model_log10.function_name == \"EXACT\"):\n",
    "            plt.savefig(path+model_log10.benchmark_name+'_'+model_log10.function_name+'.png')\n",
    "        plt.title(f\"ベンチマーク名：{model_ip.benchmark_name}, 関数名：{model_ip.function_name}, MAPE : {model_ip.mape_score}\", y=-0.2)\n",
    "        plt.show()\n",
    "        list_ScoreTable.append([content, model_lin.mape_score, model_log10.mape_score, model_ip.mape_score])\n",
    "    df_ScoreTable = pd.DataFrame(list_ScoreTable)\n",
    "    df_ScoreTable.columns = [\"\", \"x mape\", \"logx mape\", \"1/x mape\"]\n",
    "    df_ScoreTable.set_index(\"\",inplace=True)\n",
    "    df_ScoreTable"
   ]
  },
  {
   "cell_type": "code",
   "execution_count": null,
   "metadata": {},
   "outputs": [],
   "source": [
    "for benchmark in benchmarks:\n",
    "    generateScoreTable(benchmark)"
   ]
  },
  {
   "cell_type": "markdown",
   "metadata": {},
   "source": [
    "# 資料作成に使用する最もフィットするモデルはどれかを示すための表・グラフを作るためのプログラム\n"
   ]
  },
  {
   "cell_type": "code",
   "execution_count": 2,
   "metadata": {},
   "outputs": [],
   "source": [
    "def return_list_of_ratio_row(input_list):\n",
    "    sum_of_input_list = 0\n",
    "    return_list = []\n",
    "    for list_child in input_list:\n",
    "        sum_of_input_list += len(list_child)\n",
    "    for list_child in input_list:\n",
    "        num = int(len(list_child)/sum_of_input_list*10000)/100\n",
    "        return_list.append(num)\n",
    "    # 総和を100にする処理\n",
    "    # 最大になることの多い線形モデルはほかのモデルの割合の総和を100から引いたものにしている\n",
    "    i_0 = 100\n",
    "    for i in range(1, len(input_list)):\n",
    "        i_0 -= return_list[i]\n",
    "    return_list[0] = i_0\n",
    "    return(return_list)\n",
    "\n",
    "def return_list_of_range_row(input_list):\n",
    "    return_list = []\n",
    "    for list_child in input_list:\n",
    "        if(len(list_child) == 0):\n",
    "            data_str = \"(NoData)\"\n",
    "        else:\n",
    "            min_data = int(min(list_child)*100)/100\n",
    "            max_data = int(max(list_child)*100)/100\n",
    "            data_str = f\"({min_data}-{max_data})\"\n",
    "        return_list.append(data_str)\n",
    "    return(return_list)\n"
   ]
  },
  {
   "cell_type": "code",
   "execution_count": 3,
   "metadata": {},
   "outputs": [],
   "source": [
    "def return_row_list(input_list):\n",
    "    return_list = []\n",
    "    # 割合の入ったリストと最小・最大値の入ったリスト\n",
    "    list_of_ratio_row = return_list_of_ratio_row(input_list)\n",
    "    list_of_range_row = return_list_of_range_row(input_list)\n",
    "    \n",
    "    # 上の二つのリストの要素同士を結合させる\n",
    "    for i in range(len(list_of_ratio_row)):\n",
    "        return_list.append(f\"{list_of_ratio_row[i]}%{list_of_range_row[i]}\")\n",
    "    \n",
    "    return return_list"
   ]
  },
  {
   "cell_type": "code",
   "execution_count": 4,
   "metadata": {},
   "outputs": [
    {
     "name": "stdout",
     "output_type": "stream",
     "text": [
      "cg\n",
      "ep\n",
      "lu\n"
     ]
    }
   ],
   "source": [
    "csv_directory_path = './tmp_GenerateResources/'\n",
    "\n",
    "result_of_all = [[], [], []]\n",
    "list_for_csv = []\n",
    "\n",
    "list_for_csv_ratio = []\n",
    "list_for_csv_range = []\n",
    "\n",
    "for benchmark in benchmarks:\n",
    "    result_of_benchmark = [[], [], []]\n",
    "    file_name = benchmark+'.csv'\n",
    "    file_path = csv_directory_path+file_name\n",
    "    # ファイルが存在しない場合は処理を飛ばす\n",
    "    if(os.path.isfile(csv_directory_path+file_name) == False):\n",
    "        continue\n",
    "    # 完全に値をとれたもののみで集計するようにしている\n",
    "    if(benchmark != \"cg\" and benchmark != \"ep\" and benchmark != \"lu\"):\n",
    "        continue\n",
    "    # 現在処理中のベンチマーク名を出力\n",
    "    print(benchmark)\n",
    "    df = pd.read_csv(file_path, index_col=0)\n",
    "    columns = df.columns.values\n",
    "    indices = df.index.values\n",
    "    for index in indices:\n",
    "        row = df.loc[index].tolist()\n",
    "        result_of_benchmark[row.index(min(row))].append(min(row))\n",
    "        result_of_all[row.index(min(row))].append(min(row))\n",
    "    list_for_csv.append([benchmark]+return_row_list(result_of_benchmark))\n",
    "list_for_csv.append([\"all\"]+return_row_list(result_of_all))"
   ]
  },
  {
   "cell_type": "code",
   "execution_count": 5,
   "metadata": {},
   "outputs": [
    {
     "name": "stdout",
     "output_type": "stream",
     "text": [
      "[['cg', '86.37%(0.0-6.91)', '13.63%(7.99-9.58)', '0.0%(NoData)'], ['ep', '100.0%(0.0-0.0)', '0.0%(NoData)', '0.0%(NoData)'], ['lu', '69.06%(0.0-0.0)', '21.42%(15.23-17.01)', '9.52%(0.0-12.24)'], ['all', '78.1%(0.0-6.91)', '16.43%(7.99-17.01)', '5.47%(0.0-12.24)']]\n"
     ]
    }
   ],
   "source": [
    "print(list_for_csv)"
   ]
  },
  {
   "cell_type": "code",
   "execution_count": 6,
   "metadata": {
    "collapsed": true,
    "jupyter": {
     "outputs_hidden": true
    }
   },
   "outputs": [
    {
     "data": {
      "text/html": [
       "<div>\n",
       "<style scoped>\n",
       "    .dataframe tbody tr th:only-of-type {\n",
       "        vertical-align: middle;\n",
       "    }\n",
       "\n",
       "    .dataframe tbody tr th {\n",
       "        vertical-align: top;\n",
       "    }\n",
       "\n",
       "    .dataframe thead th {\n",
       "        text-align: right;\n",
       "    }\n",
       "</style>\n",
       "<table border=\"1\" class=\"dataframe\">\n",
       "  <thead>\n",
       "    <tr style=\"text-align: right;\">\n",
       "      <th></th>\n",
       "      <th></th>\n",
       "      <th>線形モデル</th>\n",
       "      <th>対数モデル</th>\n",
       "      <th>反比例モデル</th>\n",
       "    </tr>\n",
       "  </thead>\n",
       "  <tbody>\n",
       "    <tr>\n",
       "      <th>0</th>\n",
       "      <td>cg</td>\n",
       "      <td>86.37%(0.0-6.91)</td>\n",
       "      <td>13.63%(7.99-9.58)</td>\n",
       "      <td>0.0%(NoData)</td>\n",
       "    </tr>\n",
       "    <tr>\n",
       "      <th>1</th>\n",
       "      <td>ep</td>\n",
       "      <td>100.0%(0.0-0.0)</td>\n",
       "      <td>0.0%(NoData)</td>\n",
       "      <td>0.0%(NoData)</td>\n",
       "    </tr>\n",
       "    <tr>\n",
       "      <th>2</th>\n",
       "      <td>lu</td>\n",
       "      <td>69.06%(0.0-0.0)</td>\n",
       "      <td>21.42%(15.23-17.01)</td>\n",
       "      <td>9.52%(0.0-12.24)</td>\n",
       "    </tr>\n",
       "    <tr>\n",
       "      <th>3</th>\n",
       "      <td>all</td>\n",
       "      <td>78.1%(0.0-6.91)</td>\n",
       "      <td>16.43%(7.99-17.01)</td>\n",
       "      <td>5.47%(0.0-12.24)</td>\n",
       "    </tr>\n",
       "  </tbody>\n",
       "</table>\n",
       "</div>"
      ],
      "text/plain": [
       "                   線形モデル                対数モデル            反比例モデル\n",
       "0   cg  86.37%(0.0-6.91)    13.63%(7.99-9.58)      0.0%(NoData)\n",
       "1   ep   100.0%(0.0-0.0)         0.0%(NoData)      0.0%(NoData)\n",
       "2   lu   69.06%(0.0-0.0)  21.42%(15.23-17.01)  9.52%(0.0-12.24)\n",
       "3  all   78.1%(0.0-6.91)   16.43%(7.99-17.01)  5.47%(0.0-12.24)"
      ]
     },
     "execution_count": 6,
     "metadata": {},
     "output_type": "execute_result"
    }
   ],
   "source": [
    "csv_head = [\"\", \"線形モデル\", \"対数モデル\", \"反比例モデル\"]\n",
    "df_for_csv = pd.DataFrame(list_for_csv)\n",
    "df_for_csv.columns = csv_head\n",
    "df_for_csv.set_index(\"\")\n",
    "df_for_csv"
   ]
  }
 ],
 "metadata": {
  "kernelspec": {
   "name": "python3",
   "display_name": "Python 3.9.1 64-bit",
   "metadata": {
    "interpreter": {
     "hash": "7d6993cb2f9ce9a59d5d7380609d9cb5192a9dedd2735a011418ad9e827eb538"
    }
   }
  },
  "language_info": {
   "codemirror_mode": {
    "name": "ipython",
    "version": 3
   },
   "file_extension": ".py",
   "mimetype": "text/x-python",
   "name": "python",
   "nbconvert_exporter": "python",
   "pygments_lexer": "ipython3",
   "version": "3.9.1-final"
  }
 },
 "nbformat": 4,
 "nbformat_minor": 4
}