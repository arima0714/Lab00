{
 "cells": [
  {
   "cell_type": "markdown",
   "metadata": {},
   "source": [
    "# [Scikit-learn で線形回帰](https://qiita.com/0NE_shoT_/items/08376b08783cd554b02e) に記載されているコードを実際に手を動かしながら実行していく"
   ]
  },
  {
   "cell_type": "markdown",
   "metadata": {},
   "source": [
    "### 線形回帰モデル"
   ]
  },
  {
   "cell_type": "markdown",
   "metadata": {},
   "source": [
    "線形回帰分析にはLinearRegressionモデルを使用する。\n",
    "\n",
    "主に使用するメソッド\n",
    "\n",
    "*  `fit` メソッド：線形モデルの重みを学習\n",
    "* `predict` メソッド：線形モデルから目的変数を予測\n",
    "* `score` メソッド：線形モデルがどの程度目的変数を出力"
   ]
  },
  {
   "cell_type": "code",
   "execution_count": 1,
   "metadata": {},
   "outputs": [],
   "source": [
    "from sklearn.datasets import load_boston\n",
    "boston = load_boston()\n",
    "\n",
    "import pandas as pd\n",
    "boston_df = pd.DataFrame(boston.data, columns = boston.feature_names)\n",
    "boston_df['MEDV'] = boston.target"
   ]
  },
  {
   "cell_type": "markdown",
   "metadata": {},
   "source": [
    "今回使用するボストンの地域別住宅価格のデータを出力する"
   ]
  },
  {
   "cell_type": "code",
   "execution_count": 2,
   "metadata": {},
   "outputs": [
    {
     "data": {
      "text/html": [
       "<div>\n",
       "<style scoped>\n",
       "    .dataframe tbody tr th:only-of-type {\n",
       "        vertical-align: middle;\n",
       "    }\n",
       "\n",
       "    .dataframe tbody tr th {\n",
       "        vertical-align: top;\n",
       "    }\n",
       "\n",
       "    .dataframe thead th {\n",
       "        text-align: right;\n",
       "    }\n",
       "</style>\n",
       "<table border=\"1\" class=\"dataframe\">\n",
       "  <thead>\n",
       "    <tr style=\"text-align: right;\">\n",
       "      <th></th>\n",
       "      <th>CRIM</th>\n",
       "      <th>ZN</th>\n",
       "      <th>INDUS</th>\n",
       "      <th>CHAS</th>\n",
       "      <th>NOX</th>\n",
       "      <th>RM</th>\n",
       "      <th>AGE</th>\n",
       "      <th>DIS</th>\n",
       "      <th>RAD</th>\n",
       "      <th>TAX</th>\n",
       "      <th>PTRATIO</th>\n",
       "      <th>B</th>\n",
       "      <th>LSTAT</th>\n",
       "      <th>MEDV</th>\n",
       "    </tr>\n",
       "  </thead>\n",
       "  <tbody>\n",
       "    <tr>\n",
       "      <th>0</th>\n",
       "      <td>0.00632</td>\n",
       "      <td>18.0</td>\n",
       "      <td>2.31</td>\n",
       "      <td>0.0</td>\n",
       "      <td>0.538</td>\n",
       "      <td>6.575</td>\n",
       "      <td>65.2</td>\n",
       "      <td>4.0900</td>\n",
       "      <td>1.0</td>\n",
       "      <td>296.0</td>\n",
       "      <td>15.3</td>\n",
       "      <td>396.90</td>\n",
       "      <td>4.98</td>\n",
       "      <td>24.0</td>\n",
       "    </tr>\n",
       "    <tr>\n",
       "      <th>1</th>\n",
       "      <td>0.02731</td>\n",
       "      <td>0.0</td>\n",
       "      <td>7.07</td>\n",
       "      <td>0.0</td>\n",
       "      <td>0.469</td>\n",
       "      <td>6.421</td>\n",
       "      <td>78.9</td>\n",
       "      <td>4.9671</td>\n",
       "      <td>2.0</td>\n",
       "      <td>242.0</td>\n",
       "      <td>17.8</td>\n",
       "      <td>396.90</td>\n",
       "      <td>9.14</td>\n",
       "      <td>21.6</td>\n",
       "    </tr>\n",
       "    <tr>\n",
       "      <th>2</th>\n",
       "      <td>0.02729</td>\n",
       "      <td>0.0</td>\n",
       "      <td>7.07</td>\n",
       "      <td>0.0</td>\n",
       "      <td>0.469</td>\n",
       "      <td>7.185</td>\n",
       "      <td>61.1</td>\n",
       "      <td>4.9671</td>\n",
       "      <td>2.0</td>\n",
       "      <td>242.0</td>\n",
       "      <td>17.8</td>\n",
       "      <td>392.83</td>\n",
       "      <td>4.03</td>\n",
       "      <td>34.7</td>\n",
       "    </tr>\n",
       "    <tr>\n",
       "      <th>3</th>\n",
       "      <td>0.03237</td>\n",
       "      <td>0.0</td>\n",
       "      <td>2.18</td>\n",
       "      <td>0.0</td>\n",
       "      <td>0.458</td>\n",
       "      <td>6.998</td>\n",
       "      <td>45.8</td>\n",
       "      <td>6.0622</td>\n",
       "      <td>3.0</td>\n",
       "      <td>222.0</td>\n",
       "      <td>18.7</td>\n",
       "      <td>394.63</td>\n",
       "      <td>2.94</td>\n",
       "      <td>33.4</td>\n",
       "    </tr>\n",
       "    <tr>\n",
       "      <th>4</th>\n",
       "      <td>0.06905</td>\n",
       "      <td>0.0</td>\n",
       "      <td>2.18</td>\n",
       "      <td>0.0</td>\n",
       "      <td>0.458</td>\n",
       "      <td>7.147</td>\n",
       "      <td>54.2</td>\n",
       "      <td>6.0622</td>\n",
       "      <td>3.0</td>\n",
       "      <td>222.0</td>\n",
       "      <td>18.7</td>\n",
       "      <td>396.90</td>\n",
       "      <td>5.33</td>\n",
       "      <td>36.2</td>\n",
       "    </tr>\n",
       "  </tbody>\n",
       "</table>\n",
       "</div>"
      ],
      "text/plain": [
       "      CRIM    ZN  INDUS  CHAS    NOX     RM   AGE     DIS  RAD    TAX  \\\n",
       "0  0.00632  18.0   2.31   0.0  0.538  6.575  65.2  4.0900  1.0  296.0   \n",
       "1  0.02731   0.0   7.07   0.0  0.469  6.421  78.9  4.9671  2.0  242.0   \n",
       "2  0.02729   0.0   7.07   0.0  0.469  7.185  61.1  4.9671  2.0  242.0   \n",
       "3  0.03237   0.0   2.18   0.0  0.458  6.998  45.8  6.0622  3.0  222.0   \n",
       "4  0.06905   0.0   2.18   0.0  0.458  7.147  54.2  6.0622  3.0  222.0   \n",
       "\n",
       "   PTRATIO       B  LSTAT  MEDV  \n",
       "0     15.3  396.90   4.98  24.0  \n",
       "1     17.8  396.90   9.14  21.6  \n",
       "2     17.8  392.83   4.03  34.7  \n",
       "3     18.7  394.63   2.94  33.4  \n",
       "4     18.7  396.90   5.33  36.2  "
      ]
     },
     "execution_count": 2,
     "metadata": {},
     "output_type": "execute_result"
    }
   ],
   "source": [
    "boston_df.head()"
   ]
  },
  {
   "cell_type": "markdown",
   "metadata": {},
   "source": [
    "データ項目の説明\n",
    "\n",
    "* CRIM：犯罪発生率\n",
    "* ZN：25000平方フィート以上の住宅区画の割合\n",
    "* INDUS：非小売業種の土地面積の割合\n",
    "* CHAS：チャールズ川沿いかを表すダミー変数\n",
    "* NOX：窒素酸化物の濃度\n",
    "* RM：平均部屋数\n",
    "* AGE：1940年より前に建てられた建物の割合\n",
    "* DIS：5つのボストンの雇用施設への重み付き距離\n",
    "* RAD：高速道路へのアクセスのしやすさ\n",
    "* TAX：10000ドルあたりの不動産税率\n",
    "* PTRATIO：生徒と教師の割合\n",
    "* B：黒人の割合\n",
    "* LSTAT：低所得者の割合\n",
    "* MEDV：住宅価格の中央値"
   ]
  },
  {
   "cell_type": "markdown",
   "metadata": {},
   "source": [
    "RM：平均部屋数とMEDV：住宅価格の関係を見る"
   ]
  },
  {
   "cell_type": "code",
   "execution_count": 3,
   "metadata": {},
   "outputs": [
    {
     "data": {
      "text/plain": [
       "<function matplotlib.pyplot.show(close=None, block=None)>"
      ]
     },
     "execution_count": 3,
     "metadata": {},
     "output_type": "execute_result"
    },
    {
     "data": {
      "image/png": "[encoded data removed]",
      "text/plain": [
       "<Figure size 432x288 with 1 Axes>"
      ]
     },
     "metadata": {
      "needs_background": "light"
     },
     "output_type": "display_data"
    }
   ],
   "source": [
    "import matplotlib.pyplot as plt\n",
    "%matplotlib inline\n",
    "plt.scatter(boston_df[\"RM\"], boston_df[\"MEDV\"])\n",
    "\n",
    "plt.title(\"Scatter Plot of RM vs MEDV\")\n",
    "plt.xlabel(\"Average number of rooms [RM]\")\n",
    "plt.ylabel(\"Price in $1000\\'s [MEDV]\")\n",
    "plt.grid()\n",
    "\n",
    "plt.show"
   ]
  },
  {
   "cell_type": "markdown",
   "metadata": {},
   "source": [
    "Pandasのcorrメソッドで平均部屋数と住宅価格の相関係数を算出する"
   ]
  },
  {
   "cell_type": "code",
   "execution_count": 4,
   "metadata": {},
   "outputs": [
    {
     "data": {
      "text/html": [
       "<div>\n",
       "<style scoped>\n",
       "    .dataframe tbody tr th:only-of-type {\n",
       "        vertical-align: middle;\n",
       "    }\n",
       "\n",
       "    .dataframe tbody tr th {\n",
       "        vertical-align: top;\n",
       "    }\n",
       "\n",
       "    .dataframe thead th {\n",
       "        text-align: right;\n",
       "    }\n",
       "</style>\n",
       "<table border=\"1\" class=\"dataframe\">\n",
       "  <thead>\n",
       "    <tr style=\"text-align: right;\">\n",
       "      <th></th>\n",
       "      <th>RM</th>\n",
       "      <th>MEDV</th>\n",
       "    </tr>\n",
       "  </thead>\n",
       "  <tbody>\n",
       "    <tr>\n",
       "      <th>RM</th>\n",
       "      <td>1.00000</td>\n",
       "      <td>0.69536</td>\n",
       "    </tr>\n",
       "    <tr>\n",
       "      <th>MEDV</th>\n",
       "      <td>0.69536</td>\n",
       "      <td>1.00000</td>\n",
       "    </tr>\n",
       "  </tbody>\n",
       "</table>\n",
       "</div>"
      ],
      "text/plain": [
       "           RM     MEDV\n",
       "RM    1.00000  0.69536\n",
       "MEDV  0.69536  1.00000"
      ]
     },
     "execution_count": 4,
     "metadata": {},
     "output_type": "execute_result"
    }
   ],
   "source": [
    "boston_df[[\"RM\", \"MEDV\"]].corr()"
   ]
  },
  {
   "cell_type": "markdown",
   "metadata": {},
   "source": [
    "RMとMEDVの間には、相関係数が0.69536、つまり約0.7程度の正の相関があることが分かった"
   ]
  },
  {
   "cell_type": "markdown",
   "metadata": {},
   "source": [
    "### 線形回帰モデルの構築"
   ]
  },
  {
   "cell_type": "markdown",
   "metadata": {},
   "source": [
    "`fit` メソッドで重みを学習することで、線形回帰モデルを構築する。"
   ]
  },
  {
   "cell_type": "code",
   "execution_count": 5,
   "metadata": {},
   "outputs": [
    {
     "data": {
      "text/plain": [
       "LinearRegression()"
      ]
     },
     "execution_count": 5,
     "metadata": {},
     "output_type": "execute_result"
    }
   ],
   "source": [
    "from sklearn.linear_model import LinearRegression\n",
    "\n",
    "lr = LinearRegression()\n",
    "\n",
    "X = boston_df[[\"RM\"]].values\n",
    "Y = boston_df[\"MEDV\"].values\n",
    "\n",
    "lr.fit(X,Y)"
   ]
  },
  {
   "cell_type": "markdown",
   "metadata": {},
   "source": [
    "学習で得られた、線形モデルの切片 `w0` は `intercept_` 属性に、説明変数の係数 `w1` は`coef_` 属性に格納される。実際に確認する。"
   ]
  },
  {
   "cell_type": "code",
   "execution_count": 6,
   "metadata": {},
   "outputs": [
    {
     "name": "stdout",
     "output_type": "stream",
     "text": [
      "coefficient =  9.10210898118031\n",
      "intercept =  -34.67062077643857\n"
     ]
    }
   ],
   "source": [
    "print('coefficient = ', lr.coef_[0])\n",
    "print('intercept = ', lr.intercept_)"
   ]
  },
  {
   "cell_type": "markdown",
   "metadata": {},
   "source": [
    "学習で得られた切片と係数を利用して、回帰直線を引く。"
   ]
  },
  {
   "cell_type": "code",
   "execution_count": 7,
   "metadata": {},
   "outputs": [
    {
     "data": {
      "image/png": "[encoded data removed]",
      "text/plain": [
       "<Figure size 432x288 with 1 Axes>"
      ]
     },
     "metadata": {
      "needs_background": "light"
     },
     "output_type": "display_data"
    }
   ],
   "source": [
    "plt.scatter(X, Y, color = 'blue')\n",
    "plt.plot(X, lr.predict(X), color = 'red')\n",
    "\n",
    "plt.title(\"Regression Line\")\n",
    "plt.xlabel(\"Average number of rooms [RM]\")\n",
    "plt.ylabel(\"Prices in $1000\\'s [MEDV]\")\n",
    "plt.grid()\n",
    "\n",
    "plt.show()"
   ]
  },
  {
   "cell_type": "markdown",
   "metadata": {},
   "source": [
    "### 回帰モデルの性能評価"
   ]
  },
  {
   "cell_type": "markdown",
   "metadata": {},
   "source": [
    "以下のコードでは、 `model_selection` の `train_test_split` を利用して、データを学習用と検証用に7:3の割合で分割し、学習データを用いて線形モデルを構築する。"
   ]
  },
  {
   "cell_type": "code",
   "execution_count": 8,
   "metadata": {},
   "outputs": [
    {
     "data": {
      "text/plain": [
       "LinearRegression()"
      ]
     },
     "execution_count": 8,
     "metadata": {},
     "output_type": "execute_result"
    }
   ],
   "source": [
    "from sklearn.model_selection import train_test_split\n",
    "X_train, X_test, Y_train, Y_test = train_test_split(X, Y, train_size = 0.7, test_size = 0.3, random_state = 0)\n",
    "\n",
    "lr = LinearRegression()\n",
    "lr.fit(X_train, Y_train)"
   ]
  },
  {
   "cell_type": "markdown",
   "metadata": {},
   "source": [
    "線形回帰モデルの性能評価には以下の方法・指標を利用する\n",
    "\n",
    "* 残差プロット：残差(=目的変数の真値と予測値の差分)を可視化\n",
    "* 平均二乗誤差：残差平方和をデータ数で正規化した値\n",
    "* 決定係数：相関係数の二乗\n",
    "\n",
    "予測精度の良い線形モデルの残差プロットは、0を中心にばらついたものになる。残差プロットに何かパターンが見られる場合は線形モデルで説明しきれない情報があることが示唆される。\n",
    "\n",
    "以下のコードは残差プロットを描画する"
   ]
  },
  {
   "cell_type": "code",
   "execution_count": 9,
   "metadata": {},
   "outputs": [
    {
     "data": {
      "image/png": "[encoded data removed]",
      "text/plain": [
       "<Figure size 432x288 with 1 Axes>"
      ]
     },
     "metadata": {
      "needs_background": "light"
     },
     "output_type": "display_data"
    }
   ],
   "source": [
    "Y_pred = lr.predict(X_test)\n",
    "\n",
    "plt.scatter(Y_pred, Y_pred - Y_test, color = 'blue')\n",
    "plt.hlines(y = 0, xmin = -10, xmax = 50, color = 'black')\n",
    "plt.title('Residual Plot')\n",
    "plt.xlabel('Predicted Values')\n",
    "plt.ylabel('Residuals')\n",
    "plt.grid()\n",
    "\n",
    "plt.show()"
   ]
  },
  {
   "cell_type": "markdown",
   "metadata": {},
   "source": [
    "平均二乗誤差は、残差の平方和をデータ数で正規化したものであり、モデルの性能を数値化するのに役立つ。誤差が小さいほどモデルの性能はよいといえる。平均二乗誤差は `metrics` の `mean_squared_error` を利用することで算出できる。"
   ]
  },
  {
   "cell_type": "code",
   "execution_count": 10,
   "metadata": {},
   "outputs": [
    {
     "name": "stdout",
     "output_type": "stream",
     "text": [
      "MSE train data:  42.15765086312224\n",
      "MSE test data:  47.03304747975518\n"
     ]
    }
   ],
   "source": [
    "from sklearn.metrics import mean_squared_error\n",
    "\n",
    "Y_train_pred = lr.predict(X_train)\n",
    "print(\"MSE train data: \", mean_squared_error(Y_train, Y_train_pred))\n",
    "print(\"MSE test data: \", mean_squared_error(Y_test, Y_pred))"
   ]
  },
  {
   "cell_type": "markdown",
   "metadata": {},
   "source": [
    "学習データ、検証データのそれぞれを用いた時の平均二乗誤差を比較すると、検証データを用いた時の誤差のほうが大きい。このことから、構築した線形モデルは学習データにフィットしすぎている(= 過学習している)ことが示唆される。"
   ]
  },
  {
   "cell_type": "markdown",
   "metadata": {},
   "source": [
    "決定係数も、線形モデルの予測誤差を反映した指標で、値が大きいほど線形モデルがデータにフィットしているといえる。決定係数は `metrics` の `r2_score` を利用することで算出できる。また、 `LinearRegression` モデルの `score` メソッドでも算出できる。"
   ]
  },
  {
   "cell_type": "code",
   "execution_count": 11,
   "metadata": {},
   "outputs": [
    {
     "name": "stdout",
     "output_type": "stream",
     "text": [
      "r^2 train data:  0.5026497630040827\n",
      "r^2 test data:  0.43514364832115193\n"
     ]
    }
   ],
   "source": [
    "from sklearn.metrics import r2_score\n",
    "\n",
    "print('r^2 train data: ', r2_score(Y_train, Y_train_pred))\n",
    "print('r^2 test data: ', r2_score(Y_test, Y_pred))"
   ]
  },
  {
   "cell_type": "markdown",
   "metadata": {},
   "source": [
    "学習データ、検証データのそれぞれを用いた時の決定係数を比較すると、検証データを用いた時のほうが小さい。このことから、構築した線形モデルには過学習が起こっている可能性がある。"
   ]
  },
  {
   "cell_type": "markdown",
   "metadata": {},
   "source": [
    "# [機械学習の線形回帰問題をPythonで。scikit-learnのLinearRegressionクラスのサンプルなど。](https://arakan-pgm-ai.hatenablog.com/entry/2019/07/12/000000) に記載されているコードを実際に手を動かしながら実行していく"
   ]
  },
  {
   "cell_type": "markdown",
   "metadata": {},
   "source": [
    "ざっくりと回帰問題とは「入力データと出力データの組から対応する規則を学んで、道の入力データに対して適切な出力を予測できるようにする」"
   ]
  },
  {
   "cell_type": "markdown",
   "metadata": {},
   "source": [
    "決定係数とは「予測精度の客観的な指標」のこと。\n",
    "\n",
    "決定係数の求め方は下記の二つがある。\n",
    "\n",
    "* `linear_model.LinearRegression` クラスの `score()` を使う\n",
    "* `sklearn.metrics.r2_score()` を使う\n",
    "\n",
    "一つ目の方法は二つ目を呼び出しているため、結果は同じになる。"
   ]
  },
  {
   "cell_type": "markdown",
   "metadata": {},
   "source": [
    "学習と評価でエラーが出る場合がある。 `model.fit` などに渡す前に `reshape` をする必要がある。"
   ]
  },
  {
   "cell_type": "markdown",
   "metadata": {},
   "source": [
    "### サンプル1(単回帰一次式)"
   ]
  },
  {
   "cell_type": "code",
   "execution_count": 12,
   "metadata": {},
   "outputs": [],
   "source": [
    "import matplotlib.pyplot as plt\n",
    "import numpy as np\n",
    "from sklearn import linear_model\n",
    "from sklearn.metrics import r2_score"
   ]
  },
  {
   "cell_type": "code",
   "execution_count": 13,
   "metadata": {},
   "outputs": [],
   "source": [
    "# -2 ~ 2 の範囲で乱数を生成する\n",
    "x = np.random.rand(200, 1) * 4 - 2\n",
    "# ノイズは -5 ~ 5 の範囲で乱数を生成する\n",
    "noise = np.random.rand(200, 1) * 10 - 5\n",
    "# 正解の y を計算する y = 3x - 1\n",
    "true_y = x * 3 - 1\n",
    "# ノイズを加える\n",
    "y = true_y + noise"
   ]
  },
  {
   "cell_type": "code",
   "execution_count": 14,
   "metadata": {},
   "outputs": [],
   "source": [
    "# クラスオブジェクトの生成\n",
    "model = linear_model.LinearRegression()\n",
    "# 学習する(x, y)\n",
    "model.fit(x, y)\n",
    "# 予測する\n",
    "predict_y = model.predict(x)"
   ]
  },
  {
   "cell_type": "code",
   "execution_count": 15,
   "metadata": {},
   "outputs": [
    {
     "data": {
      "image/png": "[encoded data removed]",
      "text/plain": [
       "<Figure size 432x288 with 1 Axes>"
      ]
     },
     "metadata": {
      "needs_background": "light"
     },
     "output_type": "display_data"
    }
   ],
   "source": [
    "plt.scatter(x, y, marker=\"+\", color=\"b\")\n",
    "plt.scatter(x, predict_y, color=\"r\")\n",
    "plt.show()"
   ]
  },
  {
   "cell_type": "code",
   "execution_count": 16,
   "metadata": {},
   "outputs": [
    {
     "name": "stdout",
     "output_type": "stream",
     "text": [
      "0.9892723735204335\n",
      "0.9892723735204335\n"
     ]
    }
   ],
   "source": [
    "# 決定係数を計算する方法１\n",
    "r2 = model.score(x, true_y)\n",
    "print(r2)\n",
    "# 決定係数を計算する方法２\n",
    "r2_score = r2_score(true_y, predict_y)\n",
    "print(r2_score)"
   ]
  },
  {
   "cell_type": "markdown",
   "metadata": {},
   "source": [
    "### サンプル2(単回帰二次式)"
   ]
  },
  {
   "cell_type": "code",
   "execution_count": 17,
   "metadata": {},
   "outputs": [],
   "source": [
    "import numpy as np\n",
    "from sklearn import linear_model\n",
    "from sklearn.metrics import r2_score"
   ]
  },
  {
   "cell_type": "code",
   "execution_count": 18,
   "metadata": {},
   "outputs": [],
   "source": [
    "# -2 ~ 2 の範囲で乱数を生成する\n",
    "_x = np.random.rand(300) * 4 - 2\n",
    "# ノイズは -5 ~ 5 の範囲で乱数を生成する\n",
    "noise = np.random.rand(300) * 10 - 5\n",
    "# 正解を求める y = 3 x ** 2 + 1\n",
    "_true_y = 3 * _x ** 2 + 1\n",
    "# ノイズを加える\n",
    "_y = _true_y + noise\n",
    "# エラー回避のため reshape する\n",
    "x = np.reshape(_x, (-1, 1))\n",
    "y = np.reshape(_y, (-1, 1))\n",
    "true_y = np.reshape(_true_y, (-1, 1))"
   ]
  },
  {
   "cell_type": "code",
   "execution_count": 19,
   "metadata": {},
   "outputs": [],
   "source": [
    "# クラスインスタンスを生成\n",
    "model = linear_model.LinearRegression()\n",
    "# 学習する (xは二乗で与える)\n",
    "model.fit(x**2, y)\n",
    "# 予測する (xは二乗で与える)\n",
    "predict_y = model.predict(x**2)"
   ]
  },
  {
   "cell_type": "code",
   "execution_count": 20,
   "metadata": {},
   "outputs": [
    {
     "data": {
      "image/png": "[encoded data removed]",
      "text/plain": [
       "<Figure size 432x288 with 1 Axes>"
      ]
     },
     "metadata": {
      "needs_background": "light"
     },
     "output_type": "display_data"
    }
   ],
   "source": [
    "plt.scatter(x, y, marker=\"+\", color=\"b\")\n",
    "plt.scatter(x, predict_y, color=\"r\")\n",
    "plt.show()"
   ]
  },
  {
   "cell_type": "code",
   "execution_count": 21,
   "metadata": {},
   "outputs": [
    {
     "name": "stdout",
     "output_type": "stream",
     "text": [
      "0.9981968499073858\n",
      "0.9981968499073858\n"
     ]
    }
   ],
   "source": [
    "# 決定係数を求める方法1\n",
    "r2 = model.score(x**2, true_y)\n",
    "print(r2)\n",
    "# 決定係数を求める方法2\n",
    "r2_score = r2_score(true_y, predict_y)\n",
    "print(r2_score)"
   ]
  },
  {
   "cell_type": "code",
   "execution_count": 22,
   "metadata": {},
   "outputs": [
    {
     "name": "stdout",
     "output_type": "stream",
     "text": [
      "[[-0.52996521]\n",
      " [-0.92495101]\n",
      " [-0.18170482]\n",
      " [ 0.72127874]\n",
      " [ 1.03604822]\n",
      " [ 1.51486357]\n",
      " [ 0.91601016]\n",
      " [-1.19354496]\n",
      " [ 1.69295929]\n",
      " [ 0.86320353]\n",
      " [-1.90401443]\n",
      " [-0.89338426]\n",
      " [-1.8687006 ]\n",
      " [ 1.91496361]\n",
      " [ 0.16208486]\n",
      " [-0.86005754]\n",
      " [-0.81005054]\n",
      " [ 1.66684835]\n",
      " [-0.93043022]\n",
      " [-0.37948233]\n",
      " [-1.36640318]\n",
      " [-1.36286156]\n",
      " [ 0.73489855]\n",
      " [-1.3324136 ]\n",
      " [ 0.92724145]\n",
      " [ 0.93579435]\n",
      " [-1.06152696]\n",
      " [-0.82737492]\n",
      " [-1.04015427]\n",
      " [ 0.94691372]\n",
      " [-1.91532592]\n",
      " [-0.54634791]\n",
      " [-0.40004745]\n",
      " [-0.81575809]\n",
      " [-0.21849806]\n",
      " [ 0.5688665 ]\n",
      " [-1.86178503]\n",
      " [-0.3710259 ]\n",
      " [ 0.92449147]\n",
      " [-1.0749651 ]\n",
      " [ 1.60758833]\n",
      " [ 1.19231414]\n",
      " [-0.83244508]\n",
      " [ 1.45185859]\n",
      " [-1.5407959 ]\n",
      " [ 0.3321191 ]\n",
      " [-0.27203765]\n",
      " [ 1.83219639]\n",
      " [ 1.96821291]\n",
      " [-0.70833959]\n",
      " [-1.10439669]\n",
      " [ 1.61868598]\n",
      " [-1.20496223]\n",
      " [ 1.1023526 ]\n",
      " [ 1.92453742]\n",
      " [-1.44869573]\n",
      " [-0.07230623]\n",
      " [ 1.36246168]\n",
      " [-0.4515951 ]\n",
      " [-1.35101347]\n",
      " [ 1.05974252]\n",
      " [-1.04594909]\n",
      " [ 1.40895008]\n",
      " [-1.87042219]\n",
      " [ 1.15236228]\n",
      " [-0.85239212]\n",
      " [-0.85721955]\n",
      " [-0.61953344]\n",
      " [-0.84646253]\n",
      " [-0.31565954]\n",
      " [-0.80965538]\n",
      " [-0.34809066]\n",
      " [ 1.39263534]\n",
      " [-1.12725464]\n",
      " [ 1.26416646]\n",
      " [-0.15726543]\n",
      " [ 0.13864961]\n",
      " [-1.18274489]\n",
      " [ 1.87089396]\n",
      " [-1.27903328]\n",
      " [-1.79111499]\n",
      " [ 0.6494473 ]\n",
      " [-1.01892275]\n",
      " [ 1.63966741]\n",
      " [-0.09953289]\n",
      " [ 1.25970111]\n",
      " [ 1.73287721]\n",
      " [-1.72741582]\n",
      " [ 1.13079214]\n",
      " [ 0.73430364]\n",
      " [-1.3677467 ]\n",
      " [ 0.52292685]\n",
      " [-1.23865276]\n",
      " [-1.94681753]\n",
      " [ 1.48445606]\n",
      " [-1.13898202]\n",
      " [ 1.08750443]\n",
      " [ 0.35324481]\n",
      " [ 0.2887557 ]\n",
      " [-0.92534182]\n",
      " [ 1.23130117]\n",
      " [-1.78585595]\n",
      " [ 0.7369727 ]\n",
      " [-1.78712286]\n",
      " [ 1.47421283]\n",
      " [ 0.84572362]\n",
      " [ 1.74906041]\n",
      " [ 1.72569374]\n",
      " [-0.13140769]\n",
      " [ 0.82811939]\n",
      " [ 1.66741153]\n",
      " [-1.86209321]\n",
      " [-1.9108332 ]\n",
      " [ 0.71098523]\n",
      " [-0.29964793]\n",
      " [ 1.54049551]\n",
      " [-0.38176442]\n",
      " [ 1.63540311]\n",
      " [-1.31576067]\n",
      " [-0.31121949]\n",
      " [ 0.39856824]\n",
      " [-1.10309762]\n",
      " [ 1.67104564]\n",
      " [-0.13771644]\n",
      " [-0.84548509]\n",
      " [ 1.65238541]\n",
      " [-0.52087265]\n",
      " [-0.34193493]\n",
      " [ 1.16397697]\n",
      " [-0.13076387]\n",
      " [-0.71586972]\n",
      " [ 1.41433308]\n",
      " [ 1.75731662]\n",
      " [ 1.93999444]\n",
      " [ 1.87177865]\n",
      " [-0.18146219]\n",
      " [ 1.17080423]\n",
      " [ 0.72618719]\n",
      " [-1.86542509]\n",
      " [-0.51027355]\n",
      " [ 1.28597798]\n",
      " [-0.42690042]\n",
      " [ 1.28902398]\n",
      " [-0.31461586]\n",
      " [ 1.43203005]\n",
      " [ 1.49798195]\n",
      " [ 1.67561098]\n",
      " [ 1.21094553]\n",
      " [ 1.36170907]\n",
      " [-0.41883715]\n",
      " [ 1.6948521 ]\n",
      " [ 1.44115022]\n",
      " [ 1.9689229 ]\n",
      " [ 0.72393919]\n",
      " [-1.10485119]\n",
      " [-1.59620912]\n",
      " [-0.09634689]\n",
      " [ 1.82557477]\n",
      " [-1.72943944]\n",
      " [ 0.72775202]\n",
      " [ 1.96619884]\n",
      " [-1.78211115]\n",
      " [-0.4614978 ]\n",
      " [ 0.33656153]\n",
      " [ 0.39922959]\n",
      " [-1.80871414]\n",
      " [-0.96748061]\n",
      " [ 0.22866778]\n",
      " [ 0.78804809]\n",
      " [ 1.2453767 ]\n",
      " [ 1.0506788 ]\n",
      " [ 0.53702101]\n",
      " [-1.81888062]\n",
      " [ 0.31364545]\n",
      " [ 0.31063914]\n",
      " [ 1.83538857]\n",
      " [-1.46408806]\n",
      " [ 0.96578523]\n",
      " [-0.21946802]\n",
      " [-0.54070077]\n",
      " [ 0.6066233 ]\n",
      " [ 1.61200804]\n",
      " [-1.16421575]\n",
      " [ 1.71973529]\n",
      " [-0.27541929]\n",
      " [-0.7293146 ]\n",
      " [ 1.29297298]\n",
      " [ 1.34011205]\n",
      " [-0.04119205]\n",
      " [-1.15812618]\n",
      " [ 0.89029864]\n",
      " [-0.73832855]\n",
      " [-1.88865774]\n",
      " [-0.32346517]\n",
      " [-1.70689463]\n",
      " [-1.68445722]\n",
      " [ 0.32867529]\n",
      " [ 0.95344309]\n",
      " [ 0.19339568]\n",
      " [-1.74534448]\n",
      " [ 0.66512962]\n",
      " [-0.58139494]\n",
      " [ 0.93049871]\n",
      " [ 1.63823508]\n",
      " [-1.97043392]\n",
      " [ 1.27277858]\n",
      " [-0.12977602]\n",
      " [-1.77950257]\n",
      " [-0.17769662]\n",
      " [-1.03632225]\n",
      " [-1.92999732]\n",
      " [-1.85047869]\n",
      " [-1.87914812]\n",
      " [-0.6382685 ]\n",
      " [-1.24554442]\n",
      " [-0.89288826]\n",
      " [-1.08821859]\n",
      " [-0.21689152]\n",
      " [ 1.13662117]\n",
      " [ 1.41917058]\n",
      " [ 0.58655308]\n",
      " [ 0.40958738]\n",
      " [ 1.11001348]\n",
      " [-0.1762209 ]\n",
      " [-1.23825992]\n",
      " [ 0.08399469]\n",
      " [ 1.66225775]\n",
      " [-0.43224207]\n",
      " [ 1.36630375]\n",
      " [ 1.43264415]\n",
      " [-1.80093727]\n",
      " [-0.68390713]\n",
      " [-1.83806673]\n",
      " [ 0.68414399]\n",
      " [ 1.32716547]\n",
      " [ 0.73569969]\n",
      " [-0.4825036 ]\n",
      " [-0.2762653 ]\n",
      " [-0.08672935]\n",
      " [ 0.97941332]\n",
      " [ 0.52173293]\n",
      " [ 1.11053217]\n",
      " [-0.65748119]\n",
      " [-0.54386172]\n",
      " [-0.33804947]\n",
      " [ 1.64934081]\n",
      " [ 1.72965354]\n",
      " [-0.20008862]\n",
      " [-1.18113836]\n",
      " [ 0.52734392]\n",
      " [-1.9791719 ]\n",
      " [-0.68568971]\n",
      " [-1.95978226]\n",
      " [ 0.38121486]\n",
      " [-0.47226362]\n",
      " [-1.40833424]\n",
      " [ 0.20684416]\n",
      " [-1.9656896 ]\n",
      " [ 1.27725783]\n",
      " [-1.11883889]\n",
      " [ 0.95261792]\n",
      " [-1.56179054]\n",
      " [-0.57448931]\n",
      " [-1.04650249]\n",
      " [ 0.77396884]\n",
      " [ 0.81251105]\n",
      " [ 0.35191648]\n",
      " [ 1.57410514]\n",
      " [-0.81976824]\n",
      " [ 1.19069462]\n",
      " [ 1.0252563 ]\n",
      " [ 0.34138658]\n",
      " [ 0.7160558 ]\n",
      " [ 1.50724164]\n",
      " [ 1.25936883]\n",
      " [ 0.95041107]\n",
      " [ 1.22266484]\n",
      " [ 0.3412212 ]\n",
      " [ 1.52939498]\n",
      " [-1.44014877]\n",
      " [-0.23004507]\n",
      " [ 1.70731922]\n",
      " [ 1.40747498]\n",
      " [ 1.02798899]\n",
      " [ 1.27075172]\n",
      " [-1.91995185]\n",
      " [ 0.93337511]\n",
      " [-1.94473734]\n",
      " [-0.94516467]\n",
      " [-1.05841585]\n",
      " [ 0.60078974]\n",
      " [ 1.59927516]\n",
      " [ 1.92680836]\n",
      " [-1.73971265]\n",
      " [-0.01204403]\n",
      " [-0.93780601]\n",
      " [ 1.09261379]\n",
      " [ 0.11407477]\n",
      " [ 1.92679989]\n",
      " [ 1.50462319]]\n"
     ]
    }
   ],
   "source": [
    "print(x)"
   ]
  },
  {
   "cell_type": "code",
   "execution_count": 23,
   "metadata": {},
   "outputs": [
    {
     "name": "stdout",
     "output_type": "stream",
     "text": [
      "[[ 1.15413831e+00]\n",
      " [ 4.77538971e+00]\n",
      " [-2.97320435e+00]\n",
      " [ 3.67738496e+00]\n",
      " [ 3.66686955e+00]\n",
      " [ 1.00313900e+01]\n",
      " [-5.50202503e-01]\n",
      " [ 7.27100878e+00]\n",
      " [ 5.51134588e+00]\n",
      " [-4.59319260e-01]\n",
      " [ 1.34109638e+01]\n",
      " [ 4.42532064e-01]\n",
      " [ 7.13398105e+00]\n",
      " [ 1.48800618e+01]\n",
      " [-1.79218187e+00]\n",
      " [ 2.60514637e+00]\n",
      " [-2.90924955e-01]\n",
      " [ 1.21292594e+01]\n",
      " [ 8.34613974e+00]\n",
      " [ 3.17012120e+00]\n",
      " [ 2.17113916e+00]\n",
      " [ 1.89749917e+00]\n",
      " [ 6.01366065e-01]\n",
      " [ 9.38368355e+00]\n",
      " [ 1.02789843e+00]\n",
      " [ 1.46725572e+00]\n",
      " [ 4.59633187e+00]\n",
      " [ 2.37067749e+00]\n",
      " [ 4.54299613e+00]\n",
      " [ 6.37634689e+00]\n",
      " [ 8.22821078e+00]\n",
      " [-1.12117677e+00]\n",
      " [-2.73886105e+00]\n",
      " [ 7.33967758e+00]\n",
      " [-2.33649606e+00]\n",
      " [ 2.52096120e-01]\n",
      " [ 7.04506625e+00]\n",
      " [ 5.04394926e+00]\n",
      " [ 3.58346625e+00]\n",
      " [ 2.52801044e+00]\n",
      " [ 1.33000309e+01]\n",
      " [ 3.38924027e+00]\n",
      " [ 4.91846773e-02]\n",
      " [ 6.77423387e+00]\n",
      " [ 4.75733727e+00]\n",
      " [ 9.10570873e-01]\n",
      " [-3.71071363e+00]\n",
      " [ 1.58881566e+01]\n",
      " [ 1.30996649e+01]\n",
      " [-4.26810312e-01]\n",
      " [ 4.51657598e+00]\n",
      " [ 5.47927462e+00]\n",
      " [ 6.74118168e+00]\n",
      " [ 9.57430082e+00]\n",
      " [ 1.43818898e+01]\n",
      " [ 7.58346857e+00]\n",
      " [-1.20161983e+00]\n",
      " [ 1.02222187e+01]\n",
      " [ 3.30320035e+00]\n",
      " [ 6.89587921e+00]\n",
      " [ 2.32601145e+00]\n",
      " [ 5.85390876e+00]\n",
      " [ 9.96189291e+00]\n",
      " [ 1.34025915e+01]\n",
      " [ 7.58260271e+00]\n",
      " [ 4.56800309e+00]\n",
      " [ 7.56435106e+00]\n",
      " [ 4.90372171e-01]\n",
      " [ 5.08249429e+00]\n",
      " [ 2.63235658e+00]\n",
      " [ 4.49178257e+00]\n",
      " [ 1.94686545e+00]\n",
      " [ 5.92595481e+00]\n",
      " [ 8.53659922e-01]\n",
      " [ 1.02474730e+01]\n",
      " [ 2.79273529e+00]\n",
      " [ 3.76606358e+00]\n",
      " [ 7.40643893e+00]\n",
      " [ 1.38138230e+01]\n",
      " [ 7.71062456e+00]\n",
      " [ 9.37368945e+00]\n",
      " [ 1.70612943e+00]\n",
      " [ 2.12528526e+00]\n",
      " [ 1.35440539e+01]\n",
      " [-9.74229031e-01]\n",
      " [ 1.30015416e+00]\n",
      " [ 9.26630703e+00]\n",
      " [ 9.80545831e+00]\n",
      " [ 7.11769293e+00]\n",
      " [-5.52435193e-01]\n",
      " [ 3.52797819e+00]\n",
      " [ 1.07279827e-01]\n",
      " [ 3.17536427e+00]\n",
      " [ 1.32675045e+01]\n",
      " [ 8.86089164e+00]\n",
      " [ 5.50485125e+00]\n",
      " [ 4.23423939e-01]\n",
      " [ 2.90923401e+00]\n",
      " [-2.70815425e+00]\n",
      " [-6.87359986e-03]\n",
      " [ 3.81796180e+00]\n",
      " [ 1.54493491e+01]\n",
      " [ 2.98866648e+00]\n",
      " [ 1.52167899e+01]\n",
      " [ 4.60242287e+00]\n",
      " [ 7.07052144e+00]\n",
      " [ 5.26299242e+00]\n",
      " [ 5.71829266e+00]\n",
      " [-1.18922770e+00]\n",
      " [ 2.98503470e+00]\n",
      " [ 8.92068307e+00]\n",
      " [ 1.55710662e+01]\n",
      " [ 1.18499597e+01]\n",
      " [ 1.37765989e+00]\n",
      " [-1.13493020e+00]\n",
      " [ 8.21377711e+00]\n",
      " [ 6.32139967e+00]\n",
      " [ 8.95560623e+00]\n",
      " [ 8.30440230e+00]\n",
      " [ 4.17905503e+00]\n",
      " [ 3.59022942e-01]\n",
      " [ 5.01765895e+00]\n",
      " [ 7.63316601e+00]\n",
      " [-3.50826595e+00]\n",
      " [-1.76031296e+00]\n",
      " [ 5.86388924e+00]\n",
      " [-2.09832545e+00]\n",
      " [ 2.83233544e-01]\n",
      " [ 4.75795617e+00]\n",
      " [ 4.55539801e+00]\n",
      " [ 5.40659615e+00]\n",
      " [ 7.72898578e+00]\n",
      " [ 8.99011029e+00]\n",
      " [ 7.34818959e+00]\n",
      " [ 7.42741953e+00]\n",
      " [ 1.86922484e+00]\n",
      " [ 2.03166298e-01]\n",
      " [ 6.85759033e+00]\n",
      " [ 1.22264166e+01]\n",
      " [-6.24996933e-01]\n",
      " [ 7.51004017e+00]\n",
      " [-2.75696222e-01]\n",
      " [ 1.00681791e+01]\n",
      " [-2.59961280e+00]\n",
      " [ 1.12077225e+01]\n",
      " [ 5.66733486e+00]\n",
      " [ 7.81257106e+00]\n",
      " [ 4.33257464e+00]\n",
      " [ 3.64790663e+00]\n",
      " [ 2.92304233e+00]\n",
      " [ 6.98334981e+00]\n",
      " [ 7.01906129e+00]\n",
      " [ 1.08106137e+01]\n",
      " [ 6.31517413e+00]\n",
      " [ 6.96551925e-01]\n",
      " [ 4.53554160e+00]\n",
      " [ 3.98857909e+00]\n",
      " [ 6.67941338e+00]\n",
      " [ 7.67750914e+00]\n",
      " [ 6.17576130e+00]\n",
      " [ 1.08652178e+01]\n",
      " [ 9.87701632e+00]\n",
      " [ 2.17076612e+00]\n",
      " [ 3.39532372e+00]\n",
      " [ 2.91479332e+00]\n",
      " [ 8.58247229e+00]\n",
      " [ 4.19455477e+00]\n",
      " [ 2.68127602e+00]\n",
      " [ 4.53185107e+00]\n",
      " [ 1.60743734e+00]\n",
      " [ 9.01523492e+00]\n",
      " [ 1.53791058e+00]\n",
      " [ 7.59403875e+00]\n",
      " [ 1.20426221e+00]\n",
      " [-2.32057081e+00]\n",
      " [ 1.55253535e+01]\n",
      " [ 4.25450531e+00]\n",
      " [ 3.26046109e+00]\n",
      " [ 5.41349578e+00]\n",
      " [-1.34274400e+00]\n",
      " [ 6.11592573e+00]\n",
      " [ 7.66016229e+00]\n",
      " [ 6.62871471e+00]\n",
      " [ 7.03786103e+00]\n",
      " [-2.43419306e+00]\n",
      " [-1.73764684e+00]\n",
      " [ 1.32619577e+00]\n",
      " [ 2.80157631e+00]\n",
      " [ 3.76107862e+00]\n",
      " [ 2.16089638e+00]\n",
      " [ 5.34702324e+00]\n",
      " [ 4.07902149e+00]\n",
      " [ 9.61944851e+00]\n",
      " [ 4.46249393e+00]\n",
      " [ 8.45105718e+00]\n",
      " [ 5.76292008e+00]\n",
      " [-7.11634280e-01]\n",
      " [ 5.23493224e+00]\n",
      " [ 3.24900260e+00]\n",
      " [ 6.48895791e+00]\n",
      " [ 3.41169745e+00]\n",
      " [-1.00152349e+00]\n",
      " [ 6.70769918e+00]\n",
      " [ 9.25652477e+00]\n",
      " [ 1.67492088e+01]\n",
      " [ 1.06905115e+01]\n",
      " [ 5.59517728e+00]\n",
      " [ 1.52809180e+01]\n",
      " [ 5.72607016e+00]\n",
      " [ 8.09844857e+00]\n",
      " [ 1.53155883e+01]\n",
      " [ 8.17052809e+00]\n",
      " [ 1.04064693e+01]\n",
      " [ 7.03437497e+00]\n",
      " [ 3.20487421e+00]\n",
      " [ 3.67840142e+00]\n",
      " [ 6.70365370e+00]\n",
      " [-3.40286532e+00]\n",
      " [ 5.73005148e+00]\n",
      " [ 6.47311645e+00]\n",
      " [ 6.01525573e-01]\n",
      " [ 5.24127782e+00]\n",
      " [ 1.07437447e+00]\n",
      " [ 6.09221158e+00]\n",
      " [ 8.58123940e+00]\n",
      " [ 2.58770349e+00]\n",
      " [ 5.47517223e+00]\n",
      " [ 5.98117107e-01]\n",
      " [ 8.39189628e+00]\n",
      " [ 3.17227258e+00]\n",
      " [ 1.23366278e+01]\n",
      " [ 3.75106743e-01]\n",
      " [ 1.55656663e+01]\n",
      " [ 1.05079482e+00]\n",
      " [ 8.50789178e+00]\n",
      " [-1.95124284e+00]\n",
      " [ 6.08607287e+00]\n",
      " [ 1.93820692e+00]\n",
      " [-7.01743532e-01]\n",
      " [ 4.70081514e+00]\n",
      " [ 2.84689381e+00]\n",
      " [ 5.42013082e+00]\n",
      " [ 1.19246980e+00]\n",
      " [ 5.96673700e+00]\n",
      " [ 2.01570850e+00]\n",
      " [ 9.73510358e+00]\n",
      " [ 5.48071549e+00]\n",
      " [-3.50095656e+00]\n",
      " [ 3.90524866e+00]\n",
      " [ 7.39128775e-01]\n",
      " [ 1.06353044e+01]\n",
      " [ 8.50511428e-01]\n",
      " [ 1.24662348e+01]\n",
      " [ 4.80081644e+00]\n",
      " [ 4.89265791e+00]\n",
      " [ 7.83599663e+00]\n",
      " [ 5.94702551e+00]\n",
      " [ 9.32958893e+00]\n",
      " [ 4.78987523e+00]\n",
      " [ 5.63012356e+00]\n",
      " [ 1.90462890e+00]\n",
      " [ 9.31520119e+00]\n",
      " [ 5.16299041e+00]\n",
      " [ 3.07649186e+00]\n",
      " [ 5.55342556e+00]\n",
      " [ 3.31655218e+00]\n",
      " [-5.89268628e-01]\n",
      " [ 1.30404835e+01]\n",
      " [-2.60189805e-01]\n",
      " [ 3.05428567e+00]\n",
      " [ 9.02519396e+00]\n",
      " [ 5.79800986e+00]\n",
      " [ 1.12758630e+00]\n",
      " [ 9.80837534e+00]\n",
      " [ 3.24234429e+00]\n",
      " [ 6.86656702e+00]\n",
      " [ 2.58299646e+00]\n",
      " [ 3.78988313e+00]\n",
      " [ 1.21392607e+01]\n",
      " [ 1.15357244e+01]\n",
      " [ 7.99635143e-01]\n",
      " [ 1.12625402e+01]\n",
      " [ 7.25220593e+00]\n",
      " [ 1.55022223e+00]\n",
      " [ 1.00922640e+01]\n",
      " [ 1.38850322e+01]\n",
      " [ 1.41444400e+00]\n",
      " [ 1.15416736e+01]\n",
      " [ 4.37662377e+00]\n",
      " [ 7.10022166e+00]\n",
      " [-2.20134628e+00]\n",
      " [ 1.27395355e+01]\n",
      " [ 1.13916004e+01]\n",
      " [ 8.39328069e+00]\n",
      " [ 5.39747287e+00]\n",
      " [ 6.39792124e+00]\n",
      " [ 9.77639128e-01]\n",
      " [-2.82836011e+00]\n",
      " [ 1.63639153e+01]\n",
      " [ 1.00163828e+01]]\n"
     ]
    }
   ],
   "source": [
    "print(y)"
   ]
  },
  {
   "cell_type": "markdown",
   "metadata": {},
   "source": [
    "# [Pythonでデータ分析：非線形効果を導入](http://tekenuko.hatenablog.com/entry/2016/09/19/193520) に記載されているコードを実際に手を動かしながら実行していく"
   ]
  },
  {
   "cell_type": "code",
   "execution_count": 24,
   "metadata": {},
   "outputs": [],
   "source": [
    "# sklearnに入っているボストンのデータセットを利用\n",
    "\n",
    "# 必要なライブラリのインポート\n",
    "import numpy as np\n",
    "import pandas as pd\n",
    "from pandas import DataFrame\n",
    "from sklearn.datasets import load_boston\n",
    "\n",
    "# データのロード・マージ\n",
    "boston = load_boston()\n",
    "df = DataFrame(boston.data, columns = boston.feature_names)\n",
    "df['MEDV'] = np.array(boston.target)"
   ]
  },
  {
   "cell_type": "code",
   "execution_count": 25,
   "metadata": {},
   "outputs": [],
   "source": [
    "## 非線形効果：多項式\n",
    "\n",
    "# 説明変数\n",
    "X = df.loc[:, ['LSTAT']].values\n",
    "# 目的変数\n",
    "y = df.loc[:, 'MEDV'].values\n",
    "# モデルのインスタンス生成\n",
    "from sklearn.linear_model import LinearRegression\n",
    "mod = LinearRegression()"
   ]
  },
  {
   "cell_type": "markdown",
   "metadata": {},
   "source": [
    "多項式近似にすることで実際に変更するのは、変数加工の部分。したがって、自分で二次・三次の変数を作成し、それを代入することが実際にすることである。\n",
    "\n",
    "scikit-learnには非線形の変数を加工する機能があるので、それを利用する。"
   ]
  },
  {
   "cell_type": "code",
   "execution_count": 26,
   "metadata": {},
   "outputs": [],
   "source": [
    "# 多項式の変数加工は、下記のメソッドを呼び出して行う\n",
    "from sklearn.preprocessing import PolynomialFeatures\n",
    "\n",
    "# 二次変数を作成するインスタンス\n",
    "quadratic = PolynomialFeatures(degree = 2)\n",
    "# 三次変数を作成するインスタンス\n",
    "cubic = PolynomialFeatures(degree = 3)\n",
    "# 変数作成\n",
    "X_quad = quadratic.fit_transform(X)\n",
    "X_cubic = cubic.fit_transform(X)"
   ]
  },
  {
   "cell_type": "markdown",
   "metadata": {},
   "source": [
    "多項式変数の作成をしたので、\n",
    "* 線形回帰モデル\n",
    "* 二次の項を追加したモデル\n",
    "* 三次の項を追加したモデル\n",
    "\n",
    "を作成する"
   ]
  },
  {
   "cell_type": "code",
   "execution_count": 27,
   "metadata": {},
   "outputs": [],
   "source": [
    "# モデル用に変数を作成\n",
    "X_fit = np.arange(X.min(), X.max(), 1)[:, np.newaxis]\n",
    "\n",
    "# 線形回帰モデル、予測値、R^2を評価\n",
    "mod_lin = mod.fit(X, y)\n",
    "y_lin_fit = mod_lin.predict(X_fit)\n",
    "r2_lin = mod.score(X, y)\n",
    "\n",
    "# 二次の項を追加、予測値、R^2を評価\n",
    "mod_quad = mod.fit(X_quad, y)\n",
    "y_quad_fit = mod_quad.predict(quadratic.fit_transform(X_fit))\n",
    "r2_quad = mod.score(X_quad, y)\n",
    "\n",
    "# 三次の項を追加、予測値、R^2を評価\n",
    "mod_cubic = mod.fit(X_cubic, y)\n",
    "y_cubic_fit = mod_cubic.predict(cubic.fit_transform(X_fit))\n",
    "r2_cubic = mod.score(X_cubic, y)"
   ]
  },
  {
   "cell_type": "code",
   "execution_count": 28,
   "metadata": {},
   "outputs": [
    {
     "data": {
      "image/png": "[encoded data removed]",
      "text/plain": [
       "<Figure size 432x288 with 1 Axes>"
      ]
     },
     "metadata": {
      "needs_background": "light"
     },
     "output_type": "display_data"
    }
   ],
   "source": [
    "# 各モデルの結果・モデル式をプロット\n",
    "\n",
    "# データ店をプロット\n",
    "plt.scatter(X, y, label = 'Training points', color = 'lightgray')\n",
    "\n",
    "# 線形モデルのモデル式\n",
    "plt.plot(X_fit, y_lin_fit, label = 'linear(d = 1), $R^2=%.2f$' % r2_lin, color = 'blue', lw = 2, linestyle = ':')\n",
    "\n",
    "# 二次モデルのモデル式\n",
    "plt.plot(X_fit, y_quad_fit, label = 'quadratic(d = 2), $R^2%.2f$' % r2_quad, color = 'red', lw = 2, linestyle = '-')\n",
    "\n",
    "# 三次モデルのモデル式\n",
    "plt.plot(X_fit, y_cubic_fit, label = 'cubic (d = 3), $R^2%.2f$' % r2_cubic, color = 'green', lw = 2, linestyle = '--')\n",
    "\n",
    "plt.xlabel('LSTAT')\n",
    "plt.ylabel('MEDV')\n",
    "plt.legend(loc = 'upper right')\n",
    "plt.show()"
   ]
  },
  {
   "cell_type": "code",
   "execution_count": null,
   "metadata": {},
   "outputs": [],
   "source": []
  }
 ],
 "metadata": {
  "kernelspec": {
   "display_name": "Python 3",
   "language": "python",
   "name": "python3"
  },
  "language_info": {
   "codemirror_mode": {
    "name": "ipython",
    "version": 3
   },
   "file_extension": ".py",
   "mimetype": "text/x-python",
   "name": "python",
   "nbconvert_exporter": "python",
   "pygments_lexer": "ipython3",
   "version": "3.8.6"
  }
 },
 "nbformat": 4,
 "nbformat_minor": 4
}
