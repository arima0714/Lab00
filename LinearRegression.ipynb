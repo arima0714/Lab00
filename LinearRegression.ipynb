{
 "cells": [
  {
   "cell_type": "markdown",
   "metadata": {},
   "source": [
    "# [Scikit-learn で線形回帰](https://qiita.com/0NE_shoT_/items/08376b08783cd554b02e) に記載されているコードを実際に手を動かしながら実行していく"
   ]
  },
  {
   "cell_type": "markdown",
   "metadata": {},
   "source": [
    "### 線形回帰モデル"
   ]
  },
  {
   "cell_type": "markdown",
   "metadata": {},
   "source": [
    "線形回帰分析にはLinearRegressionモデルを使用する。\n",
    "\n",
    "主に使用するメソッド\n",
    "\n",
    "*  `fit` メソッド：線形モデルの重みを学習\n",
    "* `predict` メソッド：線形モデルから目的変数を予測\n",
    "* `score` メソッド：線形モデルがどの程度目的変数を出力"
   ]
  },
  {
   "cell_type": "code",
   "execution_count": 1,
   "metadata": {},
   "outputs": [],
   "source": [
    "from sklearn.datasets import load_boston\n",
    "boston = load_boston()\n",
    "\n",
    "import pandas as pd\n",
    "boston_df = pd.DataFrame(boston.data, columns = boston.feature_names)\n",
    "boston_df['MEDV'] = boston.target"
   ]
  },
  {
   "cell_type": "markdown",
   "metadata": {},
   "source": [
    "今回使用するボストンの地域別住宅価格のデータを出力する"
   ]
  },
  {
   "cell_type": "code",
   "execution_count": 2,
   "metadata": {},
   "outputs": [
    {
     "data": {
      "text/html": [
       "<div>\n",
       "<style scoped>\n",
       "    .dataframe tbody tr th:only-of-type {\n",
       "        vertical-align: middle;\n",
       "    }\n",
       "\n",
       "    .dataframe tbody tr th {\n",
       "        vertical-align: top;\n",
       "    }\n",
       "\n",
       "    .dataframe thead th {\n",
       "        text-align: right;\n",
       "    }\n",
       "</style>\n",
       "<table border=\"1\" class=\"dataframe\">\n",
       "  <thead>\n",
       "    <tr style=\"text-align: right;\">\n",
       "      <th></th>\n",
       "      <th>CRIM</th>\n",
       "      <th>ZN</th>\n",
       "      <th>INDUS</th>\n",
       "      <th>CHAS</th>\n",
       "      <th>NOX</th>\n",
       "      <th>RM</th>\n",
       "      <th>AGE</th>\n",
       "      <th>DIS</th>\n",
       "      <th>RAD</th>\n",
       "      <th>TAX</th>\n",
       "      <th>PTRATIO</th>\n",
       "      <th>B</th>\n",
       "      <th>LSTAT</th>\n",
       "      <th>MEDV</th>\n",
       "    </tr>\n",
       "  </thead>\n",
       "  <tbody>\n",
       "    <tr>\n",
       "      <th>0</th>\n",
       "      <td>0.00632</td>\n",
       "      <td>18.0</td>\n",
       "      <td>2.31</td>\n",
       "      <td>0.0</td>\n",
       "      <td>0.538</td>\n",
       "      <td>6.575</td>\n",
       "      <td>65.2</td>\n",
       "      <td>4.0900</td>\n",
       "      <td>1.0</td>\n",
       "      <td>296.0</td>\n",
       "      <td>15.3</td>\n",
       "      <td>396.90</td>\n",
       "      <td>4.98</td>\n",
       "      <td>24.0</td>\n",
       "    </tr>\n",
       "    <tr>\n",
       "      <th>1</th>\n",
       "      <td>0.02731</td>\n",
       "      <td>0.0</td>\n",
       "      <td>7.07</td>\n",
       "      <td>0.0</td>\n",
       "      <td>0.469</td>\n",
       "      <td>6.421</td>\n",
       "      <td>78.9</td>\n",
       "      <td>4.9671</td>\n",
       "      <td>2.0</td>\n",
       "      <td>242.0</td>\n",
       "      <td>17.8</td>\n",
       "      <td>396.90</td>\n",
       "      <td>9.14</td>\n",
       "      <td>21.6</td>\n",
       "    </tr>\n",
       "    <tr>\n",
       "      <th>2</th>\n",
       "      <td>0.02729</td>\n",
       "      <td>0.0</td>\n",
       "      <td>7.07</td>\n",
       "      <td>0.0</td>\n",
       "      <td>0.469</td>\n",
       "      <td>7.185</td>\n",
       "      <td>61.1</td>\n",
       "      <td>4.9671</td>\n",
       "      <td>2.0</td>\n",
       "      <td>242.0</td>\n",
       "      <td>17.8</td>\n",
       "      <td>392.83</td>\n",
       "      <td>4.03</td>\n",
       "      <td>34.7</td>\n",
       "    </tr>\n",
       "    <tr>\n",
       "      <th>3</th>\n",
       "      <td>0.03237</td>\n",
       "      <td>0.0</td>\n",
       "      <td>2.18</td>\n",
       "      <td>0.0</td>\n",
       "      <td>0.458</td>\n",
       "      <td>6.998</td>\n",
       "      <td>45.8</td>\n",
       "      <td>6.0622</td>\n",
       "      <td>3.0</td>\n",
       "      <td>222.0</td>\n",
       "      <td>18.7</td>\n",
       "      <td>394.63</td>\n",
       "      <td>2.94</td>\n",
       "      <td>33.4</td>\n",
       "    </tr>\n",
       "    <tr>\n",
       "      <th>4</th>\n",
       "      <td>0.06905</td>\n",
       "      <td>0.0</td>\n",
       "      <td>2.18</td>\n",
       "      <td>0.0</td>\n",
       "      <td>0.458</td>\n",
       "      <td>7.147</td>\n",
       "      <td>54.2</td>\n",
       "      <td>6.0622</td>\n",
       "      <td>3.0</td>\n",
       "      <td>222.0</td>\n",
       "      <td>18.7</td>\n",
       "      <td>396.90</td>\n",
       "      <td>5.33</td>\n",
       "      <td>36.2</td>\n",
       "    </tr>\n",
       "  </tbody>\n",
       "</table>\n",
       "</div>"
      ],
      "text/plain": [
       "      CRIM    ZN  INDUS  CHAS    NOX     RM   AGE     DIS  RAD    TAX  \\\n",
       "0  0.00632  18.0   2.31   0.0  0.538  6.575  65.2  4.0900  1.0  296.0   \n",
       "1  0.02731   0.0   7.07   0.0  0.469  6.421  78.9  4.9671  2.0  242.0   \n",
       "2  0.02729   0.0   7.07   0.0  0.469  7.185  61.1  4.9671  2.0  242.0   \n",
       "3  0.03237   0.0   2.18   0.0  0.458  6.998  45.8  6.0622  3.0  222.0   \n",
       "4  0.06905   0.0   2.18   0.0  0.458  7.147  54.2  6.0622  3.0  222.0   \n",
       "\n",
       "   PTRATIO       B  LSTAT  MEDV  \n",
       "0     15.3  396.90   4.98  24.0  \n",
       "1     17.8  396.90   9.14  21.6  \n",
       "2     17.8  392.83   4.03  34.7  \n",
       "3     18.7  394.63   2.94  33.4  \n",
       "4     18.7  396.90   5.33  36.2  "
      ]
     },
     "execution_count": 2,
     "metadata": {},
     "output_type": "execute_result"
    }
   ],
   "source": [
    "boston_df.head()"
   ]
  },
  {
   "cell_type": "markdown",
   "metadata": {},
   "source": [
    "データ項目の説明\n",
    "\n",
    "* CRIM：犯罪発生率\n",
    "* ZN：25000平方フィート以上の住宅区画の割合\n",
    "* INDUS：非小売業種の土地面積の割合\n",
    "* CHAS：チャールズ川沿いかを表すダミー変数\n",
    "* NOX：窒素酸化物の濃度\n",
    "* RM：平均部屋数\n",
    "* AGE：1940年より前に建てられた建物の割合\n",
    "* DIS：5つのボストンの雇用施設への重み付き距離\n",
    "* RAD：高速道路へのアクセスのしやすさ\n",
    "* TAX：10000ドルあたりの不動産税率\n",
    "* PTRATIO：生徒と教師の割合\n",
    "* B：黒人の割合\n",
    "* LSTAT：低所得者の割合\n",
    "* MEDV：住宅価格の中央値"
   ]
  },
  {
   "cell_type": "markdown",
   "metadata": {},
   "source": [
    "RM：平均部屋数とMEDV：住宅価格の関係を見る"
   ]
  },
  {
   "cell_type": "code",
   "execution_count": 3,
   "metadata": {},
   "outputs": [
    {
     "data": {
      "text/plain": [
       "<function matplotlib.pyplot.show(close=None, block=None)>"
      ]
     },
     "execution_count": 3,
     "metadata": {},
     "output_type": "execute_result"
    },
    {
     "data": {
      "image/png": "[encoded data removed]",
      "text/plain": [
       "<Figure size 432x288 with 1 Axes>"
      ]
     },
     "metadata": {
      "needs_background": "light"
     },
     "output_type": "display_data"
    }
   ],
   "source": [
    "import matplotlib.pyplot as plt\n",
    "%matplotlib inline\n",
    "plt.scatter(boston_df[\"RM\"], boston_df[\"MEDV\"])\n",
    "\n",
    "plt.title(\"Scatter Plot of RM vs MEDV\")\n",
    "plt.xlabel(\"Average number of rooms [RM]\")\n",
    "plt.ylabel(\"Price in $1000\\'s [MEDV]\")\n",
    "plt.grid()\n",
    "\n",
    "plt.show"
   ]
  },
  {
   "cell_type": "markdown",
   "metadata": {},
   "source": [
    "Pandasのcorrメソッドで平均部屋数と住宅価格の相関係数を算出する"
   ]
  },
  {
   "cell_type": "code",
   "execution_count": 4,
   "metadata": {},
   "outputs": [
    {
     "data": {
      "text/html": [
       "<div>\n",
       "<style scoped>\n",
       "    .dataframe tbody tr th:only-of-type {\n",
       "        vertical-align: middle;\n",
       "    }\n",
       "\n",
       "    .dataframe tbody tr th {\n",
       "        vertical-align: top;\n",
       "    }\n",
       "\n",
       "    .dataframe thead th {\n",
       "        text-align: right;\n",
       "    }\n",
       "</style>\n",
       "<table border=\"1\" class=\"dataframe\">\n",
       "  <thead>\n",
       "    <tr style=\"text-align: right;\">\n",
       "      <th></th>\n",
       "      <th>RM</th>\n",
       "      <th>MEDV</th>\n",
       "    </tr>\n",
       "  </thead>\n",
       "  <tbody>\n",
       "    <tr>\n",
       "      <th>RM</th>\n",
       "      <td>1.00000</td>\n",
       "      <td>0.69536</td>\n",
       "    </tr>\n",
       "    <tr>\n",
       "      <th>MEDV</th>\n",
       "      <td>0.69536</td>\n",
       "      <td>1.00000</td>\n",
       "    </tr>\n",
       "  </tbody>\n",
       "</table>\n",
       "</div>"
      ],
      "text/plain": [
       "           RM     MEDV\n",
       "RM    1.00000  0.69536\n",
       "MEDV  0.69536  1.00000"
      ]
     },
     "execution_count": 4,
     "metadata": {},
     "output_type": "execute_result"
    }
   ],
   "source": [
    "boston_df[[\"RM\", \"MEDV\"]].corr()"
   ]
  },
  {
   "cell_type": "markdown",
   "metadata": {},
   "source": [
    "RMとMEDVの間には、相関係数が0.69536、つまり約0.7程度の正の相関があることが分かった"
   ]
  },
  {
   "cell_type": "markdown",
   "metadata": {},
   "source": [
    "### 線形回帰モデルの構築"
   ]
  },
  {
   "cell_type": "markdown",
   "metadata": {},
   "source": [
    "`fit` メソッドで重みを学習することで、線形回帰モデルを構築する。"
   ]
  },
  {
   "cell_type": "code",
   "execution_count": 5,
   "metadata": {},
   "outputs": [
    {
     "data": {
      "text/plain": [
       "LinearRegression()"
      ]
     },
     "execution_count": 5,
     "metadata": {},
     "output_type": "execute_result"
    }
   ],
   "source": [
    "from sklearn.linear_model import LinearRegression\n",
    "\n",
    "lr = LinearRegression()\n",
    "\n",
    "X = boston_df[[\"RM\"]].values\n",
    "Y = boston_df[\"MEDV\"].values\n",
    "\n",
    "lr.fit(X,Y)"
   ]
  },
  {
   "cell_type": "markdown",
   "metadata": {},
   "source": [
    "学習で得られた、線形モデルの切片 `w0` は `intercept_` 属性に、説明変数の係数 `w1` は`coef_` 属性に格納される。実際に確認する。"
   ]
  },
  {
   "cell_type": "code",
   "execution_count": 6,
   "metadata": {},
   "outputs": [
    {
     "name": "stdout",
     "output_type": "stream",
     "text": [
      "coefficient =  9.10210898118031\n",
      "intercept =  -34.67062077643857\n"
     ]
    }
   ],
   "source": [
    "print('coefficient = ', lr.coef_[0])\n",
    "print('intercept = ', lr.intercept_)"
   ]
  },
  {
   "cell_type": "markdown",
   "metadata": {},
   "source": [
    "学習で得られた切片と係数を利用して、回帰直線を引く。"
   ]
  },
  {
   "cell_type": "code",
   "execution_count": 7,
   "metadata": {},
   "outputs": [
    {
     "data": {
      "image/png": "[encoded data removed]",
      "text/plain": [
       "<Figure size 432x288 with 1 Axes>"
      ]
     },
     "metadata": {
      "needs_background": "light"
     },
     "output_type": "display_data"
    }
   ],
   "source": [
    "plt.scatter(X, Y, color = 'blue')\n",
    "plt.plot(X, lr.predict(X), color = 'red')\n",
    "\n",
    "plt.title(\"Regression Line\")\n",
    "plt.xlabel(\"Average number of rooms [RM]\")\n",
    "plt.ylabel(\"Prices in $1000\\'s [MEDV]\")\n",
    "plt.grid()\n",
    "\n",
    "plt.show()"
   ]
  },
  {
   "cell_type": "markdown",
   "metadata": {},
   "source": [
    "### 回帰モデルの性能評価"
   ]
  },
  {
   "cell_type": "markdown",
   "metadata": {},
   "source": [
    "以下のコードでは、 `model_selection` の `train_test_split` を利用して、データを学習用と検証用に7:3の割合で分割し、学習データを用いて線形モデルを構築する。"
   ]
  },
  {
   "cell_type": "code",
   "execution_count": 8,
   "metadata": {},
   "outputs": [
    {
     "data": {
      "text/plain": [
       "LinearRegression()"
      ]
     },
     "execution_count": 8,
     "metadata": {},
     "output_type": "execute_result"
    }
   ],
   "source": [
    "from sklearn.model_selection import train_test_split\n",
    "X_train, X_test, Y_train, Y_test = train_test_split(X, Y, train_size = 0.7, test_size = 0.3, random_state = 0)\n",
    "\n",
    "lr = LinearRegression()\n",
    "lr.fit(X_train, Y_train)"
   ]
  },
  {
   "cell_type": "markdown",
   "metadata": {},
   "source": [
    "線形回帰モデルの性能評価には以下の方法・指標を利用する\n",
    "\n",
    "* 残差プロット：残差(=目的変数の真値と予測値の差分)を可視化\n",
    "* 平均二乗誤差：残差平方和をデータ数で正規化した値\n",
    "* 決定係数：相関係数の二乗\n",
    "\n",
    "予測精度の良い線形モデルの残差プロットは、0を中心にばらついたものになる。残差プロットに何かパターンが見られる場合は線形モデルで説明しきれない情報があることが示唆される。\n",
    "\n",
    "以下のコードは残差プロットを描画する"
   ]
  },
  {
   "cell_type": "code",
   "execution_count": 9,
   "metadata": {},
   "outputs": [
    {
     "data": {
      "image/png": "[encoded data removed]",
      "text/plain": [
       "<Figure size 432x288 with 1 Axes>"
      ]
     },
     "metadata": {
      "needs_background": "light"
     },
     "output_type": "display_data"
    }
   ],
   "source": [
    "Y_pred = lr.predict(X_test)\n",
    "\n",
    "plt.scatter(Y_pred, Y_pred - Y_test, color = 'blue')\n",
    "plt.hlines(y = 0, xmin = -10, xmax = 50, color = 'black')\n",
    "plt.title('Residual Plot')\n",
    "plt.xlabel('Predicted Values')\n",
    "plt.ylabel('Residuals')\n",
    "plt.grid()\n",
    "\n",
    "plt.show()"
   ]
  },
  {
   "cell_type": "markdown",
   "metadata": {},
   "source": [
    "平均二乗誤差は、残差の平方和をデータ数で正規化したものであり、モデルの性能を数値化するのに役立つ。誤差が小さいほどモデルの性能はよいといえる。平均二乗誤差は `metrics` の `mean_squared_error` を利用することで算出できる。"
   ]
  },
  {
   "cell_type": "code",
   "execution_count": 10,
   "metadata": {},
   "outputs": [
    {
     "name": "stdout",
     "output_type": "stream",
     "text": [
      "MSE train data:  42.15765086312224\n",
      "MSE test data:  47.03304747975518\n"
     ]
    }
   ],
   "source": [
    "from sklearn.metrics import mean_squared_error\n",
    "\n",
    "Y_train_pred = lr.predict(X_train)\n",
    "print(\"MSE train data: \", mean_squared_error(Y_train, Y_train_pred))\n",
    "print(\"MSE test data: \", mean_squared_error(Y_test, Y_pred))"
   ]
  },
  {
   "cell_type": "markdown",
   "metadata": {},
   "source": [
    "学習データ、検証データのそれぞれを用いた時の平均二乗誤差を比較すると、検証データを用いた時の誤差のほうが大きい。このことから、構築した線形モデルは学習データにフィットしすぎている(= 過学習している)ことが示唆される。"
   ]
  },
  {
   "cell_type": "markdown",
   "metadata": {},
   "source": [
    "決定係数も、線形モデルの予測誤差を反映した指標で、値が大きいほど線形モデルがデータにフィットしているといえる。決定係数は `metrics` の `r2_score` を利用することで算出できる。また、 `LinearRegression` モデルの `score` メソッドでも算出できる。"
   ]
  },
  {
   "cell_type": "code",
   "execution_count": 11,
   "metadata": {},
   "outputs": [
    {
     "name": "stdout",
     "output_type": "stream",
     "text": [
      "r^2 train data:  0.5026497630040827\n",
      "r^2 test data:  0.43514364832115193\n"
     ]
    }
   ],
   "source": [
    "from sklearn.metrics import r2_score\n",
    "\n",
    "print('r^2 train data: ', r2_score(Y_train, Y_train_pred))\n",
    "print('r^2 test data: ', r2_score(Y_test, Y_pred))"
   ]
  },
  {
   "cell_type": "markdown",
   "metadata": {},
   "source": [
    "学習データ、検証データのそれぞれを用いた時の決定係数を比較すると、検証データを用いた時のほうが小さい。このことから、構築した線形モデルには過学習が起こっている可能性がある。"
   ]
  },
  {
   "cell_type": "markdown",
   "metadata": {},
   "source": [
    "# [機械学習の線形回帰問題をPythonで。scikit-learnのLinearRegressionクラスのサンプルなど。](https://arakan-pgm-ai.hatenablog.com/entry/2019/07/12/000000) に記載されているコードを実際に手を動かしながら実行していく"
   ]
  },
  {
   "cell_type": "markdown",
   "metadata": {},
   "source": [
    "ざっくりと回帰問題とは「入力データと出力データの組から対応する規則を学んで、道の入力データに対して適切な出力を予測できるようにする」"
   ]
  },
  {
   "cell_type": "markdown",
   "metadata": {},
   "source": [
    "決定係数とは「予測精度の客観的な指標」のこと。\n",
    "\n",
    "決定係数の求め方は下記の二つがある。\n",
    "\n",
    "* `linear_model.LinearRegression` クラスの `score()` を使う\n",
    "* `sklearn.metrics.r2_score()` を使う\n",
    "\n",
    "一つ目の方法は二つ目を呼び出しているため、結果は同じになる。"
   ]
  },
  {
   "cell_type": "markdown",
   "metadata": {},
   "source": [
    "学習と評価でエラーが出る場合がある。 `model.fit` などに渡す前に `reshape` をする必要がある。"
   ]
  },
  {
   "cell_type": "markdown",
   "metadata": {},
   "source": [
    "### サンプル1(単回帰一次式)"
   ]
  },
  {
   "cell_type": "code",
   "execution_count": 12,
   "metadata": {},
   "outputs": [],
   "source": [
    "import matplotlib.pyplot as plt\n",
    "import numpy as np\n",
    "from sklearn import linear_model\n",
    "from sklearn.metrics import r2_score"
   ]
  },
  {
   "cell_type": "code",
   "execution_count": 13,
   "metadata": {},
   "outputs": [],
   "source": [
    "# -2 ~ 2 の範囲で乱数を生成する\n",
    "x = np.random.rand(200, 1) * 4 - 2\n",
    "# ノイズは -5 ~ 5 の範囲で乱数を生成する\n",
    "noise = np.random.rand(200, 1) * 10 - 5\n",
    "# 正解の y を計算する y = 3x - 1\n",
    "true_y = x * 3 - 1\n",
    "# ノイズを加える\n",
    "y = true_y + noise"
   ]
  },
  {
   "cell_type": "code",
   "execution_count": 14,
   "metadata": {},
   "outputs": [],
   "source": [
    "# クラスオブジェクトの生成\n",
    "model = linear_model.LinearRegression()\n",
    "# 学習する(x, y)\n",
    "model.fit(x, y)\n",
    "# 予測する\n",
    "predict_y = model.predict(x)"
   ]
  },
  {
   "cell_type": "code",
   "execution_count": 15,
   "metadata": {},
   "outputs": [
    {
     "data": {
      "image/png": "[encoded data removed]",
      "text/plain": [
       "<Figure size 432x288 with 1 Axes>"
      ]
     },
     "metadata": {
      "needs_background": "light"
     },
     "output_type": "display_data"
    }
   ],
   "source": [
    "plt.scatter(x, y, marker=\"+\", color=\"b\")\n",
    "plt.scatter(x, predict_y, color=\"r\")\n",
    "plt.show()"
   ]
  },
  {
   "cell_type": "code",
   "execution_count": 16,
   "metadata": {},
   "outputs": [
    {
     "name": "stdout",
     "output_type": "stream",
     "text": [
      "0.9906103646008243\n",
      "0.9906103646008243\n"
     ]
    }
   ],
   "source": [
    "# 決定係数を計算する方法１\n",
    "r2 = model.score(x, true_y)\n",
    "print(r2)\n",
    "# 決定係数を計算する方法２\n",
    "r2_score = r2_score(true_y, predict_y)\n",
    "print(r2_score)"
   ]
  },
  {
   "cell_type": "markdown",
   "metadata": {},
   "source": [
    "### サンプル2(単回帰二次式)"
   ]
  },
  {
   "cell_type": "code",
   "execution_count": 17,
   "metadata": {},
   "outputs": [],
   "source": [
    "import numpy as np\n",
    "from sklearn import linear_model\n",
    "from sklearn.metrics import r2_score"
   ]
  },
  {
   "cell_type": "code",
   "execution_count": 18,
   "metadata": {},
   "outputs": [],
   "source": [
    "# -2 ~ 2 の範囲で乱数を生成する\n",
    "_x = np.random.rand(300) * 4 - 2\n",
    "# ノイズは -5 ~ 5 の範囲で乱数を生成する\n",
    "noise = np.random.rand(300) * 10 - 5\n",
    "# 正解を求める y = 3 x ** 2 + 1\n",
    "_true_y = 3 * _x ** 2 + 1\n",
    "# ノイズを加える\n",
    "_y = _true_y + noise\n",
    "# エラー回避のため reshape する\n",
    "x = np.reshape(_x, (-1, 1))\n",
    "y = np.reshape(_y, (-1, 1))\n",
    "true_y = np.reshape(_true_y, (-1, 1))"
   ]
  },
  {
   "cell_type": "code",
   "execution_count": 19,
   "metadata": {},
   "outputs": [],
   "source": [
    "# クラスインスタンスを生成\n",
    "model = linear_model.LinearRegression()\n",
    "# 学習する (xは二乗で与える)\n",
    "model.fit(x**2, y)\n",
    "# 予測する (xは二乗で与える)\n",
    "predict_y = model.predict(x**2)"
   ]
  },
  {
   "cell_type": "code",
   "execution_count": 20,
   "metadata": {},
   "outputs": [
    {
     "data": {
      "image/png": "[encoded data removed]",
      "text/plain": [
       "<Figure size 432x288 with 1 Axes>"
      ]
     },
     "metadata": {
      "needs_background": "light"
     },
     "output_type": "display_data"
    }
   ],
   "source": [
    "plt.scatter(x, y, marker=\"+\", color=\"b\")\n",
    "plt.scatter(x, predict_y, color=\"r\")\n",
    "plt.show()"
   ]
  },
  {
   "cell_type": "code",
   "execution_count": 21,
   "metadata": {},
   "outputs": [
    {
     "name": "stdout",
     "output_type": "stream",
     "text": [
      "0.9975110758278848\n",
      "0.9975110758278848\n"
     ]
    }
   ],
   "source": [
    "# 決定係数を求める方法1\n",
    "r2 = model.score(x**2, true_y)\n",
    "print(r2)\n",
    "# 決定係数を求める方法2\n",
    "r2_score = r2_score(true_y, predict_y)\n",
    "print(r2_score)"
   ]
  },
  {
   "cell_type": "code",
   "execution_count": 22,
   "metadata": {
    "collapsed": true,
    "jupyter": {
     "outputs_hidden": true
    }
   },
   "outputs": [
    {
     "name": "stdout",
     "output_type": "stream",
     "text": [
      "[[-1.71303292]\n",
      " [-1.40170938]\n",
      " [ 0.28873452]\n",
      " [-1.03815578]\n",
      " [ 0.65597043]\n",
      " [ 1.56413242]\n",
      " [-1.84089496]\n",
      " [-0.15575455]\n",
      " [-0.65257615]\n",
      " [-1.1623594 ]\n",
      " [-0.78075541]\n",
      " [-0.1703621 ]\n",
      " [ 0.32671575]\n",
      " [-1.6477663 ]\n",
      " [-0.07191726]\n",
      " [ 1.64539344]\n",
      " [ 0.97751768]\n",
      " [-1.48721736]\n",
      " [-0.77800587]\n",
      " [-0.36399998]\n",
      " [ 0.84178098]\n",
      " [-1.67664438]\n",
      " [ 1.9624882 ]\n",
      " [-1.65614334]\n",
      " [-0.93240664]\n",
      " [ 1.99243973]\n",
      " [ 1.36098478]\n",
      " [ 0.32133478]\n",
      " [-0.00961642]\n",
      " [-1.55707383]\n",
      " [-0.4299876 ]\n",
      " [-0.10205342]\n",
      " [ 0.25245963]\n",
      " [-0.89925858]\n",
      " [ 0.83736318]\n",
      " [-0.00517546]\n",
      " [-0.30671909]\n",
      " [-0.6089556 ]\n",
      " [-1.24285555]\n",
      " [-0.70824223]\n",
      " [-0.00494709]\n",
      " [ 0.40232994]\n",
      " [ 0.01958687]\n",
      " [ 0.65475299]\n",
      " [-0.5036708 ]\n",
      " [-0.91894548]\n",
      " [ 1.4597486 ]\n",
      " [ 1.98159811]\n",
      " [-0.58510817]\n",
      " [-0.61474473]\n",
      " [ 1.27825266]\n",
      " [ 0.38663577]\n",
      " [-0.54063373]\n",
      " [ 0.17084094]\n",
      " [-0.5311536 ]\n",
      " [-1.80420852]\n",
      " [-0.3742139 ]\n",
      " [-0.44982695]\n",
      " [ 0.46564679]\n",
      " [ 0.93559915]\n",
      " [-1.90439838]\n",
      " [-0.6478047 ]\n",
      " [ 0.11526151]\n",
      " [ 0.17919845]\n",
      " [ 0.40626149]\n",
      " [ 1.46104604]\n",
      " [-0.52744229]\n",
      " [ 0.36834825]\n",
      " [-0.28641109]\n",
      " [-0.92318103]\n",
      " [ 0.6011153 ]\n",
      " [-1.64692865]\n",
      " [ 1.99808939]\n",
      " [-1.80465584]\n",
      " [ 1.25754577]\n",
      " [-1.7008508 ]\n",
      " [ 0.14099811]\n",
      " [ 1.44547298]\n",
      " [-1.6855953 ]\n",
      " [-1.57940725]\n",
      " [-1.19992847]\n",
      " [-0.99123657]\n",
      " [-0.319687  ]\n",
      " [ 0.61345911]\n",
      " [ 1.48389556]\n",
      " [-1.00918147]\n",
      " [ 0.82346029]\n",
      " [-1.65710426]\n",
      " [ 0.62705706]\n",
      " [ 0.36517209]\n",
      " [ 1.57089245]\n",
      " [-1.57853362]\n",
      " [ 0.81959702]\n",
      " [ 0.93081353]\n",
      " [-1.14412888]\n",
      " [-1.53877265]\n",
      " [ 0.48276782]\n",
      " [ 0.58892969]\n",
      " [ 0.7438526 ]\n",
      " [ 0.48542713]\n",
      " [-0.05832273]\n",
      " [-1.46061052]\n",
      " [ 1.47209918]\n",
      " [ 1.95712526]\n",
      " [ 0.93191938]\n",
      " [-1.38401915]\n",
      " [-0.44801816]\n",
      " [ 1.72508403]\n",
      " [-0.68442212]\n",
      " [ 0.61671948]\n",
      " [-0.76014759]\n",
      " [ 0.45840222]\n",
      " [ 1.6827793 ]\n",
      " [ 1.97065139]\n",
      " [-0.8573625 ]\n",
      " [ 1.79011828]\n",
      " [ 1.80639828]\n",
      " [-1.47307902]\n",
      " [-0.55849267]\n",
      " [ 0.54484258]\n",
      " [-0.80735423]\n",
      " [-0.88350924]\n",
      " [-1.35651306]\n",
      " [-0.23985412]\n",
      " [ 1.1768741 ]\n",
      " [ 0.51589486]\n",
      " [ 0.08118933]\n",
      " [ 0.91408361]\n",
      " [ 0.90602282]\n",
      " [ 0.39375506]\n",
      " [ 0.35990709]\n",
      " [-0.9700273 ]\n",
      " [-0.40443193]\n",
      " [ 1.36810879]\n",
      " [ 1.6400874 ]\n",
      " [-0.89363202]\n",
      " [ 1.04442307]\n",
      " [-0.20060678]\n",
      " [ 1.6639938 ]\n",
      " [-1.48811419]\n",
      " [ 1.14988928]\n",
      " [ 0.56446783]\n",
      " [ 1.39143145]\n",
      " [-1.586956  ]\n",
      " [ 0.5431861 ]\n",
      " [-1.21239842]\n",
      " [ 1.84332694]\n",
      " [ 0.45546761]\n",
      " [ 0.0965089 ]\n",
      " [-1.05246732]\n",
      " [-0.86421773]\n",
      " [-1.57538739]\n",
      " [-0.42895821]\n",
      " [-1.70556247]\n",
      " [-0.66025379]\n",
      " [-1.46805339]\n",
      " [-1.9135982 ]\n",
      " [-1.34917972]\n",
      " [-0.259975  ]\n",
      " [ 0.79830347]\n",
      " [-1.4679784 ]\n",
      " [ 0.42754656]\n",
      " [-1.85945607]\n",
      " [ 1.82096474]\n",
      " [-0.59437813]\n",
      " [-1.87438966]\n",
      " [-0.65681552]\n",
      " [ 0.02283866]\n",
      " [-0.46532057]\n",
      " [ 1.7149943 ]\n",
      " [-0.19579522]\n",
      " [-0.11382596]\n",
      " [-0.88933971]\n",
      " [-1.96179297]\n",
      " [ 1.26992328]\n",
      " [-1.79947008]\n",
      " [-0.43032354]\n",
      " [ 1.54112321]\n",
      " [ 0.12031906]\n",
      " [ 1.09742264]\n",
      " [ 1.34067134]\n",
      " [ 1.31315003]\n",
      " [-1.63626766]\n",
      " [-1.39710526]\n",
      " [ 0.15249381]\n",
      " [-0.29335364]\n",
      " [-1.35768148]\n",
      " [-1.92333767]\n",
      " [ 1.79797022]\n",
      " [ 1.70130711]\n",
      " [ 0.75628674]\n",
      " [ 0.67743646]\n",
      " [-1.95720714]\n",
      " [ 1.07519729]\n",
      " [-0.05208596]\n",
      " [-1.68048945]\n",
      " [ 0.29962351]\n",
      " [-0.92606246]\n",
      " [-1.91067583]\n",
      " [-0.9886877 ]\n",
      " [ 0.39233812]\n",
      " [ 0.82666764]\n",
      " [ 1.55196787]\n",
      " [ 0.50943864]\n",
      " [-1.00043188]\n",
      " [ 1.9765323 ]\n",
      " [ 0.90581811]\n",
      " [-1.35919078]\n",
      " [ 1.64842972]\n",
      " [ 0.11525492]\n",
      " [-1.92162946]\n",
      " [ 1.84247219]\n",
      " [-1.65658134]\n",
      " [ 1.60698244]\n",
      " [-0.50246084]\n",
      " [-1.00848053]\n",
      " [ 1.12964172]\n",
      " [ 1.91732718]\n",
      " [ 1.03286217]\n",
      " [ 1.20177269]\n",
      " [ 0.4664169 ]\n",
      " [-0.05433435]\n",
      " [ 1.02237632]\n",
      " [-1.98996632]\n",
      " [-1.04732487]\n",
      " [-0.17572846]\n",
      " [ 0.57309549]\n",
      " [ 0.14127319]\n",
      " [ 1.04684555]\n",
      " [-0.61629391]\n",
      " [ 1.84313552]\n",
      " [-0.18676556]\n",
      " [-0.25767462]\n",
      " [ 1.08689388]\n",
      " [-1.90970032]\n",
      " [-1.12051264]\n",
      " [ 0.07455852]\n",
      " [-0.91405965]\n",
      " [-1.10487647]\n",
      " [-1.27540632]\n",
      " [-1.86856447]\n",
      " [-1.7034431 ]\n",
      " [-0.18631059]\n",
      " [-0.1754659 ]\n",
      " [ 1.26355399]\n",
      " [ 1.65269055]\n",
      " [ 0.93540625]\n",
      " [-1.09974486]\n",
      " [-0.92269634]\n",
      " [ 0.45253638]\n",
      " [ 1.73165942]\n",
      " [ 1.97116834]\n",
      " [-1.40572968]\n",
      " [-0.9704538 ]\n",
      " [-1.45568623]\n",
      " [-0.87629591]\n",
      " [ 1.42517793]\n",
      " [ 1.54735147]\n",
      " [ 0.80841732]\n",
      " [-0.07416514]\n",
      " [-1.09865811]\n",
      " [ 1.97520188]\n",
      " [ 1.08143187]\n",
      " [ 1.54833561]\n",
      " [ 0.18502373]\n",
      " [ 1.77367155]\n",
      " [ 0.07437688]\n",
      " [-0.57940122]\n",
      " [-1.35505677]\n",
      " [-1.76790941]\n",
      " [-1.38385411]\n",
      " [ 0.86551492]\n",
      " [-0.43607353]\n",
      " [ 0.38052114]\n",
      " [ 1.63877984]\n",
      " [ 1.77762399]\n",
      " [-1.42678009]\n",
      " [-0.58332273]\n",
      " [ 1.9080872 ]\n",
      " [-1.53487758]\n",
      " [ 0.63667603]\n",
      " [ 1.80865782]\n",
      " [-1.96077177]\n",
      " [-0.80586939]\n",
      " [ 1.730907  ]\n",
      " [-0.51240535]\n",
      " [ 0.56339976]\n",
      " [ 0.34153292]\n",
      " [ 1.40007873]\n",
      " [-1.86681257]\n",
      " [ 0.43849365]\n",
      " [-1.15389092]\n",
      " [-1.11103685]\n",
      " [ 1.06807927]\n",
      " [-1.6020077 ]\n",
      " [-0.24249853]\n",
      " [-1.80532611]\n",
      " [ 0.79017963]\n",
      " [-1.73455207]\n",
      " [ 1.55542118]]\n"
     ]
    }
   ],
   "source": [
    "print(x)"
   ]
  },
  {
   "cell_type": "code",
   "execution_count": 23,
   "metadata": {
    "collapsed": true,
    "jupyter": {
     "outputs_hidden": true
    }
   },
   "outputs": [
    {
     "name": "stdout",
     "output_type": "stream",
     "text": [
      "[[ 8.56391195e+00]\n",
      " [ 3.99673828e+00]\n",
      " [-1.08269230e+00]\n",
      " [-2.41710402e-01]\n",
      " [ 5.56957616e+00]\n",
      " [ 7.88288381e+00]\n",
      " [ 7.91483790e+00]\n",
      " [-5.71569483e-01]\n",
      " [ 1.54191320e-01]\n",
      " [ 1.40421873e+00]\n",
      " [ 4.95550662e+00]\n",
      " [ 2.90804642e+00]\n",
      " [ 2.77979380e+00]\n",
      " [ 1.29314171e+01]\n",
      " [ 4.90428617e-01]\n",
      " [ 6.55781088e+00]\n",
      " [ 4.96340105e+00]\n",
      " [ 1.18475908e+01]\n",
      " [-3.04122392e-01]\n",
      " [ 3.09587287e+00]\n",
      " [ 4.36529023e+00]\n",
      " [ 1.34041816e+01]\n",
      " [ 1.01287750e+01]\n",
      " [ 4.90011541e+00]\n",
      " [ 8.44994915e+00]\n",
      " [ 8.08796567e+00]\n",
      " [ 1.85268552e+00]\n",
      " [-2.15565549e+00]\n",
      " [-2.88972926e+00]\n",
      " [ 8.54932676e+00]\n",
      " [ 4.62230063e+00]\n",
      " [ 5.84928434e+00]\n",
      " [ 4.50074833e+00]\n",
      " [ 2.24159030e+00]\n",
      " [ 6.35547565e-01]\n",
      " [ 1.43874080e+00]\n",
      " [-3.03610795e+00]\n",
      " [-1.27727643e+00]\n",
      " [ 7.40778194e+00]\n",
      " [ 7.22101355e+00]\n",
      " [ 1.13823438e+00]\n",
      " [ 3.84132023e+00]\n",
      " [ 2.22695937e+00]\n",
      " [-8.85684659e-01]\n",
      " [ 2.84899223e+00]\n",
      " [-8.11712856e-01]\n",
      " [ 2.60105704e+00]\n",
      " [ 7.84323265e+00]\n",
      " [ 2.65054840e-01]\n",
      " [-1.03501757e+00]\n",
      " [ 2.05671788e+00]\n",
      " [ 6.31006843e+00]\n",
      " [-4.25066383e-01]\n",
      " [ 5.85991782e+00]\n",
      " [ 2.32524650e+00]\n",
      " [ 1.36004508e+01]\n",
      " [ 2.43527012e+00]\n",
      " [ 1.67833484e+00]\n",
      " [-3.97379550e-01]\n",
      " [ 5.45598283e+00]\n",
      " [ 7.78517774e+00]\n",
      " [ 6.98229424e+00]\n",
      " [ 5.37533287e+00]\n",
      " [ 3.36442621e+00]\n",
      " [-1.86246129e+00]\n",
      " [ 4.10102144e+00]\n",
      " [ 1.33005738e-01]\n",
      " [ 2.74233270e+00]\n",
      " [ 9.75367578e-01]\n",
      " [ 7.33616456e+00]\n",
      " [ 3.58823675e+00]\n",
      " [ 8.53158647e+00]\n",
      " [ 1.30039314e+01]\n",
      " [ 7.26417238e+00]\n",
      " [ 8.82749776e+00]\n",
      " [ 1.41740418e+01]\n",
      " [ 2.32997282e+00]\n",
      " [ 7.47682128e+00]\n",
      " [ 6.90454588e+00]\n",
      " [ 4.58329850e+00]\n",
      " [ 2.41446217e+00]\n",
      " [ 8.74366538e+00]\n",
      " [-2.29212095e+00]\n",
      " [ 3.87850615e+00]\n",
      " [ 8.85562223e+00]\n",
      " [ 2.71071887e+00]\n",
      " [ 5.07656481e+00]\n",
      " [ 1.29042456e+01]\n",
      " [ 7.00770418e+00]\n",
      " [ 5.48241522e+00]\n",
      " [ 1.19350620e+01]\n",
      " [ 7.17723624e+00]\n",
      " [ 2.15778846e+00]\n",
      " [-4.85970486e-02]\n",
      " [ 6.04642380e+00]\n",
      " [ 1.27569946e+01]\n",
      " [-1.94233713e+00]\n",
      " [-9.45224129e-01]\n",
      " [ 2.94832850e+00]\n",
      " [ 2.76379711e+00]\n",
      " [-1.24278207e+00]\n",
      " [ 3.01208917e+00]\n",
      " [ 1.23324513e+01]\n",
      " [ 1.39097966e+01]\n",
      " [ 1.50611417e+00]\n",
      " [ 3.79407718e+00]\n",
      " [-3.29647680e+00]\n",
      " [ 1.48432129e+01]\n",
      " [ 1.99876371e+00]\n",
      " [ 1.20712653e+00]\n",
      " [-2.18627931e-01]\n",
      " [-2.88612462e+00]\n",
      " [ 5.90914798e+00]\n",
      " [ 1.11705925e+01]\n",
      " [ 5.31337440e+00]\n",
      " [ 1.22633835e+01]\n",
      " [ 1.33581172e+01]\n",
      " [ 9.59894761e+00]\n",
      " [ 4.37190047e+00]\n",
      " [ 4.70454855e+00]\n",
      " [ 6.64182015e+00]\n",
      " [ 3.26944177e+00]\n",
      " [ 1.62930801e+00]\n",
      " [ 1.39433091e+00]\n",
      " [ 7.81179164e+00]\n",
      " [ 9.06154260e-01]\n",
      " [ 3.11451024e+00]\n",
      " [-3.34856945e-01]\n",
      " [ 2.75190191e+00]\n",
      " [ 1.05290783e+00]\n",
      " [ 1.98654178e+00]\n",
      " [ 9.83723707e-01]\n",
      " [ 2.85417495e+00]\n",
      " [ 7.05190113e+00]\n",
      " [ 7.87260688e+00]\n",
      " [ 2.90328827e+00]\n",
      " [ 3.09288677e-02]\n",
      " [ 2.37574272e+00]\n",
      " [ 5.44502783e+00]\n",
      " [ 6.67735962e+00]\n",
      " [ 8.10886291e+00]\n",
      " [ 2.39729830e+00]\n",
      " [ 2.28088566e+00]\n",
      " [ 1.18460276e+01]\n",
      " [ 5.38849743e-01]\n",
      " [ 1.80602324e+00]\n",
      " [ 1.48669141e+01]\n",
      " [-1.36856958e+00]\n",
      " [ 5.35011731e-01]\n",
      " [ 2.35278499e+00]\n",
      " [ 4.77858022e+00]\n",
      " [ 1.20491115e+01]\n",
      " [-1.43278934e+00]\n",
      " [ 1.40282678e+01]\n",
      " [ 6.50987961e+00]\n",
      " [ 1.00365501e+01]\n",
      " [ 1.23345226e+01]\n",
      " [ 6.69826680e+00]\n",
      " [-1.54431943e+00]\n",
      " [-9.62221085e-02]\n",
      " [ 6.26141790e+00]\n",
      " [ 6.28440797e+00]\n",
      " [ 1.21995059e+01]\n",
      " [ 1.57280185e+01]\n",
      " [ 6.89763940e+00]\n",
      " [ 7.51802026e+00]\n",
      " [-6.12023774e-01]\n",
      " [-3.93702483e+00]\n",
      " [ 6.61492273e+00]\n",
      " [ 1.19306555e+01]\n",
      " [ 3.67475046e+00]\n",
      " [ 4.40647465e+00]\n",
      " [ 5.79602027e+00]\n",
      " [ 1.23617986e+01]\n",
      " [ 5.54621672e+00]\n",
      " [ 1.28642717e+01]\n",
      " [-1.41886795e+00]\n",
      " [ 8.55029818e+00]\n",
      " [ 4.16827310e+00]\n",
      " [ 7.41499623e+00]\n",
      " [ 3.42268256e+00]\n",
      " [ 6.40383630e+00]\n",
      " [ 1.00041162e+01]\n",
      " [ 8.75321978e+00]\n",
      " [ 3.21489218e+00]\n",
      " [-3.36852324e+00]\n",
      " [ 4.27146247e+00]\n",
      " [ 1.09252747e+01]\n",
      " [ 1.53065634e+01]\n",
      " [ 1.18540667e+01]\n",
      " [ 6.67365148e+00]\n",
      " [ 4.05975540e+00]\n",
      " [ 1.15042121e+01]\n",
      " [ 5.17483346e+00]\n",
      " [ 1.15895214e+00]\n",
      " [ 9.79066322e+00]\n",
      " [ 4.44821867e+00]\n",
      " [ 8.38452129e+00]\n",
      " [ 1.38978516e+01]\n",
      " [ 7.83898091e+00]\n",
      " [ 1.16756855e+00]\n",
      " [ 2.86952276e+00]\n",
      " [ 6.76437414e+00]\n",
      " [ 2.97604349e+00]\n",
      " [ 8.53111012e+00]\n",
      " [ 1.54281015e+01]\n",
      " [ 4.60046617e+00]\n",
      " [ 7.58878607e+00]\n",
      " [ 1.02261725e+01]\n",
      " [-2.33481321e+00]\n",
      " [ 8.42040193e+00]\n",
      " [ 1.39667095e+01]\n",
      " [ 8.50467279e+00]\n",
      " [ 7.75086312e+00]\n",
      " [-2.47179699e+00]\n",
      " [ 5.49078660e+00]\n",
      " [ 2.47013508e+00]\n",
      " [ 1.01121092e+01]\n",
      " [ 8.05242898e+00]\n",
      " [ 5.82132610e+00]\n",
      " [-1.63131182e+00]\n",
      " [-9.70969659e-01]\n",
      " [ 3.64218815e+00]\n",
      " [ 1.09925174e+01]\n",
      " [ 3.39075911e+00]\n",
      " [ 5.59280161e+00]\n",
      " [ 6.51075150e+00]\n",
      " [ 5.10126725e+00]\n",
      " [ 5.32980157e-03]\n",
      " [-1.22238186e+00]\n",
      " [ 6.41218443e+00]\n",
      " [ 5.94733275e+00]\n",
      " [-1.08342101e+00]\n",
      " [ 4.60052226e-01]\n",
      " [ 8.07373865e+00]\n",
      " [ 8.57840067e+00]\n",
      " [-3.01640648e+00]\n",
      " [ 7.97227388e+00]\n",
      " [ 6.66780572e+00]\n",
      " [ 1.07146689e+01]\n",
      " [ 9.71354585e+00]\n",
      " [ 8.85696054e+00]\n",
      " [ 4.65778770e+00]\n",
      " [-4.89942946e-01]\n",
      " [ 2.94141555e+00]\n",
      " [ 7.80478934e+00]\n",
      " [-1.63907042e-01]\n",
      " [ 6.64550571e+00]\n",
      " [ 6.05701629e+00]\n",
      " [-3.21452173e+00]\n",
      " [ 1.07132905e+01]\n",
      " [ 8.08928711e+00]\n",
      " [ 7.53432320e+00]\n",
      " [ 5.55181875e+00]\n",
      " [ 1.06707779e+01]\n",
      " [ 6.97515744e+00]\n",
      " [ 8.96977508e+00]\n",
      " [ 7.95282911e+00]\n",
      " [-1.90932506e+00]\n",
      " [ 5.98223132e-02]\n",
      " [ 2.84918829e+00]\n",
      " [ 1.27069958e+01]\n",
      " [ 9.29040841e-01]\n",
      " [ 8.31158190e+00]\n",
      " [-2.19183495e+00]\n",
      " [ 7.48209544e+00]\n",
      " [ 3.42867309e+00]\n",
      " [ 4.91144450e+00]\n",
      " [ 1.01287273e+01]\n",
      " [ 7.77593934e+00]\n",
      " [ 4.99579359e+00]\n",
      " [ 6.45211305e+00]\n",
      " [ 1.77991705e+00]\n",
      " [ 2.84046899e+00]\n",
      " [ 5.80259072e+00]\n",
      " [ 1.46968202e+01]\n",
      " [ 7.43388028e+00]\n",
      " [-2.47841520e-01]\n",
      " [ 1.04487065e+01]\n",
      " [ 8.31107753e+00]\n",
      " [-2.60151238e+00]\n",
      " [ 1.50106496e+01]\n",
      " [ 1.30195364e+01]\n",
      " [ 1.20902327e+00]\n",
      " [ 1.11188332e+01]\n",
      " [-1.21575500e-01]\n",
      " [ 1.53530655e+00]\n",
      " [ 1.73453330e+00]\n",
      " [ 2.07083486e+00]\n",
      " [ 9.85864535e+00]\n",
      " [ 4.68314710e-01]\n",
      " [ 5.65774103e+00]\n",
      " [ 5.63804239e+00]\n",
      " [ 8.28029031e+00]\n",
      " [ 1.02285740e+01]\n",
      " [ 5.76623938e+00]\n",
      " [ 9.98001747e+00]\n",
      " [ 6.88992416e+00]\n",
      " [ 1.36985911e+01]\n",
      " [ 9.71900015e+00]]\n"
     ]
    }
   ],
   "source": [
    "print(y)"
   ]
  },
  {
   "cell_type": "code",
   "execution_count": null,
   "metadata": {},
   "outputs": [],
   "source": []
  }
 ],
 "metadata": {
  "kernelspec": {
   "display_name": "Python 3",
   "language": "python",
   "name": "python3"
  },
  "language_info": {
   "codemirror_mode": {
    "name": "ipython",
    "version": 3
   },
   "file_extension": ".py",
   "mimetype": "text/x-python",
   "name": "python",
   "nbconvert_exporter": "python",
   "pygments_lexer": "ipython3",
   "version": "3.8.5"
  }
 },
 "nbformat": 4,
 "nbformat_minor": 4
}
