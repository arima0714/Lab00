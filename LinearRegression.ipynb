{
 "cells": [
  {
   "cell_type": "markdown",
   "metadata": {},
   "source": [
    "# [Scikit-learn で線形回帰](https://qiita.com/0NE_shoT_/items/08376b08783cd554b02e) に記載されているコードを実際に手を動かしながら実行していく"
   ]
  },
  {
   "cell_type": "markdown",
   "metadata": {},
   "source": [
    "### 線形回帰モデル"
   ]
  },
  {
   "cell_type": "markdown",
   "metadata": {},
   "source": [
    "線形回帰分析にはLinearRegressionモデルを使用する。\n",
    "\n",
    "主に使用するメソッド\n",
    "\n",
    "*  `fit` メソッド：線形モデルの重みを学習\n",
    "* `predict` メソッド：線形モデルから目的変数を予測\n",
    "* `score` メソッド：線形モデルがどの程度目的変数を出力"
   ]
  },
  {
   "cell_type": "code",
   "execution_count": 1,
   "metadata": {},
   "outputs": [],
   "source": [
    "from sklearn.datasets import load_boston\n",
    "boston = load_boston()\n",
    "\n",
    "import pandas as pd\n",
    "boston_df = pd.DataFrame(boston.data, columns = boston.feature_names)\n",
    "boston_df['MEDV'] = boston.target"
   ]
  },
  {
   "cell_type": "markdown",
   "metadata": {},
   "source": [
    "今回使用するボストンの地域別住宅価格のデータを出力する"
   ]
  },
  {
   "cell_type": "code",
   "execution_count": 2,
   "metadata": {},
   "outputs": [
    {
     "data": {
      "text/html": [
       "<div>\n",
       "<style scoped>\n",
       "    .dataframe tbody tr th:only-of-type {\n",
       "        vertical-align: middle;\n",
       "    }\n",
       "\n",
       "    .dataframe tbody tr th {\n",
       "        vertical-align: top;\n",
       "    }\n",
       "\n",
       "    .dataframe thead th {\n",
       "        text-align: right;\n",
       "    }\n",
       "</style>\n",
       "<table border=\"1\" class=\"dataframe\">\n",
       "  <thead>\n",
       "    <tr style=\"text-align: right;\">\n",
       "      <th></th>\n",
       "      <th>CRIM</th>\n",
       "      <th>ZN</th>\n",
       "      <th>INDUS</th>\n",
       "      <th>CHAS</th>\n",
       "      <th>NOX</th>\n",
       "      <th>RM</th>\n",
       "      <th>AGE</th>\n",
       "      <th>DIS</th>\n",
       "      <th>RAD</th>\n",
       "      <th>TAX</th>\n",
       "      <th>PTRATIO</th>\n",
       "      <th>B</th>\n",
       "      <th>LSTAT</th>\n",
       "      <th>MEDV</th>\n",
       "    </tr>\n",
       "  </thead>\n",
       "  <tbody>\n",
       "    <tr>\n",
       "      <th>0</th>\n",
       "      <td>0.00632</td>\n",
       "      <td>18.0</td>\n",
       "      <td>2.31</td>\n",
       "      <td>0.0</td>\n",
       "      <td>0.538</td>\n",
       "      <td>6.575</td>\n",
       "      <td>65.2</td>\n",
       "      <td>4.0900</td>\n",
       "      <td>1.0</td>\n",
       "      <td>296.0</td>\n",
       "      <td>15.3</td>\n",
       "      <td>396.90</td>\n",
       "      <td>4.98</td>\n",
       "      <td>24.0</td>\n",
       "    </tr>\n",
       "    <tr>\n",
       "      <th>1</th>\n",
       "      <td>0.02731</td>\n",
       "      <td>0.0</td>\n",
       "      <td>7.07</td>\n",
       "      <td>0.0</td>\n",
       "      <td>0.469</td>\n",
       "      <td>6.421</td>\n",
       "      <td>78.9</td>\n",
       "      <td>4.9671</td>\n",
       "      <td>2.0</td>\n",
       "      <td>242.0</td>\n",
       "      <td>17.8</td>\n",
       "      <td>396.90</td>\n",
       "      <td>9.14</td>\n",
       "      <td>21.6</td>\n",
       "    </tr>\n",
       "    <tr>\n",
       "      <th>2</th>\n",
       "      <td>0.02729</td>\n",
       "      <td>0.0</td>\n",
       "      <td>7.07</td>\n",
       "      <td>0.0</td>\n",
       "      <td>0.469</td>\n",
       "      <td>7.185</td>\n",
       "      <td>61.1</td>\n",
       "      <td>4.9671</td>\n",
       "      <td>2.0</td>\n",
       "      <td>242.0</td>\n",
       "      <td>17.8</td>\n",
       "      <td>392.83</td>\n",
       "      <td>4.03</td>\n",
       "      <td>34.7</td>\n",
       "    </tr>\n",
       "    <tr>\n",
       "      <th>3</th>\n",
       "      <td>0.03237</td>\n",
       "      <td>0.0</td>\n",
       "      <td>2.18</td>\n",
       "      <td>0.0</td>\n",
       "      <td>0.458</td>\n",
       "      <td>6.998</td>\n",
       "      <td>45.8</td>\n",
       "      <td>6.0622</td>\n",
       "      <td>3.0</td>\n",
       "      <td>222.0</td>\n",
       "      <td>18.7</td>\n",
       "      <td>394.63</td>\n",
       "      <td>2.94</td>\n",
       "      <td>33.4</td>\n",
       "    </tr>\n",
       "    <tr>\n",
       "      <th>4</th>\n",
       "      <td>0.06905</td>\n",
       "      <td>0.0</td>\n",
       "      <td>2.18</td>\n",
       "      <td>0.0</td>\n",
       "      <td>0.458</td>\n",
       "      <td>7.147</td>\n",
       "      <td>54.2</td>\n",
       "      <td>6.0622</td>\n",
       "      <td>3.0</td>\n",
       "      <td>222.0</td>\n",
       "      <td>18.7</td>\n",
       "      <td>396.90</td>\n",
       "      <td>5.33</td>\n",
       "      <td>36.2</td>\n",
       "    </tr>\n",
       "  </tbody>\n",
       "</table>\n",
       "</div>"
      ],
      "text/plain": [
       "      CRIM    ZN  INDUS  CHAS    NOX     RM   AGE     DIS  RAD    TAX  \\\n",
       "0  0.00632  18.0   2.31   0.0  0.538  6.575  65.2  4.0900  1.0  296.0   \n",
       "1  0.02731   0.0   7.07   0.0  0.469  6.421  78.9  4.9671  2.0  242.0   \n",
       "2  0.02729   0.0   7.07   0.0  0.469  7.185  61.1  4.9671  2.0  242.0   \n",
       "3  0.03237   0.0   2.18   0.0  0.458  6.998  45.8  6.0622  3.0  222.0   \n",
       "4  0.06905   0.0   2.18   0.0  0.458  7.147  54.2  6.0622  3.0  222.0   \n",
       "\n",
       "   PTRATIO       B  LSTAT  MEDV  \n",
       "0     15.3  396.90   4.98  24.0  \n",
       "1     17.8  396.90   9.14  21.6  \n",
       "2     17.8  392.83   4.03  34.7  \n",
       "3     18.7  394.63   2.94  33.4  \n",
       "4     18.7  396.90   5.33  36.2  "
      ]
     },
     "execution_count": 2,
     "metadata": {},
     "output_type": "execute_result"
    }
   ],
   "source": [
    "boston_df.head()"
   ]
  },
  {
   "cell_type": "markdown",
   "metadata": {},
   "source": [
    "データ項目の説明\n",
    "\n",
    "* CRIM：犯罪発生率\n",
    "* ZN：25000平方フィート以上の住宅区画の割合\n",
    "* INDUS：非小売業種の土地面積の割合\n",
    "* CHAS：チャールズ川沿いかを表すダミー変数\n",
    "* NOX：窒素酸化物の濃度\n",
    "* RM：平均部屋数\n",
    "* AGE：1940年より前に建てられた建物の割合\n",
    "* DIS：5つのボストンの雇用施設への重み付き距離\n",
    "* RAD：高速道路へのアクセスのしやすさ\n",
    "* TAX：10000ドルあたりの不動産税率\n",
    "* PTRATIO：生徒と教師の割合\n",
    "* B：黒人の割合\n",
    "* LSTAT：低所得者の割合\n",
    "* MEDV：住宅価格の中央値"
   ]
  },
  {
   "cell_type": "markdown",
   "metadata": {},
   "source": [
    "RM：平均部屋数とMEDV：住宅価格の関係を見る"
   ]
  },
  {
   "cell_type": "code",
   "execution_count": 3,
   "metadata": {},
   "outputs": [
    {
     "data": {
      "text/plain": [
       "<function matplotlib.pyplot.show(close=None, block=None)>"
      ]
     },
     "execution_count": 3,
     "metadata": {},
     "output_type": "execute_result"
    },
    {
     "data": {
      "image/png": "[encoded data removed]",
      "text/plain": [
       "<Figure size 432x288 with 1 Axes>"
      ]
     },
     "metadata": {
      "needs_background": "light"
     },
     "output_type": "display_data"
    }
   ],
   "source": [
    "import matplotlib.pyplot as plt\n",
    "%matplotlib inline\n",
    "plt.scatter(boston_df[\"RM\"], boston_df[\"MEDV\"])\n",
    "\n",
    "plt.title(\"Scatter Plot of RM vs MEDV\")\n",
    "plt.xlabel(\"Average number of rooms [RM]\")\n",
    "plt.ylabel(\"Price in $1000\\'s [MEDV]\")\n",
    "plt.grid()\n",
    "\n",
    "plt.show"
   ]
  },
  {
   "cell_type": "markdown",
   "metadata": {},
   "source": [
    "Pandasのcorrメソッドで平均部屋数と住宅価格の相関係数を算出する"
   ]
  },
  {
   "cell_type": "code",
   "execution_count": 4,
   "metadata": {},
   "outputs": [
    {
     "data": {
      "text/html": [
       "<div>\n",
       "<style scoped>\n",
       "    .dataframe tbody tr th:only-of-type {\n",
       "        vertical-align: middle;\n",
       "    }\n",
       "\n",
       "    .dataframe tbody tr th {\n",
       "        vertical-align: top;\n",
       "    }\n",
       "\n",
       "    .dataframe thead th {\n",
       "        text-align: right;\n",
       "    }\n",
       "</style>\n",
       "<table border=\"1\" class=\"dataframe\">\n",
       "  <thead>\n",
       "    <tr style=\"text-align: right;\">\n",
       "      <th></th>\n",
       "      <th>RM</th>\n",
       "      <th>MEDV</th>\n",
       "    </tr>\n",
       "  </thead>\n",
       "  <tbody>\n",
       "    <tr>\n",
       "      <th>RM</th>\n",
       "      <td>1.00000</td>\n",
       "      <td>0.69536</td>\n",
       "    </tr>\n",
       "    <tr>\n",
       "      <th>MEDV</th>\n",
       "      <td>0.69536</td>\n",
       "      <td>1.00000</td>\n",
       "    </tr>\n",
       "  </tbody>\n",
       "</table>\n",
       "</div>"
      ],
      "text/plain": [
       "           RM     MEDV\n",
       "RM    1.00000  0.69536\n",
       "MEDV  0.69536  1.00000"
      ]
     },
     "execution_count": 4,
     "metadata": {},
     "output_type": "execute_result"
    }
   ],
   "source": [
    "boston_df[[\"RM\", \"MEDV\"]].corr()"
   ]
  },
  {
   "cell_type": "markdown",
   "metadata": {},
   "source": [
    "RMとMEDVの間には、相関係数が0.69536、つまり約0.7程度の正の相関があることが分かった"
   ]
  },
  {
   "cell_type": "markdown",
   "metadata": {},
   "source": [
    "### 線形回帰モデルの構築"
   ]
  },
  {
   "cell_type": "markdown",
   "metadata": {},
   "source": [
    "`fit` メソッドで重みを学習することで、線形回帰モデルを構築する。"
   ]
  },
  {
   "cell_type": "code",
   "execution_count": 5,
   "metadata": {},
   "outputs": [
    {
     "data": {
      "text/plain": [
       "LinearRegression()"
      ]
     },
     "execution_count": 5,
     "metadata": {},
     "output_type": "execute_result"
    }
   ],
   "source": [
    "from sklearn.linear_model import LinearRegression\n",
    "\n",
    "lr = LinearRegression()\n",
    "\n",
    "X = boston_df[[\"RM\"]].values\n",
    "Y = boston_df[\"MEDV\"].values\n",
    "\n",
    "lr.fit(X,Y)"
   ]
  },
  {
   "cell_type": "markdown",
   "metadata": {},
   "source": [
    "学習で得られた、線形モデルの切片 `w0` は `intercept_` 属性に、説明変数の係数 `w1` は`coef_` 属性に格納される。実際に確認する。"
   ]
  },
  {
   "cell_type": "code",
   "execution_count": 6,
   "metadata": {},
   "outputs": [
    {
     "name": "stdout",
     "output_type": "stream",
     "text": [
      "coefficient =  9.10210898118031\n",
      "intercept =  -34.67062077643857\n"
     ]
    }
   ],
   "source": [
    "print('coefficient = ', lr.coef_[0])\n",
    "print('intercept = ', lr.intercept_)"
   ]
  },
  {
   "cell_type": "markdown",
   "metadata": {},
   "source": [
    "学習で得られた切片と係数を利用して、回帰直線を引く。"
   ]
  },
  {
   "cell_type": "code",
   "execution_count": 7,
   "metadata": {},
   "outputs": [
    {
     "data": {
      "image/png": "[encoded data removed]",
      "text/plain": [
       "<Figure size 432x288 with 1 Axes>"
      ]
     },
     "metadata": {
      "needs_background": "light"
     },
     "output_type": "display_data"
    }
   ],
   "source": [
    "plt.scatter(X, Y, color = 'blue')\n",
    "plt.plot(X, lr.predict(X), color = 'red')\n",
    "\n",
    "plt.title(\"Regression Line\")\n",
    "plt.xlabel(\"Average number of rooms [RM]\")\n",
    "plt.ylabel(\"Prices in $1000\\'s [MEDV]\")\n",
    "plt.grid()\n",
    "\n",
    "plt.show()"
   ]
  },
  {
   "cell_type": "markdown",
   "metadata": {},
   "source": [
    "### 回帰モデルの性能評価"
   ]
  },
  {
   "cell_type": "markdown",
   "metadata": {},
   "source": [
    "以下のコードでは、 `model_selection` の `train_test_split` を利用して、データを学習用と検証用に7:3の割合で分割し、学習データを用いて線形モデルを構築する。"
   ]
  },
  {
   "cell_type": "code",
   "execution_count": 8,
   "metadata": {},
   "outputs": [
    {
     "data": {
      "text/plain": [
       "LinearRegression()"
      ]
     },
     "execution_count": 8,
     "metadata": {},
     "output_type": "execute_result"
    }
   ],
   "source": [
    "from sklearn.model_selection import train_test_split\n",
    "X_train, X_test, Y_train, Y_test = train_test_split(X, Y, train_size = 0.7, test_size = 0.3, random_state = 0)\n",
    "\n",
    "lr = LinearRegression()\n",
    "lr.fit(X_train, Y_train)"
   ]
  },
  {
   "cell_type": "markdown",
   "metadata": {},
   "source": [
    "線形回帰モデルの性能評価には以下の方法・指標を利用する\n",
    "\n",
    "* 残差プロット：残差(=目的変数の真値と予測値の差分)を可視化\n",
    "* 平均二乗誤差：残差平方和をデータ数で正規化した値\n",
    "* 決定係数：相関係数の二乗\n",
    "\n",
    "予測精度の良い線形モデルの残差プロットは、0を中心にばらついたものになる。残差プロットに何かパターンが見られる場合は線形モデルで説明しきれない情報があることが示唆される。\n",
    "\n",
    "以下のコードは残差プロットを描画する"
   ]
  },
  {
   "cell_type": "code",
   "execution_count": 9,
   "metadata": {},
   "outputs": [
    {
     "data": {
      "image/png": "[encoded data removed]",
      "text/plain": [
       "<Figure size 432x288 with 1 Axes>"
      ]
     },
     "metadata": {
      "needs_background": "light"
     },
     "output_type": "display_data"
    }
   ],
   "source": [
    "Y_pred = lr.predict(X_test)\n",
    "\n",
    "plt.scatter(Y_pred, Y_pred - Y_test, color = 'blue')\n",
    "plt.hlines(y = 0, xmin = -10, xmax = 50, color = 'black')\n",
    "plt.title('Residual Plot')\n",
    "plt.xlabel('Predicted Values')\n",
    "plt.ylabel('Residuals')\n",
    "plt.grid()\n",
    "\n",
    "plt.show()"
   ]
  },
  {
   "cell_type": "markdown",
   "metadata": {},
   "source": [
    "平均二乗誤差は、残差の平方和をデータ数で正規化したものであり、モデルの性能を数値化するのに役立つ。誤差が小さいほどモデルの性能はよいといえる。平均二乗誤差は `metrics` の `mean_squared_error` を利用することで算出できる。"
   ]
  },
  {
   "cell_type": "code",
   "execution_count": 10,
   "metadata": {},
   "outputs": [
    {
     "name": "stdout",
     "output_type": "stream",
     "text": [
      "MSE train data:  42.15765086312224\n",
      "MSE test data:  47.03304747975518\n"
     ]
    }
   ],
   "source": [
    "from sklearn.metrics import mean_squared_error\n",
    "\n",
    "Y_train_pred = lr.predict(X_train)\n",
    "print(\"MSE train data: \", mean_squared_error(Y_train, Y_train_pred))\n",
    "print(\"MSE test data: \", mean_squared_error(Y_test, Y_pred))"
   ]
  },
  {
   "cell_type": "markdown",
   "metadata": {},
   "source": [
    "学習データ、検証データのそれぞれを用いた時の平均二乗誤差を比較すると、検証データを用いた時の誤差のほうが大きい。このことから、構築した線形モデルは学習データにフィットしすぎている(= 過学習している)ことが示唆される。"
   ]
  },
  {
   "cell_type": "markdown",
   "metadata": {},
   "source": [
    "決定係数も、線形モデルの予測誤差を反映した指標で、値が大きいほど線形モデルがデータにフィットしているといえる。決定係数は `metrics` の `r2_score` を利用することで算出できる。また、 `LinearRegression` モデルの `score` メソッドでも算出できる。"
   ]
  },
  {
   "cell_type": "code",
   "execution_count": 11,
   "metadata": {},
   "outputs": [
    {
     "name": "stdout",
     "output_type": "stream",
     "text": [
      "r^2 train data:  0.5026497630040827\n",
      "r^2 test data:  0.43514364832115193\n"
     ]
    }
   ],
   "source": [
    "from sklearn.metrics import r2_score\n",
    "\n",
    "print('r^2 train data: ', r2_score(Y_train, Y_train_pred))\n",
    "print('r^2 test data: ', r2_score(Y_test, Y_pred))"
   ]
  },
  {
   "cell_type": "markdown",
   "metadata": {},
   "source": [
    "学習データ、検証データのそれぞれを用いた時の決定係数を比較すると、検証データを用いた時のほうが小さい。このことから、構築した線形モデルには過学習が起こっている可能性がある。"
   ]
  },
  {
   "cell_type": "markdown",
   "metadata": {},
   "source": [
    "# [機械学習の線形回帰問題をPythonで。scikit-learnのLinearRegressionクラスのサンプルなど。](https://arakan-pgm-ai.hatenablog.com/entry/2019/07/12/000000) に記載されているコードを実際に手を動かしながら実行していく"
   ]
  },
  {
   "cell_type": "markdown",
   "metadata": {},
   "source": [
    "ざっくりと回帰問題とは「入力データと出力データの組から対応する規則を学んで、道の入力データに対して適切な出力を予測できるようにする」"
   ]
  },
  {
   "cell_type": "markdown",
   "metadata": {},
   "source": [
    "決定係数とは「予測精度の客観的な指標」のこと。\n",
    "\n",
    "決定係数の求め方は下記の二つがある。\n",
    "\n",
    "* `linear_model.LinearRegression` クラスの `score()` を使う\n",
    "* `sklearn.metrics.r2_score()` を使う\n",
    "\n",
    "一つ目の方法は二つ目を呼び出しているため、結果は同じになる。"
   ]
  },
  {
   "cell_type": "markdown",
   "metadata": {},
   "source": [
    "学習と評価でエラーが出る場合がある。 `model.fit` などに渡す前に `reshape` をする必要がある。"
   ]
  },
  {
   "cell_type": "markdown",
   "metadata": {},
   "source": [
    "### サンプル1(単回帰一次式)"
   ]
  },
  {
   "cell_type": "code",
   "execution_count": 12,
   "metadata": {},
   "outputs": [],
   "source": [
    "import matplotlib.pyplot as plt\n",
    "import numpy as np\n",
    "from sklearn import linear_model\n",
    "from sklearn.metrics import r2_score"
   ]
  },
  {
   "cell_type": "code",
   "execution_count": 13,
   "metadata": {},
   "outputs": [],
   "source": [
    "# -2 ~ 2 の範囲で乱数を生成する\n",
    "x = np.random.rand(200, 1) * 4 - 2\n",
    "# ノイズは -5 ~ 5 の範囲で乱数を生成する\n",
    "noise = np.random.rand(200, 1) * 10 - 5\n",
    "# 正解の y を計算する y = 3x - 1\n",
    "true_y = x * 3 - 1\n",
    "# ノイズを加える\n",
    "y = true_y + noise"
   ]
  },
  {
   "cell_type": "code",
   "execution_count": 14,
   "metadata": {},
   "outputs": [],
   "source": [
    "# クラスオブジェクトの生成\n",
    "model = linear_model.LinearRegression()\n",
    "# 学習する(x, y)\n",
    "model.fit(x, y)\n",
    "# 予測する\n",
    "predict_y = model.predict(x)"
   ]
  },
  {
   "cell_type": "code",
   "execution_count": 15,
   "metadata": {},
   "outputs": [
    {
     "data": {
      "image/png": "[encoded data removed]",
      "text/plain": [
       "<Figure size 432x288 with 1 Axes>"
      ]
     },
     "metadata": {
      "needs_background": "light"
     },
     "output_type": "display_data"
    }
   ],
   "source": [
    "plt.scatter(x, y, marker=\"+\", color=\"b\")\n",
    "plt.scatter(x, predict_y, color=\"r\")\n",
    "plt.show()"
   ]
  },
  {
   "cell_type": "code",
   "execution_count": 16,
   "metadata": {},
   "outputs": [
    {
     "name": "stdout",
     "output_type": "stream",
     "text": [
      "0.9988848275552149\n",
      "0.9988848275552149\n"
     ]
    }
   ],
   "source": [
    "# 決定係数を計算する方法１\n",
    "r2 = model.score(x, true_y)\n",
    "print(r2)\n",
    "# 決定係数を計算する方法２\n",
    "r2_score = r2_score(true_y, predict_y)\n",
    "print(r2_score)"
   ]
  },
  {
   "cell_type": "markdown",
   "metadata": {},
   "source": [
    "### サンプル2(単回帰二次式)"
   ]
  },
  {
   "cell_type": "code",
   "execution_count": 17,
   "metadata": {},
   "outputs": [],
   "source": [
    "import numpy as np\n",
    "from sklearn import linear_model\n",
    "from sklearn.metrics import r2_score"
   ]
  },
  {
   "cell_type": "code",
   "execution_count": 18,
   "metadata": {},
   "outputs": [],
   "source": [
    "# -2 ~ 2 の範囲で乱数を生成する\n",
    "_x = np.random.rand(300) * 4 - 2\n",
    "# ノイズは -5 ~ 5 の範囲で乱数を生成する\n",
    "noise = np.random.rand(300) * 10 - 5\n",
    "# 正解を求める y = 3 x ** 2 + 1\n",
    "_true_y = 3 * _x ** 2 + 1\n",
    "# ノイズを加える\n",
    "_y = _true_y + noise\n",
    "# エラー回避のため reshape する\n",
    "x = np.reshape(_x, (-1, 1))\n",
    "y = np.reshape(_y, (-1, 1))\n",
    "true_y = np.reshape(_true_y, (-1, 1))"
   ]
  },
  {
   "cell_type": "code",
   "execution_count": 19,
   "metadata": {},
   "outputs": [],
   "source": [
    "# クラスインスタンスを生成\n",
    "model = linear_model.LinearRegression()\n",
    "# 学習する (xは二乗で与える)\n",
    "model.fit(x**2, y)\n",
    "# 予測する (xは二乗で与える)\n",
    "predict_y = model.predict(x**2)"
   ]
  },
  {
   "cell_type": "code",
   "execution_count": 20,
   "metadata": {},
   "outputs": [
    {
     "data": {
      "image/png": "[encoded data removed]",
      "text/plain": [
       "<Figure size 432x288 with 1 Axes>"
      ]
     },
     "metadata": {
      "needs_background": "light"
     },
     "output_type": "display_data"
    }
   ],
   "source": [
    "plt.scatter(x, y, marker=\"+\", color=\"b\")\n",
    "plt.scatter(x, predict_y, color=\"r\")\n",
    "plt.show()"
   ]
  },
  {
   "cell_type": "code",
   "execution_count": 21,
   "metadata": {},
   "outputs": [
    {
     "name": "stdout",
     "output_type": "stream",
     "text": [
      "0.9942372398213654\n",
      "0.9942372398213654\n"
     ]
    }
   ],
   "source": [
    "# 決定係数を求める方法1\n",
    "r2 = model.score(x**2, true_y)\n",
    "print(r2)\n",
    "# 決定係数を求める方法2\n",
    "r2_score = r2_score(true_y, predict_y)\n",
    "print(r2_score)"
   ]
  },
  {
   "cell_type": "code",
   "execution_count": 22,
   "metadata": {},
   "outputs": [
    {
     "name": "stdout",
     "output_type": "stream",
     "text": [
      "[[-8.74865081e-01]\n",
      " [-3.20819157e-01]\n",
      " [-1.00980514e+00]\n",
      " [ 1.51752269e+00]\n",
      " [-4.33373920e-01]\n",
      " [-7.57228089e-01]\n",
      " [-1.58175868e+00]\n",
      " [ 4.05660820e-01]\n",
      " [ 9.66342820e-01]\n",
      " [ 7.36595101e-01]\n",
      " [-7.53877638e-01]\n",
      " [ 4.82548394e-01]\n",
      " [ 1.50801586e-01]\n",
      " [ 1.20635118e+00]\n",
      " [ 1.07738158e+00]\n",
      " [-5.94033741e-01]\n",
      " [-2.44941482e-01]\n",
      " [-1.06031472e+00]\n",
      " [-8.89601515e-01]\n",
      " [ 4.74355931e-01]\n",
      " [ 1.37882403e+00]\n",
      " [ 8.66240562e-01]\n",
      " [-1.33744633e+00]\n",
      " [ 1.89399086e+00]\n",
      " [-7.57474154e-01]\n",
      " [ 4.32048997e-01]\n",
      " [-6.51932026e-02]\n",
      " [ 3.42333511e-01]\n",
      " [-4.32618409e-01]\n",
      " [-1.88358005e+00]\n",
      " [-1.64429125e+00]\n",
      " [ 6.15441796e-01]\n",
      " [-1.06786782e-01]\n",
      " [-1.65174815e-01]\n",
      " [ 6.09285439e-01]\n",
      " [-1.18627843e-01]\n",
      " [-2.46471310e-02]\n",
      " [ 3.37354260e-01]\n",
      " [-1.11494923e+00]\n",
      " [ 2.07283761e-01]\n",
      " [-1.86977823e+00]\n",
      " [-1.35201443e+00]\n",
      " [ 1.32606793e+00]\n",
      " [-1.93177552e+00]\n",
      " [-7.25677040e-01]\n",
      " [-1.06632754e+00]\n",
      " [ 1.57778158e+00]\n",
      " [ 3.09485657e-01]\n",
      " [-1.10735883e+00]\n",
      " [-1.83655472e+00]\n",
      " [-9.03177249e-01]\n",
      " [ 1.81413368e+00]\n",
      " [-1.46208272e-01]\n",
      " [ 1.85652440e+00]\n",
      " [ 1.09173620e+00]\n",
      " [ 3.73307756e-01]\n",
      " [-7.55953949e-01]\n",
      " [ 6.84083050e-01]\n",
      " [-1.31578204e+00]\n",
      " [-1.32111988e+00]\n",
      " [ 8.80496168e-01]\n",
      " [-1.54059072e+00]\n",
      " [-6.77706854e-01]\n",
      " [ 5.12433242e-01]\n",
      " [ 4.68660737e-01]\n",
      " [-6.53613087e-01]\n",
      " [-1.51065440e+00]\n",
      " [-9.41601892e-01]\n",
      " [-8.99667629e-01]\n",
      " [ 7.50118963e-01]\n",
      " [-5.32909423e-01]\n",
      " [-1.14471001e+00]\n",
      " [-1.95278528e+00]\n",
      " [-6.21605787e-01]\n",
      " [ 1.57104772e+00]\n",
      " [ 1.93653910e+00]\n",
      " [ 3.61501352e-01]\n",
      " [-1.09385962e+00]\n",
      " [ 1.84587731e+00]\n",
      " [ 5.92954985e-01]\n",
      " [-1.88855413e+00]\n",
      " [-1.94230777e+00]\n",
      " [ 1.91381762e+00]\n",
      " [-1.07696037e+00]\n",
      " [-1.61583816e+00]\n",
      " [ 1.75039622e+00]\n",
      " [ 6.18629402e-01]\n",
      " [-1.29820849e-01]\n",
      " [-4.03201395e-01]\n",
      " [-1.58832453e-01]\n",
      " [-7.95013551e-01]\n",
      " [-7.78440914e-01]\n",
      " [-2.15546777e-01]\n",
      " [ 1.06670706e+00]\n",
      " [ 1.24958281e+00]\n",
      " [-1.62873164e+00]\n",
      " [-1.77125555e+00]\n",
      " [ 4.71059157e-03]\n",
      " [-8.78232891e-01]\n",
      " [ 6.19902594e-01]\n",
      " [ 3.50942056e-01]\n",
      " [-1.38543493e+00]\n",
      " [ 1.64594027e-01]\n",
      " [-1.88249389e+00]\n",
      " [ 1.54136594e+00]\n",
      " [ 1.03914098e+00]\n",
      " [-1.56973416e+00]\n",
      " [ 1.50840258e+00]\n",
      " [ 1.25318836e-01]\n",
      " [ 3.06087972e-02]\n",
      " [ 1.34673741e+00]\n",
      " [ 1.72052450e-01]\n",
      " [-1.89636214e+00]\n",
      " [-1.16599724e+00]\n",
      " [ 6.10796161e-02]\n",
      " [ 1.81658914e+00]\n",
      " [ 9.78771761e-01]\n",
      " [ 1.25892587e+00]\n",
      " [-6.01475219e-03]\n",
      " [-1.52540474e+00]\n",
      " [ 7.64481957e-01]\n",
      " [-5.18277911e-02]\n",
      " [ 5.85600257e-01]\n",
      " [ 1.65063413e+00]\n",
      " [ 6.82293540e-01]\n",
      " [ 9.28972871e-01]\n",
      " [ 1.71233008e+00]\n",
      " [ 3.12111122e-01]\n",
      " [-3.10871953e-01]\n",
      " [-1.06093108e+00]\n",
      " [-1.08671195e+00]\n",
      " [-1.80209444e-03]\n",
      " [-1.25339159e+00]\n",
      " [ 5.14406639e-01]\n",
      " [ 3.83411547e-01]\n",
      " [ 8.29034225e-01]\n",
      " [-1.58437841e+00]\n",
      " [ 9.20572228e-01]\n",
      " [ 1.67343867e+00]\n",
      " [ 1.05161573e+00]\n",
      " [-5.56208396e-01]\n",
      " [-5.12304786e-01]\n",
      " [-1.57498252e+00]\n",
      " [-3.14128206e-01]\n",
      " [ 1.24444201e+00]\n",
      " [-8.21765474e-01]\n",
      " [ 9.96147626e-02]\n",
      " [-9.15988868e-01]\n",
      " [ 1.92226525e+00]\n",
      " [ 1.99269568e+00]\n",
      " [-4.54542637e-01]\n",
      " [-1.75863187e+00]\n",
      " [ 1.18674095e+00]\n",
      " [ 1.63741219e+00]\n",
      " [ 1.49067336e+00]\n",
      " [ 1.29834949e+00]\n",
      " [ 1.98920931e-01]\n",
      " [ 6.85752998e-02]\n",
      " [ 1.02835748e+00]\n",
      " [-1.57633449e+00]\n",
      " [ 1.26568069e+00]\n",
      " [ 7.63862304e-01]\n",
      " [ 1.67577581e+00]\n",
      " [ 1.79640440e+00]\n",
      " [-1.30414585e+00]\n",
      " [ 2.19760177e-01]\n",
      " [-9.24896713e-01]\n",
      " [ 5.76724881e-01]\n",
      " [-6.82518905e-02]\n",
      " [ 1.84188445e+00]\n",
      " [ 2.74982192e-01]\n",
      " [-1.84870471e+00]\n",
      " [ 1.10119661e+00]\n",
      " [ 9.28276930e-01]\n",
      " [-4.11530494e-01]\n",
      " [-1.30515478e+00]\n",
      " [-1.91323848e+00]\n",
      " [-6.19966708e-01]\n",
      " [-1.49218802e+00]\n",
      " [-5.81105413e-01]\n",
      " [ 9.80353821e-01]\n",
      " [ 3.66814936e-01]\n",
      " [-3.92413023e-01]\n",
      " [ 1.08874861e+00]\n",
      " [ 5.67249021e-02]\n",
      " [-1.95556003e-01]\n",
      " [-1.13921466e+00]\n",
      " [-1.24653251e+00]\n",
      " [-1.95304244e-01]\n",
      " [-1.60594156e+00]\n",
      " [ 6.92283164e-01]\n",
      " [ 1.93132963e+00]\n",
      " [ 1.08666969e+00]\n",
      " [ 1.81700465e+00]\n",
      " [-1.24383705e+00]\n",
      " [-1.18853691e+00]\n",
      " [-6.70903293e-01]\n",
      " [ 1.58629917e+00]\n",
      " [ 1.14022587e+00]\n",
      " [-7.78703248e-01]\n",
      " [-1.07273413e+00]\n",
      " [ 1.67226291e+00]\n",
      " [-1.69655657e+00]\n",
      " [ 1.96311226e+00]\n",
      " [-9.70906033e-01]\n",
      " [-1.02023852e+00]\n",
      " [-6.93544615e-01]\n",
      " [ 1.06431824e+00]\n",
      " [ 1.48345631e+00]\n",
      " [ 2.27629258e-02]\n",
      " [-6.18510663e-01]\n",
      " [-1.38617234e+00]\n",
      " [ 3.93588876e-02]\n",
      " [-6.55017981e-01]\n",
      " [ 1.82601273e+00]\n",
      " [ 9.44568243e-01]\n",
      " [ 1.16636960e+00]\n",
      " [ 1.94415129e+00]\n",
      " [ 8.84359711e-01]\n",
      " [ 1.58027657e+00]\n",
      " [ 1.31690282e-01]\n",
      " [-1.91597084e+00]\n",
      " [ 9.50818077e-01]\n",
      " [-1.16153465e+00]\n",
      " [ 5.81287745e-01]\n",
      " [-1.52555397e+00]\n",
      " [-1.52450588e-02]\n",
      " [-1.69512198e+00]\n",
      " [ 5.14186221e-02]\n",
      " [-1.21786503e+00]\n",
      " [-8.43133938e-01]\n",
      " [ 1.31598021e-01]\n",
      " [ 3.93526219e-01]\n",
      " [ 8.03967095e-01]\n",
      " [ 3.73421092e-01]\n",
      " [ 3.31021263e-01]\n",
      " [-1.74057336e+00]\n",
      " [-8.93452157e-01]\n",
      " [-6.77648625e-01]\n",
      " [ 4.07675460e-01]\n",
      " [-2.18159722e-01]\n",
      " [ 7.71037850e-01]\n",
      " [-1.64103400e+00]\n",
      " [ 7.40697325e-01]\n",
      " [ 1.97157905e+00]\n",
      " [ 9.43234352e-01]\n",
      " [-1.29903501e+00]\n",
      " [-2.18895677e-01]\n",
      " [ 7.60043258e-01]\n",
      " [-1.82475742e+00]\n",
      " [-1.58253214e+00]\n",
      " [-5.79043380e-01]\n",
      " [-1.92818603e+00]\n",
      " [ 1.22524637e+00]\n",
      " [-5.71256348e-02]\n",
      " [-6.89002245e-01]\n",
      " [ 1.04868362e+00]\n",
      " [-1.02897271e-01]\n",
      " [-1.69068541e+00]\n",
      " [-1.77017186e+00]\n",
      " [ 1.51051548e+00]\n",
      " [ 4.03405085e-02]\n",
      " [ 1.35454086e+00]\n",
      " [ 2.28997254e-01]\n",
      " [-1.33097487e-01]\n",
      " [ 1.58699877e+00]\n",
      " [ 1.82979952e+00]\n",
      " [ 1.15355493e+00]\n",
      " [ 4.68756015e-01]\n",
      " [-1.65355223e+00]\n",
      " [ 1.64774301e+00]\n",
      " [ 1.64050106e+00]\n",
      " [ 1.89151310e-01]\n",
      " [ 5.98430934e-01]\n",
      " [-1.76867535e+00]\n",
      " [ 1.34984122e+00]\n",
      " [-1.09273884e+00]\n",
      " [ 1.17886946e+00]\n",
      " [ 1.42575317e+00]\n",
      " [ 1.47538574e+00]\n",
      " [-1.07289693e+00]\n",
      " [ 1.00428575e+00]\n",
      " [ 1.16175918e+00]\n",
      " [-7.76127586e-01]\n",
      " [ 5.23170763e-01]\n",
      " [-1.73382870e+00]\n",
      " [ 1.50595414e+00]\n",
      " [-5.61414897e-01]\n",
      " [-1.67575171e+00]\n",
      " [-2.39959283e-01]\n",
      " [ 4.78489121e-01]\n",
      " [-1.07637485e+00]\n",
      " [ 5.37858876e-02]\n",
      " [ 9.01054201e-01]\n",
      " [ 6.83669232e-01]\n",
      " [ 2.99658704e-01]\n",
      " [ 3.06437077e-01]\n",
      " [ 1.96715539e+00]\n",
      " [ 9.98391615e-01]\n",
      " [-4.63037390e-01]]\n"
     ]
    }
   ],
   "source": [
    "print(x)"
   ]
  },
  {
   "cell_type": "code",
   "execution_count": 23,
   "metadata": {},
   "outputs": [
    {
     "name": "stdout",
     "output_type": "stream",
     "text": [
      "[[ 7.44874614e+00]\n",
      " [-1.81979781e+00]\n",
      " [ 3.62466209e+00]\n",
      " [ 1.24222159e+01]\n",
      " [-2.21059267e+00]\n",
      " [ 2.66092566e+00]\n",
      " [ 6.11477299e+00]\n",
      " [-1.24157329e+00]\n",
      " [ 7.28323806e+00]\n",
      " [ 3.30705860e-01]\n",
      " [ 5.66893252e+00]\n",
      " [ 2.71519309e+00]\n",
      " [-3.35452713e+00]\n",
      " [ 6.38023899e-01]\n",
      " [ 4.07483216e+00]\n",
      " [ 1.70691891e+00]\n",
      " [-2.15592311e+00]\n",
      " [ 3.36904803e+00]\n",
      " [ 2.67744928e+00]\n",
      " [ 5.05955612e+00]\n",
      " [ 8.73708651e+00]\n",
      " [-1.33640681e+00]\n",
      " [ 2.63784430e+00]\n",
      " [ 9.79822673e+00]\n",
      " [-2.15384876e+00]\n",
      " [-3.27890772e+00]\n",
      " [ 3.23100976e-01]\n",
      " [ 4.86104794e+00]\n",
      " [ 6.32497181e+00]\n",
      " [ 8.44890596e+00]\n",
      " [ 1.09879866e+01]\n",
      " [ 3.71263159e+00]\n",
      " [ 3.13007344e+00]\n",
      " [-3.70556649e+00]\n",
      " [ 4.51620565e+00]\n",
      " [ 8.70848457e-01]\n",
      " [ 9.15917268e-01]\n",
      " [-2.93518124e+00]\n",
      " [ 7.33666640e+00]\n",
      " [-1.40502977e+00]\n",
      " [ 7.97601319e+00]\n",
      " [ 8.35221394e+00]\n",
      " [ 8.29066570e+00]\n",
      " [ 1.37133356e+01]\n",
      " [ 1.85978025e+00]\n",
      " [-3.74512701e-01]\n",
      " [ 1.28850610e+01]\n",
      " [-3.35087761e+00]\n",
      " [ 1.20509863e+00]\n",
      " [ 1.52480369e+01]\n",
      " [ 7.87070493e-01]\n",
      " [ 1.51853890e+01]\n",
      " [ 2.23704006e+00]\n",
      " [ 1.62032863e+01]\n",
      " [ 7.28185062e+00]\n",
      " [ 1.28104088e+00]\n",
      " [-2.19760546e+00]\n",
      " [ 1.54920531e+00]\n",
      " [ 4.55559730e+00]\n",
      " [ 1.08399117e+01]\n",
      " [ 1.41641879e+00]\n",
      " [ 1.25289227e+01]\n",
      " [ 1.72873359e+00]\n",
      " [ 7.63076141e-01]\n",
      " [-2.70334924e+00]\n",
      " [-8.03569327e-01]\n",
      " [ 6.82786042e+00]\n",
      " [ 1.27265823e+00]\n",
      " [ 2.28002125e+00]\n",
      " [ 2.06713105e+00]\n",
      " [ 3.53625397e+00]\n",
      " [ 1.98060704e+00]\n",
      " [ 1.14665249e+01]\n",
      " [ 7.12642293e+00]\n",
      " [ 1.22547655e+01]\n",
      " [ 8.18870073e+00]\n",
      " [ 1.35132878e+00]\n",
      " [ 2.22942449e+00]\n",
      " [ 1.02865721e+01]\n",
      " [ 6.48219808e+00]\n",
      " [ 1.55169514e+01]\n",
      " [ 9.02864696e+00]\n",
      " [ 1.00848091e+01]\n",
      " [ 7.21871776e+00]\n",
      " [ 5.57120912e+00]\n",
      " [ 1.40554134e+01]\n",
      " [-2.11203858e+00]\n",
      " [-2.48248907e+00]\n",
      " [ 3.77813903e+00]\n",
      " [ 3.07020999e-01]\n",
      " [ 1.90970843e+00]\n",
      " [-4.63385648e-01]\n",
      " [-2.09393281e+00]\n",
      " [ 9.22538482e+00]\n",
      " [ 4.20363841e+00]\n",
      " [ 1.24398848e+01]\n",
      " [ 1.07436427e+01]\n",
      " [ 4.81302791e+00]\n",
      " [ 1.72285166e+00]\n",
      " [ 7.14795059e+00]\n",
      " [ 5.85459548e+00]\n",
      " [ 1.10130263e+01]\n",
      " [-5.76112308e-01]\n",
      " [ 1.21821362e+01]\n",
      " [ 6.03576459e+00]\n",
      " [ 5.26838760e+00]\n",
      " [ 1.17715531e+01]\n",
      " [ 1.08113724e+01]\n",
      " [-2.31263822e+00]\n",
      " [ 2.92860040e+00]\n",
      " [ 3.76004325e+00]\n",
      " [ 1.49710590e+00]\n",
      " [ 1.42472839e+01]\n",
      " [ 3.57474385e-01]\n",
      " [ 4.42767945e+00]\n",
      " [ 9.46853174e+00]\n",
      " [ 3.36622260e+00]\n",
      " [ 3.58420611e+00]\n",
      " [ 3.79238189e+00]\n",
      " [ 3.30822421e+00]\n",
      " [ 1.03256886e+00]\n",
      " [ 5.69707424e-01]\n",
      " [ 4.62880500e+00]\n",
      " [ 8.77585605e+00]\n",
      " [ 1.66719651e+00]\n",
      " [-5.11097430e-01]\n",
      " [ 6.22857476e+00]\n",
      " [-1.11071168e+00]\n",
      " [ 1.38080552e+00]\n",
      " [ 1.92476126e+00]\n",
      " [ 7.75823661e+00]\n",
      " [-1.09163434e+00]\n",
      " [ 1.01225162e+01]\n",
      " [ 5.53670020e-01]\n",
      " [-2.12308451e+00]\n",
      " [-1.71798465e+00]\n",
      " [ 7.74836673e+00]\n",
      " [ 6.81182699e+00]\n",
      " [ 1.17986935e+01]\n",
      " [-5.96046719e-01]\n",
      " [ 3.64548439e+00]\n",
      " [-1.80000821e+00]\n",
      " [ 1.16713115e+01]\n",
      " [ 6.25122554e+00]\n",
      " [ 9.95500426e+00]\n",
      " [ 5.90027704e+00]\n",
      " [ 5.48462685e+00]\n",
      " [ 6.01660522e+00]\n",
      " [ 1.38393912e+01]\n",
      " [ 1.60115273e+01]\n",
      " [-3.85032756e-01]\n",
      " [ 1.31963435e+01]\n",
      " [ 3.87207140e+00]\n",
      " [ 8.14449106e+00]\n",
      " [ 7.73642222e+00]\n",
      " [ 7.29306078e+00]\n",
      " [-5.61099796e-01]\n",
      " [-3.32884826e+00]\n",
      " [ 6.47967600e+00]\n",
      " [ 3.95859701e+00]\n",
      " [ 4.15753575e+00]\n",
      " [-4.38823865e-01]\n",
      " [ 1.05214950e+01]\n",
      " [ 1.54071297e+01]\n",
      " [ 7.21903269e+00]\n",
      " [-1.26980101e+00]\n",
      " [-2.00919596e-01]\n",
      " [-2.32548453e+00]\n",
      " [ 8.19363297e-01]\n",
      " [ 6.34924388e+00]\n",
      " [ 1.25549078e+00]\n",
      " [ 1.60112435e+01]\n",
      " [ 2.32268365e+00]\n",
      " [-5.18870051e-01]\n",
      " [ 5.93385739e+00]\n",
      " [ 3.83494455e+00]\n",
      " [ 9.15961692e+00]\n",
      " [ 6.26599486e+00]\n",
      " [ 5.68275499e+00]\n",
      " [ 6.48784319e+00]\n",
      " [ 7.75316756e+00]\n",
      " [ 1.19442003e+00]\n",
      " [ 5.06667923e+00]\n",
      " [ 7.44850545e+00]\n",
      " [-1.35623449e+00]\n",
      " [ 5.18451781e+00]\n",
      " [ 1.63689535e+00]\n",
      " [ 1.29964754e+00]\n",
      " [ 5.91987269e+00]\n",
      " [ 6.44265723e+00]\n",
      " [ 7.19636963e+00]\n",
      " [ 1.26940511e+01]\n",
      " [ 7.26433786e+00]\n",
      " [ 9.16544690e+00]\n",
      " [ 9.68261661e+00]\n",
      " [ 9.23180777e+00]\n",
      " [ 2.81789114e+00]\n",
      " [ 8.74474802e+00]\n",
      " [ 7.72924970e+00]\n",
      " [ 7.99360650e-01]\n",
      " [ 1.68657168e-01]\n",
      " [ 1.05298027e+01]\n",
      " [ 6.86653802e+00]\n",
      " [ 1.55040786e+01]\n",
      " [ 5.39799058e+00]\n",
      " [ 5.90203465e+00]\n",
      " [ 3.79683139e+00]\n",
      " [ 5.12852177e+00]\n",
      " [ 6.70222061e+00]\n",
      " [-1.36262190e+00]\n",
      " [ 2.31380322e+00]\n",
      " [ 7.75700187e+00]\n",
      " [ 1.25067257e+00]\n",
      " [-1.78027848e-01]\n",
      " [ 6.73999749e+00]\n",
      " [ 1.55564555e+00]\n",
      " [ 9.37493091e-01]\n",
      " [ 1.42051704e+01]\n",
      " [ 1.46062947e+00]\n",
      " [ 1.10753000e+01]\n",
      " [ 1.43763131e+00]\n",
      " [ 1.40657194e+01]\n",
      " [ 1.14810266e-02]\n",
      " [ 2.85024497e+00]\n",
      " [ 9.09668793e-01]\n",
      " [ 3.52205444e+00]\n",
      " [-3.46519171e+00]\n",
      " [ 9.38629277e+00]\n",
      " [ 1.29303012e+00]\n",
      " [ 7.51202818e+00]\n",
      " [ 5.83929213e+00]\n",
      " [ 3.69927042e+00]\n",
      " [-2.29681105e+00]\n",
      " [ 3.66275018e+00]\n",
      " [-1.55057796e+00]\n",
      " [-1.68126347e+00]\n",
      " [ 6.09164955e+00]\n",
      " [ 4.58525850e+00]\n",
      " [ 1.63868621e+00]\n",
      " [ 4.97994826e+00]\n",
      " [ 3.92003091e+00]\n",
      " [ 2.89520220e-01]\n",
      " [ 7.92341062e+00]\n",
      " [ 1.76139400e+00]\n",
      " [ 1.57288542e+01]\n",
      " [ 9.62535707e-01]\n",
      " [ 5.07070644e+00]\n",
      " [-3.69557900e+00]\n",
      " [-1.11239734e+00]\n",
      " [ 1.26789085e+01]\n",
      " [ 1.06262532e+01]\n",
      " [ 6.00629162e+00]\n",
      " [ 1.19241140e+01]\n",
      " [ 9.86528526e+00]\n",
      " [ 2.11838255e+00]\n",
      " [ 3.88763987e+00]\n",
      " [ 5.57578621e-01]\n",
      " [ 4.62165962e+00]\n",
      " [ 1.14308386e+01]\n",
      " [ 1.48036196e+01]\n",
      " [ 9.65852339e+00]\n",
      " [ 1.70882682e+00]\n",
      " [ 1.11991069e+01]\n",
      " [-8.41694338e-01]\n",
      " [ 1.79818290e+00]\n",
      " [ 5.49597998e+00]\n",
      " [ 1.53409583e+01]\n",
      " [ 6.94616816e+00]\n",
      " [ 3.25999222e+00]\n",
      " [ 9.88622142e+00]\n",
      " [ 8.40204916e+00]\n",
      " [ 8.43668385e+00]\n",
      " [ 4.33274544e+00]\n",
      " [ 3.49961528e+00]\n",
      " [ 8.67691115e+00]\n",
      " [ 2.73820044e+00]\n",
      " [ 3.77845337e+00]\n",
      " [ 7.93920759e+00]\n",
      " [ 3.13352574e+00]\n",
      " [ 1.10172046e+01]\n",
      " [-2.67810530e-01]\n",
      " [ 8.78672648e+00]\n",
      " [ 8.81260413e+00]\n",
      " [ 6.76510709e+00]\n",
      " [ 5.20765210e+00]\n",
      " [ 1.32245584e+01]\n",
      " [ 6.06424763e+00]\n",
      " [ 4.13764559e+00]\n",
      " [ 9.97216871e+00]\n",
      " [ 8.27323213e-01]\n",
      " [ 4.39487618e+00]\n",
      " [ 4.06673032e+00]\n",
      " [ 1.60035511e+00]\n",
      " [-9.09182478e-01]\n",
      " [ 4.47062761e+00]\n",
      " [ 3.90808079e-01]\n",
      " [ 3.38506708e+00]\n",
      " [ 1.71532066e+01]\n",
      " [ 2.00159685e+00]\n",
      " [ 4.70486132e-01]]\n"
     ]
    }
   ],
   "source": [
    "print(y)"
   ]
  },
  {
   "cell_type": "markdown",
   "metadata": {},
   "source": [
    "# [Pythonでデータ分析：非線形効果を導入](http://tekenuko.hatenablog.com/entry/2016/09/19/193520) に記載されているコードを実際に手を動かしながら実行していく"
   ]
  },
  {
   "cell_type": "code",
   "execution_count": 24,
   "metadata": {},
   "outputs": [],
   "source": [
    "# sklearnに入っているボストンのデータセットを利用\n",
    "\n",
    "# 必要なライブラリのインポート\n",
    "import numpy as np\n",
    "import pandas as pd\n",
    "from pandas import DataFrame\n",
    "from sklearn.datasets import load_boston\n",
    "\n",
    "# データのロード・マージ\n",
    "boston = load_boston()\n",
    "df = DataFrame(boston.data, columns = boston.feature_names)\n",
    "df['MEDV'] = np.array(boston.target)"
   ]
  },
  {
   "cell_type": "code",
   "execution_count": 25,
   "metadata": {},
   "outputs": [],
   "source": [
    "## 非線形効果：多項式\n",
    "\n",
    "# 説明変数\n",
    "X = df.loc[:, ['LSTAT']].values\n",
    "# 目的変数\n",
    "y = df.loc[:, 'MEDV'].values\n",
    "# モデルのインスタンス生成\n",
    "from sklearn.linear_model import LinearRegression\n",
    "mod = LinearRegression()"
   ]
  },
  {
   "cell_type": "markdown",
   "metadata": {},
   "source": [
    "多項式近似にすることで実際に変更するのは、変数加工の部分。したがって、自分で二次・三次の変数を作成し、それを代入することが実際にすることである。\n",
    "\n",
    "scikit-learnには非線形の変数を加工する機能があるので、それを利用する。"
   ]
  },
  {
   "cell_type": "code",
   "execution_count": 26,
   "metadata": {},
   "outputs": [],
   "source": [
    "# 多項式の変数加工は、下記のメソッドを呼び出して行う\n",
    "from sklearn.preprocessing import PolynomialFeatures\n",
    "\n",
    "# 二次変数を作成するインスタンス\n",
    "quadratic = PolynomialFeatures(degree = 2)\n",
    "# 三次変数を作成するインスタンス\n",
    "cubic = PolynomialFeatures(degree = 3)\n",
    "# 変数作成\n",
    "X_quad = quadratic.fit_transform(X)\n",
    "X_cubic = cubic.fit_transform(X)"
   ]
  },
  {
   "cell_type": "markdown",
   "metadata": {},
   "source": [
    "多項式変数の作成をしたので、\n",
    "* 線形回帰モデル\n",
    "* 二次の項を追加したモデル\n",
    "* 三次の項を追加したモデル\n",
    "\n",
    "を作成する"
   ]
  },
  {
   "cell_type": "code",
   "execution_count": 27,
   "metadata": {},
   "outputs": [],
   "source": [
    "# モデル用に変数を作成\n",
    "X_fit = np.arange(X.min(), X.max(), 1)[:, np.newaxis]\n",
    "\n",
    "# 線形回帰モデル、予測値、R^2を評価\n",
    "mod_lin = mod.fit(X, y)\n",
    "y_lin_fit = mod_lin.predict(X_fit)\n",
    "r2_lin = mod.score(X, y)\n",
    "\n",
    "# 二次の項を追加、予測値、R^2を評価\n",
    "mod_quad = mod.fit(X_quad, y)\n",
    "y_quad_fit = mod_quad.predict(quadratic.fit_transform(X_fit))\n",
    "r2_quad = mod.score(X_quad, y)\n",
    "\n",
    "# 三次の項を追加、予測値、R^2を評価\n",
    "mod_cubic = mod.fit(X_cubic, y)\n",
    "y_cubic_fit = mod_cubic.predict(cubic.fit_transform(X_fit))\n",
    "r2_cubic = mod.score(X_cubic, y)"
   ]
  },
  {
   "cell_type": "code",
   "execution_count": 28,
   "metadata": {},
   "outputs": [
    {
     "data": {
      "image/png": "[encoded data removed]",
      "text/plain": [
       "<Figure size 432x288 with 1 Axes>"
      ]
     },
     "metadata": {
      "needs_background": "light"
     },
     "output_type": "display_data"
    }
   ],
   "source": [
    "# 各モデルの結果・モデル式をプロット\n",
    "\n",
    "# データ店をプロット\n",
    "plt.scatter(X, y, label = 'Training points', color = 'lightgray')\n",
    "\n",
    "# 線形モデルのモデル式\n",
    "plt.plot(X_fit, y_lin_fit, label = 'linear(d = 1), $R^2=%.2f$' % r2_lin, color = 'blue', lw = 2, linestyle = ':')\n",
    "\n",
    "# 二次モデルのモデル式\n",
    "plt.plot(X_fit, y_quad_fit, label = 'quadratic(d = 2), $R^2%.2f$' % r2_quad, color = 'red', lw = 2, linestyle = '-')\n",
    "\n",
    "# 三次モデルのモデル式\n",
    "plt.plot(X_fit, y_cubic_fit, label = 'cubic (d = 3), $R^2%.2f$' % r2_cubic, color = 'green', lw = 2, linestyle = '--')\n",
    "\n",
    "plt.xlabel('LSTAT')\n",
    "plt.ylabel('MEDV')\n",
    "plt.legend(loc = 'upper right')\n",
    "plt.show()"
   ]
  },
  {
   "cell_type": "code",
   "execution_count": 29,
   "metadata": {},
   "outputs": [],
   "source": [
    "# 学習用データと検証用データに分割して性能を判断する\n",
    "\n",
    "# 必要なメソッドのインポート\n",
    "from sklearn.model_selection import train_test_split\n",
    "\n",
    "# 学習用：検証用＝７：３に分割\n",
    "(X_train, X_test, y_train, y_test) = train_test_split(X, y ,test_size = 0.3, random_state = 666)\n",
    "(X_quad_train, X_quad_test, y_train, y_test) = train_test_split(X_quad, y , test_size = 0.3, random_state = 666)\n",
    "(X_cubic_train, X_cubic_test, y_train, y_test) = train_test_split(X_cubic, y , test_size = 0.3, random_state = 666)"
   ]
  },
  {
   "cell_type": "code",
   "execution_count": 30,
   "metadata": {},
   "outputs": [
    {
     "name": "stdout",
     "output_type": "stream",
     "text": [
      "MSE Train : 42.126, Test : 30.120\n",
      "R^2 Train : 0.532, Test : 0.578\n"
     ]
    }
   ],
   "source": [
    "# それぞれのモデルでのMSE(平均二乗誤差)とR^2は次の通り\n",
    "\n",
    "## 線形モデル\n",
    "# モデル作成\n",
    "mod.fit(X_train, y_train)\n",
    "y_train_pred = mod.predict(X_train)\n",
    "y_test_pred = mod.predict(X_test)\n",
    "\n",
    "from sklearn.metrics import mean_squared_error\n",
    "\n",
    "# 学習用、検証用データに関して平均二乗誤差を出力\n",
    "print('MSE Train : %.3f, Test : %.3f' % (mean_squared_error(y_train, y_train_pred), mean_squared_error(y_test, y_test_pred)))\n",
    "# 学習用、検証用データに関してR^2を出力\n",
    "print('R^2 Train : %.3f, Test : %.3f' % (mod.score(X_train, y_train), mod.score(X_test, y_test)))\n"
   ]
  },
  {
   "cell_type": "code",
   "execution_count": 31,
   "metadata": {},
   "outputs": [
    {
     "ename": "ValueError",
     "evalue": "matmul: Input operand 1 has a mismatch in its core dimension 0, with gufunc signature (n?,k),(k,m?)->(n?,m?) (size 1 is different from 3)",
     "output_type": "error",
     "traceback": [
      "\u001b[0;31m---------------------------------------------------------------------------\u001b[0m",
      "\u001b[0;31mValueError\u001b[0m                                Traceback (most recent call last)",
      "\u001b[0;32m<ipython-input-31-34dd7f39c10f>\u001b[0m in \u001b[0;36m<module>\u001b[0;34m\u001b[0m\n\u001b[1;32m      2\u001b[0m \u001b[0;31m# モデル作成\u001b[0m\u001b[0;34m\u001b[0m\u001b[0;34m\u001b[0m\u001b[0;34m\u001b[0m\u001b[0m\n\u001b[1;32m      3\u001b[0m \u001b[0mmod\u001b[0m\u001b[0;34m.\u001b[0m\u001b[0mfit\u001b[0m\u001b[0;34m(\u001b[0m\u001b[0mX_train\u001b[0m\u001b[0;34m,\u001b[0m \u001b[0my_train\u001b[0m\u001b[0;34m)\u001b[0m\u001b[0;34m\u001b[0m\u001b[0;34m\u001b[0m\u001b[0m\n\u001b[0;32m----> 4\u001b[0;31m \u001b[0my_train_pred\u001b[0m \u001b[0;34m=\u001b[0m \u001b[0mmod\u001b[0m\u001b[0;34m.\u001b[0m\u001b[0mpredict\u001b[0m\u001b[0;34m(\u001b[0m\u001b[0mX_quad_train\u001b[0m\u001b[0;34m)\u001b[0m\u001b[0;34m\u001b[0m\u001b[0;34m\u001b[0m\u001b[0m\n\u001b[0m\u001b[1;32m      5\u001b[0m \u001b[0my_test_pred\u001b[0m \u001b[0;34m=\u001b[0m \u001b[0mmod\u001b[0m\u001b[0;34m.\u001b[0m\u001b[0mpredict\u001b[0m\u001b[0;34m(\u001b[0m\u001b[0mX_quad_test\u001b[0m\u001b[0;34m)\u001b[0m\u001b[0;34m\u001b[0m\u001b[0;34m\u001b[0m\u001b[0m\n\u001b[1;32m      6\u001b[0m \u001b[0;31m# 必要なメソッドのインポート\u001b[0m\u001b[0;34m\u001b[0m\u001b[0;34m\u001b[0m\u001b[0;34m\u001b[0m\u001b[0m\n",
      "\u001b[0;32m/home/linuxbrew/.linuxbrew/opt/python@3.8/lib/python3.8/site-packages/sklearn/linear_model/_base.py\u001b[0m in \u001b[0;36mpredict\u001b[0;34m(self, X)\u001b[0m\n\u001b[1;32m    234\u001b[0m             \u001b[0mReturns\u001b[0m \u001b[0mpredicted\u001b[0m \u001b[0mvalues\u001b[0m\u001b[0;34m.\u001b[0m\u001b[0;34m\u001b[0m\u001b[0;34m\u001b[0m\u001b[0m\n\u001b[1;32m    235\u001b[0m         \"\"\"\n\u001b[0;32m--> 236\u001b[0;31m         \u001b[0;32mreturn\u001b[0m \u001b[0mself\u001b[0m\u001b[0;34m.\u001b[0m\u001b[0m_decision_function\u001b[0m\u001b[0;34m(\u001b[0m\u001b[0mX\u001b[0m\u001b[0;34m)\u001b[0m\u001b[0;34m\u001b[0m\u001b[0;34m\u001b[0m\u001b[0m\n\u001b[0m\u001b[1;32m    237\u001b[0m \u001b[0;34m\u001b[0m\u001b[0m\n\u001b[1;32m    238\u001b[0m     \u001b[0m_preprocess_data\u001b[0m \u001b[0;34m=\u001b[0m \u001b[0mstaticmethod\u001b[0m\u001b[0;34m(\u001b[0m\u001b[0m_preprocess_data\u001b[0m\u001b[0;34m)\u001b[0m\u001b[0;34m\u001b[0m\u001b[0;34m\u001b[0m\u001b[0m\n",
      "\u001b[0;32m/home/linuxbrew/.linuxbrew/opt/python@3.8/lib/python3.8/site-packages/sklearn/linear_model/_base.py\u001b[0m in \u001b[0;36m_decision_function\u001b[0;34m(self, X)\u001b[0m\n\u001b[1;32m    217\u001b[0m \u001b[0;34m\u001b[0m\u001b[0m\n\u001b[1;32m    218\u001b[0m         \u001b[0mX\u001b[0m \u001b[0;34m=\u001b[0m \u001b[0mcheck_array\u001b[0m\u001b[0;34m(\u001b[0m\u001b[0mX\u001b[0m\u001b[0;34m,\u001b[0m \u001b[0maccept_sparse\u001b[0m\u001b[0;34m=\u001b[0m\u001b[0;34m[\u001b[0m\u001b[0;34m'csr'\u001b[0m\u001b[0;34m,\u001b[0m \u001b[0;34m'csc'\u001b[0m\u001b[0;34m,\u001b[0m \u001b[0;34m'coo'\u001b[0m\u001b[0;34m]\u001b[0m\u001b[0;34m)\u001b[0m\u001b[0;34m\u001b[0m\u001b[0;34m\u001b[0m\u001b[0m\n\u001b[0;32m--> 219\u001b[0;31m         return safe_sparse_dot(X, self.coef_.T,\n\u001b[0m\u001b[1;32m    220\u001b[0m                                dense_output=True) + self.intercept_\n\u001b[1;32m    221\u001b[0m \u001b[0;34m\u001b[0m\u001b[0m\n",
      "\u001b[0;32m/home/linuxbrew/.linuxbrew/opt/python@3.8/lib/python3.8/site-packages/sklearn/utils/validation.py\u001b[0m in \u001b[0;36minner_f\u001b[0;34m(*args, **kwargs)\u001b[0m\n\u001b[1;32m     70\u001b[0m                           FutureWarning)\n\u001b[1;32m     71\u001b[0m         \u001b[0mkwargs\u001b[0m\u001b[0;34m.\u001b[0m\u001b[0mupdate\u001b[0m\u001b[0;34m(\u001b[0m\u001b[0;34m{\u001b[0m\u001b[0mk\u001b[0m\u001b[0;34m:\u001b[0m \u001b[0marg\u001b[0m \u001b[0;32mfor\u001b[0m \u001b[0mk\u001b[0m\u001b[0;34m,\u001b[0m \u001b[0marg\u001b[0m \u001b[0;32min\u001b[0m \u001b[0mzip\u001b[0m\u001b[0;34m(\u001b[0m\u001b[0msig\u001b[0m\u001b[0;34m.\u001b[0m\u001b[0mparameters\u001b[0m\u001b[0;34m,\u001b[0m \u001b[0margs\u001b[0m\u001b[0;34m)\u001b[0m\u001b[0;34m}\u001b[0m\u001b[0;34m)\u001b[0m\u001b[0;34m\u001b[0m\u001b[0;34m\u001b[0m\u001b[0m\n\u001b[0;32m---> 72\u001b[0;31m         \u001b[0;32mreturn\u001b[0m \u001b[0mf\u001b[0m\u001b[0;34m(\u001b[0m\u001b[0;34m**\u001b[0m\u001b[0mkwargs\u001b[0m\u001b[0;34m)\u001b[0m\u001b[0;34m\u001b[0m\u001b[0;34m\u001b[0m\u001b[0m\n\u001b[0m\u001b[1;32m     73\u001b[0m     \u001b[0;32mreturn\u001b[0m \u001b[0minner_f\u001b[0m\u001b[0;34m\u001b[0m\u001b[0;34m\u001b[0m\u001b[0m\n\u001b[1;32m     74\u001b[0m \u001b[0;34m\u001b[0m\u001b[0m\n",
      "\u001b[0;32m/home/linuxbrew/.linuxbrew/opt/python@3.8/lib/python3.8/site-packages/sklearn/utils/extmath.py\u001b[0m in \u001b[0;36msafe_sparse_dot\u001b[0;34m(a, b, dense_output)\u001b[0m\n\u001b[1;32m    151\u001b[0m             \u001b[0mret\u001b[0m \u001b[0;34m=\u001b[0m \u001b[0mnp\u001b[0m\u001b[0;34m.\u001b[0m\u001b[0mdot\u001b[0m\u001b[0;34m(\u001b[0m\u001b[0ma\u001b[0m\u001b[0;34m,\u001b[0m \u001b[0mb\u001b[0m\u001b[0;34m)\u001b[0m\u001b[0;34m\u001b[0m\u001b[0;34m\u001b[0m\u001b[0m\n\u001b[1;32m    152\u001b[0m     \u001b[0;32melse\u001b[0m\u001b[0;34m:\u001b[0m\u001b[0;34m\u001b[0m\u001b[0;34m\u001b[0m\u001b[0m\n\u001b[0;32m--> 153\u001b[0;31m         \u001b[0mret\u001b[0m \u001b[0;34m=\u001b[0m \u001b[0ma\u001b[0m \u001b[0;34m@\u001b[0m \u001b[0mb\u001b[0m\u001b[0;34m\u001b[0m\u001b[0;34m\u001b[0m\u001b[0m\n\u001b[0m\u001b[1;32m    154\u001b[0m \u001b[0;34m\u001b[0m\u001b[0m\n\u001b[1;32m    155\u001b[0m     if (sparse.issparse(a) and sparse.issparse(b)\n",
      "\u001b[0;31mValueError\u001b[0m: matmul: Input operand 1 has a mismatch in its core dimension 0, with gufunc signature (n?,k),(k,m?)->(n?,m?) (size 1 is different from 3)"
     ]
    }
   ],
   "source": [
    "## 二次モデル\n",
    "# モデル作成\n",
    "mod.fit(X_train, y_train)\n",
    "y_train_pred = mod.predict(X_quad_train)\n",
    "y_test_pred = mod.predict(X_quad_test)\n",
    "# 必要なメソッドのインポート\n",
    "from sklearn.metrics import mean_squared_error\n",
    "# 学習用、検証用データに関して平均二乗誤差を出力\n",
    "print('MSE Train : %.3f, Test : %.3f' % (mean_squared_error(y_train, y_train_pred), mean_squared_error(y_test, y_test_pred)))\n",
    "# 学習用、検証用データに関してR^2を出力\n",
    "print('R^2 Train : %.3f, Test : %.3f' % (mod.score(X_quad_train, y_train), mod.score(X_quad_test, y_test)))\n"
   ]
  },
  {
   "cell_type": "code",
   "execution_count": 32,
   "metadata": {},
   "outputs": [
    {
     "ename": "ValueError",
     "evalue": "matmul: Input operand 1 has a mismatch in its core dimension 0, with gufunc signature (n?,k),(k,m?)->(n?,m?) (size 1 is different from 4)",
     "output_type": "error",
     "traceback": [
      "\u001b[0;31m---------------------------------------------------------------------------\u001b[0m",
      "\u001b[0;31mValueError\u001b[0m                                Traceback (most recent call last)",
      "\u001b[0;32m<ipython-input-32-07d6f590e6e6>\u001b[0m in \u001b[0;36m<module>\u001b[0;34m\u001b[0m\n\u001b[1;32m      3\u001b[0m \u001b[0;31m# モデル作成\u001b[0m\u001b[0;34m\u001b[0m\u001b[0;34m\u001b[0m\u001b[0;34m\u001b[0m\u001b[0m\n\u001b[1;32m      4\u001b[0m \u001b[0mmod\u001b[0m\u001b[0;34m.\u001b[0m\u001b[0mfit\u001b[0m\u001b[0;34m(\u001b[0m\u001b[0mX_train\u001b[0m\u001b[0;34m,\u001b[0m \u001b[0my_train\u001b[0m\u001b[0;34m)\u001b[0m\u001b[0;34m\u001b[0m\u001b[0;34m\u001b[0m\u001b[0m\n\u001b[0;32m----> 5\u001b[0;31m \u001b[0my_train_pred\u001b[0m \u001b[0;34m=\u001b[0m \u001b[0mmod\u001b[0m\u001b[0;34m.\u001b[0m\u001b[0mpredict\u001b[0m\u001b[0;34m(\u001b[0m\u001b[0mX_cubic_train\u001b[0m\u001b[0;34m)\u001b[0m\u001b[0;34m\u001b[0m\u001b[0;34m\u001b[0m\u001b[0m\n\u001b[0m\u001b[1;32m      6\u001b[0m \u001b[0my_test_pred\u001b[0m \u001b[0;34m=\u001b[0m \u001b[0mmod\u001b[0m\u001b[0;34m.\u001b[0m\u001b[0mpredict\u001b[0m\u001b[0;34m(\u001b[0m\u001b[0mX_cubic_test\u001b[0m\u001b[0;34m)\u001b[0m\u001b[0;34m\u001b[0m\u001b[0;34m\u001b[0m\u001b[0m\n\u001b[1;32m      7\u001b[0m \u001b[0;31m# 必要なメソッドのインポート\u001b[0m\u001b[0;34m\u001b[0m\u001b[0;34m\u001b[0m\u001b[0;34m\u001b[0m\u001b[0m\n",
      "\u001b[0;32m/home/linuxbrew/.linuxbrew/opt/python@3.8/lib/python3.8/site-packages/sklearn/linear_model/_base.py\u001b[0m in \u001b[0;36mpredict\u001b[0;34m(self, X)\u001b[0m\n\u001b[1;32m    234\u001b[0m             \u001b[0mReturns\u001b[0m \u001b[0mpredicted\u001b[0m \u001b[0mvalues\u001b[0m\u001b[0;34m.\u001b[0m\u001b[0;34m\u001b[0m\u001b[0;34m\u001b[0m\u001b[0m\n\u001b[1;32m    235\u001b[0m         \"\"\"\n\u001b[0;32m--> 236\u001b[0;31m         \u001b[0;32mreturn\u001b[0m \u001b[0mself\u001b[0m\u001b[0;34m.\u001b[0m\u001b[0m_decision_function\u001b[0m\u001b[0;34m(\u001b[0m\u001b[0mX\u001b[0m\u001b[0;34m)\u001b[0m\u001b[0;34m\u001b[0m\u001b[0;34m\u001b[0m\u001b[0m\n\u001b[0m\u001b[1;32m    237\u001b[0m \u001b[0;34m\u001b[0m\u001b[0m\n\u001b[1;32m    238\u001b[0m     \u001b[0m_preprocess_data\u001b[0m \u001b[0;34m=\u001b[0m \u001b[0mstaticmethod\u001b[0m\u001b[0;34m(\u001b[0m\u001b[0m_preprocess_data\u001b[0m\u001b[0;34m)\u001b[0m\u001b[0;34m\u001b[0m\u001b[0;34m\u001b[0m\u001b[0m\n",
      "\u001b[0;32m/home/linuxbrew/.linuxbrew/opt/python@3.8/lib/python3.8/site-packages/sklearn/linear_model/_base.py\u001b[0m in \u001b[0;36m_decision_function\u001b[0;34m(self, X)\u001b[0m\n\u001b[1;32m    217\u001b[0m \u001b[0;34m\u001b[0m\u001b[0m\n\u001b[1;32m    218\u001b[0m         \u001b[0mX\u001b[0m \u001b[0;34m=\u001b[0m \u001b[0mcheck_array\u001b[0m\u001b[0;34m(\u001b[0m\u001b[0mX\u001b[0m\u001b[0;34m,\u001b[0m \u001b[0maccept_sparse\u001b[0m\u001b[0;34m=\u001b[0m\u001b[0;34m[\u001b[0m\u001b[0;34m'csr'\u001b[0m\u001b[0;34m,\u001b[0m \u001b[0;34m'csc'\u001b[0m\u001b[0;34m,\u001b[0m \u001b[0;34m'coo'\u001b[0m\u001b[0;34m]\u001b[0m\u001b[0;34m)\u001b[0m\u001b[0;34m\u001b[0m\u001b[0;34m\u001b[0m\u001b[0m\n\u001b[0;32m--> 219\u001b[0;31m         return safe_sparse_dot(X, self.coef_.T,\n\u001b[0m\u001b[1;32m    220\u001b[0m                                dense_output=True) + self.intercept_\n\u001b[1;32m    221\u001b[0m \u001b[0;34m\u001b[0m\u001b[0m\n",
      "\u001b[0;32m/home/linuxbrew/.linuxbrew/opt/python@3.8/lib/python3.8/site-packages/sklearn/utils/validation.py\u001b[0m in \u001b[0;36minner_f\u001b[0;34m(*args, **kwargs)\u001b[0m\n\u001b[1;32m     70\u001b[0m                           FutureWarning)\n\u001b[1;32m     71\u001b[0m         \u001b[0mkwargs\u001b[0m\u001b[0;34m.\u001b[0m\u001b[0mupdate\u001b[0m\u001b[0;34m(\u001b[0m\u001b[0;34m{\u001b[0m\u001b[0mk\u001b[0m\u001b[0;34m:\u001b[0m \u001b[0marg\u001b[0m \u001b[0;32mfor\u001b[0m \u001b[0mk\u001b[0m\u001b[0;34m,\u001b[0m \u001b[0marg\u001b[0m \u001b[0;32min\u001b[0m \u001b[0mzip\u001b[0m\u001b[0;34m(\u001b[0m\u001b[0msig\u001b[0m\u001b[0;34m.\u001b[0m\u001b[0mparameters\u001b[0m\u001b[0;34m,\u001b[0m \u001b[0margs\u001b[0m\u001b[0;34m)\u001b[0m\u001b[0;34m}\u001b[0m\u001b[0;34m)\u001b[0m\u001b[0;34m\u001b[0m\u001b[0;34m\u001b[0m\u001b[0m\n\u001b[0;32m---> 72\u001b[0;31m         \u001b[0;32mreturn\u001b[0m \u001b[0mf\u001b[0m\u001b[0;34m(\u001b[0m\u001b[0;34m**\u001b[0m\u001b[0mkwargs\u001b[0m\u001b[0;34m)\u001b[0m\u001b[0;34m\u001b[0m\u001b[0;34m\u001b[0m\u001b[0m\n\u001b[0m\u001b[1;32m     73\u001b[0m     \u001b[0;32mreturn\u001b[0m \u001b[0minner_f\u001b[0m\u001b[0;34m\u001b[0m\u001b[0;34m\u001b[0m\u001b[0m\n\u001b[1;32m     74\u001b[0m \u001b[0;34m\u001b[0m\u001b[0m\n",
      "\u001b[0;32m/home/linuxbrew/.linuxbrew/opt/python@3.8/lib/python3.8/site-packages/sklearn/utils/extmath.py\u001b[0m in \u001b[0;36msafe_sparse_dot\u001b[0;34m(a, b, dense_output)\u001b[0m\n\u001b[1;32m    151\u001b[0m             \u001b[0mret\u001b[0m \u001b[0;34m=\u001b[0m \u001b[0mnp\u001b[0m\u001b[0;34m.\u001b[0m\u001b[0mdot\u001b[0m\u001b[0;34m(\u001b[0m\u001b[0ma\u001b[0m\u001b[0;34m,\u001b[0m \u001b[0mb\u001b[0m\u001b[0;34m)\u001b[0m\u001b[0;34m\u001b[0m\u001b[0;34m\u001b[0m\u001b[0m\n\u001b[1;32m    152\u001b[0m     \u001b[0;32melse\u001b[0m\u001b[0;34m:\u001b[0m\u001b[0;34m\u001b[0m\u001b[0;34m\u001b[0m\u001b[0m\n\u001b[0;32m--> 153\u001b[0;31m         \u001b[0mret\u001b[0m \u001b[0;34m=\u001b[0m \u001b[0ma\u001b[0m \u001b[0;34m@\u001b[0m \u001b[0mb\u001b[0m\u001b[0;34m\u001b[0m\u001b[0;34m\u001b[0m\u001b[0m\n\u001b[0m\u001b[1;32m    154\u001b[0m \u001b[0;34m\u001b[0m\u001b[0m\n\u001b[1;32m    155\u001b[0m     if (sparse.issparse(a) and sparse.issparse(b)\n",
      "\u001b[0;31mValueError\u001b[0m: matmul: Input operand 1 has a mismatch in its core dimension 0, with gufunc signature (n?,k),(k,m?)->(n?,m?) (size 1 is different from 4)"
     ]
    }
   ],
   "source": [
    "## 三次モデル\n",
    "\n",
    "# モデル作成\n",
    "mod.fit(X_train, y_train)\n",
    "y_train_pred = mod.predict(X_cubic_train)\n",
    "y_test_pred = mod.predict(X_cubic_test)\n",
    "# 必要なメソッドのインポート\n",
    "from sklearn.metrics import mean_squared_error\n",
    "# 学習用、検証用データに関して平均二乗誤差を出力\n",
    "print('MSE Train : %.3f, Test : %.3f' % (mean_squared_error(y_train, y_train_pred), mean_squared_error(y_test, y_test_pred)))\n",
    "# 学習用、検証用データに関してR^2を出力\n",
    "print('R^2 Train : %.3f, Test : %.3f' % (mod.score(X_cubic_train, y_train), mod.score(X_cubic_test, y_test)))\n"
   ]
  },
  {
   "cell_type": "code",
   "execution_count": null,
   "metadata": {},
   "outputs": [],
   "source": []
  }
 ],
 "metadata": {
  "kernelspec": {
   "display_name": "Python 3",
   "language": "python",
   "name": "python3"
  },
  "language_info": {
   "codemirror_mode": {
    "name": "ipython",
    "version": 3
   },
   "file_extension": ".py",
   "mimetype": "text/x-python",
   "name": "python",
   "nbconvert_exporter": "python",
   "pygments_lexer": "ipython3",
   "version": "3.8.6"
  }
 },
 "nbformat": 4,
 "nbformat_minor": 4
}
