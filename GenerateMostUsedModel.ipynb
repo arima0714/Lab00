{
 "cells": [
  {
   "cell_type": "code",
   "execution_count": 1,
   "metadata": {},
   "outputs": [],
   "source": [
    "# ipynb形式のライブラリのインポート\n",
    "%run ./lib.ipynb"
   ]
  },
  {
   "cell_type": "code",
   "execution_count": 15,
   "metadata": {},
   "outputs": [
    {
     "name": "stdout",
     "output_type": "stream",
     "text": [
      "cg\n",
      "[16, 6, 0]\n",
      "ep\n",
      "[9, 0, 0]\n",
      "lu\n",
      "[29, 10, 3]\n",
      "all\n",
      "[54, 16, 3]\n"
     ]
    },
    {
     "data": {
      "text/plain": [
       "Text(0.5, -0.01, '全体での集計結果')"
      ]
     },
     "execution_count": 15,
     "metadata": {},
     "output_type": "execute_result"
    },
    {
     "data": {
      "image/png": "[encoded data removed]",
      "text/plain": [
       "<Figure size 432x288 with 1 Axes>"
      ]
     },
     "metadata": {},
     "output_type": "display_data"
    }
   ],
   "source": [
    "csv_directory_path = './tmp_GenerateScoreTable/'\n",
    "result_of_all = [0, 0, 0]\n",
    "for benchmark in benchmarks:\n",
    "    result_of_benchmark = [0, 0, 0]\n",
    "    file_name = benchmark+'.csv'\n",
    "    file_path = csv_directory_path+file_name\n",
    "    if(os.path.isfile(csv_directory_path+file_name) == False):\n",
    "        continue\n",
    "    # デバック用にベンチマークを1種類分で止めるようにする\n",
    "    if(benchmark != \"cg\" and benchmark != \"ep\" and benchmark != \"lu\"):\n",
    "        continue\n",
    "    \n",
    "    print(benchmark)\n",
    "    df = pd.read_csv(file_path, index_col=0)\n",
    "#     print(df)\n",
    "    columns = df.columns.values\n",
    "    indices = df.index.values\n",
    "    for index in indices:\n",
    "        row = df.loc[index].tolist()\n",
    "        result_of_benchmark[row.index(min(row))] += 1\n",
    "        result_of_all[row.index(min(row))] += 1\n",
    "    \n",
    "    \n",
    "print(\"all\")\n",
    "print(result_of_all)\n",
    "\n",
    "# 全体での集計結果をまとめた円グラフの出力\n",
    "result_label = [\"線形モデル\", \"対数モデル\", \"反比例モデル\"]\n",
    "plt.pie(result_of_all, labels=result_label)\n",
    "plt.suptitle(\"全体での集計結果\", y=-0.01)"
   ]
  },
  {
   "cell_type": "code",
   "execution_count": null,
   "metadata": {},
   "outputs": [],
   "source": []
  }
 ],
 "metadata": {
  "kernelspec": {
   "display_name": "Python 3",
   "language": "python",
   "name": "python3"
  },
  "language_info": {
   "codemirror_mode": {
    "name": "ipython",
    "version": 3
   },
   "file_extension": ".py",
   "mimetype": "text/x-python",
   "name": "python",
   "nbconvert_exporter": "python",
   "pygments_lexer": "ipython3",
   "version": "3.8.6"
  }
 },
 "nbformat": 4,
 "nbformat_minor": 4
}
