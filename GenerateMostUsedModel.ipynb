{
 "cells": [
  {
   "cell_type": "code",
   "execution_count": 1,
   "metadata": {},
   "outputs": [],
   "source": [
    "# ipynb形式のライブラリのインポート\n",
    "%run ./lib.ipynb"
   ]
  },
  {
   "cell_type": "markdown",
   "metadata": {},
   "source": [
    "# 資料作成に使用する最もフィットするモデルはどれかを示すための表・グラフを作るためのプログラム\n",
    "\n",
    "# 資料素材を早急に作成するためにコードはめちゃくちゃなのでlib.ipynbに入れてはいけない\n",
    "\n",
    "# 今回作成したかったものと同様の表を作りたい場合は新規で作り直す"
   ]
  },
  {
   "cell_type": "code",
   "execution_count": 5,
   "metadata": {},
   "outputs": [
    {
     "name": "stdout",
     "output_type": "stream",
     "text": [
      "cg\n",
      "columns = ['x mape' 'logx mape' '1/x mape']\n",
      "indices = ['.TAU_application' 'ALLOC_SPACE' 'CG' 'CONJ_GRAD' 'ICNVRT'\n",
      " 'INITIALIZE_MPI' 'MAKEA' 'MPI_Barrier()' 'MPI_Bcast()' 'MPI_Comm_rank()'\n",
      " 'MPI_Comm_size()' 'MPI_Finalize()' 'MPI_Init()' 'MPI_Irecv()'\n",
      " 'MPI_Reduce()' 'MPI_Send()' 'MPI_Wait()' 'SETUP_PROC_INFO'\n",
      " 'SETUP_SUBMATRIX_INFO' 'SPARSE' 'SPRNVC' 'VECSET']\n",
      "file_path = ./tmp_GenerateResources/cg.csv\n",
      "ep\n",
      "columns = ['x mape' 'logx mape' '1/x mape']\n",
      "indices = ['.TAU_application' 'EMBAR' 'MPI_Allreduce()' 'MPI_Barrier()'\n",
      " 'MPI_Bcast()' 'MPI_Comm_rank()' 'MPI_Comm_size()' 'MPI_Finalize()'\n",
      " 'MPI_Init()']\n",
      "file_path = ./tmp_GenerateResources/ep.csv\n",
      "lu\n",
      "columns = ['x mape' 'logx mape' '1/x mape']\n",
      "indices = ['.TAU_application' 'ALLOC_SPACE' 'APPLU' 'BCAST_INPUTS' 'BLTS' 'BUTS'\n",
      " 'ERHS' 'ERROR' 'EXACT' 'EXCHANGE_1' 'EXCHANGE_3' 'EXCHANGE_4'\n",
      " 'EXCHANGE_5' 'EXCHANGE_6' 'INIT_COMM' 'ISQRT2' 'JACLD' 'JACU' 'L2NORM'\n",
      " 'MPI_Allreduce()' 'MPI_Barrier()' 'MPI_Bcast()' 'MPI_Comm_rank()'\n",
      " 'MPI_Comm_size()' 'MPI_Finalize()' 'MPI_Init()' 'MPI_Irecv()'\n",
      " 'MPI_Recv()' 'MPI_Send()' 'MPI_Wait()' 'NEIGHBORS' 'PINTGR' 'PROC_GRID'\n",
      " 'READ_INPUT' 'RHS' 'SETBV' 'SETCOEFF' 'SETIV' 'SET_CLASS' 'SSOR'\n",
      " 'SUBDOMAIN' 'VERIFY']\n",
      "file_path = ./tmp_GenerateResources/lu.csv\n"
     ]
    }
   ],
   "source": [
    "csv_directory_path = './tmp_GenerateResources/'\n",
    "\n",
    "\n",
    "\n",
    "for benchmark in benchmarks:\n",
    "    file_name = benchmark+'.csv'\n",
    "    file_path = csv_directory_path+file_name\n",
    "    # ファイルが存在しない場合は処理を飛ばす\n",
    "    if(os.path.isfile(csv_directory_path+file_name) == False):\n",
    "        continue\n",
    "    # 完全に値をとれたもののみで集計するようにしている\n",
    "    if(benchmark != \"cg\" and benchmark != \"ep\" and benchmark != \"lu\"):\n",
    "        continue\n",
    "    \n",
    "    print(benchmark)\n",
    "    df = pd.read_csv(file_path, index_col=0)\n",
    "#     print(df)\n",
    "    columns = df.columns.values\n",
    "    indices = df.index.values\n",
    "    print(f\"columns = {columns}\")\n",
    "    print(f\"indices = {indices}\")\n",
    "    print(f\"file_path = {file_path}\")\n",
    "#     for index in indices:\n",
    "#         row = df.loc[index].tolist()\n",
    "#         result_of_benchmark[row.index(min(row))] += 1\n",
    "#         result_of_all[row.index(min(row))] += 1\n",
    "#     # ベンチマークごとの結果(%)をCSV化用のデータフレームに追加\n",
    "#     list_for_csv.append(return_ratio_list(result_of_benchmark, benchmark))"
   ]
  },
  {
   "cell_type": "code",
   "execution_count": null,
   "metadata": {},
   "outputs": [],
   "source": []
  }
 ],
 "metadata": {
  "kernelspec": {
   "display_name": "Python 3",
   "language": "python",
   "name": "python3"
  },
  "language_info": {
   "codemirror_mode": {
    "name": "ipython",
    "version": 3
   },
   "file_extension": ".py",
   "mimetype": "text/x-python",
   "name": "python",
   "nbconvert_exporter": "python",
   "pygments_lexer": "ipython3",
   "version": "3.8.6"
  }
 },
 "nbformat": 4,
 "nbformat_minor": 4
}
