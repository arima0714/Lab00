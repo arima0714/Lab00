{
 "cells": [
  {
   "cell_type": "code",
   "execution_count": 1,
   "metadata": {},
   "outputs": [],
   "source": [
    "# ipynb形式のライブラリのインポート\n",
    "%run ./lib.ipynb"
   ]
  },
  {
   "cell_type": "markdown",
   "metadata": {},
   "source": [
    "# 資料作成に使用する最もフィットするモデルはどれかを示すための表・グラフを作るためのプログラム\n",
    "\n",
    "# 資料素材を早急に作成するためにコードはめちゃくちゃなのでlib.ipynbに入れてはいけない\n",
    "\n",
    "# 今回作成したかったものと同様の表を作りたい場合は新規で作り直す"
   ]
  },
  {
   "cell_type": "code",
   "execution_count": null,
   "metadata": {},
   "outputs": [
    {
     "name": "stdout",
     "output_type": "stream",
     "text": [
      "cg\n",
      "ep\n",
      "lu\n"
     ]
    },
    {
     "data": {
      "image/png": "[encoded data removed]",
      "text/plain": [
       "<Figure size 432x288 with 1 Axes>"
      ]
     },
     "metadata": {},
     "output_type": "display_data"
    }
   ],
   "source": [
    "csv_directory_path = './tmp_GenerateResources/'\n",
    "result_label = [\"線形モデル\", \"対数モデル\", \"反比例モデル\"]\n",
    "result_of_all = [0, 0, 0]\n",
    "list_for_csv = []\n",
    "\n",
    "# 第一引数として渡されたリストの値の合計値に対する割合を算出する。\n",
    "# 第二引数として渡された文字列を返り値のリストの先頭に入れる。\n",
    "# 上記2行での処理をまとめたリストを返す関数。\n",
    "# 要素として入れられる値の小数点以下は切り捨てられる。\n",
    "def return_ratio_list(target_list, row_name):\n",
    "    summarised_num = sum(target_list)\n",
    "    return_list = []\n",
    "    return_list.append(row_name)\n",
    "    for num in target_list:\n",
    "        return_list.append(math.floor(num/summarised_num * 100000)/1000)\n",
    "    return(return_list)\n",
    "\n",
    "for benchmark in benchmarks:\n",
    "    result_of_benchmark = [0, 0, 0]\n",
    "    file_name = benchmark+'.csv'\n",
    "    file_path = csv_directory_path+file_name\n",
    "    if(os.path.isfile(csv_directory_path+file_name) == False):\n",
    "        continue\n",
    "    # 完全に値をとれたもののみで集計するようにしている\n",
    "    if(benchmark != \"cg\" and benchmark != \"ep\" and benchmark != \"lu\"):\n",
    "        continue\n",
    "    \n",
    "    print(benchmark)\n",
    "    df = pd.read_csv(file_path, index_col=0)\n",
    "#     print(df)\n",
    "    columns = df.columns.values\n",
    "    indices = df.index.values\n",
    "    for index in indices:\n",
    "        row = df.loc[index].tolist()\n",
    "        result_of_benchmark[row.index(min(row))] += 1\n",
    "        result_of_all[row.index(min(row))] += 1\n",
    "    plt.figure()\n",
    "    plt.pie(result_of_benchmark, labels=result_label)\n",
    "    plt.suptitle(\"ベンチマーク\"+benchmark+\"での集計結果\", y=-0.01)\n",
    "    # ベンチマークごとの結果(%)をCSV化用のデータフレームに追加\n",
    "    list_for_csv.append(return_ratio_list(result_of_benchmark, benchmark))"
   ]
  },
  {
   "cell_type": "code",
   "execution_count": null,
   "metadata": {},
   "outputs": [],
   "source": [
    "# 全体の結果(%)をCSV化用のデータフレームに追加\n",
    "list_for_csv.append(return_ratio_list(result_of_all, \"全体\"))\n",
    "\n",
    "# 全体での集計結果をまとめた円グラフの出力\n",
    "plt.figure()\n",
    "plt.pie(result_of_all, labels=result_label)\n",
    "plt.suptitle(\"全体での集計結果\", y=-0.01)"
   ]
  },
  {
   "cell_type": "code",
   "execution_count": null,
   "metadata": {},
   "outputs": [],
   "source": [
    "list_for_csv_append = []\n",
    "\n",
    "for benchmark in benchmarks:\n",
    "    \n",
    "    ### メモ：↓の処理は固定\n",
    "    file_name = benchmark+'.csv'\n",
    "    file_path = csv_directory_path+file_name\n",
    "    # 対称としたいファイルが無ければ処理を飛ばす\n",
    "    if(os.path.isfile(csv_directory_path+file_name) == False):\n",
    "        continue\n",
    "    # 完全に値をとれたもののみで集計するようにしている\n",
    "    if(benchmark != \"cg\" and benchmark != \"ep\" and benchmark != \"lu\"):\n",
    "        continue\n",
    "    ### メモ：↑の処理は固定\n",
    "    \n",
    "    print(benchmark)\n",
    "    \n",
    "    ### 各ベンチマークのMAPE表を読み込む\n",
    "    df = pd.read_csv(file_path, index_col=0)\n",
    "#     print(df)\n",
    "    ### ベンチマークのMAPE表の行名と列名のリストを取得\n",
    "    columns = df.columns.values\n",
    "    indices = df.index.values\n",
    "    cell_append_AtBenchmark = [benchmark]\n",
    "    for column in columns:\n",
    "        sampling_column = df.T.loc[column].values\n",
    "#         print(f\"{benchmark}, {column}\")\n",
    "        min_data_AtBenchmark = math.floor(min(sampling_column) * 100)/100\n",
    "        max_data_AtBenchmark = math.floor(max(sampling_column) * 100)/100\n",
    "        cell_append_AtBenchmark.append(f\"({min_data_AtBenchmark}-{max_data_AtBenchmark})\")\n",
    "    list_for_csv_append.append(cell_append_AtBenchmark)\n",
    "print(list_for_csv_append)"
   ]
  },
  {
   "cell_type": "code",
   "execution_count": null,
   "metadata": {},
   "outputs": [],
   "source": [
    "### 全体での集計を行う\n",
    "\n",
    "### cell_append_AtAllに全体での(min-max)を入れる\n",
    "cell_append_AtAll = \"\"\n",
    "list_all = []\n",
    "for benchmark in benchmarks:\n",
    "    ### メモ：↓の処理は固定\n",
    "    file_name = benchmark+'.csv'\n",
    "    file_path = csv_directory_path+file_name\n",
    "    # 対称としたいファイルが無ければ処理を飛ばす\n",
    "    if(os.path.isfile(csv_directory_path+file_name) == False):\n",
    "        continue\n",
    "    # 完全に値をとれたもののみで集計するようにしている\n",
    "    if(benchmark != \"cg\" and benchmark != \"ep\" and benchmark != \"lu\"):\n",
    "        continue\n",
    "    ### メモ：↑の処理は固定\n",
    "    \n",
    "    list_all.append(pd.read_csv(file_path, index_col=0))\n",
    "    \n",
    "df_all = pd.concat(list_all, axis=0)\n",
    "\n",
    "columns_all = df_all.columns.values\n",
    "cell_append_AtAll = [\"全体\"]\n",
    "for column in columns_all:\n",
    "    sampling_column = df_all.T.loc[column].values\n",
    "    min_data_AtAll = math.floor(min(sampling_column) * 100)/100\n",
    "    max_data_AtAll = math.floor(max(sampling_column) * 100)/100\n",
    "    cell_append_AtAll.append(f\"({min_data_AtAll}-{max_data_AtAll})\")\n",
    "list_for_csv_append.append(cell_append_AtAll)\n",
    "\n",
    "print(list_for_csv_append)\n",
    "df_all"
   ]
  },
  {
   "cell_type": "code",
   "execution_count": null,
   "metadata": {},
   "outputs": [],
   "source": [
    "### ここで提出時に元データであった「list_for_csv」と、提出後のレビューで追加申請があった「list_for_csv_append」を結合する。\n",
    "### 破壊的な処理になってしまうが元コードを流用するためにlist_for_csvとlist_for_csv_appendを結合したものをlist_for_csvとする。\n",
    "print(list_for_csv)\n",
    "for i in range(0,4):\n",
    "    for j in range(1,4):\n",
    "        print(f\"i = {i}, j = {j}\")\n",
    "        print(list_for_csv[i][j])\n",
    "        list_for_csv[i][j] = f\"{list_for_csv[i][j]}{list_for_csv_append[i][j]}\""
   ]
  },
  {
   "cell_type": "code",
   "execution_count": null,
   "metadata": {},
   "outputs": [],
   "source": [
    "# 結果をCSV化するためのDataFrameに関する処理\n",
    "list_for_csv_df = pd.DataFrame(list_for_csv)\n",
    "list_for_csv_df.columns = [\"\"] + result_label\n",
    "list_for_csv_df.set_index(\"\", inplace=True)\n",
    "## 作成したデータフレームをプリント出力\n",
    "print(list_for_csv_df)\n",
    "## 作成したデータフレームをCSVとして保存\n",
    "list_for_csv_df.to_csv(\"./tmp_GenerateResources/calced_table.csv\")"
   ]
  }
 ],
 "metadata": {
  "kernelspec": {
   "display_name": "Python 3",
   "language": "python",
   "name": "python3"
  },
  "language_info": {
   "codemirror_mode": {
    "name": "ipython",
    "version": 3
   },
   "file_extension": ".py",
   "mimetype": "text/x-python",
   "name": "python",
   "nbconvert_exporter": "python",
   "pygments_lexer": "ipython3",
   "version": "3.8.6"
  }
 },
 "nbformat": 4,
 "nbformat_minor": 4
}
