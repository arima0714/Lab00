{
 "cells": [
  {
   "cell_type": "code",
   "execution_count": 1,
   "metadata": {},
   "outputs": [],
   "source": [
    "# ipynb形式のライブラリのインポート\n",
    "%run ./lib.ipynb"
   ]
  },
  {
   "cell_type": "markdown",
   "metadata": {},
   "source": [
    "# 資料作成に使用する最もフィットするモデルはどれかを示すための表・グラフを作るためのプログラム\n"
   ]
  },
  {
   "cell_type": "code",
   "execution_count": 2,
   "metadata": {},
   "outputs": [],
   "source": [
    "def return_list_of_ratio_row(input_list):\n",
    "    sum_of_input_list = 0\n",
    "    return_list = []\n",
    "    for list_child in input_list:\n",
    "        sum_of_input_list += len(list_child)\n",
    "    for list_child in input_list:\n",
    "        num = int(len(list_child)/sum_of_input_list*10000)/100\n",
    "        return_list.append(num)\n",
    "    # 総和を100にする処理\n",
    "    i_0 = 100\n",
    "    for i in range(1, len(input_list)):\n",
    "        i_0 -= return_list[i]\n",
    "    return_list[0] = i_0\n",
    "    return(return_list)\n",
    "\n",
    "def return_list_of_range_row(input_list):\n",
    "    return_list = []\n",
    "    for list_child in input_list:\n",
    "        if(len(list_child) == 0):\n",
    "            data_str = \"(NoData)\"\n",
    "        else:\n",
    "            min_data = int(min(list_child)*100)/100\n",
    "            max_data = int(max(list_child)*100)/100\n",
    "            data_str = f\"({min_data}-{max_data})\"\n",
    "        return_list.append(data_str)\n",
    "    return(return_list)\n"
   ]
  },
  {
   "cell_type": "code",
   "execution_count": 3,
   "metadata": {},
   "outputs": [],
   "source": [
    "def return_row_list(input_list):\n",
    "    return_list = []\n",
    "    # 割合の入ったリストと最小・最大値の入ったリスト\n",
    "    list_of_ratio_row = return_list_of_ratio_row(input_list)\n",
    "    list_of_range_row = return_list_of_range_row(input_list)\n",
    "    \n",
    "    # 上の二つのリストの要素同士を結合させる\n",
    "    for i in range(len(list_of_ratio_row)):\n",
    "        return_list.append(f\"{list_of_ratio_row[i]}%{list_of_range_row[i]}\")\n",
    "    \n",
    "    return return_list"
   ]
  },
  {
   "cell_type": "code",
   "execution_count": 4,
   "metadata": {},
   "outputs": [
    {
     "name": "stdout",
     "output_type": "stream",
     "text": [
      "cg\n",
      "ep\n",
      "lu\n"
     ]
    }
   ],
   "source": [
    "csv_directory_path = './tmp_GenerateResources/'\n",
    "\n",
    "result_of_all = [[], [], []]\n",
    "list_for_csv = []\n",
    "\n",
    "list_for_csv_ratio = []\n",
    "list_for_csv_range = []\n",
    "\n",
    "for benchmark in benchmarks:\n",
    "    result_of_benchmark = [[], [], []]\n",
    "    file_name = benchmark+'.csv'\n",
    "    file_path = csv_directory_path+file_name\n",
    "    # ファイルが存在しない場合は処理を飛ばす\n",
    "    if(os.path.isfile(csv_directory_path+file_name) == False):\n",
    "        continue\n",
    "    # 完全に値をとれたもののみで集計するようにしている\n",
    "    if(benchmark != \"cg\" and benchmark != \"ep\" and benchmark != \"lu\"):\n",
    "        continue\n",
    "    # 現在処理中のベンチマーク名を出力\n",
    "    print(benchmark)\n",
    "    df = pd.read_csv(file_path, index_col=0)\n",
    "    columns = df.columns.values\n",
    "    indices = df.index.values\n",
    "    for index in indices:\n",
    "        row = df.loc[index].tolist()\n",
    "        result_of_benchmark[row.index(min(row))].append(min(row))\n",
    "        result_of_all[row.index(min(row))].append(min(row))\n",
    "    list_for_csv.append([benchmark]+return_row_list(result_of_benchmark))\n",
    "list_for_csv.append([\"all\"]+return_row_list(result_of_all))"
   ]
  },
  {
   "cell_type": "code",
   "execution_count": 5,
   "metadata": {},
   "outputs": [
    {
     "name": "stdout",
     "output_type": "stream",
     "text": [
      "[['cg', '86.37%(0.0-6.91)', '13.63%(7.99-9.58)', '0.0%(NoData)'], ['ep', '100.0%(0.0-0.0)', '0.0%(NoData)', '0.0%(NoData)'], ['lu', '69.06%(0.0-0.0)', '21.42%(15.23-17.01)', '9.52%(0.0-12.24)'], ['all', '78.1%(0.0-6.91)', '16.43%(7.99-17.01)', '5.47%(0.0-12.24)']]\n"
     ]
    }
   ],
   "source": [
    "print(list_for_csv)"
   ]
  },
  {
   "cell_type": "code",
   "execution_count": 6,
   "metadata": {},
   "outputs": [
    {
     "data": {
      "text/html": [
       "<div>\n",
       "<style scoped>\n",
       "    .dataframe tbody tr th:only-of-type {\n",
       "        vertical-align: middle;\n",
       "    }\n",
       "\n",
       "    .dataframe tbody tr th {\n",
       "        vertical-align: top;\n",
       "    }\n",
       "\n",
       "    .dataframe thead th {\n",
       "        text-align: right;\n",
       "    }\n",
       "</style>\n",
       "<table border=\"1\" class=\"dataframe\">\n",
       "  <thead>\n",
       "    <tr style=\"text-align: right;\">\n",
       "      <th></th>\n",
       "      <th></th>\n",
       "      <th>線形モデル</th>\n",
       "      <th>対数モデル</th>\n",
       "      <th>反比例モデル</th>\n",
       "    </tr>\n",
       "  </thead>\n",
       "  <tbody>\n",
       "    <tr>\n",
       "      <th>0</th>\n",
       "      <td>cg</td>\n",
       "      <td>86.37%(0.0-6.91)</td>\n",
       "      <td>13.63%(7.99-9.58)</td>\n",
       "      <td>0.0%(NoData)</td>\n",
       "    </tr>\n",
       "    <tr>\n",
       "      <th>1</th>\n",
       "      <td>ep</td>\n",
       "      <td>100.0%(0.0-0.0)</td>\n",
       "      <td>0.0%(NoData)</td>\n",
       "      <td>0.0%(NoData)</td>\n",
       "    </tr>\n",
       "    <tr>\n",
       "      <th>2</th>\n",
       "      <td>lu</td>\n",
       "      <td>69.06%(0.0-0.0)</td>\n",
       "      <td>21.42%(15.23-17.01)</td>\n",
       "      <td>9.52%(0.0-12.24)</td>\n",
       "    </tr>\n",
       "    <tr>\n",
       "      <th>3</th>\n",
       "      <td>all</td>\n",
       "      <td>78.1%(0.0-6.91)</td>\n",
       "      <td>16.43%(7.99-17.01)</td>\n",
       "      <td>5.47%(0.0-12.24)</td>\n",
       "    </tr>\n",
       "  </tbody>\n",
       "</table>\n",
       "</div>"
      ],
      "text/plain": [
       "                   線形モデル                対数モデル            反比例モデル\n",
       "0   cg  86.37%(0.0-6.91)    13.63%(7.99-9.58)      0.0%(NoData)\n",
       "1   ep   100.0%(0.0-0.0)         0.0%(NoData)      0.0%(NoData)\n",
       "2   lu   69.06%(0.0-0.0)  21.42%(15.23-17.01)  9.52%(0.0-12.24)\n",
       "3  all   78.1%(0.0-6.91)   16.43%(7.99-17.01)  5.47%(0.0-12.24)"
      ]
     },
     "execution_count": 6,
     "metadata": {},
     "output_type": "execute_result"
    }
   ],
   "source": [
    "csv_head = [\"\", \"線形モデル\", \"対数モデル\", \"反比例モデル\"]\n",
    "df_for_csv = pd.DataFrame(list_for_csv)\n",
    "df_for_csv.columns = csv_head\n",
    "df_for_csv.set_index(\"\")\n",
    "df_for_csv"
   ]
  }
 ],
 "metadata": {
  "kernelspec": {
   "display_name": "Python 3",
   "language": "python",
   "name": "python3"
  },
  "language_info": {
   "codemirror_mode": {
    "name": "ipython",
    "version": 3
   },
   "file_extension": ".py",
   "mimetype": "text/x-python",
   "name": "python",
   "nbconvert_exporter": "python",
   "pygments_lexer": "ipython3",
   "version": "3.8.6"
  }
 },
 "nbformat": 4,
 "nbformat_minor": 4
}
