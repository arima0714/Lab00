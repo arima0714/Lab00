{
 "cells": [
  {
   "cell_type": "code",
   "execution_count": 1,
   "metadata": {},
   "outputs": [],
   "source": [
    "# ipynb形式のライブラリのインポート\n",
    "%run ./lib.ipynb"
   ]
  },
  {
   "cell_type": "code",
   "execution_count": 14,
   "metadata": {},
   "outputs": [
    {
     "name": "stdout",
     "output_type": "stream",
     "text": [
      "bt\n",
      "['x mape' 'logx mape' '1/x mape']\n",
      "['.TAU_application' 'MPBT' 'MPI_Bcast()' 'MPI_Comm_rank()'\n",
      " 'MPI_Comm_size()' 'MPI_Init()' 'SETUP_MPI']\n",
      "cg\n",
      "['x mape' 'logx mape' '1/x mape']\n",
      "['.TAU_application' 'ALLOC_SPACE' 'CG' 'CONJ_GRAD' 'ICNVRT'\n",
      " 'INITIALIZE_MPI' 'MAKEA' 'MPI_Barrier()' 'MPI_Bcast()' 'MPI_Comm_rank()'\n",
      " 'MPI_Comm_size()' 'MPI_Finalize()' 'MPI_Init()' 'MPI_Irecv()'\n",
      " 'MPI_Reduce()' 'MPI_Send()' 'MPI_Wait()' 'SETUP_PROC_INFO'\n",
      " 'SETUP_SUBMATRIX_INFO' 'SPARSE' 'SPRNVC' 'VECSET']\n",
      "ep\n",
      "['x mape' 'logx mape' '1/x mape']\n",
      "['.TAU_application' 'EMBAR' 'MPI_Allreduce()' 'MPI_Barrier()'\n",
      " 'MPI_Bcast()' 'MPI_Comm_rank()' 'MPI_Comm_size()' 'MPI_Finalize()'\n",
      " 'MPI_Init()']\n",
      "ft\n",
      "['x mape' 'logx mape' '1/x mape']\n",
      "['.TAU_application' 'ALLOC_SPACE' 'CFFTS1' 'CFFTS2' 'CFFTZ' 'CHECKSUM'\n",
      " 'COMPUTE_INDEXMAP' 'COMPUTE_INITIAL_CONDITIONS' 'EVOLVE' 'FFT' 'FFTZ2'\n",
      " 'FFT_INIT' 'FT' 'ILOG2' 'IPOW46' 'MPI_Barrier()' 'MPI_Bcast()'\n",
      " 'MPI_Comm_rank()' 'MPI_Comm_size()' 'MPI_Comm_split()' 'MPI_Finalize()'\n",
      " 'MPI_Init()' 'MPI_Reduce()' 'SETUP' 'SET_CLASS' 'VERIFY']\n",
      "is\n",
      "['x mape' 'logx mape' '1/x mape']\n",
      "['.TAU_application' 'MPI_Allreduce()' 'MPI_Alltoall()' 'MPI_Alltoallv()'\n",
      " 'MPI_Bcast()' 'MPI_Comm_dup()' 'MPI_Comm_rank()' 'MPI_Comm_size()'\n",
      " 'MPI_Finalize()' 'MPI_Init()' 'MPI_Reduce()'\n",
      " 'double_find_my_seed(int_int_long_double_double)'\n",
      " 'double_randlc(double_*_double_*)' 'int_main(int_char_**)'\n",
      " 'void_alloc_space(void)' 'void_create_seq(double_double)'\n",
      " 'void_full_verify(void)' 'void_rank(int)']\n",
      "lu\n",
      "['x mape' 'logx mape' '1/x mape']\n",
      "['.TAU_application' 'ALLOC_SPACE' 'APPLU' 'BCAST_INPUTS' 'BLTS' 'BUTS'\n",
      " 'ERHS' 'ERROR' 'EXACT' 'EXCHANGE_1' 'EXCHANGE_3' 'EXCHANGE_4'\n",
      " 'EXCHANGE_5' 'EXCHANGE_6' 'INIT_COMM' 'ISQRT2' 'JACLD' 'JACU' 'L2NORM'\n",
      " 'MPI_Allreduce()' 'MPI_Barrier()' 'MPI_Bcast()' 'MPI_Comm_rank()'\n",
      " 'MPI_Comm_size()' 'MPI_Finalize()' 'MPI_Init()' 'MPI_Irecv()'\n",
      " 'MPI_Recv()' 'MPI_Send()' 'MPI_Wait()' 'NEIGHBORS' 'PINTGR' 'PROC_GRID'\n",
      " 'READ_INPUT' 'RHS' 'SETBV' 'SETCOEFF' 'SETIV' 'SET_CLASS' 'SSOR'\n",
      " 'SUBDOMAIN' 'VERIFY']\n",
      "mg\n",
      "['x mape' 'logx mape' '1/x mape']\n",
      "['.TAU_application' 'ALLOC_SPACE' 'BUBBLE' 'COMM3' 'COMM3_EX' 'INTERP'\n",
      " 'MG3P' 'MG_MPI' 'MPI_Allreduce()' 'MPI_Barrier()' 'MPI_Bcast()'\n",
      " 'MPI_Comm_rank()' 'MPI_Comm_size()' 'MPI_Finalize()' 'MPI_Init()'\n",
      " 'MPI_Reduce()' 'NORM2U3' 'POWER' 'PSINV' 'RESID' 'RPRJ3' 'SETUP' 'ZERO3'\n",
      " 'ZRAN3']\n",
      "sp\n",
      "['x mape' 'logx mape' '1/x mape']\n",
      "['.TAU_application' 'MPI_Bcast()' 'MPI_Comm_rank()' 'MPI_Comm_size()'\n",
      " 'MPI_Init()' 'MPSP' 'SETUP_MPI']\n"
     ]
    }
   ],
   "source": [
    "csv_directory_path = './tmp_GenerateScoreTable/'\n",
    "for benchmark in benchmarks:\n",
    "    file_name = benchmark+'.csv'\n",
    "    file_path = csv_directory_path+file_name\n",
    "    if(os.path.isfile(csv_directory_path+file_name) == False):\n",
    "        continue\n",
    "    print(benchmark)\n",
    "    df = pd.read_csv(file_path, index_col=0)\n",
    "#     print(df)\n",
    "    columns = df.columns.values\n",
    "    indices = df.index.values\n",
    "    print(columns)\n",
    "    print(indices)"
   ]
  },
  {
   "cell_type": "code",
   "execution_count": null,
   "metadata": {},
   "outputs": [],
   "source": []
  }
 ],
 "metadata": {
  "kernelspec": {
   "display_name": "Python 3",
   "language": "python",
   "name": "python3"
  },
  "language_info": {
   "codemirror_mode": {
    "name": "ipython",
    "version": 3
   },
   "file_extension": ".py",
   "mimetype": "text/x-python",
   "name": "python",
   "nbconvert_exporter": "python",
   "pygments_lexer": "ipython3",
   "version": "3.8.6"
  }
 },
 "nbformat": 4,
 "nbformat_minor": 4
}
