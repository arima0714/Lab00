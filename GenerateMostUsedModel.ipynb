{
 "cells": [
  {
   "cell_type": "code",
   "execution_count": 1,
   "metadata": {},
   "outputs": [],
   "source": [
    "# ipynb形式のライブラリのインポート\n",
    "%run ./lib.ipynb"
   ]
  },
  {
   "cell_type": "markdown",
   "metadata": {},
   "source": [
    "# 資料作成に使用する最もフィットするモデルはどれかを示すための表・グラフを作るためのプログラム\n"
   ]
  },
  {
   "cell_type": "code",
   "execution_count": 5,
   "metadata": {},
   "outputs": [],
   "source": [
    "def return_row_list(input_list):\n",
    "    sum_of_list = 0\n",
    "    return_list = []\n",
    "    for list_child in input_list:\n",
    "        sum_of_list += len(list_child)\n",
    "    for list_child in input_list:\n",
    "        num = len(list_child)/sum_of_list\n",
    "        try:\n",
    "            min_data = str(min(list_child))\n",
    "        except:\n",
    "            min_data = \"NoData\"\n",
    "        try:\n",
    "            max_data = str(max(list_child))\n",
    "        except:\n",
    "            min_data = \"NoData\"\n",
    "        string = f\"{num}({min_data}-{max_data})\"\n",
    "        return_list.append(str(num)+string)\n",
    "    return return_list"
   ]
  },
  {
   "cell_type": "code",
   "execution_count": 6,
   "metadata": {},
   "outputs": [
    {
     "name": "stdout",
     "output_type": "stream",
     "text": [
      "cg\n",
      "ep\n",
      "lu\n"
     ]
    }
   ],
   "source": [
    "csv_directory_path = './tmp_GenerateResources/'\n",
    "\n",
    "result_of_all = [[], [], []]\n",
    "list_for_csv = []\n",
    "for benchmark in benchmarks:\n",
    "    result_of_benchmark = [[], [], []]\n",
    "    file_name = benchmark+'.csv'\n",
    "    file_path = csv_directory_path+file_name\n",
    "    # ファイルが存在しない場合は処理を飛ばす\n",
    "    if(os.path.isfile(csv_directory_path+file_name) == False):\n",
    "        continue\n",
    "    # 完全に値をとれたもののみで集計するようにしている\n",
    "    if(benchmark != \"cg\" and benchmark != \"ep\" and benchmark != \"lu\"):\n",
    "        continue\n",
    "    \n",
    "    print(benchmark)\n",
    "    df = pd.read_csv(file_path, index_col=0)\n",
    "    columns = df.columns.values\n",
    "    indices = df.index.values\n",
    "    for index in indices:\n",
    "        row = df.loc[index].tolist()\n",
    "        result_of_benchmark[row.index(min(row))].append(min(row))\n",
    "        result_of_all[row.index(min(row))].append(min(row))\n",
    "    list_for_csv.append([benchmark, return_row_list(result_of_benchmark)])\n",
    "list_for_csv.append([\"all\", return_row_list(result_of_all)])"
   ]
  },
  {
   "cell_type": "code",
   "execution_count": 4,
   "metadata": {},
   "outputs": [
    {
     "name": "stdout",
     "output_type": "stream",
     "text": [
      "[['cg', ['00(0.0-6.918261603219528)', '00(7.99968321779567-9.589617808669685)', '00(NoData-9.589617808669685)']], ['ep', ['11(0.0-0.0)', '00(NoData-0.0)', '00(NoData-0.0)']], ['lu', ['00(0.0-0.0)', '00(15.23493037122562-17.01274273602921)', '00(0.0-12.247010037505465)']], ['all', ['00(0.0-6.918261603219528)', '00(7.99968321779567-17.01274273602921)', '00(0.0-12.247010037505465)']]]\n"
     ]
    }
   ],
   "source": [
    "print(list_for_csv)"
   ]
  },
  {
   "cell_type": "code",
   "execution_count": null,
   "metadata": {},
   "outputs": [],
   "source": []
  }
 ],
 "metadata": {
  "kernelspec": {
   "display_name": "Python 3",
   "language": "python",
   "name": "python3"
  },
  "language_info": {
   "codemirror_mode": {
    "name": "ipython",
    "version": 3
   },
   "file_extension": ".py",
   "mimetype": "text/x-python",
   "name": "python",
   "nbconvert_exporter": "python",
   "pygments_lexer": "ipython3",
   "version": "3.8.6"
  }
 },
 "nbformat": 4,
 "nbformat_minor": 4
}
