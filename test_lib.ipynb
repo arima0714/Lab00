{
 "cells": [
  {
   "cell_type": "code",
   "execution_count": null,
   "id": "3538c879-c933-4f23-9613-24daf2dd5473",
   "metadata": {},
   "outputs": [],
   "source": [
    "import pytest\n",
    "@pytest.fixture()\n",
    "def fixProcessRawData():\n",
    "    d = {\"Name\":\".TAU_application\", \"A\":[1.0], \"B\":[1.0], \"C\":[1.0], \"D\":[1.0]}\n",
    "    df = pd.DataFrame(data=d)\n",
    "    return df\n",
    "    \n",
    "@pytest.fixture()\n",
    "def fixClassRawData():\n",
    "    d = {\"Name\":\".TAU_application\", 1:[1.0], 2:[1.0], 4:[1.0], 8:[1.0], 16:[1.0], 32:[1.0], 64:[1.0], 128:[1.0], 256:[1.0], }\n",
    "    df = pd.DataFrame(data=d)\n",
    "    return df\n",
    "    \n",
    "def test_returnRawDF(fixProcessRawData):\n",
    "    assert fixProcessRawData == returnRawDF(Benchmark=\"cg\", functionName=\".TAU_application\", fix=\"Process\", benchmarkClass=[\"A\", \"B\", \"C\", \"D\"], FixedProcess=64)\n",
    "\n",
    "def test_returnRawDF(fixClassRawData):\n",
    "    assert fixClassRawData == returnRawDF(Benchmark=\"cg\", functionName=\".TAU_application\", fix=\"Class\", Process=[1,2,4,8,16,32,64,128,256], FixedBenchamrkClass=\"B\")\n",
    "    \n",
    "pytest.main(args=['-v'])"
   ]
  }
 ],
 "metadata": {
  "kernelspec": {
   "display_name": "Python 3",
   "language": "python",
   "name": "python3"
  },
  "language_info": {
   "codemirror_mode": {
    "name": "ipython",
    "version": 3
   },
   "file_extension": ".py",
   "mimetype": "text/x-python",
   "name": "python",
   "nbconvert_exporter": "python",
   "pygments_lexer": "ipython3",
   "version": "3.9.4"
  }
 },
 "nbformat": 4,
 "nbformat_minor": 5
}
