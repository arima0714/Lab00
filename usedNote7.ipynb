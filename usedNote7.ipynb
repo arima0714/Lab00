{
 "cells": [
  {
   "cell_type": "code",
   "execution_count": 1,
   "id": "fed3b5d0-64d3-48a2-9730-1d8779bb7f9d",
   "metadata": {},
   "outputs": [
    {
     "name": "stderr",
     "output_type": "stream",
     "text": [
      "DEBUG:__main__:hello\n",
      "DEBUG:lib.lab_lib:hello\n",
      "DEBUG:__main__:hello\n"
     ]
    }
   ],
   "source": [
    "%reset -f\n",
    "\n",
    "# jupyter_pwd = %pwd\n",
    "# if jupyter_pwd == \"/\":\n",
    "#     %cd /workspace\n",
    "\n",
    "\n",
    "# ipynb形式のライブラリのインポート\n",
    "%run ./lib/lib.ipynb\n",
    "\n",
    "# 生データの入ったCSVファイルの保持されたディレクトリ名を格納している変数\n",
    "csvDirPath = \"./csv_files/\"\n",
    "\n",
    "# NPBのベンチマーク名のリスト\n",
    "benchmarkNames = [\"cg\", \"ep\", \"ft\", \"is\", \"lu\", \"mg\"]\n",
    "\n",
    "# LULESH ベンチマークプログラムのプロセス数・問題サイズ・イテレーション数\n",
    "lulesh_processes: list[int] = [8, 27, 64, 125, 216, 343, 512]\n",
    "lulesh_iterations: list[int] = [8, 16, 32, 64, 128, 256]\n",
    "lulesh_sizes: list[int] = [16, 24, 32, 48, 64, 128]\n",
    "\n",
    "# ipynb形式のライブラリノートを.py形式に変更したものをインポート\n",
    "import lib\n",
    "import lib.lab_lib\n",
    "from lib.lab_lib import *\n",
    "\n",
    "train_lulesh_processes: list[int] = [8, 27, 64, 125, 216, 343]\n",
    "train_lulesh_iterations: list[int] = [8, 16, 32, 64, 128]\n",
    "train_lulesh_sizes: list[int] = [16, 24, 32, 48]\n",
    "\n",
    "test_lulesh_processes: list[int] = [512, 729, 1000]\n",
    "test_lulesh_iterations: list[int] = [256, 512, 1024]\n",
    "test_lulesh_sizes: list[int] = [64, 96, 128]\n",
    "\n",
    "list_modelName: list[str] = [\n",
    "    \"modelIp\",\n",
    "    \"modelLog\",\n",
    "    \"modelLinAndIp\",\n",
    "    \"modelLinAndLog\",\n",
    "    \"modelIpAndLin\",\n",
    "    \"modelIpAndLog\",\n",
    "    \"modelLogAndLin\",\n",
    "    \"modelLogAndIp\",\n",
    "    \"modelProcessDividedByProblemSize\",\n",
    "    \"modelProblemSizeDividedByProcess\",\n",
    "    \"modelInfiniteProductOfProblemSizeMultipliedByProcesses\",\n",
    "    \"modelInfiniteProductOfProblemSizeDividedByProcesses\",\n",
    "    \"modelLinearSumOf2elementCombination\",\n",
    "    \"modelLinearSumOfElementCombinations\",\n",
    "    \"modelLinearSumOf2elementCombinationWithSquared\",\n",
    "    \"modelLinearSumOf2elementCombinationWithCubed\",\n",
    "    \"modelSquareRootOfProcess\",\n",
    "    \"modelSquareRootTimesOtherElems\",\n",
    "    \"modelObeyOneParameter\",\n",
    "    \"modelLin\"\n",
    "    # \"modelBasicTree\",\n",
    "]\n",
    "\n",
    "\n",
    "# ipynb形式のライブラリのインポート\n",
    "%run ./lib/lib.ipynb\n",
    "\n",
    "# ipynb形式のライブラリノートを.py形式に変更したものをインポート\n",
    "import lib\n",
    "import lib.lab_lib\n",
    "from lib.lab_lib import *\n",
    "\n",
    "# 生データの入ったCSVファイルの保持されたディレクトリ名を格納している変数\n",
    "csvDirPath = \"./csv_files/\"\n",
    "\n",
    "# NPBのベンチマーク名のリスト\n",
    "benchmarkNames = [\"cg\", \"ep\", \"ft\", \"is\", \"lu\", \"mg\"]\n",
    "\n",
    "# NPBのプロセス数\n",
    "npb_process :list[int] = [2, 4, 8, 16, 32, 64, 128, 256]\n",
    "train_npb_process :list[int] = npb_process[:-1]\n",
    "test_npb_process :list[int] = npb_process[-1:]\n",
    "# NPBのCGの初期変数\n",
    "cg_na: list[int] = [14000, 30000, 75000, 100000, 1500000]\n",
    "cg_nonzer: list[int] = [11, 12, 13, 14, 15, 18, 21]\n",
    "cg_niter: list[int] = [15, 30, 75, 90, 100]\n",
    "cg_shift: list[int] = [20, 40, 60, 80, 110, 200]\n",
    "\n",
    "train_cg_na: list[int] = cg_na[:-1]\n",
    "train_cg_nonzer: list[int] = cg_nonzer[:-1]\n",
    "train_cg_niter: list[int] = cg_niter[:-1]\n",
    "train_cg_shift: list[int] = cg_shift[:-1]\n",
    "\n",
    "test_cg_na: list[int] = cg_na[-1:]\n",
    "test_cg_nonzer: list[int] = cg_nonzer[-1:]\n",
    "test_cg_niter: list[int] = cg_niter[-1:]\n",
    "test_cg_shift: list[int] = cg_shift[-1:]\n",
    "\n",
    "# LULESH ベンチマークプログラムのプロセス数・問題サイズ・イテレーション数\n",
    "lulesh_processes: list[int] = [8, 27, 64, 125, 216, 343, 512]\n",
    "lulesh_iterations: list[int] = [8, 16, 32, 64, 128, 256]\n",
    "lulesh_sizes: list[int] = [16, 24, 32, 48, 64, 128]\n",
    "\n",
    "train_lulesh_processes: list[int] = [8, 27, 64, 125, 216, 343]\n",
    "train_lulesh_iterations: list[int] = [8, 16, 32, 64, 128]\n",
    "train_lulesh_sizes: list[int] = [16, 24, 32, 48]\n",
    "\n",
    "test_lulesh_processes: list[int] = [512, 729, 1000]\n",
    "test_lulesh_iterations: list[int] = [256, 512, 1024]\n",
    "test_lulesh_sizes: list[int] = [64, 96, 128]\n",
    "\n",
    "# Extra-Pのオプション\n",
    "modelerNames: list[str] = [\n",
    "    # \"refining\", \n",
    "    \"multi-parameter\",\n",
    "    \"default\", \n",
    "    # \"basic --options poly_exponents=-1,0,1,2,3 log_exponents=0,1 force_combination_exponents=1 allow_negative_exponents=1\"\n",
    "    ]\n",
    "\n",
    "modelerOption: str = \"\"\" --options \\#spm=Basic \\#spo=poly_exponents=-1,0,1,2,3,log_exponents=0,1,force_combination_exponents=1,allow_negative_exponents=True\"\"\"\n",
    "\n",
    "list_modelName: list[str] = [\n",
    "    \"modelIp\",\n",
    "    \"modelLog\",\n",
    "    \"modelLinAndIp\",\n",
    "    \"modelLinAndLog\",\n",
    "    \"modelIpAndLin\",\n",
    "    \"modelIpAndLog\",\n",
    "    \"modelLogAndLin\",\n",
    "    \"modelLogAndIp\",\n",
    "    \"modelProcessDividedByProblemSize\",\n",
    "    \"modelProblemSizeDividedByProcess\",\n",
    "    \"modelInfiniteProductOfProblemSizeMultipliedByProcesses\",\n",
    "    \"modelInfiniteProductOfProblemSizeDividedByProcesses\",\n",
    "    \"modelLinearSumOf2elementCombination\",\n",
    "    \"modelLinearSumOfElementCombinations\",\n",
    "    \"modelLinearSumOf2elementCombinationWithSquared\",\n",
    "    \"modelLinearSumOf2elementCombinationWithCubed\",\n",
    "    \"modelSquareRootOfProcess\",\n",
    "    \"modelSquareRootTimesOtherElems\",\n",
    "    \"modelObeyOneParameter\",\n",
    "    \"modelLin\"\n",
    "    # \"modelBasicTree\",\n",
    "]\n",
    "list_csvDir = [\n",
    "    \"./csv_files/lulesh_1st/\",\n",
    "    \"./csv_files/lulesh_2nd/\",\n",
    "    \"./csv_files/lulesh_3rd/\",\n",
    "]"
   ]
  },
  {
   "cell_type": "code",
   "execution_count": 2,
   "id": "085a632c-67d2-4ae3-8b36-fdd948ede740",
   "metadata": {},
   "outputs": [
    {
     "name": "stderr",
     "output_type": "stream",
     "text": [
      "/tmp/ipykernel_82/3247132796.py:91: FutureWarning: The default value of numeric_only in DataFrame.mean is deprecated. In a future version, it will default to False. In addition, specifying 'numeric_only=None' is deprecated. Select only valid columns or specify the value of numeric_only to silence this warning.\n",
      "  resultDF.mean()\n"
     ]
    },
    {
     "data": {
      "text/plain": [
       "modelLin                               324.173667\n",
       "modelIp                                411.497704\n",
       "modelLog                               454.526334\n",
       "modelProcessDividedByProblemSize        40.081234\n",
       "modelProblemSizeDividedByProcess        35.645728\n",
       "modelLinAndIp                          421.093841\n",
       "modelLinAndLog                         455.735629\n",
       "modelIpAndLin                          315.660772\n",
       "modelIpAndLog                          446.710080\n",
       "modelLogAndLin                         323.795580\n",
       "modelLogAndIp                          419.026472\n",
       "modelLinearSumOf2elementCombination    194.468150\n",
       "modelLinearSumOfElementCombinations     41.843775\n",
       "最低値                                      4.756974\n",
       "dtype: float64"
      ]
     },
     "execution_count": 2,
     "metadata": {},
     "output_type": "execute_result"
    }
   ],
   "source": [
    "date: str = \"2022年10月10日\"\n",
    "\n",
    "input_rawDF: pd.DataFrame = return_rawDFinLULESH(\n",
    "    processes=lulesh_processes,\n",
    "    iterations=lulesh_iterations,\n",
    "    sizes=lulesh_sizes,\n",
    "    csvDirPath=csvDirPath,\n",
    ")\n",
    "\n",
    "input_rawDF = input_rawDF.rename(columns={\"Name\": \"functionName\"})\n",
    "\n",
    "input_list_expVarNames: list[str] = [\"process\", \"iteration\", \"size\"]\n",
    "input_list_resVarNames: list[str] = [\"#Call\"]\n",
    "\n",
    "\n",
    "\n",
    "list_modelName_before: list[str] = [\n",
    "    \"modelIp\",\n",
    "    \"modelLog\",\n",
    "    \"modelLinAndIp\",\n",
    "    \"modelLinAndLog\",\n",
    "    \"modelIpAndLin\",\n",
    "    \"modelIpAndLog\",\n",
    "    \"modelLogAndLin\",\n",
    "    \"modelLogAndIp\",\n",
    "    \"modelProcessDividedByProblemSize\",\n",
    "    \"modelProblemSizeDividedByProcess\",\n",
    "    # \"modelInfiniteProductOfProblemSizeMultipliedByProcesses\",\n",
    "    # \"modelInfiniteProductOfProblemSizeDividedByProcesses\",\n",
    "    \"modelLinearSumOf2elementCombination\",\n",
    "    \"modelLinearSumOfElementCombinations\",\n",
    "    # \"modelLinearSumOf2elementCombinationWithSquared\",\n",
    "    # \"modelLinearSumOf2elementCombinationWithCubed\",\n",
    "    # \"modelSquareRootOfProcess\",\n",
    "    # \"modelSquareRootTimesOtherElems\",\n",
    "    # \"modelObeyOneParameter\",\n",
    "    \"modelLin\"\n",
    "    # \"modelBasicTree\",\n",
    "]\n",
    "\n",
    "# 集合演算を用いて説明変数・目的変数が入力DFに存在していることを確認\n",
    "if input_list_expVarNames == [] or (\n",
    "    set(input_list_expVarNames).issubset(set(input_rawDF.columns.tolist())) == False\n",
    "):\n",
    "    warnings.warn(f\"説明変数の指定に誤りがあります\")\n",
    "    # return False\n",
    "if input_list_resVarNames == [] or (set(input_rawDF.columns.tolist()) == False):\n",
    "    warnings.warn(f\"問題変数の指定に誤りがあります\")\n",
    "    # return False\n",
    "\n",
    "function_names: list[str] = list(set(input_rawDF[\"functionName\"].tolist()))\n",
    "if len(function_names) == 0:\n",
    "    warnings.warn(\"与えられたDFに関数名がありません\")\n",
    "    # return False\n",
    "\n",
    "result_series_list: list[pd.Series] = []\n",
    "\n",
    "for function_name in function_names:\n",
    "    # 関数ごとの生データ\n",
    "    input_rawDF_per_function = input_rawDF[input_rawDF[\"functionName\"] == function_name]\n",
    "    # モデルの構築\n",
    "    models = Models(\n",
    "        inputDF=input_rawDF_per_function,\n",
    "        expVarColNames=input_list_expVarNames,\n",
    "        resVarColNames=input_list_resVarNames,\n",
    "        targetDF=None,\n",
    "        modelNames=list_modelName_before,\n",
    "    )\n",
    "\n",
    "    with warnings.catch_warnings():\n",
    "        warnings.simplefilter(\"ignore\")\n",
    "        models.setUpDataBeforeCalcLr()\n",
    "        models.calcLr()\n",
    "        models.calcMAPE()\n",
    "\n",
    "    dictCalcedMAPE = models.returnCalculatedMAPE()\n",
    "\n",
    "    # 算出されたMAPEの数値をfloatにする\n",
    "    for key in dictCalcedMAPE.keys():\n",
    "        dictCalcedMAPE[key] = float(dictCalcedMAPE[key])\n",
    "\n",
    "    # 関数ごとの結果に格納\n",
    "    dict_for_series: dict = copy.deepcopy(dictCalcedMAPE)\n",
    "    dict_for_series[\"functionName\"] = function_name\n",
    "\n",
    "    series = pd.Series(dict_for_series)\n",
    "    result_series_list.append(series)\n",
    "\n",
    "resultDF: pd.DataFrame = pd.DataFrame(result_series_list)\n",
    "resultDF = addLowestMAPEColumn(inputDF=resultDF, model_name_list=list_modelName_before, version=2)\n",
    "resultDF.mean()"
   ]
  },
  {
   "cell_type": "code",
   "execution_count": 3,
   "id": "a618869f-7da9-43da-8cc4-405ed272248a",
   "metadata": {},
   "outputs": [
    {
     "name": "stderr",
     "output_type": "stream",
     "text": [
      "/tmp/ipykernel_82/2574357198.py:90: FutureWarning: The default value of numeric_only in DataFrame.mean is deprecated. In a future version, it will default to False. In addition, specifying 'numeric_only=None' is deprecated. Select only valid columns or specify the value of numeric_only to silence this warning.\n",
      "  resultDF.mean()\n"
     ]
    },
    {
     "data": {
      "text/plain": [
       "modelLin                                                  29.441654\n",
       "modelIp                                                   59.154925\n",
       "modelLog                                                  52.719367\n",
       "modelProcessDividedByProblemSize                          29.798790\n",
       "modelProblemSizeDividedByProcess                          29.624622\n",
       "modelInfiniteProductOfProblemSizeDividedByProcesses       32.285411\n",
       "modelInfiniteProductOfProblemSizeMultipliedByProcesses    35.270480\n",
       "modelLinAndIp                                             66.857906\n",
       "modelLinAndLog                                            54.345673\n",
       "modelIpAndLin                                             22.268142\n",
       "modelIpAndLog                                             47.307227\n",
       "modelLogAndLin                                            28.010418\n",
       "modelLogAndIp                                             64.735627\n",
       "modelLinearSumOf2elementCombination                       34.761001\n",
       "modelLinearSumOfElementCombinations                        3.261087\n",
       "modelLinearSumOf2elementCombinationWithSquared            38.297241\n",
       "modelLinearSumOf2elementCombinationWithCubed              40.734855\n",
       "modelSquareRootOfProcess                                  28.765539\n",
       "modelSquareRootTimesOtherElems                            64.499527\n",
       "modelObeyOneParameter                                     29.441654\n",
       "最低値                                                        0.475034\n",
       "dtype: float64"
      ]
     },
     "execution_count": 3,
     "metadata": {},
     "output_type": "execute_result"
    }
   ],
   "source": [
    "date: str = \"2022年10月10日\"\n",
    "\n",
    "input_rawDF: pd.DataFrame = return_rawDFinLULESH(\n",
    "    processes=train_lulesh_processes,\n",
    "    iterations=train_lulesh_iterations,\n",
    "    sizes=train_lulesh_sizes,\n",
    "    csvDirPath=csvDirPath,\n",
    ")\n",
    "\n",
    "input_rawDF = input_rawDF.rename(columns={\"Name\": \"functionName\"})\n",
    "\n",
    "input_list_expVarNames: list[str] = [\"process\", \"iteration\", \"size\"]\n",
    "input_list_resVarNames: list[str] = [\"#Call\"]\n",
    "\n",
    "list_modelName: list[str] = [\n",
    "    \"modelIp\",\n",
    "    \"modelLog\",\n",
    "    \"modelLinAndIp\",\n",
    "    \"modelLinAndLog\",\n",
    "    \"modelIpAndLin\",\n",
    "    \"modelIpAndLog\",\n",
    "    \"modelLogAndLin\",\n",
    "    \"modelLogAndIp\",\n",
    "    \"modelProcessDividedByProblemSize\",\n",
    "    \"modelProblemSizeDividedByProcess\",\n",
    "    \"modelInfiniteProductOfProblemSizeMultipliedByProcesses\",\n",
    "    \"modelInfiniteProductOfProblemSizeDividedByProcesses\",\n",
    "    \"modelLinearSumOf2elementCombination\",\n",
    "    \"modelLinearSumOfElementCombinations\",\n",
    "    \"modelLinearSumOf2elementCombinationWithSquared\",\n",
    "    \"modelLinearSumOf2elementCombinationWithCubed\",\n",
    "    \"modelSquareRootOfProcess\",\n",
    "    \"modelSquareRootTimesOtherElems\",\n",
    "    \"modelObeyOneParameter\",\n",
    "    \"modelLin\"\n",
    "    # \"modelBasicTree\",\n",
    "]\n",
    "\n",
    "# 集合演算を用いて説明変数・目的変数が入力DFに存在していることを確認\n",
    "if input_list_expVarNames == [] or (\n",
    "    set(input_list_expVarNames).issubset(set(input_rawDF.columns.tolist())) == False\n",
    "):\n",
    "    warnings.warn(f\"説明変数の指定に誤りがあります\")\n",
    "    # return False\n",
    "if input_list_resVarNames == [] or (set(input_rawDF.columns.tolist()) == False):\n",
    "    warnings.warn(f\"問題変数の指定に誤りがあります\")\n",
    "    # return False\n",
    "\n",
    "function_names: list[str] = list(set(input_rawDF[\"functionName\"].tolist()))\n",
    "if len(function_names) == 0:\n",
    "    warnings.warn(\"与えられたDFに関数名がありません\")\n",
    "    # return False\n",
    "\n",
    "result_series_list: list[pd.Series] = []\n",
    "\n",
    "for function_name in function_names:\n",
    "    # 関数ごとの生データ\n",
    "    input_rawDF_per_function = input_rawDF[input_rawDF[\"functionName\"] == function_name]\n",
    "    # モデルの構築\n",
    "    models = Models(\n",
    "        inputDF=input_rawDF_per_function,\n",
    "        expVarColNames=input_list_expVarNames,\n",
    "        resVarColNames=input_list_resVarNames,\n",
    "        targetDF=None,\n",
    "        modelNames=list_modelName,\n",
    "    )\n",
    "\n",
    "\n",
    "    with warnings.catch_warnings():\n",
    "        warnings.simplefilter(\"ignore\")\n",
    "        models.setUpDataBeforeCalcLr()\n",
    "        models.calcLr()\n",
    "        models.calcMAPE()\n",
    "\n",
    "    dictCalcedMAPE = models.returnCalculatedMAPE()\n",
    "\n",
    "    # 算出されたMAPEの数値をfloatにする\n",
    "    for key in dictCalcedMAPE.keys():\n",
    "        dictCalcedMAPE[key] = float(dictCalcedMAPE[key])\n",
    "\n",
    "    # 関数ごとの結果に格納\n",
    "    dict_for_series: dict = copy.deepcopy(dictCalcedMAPE)\n",
    "    dict_for_series[\"functionName\"] = function_name\n",
    "\n",
    "    series = pd.Series(dict_for_series)\n",
    "    result_series_list.append(series)\n",
    "\n",
    "resultDF: pd.DataFrame = pd.DataFrame(result_series_list)\n",
    "resultDF = addLowestMAPEColumn(inputDF=resultDF, model_name_list=list_modelName, version=2)\n",
    "resultDF.mean()"
   ]
  },
  {
   "cell_type": "code",
   "execution_count": 4,
   "id": "1aac57b4-ae86-454b-a7de-c00aec216662",
   "metadata": {},
   "outputs": [
    {
     "name": "stderr",
     "output_type": "stream",
     "text": [
      "/usr/local/lib/python3.10/site-packages/scipy/optimize/_minpack_py.py:881: OptimizeWarning: Covariance of the parameters could not be estimated\n",
      "  warnings.warn('Covariance of the parameters could not be estimated',\n",
      "/usr/local/lib/python3.10/site-packages/scipy/optimize/_minpack_py.py:881: OptimizeWarning: Covariance of the parameters could not be estimated\n",
      "  warnings.warn('Covariance of the parameters could not be estimated',\n"
     ]
    }
   ],
   "source": [
    "# 2022年10月14日 研究室内発表用 資料作成\n",
    "\n",
    "# |<既存モデル>|<すべてのモデル>|\n",
    "# |<MAPE@既存モデル>|<MAPE＠すべてのモデル>|\n",
    "\n",
    "expVar :list[str] = [\"process\", \"iteration\", \"size\"]\n",
    "resVar :str = \"#Call\"\n",
    "\n",
    "trainDF: pd.DataFrame = ret_averaged_rawDF_lulesh(\n",
    "    list_process=train_lulesh_processes,\n",
    "    list_iteration=train_lulesh_iterations,\n",
    "    list_size=train_lulesh_sizes,\n",
    "    list_csvDir=list_csvDir,\n",
    "    resVar = resVar,\n",
    ")\n",
    "\n",
    "trainDF = trainDF.reset_index()\n",
    "\n",
    "trainDF[\"functionName\"] = trainDF[\"Name\"]\n",
    "\n",
    "functionNames :list[str] = sorted(list(set(trainDF[\"Name\"])))\n",
    "\n",
    "_result_series_list :list[pd.Series] = []\n",
    "_result_series_list_before :list[pd.Series] = []\n",
    "for functionName in functionNames:\n",
    "    trainDF_perFunc :pd.DataFrame = trainDF[trainDF[\"functionName\"] == functionName]\n",
    "\n",
    "    models = Models(inputDF=trainDF_perFunc,\n",
    "    expVarColNames=expVar,\n",
    "    resVarColNames=[resVar],\n",
    "    targetDF=None,\n",
    "    modelNames=list_modelName,\n",
    "    )\n",
    "\n",
    "    models_before = Models(\n",
    "        inputDF=trainDF_perFunc,\n",
    "        expVarColNames=expVar,\n",
    "        resVarColNames=[resVar],\n",
    "        targetDF=None,\n",
    "        modelNames=list_modelName_before,\n",
    "    )\n",
    "\n",
    "    models.setUpDataBeforeCalcLr()\n",
    "    models.calcLr()\n",
    "    models.calcMAPE()\n",
    "    \n",
    "    models_before.setUpDataBeforeCalcLr()\n",
    "    models_before.calcLr()\n",
    "    models_before.calcMAPE()\n",
    "\n",
    "    dictCalcedMAPE = models.returnCalculatedMAPE()\n",
    "    dictCalcedMAPE_before = models_before.returnCalculatedMAPE()\n",
    "\n",
    "    for key in dictCalcedMAPE.keys():\n",
    "        dictCalcedMAPE[key] = float(dictCalcedMAPE[key])\n",
    "    for key in dictCalcedMAPE_before.keys():\n",
    "        dictCalcedMAPE_before[key] = float(dictCalcedMAPE_before[key])\n",
    "\n",
    "    dict_for_series :dict = copy.deepcopy(dictCalcedMAPE)\n",
    "    dict_for_series[\"functionName\"] = functionName\n",
    "\n",
    "    dict_for_series_before :dict = copy.deepcopy(dictCalcedMAPE_before)\n",
    "    dict_for_series_before[\"functionName\"] = functionName\n",
    "\n",
    "    series :pd.DataFrame = pd.Series(dict_for_series)\n",
    "    series_before :pd.DataFrame = pd.Series(dict_for_series_before)\n",
    "    \n",
    "    _result_series_list.append(series)\n",
    "    _result_series_list_before.append(series_before)\n",
    "\n",
    "resultDF :pd.DataFrame = pd.DataFrame(_result_series_list)\n",
    "resultDF = addLowestMAPEColumn(inputDF=resultDF, model_name_list=list_modelName, version=2)\n",
    "resultDF_before :pd.DataFrame = pd.DataFrame(_result_series_list_before)\n",
    "resultDF_before = addLowestMAPEColumn(inputDF=resultDF_before, model_name_list=list_modelName_before, version=2)\n"
   ]
  },
  {
   "cell_type": "code",
   "execution_count": 5,
   "id": "59b1d781-aa1b-449a-9513-23ccc48ffe43",
   "metadata": {},
   "outputs": [],
   "source": [
    "# resultDF"
   ]
  },
  {
   "cell_type": "code",
   "execution_count": 6,
   "id": "6da8df1a-0691-48c6-add3-0ca117dbefc5",
   "metadata": {},
   "outputs": [],
   "source": [
    "# resultDF_before"
   ]
  },
  {
   "cell_type": "code",
   "execution_count": 7,
   "id": "fb32d0c3-3cd0-4928-a84d-ff5faddb5541",
   "metadata": {},
   "outputs": [
    {
     "name": "stdout",
     "output_type": "stream",
     "text": [
      "modelLin                                                  222179.489821\n",
      "modelIp                                                   223497.366933\n",
      "modelLog                                                  223015.868812\n",
      "modelProcessDividedByProblemSize                             114.113756\n",
      "modelProblemSizeDividedByProcess                             109.585829\n",
      "modelInfiniteProductOfProblemSizeDividedByProcesses          112.047110\n",
      "modelInfiniteProductOfProblemSizeMultipliedByProcesses       112.634686\n",
      "modelLinAndIp                                             224937.799479\n",
      "modelLinAndLog                                            225657.851702\n",
      "modelIpAndLin                                             224677.364035\n",
      "modelIpAndLog                                             228642.094382\n",
      "modelLogAndLin                                            217973.966443\n",
      "modelLogAndIp                                             219952.365344\n",
      "modelLinearSumOf2elementCombination                       185327.084954\n",
      "modelLinearSumOfElementCombinations                       229591.660065\n",
      "modelLinearSumOf2elementCombinationWithSquared            232451.512990\n",
      "modelLinearSumOf2elementCombinationWithCubed              225786.540482\n",
      "modelSquareRootOfProcess                                  217637.402990\n",
      "modelSquareRootTimesOtherElems                            192621.816842\n",
      "modelObeyOneParameter                                     222179.489821\n",
      "最低値                                                           97.549802\n",
      "dtype: float64\n",
      "modelLin                               222179.489821\n",
      "modelIp                                223497.366933\n",
      "modelLog                               223015.868812\n",
      "modelProcessDividedByProblemSize          114.113756\n",
      "modelProblemSizeDividedByProcess          109.585829\n",
      "modelLinAndIp                          224937.799479\n",
      "modelLinAndLog                         225657.851702\n",
      "modelIpAndLin                          224677.364035\n",
      "modelIpAndLog                          228642.094382\n",
      "modelLogAndLin                         217973.966443\n",
      "modelLogAndIp                          219952.365344\n",
      "modelLinearSumOf2elementCombination    185327.084954\n",
      "modelLinearSumOfElementCombinations    229591.660065\n",
      "最低値                                        98.813061\n",
      "dtype: float64\n"
     ]
    },
    {
     "name": "stderr",
     "output_type": "stream",
     "text": [
      "/tmp/ipykernel_82/587506451.py:1: FutureWarning: The default value of numeric_only in DataFrame.mean is deprecated. In a future version, it will default to False. In addition, specifying 'numeric_only=None' is deprecated. Select only valid columns or specify the value of numeric_only to silence this warning.\n",
      "  print(resultDF.mean())\n",
      "/tmp/ipykernel_82/587506451.py:2: FutureWarning: The default value of numeric_only in DataFrame.mean is deprecated. In a future version, it will default to False. In addition, specifying 'numeric_only=None' is deprecated. Select only valid columns or specify the value of numeric_only to silence this warning.\n",
      "  print(resultDF_before.mean())\n"
     ]
    }
   ],
   "source": [
    "print(resultDF.mean())\n",
    "print(resultDF_before.mean())"
   ]
  },
  {
   "cell_type": "code",
   "execution_count": 8,
   "id": "1c0a3ebb-47ab-4359-8489-634249725695",
   "metadata": {},
   "outputs": [],
   "source": [
    "# CG"
   ]
  },
  {
   "cell_type": "code",
   "execution_count": 9,
   "id": "3f953908-43d1-4bc6-8418-6fa3441c7f48",
   "metadata": {},
   "outputs": [
    {
     "name": "stderr",
     "output_type": "stream",
     "text": [
      "/root/src/lib/lab_lib.py:8785: UserWarning: ./csv_files/cg_na75000_nonzer18_niter30_shift60_process4.csv is empty.\n",
      "  warnings.warn(f\"{filePath} is empty.\")\n",
      "/root/src/lib/lab_lib.py:8785: UserWarning: ./csv_files/cg_na75000_nonzer15_niter90_shift80_process8.csv is empty.\n",
      "  warnings.warn(f\"{filePath} is empty.\")\n"
     ]
    }
   ],
   "source": [
    "trainDF_CG: pd.DataFrame = return_rawDF_cg(\n",
    "    list_process=train_npb_process,\n",
    "    list_na=train_cg_na,\n",
    "    list_nonzer=train_cg_nonzer,\n",
    "    list_niter=train_cg_niter,\n",
    "    list_shift=train_cg_shift,\n",
    "    csvDir=csvDirPath,\n",
    ")\n",
    "\n",
    "testDF_CG: pd.DataFrame = return_rawDF_cg(\n",
    "    list_process=test_npb_process,\n",
    "    list_na=test_cg_na,\n",
    "    list_nonzer=test_cg_nonzer,\n",
    "    list_niter=test_cg_niter,\n",
    "    list_shift=test_cg_shift,\n",
    "    csvDir=csvDirPath,\n",
    ")\n",
    "\n",
    "trainDF_CG = trainDF_CG.reset_index()\n",
    "testDF_CG = testDF_CG.reset_index()\n",
    "\n",
    "trainDF_CG[\"functionName\"] = trainDF_CG[\"Name\"]\n",
    "testDF_CG[\"functionName\"] = testDF_CG[\"Name\"]\n",
    "\n",
    "functionNames_CG: list[str] = sorted(list(set(trainDF_CG[\"Name\"])))\n",
    "\n",
    "expVar_CG: list[str] = [\"process\", \"na\", \"nonzer\", \"niter\", \"shift\"]\n",
    "resVar_CG: str = \"#Call\"\n",
    "\n",
    "dict_symbols_CG = {}\n",
    "for elem in expVar_CG:\n",
    "    dict_symbols_CG[elem] = symbols(elem, real=True)\n",
    "\n",
    "target_env_cg = [\n",
    "    (dict_symbols_CG[\"process\"], test_npb_process[-1]),\n",
    "    (dict_symbols_CG[\"na\"], test_cg_na[-1]),\n",
    "    (dict_symbols_CG[\"nonzer\"], test_cg_nonzer[-1]),\n",
    "    (dict_symbols_CG[\"niter\"], test_cg_niter[-1]),\n",
    "    (dict_symbols_CG[\"shift\"], test_cg_shift[-1]),\n",
    "]"
   ]
  },
  {
   "cell_type": "raw",
   "id": "e27838dd-5c60-403d-9f78-076be4b032a2",
   "metadata": {},
   "source": [
    "# 関数コール回数予測\n",
    "\n",
    "dict_models_perFunc_CG: dict[str, dict[str, str]] = []\n",
    "\n",
    "for functionName in functionNames_CG:\n",
    "    pass\n",
    "\n",
    "trainDF_perFunc: pd.DataFrame = trainDF_CG[\n",
    "    trainDF_CG[\"Name\"] == functionName\n",
    "].reset_index()\n",
    "\n",
    "str_ExtraPinputData_call: str = gen_ExtraPinputDataFromDF(\n",
    "    inputDF=trainDF_perFunc,\n",
    "    expVar=expVar_CG,\n",
    "    resVar=resVar_CG,\n",
    ")\n",
    "\n",
    "# モデル格納用の辞書\n",
    "dictModels: dict[str, str] = {}\n",
    "\n",
    "# Extra-Pによるモデルの構築\n",
    "converted_functionName: str = re.sub(r'[\\\\|/|:|?|.|\"|<|>|\\|\\(|\\)|]', \"-\", functionName)\n",
    "fileName: str = f\"input_cg@{converted_functionName}\"\n",
    "fileDir: str = f\"./extra-p_docker/share/\"\n",
    "filePath: str = fileDir + fileName\n",
    "\n",
    "with open(file=filePath, mode=\"w\") as f:\n",
    "    f.write(str_ExtraPinputData_call)\n",
    "\n",
    "for modelerName in modelerNames:\n",
    "    str_resFromExtraP: str = subprocess.run(\n",
    "        f\"extrap --text {filePath} --modeler {modelerName} | grep Model\",\n",
    "        stdout=subprocess.PIPE,\n",
    "        text=True,\n",
    "        shell=True,\n",
    "    ).stdout\n",
    "    str_resFromExtraP = str_resFromExtraP.replace(\"Model: \", \"\")\n",
    "    str_resFromExtraP = convert_log(str_resFromExtraP)\n",
    "    print(str_resFromExtraP)\n",
    "    model_fromExtraP = sympify(str_resFromExtraP, locals=dict_symbols_CG)\n",
    "    dictModels[modelerName]\n",
    "\n",
    "# 提案手法によるモデルの構築\n",
    "bestModelDict: dict = return_bestModelObject(\n",
    "    inputDF=trainDF_perFunc,\n",
    "    list_expVar=expVar_CG,\n",
    "    list_resVar=[resVar_CG],\n",
    "    list_modelName=list_modelName,\n",
    ")\n",
    "\n",
    "dictModels[\"proposal\"] = bestModelDict[\"object\"]\n",
    "\n",
    "dict_models_perFunc_CG[functionName] = dictModels"
   ]
  },
  {
   "cell_type": "code",
   "execution_count": 10,
   "id": "966705b7-dcf7-493e-9b0d-dcb55e837e6d",
   "metadata": {},
   "outputs": [],
   "source": [
    "_list_series: list[pd.Series] = []\n",
    "\n",
    "for functionNames in functionNames_CG:\n",
    "    pass"
   ]
  },
  {
   "cell_type": "markdown",
   "id": "5707e0c2-d1be-46f3-bed0-acea22c4e7c2",
   "metadata": {},
   "source": [
    "-----"
   ]
  },
  {
   "cell_type": "markdown",
   "id": "2962c993-a2ea-4a42-810a-a92b2e2d5f18",
   "metadata": {},
   "source": [
    "=====\n"
   ]
  },
  {
   "cell_type": "code",
   "execution_count": 11,
   "id": "7e140081-1f83-4895-807d-616f3ff7564c",
   "metadata": {},
   "outputs": [],
   "source": [
    "def ret_averaged_rawDF_cg(\n",
    "    list_process=list[int],\n",
    "    list_na=list[int],\n",
    "    list_nonzer=list[int],\n",
    "    list_niter=list[int],\n",
    "    list_shift=list[int],\n",
    "    list_csvDir=list[str],\n",
    "    resVar=str,\n",
    "):\n",
    "    \"\"\"複数のCSVからDFを取得する関数\n",
    "\n",
    "    引数resVarで指定された列がInclusiveもしくはExclusiveの場合はそれらが秒に変換され、InclusivePerCall列もしくはExclusivePerCall列が生成される\n",
    "\n",
    "    Args:\n",
    "        list_process(list[int]):プロセス数\n",
    "        list_na(list[int]):初期変数na\n",
    "        list_nonzer(list[int]):初期変数nonzer\n",
    "        list_niter(list[int]):初期変数niter\n",
    "        list_shift(list[int]):初期変数shift\n",
    "        list_csvDir(list[str]):CSVファイルのディレクトリを複数保持したリスト\n",
    "        resVar(str):目的変数のカラム名\n",
    "    \"\"\"\n",
    "    pass"
   ]
  },
  {
   "cell_type": "code",
   "execution_count": 12,
   "id": "4289e4b7-4fce-4e3b-bc19-44c329319766",
   "metadata": {},
   "outputs": [
    {
     "name": "stderr",
     "output_type": "stream",
     "text": [
      "DEBUG:__main__:hello\n",
      "DEBUG:__main__:hello\n"
     ]
    }
   ],
   "source": [
    "%reset -f\n",
    "\n",
    "# jupyter_pwd = %pwd\n",
    "# if jupyter_pwd == \"/\":\n",
    "#     %cd /workspace\n",
    "\n",
    "\n",
    "# ipynb形式のライブラリのインポート\n",
    "%run ./lib/lib.ipynb\n",
    "\n",
    "# 生データの入ったCSVファイルの保持されたディレクトリ名を格納している変数\n",
    "csvDirPath = \"./csv_files/\"\n",
    "\n",
    "# NPBのベンチマーク名のリスト\n",
    "benchmarkNames = [\"cg\", \"ep\", \"ft\", \"is\", \"lu\", \"mg\"]\n",
    "\n",
    "# LULESH ベンチマークプログラムのプロセス数・問題サイズ・イテレーション数\n",
    "lulesh_processes: list[int] = [8, 27, 64, 125, 216, 343, 512]\n",
    "lulesh_iterations: list[int] = [8, 16, 32, 64, 128, 256]\n",
    "lulesh_sizes: list[int] = [16, 24, 32, 48, 64, 128]\n",
    "\n",
    "# ipynb形式のライブラリノートを.py形式に変更したものをインポート\n",
    "import lib\n",
    "import lib.lab_lib\n",
    "from lib.lab_lib import *\n",
    "\n",
    "train_lulesh_processes: list[int] = [8, 27, 64, 125, 216, 343]\n",
    "train_lulesh_iterations: list[int] = [8, 16, 32, 64, 128]\n",
    "train_lulesh_sizes: list[int] = [16, 24, 32, 48]\n",
    "\n",
    "test_lulesh_processes: list[int] = [512, 729, 1000]\n",
    "test_lulesh_iterations: list[int] = [256, 512, 1024]\n",
    "test_lulesh_sizes: list[int] = [64, 96, 128]\n",
    "\n",
    "list_modelName: list[str] = [\n",
    "    \"modelIp\",\n",
    "    \"modelLog\",\n",
    "    \"modelLinAndIp\",\n",
    "    \"modelLinAndLog\",\n",
    "    \"modelIpAndLin\",\n",
    "    \"modelIpAndLog\",\n",
    "    \"modelLogAndLin\",\n",
    "    \"modelLogAndIp\",\n",
    "    \"modelProcessDividedByProblemSize\",\n",
    "    \"modelProblemSizeDividedByProcess\",\n",
    "    \"modelInfiniteProductOfProblemSizeMultipliedByProcesses\",\n",
    "    \"modelInfiniteProductOfProblemSizeDividedByProcesses\",\n",
    "    \"modelLinearSumOf2elementCombination\",\n",
    "    \"modelLinearSumOfElementCombinations\",\n",
    "    \"modelLinearSumOf2elementCombinationWithSquared\",\n",
    "    \"modelLinearSumOf2elementCombinationWithCubed\",\n",
    "    \"modelSquareRootOfProcess\",\n",
    "    \"modelSquareRootTimesOtherElems\",\n",
    "    \"modelObeyOneParameter\",\n",
    "    \"modelLin\"\n",
    "    # \"modelBasicTree\",\n",
    "]\n",
    "\n",
    "\n",
    "# ipynb形式のライブラリのインポート\n",
    "%run ./lib/lib.ipynb\n",
    "\n",
    "# ipynb形式のライブラリノートを.py形式に変更したものをインポート\n",
    "import lib\n",
    "import lib.lab_lib\n",
    "from lib.lab_lib import *\n",
    "\n",
    "# 生データの入ったCSVファイルの保持されたディレクトリ名を格納している変数\n",
    "csvDirPath = \"./csv_files/\"\n",
    "\n",
    "# NPBのベンチマーク名のリスト\n",
    "benchmarkNames = [\"cg\", \"ep\", \"ft\", \"is\", \"lu\", \"mg\"]\n",
    "\n",
    "# NPBのプロセス数\n",
    "npb_process :list[int] = [2, 4, 8, 16, 32, 64, 128, 256]\n",
    "train_npb_process :list[int] = npb_process[:-1]\n",
    "test_npb_process :list[int] = npb_process[-1:]\n",
    "# NPBのCGの初期変数\n",
    "cg_na: list[int] = [14000, 30000, 75000, 100000, 1500000]\n",
    "cg_nonzer: list[int] = [11, 12, 13, 14, 15, 18, 21]\n",
    "cg_niter: list[int] = [15, 30, 75, 90, 100]\n",
    "cg_shift: list[int] = [20, 40, 60, 80, 110, 200]\n",
    "\n",
    "train_cg_na: list[int] = cg_na[:-1]\n",
    "train_cg_nonzer: list[int] = cg_nonzer[:-1]\n",
    "train_cg_niter: list[int] = cg_niter[:-1]\n",
    "train_cg_shift: list[int] = cg_shift[:-1]\n",
    "\n",
    "test_cg_na: list[int] = cg_na[-1:]\n",
    "test_cg_nonzer: list[int] = cg_nonzer[-1:]\n",
    "test_cg_niter: list[int] = cg_niter[-1:]\n",
    "test_cg_shift: list[int] = cg_shift[-1:]\n",
    "\n",
    "# LULESH ベンチマークプログラムのプロセス数・問題サイズ・イテレーション数\n",
    "lulesh_processes: list[int] = [8, 27, 64, 125, 216, 343, 512]\n",
    "lulesh_iterations: list[int] = [8, 16, 32, 64, 128, 256]\n",
    "lulesh_sizes: list[int] = [16, 24, 32, 48, 64, 128]\n",
    "\n",
    "train_lulesh_processes: list[int] = [8, 27, 64, 125, 216, 343]\n",
    "train_lulesh_iterations: list[int] = [8, 16, 32, 64, 128]\n",
    "train_lulesh_sizes: list[int] = [16, 24, 32, 48]\n",
    "\n",
    "test_lulesh_processes: list[int] = [512, 729, 1000]\n",
    "test_lulesh_iterations: list[int] = [256, 512, 1024]\n",
    "test_lulesh_sizes: list[int] = [64, 96, 128]\n",
    "\n",
    "# Extra-Pのオプション\n",
    "modelerNames: list[str] = [\n",
    "    # \"refining\", \n",
    "    \"multi-parameter\",\n",
    "    \"default\", \n",
    "    # \"basic --options poly_exponents=-1,0,1,2,3 log_exponents=0,1 force_combination_exponents=1 allow_negative_exponents=1\"\n",
    "    ]\n",
    "\n",
    "modelerOption: str = \"\"\" --options \\#spm=Basic \\#spo=poly_exponents=-1,0,1,2,3,log_exponents=0,1,force_combination_exponents=1,allow_negative_exponents=True\"\"\"\n",
    "\n",
    "list_modelName: list[str] = [\n",
    "    \"modelIp\",\n",
    "    \"modelLog\",\n",
    "    \"modelLinAndIp\",\n",
    "    \"modelLinAndLog\",\n",
    "    \"modelIpAndLin\",\n",
    "    \"modelIpAndLog\",\n",
    "    \"modelLogAndLin\",\n",
    "    \"modelLogAndIp\",\n",
    "    \"modelProcessDividedByProblemSize\",\n",
    "    \"modelProblemSizeDividedByProcess\",\n",
    "    \"modelInfiniteProductOfProblemSizeMultipliedByProcesses\",\n",
    "    \"modelInfiniteProductOfProblemSizeDividedByProcesses\",\n",
    "    \"modelLinearSumOf2elementCombination\",\n",
    "    \"modelLinearSumOfElementCombinations\",\n",
    "    \"modelLinearSumOf2elementCombinationWithSquared\",\n",
    "    \"modelLinearSumOf2elementCombinationWithCubed\",\n",
    "    \"modelSquareRootOfProcess\",\n",
    "    \"modelSquareRootTimesOtherElems\",\n",
    "    \"modelObeyOneParameter\",\n",
    "    \"modelLin\"\n",
    "    # \"modelBasicTree\",\n",
    "]\n",
    "list_csvDir = [\n",
    "    \"./csv_files/lulesh_1st/\",\n",
    "    \"./csv_files/lulesh_2nd/\",\n",
    "    \"./csv_files/lulesh_3rd/\",\n",
    "]"
   ]
  },
  {
   "cell_type": "code",
   "execution_count": 13,
   "id": "9698027f-7e30-414e-a28b-fa582d4d44c4",
   "metadata": {},
   "outputs": [],
   "source": [
    "# LULESH"
   ]
  },
  {
   "cell_type": "code",
   "execution_count": 14,
   "id": "dc366c2b-1b99-4884-b0c6-bb609880c1fb",
   "metadata": {},
   "outputs": [],
   "source": [
    "expVar: list[str] = [\"process\", \"iteration\", \"size\"]\n",
    "resVar: str = \"Exclusive\"\n",
    "\n",
    "trainDF: pd.DataFrame = ret_averaged_rawDF_lulesh(\n",
    "    list_process=train_lulesh_processes,\n",
    "    list_iteration=train_lulesh_iterations,\n",
    "    list_size=train_lulesh_sizes,\n",
    "    list_csvDir=list_csvDir,\n",
    "    resVar=resVar,\n",
    ")\n",
    "\n",
    "testDF: pd.DataFrame = ret_averaged_rawDF_lulesh(\n",
    "    list_process=test_lulesh_processes,\n",
    "    list_iteration=test_lulesh_iterations,\n",
    "    list_size=test_lulesh_sizes,\n",
    "    list_csvDir=list_csvDir,\n",
    "    resVar=resVar,\n",
    ")\n",
    "\n",
    "testDF = testDF.reset_index()\n",
    "trainDF = trainDF.reset_index()\n",
    "\n",
    "testDF[\"functionName\"] = testDF[\"Name\"]\n",
    "trainDF[\"functionName\"] = trainDF[\"Name\"]\n",
    "\n",
    "functionNames: list[str] = sorted(list(set(trainDF[\"Name\"])))\n",
    "\n",
    "dict_symbols = {}\n",
    "for elem in expVar:\n",
    "    dict_symbols[elem] = symbols(elem, real=True)\n",
    "\n",
    "target_env = [\n",
    "    (dict_symbols[\"size\"], test_lulesh_sizes[-1]),\n",
    "    (dict_symbols[\"iteration\"], test_lulesh_iterations[-1]),\n",
    "    (dict_symbols[\"process\"], test_lulesh_processes[-1]),\n",
    "]"
   ]
  },
  {
   "cell_type": "code",
   "execution_count": 15,
   "id": "4b161e9e-f4ad-46d7-9e56-df21ad9b92de",
   "metadata": {
    "tags": []
   },
   "outputs": [
    {
     "name": "stdout",
     "output_type": "stream",
     "text": [
      "functionName = .TAU_application\n",
      "converted_functionName = -TAU_application\n",
      "filePath = ./extra-p_docker/share/input_lulesh_@-TAU_application\n",
      "extrap --text ./extra-p_docker/share/input_lulesh_@-TAU_application --modeler multi-parameter  --options \\#spm=Basic \\#spo=poly_exponents=-1,0,1,2,3,log_exponents=0,1,force_combination_exponents=1,allow_negative_exponents=True\n"
     ]
    },
    {
     "name": "stderr",
     "output_type": "stream",
     "text": [
      "Loading file: 100%|██████████| [00:00<00:00, Validating experiment]\n",
      "Generating models: |          | [00:00<?]/usr/local/lib/python3.10/site-packages/extrap/modelers/single_parameter/basic.py:273: UserWarning: Number of measurements for a parameter needs to be at least 5 in order to create a performance model.\n",
      "  warnings.warn(\n",
      "Generating models: 100%|██████████| [00:00<00:00]\n"
     ]
    },
    {
     "name": "stdout",
     "output_type": "stream",
     "text": [
      "extrap --text ./extra-p_docker/share/input_lulesh_@-TAU_application --modeler default  --options \\#spm=Basic \\#spo=poly_exponents=-1,0,1,2,3,log_exponents=0,1,force_combination_exponents=1,allow_negative_exponents=True\n"
     ]
    },
    {
     "name": "stderr",
     "output_type": "stream",
     "text": [
      "Loading file: 100%|██████████| [00:00<00:00, Validating experiment]\n",
      "Generating models: |          | [00:00<?]/usr/local/lib/python3.10/site-packages/extrap/modelers/single_parameter/basic.py:273: UserWarning: Number of measurements for a parameter needs to be at least 5 in order to create a performance model.\n",
      "  warnings.warn(\n",
      "Generating models: 100%|██████████| [00:00<00:00]\n",
      "/usr/local/lib/python3.10/site-packages/scipy/optimize/_minpack_py.py:881: OptimizeWarning: Covariance of the parameters could not be estimated\n",
      "  warnings.warn('Covariance of the parameters could not be estimated',\n",
      "/usr/local/lib/python3.10/site-packages/scipy/optimize/_minpack_py.py:881: OptimizeWarning: Covariance of the parameters could not be estimated\n",
      "  warnings.warn('Covariance of the parameters could not be estimated',\n",
      "/usr/local/lib/python3.10/site-packages/scipy/optimize/_minpack_py.py:881: OptimizeWarning: Covariance of the parameters could not be estimated\n",
      "  warnings.warn('Covariance of the parameters could not be estimated',\n"
     ]
    },
    {
     "name": "stdout",
     "output_type": "stream",
     "text": [
      "functionName = MPI_Allreduce()\n",
      "converted_functionName = MPI_Allreduce--\n",
      "filePath = ./extra-p_docker/share/input_lulesh_@MPI_Allreduce--\n",
      "extrap --text ./extra-p_docker/share/input_lulesh_@MPI_Allreduce-- --modeler multi-parameter  --options \\#spm=Basic \\#spo=poly_exponents=-1,0,1,2,3,log_exponents=0,1,force_combination_exponents=1,allow_negative_exponents=True\n"
     ]
    },
    {
     "name": "stderr",
     "output_type": "stream",
     "text": [
      "Loading file: 100%|██████████| [00:00<00:00, Validating experiment]\n",
      "Generating models: |          | [00:00<?]/usr/local/lib/python3.10/site-packages/extrap/modelers/single_parameter/basic.py:273: UserWarning: Number of measurements for a parameter needs to be at least 5 in order to create a performance model.\n",
      "  warnings.warn(\n",
      "Generating models: 100%|██████████| [00:00<00:00]\n"
     ]
    },
    {
     "name": "stdout",
     "output_type": "stream",
     "text": [
      "extrap --text ./extra-p_docker/share/input_lulesh_@MPI_Allreduce-- --modeler default  --options \\#spm=Basic \\#spo=poly_exponents=-1,0,1,2,3,log_exponents=0,1,force_combination_exponents=1,allow_negative_exponents=True\n"
     ]
    },
    {
     "name": "stderr",
     "output_type": "stream",
     "text": [
      "Loading file: 100%|██████████| [00:00<00:00, Validating experiment]\n",
      "Generating models: |          | [00:00<?]/usr/local/lib/python3.10/site-packages/extrap/modelers/single_parameter/basic.py:273: UserWarning: Number of measurements for a parameter needs to be at least 5 in order to create a performance model.\n",
      "  warnings.warn(\n",
      "Generating models: 100%|██████████| [00:00<00:00]\n"
     ]
    },
    {
     "name": "stdout",
     "output_type": "stream",
     "text": [
      "functionName = MPI_Barrier()\n",
      "converted_functionName = MPI_Barrier--\n",
      "filePath = ./extra-p_docker/share/input_lulesh_@MPI_Barrier--\n",
      "extrap --text ./extra-p_docker/share/input_lulesh_@MPI_Barrier-- --modeler multi-parameter  --options \\#spm=Basic \\#spo=poly_exponents=-1,0,1,2,3,log_exponents=0,1,force_combination_exponents=1,allow_negative_exponents=True\n"
     ]
    },
    {
     "name": "stderr",
     "output_type": "stream",
     "text": [
      "Loading file: 100%|██████████| [00:00<00:00, Validating experiment]\n",
      "Generating models: |          | [00:00<?]/usr/local/lib/python3.10/site-packages/extrap/modelers/single_parameter/basic.py:273: UserWarning: Number of measurements for a parameter needs to be at least 5 in order to create a performance model.\n",
      "  warnings.warn(\n",
      "Generating models: 100%|██████████| [00:00<00:00]\n"
     ]
    },
    {
     "name": "stdout",
     "output_type": "stream",
     "text": [
      "extrap --text ./extra-p_docker/share/input_lulesh_@MPI_Barrier-- --modeler default  --options \\#spm=Basic \\#spo=poly_exponents=-1,0,1,2,3,log_exponents=0,1,force_combination_exponents=1,allow_negative_exponents=True\n"
     ]
    },
    {
     "name": "stderr",
     "output_type": "stream",
     "text": [
      "Loading file: 100%|██████████| [00:00<00:00, Validating experiment]\n",
      "Generating models: |          | [00:00<?]/usr/local/lib/python3.10/site-packages/extrap/modelers/single_parameter/basic.py:273: UserWarning: Number of measurements for a parameter needs to be at least 5 in order to create a performance model.\n",
      "  warnings.warn(\n",
      "Generating models: 100%|██████████| [00:00<00:00]\n",
      "/usr/local/lib/python3.10/site-packages/scipy/optimize/_minpack_py.py:881: OptimizeWarning: Covariance of the parameters could not be estimated\n",
      "  warnings.warn('Covariance of the parameters could not be estimated',\n",
      "/usr/local/lib/python3.10/site-packages/scipy/optimize/_minpack_py.py:881: OptimizeWarning: Covariance of the parameters could not be estimated\n",
      "  warnings.warn('Covariance of the parameters could not be estimated',\n",
      "/usr/local/lib/python3.10/site-packages/scipy/optimize/_minpack_py.py:881: OptimizeWarning: Covariance of the parameters could not be estimated\n",
      "  warnings.warn('Covariance of the parameters could not be estimated',\n"
     ]
    },
    {
     "name": "stdout",
     "output_type": "stream",
     "text": [
      "functionName = MPI_Comm_rank()\n",
      "converted_functionName = MPI_Comm_rank--\n",
      "filePath = ./extra-p_docker/share/input_lulesh_@MPI_Comm_rank--\n",
      "extrap --text ./extra-p_docker/share/input_lulesh_@MPI_Comm_rank-- --modeler multi-parameter  --options \\#spm=Basic \\#spo=poly_exponents=-1,0,1,2,3,log_exponents=0,1,force_combination_exponents=1,allow_negative_exponents=True\n"
     ]
    },
    {
     "name": "stderr",
     "output_type": "stream",
     "text": [
      "Loading file: 100%|██████████| [00:00<00:00, Validating experiment]\n",
      "Generating models: |          | [00:00<?]/usr/local/lib/python3.10/site-packages/extrap/modelers/single_parameter/basic.py:273: UserWarning: Number of measurements for a parameter needs to be at least 5 in order to create a performance model.\n",
      "  warnings.warn(\n",
      "Generating models: 100%|██████████| [00:00<00:00]\n"
     ]
    },
    {
     "name": "stdout",
     "output_type": "stream",
     "text": [
      "extrap --text ./extra-p_docker/share/input_lulesh_@MPI_Comm_rank-- --modeler default  --options \\#spm=Basic \\#spo=poly_exponents=-1,0,1,2,3,log_exponents=0,1,force_combination_exponents=1,allow_negative_exponents=True\n"
     ]
    },
    {
     "name": "stderr",
     "output_type": "stream",
     "text": [
      "Loading file: 100%|██████████| [00:00<00:00, Validating experiment]\n",
      "Generating models: |          | [00:00<?]/usr/local/lib/python3.10/site-packages/extrap/modelers/single_parameter/basic.py:273: UserWarning: Number of measurements for a parameter needs to be at least 5 in order to create a performance model.\n",
      "  warnings.warn(\n",
      "Generating models: 100%|██████████| [00:00<00:00]\n"
     ]
    },
    {
     "name": "stdout",
     "output_type": "stream",
     "text": [
      "functionName = MPI_Comm_size()\n",
      "converted_functionName = MPI_Comm_size--\n",
      "filePath = ./extra-p_docker/share/input_lulesh_@MPI_Comm_size--\n",
      "extrap --text ./extra-p_docker/share/input_lulesh_@MPI_Comm_size-- --modeler multi-parameter  --options \\#spm=Basic \\#spo=poly_exponents=-1,0,1,2,3,log_exponents=0,1,force_combination_exponents=1,allow_negative_exponents=True\n"
     ]
    },
    {
     "name": "stderr",
     "output_type": "stream",
     "text": [
      "Loading file: 100%|██████████| [00:00<00:00, Validating experiment]\n",
      "Generating models: |          | [00:00<?]/usr/local/lib/python3.10/site-packages/extrap/modelers/single_parameter/basic.py:273: UserWarning: Number of measurements for a parameter needs to be at least 5 in order to create a performance model.\n",
      "  warnings.warn(\n",
      "Generating models: 100%|██████████| [00:00<00:00]\n"
     ]
    },
    {
     "name": "stdout",
     "output_type": "stream",
     "text": [
      "extrap --text ./extra-p_docker/share/input_lulesh_@MPI_Comm_size-- --modeler default  --options \\#spm=Basic \\#spo=poly_exponents=-1,0,1,2,3,log_exponents=0,1,force_combination_exponents=1,allow_negative_exponents=True\n"
     ]
    },
    {
     "name": "stderr",
     "output_type": "stream",
     "text": [
      "Loading file: 100%|██████████| [00:00<00:00, Validating experiment]\n",
      "Generating models: |          | [00:00<?]/usr/local/lib/python3.10/site-packages/extrap/modelers/single_parameter/basic.py:273: UserWarning: Number of measurements for a parameter needs to be at least 5 in order to create a performance model.\n",
      "  warnings.warn(\n",
      "Generating models: 100%|██████████| [00:00<00:00]\n",
      "/usr/local/lib/python3.10/site-packages/scipy/optimize/_minpack_py.py:881: OptimizeWarning: Covariance of the parameters could not be estimated\n",
      "  warnings.warn('Covariance of the parameters could not be estimated',\n",
      "/usr/local/lib/python3.10/site-packages/scipy/optimize/_minpack_py.py:881: OptimizeWarning: Covariance of the parameters could not be estimated\n",
      "  warnings.warn('Covariance of the parameters could not be estimated',\n",
      "/usr/local/lib/python3.10/site-packages/scipy/optimize/_minpack_py.py:881: OptimizeWarning: Covariance of the parameters could not be estimated\n",
      "  warnings.warn('Covariance of the parameters could not be estimated',\n"
     ]
    },
    {
     "name": "stdout",
     "output_type": "stream",
     "text": [
      "functionName = MPI_Finalize()\n",
      "converted_functionName = MPI_Finalize--\n",
      "filePath = ./extra-p_docker/share/input_lulesh_@MPI_Finalize--\n",
      "extrap --text ./extra-p_docker/share/input_lulesh_@MPI_Finalize-- --modeler multi-parameter  --options \\#spm=Basic \\#spo=poly_exponents=-1,0,1,2,3,log_exponents=0,1,force_combination_exponents=1,allow_negative_exponents=True\n"
     ]
    },
    {
     "name": "stderr",
     "output_type": "stream",
     "text": [
      "Loading file: 100%|██████████| [00:00<00:00, Validating experiment]\n",
      "Generating models: |          | [00:00<?]/usr/local/lib/python3.10/site-packages/extrap/modelers/single_parameter/basic.py:273: UserWarning: Number of measurements for a parameter needs to be at least 5 in order to create a performance model.\n",
      "  warnings.warn(\n",
      "Generating models: 100%|██████████| [00:00<00:00]\n"
     ]
    },
    {
     "name": "stdout",
     "output_type": "stream",
     "text": [
      "extrap --text ./extra-p_docker/share/input_lulesh_@MPI_Finalize-- --modeler default  --options \\#spm=Basic \\#spo=poly_exponents=-1,0,1,2,3,log_exponents=0,1,force_combination_exponents=1,allow_negative_exponents=True\n"
     ]
    },
    {
     "name": "stderr",
     "output_type": "stream",
     "text": [
      "Loading file: 100%|██████████| [00:00<00:00, Validating experiment]\n",
      "Generating models: |          | [00:00<?]/usr/local/lib/python3.10/site-packages/extrap/modelers/single_parameter/basic.py:273: UserWarning: Number of measurements for a parameter needs to be at least 5 in order to create a performance model.\n",
      "  warnings.warn(\n",
      "Generating models: 100%|██████████| [00:00<00:00]\n",
      "/usr/local/lib/python3.10/site-packages/scipy/optimize/_minpack_py.py:881: OptimizeWarning: Covariance of the parameters could not be estimated\n",
      "  warnings.warn('Covariance of the parameters could not be estimated',\n",
      "/usr/local/lib/python3.10/site-packages/scipy/optimize/_minpack_py.py:881: OptimizeWarning: Covariance of the parameters could not be estimated\n",
      "  warnings.warn('Covariance of the parameters could not be estimated',\n",
      "/usr/local/lib/python3.10/site-packages/scipy/optimize/_minpack_py.py:881: OptimizeWarning: Covariance of the parameters could not be estimated\n",
      "  warnings.warn('Covariance of the parameters could not be estimated',\n"
     ]
    },
    {
     "name": "stdout",
     "output_type": "stream",
     "text": [
      "functionName = MPI_Init()\n",
      "converted_functionName = MPI_Init--\n",
      "filePath = ./extra-p_docker/share/input_lulesh_@MPI_Init--\n",
      "extrap --text ./extra-p_docker/share/input_lulesh_@MPI_Init-- --modeler multi-parameter  --options \\#spm=Basic \\#spo=poly_exponents=-1,0,1,2,3,log_exponents=0,1,force_combination_exponents=1,allow_negative_exponents=True\n"
     ]
    },
    {
     "name": "stderr",
     "output_type": "stream",
     "text": [
      "Loading file: 100%|██████████| [00:00<00:00, Validating experiment]\n",
      "Generating models: |          | [00:00<?]/usr/local/lib/python3.10/site-packages/extrap/modelers/single_parameter/basic.py:273: UserWarning: Number of measurements for a parameter needs to be at least 5 in order to create a performance model.\n",
      "  warnings.warn(\n",
      "Generating models: 100%|██████████| [00:00<00:00]\n"
     ]
    },
    {
     "name": "stdout",
     "output_type": "stream",
     "text": [
      "extrap --text ./extra-p_docker/share/input_lulesh_@MPI_Init-- --modeler default  --options \\#spm=Basic \\#spo=poly_exponents=-1,0,1,2,3,log_exponents=0,1,force_combination_exponents=1,allow_negative_exponents=True\n"
     ]
    },
    {
     "name": "stderr",
     "output_type": "stream",
     "text": [
      "Loading file: 100%|██████████| [00:00<00:00, Validating experiment]\n",
      "Generating models: |          | [00:00<?]/usr/local/lib/python3.10/site-packages/extrap/modelers/single_parameter/basic.py:273: UserWarning: Number of measurements for a parameter needs to be at least 5 in order to create a performance model.\n",
      "  warnings.warn(\n",
      "Generating models: 100%|██████████| [00:00<00:00]\n",
      "/usr/local/lib/python3.10/site-packages/scipy/optimize/_minpack_py.py:881: OptimizeWarning: Covariance of the parameters could not be estimated\n",
      "  warnings.warn('Covariance of the parameters could not be estimated',\n",
      "/usr/local/lib/python3.10/site-packages/scipy/optimize/_minpack_py.py:881: OptimizeWarning: Covariance of the parameters could not be estimated\n",
      "  warnings.warn('Covariance of the parameters could not be estimated',\n",
      "/usr/local/lib/python3.10/site-packages/scipy/optimize/_minpack_py.py:881: OptimizeWarning: Covariance of the parameters could not be estimated\n",
      "  warnings.warn('Covariance of the parameters could not be estimated',\n"
     ]
    },
    {
     "name": "stdout",
     "output_type": "stream",
     "text": [
      "functionName = MPI_Irecv()\n",
      "converted_functionName = MPI_Irecv--\n",
      "filePath = ./extra-p_docker/share/input_lulesh_@MPI_Irecv--\n",
      "extrap --text ./extra-p_docker/share/input_lulesh_@MPI_Irecv-- --modeler multi-parameter  --options \\#spm=Basic \\#spo=poly_exponents=-1,0,1,2,3,log_exponents=0,1,force_combination_exponents=1,allow_negative_exponents=True\n"
     ]
    },
    {
     "name": "stderr",
     "output_type": "stream",
     "text": [
      "Loading file: 100%|██████████| [00:00<00:00, Validating experiment]\n",
      "Generating models: |          | [00:00<?]/usr/local/lib/python3.10/site-packages/extrap/modelers/single_parameter/basic.py:273: UserWarning: Number of measurements for a parameter needs to be at least 5 in order to create a performance model.\n",
      "  warnings.warn(\n",
      "Generating models: 100%|██████████| [00:00<00:00]\n"
     ]
    },
    {
     "name": "stdout",
     "output_type": "stream",
     "text": [
      "extrap --text ./extra-p_docker/share/input_lulesh_@MPI_Irecv-- --modeler default  --options \\#spm=Basic \\#spo=poly_exponents=-1,0,1,2,3,log_exponents=0,1,force_combination_exponents=1,allow_negative_exponents=True\n"
     ]
    },
    {
     "name": "stderr",
     "output_type": "stream",
     "text": [
      "Loading file: 100%|██████████| [00:00<00:00, Validating experiment]\n",
      "Generating models: |          | [00:00<?]/usr/local/lib/python3.10/site-packages/extrap/modelers/single_parameter/basic.py:273: UserWarning: Number of measurements for a parameter needs to be at least 5 in order to create a performance model.\n",
      "  warnings.warn(\n",
      "Generating models: 100%|██████████| [00:00<00:00]\n"
     ]
    },
    {
     "name": "stdout",
     "output_type": "stream",
     "text": [
      "functionName = MPI_Isend()\n",
      "converted_functionName = MPI_Isend--\n",
      "filePath = ./extra-p_docker/share/input_lulesh_@MPI_Isend--\n",
      "extrap --text ./extra-p_docker/share/input_lulesh_@MPI_Isend-- --modeler multi-parameter  --options \\#spm=Basic \\#spo=poly_exponents=-1,0,1,2,3,log_exponents=0,1,force_combination_exponents=1,allow_negative_exponents=True\n"
     ]
    },
    {
     "name": "stderr",
     "output_type": "stream",
     "text": [
      "Loading file: 100%|██████████| [00:00<00:00, Validating experiment]\n",
      "Generating models: |          | [00:00<?]/usr/local/lib/python3.10/site-packages/extrap/modelers/single_parameter/basic.py:273: UserWarning: Number of measurements for a parameter needs to be at least 5 in order to create a performance model.\n",
      "  warnings.warn(\n",
      "Generating models: 100%|██████████| [00:00<00:00]\n"
     ]
    },
    {
     "name": "stdout",
     "output_type": "stream",
     "text": [
      "extrap --text ./extra-p_docker/share/input_lulesh_@MPI_Isend-- --modeler default  --options \\#spm=Basic \\#spo=poly_exponents=-1,0,1,2,3,log_exponents=0,1,force_combination_exponents=1,allow_negative_exponents=True\n"
     ]
    },
    {
     "name": "stderr",
     "output_type": "stream",
     "text": [
      "Loading file: 100%|██████████| [00:00<00:00, Validating experiment]\n",
      "Generating models: |          | [00:00<?]/usr/local/lib/python3.10/site-packages/extrap/modelers/single_parameter/basic.py:273: UserWarning: Number of measurements for a parameter needs to be at least 5 in order to create a performance model.\n",
      "  warnings.warn(\n",
      "Generating models: 100%|██████████| [00:00<00:00]\n"
     ]
    },
    {
     "name": "stdout",
     "output_type": "stream",
     "text": [
      "functionName = MPI_Reduce()\n",
      "converted_functionName = MPI_Reduce--\n",
      "filePath = ./extra-p_docker/share/input_lulesh_@MPI_Reduce--\n",
      "extrap --text ./extra-p_docker/share/input_lulesh_@MPI_Reduce-- --modeler multi-parameter  --options \\#spm=Basic \\#spo=poly_exponents=-1,0,1,2,3,log_exponents=0,1,force_combination_exponents=1,allow_negative_exponents=True\n"
     ]
    },
    {
     "name": "stderr",
     "output_type": "stream",
     "text": [
      "Loading file: 100%|██████████| [00:00<00:00, Validating experiment]\n",
      "Generating models: |          | [00:00<?]/usr/local/lib/python3.10/site-packages/extrap/modelers/single_parameter/basic.py:273: UserWarning: Number of measurements for a parameter needs to be at least 5 in order to create a performance model.\n",
      "  warnings.warn(\n",
      "Generating models: 100%|██████████| [00:00<00:00]\n"
     ]
    },
    {
     "name": "stdout",
     "output_type": "stream",
     "text": [
      "extrap --text ./extra-p_docker/share/input_lulesh_@MPI_Reduce-- --modeler default  --options \\#spm=Basic \\#spo=poly_exponents=-1,0,1,2,3,log_exponents=0,1,force_combination_exponents=1,allow_negative_exponents=True\n"
     ]
    },
    {
     "name": "stderr",
     "output_type": "stream",
     "text": [
      "Loading file: 100%|██████████| [00:00<00:00, Validating experiment]\n",
      "Generating models: |          | [00:00<?]/usr/local/lib/python3.10/site-packages/extrap/modelers/single_parameter/basic.py:273: UserWarning: Number of measurements for a parameter needs to be at least 5 in order to create a performance model.\n",
      "  warnings.warn(\n",
      "Generating models: 100%|██████████| [00:00<00:00]\n",
      "/usr/local/lib/python3.10/site-packages/scipy/optimize/_minpack_py.py:881: OptimizeWarning: Covariance of the parameters could not be estimated\n",
      "  warnings.warn('Covariance of the parameters could not be estimated',\n",
      "/usr/local/lib/python3.10/site-packages/scipy/optimize/_minpack_py.py:881: OptimizeWarning: Covariance of the parameters could not be estimated\n",
      "  warnings.warn('Covariance of the parameters could not be estimated',\n",
      "/usr/local/lib/python3.10/site-packages/scipy/optimize/_minpack_py.py:881: OptimizeWarning: Covariance of the parameters could not be estimated\n",
      "  warnings.warn('Covariance of the parameters could not be estimated',\n"
     ]
    },
    {
     "name": "stdout",
     "output_type": "stream",
     "text": [
      "functionName = MPI_Wait()\n",
      "converted_functionName = MPI_Wait--\n",
      "filePath = ./extra-p_docker/share/input_lulesh_@MPI_Wait--\n",
      "extrap --text ./extra-p_docker/share/input_lulesh_@MPI_Wait-- --modeler multi-parameter  --options \\#spm=Basic \\#spo=poly_exponents=-1,0,1,2,3,log_exponents=0,1,force_combination_exponents=1,allow_negative_exponents=True\n"
     ]
    },
    {
     "name": "stderr",
     "output_type": "stream",
     "text": [
      "Loading file: 100%|██████████| [00:00<00:00, Validating experiment]\n",
      "Generating models: |          | [00:00<?]/usr/local/lib/python3.10/site-packages/extrap/modelers/single_parameter/basic.py:273: UserWarning: Number of measurements for a parameter needs to be at least 5 in order to create a performance model.\n",
      "  warnings.warn(\n",
      "Generating models: 100%|██████████| [00:00<00:00]\n"
     ]
    },
    {
     "name": "stdout",
     "output_type": "stream",
     "text": [
      "extrap --text ./extra-p_docker/share/input_lulesh_@MPI_Wait-- --modeler default  --options \\#spm=Basic \\#spo=poly_exponents=-1,0,1,2,3,log_exponents=0,1,force_combination_exponents=1,allow_negative_exponents=True\n"
     ]
    },
    {
     "name": "stderr",
     "output_type": "stream",
     "text": [
      "Loading file: 100%|██████████| [00:00<00:00, Validating experiment]\n",
      "Generating models: |          | [00:00<?]/usr/local/lib/python3.10/site-packages/extrap/modelers/single_parameter/basic.py:273: UserWarning: Number of measurements for a parameter needs to be at least 5 in order to create a performance model.\n",
      "  warnings.warn(\n",
      "Generating models: 100%|██████████| [00:00<00:00]\n"
     ]
    },
    {
     "name": "stdout",
     "output_type": "stream",
     "text": [
      "functionName = MPI_Waitall()\n",
      "converted_functionName = MPI_Waitall--\n",
      "filePath = ./extra-p_docker/share/input_lulesh_@MPI_Waitall--\n",
      "extrap --text ./extra-p_docker/share/input_lulesh_@MPI_Waitall-- --modeler multi-parameter  --options \\#spm=Basic \\#spo=poly_exponents=-1,0,1,2,3,log_exponents=0,1,force_combination_exponents=1,allow_negative_exponents=True\n"
     ]
    },
    {
     "name": "stderr",
     "output_type": "stream",
     "text": [
      "Loading file: 100%|██████████| [00:00<00:00, Validating experiment]\n",
      "Generating models: |          | [00:00<?]/usr/local/lib/python3.10/site-packages/extrap/modelers/single_parameter/basic.py:273: UserWarning: Number of measurements for a parameter needs to be at least 5 in order to create a performance model.\n",
      "  warnings.warn(\n",
      "Generating models: 100%|██████████| [00:00<00:00]\n"
     ]
    },
    {
     "name": "stdout",
     "output_type": "stream",
     "text": [
      "extrap --text ./extra-p_docker/share/input_lulesh_@MPI_Waitall-- --modeler default  --options \\#spm=Basic \\#spo=poly_exponents=-1,0,1,2,3,log_exponents=0,1,force_combination_exponents=1,allow_negative_exponents=True\n"
     ]
    },
    {
     "name": "stderr",
     "output_type": "stream",
     "text": [
      "Loading file: 100%|██████████| [00:00<00:00, Validating experiment]\n",
      "Generating models: |          | [00:00<?]/usr/local/lib/python3.10/site-packages/extrap/modelers/single_parameter/basic.py:273: UserWarning: Number of measurements for a parameter needs to be at least 5 in order to create a performance model.\n",
      "  warnings.warn(\n",
      "Generating models: 100%|██████████| [00:00<00:00]\n"
     ]
    },
    {
     "name": "stdout",
     "output_type": "stream",
     "text": [
      "functionName = Real_t_CalcElemVolume(const\n",
      "converted_functionName = Real_t_CalcElemVolume-const\n",
      "filePath = ./extra-p_docker/share/input_lulesh_@Real_t_CalcElemVolume-const\n",
      "extrap --text ./extra-p_docker/share/input_lulesh_@Real_t_CalcElemVolume-const --modeler multi-parameter  --options \\#spm=Basic \\#spo=poly_exponents=-1,0,1,2,3,log_exponents=0,1,force_combination_exponents=1,allow_negative_exponents=True\n"
     ]
    },
    {
     "name": "stderr",
     "output_type": "stream",
     "text": [
      "Loading file: 100%|██████████| [00:00<00:00, Validating experiment]\n",
      "Generating models: |          | [00:00<?]/usr/local/lib/python3.10/site-packages/extrap/modelers/single_parameter/basic.py:273: UserWarning: Number of measurements for a parameter needs to be at least 5 in order to create a performance model.\n",
      "  warnings.warn(\n",
      "Generating models: 100%|██████████| [00:00<00:00]\n"
     ]
    },
    {
     "name": "stdout",
     "output_type": "stream",
     "text": [
      "extrap --text ./extra-p_docker/share/input_lulesh_@Real_t_CalcElemVolume-const --modeler default  --options \\#spm=Basic \\#spo=poly_exponents=-1,0,1,2,3,log_exponents=0,1,force_combination_exponents=1,allow_negative_exponents=True\n"
     ]
    },
    {
     "name": "stderr",
     "output_type": "stream",
     "text": [
      "Loading file: 100%|██████████| [00:00<00:00, Validating experiment]\n",
      "Generating models: |          | [00:00<?]/usr/local/lib/python3.10/site-packages/extrap/modelers/single_parameter/basic.py:273: UserWarning: Number of measurements for a parameter needs to be at least 5 in order to create a performance model.\n",
      "  warnings.warn(\n",
      "Generating models: 100%|██████████| [00:00<00:00]\n"
     ]
    },
    {
     "name": "stdout",
     "output_type": "stream",
     "text": [
      "functionName = StrToInt\n",
      "converted_functionName = StrToInt\n",
      "filePath = ./extra-p_docker/share/input_lulesh_@StrToInt\n",
      "extrap --text ./extra-p_docker/share/input_lulesh_@StrToInt --modeler multi-parameter  --options \\#spm=Basic \\#spo=poly_exponents=-1,0,1,2,3,log_exponents=0,1,force_combination_exponents=1,allow_negative_exponents=True\n"
     ]
    },
    {
     "name": "stderr",
     "output_type": "stream",
     "text": [
      "Loading file: 100%|██████████| [00:00<00:00, Validating experiment]\n",
      "Generating models: |          | [00:00<?]/usr/local/lib/python3.10/site-packages/extrap/modelers/single_parameter/basic.py:273: UserWarning: Number of measurements for a parameter needs to be at least 5 in order to create a performance model.\n",
      "  warnings.warn(\n",
      "Generating models: 100%|██████████| [00:00<00:00]\n"
     ]
    },
    {
     "name": "stdout",
     "output_type": "stream",
     "text": [
      "extrap --text ./extra-p_docker/share/input_lulesh_@StrToInt --modeler default  --options \\#spm=Basic \\#spo=poly_exponents=-1,0,1,2,3,log_exponents=0,1,force_combination_exponents=1,allow_negative_exponents=True\n"
     ]
    },
    {
     "name": "stderr",
     "output_type": "stream",
     "text": [
      "Loading file: 100%|██████████| [00:00<00:00, Validating experiment]\n",
      "Generating models: |          | [00:00<?]/usr/local/lib/python3.10/site-packages/extrap/modelers/single_parameter/basic.py:273: UserWarning: Number of measurements for a parameter needs to be at least 5 in order to create a performance model.\n",
      "  warnings.warn(\n",
      "Generating models: 100%|██████████| [00:00<00:00]\n",
      "/usr/local/lib/python3.10/site-packages/scipy/optimize/_minpack_py.py:881: OptimizeWarning: Covariance of the parameters could not be estimated\n",
      "  warnings.warn('Covariance of the parameters could not be estimated',\n",
      "/usr/local/lib/python3.10/site-packages/scipy/optimize/_minpack_py.py:881: OptimizeWarning: Covariance of the parameters could not be estimated\n",
      "  warnings.warn('Covariance of the parameters could not be estimated',\n"
     ]
    },
    {
     "name": "stdout",
     "output_type": "stream",
     "text": [
      "functionName = int_main(int_char_**)\n",
      "converted_functionName = int_main-int_char_**-\n",
      "filePath = ./extra-p_docker/share/input_lulesh_@int_main-int_char_**-\n",
      "extrap --text ./extra-p_docker/share/input_lulesh_@int_main-int_char_**- --modeler multi-parameter  --options \\#spm=Basic \\#spo=poly_exponents=-1,0,1,2,3,log_exponents=0,1,force_combination_exponents=1,allow_negative_exponents=True\n"
     ]
    },
    {
     "name": "stderr",
     "output_type": "stream",
     "text": [
      "Loading file: 100%|██████████| [00:00<00:00, Validating experiment]\n",
      "Generating models: |          | [00:00<?]/usr/local/lib/python3.10/site-packages/extrap/modelers/single_parameter/basic.py:273: UserWarning: Number of measurements for a parameter needs to be at least 5 in order to create a performance model.\n",
      "  warnings.warn(\n",
      "Generating models: 100%|██████████| [00:00<00:00]\n"
     ]
    },
    {
     "name": "stdout",
     "output_type": "stream",
     "text": [
      "extrap --text ./extra-p_docker/share/input_lulesh_@int_main-int_char_**- --modeler default  --options \\#spm=Basic \\#spo=poly_exponents=-1,0,1,2,3,log_exponents=0,1,force_combination_exponents=1,allow_negative_exponents=True\n"
     ]
    },
    {
     "name": "stderr",
     "output_type": "stream",
     "text": [
      "Loading file: 100%|██████████| [00:00<00:00, Validating experiment]\n",
      "Generating models: |          | [00:00<?]/usr/local/lib/python3.10/site-packages/extrap/modelers/single_parameter/basic.py:273: UserWarning: Number of measurements for a parameter needs to be at least 5 in order to create a performance model.\n",
      "  warnings.warn(\n",
      "Generating models: 100%|██████████| [00:00<00:00]\n",
      "/usr/local/lib/python3.10/site-packages/scipy/optimize/_minpack_py.py:881: OptimizeWarning: Covariance of the parameters could not be estimated\n",
      "  warnings.warn('Covariance of the parameters could not be estimated',\n",
      "/usr/local/lib/python3.10/site-packages/scipy/optimize/_minpack_py.py:881: OptimizeWarning: Covariance of the parameters could not be estimated\n",
      "  warnings.warn('Covariance of the parameters could not be estimated',\n",
      "/usr/local/lib/python3.10/site-packages/scipy/optimize/_minpack_py.py:881: OptimizeWarning: Covariance of the parameters could not be estimated\n",
      "  warnings.warn('Covariance of the parameters could not be estimated',\n"
     ]
    },
    {
     "name": "stdout",
     "output_type": "stream",
     "text": [
      "functionName = void_CalcKinematicsForElems(Domain\n",
      "converted_functionName = void_CalcKinematicsForElems-Domain\n",
      "filePath = ./extra-p_docker/share/input_lulesh_@void_CalcKinematicsForElems-Domain\n",
      "extrap --text ./extra-p_docker/share/input_lulesh_@void_CalcKinematicsForElems-Domain --modeler multi-parameter  --options \\#spm=Basic \\#spo=poly_exponents=-1,0,1,2,3,log_exponents=0,1,force_combination_exponents=1,allow_negative_exponents=True\n"
     ]
    },
    {
     "name": "stderr",
     "output_type": "stream",
     "text": [
      "Loading file: 100%|██████████| [00:00<00:00, Validating experiment]\n",
      "Generating models: |          | [00:00<?]/usr/local/lib/python3.10/site-packages/extrap/modelers/single_parameter/basic.py:273: UserWarning: Number of measurements for a parameter needs to be at least 5 in order to create a performance model.\n",
      "  warnings.warn(\n",
      "Generating models: 100%|██████████| [00:00<00:00]\n"
     ]
    },
    {
     "name": "stdout",
     "output_type": "stream",
     "text": [
      "extrap --text ./extra-p_docker/share/input_lulesh_@void_CalcKinematicsForElems-Domain --modeler default  --options \\#spm=Basic \\#spo=poly_exponents=-1,0,1,2,3,log_exponents=0,1,force_combination_exponents=1,allow_negative_exponents=True\n"
     ]
    },
    {
     "name": "stderr",
     "output_type": "stream",
     "text": [
      "Loading file: 100%|██████████| [00:00<00:00, Validating experiment]\n",
      "Generating models: |          | [00:00<?]/usr/local/lib/python3.10/site-packages/extrap/modelers/single_parameter/basic.py:273: UserWarning: Number of measurements for a parameter needs to be at least 5 in order to create a performance model.\n",
      "  warnings.warn(\n",
      "Generating models: 100%|██████████| [00:00<00:00]\n"
     ]
    },
    {
     "name": "stdout",
     "output_type": "stream",
     "text": [
      "functionName = void_CommMonoQ(Domain\n",
      "converted_functionName = void_CommMonoQ-Domain\n",
      "filePath = ./extra-p_docker/share/input_lulesh_@void_CommMonoQ-Domain\n",
      "extrap --text ./extra-p_docker/share/input_lulesh_@void_CommMonoQ-Domain --modeler multi-parameter  --options \\#spm=Basic \\#spo=poly_exponents=-1,0,1,2,3,log_exponents=0,1,force_combination_exponents=1,allow_negative_exponents=True\n"
     ]
    },
    {
     "name": "stderr",
     "output_type": "stream",
     "text": [
      "Loading file: 100%|██████████| [00:00<00:00, Validating experiment]\n",
      "Generating models: |          | [00:00<?]/usr/local/lib/python3.10/site-packages/extrap/modelers/single_parameter/basic.py:273: UserWarning: Number of measurements for a parameter needs to be at least 5 in order to create a performance model.\n",
      "  warnings.warn(\n",
      "Generating models: 100%|██████████| [00:00<00:00]\n"
     ]
    },
    {
     "name": "stdout",
     "output_type": "stream",
     "text": [
      "extrap --text ./extra-p_docker/share/input_lulesh_@void_CommMonoQ-Domain --modeler default  --options \\#spm=Basic \\#spo=poly_exponents=-1,0,1,2,3,log_exponents=0,1,force_combination_exponents=1,allow_negative_exponents=True\n"
     ]
    },
    {
     "name": "stderr",
     "output_type": "stream",
     "text": [
      "Loading file: 100%|██████████| [00:00<00:00, Validating experiment]\n",
      "Generating models: |          | [00:00<?]/usr/local/lib/python3.10/site-packages/extrap/modelers/single_parameter/basic.py:273: UserWarning: Number of measurements for a parameter needs to be at least 5 in order to create a performance model.\n",
      "  warnings.warn(\n",
      "Generating models: 100%|██████████| [00:00<00:00]\n"
     ]
    },
    {
     "name": "stdout",
     "output_type": "stream",
     "text": [
      "functionName = void_CommRecv(Domain\n",
      "converted_functionName = void_CommRecv-Domain\n",
      "filePath = ./extra-p_docker/share/input_lulesh_@void_CommRecv-Domain\n",
      "extrap --text ./extra-p_docker/share/input_lulesh_@void_CommRecv-Domain --modeler multi-parameter  --options \\#spm=Basic \\#spo=poly_exponents=-1,0,1,2,3,log_exponents=0,1,force_combination_exponents=1,allow_negative_exponents=True\n"
     ]
    },
    {
     "name": "stderr",
     "output_type": "stream",
     "text": [
      "Loading file: 100%|██████████| [00:00<00:00, Validating experiment]\n",
      "Generating models: |          | [00:00<?]/usr/local/lib/python3.10/site-packages/extrap/modelers/single_parameter/basic.py:273: UserWarning: Number of measurements for a parameter needs to be at least 5 in order to create a performance model.\n",
      "  warnings.warn(\n",
      "Generating models: 100%|██████████| [00:00<00:00]\n"
     ]
    },
    {
     "name": "stdout",
     "output_type": "stream",
     "text": [
      "extrap --text ./extra-p_docker/share/input_lulesh_@void_CommRecv-Domain --modeler default  --options \\#spm=Basic \\#spo=poly_exponents=-1,0,1,2,3,log_exponents=0,1,force_combination_exponents=1,allow_negative_exponents=True\n"
     ]
    },
    {
     "name": "stderr",
     "output_type": "stream",
     "text": [
      "Loading file: 100%|██████████| [00:00<00:00, Validating experiment]\n",
      "Generating models: |          | [00:00<?]/usr/local/lib/python3.10/site-packages/extrap/modelers/single_parameter/basic.py:273: UserWarning: Number of measurements for a parameter needs to be at least 5 in order to create a performance model.\n",
      "  warnings.warn(\n",
      "Generating models: 100%|██████████| [00:00<00:00]\n"
     ]
    },
    {
     "name": "stdout",
     "output_type": "stream",
     "text": [
      "functionName = void_CommSBN(Domain\n",
      "converted_functionName = void_CommSBN-Domain\n",
      "filePath = ./extra-p_docker/share/input_lulesh_@void_CommSBN-Domain\n",
      "extrap --text ./extra-p_docker/share/input_lulesh_@void_CommSBN-Domain --modeler multi-parameter  --options \\#spm=Basic \\#spo=poly_exponents=-1,0,1,2,3,log_exponents=0,1,force_combination_exponents=1,allow_negative_exponents=True\n"
     ]
    },
    {
     "name": "stderr",
     "output_type": "stream",
     "text": [
      "Loading file: 100%|██████████| [00:00<00:00, Validating experiment]\n",
      "Generating models: |          | [00:00<?]/usr/local/lib/python3.10/site-packages/extrap/modelers/single_parameter/basic.py:273: UserWarning: Number of measurements for a parameter needs to be at least 5 in order to create a performance model.\n",
      "  warnings.warn(\n",
      "Generating models: 100%|██████████| [00:00<00:00]\n"
     ]
    },
    {
     "name": "stdout",
     "output_type": "stream",
     "text": [
      "extrap --text ./extra-p_docker/share/input_lulesh_@void_CommSBN-Domain --modeler default  --options \\#spm=Basic \\#spo=poly_exponents=-1,0,1,2,3,log_exponents=0,1,force_combination_exponents=1,allow_negative_exponents=True\n"
     ]
    },
    {
     "name": "stderr",
     "output_type": "stream",
     "text": [
      "Loading file: 100%|██████████| [00:00<00:00, Validating experiment]\n",
      "Generating models: |          | [00:00<?]/usr/local/lib/python3.10/site-packages/extrap/modelers/single_parameter/basic.py:273: UserWarning: Number of measurements for a parameter needs to be at least 5 in order to create a performance model.\n",
      "  warnings.warn(\n",
      "Generating models: 100%|██████████| [00:00<00:00]\n"
     ]
    },
    {
     "name": "stdout",
     "output_type": "stream",
     "text": [
      "functionName = void_CommSend(Domain\n",
      "converted_functionName = void_CommSend-Domain\n",
      "filePath = ./extra-p_docker/share/input_lulesh_@void_CommSend-Domain\n",
      "extrap --text ./extra-p_docker/share/input_lulesh_@void_CommSend-Domain --modeler multi-parameter  --options \\#spm=Basic \\#spo=poly_exponents=-1,0,1,2,3,log_exponents=0,1,force_combination_exponents=1,allow_negative_exponents=True\n"
     ]
    },
    {
     "name": "stderr",
     "output_type": "stream",
     "text": [
      "Loading file: 100%|██████████| [00:00<00:00, Validating experiment]\n",
      "Generating models: |          | [00:00<?]/usr/local/lib/python3.10/site-packages/extrap/modelers/single_parameter/basic.py:273: UserWarning: Number of measurements for a parameter needs to be at least 5 in order to create a performance model.\n",
      "  warnings.warn(\n",
      "Generating models: 100%|██████████| [00:00<00:00]\n"
     ]
    },
    {
     "name": "stdout",
     "output_type": "stream",
     "text": [
      "extrap --text ./extra-p_docker/share/input_lulesh_@void_CommSend-Domain --modeler default  --options \\#spm=Basic \\#spo=poly_exponents=-1,0,1,2,3,log_exponents=0,1,force_combination_exponents=1,allow_negative_exponents=True\n"
     ]
    },
    {
     "name": "stderr",
     "output_type": "stream",
     "text": [
      "Loading file: 100%|██████████| [00:00<00:00, Validating experiment]\n",
      "Generating models: |          | [00:00<?]/usr/local/lib/python3.10/site-packages/extrap/modelers/single_parameter/basic.py:273: UserWarning: Number of measurements for a parameter needs to be at least 5 in order to create a performance model.\n",
      "  warnings.warn(\n",
      "Generating models: 100%|██████████| [00:00<00:00]\n"
     ]
    },
    {
     "name": "stdout",
     "output_type": "stream",
     "text": [
      "functionName = void_CommSyncPosVel(Domain\n",
      "converted_functionName = void_CommSyncPosVel-Domain\n",
      "filePath = ./extra-p_docker/share/input_lulesh_@void_CommSyncPosVel-Domain\n",
      "extrap --text ./extra-p_docker/share/input_lulesh_@void_CommSyncPosVel-Domain --modeler multi-parameter  --options \\#spm=Basic \\#spo=poly_exponents=-1,0,1,2,3,log_exponents=0,1,force_combination_exponents=1,allow_negative_exponents=True\n"
     ]
    },
    {
     "name": "stderr",
     "output_type": "stream",
     "text": [
      "Loading file: 100%|██████████| [00:00<00:00, Validating experiment]\n",
      "Generating models: |          | [00:00<?]/usr/local/lib/python3.10/site-packages/extrap/modelers/single_parameter/basic.py:273: UserWarning: Number of measurements for a parameter needs to be at least 5 in order to create a performance model.\n",
      "  warnings.warn(\n",
      "Generating models: 100%|██████████| [00:00<00:00]\n"
     ]
    },
    {
     "name": "stdout",
     "output_type": "stream",
     "text": [
      "extrap --text ./extra-p_docker/share/input_lulesh_@void_CommSyncPosVel-Domain --modeler default  --options \\#spm=Basic \\#spo=poly_exponents=-1,0,1,2,3,log_exponents=0,1,force_combination_exponents=1,allow_negative_exponents=True\n"
     ]
    },
    {
     "name": "stderr",
     "output_type": "stream",
     "text": [
      "Loading file: 100%|██████████| [00:00<00:00, Validating experiment]\n",
      "Generating models: |          | [00:00<?]/usr/local/lib/python3.10/site-packages/extrap/modelers/single_parameter/basic.py:273: UserWarning: Number of measurements for a parameter needs to be at least 5 in order to create a performance model.\n",
      "  warnings.warn(\n",
      "Generating models: 100%|██████████| [00:00<00:00]\n"
     ]
    },
    {
     "name": "stdout",
     "output_type": "stream",
     "text": [
      "functionName = void_Domain::BuildMesh(Int_t_Int_t_Int_t)\n",
      "converted_functionName = void_Domain--BuildMesh-Int_t_Int_t_Int_t-\n",
      "filePath = ./extra-p_docker/share/input_lulesh_@void_Domain--BuildMesh-Int_t_Int_t_Int_t-\n",
      "extrap --text ./extra-p_docker/share/input_lulesh_@void_Domain--BuildMesh-Int_t_Int_t_Int_t- --modeler multi-parameter  --options \\#spm=Basic \\#spo=poly_exponents=-1,0,1,2,3,log_exponents=0,1,force_combination_exponents=1,allow_negative_exponents=True\n"
     ]
    },
    {
     "name": "stderr",
     "output_type": "stream",
     "text": [
      "Loading file: 100%|██████████| [00:00<00:00, Validating experiment]\n",
      "Generating models: |          | [00:00<?]/usr/local/lib/python3.10/site-packages/extrap/modelers/single_parameter/basic.py:273: UserWarning: Number of measurements for a parameter needs to be at least 5 in order to create a performance model.\n",
      "  warnings.warn(\n",
      "Generating models: 100%|██████████| [00:00<00:00]\n"
     ]
    },
    {
     "name": "stdout",
     "output_type": "stream",
     "text": [
      "extrap --text ./extra-p_docker/share/input_lulesh_@void_Domain--BuildMesh-Int_t_Int_t_Int_t- --modeler default  --options \\#spm=Basic \\#spo=poly_exponents=-1,0,1,2,3,log_exponents=0,1,force_combination_exponents=1,allow_negative_exponents=True\n"
     ]
    },
    {
     "name": "stderr",
     "output_type": "stream",
     "text": [
      "Loading file: 100%|██████████| [00:00<00:00, Validating experiment]\n",
      "Generating models: |          | [00:00<?]/usr/local/lib/python3.10/site-packages/extrap/modelers/single_parameter/basic.py:273: UserWarning: Number of measurements for a parameter needs to be at least 5 in order to create a performance model.\n",
      "  warnings.warn(\n",
      "Generating models: 100%|██████████| [00:00<00:00]\n",
      "/usr/local/lib/python3.10/site-packages/scipy/optimize/_minpack_py.py:881: OptimizeWarning: Covariance of the parameters could not be estimated\n",
      "  warnings.warn('Covariance of the parameters could not be estimated',\n",
      "/usr/local/lib/python3.10/site-packages/scipy/optimize/_minpack_py.py:881: OptimizeWarning: Covariance of the parameters could not be estimated\n",
      "  warnings.warn('Covariance of the parameters could not be estimated',\n",
      "/usr/local/lib/python3.10/site-packages/scipy/optimize/_minpack_py.py:881: OptimizeWarning: Covariance of the parameters could not be estimated\n",
      "  warnings.warn('Covariance of the parameters could not be estimated',\n"
     ]
    },
    {
     "name": "stdout",
     "output_type": "stream",
     "text": [
      "functionName = void_Domain::CreateRegionIndexSets(Int_t_Int_t)\n",
      "converted_functionName = void_Domain--CreateRegionIndexSets-Int_t_Int_t-\n",
      "filePath = ./extra-p_docker/share/input_lulesh_@void_Domain--CreateRegionIndexSets-Int_t_Int_t-\n",
      "extrap --text ./extra-p_docker/share/input_lulesh_@void_Domain--CreateRegionIndexSets-Int_t_Int_t- --modeler multi-parameter  --options \\#spm=Basic \\#spo=poly_exponents=-1,0,1,2,3,log_exponents=0,1,force_combination_exponents=1,allow_negative_exponents=True\n"
     ]
    },
    {
     "name": "stderr",
     "output_type": "stream",
     "text": [
      "Loading file: 100%|██████████| [00:00<00:00, Validating experiment]\n",
      "Generating models: |          | [00:00<?]/usr/local/lib/python3.10/site-packages/extrap/modelers/single_parameter/basic.py:273: UserWarning: Number of measurements for a parameter needs to be at least 5 in order to create a performance model.\n",
      "  warnings.warn(\n",
      "Generating models: 100%|██████████| [00:00<00:00]\n"
     ]
    },
    {
     "name": "stdout",
     "output_type": "stream",
     "text": [
      "extrap --text ./extra-p_docker/share/input_lulesh_@void_Domain--CreateRegionIndexSets-Int_t_Int_t- --modeler default  --options \\#spm=Basic \\#spo=poly_exponents=-1,0,1,2,3,log_exponents=0,1,force_combination_exponents=1,allow_negative_exponents=True\n"
     ]
    },
    {
     "name": "stderr",
     "output_type": "stream",
     "text": [
      "Loading file: 100%|██████████| [00:00<00:00, Validating experiment]\n",
      "Generating models: |          | [00:00<?]/usr/local/lib/python3.10/site-packages/extrap/modelers/single_parameter/basic.py:273: UserWarning: Number of measurements for a parameter needs to be at least 5 in order to create a performance model.\n",
      "  warnings.warn(\n",
      "Generating models: 100%|██████████| [00:00<00:00]\n",
      "/usr/local/lib/python3.10/site-packages/scipy/optimize/_minpack_py.py:881: OptimizeWarning: Covariance of the parameters could not be estimated\n",
      "  warnings.warn('Covariance of the parameters could not be estimated',\n",
      "/usr/local/lib/python3.10/site-packages/scipy/optimize/_minpack_py.py:881: OptimizeWarning: Covariance of the parameters could not be estimated\n",
      "  warnings.warn('Covariance of the parameters could not be estimated',\n",
      "/usr/local/lib/python3.10/site-packages/scipy/optimize/_minpack_py.py:881: OptimizeWarning: Covariance of the parameters could not be estimated\n",
      "  warnings.warn('Covariance of the parameters could not be estimated',\n"
     ]
    },
    {
     "name": "stdout",
     "output_type": "stream",
     "text": [
      "functionName = void_Domain::Domain(Int_t_Index_t_Index_t_Index_t_Index_t_Int_t_Int_t_Int_t_Int_t)\n",
      "converted_functionName = void_Domain--Domain-Int_t_Index_t_Index_t_Index_t_Index_t_Int_t_Int_t_Int_t_Int_t-\n",
      "filePath = ./extra-p_docker/share/input_lulesh_@void_Domain--Domain-Int_t_Index_t_Index_t_Index_t_Index_t_Int_t_Int_t_Int_t_Int_t-\n",
      "extrap --text ./extra-p_docker/share/input_lulesh_@void_Domain--Domain-Int_t_Index_t_Index_t_Index_t_Index_t_Int_t_Int_t_Int_t_Int_t- --modeler multi-parameter  --options \\#spm=Basic \\#spo=poly_exponents=-1,0,1,2,3,log_exponents=0,1,force_combination_exponents=1,allow_negative_exponents=True\n"
     ]
    },
    {
     "name": "stderr",
     "output_type": "stream",
     "text": [
      "Loading file: 100%|██████████| [00:00<00:00, Validating experiment]\n",
      "Generating models: |          | [00:00<?]/usr/local/lib/python3.10/site-packages/extrap/modelers/single_parameter/basic.py:273: UserWarning: Number of measurements for a parameter needs to be at least 5 in order to create a performance model.\n",
      "  warnings.warn(\n",
      "Generating models: 100%|██████████| [00:00<00:00]\n"
     ]
    },
    {
     "name": "stdout",
     "output_type": "stream",
     "text": [
      "extrap --text ./extra-p_docker/share/input_lulesh_@void_Domain--Domain-Int_t_Index_t_Index_t_Index_t_Index_t_Int_t_Int_t_Int_t_Int_t- --modeler default  --options \\#spm=Basic \\#spo=poly_exponents=-1,0,1,2,3,log_exponents=0,1,force_combination_exponents=1,allow_negative_exponents=True\n"
     ]
    },
    {
     "name": "stderr",
     "output_type": "stream",
     "text": [
      "Loading file: 100%|██████████| [00:00<00:00, Validating experiment]\n",
      "Generating models: |          | [00:00<?]/usr/local/lib/python3.10/site-packages/extrap/modelers/single_parameter/basic.py:273: UserWarning: Number of measurements for a parameter needs to be at least 5 in order to create a performance model.\n",
      "  warnings.warn(\n",
      "Generating models: 100%|██████████| [00:00<00:00]\n",
      "/usr/local/lib/python3.10/site-packages/scipy/optimize/_minpack_py.py:881: OptimizeWarning: Covariance of the parameters could not be estimated\n",
      "  warnings.warn('Covariance of the parameters could not be estimated',\n",
      "/usr/local/lib/python3.10/site-packages/scipy/optimize/_minpack_py.py:881: OptimizeWarning: Covariance of the parameters could not be estimated\n",
      "  warnings.warn('Covariance of the parameters could not be estimated',\n",
      "/usr/local/lib/python3.10/site-packages/scipy/optimize/_minpack_py.py:881: OptimizeWarning: Covariance of the parameters could not be estimated\n",
      "  warnings.warn('Covariance of the parameters could not be estimated',\n"
     ]
    },
    {
     "name": "stdout",
     "output_type": "stream",
     "text": [
      "functionName = void_Domain::SetupBoundaryConditions(Int_t)\n",
      "converted_functionName = void_Domain--SetupBoundaryConditions-Int_t-\n",
      "filePath = ./extra-p_docker/share/input_lulesh_@void_Domain--SetupBoundaryConditions-Int_t-\n",
      "extrap --text ./extra-p_docker/share/input_lulesh_@void_Domain--SetupBoundaryConditions-Int_t- --modeler multi-parameter  --options \\#spm=Basic \\#spo=poly_exponents=-1,0,1,2,3,log_exponents=0,1,force_combination_exponents=1,allow_negative_exponents=True\n"
     ]
    },
    {
     "name": "stderr",
     "output_type": "stream",
     "text": [
      "Loading file: 100%|██████████| [00:00<00:00, Validating experiment]\n",
      "Generating models: |          | [00:00<?]/usr/local/lib/python3.10/site-packages/extrap/modelers/single_parameter/basic.py:273: UserWarning: Number of measurements for a parameter needs to be at least 5 in order to create a performance model.\n",
      "  warnings.warn(\n",
      "Generating models: 100%|██████████| [00:00<00:00]\n"
     ]
    },
    {
     "name": "stdout",
     "output_type": "stream",
     "text": [
      "extrap --text ./extra-p_docker/share/input_lulesh_@void_Domain--SetupBoundaryConditions-Int_t- --modeler default  --options \\#spm=Basic \\#spo=poly_exponents=-1,0,1,2,3,log_exponents=0,1,force_combination_exponents=1,allow_negative_exponents=True\n"
     ]
    },
    {
     "name": "stderr",
     "output_type": "stream",
     "text": [
      "Loading file: 100%|██████████| [00:00<00:00, Validating experiment]\n",
      "Generating models: |          | [00:00<?]/usr/local/lib/python3.10/site-packages/extrap/modelers/single_parameter/basic.py:273: UserWarning: Number of measurements for a parameter needs to be at least 5 in order to create a performance model.\n",
      "  warnings.warn(\n",
      "Generating models: 100%|██████████| [00:00<00:00]\n",
      "/usr/local/lib/python3.10/site-packages/scipy/optimize/_minpack_py.py:881: OptimizeWarning: Covariance of the parameters could not be estimated\n",
      "  warnings.warn('Covariance of the parameters could not be estimated',\n",
      "/usr/local/lib/python3.10/site-packages/scipy/optimize/_minpack_py.py:881: OptimizeWarning: Covariance of the parameters could not be estimated\n",
      "  warnings.warn('Covariance of the parameters could not be estimated',\n",
      "/usr/local/lib/python3.10/site-packages/scipy/optimize/_minpack_py.py:881: OptimizeWarning: Covariance of the parameters could not be estimated\n",
      "  warnings.warn('Covariance of the parameters could not be estimated',\n"
     ]
    },
    {
     "name": "stdout",
     "output_type": "stream",
     "text": [
      "functionName = void_Domain::SetupCommBuffers(Int_t)\n",
      "converted_functionName = void_Domain--SetupCommBuffers-Int_t-\n",
      "filePath = ./extra-p_docker/share/input_lulesh_@void_Domain--SetupCommBuffers-Int_t-\n",
      "extrap --text ./extra-p_docker/share/input_lulesh_@void_Domain--SetupCommBuffers-Int_t- --modeler multi-parameter  --options \\#spm=Basic \\#spo=poly_exponents=-1,0,1,2,3,log_exponents=0,1,force_combination_exponents=1,allow_negative_exponents=True\n"
     ]
    },
    {
     "name": "stderr",
     "output_type": "stream",
     "text": [
      "Loading file: 100%|██████████| [00:00<00:00, Validating experiment]\n",
      "Generating models: |          | [00:00<?]/usr/local/lib/python3.10/site-packages/extrap/modelers/single_parameter/basic.py:273: UserWarning: Number of measurements for a parameter needs to be at least 5 in order to create a performance model.\n",
      "  warnings.warn(\n",
      "Generating models: 100%|██████████| [00:00<00:00]\n"
     ]
    },
    {
     "name": "stdout",
     "output_type": "stream",
     "text": [
      "extrap --text ./extra-p_docker/share/input_lulesh_@void_Domain--SetupCommBuffers-Int_t- --modeler default  --options \\#spm=Basic \\#spo=poly_exponents=-1,0,1,2,3,log_exponents=0,1,force_combination_exponents=1,allow_negative_exponents=True\n"
     ]
    },
    {
     "name": "stderr",
     "output_type": "stream",
     "text": [
      "Loading file: 100%|██████████| [00:00<00:00, Validating experiment]\n",
      "Generating models: |          | [00:00<?]/usr/local/lib/python3.10/site-packages/extrap/modelers/single_parameter/basic.py:273: UserWarning: Number of measurements for a parameter needs to be at least 5 in order to create a performance model.\n",
      "  warnings.warn(\n",
      "Generating models: 100%|██████████| [00:00<00:00]\n",
      "/usr/local/lib/python3.10/site-packages/scipy/optimize/_minpack_py.py:881: OptimizeWarning: Covariance of the parameters could not be estimated\n",
      "  warnings.warn('Covariance of the parameters could not be estimated',\n",
      "/usr/local/lib/python3.10/site-packages/scipy/optimize/_minpack_py.py:881: OptimizeWarning: Covariance of the parameters could not be estimated\n",
      "  warnings.warn('Covariance of the parameters could not be estimated',\n",
      "/usr/local/lib/python3.10/site-packages/scipy/optimize/_minpack_py.py:881: OptimizeWarning: Covariance of the parameters could not be estimated\n",
      "  warnings.warn('Covariance of the parameters could not be estimated',\n"
     ]
    },
    {
     "name": "stdout",
     "output_type": "stream",
     "text": [
      "functionName = void_Domain::SetupElementConnectivities(Int_t)\n",
      "converted_functionName = void_Domain--SetupElementConnectivities-Int_t-\n",
      "filePath = ./extra-p_docker/share/input_lulesh_@void_Domain--SetupElementConnectivities-Int_t-\n",
      "extrap --text ./extra-p_docker/share/input_lulesh_@void_Domain--SetupElementConnectivities-Int_t- --modeler multi-parameter  --options \\#spm=Basic \\#spo=poly_exponents=-1,0,1,2,3,log_exponents=0,1,force_combination_exponents=1,allow_negative_exponents=True\n"
     ]
    },
    {
     "name": "stderr",
     "output_type": "stream",
     "text": [
      "Loading file: 100%|██████████| [00:00<00:00, Validating experiment]\n",
      "Generating models: |          | [00:00<?]/usr/local/lib/python3.10/site-packages/extrap/modelers/single_parameter/basic.py:273: UserWarning: Number of measurements for a parameter needs to be at least 5 in order to create a performance model.\n",
      "  warnings.warn(\n",
      "Generating models: 100%|██████████| [00:00<00:00]\n"
     ]
    },
    {
     "name": "stdout",
     "output_type": "stream",
     "text": [
      "extrap --text ./extra-p_docker/share/input_lulesh_@void_Domain--SetupElementConnectivities-Int_t- --modeler default  --options \\#spm=Basic \\#spo=poly_exponents=-1,0,1,2,3,log_exponents=0,1,force_combination_exponents=1,allow_negative_exponents=True\n"
     ]
    },
    {
     "name": "stderr",
     "output_type": "stream",
     "text": [
      "Loading file: 100%|██████████| [00:00<00:00, Validating experiment]\n",
      "Generating models: |          | [00:00<?]/usr/local/lib/python3.10/site-packages/extrap/modelers/single_parameter/basic.py:273: UserWarning: Number of measurements for a parameter needs to be at least 5 in order to create a performance model.\n",
      "  warnings.warn(\n",
      "Generating models: 100%|██████████| [00:00<00:00]\n",
      "/usr/local/lib/python3.10/site-packages/scipy/optimize/_minpack_py.py:881: OptimizeWarning: Covariance of the parameters could not be estimated\n",
      "  warnings.warn('Covariance of the parameters could not be estimated',\n",
      "/usr/local/lib/python3.10/site-packages/scipy/optimize/_minpack_py.py:881: OptimizeWarning: Covariance of the parameters could not be estimated\n",
      "  warnings.warn('Covariance of the parameters could not be estimated',\n",
      "/usr/local/lib/python3.10/site-packages/scipy/optimize/_minpack_py.py:881: OptimizeWarning: Covariance of the parameters could not be estimated\n",
      "  warnings.warn('Covariance of the parameters could not be estimated',\n"
     ]
    },
    {
     "name": "stdout",
     "output_type": "stream",
     "text": [
      "functionName = void_Domain::SetupSymmetryPlanes(Int_t)\n",
      "converted_functionName = void_Domain--SetupSymmetryPlanes-Int_t-\n",
      "filePath = ./extra-p_docker/share/input_lulesh_@void_Domain--SetupSymmetryPlanes-Int_t-\n",
      "extrap --text ./extra-p_docker/share/input_lulesh_@void_Domain--SetupSymmetryPlanes-Int_t- --modeler multi-parameter  --options \\#spm=Basic \\#spo=poly_exponents=-1,0,1,2,3,log_exponents=0,1,force_combination_exponents=1,allow_negative_exponents=True\n"
     ]
    },
    {
     "name": "stderr",
     "output_type": "stream",
     "text": [
      "Loading file: 100%|██████████| [00:00<00:00, Validating experiment]\n",
      "Generating models: |          | [00:00<?]/usr/local/lib/python3.10/site-packages/extrap/modelers/single_parameter/basic.py:273: UserWarning: Number of measurements for a parameter needs to be at least 5 in order to create a performance model.\n",
      "  warnings.warn(\n",
      "Generating models: 100%|██████████| [00:00<00:00]\n"
     ]
    },
    {
     "name": "stdout",
     "output_type": "stream",
     "text": [
      "extrap --text ./extra-p_docker/share/input_lulesh_@void_Domain--SetupSymmetryPlanes-Int_t- --modeler default  --options \\#spm=Basic \\#spo=poly_exponents=-1,0,1,2,3,log_exponents=0,1,force_combination_exponents=1,allow_negative_exponents=True\n"
     ]
    },
    {
     "name": "stderr",
     "output_type": "stream",
     "text": [
      "Loading file: 100%|██████████| [00:00<00:00, Validating experiment]\n",
      "Generating models: |          | [00:00<?]/usr/local/lib/python3.10/site-packages/extrap/modelers/single_parameter/basic.py:273: UserWarning: Number of measurements for a parameter needs to be at least 5 in order to create a performance model.\n",
      "  warnings.warn(\n",
      "Generating models: 100%|██████████| [00:00<00:00]\n",
      "/usr/local/lib/python3.10/site-packages/scipy/optimize/_minpack_py.py:881: OptimizeWarning: Covariance of the parameters could not be estimated\n",
      "  warnings.warn('Covariance of the parameters could not be estimated',\n",
      "/usr/local/lib/python3.10/site-packages/scipy/optimize/_minpack_py.py:881: OptimizeWarning: Covariance of the parameters could not be estimated\n",
      "  warnings.warn('Covariance of the parameters could not be estimated',\n",
      "/usr/local/lib/python3.10/site-packages/scipy/optimize/_minpack_py.py:881: OptimizeWarning: Covariance of the parameters could not be estimated\n",
      "  warnings.warn('Covariance of the parameters could not be estimated',\n"
     ]
    },
    {
     "name": "stdout",
     "output_type": "stream",
     "text": [
      "functionName = void_Domain::~Domain()\n",
      "converted_functionName = void_Domain--~Domain--\n",
      "filePath = ./extra-p_docker/share/input_lulesh_@void_Domain--~Domain--\n",
      "extrap --text ./extra-p_docker/share/input_lulesh_@void_Domain--~Domain-- --modeler multi-parameter  --options \\#spm=Basic \\#spo=poly_exponents=-1,0,1,2,3,log_exponents=0,1,force_combination_exponents=1,allow_negative_exponents=True\n"
     ]
    },
    {
     "name": "stderr",
     "output_type": "stream",
     "text": [
      "Loading file: 100%|██████████| [00:00<00:00, Validating experiment]\n",
      "Generating models: |          | [00:00<?]/usr/local/lib/python3.10/site-packages/extrap/modelers/single_parameter/basic.py:273: UserWarning: Number of measurements for a parameter needs to be at least 5 in order to create a performance model.\n",
      "  warnings.warn(\n",
      "Generating models: 100%|██████████| [00:00<00:00]\n"
     ]
    },
    {
     "name": "stdout",
     "output_type": "stream",
     "text": [
      "extrap --text ./extra-p_docker/share/input_lulesh_@void_Domain--~Domain-- --modeler default  --options \\#spm=Basic \\#spo=poly_exponents=-1,0,1,2,3,log_exponents=0,1,force_combination_exponents=1,allow_negative_exponents=True\n"
     ]
    },
    {
     "name": "stderr",
     "output_type": "stream",
     "text": [
      "Loading file: 100%|██████████| [00:00<00:00, Validating experiment]\n",
      "Generating models: |          | [00:00<?]/usr/local/lib/python3.10/site-packages/extrap/modelers/single_parameter/basic.py:273: UserWarning: Number of measurements for a parameter needs to be at least 5 in order to create a performance model.\n",
      "  warnings.warn(\n",
      "Generating models: 100%|██████████| [00:00<00:00]\n",
      "/usr/local/lib/python3.10/site-packages/scipy/optimize/_minpack_py.py:881: OptimizeWarning: Covariance of the parameters could not be estimated\n",
      "  warnings.warn('Covariance of the parameters could not be estimated',\n",
      "/usr/local/lib/python3.10/site-packages/scipy/optimize/_minpack_py.py:881: OptimizeWarning: Covariance of the parameters could not be estimated\n",
      "  warnings.warn('Covariance of the parameters could not be estimated',\n",
      "/usr/local/lib/python3.10/site-packages/scipy/optimize/_minpack_py.py:881: OptimizeWarning: Covariance of the parameters could not be estimated\n",
      "  warnings.warn('Covariance of the parameters could not be estimated',\n"
     ]
    },
    {
     "name": "stdout",
     "output_type": "stream",
     "text": [
      "functionName = void_InitMeshDecomp(Int_t_Int_t_Int_t\n",
      "converted_functionName = void_InitMeshDecomp-Int_t_Int_t_Int_t\n",
      "filePath = ./extra-p_docker/share/input_lulesh_@void_InitMeshDecomp-Int_t_Int_t_Int_t\n",
      "extrap --text ./extra-p_docker/share/input_lulesh_@void_InitMeshDecomp-Int_t_Int_t_Int_t --modeler multi-parameter  --options \\#spm=Basic \\#spo=poly_exponents=-1,0,1,2,3,log_exponents=0,1,force_combination_exponents=1,allow_negative_exponents=True\n"
     ]
    },
    {
     "name": "stderr",
     "output_type": "stream",
     "text": [
      "Loading file: 100%|██████████| [00:00<00:00, Validating experiment]\n",
      "Generating models: |          | [00:00<?]/usr/local/lib/python3.10/site-packages/extrap/modelers/single_parameter/basic.py:273: UserWarning: Number of measurements for a parameter needs to be at least 5 in order to create a performance model.\n",
      "  warnings.warn(\n",
      "Generating models: 100%|██████████| [00:00<00:00]\n"
     ]
    },
    {
     "name": "stdout",
     "output_type": "stream",
     "text": [
      "extrap --text ./extra-p_docker/share/input_lulesh_@void_InitMeshDecomp-Int_t_Int_t_Int_t --modeler default  --options \\#spm=Basic \\#spo=poly_exponents=-1,0,1,2,3,log_exponents=0,1,force_combination_exponents=1,allow_negative_exponents=True\n"
     ]
    },
    {
     "name": "stderr",
     "output_type": "stream",
     "text": [
      "Loading file: 100%|██████████| [00:00<00:00, Validating experiment]\n",
      "Generating models: |          | [00:00<?]/usr/local/lib/python3.10/site-packages/extrap/modelers/single_parameter/basic.py:273: UserWarning: Number of measurements for a parameter needs to be at least 5 in order to create a performance model.\n",
      "  warnings.warn(\n",
      "Generating models: 100%|██████████| [00:00<00:00]\n",
      "/usr/local/lib/python3.10/site-packages/scipy/optimize/_minpack_py.py:881: OptimizeWarning: Covariance of the parameters could not be estimated\n",
      "  warnings.warn('Covariance of the parameters could not be estimated',\n",
      "/usr/local/lib/python3.10/site-packages/scipy/optimize/_minpack_py.py:881: OptimizeWarning: Covariance of the parameters could not be estimated\n",
      "  warnings.warn('Covariance of the parameters could not be estimated',\n",
      "/usr/local/lib/python3.10/site-packages/scipy/optimize/_minpack_py.py:881: OptimizeWarning: Covariance of the parameters could not be estimated\n",
      "  warnings.warn('Covariance of the parameters could not be estimated',\n"
     ]
    },
    {
     "name": "stdout",
     "output_type": "stream",
     "text": [
      "functionName = void_ParseCommandLineOptions(int_char_**_Int_t_cmdLineOpts\n",
      "converted_functionName = void_ParseCommandLineOptions-int_char_**_Int_t_cmdLineOpts\n",
      "filePath = ./extra-p_docker/share/input_lulesh_@void_ParseCommandLineOptions-int_char_**_Int_t_cmdLineOpts\n",
      "extrap --text ./extra-p_docker/share/input_lulesh_@void_ParseCommandLineOptions-int_char_**_Int_t_cmdLineOpts --modeler multi-parameter  --options \\#spm=Basic \\#spo=poly_exponents=-1,0,1,2,3,log_exponents=0,1,force_combination_exponents=1,allow_negative_exponents=True\n"
     ]
    },
    {
     "name": "stderr",
     "output_type": "stream",
     "text": [
      "Loading file: 100%|██████████| [00:00<00:00, Validating experiment]\n",
      "Generating models: |          | [00:00<?]/usr/local/lib/python3.10/site-packages/extrap/modelers/single_parameter/basic.py:273: UserWarning: Number of measurements for a parameter needs to be at least 5 in order to create a performance model.\n",
      "  warnings.warn(\n",
      "Generating models: 100%|██████████| [00:00<00:00]\n"
     ]
    },
    {
     "name": "stdout",
     "output_type": "stream",
     "text": [
      "extrap --text ./extra-p_docker/share/input_lulesh_@void_ParseCommandLineOptions-int_char_**_Int_t_cmdLineOpts --modeler default  --options \\#spm=Basic \\#spo=poly_exponents=-1,0,1,2,3,log_exponents=0,1,force_combination_exponents=1,allow_negative_exponents=True\n"
     ]
    },
    {
     "name": "stderr",
     "output_type": "stream",
     "text": [
      "Loading file: 100%|██████████| [00:00<00:00, Validating experiment]\n",
      "Generating models: |          | [00:00<?]/usr/local/lib/python3.10/site-packages/extrap/modelers/single_parameter/basic.py:273: UserWarning: Number of measurements for a parameter needs to be at least 5 in order to create a performance model.\n",
      "  warnings.warn(\n",
      "Generating models: 100%|██████████| [00:00<00:00]\n",
      "/usr/local/lib/python3.10/site-packages/scipy/optimize/_minpack_py.py:881: OptimizeWarning: Covariance of the parameters could not be estimated\n",
      "  warnings.warn('Covariance of the parameters could not be estimated',\n",
      "/usr/local/lib/python3.10/site-packages/scipy/optimize/_minpack_py.py:881: OptimizeWarning: Covariance of the parameters could not be estimated\n",
      "  warnings.warn('Covariance of the parameters could not be estimated',\n",
      "/usr/local/lib/python3.10/site-packages/scipy/optimize/_minpack_py.py:881: OptimizeWarning: Covariance of the parameters could not be estimated\n",
      "  warnings.warn('Covariance of the parameters could not be estimated',\n"
     ]
    },
    {
     "name": "stdout",
     "output_type": "stream",
     "text": [
      "functionName = void_VerifyAndWriteFinalOutput(Real_t_Domain\n",
      "converted_functionName = void_VerifyAndWriteFinalOutput-Real_t_Domain\n",
      "filePath = ./extra-p_docker/share/input_lulesh_@void_VerifyAndWriteFinalOutput-Real_t_Domain\n",
      "extrap --text ./extra-p_docker/share/input_lulesh_@void_VerifyAndWriteFinalOutput-Real_t_Domain --modeler multi-parameter  --options \\#spm=Basic \\#spo=poly_exponents=-1,0,1,2,3,log_exponents=0,1,force_combination_exponents=1,allow_negative_exponents=True\n"
     ]
    },
    {
     "name": "stderr",
     "output_type": "stream",
     "text": [
      "Loading file: 100%|██████████| [00:00<00:00, Validating experiment]\n",
      "Generating models: |          | [00:00<?]/usr/local/lib/python3.10/site-packages/extrap/modelers/single_parameter/basic.py:273: UserWarning: Number of measurements for a parameter needs to be at least 5 in order to create a performance model.\n",
      "  warnings.warn(\n",
      "Generating models: 100%|██████████| [00:00<00:00]\n"
     ]
    },
    {
     "name": "stdout",
     "output_type": "stream",
     "text": [
      "extrap --text ./extra-p_docker/share/input_lulesh_@void_VerifyAndWriteFinalOutput-Real_t_Domain --modeler default  --options \\#spm=Basic \\#spo=poly_exponents=-1,0,1,2,3,log_exponents=0,1,force_combination_exponents=1,allow_negative_exponents=True\n"
     ]
    },
    {
     "name": "stderr",
     "output_type": "stream",
     "text": [
      "Loading file: 100%|██████████| [00:00<00:00, Validating experiment]\n",
      "Generating models: |          | [00:00<?]/usr/local/lib/python3.10/site-packages/extrap/modelers/single_parameter/basic.py:273: UserWarning: Number of measurements for a parameter needs to be at least 5 in order to create a performance model.\n",
      "  warnings.warn(\n",
      "Generating models: 100%|██████████| [00:00<00:00]\n"
     ]
    }
   ],
   "source": [
    "# Extra-P による関数コール回数予測\n",
    "\n",
    "resVar: str = \"#Call\"\n",
    "expVar: list[str] = [\"process\", \"iteration\", \"size\"]\n",
    "\n",
    "dict_models_perFunc: dict[str, dict[str, str]] = {}\n",
    "\n",
    "for functionName in functionNames:\n",
    "\n",
    "    trainDF_perFunc: pd.DataFrame = trainDF[\n",
    "        trainDF[\"Name\"] == functionName\n",
    "    ].reset_index()\n",
    "\n",
    "    str_ExtraPinputData_call: str = gen_ExtraPinputDataFromDF(\n",
    "        inputDF=trainDF_perFunc,\n",
    "        expVar=expVar,\n",
    "        resVar=resVar,\n",
    "    )\n",
    "\n",
    "    # モデル格納用の辞書\n",
    "    dictModels: dict[str, str] = {}\n",
    "\n",
    "    # Extra-P によるモデルの構築\n",
    "    converted_functionName: str = re.sub(\n",
    "        r'[\\\\|/|:|?|.|\"|<|>|\\|\\(|\\)|]', \"-\", functionName\n",
    "    )\n",
    "    fileName: str = f\"input_lulesh_@{converted_functionName}\"\n",
    "    fileDir: str = f\"./extra-p_docker/share/\"\n",
    "    filePath: str = fileDir + fileName\n",
    "    print(f\"functionName = {functionName}\")\n",
    "    print(f\"converted_functionName = {converted_functionName}\")\n",
    "    print(f\"filePath = {filePath}\")\n",
    "    with open(file=filePath, mode=\"w\") as f:\n",
    "        f.write(str_ExtraPinputData_call)\n",
    "\n",
    "    for modelerName in modelerNames:\n",
    "        print(f\"extrap --text {filePath} --modeler {modelerName} {modelerOption}\")\n",
    "        str_resFromExtraP: str = subprocess.run(\n",
    "            f\"extrap --text {filePath} --modeler {modelerName} {modelerOption}  | grep Model\",\n",
    "            stdout=subprocess.PIPE,\n",
    "            text=True,\n",
    "            shell=True,\n",
    "        ).stdout\n",
    "        str_resFromExtraP = str_resFromExtraP.replace(\"Model: \", \"\")\n",
    "        str_resFromExtraP = convert_log(str_resFromExtraP)\n",
    "        model_fromExtraP = sympify(str_resFromExtraP, locals=dict_symbols)\n",
    "\n",
    "        dictModels[modelerName] = model_fromExtraP\n",
    "\n",
    "    # 提案手法によるモデルの構築\n",
    "    bestModelDict: dict = return_bestModelObject(\n",
    "        inputDF=trainDF_perFunc,\n",
    "        list_expVar=expVar,\n",
    "        list_resVar=[resVar],\n",
    "        list_modelName=list_modelName,\n",
    "    )\n",
    "\n",
    "    dictModels[\"proposal\"] = bestModelDict[\"object\"]\n",
    "\n",
    "    dict_models_perFunc[functionName] = dictModels"
   ]
  },
  {
   "cell_type": "code",
   "execution_count": 16,
   "id": "df9ba408-c310-4cca-a1a0-5fb3dca617b0",
   "metadata": {},
   "outputs": [],
   "source": [
    "_list_series: list[pd.Series] = []\n",
    "\n",
    "for functionName in functionNames:\n",
    "    pass\n",
    "    testDF_perFunc: pd.DataFrame = testDF[testDF[\"Name\"] == functionName].reset_index()\n",
    "\n",
    "    tmp_series: pd.Series = pd.Series(dtype=\"object\")\n",
    "    # Extra-P による予測\n",
    "    for modelerName in modelerNames:\n",
    "        tmp_series[modelerName] = (\n",
    "            dict_models_perFunc[functionName][modelerName].subs(target_env).evalf()\n",
    "        )\n",
    "    # 提案手法による予測\n",
    "    _tmp_testDF_perFunc: pd.DataFrame = testDF_perFunc[\n",
    "        (testDF_perFunc[\"process\"] == test_lulesh_processes[-1])\n",
    "        & (testDF_perFunc[\"iteration\"] == test_lulesh_iterations[-1])\n",
    "        & (testDF_perFunc[\"size\"] == test_lulesh_sizes[-1])\n",
    "        & (testDF_perFunc[\"Name\"] == functionName)\n",
    "    ]\n",
    "    try:\n",
    "        tmp_series[\"proposal\"] = float(\n",
    "            np.array(\n",
    "                dict_models_perFunc[functionName][\"proposal\"].predict(\n",
    "                    inputDF=_tmp_testDF_perFunc[expVar]\n",
    "                )\n",
    "            )\n",
    "        )\n",
    "    except:\n",
    "        warnings.warn(f\"{functionName} has no data at testDF\")\n",
    "        continue\n",
    "    # 実測値\n",
    "    tmp_series[\"real_call\"] = _tmp_testDF_perFunc.reset_index(drop=True).loc[0][\"#Call\"]\n",
    "    tmp_series[\"functionName\"] = functionName\n",
    "\n",
    "    _list_series.append(tmp_series)"
   ]
  },
  {
   "cell_type": "code",
   "execution_count": 17,
   "id": "2fde540c-1a83-4b47-b428-32bf11832e79",
   "metadata": {},
   "outputs": [],
   "source": [
    "DF_about_call_at_lulesh: pd.DataFrame = pd.DataFrame(_list_series)\n",
    "DF_about_call_at_lulesh = add_relativeErrorRateCol(\n",
    "    inputDF=DF_about_call_at_lulesh,\n",
    "    real_colName=\"real_call\",\n",
    "    predicted_colName=\"default\",\n",
    "    targetColName=\"real_call vs default\",\n",
    ")\n",
    "# DF_about_call_at_lulesh = add_relativeErrorRateCol(\n",
    "#     inputDF=DF_about_call_at_lulesh,\n",
    "#     real_colName=\"real_call\",\n",
    "#     predicted_colName=\"basic\",\n",
    "#     targetColName=\"real_call vs basic\",\n",
    "# )\n",
    "# DF_about_call_at_lulesh = add_relativeErrorRateCol(\n",
    "#     inputDF=DF_about_call_at_lulesh,\n",
    "#     real_colName=\"real_call\",\n",
    "#     predicted_colName=\"refining\",\n",
    "#     targetColName=\"real_call vs refining\",\n",
    "# )\n",
    "DF_about_call_at_lulesh = add_relativeErrorRateCol(\n",
    "    inputDF=DF_about_call_at_lulesh,\n",
    "    real_colName=\"real_call\",\n",
    "    predicted_colName=\"multi-parameter\",\n",
    "    targetColName=\"real_call vs multi-parameter\",\n",
    ")\n",
    "DF_about_call_at_lulesh = add_relativeErrorRateCol(\n",
    "    inputDF=DF_about_call_at_lulesh,\n",
    "    real_colName=\"real_call\",\n",
    "    predicted_colName=\"proposal\",\n",
    "    targetColName=\"real_call vs proposal\",\n",
    ")"
   ]
  },
  {
   "cell_type": "code",
   "execution_count": 18,
   "id": "fc4bb6bf-4336-42a3-b32b-984fa6fc4e2b",
   "metadata": {},
   "outputs": [
    {
     "name": "stdout",
     "output_type": "stream",
     "text": [
      ",multi-parameter,default,proposal,real_call,functionName,real_call vs default,real_call vs multi-parameter,real_call vs proposal\n",
      "0,0.999999999999999,0.999999999999999,1.0,1.0,.TAU_application,1.11022302462516e-13,1.11022302462516e-13,0.0\n",
      "1,1023.00000000000,1023.00000000000,1023.0,1023.0,MPI_Allreduce(),2.22261657324763e-14,2.22261657324763e-14,0.0\n",
      "2,0.999999999999999,0.999999999999999,1.0,1.0,MPI_Barrier(),1.11022302462516e-13,1.11022302462516e-13,0.0\n",
      "3,9221.00000000000,9221.00000000000,9221.000000000004,9221.0,MPI_Comm_rank(),1.97265958523572e-14,1.97265958523572e-14,3.945319170471438e-14\n",
      "4,0.999999999999999,0.999999999999999,1.0,1.0,MPI_Comm_size(),1.11022302462516e-13,1.11022302462516e-13,0.0\n",
      "5,0.999999999999999,0.999999999999999,1.0,1.0,MPI_Finalize(),1.11022302462516e-13,1.11022302462516e-13,0.0\n",
      "6,0.999999999999999,0.999999999999999,1.0,1.0,MPI_Init(),1.11022302462516e-13,1.11022302462516e-13,0.0\n",
      "7,26764.7475504032,26764.7475504032,51757.94232139088,37732.8,MPI_Irecv(),29.0676876605944,29.0676876605944,37.16963045782682\n",
      "8,26764.7475504032,26764.7475504032,51757.94232139088,37732.8,MPI_Isend(),29.0676876605944,29.0676876605944,37.16963045782682\n",
      "9,0.999999999999999,0.999999999999999,1.0,1.0,MPI_Reduce(),1.11022302462516e-13,1.11022302462516e-13,0.0\n",
      "10,26764.7475504032,26764.7475504032,51757.94232139088,37732.8,MPI_Wait(),29.0676876605944,29.0676876605944,37.16963045782682\n",
      "11,3073.00000000000,3073.00000000000,3073.0000000000005,3073.0,MPI_Waitall(),4.43944696602471e-14,4.43944696602471e-14,1.479815655341569e-14\n",
      "12,2149585472.22544,2149585472.22544,2073910598.7216053,2149580000.0,Real_t_CalcElemVolume(const,0.000254571844002869,0.000254571844002869,3.520194702146219\n",
      "13,2.00000000000000,2.00000000000000,2.0,2.0,StrToInt,1.11022302462516e-13,1.11022302462516e-13,0.0\n",
      "14,0.999999999999999,0.999999999999999,1.0,1.0,int_main(int_char_**),1.11022302462516e-13,1.11022302462516e-13,0.0\n",
      "15,1024.00000000000,1024.00000000000,1024.0,1024.0,void_CalcKinematicsForElems(Domain,0,0,0.0\n",
      "16,1024.00000000000,1024.00000000000,1024.0,1024.0,void_CommMonoQ(Domain,0,0,0.0\n",
      "17,3073.00000000000,3073.00000000000,3073.0000000000005,3073.0,void_CommRecv(Domain,4.43944696602471e-14,4.43944696602471e-14,1.479815655341569e-14\n",
      "18,1025.00000000000,1025.00000000000,1025.0,1025.0,void_CommSBN(Domain,2.21827976042178e-14,2.21827976042178e-14,0.0\n",
      "19,3073.00000000000,3073.00000000000,3073.0000000000005,3073.0,void_CommSend(Domain,4.43944696602471e-14,4.43944696602471e-14,1.479815655341569e-14\n",
      "20,1024.00000000000,1024.00000000000,1024.0,1024.0,void_CommSyncPosVel(Domain,0,0,0.0\n",
      "21,0.999999999999999,0.999999999999999,1.0,1.0,void_Domain::BuildMesh(Int_t_Int_t_Int_t),1.11022302462516e-13,1.11022302462516e-13,0.0\n",
      "22,0.999999999999999,0.999999999999999,1.0,1.0,void_Domain::CreateRegionIndexSets(Int_t_Int_t),1.11022302462516e-13,1.11022302462516e-13,0.0\n",
      "23,0.999999999999999,0.999999999999999,1.0,1.0,void_Domain::Domain(Int_t_Index_t_Index_t_Index_t_Index_t_Int_t_Int_t_Int_t_Int_t),1.11022302462516e-13,1.11022302462516e-13,0.0\n",
      "24,0.999999999999999,0.999999999999999,1.0,1.0,void_Domain::SetupBoundaryConditions(Int_t),1.11022302462516e-13,1.11022302462516e-13,0.0\n",
      "25,0.999999999999999,0.999999999999999,1.0,1.0,void_Domain::SetupCommBuffers(Int_t),1.11022302462516e-13,1.11022302462516e-13,0.0\n",
      "26,0.999999999999999,0.999999999999999,1.0,1.0,void_Domain::SetupElementConnectivities(Int_t),1.11022302462516e-13,1.11022302462516e-13,0.0\n",
      "27,0.999999999999999,0.999999999999999,1.0,1.0,void_Domain::SetupSymmetryPlanes(Int_t),1.11022302462516e-13,1.11022302462516e-13,0.0\n",
      "28,0.999999999999999,0.999999999999999,1.0,1.0,void_Domain::~Domain(),1.11022302462516e-13,1.11022302462516e-13,0.0\n",
      "29,0.999999999999999,0.999999999999999,1.0,1.0,void_InitMeshDecomp(Int_t_Int_t_Int_t,1.11022302462516e-13,1.11022302462516e-13,0.0\n",
      "30,0.999999999999999,0.999999999999999,1.0,1.0,void_ParseCommandLineOptions(int_char_**_Int_t_cmdLineOpts,1.11022302462516e-13,1.11022302462516e-13,0.0\n",
      "31,0.000999993948753132,0.000999993948753132,0.0009999939487532368,0.001,void_VerifyAndWriteFinalOutput(Real_t_Domain,0.000605124686817171,0.000605124686817171,0.0006051246763220941\n",
      "\n"
     ]
    }
   ],
   "source": [
    "print(DF_about_call_at_lulesh.to_csv())"
   ]
  },
  {
   "cell_type": "code",
   "execution_count": 19,
   "id": "51288c71-03fd-4d27-b918-7854b3e6618c",
   "metadata": {},
   "outputs": [
    {
     "name": "stderr",
     "output_type": "stream",
     "text": [
      "/tmp/ipykernel_82/1662607098.py:1: FutureWarning: The default value of numeric_only in DataFrame.mean is deprecated. In a future version, it will default to False. In addition, specifying 'numeric_only=None' is deprecated. Select only valid columns or specify the value of numeric_only to silence this warning.\n",
      "  DF_about_call_at_lulesh.mean()\n"
     ]
    },
    {
     "data": {
      "text/plain": [
       "multi-parameter                 6.717779e+07\n",
       "default                         6.717779e+07\n",
       "proposal                        6.481530e+07\n",
       "real_call                       6.717865e+07\n",
       "real_call vs default            2.725123e+00\n",
       "real_call vs multi-parameter    2.725123e+00\n",
       "real_call vs proposal           3.594678e+00\n",
       "dtype: float64"
      ]
     },
     "execution_count": 19,
     "metadata": {},
     "output_type": "execute_result"
    }
   ],
   "source": [
    "DF_about_call_at_lulesh.mean()"
   ]
  },
  {
   "cell_type": "code",
   "execution_count": 20,
   "id": "8bd18e97-562b-4c29-bfdb-1e9ed68082df",
   "metadata": {},
   "outputs": [],
   "source": [
    "expVar: list[str] = [\"process\", \"iteration\", \"size\"]\n",
    "# resVar: str = \"Exclusive\"\n",
    "\n",
    "# trainDF_lulesh: pd.DataFrame = ret_averaged_rawDF_lulesh(\n",
    "#     list_process=train_lulesh_processes,\n",
    "#     list_iteration=train_lulesh_iterations,\n",
    "#     list_size=train_lulesh_sizes,\n",
    "#     list_csvDir=list_csvDir,\n",
    "#     resVar=resVar,\n",
    "# )\n",
    "\n",
    "# testDF_lulesh: pd.DataFrame = ret_averaged_rawDF_lulesh(\n",
    "#     list_process=test_lulesh_processes,\n",
    "#     list_iteration=test_lulesh_iterations,\n",
    "#     list_size=test_lulesh_sizes,\n",
    "#     list_csvDir=list_csvDir,\n",
    "#     resVar=resVar,\n",
    "# )\n",
    "\n",
    "# testDF_lulesh = testDF_lulesh.reset_index()\n",
    "# trainDF_lulesh = trainDF_lulesh.reset_index()\n",
    "\n",
    "# testDF_lulesh[\"functionName\"] = testDF_lulesh[\"Name\"]\n",
    "# trainDF_lulesh[\"functionName\"] = trainDF_lulesh[\"Name\"]\n",
    "\n",
    "# functionNames_lulesh: list[str] = sorted(list(set(trainDF[\"Name\"])))\n",
    "\n",
    "dict_symbols_lulesh = {}\n",
    "for elem in expVar:\n",
    "    dict_symbols_lulesh[elem] = symbols(elem, real=True)\n",
    "\n",
    "target_env_lulesh = [\n",
    "    (dict_symbols_lulesh[\"size\"], test_lulesh_sizes[-1]),\n",
    "    (dict_symbols_lulesh[\"iteration\"], test_lulesh_iterations[-1]),\n",
    "    (dict_symbols_lulesh[\"process\"], test_lulesh_processes[-1]),\n",
    "]\n",
    "\n",
    "modelerName :str = \"multi-parameter\"\n",
    "modelerOption :str = \"\"\" --options \\#spm=Basic \\#spo=poly_exponents=-1,0,1,2,3,log_exponents=0,1,force_combination_exponents=1,allow_negative_exponents=True\"\"\"\n"
   ]
  }
 ],
 "metadata": {
  "kernelspec": {
   "display_name": "Python 3 (ipykernel)",
   "language": "python",
   "name": "python3"
  },
  "language_info": {
   "codemirror_mode": {
    "name": "ipython",
    "version": 3
   },
   "file_extension": ".py",
   "mimetype": "text/x-python",
   "name": "python",
   "nbconvert_exporter": "python",
   "pygments_lexer": "ipython3",
   "version": "3.10.7"
  }
 },
 "nbformat": 4,
 "nbformat_minor": 5
}
