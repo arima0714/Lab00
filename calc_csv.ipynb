{
 "cells": [
  {
   "cell_type": "markdown",
   "metadata": {},
   "source": [
    "# グラフを生成する"
   ]
  },
  {
   "cell_type": "markdown",
   "metadata": {},
   "source": [
    "### モジュールのロード"
   ]
  },
  {
   "cell_type": "code",
   "execution_count": null,
   "metadata": {},
   "outputs": [],
   "source": [
    "import glob\n",
    "import japanize_matplotlib\n",
    "import os\n",
    "import pandas as pd\n",
    "import random\n",
    "import sys\n",
    "import matplotlib as mpl\n",
    "import matplotlib.patches as mpatches\n",
    "import matplotlib.pyplot as plt"
   ]
  },
  {
   "cell_type": "markdown",
   "metadata": {},
   "source": [
    "### 変数・配列の宣言"
   ]
  },
  {
   "cell_type": "code",
   "execution_count": null,
   "metadata": {},
   "outputs": [],
   "source": [
    "# 各種値を宣言\n",
    "bench_marks = ['bt', 'cg', 'ep', 'ft', 'is', 'lu', 'mg', 'sp']\n",
    "classes = [\"S\", \"W\", \"A\", \"B\", \"C\", \"D\"]\n",
    "processes = [1, 2, 4, 8, 16, 32, 64, 128, 256]\n",
    "fix_process = 4\n",
    "fix_benchmark_class = \"C\"\n",
    "marker_size = 12\n",
    "marker_fig = \"v\""
   ]
  },
  {
   "cell_type": "code",
   "execution_count": null,
   "metadata": {},
   "outputs": [],
   "source": [
    "def show_fixed_class_graph(BenchMark=\"bt\", Processes=[1, 2, 4, 8, 16, 32, 64, 128, 256], FixedBenchMarkClass=\"C\"):\n",
    "        print(f\"ベンチマーク：{BenchMark}\")\n",
    "        path = './'        \n",
    "        markers = [\".\", \",\", \"o\", \"v\", \"^\", \"<\", \">\", \"1\", \"2\", \"3\", \"4\", \"8\", \"s\", \"p\", \"*\", \"h\", \"H\", \"+\", \"x\", \"D\", \"d\", \"|\", \"_\", \"None\", None, \"\", \"$x$\",\n",
    "            \"$\\\\alpha$\", \"$\\\\beta$\", \"$\\\\gamma$\"]\n",
    "        colors = ['#e41a1c', '#377eb8', '#4daf4a', '#984ea3', '#ff7f00', '#ffff33', '#a65628', '#f781bf']      \n",
    "        \n",
    "        # fixed_Class にはベンチマーククラスFixedBenchMarkClassで実行プロセス数がProcessesに該当するものの結果が入る\n",
    "        fixed_Class = list()\n",
    "\n",
    "        for process in Processes:\n",
    "            file_name = (\"pprof_\"+BenchMark+FixedBenchMarkClass+str(process)+\".csv\")\n",
    "            file_path = path+file_name\n",
    "            if (os.path.exists(file_path) and os.stat(file_path).st_size != 0):\n",
    "                data_frame = pd.read_csv(path+file_name)\n",
    "                data_frame = data_frame.set_index(['Name'])\n",
    "                fixed_Class.append(data_frame.rename(columns = {'#Call': process}).sort_index())\n",
    "        if(len(fixed_Class) != 0):\n",
    "            summary_fixed_Class = pd.concat(fixed_Class, axis=1)\n",
    "            summary_fixed_Class.sort_index(axis=1, inplace=True)\n",
    "            summary_fixed_Class_title = BenchMark+\"においてベンチマーククラスをCに固定し実行プロセス数を変化させたときの実行された全ての関数のコール回数\"\n",
    "\n",
    "            x_axes = summary_fixed_Class.columns.tolist()\n",
    "\n",
    "            y_axes = summary_fixed_Class.index.tolist()\n",
    "\n",
    "            plt.figure()\n",
    "            for y_axis in y_axes:\n",
    "                color = random.choice(colors)\n",
    "                label = y_axis\n",
    "                marker = random.choice(markers)\n",
    "                plt.plot(x_axes, summary_fixed_Class.T[y_axis], marker=marker, label=y_axis)\n",
    "            plt.legend()\n",
    "            plt.title(BenchMark+\"_FixedBenchMarkClass=\"+FixedBenchMarkClass)\n",
    "            plt.show()\n",
    "            \n",
    "show_fixed_class_graph(BenchMark=\"cg\")"
   ]
  },
  {
   "cell_type": "markdown",
   "metadata": {},
   "source": [
    "#### show_fixed_class_graph()を再設計したもの"
   ]
  },
  {
   "cell_type": "code",
   "execution_count": null,
   "metadata": {},
   "outputs": [],
   "source": [
    "def return_fixed_class(BenchMark=\"bt\", Processes=[1, 2, 4, 8, 16, 32, 64, 128, 256], FixedBenchMarkClass=\"C\"):\n",
    "        path = './'\n",
    "        \n",
    "        # fixed_Class にはベンチマーククラスFixedBenchMarkClassで実行プロセス数がProcessesに該当するものの結果が入る\n",
    "        fixed_Class = list()\n",
    "\n",
    "        for process in Processes:\n",
    "            file_name = (\"pprof_\"+BenchMark+FixedBenchMarkClass+str(process)+\".csv\")\n",
    "            file_path = path+file_name\n",
    "            if (os.path.exists(file_path) and os.stat(file_path).st_size != 0):\n",
    "                data_frame = pd.read_csv(path+file_name)\n",
    "                data_frame = data_frame.set_index(['Name'])\n",
    "                fixed_Class.append(data_frame.rename(columns = {'#Call': process}).sort_index())\n",
    "        return(fixed_Class)\n",
    "    "
   ]
  },
  {
   "cell_type": "code",
   "execution_count": null,
   "metadata": {},
   "outputs": [],
   "source": [
    "def show_fixed_class_graph(BenchMark=\"bt\", Processes=[1, 2, 4, 8, 16, 32, 64, 128, 256], FixedBenchMarkClass=\"C\"):\n",
    "\n",
    "        markers = [\".\", \",\", \"o\", \"v\", \"^\", \"<\", \">\", \"1\", \"2\", \"3\", \"4\", \"8\", \"s\", \"p\", \"*\", \"h\", \"H\", \"+\", \"x\", \"D\", \"d\", \"|\", \"_\", \"None\", None, \"\", \"$x$\",\n",
    "            \"$\\\\alpha$\", \"$\\\\beta$\", \"$\\\\gamma$\"]\n",
    "        colors = ['#e41a1c', '#377eb8', '#4daf4a', '#984ea3', '#ff7f00', '#ffff33', '#a65628', '#f781bf'] \n",
    "        fixed_Class = return_fixed_class(BenchMark=BenchMark, Processes=Processes, FixedBenchMarkClass=FixedBenchMarkClass)\n",
    "        if(len(fixed_Class) != 0):\n",
    "            summary_fixed_Class = pd.concat(fixed_Class, axis=1)\n",
    "            summary_fixed_Class.sort_index(axis=1, inplace=True)\n",
    "            summary_fixed_Class_title = BenchMark+\"においてベンチマーククラスをCに固定し実行プロセス数を変化させたときの実行された全ての関数のコール回数\"\n",
    "\n",
    "            x_axes = summary_fixed_Class.columns.tolist()\n",
    "\n",
    "            y_axes = summary_fixed_Class.index.tolist()\n",
    "\n",
    "            plt.figure()\n",
    "            for y_axis in y_axes:\n",
    "                color = random.choice(colors)\n",
    "                label = y_axis\n",
    "                marker = random.choice(markers)\n",
    "                plt.plot(x_axes, summary_fixed_Class.T[y_axis], marker=marker, label=y_axis)\n",
    "            plt.legend()\n",
    "            plt.title(BenchMark+\"_FixedBenchMarkClass=\"+FixedBenchMarkClass)\n",
    "            plt.show()\n",
    "            \n",
    "show_fixed_class_graph(BenchMark=\"cg\")"
   ]
  },
  {
   "cell_type": "code",
   "execution_count": null,
   "metadata": {
    "jupyter": {
     "source_hidden": true
    }
   },
   "outputs": [],
   "source": [
    "def show_fixed_process_graph(BenchMark=\"bt\", BenchMarkClasses=[\"S\", \"W\", \"A\", \"B\", \"C\", \"D\"], FixedProcess=32):\n",
    "    path = './'\n",
    "    markers = [\".\", \",\", \"o\", \"v\", \"^\", \"<\", \">\", \"1\", \"2\", \"3\", \"4\", \"8\", \"s\", \"p\", \"*\", \"h\", \"H\", \"+\", \"x\", \"D\", \"d\", \"|\", \"_\", \"None\", None, \"\", \"$x$\",\n",
    " \"$\\\\alpha$\", \"$\\\\beta$\", \"$\\\\gamma$\"]\n",
    "    colors = ['#e41a1c', '#377eb8', '#4daf4a', '#984ea3', '#ff7f00', '#ffff33', '#a65628', '#f781bf']\n",
    "\n",
    "    print(f\"ベンチマーク：{BenchMark}\")\n",
    "\n",
    "    # fixed_process には実行プロセス数が64でベンチマーククラスがA ~ Dまでの結果が入る\n",
    "    fixed_process = list()\n",
    "\n",
    "    for bench_mark_class in BenchMarkClasses:\n",
    "        file_name = (\"pprof_\"+BenchMark+bench_mark_class+str(FixedProcess)+\".csv\")\n",
    "        file_path = path+file_name\n",
    "        if (os.path.exists(file_path) and os.stat(file_path).st_size != 0):\n",
    "            data_frame = pd.read_csv(path+file_name)\n",
    "            data_frame = data_frame.set_index(['Name'])\n",
    "            fixed_process.append(data_frame.rename(columns = {'#Call': bench_mark_class}).sort_index())\n",
    "\n",
    "    if (len(fixed_process) != 0):\n",
    "            summary_fixed_process = pd.concat(fixed_process, axis=1)\n",
    "\n",
    "            x_axes = summary_fixed_process.columns.tolist()\n",
    "\n",
    "            y_axes = summary_fixed_process.index.tolist()\n",
    "\n",
    "            plt.figure()\n",
    "            for y_axis in y_axes:\n",
    "                color = random.choice(colors)\n",
    "                label = y_axis\n",
    "                marker = random.choice(markers)\n",
    "                plt.plot(x_axes, summary_fixed_process.T[y_axis], marker=marker, label=y_axis)\n",
    "            plt.legend()\n",
    "            plt.title(BenchMark+\"_FixedProcess=\"+str(FixedProcess))\n",
    "            plt.show()\n",
    "            \n",
    "show_fixed_process_graph(BenchMark=\"cg\")"
   ]
  },
  {
   "cell_type": "markdown",
   "metadata": {},
   "source": [
    "#### show_fixed_process_graph()を再設計したもの"
   ]
  },
  {
   "cell_type": "code",
   "execution_count": null,
   "metadata": {},
   "outputs": [],
   "source": [
    "def return_fixed_process(BenchMark=\"bt\", BenchMarkClasses=[\"S\", \"W\", \"A\", \"B\", \"C\", \"D\"], FixedProcess=32):\n",
    "    path = './'\n",
    "\n",
    "    # fixed_process には実行プロセス数が64でベンチマーククラスがA ~ Dまでの結果が入る\n",
    "    fixed_process = list()\n",
    "\n",
    "    for bench_mark_class in BenchMarkClasses:\n",
    "        file_name = (\"pprof_\"+BenchMark+bench_mark_class+str(FixedProcess)+\".csv\")\n",
    "        file_path = path+file_name\n",
    "        if (os.path.exists(file_path) and os.stat(file_path).st_size != 0):\n",
    "            data_frame = pd.read_csv(path+file_name)\n",
    "            data_frame = data_frame.set_index(['Name'])\n",
    "            fixed_process.append(data_frame.rename(columns = {'#Call': bench_mark_class}).sort_index())\n",
    "    return(fixed_process)\n",
    "       "
   ]
  },
  {
   "cell_type": "code",
   "execution_count": null,
   "metadata": {},
   "outputs": [],
   "source": [
    "     \n",
    "def show_fixed_process_graph(BenchMark=\"bt\", BenchMarkClasses=[\"S\", \"W\", \"A\", \"B\", \"C\", \"D\"], FixedProcess=32):\n",
    "    fixed_process = return_fixed_process(BenchMark=BenchMark, BenchMarkClasses=BenchMarkClasses, FixedProcess=FixedProcess)\n",
    "    markers = [\".\", \",\", \"o\", \"v\", \"^\", \"<\", \">\", \"1\", \"2\", \"3\", \"4\", \"8\", \"s\", \"p\", \"*\", \"h\", \"H\", \"+\", \"x\", \"D\", \"d\", \"|\", \"_\", \"None\", None, \"\", \"$x$\",\n",
    " \"$\\\\alpha$\", \"$\\\\beta$\", \"$\\\\gamma$\"]\n",
    "    colors = ['#e41a1c', '#377eb8', '#4daf4a', '#984ea3', '#ff7f00', '#ffff33', '#a65628', '#f781bf']\n",
    "    if (len(fixed_process) != 0):\n",
    "            summary_fixed_process = pd.concat(fixed_process, axis=1)\n",
    "\n",
    "            x_axes = summary_fixed_process.columns.tolist()\n",
    "\n",
    "            y_axes = summary_fixed_process.index.tolist()\n",
    "\n",
    "            plt.figure()\n",
    "            for y_axis in y_axes:\n",
    "                color = random.choice(colors)\n",
    "                label = y_axis\n",
    "                marker = random.choice(markers)\n",
    "                plt.plot(x_axes, summary_fixed_process.T[y_axis], marker=marker, label=y_axis)\n",
    "            plt.legend()\n",
    "            plt.title(BenchMark+\"_FixedProcess=\"+str(FixedProcess))\n",
    "            plt.show()\n",
    "            \n",
    "show_fixed_process_graph(BenchMark=\"cg\")"
   ]
  },
  {
   "cell_type": "markdown",
   "metadata": {},
   "source": [
    "### 引数に処理するベンチマーク名・プロセス数・ベンチマーククラスを格納した配列をとり、それらを集計しつつグラフを生成する関数"
   ]
  },
  {
   "cell_type": "code",
   "execution_count": null,
   "metadata": {},
   "outputs": [],
   "source": [
    "def show_graph(BenchMarks=[], Processes=[], BenchMarkClasses=[], fix_process=4, fix_benchmark_class=\"C\"):\n",
    "    path = './'\n",
    "\n",
    "    if (BenchMarks==[] or Processes==[] or BenchMarkClasses==[]):\n",
    "        print(\"関数の引数となっている配列が空です。\")\n",
    "    else:\n",
    "        for bench_mark in BenchMarks:\n",
    "            show_fixed_class_graph(BenchMark=bench_mark, Processes=Processes, FixedBenchMarkClass=fix_benchmark_class)\n",
    "            show_fixed_process_graph(BenchMark=bench_mark, BenchMarkClasses=BenchMarkClasses, FixedProcess=fix_process)            \n",
    "\n",
    "bench_marks = ['bt', 'cg', 'ep', 'ft', 'is', 'lu', 'mg', 'sp']\n",
    "processes = [1, 2, 4, 8, 16, 32, 64, 128, 256]\n",
    "classes = [\"S\", \"W\", \"A\", \"B\", \"C\", \"D\"]\n",
    "\n",
    "# show_graph(bench_marks, processes, classes)"
   ]
  },
  {
   "cell_type": "code",
   "execution_count": null,
   "metadata": {},
   "outputs": [],
   "source": [
    "for benchmark in bench_marks:\n",
    "    show_fixed_class_graph(BenchMark=benchmark)"
   ]
  },
  {
   "cell_type": "code",
   "execution_count": null,
   "metadata": {},
   "outputs": [],
   "source": []
  }
 ],
 "metadata": {
  "kernelspec": {
   "display_name": "Python 3",
   "language": "python",
   "name": "python3"
  },
  "language_info": {
   "codemirror_mode": {
    "name": "ipython",
    "version": 3
   },
   "file_extension": ".py",
   "mimetype": "text/x-python",
   "name": "python",
   "nbconvert_exporter": "python",
   "pygments_lexer": "ipython3",
   "version": "3.9.4"
  }
 },
 "nbformat": 4,
 "nbformat_minor": 4
}
