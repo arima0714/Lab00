{
 "cells": [
  {
   "cell_type": "markdown",
   "metadata": {},
   "source": [
    "### モジュールのロード"
   ]
  },
  {
   "cell_type": "code",
   "execution_count": 1,
   "metadata": {},
   "outputs": [
    {
     "name": "stdout",
     "output_type": "stream",
     "text": [
      "3.8.5 (default, Jul 22 2020, 18:54:26) \n",
      "[GCC 5.4.0 20160609]\n"
     ]
    }
   ],
   "source": [
    "import glob\n",
    "import os\n",
    "import pandas as pd\n",
    "import sys\n",
    "import matplotlib as mpl\n",
    "import matplotlib.pyplot as plt\n",
    "\n",
    "# 辞書に順序がある前提で書いている可能性があるので、python3.7以上でないと正常に動作しないかもしれない\n",
    "# バージョンを確認のために出力\n",
    "print(sys.version)"
   ]
  },
  {
   "cell_type": "markdown",
   "metadata": {},
   "source": [
    "### 変数・配列の宣言"
   ]
  },
  {
   "cell_type": "code",
   "execution_count": 2,
   "metadata": {},
   "outputs": [],
   "source": [
    "# 各種値を宣言\n",
    "bench_marks = ['bt', 'cg', 'ep', 'ft', 'is', 'lu', 'mg', 'sp']\n",
    "classes = [\"S\", \"W\", \"A\", \"B\", \"C\", \"D\"]\n",
    "processes = [1, 2, 4, 8, 16, 32, 64, 128, 256]\n",
    "fix_process = 64\n",
    "path = './'\n",
    "marker_size = 12\n",
    "marker_fig = \"v\""
   ]
  },
  {
   "cell_type": "markdown",
   "metadata": {},
   "source": [
    "### ベンチマークCG, LU, SPに関して、二種類のグラフを作成"
   ]
  },
  {
   "cell_type": "markdown",
   "metadata": {},
   "source": [
    "#### fixed_C, fixed_process にCSVから読み取ったデータを格納する"
   ]
  },
  {
   "cell_type": "code",
   "execution_count": 3,
   "metadata": {},
   "outputs": [],
   "source": [
    "path=\"./\"\n",
    "bench_marks = ['cg', 'lu', 'sp']\n",
    "\n",
    "bench_marks = ['lu']\n",
    "# fixed_C にはベンチマーククラスCで実行プロセス数が1 ~ 256までの結果が入る\n",
    "fixed_C = list()\n",
    "# fixed_process には実行プロセス数が64でベンチマーククラスがA ~ Dまでの結果が入る\n",
    "fixed_process = list()\n",
    "\n",
    "# summary_C には fixed_C をconcat, mergeなどでまとめた結果が入る\n",
    "summary_C = pd.DataFrame()\n",
    "# summary_fixed_process には fixed_process をconcat, mergeなどでまとめた結果が入る\n",
    "summary_fixed_process = pd.DataFrame()"
   ]
  },
  {
   "cell_type": "code",
   "execution_count": 4,
   "metadata": {},
   "outputs": [],
   "source": [
    "for bench_mark in bench_marks:\n",
    "    for bench_mark_class in classes:\n",
    "        for process in processes:\n",
    "            \n",
    "            file_name = (\"pprof_\"+bench_mark+bench_mark_class+str(process)+\".csv\")\n",
    "            file_path = path+file_name\n",
    "            if (os.path.exists(file_path) and os.stat(file_path).st_size != 0):\n",
    "                data_frame = pd.read_csv(path+file_name)\n",
    "                data_frame = data_frame.set_index(['Name'])\n",
    "#                 print(data_frame)\n",
    "                if (process == fix_process):\n",
    "                    fixed_process.append(data_frame.rename(columns = {'#Call': bench_mark_class}).sort_index())\n",
    "                if (bench_mark_class == \"C\"):\n",
    "                    fixed_C.append(data_frame.rename(columns = {'#Call': process}).sort_index())"
   ]
  },
  {
   "cell_type": "markdown",
   "metadata": {},
   "source": [
    "#### fixed_C, fixed_process に格納されているデータが空でない場合はそれらをそれぞれ、 summary_fixed_C, fummary_fixed_proccess に一つのデータフレームとしてまとめる"
   ]
  },
  {
   "cell_type": "code",
   "execution_count": 5,
   "metadata": {},
   "outputs": [],
   "source": [
    "if (len(fixed_process) != 0):\n",
    "    summary_fixed_process = pd.concat(fixed_process, axis=1)\n",
    "if(len(fixed_C) != 0):\n",
    "    summary_fixed_C = pd.concat(fixed_C, axis=1)"
   ]
  },
  {
   "cell_type": "code",
   "execution_count": 6,
   "metadata": {},
   "outputs": [
    {
     "name": "stdout",
     "output_type": "stream",
     "text": [
      "Empty DataFrame\n",
      "Columns: []\n",
      "Index: []\n"
     ]
    }
   ],
   "source": [
    "print(summary_fixed_process)"
   ]
  },
  {
   "cell_type": "code",
   "execution_count": 7,
   "metadata": {},
   "outputs": [
    {
     "name": "stdout",
     "output_type": "stream",
     "text": [
      "                           2            4            8\n",
      "Name                                                  \n",
      ".TAU_application         1.0         1.00        1.000\n",
      "ALLOC_SPACE              1.0         1.00        1.000\n",
      "APPLU                    1.0         1.00        1.000\n",
      "BCAST_INPUTS             1.0         1.00        1.000\n",
      "BLTS               6425600.0   3212800.00  3212800.000\n",
      "BUTS               6425600.0   3212800.00  3212800.000\n",
      "ERHS                     1.0         1.00        1.000\n",
      "ERROR                    1.0         1.00        1.000\n",
      "EXACT             26781500.0  13390700.00  6695370.000\n",
      "EXCHANGE_1          160640.0    160640.00   160640.000\n",
      "EXCHANGE_3             508.0       508.00      508.000\n",
      "EXCHANGE_4               1.0         1.00        1.000\n",
      "EXCHANGE_5               2.0         1.00        1.000\n",
      "EXCHANGE_6               1.0         1.00        0.500\n",
      "INIT_COMM                1.0         1.00        1.000\n",
      "ISQRT2                   1.0         1.00        1.000\n",
      "JACLD              6425600.0   3212800.00  3212800.000\n",
      "JACU               6425600.0   3212800.00  3212800.000\n",
      "L2NORM                   4.0         4.00        4.000\n",
      "MPI_Allreduce()         10.0        10.00       10.000\n",
      "MPI_Barrier()            2.0         2.00        2.000\n",
      "MPI_Bcast()             10.0        10.00       10.000\n",
      "MPI_Comm_rank()          1.0         1.00        1.000\n",
      "MPI_Comm_size()          1.0         1.00        1.000\n",
      "MPI_Finalize()           1.0         1.00        1.000\n",
      "MPI_Init()               1.0         1.00        1.000\n",
      "MPI_Irecv()            255.5       510.00      637.250\n",
      "MPI_Recv()           40160.0     80320.00   100400.000\n",
      "MPI_Send()           40415.5     80830.00   101037.000\n",
      "MPI_Wait()             255.5       510.00      637.250\n",
      "NEIGHBORS                1.0         1.00        1.000\n",
      "PINTGR                   1.0         1.00        1.000\n",
      "PROC_GRID                1.0         1.00        1.000\n",
      "READ_INPUT               1.0         1.00        1.000\n",
      "RHS                    253.0       253.00      253.000\n",
      "SETBV                    2.0         2.00        2.000\n",
      "SETCOEFF                 1.0         1.00        1.000\n",
      "SETIV                    2.0         2.00        2.000\n",
      "SET_CLASS                0.5         0.25        0.125\n",
      "SSOR                     2.0         2.00        2.000\n",
      "SUBDOMAIN                1.0         1.00        1.000\n",
      "VERIFY                   0.5         0.25        0.125\n"
     ]
    }
   ],
   "source": [
    "print(summary_fixed_C)"
   ]
  },
  {
   "cell_type": "code",
   "execution_count": 8,
   "metadata": {},
   "outputs": [],
   "source": [
    "if(len(fixed_process) != 0):\n",
    "    summary_fixed_process.sort_index(axis=1, inplace=True)\n",
    "    summary_fixed_process_title = bench_mark+\"において実行プロセス数を\"+str(fix_process)+\"に固定しベンチマーククラスを変化させたときの実行された全ての関数のコール回数\"\n",
    "    plt.figure()\n",
    "    summary_fixed_process.T.plot(xlabel=\"実行ベンチマーククラス\",ylabel=\"関数のコール回数\",logy=True).legend(bbox_to_anchor=(1.05, 1), loc='upper left', shadow=True, ncol=2, prop={'size':15}, labelspacing=0.1)\n",
    "    # plt.savefig(path+bench_mark+'_32.png', bbox_inches=\"tight\")\n",
    "    # plt.close('all')"
   ]
  },
  {
   "cell_type": "code",
   "execution_count": 9,
   "metadata": {},
   "outputs": [],
   "source": [
    "if(len(fixed_process) != 0):\n",
    "    summary_fixed_C.sort_index(axis=1, inplace=True)\n",
    "    summary_fixed_C_title = bench_mark+\"においてベンチマーククラスをCに固定し実行プロセス数を変化させたときの実行された全ての関数のコール回数\"\n",
    "    plt.figure()\n",
    "    summary_fixed_C.T.plot(xlabel=\"実行プロセス数\",ylabel=\"関数のコール回数\",logx=True, logy=True).legend(bbox_to_anchor=(1.05, 1), loc='upper left', shadow=True, ncol=2, prop={'size':15}, labelspacing=0.1)\n",
    "    # plt.savefig(path+bench_mark+\"_C.png\", bbox_inches=\"tight\")\n",
    "    # plt.close('all')\n",
    "\n",
    "# print(\"\\n\")\n",
    "# print(\"summary_Cの詳細情報表示\")\n",
    "# print(\"行数は\"+str(len(summary_fixed_C))+\" 列数は\"+str(len(summary_fixed_C.columns)))\n",
    "# print(\"summary_Cの表示\")\n",
    "# print(summary_fixed_C)\n",
    "\n",
    "# print(\"summary_fixed_processの詳細情報表示\")\n",
    "# print(\"行数は\"+str(len(summary_fixed_process))+\" 列数は\"+str(len(summary_fixed_process.columns)))\n",
    "# print(\"summary_fixed_processの表示\")\n",
    "# print(summary_fixed_process)\n",
    "# print(\"\\n\")\n",
    "\n",
    "\n",
    "\n"
   ]
  }
 ],
 "metadata": {
  "kernelspec": {
   "display_name": "Python 3",
   "language": "python",
   "name": "python3"
  },
  "language_info": {
   "codemirror_mode": {
    "name": "ipython",
    "version": 3
   },
   "file_extension": ".py",
   "mimetype": "text/x-python",
   "name": "python",
   "nbconvert_exporter": "python",
   "pygments_lexer": "ipython3",
   "version": "3.8.5"
  }
 },
 "nbformat": 4,
 "nbformat_minor": 4
}
