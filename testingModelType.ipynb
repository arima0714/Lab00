{
 "cells": [
  {
   "cell_type": "code",
   "execution_count": 1,
   "metadata": {},
   "outputs": [],
   "source": [
    "import glob\n",
    "import japanize_matplotlib\n",
    "import os\n",
    "import pandas as pd\n",
    "import random\n",
    "import sys\n",
    "import math\n",
    "import matplotlib as mpl\n",
    "import matplotlib.patches as mpatches\n",
    "import matplotlib.pyplot as plt\n",
    "import numpy as np\n",
    "from sklearn import linear_model\n",
    "from sklearn.linear_model import LinearRegression\n",
    "from sklearn.metrics import r2_score\n",
    "from sklearn.model_selection import train_test_split"
   ]
  },
  {
   "cell_type": "code",
   "execution_count": 2,
   "metadata": {},
   "outputs": [],
   "source": [
    "def return_fixed_class(BenchMark=\"bt\", Processes=[1, 2, 4, 8, 16, 32, 64, 128, 256], FixedBenchMarkClass=\"C\"):\n",
    "        path = './'\n",
    "        \n",
    "        # fixed_Class にはベンチマーククラスFixedBenchMarkClassで実行プロセス数がProcessesに該当するものの結果が入る\n",
    "        fixed_Class = list()\n",
    "\n",
    "        for process in Processes:\n",
    "            file_name = (\"pprof_\"+BenchMark+FixedBenchMarkClass+str(process)+\".csv\")\n",
    "            file_path = path+file_name\n",
    "            if (os.path.exists(file_path) and os.stat(file_path).st_size != 0):\n",
    "                data_frame = pd.read_csv(path+file_name)\n",
    "                data_frame = data_frame.set_index(['Name'])\n",
    "                fixed_Class.append(data_frame.rename(columns = {'#Call': process}).sort_index())\n",
    "        return(fixed_Class)\n",
    "    "
   ]
  },
  {
   "cell_type": "code",
   "execution_count": 3,
   "metadata": {},
   "outputs": [],
   "source": [
    "def return_fixed_process(BenchMark=\"bt\", BenchMarkClasses=[\"S\", \"W\", \"A\", \"B\", \"C\", \"D\"], FixedProcess=32):\n",
    "    path = './'\n",
    "\n",
    "    # fixed_process には実行プロセス数が64でベンチマーククラスがA ~ Dまでの結果が入る\n",
    "    fixed_process = list()\n",
    "\n",
    "    for bench_mark_class in BenchMarkClasses:\n",
    "        file_name = (\"pprof_\"+BenchMark+bench_mark_class+str(FixedProcess)+\".csv\")\n",
    "        file_path = path+file_name\n",
    "        if (os.path.exists(file_path) and os.stat(file_path).st_size != 0):\n",
    "            data_frame = pd.read_csv(path+file_name)\n",
    "            data_frame = data_frame.set_index(['Name'])\n",
    "            fixed_process.append(data_frame.rename(columns = {'#Call': bench_mark_class}).sort_index())\n",
    "    return(fixed_process)\n",
    "       "
   ]
  },
  {
   "cell_type": "code",
   "execution_count": 4,
   "metadata": {},
   "outputs": [],
   "source": [
    "BenchMark_name = \"cg\"\n",
    "cg_fixed_class = return_fixed_class(BenchMark=BenchMark_name)\n",
    "cg_fixed_process = return_fixed_process(BenchMark=BenchMark_name)\n",
    "summary_fixed_class = pd.concat(cg_fixed_class, axis=1)\n",
    "\n",
    "columns = summary_fixed_class.columns.to_numpy()\n",
    "\n",
    "index = summary_fixed_class.index.to_numpy()\n",
    "\n",
    "dict_summary_fixed_class = {\"benchmarks\": columns}\n",
    "for index_name in index:\n",
    "    dict_summary_fixed_class[index_name] = summary_fixed_class.T[index_name].to_numpy()"
   ]
  },
  {
   "cell_type": "code",
   "execution_count": 5,
   "metadata": {},
   "outputs": [],
   "source": [
    "# x軸, y軸ともに対数にしようとしてみる\n",
    "\n",
    "# 対数化に必要なので導入\n",
    "import sklearn.preprocessing as sp\n",
    "from sklearn.metrics import r2_score\n",
    "\n",
    "# 常用対数の逆関数\n",
    "def inverter_log10_func(x):\n",
    "    return 10**x\n",
    "\n",
    "# transformer_log10 : 渡された値に対して一括して常用対数をとるメソッド?\n",
    "transformer_log10 = sp.FunctionTransformer(func=np.log10, inverse_func=inverter_log10_func)\n",
    "\n",
    "# 引数として学習用のx, yがあり、線形関数として学習したモデルを返す\n",
    "def return_lr_lin(input_x, input_y):\n",
    "    lr = LinearRegression()\n",
    "    lr.fit(input_x, input_y)\n",
    "    return lr\n",
    "\n",
    "# 引数として学習用のx, yをとり、非線形関数として学習したモデルを返す\n",
    "def return_lr_log10(input_x, input_y):\n",
    "    # N_train_log10 : 学習用のデータに常用対数をとったもの\n",
    "    x_train_log10 = transformer_log10.transform(input_x)\n",
    "    y_train_log10 = transformer_log10.transform(input_y)\n",
    "    # 線形回帰モデルの生成\n",
    "    lr = LinearRegression()\n",
    "    # 学習\n",
    "    lr.fit(x_train_log10, y_train_log10)\n",
    "    return lr\n",
    "\n",
    "# 引数としてテスト用のx, y、線形関数として学習したモデルlrをとり、スコアを返す\n",
    "def return_lr_lin_score(input_x, input_y, lr):\n",
    "    y_predict = lr.predict(input_x)\n",
    "    _r2_score = r2_score(input_y, y_predict)\n",
    "    return _r2_score\n",
    "\n",
    "# 引数としてテスト用のx, y、非線形関数として学習したモデルlrをとり、スコアを返す\n",
    "def return_lr_log10_score(input_x, input_y, lr):\n",
    "    # N_predict : モデル式を引くためのデータ, N_predict_log10 : モデル式を引くためのデータに常用対数をとったもの\n",
    "    input_x_log10 = transformer_log10.transform(input_x)\n",
    "    y_predict_log10 = lr.predict(input_x_log10)\n",
    "    y_predict = transformer_log10.inverse_transform(y_predict_log10)\n",
    "    _r2_score = r2_score(input_y, y_predict)\n",
    "    return _r2_score"
   ]
  },
  {
   "cell_type": "code",
   "execution_count": 6,
   "metadata": {},
   "outputs": [],
   "source": [
    "class ModelBase:\n",
    "    def __init__(self, raw_x, raw_y):\n",
    "        test_rate = math.floor(len(raw_x) * 0.3)\n",
    "        self.raw_x = np.reshape(raw_x, (-1, 1))\n",
    "        self.raw_y = np.reshape(raw_y, (-1, 1))\n",
    "        self.train_x = self.raw_x[:-test_rate]\n",
    "        self.train_y = self.raw_y[:-test_rate]\n",
    "        self.test_x = self.raw_x[-test_rate:]\n",
    "        self.test_y = self.raw_y[-test_rate:]\n",
    "        \n",
    "        self.x_model_line = np.random.rand(self.raw_x.max(), 1) * self.raw_x.max()\n",
    "        self.y_model_line = 0\n",
    "        \n",
    "        self.lr = 0\n",
    "        self.r2_score = 0\n",
    "        \n",
    "    def calc_lr(self):\n",
    "        self.lr = 0\n",
    "     \n",
    "    def calc_r2_score(self):\n",
    "        self.r2_score = 0\n",
    "        \n",
    "    def plot_graph(self):\n",
    "        plt.figure()\n",
    "        plt.plot(self.raw_x, self.raw_y)\n",
    "        plt.show()\n",
    "        "
   ]
  },
  {
   "cell_type": "code",
   "execution_count": 7,
   "metadata": {},
   "outputs": [],
   "source": [
    "class ModelLin(ModelBase):\n",
    "    def calc_lr(self):\n",
    "        self.lr = LinearRegression()\n",
    "        self.lr.fit(self.train_x, self.train_y)\n",
    "        \n",
    "    def calc_r2_score(self):\n",
    "        test_y_predicted = self.lr.predict(self.test_x)\n",
    "        self.r2_score = r2_score(self.test_y, test_y_predicted)\n",
    "        \n",
    "    def plot_graph(self):\n",
    "        plt.figure()\n",
    "        plt.plot(self.raw_x, self.raw_y)\n",
    "        self.y_model_line = self.lr.predict(self.x_model_line)\n",
    "        plt.plot(self.x_model_line, self.y_model_line)\n",
    "        plt.show()\n",
    "        "
   ]
  },
  {
   "cell_type": "code",
   "execution_count": 8,
   "metadata": {},
   "outputs": [],
   "source": [
    "def inverter_log10_func(x):\n",
    "    return 10**x\n",
    "\n",
    "class ModelLog10(ModelBase):\n",
    "    transformer_log10 = sp.FunctionTransformer(func=np.log10, inverse_func=inverter_log10_func)\n",
    "    \n",
    "    def calc_lr(self):\n",
    "        x_train_log10 = transformer_log10.transform(self.train_x)\n",
    "        y_train_log10 = transformer_log10.transform(self.train_y)\n",
    "        \n",
    "        self.lr = LinearRegression()\n",
    "        self.lr.fit(x_train_log10, y_train_log10)\n",
    "        \n",
    "    def calc_r2_score(self):\n",
    "        test_x_log10 = transformer_log10.transform(self.test_x)\n",
    "        test_y_predicted_log10 = self.lr.predict(test_x_log10)\n",
    "        test_y_predicted = transformer_log10.inverse_transform(test_y_predicted_log10)\n",
    "        self.r2_score = r2_score(self.test_y, test_y_predicted)\n",
    "        \n",
    "    def plot_graph(self):\n",
    "        plt.figure()\n",
    "        plt.plot(self.raw_x, self.raw_y)\n",
    "        x_model_line_log10 = transformer_log10.transform(self.x_model_line)\n",
    "        y_model_line_log10 = self.lr.predict(x_model_line_log10)\n",
    "        self.y_model_line = transformer_log10.inverse_transform(y_model_line_log10)\n",
    "        plt.plot(self.x_model_line, self.y_model_line)\n",
    "        plt.show()\n",
    "        "
   ]
  },
  {
   "cell_type": "code",
   "execution_count": 9,
   "metadata": {},
   "outputs": [],
   "source": [
    "icnvrt_y = dict_summary_fixed_class[\"ICNVRT\"]\n",
    "icnvrt_x = dict_summary_fixed_class[\"benchmarks\"]"
   ]
  },
  {
   "cell_type": "code",
   "execution_count": 10,
   "metadata": {},
   "outputs": [
    {
     "name": "stdout",
     "output_type": "stream",
     "text": [
      "[  1   2   4   8  16  32  64 128 256]\n",
      "[1984770. 2263540. 2821070. 3936140. 3936140. 3936140. 3936140. 3936140.\n",
      " 3936140.]\n"
     ]
    }
   ],
   "source": [
    "print(icnvrt_x)\n",
    "print(icnvrt_y)"
   ]
  },
  {
   "cell_type": "code",
   "execution_count": 11,
   "metadata": {},
   "outputs": [
    {
     "name": "stdout",
     "output_type": "stream",
     "text": [
      "0.0\n",
      "[[24145.17739162]]\n",
      "[2821071.7816092]\n"
     ]
    },
    {
     "data": {
      "image/png": "[encoded data removed]",
      "text/plain": [
       "<Figure size 432x288 with 1 Axes>"
      ]
     },
     "metadata": {
      "needs_background": "light"
     },
     "output_type": "display_data"
    }
   ],
   "source": [
    "icnvrt_lin = ModelLin(icnvrt_x, icnvrt_y)\n",
    "\n",
    "icnvrt_lin.calc_lr()\n",
    "icnvrt_lin.calc_r2_score()\n",
    "\n",
    "print(icnvrt_lin.r2_score)\n",
    "print(icnvrt_lin.lr.coef_)\n",
    "print(icnvrt_lin.lr.intercept_)\n",
    "icnvrt_lin.plot_graph()"
   ]
  },
  {
   "cell_type": "code",
   "execution_count": 12,
   "metadata": {},
   "outputs": [
    {
     "name": "stdout",
     "output_type": "stream",
     "text": [
      "0.0\n",
      "[[0.1800132]]\n",
      "[6.33503108]\n"
     ]
    },
    {
     "data": {
      "image/png": "[encoded data removed]",
      "text/plain": [
       "<Figure size 432x288 with 1 Axes>"
      ]
     },
     "metadata": {
      "needs_background": "light"
     },
     "output_type": "display_data"
    }
   ],
   "source": [
    "icnvrt_log10 = ModelLog10(icnvrt_x, icnvrt_y)\n",
    "\n",
    "icnvrt_log10.calc_lr()\n",
    "icnvrt_log10.calc_r2_score()\n",
    "\n",
    "print(icnvrt_log10.r2_score)\n",
    "print(icnvrt_log10.lr.coef_)\n",
    "print(icnvrt_log10.lr.intercept_)\n",
    "icnvrt_log10.plot_graph()"
   ]
  },
  {
   "cell_type": "code",
   "execution_count": null,
   "metadata": {},
   "outputs": [],
   "source": []
  }
 ],
 "metadata": {
  "kernelspec": {
   "display_name": "Python 3",
   "language": "python",
   "name": "python3"
  },
  "language_info": {
   "codemirror_mode": {
    "name": "ipython",
    "version": 3
   },
   "file_extension": ".py",
   "mimetype": "text/x-python",
   "name": "python",
   "nbconvert_exporter": "python",
   "pygments_lexer": "ipython3",
   "version": "3.8.6"
  }
 },
 "nbformat": 4,
 "nbformat_minor": 4
}
