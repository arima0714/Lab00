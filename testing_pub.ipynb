{
 "cells": [
  {
   "cell_type": "code",
   "execution_count": 1,
   "metadata": {},
   "outputs": [
    {
     "name": "stderr",
     "output_type": "stream",
     "text": [
      "DEBUG:__main__:hello\n"
     ]
    }
   ],
   "source": [
    "# ipynb形式のライブラリのインポート\n",
    "%run ./lib/lib.ipynb\n",
    "\n",
    "# 生データの入ったCSVファイルの保持されたディレクトリ名を格納している変数\n",
    "csvDirPath = \"./csv_files/\"\n",
    "benchmarkNames = [\"cg\", \"ep\", \"ft\", \"is\", \"lu\", \"mg\"]"
   ]
  },
  {
   "cell_type": "code",
   "execution_count": 2,
   "metadata": {},
   "outputs": [
    {
     "name": "stderr",
     "output_type": "stream",
     "text": [
      "DEBUG:lib.lab_lib:hello\n"
     ]
    }
   ],
   "source": [
    "# ipynb形式のライブラリノートを.py形式に変更したものをインポート\n",
    "import lib\n",
    "import lib.lab_lib\n",
    "from lib.lab_lib import *\n"
   ]
  },
  {
   "cell_type": "markdown",
   "metadata": {},
   "source": [
    "# 2022年5月23日\n",
    "\n",
    "各ベンチマークごとの結果をまとめた表を作成\n",
    "\n",
    "* ベンチマークプログラム名\n",
    "* 問題サイズ\n",
    "    * [\"A\", \"B\", \"C\", \"D\", \"E\", \"F\"]\n",
    "* プロセス数\n",
    "    * [2, 4, 8, 16, 32, 64, 128, 256]\n",
    "* モデル名\n",
    "    * [\n",
    "            \"modelLin\",\n",
    "            \"modelIp\",\n",
    "            \"modelLog\",\n",
    "            \"modelLinAndIp\",\n",
    "            \"modelLinAndLog\",\n",
    "            \"modelIpAndLin\",\n",
    "            \"modelIpAndLog\",\n",
    "            \"modelLogAndLin\",\n",
    "            \"modelLogAndIp\",\n",
    "            \"modelProcessDividedByProblemSize\",\n",
    "            \"modelProblemSizeDividedByProcess\",\n",
    "            \"modelLinearSumOf2elementCombination\",\n",
    "            \"modelLinearSumOfElementCombinations\"\n",
    "            # \"modelBasicTree\",\n",
    "        ],\n",
    "\n",
    "下記の関数を利用\n",
    "\n",
    "```\n",
    "returnAverageMAPEfromConditions(\n",
    "    list_benchmarkNames: list[str],\n",
    "    list_problemSizes: list[str],\n",
    "    list_processes: list[int],\n",
    "    list_modelNames: list[str],)\n",
    "```\n"
   ]
  },
  {
   "cell_type": "code",
   "execution_count": 3,
   "metadata": {},
   "outputs": [
    {
     "name": "stdout",
     "output_type": "stream",
     "text": [
      "\\begin{table}\n",
      "\\caption{平均MAPE_table1}\n",
      "\\label{2022年5月23日allModelsMAPE}\n",
      "\\begin{tabular}{llr}\n",
      " & benchmarkName & averageMAPE \\\\\n",
      "0 & cg & 6.59 \\\\\n",
      "1 & ep & 0.00 \\\\\n",
      "2 & is & 2.23 \\\\\n",
      "3 & mg & 0.88 \\\\\n",
      "\\end{tabular}\n",
      "\\end{table}\n",
      "\n"
     ]
    }
   ],
   "source": [
    "date: str = \"2022年5月23日\"\n",
    "\n",
    "warnings.simplefilter(\"ignore\")\n",
    "latex_table: str = (\n",
    "    returnAverageMAPEfromConditions(\n",
    "        list_benchmarkNames=[\n",
    "            \"cg\",\n",
    "            \"ep\",\n",
    "            # \"ft\",\n",
    "            \"is\",\n",
    "            # \"lu\",\n",
    "            \"mg\",\n",
    "        ],\n",
    "        list_problemSizes=[\"A\", \"B\", \"C\", \"D\", \"E\", \"F\"],\n",
    "        list_processes=[2, 4, 8, 16, 32, 64, 128, 256],\n",
    "        list_modelNames=[\n",
    "            \"modelLin\",\n",
    "            \"modelIp\",\n",
    "            \"modelLog\",\n",
    "            \"modelLinAndIp\",\n",
    "            \"modelLinAndLog\",\n",
    "            \"modelIpAndLin\",\n",
    "            \"modelIpAndLog\",\n",
    "            \"modelLogAndLin\",\n",
    "            \"modelLogAndIp\",\n",
    "            \"modelProcessDividedByProblemSize\",\n",
    "            \"modelProblemSizeDividedByProcess\",\n",
    "            \"modelLinearSumOf2elementCombination\",\n",
    "            \"modelLinearSumOfElementCombinations\"\n",
    "            # \"modelBasicTree\",\n",
    "        ],\n",
    "    )\n",
    "    .style.set_precision(2)\n",
    "    .to_latex(\n",
    "        caption=f\"平均MAPE_table1\",\n",
    "        label=f\"{date}allModelsMAPE\",\n",
    "    )\n",
    ")\n",
    "\n",
    "print(latex_table)\n"
   ]
  },
  {
   "cell_type": "markdown",
   "metadata": {},
   "source": [
    "# 上記の結果の妥当性に疑問を持ってしまったので、確認用のプログラムを書く\n",
    "\n",
    "ベンチマークプログラムcg, ep, is, mg でベンチマークプログラム単体のMAPE表を作成し、確認する\n"
   ]
  },
  {
   "cell_type": "markdown",
   "metadata": {},
   "source": [
    "# 2022年4月17日～\n",
    "\n",
    "次のような表を作成する\n",
    "\n",
    "採用される割合 (MAPE の最大値 [%] ，MAPE の最小値 [%]) [%]\n",
    "\n",
    "| ベンチマークプログラム名 | 線形モデル               | 対数モデル               | 反比例モデル              |\n",
    "|--------------|---------------------|---------------------|---------------------|\n",
    "| str          | float(float, float) | float(float, float) | float(float, float) |\n",
    "\n",
    "\n",
    "目標となるのは一気にこのベンチマークプログラムを作成することだが、既存のライブラリ関数などを利用し、まずはベンチマークごとに作成可能にする。\n",
    "\n",
    "メモ\n",
    "\n",
    "## 実装予定\n",
    "\n",
    "1. 行方向に最小値を検出\n",
    "2. 最小値以外をNaNに変更\n",
    "3. 列方向に最小値と最大値を検出\n",
    "\n",
    "## \n"
   ]
  },
  {
   "cell_type": "markdown",
   "metadata": {},
   "source": []
  }
 ],
 "metadata": {
  "interpreter": {
   "hash": "949777d72b0d2535278d3dc13498b2535136f6dfe0678499012e853ee9abcab1"
  },
  "kernelspec": {
   "display_name": "Python 3 (ipykernel)",
   "language": "python",
   "name": "python3"
  },
  "language_info": {
   "codemirror_mode": {
    "name": "ipython",
    "version": 3
   },
   "file_extension": ".py",
   "mimetype": "text/x-python",
   "name": "python",
   "nbconvert_exporter": "python",
   "pygments_lexer": "ipython3",
   "version": "3.10.4"
  }
 },
 "nbformat": 4,
 "nbformat_minor": 4
}
