{
 "cells": [
  {
   "cell_type": "code",
   "execution_count": 1,
   "metadata": {},
   "outputs": [
    {
     "name": "stderr",
     "output_type": "stream",
     "text": [
      "DEBUG:__main__:hello\n"
     ]
    }
   ],
   "source": [
    "# ipynb形式のライブラリのインポート\n",
    "%run ./lib/lib.ipynb\n",
    "\n",
    "# 生データの入ったCSVファイルの保持されたディレクトリ名を格納している変数\n",
    "csvDirPath = \"./csv_files/\"\n",
    "benchmarkNames = [\"cg\", \"ep\", \"ft\", \"is\", \"lu\", \"mg\"]"
   ]
  },
  {
   "cell_type": "code",
   "execution_count": 2,
   "metadata": {},
   "outputs": [
    {
     "name": "stderr",
     "output_type": "stream",
     "text": [
      "DEBUG:lib.lab_lib:hello\n"
     ]
    }
   ],
   "source": [
    "# ipynb形式のライブラリノートを.py形式に変更したものをインポート\n",
    "import lib\n",
    "import lib.lab_lib\n",
    "from lib.lab_lib import *"
   ]
  },
  {
   "cell_type": "markdown",
   "metadata": {},
   "source": [
    "# 新たなモデルの実装\n",
    "\n",
    "下記のモデル式を実現するモデルを実装する\n",
    "\n",
    "$$\n",
    "T = aXY + bXZ + cYZ + d\n",
    "$$\n",
    "\n",
    "T,X,Y,Z はそれぞれ関数コール回数・プロセス数・問題サイズ1・問題サイズ2\n",
    "a,b,c は係数、dは切片\n",
    "\n",
    "# TODOs\n",
    "\n",
    "* ✅テストの作成\n",
    "* ✅列名のリストにおいてモデル構築に必要な列の組み合わせを作成\n",
    "* 実装\n"
   ]
  },
  {
   "cell_type": "code",
   "execution_count": 3,
   "metadata": {},
   "outputs": [
    {
     "data": {
      "text/plain": [
       "[('plot1', 'plot2'),\n",
       " ('plot1', 'plot3'),\n",
       " ('plot1', 'plot4'),\n",
       " ('plot1', 'plot5'),\n",
       " ('plot2', 'plot3'),\n",
       " ('plot2', 'plot4'),\n",
       " ('plot2', 'plot5'),\n",
       " ('plot3', 'plot4'),\n",
       " ('plot3', 'plot5'),\n",
       " ('plot4', 'plot5')]"
      ]
     },
     "execution_count": 3,
     "metadata": {},
     "output_type": "execute_result"
    }
   ],
   "source": [
    "import itertools\n",
    "\n",
    "exp_names :list[str] = [\"plot1\", \"plot2\", \"plot3\", \"plot4\", \"plot5\"]\n",
    "combinations_exp_name = list(itertools.combinations(exp_names, 2))\n",
    "combinations_exp_name"
   ]
  },
  {
   "cell_type": "code",
   "execution_count": 4,
   "metadata": {},
   "outputs": [],
   "source": [
    "class Model_LinearSumOf2elementCombination_ForMultipleRegression(\n",
    "    ModelBaseForMultipleRegression\n",
    "):\n",
    "    \n",
    "    \"\"\"説明変数2つの組み合わせの総和モデル\n",
    "    Model_LinearSumOf2elementCombination_ForMultipleRegression(ModelBaseForMultipleRegression)\n",
    "    Attributes:\n",
    "        explanatoryVariableColumnNames (list[str]): 説明変数の列名のリスト\n",
    "        rawExplanatoryVariable (pd.DataFrame): 説明変数のデータフレーム\n",
    "        rawExplanatoryVariableForTest (pd.DataFrame): テスト用の説明変数のデータフレーム。説明変数のデータフレームと同様の値が入っている(?)\n",
    "        rawResponseVariable (pd.DataFrame): 目的変数のデータフレーム\n",
    "        rawResponseVariableForTest (pd.DataFrame): テスト用の目的変数のデータフレーム。目的変数のデータフレームと同様の値が入っている(?)\n",
    "        responseVariableColumnNames (list[str]): 目的変数の列名のリスト\n",
    "\n",
    "    Note:\n",
    "        不要な列が含まれている場合は適切に「モデルの構築」・「モデルを利用した予測」などが行えない。\n",
    "    \"\"\"\n",
    "\n",
    "    def build_model(self) -> bool:\n",
    "        \"\"\"build_model(self) -> bool\n",
    "        オブジェクトの初期化時に生成された、インスタンスの説明変数およびインスタンスの目的変数からモデルを構築する\n",
    "\n",
    "        Args:\n",
    "            self : none\n",
    "\n",
    "        Returns: boolean。成功ならTrue。失敗ならFalse。\n",
    "        \"\"\"\n",
    "\n",
    "        df_mid_var :pd.DataFrame = self.return_df_for_2comibnations(self.rawExplanaoryVariable)\n",
    "\n",
    "        self.lr = LinearRegression()\n",
    "        \n",
    "        self.lr.fit(df_mid_var, self.rawResponseVariable)\n",
    "\n",
    "        return True\n",
    "\n",
    "\n",
    "\n",
    "    def predict(self, inputDF: pd.DataFrame) -> np.ndarray:\n",
    "        \"\"\"predict(self, inputDF: pd.DataFrame) -> np.ndarray\n",
    "        \n",
    "        Args:\n",
    "            self : none\n",
    "            inputDF (pd.DataFrame) : 構築されたモデルを使って予測を行うDF\n",
    "\n",
    "        Returns:\n",
    "            np.ndarray\n",
    "        \"\"\"\n",
    "        \n",
    "        df_mid_var :pd.DataFrame = self.return_df_for_2comibnations(inputDF)\n",
    "        resultDF = self.lr.predict(df_mid_var)\n",
    "\n",
    "        return resultDF\n",
    "\n",
    "    def returnMAPE(self) -> float:\n",
    "        \"\"\"returnMAPE(self) -> float\n",
    "\n",
    "        モデルに構築されたデータからMAPEを算出する。\n",
    "\n",
    "        Args: \n",
    "            self: none\n",
    "        \n",
    "        Returns:\n",
    "            float: 「モデルの構築に用いたデータから予測された値」と「実際の値」から算出されたMAPE\n",
    "            int: 失敗した場合、-1\n",
    "        \"\"\"\n",
    "        \n",
    "        return_expect :np.ndarray = self.rawResponseVariable\n",
    "        return_actually :np.ndarray = self.predict(self.rawExplanaoryVariable)\n",
    "\n",
    "        mape :float = returnMapeScore(return_expect, return_actually)\n",
    "\n",
    "        return mape\n",
    "\n",
    "    def return_df_for_2comibnations(\n",
    "        self,\n",
    "        inputDF :pd.DataFrame,\n",
    "    ) -> pd.DataFrame:\n",
    "        \"\"\"return_df_for_2comibnations()\n",
    "        \n",
    "        入力DFから説明変数の組み合わせを算出し、その組み合わせの要素同士を乗算した列で構成されたDFを返す関数\n",
    "\n",
    "        \"\"\"\n",
    "\n",
    "        # 学習用PDを作成する\n",
    "        # 0. 学習用DFを入力DFからコピーする\n",
    "        # 1. 列名二つずつの組み合わせを作成\n",
    "        # 2. 列名の組み合わせで計算し、それを学習用DFに入れる\n",
    "\n",
    "        returnDF :pd.DataFrame = inputDF.copy(deep=True)\n",
    "        returnDF_columns = returnDF.columns.tolist()\n",
    "        returnDF = returnDF.drop(returnDF_columns, axis=1)\n",
    "        \n",
    "        list_combinations :list[set[str]] = list(itertools.combinations(self.explanatoryVariableColumnNames, 2))\n",
    "        for combination_index in range(len(list_combinations)):\n",
    "            combination :set[str, str] = list_combinations[combination_index]\n",
    "            exp_name0 :str = combination[0]\n",
    "            exp_name1 :str = combination[1]\n",
    "            returnDF[str(combination_index)] = inputDF[exp_name0] * inputDF[exp_name1]\n",
    "\n",
    "        return returnDF"
   ]
  },
  {
   "cell_type": "code",
   "execution_count": 5,
   "metadata": {},
   "outputs": [],
   "source": [
    "def test_Model_LinearSumOf2elementCombination_ForMultipleRegression():\n",
    "    \"\"\"test_Model_LinearSumOf2elementCombination_ForMultipleRegression()\n",
    "    Model_LinearSumOf2elementCombination_ForMultipleRegressionのテスト\n",
    "    \"\"\"\n",
    "\n",
    "    # 説明変数\n",
    "    plotX_1: np.ndarray = np.linspace(10, 20, 11)\n",
    "    plotX_2: np.ndarray = 10 * np.linspace(10, 20, 11)\n",
    "    plotX_3: np.ndarray = 100 * np.linspace(10, 20, 11)\n",
    "    # 目的変数\n",
    "    a: int = 100\n",
    "    b: int = 90\n",
    "    c: int = 80\n",
    "    k: int = -500\n",
    "    plotT: np.ndarray = (a * plotX_1 * plotX_2) + (b * plotX_1 * plotX_3) + (c * plotX_2 * plotX_3) \\\n",
    "                        + k\n",
    "\n",
    "    # DFを作成する\n",
    "    # カラム名のリスト\n",
    "    columnNames: list[str] = [\n",
    "        \"process\",\n",
    "        \"plotX_2\",\n",
    "        \"plotX_3\",\n",
    "        \"plotT\",\n",
    "    ]\n",
    "    datumForDF: list[np.ndarray] = [plotX_1, plotX_2, plotX_3, plotT]\n",
    "    inputDFForTest: pd.DataFrame = pd.DataFrame(index=columnNames, data=datumForDF).T\n",
    "    inputDFForTest[\"functionName\"] = \"functionName\"\n",
    "\n",
    "    # 目的変数・説明変数のカラム名のリスト\n",
    "    # 目的変数のカラム名のリスト\n",
    "    columnNamesForExp: list[str] = [\n",
    "        \"process\",\n",
    "        \"plotX_2\",\n",
    "        \"plotX_3\",\n",
    "    ]\n",
    "    # 説明変数のカラム名のリスト\n",
    "    columnNamesForRes: list[str] = [\"plotT\"]\n",
    "\n",
    "    # 予測をする\n",
    "    # モデルオブジェクトの作成\n",
    "    objectModel = (\n",
    "        Model_LinearSumOf2elementCombination_ForMultipleRegression(\n",
    "            inputDF=inputDFForTest,\n",
    "            explanatoryVariableColumnNames=columnNamesForExp,\n",
    "            responseVariableColumnNames=columnNamesForRes,\n",
    "            conditionDictForTest={},\n",
    "        )\n",
    "    )\n",
    "    # モデルの構築\n",
    "    objectModel.build_model()\n",
    "    # モデル構築に用いたデータとのMAPEによって実装がうまくいっているかどうかの判定を行う\n",
    "    mape = objectModel.returnMAPE()\n",
    "    assert 0 <= mape < 1, f\"mape = {mape}\""
   ]
  },
  {
   "cell_type": "code",
   "execution_count": 6,
   "metadata": {},
   "outputs": [
    {
     "ename": "KeyError",
     "evalue": "0",
     "output_type": "error",
     "traceback": [
      "\u001b[0;31m---------------------------------------------------------------------------\u001b[0m",
      "\u001b[0;31mKeyError\u001b[0m                                  Traceback (most recent call last)",
      "File \u001b[0;32m/usr/local/lib/python3.10/site-packages/pandas/core/indexes/base.py:3621\u001b[0m, in \u001b[0;36mIndex.get_loc\u001b[0;34m(self, key, method, tolerance)\u001b[0m\n\u001b[1;32m   <a href='file:///usr/local/lib/python3.10/site-packages/pandas/core/indexes/base.py?line=3619'>3620</a>\u001b[0m \u001b[39mtry\u001b[39;00m:\n\u001b[0;32m-> <a href='file:///usr/local/lib/python3.10/site-packages/pandas/core/indexes/base.py?line=3620'>3621</a>\u001b[0m     \u001b[39mreturn\u001b[39;00m \u001b[39mself\u001b[39;49m\u001b[39m.\u001b[39;49m_engine\u001b[39m.\u001b[39;49mget_loc(casted_key)\n\u001b[1;32m   <a href='file:///usr/local/lib/python3.10/site-packages/pandas/core/indexes/base.py?line=3621'>3622</a>\u001b[0m \u001b[39mexcept\u001b[39;00m \u001b[39mKeyError\u001b[39;00m \u001b[39mas\u001b[39;00m err:\n",
      "File \u001b[0;32m/usr/local/lib/python3.10/site-packages/pandas/_libs/index.pyx:136\u001b[0m, in \u001b[0;36mpandas._libs.index.IndexEngine.get_loc\u001b[0;34m()\u001b[0m\n",
      "File \u001b[0;32m/usr/local/lib/python3.10/site-packages/pandas/_libs/index.pyx:163\u001b[0m, in \u001b[0;36mpandas._libs.index.IndexEngine.get_loc\u001b[0;34m()\u001b[0m\n",
      "File \u001b[0;32mpandas/_libs/hashtable_class_helper.pxi:5198\u001b[0m, in \u001b[0;36mpandas._libs.hashtable.PyObjectHashTable.get_item\u001b[0;34m()\u001b[0m\n",
      "File \u001b[0;32mpandas/_libs/hashtable_class_helper.pxi:5206\u001b[0m, in \u001b[0;36mpandas._libs.hashtable.PyObjectHashTable.get_item\u001b[0;34m()\u001b[0m\n",
      "\u001b[0;31mKeyError\u001b[0m: 0",
      "\nThe above exception was the direct cause of the following exception:\n",
      "\u001b[0;31mKeyError\u001b[0m                                  Traceback (most recent call last)",
      "\u001b[1;32m/workspace/testing_pub.ipynb Cell 7'\u001b[0m in \u001b[0;36m<cell line: 1>\u001b[0;34m()\u001b[0m\n\u001b[0;32m----> <a href='vscode-notebook-cell://dev-container%2B633a5c55736572735c4172696d615c446f63756d656e74735c4c61623030/workspace/testing_pub.ipynb#ch0000006vscode-remote?line=0'>1</a>\u001b[0m test_Model_LinearSumOf2elementCombination_ForMultipleRegression()\n",
      "\u001b[1;32m/workspace/testing_pub.ipynb Cell 6'\u001b[0m in \u001b[0;36mtest_Model_LinearSumOf2elementCombination_ForMultipleRegression\u001b[0;34m()\u001b[0m\n\u001b[1;32m     <a href='vscode-notebook-cell://dev-container%2B633a5c55736572735c4172696d615c446f63756d656e74735c4c61623030/workspace/testing_pub.ipynb#ch0000005vscode-remote?line=50'>51</a>\u001b[0m objectModel\u001b[39m.\u001b[39mbuild_model()\n\u001b[1;32m     <a href='vscode-notebook-cell://dev-container%2B633a5c55736572735c4172696d615c446f63756d656e74735c4c61623030/workspace/testing_pub.ipynb#ch0000005vscode-remote?line=51'>52</a>\u001b[0m \u001b[39m# モデル構築に用いたデータとのMAPEによって実装がうまくいっているかどうかの判定を行う\u001b[39;00m\n\u001b[0;32m---> <a href='vscode-notebook-cell://dev-container%2B633a5c55736572735c4172696d615c446f63756d656e74735c4c61623030/workspace/testing_pub.ipynb#ch0000005vscode-remote?line=52'>53</a>\u001b[0m mape \u001b[39m=\u001b[39m objectModel\u001b[39m.\u001b[39;49mreturnMAPE()\n\u001b[1;32m     <a href='vscode-notebook-cell://dev-container%2B633a5c55736572735c4172696d615c446f63756d656e74735c4c61623030/workspace/testing_pub.ipynb#ch0000005vscode-remote?line=53'>54</a>\u001b[0m \u001b[39massert\u001b[39;00m \u001b[39m0\u001b[39m \u001b[39m<\u001b[39m\u001b[39m=\u001b[39m mape \u001b[39m<\u001b[39m \u001b[39m1\u001b[39m, \u001b[39mf\u001b[39m\u001b[39m\"\u001b[39m\u001b[39mmape = \u001b[39m\u001b[39m{\u001b[39;00mmape\u001b[39m}\u001b[39;00m\u001b[39m\"\u001b[39m\n",
      "\u001b[1;32m/workspace/testing_pub.ipynb Cell 5'\u001b[0m in \u001b[0;36mModel_LinearSumOf2elementCombination_ForMultipleRegression.returnMAPE\u001b[0;34m(self)\u001b[0m\n\u001b[1;32m     <a href='vscode-notebook-cell://dev-container%2B633a5c55736572735c4172696d615c446f63756d656e74735c4c61623030/workspace/testing_pub.ipynb#ch0000004vscode-remote?line=67'>68</a>\u001b[0m return_expect :np\u001b[39m.\u001b[39mndarray \u001b[39m=\u001b[39m \u001b[39mself\u001b[39m\u001b[39m.\u001b[39mrawResponseVariable\n\u001b[1;32m     <a href='vscode-notebook-cell://dev-container%2B633a5c55736572735c4172696d615c446f63756d656e74735c4c61623030/workspace/testing_pub.ipynb#ch0000004vscode-remote?line=68'>69</a>\u001b[0m return_actually :np\u001b[39m.\u001b[39mndarray \u001b[39m=\u001b[39m \u001b[39mself\u001b[39m\u001b[39m.\u001b[39mpredict(\u001b[39mself\u001b[39m\u001b[39m.\u001b[39mrawExplanaoryVariable)\n\u001b[0;32m---> <a href='vscode-notebook-cell://dev-container%2B633a5c55736572735c4172696d615c446f63756d656e74735c4c61623030/workspace/testing_pub.ipynb#ch0000004vscode-remote?line=70'>71</a>\u001b[0m mape :\u001b[39mfloat\u001b[39m \u001b[39m=\u001b[39m returnMapeScore(return_expect, return_actually)\n\u001b[1;32m     <a href='vscode-notebook-cell://dev-container%2B633a5c55736572735c4172696d615c446f63756d656e74735c4c61623030/workspace/testing_pub.ipynb#ch0000004vscode-remote?line=72'>73</a>\u001b[0m \u001b[39mreturn\u001b[39;00m mape\n",
      "File \u001b[0;32m/workspace/lib/lab_lib.py:95\u001b[0m, in \u001b[0;36mreturnMapeScore\u001b[0;34m(l1, l2)\u001b[0m\n\u001b[1;32m     <a href='file:///workspace/lib/lab_lib.py?line=92'>93</a>\u001b[0m     \u001b[39mreturn\u001b[39;00m \u001b[39m-\u001b[39m\u001b[39m1\u001b[39m\n\u001b[1;32m     <a href='file:///workspace/lib/lab_lib.py?line=93'>94</a>\u001b[0m \u001b[39mfor\u001b[39;00m i \u001b[39min\u001b[39;00m \u001b[39mrange\u001b[39m(\u001b[39mlen\u001b[39m(l1)):\n\u001b[0;32m---> <a href='file:///workspace/lib/lab_lib.py?line=94'>95</a>\u001b[0m     l1_num \u001b[39m=\u001b[39m l1[i]\n\u001b[1;32m     <a href='file:///workspace/lib/lab_lib.py?line=95'>96</a>\u001b[0m     l2_num \u001b[39m=\u001b[39m l2[i]\n\u001b[1;32m     <a href='file:///workspace/lib/lab_lib.py?line=97'>98</a>\u001b[0m     return_num \u001b[39m+\u001b[39m\u001b[39m=\u001b[39m \u001b[39mabs\u001b[39m((l1_num \u001b[39m-\u001b[39m l2_num) \u001b[39m/\u001b[39m l1_num)\n",
      "File \u001b[0;32m/usr/local/lib/python3.10/site-packages/pandas/core/frame.py:3505\u001b[0m, in \u001b[0;36mDataFrame.__getitem__\u001b[0;34m(self, key)\u001b[0m\n\u001b[1;32m   <a href='file:///usr/local/lib/python3.10/site-packages/pandas/core/frame.py?line=3502'>3503</a>\u001b[0m \u001b[39mif\u001b[39;00m \u001b[39mself\u001b[39m\u001b[39m.\u001b[39mcolumns\u001b[39m.\u001b[39mnlevels \u001b[39m>\u001b[39m \u001b[39m1\u001b[39m:\n\u001b[1;32m   <a href='file:///usr/local/lib/python3.10/site-packages/pandas/core/frame.py?line=3503'>3504</a>\u001b[0m     \u001b[39mreturn\u001b[39;00m \u001b[39mself\u001b[39m\u001b[39m.\u001b[39m_getitem_multilevel(key)\n\u001b[0;32m-> <a href='file:///usr/local/lib/python3.10/site-packages/pandas/core/frame.py?line=3504'>3505</a>\u001b[0m indexer \u001b[39m=\u001b[39m \u001b[39mself\u001b[39;49m\u001b[39m.\u001b[39;49mcolumns\u001b[39m.\u001b[39;49mget_loc(key)\n\u001b[1;32m   <a href='file:///usr/local/lib/python3.10/site-packages/pandas/core/frame.py?line=3505'>3506</a>\u001b[0m \u001b[39mif\u001b[39;00m is_integer(indexer):\n\u001b[1;32m   <a href='file:///usr/local/lib/python3.10/site-packages/pandas/core/frame.py?line=3506'>3507</a>\u001b[0m     indexer \u001b[39m=\u001b[39m [indexer]\n",
      "File \u001b[0;32m/usr/local/lib/python3.10/site-packages/pandas/core/indexes/base.py:3623\u001b[0m, in \u001b[0;36mIndex.get_loc\u001b[0;34m(self, key, method, tolerance)\u001b[0m\n\u001b[1;32m   <a href='file:///usr/local/lib/python3.10/site-packages/pandas/core/indexes/base.py?line=3620'>3621</a>\u001b[0m     \u001b[39mreturn\u001b[39;00m \u001b[39mself\u001b[39m\u001b[39m.\u001b[39m_engine\u001b[39m.\u001b[39mget_loc(casted_key)\n\u001b[1;32m   <a href='file:///usr/local/lib/python3.10/site-packages/pandas/core/indexes/base.py?line=3621'>3622</a>\u001b[0m \u001b[39mexcept\u001b[39;00m \u001b[39mKeyError\u001b[39;00m \u001b[39mas\u001b[39;00m err:\n\u001b[0;32m-> <a href='file:///usr/local/lib/python3.10/site-packages/pandas/core/indexes/base.py?line=3622'>3623</a>\u001b[0m     \u001b[39mraise\u001b[39;00m \u001b[39mKeyError\u001b[39;00m(key) \u001b[39mfrom\u001b[39;00m \u001b[39merr\u001b[39;00m\n\u001b[1;32m   <a href='file:///usr/local/lib/python3.10/site-packages/pandas/core/indexes/base.py?line=3623'>3624</a>\u001b[0m \u001b[39mexcept\u001b[39;00m \u001b[39mTypeError\u001b[39;00m:\n\u001b[1;32m   <a href='file:///usr/local/lib/python3.10/site-packages/pandas/core/indexes/base.py?line=3624'>3625</a>\u001b[0m     \u001b[39m# If we have a listlike key, _check_indexing_error will raise\u001b[39;00m\n\u001b[1;32m   <a href='file:///usr/local/lib/python3.10/site-packages/pandas/core/indexes/base.py?line=3625'>3626</a>\u001b[0m     \u001b[39m#  InvalidIndexError. Otherwise we fall through and re-raise\u001b[39;00m\n\u001b[1;32m   <a href='file:///usr/local/lib/python3.10/site-packages/pandas/core/indexes/base.py?line=3626'>3627</a>\u001b[0m     \u001b[39m#  the TypeError.\u001b[39;00m\n\u001b[1;32m   <a href='file:///usr/local/lib/python3.10/site-packages/pandas/core/indexes/base.py?line=3627'>3628</a>\u001b[0m     \u001b[39mself\u001b[39m\u001b[39m.\u001b[39m_check_indexing_error(key)\n",
      "\u001b[0;31mKeyError\u001b[0m: 0"
     ]
    }
   ],
   "source": [
    "test_Model_LinearSumOf2elementCombination_ForMultipleRegression()"
   ]
  }
 ],
 "metadata": {
  "kernelspec": {
   "display_name": "Python 3 (ipykernel)",
   "language": "python",
   "name": "python3"
  },
  "language_info": {
   "codemirror_mode": {
    "name": "ipython",
    "version": 3
   },
   "file_extension": ".py",
   "mimetype": "text/x-python",
   "name": "python",
   "nbconvert_exporter": "python",
   "pygments_lexer": "ipython3",
   "version": "3.10.0"
  }
 },
 "nbformat": 4,
 "nbformat_minor": 4
}
