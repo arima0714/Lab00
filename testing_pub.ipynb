{
 "cells": [
  {
   "cell_type": "code",
   "execution_count": 1,
   "metadata": {},
   "outputs": [],
   "source": [
    "jupyter_pwd = %pwd\n",
    "if jupyter_pwd == \"/\":\n",
    "    %cd /workspace\n"
   ]
  },
  {
   "cell_type": "code",
   "execution_count": 2,
   "metadata": {},
   "outputs": [
    {
     "name": "stderr",
     "output_type": "stream",
     "text": [
      "DEBUG:__main__:hello\n"
     ]
    }
   ],
   "source": [
    "# ipynb形式のライブラリのインポート\n",
    "%run ./lib/lib.ipynb\n",
    "\n",
    "# 生データの入ったCSVファイルの保持されたディレクトリ名を格納している変数\n",
    "csvDirPath = \"./csv_files/\"\n",
    "\n",
    "# NPBのベンチマーク名のリスト\n",
    "benchmarkNames = [\"cg\", \"ep\", \"ft\", \"is\", \"lu\", \"mg\"]\n",
    "\n",
    "# LULESH ベンチマークプログラムのプロセス数・問題サイズ・イテレーション数\n",
    "lulesh_processes: list[int] = [8, 27, 64, 125, 216, 343, 512]\n",
    "lulesh_iterations: list[int] = [8, 16, 32, 64, 128, 256]\n",
    "lulesh_sizes: list[int] = [16, 24, 32, 48, 64, 128]"
   ]
  },
  {
   "cell_type": "code",
   "execution_count": 3,
   "metadata": {},
   "outputs": [
    {
     "name": "stderr",
     "output_type": "stream",
     "text": [
      "DEBUG:lib.lab_lib:hello\n"
     ]
    }
   ],
   "source": [
    "# ipynb形式のライブラリノートを.py形式に変更したものをインポート\n",
    "import lib\n",
    "import lib.lab_lib\n",
    "from lib.lab_lib import *"
   ]
  },
  {
   "cell_type": "markdown",
   "metadata": {},
   "source": [
    "# TODO\n",
    "\n",
    "1. ✅CG, MGで時間をExtra-Pから取得できることを確認\n",
    "2. ✅時間の単位を「秒」にする\n",
    "    * 列「Inclusive total msec」に一部存在している”：”で区切られた値の単位は、msec ではなく分と秒を区切る”：”\n",
    "3. ✅相対コストの算出関数の実装\n",
    "4. Extra-P のDocker環境の構築\n",
    "4. Extra-P による予測との組み合わせを行う\n",
    "    * なにをどう組み合わせるのかがわかっていないので、それは確かめる\n",
    "    * 元データ, Extra-P単体で予測したデータ, <何か> で結果を作成\n",
    "\n",
    "# 予測結果に必要なもの\n",
    "\n",
    "* 元データ（予測環境の生データ）\n",
    "* Extra-P単体で予測したデータ\n",
    "* Extra-Pで各関数の実行時間を予測し、それにコール回数を掛けた値で予測したデータ"
   ]
  },
  {
   "cell_type": "code",
   "execution_count": 4,
   "metadata": {},
   "outputs": [
    {
     "name": "stderr",
     "output_type": "stream",
     "text": [
      "/root/src/lib/lab_lib.py:8781: UserWarning: ./csv_files/cg_na75000_nonzer18_niter30_shift60_process4.csv is empty.\n",
      "  warnings.warn(f\"{filePath} is empty.\")\n",
      "/root/src/lib/lab_lib.py:8781: UserWarning: ./csv_files/cg_na75000_nonzer15_niter90_shift80_process8.csv is empty.\n",
      "  warnings.warn(f\"{filePath} is empty.\")\n"
     ]
    }
   ],
   "source": [
    "# 元データによる結果を取得する\n",
    "# ✅1. Extra-Pに読み込ますデータの取得\n",
    "# 2. 取得できた数式から予測\n",
    "\n",
    "\n",
    "input_list_process: list[int] = [2, 4, 8, 16, 32, 64, 128]\n",
    "cg_input_list_na: list[int] = [14000, 30000, 75000, 100000]\n",
    "cg_input_list_nonzer: list[int] = [11, 12, 13, 14, 15, 18]\n",
    "cg_input_list_niter: list[int] = [15, 30, 75, 90]\n",
    "cg_input_list_shift: list[int] = [20, 40, 60, 80, 110]\n",
    "\n",
    "str_ExtraPinputData :str = gen_ExtraPinputData(\n",
    "    benchmarkName = \"cg\",\n",
    "    conditions={\n",
    "        \"process\":input_list_process,\n",
    "        \"na\":cg_input_list_na,\n",
    "        \"nonzer\":cg_input_list_nonzer,\n",
    "        \"niter\":cg_input_list_niter,\n",
    "        \"shift\":cg_input_list_shift\n",
    "    }\n",
    ")\n",
    "\n",
    "filePath = \"./extra-p_docker/share/input.txt\"\n",
    "with open(filePath, mode=\"w\") as f:\n",
    "    f.write(str_ExtraPinputData)\n"
   ]
  },
  {
   "cell_type": "code",
   "execution_count": null,
   "metadata": {},
   "outputs": [],
   "source": [
    "%reset"
   ]
  },
  {
   "cell_type": "markdown",
   "metadata": {},
   "source": [
    "***\n",
    "\n",
    "---\n",
    "\n",
    "___"
   ]
  },
  {
   "cell_type": "markdown",
   "metadata": {
    "tags": []
   },
   "source": [
    "# 2022年4月17日～\n",
    "\n",
    "次のような表を作成する\n",
    "\n",
    "採用される割合 (MAPE の最大値 [%] ，MAPE の最小値 [%]) [%]\n",
    "\n",
    "| ベンチマークプログラム名 | 線形モデル               | 対数モデル               | 反比例モデル              |\n",
    "|--------------|---------------------|---------------------|---------------------|\n",
    "| str          | float(float, float) | float(float, float) | float(float, float) |\n",
    "\n",
    "\n",
    "目標となるのは一気にこのベンチマークプログラムを作成することだが、既存のライブラリ関数などを利用し、まずはベンチマークごとに作成可能にする。\n",
    "\n",
    "メモ\n",
    "\n",
    "## 実装予定\n",
    "\n",
    "1. 行方向に最小値を検出\n",
    "2. 最小値以外をNaNに変更\n",
    "3. 列方向に最小値と最大値を検出\n",
    "\n",
    "## \n"
   ]
  },
  {
   "cell_type": "markdown",
   "metadata": {},
   "source": [
    "***\n",
    "\n",
    "---\n",
    "\n",
    "___"
   ]
  }
 ],
 "metadata": {
  "interpreter": {
   "hash": "949777d72b0d2535278d3dc13498b2535136f6dfe0678499012e853ee9abcab1"
  },
  "kernelspec": {
   "display_name": "Python 3 (ipykernel)",
   "language": "python",
   "name": "python3"
  },
  "language_info": {
   "codemirror_mode": {
    "name": "ipython",
    "version": 3
   },
   "file_extension": ".py",
   "mimetype": "text/x-python",
   "name": "python",
   "nbconvert_exporter": "python",
   "pygments_lexer": "ipython3",
   "version": "3.10.6"
  }
 },
 "nbformat": 4,
 "nbformat_minor": 4
}
