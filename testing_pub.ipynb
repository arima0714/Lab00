{
 "cells": [
  {
   "cell_type": "code",
   "execution_count": 1,
   "metadata": {},
   "outputs": [
    {
     "name": "stderr",
     "output_type": "stream",
     "text": [
      "DEBUG:__main__:hello\n"
     ]
    }
   ],
   "source": [
    "# ipynb形式のライブラリのインポート\n",
    "%run ./lib/lib.ipynb\n",
    "\n",
    "# 生データの入ったCSVファイルの保持されたディレクトリ名を格納している変数\n",
    "csvDirPath = \"./csv_files/\"\n",
    "benchmarkNames = [\"cg\", \"ep\", \"ft\", \"is\", \"lu\", \"mg\"]"
   ]
  },
  {
   "cell_type": "code",
   "execution_count": 2,
   "metadata": {},
   "outputs": [
    {
     "name": "stderr",
     "output_type": "stream",
     "text": [
      "DEBUG:lib.lab_lib:hello\n"
     ]
    }
   ],
   "source": [
    "# ipynb形式のライブラリノートを.py形式に変更したものをインポート\n",
    "import lib\n",
    "import lib.lab_lib\n",
    "from lib.lab_lib import *"
   ]
  },
  {
   "cell_type": "markdown",
   "metadata": {},
   "source": [
    "# 新たなモデルの実装\n",
    "\n",
    "下記のモデル式を実現するモデルを実装する\n",
    "\n",
    "$$\n",
    "T = aXY + bXZ + cYZ + d\n",
    "$$\n",
    "\n",
    "T,X,Y,Z はそれぞれ関数コール回数・プロセス数・問題サイズ1・問題サイズ2\n",
    "a,b,c は係数、dは切片\n",
    "\n",
    "# TODOs\n",
    "\n",
    "* ✅テストの作成\n",
    "* ✅列名のリストにおいてモデル構築に必要な列の組み合わせを作成\n",
    "* 実装\n"
   ]
  },
  {
   "cell_type": "code",
   "execution_count": 3,
   "metadata": {},
   "outputs": [
    {
     "data": {
      "text/plain": [
       "[('plot1', 'plot2'),\n",
       " ('plot1', 'plot3'),\n",
       " ('plot1', 'plot4'),\n",
       " ('plot1', 'plot5'),\n",
       " ('plot2', 'plot3'),\n",
       " ('plot2', 'plot4'),\n",
       " ('plot2', 'plot5'),\n",
       " ('plot3', 'plot4'),\n",
       " ('plot3', 'plot5'),\n",
       " ('plot4', 'plot5')]"
      ]
     },
     "execution_count": 3,
     "metadata": {},
     "output_type": "execute_result"
    }
   ],
   "source": [
    "import itertools\n",
    "\n",
    "exp_names :list[str] = [\"plot1\", \"plot2\", \"plot3\", \"plot4\", \"plot5\"]\n",
    "combinations_exp_name = list(itertools.combinations(exp_names, 2))\n",
    "combinations_exp_name"
   ]
  },
  {
   "cell_type": "code",
   "execution_count": 4,
   "metadata": {},
   "outputs": [],
   "source": [
    "class Model_LinearSumOf2elementCombination_ForMultipleRegression(\n",
    "    ModelBaseForMultipleRegression\n",
    "):\n",
    "    \n",
    "    \"\"\"説明変数2つの組み合わせの総和モデル\n",
    "    Model_LinearSumOf2elementCombination_ForMultipleRegression(ModelBaseForMultipleRegression)\n",
    "    Attributes:\n",
    "        explanatoryVariableColumnNames (list[str]): 説明変数の列名のリスト\n",
    "        rawExplanatoryVariable (pd.DataFrame): 説明変数のデータフレーム\n",
    "        rawExplanatoryVariableForTest (pd.DataFrame): テスト用の説明変数のデータフレーム。説明変数のデータフレームと同様の値が入っている(?)\n",
    "        rawResponseVariable (pd.DataFrame): 目的変数のデータフレーム\n",
    "        rawResponseVariableForTest (pd.DataFrame): テスト用の目的変数のデータフレーム。目的変数のデータフレームと同様の値が入っている(?)\n",
    "        responseVariableColumnNames (list[str]): 目的変数の列名のリスト\n",
    "\n",
    "    Note:\n",
    "        不要な列が含まれている場合は適切に「モデルの構築」・「モデルを利用した予測」などが行えない。\n",
    "    \"\"\"\n",
    "\n",
    "    def build_model(self) -> bool:\n",
    "        \"\"\"build_model(self) -> bool\n",
    "        オブジェクトの初期化時に生成された、インスタンスの説明変数およびインスタンスの目的変数からモデルを構築する\n",
    "\n",
    "        Args:\n",
    "            self : none\n",
    "\n",
    "        Returns: boolean。成功ならTrue。失敗ならFalse。\n",
    "        \"\"\"\n",
    "\n",
    "        pass\n",
    "\n",
    "\n",
    "\n",
    "    def predict(self, inputDF: pd.DataFrame) -> np.ndarray:\n",
    "        \"\"\"predict(self, inputDF: pd.DataFrame) -> np.ndarray\n",
    "        \n",
    "        Args:\n",
    "            self : none\n",
    "            inputDF (pd.DataFrame) : 構築されたモデルを使って予測を行うDF\n",
    "\n",
    "        Returns:\n",
    "            np.ndarray\n",
    "        \"\"\"\n",
    "        pass\n",
    "\n",
    "    def returnMAPE(self) -> float:\n",
    "        \"\"\"returnMAPE(self) -> float\n",
    "\n",
    "        モデルに構築されたデータからMAPEを算出する。\n",
    "\n",
    "        Args: \n",
    "            self: none\n",
    "        \n",
    "        Returns:\n",
    "            float: 「モデルの構築に用いたデータから予測された値」と「実際の値」から算出されたMAPE\n",
    "            int: 失敗した場合、-1\n",
    "        \"\"\"\n",
    "        pass\n",
    "\n",
    "    def return_df_for_2comibnations(\n",
    "        self,\n",
    "        inputDF :pd.DataFrame,\n",
    "    ) -> pd.DataFrame:\n",
    "        \"\"\"return_df_for_2comibnations()\n",
    "        \n",
    "        入力DFから説明変数の組み合わせを算出し、その組み合わせの要素同士を乗算した列で構成されたDFを返す関数\n",
    "\n",
    "        \"\"\"\n",
    "\n",
    "        # 学習用PDを作成する\n",
    "        # 0. 学習用DFを入力DFからコピーする\n",
    "        # 1. 列名二つずつの組み合わせを作成\n",
    "        # 2. 列名の組み合わせで計算し、それを学習用DFに入れる\n",
    "\n",
    "        returnDF :pd.DataFrame = inputDF.copy(deep=True)\n",
    "        returnDF_columns = returnDF.columns.tolist()\n",
    "        returnDF = returnDF.drop(returnDF_columns, axis=1)\n",
    "        \n",
    "        list_combinations :list[set[str]] = list(itertools.combinations(self.explanatoryVariableColumnNames, 2))\n",
    "        for combination_index in len(list_combinations):\n",
    "            combination :set[str, str] = list_combinations[combination_index]\n",
    "            exp_name0 :str = combination[0]\n",
    "            exp_name1 :str = combination[1]\n",
    "            returnDF[str(combination_index)] = inputDF[exp_name0] * inputDF[exp_name1]\n",
    "\n",
    "        return returnDF"
   ]
  },
  {
   "cell_type": "code",
   "execution_count": 5,
   "metadata": {},
   "outputs": [],
   "source": [
    "def test_Model_LinearSumOf2elementCombination_ForMultipleRegression():\n",
    "    \"\"\"test_Model_LinearSumOf2elementCombination_ForMultipleRegression()\n",
    "    Model_LinearSumOf2elementCombination_ForMultipleRegressionのテスト\n",
    "    \"\"\"\n",
    "\n",
    "    # 説明変数\n",
    "    plotX_1: np.ndarray = np.linspace(10, 20, 11)\n",
    "    plotX_2: np.ndarray = 10 * np.linspace(10, 20, 11)\n",
    "    plotX_3: np.ndarray = 100 * np.linspace(10, 20, 11)\n",
    "    # 目的変数\n",
    "    a: int = 100\n",
    "    b: int = 90\n",
    "    c: int = 80\n",
    "    k: int = -500\n",
    "    plotT: np.ndarray = (a * plotX_1 * plotX_2) + (b * plotX_1 * plotX_3) + (c * plotX_2 * plotX_3) \\\n",
    "                        + k\n",
    "\n",
    "    # DFを作成する\n",
    "    # カラム名のリスト\n",
    "    columnNames: list[str] = [\n",
    "        \"process\",\n",
    "        \"plotX_2\",\n",
    "        \"plotX_3\",\n",
    "        \"plotT\",\n",
    "    ]\n",
    "    datumForDF: list[np.ndarray] = [plotX_1, plotX_2, plotX_3, plotT]\n",
    "    inputDFForTest: pd.DataFrame = pd.DataFrame(index=columnNames, data=datumForDF).T\n",
    "    inputDFForTest[\"functionName\"] = \"functionName\"\n",
    "\n",
    "    # 目的変数・説明変数のカラム名のリスト\n",
    "    # 目的変数のカラム名のリスト\n",
    "    columnNamesForExp: list[str] = [\n",
    "        \"process\",\n",
    "        \"plotX_2\",\n",
    "        \"plotX_3\",\n",
    "    ]\n",
    "    # 説明変数のカラム名のリスト\n",
    "    columnNamesForRes: list[str] = [\"plotT\"]\n",
    "\n",
    "    # 予測をする\n",
    "    # モデルオブジェクトの作成\n",
    "    objectModel = (\n",
    "        Model_LinearSumOf2elementCombination_ForMultipleRegression(\n",
    "            inputDF=inputDFForTest,\n",
    "            explanatoryVariableColumnNames=columnNamesForExp,\n",
    "            responseVariableColumnNames=columnNamesForRes,\n",
    "            conditionDictForTest={},\n",
    "        )\n",
    "    )\n",
    "    # モデルの構築\n",
    "    objectModel.build_model()\n",
    "    # モデル構築に用いたデータとのMAPEによって実装がうまくいっているかどうかの判定を行う\n",
    "    mape = objectModel.returnMAPE()\n",
    "    assert 0 <= mape < 1, f\"mape = {mape}\""
   ]
  }
 ],
 "metadata": {
  "kernelspec": {
   "display_name": "Python 3 (ipykernel)",
   "language": "python",
   "name": "python3"
  },
  "language_info": {
   "codemirror_mode": {
    "name": "ipython",
    "version": 3
   },
   "file_extension": ".py",
   "mimetype": "text/x-python",
   "name": "python",
   "nbconvert_exporter": "python",
   "pygments_lexer": "ipython3",
   "version": "3.10.0"
  }
 },
 "nbformat": 4,
 "nbformat_minor": 4
}
