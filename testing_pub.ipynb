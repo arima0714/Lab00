{
 "cells": [
  {
   "cell_type": "code",
   "execution_count": 1,
   "metadata": {},
   "outputs": [
    {
     "name": "stdout",
     "output_type": "stream",
     "text": [
      "/workspace\n"
     ]
    }
   ],
   "source": [
    "jupyter_pwd = %pwd\n",
    "if jupyter_pwd == \"/\":\n",
    "    %cd /workspace\n"
   ]
  },
  {
   "cell_type": "code",
   "execution_count": 2,
   "metadata": {},
   "outputs": [
    {
     "name": "stderr",
     "output_type": "stream",
     "text": [
      "DEBUG:__main__:hello\n"
     ]
    }
   ],
   "source": [
    "# ipynb形式のライブラリのインポート\n",
    "%run ./lib/lib.ipynb\n",
    "\n",
    "# 生データの入ったCSVファイルの保持されたディレクトリ名を格納している変数\n",
    "csvDirPath = \"./csv_files/\"\n",
    "\n",
    "# NPBのベンチマーク名のリスト\n",
    "benchmarkNames = [\"cg\", \"ep\", \"ft\", \"is\", \"lu\", \"mg\"]\n",
    "\n",
    "# LULESH ベンチマークプログラムのプロセス数・問題サイズ・イテレーション数\n",
    "lulesh_processes: list[int] = [8, 27, 64, 125, 216, 343, 512]\n",
    "lulesh_iterations: list[int] = [8, 16, 32, 64, 128, 256]\n",
    "lulesh_sizes: list[int] = [16, 24, 32, 48, 64, 128]"
   ]
  },
  {
   "cell_type": "code",
   "execution_count": 3,
   "metadata": {},
   "outputs": [
    {
     "name": "stderr",
     "output_type": "stream",
     "text": [
      "DEBUG:lib.lab_lib:hello\n"
     ]
    }
   ],
   "source": [
    "# ipynb形式のライブラリノートを.py形式に変更したものをインポート\n",
    "import lib\n",
    "import lib.lab_lib\n",
    "from lib.lab_lib import *"
   ]
  },
  {
   "cell_type": "code",
   "execution_count": 4,
   "metadata": {},
   "outputs": [],
   "source": [
    "date: str = \"2022年8月12日\"\n",
    "\n",
    "list_modelName: list[str] = [\n",
    "    \"modelIp\",\n",
    "    \"modelLog\",\n",
    "    # \"modelLinAndIp\",\n",
    "    # \"modelLinAndLog\",\n",
    "    # \"modelIpAndLin\",\n",
    "    # \"modelIpAndLog\",\n",
    "    # \"modelLogAndLin\",\n",
    "    # \"modelLogAndIp\",\n",
    "    # \"modelProcessDividedByProblemSize\",\n",
    "    # \"modelProblemSizeDividedByProcess\",\n",
    "    # \"modelLinearSumOf2elementCombination\",\n",
    "    # \"modelLinearSumOfElementCombinations\",\n",
    "    # \"modelLinearSumOf2elementCombinationWithSquared\",\n",
    "    # \"modelLinearSumOf2elementCombinationWithCubed\",\n",
    "    \"modelSquareRootOfProcess\",\n",
    "    \"modelSquareRootTimesOtherElems\",\n",
    "    \"modelObeyOneParameter\",\n",
    "    \"modelLin\"\n",
    "    # \"modelBasicTree\",\n",
    "]\n",
    "\n",
    "input_list_process: list[int] = [2, 4, 8, 16, 32, 64, 128]\n",
    "target_list_process: list[int] = [256]\n",
    "\n",
    "cg_input_list_na: list[int] = [14000, 30000, 75000, 100000]\n",
    "cg_input_list_nonzer: list[int] = [11, 12, 13, 14, 15, 18]\n",
    "cg_input_list_niter: list[int] = [15, 30, 75, 90]\n",
    "cg_input_list_shift: list[int] = [20, 40, 60, 80, 110]\n",
    "\n",
    "cg_target_list_na: list[int] = [1500000]\n",
    "cg_target_list_nonzer: list[int] = [21]\n",
    "cg_target_list_niter: list[int] = [100]\n",
    "cg_target_list_shift: list[int] = [200]\n",
    "\n",
    "mg_input_list_problem_size: list[int] = [32, 64, 128, 256]\n",
    "mg_input_list_nit: list[int] = [4, 10, 20, 35]\n",
    "\n",
    "mg_target_list_problem_size: list[int] = [512]\n",
    "mg_target_list_nit: list[int] = [50]"
   ]
  },
  {
   "cell_type": "code",
   "execution_count": 5,
   "metadata": {},
   "outputs": [
    {
     "name": "stderr",
     "output_type": "stream",
     "text": [
      "/workspace/lib/lab_lib.py:8775: UserWarning: ./csv_files/cg_na75000_nonzer18_niter30_shift60_process4.csv is empty.\n",
      "  warnings.warn(f\"{filePath} is empty.\")\n",
      "/workspace/lib/lab_lib.py:8775: UserWarning: ./csv_files/cg_na75000_nonzer15_niter90_shift80_process8.csv is empty.\n",
      "  warnings.warn(f\"{filePath} is empty.\")\n"
     ]
    }
   ],
   "source": [
    "input_rawDF_cg: pd.DataFrame = return_rawDF_cg(\n",
    "    list_process=input_list_process,\n",
    "    list_na=cg_input_list_na,\n",
    "    list_nonzer=cg_input_list_nonzer,\n",
    "    list_niter=cg_input_list_niter,\n",
    "    list_shift=cg_input_list_shift,\n",
    "    csvDir=csvDirPath,\n",
    ")\n",
    "\n",
    "target_rawDF_cg: pd.DataFrame = return_rawDF_cg(\n",
    "    list_process=target_list_process,\n",
    "    list_na=cg_target_list_na,\n",
    "    list_nonzer=cg_target_list_nonzer,\n",
    "    list_niter=cg_target_list_niter,\n",
    "    list_shift=cg_target_list_shift,\n",
    "    csvDir=csvDirPath,\n",
    ")"
   ]
  },
  {
   "cell_type": "code",
   "execution_count": 6,
   "metadata": {
    "tags": []
   },
   "outputs": [],
   "source": [
    "cg_list_exp: list[str] = [\"process\", \"na\", \"nonzer\", \"niter\", \"shift\"]\n",
    "\n",
    "list_res: list[str] = [\"#Call\"]"
   ]
  },
  {
   "cell_type": "code",
   "execution_count": 7,
   "metadata": {
    "tags": []
   },
   "outputs": [],
   "source": [
    "# 精度の低い関数を抽出したうえでチューニングする\n",
    "\n",
    "targetFunctionNames: list[str] = [\n",
    "    \"VECSET\",\n",
    "    \"MPI_Wait()\",\n",
    "    \"MPI_Send()\",\n",
    "    \"SPRNVC\",\n",
    "    \"RANDLC\",\n",
    "    \"MPI_Irecv()\",\n",
    "    \"ICNVRT\",\n",
    "]"
   ]
  },
  {
   "cell_type": "code",
   "execution_count": 8,
   "metadata": {
    "tags": []
   },
   "outputs": [
    {
     "name": "stdout",
     "output_type": "stream",
     "text": [
      "return_expect=\n",
      "[[ 360695.]\n",
      " [ 360695.]\n",
      " [ 360695.]\n",
      " ...\n",
      " [4721790.]\n",
      " [4721790.]\n",
      " [4721790.]]\n",
      "return_actuall=\n",
      "[  19151.17730987   19080.96660054   19010.75589122 ... 4685216.83369645\n",
      " 4685146.62298713 4685041.30692315]\n",
      "return_expect=\n",
      "[[ 1680.]\n",
      " [ 1680.]\n",
      " [ 1680.]\n",
      " ...\n",
      " [31122.]\n",
      " [31122.]\n",
      " [31122.]]\n",
      "return_actuall=\n",
      "[  167.66127473   167.60015787   167.53904101 ... 27191.29167183\n",
      " 27191.23055497 27191.13887968]\n",
      "return_expect=\n",
      "[[ 1680.]\n",
      " [ 1680.]\n",
      " [ 1680.]\n",
      " ...\n",
      " [31122.]\n",
      " [31122.]\n",
      " [31122.]]\n",
      "return_actuall=\n",
      "[  167.66127473   167.60015787   167.53904101 ... 27191.29167183\n",
      " 27191.23055497 27191.13887968]\n",
      "return_expect=\n",
      "[[ 1680.]\n",
      " [ 1680.]\n",
      " [ 1680.]\n",
      " ...\n",
      " [31122.]\n",
      " [31122.]\n",
      " [31122.]]\n",
      "return_actuall=\n",
      "[  167.66127473   167.60015787   167.53904101 ... 27191.29167183\n",
      " 27191.23055497 27191.13887968]\n",
      "return_expect=\n",
      "[[ 14000.]\n",
      " [ 14000.]\n",
      " [ 14000.]\n",
      " ...\n",
      " [100000.]\n",
      " [100000.]\n",
      " [100000.]]\n",
      "return_actuall=\n",
      "[[ 14000]\n",
      " [ 14000]\n",
      " [ 14000]\n",
      " ...\n",
      " [100000]\n",
      " [100000]\n",
      " [100000]]\n",
      "return_expect=\n",
      "[[ 180347.]\n",
      " [ 180347.]\n",
      " [ 180347.]\n",
      " ...\n",
      " [2360890.]\n",
      " [2360890.]\n",
      " [2360890.]]\n",
      "return_actuall=\n",
      "[   9576.05894646    9540.95349379    9505.84804111 ... 2342606.20262728\n",
      " 2342571.09717461 2342518.4389956 ]\n",
      "return_expect=\n",
      "[[ 14000.]\n",
      " [ 14000.]\n",
      " [ 14000.]\n",
      " ...\n",
      " [100000.]\n",
      " [100000.]\n",
      " [100000.]]\n",
      "return_actuall=\n",
      "[[ 14000]\n",
      " [ 14000]\n",
      " [ 14000]\n",
      " ...\n",
      " [100000]\n",
      " [100000]\n",
      " [100000]]\n"
     ]
    }
   ],
   "source": [
    "result_series_list: list[pd.DataFrame] = []\n",
    "\n",
    "function_names: list[str] = list(set(input_rawDF_cg[\"Name\"].tolist()))\n",
    "\n",
    "input_rawDF_cg = input_rawDF_cg.rename(columns={\"Name\": \"functionName\"})\n",
    "target_rawDF_cg = target_rawDF_cg.rename(columns={\"Name\": \"functionName\"})\n",
    "\n",
    "for function_name in function_names:\n",
    "    if (function_name in targetFunctionNames) == False:\n",
    "        continue\n",
    "    input_rawDF_per_function: pd.DataFrame = input_rawDF_cg[\n",
    "        input_rawDF_cg[\"functionName\"] == function_name\n",
    "    ]\n",
    "\n",
    "    models = Models(\n",
    "        inputDF=input_rawDF_per_function,\n",
    "        expVarColNames=cg_list_exp,\n",
    "        resVarColNames=list_res,\n",
    "        targetDF=None,\n",
    "        modelNames=list_modelName,\n",
    "    )\n",
    "\n",
    "    models.setUpDataBeforeCalcLr()\n",
    "    models.calcLr()\n",
    "    models.calcMAPE()\n",
    "\n",
    "    dictCalcedMAPE = models.returnCalculatedMAPE()\n",
    "\n",
    "    for key in dictCalcedMAPE.keys():\n",
    "        dictCalcedMAPE[key] = float(dictCalcedMAPE[key])\n",
    "\n",
    "    dict_for_series: dict = copy.deepcopy(dictCalcedMAPE)\n",
    "    dict_for_series[\"functionName\"] = function_name\n",
    "\n",
    "    series: pd.Series = pd.Series(dict_for_series)\n",
    "    result_series_list.append(series)\n",
    "\n",
    "resultDF: pd.DataFrame = pd.DataFrame(result_series_list)\n",
    "resultDF = addLowestMAPEColumn(\n",
    "    inputDF=resultDF, model_name_list=list_modelName, version=2\n",
    ")\n",
    "resultDF = addLowestMAPEsModelNameColumn(\n",
    "    inputDF=resultDF, model_name_list=list_modelName, version=2\n",
    ")"
   ]
  },
  {
   "cell_type": "code",
   "execution_count": 9,
   "metadata": {
    "tags": []
   },
   "outputs": [
    {
     "data": {
      "text/html": [
       "<div>\n",
       "<style scoped>\n",
       "    .dataframe tbody tr th:only-of-type {\n",
       "        vertical-align: middle;\n",
       "    }\n",
       "\n",
       "    .dataframe tbody tr th {\n",
       "        vertical-align: top;\n",
       "    }\n",
       "\n",
       "    .dataframe thead th {\n",
       "        text-align: right;\n",
       "    }\n",
       "</style>\n",
       "<table border=\"1\" class=\"dataframe\">\n",
       "  <thead>\n",
       "    <tr style=\"text-align: right;\">\n",
       "      <th></th>\n",
       "      <th>modelLin</th>\n",
       "      <th>modelIp</th>\n",
       "      <th>modelLog</th>\n",
       "      <th>modelSquareRootOfProcess</th>\n",
       "      <th>modelSquareRootTimesOtherElems</th>\n",
       "      <th>modelObeyOneParameter</th>\n",
       "      <th>functionName</th>\n",
       "      <th>最低値</th>\n",
       "      <th>最適モデル</th>\n",
       "    </tr>\n",
       "  </thead>\n",
       "  <tbody>\n",
       "    <tr>\n",
       "      <th>0</th>\n",
       "      <td>2.550716e+01</td>\n",
       "      <td>63.602569</td>\n",
       "      <td>43.918421</td>\n",
       "      <td>2.550716e+01</td>\n",
       "      <td>110.789118</td>\n",
       "      <td>25.507161</td>\n",
       "      <td>RANDLC</td>\n",
       "      <td>25.507157</td>\n",
       "      <td>modelSquareRootOfProcess</td>\n",
       "    </tr>\n",
       "    <tr>\n",
       "      <th>1</th>\n",
       "      <td>3.425747e+01</td>\n",
       "      <td>52.562966</td>\n",
       "      <td>45.284269</td>\n",
       "      <td>3.761452e+01</td>\n",
       "      <td>63.622956</td>\n",
       "      <td>34.257466</td>\n",
       "      <td>MPI_Send()</td>\n",
       "      <td>34.257466</td>\n",
       "      <td>modelObeyOneParameter</td>\n",
       "    </tr>\n",
       "    <tr>\n",
       "      <th>2</th>\n",
       "      <td>3.425747e+01</td>\n",
       "      <td>52.562966</td>\n",
       "      <td>45.284269</td>\n",
       "      <td>3.761452e+01</td>\n",
       "      <td>63.622956</td>\n",
       "      <td>34.257466</td>\n",
       "      <td>MPI_Irecv()</td>\n",
       "      <td>34.257466</td>\n",
       "      <td>modelObeyOneParameter</td>\n",
       "    </tr>\n",
       "    <tr>\n",
       "      <th>3</th>\n",
       "      <td>3.425747e+01</td>\n",
       "      <td>52.562966</td>\n",
       "      <td>45.284269</td>\n",
       "      <td>3.761452e+01</td>\n",
       "      <td>63.622956</td>\n",
       "      <td>34.257466</td>\n",
       "      <td>MPI_Wait()</td>\n",
       "      <td>34.257466</td>\n",
       "      <td>modelObeyOneParameter</td>\n",
       "    </tr>\n",
       "    <tr>\n",
       "      <th>4</th>\n",
       "      <td>1.056736e-13</td>\n",
       "      <td>40.738362</td>\n",
       "      <td>24.184347</td>\n",
       "      <td>3.326790e-13</td>\n",
       "      <td>79.407704</td>\n",
       "      <td>0.000000</td>\n",
       "      <td>VECSET</td>\n",
       "      <td>0.000000</td>\n",
       "      <td>modelObeyOneParameter</td>\n",
       "    </tr>\n",
       "    <tr>\n",
       "      <th>5</th>\n",
       "      <td>2.550709e+01</td>\n",
       "      <td>63.602611</td>\n",
       "      <td>43.918416</td>\n",
       "      <td>2.550709e+01</td>\n",
       "      <td>110.789284</td>\n",
       "      <td>25.507090</td>\n",
       "      <td>ICNVRT</td>\n",
       "      <td>25.507085</td>\n",
       "      <td>modelSquareRootOfProcess</td>\n",
       "    </tr>\n",
       "    <tr>\n",
       "      <th>6</th>\n",
       "      <td>1.056736e-13</td>\n",
       "      <td>40.738362</td>\n",
       "      <td>24.184347</td>\n",
       "      <td>3.326790e-13</td>\n",
       "      <td>79.407704</td>\n",
       "      <td>0.000000</td>\n",
       "      <td>SPRNVC</td>\n",
       "      <td>0.000000</td>\n",
       "      <td>modelObeyOneParameter</td>\n",
       "    </tr>\n",
       "  </tbody>\n",
       "</table>\n",
       "</div>"
      ],
      "text/plain": [
       "       modelLin    modelIp   modelLog  modelSquareRootOfProcess  \\\n",
       "0  2.550716e+01  63.602569  43.918421              2.550716e+01   \n",
       "1  3.425747e+01  52.562966  45.284269              3.761452e+01   \n",
       "2  3.425747e+01  52.562966  45.284269              3.761452e+01   \n",
       "3  3.425747e+01  52.562966  45.284269              3.761452e+01   \n",
       "4  1.056736e-13  40.738362  24.184347              3.326790e-13   \n",
       "5  2.550709e+01  63.602611  43.918416              2.550709e+01   \n",
       "6  1.056736e-13  40.738362  24.184347              3.326790e-13   \n",
       "\n",
       "   modelSquareRootTimesOtherElems  modelObeyOneParameter functionName  \\\n",
       "0                      110.789118              25.507161       RANDLC   \n",
       "1                       63.622956              34.257466   MPI_Send()   \n",
       "2                       63.622956              34.257466  MPI_Irecv()   \n",
       "3                       63.622956              34.257466   MPI_Wait()   \n",
       "4                       79.407704               0.000000       VECSET   \n",
       "5                      110.789284              25.507090       ICNVRT   \n",
       "6                       79.407704               0.000000       SPRNVC   \n",
       "\n",
       "         最低値                     最適モデル  \n",
       "0  25.507157  modelSquareRootOfProcess  \n",
       "1  34.257466     modelObeyOneParameter  \n",
       "2  34.257466     modelObeyOneParameter  \n",
       "3  34.257466     modelObeyOneParameter  \n",
       "4   0.000000     modelObeyOneParameter  \n",
       "5  25.507085  modelSquareRootOfProcess  \n",
       "6   0.000000     modelObeyOneParameter  "
      ]
     },
     "execution_count": 9,
     "metadata": {},
     "output_type": "execute_result"
    }
   ],
   "source": [
    "resultDF"
   ]
  },
  {
   "cell_type": "code",
   "execution_count": 10,
   "metadata": {},
   "outputs": [],
   "source": [
    "df_ICNVRT = input_rawDF_cg[input_rawDF_cg[\"functionName\"] == \"ICNVRT\"]\n",
    "df_Wait = input_rawDF_cg[input_rawDF_cg[\"functionName\"] == \"MPI_Wait()\"]\n",
    "df_Send = input_rawDF_cg[input_rawDF_cg[\"functionName\"] == \"MPI_Send()\"]\n",
    "df_RANDLC = input_rawDF_cg[input_rawDF_cg[\"functionName\"] == \"RANDLC\"]\n",
    "df_VECSET = input_rawDF_cg[input_rawDF_cg[\"functionName\"] == \"VECSET\"]\n",
    "df_Irecv = input_rawDF_cg[input_rawDF_cg[\"functionName\"] == \"MPI_Irecv()\"]\n",
    "df_SPRNVC = input_rawDF_cg[input_rawDF_cg[\"functionName\"] == \"SPRNVC\"]"
   ]
  },
  {
   "cell_type": "code",
   "execution_count": 11,
   "metadata": {},
   "outputs": [
    {
     "name": "stdout",
     "output_type": "stream",
     "text": [
      "   process     na  nonzer  niter  shift\n",
      "7        2  14000      11     15     20\n",
      "7        2  14000      11     15     40\n",
      "7        2  14000      11     15     60\n",
      "7        2  14000      11     15     80\n",
      "7        2  14000      11     15    110\n",
      "     #Call\n",
      "7  14000.0\n",
      "7  14000.0\n",
      "7  14000.0\n",
      "7  14000.0\n",
      "7  14000.0\n"
     ]
    }
   ],
   "source": [
    "# SPRNVC のデータで Model_obeyOneParameter_ForMultipleRegression を用いて予測を行う\n",
    "\n",
    "# df_SPRNVC\n",
    "\n",
    "print(df_SPRNVC[cg_list_exp].head())\n",
    "print(df_SPRNVC[list_res].head())\n",
    "\n",
    "object_obeyOneParameter = Model_obeyOneParameter_ForMultipleRegression(\n",
    "    inputDF=df_SPRNVC,\n",
    "    explanatoryVariableColumnNames=cg_list_exp,\n",
    "    responseVariableColumnNames=list_res,\n",
    "    conditionDictForTest={},\n",
    "    targetDF=None\n",
    ")\n",
    "\n",
    "object_obeyOneParameter.build_model()\n",
    "\n",
    "_return_expect :np.ndarray = object_obeyOneParameter.rawResponseVariable[object_obeyOneParameter.responseVariableColumnNames].values\n",
    "_return_actually :np.ndarray = object_obeyOneParameter.predict(object_obeyOneParameter.rawExplanaoryVariable)"
   ]
  },
  {
   "cell_type": "code",
   "execution_count": 12,
   "metadata": {},
   "outputs": [
    {
     "data": {
      "text/plain": [
       "array([[ 14000],\n",
       "       [ 14000],\n",
       "       [ 14000],\n",
       "       ...,\n",
       "       [100000],\n",
       "       [100000],\n",
       "       [100000]])"
      ]
     },
     "execution_count": 12,
     "metadata": {},
     "output_type": "execute_result"
    }
   ],
   "source": [
    "_return_actually"
   ]
  },
  {
   "cell_type": "code",
   "execution_count": 13,
   "metadata": {},
   "outputs": [
    {
     "data": {
      "text/plain": [
       "array([[ 14000.],\n",
       "       [ 14000.],\n",
       "       [ 14000.],\n",
       "       ...,\n",
       "       [100000.],\n",
       "       [100000.],\n",
       "       [100000.]])"
      ]
     },
     "execution_count": 13,
     "metadata": {},
     "output_type": "execute_result"
    }
   ],
   "source": [
    "_return_expect"
   ]
  },
  {
   "cell_type": "code",
   "execution_count": 14,
   "metadata": {},
   "outputs": [
    {
     "name": "stdout",
     "output_type": "stream",
     "text": [
      "return_expect=\n",
      "[[838.76639126]\n",
      " [700.66108261]\n",
      " [856.26625017]\n",
      " [641.51598139]\n",
      " [373.3698381 ]\n",
      " [156.4944123 ]\n",
      " [546.28657979]\n",
      " [  2.41803077]\n",
      " [ 42.51089236]\n",
      " [ 56.54239562]\n",
      " [737.17921771]]\n",
      "return_actuall=\n",
      "[[838.76639126]\n",
      " [700.66108261]\n",
      " [856.26625017]\n",
      " [641.51598139]\n",
      " [373.3698381 ]\n",
      " [156.4944123 ]\n",
      " [546.28657979]\n",
      " [  2.41803077]\n",
      " [ 42.51089236]\n",
      " [ 56.54239562]\n",
      " [737.17921771]]\n"
     ]
    }
   ],
   "source": [
    "test_Model_obeyOneParameter_ForMultipleRegression()"
   ]
  },
  {
   "cell_type": "code",
   "execution_count": 15,
   "metadata": {},
   "outputs": [
    {
     "name": "stdout",
     "output_type": "stream",
     "text": [
      "Nothing done.\n"
     ]
    }
   ],
   "source": [
    "%reset"
   ]
  },
  {
   "cell_type": "markdown",
   "metadata": {},
   "source": [
    "***\n",
    "\n",
    "---\n",
    "\n",
    "___"
   ]
  },
  {
   "cell_type": "markdown",
   "metadata": {
    "tags": []
   },
   "source": [
    "# 2022年4月17日～\n",
    "\n",
    "次のような表を作成する\n",
    "\n",
    "採用される割合 (MAPE の最大値 [%] ，MAPE の最小値 [%]) [%]\n",
    "\n",
    "| ベンチマークプログラム名 | 線形モデル               | 対数モデル               | 反比例モデル              |\n",
    "|--------------|---------------------|---------------------|---------------------|\n",
    "| str          | float(float, float) | float(float, float) | float(float, float) |\n",
    "\n",
    "\n",
    "目標となるのは一気にこのベンチマークプログラムを作成することだが、既存のライブラリ関数などを利用し、まずはベンチマークごとに作成可能にする。\n",
    "\n",
    "メモ\n",
    "\n",
    "## 実装予定\n",
    "\n",
    "1. 行方向に最小値を検出\n",
    "2. 最小値以外をNaNに変更\n",
    "3. 列方向に最小値と最大値を検出\n",
    "\n",
    "## \n"
   ]
  },
  {
   "cell_type": "markdown",
   "metadata": {},
   "source": [
    "***\n",
    "\n",
    "---\n",
    "\n",
    "___"
   ]
  }
 ],
 "metadata": {
  "interpreter": {
   "hash": "949777d72b0d2535278d3dc13498b2535136f6dfe0678499012e853ee9abcab1"
  },
  "kernelspec": {
   "display_name": "Python 3 (ipykernel)",
   "language": "python",
   "name": "python3"
  },
  "language_info": {
   "codemirror_mode": {
    "name": "ipython",
    "version": 3
   },
   "file_extension": ".py",
   "mimetype": "text/x-python",
   "name": "python",
   "nbconvert_exporter": "python",
   "pygments_lexer": "ipython3",
   "version": "3.10.6"
  }
 },
 "nbformat": 4,
 "nbformat_minor": 4
}
