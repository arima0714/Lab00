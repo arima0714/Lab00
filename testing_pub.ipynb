{
 "cells": [
  {
   "cell_type": "code",
   "execution_count": 1,
   "metadata": {},
   "outputs": [
    {
     "name": "stderr",
     "output_type": "stream",
     "text": [
      "DEBUG:__main__:hello\n"
     ]
    }
   ],
   "source": [
    "# ipynb形式のライブラリのインポート\n",
    "%run ./lib/lib.ipynb\n",
    "\n",
    "# 生データの入ったCSVファイルの保持されたディレクトリ名を格納している変数\n",
    "csvDirPath = \"./csv_files/\"\n",
    "\n",
    "# NPBのベンチマーク名のリスト\n",
    "benchmarkNames = [\"cg\", \"ep\", \"ft\", \"is\", \"lu\", \"mg\"]\n",
    "\n",
    "# LULESH ベンチマークプログラムのプロセス数・問題サイズ・イテレーション数\n",
    "lulesh_processes: list[int] = [8, 27, 64, 125, 216, 343, 512]\n",
    "lulesh_iterations: list[int] = [8, 16, 32, 64, 128, 256]\n",
    "lulesh_sizes: list[int] = [16, 24, 32, 48, 64, 128]"
   ]
  },
  {
   "cell_type": "code",
   "execution_count": 2,
   "metadata": {},
   "outputs": [
    {
     "name": "stderr",
     "output_type": "stream",
     "text": [
      "DEBUG:lib.lab_lib:hello\n"
     ]
    }
   ],
   "source": [
    "# ipynb形式のライブラリノートを.py形式に変更したものをインポート\n",
    "import lib\n",
    "import lib.lab_lib\n",
    "from lib.lab_lib import *"
   ]
  },
  {
   "cell_type": "markdown",
   "metadata": {},
   "source": [
    "# 2022年6月8日\n",
    "\n",
    "重み付きMAPEを算出する関数を実装"
   ]
  },
  {
   "cell_type": "code",
   "execution_count": 3,
   "metadata": {},
   "outputs": [],
   "source": [
    "def calcWeightedMAPEscore(\n",
    "    inputDF :pd.DataFrame,\n",
    "    inputColumnDict :dict,\n",
    ") -> float:\n",
    "    \"\"\"calcWeightedMAPEscore()\n",
    "    \n",
    "    重み付き平均MAPEを算出する関数\n",
    "\n",
    "    Args:\n",
    "        inputDF (pd.DataFrame) : 下記のようなテーブル構成\n",
    "        |<関数名>|<コール回数>|<MAPE>|\n",
    "        inputColumnDict (dict) : 上記のテーブル構成を前提に、次の辞書を構成する。{\"funcName\":<関数名>,\"call\":<コール回数>,\"MAPE\":<MAPE>,}\n",
    "\n",
    "    Returns:\n",
    "        float: 重み付き平均MAPE\n",
    "    \n",
    "    \"\"\"\n",
    "    _col_funcName :str = inputColumnDict[\"funcName\"]\n",
    "    _col_call :str = inputColumnDict[\"call\"]\n",
    "    _col_MAPE :str = inputColumnDict[\"MAPE\"]\n",
    "\n",
    "    _ser_funcName :pd.Series = inputDF[_col_funcName]\n",
    "    _ser_call :pd.Series = inputDF[_col_call]\n",
    "    _ser_MAPE :pd.Series = inputDF[_col_MAPE]\n",
    "\n",
    "    _ret_numerator :float = 0\n",
    "    _ret_denominator :float = sum(_ser_call)\n",
    "\n",
    "    for index in range(len(_ser_funcName)):\n",
    "        _ret_numerator += _ser_call[index] * _ser_MAPE[index]\n",
    "\n",
    "    return _ret_numerator / _ret_denominator\n",
    "\n",
    "def test_calcWeightedMAPEscore():\n",
    "    関数名 :list[str]= [\"name0\", \"name1\", \"name2\", \"name3\"]\n",
    "    inputColumnDict = {\"funcName\":\"関数名\", \"call\":\"コール回数\", \"MAPE\":\"MAPE\"}\n",
    "    # テストケース1\n",
    "    コール回数 :list[float] = [1, 2, 3, 4]\n",
    "    MAPE :list[float] = [1, 2, 3, 4]\n",
    "    inputDF :pd.DataFrame = pd.DataFrame.from_dict({\"関数名\":関数名, \"コール回数\":コール回数, \"MAPE\":MAPE})\n",
    "    expected_result = 3.0\n",
    "    actually_result = calcWeightedMAPEscore(inputDF = inputDF, inputColumnDict=inputColumnDict)\n",
    "    # print(inputDF)\n",
    "    assert expected_result == actually_result, f\"expected_result={expected_result},actually_result={actually_result}\"\n",
    "    # テストケース2\n",
    "    コール回数 :list[float] = [5,4,3,2]\n",
    "    MAPE :list[float] = [7,7,7,7]\n",
    "    inputDF :pd.DataFrame = pd.DataFrame.from_dict({\"関数名\":関数名, \"コール回数\":コール回数, \"MAPE\":MAPE})\n",
    "    expected_result = 7.0\n",
    "    actually_result = calcWeightedMAPEscore(inputDF = inputDF, inputColumnDict=inputColumnDict)\n",
    "    # print(inputDF)\n",
    "    assert expected_result == actually_result, f\"expected_result={expected_result},actually_result={actually_result}\"\n",
    "    # テストケース3\n",
    "    コール回数 :list[float] = [1,2,3,4]\n",
    "    MAPE :list[float] = [5,4,3,2]\n",
    "    inputDF :pd.DataFrame = pd.DataFrame.from_dict({\"関数名\":関数名, \"コール回数\":コール回数, \"MAPE\":MAPE})\n",
    "    expected_result = 3.0\n",
    "    actually_result = calcWeightedMAPEscore(inputDF = inputDF, inputColumnDict=inputColumnDict)\n",
    "    # print(inputDF)\n",
    "    assert expected_result == actually_result, f\"expected_result={expected_result},actually_result={actually_result}\"\n"
   ]
  },
  {
   "cell_type": "code",
   "execution_count": 4,
   "metadata": {},
   "outputs": [],
   "source": [
    "test_calcWeightedMAPEscore()"
   ]
  },
  {
   "cell_type": "markdown",
   "metadata": {},
   "source": [
    "最適モデルを返す関数を実装"
   ]
  },
  {
   "cell_type": "code",
   "execution_count": 5,
   "metadata": {},
   "outputs": [],
   "source": [
    "def return_bestModelObject():\n",
    "    return -1\n",
    "\n",
    "def test_return_bestModelObject():\n",
    "    # 線形モデル\n",
    "\n",
    "    # 反比例モデル\n",
    "\n",
    "    # 対数モデル\n",
    "    return 0\n"
   ]
  },
  {
   "cell_type": "code",
   "execution_count": 6,
   "metadata": {},
   "outputs": [
    {
     "data": {
      "text/plain": [
       "0"
      ]
     },
     "execution_count": 6,
     "metadata": {},
     "output_type": "execute_result"
    }
   ],
   "source": [
    "test_return_bestModelObject()"
   ]
  },
  {
   "cell_type": "markdown",
   "metadata": {},
   "source": [
    "# 2022年4月17日～\n",
    "\n",
    "次のような表を作成する\n",
    "\n",
    "採用される割合 (MAPE の最大値 [%] ，MAPE の最小値 [%]) [%]\n",
    "\n",
    "| ベンチマークプログラム名 | 線形モデル               | 対数モデル               | 反比例モデル              |\n",
    "|--------------|---------------------|---------------------|---------------------|\n",
    "| str          | float(float, float) | float(float, float) | float(float, float) |\n",
    "\n",
    "\n",
    "目標となるのは一気にこのベンチマークプログラムを作成することだが、既存のライブラリ関数などを利用し、まずはベンチマークごとに作成可能にする。\n",
    "\n",
    "メモ\n",
    "\n",
    "## 実装予定\n",
    "\n",
    "1. 行方向に最小値を検出\n",
    "2. 最小値以外をNaNに変更\n",
    "3. 列方向に最小値と最大値を検出\n",
    "\n",
    "## \n"
   ]
  },
  {
   "cell_type": "markdown",
   "metadata": {},
   "source": []
  }
 ],
 "metadata": {
  "interpreter": {
   "hash": "949777d72b0d2535278d3dc13498b2535136f6dfe0678499012e853ee9abcab1"
  },
  "kernelspec": {
   "display_name": "Python 3 (ipykernel)",
   "language": "python",
   "name": "python3"
  },
  "language_info": {
   "codemirror_mode": {
    "name": "ipython",
    "version": 3
   },
   "file_extension": ".py",
   "mimetype": "text/x-python",
   "name": "python",
   "nbconvert_exporter": "python",
   "pygments_lexer": "ipython3",
   "version": "3.10.5"
  }
 },
 "nbformat": 4,
 "nbformat_minor": 4
}
