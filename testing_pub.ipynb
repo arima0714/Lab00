{
 "cells": [
  {
   "cell_type": "code",
   "execution_count": 1,
   "metadata": {},
   "outputs": [
    {
     "name": "stderr",
     "output_type": "stream",
     "text": [
      "DEBUG:__main__:hello\n"
     ]
    }
   ],
   "source": [
    "# ipynb形式のライブラリのインポート\n",
    "%run ./lib/lib.ipynb\n",
    "\n",
    "# 生データの入ったCSVファイルの保持されたディレクトリ名を格納している変数\n",
    "csvDirPath = \"./csv_files/\"\n",
    "\n",
    "# NPBのベンチマーク名のリスト\n",
    "benchmarkNames = [\"cg\", \"ep\", \"ft\", \"is\", \"lu\", \"mg\"]\n",
    "\n",
    "# LULESH ベンチマークプログラムのプロセス数・問題サイズ・イテレーション数\n",
    "lulesh_processes: list[int] = [8, 27, 64, 125, 216, 343, 512]\n",
    "lulesh_iterations: list[int] = [8, 16, 32, 64, 128, 256]\n",
    "lulesh_sizes: list[int] = [16, 24, 32, 48, 64, 128]"
   ]
  },
  {
   "cell_type": "code",
   "execution_count": 2,
   "metadata": {},
   "outputs": [
    {
     "name": "stderr",
     "output_type": "stream",
     "text": [
      "DEBUG:lib.lab_lib:hello\n"
     ]
    }
   ],
   "source": [
    "# ipynb形式のライブラリノートを.py形式に変更したものをインポート\n",
    "import lib\n",
    "import lib.lab_lib\n",
    "from lib.lab_lib import *"
   ]
  },
  {
   "cell_type": "code",
   "execution_count": null,
   "metadata": {},
   "outputs": [],
   "source": [
    "%reset"
   ]
  },
  {
   "cell_type": "code",
   "execution_count": null,
   "metadata": {},
   "outputs": [],
   "source": [
    "problem_sizes: list[str] = [\"A\", \"B\", \"C\"]\n",
    "processes: list[int] = [2, 4, 8, 16, 32, 64, 128]\n",
    "\n",
    "list_modelName: list[str] = [\n",
    "    \"modelIp\",\n",
    "    \"modelLog\",\n",
    "    \"modelLinAndIp\",\n",
    "    \"modelLinAndLog\",\n",
    "    \"modelIpAndLin\",\n",
    "    \"modelIpAndLog\",\n",
    "    \"modelLogAndLin\",\n",
    "    \"modelLogAndIp\",\n",
    "    \"modelProcessDividedByProblemSize\",\n",
    "    \"modelProblemSizeDividedByProcess\",\n",
    "    \"modelLinearSumOf2elementCombination\",\n",
    "    \"modelLinearSumOfElementCombinations\",\n",
    "    \"modelLinearSumOf2elementCombinationWithSquared\",\n",
    "    \"modelLinearSumOf2elementCombinationWithCubed\",\n",
    "    \"modelLin\"\n",
    "    # \"modelBasicTree\",\n",
    "]\n",
    "\n",
    "rawDF_cg :pd.DataFrame = return_rawDF_with_init_param(\n",
    "    benchmark_name = \"cg\",\n",
    "    classes = problem_sizes,\n",
    "    processes = processes,\n",
    "    csv_dir_path=csvDirPath\n",
    ")\n",
    "\n",
    "dfMAPE :pd.DataFrame = returnMAPEDFFromRawDF(input_rawDF=rawDF_cg, model_names_list=list_modelName)\n",
    "dfMAPEwithLowestCG :pd.DataFrame = addLowestMAPEColumn(\n",
    "    inputDF=dfMAPE, model_name_list=list_modelName, version=2\n",
    ")\n",
    "\n",
    "dfMAPEwithLowestCG"
   ]
  },
  {
   "cell_type": "code",
   "execution_count": null,
   "metadata": {},
   "outputs": [],
   "source": [
    "rawDF_mg :pd.DataFrame = return_rawDF_with_init_param(\n",
    "    benchmark_name = \"mg\",\n",
    "    classes = problem_sizes,\n",
    "    processes = processes,\n",
    "    csv_dir_path=csvDirPath\n",
    ")\n",
    "\n",
    "dfMAPE :pd.DataFrame = returnMAPEDFFromRawDF(input_rawDF=rawDF_mg, model_names_list=list_modelName)\n",
    "dfMAPEwithLowestMG :pd.DataFrame = addLowestMAPEColumn(\n",
    "    inputDF=dfMAPE, model_name_list=list_modelName, version=2\n",
    ")\n",
    "\n",
    "dfMAPEwithLowestMG"
   ]
  },
  {
   "cell_type": "code",
   "execution_count": null,
   "metadata": {},
   "outputs": [],
   "source": [
    "problem_sizes: list[str] = [\"D\"]\n",
    "processes: list[int] = [256]\n",
    "\n",
    "rawDF_cg_cDp256 :pd.DataFrame = return_rawDF_with_init_param(\n",
    "    benchmark_name = \"cg\",\n",
    "    classes = problem_sizes,\n",
    "    processes = processes,\n",
    "    csv_dir_path=csvDirPath\n",
    ")\n",
    "\n",
    "# rawDF_cg_cDp256 = rawDF_cg_cDp256.set_index(\"functionName\")\n",
    "# rawDF_cg_cDp256[\"functionCallNum\"].plot.pie()\n",
    "\n",
    "\n",
    "fig = px.pie(rawDF_cg_cDp256, values='functionCallNum', names='functionName')\n",
    "fig.show()\n"
   ]
  },
  {
   "cell_type": "code",
   "execution_count": null,
   "metadata": {},
   "outputs": [],
   "source": [
    "problem_sizes: list[str] = [\"D\"]\n",
    "processes: list[int] = [256]\n",
    "\n",
    "rawDF_ep_cDp256 :pd.DataFrame = return_rawDF_with_init_param(\n",
    "    benchmark_name = \"ep\",\n",
    "    classes = problem_sizes,\n",
    "    processes = processes,\n",
    "    csv_dir_path=csvDirPath\n",
    ")\n",
    "\n",
    "# rawDF_mg_cDp256 = rawDF_mg_cDp256.set_index(\"functionName\")\n",
    "# rawDF_mg_cDp256[\"functionCallNum\"].plot.pie()\n",
    "\n",
    "fig = px.pie(rawDF_ep_cDp256, values='functionCallNum', names='functionName')\n",
    "fig.show()\n"
   ]
  },
  {
   "cell_type": "code",
   "execution_count": null,
   "metadata": {},
   "outputs": [],
   "source": [
    "problem_sizes: list[str] = [\"D\"]\n",
    "processes: list[int] = [256]\n",
    "\n",
    "rawDF_is_cDp256 :pd.DataFrame = return_rawDF_with_init_param(\n",
    "    benchmark_name = \"is\",\n",
    "    classes = problem_sizes,\n",
    "    processes = processes,\n",
    "    csv_dir_path=csvDirPath\n",
    ")\n",
    "\n",
    "# rawDF_mg_cDp256 = rawDF_mg_cDp256.set_index(\"functionName\")\n",
    "# rawDF_mg_cDp256[\"functionCallNum\"].plot.pie()\n",
    "\n",
    "fig = px.pie(rawDF_is_cDp256, values='functionCallNum', names='functionName')\n",
    "fig.show()\n"
   ]
  },
  {
   "cell_type": "code",
   "execution_count": null,
   "metadata": {},
   "outputs": [],
   "source": [
    "problem_sizes: list[str] = [\"D\"]\n",
    "processes: list[int] = [256]\n",
    "\n",
    "rawDF_mg_cDp256 :pd.DataFrame = return_rawDF_with_init_param(\n",
    "    benchmark_name = \"mg\",\n",
    "    classes = problem_sizes,\n",
    "    processes = processes,\n",
    "    csv_dir_path=csvDirPath\n",
    ")\n",
    "\n",
    "# rawDF_mg_cDp256 = rawDF_mg_cDp256.set_index(\"functionName\")\n",
    "# rawDF_mg_cDp256[\"functionCallNum\"].plot.pie()\n",
    "\n",
    "fig = px.pie(rawDF_mg_cDp256, values='functionCallNum', names='functionName')\n",
    "fig.show()\n"
   ]
  },
  {
   "cell_type": "code",
   "execution_count": null,
   "metadata": {},
   "outputs": [],
   "source": [
    "# NPB_CG\n",
    "train_npb_processes: list[int] = [2, 4, 8, 16, 32, 64, 128]\n",
    "train_npb_sizes: list[str] = [\"A\", \"B\", \"C\"]\n",
    "\n",
    "test_npb_processes: list[int] = [256]\n",
    "test_npb_sizes: list[str] = [\"D\"]\n",
    "\n",
    "weightedMAPEatCG: float = returnWeightedMapeScoreFromCondition(\n",
    "    benchmarkName=\"cg\",\n",
    "    trainCondition={\"processes\": train_npb_processes, \"sizes\": train_npb_sizes},\n",
    "    testCondition={\"processes\": test_npb_processes, \"sizes\": test_npb_sizes},\n",
    "    list_modelName=list_modelName,\n",
    "    csvDirPath=csvDirPath,\n",
    ")\n",
    "\n",
    "weightedMAPEatCG"
   ]
  },
  {
   "cell_type": "code",
   "execution_count": null,
   "metadata": {},
   "outputs": [],
   "source": [
    "# NPB_CG\n",
    "train_npb_processes: list[int] = [2, 4, 8, 16, 32, 64, 128]\n",
    "train_npb_sizes: list[str] = [\"A\", \"B\", \"C\", \"D\", \"E\"]\n",
    "\n",
    "test_npb_processes: list[int] = [256]\n",
    "test_npb_sizes: list[str] = [\"F\"]\n",
    "\n",
    "weightedMAPEatCG: float = returnWeightedMapeScoreFromCondition(\n",
    "    benchmarkName=\"cg\",\n",
    "    trainCondition={\"processes\": train_npb_processes, \"sizes\": train_npb_sizes},\n",
    "    testCondition={\"processes\": test_npb_processes, \"sizes\": test_npb_sizes},\n",
    "    list_modelName=list_modelName,\n",
    "    csvDirPath=csvDirPath,\n",
    ")\n",
    "\n",
    "weightedMAPEatCG"
   ]
  },
  {
   "cell_type": "code",
   "execution_count": null,
   "metadata": {},
   "outputs": [],
   "source": [
    "# NPB_MG\n",
    "train_npb_processes: list[int] = [2, 4, 8, 16, 32, 64, 128]\n",
    "train_npb_sizes: list[str] = [\"A\", \"B\", \"C\"]\n",
    "\n",
    "test_npb_processes: list[int] = [256]\n",
    "test_npb_sizes: list[str] = [\"D\"]\n",
    "\n",
    "weightedMAPEatMG: float = returnWeightedMapeScoreFromCondition(\n",
    "    benchmarkName=\"mg\",\n",
    "    trainCondition={\"processes\": train_npb_processes, \"sizes\": train_npb_sizes},\n",
    "    testCondition={\"processes\": test_npb_processes, \"sizes\": test_npb_sizes},\n",
    "    list_modelName=list_modelName,\n",
    "    csvDirPath=csvDirPath,\n",
    ")\n",
    "\n",
    "weightedMAPEatMG"
   ]
  },
  {
   "cell_type": "code",
   "execution_count": null,
   "metadata": {},
   "outputs": [],
   "source": [
    "# NPB_MG\n",
    "train_npb_processes: list[int] = [2, 4, 8, 16, 32, 64, 128]\n",
    "train_npb_sizes: list[str] = [\"A\", \"B\", \"C\", \"D\"]\n",
    "\n",
    "test_npb_processes: list[int] = [256]\n",
    "test_npb_sizes: list[str] = [\"E\"]\n",
    "\n",
    "weightedMAPEatMG: float = returnWeightedMapeScoreFromCondition(\n",
    "    benchmarkName=\"mg\",\n",
    "    trainCondition={\"processes\": train_npb_processes, \"sizes\": train_npb_sizes},\n",
    "    testCondition={\"processes\": test_npb_processes, \"sizes\": test_npb_sizes},\n",
    "    list_modelName=list_modelName,\n",
    "    csvDirPath=csvDirPath,\n",
    ")\n",
    "\n",
    "weightedMAPEatMG"
   ]
  },
  {
   "cell_type": "markdown",
   "metadata": {},
   "source": [
    "***\n",
    "\n",
    "---\n",
    "\n",
    "___"
   ]
  },
  {
   "cell_type": "markdown",
   "metadata": {
    "tags": []
   },
   "source": [
    "# 2022年4月17日～\n",
    "\n",
    "次のような表を作成する\n",
    "\n",
    "採用される割合 (MAPE の最大値 [%] ，MAPE の最小値 [%]) [%]\n",
    "\n",
    "| ベンチマークプログラム名 | 線形モデル               | 対数モデル               | 反比例モデル              |\n",
    "|--------------|---------------------|---------------------|---------------------|\n",
    "| str          | float(float, float) | float(float, float) | float(float, float) |\n",
    "\n",
    "\n",
    "目標となるのは一気にこのベンチマークプログラムを作成することだが、既存のライブラリ関数などを利用し、まずはベンチマークごとに作成可能にする。\n",
    "\n",
    "メモ\n",
    "\n",
    "## 実装予定\n",
    "\n",
    "1. 行方向に最小値を検出\n",
    "2. 最小値以外をNaNに変更\n",
    "3. 列方向に最小値と最大値を検出\n",
    "\n",
    "## \n"
   ]
  },
  {
   "cell_type": "markdown",
   "metadata": {},
   "source": [
    "***\n",
    "\n",
    "---\n",
    "\n",
    "___"
   ]
  }
 ],
 "metadata": {
  "interpreter": {
   "hash": "949777d72b0d2535278d3dc13498b2535136f6dfe0678499012e853ee9abcab1"
  },
  "kernelspec": {
   "display_name": "Python 3 (ipykernel)",
   "language": "python",
   "name": "python3"
  },
  "language_info": {
   "codemirror_mode": {
    "name": "ipython",
    "version": 3
   },
   "file_extension": ".py",
   "mimetype": "text/x-python",
   "name": "python",
   "nbconvert_exporter": "python",
   "pygments_lexer": "ipython3",
   "version": "3.10.5"
  }
 },
 "nbformat": 4,
 "nbformat_minor": 4
}
