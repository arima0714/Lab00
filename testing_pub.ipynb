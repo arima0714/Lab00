{
 "cells": [
  {
   "cell_type": "code",
   "execution_count": 1,
   "metadata": {},
   "outputs": [
    {
     "name": "stderr",
     "output_type": "stream",
     "text": [
      "DEBUG:__main__:hello\n"
     ]
    }
   ],
   "source": [
    "# ipynb形式のライブラリのインポート\n",
    "%run ./lib/lib.ipynb\n",
    "\n",
    "# 生データの入ったCSVファイルの保持されたディレクトリ名を格納している変数\n",
    "csvDirPath = \"./csv_files/\"\n",
    "benchmarkNames = [\"cg\", \"ep\", \"ft\", \"is\", \"lu\", \"mg\"]"
   ]
  },
  {
   "cell_type": "code",
   "execution_count": 2,
   "metadata": {},
   "outputs": [
    {
     "name": "stderr",
     "output_type": "stream",
     "text": [
      "DEBUG:lib.lab_lib:hello\n"
     ]
    }
   ],
   "source": [
    "# ipynb形式のライブラリノートを.py形式に変更したものをインポート\n",
    "import lib\n",
    "import lib.lab_lib\n",
    "from lib.lab_lib import *"
   ]
  },
  {
   "cell_type": "markdown",
   "metadata": {},
   "source": [
    "# 2022年3月30日～\n",
    "\n",
    "## 積モデルの実装\n",
    "TODO\n",
    "* モデル式 $ T = aXYZ + b $ の実装（Model_InfiniteProductOfProblemSizeMultipliedByProcesses_ForMultipleRegression）\n",
    "    * ✅テストの実装\n",
    "    * 本実装\n",
    "* モデル式 $ T = a \\frac{YZ}{X} + b $ の実装（Model_InfiniteProductOfProblemSizeDividedByProcesses_ForMultipleRegression）\n",
    "    * ✅テストの実装\n",
    "    * 本実装\n",
    "\n",
    "（T,X,Y,Zはそれぞれ、関数コール回数,プロセス数,問題サイズ1,問題サイズ2）"
   ]
  },
  {
   "cell_type": "code",
   "execution_count": 3,
   "metadata": {},
   "outputs": [],
   "source": [
    "def test_Model_InfiniteProductOfProblemSizeMultipliedByProcesses_ForMultipleRegression():\n",
    "    \"\"\"test_Model_InfiniteProductOfProblemSizeMultipliedByProcesses_ForMultipleRegression()\n",
    "    Model_InfiniteProductOfProblemSizeMultipliedByProcesses_ForMultipleRegressionのテスト\n",
    "    \"\"\"\n",
    "\n",
    "    # 説明変数\n",
    "    plotX_1 :np.ndarray = np.linspace(10, 20, 11)\n",
    "    plotX_2 :np.ndarray = 10 * np.linspace(10, 20, 11)\n",
    "    plotX_3 :np.ndarray = 100 * np.linspace(10, 20, 11)\n",
    "    plotX_4 :np.ndarray = 1000 * np.linspace(10, 20, 11)\n",
    "    plotX_5 :np.ndarray = 10000 * np.linspace(10, 20, 11)\n",
    "    # 目的変数\n",
    "    a :int = 10\n",
    "    f :int = 50\n",
    "    plotT :np.ndarray = (a * plotX_1 * plotX_2 * plotX_3 * plotX_4 * plotX_5) + f\n",
    "\n",
    "    # DFを作成する\n",
    "    # カラム名のリスト\n",
    "    columnNames :list[str] = [\"process\", \"plotX_2\", \"plotX_3\", \"plotX_4\", \"plotX_5\", \"plotT\"]\n",
    "    datumForDF :list[np.ndarray] = [plotX_1, plotX_2, plotX_3, plotX_4, plotX_5, plotT]\n",
    "    inputDFForTest :pd.DataFrame = pd.DataFrame(index=columnNames, data=datumForDF).T\n",
    "    inputDFForTest[\"functionName\"] = \"functionName\"\n",
    "\n",
    "    # 目的変数・説明変数のカラム名のリスト\n",
    "    # 目的変数のカラム名のリスト\n",
    "    columnNamesForExp :list[str] = [\"process\", \"plotX_2\", \"plotX_3\", \"plotX_4\", \"plotX_5\"]\n",
    "    # 説明変数のカラム名のリスト\n",
    "    columnNamesForRes :list[str] = [\"plotT\"]\n",
    "\n",
    "    # 予測をする\n",
    "    # モデルオブジェクトの作成\n",
    "    objectModel = Model_InfiniteProductOfProblemSizeMultipliedByProcesses_ForMultipleRegression(\n",
    "        inputDF=inputDFForTest,\n",
    "        explanatoryVariableColumnNames=columnNamesForExp,\n",
    "        responseVariableColumnNames=columnNamesForRes,\n",
    "        conditionDictForTest={},\n",
    "    )\n",
    "    # モデルの構築\n",
    "    objectModel.build_model()\n",
    "    # モデル構築に用いたデータとのMAPEによって実装がうまくいっているかどうかの判定を行う\n",
    "    mape = objectModel.returnMAPE()\n",
    "    assert 0 <= mape < 1, f\"mape = {mape}\"\n",
    "\n",
    "def test_Model_InfiniteProductOfProblemSizeDividedByProcesses_ForMultipleRegression():\n",
    "    \"\"\"test_Model_InfiniteProductOfProblemSizeDividedByProcesses_ForMultipleRegression()\n",
    "    Model_InfiniteProductOfProblemSizeDividedByProcesses_ForMultipleRegressionのテスト\n",
    "    \"\"\"\n",
    "\n",
    "    # 説明変数\n",
    "    plotX_1 :np.ndarray = np.linspace(10, 20, 11)\n",
    "    plotX_2 :np.ndarray = 10 * np.linspace(10, 20, 11)\n",
    "    plotX_3 :np.ndarray = 100 * np.linspace(10, 20, 11)\n",
    "    plotX_4 :np.ndarray = 1000 * np.linspace(10, 20, 11)\n",
    "    plotX_5 :np.ndarray = 10000 * np.linspace(10, 20, 11)\n",
    "    # 目的変数\n",
    "    a :int = 10\n",
    "    f :int = 50\n",
    "    plotT :np.ndarray = a * (plotX_2 * plotX_3 * plotX_4 * plotX_5) / plotX_1  + f\n",
    "\n",
    "    # DFを作成する\n",
    "    # カラム名のリスト\n",
    "    columnNames :list[str] = [\"process\", \"plotX_2\", \"plotX_3\", \"plotX_4\", \"plotX_5\", \"plotT\"]\n",
    "    datumForDF :list[np.ndarray] = [plotX_1, plotX_2, plotX_3, plotX_4, plotX_5, plotT]\n",
    "    inputDFForTest :pd.DataFrame = pd.DataFrame(index=columnNames, data=datumForDF).T\n",
    "    inputDFForTest[\"functionName\"] = \"functionName\"\n",
    "\n",
    "    # 目的変数・説明変数のカラム名のリスト\n",
    "    # 目的変数のカラム名のリスト\n",
    "    columnNamesForExp :list[str] = [\"process\", \"plotX_2\", \"plotX_3\", \"plotX_4\", \"plotX_5\"]\n",
    "    # 説明変数のカラム名のリスト\n",
    "    columnNamesForRes :list[str] = [\"plotT\"]\n",
    "\n",
    "    # 予測をする\n",
    "    # モデルオブジェクトの作成\n",
    "    objectModel = Model_InfiniteProductOfProblemSizeDividedByProcesses_ForMultipleRegression(\n",
    "        inputDF=inputDFForTest,\n",
    "        explanatoryVariableColumnNames=columnNamesForExp,\n",
    "        responseVariableColumnNames=columnNamesForRes,\n",
    "        conditionDictForTest={},\n",
    "    )\n",
    "    # モデルの構築\n",
    "    objectModel.build_model()\n",
    "    # モデル構築に用いたデータとのMAPEによって実装がうまくいっているかどうかの判定を行う\n",
    "    mape = objectModel.returnMAPE()\n",
    "    assert 0 <= mape < 1, f\"mape = {mape}\""
   ]
  },
  {
   "cell_type": "code",
   "execution_count": null,
   "metadata": {},
   "outputs": [],
   "source": [
    "def test_infiniteProductOfProblemSizeMultipliedByProcesses():\n",
    "    \"\"\"test_infiniteProductOfProblemSizeMultipliedByProcesses()\n",
    "    \n",
    "    infiniteProductOfProblemSizeMultipliedByProcesses()のテスト\n",
    "    \"\"\"\n",
    "\n",
    "    list_a: list[int] = [1,2,3,4]\n",
    "    list_b: list[int] = [10, 20, 30, 40]\n",
    "    list_c: list[int] = [100, 200, 300, 400]\n",
    "\n",
    "    a :int = 5\n",
    "    f :int = 6\n",
    "\n",
    "    list_T_expect :list[int] = []\n",
    "    for i in range(len(list_a)):\n",
    "        list_T_expect.append(a*list_a[i]*list_b[i]*list_c[i]+f)\n",
    "\n",
    "    list_input_for_actually :list[list[float]] = [list_a, list_b, list_c]\n",
    "    list_T_actually :np.ndarray = infiniteProductOfProblemSizeMultipliedByProcesses(\n",
    "        list_input_for_actually, a, f\n",
    "    )\n",
    "\n",
    "    assert (list_T_expect == list_T_actually), f\"expect={list_T_expect}, actually={list_T_actually}\"\n",
    "    \n",
    "def test_infiniteProductOfProblemSizeDividedByProcesses():\n",
    "    \"\"\"test_infiniteProductOfProblemSizeDividedByProcesses()\n",
    "    \n",
    "    infiniteProductOfProblemSizeDividedByProcesses()のテスト\n",
    "    \"\"\"\n",
    "\n",
    "    list_a :list[int] = [1,2,3,4]\n",
    "    list_b :list[int] = [10, 20, 30, 40]\n",
    "    list_c :list[int] = [100, 200, 300, 400]\n",
    "\n",
    "    a :int = 5\n",
    "    f :int = 6\n",
    "\n",
    "    list_T_expect :list[float] = []\n",
    "    for i in range(len(list_a)):\n",
    "        list_T_expect.append( a * (list_b[i] * list_c[i]) / (list_a[i]) + f)\n",
    "\n",
    "    list_input_for_actually :list[list[int]] = [list_a, list_b, list_c]\n",
    "    list_T_actually :np.ndarray = infiniteProductOfProblemSizeDividedByProcesses(\n",
    "        list_input_for_actually, a, f\n",
    "    )\n",
    "\n",
    "    assert (list_T_expect == list_T_actually), f\"expect={list_T_expect}, actually={list_T_actually}\""
   ]
  },
  {
   "cell_type": "code",
   "execution_count": null,
   "metadata": {},
   "outputs": [],
   "source": [
    "test_infiniteProductOfProblemSizeMultipliedByProcesses()\n",
    "test_infiniteProductOfProblemSizeDividedByProcesses()\n",
    "test_Model_InfiniteProductOfProblemSizeMultipliedByProcesses_ForMultipleRegression()\n",
    "test_Model_InfiniteProductOfProblemSizeDividedByProcesses_ForMultipleRegression()"
   ]
  }
 ],
 "metadata": {
  "kernelspec": {
   "display_name": "Python 3 (ipykernel)",
   "language": "python",
   "name": "python3"
  },
  "language_info": {
   "codemirror_mode": {
    "name": "ipython",
    "version": 3
   },
   "file_extension": ".py",
   "mimetype": "text/x-python",
   "name": "python",
   "nbconvert_exporter": "python",
   "pygments_lexer": "ipython3",
   "version": "3.10.0"
  }
 },
 "nbformat": 4,
 "nbformat_minor": 4
}
