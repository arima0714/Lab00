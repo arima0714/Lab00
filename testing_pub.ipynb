{
 "cells": [
  {
   "cell_type": "code",
   "execution_count": 1,
   "metadata": {},
   "outputs": [],
   "source": [
    "jupyter_pwd = %pwd\n",
    "if jupyter_pwd == \"/\":\n",
    "    %cd /workspace\n"
   ]
  },
  {
   "cell_type": "code",
   "execution_count": 2,
   "metadata": {},
   "outputs": [
    {
     "name": "stderr",
     "output_type": "stream",
     "text": [
      "DEBUG:__main__:hello\n"
     ]
    }
   ],
   "source": [
    "# ipynb形式のライブラリのインポート\n",
    "%run ./lib/lib.ipynb\n",
    "\n",
    "# 生データの入ったCSVファイルの保持されたディレクトリ名を格納している変数\n",
    "csvDirPath = \"./csv_files/\"\n",
    "\n",
    "# NPBのベンチマーク名のリスト\n",
    "benchmarkNames = [\"cg\", \"ep\", \"ft\", \"is\", \"lu\", \"mg\"]\n",
    "\n",
    "# LULESH ベンチマークプログラムのプロセス数・問題サイズ・イテレーション数\n",
    "lulesh_processes: list[int] = [8, 27, 64, 125, 216, 343, 512]\n",
    "lulesh_iterations: list[int] = [8, 16, 32, 64, 128, 256]\n",
    "lulesh_sizes: list[int] = [16, 24, 32, 48, 64, 128]"
   ]
  },
  {
   "cell_type": "code",
   "execution_count": 3,
   "metadata": {},
   "outputs": [
    {
     "name": "stderr",
     "output_type": "stream",
     "text": [
      "DEBUG:lib.lab_lib:hello\n"
     ]
    }
   ],
   "source": [
    "# ipynb形式のライブラリノートを.py形式に変更したものをインポート\n",
    "import lib\n",
    "import lib.lab_lib\n",
    "from lib.lab_lib import *"
   ]
  },
  {
   "cell_type": "code",
   "execution_count": null,
   "metadata": {},
   "outputs": [],
   "source": [
    "def add_relativeErrorRateCol(inputDF :pd.DataFrame, real_colName :str, predicted_colName :str, targetColName :str) -> pd.DataFrame:\n",
    "    \"\"\"入力DFに指定された列からなる相対誤差率を計算した列を追加する関数\n",
    "    \n",
    "    Args:\n",
    "        inputDF(pd.DataFrame):入力DF\n",
    "        l1_colName(str):列名1\n",
    "        l2_colName(str):列名2\n",
    "        targetColName(str):相対誤差率を保持した列名\n",
    "    \"\"\"\n",
    "    return pd.DataFrame()\n",
    "\n",
    "def test_add_relativeErrorRateCol():\n",
    "    \"\"\"add_relativeErrorRateCol()のテスト\n",
    "    \"\"\"\n",
    "    sq1 :list[int] = [1, 2, 3, 4, 5]\n",
    "    sq2 :list[int] = [6, 7, 8, 9, 10]\n",
    "    colNames :list[str] = [\"sq1\", \"sq2\"]\n",
    "    datumForDF :list[list[int]] = [sq1, sq2]\n",
    "    inputDFForTest :pd.DataFrame = pd.DataFrame(index=colNames, data=datumForDF).T\n",
    "    \n",
    "    real_colName :str = colNames[0]\n",
    "    predicted_colName :str = colNames[1]\n",
    "    targetColName :str = \"targetColName\"\n",
    "    targetCol :list[float] = [(6-1)/1 * 100, (7-2)/2 * 100, (8-3)/3 * 100, (9-4)/4 * 100, (10-5)/5*100]\n",
    "    \n",
    "    expected :pd.DataFrame = pd.DataFrame(index=[\"sq1\", \"sq2\", \"targetColName\"], data=[sq1, sq2, targetCol]).T\n",
    "    actually :pd.DataFrame = add_relativeErrorRate(inputDF=inputDFForTest, real_colName=real_colName, predicted_colName=predicted_colName, targetColName=targetColName)\n",
    "    \n",
    "    assert actually.equals(expected), f\"actually.head() = \\n{actually.head()}expected.head() = \\n{expected.head()}\"\n",
    "    \n",
    "def returnRelativeErrorRate(real :float|int, predicted :float|int)->float:\n",
    "    \"\"\"相対誤差率を算出する関数\n",
    "    \n",
    "    Args:\n",
    "        real(float|int):実測値\n",
    "        predicted(float|int):予測値\n",
    "        \n",
    "    Return:\n",
    "        float: 相対誤差率（単位：％）\n",
    "    \"\"\"\n",
    "    \n",
    "    return abs(real - predicted)/real * 100\n",
    "\n",
    "def returnRelativeErrorRateList(real :list[float|int], predicted :list[float|int])->list[float]:\n",
    "    \"\"\"相対誤差率のリストを算出する関数\n",
    "    \n",
    "    Args:\n",
    "        real(list[float|int]):実測値のリスト\n",
    "        predicted(list[float|int]):予測値のリスト\n",
    "        \n",
    "    Return:\n",
    "        list[float]: 相対誤差率（単位：％）のリスト\n",
    "    \"\"\"\n",
    "    \n",
    "    if len(real) != len(predicted):\n",
    "        warnings.warn(\"引数のリストの長さが異なります\")\n",
    "    else:\n",
    "        return_list :list[float] = []\n",
    "        for i in range(len(real)):\n",
    "            real_num :float|int = real[i]\n",
    "            predicted_num :float|int = predicted[i]\n",
    "            relativeErrorRate :float = returnRelativeErrorRate(real=real_num, predicted=predicted_num)\n",
    "            return_list.append(relativeErrorRate)\n",
    "    return return_list\n",
    "\n",
    "def test_returnRelativeErrorRateList():\n",
    "    \"\"\"returnRelativeErrorRateList()のテスト\n",
    "    \"\"\"\n",
    "    \n",
    "    sq1 :list[int] = [1, 2, 3, 4, 5]\n",
    "    sq2 :list[int] = [6, 7, 8, 9, 10]\n",
    "    expected :list[float] = [(1-6)/6 * 100, (2-7)/7 * 100, (3-8)/8 * 100, (4-9)/9 *100, (5-10)/10 * 100]\n",
    "    actually :list[float] = returnRelativeErrorRateList(real=sq2, predicted=sq1)\n",
    "    \n",
    "    assert expected == actually, f\"expected=\\n{expected}\\nactually=\\n{actually}\"}\n",
    "    "
   ]
  },
  {
   "cell_type": "code",
   "execution_count": null,
   "metadata": {},
   "outputs": [],
   "source": [
    "%reset"
   ]
  },
  {
   "cell_type": "markdown",
   "metadata": {},
   "source": [
    "***\n",
    "\n",
    "---\n",
    "\n",
    "___"
   ]
  },
  {
   "cell_type": "markdown",
   "metadata": {
    "tags": []
   },
   "source": [
    "# 2022年4月17日～\n",
    "\n",
    "次のような表を作成する\n",
    "\n",
    "採用される割合 (MAPE の最大値 [%] ，MAPE の最小値 [%]) [%]\n",
    "\n",
    "| ベンチマークプログラム名 | 線形モデル               | 対数モデル               | 反比例モデル              |\n",
    "|--------------|---------------------|---------------------|---------------------|\n",
    "| str          | float(float, float) | float(float, float) | float(float, float) |\n",
    "\n",
    "\n",
    "目標となるのは一気にこのベンチマークプログラムを作成することだが、既存のライブラリ関数などを利用し、まずはベンチマークごとに作成可能にする。\n",
    "\n",
    "メモ\n",
    "\n",
    "## 実装予定\n",
    "\n",
    "1. 行方向に最小値を検出\n",
    "2. 最小値以外をNaNに変更\n",
    "3. 列方向に最小値と最大値を検出\n",
    "\n",
    "## \n"
   ]
  },
  {
   "cell_type": "markdown",
   "metadata": {},
   "source": [
    "***\n",
    "\n",
    "---\n",
    "\n",
    "___"
   ]
  }
 ],
 "metadata": {
  "interpreter": {
   "hash": "949777d72b0d2535278d3dc13498b2535136f6dfe0678499012e853ee9abcab1"
  },
  "kernelspec": {
   "display_name": "Python 3 (ipykernel)",
   "language": "python",
   "name": "python3"
  },
  "language_info": {
   "codemirror_mode": {
    "name": "ipython",
    "version": 3
   },
   "file_extension": ".py",
   "mimetype": "text/x-python",
   "name": "python",
   "nbconvert_exporter": "python",
   "pygments_lexer": "ipython3",
   "version": "3.10.7"
  }
 },
 "nbformat": 4,
 "nbformat_minor": 4
}
