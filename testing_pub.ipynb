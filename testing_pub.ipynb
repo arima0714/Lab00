{
 "cells": [
  {
   "cell_type": "code",
   "execution_count": 1,
   "metadata": {},
   "outputs": [
    {
     "name": "stderr",
     "output_type": "stream",
     "text": [
      "DEBUG:__main__:hello\n"
     ]
    }
   ],
   "source": [
    "# ipynb形式のライブラリのインポート\n",
    "%run ./lib/lib.ipynb\n",
    "\n",
    "# 生データの入ったCSVファイルの保持されたディレクトリ名を格納している変数\n",
    "csvDirPath = \"./csv_files/\"\n",
    "benchmarkNames = [\"cg\", \"ep\", \"ft\", \"is\", \"lu\", \"mg\"]"
   ]
  },
  {
   "cell_type": "code",
   "execution_count": 2,
   "metadata": {},
   "outputs": [
    {
     "name": "stderr",
     "output_type": "stream",
     "text": [
      "DEBUG:lib.lab_lib:hello\n"
     ]
    }
   ],
   "source": [
    "# ipynb形式のライブラリノートを.py形式に変更したものをインポート\n",
    "import lib\n",
    "import lib.lab_lib\n",
    "from lib.lab_lib import *"
   ]
  },
  {
   "cell_type": "markdown",
   "metadata": {},
   "source": [
    "# 2022年3月30日～\n",
    "\n",
    "## 積モデルの実装\n",
    "TODO\n",
    "* モデル式 $ T = aXYZ + b $ の実装（Model_InfiniteProductOfProblemSizeMultipliedByProcesses_ForMultipleRegression）\n",
    "    * ✅テストの実装\n",
    "    * ✅本実装\n",
    "* モデル式 $ T = a \\frac{YZ}{X} + b $ の実装（Model_InfiniteProductOfProblemSizeDividedByProcesses_ForMultipleRegression）\n",
    "    * ✅テストの実装\n",
    "    * ✅本実装\n",
    "* 上記のモデルにおいてMAPE表を作成する\n",
    "    * Modelsクラスに追加実装\n",
    "        * モデル式 $ T = aXYZ + b $\n",
    "        * モデル式 $ T = a \\frac{YZ}{X} + b $\n",
    "    * 表への追加\n",
    "        * モデル式 $ T = aXYZ + b $\n",
    "        * モデル式 $ T = a \\frac{YZ}{X} + b $\n",
    "\n",
    "（T,X,Y,Zはそれぞれ、関数コール回数,プロセス数,問題サイズ1,問題サイズ2）"
   ]
  }
 ],
 "metadata": {
  "kernelspec": {
   "display_name": "Python 3 (ipykernel)",
   "language": "python",
   "name": "python3"
  },
  "language_info": {
   "codemirror_mode": {
    "name": "ipython",
    "version": 3
   },
   "file_extension": ".py",
   "mimetype": "text/x-python",
   "name": "python",
   "nbconvert_exporter": "python",
   "pygments_lexer": "ipython3",
   "version": "3.10.0"
  }
 },
 "nbformat": 4,
 "nbformat_minor": 4
}
