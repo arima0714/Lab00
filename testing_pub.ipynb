{
 "cells": [
  {
   "cell_type": "code",
   "execution_count": 15,
   "metadata": {},
   "outputs": [
    {
     "name": "stderr",
     "output_type": "stream",
     "text": [
      "DEBUG:__main__:hello\n"
     ]
    }
   ],
   "source": [
    "# ipynb形式のライブラリのインポート\n",
    "%run ./lib/lib.ipynb\n",
    "\n",
    "# 生データの入ったCSVファイルの保持されたディレクトリ名を格納している変数\n",
    "csvDirPath = \"./csv_files/\"\n",
    "\n",
    "# NPBのベンチマーク名のリスト\n",
    "benchmarkNames = [\"cg\", \"ep\", \"ft\", \"is\", \"lu\", \"mg\"]\n",
    "\n",
    "# LULESH ベンチマークプログラムのプロセス数・問題サイズ・イテレーション数\n",
    "lulesh_processes: list[int] = [8, 27, 64, 125, 216, 343, 512]\n",
    "lulesh_iterations: list[int] = [8, 16, 32, 64, 128, 256]\n",
    "lulesh_sizes: list[int] = [16, 24, 32, 48, 64, 128]"
   ]
  },
  {
   "cell_type": "code",
   "execution_count": 16,
   "metadata": {},
   "outputs": [],
   "source": [
    "# ipynb形式のライブラリノートを.py形式に変更したものをインポート\n",
    "import lib\n",
    "import lib.lab_lib\n",
    "from lib.lab_lib import *"
   ]
  },
  {
   "cell_type": "markdown",
   "metadata": {},
   "source": [
    "# 2022年6月8日\n",
    "\n",
    "重み付きMAPEを算出する関数を実装"
   ]
  },
  {
   "cell_type": "code",
   "execution_count": 17,
   "metadata": {},
   "outputs": [],
   "source": [
    "def calcWeightedMAPEscore(\n",
    "    inputDF :pd.DataFrame,\n",
    "    inputColumnDict :dict,\n",
    ") -> float:\n",
    "    return -1\n",
    "\n",
    "def test_calcWeightedMAPEscore():\n",
    "    関数名 :list[str]= [\"name0\", \"name1\", \"name2\", \"name3\"]\n",
    "    inputColumnDict = {\"funcName\":\"関数名\", \"call\":\"コール回数\", \"MAPE\":\"MAPE\"}\n",
    "    # テストケース1\n",
    "    コール回数 :list[float] = [1, 2, 3, 4]\n",
    "    MAPE :list[float] = [1, 2, 3, 4]\n",
    "    inputDF :pd.DataFrame = pd.DataFrame.from_dict({\"関数名\":関数名, \"コール回数\":コール回数, \"MAPE\":MAPE})\n",
    "    expected_result = 3.0\n",
    "    actually_result = calcWeightedMAPEscore(inputDF = inputDF, inputColumnDict=inputColumnDict)\n",
    "    print(inputDF)\n",
    "    assert expected_result == actually_result, f\"expected_result={expected_result},actually_result={actually_result}\"\n",
    "    # テストケース2\n",
    "    コール回数 :list[float] = [5,4,3,2]\n",
    "    MAPE :list[float] = [7,7,7,7]\n",
    "    inputDF :pd.DataFrame = pd.DataFrame.from_dict({\"関数名\":関数名, \"コール回数\":コール回数, \"MAPE\":MAPE})\n",
    "    expected_result = 7.0\n",
    "    actually_result = calcWeightedMAPEscore(inputDF = inputDF, inputColumnDict=inputColumnDict)\n",
    "    print(inputDF)\n",
    "    assert expected_result == actually_result, f\"expected_result={expected_result},actually_result={actually_result}\"\n",
    "    # テストケース3\n",
    "    コール回数 :list[float] = [1,2,3,4]\n",
    "    MAPE :list[float] = [5,4,3,2]\n",
    "    inputDF :pd.DataFrame = pd.DataFrame.from_dict({\"関数名\":関数名, \"コール回数\":コール回数, \"MAPE\":MAPE})\n",
    "    expected_result = 7.0\n",
    "    actually_result = calcWeightedMAPEscore(inputDF = inputDF, inputColumnDict=inputColumnDict)\n",
    "    print(inputDF)\n",
    "    assert expected_result == actually_result, f\"expected_result={expected_result},actually_result={actually_result}\"\n"
   ]
  },
  {
   "cell_type": "code",
   "execution_count": 18,
   "metadata": {},
   "outputs": [
    {
     "name": "stdout",
     "output_type": "stream",
     "text": [
      "     関数名  コール回数  MAPE\n",
      "0  name0      1     1\n",
      "1  name1      2     2\n",
      "2  name2      3     3\n",
      "3  name3      4     4\n"
     ]
    },
    {
     "ename": "AssertionError",
     "evalue": "expected_result=3.0,actually_result=-1",
     "output_type": "error",
     "traceback": [
      "\u001b[0;31m---------------------------------------------------------------------------\u001b[0m",
      "\u001b[0;31mAssertionError\u001b[0m                            Traceback (most recent call last)",
      "\u001b[1;32m/workspace/testing_pub.ipynb Cell 5'\u001b[0m in \u001b[0;36m<cell line: 1>\u001b[0;34m()\u001b[0m\n\u001b[0;32m----> <a href='vscode-notebook-cell://dev-container%2B633a5c55736572735c757365725c446f63756d656e74735c4c61623030/workspace/testing_pub.ipynb#ch0000004vscode-remote?line=0'>1</a>\u001b[0m test_calcWeightedMAPEscore()\n",
      "\u001b[1;32m/workspace/testing_pub.ipynb Cell 4'\u001b[0m in \u001b[0;36mtest_calcWeightedMAPEscore\u001b[0;34m()\u001b[0m\n\u001b[1;32m     <a href='vscode-notebook-cell://dev-container%2B633a5c55736572735c757365725c446f63756d656e74735c4c61623030/workspace/testing_pub.ipynb#ch0000003vscode-remote?line=14'>15</a>\u001b[0m actually_result \u001b[39m=\u001b[39m calcWeightedMAPEscore(inputDF \u001b[39m=\u001b[39m inputDF, inputColumnDict\u001b[39m=\u001b[39minputColumnDict)\n\u001b[1;32m     <a href='vscode-notebook-cell://dev-container%2B633a5c55736572735c757365725c446f63756d656e74735c4c61623030/workspace/testing_pub.ipynb#ch0000003vscode-remote?line=15'>16</a>\u001b[0m \u001b[39mprint\u001b[39m(inputDF)\n\u001b[0;32m---> <a href='vscode-notebook-cell://dev-container%2B633a5c55736572735c757365725c446f63756d656e74735c4c61623030/workspace/testing_pub.ipynb#ch0000003vscode-remote?line=16'>17</a>\u001b[0m \u001b[39massert\u001b[39;00m expected_result \u001b[39m==\u001b[39m actually_result, \u001b[39mf\u001b[39m\u001b[39m\"\u001b[39m\u001b[39mexpected_result=\u001b[39m\u001b[39m{\u001b[39;00mexpected_result\u001b[39m}\u001b[39;00m\u001b[39m,actually_result=\u001b[39m\u001b[39m{\u001b[39;00mactually_result\u001b[39m}\u001b[39;00m\u001b[39m\"\u001b[39m\n\u001b[1;32m     <a href='vscode-notebook-cell://dev-container%2B633a5c55736572735c757365725c446f63756d656e74735c4c61623030/workspace/testing_pub.ipynb#ch0000003vscode-remote?line=17'>18</a>\u001b[0m \u001b[39m# テストケース2\u001b[39;00m\n\u001b[1;32m     <a href='vscode-notebook-cell://dev-container%2B633a5c55736572735c757365725c446f63756d656e74735c4c61623030/workspace/testing_pub.ipynb#ch0000003vscode-remote?line=18'>19</a>\u001b[0m コール回数 :\u001b[39mlist\u001b[39m[\u001b[39mfloat\u001b[39m] \u001b[39m=\u001b[39m [\u001b[39m5\u001b[39m,\u001b[39m4\u001b[39m,\u001b[39m3\u001b[39m,\u001b[39m2\u001b[39m]\n",
      "\u001b[0;31mAssertionError\u001b[0m: expected_result=3.0,actually_result=-1"
     ]
    }
   ],
   "source": [
    "test_calcWeightedMAPEscore()"
   ]
  },
  {
   "cell_type": "markdown",
   "metadata": {},
   "source": [
    "# 2022年4月17日～\n",
    "\n",
    "次のような表を作成する\n",
    "\n",
    "採用される割合 (MAPE の最大値 [%] ，MAPE の最小値 [%]) [%]\n",
    "\n",
    "| ベンチマークプログラム名 | 線形モデル               | 対数モデル               | 反比例モデル              |\n",
    "|--------------|---------------------|---------------------|---------------------|\n",
    "| str          | float(float, float) | float(float, float) | float(float, float) |\n",
    "\n",
    "\n",
    "目標となるのは一気にこのベンチマークプログラムを作成することだが、既存のライブラリ関数などを利用し、まずはベンチマークごとに作成可能にする。\n",
    "\n",
    "メモ\n",
    "\n",
    "## 実装予定\n",
    "\n",
    "1. 行方向に最小値を検出\n",
    "2. 最小値以外をNaNに変更\n",
    "3. 列方向に最小値と最大値を検出\n",
    "\n",
    "## \n"
   ]
  },
  {
   "cell_type": "markdown",
   "metadata": {},
   "source": []
  }
 ],
 "metadata": {
  "interpreter": {
   "hash": "949777d72b0d2535278d3dc13498b2535136f6dfe0678499012e853ee9abcab1"
  },
  "kernelspec": {
   "display_name": "Python 3 (ipykernel)",
   "language": "python",
   "name": "python3"
  },
  "language_info": {
   "codemirror_mode": {
    "name": "ipython",
    "version": 3
   },
   "file_extension": ".py",
   "mimetype": "text/x-python",
   "name": "python",
   "nbconvert_exporter": "python",
   "pygments_lexer": "ipython3",
   "version": "3.10.5"
  }
 },
 "nbformat": 4,
 "nbformat_minor": 4
}
