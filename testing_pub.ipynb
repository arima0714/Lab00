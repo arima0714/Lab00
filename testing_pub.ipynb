{
 "cells": [
  {
   "cell_type": "code",
   "execution_count": 1,
   "metadata": {},
   "outputs": [
    {
     "name": "stderr",
     "output_type": "stream",
     "text": [
      "DEBUG:__main__:hello\n"
     ]
    }
   ],
   "source": [
    "# ipynb形式のライブラリのインポート\n",
    "%run ./lib/lib.ipynb\n",
    "\n",
    "# 生データの入ったCSVファイルの保持されたディレクトリ名を格納している変数\n",
    "csvDirPath = \"./csv_files/\"\n",
    "\n",
    "# NPBのベンチマーク名のリスト\n",
    "benchmarkNames = [\"cg\", \"ep\", \"ft\", \"is\", \"lu\", \"mg\"]\n",
    "\n",
    "# LULESH ベンチマークプログラムのプロセス数・問題サイズ・イテレーション数\n",
    "lulesh_processes: list[int] = [8, 27, 64, 125, 216, 343, 512]\n",
    "lulesh_iterations: list[int] = [8, 16, 32, 64, 128, 256]\n",
    "lulesh_sizes: list[int] = [16, 24, 32, 48, 64, 128]"
   ]
  },
  {
   "cell_type": "code",
   "execution_count": 2,
   "metadata": {},
   "outputs": [
    {
     "name": "stderr",
     "output_type": "stream",
     "text": [
      "DEBUG:lib.lab_lib:hello\n"
     ]
    }
   ],
   "source": [
    "# ipynb形式のライブラリノートを.py形式に変更したものをインポート\n",
    "import lib\n",
    "import lib.lab_lib\n",
    "from lib.lab_lib import *"
   ]
  },
  {
   "cell_type": "code",
   "execution_count": 3,
   "metadata": {},
   "outputs": [],
   "source": [
    "date: str = \"2022年8月12日\"\n",
    "\n",
    "list_modelName: list[str] = [\n",
    "    \"modelIp\",\n",
    "    \"modelLog\",\n",
    "    \"modelLinAndIp\",\n",
    "    \"modelLinAndLog\",\n",
    "    \"modelIpAndLin\",\n",
    "    \"modelIpAndLog\",\n",
    "    \"modelLogAndLin\",\n",
    "    \"modelLogAndIp\",\n",
    "    \"modelProcessDividedByProblemSize\",\n",
    "    \"modelProblemSizeDividedByProcess\",\n",
    "    \"modelLinearSumOf2elementCombination\",\n",
    "    \"modelLinearSumOfElementCombinations\",\n",
    "    \"modelLinearSumOf2elementCombinationWithSquared\",\n",
    "    \"modelLinearSumOf2elementCombinationWithCubed\",\n",
    "    \"modelLin\"\n",
    "    # \"modelBasicTree\",\n",
    "]\n",
    "\n",
    "input_list_process: list[int] = [2, 4, 8, 16, 32, 64, 128]\n",
    "target_list_process: list[int] = [256]\n",
    "\n",
    "cg_input_list_na: list[int] = [14000, 30000, 75000, 100000]\n",
    "cg_input_list_nonzer: list[int] = [11, 12, 13, 14, 15, 18]\n",
    "cg_input_list_niter: list[int] = [15, 30, 75, 90]\n",
    "cg_input_list_shift: list[int] = [20, 40, 60, 80, 110]\n",
    "\n",
    "cg_target_list_na: list[int] = [1500000]\n",
    "cg_target_list_nonzer: list[int] = [21]\n",
    "cg_target_list_niter: list[int] = [100]\n",
    "cg_target_list_shift: list[int] = [200]\n",
    "\n",
    "mg_input_list_problem_size: list[int] = [32, 64, 128, 256]\n",
    "mg_input_list_nit: list[int] = [4, 10, 20, 35]\n",
    "\n",
    "mg_target_list_problem_size: list[int] = [512]\n",
    "mg_target_list_nit: list[int] = [50]"
   ]
  },
  {
   "cell_type": "code",
   "execution_count": 4,
   "metadata": {},
   "outputs": [],
   "source": [
    "from statistics import LinearRegression\n",
    "\n",
    "\n",
    "class Model_squareRootOfProcess_ForMultipleRegression(ModelBaseForMultipleRegression):\n",
    "    \"\"\"プロセス数を表す説明変数に平方根をかけたモデル\n",
    "\n",
    "    Y = a * X ** 1/2 + b\n",
    "\n",
    "    Attributes:\n",
    "        explanatoryVariableColumnNames (list[str]): 説明変数の列名のリスト\n",
    "        rawExplanatoryVariable (pd.DataFrame): 説明変数のデータフレーム\n",
    "        rawExplanatoryVariableForTest (pd.DataFrame): テスト用の説明変数のデータフレーム。説明変数のデータフレームと同様の値が入っている(?)\n",
    "        rawResponseVariable (pd.DataFrame): 目的変数のデータフレーム\n",
    "        rawResponseVariableForTest (pd.DataFrame): テスト用の目的変数のデータフレーム。目的変数のデータフレームと同様の値が入っている(?)\n",
    "        responseVariableColumnNames (list[str]): 目的変数の列名のリスト\n",
    "\n",
    "    \"\"\"\n",
    "\n",
    "    def build_model(self) -> bool:\n",
    "        \"\"\"build_model(self) -> bool\n",
    "        \n",
    "        オブジェクトの初期化時に生成された、インスタンスの説明変数およびインスタンスの目的変数からモデルを構築する\n",
    "        \"\"\"\n",
    "\n",
    "        df_mid_var :pd.DataFrame = self.process_df(\n",
    "            inputDF = self.rawExplanaoryVariable\n",
    "        )\n",
    "        self.lr = LinearRegression()\n",
    "        self.lr.fit(df_mid_var, self.rawResponseVariable)\n",
    "\n",
    "        return True\n",
    "\n",
    "    def process_df(self, inputDF:pd.DataFrame) -> pd.DataFrame:\n",
    "        \"\"\"process_df(self, inputDF:pd.DataFrame) -> pd.DataFrame\n",
    "\n",
    "        inputDF内にあるprocess列を1/2乗した列を追加する\n",
    "        \n",
    "        Args:\n",
    "            inputDF (pd.DataFrame) : 入力DF\n",
    "\n",
    "        \"\"\"\n",
    "\n",
    "        returnDF :pd.DataFrame = inputDF.copy(deep=True)\n",
    "        returnDF[\"square_root_of_process\"] = np.sqrt( returnDF[\"process\"] )\n",
    "        reutrnDF = returnDF.drop(\"process\", axis=1)\n",
    "\n",
    "        return returnDF\n",
    "\n",
    "\n",
    "def test_Model_squareRootOfProcess_ForMultipleRegression():\n",
    "    \"\"\"test_Model_squareRootOfProcess_ForMultipleRegression()\n",
    "\n",
    "    クラスModel_squareRootOfProcess_ForMultipleRegressionのテスト\n",
    "    \"\"\"\n",
    "\n",
    "    # 説明変数\n",
    "    plot_process: np.ndarray = np.linspace(10, 20, 11)\n",
    "    plot_other: np.ndarray = -1 * plot_process\n",
    "    plot_other2 : np.ndarray = 5 * plot_process\n",
    "\n",
    "    # 切片・係数\n",
    "    a :int = 8\n",
    "    b : int = -37\n",
    "\n",
    "    # 目的変数\n",
    "    plot_call: np.ndarray = np.sqrt(plot_process)\n",
    "\n",
    "    # DFの作成\n",
    "    columnNames: list[str] = [\"process\", \"plot_other\", \"plot_other2\", \"plot_call\"]\n",
    "    datumForDF: list[np.ndarray] = [plot_process, plot_other, plot_other2, plot_call]\n",
    "    inputDFForTest :pd.DataFrame = pd.DataFrame(index=columnNames, data=datumForDF).T\n",
    "    inputDFForTest[\"functionName\"] = \"functionName\"\n",
    "\n",
    "    # 説明変数のカラム名のリスト\n",
    "    columnNamesForExp :list[str] = [\"process\", \"plot_other\", \"plot_other2\"]\n",
    "    # 目的変数のカラム名のリスト\n",
    "    columnNamesForRes :list[str] = [\"plot_call\"]\n",
    "\n",
    "    # 予測の実施\n",
    "    objectModel = Model_squareRootOfProcess_ForMultipleRegression(\n",
    "        inputDF = inputDFForTest,\n",
    "        explanatoryVariableColumnNames = columnNamesForExp,\n",
    "        responseVariableColumnNames = columnNamesForRes,\n",
    "        conditionDictForTest={},\n",
    "    )\n",
    "    \n",
    "    # モデルの構築\n",
    "    objectModel.build_model()\n",
    "    # モデル構築に用いたデータと予測されたデータとのMAPEを比較して、実装ができているかを確認\n",
    "    mape :float = objectModel.returnMAPE()\n",
    "    assert 0 <= mape < 1, f\"mape = {mape}\""
   ]
  },
  {
   "cell_type": "code",
   "execution_count": 5,
   "metadata": {},
   "outputs": [
    {
     "ename": "TypeError",
     "evalue": "LinearRegression.__new__() missing 2 required positional arguments: 'slope' and 'intercept'",
     "output_type": "error",
     "traceback": [
      "\u001b[0;31m---------------------------------------------------------------------------\u001b[0m",
      "\u001b[0;31mTypeError\u001b[0m                                 Traceback (most recent call last)",
      "Input \u001b[0;32mIn [5]\u001b[0m, in \u001b[0;36m<cell line: 1>\u001b[0;34m()\u001b[0m\n\u001b[0;32m----> 1\u001b[0m \u001b[43mtest_Model_squareRootOfProcess_ForMultipleRegression\u001b[49m\u001b[43m(\u001b[49m\u001b[43m)\u001b[49m\n",
      "Input \u001b[0;32mIn [4]\u001b[0m, in \u001b[0;36mtest_Model_squareRootOfProcess_ForMultipleRegression\u001b[0;34m()\u001b[0m\n\u001b[1;32m     80\u001b[0m objectModel \u001b[38;5;241m=\u001b[39m Model_squareRootOfProcess_ForMultipleRegression(\n\u001b[1;32m     81\u001b[0m     inputDF \u001b[38;5;241m=\u001b[39m inputDFForTest,\n\u001b[1;32m     82\u001b[0m     explanatoryVariableColumnNames \u001b[38;5;241m=\u001b[39m columnNamesForExp,\n\u001b[1;32m     83\u001b[0m     responseVariableColumnNames \u001b[38;5;241m=\u001b[39m columnNamesForRes,\n\u001b[1;32m     84\u001b[0m     conditionDictForTest\u001b[38;5;241m=\u001b[39m{},\n\u001b[1;32m     85\u001b[0m )\n\u001b[1;32m     87\u001b[0m \u001b[38;5;66;03m# モデルの構築\u001b[39;00m\n\u001b[0;32m---> 88\u001b[0m \u001b[43mobjectModel\u001b[49m\u001b[38;5;241;43m.\u001b[39;49m\u001b[43mbuild_model\u001b[49m\u001b[43m(\u001b[49m\u001b[43m)\u001b[49m\n\u001b[1;32m     89\u001b[0m \u001b[38;5;66;03m# モデル構築に用いたデータと予測されたデータとのMAPEを比較して、実装ができているかを確認\u001b[39;00m\n\u001b[1;32m     90\u001b[0m mape :\u001b[38;5;28mfloat\u001b[39m \u001b[38;5;241m=\u001b[39m objectModel\u001b[38;5;241m.\u001b[39mreturnMAPE()\n",
      "Input \u001b[0;32mIn [4]\u001b[0m, in \u001b[0;36mModel_squareRootOfProcess_ForMultipleRegression.build_model\u001b[0;34m(self)\u001b[0m\n\u001b[1;32m     20\u001b[0m \u001b[38;5;124;03m\"\"\"build_model(self) -> bool\u001b[39;00m\n\u001b[1;32m     21\u001b[0m \u001b[38;5;124;03m\u001b[39;00m\n\u001b[1;32m     22\u001b[0m \u001b[38;5;124;03mオブジェクトの初期化時に生成された、インスタンスの説明変数およびインスタンスの目的変数からモデルを構築する\u001b[39;00m\n\u001b[1;32m     23\u001b[0m \u001b[38;5;124;03m\"\"\"\u001b[39;00m\n\u001b[1;32m     25\u001b[0m df_mid_var :pd\u001b[38;5;241m.\u001b[39mDataFrame \u001b[38;5;241m=\u001b[39m \u001b[38;5;28mself\u001b[39m\u001b[38;5;241m.\u001b[39mprocess_df(\n\u001b[1;32m     26\u001b[0m     inputDF \u001b[38;5;241m=\u001b[39m \u001b[38;5;28mself\u001b[39m\u001b[38;5;241m.\u001b[39mrawExplanaoryVariable\n\u001b[1;32m     27\u001b[0m )\n\u001b[0;32m---> 28\u001b[0m \u001b[38;5;28mself\u001b[39m\u001b[38;5;241m.\u001b[39mlr \u001b[38;5;241m=\u001b[39m \u001b[43mLinearRegression\u001b[49m\u001b[43m(\u001b[49m\u001b[43m)\u001b[49m\n\u001b[1;32m     29\u001b[0m \u001b[38;5;28mself\u001b[39m\u001b[38;5;241m.\u001b[39mlr\u001b[38;5;241m.\u001b[39mfit(df_mid_var, \u001b[38;5;28mself\u001b[39m\u001b[38;5;241m.\u001b[39mrawResponseVariable)\n\u001b[1;32m     31\u001b[0m \u001b[38;5;28;01mreturn\u001b[39;00m \u001b[38;5;28;01mTrue\u001b[39;00m\n",
      "\u001b[0;31mTypeError\u001b[0m: LinearRegression.__new__() missing 2 required positional arguments: 'slope' and 'intercept'"
     ]
    }
   ],
   "source": [
    "test_Model_squareRootOfProcess_ForMultipleRegression()"
   ]
  },
  {
   "cell_type": "code",
   "execution_count": null,
   "metadata": {},
   "outputs": [],
   "source": [
    "%reset"
   ]
  },
  {
   "cell_type": "code",
   "execution_count": null,
   "metadata": {},
   "outputs": [],
   "source": [
    "input_rawDF_cg: pd.DataFrame = return_rawDF_cg(\n",
    "    list_process=input_list_process,\n",
    "    list_na=cg_input_list_na,\n",
    "    list_nonzer=cg_input_list_nonzer,\n",
    "    list_niter=cg_input_list_niter,\n",
    "    list_shift=cg_input_list_shift,\n",
    "    csvDir=csvDirPath,\n",
    ")\n",
    "\n",
    "target_rawDF_cg: pd.DataFrame = return_rawDF_cg(\n",
    "    list_process=target_list_process,\n",
    "    list_na=cg_target_list_na,\n",
    "    list_nonzer=cg_target_list_nonzer,\n",
    "    list_niter=cg_target_list_niter,\n",
    "    list_shift=cg_target_list_shift,\n",
    "    csvDir=csvDirPath,\n",
    ")"
   ]
  },
  {
   "cell_type": "code",
   "execution_count": null,
   "metadata": {
    "jupyter": {
     "source_hidden": true
    },
    "tags": []
   },
   "outputs": [],
   "source": [
    "cg_list_exp: list[str] = [\"process\", \"nonzer\", \"niter\", \"shift\"]\n",
    "\n",
    "list_res: list[str] = [\"#Call\"]"
   ]
  },
  {
   "cell_type": "code",
   "execution_count": null,
   "metadata": {
    "jupyter": {
     "source_hidden": true
    },
    "tags": []
   },
   "outputs": [],
   "source": [
    "# 精度の低い関数を抽出したうえでチューニングする\n",
    "\n",
    "targetFunctionNames: list[str] = [\n",
    "    \"VECSET\",\n",
    "    \"MPI_Wait()\",\n",
    "    \"MPI_Send()\",\n",
    "    \"SPRNVC\",\n",
    "    \"RANDLC\",\n",
    "    \"MPI_Irecv()\",\n",
    "    \"ICNVRT\",\n",
    "]"
   ]
  },
  {
   "cell_type": "code",
   "execution_count": null,
   "metadata": {
    "jupyter": {
     "source_hidden": true
    },
    "tags": []
   },
   "outputs": [],
   "source": [
    "result_series_list: list[pd.DataFrame] = []\n",
    "\n",
    "function_names: list[str] = list(set(input_rawDF_cg[\"Name\"].tolist()))\n",
    "\n",
    "input_rawDF_cg = input_rawDF_cg.rename(columns={\"Name\": \"functionName\"})\n",
    "target_rawDF_cg = target_rawDF_cg.rename(columns={\"Name\": \"functionName\"})\n",
    "\n",
    "for function_name in function_names:\n",
    "    if (function_name in targetFunctionNames) == False:\n",
    "        continue\n",
    "    input_rawDF_per_function: pd.DataFrame = input_rawDF_cg[\n",
    "        input_rawDF_cg[\"functionName\"] == function_name\n",
    "    ]\n",
    "\n",
    "    models = Models(\n",
    "        inputDF=input_rawDF_per_function,\n",
    "        expVarColNames=cg_list_exp,\n",
    "        resVarColNames=list_res,\n",
    "        targetDF=None,\n",
    "        modelNames=list_modelName,\n",
    "    )\n",
    "\n",
    "    models.setUpDataBeforeCalcLr()\n",
    "    models.calcLr()\n",
    "    models.calcMAPE()\n",
    "\n",
    "    dictCalcedMAPE = models.returnCalculatedMAPE()\n",
    "\n",
    "    for key in dictCalcedMAPE.keys():\n",
    "        dictCalcedMAPE[key] = float(dictCalcedMAPE[key])\n",
    "\n",
    "    dict_for_series: dict = copy.deepcopy(dictCalcedMAPE)\n",
    "    dict_for_series[\"functionName\"] = function_name\n",
    "\n",
    "    series: pd.Series = pd.Series(dict_for_series)\n",
    "    result_series_list.append(series)\n",
    "\n",
    "resultDF: pd.DataFrame = pd.DataFrame(result_series_list)\n",
    "resultDF = addLowestMAPEColumn(\n",
    "    inputDF=resultDF, model_name_list=list_modelName, version=2\n",
    ")\n",
    "resultDF = addLowestMAPEsModelNameColumn(\n",
    "    inputDF=resultDF, model_name_list=list_modelName, version=2\n",
    ")"
   ]
  },
  {
   "cell_type": "code",
   "execution_count": null,
   "metadata": {
    "jupyter": {
     "source_hidden": true
    },
    "tags": []
   },
   "outputs": [],
   "source": [
    "resultDF"
   ]
  },
  {
   "cell_type": "code",
   "execution_count": null,
   "metadata": {},
   "outputs": [],
   "source": [
    "df_ICNVRT = input_rawDF_cg[input_rawDF_cg[\"functionName\"] == \"ICNVRT\"]\n",
    "df_Wait = input_rawDF_cg[input_rawDF_cg[\"functionName\"] == \"MPI_Wait()\"]\n",
    "df_Send = input_rawDF_cg[input_rawDF_cg[\"functionName\"] == \"MPI_Send()\"]\n",
    "df_RANDLC = input_rawDF_cg[input_rawDF_cg[\"functionName\"] == \"RANDLC\"]\n",
    "df_VECSET = input_rawDF_cg[input_rawDF_cg[\"functionName\"] == \"VECSET\"]\n",
    "df_Irecv = input_rawDF_cg[input_rawDF_cg[\"functionName\"] == \"MPI_Irecv()\"]\n",
    "df_SPRNVC = input_rawDF_cg[input_rawDF_cg[\"functionName\"] == \"SPRNVC\"]"
   ]
  },
  {
   "cell_type": "code",
   "execution_count": null,
   "metadata": {
    "tags": []
   },
   "outputs": [],
   "source": [
    "input_rawDF_cg.columns.tolist()"
   ]
  },
  {
   "cell_type": "code",
   "execution_count": null,
   "metadata": {
    "tags": []
   },
   "outputs": [],
   "source": [
    "target_rawDF_cg.sort_values(\"#Call\", ascending=False)"
   ]
  },
  {
   "cell_type": "code",
   "execution_count": null,
   "metadata": {},
   "outputs": [],
   "source": [
    "print(\n",
    "    target_rawDF_cg.sort_values(\"#Call\", ascending=False)[:6]\n",
    "    .loc[:, [\"functionName\", \"#Call\"]]\n",
    "    .style.to_latex(\n",
    "        caption=\"ベンチマークプログラムCGで関数コール回数の多い関数（プロセス数256, 初期変数na＝15000, 初期変数nonzer＝21, 初期変数niter＝100, 初期変数shift＝200）\",\n",
    "        label=f\"{date}_func_table\",\n",
    "        position_float=\"centering\",\n",
    "        siunitx=True\n",
    "    )\n",
    ")"
   ]
  },
  {
   "cell_type": "code",
   "execution_count": null,
   "metadata": {},
   "outputs": [],
   "source": [
    "# ICNVRT\n",
    "\n",
    "fig = px.scatter_3d(df_ICNVRT, x=\"process\", y=\"na\", z=\"#Call\")\n",
    "fig.show()"
   ]
  },
  {
   "cell_type": "markdown",
   "metadata": {},
   "source": [
    "***\n",
    "\n",
    "---\n",
    "\n",
    "___"
   ]
  },
  {
   "cell_type": "markdown",
   "metadata": {
    "tags": []
   },
   "source": [
    "# 2022年4月17日～\n",
    "\n",
    "次のような表を作成する\n",
    "\n",
    "採用される割合 (MAPE の最大値 [%] ，MAPE の最小値 [%]) [%]\n",
    "\n",
    "| ベンチマークプログラム名 | 線形モデル               | 対数モデル               | 反比例モデル              |\n",
    "|--------------|---------------------|---------------------|---------------------|\n",
    "| str          | float(float, float) | float(float, float) | float(float, float) |\n",
    "\n",
    "\n",
    "目標となるのは一気にこのベンチマークプログラムを作成することだが、既存のライブラリ関数などを利用し、まずはベンチマークごとに作成可能にする。\n",
    "\n",
    "メモ\n",
    "\n",
    "## 実装予定\n",
    "\n",
    "1. 行方向に最小値を検出\n",
    "2. 最小値以外をNaNに変更\n",
    "3. 列方向に最小値と最大値を検出\n",
    "\n",
    "## \n"
   ]
  },
  {
   "cell_type": "markdown",
   "metadata": {},
   "source": [
    "***\n",
    "\n",
    "---\n",
    "\n",
    "___"
   ]
  }
 ],
 "metadata": {
  "interpreter": {
   "hash": "949777d72b0d2535278d3dc13498b2535136f6dfe0678499012e853ee9abcab1"
  },
  "kernelspec": {
   "display_name": "Python 3 (ipykernel)",
   "language": "python",
   "name": "python3"
  },
  "language_info": {
   "codemirror_mode": {
    "name": "ipython",
    "version": 3
   },
   "file_extension": ".py",
   "mimetype": "text/x-python",
   "name": "python",
   "nbconvert_exporter": "python",
   "pygments_lexer": "ipython3",
   "version": "3.10.6"
  }
 },
 "nbformat": 4,
 "nbformat_minor": 4
}
