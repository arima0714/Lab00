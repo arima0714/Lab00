{
 "cells": [
  {
   "cell_type": "code",
   "execution_count": 1,
   "metadata": {},
   "outputs": [
    {
     "name": "stderr",
     "output_type": "stream",
     "text": [
      "DEBUG:__main__:hello\n"
     ]
    }
   ],
   "source": [
    "# ipynb形式のライブラリのインポート\n",
    "%run ./lib/lib.ipynb\n",
    "\n",
    "# 生データの入ったCSVファイルの保持されたディレクトリ名を格納している変数\n",
    "csvDirPath = \"./csv_files/\"\n",
    "\n",
    "# NPBのベンチマーク名のリスト\n",
    "benchmarkNames = [\"cg\", \"ep\", \"ft\", \"is\", \"lu\", \"mg\"]\n",
    "\n",
    "# LULESH ベンチマークプログラムのプロセス数・問題サイズ・イテレーション数\n",
    "lulesh_processes: list[int] = [8, 27, 64, 125, 216, 343, 512]\n",
    "lulesh_iterations: list[int] = [8, 16, 32, 64, 128, 256]\n",
    "lulesh_sizes: list[int] = [16, 24, 32, 48, 64, 128]"
   ]
  },
  {
   "cell_type": "code",
   "execution_count": 2,
   "metadata": {},
   "outputs": [
    {
     "name": "stderr",
     "output_type": "stream",
     "text": [
      "DEBUG:lib.lab_lib:hello\n"
     ]
    }
   ],
   "source": [
    "# ipynb形式のライブラリノートを.py形式に変更したものをインポート\n",
    "import lib\n",
    "import lib.lab_lib\n",
    "from lib.lab_lib import *"
   ]
  },
  {
   "cell_type": "code",
   "execution_count": null,
   "metadata": {},
   "outputs": [],
   "source": []
  },
  {
   "cell_type": "code",
   "execution_count": 3,
   "metadata": {},
   "outputs": [],
   "source": [
    "date: str = \"2022年8月12日\"\n",
    "\n",
    "list_modelName: list[str] = [\n",
    "    \"modelIp\",\n",
    "    \"modelLog\",\n",
    "    \"modelLinAndIp\",\n",
    "    \"modelLinAndLog\",\n",
    "    \"modelIpAndLin\",\n",
    "    \"modelIpAndLog\",\n",
    "    \"modelLogAndLin\",\n",
    "    \"modelLogAndIp\",\n",
    "    \"modelProcessDividedByProblemSize\",\n",
    "    \"modelProblemSizeDividedByProcess\",\n",
    "    \"modelLinearSumOf2elementCombination\",\n",
    "    \"modelLinearSumOfElementCombinations\",\n",
    "    \"modelLinearSumOf2elementCombinationWithSquared\",\n",
    "    \"modelLinearSumOf2elementCombinationWithCubed\",\n",
    "    \"modelLin\"\n",
    "    # \"modelBasicTree\",\n",
    "]\n",
    "\n",
    "input_list_process: list[int] = [2, 4, 8, 16, 32, 64, 128]\n",
    "target_list_process: list[int] = [256]\n",
    "\n",
    "cg_input_list_na: list[int] = [14000, 30000, 75000, 100000]\n",
    "cg_input_list_nonzer: list[int] = [11, 12, 13, 14, 15, 18]\n",
    "cg_input_list_niter: list[int] = [15, 30, 75, 90]\n",
    "cg_input_list_shift: list[int] = [20, 40, 60, 80, 110]\n",
    "\n",
    "cg_target_list_na: list[int] = [1500000]\n",
    "cg_target_list_nonzer: list[int] = [21]\n",
    "cg_target_list_niter: list[int] = [100]\n",
    "cg_target_list_shift: list[int] = [200]\n",
    "\n",
    "mg_input_list_problem_size: list[int] = [32, 64, 128, 256]\n",
    "mg_input_list_nit: list[int] = [4, 10, 20, 35]\n",
    "\n",
    "mg_target_list_problem_size: list[int] = [512]\n",
    "mg_target_list_nit: list[int] = [50]"
   ]
  },
  {
   "cell_type": "code",
   "execution_count": 4,
   "metadata": {},
   "outputs": [],
   "source": [
    "test_Model_squareRootOfProcess_ForMultipleRegression()"
   ]
  },
  {
   "cell_type": "code",
   "execution_count": null,
   "metadata": {},
   "outputs": [],
   "source": [
    "%reset"
   ]
  },
  {
   "cell_type": "code",
   "execution_count": null,
   "metadata": {},
   "outputs": [],
   "source": [
    "input_rawDF_cg: pd.DataFrame = return_rawDF_cg(\n",
    "    list_process=input_list_process,\n",
    "    list_na=cg_input_list_na,\n",
    "    list_nonzer=cg_input_list_nonzer,\n",
    "    list_niter=cg_input_list_niter,\n",
    "    list_shift=cg_input_list_shift,\n",
    "    csvDir=csvDirPath,\n",
    ")\n",
    "\n",
    "target_rawDF_cg: pd.DataFrame = return_rawDF_cg(\n",
    "    list_process=target_list_process,\n",
    "    list_na=cg_target_list_na,\n",
    "    list_nonzer=cg_target_list_nonzer,\n",
    "    list_niter=cg_target_list_niter,\n",
    "    list_shift=cg_target_list_shift,\n",
    "    csvDir=csvDirPath,\n",
    ")"
   ]
  },
  {
   "cell_type": "code",
   "execution_count": null,
   "metadata": {
    "jupyter": {
     "source_hidden": true
    },
    "tags": []
   },
   "outputs": [],
   "source": [
    "cg_list_exp: list[str] = [\"process\", \"nonzer\", \"niter\", \"shift\"]\n",
    "\n",
    "list_res: list[str] = [\"#Call\"]"
   ]
  },
  {
   "cell_type": "code",
   "execution_count": null,
   "metadata": {
    "jupyter": {
     "source_hidden": true
    },
    "tags": []
   },
   "outputs": [],
   "source": [
    "# 精度の低い関数を抽出したうえでチューニングする\n",
    "\n",
    "targetFunctionNames: list[str] = [\n",
    "    \"VECSET\",\n",
    "    \"MPI_Wait()\",\n",
    "    \"MPI_Send()\",\n",
    "    \"SPRNVC\",\n",
    "    \"RANDLC\",\n",
    "    \"MPI_Irecv()\",\n",
    "    \"ICNVRT\",\n",
    "]"
   ]
  },
  {
   "cell_type": "code",
   "execution_count": null,
   "metadata": {
    "jupyter": {
     "source_hidden": true
    },
    "tags": []
   },
   "outputs": [],
   "source": [
    "result_series_list: list[pd.DataFrame] = []\n",
    "\n",
    "function_names: list[str] = list(set(input_rawDF_cg[\"Name\"].tolist()))\n",
    "\n",
    "input_rawDF_cg = input_rawDF_cg.rename(columns={\"Name\": \"functionName\"})\n",
    "target_rawDF_cg = target_rawDF_cg.rename(columns={\"Name\": \"functionName\"})\n",
    "\n",
    "for function_name in function_names:\n",
    "    if (function_name in targetFunctionNames) == False:\n",
    "        continue\n",
    "    input_rawDF_per_function: pd.DataFrame = input_rawDF_cg[\n",
    "        input_rawDF_cg[\"functionName\"] == function_name\n",
    "    ]\n",
    "\n",
    "    models = Models(\n",
    "        inputDF=input_rawDF_per_function,\n",
    "        expVarColNames=cg_list_exp,\n",
    "        resVarColNames=list_res,\n",
    "        targetDF=None,\n",
    "        modelNames=list_modelName,\n",
    "    )\n",
    "\n",
    "    models.setUpDataBeforeCalcLr()\n",
    "    models.calcLr()\n",
    "    models.calcMAPE()\n",
    "\n",
    "    dictCalcedMAPE = models.returnCalculatedMAPE()\n",
    "\n",
    "    for key in dictCalcedMAPE.keys():\n",
    "        dictCalcedMAPE[key] = float(dictCalcedMAPE[key])\n",
    "\n",
    "    dict_for_series: dict = copy.deepcopy(dictCalcedMAPE)\n",
    "    dict_for_series[\"functionName\"] = function_name\n",
    "\n",
    "    series: pd.Series = pd.Series(dict_for_series)\n",
    "    result_series_list.append(series)\n",
    "\n",
    "resultDF: pd.DataFrame = pd.DataFrame(result_series_list)\n",
    "resultDF = addLowestMAPEColumn(\n",
    "    inputDF=resultDF, model_name_list=list_modelName, version=2\n",
    ")\n",
    "resultDF = addLowestMAPEsModelNameColumn(\n",
    "    inputDF=resultDF, model_name_list=list_modelName, version=2\n",
    ")"
   ]
  },
  {
   "cell_type": "code",
   "execution_count": null,
   "metadata": {
    "jupyter": {
     "source_hidden": true
    },
    "tags": []
   },
   "outputs": [],
   "source": [
    "resultDF"
   ]
  },
  {
   "cell_type": "code",
   "execution_count": null,
   "metadata": {},
   "outputs": [],
   "source": [
    "df_ICNVRT = input_rawDF_cg[input_rawDF_cg[\"functionName\"] == \"ICNVRT\"]\n",
    "df_Wait = input_rawDF_cg[input_rawDF_cg[\"functionName\"] == \"MPI_Wait()\"]\n",
    "df_Send = input_rawDF_cg[input_rawDF_cg[\"functionName\"] == \"MPI_Send()\"]\n",
    "df_RANDLC = input_rawDF_cg[input_rawDF_cg[\"functionName\"] == \"RANDLC\"]\n",
    "df_VECSET = input_rawDF_cg[input_rawDF_cg[\"functionName\"] == \"VECSET\"]\n",
    "df_Irecv = input_rawDF_cg[input_rawDF_cg[\"functionName\"] == \"MPI_Irecv()\"]\n",
    "df_SPRNVC = input_rawDF_cg[input_rawDF_cg[\"functionName\"] == \"SPRNVC\"]"
   ]
  },
  {
   "cell_type": "code",
   "execution_count": null,
   "metadata": {
    "tags": []
   },
   "outputs": [],
   "source": [
    "input_rawDF_cg.columns.tolist()"
   ]
  },
  {
   "cell_type": "code",
   "execution_count": null,
   "metadata": {
    "tags": []
   },
   "outputs": [],
   "source": [
    "target_rawDF_cg.sort_values(\"#Call\", ascending=False)"
   ]
  },
  {
   "cell_type": "code",
   "execution_count": null,
   "metadata": {},
   "outputs": [],
   "source": [
    "print(\n",
    "    target_rawDF_cg.sort_values(\"#Call\", ascending=False)[:6]\n",
    "    .loc[:, [\"functionName\", \"#Call\"]]\n",
    "    .style.to_latex(\n",
    "        caption=\"ベンチマークプログラムCGで関数コール回数の多い関数（プロセス数256, 初期変数na＝15000, 初期変数nonzer＝21, 初期変数niter＝100, 初期変数shift＝200）\",\n",
    "        label=f\"{date}_func_table\",\n",
    "        position_float=\"centering\",\n",
    "        siunitx=True\n",
    "    )\n",
    ")"
   ]
  },
  {
   "cell_type": "code",
   "execution_count": null,
   "metadata": {},
   "outputs": [],
   "source": [
    "# ICNVRT\n",
    "\n",
    "fig = px.scatter_3d(df_ICNVRT, x=\"process\", y=\"na\", z=\"#Call\")\n",
    "fig.show()"
   ]
  },
  {
   "cell_type": "markdown",
   "metadata": {},
   "source": [
    "***\n",
    "\n",
    "---\n",
    "\n",
    "___"
   ]
  },
  {
   "cell_type": "markdown",
   "metadata": {
    "tags": []
   },
   "source": [
    "# 2022年4月17日～\n",
    "\n",
    "次のような表を作成する\n",
    "\n",
    "採用される割合 (MAPE の最大値 [%] ，MAPE の最小値 [%]) [%]\n",
    "\n",
    "| ベンチマークプログラム名 | 線形モデル               | 対数モデル               | 反比例モデル              |\n",
    "|--------------|---------------------|---------------------|---------------------|\n",
    "| str          | float(float, float) | float(float, float) | float(float, float) |\n",
    "\n",
    "\n",
    "目標となるのは一気にこのベンチマークプログラムを作成することだが、既存のライブラリ関数などを利用し、まずはベンチマークごとに作成可能にする。\n",
    "\n",
    "メモ\n",
    "\n",
    "## 実装予定\n",
    "\n",
    "1. 行方向に最小値を検出\n",
    "2. 最小値以外をNaNに変更\n",
    "3. 列方向に最小値と最大値を検出\n",
    "\n",
    "## \n"
   ]
  },
  {
   "cell_type": "markdown",
   "metadata": {},
   "source": [
    "***\n",
    "\n",
    "---\n",
    "\n",
    "___"
   ]
  }
 ],
 "metadata": {
  "interpreter": {
   "hash": "949777d72b0d2535278d3dc13498b2535136f6dfe0678499012e853ee9abcab1"
  },
  "kernelspec": {
   "display_name": "Python 3 (ipykernel)",
   "language": "python",
   "name": "python3"
  },
  "language_info": {
   "codemirror_mode": {
    "name": "ipython",
    "version": 3
   },
   "file_extension": ".py",
   "mimetype": "text/x-python",
   "name": "python",
   "nbconvert_exporter": "python",
   "pygments_lexer": "ipython3",
   "version": "3.10.6"
  }
 },
 "nbformat": 4,
 "nbformat_minor": 4
}
