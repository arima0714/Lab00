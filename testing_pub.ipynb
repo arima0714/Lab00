{
 "cells": [
  {
   "cell_type": "code",
   "execution_count": 1,
   "metadata": {},
   "outputs": [
    {
     "name": "stderr",
     "output_type": "stream",
     "text": [
      "DEBUG:__main__:hello\n"
     ]
    }
   ],
   "source": [
    "# ipynb形式のライブラリのインポート\n",
    "%run ./lib/lib.ipynb\n",
    "\n",
    "# 生データの入ったCSVファイルの保持されたディレクトリ名を格納している変数\n",
    "csvDirPath = \"./csv_files/\"\n",
    "benchmarkNames = [\"cg\", \"ep\", \"ft\", \"is\", \"lu\", \"mg\"]"
   ]
  },
  {
   "cell_type": "code",
   "execution_count": 2,
   "metadata": {},
   "outputs": [
    {
     "name": "stderr",
     "output_type": "stream",
     "text": [
      "DEBUG:lib.lab_lib:hello\n"
     ]
    }
   ],
   "source": [
    "# ipynb形式のライブラリノートを.py形式に変更したものをインポート\n",
    "import lib\n",
    "import lib.lab_lib\n",
    "from lib.lab_lib import *"
   ]
  },
  {
   "cell_type": "markdown",
   "metadata": {},
   "source": [
    "# 新たなモデルの実装\n",
    "\n",
    "下記のモデル式を実現するモデルを実装する\n",
    "\n",
    "$$\n",
    "T = aXY + bXZ + cYZ + d\n",
    "$$\n",
    "\n",
    "T,X,Y,Z はそれぞれ関数コール回数・プロセス数・問題サイズ1・問題サイズ2\n",
    "a,b,c は係数、dは切片\n",
    "\n",
    "# TODOs\n",
    "\n",
    "* テストの作成\n",
    "* 列名のリストにおいてモデル構築に必要な列の組み合わせを作成\n",
    "* 実装\n"
   ]
  },
  {
   "cell_type": "code",
   "execution_count": 3,
   "metadata": {},
   "outputs": [],
   "source": [
    "def test_Model_LinearSumOf2elementCombination_ForMultipleRegression():\n",
    "    \"\"\"test_Model_LinearSumOf2elementCombination_ForMultipleRegression()\n",
    "    Model_LinearSumOf2elementCombination_ForMultipleRegressionのテスト\n",
    "    \"\"\"\n",
    "\n",
    "    # 説明変数\n",
    "    plotX_1: np.ndarray = np.linspace(10, 20, 11)\n",
    "    plotX_2: np.ndarray = 10 * np.linspace(10, 20, 11)\n",
    "    plotX_3: np.ndarray = 100 * np.linspace(10, 20, 11)\n",
    "    plotX_4: np.ndarray = 1000 * np.linspace(10, 20, 11)\n",
    "    plotX_5: np.ndarray = 10000 * np.linspace(10, 20, 11)\n",
    "    # 目的変数\n",
    "    a: int = 100\n",
    "    b: int = 90\n",
    "    c: int = 80\n",
    "    d: int = 70\n",
    "    e: int = 60\n",
    "    f: int = 50\n",
    "    g: int = 40\n",
    "    h: int = 30\n",
    "    i: int = 20\n",
    "    j: int = 10\n",
    "    k: int = -500\n",
    "    plotT: np.ndarray = (a * plotX_1 * plotX_2) + (b * plotX_1 * plotX_3) + (c * plotX_1 * plotX_4) + (d * plotX_1 * plotX_5) + \\\n",
    "                        (e * plotX_2 * plotX_3) + (f * plotX_2 * plotX_4) + (g * plotX_2 * plotX_5) + \\\n",
    "                        (h * plotX_3 * plotX_4) + (i * plotX_3 * plotX_5) + \\\n",
    "                        (j * plotX_4 * plotX_5) + \\\n",
    "                        + k\n",
    "\n",
    "    # DFを作成する\n",
    "    # カラム名のリスト\n",
    "    columnNames: list[str] = [\n",
    "        \"process\",\n",
    "        \"plotX_2\",\n",
    "        \"plotX_3\",\n",
    "        \"plotX_4\",\n",
    "        \"plotX_5\",\n",
    "        \"plotT\",\n",
    "    ]\n",
    "    datumForDF: list[np.ndarray] = [plotX_1, plotX_2, plotX_3, plotX_4, plotX_5, plotT]\n",
    "    inputDFForTest: pd.DataFrame = pd.DataFrame(index=columnNames, data=datumForDF).T\n",
    "    inputDFForTest[\"functionName\"] = \"functionName\"\n",
    "\n",
    "    # 目的変数・説明変数のカラム名のリスト\n",
    "    # 目的変数のカラム名のリスト\n",
    "    columnNamesForExp: list[str] = [\n",
    "        \"process\",\n",
    "        \"plotX_2\",\n",
    "        \"plotX_3\",\n",
    "        \"plotX_4\",\n",
    "        \"plotX_5\",\n",
    "    ]\n",
    "    # 説明変数のカラム名のリスト\n",
    "    columnNamesForRes: list[str] = [\"plotT\"]\n",
    "\n",
    "    # 予測をする\n",
    "    # モデルオブジェクトの作成\n",
    "    objectModel = (\n",
    "        Model_LinearSumOf2elementCombination_ForMultipleRegression(\n",
    "            inputDF=inputDFForTest,\n",
    "            explanatoryVariableColumnNames=columnNamesForExp,\n",
    "            responseVariableColumnNames=columnNamesForRes,\n",
    "            conditionDictForTest={},\n",
    "        )\n",
    "    )\n",
    "    # モデルの構築\n",
    "    objectModel.build_model()\n",
    "    # モデル構築に用いたデータとのMAPEによって実装がうまくいっているかどうかの判定を行う\n",
    "    mape = objectModel.returnMAPE()\n",
    "    assert 0 <= mape < 1, f\"mape = {mape}\""
   ]
  }
 ],
 "metadata": {
  "kernelspec": {
   "display_name": "Python 3 (ipykernel)",
   "language": "python",
   "name": "python3"
  },
  "language_info": {
   "codemirror_mode": {
    "name": "ipython",
    "version": 3
   },
   "file_extension": ".py",
   "mimetype": "text/x-python",
   "name": "python",
   "nbconvert_exporter": "python",
   "pygments_lexer": "ipython3",
   "version": "3.10.0"
  }
 },
 "nbformat": 4,
 "nbformat_minor": 4
}
