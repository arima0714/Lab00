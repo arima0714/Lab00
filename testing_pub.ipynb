{
 "cells": [
  {
   "cell_type": "code",
   "execution_count": 1,
   "metadata": {},
   "outputs": [
    {
     "name": "stderr",
     "output_type": "stream",
     "text": [
      "DEBUG:__main__:hello\n"
     ]
    }
   ],
   "source": [
    "# ipynb形式のライブラリのインポート\n",
    "%run ./lib/lib.ipynb\n",
    "\n",
    "# 生データの入ったCSVファイルの保持されたディレクトリ名を格納している変数\n",
    "csvDirPath = \"./csv_files/\"\n",
    "benchmarkNames = [\"cg\", \"ep\", \"ft\", \"is\", \"lu\", \"mg\"]"
   ]
  },
  {
   "cell_type": "code",
   "execution_count": 2,
   "metadata": {},
   "outputs": [
    {
     "name": "stderr",
     "output_type": "stream",
     "text": [
      "DEBUG:lib.lab_lib:hello\n"
     ]
    }
   ],
   "source": [
    "# ipynb形式のライブラリノートを.py形式に変更したものをインポート\n",
    "import lib\n",
    "import lib.lab_lib\n",
    "from lib.lab_lib import *"
   ]
  },
  {
   "cell_type": "markdown",
   "metadata": {},
   "source": [
    "# 2022年3月30日～\n",
    "\n",
    "## 積モデルの実装\n",
    "TODO\n",
    "* モデル式 $ T = aXYZ + b $ の実装（Model_InfiniteProductOfProblemSizeMultipliedByProcesses_ForMultipleRegression）\n",
    "    * ✅テストの実装\n",
    "    * ✅本実装\n",
    "* モデル式 $ T = a \\frac{YZ}{X} + b $ の実装（Model_InfiniteProductOfProblemSizeDividedByProcesses_ForMultipleRegression）\n",
    "    * ✅テストの実装\n",
    "    * ✅本実装\n",
    "* 上記のモデルにおいてMAPE表を作成する\n",
    "    * Modelsクラスに追加実装\n",
    "        * ✅モデル式 $ T = aXYZ + b $\n",
    "        * ✅モデル式 $ T = a \\frac{YZ}{X} + b $\n",
    "    * 表への追加\n",
    "        * モデル式 $ T = aXYZ + b $\n",
    "        * モデル式 $ T = a \\frac{YZ}{X} + b $\n",
    "\n",
    "（T,X,Y,Zはそれぞれ、関数コール回数,プロセス数,問題サイズ1,問題サイズ2）"
   ]
  },
  {
   "cell_type": "code",
   "execution_count": 3,
   "id": "43c58d05-47d3-42a8-98a6-756286ccdce7",
   "metadata": {},
   "outputs": [
    {
     "name": "stdout",
     "output_type": "stream",
     "text": [
      "exp_var = ['process', 'na', 'nonzer', 'niter', 'shift']\n"
     ]
    },
    {
     "name": "stderr",
     "output_type": "stream",
     "text": [
      "/usr/local/lib/python3.10/site-packages/scipy/optimize/_minpack_py.py:833: OptimizeWarning: Covariance of the parameters could not be estimated\n",
      "  warnings.warn('Covariance of the parameters could not be estimated',\n",
      "/usr/local/lib/python3.10/site-packages/scipy/optimize/_minpack_py.py:833: OptimizeWarning: Covariance of the parameters could not be estimated\n",
      "  warnings.warn('Covariance of the parameters could not be estimated',\n",
      "/usr/local/lib/python3.10/site-packages/scipy/optimize/_minpack_py.py:833: OptimizeWarning: Covariance of the parameters could not be estimated\n",
      "  warnings.warn('Covariance of the parameters could not be estimated',\n",
      "/usr/local/lib/python3.10/site-packages/scipy/optimize/_minpack_py.py:833: OptimizeWarning: Covariance of the parameters could not be estimated\n",
      "  warnings.warn('Covariance of the parameters could not be estimated',\n",
      "/usr/local/lib/python3.10/site-packages/scipy/optimize/_minpack_py.py:833: OptimizeWarning: Covariance of the parameters could not be estimated\n",
      "  warnings.warn('Covariance of the parameters could not be estimated',\n",
      "/usr/local/lib/python3.10/site-packages/scipy/optimize/_minpack_py.py:833: OptimizeWarning: Covariance of the parameters could not be estimated\n",
      "  warnings.warn('Covariance of the parameters could not be estimated',\n",
      "/usr/local/lib/python3.10/site-packages/scipy/optimize/_minpack_py.py:833: OptimizeWarning: Covariance of the parameters could not be estimated\n",
      "  warnings.warn('Covariance of the parameters could not be estimated',\n",
      "/usr/local/lib/python3.10/site-packages/scipy/optimize/_minpack_py.py:833: OptimizeWarning: Covariance of the parameters could not be estimated\n",
      "  warnings.warn('Covariance of the parameters could not be estimated',\n",
      "/usr/local/lib/python3.10/site-packages/scipy/optimize/_minpack_py.py:833: OptimizeWarning: Covariance of the parameters could not be estimated\n",
      "  warnings.warn('Covariance of the parameters could not be estimated',\n",
      "/usr/local/lib/python3.10/site-packages/scipy/optimize/_minpack_py.py:833: OptimizeWarning: Covariance of the parameters could not be estimated\n",
      "  warnings.warn('Covariance of the parameters could not be estimated',\n",
      "/usr/local/lib/python3.10/site-packages/scipy/optimize/_minpack_py.py:833: OptimizeWarning: Covariance of the parameters could not be estimated\n",
      "  warnings.warn('Covariance of the parameters could not be estimated',\n",
      "/usr/local/lib/python3.10/site-packages/scipy/optimize/_minpack_py.py:833: OptimizeWarning: Covariance of the parameters could not be estimated\n",
      "  warnings.warn('Covariance of the parameters could not be estimated',\n",
      "/usr/local/lib/python3.10/site-packages/scipy/optimize/_minpack_py.py:833: OptimizeWarning: Covariance of the parameters could not be estimated\n",
      "  warnings.warn('Covariance of the parameters could not be estimated',\n",
      "/usr/local/lib/python3.10/site-packages/scipy/optimize/_minpack_py.py:833: OptimizeWarning: Covariance of the parameters could not be estimated\n",
      "  warnings.warn('Covariance of the parameters could not be estimated',\n",
      "/usr/local/lib/python3.10/site-packages/scipy/optimize/_minpack_py.py:833: OptimizeWarning: Covariance of the parameters could not be estimated\n",
      "  warnings.warn('Covariance of the parameters could not be estimated',\n",
      "/usr/local/lib/python3.10/site-packages/scipy/optimize/_minpack_py.py:833: OptimizeWarning: Covariance of the parameters could not be estimated\n",
      "  warnings.warn('Covariance of the parameters could not be estimated',\n",
      "/usr/local/lib/python3.10/site-packages/scipy/optimize/_minpack_py.py:833: OptimizeWarning: Covariance of the parameters could not be estimated\n",
      "  warnings.warn('Covariance of the parameters could not be estimated',\n",
      "/usr/local/lib/python3.10/site-packages/scipy/optimize/_minpack_py.py:833: OptimizeWarning: Covariance of the parameters could not be estimated\n",
      "  warnings.warn('Covariance of the parameters could not be estimated',\n",
      "/usr/local/lib/python3.10/site-packages/scipy/optimize/_minpack_py.py:833: OptimizeWarning: Covariance of the parameters could not be estimated\n",
      "  warnings.warn('Covariance of the parameters could not be estimated',\n",
      "/usr/local/lib/python3.10/site-packages/scipy/optimize/_minpack_py.py:833: OptimizeWarning: Covariance of the parameters could not be estimated\n",
      "  warnings.warn('Covariance of the parameters could not be estimated',\n",
      "/usr/local/lib/python3.10/site-packages/scipy/optimize/_minpack_py.py:833: OptimizeWarning: Covariance of the parameters could not be estimated\n",
      "  warnings.warn('Covariance of the parameters could not be estimated',\n",
      "/usr/local/lib/python3.10/site-packages/scipy/optimize/_minpack_py.py:833: OptimizeWarning: Covariance of the parameters could not be estimated\n",
      "  warnings.warn('Covariance of the parameters could not be estimated',\n",
      "/usr/local/lib/python3.10/site-packages/scipy/optimize/_minpack_py.py:833: OptimizeWarning: Covariance of the parameters could not be estimated\n",
      "  warnings.warn('Covariance of the parameters could not be estimated',\n",
      "/usr/local/lib/python3.10/site-packages/scipy/optimize/_minpack_py.py:833: OptimizeWarning: Covariance of the parameters could not be estimated\n",
      "  warnings.warn('Covariance of the parameters could not be estimated',\n",
      "/usr/local/lib/python3.10/site-packages/scipy/optimize/_minpack_py.py:833: OptimizeWarning: Covariance of the parameters could not be estimated\n",
      "  warnings.warn('Covariance of the parameters could not be estimated',\n",
      "/usr/local/lib/python3.10/site-packages/scipy/optimize/_minpack_py.py:833: OptimizeWarning: Covariance of the parameters could not be estimated\n",
      "  warnings.warn('Covariance of the parameters could not be estimated',\n",
      "/usr/local/lib/python3.10/site-packages/scipy/optimize/_minpack_py.py:833: OptimizeWarning: Covariance of the parameters could not be estimated\n",
      "  warnings.warn('Covariance of the parameters could not be estimated',\n",
      "/usr/local/lib/python3.10/site-packages/scipy/optimize/_minpack_py.py:833: OptimizeWarning: Covariance of the parameters could not be estimated\n",
      "  warnings.warn('Covariance of the parameters could not be estimated',\n",
      "/usr/local/lib/python3.10/site-packages/scipy/optimize/_minpack_py.py:833: OptimizeWarning: Covariance of the parameters could not be estimated\n",
      "  warnings.warn('Covariance of the parameters could not be estimated',\n",
      "/usr/local/lib/python3.10/site-packages/scipy/optimize/_minpack_py.py:833: OptimizeWarning: Covariance of the parameters could not be estimated\n",
      "  warnings.warn('Covariance of the parameters could not be estimated',\n",
      "/usr/local/lib/python3.10/site-packages/scipy/optimize/_minpack_py.py:833: OptimizeWarning: Covariance of the parameters could not be estimated\n",
      "  warnings.warn('Covariance of the parameters could not be estimated',\n",
      "/usr/local/lib/python3.10/site-packages/scipy/optimize/_minpack_py.py:833: OptimizeWarning: Covariance of the parameters could not be estimated\n",
      "  warnings.warn('Covariance of the parameters could not be estimated',\n",
      "/usr/local/lib/python3.10/site-packages/scipy/optimize/_minpack_py.py:833: OptimizeWarning: Covariance of the parameters could not be estimated\n",
      "  warnings.warn('Covariance of the parameters could not be estimated',\n"
     ]
    },
    {
     "ename": "KeyError",
     "evalue": "'問題サイズの変数の総乗とプロセス数とをかける'",
     "output_type": "error",
     "traceback": [
      "\u001b[0;31m---------------------------------------------------------------------------\u001b[0m",
      "\u001b[0;31mKeyError\u001b[0m                                  Traceback (most recent call last)",
      "File \u001b[0;32m/usr/local/lib/python3.10/site-packages/pandas/core/indexes/base.py:3621\u001b[0m, in \u001b[0;36mIndex.get_loc\u001b[0;34m(self, key, method, tolerance)\u001b[0m\n\u001b[1;32m   <a href='file:///usr/local/lib/python3.10/site-packages/pandas/core/indexes/base.py?line=3619'>3620</a>\u001b[0m \u001b[39mtry\u001b[39;00m:\n\u001b[0;32m-> <a href='file:///usr/local/lib/python3.10/site-packages/pandas/core/indexes/base.py?line=3620'>3621</a>\u001b[0m     \u001b[39mreturn\u001b[39;00m \u001b[39mself\u001b[39;49m\u001b[39m.\u001b[39;49m_engine\u001b[39m.\u001b[39;49mget_loc(casted_key)\n\u001b[1;32m   <a href='file:///usr/local/lib/python3.10/site-packages/pandas/core/indexes/base.py?line=3621'>3622</a>\u001b[0m \u001b[39mexcept\u001b[39;00m \u001b[39mKeyError\u001b[39;00m \u001b[39mas\u001b[39;00m err:\n",
      "File \u001b[0;32m/usr/local/lib/python3.10/site-packages/pandas/_libs/index.pyx:136\u001b[0m, in \u001b[0;36mpandas._libs.index.IndexEngine.get_loc\u001b[0;34m()\u001b[0m\n",
      "File \u001b[0;32m/usr/local/lib/python3.10/site-packages/pandas/_libs/index.pyx:163\u001b[0m, in \u001b[0;36mpandas._libs.index.IndexEngine.get_loc\u001b[0;34m()\u001b[0m\n",
      "File \u001b[0;32mpandas/_libs/hashtable_class_helper.pxi:5198\u001b[0m, in \u001b[0;36mpandas._libs.hashtable.PyObjectHashTable.get_item\u001b[0;34m()\u001b[0m\n",
      "File \u001b[0;32mpandas/_libs/hashtable_class_helper.pxi:5206\u001b[0m, in \u001b[0;36mpandas._libs.hashtable.PyObjectHashTable.get_item\u001b[0;34m()\u001b[0m\n",
      "\u001b[0;31mKeyError\u001b[0m: '問題サイズの変数の総乗とプロセス数とをかける'",
      "\nThe above exception was the direct cause of the following exception:\n",
      "\u001b[0;31mKeyError\u001b[0m                                  Traceback (most recent call last)",
      "\u001b[1;32m/workspace/testing_pub.ipynb Cell 4'\u001b[0m in \u001b[0;36m<cell line: 65>\u001b[0;34m()\u001b[0m\n\u001b[1;32m     <a href='vscode-notebook-cell://dev-container%2B633a5c55736572735c4172696d615c446f63756d656e74735c4c61623030/workspace/testing_pub.ipynb#ch0000004vscode-remote?line=61'>62</a>\u001b[0m df \u001b[39m=\u001b[39m df\u001b[39m.\u001b[39msort_index(axis\u001b[39m=\u001b[39m\u001b[39m0\u001b[39m)\n\u001b[1;32m     <a href='vscode-notebook-cell://dev-container%2B633a5c55736572735c4172696d615c446f63756d656e74735c4c61623030/workspace/testing_pub.ipynb#ch0000004vscode-remote?line=62'>63</a>\u001b[0m df \u001b[39m=\u001b[39m df\u001b[39m.\u001b[39msort_index(axis\u001b[39m=\u001b[39m\u001b[39m1\u001b[39m)\n\u001b[0;32m---> <a href='vscode-notebook-cell://dev-container%2B633a5c55736572735c4172696d615c446f63756d656e74735c4c61623030/workspace/testing_pub.ipynb#ch0000004vscode-remote?line=64'>65</a>\u001b[0m df \u001b[39m=\u001b[39m addLowestMAPEsModelNameColumn(df, version\u001b[39m=\u001b[39;49m\u001b[39m2\u001b[39;49m, model_name_list\u001b[39m=\u001b[39;49mmodel_names_list_JP)\n\u001b[1;32m     <a href='vscode-notebook-cell://dev-container%2B633a5c55736572735c4172696d615c446f63756d656e74735c4c61623030/workspace/testing_pub.ipynb#ch0000004vscode-remote?line=66'>67</a>\u001b[0m \u001b[39mprint\u001b[39m(\n\u001b[1;32m     <a href='vscode-notebook-cell://dev-container%2B633a5c55736572735c4172696d615c446f63756d656e74735c4c61623030/workspace/testing_pub.ipynb#ch0000004vscode-remote?line=67'>68</a>\u001b[0m     df\u001b[39m.\u001b[39mstyle\u001b[39m.\u001b[39mset_precision(\u001b[39m2\u001b[39m)\u001b[39m.\u001b[39mto_latex(\n\u001b[1;32m     <a href='vscode-notebook-cell://dev-container%2B633a5c55736572735c4172696d615c446f63756d656e74735c4c61623030/workspace/testing_pub.ipynb#ch0000004vscode-remote?line=68'>69</a>\u001b[0m         caption\u001b[39m=\u001b[39m\u001b[39mf\u001b[39m\u001b[39m\"\u001b[39m\u001b[39mベンチマークプログラム\u001b[39m\u001b[39m{\u001b[39;00mbenchmark_name\u001b[39m.\u001b[39mupper()\u001b[39m}\u001b[39;00m\u001b[39mにおける各モデルでのMAPE\u001b[39m\u001b[39m\"\u001b[39m,\n\u001b[1;32m     <a href='vscode-notebook-cell://dev-container%2B633a5c55736572735c4172696d615c446f63756d656e74735c4c61623030/workspace/testing_pub.ipynb#ch0000004vscode-remote?line=69'>70</a>\u001b[0m         label\u001b[39m=\u001b[39m\u001b[39mf\u001b[39m\u001b[39m\"\u001b[39m\u001b[39m{\u001b[39;00mdate\u001b[39m}\u001b[39;00m\u001b[39mallModelsMAPEin\u001b[39m\u001b[39m{\u001b[39;00mbenchmark_name\u001b[39m.\u001b[39mupper()\u001b[39m}\u001b[39;00m\u001b[39m\"\u001b[39m,\n\u001b[1;32m     <a href='vscode-notebook-cell://dev-container%2B633a5c55736572735c4172696d615c446f63756d656e74735c4c61623030/workspace/testing_pub.ipynb#ch0000004vscode-remote?line=70'>71</a>\u001b[0m     )\n\u001b[1;32m     <a href='vscode-notebook-cell://dev-container%2B633a5c55736572735c4172696d615c446f63756d656e74735c4c61623030/workspace/testing_pub.ipynb#ch0000004vscode-remote?line=71'>72</a>\u001b[0m )\n",
      "File \u001b[0;32m/workspace/lib/lab_lib.py:3904\u001b[0m, in \u001b[0;36maddLowestMAPEsModelNameColumn\u001b[0;34m(inputDF, model_name_list, version)\u001b[0m\n\u001b[1;32m   <a href='file:///workspace/lib/lab_lib.py?line=3901'>3902</a>\u001b[0m seriesInFunc \u001b[39m=\u001b[39m inputDF\u001b[39m.\u001b[39mloc[func_name]\n\u001b[1;32m   <a href='file:///workspace/lib/lab_lib.py?line=3902'>3903</a>\u001b[0m \u001b[39mfor\u001b[39;00m model_name \u001b[39min\u001b[39;00m model_name_list:\n\u001b[0;32m-> <a href='file:///workspace/lib/lab_lib.py?line=3903'>3904</a>\u001b[0m     elem \u001b[39m=\u001b[39m seriesInFunc[model_name]\n\u001b[1;32m   <a href='file:///workspace/lib/lab_lib.py?line=3904'>3905</a>\u001b[0m     \u001b[39mif\u001b[39;00m \u001b[39mtype\u001b[39m(\u001b[39mfloat\u001b[39m(elem)) \u001b[39m!=\u001b[39m \u001b[39mtype\u001b[39m(\u001b[39mfloat\u001b[39m(lowestInFunc)):\n\u001b[1;32m   <a href='file:///workspace/lib/lab_lib.py?line=3905'>3906</a>\u001b[0m         logger\u001b[39m.\u001b[39mdebug(\n\u001b[1;32m   <a href='file:///workspace/lib/lab_lib.py?line=3906'>3907</a>\u001b[0m             \u001b[39mf\u001b[39m\u001b[39m\"\u001b[39m\u001b[39mtype(elem)=\u001b[39m\u001b[39m{\u001b[39;00m\u001b[39mtype\u001b[39m(elem)\u001b[39m}\u001b[39;00m\u001b[39m, type(lowestInFunc)=\u001b[39m\u001b[39m{\u001b[39;00m\u001b[39mtype\u001b[39m(lowestInFunc)\u001b[39m}\u001b[39;00m\u001b[39m\"\u001b[39m\n\u001b[1;32m   <a href='file:///workspace/lib/lab_lib.py?line=3907'>3908</a>\u001b[0m         )\n",
      "File \u001b[0;32m/usr/local/lib/python3.10/site-packages/pandas/core/series.py:958\u001b[0m, in \u001b[0;36mSeries.__getitem__\u001b[0;34m(self, key)\u001b[0m\n\u001b[1;32m    <a href='file:///usr/local/lib/python3.10/site-packages/pandas/core/series.py?line=954'>955</a>\u001b[0m     \u001b[39mreturn\u001b[39;00m \u001b[39mself\u001b[39m\u001b[39m.\u001b[39m_values[key]\n\u001b[1;32m    <a href='file:///usr/local/lib/python3.10/site-packages/pandas/core/series.py?line=956'>957</a>\u001b[0m \u001b[39melif\u001b[39;00m key_is_scalar:\n\u001b[0;32m--> <a href='file:///usr/local/lib/python3.10/site-packages/pandas/core/series.py?line=957'>958</a>\u001b[0m     \u001b[39mreturn\u001b[39;00m \u001b[39mself\u001b[39;49m\u001b[39m.\u001b[39;49m_get_value(key)\n\u001b[1;32m    <a href='file:///usr/local/lib/python3.10/site-packages/pandas/core/series.py?line=959'>960</a>\u001b[0m \u001b[39mif\u001b[39;00m is_hashable(key):\n\u001b[1;32m    <a href='file:///usr/local/lib/python3.10/site-packages/pandas/core/series.py?line=960'>961</a>\u001b[0m     \u001b[39m# Otherwise index.get_value will raise InvalidIndexError\u001b[39;00m\n\u001b[1;32m    <a href='file:///usr/local/lib/python3.10/site-packages/pandas/core/series.py?line=961'>962</a>\u001b[0m     \u001b[39mtry\u001b[39;00m:\n\u001b[1;32m    <a href='file:///usr/local/lib/python3.10/site-packages/pandas/core/series.py?line=962'>963</a>\u001b[0m         \u001b[39m# For labels that don't resolve as scalars like tuples and frozensets\u001b[39;00m\n",
      "File \u001b[0;32m/usr/local/lib/python3.10/site-packages/pandas/core/series.py:1069\u001b[0m, in \u001b[0;36mSeries._get_value\u001b[0;34m(self, label, takeable)\u001b[0m\n\u001b[1;32m   <a href='file:///usr/local/lib/python3.10/site-packages/pandas/core/series.py?line=1065'>1066</a>\u001b[0m     \u001b[39mreturn\u001b[39;00m \u001b[39mself\u001b[39m\u001b[39m.\u001b[39m_values[label]\n\u001b[1;32m   <a href='file:///usr/local/lib/python3.10/site-packages/pandas/core/series.py?line=1067'>1068</a>\u001b[0m \u001b[39m# Similar to Index.get_value, but we do not fall back to positional\u001b[39;00m\n\u001b[0;32m-> <a href='file:///usr/local/lib/python3.10/site-packages/pandas/core/series.py?line=1068'>1069</a>\u001b[0m loc \u001b[39m=\u001b[39m \u001b[39mself\u001b[39;49m\u001b[39m.\u001b[39;49mindex\u001b[39m.\u001b[39;49mget_loc(label)\n\u001b[1;32m   <a href='file:///usr/local/lib/python3.10/site-packages/pandas/core/series.py?line=1069'>1070</a>\u001b[0m \u001b[39mreturn\u001b[39;00m \u001b[39mself\u001b[39m\u001b[39m.\u001b[39mindex\u001b[39m.\u001b[39m_get_values_for_loc(\u001b[39mself\u001b[39m, loc, label)\n",
      "File \u001b[0;32m/usr/local/lib/python3.10/site-packages/pandas/core/indexes/base.py:3623\u001b[0m, in \u001b[0;36mIndex.get_loc\u001b[0;34m(self, key, method, tolerance)\u001b[0m\n\u001b[1;32m   <a href='file:///usr/local/lib/python3.10/site-packages/pandas/core/indexes/base.py?line=3620'>3621</a>\u001b[0m     \u001b[39mreturn\u001b[39;00m \u001b[39mself\u001b[39m\u001b[39m.\u001b[39m_engine\u001b[39m.\u001b[39mget_loc(casted_key)\n\u001b[1;32m   <a href='file:///usr/local/lib/python3.10/site-packages/pandas/core/indexes/base.py?line=3621'>3622</a>\u001b[0m \u001b[39mexcept\u001b[39;00m \u001b[39mKeyError\u001b[39;00m \u001b[39mas\u001b[39;00m err:\n\u001b[0;32m-> <a href='file:///usr/local/lib/python3.10/site-packages/pandas/core/indexes/base.py?line=3622'>3623</a>\u001b[0m     \u001b[39mraise\u001b[39;00m \u001b[39mKeyError\u001b[39;00m(key) \u001b[39mfrom\u001b[39;00m \u001b[39merr\u001b[39;00m\n\u001b[1;32m   <a href='file:///usr/local/lib/python3.10/site-packages/pandas/core/indexes/base.py?line=3623'>3624</a>\u001b[0m \u001b[39mexcept\u001b[39;00m \u001b[39mTypeError\u001b[39;00m:\n\u001b[1;32m   <a href='file:///usr/local/lib/python3.10/site-packages/pandas/core/indexes/base.py?line=3624'>3625</a>\u001b[0m     \u001b[39m# If we have a listlike key, _check_indexing_error will raise\u001b[39;00m\n\u001b[1;32m   <a href='file:///usr/local/lib/python3.10/site-packages/pandas/core/indexes/base.py?line=3625'>3626</a>\u001b[0m     \u001b[39m#  InvalidIndexError. Otherwise we fall through and re-raise\u001b[39;00m\n\u001b[1;32m   <a href='file:///usr/local/lib/python3.10/site-packages/pandas/core/indexes/base.py?line=3626'>3627</a>\u001b[0m     \u001b[39m#  the TypeError.\u001b[39;00m\n\u001b[1;32m   <a href='file:///usr/local/lib/python3.10/site-packages/pandas/core/indexes/base.py?line=3627'>3628</a>\u001b[0m     \u001b[39mself\u001b[39m\u001b[39m.\u001b[39m_check_indexing_error(key)\n",
      "\u001b[0;31mKeyError\u001b[0m: '問題サイズの変数の総乗とプロセス数とをかける'"
     ]
    }
   ],
   "source": [
    "benchmark_name: str = \"cg\"\n",
    "\n",
    "classes: list[str] = [\"A\", \"B\", \"C\", \"D\", \"E\", \"F\"]\n",
    "processes: list[int] = [2, 4, 8, 16, 32, 64, 128, 256]\n",
    "\n",
    "dict_column_names_JP: dict[str, str] = {\n",
    "    \"functionName\": \"関数名\",\n",
    "    \"modelLin\": \"線形\",\n",
    "    \"modelIp\": \"反比例\",\n",
    "    \"modelLog\": \"対数\",\n",
    "    \"modelLinAndIp\": \"線形＆反比例\",\n",
    "    \"modelLinAndLog\": \"線形＆対数\",\n",
    "    \"modelIpAndLin\": \"反比例＆線形\",\n",
    "    \"modelIpAndLog\": \"反比例＆対数\",\n",
    "    \"modelLogAndLin\": \"対数＆線形\",\n",
    "    \"modelLogAndIp\": \"対数＆反比例\",\n",
    "    \"modelProcessDividedByProblemSize\": \"プロセス数を問題サイズで割る\",\n",
    "    \"modelProblemSizeDividedByProcess\": \"問題サイズをプロセス数で割る\",\n",
    "    \"modelInfiniteProductOfProblemSizeMultipliedByProcesses\": \"問題サイズの変数の総乗とプロセス数とをかける\",\n",
    "    \"InfiniteProductOfProblemSizeDividedByProcesses\": \"問題サイズの変数の総乗をプロセス数で割る\",\n",
    "    \"modelBasicTree\": \"回帰木\",\n",
    "}\n",
    "\n",
    "model_names_list_JP: list[str] = list(dict_column_names_JP.values())\n",
    "model_names_list_JP.remove(\"関数名\")\n",
    "\n",
    "model_names_list: list[str] = list(dict_column_names_JP.keys())\n",
    "model_names_list.remove(\"functionName\")\n",
    "\n",
    "date: str = \"2022年3月23日\"\n",
    "\n",
    "# コア数と問題サイズの両方を振る\n",
    "\n",
    "rawDF: pd.DataFrame = return_rawDF_with_init_param(\n",
    "    benchmark_name=benchmark_name,\n",
    "    classes=classes,\n",
    "    processes=processes,\n",
    "    csv_dir_path=\"./csv_files/\",\n",
    ")\n",
    "\n",
    "exp_var: list[str] = rawDF.columns.tolist()\n",
    "for element_be_removed in [\n",
    "    \"functionName\",\n",
    "    \"functionCallNum\",\n",
    "    \"intBenchmarkClass\",\n",
    "    \"benchmarkName\",\n",
    "    \"benchmarkClass\",\n",
    "]:\n",
    "    exp_var.remove(element_be_removed)\n",
    "res_var: list[str] = [\"functionCallNum\"]\n",
    "\n",
    "print(f\"exp_var = {exp_var}\")\n",
    "\n",
    "returned_MAPE_table: pd.DataFrame = return_MAPE_Table_DF_from_rawDF(\n",
    "    rawDF=rawDF,\n",
    "    exp_var_list=exp_var,\n",
    "    res_var_list=res_var,\n",
    "    model_name_list=model_names_list,\n",
    ")\n",
    "df: pd.DataFrame = returned_MAPE_table.rename(columns=dict_column_names_JP)\n",
    "df = df.set_index(\"関数名\")\n",
    "df = df.sort_index(axis=0)\n",
    "df = df.sort_index(axis=1)\n",
    "\n",
    "df = addLowestMAPEsModelNameColumn(df, version=2, model_name_list=model_names_list_JP)\n",
    "\n",
    "print(\n",
    "    df.style.set_precision(2).to_latex(\n",
    "        caption=f\"ベンチマークプログラム{benchmark_name.upper()}における各モデルでのMAPE\",\n",
    "        label=f\"{date}allModelsMAPEin{benchmark_name.upper()}\",\n",
    "    )\n",
    ")"
   ]
  },
  {
   "cell_type": "markdown",
   "metadata": {},
   "source": []
  }
 ],
 "metadata": {
  "kernelspec": {
   "display_name": "Python 3 (ipykernel)",
   "language": "python",
   "name": "python3"
  },
  "language_info": {
   "codemirror_mode": {
    "name": "ipython",
    "version": 3
   },
   "file_extension": ".py",
   "mimetype": "text/x-python",
   "name": "python",
   "nbconvert_exporter": "python",
   "pygments_lexer": "ipython3",
   "version": "3.10.0"
  }
 },
 "nbformat": 4,
 "nbformat_minor": 4
}
