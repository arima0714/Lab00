{
 "cells": [
  {
   "cell_type": "code",
   "execution_count": 1,
   "metadata": {},
   "outputs": [
    {
     "name": "stderr",
     "output_type": "stream",
     "text": [
      "DEBUG:__main__:hello\n"
     ]
    }
   ],
   "source": [
    "# ipynb形式のライブラリのインポート\n",
    "%run ./lib/lib.ipynb\n",
    "\n",
    "# 生データの入ったCSVファイルの保持されたディレクトリ名を格納している変数\n",
    "csvDirPath = \"./csv_files/\"\n",
    "benchmarkNames = [\"cg\", \"ep\", \"ft\", \"is\", \"lu\", \"mg\"]"
   ]
  },
  {
   "cell_type": "code",
   "execution_count": 2,
   "metadata": {},
   "outputs": [
    {
     "name": "stderr",
     "output_type": "stream",
     "text": [
      "DEBUG:lib.lab_lib:hello\n"
     ]
    }
   ],
   "source": [
    "# ipynb形式のライブラリノートを.py形式に変更したものをインポート\n",
    "import lib\n",
    "import lib.lab_lib\n",
    "from lib.lab_lib import *"
   ]
  },
  {
   "cell_type": "markdown",
   "metadata": {},
   "source": [
    "# 新たなモデルの実装\n",
    "\n",
    "下記のモデル式を実現するモデルを実装する\n",
    "\n",
    "$$\n",
    "T = aXY + bXZ + cYZ + d\n",
    "$$\n",
    "\n",
    "T,X,Y,Z はそれぞれ関数コール回数・プロセス数・問題サイズ1・問題サイズ2\n",
    "a,b,c は係数、dは切片\n",
    "\n",
    "# TODOs\n",
    "\n",
    "* ✅テストの作成\n",
    "* ✅列名のリストにおいてモデル構築に必要な列の組み合わせを作成\n",
    "* 実装\n"
   ]
  },
  {
   "cell_type": "code",
   "execution_count": 3,
   "metadata": {},
   "outputs": [
    {
     "data": {
      "text/plain": [
       "[('plot1', 'plot2'),\n",
       " ('plot1', 'plot3'),\n",
       " ('plot1', 'plot4'),\n",
       " ('plot1', 'plot5'),\n",
       " ('plot2', 'plot3'),\n",
       " ('plot2', 'plot4'),\n",
       " ('plot2', 'plot5'),\n",
       " ('plot3', 'plot4'),\n",
       " ('plot3', 'plot5'),\n",
       " ('plot4', 'plot5')]"
      ]
     },
     "execution_count": 3,
     "metadata": {},
     "output_type": "execute_result"
    }
   ],
   "source": [
    "exp_names: list[str] = [\"plot1\", \"plot2\", \"plot3\", \"plot4\", \"plot5\"]\n",
    "combinations_exp_name = list(itertools.combinations(exp_names, 2))\n",
    "combinations_exp_name"
   ]
  },
  {
   "cell_type": "code",
   "execution_count": 4,
   "metadata": {},
   "outputs": [],
   "source": [
    "test_Model_LinearSumOf2elementCombination_ForMultipleRegression()"
   ]
  }
 ],
 "metadata": {
  "kernelspec": {
   "display_name": "Python 3 (ipykernel)",
   "language": "python",
   "name": "python3"
  },
  "language_info": {
   "codemirror_mode": {
    "name": "ipython",
    "version": 3
   },
   "file_extension": ".py",
   "mimetype": "text/x-python",
   "name": "python",
   "nbconvert_exporter": "python",
   "pygments_lexer": "ipython3",
   "version": "3.10.0"
  }
 },
 "nbformat": 4,
 "nbformat_minor": 4
}
