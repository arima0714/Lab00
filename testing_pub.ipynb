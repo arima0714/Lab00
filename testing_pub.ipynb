{
 "cells": [
  {
   "cell_type": "code",
   "execution_count": 1,
   "metadata": {},
   "outputs": [
    {
     "name": "stderr",
     "output_type": "stream",
     "text": [
      "DEBUG:__main__:hello\n",
      "DEBUG:lib.lab_lib:hello\n"
     ]
    }
   ],
   "source": [
    "jupyter_pwd = %pwd\n",
    "if jupyter_pwd == \"/\":\n",
    "    %cd /workspace\n",
    "\n",
    "\n",
    "# ipynb形式のライブラリのインポート\n",
    "%run ./lib/lib.ipynb\n",
    "\n",
    "# ipynb形式のライブラリノートを.py形式に変更したものをインポート\n",
    "import lib\n",
    "import lib.lab_lib\n",
    "from lib.lab_lib import *\n",
    "\n",
    "# 生データの入ったCSVファイルの保持されたディレクトリ名を格納している変数\n",
    "csvDirPath = \"./csv_files/\"\n",
    "\n",
    "# NPBのベンチマーク名のリスト\n",
    "benchmarkNames = [\"cg\", \"ep\", \"ft\", \"is\", \"lu\", \"mg\"]\n",
    "\n",
    "# LULESH ベンチマークプログラムのプロセス数・問題サイズ・イテレーション数\n",
    "lulesh_processes: list[int] = [8, 27, 64, 125, 216, 343, 512]\n",
    "lulesh_iterations: list[int] = [8, 16, 32, 64, 128, 256]\n",
    "lulesh_sizes: list[int] = [16, 24, 32, 48, 64, 128]\n",
    "\n",
    "train_lulesh_processes: list[int] = [8, 27, 64, 125, 216, 343]\n",
    "train_lulesh_iterations: list[int] = [8, 16, 32, 64, 128]\n",
    "train_lulesh_sizes: list[int] = [16, 24, 32, 48]\n",
    "\n",
    "test_lulesh_processes: list[int] = [512, 729, 1000]\n",
    "test_lulesh_iterations: list[int] = [256, 512, 1024]\n",
    "test_lulesh_sizes: list[int] = [64, 96, 128]\n",
    "\n",
    "list_modelName: list[str] = [\n",
    "    \"modelIp\",\n",
    "    \"modelLog\",\n",
    "    \"modelLinAndIp\",\n",
    "    \"modelLinAndLog\",\n",
    "    \"modelIpAndLin\",\n",
    "    \"modelIpAndLog\",\n",
    "    \"modelLogAndLin\",\n",
    "    \"modelLogAndIp\",\n",
    "    \"modelProcessDividedByProblemSize\",\n",
    "    \"modelProblemSizeDividedByProcess\",\n",
    "    \"modelInfiniteProductOfProblemSizeMultipliedByProcesses\",\n",
    "    \"modelInfiniteProductOfProblemSizeDividedByProcesses\",\n",
    "    \"modelLinearSumOf2elementCombination\",\n",
    "    \"modelLinearSumOfElementCombinations\",\n",
    "    \"modelLinearSumOf2elementCombinationWithSquared\",\n",
    "    \"modelLinearSumOf2elementCombinationWithCubed\",\n",
    "    \"modelSquareRootOfProcess\",\n",
    "    \"modelSquareRootTimesOtherElems\",\n",
    "    \"modelObeyOneParameter\",\n",
    "    \"modelLin\"\n",
    "    # \"modelBasicTree\",\n",
    "]"
   ]
  },
  {
   "cell_type": "code",
   "execution_count": null,
   "metadata": {},
   "outputs": [],
   "source": []
  }
 ],
 "metadata": {
  "interpreter": {
   "hash": "949777d72b0d2535278d3dc13498b2535136f6dfe0678499012e853ee9abcab1"
  },
  "kernelspec": {
   "display_name": "Python 3 (ipykernel)",
   "language": "python",
   "name": "python3"
  },
  "language_info": {
   "codemirror_mode": {
    "name": "ipython",
    "version": 3
   },
   "file_extension": ".py",
   "mimetype": "text/x-python",
   "name": "python",
   "nbconvert_exporter": "python",
   "pygments_lexer": "ipython3",
   "version": "3.10.7"
  }
 },
 "nbformat": 4,
 "nbformat_minor": 4
}
