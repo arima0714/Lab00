{
 "cells": [
  {
   "cell_type": "code",
   "execution_count": 1,
   "metadata": {},
   "outputs": [
    {
     "name": "stderr",
     "output_type": "stream",
     "text": [
      "DEBUG:__main__:hello\n",
      "DEBUG:lib.lab_lib:hello\n"
     ]
    }
   ],
   "source": [
    "jupyter_pwd = %pwd\n",
    "if jupyter_pwd == \"/\":\n",
    "    %cd /workspace\n",
    "\n",
    "\n",
    "# ipynb形式のライブラリのインポート\n",
    "%run ./lib/lib.ipynb\n",
    "\n",
    "# ipynb形式のライブラリノートを.py形式に変更したものをインポート\n",
    "import lib\n",
    "import lib.lab_lib\n",
    "from lib.lab_lib import *\n",
    "\n",
    "# 生データの入ったCSVファイルの保持されたディレクトリ名を格納している変数\n",
    "csvDirPath = \"./csv_files/\"\n",
    "\n",
    "# NPBのベンチマーク名のリスト\n",
    "benchmarkNames = [\"cg\", \"ep\", \"ft\", \"is\", \"lu\", \"mg\"]\n",
    "\n",
    "# NPBのプロセス数\n",
    "npb_process :list[int] = [2, 4, 8, 16, 32, 64, 128, 256]\n",
    "train_npb_process :list[int] = npb_process[:-1]\n",
    "test_npb_process :list[int] = npb_process[-1:]\n",
    "# NPBのCGの初期変数\n",
    "cg_na: list[int] = [14000, 30000, 75000, 100000, 1500000]\n",
    "cg_nonzer: list[int] = [11, 12, 13, 14, 15, 18, 21]\n",
    "cg_niter: list[int] = [15, 30, 75, 90, 100]\n",
    "cg_shift: list[int] = [20, 40, 60, 80, 110, 200]\n",
    "\n",
    "train_cg_na: list[int] = cg_na[:-1]\n",
    "train_cg_nonzer: list[int] = cg_nonzer[:-1]\n",
    "train_cg_niter: list[int] = cg_niter[:-1]\n",
    "train_cg_shift: list[int] = cg_shift[:-1]\n",
    "\n",
    "test_cg_na: list[int] = cg_na[-1:]\n",
    "test_cg_nonzer: list[int] = cg_nonzer[-1:]\n",
    "test_cg_niter: list[int] = cg_niter[-1:]\n",
    "test_cg_shift: list[int] = cg_shift[-1:]\n",
    "\n",
    "# LULESH ベンチマークプログラムのプロセス数・問題サイズ・イテレーション数\n",
    "lulesh_processes: list[int] = [8, 27, 64, 125, 216, 343, 512]\n",
    "lulesh_iterations: list[int] = [8, 16, 32, 64, 128, 256]\n",
    "lulesh_sizes: list[int] = [16, 24, 32, 48, 64, 128]\n",
    "\n",
    "train_lulesh_processes: list[int] = [8, 27, 64, 125, 216, 343]\n",
    "train_lulesh_iterations: list[int] = [8, 16, 32, 64, 128]\n",
    "train_lulesh_sizes: list[int] = [16, 24, 32, 48]\n",
    "\n",
    "test_lulesh_processes: list[int] = [512, 729, 1000]\n",
    "test_lulesh_iterations: list[int] = [256, 512, 1024]\n",
    "test_lulesh_sizes: list[int] = [64, 96, 128]\n",
    "\n",
    "# Extra-Pのオプション\n",
    "modelerNames: list[str] = [\n",
    "    # \"refining\", \n",
    "    \"multi-parameter\",\n",
    "    \"default\", \n",
    "    # \"basic --options poly_exponents=-1,0,1,2,3 log_exponents=0,1 force_combination_exponents=1 allow_negative_exponents=1\"\n",
    "    ]\n",
    "\n",
    "modelerOption: str = \"\"\" --options \\#spm=Basic \\#spo=poly_exponents=-1,0,1,2,3,log_exponents=0,1,force_combination_exponents=1,allow_negative_exponents=True\"\"\"\n",
    "\n",
    "list_modelName: list[str] = [\n",
    "    \"modelIp\",\n",
    "    \"modelLog\",\n",
    "    \"modelLinAndIp\",\n",
    "    \"modelLinAndLog\",\n",
    "    \"modelIpAndLin\",\n",
    "    \"modelIpAndLog\",\n",
    "    \"modelLogAndLin\",\n",
    "    \"modelLogAndIp\",\n",
    "    \"modelProcessDividedByProblemSize\",\n",
    "    \"modelProblemSizeDividedByProcess\",\n",
    "    \"modelInfiniteProductOfProblemSizeMultipliedByProcesses\",\n",
    "    \"modelInfiniteProductOfProblemSizeDividedByProcesses\",\n",
    "    \"modelLinearSumOf2elementCombination\",\n",
    "    \"modelLinearSumOfElementCombinations\",\n",
    "    \"modelLinearSumOf2elementCombinationWithSquared\",\n",
    "    \"modelLinearSumOf2elementCombinationWithCubed\",\n",
    "    \"modelSquareRootOfProcess\",\n",
    "    \"modelSquareRootTimesOtherElems\",\n",
    "    \"modelObeyOneParameter\",\n",
    "    \"modelLin\"\n",
    "    # \"modelBasicTree\",\n",
    "]\n",
    "list_csvDir = [\n",
    "    \"./csv_files/lulesh_1st/\",\n",
    "    \"./csv_files/lulesh_2nd/\",\n",
    "    \"./csv_files/lulesh_3rd/\",\n",
    "]"
   ]
  },
  {
   "cell_type": "code",
   "execution_count": 2,
   "metadata": {},
   "outputs": [],
   "source": [
    "# LULESH"
   ]
  },
  {
   "cell_type": "code",
   "execution_count": 3,
   "metadata": {},
   "outputs": [],
   "source": [
    "expVar: list[str] = [\"process\", \"iteration\", \"size\"]\n",
    "resVar: str = \"Exclusive\"\n",
    "\n",
    "trainDF: pd.DataFrame = ret_averaged_rawDF_lulesh(\n",
    "    list_process=train_lulesh_processes,\n",
    "    list_iteration=train_lulesh_iterations,\n",
    "    list_size=train_lulesh_sizes,\n",
    "    list_csvDir=list_csvDir,\n",
    "    resVar=resVar,\n",
    ")\n",
    "\n",
    "testDF: pd.DataFrame = ret_averaged_rawDF_lulesh(\n",
    "    list_process=test_lulesh_processes,\n",
    "    list_iteration=test_lulesh_iterations,\n",
    "    list_size=test_lulesh_sizes,\n",
    "    list_csvDir=list_csvDir,\n",
    "    resVar=resVar,\n",
    ")\n",
    "\n",
    "testDF = testDF.reset_index()\n",
    "trainDF = trainDF.reset_index()\n",
    "\n",
    "testDF[\"functionName\"] = testDF[\"Name\"]\n",
    "trainDF[\"functionName\"] = trainDF[\"Name\"]\n",
    "\n",
    "functionNames: list[str] = sorted(list(set(trainDF[\"Name\"])))\n",
    "\n",
    "dict_symbols = {}\n",
    "for elem in expVar:\n",
    "    dict_symbols[elem] = symbols(elem, real=True)\n",
    "\n",
    "target_env = [\n",
    "    (dict_symbols[\"size\"], test_lulesh_sizes[-1]),\n",
    "    (dict_symbols[\"iteration\"], test_lulesh_iterations[-1]),\n",
    "    (dict_symbols[\"process\"], test_lulesh_processes[-1]),\n",
    "]"
   ]
  },
  {
   "cell_type": "code",
   "execution_count": 4,
   "metadata": {
    "collapsed": true,
    "jupyter": {
     "outputs_hidden": true
    },
    "tags": []
   },
   "outputs": [
    {
     "name": "stdout",
     "output_type": "stream",
     "text": [
      "functionName = .TAU_application\n",
      "converted_functionName = -TAU_application\n",
      "filePath = ./extra-p_docker/share/input_lulesh_@-TAU_application\n"
     ]
    },
    {
     "name": "stderr",
     "output_type": "stream",
     "text": [
      "Loading file: 100%|██████████| [00:00<00:00, Validating experiment]\n",
      "Generating models: |          | [00:00<?]/usr/local/lib/python3.10/site-packages/extrap/modelers/single_parameter/basic.py:273: UserWarning: Number of measurements for a parameter needs to be at least 5 in order to create a performance model.\n",
      "  warnings.warn(\n",
      "Generating models: 100%|██████████| [00:00<00:00]\n",
      "Loading file: 100%|██████████| [00:00<00:00, Validating experiment]\n",
      "Generating models: |          | [00:00<?]/usr/local/lib/python3.10/site-packages/extrap/modelers/single_parameter/basic.py:273: UserWarning: Number of measurements for a parameter needs to be at least 5 in order to create a performance model.\n",
      "  warnings.warn(\n",
      "Generating models: 100%|██████████| [00:00<00:00]\n",
      "/usr/local/lib/python3.10/site-packages/scipy/optimize/_minpack_py.py:881: OptimizeWarning: Covariance of the parameters could not be estimated\n",
      "  warnings.warn('Covariance of the parameters could not be estimated',\n",
      "/usr/local/lib/python3.10/site-packages/scipy/optimize/_minpack_py.py:881: OptimizeWarning: Covariance of the parameters could not be estimated\n",
      "  warnings.warn('Covariance of the parameters could not be estimated',\n",
      "/usr/local/lib/python3.10/site-packages/scipy/optimize/_minpack_py.py:881: OptimizeWarning: Covariance of the parameters could not be estimated\n",
      "  warnings.warn('Covariance of the parameters could not be estimated',\n"
     ]
    },
    {
     "name": "stdout",
     "output_type": "stream",
     "text": [
      "functionName = MPI_Allreduce()\n",
      "converted_functionName = MPI_Allreduce--\n",
      "filePath = ./extra-p_docker/share/input_lulesh_@MPI_Allreduce--\n"
     ]
    },
    {
     "name": "stderr",
     "output_type": "stream",
     "text": [
      "Loading file: 100%|██████████| [00:00<00:00, Validating experiment]\n",
      "Generating models: |          | [00:00<?]/usr/local/lib/python3.10/site-packages/extrap/modelers/single_parameter/basic.py:273: UserWarning: Number of measurements for a parameter needs to be at least 5 in order to create a performance model.\n",
      "  warnings.warn(\n",
      "Generating models: 100%|██████████| [00:00<00:00]\n",
      "Loading file: 100%|██████████| [00:00<00:00, Validating experiment]\n",
      "Generating models: |          | [00:00<?]/usr/local/lib/python3.10/site-packages/extrap/modelers/single_parameter/basic.py:273: UserWarning: Number of measurements for a parameter needs to be at least 5 in order to create a performance model.\n",
      "  warnings.warn(\n",
      "Generating models: 100%|██████████| [00:00<00:00]\n"
     ]
    },
    {
     "name": "stdout",
     "output_type": "stream",
     "text": [
      "functionName = MPI_Barrier()\n",
      "converted_functionName = MPI_Barrier--\n",
      "filePath = ./extra-p_docker/share/input_lulesh_@MPI_Barrier--\n"
     ]
    },
    {
     "name": "stderr",
     "output_type": "stream",
     "text": [
      "Loading file: 100%|██████████| [00:00<00:00, Validating experiment]\n",
      "Generating models: |          | [00:00<?]/usr/local/lib/python3.10/site-packages/extrap/modelers/single_parameter/basic.py:273: UserWarning: Number of measurements for a parameter needs to be at least 5 in order to create a performance model.\n",
      "  warnings.warn(\n",
      "Generating models: 100%|██████████| [00:00<00:00]\n",
      "Loading file: 100%|██████████| [00:00<00:00, Validating experiment]\n",
      "Generating models: |          | [00:00<?]/usr/local/lib/python3.10/site-packages/extrap/modelers/single_parameter/basic.py:273: UserWarning: Number of measurements for a parameter needs to be at least 5 in order to create a performance model.\n",
      "  warnings.warn(\n",
      "Generating models: 100%|██████████| [00:00<00:00]\n",
      "/usr/local/lib/python3.10/site-packages/scipy/optimize/_minpack_py.py:881: OptimizeWarning: Covariance of the parameters could not be estimated\n",
      "  warnings.warn('Covariance of the parameters could not be estimated',\n",
      "/usr/local/lib/python3.10/site-packages/scipy/optimize/_minpack_py.py:881: OptimizeWarning: Covariance of the parameters could not be estimated\n",
      "  warnings.warn('Covariance of the parameters could not be estimated',\n",
      "/usr/local/lib/python3.10/site-packages/scipy/optimize/_minpack_py.py:881: OptimizeWarning: Covariance of the parameters could not be estimated\n",
      "  warnings.warn('Covariance of the parameters could not be estimated',\n"
     ]
    },
    {
     "name": "stdout",
     "output_type": "stream",
     "text": [
      "functionName = MPI_Comm_rank()\n",
      "converted_functionName = MPI_Comm_rank--\n",
      "filePath = ./extra-p_docker/share/input_lulesh_@MPI_Comm_rank--\n"
     ]
    },
    {
     "name": "stderr",
     "output_type": "stream",
     "text": [
      "Loading file: 100%|██████████| [00:00<00:00, Validating experiment]\n",
      "Generating models: |          | [00:00<?]/usr/local/lib/python3.10/site-packages/extrap/modelers/single_parameter/basic.py:273: UserWarning: Number of measurements for a parameter needs to be at least 5 in order to create a performance model.\n",
      "  warnings.warn(\n",
      "Generating models: 100%|██████████| [00:00<00:00]\n",
      "Loading file: 100%|██████████| [00:00<00:00, Validating experiment]\n",
      "Generating models: |          | [00:00<?]/usr/local/lib/python3.10/site-packages/extrap/modelers/single_parameter/basic.py:273: UserWarning: Number of measurements for a parameter needs to be at least 5 in order to create a performance model.\n",
      "  warnings.warn(\n",
      "Generating models: 100%|██████████| [00:00<00:00]\n"
     ]
    },
    {
     "name": "stdout",
     "output_type": "stream",
     "text": [
      "functionName = MPI_Comm_size()\n",
      "converted_functionName = MPI_Comm_size--\n",
      "filePath = ./extra-p_docker/share/input_lulesh_@MPI_Comm_size--\n"
     ]
    },
    {
     "name": "stderr",
     "output_type": "stream",
     "text": [
      "Loading file: 100%|██████████| [00:00<00:00, Validating experiment]\n",
      "Generating models: |          | [00:00<?]/usr/local/lib/python3.10/site-packages/extrap/modelers/single_parameter/basic.py:273: UserWarning: Number of measurements for a parameter needs to be at least 5 in order to create a performance model.\n",
      "  warnings.warn(\n",
      "Generating models: 100%|██████████| [00:00<00:00]\n",
      "Loading file: 100%|██████████| [00:00<00:00, Validating experiment]\n",
      "Generating models: |          | [00:00<?]/usr/local/lib/python3.10/site-packages/extrap/modelers/single_parameter/basic.py:273: UserWarning: Number of measurements for a parameter needs to be at least 5 in order to create a performance model.\n",
      "  warnings.warn(\n",
      "Generating models: 100%|██████████| [00:00<00:00]\n",
      "/usr/local/lib/python3.10/site-packages/scipy/optimize/_minpack_py.py:881: OptimizeWarning: Covariance of the parameters could not be estimated\n",
      "  warnings.warn('Covariance of the parameters could not be estimated',\n",
      "/usr/local/lib/python3.10/site-packages/scipy/optimize/_minpack_py.py:881: OptimizeWarning: Covariance of the parameters could not be estimated\n",
      "  warnings.warn('Covariance of the parameters could not be estimated',\n",
      "/usr/local/lib/python3.10/site-packages/scipy/optimize/_minpack_py.py:881: OptimizeWarning: Covariance of the parameters could not be estimated\n",
      "  warnings.warn('Covariance of the parameters could not be estimated',\n"
     ]
    },
    {
     "name": "stdout",
     "output_type": "stream",
     "text": [
      "functionName = MPI_Finalize()\n",
      "converted_functionName = MPI_Finalize--\n",
      "filePath = ./extra-p_docker/share/input_lulesh_@MPI_Finalize--\n"
     ]
    },
    {
     "name": "stderr",
     "output_type": "stream",
     "text": [
      "Loading file: 100%|██████████| [00:00<00:00, Validating experiment]\n",
      "Generating models: |          | [00:00<?]/usr/local/lib/python3.10/site-packages/extrap/modelers/single_parameter/basic.py:273: UserWarning: Number of measurements for a parameter needs to be at least 5 in order to create a performance model.\n",
      "  warnings.warn(\n",
      "Generating models: 100%|██████████| [00:00<00:00]\n",
      "Loading file: 100%|██████████| [00:00<00:00, Validating experiment]\n",
      "Generating models: |          | [00:00<?]/usr/local/lib/python3.10/site-packages/extrap/modelers/single_parameter/basic.py:273: UserWarning: Number of measurements for a parameter needs to be at least 5 in order to create a performance model.\n",
      "  warnings.warn(\n",
      "Generating models: 100%|██████████| [00:00<00:00]\n",
      "/usr/local/lib/python3.10/site-packages/scipy/optimize/_minpack_py.py:881: OptimizeWarning: Covariance of the parameters could not be estimated\n",
      "  warnings.warn('Covariance of the parameters could not be estimated',\n",
      "/usr/local/lib/python3.10/site-packages/scipy/optimize/_minpack_py.py:881: OptimizeWarning: Covariance of the parameters could not be estimated\n",
      "  warnings.warn('Covariance of the parameters could not be estimated',\n",
      "/usr/local/lib/python3.10/site-packages/scipy/optimize/_minpack_py.py:881: OptimizeWarning: Covariance of the parameters could not be estimated\n",
      "  warnings.warn('Covariance of the parameters could not be estimated',\n"
     ]
    },
    {
     "name": "stdout",
     "output_type": "stream",
     "text": [
      "functionName = MPI_Init()\n",
      "converted_functionName = MPI_Init--\n",
      "filePath = ./extra-p_docker/share/input_lulesh_@MPI_Init--\n"
     ]
    },
    {
     "name": "stderr",
     "output_type": "stream",
     "text": [
      "Loading file: 100%|██████████| [00:00<00:00, Validating experiment]\n",
      "Generating models: |          | [00:00<?]/usr/local/lib/python3.10/site-packages/extrap/modelers/single_parameter/basic.py:273: UserWarning: Number of measurements for a parameter needs to be at least 5 in order to create a performance model.\n",
      "  warnings.warn(\n",
      "Generating models: 100%|██████████| [00:00<00:00]\n",
      "Loading file: 100%|██████████| [00:00<00:00, Validating experiment]\n",
      "Generating models: |          | [00:00<?]/usr/local/lib/python3.10/site-packages/extrap/modelers/single_parameter/basic.py:273: UserWarning: Number of measurements for a parameter needs to be at least 5 in order to create a performance model.\n",
      "  warnings.warn(\n",
      "Generating models: 100%|██████████| [00:00<00:00]\n",
      "/usr/local/lib/python3.10/site-packages/scipy/optimize/_minpack_py.py:881: OptimizeWarning: Covariance of the parameters could not be estimated\n",
      "  warnings.warn('Covariance of the parameters could not be estimated',\n",
      "/usr/local/lib/python3.10/site-packages/scipy/optimize/_minpack_py.py:881: OptimizeWarning: Covariance of the parameters could not be estimated\n",
      "  warnings.warn('Covariance of the parameters could not be estimated',\n",
      "/usr/local/lib/python3.10/site-packages/scipy/optimize/_minpack_py.py:881: OptimizeWarning: Covariance of the parameters could not be estimated\n",
      "  warnings.warn('Covariance of the parameters could not be estimated',\n"
     ]
    },
    {
     "name": "stdout",
     "output_type": "stream",
     "text": [
      "functionName = MPI_Irecv()\n",
      "converted_functionName = MPI_Irecv--\n",
      "filePath = ./extra-p_docker/share/input_lulesh_@MPI_Irecv--\n"
     ]
    },
    {
     "name": "stderr",
     "output_type": "stream",
     "text": [
      "Loading file: 100%|██████████| [00:00<00:00, Validating experiment]\n",
      "Generating models: |          | [00:00<?]/usr/local/lib/python3.10/site-packages/extrap/modelers/single_parameter/basic.py:273: UserWarning: Number of measurements for a parameter needs to be at least 5 in order to create a performance model.\n",
      "  warnings.warn(\n",
      "Generating models: 100%|██████████| [00:00<00:00]\n",
      "Loading file: 100%|██████████| [00:00<00:00, Validating experiment]\n",
      "Generating models: |          | [00:00<?]/usr/local/lib/python3.10/site-packages/extrap/modelers/single_parameter/basic.py:273: UserWarning: Number of measurements for a parameter needs to be at least 5 in order to create a performance model.\n",
      "  warnings.warn(\n",
      "Generating models: 100%|██████████| [00:00<00:00]\n"
     ]
    },
    {
     "name": "stdout",
     "output_type": "stream",
     "text": [
      "functionName = MPI_Isend()\n",
      "converted_functionName = MPI_Isend--\n",
      "filePath = ./extra-p_docker/share/input_lulesh_@MPI_Isend--\n"
     ]
    },
    {
     "name": "stderr",
     "output_type": "stream",
     "text": [
      "Loading file: 100%|██████████| [00:00<00:00, Validating experiment]\n",
      "Generating models: |          | [00:00<?]/usr/local/lib/python3.10/site-packages/extrap/modelers/single_parameter/basic.py:273: UserWarning: Number of measurements for a parameter needs to be at least 5 in order to create a performance model.\n",
      "  warnings.warn(\n",
      "Generating models: 100%|██████████| [00:00<00:00]\n",
      "Loading file: 100%|██████████| [00:00<00:00, Validating experiment]\n",
      "Generating models: |          | [00:00<?]/usr/local/lib/python3.10/site-packages/extrap/modelers/single_parameter/basic.py:273: UserWarning: Number of measurements for a parameter needs to be at least 5 in order to create a performance model.\n",
      "  warnings.warn(\n",
      "Generating models: 100%|██████████| [00:00<00:00]\n"
     ]
    },
    {
     "name": "stdout",
     "output_type": "stream",
     "text": [
      "functionName = MPI_Reduce()\n",
      "converted_functionName = MPI_Reduce--\n",
      "filePath = ./extra-p_docker/share/input_lulesh_@MPI_Reduce--\n"
     ]
    },
    {
     "name": "stderr",
     "output_type": "stream",
     "text": [
      "Loading file: 100%|██████████| [00:00<00:00, Validating experiment]\n",
      "Generating models: |          | [00:00<?]/usr/local/lib/python3.10/site-packages/extrap/modelers/single_parameter/basic.py:273: UserWarning: Number of measurements for a parameter needs to be at least 5 in order to create a performance model.\n",
      "  warnings.warn(\n",
      "Generating models: 100%|██████████| [00:00<00:00]\n",
      "Loading file: 100%|██████████| [00:00<00:00, Validating experiment]\n",
      "Generating models: |          | [00:00<?]/usr/local/lib/python3.10/site-packages/extrap/modelers/single_parameter/basic.py:273: UserWarning: Number of measurements for a parameter needs to be at least 5 in order to create a performance model.\n",
      "  warnings.warn(\n",
      "Generating models: 100%|██████████| [00:00<00:00]\n",
      "/usr/local/lib/python3.10/site-packages/scipy/optimize/_minpack_py.py:881: OptimizeWarning: Covariance of the parameters could not be estimated\n",
      "  warnings.warn('Covariance of the parameters could not be estimated',\n",
      "/usr/local/lib/python3.10/site-packages/scipy/optimize/_minpack_py.py:881: OptimizeWarning: Covariance of the parameters could not be estimated\n",
      "  warnings.warn('Covariance of the parameters could not be estimated',\n",
      "/usr/local/lib/python3.10/site-packages/scipy/optimize/_minpack_py.py:881: OptimizeWarning: Covariance of the parameters could not be estimated\n",
      "  warnings.warn('Covariance of the parameters could not be estimated',\n"
     ]
    },
    {
     "name": "stdout",
     "output_type": "stream",
     "text": [
      "functionName = MPI_Wait()\n",
      "converted_functionName = MPI_Wait--\n",
      "filePath = ./extra-p_docker/share/input_lulesh_@MPI_Wait--\n"
     ]
    },
    {
     "name": "stderr",
     "output_type": "stream",
     "text": [
      "Loading file: 100%|██████████| [00:00<00:00, Validating experiment]\n",
      "Generating models: |          | [00:00<?]/usr/local/lib/python3.10/site-packages/extrap/modelers/single_parameter/basic.py:273: UserWarning: Number of measurements for a parameter needs to be at least 5 in order to create a performance model.\n",
      "  warnings.warn(\n",
      "Generating models: 100%|██████████| [00:00<00:00]\n",
      "Loading file: 100%|██████████| [00:00<00:00, Validating experiment]\n",
      "Generating models: |          | [00:00<?]/usr/local/lib/python3.10/site-packages/extrap/modelers/single_parameter/basic.py:273: UserWarning: Number of measurements for a parameter needs to be at least 5 in order to create a performance model.\n",
      "  warnings.warn(\n",
      "Generating models: 100%|██████████| [00:00<00:00]\n"
     ]
    },
    {
     "name": "stdout",
     "output_type": "stream",
     "text": [
      "functionName = MPI_Waitall()\n",
      "converted_functionName = MPI_Waitall--\n",
      "filePath = ./extra-p_docker/share/input_lulesh_@MPI_Waitall--\n"
     ]
    },
    {
     "name": "stderr",
     "output_type": "stream",
     "text": [
      "Loading file: 100%|██████████| [00:00<00:00, Validating experiment]\n",
      "Generating models: |          | [00:00<?]/usr/local/lib/python3.10/site-packages/extrap/modelers/single_parameter/basic.py:273: UserWarning: Number of measurements for a parameter needs to be at least 5 in order to create a performance model.\n",
      "  warnings.warn(\n",
      "Generating models: 100%|██████████| [00:00<00:00]\n",
      "Loading file: 100%|██████████| [00:00<00:00, Validating experiment]\n",
      "Generating models: |          | [00:00<?]/usr/local/lib/python3.10/site-packages/extrap/modelers/single_parameter/basic.py:273: UserWarning: Number of measurements for a parameter needs to be at least 5 in order to create a performance model.\n",
      "  warnings.warn(\n",
      "Generating models: 100%|██████████| [00:00<00:00]\n"
     ]
    },
    {
     "name": "stdout",
     "output_type": "stream",
     "text": [
      "functionName = Real_t_CalcElemVolume(const\n",
      "converted_functionName = Real_t_CalcElemVolume-const\n",
      "filePath = ./extra-p_docker/share/input_lulesh_@Real_t_CalcElemVolume-const\n"
     ]
    },
    {
     "name": "stderr",
     "output_type": "stream",
     "text": [
      "Loading file: 100%|██████████| [00:00<00:00, Validating experiment]\n",
      "Generating models: |          | [00:00<?]/usr/local/lib/python3.10/site-packages/extrap/modelers/single_parameter/basic.py:273: UserWarning: Number of measurements for a parameter needs to be at least 5 in order to create a performance model.\n",
      "  warnings.warn(\n",
      "Generating models: 100%|██████████| [00:00<00:00]\n",
      "Loading file: 100%|██████████| [00:00<00:00, Validating experiment]\n",
      "Generating models: |          | [00:00<?]/usr/local/lib/python3.10/site-packages/extrap/modelers/single_parameter/basic.py:273: UserWarning: Number of measurements for a parameter needs to be at least 5 in order to create a performance model.\n",
      "  warnings.warn(\n",
      "Generating models: 100%|██████████| [00:00<00:00]\n"
     ]
    },
    {
     "name": "stdout",
     "output_type": "stream",
     "text": [
      "functionName = StrToInt\n",
      "converted_functionName = StrToInt\n",
      "filePath = ./extra-p_docker/share/input_lulesh_@StrToInt\n"
     ]
    },
    {
     "name": "stderr",
     "output_type": "stream",
     "text": [
      "Loading file: 100%|██████████| [00:00<00:00, Validating experiment]\n",
      "Generating models: |          | [00:00<?]/usr/local/lib/python3.10/site-packages/extrap/modelers/single_parameter/basic.py:273: UserWarning: Number of measurements for a parameter needs to be at least 5 in order to create a performance model.\n",
      "  warnings.warn(\n",
      "Generating models: 100%|██████████| [00:00<00:00]\n",
      "Loading file: 100%|██████████| [00:00<00:00, Validating experiment]\n",
      "Generating models: |          | [00:00<?]/usr/local/lib/python3.10/site-packages/extrap/modelers/single_parameter/basic.py:273: UserWarning: Number of measurements for a parameter needs to be at least 5 in order to create a performance model.\n",
      "  warnings.warn(\n",
      "Generating models: 100%|██████████| [00:00<00:00]\n",
      "/usr/local/lib/python3.10/site-packages/scipy/optimize/_minpack_py.py:881: OptimizeWarning: Covariance of the parameters could not be estimated\n",
      "  warnings.warn('Covariance of the parameters could not be estimated',\n",
      "/usr/local/lib/python3.10/site-packages/scipy/optimize/_minpack_py.py:881: OptimizeWarning: Covariance of the parameters could not be estimated\n",
      "  warnings.warn('Covariance of the parameters could not be estimated',\n"
     ]
    },
    {
     "name": "stdout",
     "output_type": "stream",
     "text": [
      "functionName = int_main(int_char_**)\n",
      "converted_functionName = int_main-int_char_**-\n",
      "filePath = ./extra-p_docker/share/input_lulesh_@int_main-int_char_**-\n"
     ]
    },
    {
     "name": "stderr",
     "output_type": "stream",
     "text": [
      "Loading file: 100%|██████████| [00:00<00:00, Validating experiment]\n",
      "Generating models: |          | [00:00<?]/usr/local/lib/python3.10/site-packages/extrap/modelers/single_parameter/basic.py:273: UserWarning: Number of measurements for a parameter needs to be at least 5 in order to create a performance model.\n",
      "  warnings.warn(\n",
      "Generating models: 100%|██████████| [00:00<00:00]\n",
      "Loading file: 100%|██████████| [00:00<00:00, Validating experiment]\n",
      "Generating models: |          | [00:00<?]/usr/local/lib/python3.10/site-packages/extrap/modelers/single_parameter/basic.py:273: UserWarning: Number of measurements for a parameter needs to be at least 5 in order to create a performance model.\n",
      "  warnings.warn(\n",
      "Generating models: 100%|██████████| [00:00<00:00]\n",
      "/usr/local/lib/python3.10/site-packages/scipy/optimize/_minpack_py.py:881: OptimizeWarning: Covariance of the parameters could not be estimated\n",
      "  warnings.warn('Covariance of the parameters could not be estimated',\n",
      "/usr/local/lib/python3.10/site-packages/scipy/optimize/_minpack_py.py:881: OptimizeWarning: Covariance of the parameters could not be estimated\n",
      "  warnings.warn('Covariance of the parameters could not be estimated',\n",
      "/usr/local/lib/python3.10/site-packages/scipy/optimize/_minpack_py.py:881: OptimizeWarning: Covariance of the parameters could not be estimated\n",
      "  warnings.warn('Covariance of the parameters could not be estimated',\n"
     ]
    },
    {
     "name": "stdout",
     "output_type": "stream",
     "text": [
      "functionName = void_CalcKinematicsForElems(Domain\n",
      "converted_functionName = void_CalcKinematicsForElems-Domain\n",
      "filePath = ./extra-p_docker/share/input_lulesh_@void_CalcKinematicsForElems-Domain\n"
     ]
    },
    {
     "name": "stderr",
     "output_type": "stream",
     "text": [
      "Loading file: 100%|██████████| [00:00<00:00, Validating experiment]\n",
      "Generating models: |          | [00:00<?]/usr/local/lib/python3.10/site-packages/extrap/modelers/single_parameter/basic.py:273: UserWarning: Number of measurements for a parameter needs to be at least 5 in order to create a performance model.\n",
      "  warnings.warn(\n",
      "Generating models: 100%|██████████| [00:00<00:00]\n",
      "Loading file: 100%|██████████| [00:00<00:00, Validating experiment]\n",
      "Generating models: |          | [00:00<?]/usr/local/lib/python3.10/site-packages/extrap/modelers/single_parameter/basic.py:273: UserWarning: Number of measurements for a parameter needs to be at least 5 in order to create a performance model.\n",
      "  warnings.warn(\n",
      "Generating models: 100%|██████████| [00:00<00:00]\n"
     ]
    },
    {
     "name": "stdout",
     "output_type": "stream",
     "text": [
      "functionName = void_CommMonoQ(Domain\n",
      "converted_functionName = void_CommMonoQ-Domain\n",
      "filePath = ./extra-p_docker/share/input_lulesh_@void_CommMonoQ-Domain\n"
     ]
    },
    {
     "name": "stderr",
     "output_type": "stream",
     "text": [
      "Loading file: 100%|██████████| [00:00<00:00, Validating experiment]\n",
      "Generating models: |          | [00:00<?]/usr/local/lib/python3.10/site-packages/extrap/modelers/single_parameter/basic.py:273: UserWarning: Number of measurements for a parameter needs to be at least 5 in order to create a performance model.\n",
      "  warnings.warn(\n",
      "Generating models: 100%|██████████| [00:00<00:00]\n",
      "Loading file: 100%|██████████| [00:00<00:00, Validating experiment]\n",
      "Generating models: |          | [00:00<?]/usr/local/lib/python3.10/site-packages/extrap/modelers/single_parameter/basic.py:273: UserWarning: Number of measurements for a parameter needs to be at least 5 in order to create a performance model.\n",
      "  warnings.warn(\n",
      "Generating models: 100%|██████████| [00:00<00:00]\n"
     ]
    },
    {
     "name": "stdout",
     "output_type": "stream",
     "text": [
      "functionName = void_CommRecv(Domain\n",
      "converted_functionName = void_CommRecv-Domain\n",
      "filePath = ./extra-p_docker/share/input_lulesh_@void_CommRecv-Domain\n"
     ]
    },
    {
     "name": "stderr",
     "output_type": "stream",
     "text": [
      "Loading file: 100%|██████████| [00:00<00:00, Validating experiment]\n",
      "Generating models: |          | [00:00<?]/usr/local/lib/python3.10/site-packages/extrap/modelers/single_parameter/basic.py:273: UserWarning: Number of measurements for a parameter needs to be at least 5 in order to create a performance model.\n",
      "  warnings.warn(\n",
      "Generating models: 100%|██████████| [00:00<00:00]\n",
      "Loading file: 100%|██████████| [00:00<00:00, Validating experiment]\n",
      "Generating models: |          | [00:00<?]/usr/local/lib/python3.10/site-packages/extrap/modelers/single_parameter/basic.py:273: UserWarning: Number of measurements for a parameter needs to be at least 5 in order to create a performance model.\n",
      "  warnings.warn(\n",
      "Generating models: 100%|██████████| [00:00<00:00]\n"
     ]
    },
    {
     "name": "stdout",
     "output_type": "stream",
     "text": [
      "functionName = void_CommSBN(Domain\n",
      "converted_functionName = void_CommSBN-Domain\n",
      "filePath = ./extra-p_docker/share/input_lulesh_@void_CommSBN-Domain\n"
     ]
    },
    {
     "name": "stderr",
     "output_type": "stream",
     "text": [
      "Loading file: 100%|██████████| [00:00<00:00, Validating experiment]\n",
      "Generating models: |          | [00:00<?]/usr/local/lib/python3.10/site-packages/extrap/modelers/single_parameter/basic.py:273: UserWarning: Number of measurements for a parameter needs to be at least 5 in order to create a performance model.\n",
      "  warnings.warn(\n",
      "Generating models: 100%|██████████| [00:00<00:00]\n",
      "Loading file: 100%|██████████| [00:00<00:00, Validating experiment]\n",
      "Generating models: |          | [00:00<?]/usr/local/lib/python3.10/site-packages/extrap/modelers/single_parameter/basic.py:273: UserWarning: Number of measurements for a parameter needs to be at least 5 in order to create a performance model.\n",
      "  warnings.warn(\n",
      "Generating models: 100%|██████████| [00:00<00:00]\n"
     ]
    },
    {
     "name": "stdout",
     "output_type": "stream",
     "text": [
      "functionName = void_CommSend(Domain\n",
      "converted_functionName = void_CommSend-Domain\n",
      "filePath = ./extra-p_docker/share/input_lulesh_@void_CommSend-Domain\n"
     ]
    },
    {
     "name": "stderr",
     "output_type": "stream",
     "text": [
      "Loading file: 100%|██████████| [00:00<00:00, Validating experiment]\n",
      "Generating models: |          | [00:00<?]/usr/local/lib/python3.10/site-packages/extrap/modelers/single_parameter/basic.py:273: UserWarning: Number of measurements for a parameter needs to be at least 5 in order to create a performance model.\n",
      "  warnings.warn(\n",
      "Generating models: 100%|██████████| [00:00<00:00]\n",
      "Loading file: 100%|██████████| [00:00<00:00, Validating experiment]\n",
      "Generating models: |          | [00:00<?]/usr/local/lib/python3.10/site-packages/extrap/modelers/single_parameter/basic.py:273: UserWarning: Number of measurements for a parameter needs to be at least 5 in order to create a performance model.\n",
      "  warnings.warn(\n",
      "Generating models: 100%|██████████| [00:00<00:00]\n"
     ]
    },
    {
     "name": "stdout",
     "output_type": "stream",
     "text": [
      "functionName = void_CommSyncPosVel(Domain\n",
      "converted_functionName = void_CommSyncPosVel-Domain\n",
      "filePath = ./extra-p_docker/share/input_lulesh_@void_CommSyncPosVel-Domain\n"
     ]
    },
    {
     "name": "stderr",
     "output_type": "stream",
     "text": [
      "Loading file: 100%|██████████| [00:00<00:00, Validating experiment]\n",
      "Generating models: |          | [00:00<?]/usr/local/lib/python3.10/site-packages/extrap/modelers/single_parameter/basic.py:273: UserWarning: Number of measurements for a parameter needs to be at least 5 in order to create a performance model.\n",
      "  warnings.warn(\n",
      "Generating models: 100%|██████████| [00:00<00:00]\n",
      "Loading file: 100%|██████████| [00:00<00:00, Validating experiment]\n",
      "Generating models: |          | [00:00<?]/usr/local/lib/python3.10/site-packages/extrap/modelers/single_parameter/basic.py:273: UserWarning: Number of measurements for a parameter needs to be at least 5 in order to create a performance model.\n",
      "  warnings.warn(\n",
      "Generating models: 100%|██████████| [00:00<00:00]\n"
     ]
    },
    {
     "name": "stdout",
     "output_type": "stream",
     "text": [
      "functionName = void_Domain::BuildMesh(Int_t_Int_t_Int_t)\n",
      "converted_functionName = void_Domain--BuildMesh-Int_t_Int_t_Int_t-\n",
      "filePath = ./extra-p_docker/share/input_lulesh_@void_Domain--BuildMesh-Int_t_Int_t_Int_t-\n"
     ]
    },
    {
     "name": "stderr",
     "output_type": "stream",
     "text": [
      "Loading file: 100%|██████████| [00:00<00:00, Validating experiment]\n",
      "Generating models: |          | [00:00<?]/usr/local/lib/python3.10/site-packages/extrap/modelers/single_parameter/basic.py:273: UserWarning: Number of measurements for a parameter needs to be at least 5 in order to create a performance model.\n",
      "  warnings.warn(\n",
      "Generating models: 100%|██████████| [00:00<00:00]\n",
      "Loading file: 100%|██████████| [00:00<00:00, Validating experiment]\n",
      "Generating models: |          | [00:00<?]/usr/local/lib/python3.10/site-packages/extrap/modelers/single_parameter/basic.py:273: UserWarning: Number of measurements for a parameter needs to be at least 5 in order to create a performance model.\n",
      "  warnings.warn(\n",
      "Generating models: 100%|██████████| [00:00<00:00]\n",
      "/usr/local/lib/python3.10/site-packages/scipy/optimize/_minpack_py.py:881: OptimizeWarning: Covariance of the parameters could not be estimated\n",
      "  warnings.warn('Covariance of the parameters could not be estimated',\n",
      "/usr/local/lib/python3.10/site-packages/scipy/optimize/_minpack_py.py:881: OptimizeWarning: Covariance of the parameters could not be estimated\n",
      "  warnings.warn('Covariance of the parameters could not be estimated',\n",
      "/usr/local/lib/python3.10/site-packages/scipy/optimize/_minpack_py.py:881: OptimizeWarning: Covariance of the parameters could not be estimated\n",
      "  warnings.warn('Covariance of the parameters could not be estimated',\n"
     ]
    },
    {
     "name": "stdout",
     "output_type": "stream",
     "text": [
      "functionName = void_Domain::CreateRegionIndexSets(Int_t_Int_t)\n",
      "converted_functionName = void_Domain--CreateRegionIndexSets-Int_t_Int_t-\n",
      "filePath = ./extra-p_docker/share/input_lulesh_@void_Domain--CreateRegionIndexSets-Int_t_Int_t-\n"
     ]
    },
    {
     "name": "stderr",
     "output_type": "stream",
     "text": [
      "Loading file: 100%|██████████| [00:00<00:00, Validating experiment]\n",
      "Generating models: |          | [00:00<?]/usr/local/lib/python3.10/site-packages/extrap/modelers/single_parameter/basic.py:273: UserWarning: Number of measurements for a parameter needs to be at least 5 in order to create a performance model.\n",
      "  warnings.warn(\n",
      "Generating models: 100%|██████████| [00:00<00:00]\n",
      "Loading file: 100%|██████████| [00:00<00:00, Validating experiment]\n",
      "Generating models: |          | [00:00<?]/usr/local/lib/python3.10/site-packages/extrap/modelers/single_parameter/basic.py:273: UserWarning: Number of measurements for a parameter needs to be at least 5 in order to create a performance model.\n",
      "  warnings.warn(\n",
      "Generating models: 100%|██████████| [00:00<00:00]\n",
      "/usr/local/lib/python3.10/site-packages/scipy/optimize/_minpack_py.py:881: OptimizeWarning: Covariance of the parameters could not be estimated\n",
      "  warnings.warn('Covariance of the parameters could not be estimated',\n",
      "/usr/local/lib/python3.10/site-packages/scipy/optimize/_minpack_py.py:881: OptimizeWarning: Covariance of the parameters could not be estimated\n",
      "  warnings.warn('Covariance of the parameters could not be estimated',\n",
      "/usr/local/lib/python3.10/site-packages/scipy/optimize/_minpack_py.py:881: OptimizeWarning: Covariance of the parameters could not be estimated\n",
      "  warnings.warn('Covariance of the parameters could not be estimated',\n"
     ]
    },
    {
     "name": "stdout",
     "output_type": "stream",
     "text": [
      "functionName = void_Domain::Domain(Int_t_Index_t_Index_t_Index_t_Index_t_Int_t_Int_t_Int_t_Int_t)\n",
      "converted_functionName = void_Domain--Domain-Int_t_Index_t_Index_t_Index_t_Index_t_Int_t_Int_t_Int_t_Int_t-\n",
      "filePath = ./extra-p_docker/share/input_lulesh_@void_Domain--Domain-Int_t_Index_t_Index_t_Index_t_Index_t_Int_t_Int_t_Int_t_Int_t-\n"
     ]
    },
    {
     "name": "stderr",
     "output_type": "stream",
     "text": [
      "Loading file: 100%|██████████| [00:00<00:00, Validating experiment]\n",
      "Generating models: |          | [00:00<?]/usr/local/lib/python3.10/site-packages/extrap/modelers/single_parameter/basic.py:273: UserWarning: Number of measurements for a parameter needs to be at least 5 in order to create a performance model.\n",
      "  warnings.warn(\n",
      "Generating models: 100%|██████████| [00:00<00:00]\n",
      "Loading file: 100%|██████████| [00:00<00:00, Validating experiment]\n",
      "Generating models: |          | [00:00<?]/usr/local/lib/python3.10/site-packages/extrap/modelers/single_parameter/basic.py:273: UserWarning: Number of measurements for a parameter needs to be at least 5 in order to create a performance model.\n",
      "  warnings.warn(\n",
      "Generating models: 100%|██████████| [00:00<00:00]\n",
      "/usr/local/lib/python3.10/site-packages/scipy/optimize/_minpack_py.py:881: OptimizeWarning: Covariance of the parameters could not be estimated\n",
      "  warnings.warn('Covariance of the parameters could not be estimated',\n",
      "/usr/local/lib/python3.10/site-packages/scipy/optimize/_minpack_py.py:881: OptimizeWarning: Covariance of the parameters could not be estimated\n",
      "  warnings.warn('Covariance of the parameters could not be estimated',\n",
      "/usr/local/lib/python3.10/site-packages/scipy/optimize/_minpack_py.py:881: OptimizeWarning: Covariance of the parameters could not be estimated\n",
      "  warnings.warn('Covariance of the parameters could not be estimated',\n"
     ]
    },
    {
     "name": "stdout",
     "output_type": "stream",
     "text": [
      "functionName = void_Domain::SetupBoundaryConditions(Int_t)\n",
      "converted_functionName = void_Domain--SetupBoundaryConditions-Int_t-\n",
      "filePath = ./extra-p_docker/share/input_lulesh_@void_Domain--SetupBoundaryConditions-Int_t-\n"
     ]
    },
    {
     "name": "stderr",
     "output_type": "stream",
     "text": [
      "Loading file: 100%|██████████| [00:00<00:00, Validating experiment]\n",
      "Generating models: |          | [00:00<?]/usr/local/lib/python3.10/site-packages/extrap/modelers/single_parameter/basic.py:273: UserWarning: Number of measurements for a parameter needs to be at least 5 in order to create a performance model.\n",
      "  warnings.warn(\n",
      "Generating models: 100%|██████████| [00:00<00:00]\n",
      "Loading file: 100%|██████████| [00:00<00:00, Validating experiment]\n",
      "Generating models: |          | [00:00<?]/usr/local/lib/python3.10/site-packages/extrap/modelers/single_parameter/basic.py:273: UserWarning: Number of measurements for a parameter needs to be at least 5 in order to create a performance model.\n",
      "  warnings.warn(\n",
      "Generating models: 100%|██████████| [00:00<00:00]\n",
      "/usr/local/lib/python3.10/site-packages/scipy/optimize/_minpack_py.py:881: OptimizeWarning: Covariance of the parameters could not be estimated\n",
      "  warnings.warn('Covariance of the parameters could not be estimated',\n",
      "/usr/local/lib/python3.10/site-packages/scipy/optimize/_minpack_py.py:881: OptimizeWarning: Covariance of the parameters could not be estimated\n",
      "  warnings.warn('Covariance of the parameters could not be estimated',\n",
      "/usr/local/lib/python3.10/site-packages/scipy/optimize/_minpack_py.py:881: OptimizeWarning: Covariance of the parameters could not be estimated\n",
      "  warnings.warn('Covariance of the parameters could not be estimated',\n"
     ]
    },
    {
     "name": "stdout",
     "output_type": "stream",
     "text": [
      "functionName = void_Domain::SetupCommBuffers(Int_t)\n",
      "converted_functionName = void_Domain--SetupCommBuffers-Int_t-\n",
      "filePath = ./extra-p_docker/share/input_lulesh_@void_Domain--SetupCommBuffers-Int_t-\n"
     ]
    },
    {
     "name": "stderr",
     "output_type": "stream",
     "text": [
      "Loading file: 100%|██████████| [00:00<00:00, Validating experiment]\n",
      "Generating models: |          | [00:00<?]/usr/local/lib/python3.10/site-packages/extrap/modelers/single_parameter/basic.py:273: UserWarning: Number of measurements for a parameter needs to be at least 5 in order to create a performance model.\n",
      "  warnings.warn(\n",
      "Generating models: 100%|██████████| [00:00<00:00]\n",
      "Loading file: 100%|██████████| [00:00<00:00, Validating experiment]\n",
      "Generating models: |          | [00:00<?]/usr/local/lib/python3.10/site-packages/extrap/modelers/single_parameter/basic.py:273: UserWarning: Number of measurements for a parameter needs to be at least 5 in order to create a performance model.\n",
      "  warnings.warn(\n",
      "Generating models: 100%|██████████| [00:00<00:00]\n",
      "/usr/local/lib/python3.10/site-packages/scipy/optimize/_minpack_py.py:881: OptimizeWarning: Covariance of the parameters could not be estimated\n",
      "  warnings.warn('Covariance of the parameters could not be estimated',\n",
      "/usr/local/lib/python3.10/site-packages/scipy/optimize/_minpack_py.py:881: OptimizeWarning: Covariance of the parameters could not be estimated\n",
      "  warnings.warn('Covariance of the parameters could not be estimated',\n",
      "/usr/local/lib/python3.10/site-packages/scipy/optimize/_minpack_py.py:881: OptimizeWarning: Covariance of the parameters could not be estimated\n",
      "  warnings.warn('Covariance of the parameters could not be estimated',\n"
     ]
    },
    {
     "name": "stdout",
     "output_type": "stream",
     "text": [
      "functionName = void_Domain::SetupElementConnectivities(Int_t)\n",
      "converted_functionName = void_Domain--SetupElementConnectivities-Int_t-\n",
      "filePath = ./extra-p_docker/share/input_lulesh_@void_Domain--SetupElementConnectivities-Int_t-\n"
     ]
    },
    {
     "name": "stderr",
     "output_type": "stream",
     "text": [
      "Loading file: 100%|██████████| [00:00<00:00, Validating experiment]\n",
      "Generating models: |          | [00:00<?]/usr/local/lib/python3.10/site-packages/extrap/modelers/single_parameter/basic.py:273: UserWarning: Number of measurements for a parameter needs to be at least 5 in order to create a performance model.\n",
      "  warnings.warn(\n",
      "Generating models: 100%|██████████| [00:00<00:00]\n",
      "Loading file: 100%|██████████| [00:00<00:00, Validating experiment]\n",
      "Generating models: |          | [00:00<?]/usr/local/lib/python3.10/site-packages/extrap/modelers/single_parameter/basic.py:273: UserWarning: Number of measurements for a parameter needs to be at least 5 in order to create a performance model.\n",
      "  warnings.warn(\n",
      "Generating models: 100%|██████████| [00:00<00:00]\n",
      "/usr/local/lib/python3.10/site-packages/scipy/optimize/_minpack_py.py:881: OptimizeWarning: Covariance of the parameters could not be estimated\n",
      "  warnings.warn('Covariance of the parameters could not be estimated',\n",
      "/usr/local/lib/python3.10/site-packages/scipy/optimize/_minpack_py.py:881: OptimizeWarning: Covariance of the parameters could not be estimated\n",
      "  warnings.warn('Covariance of the parameters could not be estimated',\n",
      "/usr/local/lib/python3.10/site-packages/scipy/optimize/_minpack_py.py:881: OptimizeWarning: Covariance of the parameters could not be estimated\n",
      "  warnings.warn('Covariance of the parameters could not be estimated',\n"
     ]
    },
    {
     "name": "stdout",
     "output_type": "stream",
     "text": [
      "functionName = void_Domain::SetupSymmetryPlanes(Int_t)\n",
      "converted_functionName = void_Domain--SetupSymmetryPlanes-Int_t-\n",
      "filePath = ./extra-p_docker/share/input_lulesh_@void_Domain--SetupSymmetryPlanes-Int_t-\n"
     ]
    },
    {
     "name": "stderr",
     "output_type": "stream",
     "text": [
      "Loading file: 100%|██████████| [00:00<00:00, Validating experiment]\n",
      "Generating models: |          | [00:00<?]/usr/local/lib/python3.10/site-packages/extrap/modelers/single_parameter/basic.py:273: UserWarning: Number of measurements for a parameter needs to be at least 5 in order to create a performance model.\n",
      "  warnings.warn(\n",
      "Generating models: 100%|██████████| [00:00<00:00]\n",
      "Loading file: 100%|██████████| [00:00<00:00, Validating experiment]\n",
      "Generating models: |          | [00:00<?]/usr/local/lib/python3.10/site-packages/extrap/modelers/single_parameter/basic.py:273: UserWarning: Number of measurements for a parameter needs to be at least 5 in order to create a performance model.\n",
      "  warnings.warn(\n",
      "Generating models: 100%|██████████| [00:00<00:00]\n",
      "/usr/local/lib/python3.10/site-packages/scipy/optimize/_minpack_py.py:881: OptimizeWarning: Covariance of the parameters could not be estimated\n",
      "  warnings.warn('Covariance of the parameters could not be estimated',\n",
      "/usr/local/lib/python3.10/site-packages/scipy/optimize/_minpack_py.py:881: OptimizeWarning: Covariance of the parameters could not be estimated\n",
      "  warnings.warn('Covariance of the parameters could not be estimated',\n",
      "/usr/local/lib/python3.10/site-packages/scipy/optimize/_minpack_py.py:881: OptimizeWarning: Covariance of the parameters could not be estimated\n",
      "  warnings.warn('Covariance of the parameters could not be estimated',\n"
     ]
    },
    {
     "name": "stdout",
     "output_type": "stream",
     "text": [
      "functionName = void_Domain::~Domain()\n",
      "converted_functionName = void_Domain--~Domain--\n",
      "filePath = ./extra-p_docker/share/input_lulesh_@void_Domain--~Domain--\n"
     ]
    },
    {
     "name": "stderr",
     "output_type": "stream",
     "text": [
      "Loading file: 100%|██████████| [00:00<00:00, Validating experiment]\n",
      "Generating models: |          | [00:00<?]/usr/local/lib/python3.10/site-packages/extrap/modelers/single_parameter/basic.py:273: UserWarning: Number of measurements for a parameter needs to be at least 5 in order to create a performance model.\n",
      "  warnings.warn(\n",
      "Generating models: 100%|██████████| [00:00<00:00]\n",
      "Loading file: 100%|██████████| [00:00<00:00, Validating experiment]\n",
      "Generating models: |          | [00:00<?]/usr/local/lib/python3.10/site-packages/extrap/modelers/single_parameter/basic.py:273: UserWarning: Number of measurements for a parameter needs to be at least 5 in order to create a performance model.\n",
      "  warnings.warn(\n",
      "Generating models: 100%|██████████| [00:00<00:00]\n",
      "/usr/local/lib/python3.10/site-packages/scipy/optimize/_minpack_py.py:881: OptimizeWarning: Covariance of the parameters could not be estimated\n",
      "  warnings.warn('Covariance of the parameters could not be estimated',\n",
      "/usr/local/lib/python3.10/site-packages/scipy/optimize/_minpack_py.py:881: OptimizeWarning: Covariance of the parameters could not be estimated\n",
      "  warnings.warn('Covariance of the parameters could not be estimated',\n",
      "/usr/local/lib/python3.10/site-packages/scipy/optimize/_minpack_py.py:881: OptimizeWarning: Covariance of the parameters could not be estimated\n",
      "  warnings.warn('Covariance of the parameters could not be estimated',\n"
     ]
    },
    {
     "name": "stdout",
     "output_type": "stream",
     "text": [
      "functionName = void_InitMeshDecomp(Int_t_Int_t_Int_t\n",
      "converted_functionName = void_InitMeshDecomp-Int_t_Int_t_Int_t\n",
      "filePath = ./extra-p_docker/share/input_lulesh_@void_InitMeshDecomp-Int_t_Int_t_Int_t\n"
     ]
    },
    {
     "name": "stderr",
     "output_type": "stream",
     "text": [
      "Loading file: 100%|██████████| [00:00<00:00, Validating experiment]\n",
      "Generating models: |          | [00:00<?]/usr/local/lib/python3.10/site-packages/extrap/modelers/single_parameter/basic.py:273: UserWarning: Number of measurements for a parameter needs to be at least 5 in order to create a performance model.\n",
      "  warnings.warn(\n",
      "Generating models: 100%|██████████| [00:00<00:00]\n",
      "Loading file: 100%|██████████| [00:00<00:00, Validating experiment]\n",
      "Generating models: |          | [00:00<?]/usr/local/lib/python3.10/site-packages/extrap/modelers/single_parameter/basic.py:273: UserWarning: Number of measurements for a parameter needs to be at least 5 in order to create a performance model.\n",
      "  warnings.warn(\n",
      "Generating models: 100%|██████████| [00:00<00:00]\n",
      "/usr/local/lib/python3.10/site-packages/scipy/optimize/_minpack_py.py:881: OptimizeWarning: Covariance of the parameters could not be estimated\n",
      "  warnings.warn('Covariance of the parameters could not be estimated',\n",
      "/usr/local/lib/python3.10/site-packages/scipy/optimize/_minpack_py.py:881: OptimizeWarning: Covariance of the parameters could not be estimated\n",
      "  warnings.warn('Covariance of the parameters could not be estimated',\n",
      "/usr/local/lib/python3.10/site-packages/scipy/optimize/_minpack_py.py:881: OptimizeWarning: Covariance of the parameters could not be estimated\n",
      "  warnings.warn('Covariance of the parameters could not be estimated',\n"
     ]
    },
    {
     "name": "stdout",
     "output_type": "stream",
     "text": [
      "functionName = void_ParseCommandLineOptions(int_char_**_Int_t_cmdLineOpts\n",
      "converted_functionName = void_ParseCommandLineOptions-int_char_**_Int_t_cmdLineOpts\n",
      "filePath = ./extra-p_docker/share/input_lulesh_@void_ParseCommandLineOptions-int_char_**_Int_t_cmdLineOpts\n"
     ]
    },
    {
     "name": "stderr",
     "output_type": "stream",
     "text": [
      "Loading file: 100%|██████████| [00:00<00:00, Validating experiment]\n",
      "Generating models: |          | [00:00<?]/usr/local/lib/python3.10/site-packages/extrap/modelers/single_parameter/basic.py:273: UserWarning: Number of measurements for a parameter needs to be at least 5 in order to create a performance model.\n",
      "  warnings.warn(\n",
      "Generating models: 100%|██████████| [00:00<00:00]\n",
      "Loading file: 100%|██████████| [00:00<00:00, Validating experiment]\n",
      "Generating models: |          | [00:00<?]/usr/local/lib/python3.10/site-packages/extrap/modelers/single_parameter/basic.py:273: UserWarning: Number of measurements for a parameter needs to be at least 5 in order to create a performance model.\n",
      "  warnings.warn(\n",
      "Generating models: 100%|██████████| [00:00<00:00]\n",
      "/usr/local/lib/python3.10/site-packages/scipy/optimize/_minpack_py.py:881: OptimizeWarning: Covariance of the parameters could not be estimated\n",
      "  warnings.warn('Covariance of the parameters could not be estimated',\n",
      "/usr/local/lib/python3.10/site-packages/scipy/optimize/_minpack_py.py:881: OptimizeWarning: Covariance of the parameters could not be estimated\n",
      "  warnings.warn('Covariance of the parameters could not be estimated',\n",
      "/usr/local/lib/python3.10/site-packages/scipy/optimize/_minpack_py.py:881: OptimizeWarning: Covariance of the parameters could not be estimated\n",
      "  warnings.warn('Covariance of the parameters could not be estimated',\n"
     ]
    },
    {
     "name": "stdout",
     "output_type": "stream",
     "text": [
      "functionName = void_VerifyAndWriteFinalOutput(Real_t_Domain\n",
      "converted_functionName = void_VerifyAndWriteFinalOutput-Real_t_Domain\n",
      "filePath = ./extra-p_docker/share/input_lulesh_@void_VerifyAndWriteFinalOutput-Real_t_Domain\n"
     ]
    },
    {
     "name": "stderr",
     "output_type": "stream",
     "text": [
      "Loading file: 100%|██████████| [00:00<00:00, Validating experiment]\n",
      "Generating models: |          | [00:00<?]/usr/local/lib/python3.10/site-packages/extrap/modelers/single_parameter/basic.py:273: UserWarning: Number of measurements for a parameter needs to be at least 5 in order to create a performance model.\n",
      "  warnings.warn(\n",
      "Generating models: 100%|██████████| [00:00<00:00]\n",
      "Loading file: 100%|██████████| [00:00<00:00, Validating experiment]\n",
      "Generating models: |          | [00:00<?]/usr/local/lib/python3.10/site-packages/extrap/modelers/single_parameter/basic.py:273: UserWarning: Number of measurements for a parameter needs to be at least 5 in order to create a performance model.\n",
      "  warnings.warn(\n",
      "Generating models: 100%|██████████| [00:00<00:00]\n"
     ]
    }
   ],
   "source": [
    "# Extra-P による関数コール回数予測\n",
    "\n",
    "resVar: str = \"#Call\"\n",
    "expVar: list[str] = [\"process\", \"iteration\", \"size\"]\n",
    "\n",
    "dict_models_perFunc: dict[str, dict[str, str]] = {}\n",
    "\n",
    "for functionName in functionNames:\n",
    "\n",
    "    trainDF_perFunc: pd.DataFrame = trainDF[\n",
    "        trainDF[\"Name\"] == functionName\n",
    "    ].reset_index()\n",
    "\n",
    "    str_ExtraPinputData_call: str = gen_ExtraPinputDataFromDF(\n",
    "        inputDF=trainDF_perFunc,\n",
    "        expVar=expVar,\n",
    "        resVar=resVar,\n",
    "    )\n",
    "\n",
    "    # モデル格納用の辞書\n",
    "    dictModels: dict[str, str] = {}\n",
    "\n",
    "    # Extra-P によるモデルの構築\n",
    "    converted_functionName: str = re.sub(\n",
    "        r'[\\\\|/|:|?|.|\"|<|>|\\|\\(|\\)|]', \"-\", functionName\n",
    "    )\n",
    "    fileName: str = f\"input_lulesh_@{converted_functionName}\"\n",
    "    fileDir: str = f\"./extra-p_docker/share/\"\n",
    "    filePath: str = fileDir + fileName\n",
    "    print(f\"functionName = {functionName}\")\n",
    "    print(f\"converted_functionName = {converted_functionName}\")\n",
    "    print(f\"filePath = {filePath}\")\n",
    "    with open(file=filePath, mode=\"w\") as f:\n",
    "        f.write(str_ExtraPinputData_call)\n",
    "\n",
    "    for modelerName in modelerNames:\n",
    "        str_resFromExtraP: str = subprocess.run(\n",
    "            f\"extrap --text {filePath} --modeler {modelerName} {modelerOption}  | grep Model\",\n",
    "            stdout=subprocess.PIPE,\n",
    "            text=True,\n",
    "            shell=True,\n",
    "        ).stdout\n",
    "        str_resFromExtraP = str_resFromExtraP.replace(\"Model: \", \"\")\n",
    "        str_resFromExtraP = convert_log(str_resFromExtraP)\n",
    "        model_fromExtraP = sympify(str_resFromExtraP, locals=dict_symbols)\n",
    "\n",
    "        dictModels[modelerName] = model_fromExtraP\n",
    "\n",
    "    # 提案手法によるモデルの構築\n",
    "    bestModelDict: dict = return_bestModelObject(\n",
    "        inputDF=trainDF_perFunc,\n",
    "        list_expVar=expVar,\n",
    "        list_resVar=[resVar],\n",
    "        list_modelName=list_modelName,\n",
    "    )\n",
    "\n",
    "    dictModels[\"proposal\"] = bestModelDict[\"object\"]\n",
    "\n",
    "    dict_models_perFunc[functionName] = dictModels"
   ]
  },
  {
   "cell_type": "code",
   "execution_count": 5,
   "metadata": {},
   "outputs": [],
   "source": [
    "_list_series: list[pd.Series] = []\n",
    "\n",
    "for functionName in functionNames:\n",
    "    pass\n",
    "    testDF_perFunc: pd.DataFrame = testDF[testDF[\"Name\"] == functionName].reset_index()\n",
    "\n",
    "    tmp_series: pd.Series = pd.Series(dtype=\"object\")\n",
    "    # Extra-P による予測\n",
    "    for modelerName in modelerNames:\n",
    "        tmp_series[modelerName] = (\n",
    "            dict_models_perFunc[functionName][modelerName].subs(target_env).evalf()\n",
    "        )\n",
    "    # 提案手法による予測\n",
    "    _tmp_testDF_perFunc: pd.DataFrame = testDF_perFunc[\n",
    "        (testDF_perFunc[\"process\"] == test_lulesh_processes[-1])\n",
    "        & (testDF_perFunc[\"iteration\"] == test_lulesh_iterations[-1])\n",
    "        & (testDF_perFunc[\"size\"] == test_lulesh_sizes[-1])\n",
    "        & (testDF_perFunc[\"Name\"] == functionName)\n",
    "    ]\n",
    "    try:\n",
    "        tmp_series[\"proposal\"] = float(\n",
    "            np.array(\n",
    "                dict_models_perFunc[functionName][\"proposal\"].predict(\n",
    "                    inputDF=_tmp_testDF_perFunc[expVar]\n",
    "                )\n",
    "            )\n",
    "        )\n",
    "    except:\n",
    "        warnings.warn(f\"{functionName} has no data at testDF\")\n",
    "        continue\n",
    "    # 実測値\n",
    "    tmp_series[\"real_call\"] = _tmp_testDF_perFunc.reset_index(drop=True).loc[0][\"#Call\"]\n",
    "    tmp_series[\"functionName\"] = functionName\n",
    "\n",
    "    _list_series.append(tmp_series)"
   ]
  },
  {
   "cell_type": "code",
   "execution_count": 6,
   "metadata": {},
   "outputs": [],
   "source": [
    "DF_about_call_at_lulesh: pd.DataFrame = pd.DataFrame(_list_series)\n",
    "DF_about_call_at_lulesh = add_relativeErrorRateCol(\n",
    "    inputDF=DF_about_call_at_lulesh,\n",
    "    real_colName=\"real_call\",\n",
    "    predicted_colName=\"default\",\n",
    "    targetColName=\"real_call vs default\",\n",
    ")\n",
    "# DF_about_call_at_lulesh = add_relativeErrorRateCol(\n",
    "#     inputDF=DF_about_call_at_lulesh,\n",
    "#     real_colName=\"real_call\",\n",
    "#     predicted_colName=\"basic\",\n",
    "#     targetColName=\"real_call vs basic\",\n",
    "# )\n",
    "# DF_about_call_at_lulesh = add_relativeErrorRateCol(\n",
    "#     inputDF=DF_about_call_at_lulesh,\n",
    "#     real_colName=\"real_call\",\n",
    "#     predicted_colName=\"refining\",\n",
    "#     targetColName=\"real_call vs refining\",\n",
    "# )\n",
    "DF_about_call_at_lulesh = add_relativeErrorRateCol(\n",
    "    inputDF=DF_about_call_at_lulesh,\n",
    "    real_colName=\"real_call\",\n",
    "    predicted_colName=\"multi-parameter\",\n",
    "    targetColName=\"real_call vs multi-parameter\",\n",
    ")\n",
    "DF_about_call_at_lulesh = add_relativeErrorRateCol(\n",
    "    inputDF=DF_about_call_at_lulesh,\n",
    "    real_colName=\"real_call\",\n",
    "    predicted_colName=\"proposal\",\n",
    "    targetColName=\"real_call vs proposal\",\n",
    ")"
   ]
  },
  {
   "cell_type": "code",
   "execution_count": 7,
   "metadata": {},
   "outputs": [
    {
     "name": "stdout",
     "output_type": "stream",
     "text": [
      ",multi-parameter,default,proposal,real_call,functionName,real_call vs default,real_call vs multi-parameter,real_call vs proposal\n",
      "0,0.999999999999999,0.999999999999999,1.0,1.0,.TAU_application,1.11022302462516e-13,1.11022302462516e-13,0.0\n",
      "1,1023.00000000000,1023.00000000000,1023.0,1023.0,MPI_Allreduce(),2.22261657324763e-14,2.22261657324763e-14,0.0\n",
      "2,0.999999999999999,0.999999999999999,1.0,1.0,MPI_Barrier(),1.11022302462516e-13,1.11022302462516e-13,0.0\n",
      "3,9221.00000000000,9221.00000000000,9221.000000000004,9221.0,MPI_Comm_rank(),1.97265958523572e-14,1.97265958523572e-14,3.945319170471438e-14\n",
      "4,0.999999999999999,0.999999999999999,1.0,1.0,MPI_Comm_size(),1.11022302462516e-13,1.11022302462516e-13,0.0\n",
      "5,0.999999999999999,0.999999999999999,1.0,1.0,MPI_Finalize(),1.11022302462516e-13,1.11022302462516e-13,0.0\n",
      "6,0.999999999999999,0.999999999999999,1.0,1.0,MPI_Init(),1.11022302462516e-13,1.11022302462516e-13,0.0\n",
      "7,26764.7475504032,26764.7475504032,51757.94232139088,37732.8,MPI_Irecv(),29.0676876605944,29.0676876605944,37.16963045782682\n",
      "8,26764.7475504032,26764.7475504032,51757.94232139088,37732.8,MPI_Isend(),29.0676876605944,29.0676876605944,37.16963045782682\n",
      "9,0.999999999999999,0.999999999999999,1.0,1.0,MPI_Reduce(),1.11022302462516e-13,1.11022302462516e-13,0.0\n",
      "10,26764.7475504032,26764.7475504032,51757.94232139088,37732.8,MPI_Wait(),29.0676876605944,29.0676876605944,37.16963045782682\n",
      "11,3073.00000000000,3073.00000000000,3073.0000000000005,3073.0,MPI_Waitall(),4.43944696602471e-14,4.43944696602471e-14,1.479815655341569e-14\n",
      "12,2149585472.22544,2149585472.22544,2073910598.7216053,2149580000.0,Real_t_CalcElemVolume(const,0.000254571844002869,0.000254571844002869,3.520194702146219\n",
      "13,2.00000000000000,2.00000000000000,2.0,2.0,StrToInt,1.11022302462516e-13,1.11022302462516e-13,0.0\n",
      "14,0.999999999999999,0.999999999999999,1.0,1.0,int_main(int_char_**),1.11022302462516e-13,1.11022302462516e-13,0.0\n",
      "15,1024.00000000000,1024.00000000000,1024.0,1024.0,void_CalcKinematicsForElems(Domain,0,0,0.0\n",
      "16,1024.00000000000,1024.00000000000,1024.0,1024.0,void_CommMonoQ(Domain,0,0,0.0\n",
      "17,3073.00000000000,3073.00000000000,3073.0000000000005,3073.0,void_CommRecv(Domain,4.43944696602471e-14,4.43944696602471e-14,1.479815655341569e-14\n",
      "18,1025.00000000000,1025.00000000000,1025.0,1025.0,void_CommSBN(Domain,2.21827976042178e-14,2.21827976042178e-14,0.0\n",
      "19,3073.00000000000,3073.00000000000,3073.0000000000005,3073.0,void_CommSend(Domain,4.43944696602471e-14,4.43944696602471e-14,1.479815655341569e-14\n",
      "20,1024.00000000000,1024.00000000000,1024.0,1024.0,void_CommSyncPosVel(Domain,0,0,0.0\n",
      "21,0.999999999999999,0.999999999999999,1.0,1.0,void_Domain::BuildMesh(Int_t_Int_t_Int_t),1.11022302462516e-13,1.11022302462516e-13,0.0\n",
      "22,0.999999999999999,0.999999999999999,1.0,1.0,void_Domain::CreateRegionIndexSets(Int_t_Int_t),1.11022302462516e-13,1.11022302462516e-13,0.0\n",
      "23,0.999999999999999,0.999999999999999,1.0,1.0,void_Domain::Domain(Int_t_Index_t_Index_t_Index_t_Index_t_Int_t_Int_t_Int_t_Int_t),1.11022302462516e-13,1.11022302462516e-13,0.0\n",
      "24,0.999999999999999,0.999999999999999,1.0,1.0,void_Domain::SetupBoundaryConditions(Int_t),1.11022302462516e-13,1.11022302462516e-13,0.0\n",
      "25,0.999999999999999,0.999999999999999,1.0,1.0,void_Domain::SetupCommBuffers(Int_t),1.11022302462516e-13,1.11022302462516e-13,0.0\n",
      "26,0.999999999999999,0.999999999999999,1.0,1.0,void_Domain::SetupElementConnectivities(Int_t),1.11022302462516e-13,1.11022302462516e-13,0.0\n",
      "27,0.999999999999999,0.999999999999999,1.0,1.0,void_Domain::SetupSymmetryPlanes(Int_t),1.11022302462516e-13,1.11022302462516e-13,0.0\n",
      "28,0.999999999999999,0.999999999999999,1.0,1.0,void_Domain::~Domain(),1.11022302462516e-13,1.11022302462516e-13,0.0\n",
      "29,0.999999999999999,0.999999999999999,1.0,1.0,void_InitMeshDecomp(Int_t_Int_t_Int_t,1.11022302462516e-13,1.11022302462516e-13,0.0\n",
      "30,0.999999999999999,0.999999999999999,1.0,1.0,void_ParseCommandLineOptions(int_char_**_Int_t_cmdLineOpts,1.11022302462516e-13,1.11022302462516e-13,0.0\n",
      "31,0.000999993948753132,0.000999993948753132,0.0009999939487532368,0.001,void_VerifyAndWriteFinalOutput(Real_t_Domain,0.000605124686817171,0.000605124686817171,0.0006051246763220941\n",
      "\n"
     ]
    }
   ],
   "source": [
    "print(DF_about_call_at_lulesh.to_csv())"
   ]
  },
  {
   "cell_type": "code",
   "execution_count": 8,
   "metadata": {},
   "outputs": [
    {
     "name": "stderr",
     "output_type": "stream",
     "text": [
      "/tmp/ipykernel_1151/1662607098.py:1: FutureWarning: The default value of numeric_only in DataFrame.mean is deprecated. In a future version, it will default to False. In addition, specifying 'numeric_only=None' is deprecated. Select only valid columns or specify the value of numeric_only to silence this warning.\n",
      "  DF_about_call_at_lulesh.mean()\n"
     ]
    },
    {
     "data": {
      "text/plain": [
       "multi-parameter                 6.717779e+07\n",
       "default                         6.717779e+07\n",
       "proposal                        6.481530e+07\n",
       "real_call                       6.717865e+07\n",
       "real_call vs default            2.725123e+00\n",
       "real_call vs multi-parameter    2.725123e+00\n",
       "real_call vs proposal           3.594678e+00\n",
       "dtype: float64"
      ]
     },
     "execution_count": 8,
     "metadata": {},
     "output_type": "execute_result"
    }
   ],
   "source": [
    "DF_about_call_at_lulesh.mean()"
   ]
  },
  {
   "cell_type": "code",
   "execution_count": null,
   "metadata": {},
   "outputs": [],
   "source": []
  }
 ],
 "metadata": {
  "interpreter": {
   "hash": "949777d72b0d2535278d3dc13498b2535136f6dfe0678499012e853ee9abcab1"
  },
  "kernelspec": {
   "display_name": "Python 3 (ipykernel)",
   "language": "python",
   "name": "python3"
  },
  "language_info": {
   "codemirror_mode": {
    "name": "ipython",
    "version": 3
   },
   "file_extension": ".py",
   "mimetype": "text/x-python",
   "name": "python",
   "nbconvert_exporter": "python",
   "pygments_lexer": "ipython3",
   "version": "3.10.7"
  }
 },
 "nbformat": 4,
 "nbformat_minor": 4
}
