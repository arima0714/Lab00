{
 "cells": [
  {
   "cell_type": "code",
   "execution_count": 1,
   "metadata": {},
   "outputs": [
    {
     "name": "stdout",
     "output_type": "stream",
     "text": [
      "/workspace\n"
     ]
    }
   ],
   "source": [
    "jupyter_pwd = %pwd\n",
    "if jupyter_pwd == \"/\":\n",
    "    %cd /workspace\n"
   ]
  },
  {
   "cell_type": "code",
   "execution_count": 2,
   "metadata": {},
   "outputs": [
    {
     "name": "stderr",
     "output_type": "stream",
     "text": [
      "DEBUG:__main__:hello\n"
     ]
    }
   ],
   "source": [
    "# ipynb形式のライブラリのインポート\n",
    "%run ./lib/lib.ipynb\n",
    "\n",
    "# 生データの入ったCSVファイルの保持されたディレクトリ名を格納している変数\n",
    "csvDirPath = \"./csv_files/\"\n",
    "\n",
    "# NPBのベンチマーク名のリスト\n",
    "benchmarkNames = [\"cg\", \"ep\", \"ft\", \"is\", \"lu\", \"mg\"]\n",
    "\n",
    "# LULESH ベンチマークプログラムのプロセス数・問題サイズ・イテレーション数\n",
    "lulesh_processes: list[int] = [8, 27, 64, 125, 216, 343, 512]\n",
    "lulesh_iterations: list[int] = [8, 16, 32, 64, 128, 256]\n",
    "lulesh_sizes: list[int] = [16, 24, 32, 48, 64, 128]"
   ]
  },
  {
   "cell_type": "code",
   "execution_count": 3,
   "metadata": {},
   "outputs": [],
   "source": [
    "def ret_mergedDF(inputDFs :list[pd.DataFrame], expVar :list[str], resVar :str)->pd.DataFrame:\n",
    "    \"\"\"入力されたDFのリストをまとめる。キーはexpVarで指定したカラム名、まとめる対象はresVarで指定したカラム名\n",
    "    \n",
    "    Args\n",
    "        inputDFs(list[pd.DataFrame]):入力DFのリスト\n",
    "        expVar(list[str]):まとめるキーとなるカラム名のリスト\n",
    "        resVar(str):まとめる対象となるカラム名\n",
    "\n",
    "    Returns\n",
    "        pd.DataFrame:概要通りの処理がなされたDF\n",
    "    \"\"\"\n",
    "\n",
    "    if len(inputDFs) == 0:\n",
    "        warning.warn(\"len(inputDFs) == 0\")\n",
    "        return -1\n",
    "\n",
    "    return pd.DataFrame()\n",
    "\n",
    "def test_ret_mergedDF():\n",
    "    sq1: list[int] = [0, 1, 2, 3, 4]\n",
    "    sq2: list[int] = [5, 6, 7, 8, 9]\n",
    "    sq3: list[int] = [10, 11, 12, 13, 14]\n",
    "\n",
    "    sq_datum1: list[int] = [20, 21, 22, 23, 24]\n",
    "    sq_datum2: list[int] = [30, 31, 32, 33, 34]\n",
    "    sq_datum3: list[int] = [40, 41, 42, 43, 44]\n",
    "\n",
    "    colNames: list[str] = [\"sq1\", \"sq2\", \"sq3\", \"data\"]\n",
    "\n",
    "    datumList :list[list[int]] = [sq1, sq2, sq3, sq_datum1]\n",
    "    inputDF1 :pd.DataFrame = pd.DataFrame(index=colNames, data=datumList).T\n",
    "    datumList :list[list[int]] = [sq1, sq2, sq3, sq_datum2]\n",
    "    inputDF2 :pd.DataFrame = pd.DataFrame(index=colNames, data=datumList).T\n",
    "    datumList :list[list[int]] = [sq1, sq2, sq3, sq_datum3]\n",
    "    inputDF3 :pd.DataFrame = pd.DataFrame(index=colNames, data=datumList).T\n",
    "\n",
    "    expVar :list[str] = [\"sq1\", \"sq2\", \"sq3\"]\n",
    "    resVar :str = \"data\"\n",
    "\n",
    "    \n",
    "    \n",
    "\n",
    "def gen_ExtraPinputDataFromDFs(\n",
    "    list_inputDF: list[pd.DataFrame],\n",
    "    expVar :list[str],\n",
    "    resVar :str,\n",
    ")-> str:\n",
    "    \"\"\"Extra-Pへの入力を文字列型で作成して、それを返す関数\n",
    "    \n",
    "    Args:  \n",
    "        list_inputDF(list[pd.DataFrame]):入力データフレームを格納したリスト\n",
    "        expVar(list[str]):説明変数のカラム名のリスト\n",
    "        resVar(str):目的変数のカラム名\n",
    "    \"\"\"\n",
    "\n",
    "    if len(list_inputDF) == 0:\n",
    "        warnings.warn(f\"len(list_inputDF) == 0\")\n",
    "        return \"-1\"\n",
    "    elif len(list_inputDF) == 1:\n",
    "        return gen_ExtraPinputDataFromDF(inputDF = list_inputDF[0], expVar=expVar, resVar = resVar)\n",
    "    else:\n",
    "        # PARAMETER\n",
    "        ss_PARAMETER :str = \"\"\n",
    "        sorted_expVar :list[str] = sorted(expVar)\n",
    "        for exp in sorted_expVar:\n",
    "            ss_PARAMETER += f\"PARAMETER {exp}\\n\"\n",
    "        # POINTS\n",
    "        ss_POINTS:str = \"\\n\"\n",
    "        # REGION & METRIC\n",
    "        ss_REGIONandMETRIC :str = \"\\nREGION reg\\nMETRIC time\\n\"\n",
    "        # DATA\n",
    "        ss_DATA :str = \"\\n\"\n",
    "\n",
    "        base_df :pd.DataFrame = list_inputDF\n",
    "        for i , sr in base_df.iterrows():\n",
    "            list_part_of_query :list[str] = []\n",
    "            for elem in expVar:\n",
    "                list_part_of_query.append(f\"{elem} == {sr[elem]}\")\n",
    "            query_condition :str = \" & \".join(list_part_of_query)\n",
    "            \n",
    "            # TODO\n",
    "            # 1. query_condition を用いて入力DFから値を抽出\n",
    "            # 2. DATA列を作成\n",
    "\n",
    "        return \"-1\"\n",
    "\n",
    "def test_gen_ExtraPinputDataFromDFs():\n",
    "    sq1: list[int] = [0, 1, 2, 3, 4]\n",
    "    sq2: list[int] = [5, 6, 7, 8, 9]\n",
    "    sq3: list[int] = [10, 11, 12, 13, 14]\n",
    "\n",
    "    sq_datum1: list[int] = [20, 21, 22, 23, 24]\n",
    "    sq_datum2: list[int] = [30, 31, 32, 33, 34]\n",
    "    sq_datum3: list[int] = [40, 41, 42, 43, 44]\n",
    "\n",
    "    colNames: list[str] = [\"sq1\", \"sq2\", \"sq3\", \"data\"]\n",
    "\n",
    "    datumList :list[list[int]] = [sq1, sq2, sq3, sq_datum1]\n",
    "    inputDF1 :pd.DataFrame = pd.DataFrame(index=colNames, data=datumList).T\n",
    "    datumList :list[list[int]] = [sq1, sq2, sq3, sq_datum2]\n",
    "    inputDF2 :pd.DataFrame = pd.DataFrame(index=colNames, data=datumList).T\n",
    "    datumList :list[list[int]] = [sq1, sq2, sq3, sq_datum3]\n",
    "    inputDF3 :pd.DataFrame = pd.DataFrame(index=colNames, data=datumList).T\n",
    "\n",
    "    expVar :list[str] = [\"sq1\", \"sq2\", \"sq3\"]\n",
    "    resVar :str = \"data\"\n",
    "\n",
    "    expected :str = \"\"\"PARAMETER sq1\n",
    "PARAMETER sq2\n",
    "PARAMETER sq3\n",
    "\n",
    "POINTS ( 0 5 10)\n",
    "POINTS ( 1 6 11 )\n",
    "POINTS ( 2 7 12 )\n",
    "POINTS ( 3 8 13 )\n",
    "POINTS ( 4 9 14 )\n",
    "\n",
    "REGION reg\n",
    "METRIC time\n",
    "\n",
    "DATA 20 30 40\n",
    "DATA 21 31 41\n",
    "DATA 22 32 42\n",
    "DATA 23 33 43\n",
    "DATA 24 34 44\"\"\"\n",
    "\n",
    "    actually = gen_ExtraPinputDataFromDFs(list_inputDF=[inputDF1, inputDF2, inputDF3], expVar=expVar, resVar=resVar)\n",
    "\n",
    "    assert expected == actually, f\"expected = \\n{expected}\\nactually = \\n{actually}\"\n"
   ]
  },
  {
   "cell_type": "code",
   "execution_count": 11,
   "metadata": {},
   "outputs": [
    {
     "name": "stdout",
     "output_type": "stream",
     "text": [
      "query_condition =\n",
      "sq1 == 0 & sq2 == 5 & sq3 == 10\n",
      "   sq1  sq2  sq3  data\n",
      "0    0    5   10    30\n",
      "   sq1  sq2  sq3  data\n",
      "0    0    5   10    30\n",
      "query_condition =\n",
      "sq1 == 1 & sq2 == 6 & sq3 == 11\n",
      "   sq1  sq2  sq3  data\n",
      "1    1    6   11    31\n",
      "   sq1  sq2  sq3  data\n",
      "1    1    6   11    31\n",
      "query_condition =\n",
      "sq1 == 2 & sq2 == 7 & sq3 == 12\n",
      "   sq1  sq2  sq3  data\n",
      "2    2    7   12    32\n",
      "   sq1  sq2  sq3  data\n",
      "2    2    7   12    32\n",
      "query_condition =\n",
      "sq1 == 3 & sq2 == 8 & sq3 == 13\n",
      "   sq1  sq2  sq3  data\n",
      "3    3    8   13    33\n",
      "   sq1  sq2  sq3  data\n",
      "3    3    8   13    33\n",
      "query_condition =\n",
      "sq1 == 4 & sq2 == 9 & sq3 == 14\n",
      "   sq1  sq2  sq3  data\n",
      "4    4    9   14    34\n",
      "   sq1  sq2  sq3  data\n",
      "4    4    9   14    34\n"
     ]
    }
   ],
   "source": [
    "\n",
    "sq1: list[int] = [0, 1, 2, 3, 4]\n",
    "sq2: list[int] = [5, 6, 7, 8, 9]\n",
    "sq3: list[int] = [10, 11, 12, 13, 14]\n",
    "\n",
    "sq_datum1: list[int] = [20, 21, 22, 23, 24]\n",
    "sq_datum2: list[int] = [30, 31, 32, 33, 34]\n",
    "sq_datum3: list[int] = [40, 41, 42, 43, 44]\n",
    "\n",
    "colNames: list[str] = [\"sq1\", \"sq2\", \"sq3\", \"data\"]\n",
    "\n",
    "datumList :list[list[int]] = [sq1, sq2, sq3, sq_datum1]\n",
    "inputDF1 :pd.DataFrame = pd.DataFrame(index=colNames, data=datumList).T\n",
    "datumList :list[list[int]] = [sq1, sq2, sq3, sq_datum2]\n",
    "inputDF2 :pd.DataFrame = pd.DataFrame(index=colNames, data=datumList).T\n",
    "datumList :list[list[int]] = [sq1, sq2, sq3, sq_datum3]\n",
    "inputDF3 :pd.DataFrame = pd.DataFrame(index=colNames, data=datumList).T\n",
    "\n",
    "expVar :list[str] = [\"sq1\", \"sq2\", \"sq3\"]\n",
    "resVar :str = \"data\"\n",
    "\n",
    "for i, sr in inputDF1.iterrows():\n",
    "    list_part_of_query :list[str] = []\n",
    "    for elem in expVar:\n",
    "        list_part_of_query.append(f\"{elem} == {sr[elem]}\")\n",
    "    query_condition :str = \" & \".join(list_part_of_query)\n",
    "    print(f\"query_condition =\\n{query_condition}\")\n",
    "    print(inputDF2.query(query_condition))\n",
    "    print(inputDF2.query(query_condition))"
   ]
  },
  {
   "cell_type": "code",
   "execution_count": null,
   "metadata": {},
   "outputs": [
    {
     "ename": "AssertionError",
     "evalue": "expected = \nPARAMETER sq1\nPARAMETER sq2\nPARAMETER sq3\n\nPOINTS ( 0 5 10)\nPOINTS ( 1 6 11 )\nPOINTS ( 2 7 12 )\nPOINTS ( 3 8 13 )\nPOINTS ( 4 9 14 )\n\nREGION reg\nMETRIC time\n\nDATA 20 30 40\nDATA 21 31 41\nDATA 22 32 42\nDATA 23 33 43\nDATA 24 34 44\nactually = -1",
     "output_type": "error",
     "traceback": [
      "\u001b[0;31m---------------------------------------------------------------------------\u001b[0m",
      "\u001b[0;31mAssertionError\u001b[0m                            Traceback (most recent call last)",
      "Cell \u001b[0;32mIn [6], line 1\u001b[0m\n\u001b[0;32m----> 1\u001b[0m \u001b[43mtest_gen_ExtraPinputDataFromDFs\u001b[49m\u001b[43m(\u001b[49m\u001b[43m)\u001b[49m\n",
      "Cell \u001b[0;32mIn [5], line 58\u001b[0m, in \u001b[0;36mtest_gen_ExtraPinputDataFromDFs\u001b[0;34m()\u001b[0m\n\u001b[1;32m     37\u001b[0m     expected :\u001b[38;5;28mstr\u001b[39m \u001b[38;5;241m=\u001b[39m \u001b[38;5;124m\"\"\"\u001b[39m\u001b[38;5;124mPARAMETER sq1\u001b[39m\n\u001b[1;32m     38\u001b[0m \u001b[38;5;124mPARAMETER sq2\u001b[39m\n\u001b[1;32m     39\u001b[0m \u001b[38;5;124mPARAMETER sq3\u001b[39m\n\u001b[0;32m   (...)\u001b[0m\n\u001b[1;32m     53\u001b[0m \u001b[38;5;124mDATA 23 33 43\u001b[39m\n\u001b[1;32m     54\u001b[0m \u001b[38;5;124mDATA 24 34 44\u001b[39m\u001b[38;5;124m\"\"\"\u001b[39m\n\u001b[1;32m     56\u001b[0m     actually \u001b[38;5;241m=\u001b[39m gen_ExtraPinputDataFromDFs(list_inputDF\u001b[38;5;241m=\u001b[39m[inputDF1, inputDF2, inputDF3], expVar\u001b[38;5;241m=\u001b[39mexpVar, resVar\u001b[38;5;241m=\u001b[39mresVar)\n\u001b[0;32m---> 58\u001b[0m     \u001b[38;5;28;01massert\u001b[39;00m expected \u001b[38;5;241m==\u001b[39m actually, \u001b[38;5;124mf\u001b[39m\u001b[38;5;124m\"\u001b[39m\u001b[38;5;124mexpected = \u001b[39m\u001b[38;5;130;01m\\n\u001b[39;00m\u001b[38;5;132;01m{\u001b[39;00mexpected\u001b[38;5;132;01m}\u001b[39;00m\u001b[38;5;130;01m\\n\u001b[39;00m\u001b[38;5;124mactually = \u001b[39m\u001b[38;5;132;01m{\u001b[39;00mactually\u001b[38;5;132;01m}\u001b[39;00m\u001b[38;5;124m\"\u001b[39m\n",
      "\u001b[0;31mAssertionError\u001b[0m: expected = \nPARAMETER sq1\nPARAMETER sq2\nPARAMETER sq3\n\nPOINTS ( 0 5 10)\nPOINTS ( 1 6 11 )\nPOINTS ( 2 7 12 )\nPOINTS ( 3 8 13 )\nPOINTS ( 4 9 14 )\n\nREGION reg\nMETRIC time\n\nDATA 20 30 40\nDATA 21 31 41\nDATA 22 32 42\nDATA 23 33 43\nDATA 24 34 44\nactually = -1"
     ]
    }
   ],
   "source": [
    "test_gen_ExtraPinputDataFromDFs()"
   ]
  },
  {
   "cell_type": "code",
   "execution_count": null,
   "metadata": {},
   "outputs": [
    {
     "ename": "",
     "evalue": "",
     "output_type": "error",
     "traceback": [
      "\u001b[1;31mnotebook controller is DISPOSED. \n",
      "\u001b[1;31m詳細については、Jupyter [ログ] (command:jupyter.viewOutput) を参照してください。"
     ]
    },
    {
     "ename": "",
     "evalue": "",
     "output_type": "error",
     "traceback": [
      "\u001b[1;31mnotebook controller is DISPOSED. \n",
      "\u001b[1;31m詳細については、Jupyter [ログ] (command:jupyter.viewOutput) を参照してください。"
     ]
    }
   ],
   "source": [
    "%reset"
   ]
  },
  {
   "cell_type": "markdown",
   "metadata": {},
   "source": [
    "***\n",
    "\n",
    "---\n",
    "\n",
    "___"
   ]
  },
  {
   "cell_type": "markdown",
   "metadata": {
    "tags": []
   },
   "source": [
    "# 2022年4月17日～\n",
    "\n",
    "次のような表を作成する\n",
    "\n",
    "採用される割合 (MAPE の最大値 [%] ，MAPE の最小値 [%]) [%]\n",
    "\n",
    "| ベンチマークプログラム名 | 線形モデル               | 対数モデル               | 反比例モデル              |\n",
    "|--------------|---------------------|---------------------|---------------------|\n",
    "| str          | float(float, float) | float(float, float) | float(float, float) |\n",
    "\n",
    "\n",
    "目標となるのは一気にこのベンチマークプログラムを作成することだが、既存のライブラリ関数などを利用し、まずはベンチマークごとに作成可能にする。\n",
    "\n",
    "メモ\n",
    "\n",
    "## 実装予定\n",
    "\n",
    "1. 行方向に最小値を検出\n",
    "2. 最小値以外をNaNに変更\n",
    "3. 列方向に最小値と最大値を検出\n",
    "\n",
    "## \n"
   ]
  },
  {
   "cell_type": "markdown",
   "metadata": {},
   "source": [
    "***\n",
    "\n",
    "---\n",
    "\n",
    "___"
   ]
  }
 ],
 "metadata": {
  "interpreter": {
   "hash": "949777d72b0d2535278d3dc13498b2535136f6dfe0678499012e853ee9abcab1"
  },
  "kernelspec": {
   "display_name": "Python 3 (ipykernel)",
   "language": "python",
   "name": "python3"
  },
  "language_info": {
   "codemirror_mode": {
    "name": "ipython",
    "version": 3
   },
   "file_extension": ".py",
   "mimetype": "text/x-python",
   "name": "python",
   "nbconvert_exporter": "python",
   "pygments_lexer": "ipython3",
   "version": "3.10.7"
  }
 },
 "nbformat": 4,
 "nbformat_minor": 4
}
