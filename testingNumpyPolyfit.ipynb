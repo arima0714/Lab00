{
 "cells": [
  {
   "cell_type": "markdown",
   "metadata": {},
   "source": [
    "# [Numpy.polyfit を使ったカーブフィッティング](https://qiita.com/maskot1977/items/f9e84fb6e62f7015d6c4) を写しつつやる"
   ]
  },
  {
   "cell_type": "code",
   "execution_count": 1,
   "metadata": {},
   "outputs": [],
   "source": [
    "# 模擬データ\n",
    "x_observed = [9, 28, 38, 58, 88, 98, 108, 118, 128, 138, 148, 158, 168, 178, 188, 198, 208, 218, 228, 238, 278, 288, 298]\n",
    "y_observed = [51, 80, 112, 294, 286, 110, 59, 70, 56, 70, 104, 59, 59, 72, 87, 99, 64, 60, 74, 151, 157, 57, 83]"
   ]
  },
  {
   "cell_type": "code",
   "execution_count": 2,
   "metadata": {},
   "outputs": [
    {
     "data": {
      "image/png": "[encoded data removed]",
      "text/plain": [
       "<Figure size 432x288 with 1 Axes>"
      ]
     },
     "metadata": {
      "needs_background": "light"
     },
     "output_type": "display_data"
    }
   ],
   "source": [
    "# データの図示\n",
    "%matplotlib inline\n",
    "import matplotlib.pyplot as plt\n",
    "\n",
    "plt.scatter(x_observed, y_observed)\n",
    "plt.grid()"
   ]
  },
  {
   "cell_type": "code",
   "execution_count": 3,
   "metadata": {},
   "outputs": [],
   "source": [
    "# フィッティングカーブを描くx座標を作る\n",
    "import numpy as np\n",
    "x_latent = np.linspace(min(x_observed), max(x_observed), 100)"
   ]
  },
  {
   "cell_type": "code",
   "execution_count": 4,
   "metadata": {},
   "outputs": [],
   "source": [
    "# Numpy.polyfitを用いた最小二乗法\n",
    "cf1 = [\"最小二乗法(1次式) \", lambda x, y: np.polyfit(x,y,1)]\n",
    "cf2 = [\"最小2乗法（2次式）\", lambda x, y: np.polyfit(x, y, 2)]\n",
    "cf3 = [\"最小2乗法（3次式）\", lambda x, y: np.polyfit(x, y, 3)]\n",
    "cf4 = [\"最小2乗法（4次式）\", lambda x, y: np.polyfit(x, y, 4)]\n",
    "cf5 = [\"最小2乗法（5次式）\", lambda x, y: np.polyfit(x, y, 5)]\n",
    "cf6 = [\"最小2乗法（6次式）\", lambda x, y: np.polyfit(x, y, 6)]\n",
    "cf7 = [\"最小2乗法（7次式）\", lambda x, y: np.polyfit(x, y, 7)]\n",
    "cf8 = [\"最小2乗法（8次式）\", lambda x, y: np.polyfit(x, y, 8)]\n",
    "cf9 = [\"最小2乗法（9次式）\", lambda x, y: np.polyfit(x, y, 9)]"
   ]
  },
  {
   "cell_type": "code",
   "execution_count": 5,
   "metadata": {},
   "outputs": [],
   "source": [
    "# Sympyを用いた数式の表示の準備\n",
    "import sympy as sym\n",
    "from sympy.plotting import plot\n",
    "sym.init_printing(use_unicode=True)\n",
    "\n",
    "x, y = sym.symbols(\"x y\")"
   ]
  },
  {
   "cell_type": "code",
   "execution_count": null,
   "metadata": {},
   "outputs": [],
   "source": [
    "# 最小二乗法によるカーブフィッティング\n",
    "\n",
    "for method_name in [cf1, cf2, cf3, cf4, cf5, cf6, cf7, cf8, cf9]:\n",
    "    print(method_name)\n",
    "    # 係数の計算\n",
    "    coefficients = method(x_observed, y_observed)\n",
    "    \n",
    "    # Sympyを用いた数式の表示\n",
    "    expr = 0\n",
    "    for index, coeficient in enumerate(coefficients)"
   ]
  }
 ],
 "metadata": {
  "kernelspec": {
   "display_name": "Python 3",
   "language": "python",
   "name": "python3"
  },
  "language_info": {
   "codemirror_mode": {
    "name": "ipython",
    "version": 3
   },
   "file_extension": ".py",
   "mimetype": "text/x-python",
   "name": "python",
   "nbconvert_exporter": "python",
   "pygments_lexer": "ipython3",
   "version": "3.8.6"
  }
 },
 "nbformat": 4,
 "nbformat_minor": 4
}
