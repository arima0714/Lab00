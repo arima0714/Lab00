{
 "cells": [
  {
   "cell_type": "code",
   "execution_count": null,
   "id": "2f694d5b-fd12-4d8a-ad7f-df30fba19b6b",
   "metadata": {},
   "outputs": [],
   "source": [
    "import os\n",
    "absDirPath = os.path.abspath('.')\n",
    "BASE_DIR = os.path.dirname(absDirPath)\n",
    "csvDirName = \"csv_files\"\n",
    "CSV_DIR = os.path.join(BASE_DIR, csvDirName)"
   ]
  },
  {
   "cell_type": "code",
   "execution_count": null,
   "id": "3f41f8a8-6f83-4c5c-ba32-4ee70b50a815",
   "metadata": {},
   "outputs": [],
   "source": [
    "import copy\n",
    "import glob\n",
    "import japanize_matplotlib\n",
    "import math\n",
    "import matplotlib as mpl\n",
    "import matplotlib.patches as mpatches\n",
    "import matplotlib.pyplot as plt\n",
    "import matplotlib.ticker as ticker\n",
    "import numpy as np\n",
    "import os\n",
    "import pandas as pd\n",
    "import random\n",
    "import sys\n",
    "from sklearn import linear_model\n",
    "from sklearn.linear_model import HuberRegressor, LinearRegression\n",
    "from sklearn.metrics import r2_score\n",
    "from sklearn.model_selection import train_test_split\n",
    "import sklearn.preprocessing as sp\n",
    "from sklearn.metrics import r2_score\n",
    "from sklearn.metrics import mean_absolute_error\n",
    "from sklearn.metrics import mean_squared_error"
   ]
  },
  {
   "cell_type": "code",
   "execution_count": null,
   "id": "04566f44-9f0d-44e4-b2fa-eeed65de9a92",
   "metadata": {},
   "outputs": [],
   "source": [
    "# 平均絶対パーセント誤差 (MAPE)(Mean Absolute Percent Error (MAPE))を返す関数\n",
    "# 引数として長さの同じ二つのリストをとる\n",
    "# 引数l1: 実測値のリスト\n",
    "# 引数l2: 予測値のリスト\n",
    "# 単位：％\n",
    "\n",
    "def returnMapeScore(l1, l2):\n",
    "    return_num = 0\n",
    "    if(len(l1) != len(l2)):\n",
    "        print(\"引数のリストの長さが異なります\", end=\", \")\n",
    "        return -1\n",
    "    for i in range(len(l1)):\n",
    "        l1_num = l1[i]\n",
    "        l2_num = l2[i]\n",
    "\n",
    "        return_num += abs((l1_num - l2_num)/l1_num)\n",
    "\n",
    "    return_num /= len(l1)\n",
    "    return_num *= 100\n",
    "    return return_num\n",
    "\n",
    "\n",
    "# 使用例：returnMapeScore([1,2,3,4], [4,3,2,1])\n",
    "type(returnMapeScore([1, 2, 3, 4], [4, 3, 2, 1]))\n",
    "\n",
    "\n",
    "def test_returnMapeScore():\n",
    "    l1 = [1, 2, 3, 4]\n",
    "    l2 = [4, 3, 2, 1]\n",
    "    ansByFunc = returnMapeScore(l1, l2)\n",
    "    ansByHand = (abs(1-4)/1 + abs(2-3)/2 + abs(3-2)/3 + abs(4-1)/4)/4 * 100\n",
    "    # 多少の誤差を許容する\n",
    "    ansByFunc = int(ansByFunc * 100) / 100\n",
    "    ansByHand = int(ansByHand * 100) / 100\n",
    "\n",
    "    assert ansByFunc == ansByHand"
   ]
  }
 ],
 "metadata": {
  "kernelspec": {
   "display_name": "Python 3",
   "language": "python",
   "name": "python3"
  },
  "language_info": {
   "codemirror_mode": {
    "name": "ipython",
    "version": 3
   },
   "file_extension": ".py",
   "mimetype": "text/x-python",
   "name": "python",
   "nbconvert_exporter": "python",
   "pygments_lexer": "ipython3",
   "version": "3.9.5"
  }
 },
 "nbformat": 4,
 "nbformat_minor": 5
}
