{
 "cells": [
  {
   "cell_type": "code",
   "execution_count": null,
   "id": "04566f44-9f0d-44e4-b2fa-eeed65de9a92",
   "metadata": {},
   "outputs": [],
   "source": [
    "# 平均絶対パーセント誤差 (MAPE)(Mean Absolute Percent Error (MAPE))を返す関数\n",
    "# 引数として長さの同じ二つのリストをとる\n",
    "# 引数l1: 実測値のリスト\n",
    "# 引数l2: 予測値のリスト\n",
    "\n",
    "def mape_score(l1, l2):\n",
    "    return_num = 0\n",
    "    if(len(l1) != len(l2)):\n",
    "        print(\"引数のリストの長さが異なります\", end=\", \")\n",
    "        return -1\n",
    "    for i in range(len(l1)):\n",
    "        l1_num = l1[i]\n",
    "        l2_num = l2[i]\n",
    "\n",
    "        return_num += abs((l1_num - l2_num)/l1_num)\n",
    "\n",
    "    return_num /= len(l1)\n",
    "    return_num *= 100\n",
    "    return return_num\n",
    "\n",
    "\n",
    "# 使用例：mape_score([1,2,3,4], [4,3,2,1])\n",
    "type(mape_score([1, 2, 3, 4], [4, 3, 2, 1]))"
   ]
  },
  {
   "cell_type": "code",
   "execution_count": null,
   "id": "68895351-ef48-4631-b952-8071b2c8da38",
   "metadata": {},
   "outputs": [],
   "source": [
    "def test_1():\n",
    "    a = 1\n",
    "    b = 2\n",
    "    assert a==b\n",
    "    \n",
    "def test_2():\n",
    "    a = 1\n",
    "    b = 2\n",
    "    assert a != b"
   ]
  }
 ],
 "metadata": {
  "kernelspec": {
   "display_name": "Python 3",
   "language": "python",
   "name": "python3"
  },
  "language_info": {
   "codemirror_mode": {
    "name": "ipython",
    "version": 3
   },
   "file_extension": ".py",
   "mimetype": "text/x-python",
   "name": "python",
   "nbconvert_exporter": "python",
   "pygments_lexer": "ipython3",
   "version": "3.9.5"
  }
 },
 "nbformat": 4,
 "nbformat_minor": 5
}
