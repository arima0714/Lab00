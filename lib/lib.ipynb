{
 "cells": [
  {
   "cell_type": "code",
   "execution_count": 3,
   "id": "2f694d5b-fd12-4d8a-ad7f-df30fba19b6b",
   "metadata": {},
   "outputs": [
    {
     "name": "stdout",
     "output_type": "stream",
     "text": [
      "/mnt/c/Users/user/Documents/Lab00/lib\n"
     ]
    }
   ],
   "source": [
    "import os\n",
    "baseDirName = \"Lab00\"\n",
    "print(os.path.abspath('.'))"
   ]
  },
  {
   "cell_type": "code",
   "execution_count": 1,
   "id": "04566f44-9f0d-44e4-b2fa-eeed65de9a92",
   "metadata": {},
   "outputs": [],
   "source": [
    "# 平均絶対パーセント誤差 (MAPE)(Mean Absolute Percent Error (MAPE))を返す関数\n",
    "# 引数として長さの同じ二つのリストをとる\n",
    "# 引数l1: 実測値のリスト\n",
    "# 引数l2: 予測値のリスト\n",
    "# 単位：％\n",
    "\n",
    "def returnMapeScore(l1, l2):\n",
    "    return_num = 0\n",
    "    if(len(l1) != len(l2)):\n",
    "        print(\"引数のリストの長さが異なります\", end=\", \")\n",
    "        return -1\n",
    "    for i in range(len(l1)):\n",
    "        l1_num = l1[i]\n",
    "        l2_num = l2[i]\n",
    "\n",
    "        return_num += abs((l1_num - l2_num)/l1_num)\n",
    "\n",
    "    return_num /= len(l1)\n",
    "    return_num *= 100\n",
    "    return return_num\n",
    "\n",
    "\n",
    "# 使用例：returnMapeScore([1,2,3,4], [4,3,2,1])\n",
    "type(returnMapeScore([1, 2, 3, 4], [4, 3, 2, 1]))\n",
    "\n",
    "def test_returnMapeScore():\n",
    "    l1 = [1,2,3,4]\n",
    "    l2 = [4,3,2,1]\n",
    "    ansByFunc = returnMapeScore(l1, l2)\n",
    "    ansByHand = (abs(1-4)/1 + abs(2-3)/2 + abs(3-2)/3 + abs(4-1)/4)/4 * 100\n",
    "    # 多少の誤差を許容する\n",
    "    ansByFunc = int(ansByFunc * 100) / 100\n",
    "    ansByHand = int(ansByHand * 100) / 100\n",
    "    \n",
    "    assert ansByFunc == ansByHand"
   ]
  }
 ],
 "metadata": {
  "kernelspec": {
   "display_name": "Python 3",
   "language": "python",
   "name": "python3"
  },
  "language_info": {
   "codemirror_mode": {
    "name": "ipython",
    "version": 3
   },
   "file_extension": ".py",
   "mimetype": "text/x-python",
   "name": "python",
   "nbconvert_exporter": "python",
   "pygments_lexer": "ipython3",
   "version": "3.9.5"
  }
 },
 "nbformat": 4,
 "nbformat_minor": 5
}
