{
 "cells": [
  {
   "cell_type": "markdown",
   "id": "dd548d77-248f-4675-a61f-727aadd104d7",
   "metadata": {},
   "source": [
    "# Extra-Pによって出力されたモデルと卒研の4モデルを比較するためのノート\n",
    "\n",
    "* 問題サイズに対する予測：データ数 4 の平均絶対誤差率よりデータ数 3 の平均絶対誤差率が低い関数\n",
    "* コア数に対する予測：平均絶対誤差率が0.1%より大きい関数\n",
    "\n",
    "のプロット・図示を行う。"
   ]
  },
  {
   "cell_type": "code",
   "execution_count": null,
   "id": "e0070f9c-f9de-4b16-a1aa-69a72354960d",
   "metadata": {},
   "outputs": [],
   "source": [
    "# ipynb形式のライブラリのインポート\n",
    "%run ./lib.ipynb"
   ]
  },
  {
   "cell_type": "code",
   "execution_count": null,
   "id": "501fc31d-a9a6-4cf0-a23d-dd23d4e411e1",
   "metadata": {},
   "outputs": [],
   "source": [
    "plt.figure(figsize=(10,10),dpi=200)\n",
    "\n",
    "# Extra-PでfixProcessデータを入力して出力したモデルの図時\n",
    "plot_x = np.linspace(0.01, 256, 500)\n",
    "# -3590464.6990329633 + 3759195.349891038 * p^(1/4)\n",
    "plot_y = []\n",
    "for x in plot_x:\n",
    "    plot_y.append(-3590464.6990329633 + 3759195.349891038 * x**(1/4))\n",
    "plt.plot(plot_x, plot_y, label=\"ExtraP\")\n",
    "\n",
    "x = [1, 4, 16]\n",
    "y = [180347, 1706010, 3936140]\n",
    "x = np.array(x).reshape(-1,1)\n",
    "y = np.array(y).reshape(-1,1)\n",
    "plt.scatter(x, y, marker=\"o\", label=\"予測に用いた関数コール回数\")\n",
    "plot_x = np.array(plot_x).reshape(-1, 1)\n",
    "x_target = [256]\n",
    "y_target = [44047200]\n",
    "plt.scatter(x_target, y_target, marker=\"o\", label=\"予測したい関数コール回数の実測値\")\n",
    "\n",
    "# 線形モデル\n",
    "model_lin = ModelLin(x, y, \"CG\", \"ICNVRT\", test_ratio=0)\n",
    "model_lin.calc_lr()\n",
    "plot_y_lin = model_lin.predict(plot_x)\n",
    "plt.plot(plot_x, plot_y_lin, label=\"線形モデル\")\n",
    "# logモデル\n",
    "model_log10 = ModelLog10(x, y, \"CG\", \"ICNVRT\", test_ratio=0)\n",
    "model_log10.calc_lr()\n",
    "plot_y_log10 = model_log10.predict(plot_x)\n",
    "plt.plot(plot_x, plot_y_log10, label=\"対数モデル\")\n",
    "# 反比例モデル\n",
    "model_ip = ModelIP(x, y, \"CG\", \"ICNVRT\", test_ratio=0)\n",
    "model_ip.calc_lr()\n",
    "plot_y_ip = model_ip.predict(plot_x)\n",
    "plt.plot(plot_x, plot_y_ip, label=\"反比例モデル\")\n",
    "# 線形飽和モデル\n",
    "model_branch = ModelBranch(x, y, \"CG\", \"ICNVRT\", test_ratio=0)\n",
    "model_branch.calc_lr()\n",
    "plot_y_branch = model_branch.predict(plot_x)\n",
    "plt.plot(plot_x, plot_y_branch, label=\"線形飽和モデル\")\n",
    "# 凡例の表示\n",
    "plt.legend()\n",
    "# 軸ラベルの設定\n",
    "plt.ylabel(\"関数コール回数\")\n",
    "plt.xlabel(\"問題サイズ[A=1, B=4, C=16, D=256]\")\n"
   ]
  },
  {
   "cell_type": "code",
   "execution_count": null,
   "id": "35b34454-93ce-4ef6-8527-826f95dd2b08",
   "metadata": {},
   "outputs": [],
   "source": [
    "plt.figure(figsize=(10,10),dpi=200)\n",
    "\n",
    "# Extra-PでfixProcessデータを入力して出力したモデルの図時\n",
    "plot_x = np.linspace(0.01, 256, 500)\n",
    "# -3590464.6990329633 + 3759195.349891038 * p^(1/4)\n",
    "plot_y = []\n",
    "for x in plot_x:\n",
    "    plot_y.append(2286768.3333333326 + 301997.61904761934 * math.log2(x)**(1))\n",
    "plt.plot(plot_x, plot_y, label=\"ExtraP\")\n",
    "\n",
    "x = [1, 2, 4, 8, 16, 32, 64, 128]\n",
    "y = [1984770.0, 2263540.0, 2821070.0, 3936140.0, 3936140.0, 3936140.0, 3936140.0, 3936140.0]\n",
    "x = np.array(x).reshape(-1,1)\n",
    "y = np.array(y).reshape(-1, 1)\n",
    "plt.scatter(x, y, marker=\"o\", label=\"予測に用いた関数コール回数\")\n",
    "plot_x = np.array(plot_x).reshape(-1, 1)\n",
    "x_target = [256]\n",
    "y_target = [3936140]\n",
    "plt.scatter(x_target, y_target, marker=\"o\", label=\"予測したい関数コール回数の実測値\")\n",
    "\n",
    "# 線形モデル\n",
    "model_lin = ModelLin(x, y, \"CG\", \"ICNVRT\", test_ratio=0)\n",
    "model_lin.calc_lr()\n",
    "plot_y_lin = model_lin.predict(plot_x)\n",
    "plt.plot(plot_x, plot_y_lin, label=\"線形モデル\")\n",
    "# 対数モデル\n",
    "model_log10 = ModelLog10(x, y, \"CG\", \"ICNVRT\", test_ratio=0)\n",
    "model_log10.calc_lr()\n",
    "plot_y_log10 = model_log10.predict(plot_x)\n",
    "plt.plot(plot_x, plot_y_log10, label=\"対数モデル\")\n",
    "# 反比例モデル\n",
    "model_ip = ModelIP(x, y, \"CG\", \"ICNVRT\", test_ratio=0)\n",
    "model_ip.calc_lr()\n",
    "plot_y_ip = model_ip.predict(plot_x)\n",
    "plt.plot(plot_x, plot_y_ip, label=\"反比例モデル\")\n",
    "# 線形飽和モデル\n",
    "model_branch = ModelBranch(x, y, \"CG\", \"ICNVRT\", test_ratio=0)\n",
    "model_branch.calc_lr()\n",
    "plot_y_branch = model_branch.predict(plot_x)\n",
    "plt.plot(plot_x, plot_y_branch, label=\"線形飽和モデル\")\n",
    "# 凡例の表示\n",
    "plt.legend()\n",
    "# 軸ラベルの設定\n",
    "plt.ylabel(\"関数コール回数\")\n",
    "plt.xlabel(\"実行コア数\")\n",
    "\n",
    "plt.scatter(x, y, marker=\"o\")"
   ]
  },
  {
   "cell_type": "code",
   "execution_count": null,
   "id": "9fc9ed31-3a0d-4cbe-9e9f-b3a2e530efb5",
   "metadata": {
    "tags": []
   },
   "outputs": [],
   "source": [
    "FixedProcessDict = {}\n",
    "for benchmark in benchmarks:\n",
    "    targetDF = return_ErrorRateFixedProcessDF(benchmark=benchmark, FixProcess=64, predict_class=\"D\")\n",
    "    columns = targetDF.columns.tolist()\n",
    "    # データ数4の予測精度よりデータ数3の予測精度のほうが高いものを抽出\n",
    "    targetDF = targetDF[targetDF[columns[0]] > targetDF[columns[1]] ]\n",
    "    # データが同じことに由来する重複を削除\n",
    "    targetDF = targetDF[~targetDF.duplicated()]\n",
    "    targetFunctionNameList = targetDF.index.tolist()\n",
    "    FixedProcessDict[benchmark] = targetFunctionNameList\n",
    "FixedProcessDict\n",
    "\n",
    "funcCallNumDict = {}\n",
    "for benchmarkName in FixedProcessDict:\n",
    "    print(f\"-----{benchmarkName}-----\")\n",
    "    funcCallNumDict[benchmarkName] = {}\n",
    "    for functionName in FixedProcessDict[benchmarkName]:\n",
    "        funcCallNumDict[benchmarkName][functionName] = returnRawDF(Benchmark = benchmarkName, functionName = functionName, fix=\"Process\", benchmarkClass = [\"A\", \"B\", \"C\", \"D\"], FixedProcess = 64)\n",
    "        funcCallNumDict[benchmarkName][functionName]"
   ]
  },
  {
   "cell_type": "code",
   "execution_count": null,
   "id": "ffa011b3-019e-4342-b743-ab69c4657973",
   "metadata": {
    "tags": []
   },
   "outputs": [],
   "source": [
    "FixedClassDict = {}\n",
    "for benchmark in benchmarks:\n",
    "    targetDF = return_ErrorRateFixedClassDF(benchmark=benchmark, FixClass=\"B\", predict_process=256)\n",
    "    columns = targetDF.columns.tolist()\n",
    "    # 平均絶対誤差率が0.1より大きいものを抽出\n",
    "    targetDF = targetDF[targetDF[columns[0]] > 0.1]\n",
    "    # データが同じことに由来する重複を削除\n",
    "    targetDF = targetDF[~targetDF.duplicated()]\n",
    "    targetFunctionNameList = targetDF.index.tolist()\n",
    "    FixedClassDict[benchmark] = targetFunctionNameList\n",
    "FixedClassDict\n",
    "\n",
    "funcCallNumDict = {}\n",
    "for benchmarkName in FixedClassDict:\n",
    "    print(f\"-----{benchmarkName}-----\")\n",
    "    if benchmarkName == \"bt\" or benchmarkName == \"sp\" :\n",
    "        _processes = process_onlyBTSP\n",
    "    else:\n",
    "        _processes = process_excludeBTSP\n",
    "    funcCallNumDict[benchmarkName] = {}\n",
    "    for functionName in FixedClassDict[benchmarkName]:\n",
    "        funcCallNumDict[benchmarkName][functionName] = returnRawDF(Benchmark = benchmarkName, functionName = functionName, fix=\"Class\", Processes = _processes, FixedBenchmarkClass=\"B\")\n",
    "        funcCallNumDict[benchmarkName][functionName]"
   ]
  },
  {
   "cell_type": "code",
   "execution_count": null,
   "id": "37953d01-5578-46d8-be62-5e454e5069ca",
   "metadata": {},
   "outputs": [],
   "source": [
    "print(f\"benchmarkName = {benchmarkName}, functionName = {functionName}\")"
   ]
  },
  {
   "cell_type": "code",
   "execution_count": null,
   "id": "ec99e43e-4fdd-4850-a65c-1abc846f1d62",
   "metadata": {},
   "outputs": [],
   "source": [
    "generateInputFileForExtraP(funcCallNumDict[benchmarkName][functionName], repeated=3)"
   ]
  },
  {
   "cell_type": "code",
   "execution_count": null,
   "id": "169f823a-b51b-4f6a-a0ed-95536f135b29",
   "metadata": {},
   "outputs": [],
   "source": []
  }
 ],
 "metadata": {
  "kernelspec": {
   "display_name": "Python 3",
   "language": "python",
   "name": "python3"
  },
  "language_info": {
   "codemirror_mode": {
    "name": "ipython",
    "version": 3
   },
   "file_extension": ".py",
   "mimetype": "text/x-python",
   "name": "python",
   "nbconvert_exporter": "python",
   "pygments_lexer": "ipython3",
   "version": "3.9.4"
  }
 },
 "nbformat": 4,
 "nbformat_minor": 5
}
